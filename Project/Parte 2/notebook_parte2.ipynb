{
 "cells": [
  {
   "cell_type": "markdown",
   "source": "# BDM Exam Project - Part 2",
   "metadata": {
    "tags": [],
    "cell_id": "00000-8372ca05-7983-4b78-9184-019ba314114c",
    "deepnote_cell_type": "markdown"
   }
  },
  {
   "cell_type": "markdown",
   "source": "## TODO:\nGENERALE:\n- provare con differenti valori di R, di window_size e window_shift (8 per R forse basta)\n\nTASK 5:\n- controllare possibili parametri utilizzabili x il classificatore ad albero\n(provare il grafico di depth usando invece max_leaf_nodes) (poi possiamo provare ad usare entropy al posto che gini criterion='entropy')\n- fare molti test x trovare i best parametri x fare classificazione (es. per pca usare 15 features, con R=8, Wsize=5, Wshift=3)\n",
   "metadata": {
    "tags": [],
    "cell_id": "00001-36d412ad-00a8-4bff-a4a6-6e2b48a48bc2",
    "deepnote_cell_type": "markdown"
   }
  },
  {
   "cell_type": "markdown",
   "source": "## Imports",
   "metadata": {
    "tags": [],
    "is_collapsed": false,
    "cell_id": "00001-e7a911cb-1821-422d-8f2f-057c00b923a7",
    "deepnote_cell_type": "text-cell-h2"
   }
  },
  {
   "cell_type": "code",
   "metadata": {
    "tags": [],
    "cell_id": "00002-cb5942af-91be-4d6f-8734-41bb867f669d",
    "deepnote_to_be_reexecuted": false,
    "source_hash": "27ec2fc8",
    "execution_start": 1638373685077,
    "execution_millis": 1236,
    "deepnote_output_heights": [
     40.375
    ],
    "deepnote_cell_type": "code"
   },
   "source": "# General utils\nimport os\nimport shutil\nimport numpy as np\n\n# per i plot\nimport plotly.express as px\nimport plotly.graph_objects as go\n# ---------- ---------- ---------- ---------- ----------\n\n# My general utils\nfrom my_utils import get_files_name, format_float\n# ---------- ---------- ---------- ---------- ----------\n\n# Task 0\nfrom task0_utils import task0_stats\n# Parte A\nfrom task0_utils import generate_alphabet, gesture_2_word, write_word_as_json, generate_dizionario_parole_from_gesturewordsdict\n# Parte B\nfrom task0_utils import gesture_words_preprocessing, show_gesture_metrics\n# ---------- ---------- ---------- ---------- ----------\n\n# Task 1\nfrom task1_utils import read_gesture_measures_reduced, metrics_reduced_2_numpy, metrics_numpy_2_pandas\nfrom task1_utils import metrics_numpy_2_PCA, metrics_numpy_2_LDA, metrics_numpy_2_SVD\nfrom task1_utils import get_top_k_latent_features, prepare_alg_variances_to_plot\n# ---------- ---------- ---------- ---------- ----------\n\n# Task 2\nfrom task2_utils import generate_matrix_ed_dtw\nfrom task2_utils import find_k_most_similar_dp, find_k_most_similar_tksem, find_k_most_similar_ed, find_k_most_similar_dtw\n# ---------- ---------- ---------- ---------- ----------\n\n# Task 3\nfrom task3_utils import generate_gestures_similarity_matrix_dp, generate_gestures_similarity_matrix_tksem\nfrom task3_utils import generate_gestures_similarity_matrix_ed, generate_gestures_similarity_matrix_dtw\nfrom task3_utils import gestures_similarity_matrix_2_pandas, generate_gesture_gesture_svd, get_top_p_latent_gestures\n# ---------- ---------- ---------- ---------- ----------\n\n# Task 4\nfrom task4_utils import cluster_labels_2_pandas, top_p_gestures_2_numpy\n# Parte A\nfrom task4_utils import MyPartitioner\n# Parte B\nfrom task4_utils import SimpleKMeans\n# Parte C\nfrom task4_utils import spectral_clustering_analyze, spectral_clustering\nfrom task4_utils import spectral_analisys_results_2_pandas, spectral_analisys_results_pandas_2_split\n# ---------- ---------- ---------- ---------- ----------\n\n# Task 5\nfrom task5_utils import database_numpy_2_supervised_data, test_knn_best_K, test_tree_best_depth\n\nfrom sklearn.metrics import accuracy_score\n# KNN classifier\nfrom sklearn.neighbors import KNeighborsClassifier\n# Decision Tree classifier\nfrom sklearn import tree\nimport graphviz \n# ---------- ---------- ---------- ---------- ----------",
   "outputs": [],
   "execution_count": null
  },
  {
   "cell_type": "markdown",
   "source": "## Task 0",
   "metadata": {
    "tags": [],
    "is_collapsed": false,
    "cell_id": "00003-44add2df-f923-4f64-bca8-a523401b6bfc",
    "deepnote_cell_type": "text-cell-h2"
   }
  },
  {
   "cell_type": "code",
   "metadata": {
    "deepnote_variable_name": "path_csv_directory",
    "deepnote_variable_value": "../Dati_2/csv/",
    "cell_id": "00003-654eb8b5-36b7-4241-ab02-b10556446202",
    "deepnote_to_be_reexecuted": false,
    "source_hash": "b7faf05a",
    "execution_start": 1638373686320,
    "execution_millis": 5,
    "deepnote_cell_type": "input-text"
   },
   "source": "path_csv_directory = '../Dati_2/csv/'",
   "outputs": [],
   "execution_count": null
  },
  {
   "cell_type": "code",
   "metadata": {
    "deepnote_variable_name": "path_words_directory",
    "deepnote_variable_value": "../Dati_2/words/",
    "cell_id": "00006-abe6fad0-cc88-44ef-b239-4a3ab59617ca",
    "deepnote_to_be_reexecuted": false,
    "source_hash": "14bb7c6c",
    "execution_start": 1638373686332,
    "execution_millis": 6,
    "deepnote_cell_type": "input-text"
   },
   "source": "path_words_directory = '../Dati_2/words/'",
   "outputs": [],
   "execution_count": null
  },
  {
   "cell_type": "code",
   "metadata": {
    "deepnote_variable_name": "path_vectors_directory",
    "deepnote_variable_value": "../Dati_2/vectors/",
    "cell_id": "00007-a6402a1b-7cac-4925-b172-2db72134598e",
    "deepnote_to_be_reexecuted": false,
    "source_hash": "3edc11a8",
    "execution_start": 1638373686368,
    "execution_millis": 0,
    "deepnote_cell_type": "input-text"
   },
   "source": "path_vectors_directory = '../Dati_2/vectors/'",
   "outputs": [],
   "execution_count": null
  },
  {
   "cell_type": "markdown",
   "source": "Inserire le coordinate che compongono il gesto separate da un trattino:",
   "metadata": {
    "tags": [],
    "is_collapsed": false,
    "cell_id": "00004-960f3675-011c-43a5-9c57-0dbc4c51a806",
    "deepnote_cell_type": "text-cell-p"
   }
  },
  {
   "cell_type": "code",
   "metadata": {
    "deepnote_variable_name": "input_data_components",
    "deepnote_variable_value": "X-Y-Z-W",
    "cell_id": "00005-9d5e77d9-d1b7-44e2-873a-c01b72b5b714",
    "deepnote_to_be_reexecuted": false,
    "source_hash": "a12cce7",
    "execution_start": 1638373686369,
    "execution_millis": 648104,
    "deepnote_cell_type": "input-text"
   },
   "source": "input_data_components = 'X-Y-Z-W'",
   "outputs": [],
   "execution_count": null
  },
  {
   "cell_type": "markdown",
   "source": "Inserire un valore per R (2R è il numero di simboli dell'alfabeto)",
   "metadata": {
    "tags": [],
    "is_collapsed": false,
    "cell_id": "00008-70103ada-8b72-4f87-82a9-c7c2bff33365",
    "deepnote_cell_type": "text-cell-p"
   }
  },
  {
   "cell_type": "code",
   "metadata": {
    "deepnote_variable_name": "input_interval_resolution",
    "deepnote_variable_value": "8",
    "cell_id": "00009-598da1f3-1b47-46f7-9b8a-6c5ff8c1bb73",
    "deepnote_to_be_reexecuted": false,
    "source_hash": "27e095f9",
    "execution_start": 1638373686369,
    "execution_millis": 648103,
    "deepnote_cell_type": "input-text"
   },
   "source": "input_interval_resolution = '8'",
   "outputs": [],
   "execution_count": null
  },
  {
   "cell_type": "code",
   "metadata": {
    "tags": [],
    "cell_id": "00007-74fd2943-5f7b-4279-b9fb-2cd9f8bdf6f5",
    "deepnote_to_be_reexecuted": false,
    "source_hash": "8eda3704",
    "execution_start": 1638373686370,
    "execution_millis": 151,
    "deepnote_cell_type": "code"
   },
   "source": "data_components = input_data_components.strip().split(\"-\")\ntask0_stats[\"r\"] = int(input_interval_resolution.strip())\n\n# Rigenero i vari file path (per words e vectors)\nif os.path.exists(path_words_directory):\n    shutil.rmtree(path_words_directory)\nos.makedirs(path_words_directory)\nif os.path.exists(path_vectors_directory):\n    shutil.rmtree(path_vectors_directory)\nos.makedirs(path_vectors_directory)",
   "outputs": [],
   "execution_count": null
  },
  {
   "cell_type": "code",
   "metadata": {
    "tags": [],
    "cell_id": "00013-049aa084-0991-44a0-ae1f-d75d205f14d8",
    "deepnote_to_be_reexecuted": false,
    "source_hash": "3e0bdde5",
    "execution_start": 1638373686569,
    "execution_millis": 35848,
    "deepnote_cell_type": "code"
   },
   "source": "# Mi prendo il nome di tutti i files\ngesture_files = get_files_name(path_csv_directory + \"X/\", ext_filter=\"csv\")\nalfabeto = generate_alphabet(gesture_files, data_components, path_csv_directory, task0_stats)",
   "outputs": [],
   "execution_count": null
  },
  {
   "cell_type": "code",
   "metadata": {
    "tags": [],
    "cell_id": "00014-f347bd06-7556-4043-916e-abd524841178",
    "deepnote_to_be_reexecuted": false,
    "source_hash": "d1b0c220",
    "execution_start": 1638373722462,
    "execution_millis": 3,
    "deepnote_cell_type": "code"
   },
   "source": "print(alfabeto.simboli)\n#print(alfabeto.parole)\nprint(\"Numero simboli:\", alfabeto.n_simboli)\nprint(\"Numero parole:\", alfabeto.n_parole)",
   "outputs": [
    {
     "name": "stdout",
     "text": "{'0.19148': (0.0, 0.38295), '-0.19148': (0.0, -0.38295), '0.53284': (0.38295, 0.68273), '-0.53284': (-0.38295, -0.68273), '0.77459': (0.68273, 0.86644), '-0.77459': (-0.68273, -0.86644), '0.9105': (0.86644, 0.95456), '-0.9105': (-0.86644, -0.95456), '0.9711': (0.95456, 0.98764), '-0.9711': (-0.95456, -0.98764), '0.9925': (0.98764, 0.99736), '-0.9925': (-0.98764, -0.99736), '0.99848': (0.99736, 0.99959), '-0.99848': (-0.99736, -0.99959), '0.99979': (0.99959, 1.0), '-0.99979': (-0.99959, -1.0)}\nNumero simboli: 16\nNumero parole: 1667\n",
     "output_type": "stream"
    }
   ],
   "execution_count": null
  },
  {
   "cell_type": "markdown",
   "source": "### Task 0A",
   "metadata": {
    "tags": [],
    "is_collapsed": false,
    "cell_id": "00010-695b39bf-40e0-4e20-ada3-0672059bd901",
    "deepnote_cell_type": "text-cell-h3"
   }
  },
  {
   "cell_type": "code",
   "metadata": {
    "tags": [],
    "cell_id": "00016-320d5da2-7d1e-4619-b75a-c6b34a37c5b2",
    "deepnote_to_be_reexecuted": false,
    "source_hash": "93ffbd30",
    "execution_start": 1638373722463,
    "execution_millis": 41877,
    "deepnote_cell_type": "code"
   },
   "source": "dizionario_gesti_parole = {}\n\nfor gesture_file_name in gesture_files:\n    gesture_words_dict = gesture_2_word(gesture_file_name, data_components, alfabeto, path_csv_directory, task0_stats)\n    # Salvo solo le info necessarie relative alle parole (come richiesto nel testo)\n    dizionario_parole_gesture = generate_dizionario_parole_from_gesturewordsdict(gesture_words_dict)\n    dizionario_gesti_parole[gesture_file_name.split(\".\")[0]] = dizionario_parole_gesture\n    # Salvo su file il dizionario completo\n    write_word_as_json(gesture_words_dict, gesture_file_name, path_words_directory)",
   "outputs": [],
   "execution_count": null
  },
  {
   "cell_type": "code",
   "metadata": {
    "tags": [],
    "cell_id": "00017-df73132d-dd28-422e-bcf9-cee19fde9521",
    "deepnote_to_be_reexecuted": false,
    "source_hash": "b6c4fafc",
    "execution_start": 1638373764341,
    "execution_millis": 7,
    "deepnote_cell_type": "code"
   },
   "source": "#dizionario_gesti_parole['1']",
   "outputs": [],
   "execution_count": null
  },
  {
   "cell_type": "markdown",
   "source": "### Task 0B",
   "metadata": {
    "tags": [],
    "is_collapsed": false,
    "cell_id": "00012-11c64cd4-a6ab-4f60-83e6-e185a99dad47",
    "deepnote_cell_type": "text-cell-h3"
   }
  },
  {
   "cell_type": "code",
   "metadata": {
    "tags": [],
    "cell_id": "00019-339613d5-9030-4622-a83b-40ba07478fdc",
    "deepnote_to_be_reexecuted": false,
    "source_hash": "ad02c073",
    "execution_start": 1638373764348,
    "execution_millis": 24900,
    "deepnote_cell_type": "code"
   },
   "source": "# Mi prendo la lista di tutti i file words\nwords_files = get_files_name(path_words_directory, ext_filter=\"wrd\")\n\n# CALCOLARE IL NUMERO DI SENSORI (anche se so che ce ne sono 20, in questo modo rimane più parametrico)\nn_sensori = 0\nfor (_, sensor, word), cont in dizionario_gesti_parole[next(iter(dizionario_gesti_parole))].items():\n    sensor = int(sensor)\n    if n_sensori > sensor: # ho già ciclato una volta su tutti i sensori, è inutile ricontrollare per le altre coordinate\n        break\n    if n_sensori < sensor:\n        n_sensori = sensor\nn_sensori += 1 # Correzione dato che i sensori partono da 0 e a me serve sapere quanti ce ne sono\n\n# Eseguo x il nostro dataset\nt0b_preprocessing_settings = {\n    'dizionario_gesti_parole': dizionario_gesti_parole,\n    'data_components': data_components,\n    'words_files': words_files,\n    'n_sensori': n_sensori,\n    'alfabeto': alfabeto,\n    'path_words_directory': path_words_directory,\n    'path_vectors_directory': path_vectors_directory # mettere a None o a caso se si mette save=False nel metodo\n}\n# Calcolo TF, IDF, TF-IDF di ogni gesto\ngestures_metrics = gesture_words_preprocessing(t0b_preprocessing_settings)",
   "outputs": [],
   "execution_count": null
  },
  {
   "cell_type": "code",
   "metadata": {
    "tags": [],
    "cell_id": "00020-7c36a3da-d893-4958-8894-7fc35c5aa41e",
    "deepnote_to_be_reexecuted": false,
    "source_hash": "1fe76d2b",
    "execution_start": 1638373789256,
    "execution_millis": 3,
    "deepnote_cell_type": "code"
   },
   "source": "#show_gesture_metrics(gestures_metrics[0])",
   "outputs": [],
   "execution_count": null
  },
  {
   "cell_type": "markdown",
   "source": "## Task 1",
   "metadata": {
    "tags": [],
    "is_collapsed": false,
    "cell_id": "00021-d42fafd2-d117-4556-bc4f-eac7aca3e403",
    "deepnote_cell_type": "text-cell-h2"
   }
  },
  {
   "cell_type": "code",
   "metadata": {
    "deepnote_variable_name": "input_task1_gesti_directory",
    "deepnote_variable_value": "../Dati_2/csv/",
    "cell_id": "00022-8d12824b-1681-44bc-a0f3-975f336eeacb",
    "deepnote_to_be_reexecuted": false,
    "source_hash": "7e508682",
    "execution_start": 1638373789273,
    "execution_millis": 650862,
    "deepnote_cell_type": "input-text"
   },
   "source": "input_task1_gesti_directory = '../Dati_2/csv/'",
   "outputs": [],
   "execution_count": null
  },
  {
   "cell_type": "code",
   "metadata": {
    "deepnote_variable_name": "input_task1_data_components",
    "deepnote_variable_value": "X-Y-W-Z",
    "cell_id": "00023-f2b03f2f-8666-4c59-a6c5-e88ff27e8d58",
    "deepnote_to_be_reexecuted": false,
    "source_hash": "e7fe2f0e",
    "execution_start": 1638373789277,
    "execution_millis": 650867,
    "deepnote_cell_type": "input-text"
   },
   "source": "input_task1_data_components = 'X-Y-W-Z'",
   "outputs": [],
   "execution_count": null
  },
  {
   "cell_type": "code",
   "metadata": {
    "deepnote_variable_name": "input_task1_modello_vettoriale",
    "deepnote_variable_value": "Modello TF-IDF",
    "deepnote_variable_options": [
     "Modello TF",
     "Modello TF-IDF"
    ],
    "deepnote_variable_custom_options": [
     "Modello TF",
     "Modello TF-IDF"
    ],
    "deepnote_variable_selected_variable": "",
    "deepnote_variable_select_type": "from-options",
    "cell_id": "00025-8b54665a-704e-4a66-9889-a1db052e9230",
    "deepnote_to_be_reexecuted": false,
    "source_hash": "a561fd25",
    "execution_start": 1638373789325,
    "execution_millis": 650874,
    "deepnote_cell_type": "input-select"
   },
   "source": "input_task1_modello_vettoriale = 'Modello TF-IDF'",
   "outputs": [],
   "execution_count": null
  },
  {
   "cell_type": "code",
   "metadata": {
    "tags": [],
    "cell_id": "00025-5662e148-aefc-4984-a2ed-e2b0891ae86d",
    "deepnote_to_be_reexecuted": false,
    "source_hash": "71d6ce71",
    "execution_start": 1638373789326,
    "execution_millis": 3370,
    "deepnote_cell_type": "code"
   },
   "source": "t1_data_components = input_task1_data_components.strip().split(\"-\")\nt1_gesture_files = get_files_name(input_task1_gesti_directory + t1_data_components[0] + \"/\", ext_filter=\"csv\")\n# Dovremmo eseguire a tutti questi i 2 metodi gesture_2_word e poi word_2_metrics\n# Ma ipotizziamo che siano i dati già calcolati ed evitiamo\nt1_gesture_files = [g_file.split(\".\")[0] for g_file in t1_gesture_files] # mi prendo giusto il nome dei vari files\n\n# 1260 con dimensione dei dati (n_sensori * n_parole)\nt1_metrics_data = {\n    'filename': [],\n    'labels': [],\n    'data': np.zeros((len(t1_gesture_files), n_sensori * alfabeto.n_parole))\n}\nfor index, gesture_file in zip(range(len(t1_gesture_files)), t1_gesture_files):\n    #path_vectors_directory = ../Dati_2/vectors/\n    # Leggo le metrice ridotte\n    gesture_metrics_reduced = read_gesture_measures_reduced(gesture_file, path_vectors_directory, input_task1_modello_vettoriale)\n    # Trasformo la metrica ridotta in un file numpy\n    label = 1 # Label 1 per i file 250, 280\n    if int(gesture_file) < 100:\n        label = 0 # Label 0 per file 1, 30\n    elif int(gesture_file) > 400:\n        label = 2 # label 2 per i file 560, 590\n    metrics_numpy = metrics_reduced_2_numpy(gesture_metrics_reduced, alfabeto)\n    t1_metrics_data['filename'].append(gesture_file)\n    t1_metrics_data['labels'].append(label)\n    t1_metrics_data['data'][index] = metrics_numpy",
   "outputs": [],
   "execution_count": null
  },
  {
   "cell_type": "code",
   "metadata": {
    "tags": [],
    "cell_id": "00026-f5468916-1c32-4695-9695-608bce02ec11",
    "deepnote_to_be_reexecuted": false,
    "source_hash": "2271376f",
    "execution_start": 1638373792707,
    "execution_millis": 650949,
    "deepnote_cell_type": "code"
   },
   "source": "#t1_metrics_data",
   "outputs": [],
   "execution_count": null
  },
  {
   "cell_type": "code",
   "metadata": {
    "deepnote_variable_name": "input_task1_option",
    "deepnote_variable_value": "PCA",
    "deepnote_variable_options": [
     "PCA",
     "SVD",
     "LDA"
    ],
    "deepnote_variable_custom_options": [
     "PCA",
     "SVD",
     "LDA"
    ],
    "deepnote_variable_selected_variable": "",
    "deepnote_variable_select_type": "from-options",
    "cell_id": "00028-09fc5a78-a0f0-44a1-b5f4-17b8196b3c27",
    "deepnote_to_be_reexecuted": false,
    "source_hash": "8b62f10f",
    "execution_start": 1638374058476,
    "execution_millis": 5,
    "deepnote_cell_type": "input-select"
   },
   "source": "input_task1_option = 'PCA'",
   "outputs": [],
   "execution_count": null
  },
  {
   "cell_type": "code",
   "metadata": {
    "tags": [],
    "cell_id": "00032-45eae3d4-37f2-4c04-9bbb-01c136497b1b",
    "deepnote_to_be_reexecuted": false,
    "source_hash": "53923c8",
    "execution_start": 1638374060411,
    "execution_millis": 8865,
    "deepnote_output_heights": [
     null,
     null,
     194
    ],
    "deepnote_cell_type": "code"
   },
   "source": "metrics_pandas = metrics_numpy_2_pandas(t1_metrics_data['data'], alfabeto)\nif input_task1_option == \"PCA\":\n    t1_alg_result, t1_alg_variance = metrics_numpy_2_PCA(metrics_pandas, show_intermediate_data=True)\nelif input_task1_option == \"SVD\":\n    t1_alg_result, t1_alg_variance = metrics_numpy_2_SVD(metrics_pandas, show_intermediate_data=True)\nelse:\n    t1_alg_result, t1_alg_variance = metrics_numpy_2_LDA(metrics_pandas, t1_metrics_data['labels'], show_intermediate_data=True)\n\n# Preparo i dati x il task 5 di classificazione che sarà fatto dai dati con dimensionalità ridotta generati qua\nt5_data = {\n    'data': t1_alg_result['fitted_alg'], \n    'labels': t1_metrics_data['labels']\n}",
   "outputs": [
    {
     "data": {
      "application/vnd.deepnote.dataframe.v2+json": {
       "row_count": 33340,
       "column_count": 93,
       "columns": [
        {
         "name": "PC1",
         "dtype": "float64",
         "stats": {
          "unique_count": 3041,
          "nan_count": 0,
          "min": "0.0",
          "max": "0.17345241664667396",
          "histogram": [
           {
            "bin_start": 0,
            "bin_end": 0.017345241664667395,
            "count": 33242
           },
           {
            "bin_start": 0.017345241664667395,
            "bin_end": 0.03469048332933479,
            "count": 38
           },
           {
            "bin_start": 0.03469048332933479,
            "bin_end": 0.052035724994002185,
            "count": 12
           },
           {
            "bin_start": 0.052035724994002185,
            "bin_end": 0.06938096665866958,
            "count": 3
           },
           {
            "bin_start": 0.06938096665866958,
            "bin_end": 0.08672620832333697,
            "count": 6
           },
           {
            "bin_start": 0.08672620832333697,
            "bin_end": 0.10407144998800437,
            "count": 4
           },
           {
            "bin_start": 0.10407144998800437,
            "bin_end": 0.12141669165267177,
            "count": 4
           },
           {
            "bin_start": 0.12141669165267177,
            "bin_end": 0.13876193331733916,
            "count": 4
           },
           {
            "bin_start": 0.13876193331733916,
            "bin_end": 0.15610717498200655,
            "count": 10
           },
           {
            "bin_start": 0.15610717498200655,
            "bin_end": 0.17345241664667396,
            "count": 17
           }
          ]
         }
        },
        {
         "name": "PC2",
         "dtype": "float64",
         "stats": {
          "unique_count": 3041,
          "nan_count": 0,
          "min": "0.0",
          "max": "0.2579975357339057",
          "histogram": [
           {
            "bin_start": 0,
            "bin_end": 0.025799753573390573,
            "count": 33263
           },
           {
            "bin_start": 0.025799753573390573,
            "bin_end": 0.051599507146781146,
            "count": 12
           },
           {
            "bin_start": 0.051599507146781146,
            "bin_end": 0.07739926072017173,
            "count": 11
           },
           {
            "bin_start": 0.07739926072017173,
            "bin_end": 0.10319901429356229,
            "count": 7
           },
           {
            "bin_start": 0.10319901429356229,
            "bin_end": 0.12899876786695286,
            "count": 12
           },
           {
            "bin_start": 0.12899876786695286,
            "bin_end": 0.15479852144034345,
            "count": 33
           },
           {
            "bin_start": 0.15479852144034345,
            "bin_end": 0.18059827501373402,
            "count": 0
           },
           {
            "bin_start": 0.18059827501373402,
            "bin_end": 0.20639802858712458,
            "count": 1
           },
           {
            "bin_start": 0.20639802858712458,
            "bin_end": 0.23219778216051515,
            "count": 0
           },
           {
            "bin_start": 0.23219778216051515,
            "bin_end": 0.2579975357339057,
            "count": 1
           }
          ]
         }
        },
        {
         "name": "PC3",
         "dtype": "float64"
        },
        {
         "name": "PC4",
         "dtype": "float64"
        },
        {
         "name": "PC5",
         "dtype": "float64"
        },
        {
         "name": "PC6",
         "dtype": "float64"
        },
        {
         "name": "PC7",
         "dtype": "float64"
        },
        {
         "name": "PC8",
         "dtype": "float64"
        },
        {
         "name": "PC9",
         "dtype": "float64"
        },
        {
         "name": "PC10",
         "dtype": "float64"
        },
        {
         "name": "PC11",
         "dtype": "float64"
        },
        {
         "name": "PC12",
         "dtype": "float64"
        },
        {
         "name": "PC13",
         "dtype": "float64"
        },
        {
         "name": "PC14",
         "dtype": "float64"
        },
        {
         "name": "PC15",
         "dtype": "float64"
        },
        {
         "name": "PC16",
         "dtype": "float64"
        },
        {
         "name": "PC17",
         "dtype": "float64"
        },
        {
         "name": "PC18",
         "dtype": "float64"
        },
        {
         "name": "PC19",
         "dtype": "float64"
        },
        {
         "name": "PC20",
         "dtype": "float64"
        },
        {
         "name": "PC21",
         "dtype": "float64"
        },
        {
         "name": "PC22",
         "dtype": "float64"
        },
        {
         "name": "PC23",
         "dtype": "float64"
        },
        {
         "name": "PC24",
         "dtype": "float64"
        },
        {
         "name": "PC25",
         "dtype": "float64"
        },
        {
         "name": "PC26",
         "dtype": "float64"
        },
        {
         "name": "PC27",
         "dtype": "float64"
        },
        {
         "name": "PC28",
         "dtype": "float64"
        },
        {
         "name": "PC29",
         "dtype": "float64"
        },
        {
         "name": "PC30",
         "dtype": "float64"
        },
        {
         "name": "PC31",
         "dtype": "float64"
        },
        {
         "name": "PC32",
         "dtype": "float64"
        },
        {
         "name": "PC33",
         "dtype": "float64"
        },
        {
         "name": "PC34",
         "dtype": "float64"
        },
        {
         "name": "PC35",
         "dtype": "float64"
        },
        {
         "name": "PC36",
         "dtype": "float64"
        },
        {
         "name": "PC37",
         "dtype": "float64"
        },
        {
         "name": "PC38",
         "dtype": "float64"
        },
        {
         "name": "PC39",
         "dtype": "float64"
        },
        {
         "name": "PC40",
         "dtype": "float64"
        },
        {
         "name": "PC41",
         "dtype": "float64"
        },
        {
         "name": "PC42",
         "dtype": "float64"
        },
        {
         "name": "PC43",
         "dtype": "float64"
        },
        {
         "name": "PC44",
         "dtype": "float64"
        },
        {
         "name": "PC45",
         "dtype": "float64"
        },
        {
         "name": "PC46",
         "dtype": "float64"
        },
        {
         "name": "PC47",
         "dtype": "float64"
        },
        {
         "name": "PC48",
         "dtype": "float64"
        },
        {
         "name": "PC49",
         "dtype": "float64"
        },
        {
         "name": "PC50",
         "dtype": "float64"
        },
        {
         "name": "PC51",
         "dtype": "float64"
        },
        {
         "name": "PC52",
         "dtype": "float64"
        },
        {
         "name": "PC53",
         "dtype": "float64"
        },
        {
         "name": "PC54",
         "dtype": "float64"
        },
        {
         "name": "PC55",
         "dtype": "float64"
        },
        {
         "name": "PC56",
         "dtype": "float64"
        },
        {
         "name": "PC57",
         "dtype": "float64"
        },
        {
         "name": "PC58",
         "dtype": "float64"
        },
        {
         "name": "PC59",
         "dtype": "float64"
        },
        {
         "name": "PC60",
         "dtype": "float64"
        },
        {
         "name": "PC61",
         "dtype": "float64"
        },
        {
         "name": "PC62",
         "dtype": "float64"
        },
        {
         "name": "PC63",
         "dtype": "float64"
        },
        {
         "name": "PC64",
         "dtype": "float64"
        },
        {
         "name": "PC65",
         "dtype": "float64"
        },
        {
         "name": "PC66",
         "dtype": "float64"
        },
        {
         "name": "PC67",
         "dtype": "float64"
        },
        {
         "name": "PC68",
         "dtype": "float64"
        },
        {
         "name": "PC69",
         "dtype": "float64"
        },
        {
         "name": "PC70",
         "dtype": "float64"
        },
        {
         "name": "PC71",
         "dtype": "float64"
        },
        {
         "name": "PC72",
         "dtype": "float64"
        },
        {
         "name": "PC73",
         "dtype": "float64"
        },
        {
         "name": "PC74",
         "dtype": "float64"
        },
        {
         "name": "PC75",
         "dtype": "float64"
        },
        {
         "name": "PC76",
         "dtype": "float64"
        },
        {
         "name": "PC77",
         "dtype": "float64"
        },
        {
         "name": "PC78",
         "dtype": "float64"
        },
        {
         "name": "PC79",
         "dtype": "float64"
        },
        {
         "name": "PC80",
         "dtype": "float64"
        },
        {
         "name": "PC81",
         "dtype": "float64"
        },
        {
         "name": "PC82",
         "dtype": "float64"
        },
        {
         "name": "PC83",
         "dtype": "float64"
        },
        {
         "name": "PC84",
         "dtype": "float64"
        },
        {
         "name": "PC85",
         "dtype": "float64"
        },
        {
         "name": "PC86",
         "dtype": "float64"
        },
        {
         "name": "PC87",
         "dtype": "float64"
        },
        {
         "name": "PC88",
         "dtype": "float64"
        },
        {
         "name": "PC89",
         "dtype": "float64"
        },
        {
         "name": "PC90",
         "dtype": "float64"
        },
        {
         "name": "PC91",
         "dtype": "float64"
        },
        {
         "name": "PC92",
         "dtype": "float64"
        },
        {
         "name": "PC93",
         "dtype": "float64"
        },
        {
         "name": "_deepnote_index_column",
         "dtype": "object"
        }
       ],
       "rows_top": [
        {
         "PC1": 8.290992136463083e-17,
         "PC2": 1.6602671690719603e-17,
         "PC3": 2.406832125672755e-17,
         "PC4": 3.676558442424321e-17,
         "PC5": 1.0031749299569807e-17,
         "PC6": 2.3890930616974592e-17,
         "PC7": 1.6324045825669317e-17,
         "PC8": 1.7180018030175372e-17,
         "PC9": 3.211855841153733e-18,
         "PC10": 3.487834931901983e-17,
         "PC11": 2.903129762543356e-17,
         "PC12": 1.6162243703230042e-17,
         "PC13": 3.6728363166681574e-17,
         "PC14": 2.339129345579459e-17,
         "PC15": 1.9460819834926936e-17,
         "PC16": 9.362923981831743e-17,
         "PC17": 2.1144949463029835e-17,
         "PC18": 7.543554021429503e-17,
         "PC19": 3.1726061647711794e-17,
         "PC20": 2.3813895667150197e-17,
         "PC21": 3.462633026792982e-17,
         "PC22": 3.261953374845006e-17,
         "PC23": 8.315958416012343e-18,
         "PC24": 6.47839859899283e-17,
         "PC25": 6.27031948504163e-17,
         "PC26": 7.79679210017418e-17,
         "PC27": 2.0056006372431047e-17,
         "PC28": 5.711612908296854e-18,
         "PC29": 6.980325117095966e-17,
         "PC30": 1.2525019162978901e-17,
         "PC31": 2.0166820015211823e-17,
         "PC32": 8.351343312047271e-17,
         "PC33": 4.2324738868486557e-17,
         "PC34": 6.06918779363121e-17,
         "PC35": 9.049722071740418e-17,
         "PC36": 3.9004719874380415e-17,
         "PC37": 7.835699468619672e-17,
         "PC38": 2.589360568953644e-16,
         "PC39": 1.9791349637332983e-17,
         "PC40": 7.085078115026719e-17,
         "PC41": 2.327876860860748e-17,
         "PC42": 4.589455880042236e-17,
         "PC43": 2.122744030232301e-17,
         "PC44": 3.5437419768437115e-17,
         "PC45": 1.0958445253761123e-16,
         "PC46": 3.3909239399503536e-17,
         "PC47": 3.1350589069966796e-17,
         "PC48": 7.796760082846914e-17,
         "PC49": 5.783220491320863e-17,
         "PC50": 7.329346655325419e-17,
         "PC51": 3.507769750828824e-17,
         "PC52": 2.3343805132949036e-17,
         "PC53": 1.6785320895472732e-16,
         "PC54": 2.3208736905720938e-17,
         "PC55": 6.234036660569568e-17,
         "PC56": 5.313015731474386e-17,
         "PC57": 8.825882167324843e-18,
         "PC58": 1.93614760013373e-18,
         "PC59": 7.391563573881272e-17,
         "PC60": 5.486617580618624e-17,
         "PC61": 3.8722608860647944e-17,
         "PC62": 2.2622797979489007e-17,
         "PC63": 2.2397551205356338e-17,
         "PC64": 5.204795874540743e-17,
         "PC65": 5.012201162125186e-17,
         "PC66": 3.855955746330915e-18,
         "PC67": 9.800005802844104e-17,
         "PC68": 3.778639114706663e-17,
         "PC69": 9.15842106154704e-17,
         "PC70": 1.0243756579979502e-17,
         "PC71": 3.9247143792811284e-17,
         "PC72": 2.6906818219673658e-17,
         "PC73": 1.2626843383121426e-16,
         "PC74": 1.527520007070866e-16,
         "PC75": 5.708222041589508e-17,
         "PC76": 1.1311609098433609e-17,
         "PC77": 5.7558245515046324e-18,
         "PC78": 5.4734850827411594e-17,
         "PC79": 3.548053258492244e-17,
         "PC80": 1.0546612043816889e-17,
         "PC81": 5.369445568814553e-17,
         "PC82": 3.5751102806144666e-17,
         "PC83": 1.5980806817940097e-17,
         "PC84": 5.615965947624783e-17,
         "PC85": 6.549815798846745e-17,
         "PC86": 8.54977375138746e-17,
         "PC87": 7.685273268206527e-17,
         "PC88": 1.2440799507695174e-17,
         "PC89": 2.2254278867013557e-17,
         "PC90": 1.2193435488615804e-18,
         "PC91": 2.1509966271947728e-17,
         "PC92": 3.270179819634697e-17,
         "PC93": 0.3249569921810467,
         "_deepnote_index_column": "S0 0.9105;0.9711;0.77459;0.9105;0.9105"
        },
        {
         "PC1": 0.00014718525626129168,
         "PC2": 0.0001153718915863124,
         "PC3": 0.0000714440628898125,
         "PC4": 0.00018813837568261126,
         "PC5": 0.0004179098549004056,
         "PC6": 0.0003795382158885644,
         "PC7": 0.00007347557344495498,
         "PC8": 0.00007834072333227094,
         "PC9": 0.00006860863435481278,
         "PC10": 0.00008403356051434032,
         "PC11": 0.00014622361917746157,
         "PC12": 0.000028832384095545948,
         "PC13": 0.00021811992827429835,
         "PC14": 0.00004097903008953052,
         "PC15": 0.000051599377654285724,
         "PC16": 0.00020176784511605385,
         "PC17": 0.00003719399468965779,
         "PC18": 0.0005123006871318317,
         "PC19": 0.0000016460054990449166,
         "PC20": 0.00005701106619472245,
         "PC21": 0.0001798302004492869,
         "PC22": 0.0004266237318926427,
         "PC23": 0.00025861677679948837,
         "PC24": 0.00012534287390825576,
         "PC25": 0.000612687548607887,
         "PC26": 0.0008201363187726019,
         "PC27": 0.0006995715707271867,
         "PC28": 0.0007495457269229542,
         "PC29": 0.0006884261116968751,
         "PC30": 0.00047442005097282874,
         "PC31": 0.0005974121835328526,
         "PC32": 0.0007498858448957415,
         "PC33": 0.00037307778340678506,
         "PC34": 0.0018188360888260395,
         "PC35": 0.00012998639214051357,
         "PC36": 0.0007066339852984368,
         "PC37": 0.00022318434907191034,
         "PC38": 0.00019261776149103602,
         "PC39": 0.00019308522084363923,
         "PC40": 0.00044661983631523965,
         "PC41": 0.0015357399139967016,
         "PC42": 0.0010513541927835378,
         "PC43": 0.00015289411834044808,
         "PC44": 0.0002288425756799088,
         "PC45": 0.0009002229490287826,
         "PC46": 0.0013309542413887541,
         "PC47": 0.0020304858974865025,
         "PC48": 0.0003036717054404765,
         "PC49": 0.0010219035059711565,
         "PC50": 0.00098700439555257,
         "PC51": 0.0002752378878117323,
         "PC52": 0.00017660264066290694,
         "PC53": 0.0008614387903418172,
         "PC54": 0.00020561377248409354,
         "PC55": 0.0009841427662503832,
         "PC56": 0.0008412027705573671,
         "PC57": 0.0014844891218864175,
         "PC58": 0.0032779549886046673,
         "PC59": 0.0001051977788155674,
         "PC60": 0.003720534780640941,
         "PC61": 0.00010612852062348082,
         "PC62": 0.000007532152700436624,
         "PC63": 0.001058934175993524,
         "PC64": 0.0012088592856013486,
         "PC65": 0.0032166359864834056,
         "PC66": 0.0012383257419084671,
         "PC67": 0.016230619772844193,
         "PC68": 0.009576331710810737,
         "PC69": 0.0000592428978119591,
         "PC70": 0.001439323739339452,
         "PC71": 0.0011625865679215997,
         "PC72": 0.0010385914481644933,
         "PC73": 0.0028101601231645314,
         "PC74": 0.0011287038789323015,
         "PC75": 0.000349093453664808,
         "PC76": 0.0010858490170200486,
         "PC77": 0.004185465768324417,
         "PC78": 0.0032661238695899297,
         "PC79": 0.015132462939066749,
         "PC80": 0.0018159586585699532,
         "PC81": 0.015438942376716922,
         "PC82": 0.0038615227879028493,
         "PC83": 0.0021968917067903436,
         "PC84": 0.0006289731741176883,
         "PC85": 0.0057238223847780175,
         "PC86": 0.0007793785019823958,
         "PC87": 0.0016345842284618368,
         "PC88": 0.005624570552875677,
         "PC89": 0.004045198263274621,
         "PC90": 0.0016440854033899497,
         "PC91": 0.0003916127123391597,
         "PC92": 0.0024369021864155812,
         "PC93": 0.06585687465789226,
         "_deepnote_index_column": "S0 0.9711;0.9711;0.9711;0.9105;0.9105"
        },
        {
         "PC1": 5.77407987983798e-17,
         "PC2": 7.319358980464363e-17,
         "PC3": 8.740555925486128e-17,
         "PC4": 5.986129710517143e-17,
         "PC5": 5.952380031604821e-17,
         "PC6": 1.0513619135514944e-17,
         "PC7": 3.2735321741391825e-17,
         "PC8": 6.013531370136027e-17,
         "PC9": 2.325231431749746e-17,
         "PC10": 6.591442255512125e-17,
         "PC11": 1.7010472660155648e-16,
         "PC12": 2.442598057015627e-17,
         "PC13": 2.6397980800507954e-17,
         "PC14": 8.751112598161585e-17,
         "PC15": 4.7764649987940165e-17,
         "PC16": 3.2542040953137363e-18,
         "PC17": 7.802707398098643e-17,
         "PC18": 6.593332665066107e-17,
         "PC19": 4.6297573024301475e-17,
         "PC20": 5.623956830963786e-17,
         "PC21": 6.739546307242673e-17,
         "PC22": 1.5808263766650087e-16,
         "PC23": 2.83165360730865e-17,
         "PC24": 1.3366682914650697e-16,
         "PC25": 2.796748777347557e-17,
         "PC26": 1.4041837846573372e-16,
         "PC27": 3.452537627767124e-17,
         "PC28": 1.2463098633816182e-16,
         "PC29": 9.089408591027541e-18,
         "PC30": 9.851723741893982e-17,
         "PC31": 2.4773488423032553e-17,
         "PC32": 1.7139401858667133e-16,
         "PC33": 2.062803618931511e-16,
         "PC34": 1.2509146961504634e-16,
         "PC35": 1.0256564269533813e-17,
         "PC36": 6.298577414555029e-17,
         "PC37": 4.931976604141653e-17,
         "PC38": 1.3692398001273906e-16,
         "PC39": 1.3573294998363335e-17,
         "PC40": 7.346857095077604e-17,
         "PC41": 2.441207798551266e-17,
         "PC42": 1.473613431009229e-16,
         "PC43": 7.664514302043179e-17,
         "PC44": 3.077609966218707e-17,
         "PC45": 1.2579227690784095e-17,
         "PC46": 1.0402569677727057e-16,
         "PC47": 1.1077572338452173e-16,
         "PC48": 1.8193289783690815e-16,
         "PC49": 1.0773756128126841e-16,
         "PC50": 1.346346424469768e-16,
         "PC51": 5.644712423553589e-17,
         "PC52": 1.9432018351633276e-16,
         "PC53": 1.0592093958959113e-16,
         "PC54": 1.6018307652506982e-16,
         "PC55": 4.5633467791081206e-17,
         "PC56": 1.8101701147283462e-16,
         "PC57": 1.2475178785965767e-16,
         "PC58": 1.4225754296931913e-16,
         "PC59": 1.1855296144931434e-16,
         "PC60": 1.1011647982264941e-16,
         "PC61": 9.06023403344774e-19,
         "PC62": 4.9545762010179763e-17,
         "PC63": 4.4415453526847904e-17,
         "PC64": 1.525355805931469e-16,
         "PC65": 8.80965096533971e-17,
         "PC66": 2.1694045296863727e-16,
         "PC67": 2.3655747766555656e-16,
         "PC68": 1.0031933620539806e-16,
         "PC69": 8.260944859293003e-17,
         "PC70": 1.0296846695001794e-16,
         "PC71": 8.389357736630933e-17,
         "PC72": 4.0565393386057705e-17,
         "PC73": 4.256855302538329e-17,
         "PC74": 6.892306413566975e-18,
         "PC75": 1.194292746598439e-16,
         "PC76": 5.872012481325344e-17,
         "PC77": 1.8399011136242828e-17,
         "PC78": 1.4082084008596255e-16,
         "PC79": 2.3690187198484136e-16,
         "PC80": 7.879710751613655e-17,
         "PC81": 4.685865528559824e-17,
         "PC82": 1.4742232243525753e-16,
         "PC83": 8.750601487390441e-17,
         "PC84": 7.451445029902246e-17,
         "PC85": 2.544674299296639e-17,
         "PC86": 1.3764709033422696e-16,
         "PC87": 1.6036742865289389e-16,
         "PC88": 2.116216875013738e-16,
         "PC89": 5.670313046993306e-17,
         "PC90": 5.176636614260097e-18,
         "PC91": 7.46589902330259e-17,
         "PC92": 1.0016403708055061e-16,
         "PC93": 0.26581755820061487,
         "_deepnote_index_column": "S0 0.19148;0.19148;-0.77459;-0.77459;-0.77459"
        },
        {
         "PC1": 2.8523497083438225e-17,
         "PC2": 4.005635770826515e-17,
         "PC3": 6.096880116701044e-17,
         "PC4": 3.365948655506381e-17,
         "PC5": 2.7131400649939083e-17,
         "PC6": 1.4551098784981972e-17,
         "PC7": 4.149625184488817e-17,
         "PC8": 2.0086068951687173e-17,
         "PC9": 1.4208894925066527e-17,
         "PC10": 3.6318872894845033e-17,
         "PC11": 4.526092299266392e-17,
         "PC12": 8.861033062616132e-18,
         "PC13": 6.912901962310425e-18,
         "PC14": 4.2665318188669596e-17,
         "PC15": 4.830498800048052e-17,
         "PC16": 7.945764190423299e-17,
         "PC17": 2.3201146398382024e-17,
         "PC18": 1.1053985651011826e-16,
         "PC19": 2.032210808957379e-18,
         "PC20": 6.545852683567124e-17,
         "PC21": 5.598971506551293e-17,
         "PC22": 4.872049364932043e-17,
         "PC23": 9.437732989459632e-17,
         "PC24": 4.1014309054220665e-17,
         "PC25": 4.427426389653108e-17,
         "PC26": 4.5199396844924595e-17,
         "PC27": 2.813012997455171e-17,
         "PC28": 7.876865045614763e-18,
         "PC29": 2.443428177376965e-17,
         "PC30": 3.0024650522650647e-17,
         "PC31": 1.8202913520668593e-17,
         "PC32": 1.226578385645323e-17,
         "PC33": 4.5358767140863935e-17,
         "PC34": 9.893606323887575e-18,
         "PC35": 1.0080374470229833e-17,
         "PC36": 7.636713666199277e-17,
         "PC37": 1.75372960483665e-17,
         "PC38": 5.691869598400834e-17,
         "PC39": 3.5119971477283e-17,
         "PC40": 3.472042963815323e-17,
         "PC41": 8.395626378947145e-17,
         "PC42": 9.592612211456948e-18,
         "PC43": 7.138922494159491e-17,
         "PC44": 8.404833260601825e-18,
         "PC45": 9.862932217473861e-17,
         "PC46": 2.3063887333626972e-17,
         "PC47": 3.8567893517438426e-17,
         "PC48": 1.1118148250122485e-17,
         "PC49": 7.356577606810448e-18,
         "PC50": 2.3405093611319032e-17,
         "PC51": 2.486224496309947e-18,
         "PC52": 4.589953544606663e-17,
         "PC53": 9.139544877020223e-17,
         "PC54": 3.2104247739762476e-17,
         "PC55": 1.9695966698476725e-17,
         "PC56": 2.836216134592626e-17,
         "PC57": 5.122363736232416e-17,
         "PC58": 4.4677501733203004e-17,
         "PC59": 4.294405775124913e-17,
         "PC60": 4.4771405288503336e-18,
         "PC61": 1.3422195692459063e-17,
         "PC62": 4.0923276485337684e-17,
         "PC63": 9.569643738836521e-18,
         "PC64": 5.206244464154808e-18,
         "PC65": 4.7567622144616497e-17,
         "PC66": 1.0044548983490907e-16,
         "PC67": 1.9728646114617866e-17,
         "PC68": 3.807744899346895e-17,
         "PC69": 3.5570109910674096e-17,
         "PC70": 1.0097029218574067e-16,
         "PC71": 4.684432936034581e-17,
         "PC72": 2.286277401617621e-17,
         "PC73": 5.674720195209037e-17,
         "PC74": 4.887038638533622e-17,
         "PC75": 3.843093745019222e-17,
         "PC76": 2.3636636869638527e-17,
         "PC77": 2.2233100759853475e-17,
         "PC78": 1.9906433034733877e-17,
         "PC79": 7.045334312114824e-18,
         "PC80": 3.402016400042569e-17,
         "PC81": 5.0540125293644e-18,
         "PC82": 8.647771896212154e-18,
         "PC83": 1.0111625252392367e-17,
         "PC84": 2.8901690941619095e-17,
         "PC85": 5.172727241316608e-17,
         "PC86": 4.657311242720958e-18,
         "PC87": 2.738010091466794e-17,
         "PC88": 3.40934906117494e-17,
         "PC89": 6.4116519275592904e-18,
         "PC90": 7.32217867908416e-17,
         "PC91": 1.162361876504329e-17,
         "PC92": 6.019491464723287e-17,
         "PC93": 0.006683152243798761,
         "_deepnote_index_column": "S0 -0.9105;-0.9711;-0.99979;-0.99979;-0.99979"
        },
        {
         "PC1": 0.0013729809338884748,
         "PC2": 0.0009696084895411284,
         "PC3": 0.004973604761588485,
         "PC4": 0.0002549358985930208,
         "PC5": 0.002155250333649154,
         "PC6": 0.0006007227165189337,
         "PC7": 0.0008414663897737657,
         "PC8": 0.004762043268841551,
         "PC9": 0.006294632945829141,
         "PC10": 0.004555030430367284,
         "PC11": 0.015345106145495458,
         "PC12": 0.00667387172322344,
         "PC13": 0.021511175772725506,
         "PC14": 0.025747185273645785,
         "PC15": 0.005204200063947459,
         "PC16": 0.011784420522467302,
         "PC17": 0.002672769862034094,
         "PC18": 0.10100750307069944,
         "PC19": 0.05900045559103582,
         "PC20": 0.019192654663896525,
         "PC21": 0.0010907745085586063,
         "PC22": 0.029398737117666694,
         "PC23": 0.05826669439072667,
         "PC24": 0.0016423783147919147,
         "PC25": 0.04322742961147805,
         "PC26": 0.05915972598317135,
         "PC27": 0.011655170089081327,
         "PC28": 0.018360463433542137,
         "PC29": 0.005125129817424197,
         "PC30": 0.010990397993014694,
         "PC31": 0.003989304297520255,
         "PC32": 0.010410995242147485,
         "PC33": 0.00844577855989604,
         "PC34": 0.008678389112750352,
         "PC35": 0.0056827318056559386,
         "PC36": 0.002764750889740185,
         "PC37": 0.011578351408941527,
         "PC38": 0.0020665558006158816,
         "PC39": 0.0007332857640407395,
         "PC40": 0.007694793999269986,
         "PC41": 0.005317943244989148,
         "PC42": 0.003214848371238535,
         "PC43": 0.008601946328015048,
         "PC44": 0.006366745620777517,
         "PC45": 0.006730858148805889,
         "PC46": 0.005110673557789191,
         "PC47": 0.01409871313396814,
         "PC48": 0.0029958678185525956,
         "PC49": 0.00024270496534305972,
         "PC50": 0.0064744688810528025,
         "PC51": 0.004429402431833178,
         "PC52": 0.0025751985343108424,
         "PC53": 0.0036142351100329445,
         "PC54": 0.0024585680715479446,
         "PC55": 0.003259760950266955,
         "PC56": 0.011184327486807826,
         "PC57": 0.005828317634909196,
         "PC58": 0.005860016321245673,
         "PC59": 0.0021285903561639665,
         "PC60": 0.014667271918741816,
         "PC61": 0.010558104906855437,
         "PC62": 0.0007416521536919754,
         "PC63": 0.006934941582771934,
         "PC64": 0.0034211711305985144,
         "PC65": 0.0050075576772095195,
         "PC66": 0.0006203935196417949,
         "PC67": 0.0025114883113982528,
         "PC68": 0.0031719872250489433,
         "PC69": 0.00003978171194289656,
         "PC70": 0.008560518629821523,
         "PC71": 0.003954828505124985,
         "PC72": 0.0058179268057785795,
         "PC73": 0.0024493887892048363,
         "PC74": 0.0028687527543238443,
         "PC75": 0.004497100857801549,
         "PC76": 0.0013926675635268938,
         "PC77": 0.001131113854501688,
         "PC78": 0.004067956623610208,
         "PC79": 0.00035542603613965154,
         "PC80": 0.003939813561026764,
         "PC81": 0.000274305620263622,
         "PC82": 0.005092424336248862,
         "PC83": 0.0009190990705735846,
         "PC84": 0.00412187476039637,
         "PC85": 0.0010319052405456802,
         "PC86": 0.001804738077866283,
         "PC87": 0.0008841306346111652,
         "PC88": 0.003332041788617058,
         "PC89": 0.0064438091522200204,
         "PC90": 0.00243473530696538,
         "PC91": 0.0014096098562219324,
         "PC92": 0.0010146045804298222,
         "PC93": 0.28152161164736395,
         "_deepnote_index_column": "S0 0.9925;0.9925;0.9925;0.99848;0.99979"
        }
       ],
       "rows_bottom": [
        {
         "PC1": 0,
         "PC2": 0,
         "PC3": 0,
         "PC4": 0,
         "PC5": 0,
         "PC6": 0,
         "PC7": 0,
         "PC8": 0,
         "PC9": 0,
         "PC10": 0,
         "PC11": 0,
         "PC12": 0,
         "PC13": 0,
         "PC14": 0,
         "PC15": 0,
         "PC16": 0,
         "PC17": 0,
         "PC18": 0,
         "PC19": 0,
         "PC20": 0,
         "PC21": 0,
         "PC22": 0,
         "PC23": 0,
         "PC24": 0,
         "PC25": 0,
         "PC26": 0,
         "PC27": 0,
         "PC28": 0,
         "PC29": 0,
         "PC30": 0,
         "PC31": 0,
         "PC32": 0,
         "PC33": 0,
         "PC34": 0,
         "PC35": 0,
         "PC36": 0,
         "PC37": 0,
         "PC38": 0,
         "PC39": 0,
         "PC40": 0,
         "PC41": 0,
         "PC42": 0,
         "PC43": 0,
         "PC44": 0,
         "PC45": 0,
         "PC46": 0,
         "PC47": 0,
         "PC48": 0,
         "PC49": 0,
         "PC50": 0,
         "PC51": 0,
         "PC52": 0,
         "PC53": 0,
         "PC54": 0,
         "PC55": 0,
         "PC56": 0,
         "PC57": 0,
         "PC58": 0,
         "PC59": 0,
         "PC60": 0,
         "PC61": 0,
         "PC62": 0,
         "PC63": 0,
         "PC64": 0,
         "PC65": 0,
         "PC66": 0,
         "PC67": 0,
         "PC68": 0,
         "PC69": 0,
         "PC70": 0,
         "PC71": 0,
         "PC72": 0,
         "PC73": 0,
         "PC74": 0,
         "PC75": 0,
         "PC76": 0,
         "PC77": 0,
         "PC78": 0,
         "PC79": 0,
         "PC80": 0,
         "PC81": 0,
         "PC82": 0,
         "PC83": 0,
         "PC84": 0,
         "PC85": 0,
         "PC86": 0,
         "PC87": 0,
         "PC88": 0,
         "PC89": 0,
         "PC90": 0,
         "PC91": 0,
         "PC92": 0,
         "PC93": 0,
         "_deepnote_index_column": "S19 -0.9105;-0.9105;0.19148;-0.77459;-0.19148"
        },
        {
         "PC1": 0,
         "PC2": 0,
         "PC3": 0,
         "PC4": 0,
         "PC5": 0,
         "PC6": 0,
         "PC7": 0,
         "PC8": 0,
         "PC9": 0,
         "PC10": 0,
         "PC11": 0,
         "PC12": 0,
         "PC13": 0,
         "PC14": 0,
         "PC15": 0,
         "PC16": 0,
         "PC17": 0,
         "PC18": 0,
         "PC19": 0,
         "PC20": 0,
         "PC21": 0,
         "PC22": 0,
         "PC23": 0,
         "PC24": 0,
         "PC25": 0,
         "PC26": 0,
         "PC27": 0,
         "PC28": 0,
         "PC29": 0,
         "PC30": 0,
         "PC31": 0,
         "PC32": 0,
         "PC33": 0,
         "PC34": 0,
         "PC35": 0,
         "PC36": 0,
         "PC37": 0,
         "PC38": 0,
         "PC39": 0,
         "PC40": 0,
         "PC41": 0,
         "PC42": 0,
         "PC43": 0,
         "PC44": 0,
         "PC45": 0,
         "PC46": 0,
         "PC47": 0,
         "PC48": 0,
         "PC49": 0,
         "PC50": 0,
         "PC51": 0,
         "PC52": 0,
         "PC53": 0,
         "PC54": 0,
         "PC55": 0,
         "PC56": 0,
         "PC57": 0,
         "PC58": 0,
         "PC59": 0,
         "PC60": 0,
         "PC61": 0,
         "PC62": 0,
         "PC63": 0,
         "PC64": 0,
         "PC65": 0,
         "PC66": 0,
         "PC67": 0,
         "PC68": 0,
         "PC69": 0,
         "PC70": 0,
         "PC71": 0,
         "PC72": 0,
         "PC73": 0,
         "PC74": 0,
         "PC75": 0,
         "PC76": 0,
         "PC77": 0,
         "PC78": 0,
         "PC79": 0,
         "PC80": 0,
         "PC81": 0,
         "PC82": 0,
         "PC83": 0,
         "PC84": 0,
         "PC85": 0,
         "PC86": 0,
         "PC87": 0,
         "PC88": 0,
         "PC89": 0,
         "PC90": 0,
         "PC91": 0,
         "PC92": 0,
         "PC93": 0,
         "_deepnote_index_column": "S19 0.9105;0.9711;0.9711;0.9925;0.9925"
        },
        {
         "PC1": 0,
         "PC2": 0,
         "PC3": 0,
         "PC4": 0,
         "PC5": 0,
         "PC6": 0,
         "PC7": 0,
         "PC8": 0,
         "PC9": 0,
         "PC10": 0,
         "PC11": 0,
         "PC12": 0,
         "PC13": 0,
         "PC14": 0,
         "PC15": 0,
         "PC16": 0,
         "PC17": 0,
         "PC18": 0,
         "PC19": 0,
         "PC20": 0,
         "PC21": 0,
         "PC22": 0,
         "PC23": 0,
         "PC24": 0,
         "PC25": 0,
         "PC26": 0,
         "PC27": 0,
         "PC28": 0,
         "PC29": 0,
         "PC30": 0,
         "PC31": 0,
         "PC32": 0,
         "PC33": 0,
         "PC34": 0,
         "PC35": 0,
         "PC36": 0,
         "PC37": 0,
         "PC38": 0,
         "PC39": 0,
         "PC40": 0,
         "PC41": 0,
         "PC42": 0,
         "PC43": 0,
         "PC44": 0,
         "PC45": 0,
         "PC46": 0,
         "PC47": 0,
         "PC48": 0,
         "PC49": 0,
         "PC50": 0,
         "PC51": 0,
         "PC52": 0,
         "PC53": 0,
         "PC54": 0,
         "PC55": 0,
         "PC56": 0,
         "PC57": 0,
         "PC58": 0,
         "PC59": 0,
         "PC60": 0,
         "PC61": 0,
         "PC62": 0,
         "PC63": 0,
         "PC64": 0,
         "PC65": 0,
         "PC66": 0,
         "PC67": 0,
         "PC68": 0,
         "PC69": 0,
         "PC70": 0,
         "PC71": 0,
         "PC72": 0,
         "PC73": 0,
         "PC74": 0,
         "PC75": 0,
         "PC76": 0,
         "PC77": 0,
         "PC78": 0,
         "PC79": 0,
         "PC80": 0,
         "PC81": 0,
         "PC82": 0,
         "PC83": 0,
         "PC84": 0,
         "PC85": 0,
         "PC86": 0,
         "PC87": 0,
         "PC88": 0,
         "PC89": 0,
         "PC90": 0,
         "PC91": 0,
         "PC92": 0,
         "PC93": 0,
         "_deepnote_index_column": "S19 0.77459;-0.19148;-0.19148;-0.19148;-0.19148"
        },
        {
         "PC1": 0,
         "PC2": 0,
         "PC3": 0,
         "PC4": 0,
         "PC5": 0,
         "PC6": 0,
         "PC7": 0,
         "PC8": 0,
         "PC9": 0,
         "PC10": 0,
         "PC11": 0,
         "PC12": 0,
         "PC13": 0,
         "PC14": 0,
         "PC15": 0,
         "PC16": 0,
         "PC17": 0,
         "PC18": 0,
         "PC19": 0,
         "PC20": 0,
         "PC21": 0,
         "PC22": 0,
         "PC23": 0,
         "PC24": 0,
         "PC25": 0,
         "PC26": 0,
         "PC27": 0,
         "PC28": 0,
         "PC29": 0,
         "PC30": 0,
         "PC31": 0,
         "PC32": 0,
         "PC33": 0,
         "PC34": 0,
         "PC35": 0,
         "PC36": 0,
         "PC37": 0,
         "PC38": 0,
         "PC39": 0,
         "PC40": 0,
         "PC41": 0,
         "PC42": 0,
         "PC43": 0,
         "PC44": 0,
         "PC45": 0,
         "PC46": 0,
         "PC47": 0,
         "PC48": 0,
         "PC49": 0,
         "PC50": 0,
         "PC51": 0,
         "PC52": 0,
         "PC53": 0,
         "PC54": 0,
         "PC55": 0,
         "PC56": 0,
         "PC57": 0,
         "PC58": 0,
         "PC59": 0,
         "PC60": 0,
         "PC61": 0,
         "PC62": 0,
         "PC63": 0,
         "PC64": 0,
         "PC65": 0,
         "PC66": 0,
         "PC67": 0,
         "PC68": 0,
         "PC69": 0,
         "PC70": 0,
         "PC71": 0,
         "PC72": 0,
         "PC73": 0,
         "PC74": 0,
         "PC75": 0,
         "PC76": 0,
         "PC77": 0,
         "PC78": 0,
         "PC79": 0,
         "PC80": 0,
         "PC81": 0,
         "PC82": 0,
         "PC83": 0,
         "PC84": 0,
         "PC85": 0,
         "PC86": 0,
         "PC87": 0,
         "PC88": 0,
         "PC89": 0,
         "PC90": 0,
         "PC91": 0,
         "PC92": 0,
         "PC93": 0,
         "_deepnote_index_column": "S19 0.99979;-0.99979;-0.9925;-0.9925;0.9925"
        },
        {
         "PC1": 0,
         "PC2": 0,
         "PC3": 0,
         "PC4": 0,
         "PC5": 0,
         "PC6": 0,
         "PC7": 0,
         "PC8": 0,
         "PC9": 0,
         "PC10": 0,
         "PC11": 0,
         "PC12": 0,
         "PC13": 0,
         "PC14": 0,
         "PC15": 0,
         "PC16": 0,
         "PC17": 0,
         "PC18": 0,
         "PC19": 0,
         "PC20": 0,
         "PC21": 0,
         "PC22": 0,
         "PC23": 0,
         "PC24": 0,
         "PC25": 0,
         "PC26": 0,
         "PC27": 0,
         "PC28": 0,
         "PC29": 0,
         "PC30": 0,
         "PC31": 0,
         "PC32": 0,
         "PC33": 0,
         "PC34": 0,
         "PC35": 0,
         "PC36": 0,
         "PC37": 0,
         "PC38": 0,
         "PC39": 0,
         "PC40": 0,
         "PC41": 0,
         "PC42": 0,
         "PC43": 0,
         "PC44": 0,
         "PC45": 0,
         "PC46": 0,
         "PC47": 0,
         "PC48": 0,
         "PC49": 0,
         "PC50": 0,
         "PC51": 0,
         "PC52": 0,
         "PC53": 0,
         "PC54": 0,
         "PC55": 0,
         "PC56": 0,
         "PC57": 0,
         "PC58": 0,
         "PC59": 0,
         "PC60": 0,
         "PC61": 0,
         "PC62": 0,
         "PC63": 0,
         "PC64": 0,
         "PC65": 0,
         "PC66": 0,
         "PC67": 0,
         "PC68": 0,
         "PC69": 0,
         "PC70": 0,
         "PC71": 0,
         "PC72": 0,
         "PC73": 0,
         "PC74": 0,
         "PC75": 0,
         "PC76": 0,
         "PC77": 0,
         "PC78": 0,
         "PC79": 0,
         "PC80": 0,
         "PC81": 0,
         "PC82": 0,
         "PC83": 0,
         "PC84": 0,
         "PC85": 0,
         "PC86": 0,
         "PC87": 0,
         "PC88": 0,
         "PC89": 0,
         "PC90": 0,
         "PC91": 0,
         "PC92": 0,
         "PC93": 0,
         "_deepnote_index_column": "S19 0.19148;0.19148;0.77459;0.77459;0.53284"
        }
       ]
      },
      "text/plain": "                                                          PC1           PC2  \\\nS0 0.9105;0.9711;0.77459;0.9105;0.9105           8.290992e-17  1.660267e-17   \nS0 0.9711;0.9711;0.9711;0.9105;0.9105            1.471853e-04  1.153719e-04   \nS0 0.19148;0.19148;-0.77459;-0.77459;-0.77459    5.774080e-17  7.319359e-17   \nS0 -0.9105;-0.9711;-0.99979;-0.99979;-0.99979    2.852350e-17  4.005636e-17   \nS0 0.9925;0.9925;0.9925;0.99848;0.99979          1.372981e-03  9.696085e-04   \n...                                                       ...           ...   \nS19 -0.9105;-0.9105;0.19148;-0.77459;-0.19148    0.000000e+00  0.000000e+00   \nS19 0.9105;0.9711;0.9711;0.9925;0.9925           0.000000e+00  0.000000e+00   \nS19 0.77459;-0.19148;-0.19148;-0.19148;-0.19148  0.000000e+00  0.000000e+00   \nS19 0.99979;-0.99979;-0.9925;-0.9925;0.9925      0.000000e+00  0.000000e+00   \nS19 0.19148;0.19148;0.77459;0.77459;0.53284      0.000000e+00  0.000000e+00   \n\n                                                          PC3           PC4  \\\nS0 0.9105;0.9711;0.77459;0.9105;0.9105           2.406832e-17  3.676558e-17   \nS0 0.9711;0.9711;0.9711;0.9105;0.9105            7.144406e-05  1.881384e-04   \nS0 0.19148;0.19148;-0.77459;-0.77459;-0.77459    8.740556e-17  5.986130e-17   \nS0 -0.9105;-0.9711;-0.99979;-0.99979;-0.99979    6.096880e-17  3.365949e-17   \nS0 0.9925;0.9925;0.9925;0.99848;0.99979          4.973605e-03  2.549359e-04   \n...                                                       ...           ...   \nS19 -0.9105;-0.9105;0.19148;-0.77459;-0.19148    0.000000e+00  0.000000e+00   \nS19 0.9105;0.9711;0.9711;0.9925;0.9925           0.000000e+00  0.000000e+00   \nS19 0.77459;-0.19148;-0.19148;-0.19148;-0.19148  0.000000e+00  0.000000e+00   \nS19 0.99979;-0.99979;-0.9925;-0.9925;0.9925      0.000000e+00  0.000000e+00   \nS19 0.19148;0.19148;0.77459;0.77459;0.53284      0.000000e+00  0.000000e+00   \n\n                                                          PC5           PC6  \\\nS0 0.9105;0.9711;0.77459;0.9105;0.9105           1.003175e-17  2.389093e-17   \nS0 0.9711;0.9711;0.9711;0.9105;0.9105            4.179099e-04  3.795382e-04   \nS0 0.19148;0.19148;-0.77459;-0.77459;-0.77459    5.952380e-17  1.051362e-17   \nS0 -0.9105;-0.9711;-0.99979;-0.99979;-0.99979    2.713140e-17  1.455110e-17   \nS0 0.9925;0.9925;0.9925;0.99848;0.99979          2.155250e-03  6.007227e-04   \n...                                                       ...           ...   \nS19 -0.9105;-0.9105;0.19148;-0.77459;-0.19148    0.000000e+00  0.000000e+00   \nS19 0.9105;0.9711;0.9711;0.9925;0.9925           0.000000e+00  0.000000e+00   \nS19 0.77459;-0.19148;-0.19148;-0.19148;-0.19148  0.000000e+00  0.000000e+00   \nS19 0.99979;-0.99979;-0.9925;-0.9925;0.9925      0.000000e+00  0.000000e+00   \nS19 0.19148;0.19148;0.77459;0.77459;0.53284      0.000000e+00  0.000000e+00   \n\n                                                          PC7           PC8  \\\nS0 0.9105;0.9711;0.77459;0.9105;0.9105           1.632405e-17  1.718002e-17   \nS0 0.9711;0.9711;0.9711;0.9105;0.9105            7.347557e-05  7.834072e-05   \nS0 0.19148;0.19148;-0.77459;-0.77459;-0.77459    3.273532e-17  6.013531e-17   \nS0 -0.9105;-0.9711;-0.99979;-0.99979;-0.99979    4.149625e-17  2.008607e-17   \nS0 0.9925;0.9925;0.9925;0.99848;0.99979          8.414664e-04  4.762043e-03   \n...                                                       ...           ...   \nS19 -0.9105;-0.9105;0.19148;-0.77459;-0.19148    0.000000e+00  0.000000e+00   \nS19 0.9105;0.9711;0.9711;0.9925;0.9925           0.000000e+00  0.000000e+00   \nS19 0.77459;-0.19148;-0.19148;-0.19148;-0.19148  0.000000e+00  0.000000e+00   \nS19 0.99979;-0.99979;-0.9925;-0.9925;0.9925      0.000000e+00  0.000000e+00   \nS19 0.19148;0.19148;0.77459;0.77459;0.53284      0.000000e+00  0.000000e+00   \n\n                                                          PC9          PC10  \\\nS0 0.9105;0.9711;0.77459;0.9105;0.9105           3.211856e-18  3.487835e-17   \nS0 0.9711;0.9711;0.9711;0.9105;0.9105            6.860863e-05  8.403356e-05   \nS0 0.19148;0.19148;-0.77459;-0.77459;-0.77459    2.325231e-17  6.591442e-17   \nS0 -0.9105;-0.9711;-0.99979;-0.99979;-0.99979    1.420889e-17  3.631887e-17   \nS0 0.9925;0.9925;0.9925;0.99848;0.99979          6.294633e-03  4.555030e-03   \n...                                                       ...           ...   \nS19 -0.9105;-0.9105;0.19148;-0.77459;-0.19148    0.000000e+00  0.000000e+00   \nS19 0.9105;0.9711;0.9711;0.9925;0.9925           0.000000e+00  0.000000e+00   \nS19 0.77459;-0.19148;-0.19148;-0.19148;-0.19148  0.000000e+00  0.000000e+00   \nS19 0.99979;-0.99979;-0.9925;-0.9925;0.9925      0.000000e+00  0.000000e+00   \nS19 0.19148;0.19148;0.77459;0.77459;0.53284      0.000000e+00  0.000000e+00   \n\n                                                 ...          PC84  \\\nS0 0.9105;0.9711;0.77459;0.9105;0.9105           ...  5.615966e-17   \nS0 0.9711;0.9711;0.9711;0.9105;0.9105            ...  6.289732e-04   \nS0 0.19148;0.19148;-0.77459;-0.77459;-0.77459    ...  7.451445e-17   \nS0 -0.9105;-0.9711;-0.99979;-0.99979;-0.99979    ...  2.890169e-17   \nS0 0.9925;0.9925;0.9925;0.99848;0.99979          ...  4.121875e-03   \n...                                              ...           ...   \nS19 -0.9105;-0.9105;0.19148;-0.77459;-0.19148    ...  0.000000e+00   \nS19 0.9105;0.9711;0.9711;0.9925;0.9925           ...  0.000000e+00   \nS19 0.77459;-0.19148;-0.19148;-0.19148;-0.19148  ...  0.000000e+00   \nS19 0.99979;-0.99979;-0.9925;-0.9925;0.9925      ...  0.000000e+00   \nS19 0.19148;0.19148;0.77459;0.77459;0.53284      ...  0.000000e+00   \n\n                                                         PC85          PC86  \\\nS0 0.9105;0.9711;0.77459;0.9105;0.9105           6.549816e-17  8.549774e-17   \nS0 0.9711;0.9711;0.9711;0.9105;0.9105            5.723822e-03  7.793785e-04   \nS0 0.19148;0.19148;-0.77459;-0.77459;-0.77459    2.544674e-17  1.376471e-16   \nS0 -0.9105;-0.9711;-0.99979;-0.99979;-0.99979    5.172727e-17  4.657311e-18   \nS0 0.9925;0.9925;0.9925;0.99848;0.99979          1.031905e-03  1.804738e-03   \n...                                                       ...           ...   \nS19 -0.9105;-0.9105;0.19148;-0.77459;-0.19148    0.000000e+00  0.000000e+00   \nS19 0.9105;0.9711;0.9711;0.9925;0.9925           0.000000e+00  0.000000e+00   \nS19 0.77459;-0.19148;-0.19148;-0.19148;-0.19148  0.000000e+00  0.000000e+00   \nS19 0.99979;-0.99979;-0.9925;-0.9925;0.9925      0.000000e+00  0.000000e+00   \nS19 0.19148;0.19148;0.77459;0.77459;0.53284      0.000000e+00  0.000000e+00   \n\n                                                         PC87          PC88  \\\nS0 0.9105;0.9711;0.77459;0.9105;0.9105           7.685273e-17  1.244080e-17   \nS0 0.9711;0.9711;0.9711;0.9105;0.9105            1.634584e-03  5.624571e-03   \nS0 0.19148;0.19148;-0.77459;-0.77459;-0.77459    1.603674e-16  2.116217e-16   \nS0 -0.9105;-0.9711;-0.99979;-0.99979;-0.99979    2.738010e-17  3.409349e-17   \nS0 0.9925;0.9925;0.9925;0.99848;0.99979          8.841306e-04  3.332042e-03   \n...                                                       ...           ...   \nS19 -0.9105;-0.9105;0.19148;-0.77459;-0.19148    0.000000e+00  0.000000e+00   \nS19 0.9105;0.9711;0.9711;0.9925;0.9925           0.000000e+00  0.000000e+00   \nS19 0.77459;-0.19148;-0.19148;-0.19148;-0.19148  0.000000e+00  0.000000e+00   \nS19 0.99979;-0.99979;-0.9925;-0.9925;0.9925      0.000000e+00  0.000000e+00   \nS19 0.19148;0.19148;0.77459;0.77459;0.53284      0.000000e+00  0.000000e+00   \n\n                                                         PC89          PC90  \\\nS0 0.9105;0.9711;0.77459;0.9105;0.9105           2.225428e-17  1.219344e-18   \nS0 0.9711;0.9711;0.9711;0.9105;0.9105            4.045198e-03  1.644085e-03   \nS0 0.19148;0.19148;-0.77459;-0.77459;-0.77459    5.670313e-17  5.176637e-18   \nS0 -0.9105;-0.9711;-0.99979;-0.99979;-0.99979    6.411652e-18  7.322179e-17   \nS0 0.9925;0.9925;0.9925;0.99848;0.99979          6.443809e-03  2.434735e-03   \n...                                                       ...           ...   \nS19 -0.9105;-0.9105;0.19148;-0.77459;-0.19148    0.000000e+00  0.000000e+00   \nS19 0.9105;0.9711;0.9711;0.9925;0.9925           0.000000e+00  0.000000e+00   \nS19 0.77459;-0.19148;-0.19148;-0.19148;-0.19148  0.000000e+00  0.000000e+00   \nS19 0.99979;-0.99979;-0.9925;-0.9925;0.9925      0.000000e+00  0.000000e+00   \nS19 0.19148;0.19148;0.77459;0.77459;0.53284      0.000000e+00  0.000000e+00   \n\n                                                         PC91          PC92  \\\nS0 0.9105;0.9711;0.77459;0.9105;0.9105           2.150997e-17  3.270180e-17   \nS0 0.9711;0.9711;0.9711;0.9105;0.9105            3.916127e-04  2.436902e-03   \nS0 0.19148;0.19148;-0.77459;-0.77459;-0.77459    7.465899e-17  1.001640e-16   \nS0 -0.9105;-0.9711;-0.99979;-0.99979;-0.99979    1.162362e-17  6.019491e-17   \nS0 0.9925;0.9925;0.9925;0.99848;0.99979          1.409610e-03  1.014605e-03   \n...                                                       ...           ...   \nS19 -0.9105;-0.9105;0.19148;-0.77459;-0.19148    0.000000e+00  0.000000e+00   \nS19 0.9105;0.9711;0.9711;0.9925;0.9925           0.000000e+00  0.000000e+00   \nS19 0.77459;-0.19148;-0.19148;-0.19148;-0.19148  0.000000e+00  0.000000e+00   \nS19 0.99979;-0.99979;-0.9925;-0.9925;0.9925      0.000000e+00  0.000000e+00   \nS19 0.19148;0.19148;0.77459;0.77459;0.53284      0.000000e+00  0.000000e+00   \n\n                                                     PC93  \nS0 0.9105;0.9711;0.77459;0.9105;0.9105           0.324957  \nS0 0.9711;0.9711;0.9711;0.9105;0.9105            0.065857  \nS0 0.19148;0.19148;-0.77459;-0.77459;-0.77459    0.265818  \nS0 -0.9105;-0.9711;-0.99979;-0.99979;-0.99979    0.006683  \nS0 0.9925;0.9925;0.9925;0.99848;0.99979          0.281522  \n...                                                   ...  \nS19 -0.9105;-0.9105;0.19148;-0.77459;-0.19148    0.000000  \nS19 0.9105;0.9711;0.9711;0.9925;0.9925           0.000000  \nS19 0.77459;-0.19148;-0.19148;-0.19148;-0.19148  0.000000  \nS19 0.99979;-0.99979;-0.9925;-0.9925;0.9925      0.000000  \nS19 0.19148;0.19148;0.77459;0.77459;0.53284      0.000000  \n\n[33340 rows x 93 columns]",
      "text/html": "<div>\n<style scoped>\n    .dataframe tbody tr th:only-of-type {\n        vertical-align: middle;\n    }\n\n    .dataframe tbody tr th {\n        vertical-align: top;\n    }\n\n    .dataframe thead th {\n        text-align: right;\n    }\n</style>\n<table border=\"1\" class=\"dataframe\">\n  <thead>\n    <tr style=\"text-align: right;\">\n      <th></th>\n      <th>PC1</th>\n      <th>PC2</th>\n      <th>PC3</th>\n      <th>PC4</th>\n      <th>PC5</th>\n      <th>PC6</th>\n      <th>PC7</th>\n      <th>PC8</th>\n      <th>PC9</th>\n      <th>PC10</th>\n      <th>...</th>\n      <th>PC84</th>\n      <th>PC85</th>\n      <th>PC86</th>\n      <th>PC87</th>\n      <th>PC88</th>\n      <th>PC89</th>\n      <th>PC90</th>\n      <th>PC91</th>\n      <th>PC92</th>\n      <th>PC93</th>\n    </tr>\n  </thead>\n  <tbody>\n    <tr>\n      <th>S0 0.9105;0.9711;0.77459;0.9105;0.9105</th>\n      <td>8.290992e-17</td>\n      <td>1.660267e-17</td>\n      <td>2.406832e-17</td>\n      <td>3.676558e-17</td>\n      <td>1.003175e-17</td>\n      <td>2.389093e-17</td>\n      <td>1.632405e-17</td>\n      <td>1.718002e-17</td>\n      <td>3.211856e-18</td>\n      <td>3.487835e-17</td>\n      <td>...</td>\n      <td>5.615966e-17</td>\n      <td>6.549816e-17</td>\n      <td>8.549774e-17</td>\n      <td>7.685273e-17</td>\n      <td>1.244080e-17</td>\n      <td>2.225428e-17</td>\n      <td>1.219344e-18</td>\n      <td>2.150997e-17</td>\n      <td>3.270180e-17</td>\n      <td>0.324957</td>\n    </tr>\n    <tr>\n      <th>S0 0.9711;0.9711;0.9711;0.9105;0.9105</th>\n      <td>1.471853e-04</td>\n      <td>1.153719e-04</td>\n      <td>7.144406e-05</td>\n      <td>1.881384e-04</td>\n      <td>4.179099e-04</td>\n      <td>3.795382e-04</td>\n      <td>7.347557e-05</td>\n      <td>7.834072e-05</td>\n      <td>6.860863e-05</td>\n      <td>8.403356e-05</td>\n      <td>...</td>\n      <td>6.289732e-04</td>\n      <td>5.723822e-03</td>\n      <td>7.793785e-04</td>\n      <td>1.634584e-03</td>\n      <td>5.624571e-03</td>\n      <td>4.045198e-03</td>\n      <td>1.644085e-03</td>\n      <td>3.916127e-04</td>\n      <td>2.436902e-03</td>\n      <td>0.065857</td>\n    </tr>\n    <tr>\n      <th>S0 0.19148;0.19148;-0.77459;-0.77459;-0.77459</th>\n      <td>5.774080e-17</td>\n      <td>7.319359e-17</td>\n      <td>8.740556e-17</td>\n      <td>5.986130e-17</td>\n      <td>5.952380e-17</td>\n      <td>1.051362e-17</td>\n      <td>3.273532e-17</td>\n      <td>6.013531e-17</td>\n      <td>2.325231e-17</td>\n      <td>6.591442e-17</td>\n      <td>...</td>\n      <td>7.451445e-17</td>\n      <td>2.544674e-17</td>\n      <td>1.376471e-16</td>\n      <td>1.603674e-16</td>\n      <td>2.116217e-16</td>\n      <td>5.670313e-17</td>\n      <td>5.176637e-18</td>\n      <td>7.465899e-17</td>\n      <td>1.001640e-16</td>\n      <td>0.265818</td>\n    </tr>\n    <tr>\n      <th>S0 -0.9105;-0.9711;-0.99979;-0.99979;-0.99979</th>\n      <td>2.852350e-17</td>\n      <td>4.005636e-17</td>\n      <td>6.096880e-17</td>\n      <td>3.365949e-17</td>\n      <td>2.713140e-17</td>\n      <td>1.455110e-17</td>\n      <td>4.149625e-17</td>\n      <td>2.008607e-17</td>\n      <td>1.420889e-17</td>\n      <td>3.631887e-17</td>\n      <td>...</td>\n      <td>2.890169e-17</td>\n      <td>5.172727e-17</td>\n      <td>4.657311e-18</td>\n      <td>2.738010e-17</td>\n      <td>3.409349e-17</td>\n      <td>6.411652e-18</td>\n      <td>7.322179e-17</td>\n      <td>1.162362e-17</td>\n      <td>6.019491e-17</td>\n      <td>0.006683</td>\n    </tr>\n    <tr>\n      <th>S0 0.9925;0.9925;0.9925;0.99848;0.99979</th>\n      <td>1.372981e-03</td>\n      <td>9.696085e-04</td>\n      <td>4.973605e-03</td>\n      <td>2.549359e-04</td>\n      <td>2.155250e-03</td>\n      <td>6.007227e-04</td>\n      <td>8.414664e-04</td>\n      <td>4.762043e-03</td>\n      <td>6.294633e-03</td>\n      <td>4.555030e-03</td>\n      <td>...</td>\n      <td>4.121875e-03</td>\n      <td>1.031905e-03</td>\n      <td>1.804738e-03</td>\n      <td>8.841306e-04</td>\n      <td>3.332042e-03</td>\n      <td>6.443809e-03</td>\n      <td>2.434735e-03</td>\n      <td>1.409610e-03</td>\n      <td>1.014605e-03</td>\n      <td>0.281522</td>\n    </tr>\n    <tr>\n      <th>...</th>\n      <td>...</td>\n      <td>...</td>\n      <td>...</td>\n      <td>...</td>\n      <td>...</td>\n      <td>...</td>\n      <td>...</td>\n      <td>...</td>\n      <td>...</td>\n      <td>...</td>\n      <td>...</td>\n      <td>...</td>\n      <td>...</td>\n      <td>...</td>\n      <td>...</td>\n      <td>...</td>\n      <td>...</td>\n      <td>...</td>\n      <td>...</td>\n      <td>...</td>\n      <td>...</td>\n    </tr>\n    <tr>\n      <th>S19 -0.9105;-0.9105;0.19148;-0.77459;-0.19148</th>\n      <td>0.000000e+00</td>\n      <td>0.000000e+00</td>\n      <td>0.000000e+00</td>\n      <td>0.000000e+00</td>\n      <td>0.000000e+00</td>\n      <td>0.000000e+00</td>\n      <td>0.000000e+00</td>\n      <td>0.000000e+00</td>\n      <td>0.000000e+00</td>\n      <td>0.000000e+00</td>\n      <td>...</td>\n      <td>0.000000e+00</td>\n      <td>0.000000e+00</td>\n      <td>0.000000e+00</td>\n      <td>0.000000e+00</td>\n      <td>0.000000e+00</td>\n      <td>0.000000e+00</td>\n      <td>0.000000e+00</td>\n      <td>0.000000e+00</td>\n      <td>0.000000e+00</td>\n      <td>0.000000</td>\n    </tr>\n    <tr>\n      <th>S19 0.9105;0.9711;0.9711;0.9925;0.9925</th>\n      <td>0.000000e+00</td>\n      <td>0.000000e+00</td>\n      <td>0.000000e+00</td>\n      <td>0.000000e+00</td>\n      <td>0.000000e+00</td>\n      <td>0.000000e+00</td>\n      <td>0.000000e+00</td>\n      <td>0.000000e+00</td>\n      <td>0.000000e+00</td>\n      <td>0.000000e+00</td>\n      <td>...</td>\n      <td>0.000000e+00</td>\n      <td>0.000000e+00</td>\n      <td>0.000000e+00</td>\n      <td>0.000000e+00</td>\n      <td>0.000000e+00</td>\n      <td>0.000000e+00</td>\n      <td>0.000000e+00</td>\n      <td>0.000000e+00</td>\n      <td>0.000000e+00</td>\n      <td>0.000000</td>\n    </tr>\n    <tr>\n      <th>S19 0.77459;-0.19148;-0.19148;-0.19148;-0.19148</th>\n      <td>0.000000e+00</td>\n      <td>0.000000e+00</td>\n      <td>0.000000e+00</td>\n      <td>0.000000e+00</td>\n      <td>0.000000e+00</td>\n      <td>0.000000e+00</td>\n      <td>0.000000e+00</td>\n      <td>0.000000e+00</td>\n      <td>0.000000e+00</td>\n      <td>0.000000e+00</td>\n      <td>...</td>\n      <td>0.000000e+00</td>\n      <td>0.000000e+00</td>\n      <td>0.000000e+00</td>\n      <td>0.000000e+00</td>\n      <td>0.000000e+00</td>\n      <td>0.000000e+00</td>\n      <td>0.000000e+00</td>\n      <td>0.000000e+00</td>\n      <td>0.000000e+00</td>\n      <td>0.000000</td>\n    </tr>\n    <tr>\n      <th>S19 0.99979;-0.99979;-0.9925;-0.9925;0.9925</th>\n      <td>0.000000e+00</td>\n      <td>0.000000e+00</td>\n      <td>0.000000e+00</td>\n      <td>0.000000e+00</td>\n      <td>0.000000e+00</td>\n      <td>0.000000e+00</td>\n      <td>0.000000e+00</td>\n      <td>0.000000e+00</td>\n      <td>0.000000e+00</td>\n      <td>0.000000e+00</td>\n      <td>...</td>\n      <td>0.000000e+00</td>\n      <td>0.000000e+00</td>\n      <td>0.000000e+00</td>\n      <td>0.000000e+00</td>\n      <td>0.000000e+00</td>\n      <td>0.000000e+00</td>\n      <td>0.000000e+00</td>\n      <td>0.000000e+00</td>\n      <td>0.000000e+00</td>\n      <td>0.000000</td>\n    </tr>\n    <tr>\n      <th>S19 0.19148;0.19148;0.77459;0.77459;0.53284</th>\n      <td>0.000000e+00</td>\n      <td>0.000000e+00</td>\n      <td>0.000000e+00</td>\n      <td>0.000000e+00</td>\n      <td>0.000000e+00</td>\n      <td>0.000000e+00</td>\n      <td>0.000000e+00</td>\n      <td>0.000000e+00</td>\n      <td>0.000000e+00</td>\n      <td>0.000000e+00</td>\n      <td>...</td>\n      <td>0.000000e+00</td>\n      <td>0.000000e+00</td>\n      <td>0.000000e+00</td>\n      <td>0.000000e+00</td>\n      <td>0.000000e+00</td>\n      <td>0.000000e+00</td>\n      <td>0.000000e+00</td>\n      <td>0.000000e+00</td>\n      <td>0.000000e+00</td>\n      <td>0.000000</td>\n    </tr>\n  </tbody>\n</table>\n<p>33340 rows × 93 columns</p>\n</div>"
     },
     "metadata": {},
     "output_type": "display_data"
    },
    {
     "name": "stdout",
     "text": "\nPC1 top 10 features are: \n\n",
     "output_type": "stream"
    },
    {
     "data": {
      "text/plain": "['S8 0.19148;0.19148;-0.9711;-0.9105;-0.9105:     0.173452',\n 'S8 -0.9711;-0.9925;-0.9711;0.19148;0.19148:     0.173452',\n 'S8 -0.9925;-0.99848;0.9711;0.9711;0.9711:     0.173452',\n 'S7 0.77459;0.53284;0.19148;0.19148;0.53284:     0.173452',\n 'S15 0.53284;-0.19148;-0.19148;-0.19148;-0.53284:     0.173452',\n 'S10 0.9105;0.9711;0.9925;0.9711;0.9105:     0.173452',\n 'S9 -0.77459;-0.53284;-0.99979;-0.53284;-0.19148:     0.173452',\n 'S14 0.99979;0.9925;0.9711;0.9105;0.9105:     0.173452',\n 'S8 0.19148;0.19148;0.19148;0.19148;-0.99979:     0.173452',\n 'S14 0.9711;0.9711;0.99848;0.99979;0.9925:     0.173452']"
     },
     "metadata": {},
     "output_type": "display_data"
    }
   ],
   "execution_count": null
  },
  {
   "cell_type": "code",
   "metadata": {
    "tags": [],
    "cell_id": "00030-52877fd7-b1ec-4027-80af-65ced51be790",
    "deepnote_to_be_reexecuted": false,
    "source_hash": "ac033c5f",
    "execution_start": 1638374069325,
    "execution_millis": 72,
    "deepnote_output_heights": [
     527
    ],
    "deepnote_cell_type": "code"
   },
   "source": "fig = px.scatter(t1_alg_variance,\n            labels={\"index\": \"# Components\", \"value\": \"Explained Variance\"}, \n            title=\"Explained Variance with increasing number of latent features\")\nfig.update_traces(showlegend=True)\nfig.show()",
   "outputs": [
    {
     "data": {
      "text/html": "<html>\n<head><meta charset=\"utf-8\" /></head>\n<body>\n    <div>            <script src=\"https://cdnjs.cloudflare.com/ajax/libs/mathjax/2.7.5/MathJax.js?config=TeX-AMS-MML_SVG\"></script><script type=\"text/javascript\">if (window.MathJax) {MathJax.Hub.Config({SVG: {font: \"STIX-Web\"}});}</script>                <script type=\"text/javascript\">window.PlotlyConfig = {MathJaxConfig: 'local'};</script>\n        <script src=\"https://cdn.plot.ly/plotly-2.4.2.min.js\"></script>                <div id=\"d17e8b3c-7b07-428f-9815-46653f0d7838\" class=\"plotly-graph-div\" style=\"height:525px; width:100%;\"></div>            <script type=\"text/javascript\">                                    window.PLOTLYENV=window.PLOTLYENV || {};                                    if (document.getElementById(\"d17e8b3c-7b07-428f-9815-46653f0d7838\")) {                    Plotly.newPlot(                        \"d17e8b3c-7b07-428f-9815-46653f0d7838\",                        [{\"hovertemplate\":\"variable=0<br># Components=%{x}<br>Explained Variance=%{y}<extra></extra>\",\"legendgroup\":\"0\",\"marker\":{\"color\":\"#636efa\",\"symbol\":\"circle\"},\"mode\":\"markers\",\"name\":\"0\",\"orientation\":\"v\",\"showlegend\":true,\"type\":\"scatter\",\"x\":[0,1,2,3,4,5,6,7,8,9,10,11,12,13,14,15,16,17,18,19,20,21,22,23,24,25,26,27,28,29,30,31,32,33,34,35,36,37,38,39,40,41,42,43,44,45,46,47,48,49,50,51,52,53,54,55,56,57,58,59,60,61,62,63,64,65,66,67,68,69,70,71,72,73,74,75,76,77,78,79,80,81,82,83,84,85,86,87,88,89,90,91,92],\"xaxis\":\"x\",\"y\":[0.04862309934051948,0.08019065820600751,0.10456147240545187,0.1279131524533586,0.15029887716961968,0.1726213149200485,0.19374628175844477,0.21416300789434803,0.23431809896284553,0.2539429256392564,0.27278436883168966,0.2911757253569605,0.3092244266792579,0.3270234244067318,0.3441859151745958,0.36088564339677215,0.3771297169167413,0.39305829684694116,0.4087605304419493,0.42428818562787707,0.43967674428167786,0.4549499733554335,0.4699475656692818,0.4847030582875448,0.4990080171652764,0.5127418229355813,0.526170268084661,0.5392400107871775,0.551760503859671,0.5640643157048747,0.5760304380210328,0.5879215634309201,0.5994299253610281,0.61075598015964,0.6219456568529125,0.6328555332571791,0.6437245175544869,0.6544256187199138,0.6648379123176803,0.6750958370237917,0.6852823409802107,0.6952902129201413,0.7052147668410707,0.7150845338595896,0.7247645159371913,0.7341849700970698,0.7434532839600019,0.7526186829320349,0.7614163933801783,0.7700256828124161,0.7785770280102324,0.7869080557411955,0.795111841198538,0.8032604535190807,0.811206683620905,0.818891204277152,0.8265568885164905,0.8339717046604168,0.8412715490288197,0.8484059314982354,0.8553095199610281,0.862050252140965,0.868680420361564,0.8751825782450555,0.8816697889552183,0.8880576876868919,0.8941580006106276,0.9001069108281954,0.9056729745595083,0.9112030950754972,0.9164900678260215,0.9216990890895385,0.9267881593100911,0.9316259239950272,0.9363405122290138,0.940908935526504,0.9454042641176751,0.9497949118070799,0.9539964353173557,0.9581076146312886,0.9621624976979736,0.9661929062713126,0.9701556797613139,0.9740069838126341,0.9778472498665748,0.9815241926733742,0.985114160429095,0.9885483420740623,0.9917330231852617,0.9948125062065375,0.9976950379076893,1.0000000000000002,1.0000000000000002],\"yaxis\":\"y\"}],                        {\"legend\":{\"title\":{\"text\":\"variable\"},\"tracegroupgap\":0},\"template\":{\"data\":{\"bar\":[{\"error_x\":{\"color\":\"#2a3f5f\"},\"error_y\":{\"color\":\"#2a3f5f\"},\"marker\":{\"line\":{\"color\":\"#E5ECF6\",\"width\":0.5},\"pattern\":{\"fillmode\":\"overlay\",\"size\":10,\"solidity\":0.2}},\"type\":\"bar\"}],\"barpolar\":[{\"marker\":{\"line\":{\"color\":\"#E5ECF6\",\"width\":0.5},\"pattern\":{\"fillmode\":\"overlay\",\"size\":10,\"solidity\":0.2}},\"type\":\"barpolar\"}],\"carpet\":[{\"aaxis\":{\"endlinecolor\":\"#2a3f5f\",\"gridcolor\":\"white\",\"linecolor\":\"white\",\"minorgridcolor\":\"white\",\"startlinecolor\":\"#2a3f5f\"},\"baxis\":{\"endlinecolor\":\"#2a3f5f\",\"gridcolor\":\"white\",\"linecolor\":\"white\",\"minorgridcolor\":\"white\",\"startlinecolor\":\"#2a3f5f\"},\"type\":\"carpet\"}],\"choropleth\":[{\"colorbar\":{\"outlinewidth\":0,\"ticks\":\"\"},\"type\":\"choropleth\"}],\"contour\":[{\"colorbar\":{\"outlinewidth\":0,\"ticks\":\"\"},\"colorscale\":[[0.0,\"#0d0887\"],[0.1111111111111111,\"#46039f\"],[0.2222222222222222,\"#7201a8\"],[0.3333333333333333,\"#9c179e\"],[0.4444444444444444,\"#bd3786\"],[0.5555555555555556,\"#d8576b\"],[0.6666666666666666,\"#ed7953\"],[0.7777777777777778,\"#fb9f3a\"],[0.8888888888888888,\"#fdca26\"],[1.0,\"#f0f921\"]],\"type\":\"contour\"}],\"contourcarpet\":[{\"colorbar\":{\"outlinewidth\":0,\"ticks\":\"\"},\"type\":\"contourcarpet\"}],\"heatmap\":[{\"colorbar\":{\"outlinewidth\":0,\"ticks\":\"\"},\"colorscale\":[[0.0,\"#0d0887\"],[0.1111111111111111,\"#46039f\"],[0.2222222222222222,\"#7201a8\"],[0.3333333333333333,\"#9c179e\"],[0.4444444444444444,\"#bd3786\"],[0.5555555555555556,\"#d8576b\"],[0.6666666666666666,\"#ed7953\"],[0.7777777777777778,\"#fb9f3a\"],[0.8888888888888888,\"#fdca26\"],[1.0,\"#f0f921\"]],\"type\":\"heatmap\"}],\"heatmapgl\":[{\"colorbar\":{\"outlinewidth\":0,\"ticks\":\"\"},\"colorscale\":[[0.0,\"#0d0887\"],[0.1111111111111111,\"#46039f\"],[0.2222222222222222,\"#7201a8\"],[0.3333333333333333,\"#9c179e\"],[0.4444444444444444,\"#bd3786\"],[0.5555555555555556,\"#d8576b\"],[0.6666666666666666,\"#ed7953\"],[0.7777777777777778,\"#fb9f3a\"],[0.8888888888888888,\"#fdca26\"],[1.0,\"#f0f921\"]],\"type\":\"heatmapgl\"}],\"histogram\":[{\"marker\":{\"pattern\":{\"fillmode\":\"overlay\",\"size\":10,\"solidity\":0.2}},\"type\":\"histogram\"}],\"histogram2d\":[{\"colorbar\":{\"outlinewidth\":0,\"ticks\":\"\"},\"colorscale\":[[0.0,\"#0d0887\"],[0.1111111111111111,\"#46039f\"],[0.2222222222222222,\"#7201a8\"],[0.3333333333333333,\"#9c179e\"],[0.4444444444444444,\"#bd3786\"],[0.5555555555555556,\"#d8576b\"],[0.6666666666666666,\"#ed7953\"],[0.7777777777777778,\"#fb9f3a\"],[0.8888888888888888,\"#fdca26\"],[1.0,\"#f0f921\"]],\"type\":\"histogram2d\"}],\"histogram2dcontour\":[{\"colorbar\":{\"outlinewidth\":0,\"ticks\":\"\"},\"colorscale\":[[0.0,\"#0d0887\"],[0.1111111111111111,\"#46039f\"],[0.2222222222222222,\"#7201a8\"],[0.3333333333333333,\"#9c179e\"],[0.4444444444444444,\"#bd3786\"],[0.5555555555555556,\"#d8576b\"],[0.6666666666666666,\"#ed7953\"],[0.7777777777777778,\"#fb9f3a\"],[0.8888888888888888,\"#fdca26\"],[1.0,\"#f0f921\"]],\"type\":\"histogram2dcontour\"}],\"mesh3d\":[{\"colorbar\":{\"outlinewidth\":0,\"ticks\":\"\"},\"type\":\"mesh3d\"}],\"parcoords\":[{\"line\":{\"colorbar\":{\"outlinewidth\":0,\"ticks\":\"\"}},\"type\":\"parcoords\"}],\"pie\":[{\"automargin\":true,\"type\":\"pie\"}],\"scatter\":[{\"marker\":{\"colorbar\":{\"outlinewidth\":0,\"ticks\":\"\"}},\"type\":\"scatter\"}],\"scatter3d\":[{\"line\":{\"colorbar\":{\"outlinewidth\":0,\"ticks\":\"\"}},\"marker\":{\"colorbar\":{\"outlinewidth\":0,\"ticks\":\"\"}},\"type\":\"scatter3d\"}],\"scattercarpet\":[{\"marker\":{\"colorbar\":{\"outlinewidth\":0,\"ticks\":\"\"}},\"type\":\"scattercarpet\"}],\"scattergeo\":[{\"marker\":{\"colorbar\":{\"outlinewidth\":0,\"ticks\":\"\"}},\"type\":\"scattergeo\"}],\"scattergl\":[{\"marker\":{\"colorbar\":{\"outlinewidth\":0,\"ticks\":\"\"}},\"type\":\"scattergl\"}],\"scattermapbox\":[{\"marker\":{\"colorbar\":{\"outlinewidth\":0,\"ticks\":\"\"}},\"type\":\"scattermapbox\"}],\"scatterpolar\":[{\"marker\":{\"colorbar\":{\"outlinewidth\":0,\"ticks\":\"\"}},\"type\":\"scatterpolar\"}],\"scatterpolargl\":[{\"marker\":{\"colorbar\":{\"outlinewidth\":0,\"ticks\":\"\"}},\"type\":\"scatterpolargl\"}],\"scatterternary\":[{\"marker\":{\"colorbar\":{\"outlinewidth\":0,\"ticks\":\"\"}},\"type\":\"scatterternary\"}],\"surface\":[{\"colorbar\":{\"outlinewidth\":0,\"ticks\":\"\"},\"colorscale\":[[0.0,\"#0d0887\"],[0.1111111111111111,\"#46039f\"],[0.2222222222222222,\"#7201a8\"],[0.3333333333333333,\"#9c179e\"],[0.4444444444444444,\"#bd3786\"],[0.5555555555555556,\"#d8576b\"],[0.6666666666666666,\"#ed7953\"],[0.7777777777777778,\"#fb9f3a\"],[0.8888888888888888,\"#fdca26\"],[1.0,\"#f0f921\"]],\"type\":\"surface\"}],\"table\":[{\"cells\":{\"fill\":{\"color\":\"#EBF0F8\"},\"line\":{\"color\":\"white\"}},\"header\":{\"fill\":{\"color\":\"#C8D4E3\"},\"line\":{\"color\":\"white\"}},\"type\":\"table\"}]},\"layout\":{\"annotationdefaults\":{\"arrowcolor\":\"#2a3f5f\",\"arrowhead\":0,\"arrowwidth\":1},\"autotypenumbers\":\"strict\",\"coloraxis\":{\"colorbar\":{\"outlinewidth\":0,\"ticks\":\"\"}},\"colorscale\":{\"diverging\":[[0,\"#8e0152\"],[0.1,\"#c51b7d\"],[0.2,\"#de77ae\"],[0.3,\"#f1b6da\"],[0.4,\"#fde0ef\"],[0.5,\"#f7f7f7\"],[0.6,\"#e6f5d0\"],[0.7,\"#b8e186\"],[0.8,\"#7fbc41\"],[0.9,\"#4d9221\"],[1,\"#276419\"]],\"sequential\":[[0.0,\"#0d0887\"],[0.1111111111111111,\"#46039f\"],[0.2222222222222222,\"#7201a8\"],[0.3333333333333333,\"#9c179e\"],[0.4444444444444444,\"#bd3786\"],[0.5555555555555556,\"#d8576b\"],[0.6666666666666666,\"#ed7953\"],[0.7777777777777778,\"#fb9f3a\"],[0.8888888888888888,\"#fdca26\"],[1.0,\"#f0f921\"]],\"sequentialminus\":[[0.0,\"#0d0887\"],[0.1111111111111111,\"#46039f\"],[0.2222222222222222,\"#7201a8\"],[0.3333333333333333,\"#9c179e\"],[0.4444444444444444,\"#bd3786\"],[0.5555555555555556,\"#d8576b\"],[0.6666666666666666,\"#ed7953\"],[0.7777777777777778,\"#fb9f3a\"],[0.8888888888888888,\"#fdca26\"],[1.0,\"#f0f921\"]]},\"colorway\":[\"#636efa\",\"#EF553B\",\"#00cc96\",\"#ab63fa\",\"#FFA15A\",\"#19d3f3\",\"#FF6692\",\"#B6E880\",\"#FF97FF\",\"#FECB52\"],\"font\":{\"color\":\"#2a3f5f\"},\"geo\":{\"bgcolor\":\"white\",\"lakecolor\":\"white\",\"landcolor\":\"#E5ECF6\",\"showlakes\":true,\"showland\":true,\"subunitcolor\":\"white\"},\"hoverlabel\":{\"align\":\"left\"},\"hovermode\":\"closest\",\"mapbox\":{\"style\":\"light\"},\"paper_bgcolor\":\"white\",\"plot_bgcolor\":\"#E5ECF6\",\"polar\":{\"angularaxis\":{\"gridcolor\":\"white\",\"linecolor\":\"white\",\"ticks\":\"\"},\"bgcolor\":\"#E5ECF6\",\"radialaxis\":{\"gridcolor\":\"white\",\"linecolor\":\"white\",\"ticks\":\"\"}},\"scene\":{\"xaxis\":{\"backgroundcolor\":\"#E5ECF6\",\"gridcolor\":\"white\",\"gridwidth\":2,\"linecolor\":\"white\",\"showbackground\":true,\"ticks\":\"\",\"zerolinecolor\":\"white\"},\"yaxis\":{\"backgroundcolor\":\"#E5ECF6\",\"gridcolor\":\"white\",\"gridwidth\":2,\"linecolor\":\"white\",\"showbackground\":true,\"ticks\":\"\",\"zerolinecolor\":\"white\"},\"zaxis\":{\"backgroundcolor\":\"#E5ECF6\",\"gridcolor\":\"white\",\"gridwidth\":2,\"linecolor\":\"white\",\"showbackground\":true,\"ticks\":\"\",\"zerolinecolor\":\"white\"}},\"shapedefaults\":{\"line\":{\"color\":\"#2a3f5f\"}},\"ternary\":{\"aaxis\":{\"gridcolor\":\"white\",\"linecolor\":\"white\",\"ticks\":\"\"},\"baxis\":{\"gridcolor\":\"white\",\"linecolor\":\"white\",\"ticks\":\"\"},\"bgcolor\":\"#E5ECF6\",\"caxis\":{\"gridcolor\":\"white\",\"linecolor\":\"white\",\"ticks\":\"\"}},\"title\":{\"x\":0.05},\"xaxis\":{\"automargin\":true,\"gridcolor\":\"white\",\"linecolor\":\"white\",\"ticks\":\"\",\"title\":{\"standoff\":15},\"zerolinecolor\":\"white\",\"zerolinewidth\":2},\"yaxis\":{\"automargin\":true,\"gridcolor\":\"white\",\"linecolor\":\"white\",\"ticks\":\"\",\"title\":{\"standoff\":15},\"zerolinecolor\":\"white\",\"zerolinewidth\":2}}},\"title\":{\"text\":\"Explained Variance with increasing number of latent features\"},\"xaxis\":{\"anchor\":\"y\",\"domain\":[0.0,1.0],\"title\":{\"text\":\"# Components\"}},\"yaxis\":{\"anchor\":\"x\",\"domain\":[0.0,1.0],\"title\":{\"text\":\"Explained Variance\"}}},                        {\"responsive\": true}                    ).then(function(){\n                            \nvar gd = document.getElementById('d17e8b3c-7b07-428f-9815-46653f0d7838');\nvar x = new MutationObserver(function (mutations, observer) {{\n        var display = window.getComputedStyle(gd).display;\n        if (!display || display === 'none') {{\n            console.log([gd, 'removed!']);\n            Plotly.purge(gd);\n            observer.disconnect();\n        }}\n}});\n\n// Listen for the removal of the full notebook cells\nvar notebookContainer = gd.closest('#notebook-container');\nif (notebookContainer) {{\n    x.observe(notebookContainer, {childList: true});\n}}\n\n// Listen for the clearing of the current output cell\nvar outputEl = gd.closest('.output');\nif (outputEl) {{\n    x.observe(outputEl, {childList: true});\n}}\n\n                        })                };                            </script>        </div>\n</body>\n</html>"
     },
     "metadata": {},
     "output_type": "display_data"
    }
   ],
   "execution_count": null
  },
  {
   "cell_type": "code",
   "metadata": {
    "deepnote_variable_name": "t1_top_k_latent_features",
    "deepnote_variable_value": "2",
    "cell_id": "00029-b576f595-3089-4a57-bed5-f4b6ef3cf661",
    "deepnote_to_be_reexecuted": false,
    "source_hash": "7462d0f7",
    "execution_start": 1638373796526,
    "execution_millis": 0,
    "deepnote_cell_type": "input-text"
   },
   "source": "t1_top_k_latent_features = '2'",
   "outputs": [],
   "execution_count": null
  },
  {
   "cell_type": "code",
   "metadata": {
    "tags": [],
    "cell_id": "00031-9da35401-f766-4424-92c2-b9a4a5c8e6c7",
    "deepnote_to_be_reexecuted": false,
    "source_hash": "300d9714",
    "execution_start": 1638373796527,
    "execution_millis": 697,
    "deepnote_cell_type": "code"
   },
   "source": "t1_top_k_latent_features = int(t1_top_k_latent_features)\ntop_k_features = get_top_k_latent_features(t1_alg_result, t1_top_k_latent_features)\n#top_k_features",
   "outputs": [],
   "execution_count": null
  },
  {
   "cell_type": "markdown",
   "source": "## Task 2",
   "metadata": {
    "tags": [],
    "is_collapsed": false,
    "cell_id": "00032-2fc1a75a-25fe-4978-acdd-6f5588d24955",
    "deepnote_cell_type": "text-cell-h2"
   }
  },
  {
   "cell_type": "markdown",
   "source": " Scrivere un programma che, dato un file di gesti, individui i 10 gesti piu’ simili nel database di gesti, \nutilizzado:",
   "metadata": {
    "tags": [],
    "cell_id": "00036-0ef71ff2-9019-4d7d-bb03-cb9af8f7ad80",
    "deepnote_cell_type": "markdown"
   }
  },
  {
   "cell_type": "code",
   "metadata": {
    "tags": [],
    "cell_id": "00035-a1ac6ce4-c459-45b9-9ac7-6b970a7f33b4",
    "deepnote_to_be_reexecuted": false,
    "source_hash": "3c757692",
    "execution_start": 1638373797235,
    "execution_millis": 1080,
    "deepnote_cell_type": "code"
   },
   "source": "# Preparazione data\nt2_data_dp = {'gestures': t1_metrics_data['filename'], 'data': t1_metrics_data['data']}\nt2_data_tksem = {'gestures': t1_metrics_data['filename'], 'data': t1_alg_result['fitted_alg']}\n\nt2_data_ed_dtw = generate_matrix_ed_dtw([path_words_directory + word_file for word_file in words_files])\nt2_data_ed = {'gestures': t1_metrics_data['filename'], 'data': t2_data_ed_dtw['ed']}\nt2_data_dtw = {'gestures': t1_metrics_data['filename'], 'data': t2_data_ed_dtw['dtw']}",
   "outputs": [],
   "execution_count": null
  },
  {
   "cell_type": "code",
   "metadata": {
    "deepnote_variable_name": "t2_input_file_gestures",
    "deepnote_variable_value": "../Dati_2/words/1.wrd",
    "cell_id": "00036-9cb944e1-67a5-4e98-9ffb-874ae8e5be84",
    "deepnote_to_be_reexecuted": false,
    "source_hash": "17d27e49",
    "execution_start": 1638373798323,
    "execution_millis": 6,
    "deepnote_cell_type": "input-text"
   },
   "source": "t2_input_file_gestures = '../Dati_2/words/1.wrd'",
   "outputs": [],
   "execution_count": null
  },
  {
   "cell_type": "code",
   "metadata": {
    "deepnote_variable_name": "t2_input_k_gestures",
    "deepnote_variable_value": "10",
    "cell_id": "00038-81e5c045-6b78-4d9d-a618-c23b0c976f76",
    "deepnote_to_be_reexecuted": false,
    "source_hash": "537c0a7f",
    "execution_start": 1638373798332,
    "execution_millis": 2,
    "deepnote_cell_type": "input-text"
   },
   "source": "t2_input_k_gestures = '10'",
   "outputs": [],
   "execution_count": null
  },
  {
   "cell_type": "code",
   "metadata": {
    "deepnote_variable_name": "t2_input_k_latent_features",
    "deepnote_variable_value": "5",
    "cell_id": "00034-5d6dbea6-0445-480c-9f12-0742690d9443",
    "deepnote_to_be_reexecuted": false,
    "source_hash": "76c7131f",
    "execution_start": 1638373798345,
    "execution_millis": 0,
    "deepnote_cell_type": "input-text"
   },
   "source": "t2_input_k_latent_features = '5'",
   "outputs": [],
   "execution_count": null
  },
  {
   "cell_type": "code",
   "metadata": {
    "deepnote_variable_name": "t2_input_query_type",
    "deepnote_variable_value": "Top-K Semantiche Latenti",
    "deepnote_variable_options": [
     "Dot Product",
     "Top-K Semantiche Latenti",
     "Edit Distance",
     "Distanza DTW"
    ],
    "deepnote_variable_custom_options": [
     "Dot Product",
     "Top-K Semantiche Latenti",
     "Edit Distance",
     "Distanza DTW"
    ],
    "deepnote_variable_selected_variable": "",
    "deepnote_variable_select_type": "from-options",
    "cell_id": "00036-8977fcab-0985-4f26-b5fe-9d5be8d89d8e",
    "deepnote_to_be_reexecuted": false,
    "source_hash": "b7483e5c",
    "execution_start": 1638373798353,
    "execution_millis": 2,
    "deepnote_cell_type": "input-select"
   },
   "source": "t2_input_query_type = 'Top-K Semantiche Latenti'",
   "outputs": [],
   "execution_count": null
  },
  {
   "cell_type": "code",
   "metadata": {
    "tags": [],
    "cell_id": "00040-1c04c788-26a9-4837-9833-724f5bfd006f",
    "deepnote_to_be_reexecuted": false,
    "source_hash": "104194d2",
    "execution_start": 1638373798415,
    "execution_millis": 50,
    "deepnote_output_heights": [
     328.3999938964844
    ],
    "deepnote_cell_type": "code"
   },
   "source": "# X facilità so che già ho calcolato sto file in input e lo prendo dal database\ngesture_name_id = t2_input_file_gestures.split(\"/\")[-1].split(\".\")[0]\n\nquery_type = t2_input_query_type\nfinder_query_settings = {\n    'k_latent_features': int(t2_input_k_latent_features),\n    'k_gestures_return': int(t2_input_k_gestures),\n}\n\ntop_k = None\nif query_type == 'Dot Product':\n    gesture_numpy = t2_data_dp['data'][t2_data_dp['gestures'].index(gesture_name_id)]\n    top_k = find_k_most_similar_dp(t2_data_dp, gesture_numpy, finder_query_settings)\nelif query_type == 'Top-K Semantiche Latenti':\n    gesture_numpy = t2_data_tksem['data'][t2_data_tksem['gestures'].index(gesture_name_id)]\n    # Preparo la query con gli input scelti dall'utente\n    top_k = find_k_most_similar_tksem(t2_data_tksem, gesture_numpy, finder_query_settings)\nelif query_type == 'Edit Distance':\n    gesture_numpy = t2_data_ed['data'][t2_data_ed['gestures'].index(gesture_name_id)]\n    top_k = find_k_most_similar_ed(t2_data_ed, gesture_numpy, finder_query_settings)\nelse:\n    gesture_numpy = t2_data_dtw['data'][t2_data_dtw['gestures'].index(gesture_name_id)]\n    top_k = find_k_most_similar_dtw(t2_data_dtw, gesture_numpy, finder_query_settings)\n\nif top_k is not None:\n    print(\"Top \" + t2_input_k_gestures + \" gestures più simili a '\" + t2_input_file_gestures + \"', usando '\" + query_type + \"':\")\n    print(top_k)",
   "outputs": [
    {
     "name": "stdout",
     "text": "Top 10 gestures più simili a '../Dati_2/words/1.wrd', usando 'Top-K Semantiche Latenti':\n  gesture  similarity\n0       1    1.000000\n1     252    0.967208\n2     256    0.928369\n3     270    0.884849\n4     264    0.879194\n5     258    0.863598\n6       4    0.861303\n7      25    0.845703\n8      16    0.834553\n9       6    0.833944\n",
     "output_type": "stream"
    }
   ],
   "execution_count": null
  },
  {
   "cell_type": "markdown",
   "source": "## Task 3",
   "metadata": {
    "tags": [],
    "is_collapsed": false,
    "cell_id": "00036-0bea7e6c-0dab-4f1a-a70d-13a374b82871",
    "deepnote_cell_type": "text-cell-h2"
   }
  },
  {
   "cell_type": "code",
   "metadata": {
    "deepnote_variable_name": "t3_input_query_type",
    "deepnote_variable_value": "Top-K Semantiche Latenti",
    "deepnote_variable_options": [
     "Dot Product",
     "Top-K Semantiche Latenti",
     "Edit Distance",
     "Distanza DTW"
    ],
    "deepnote_variable_custom_options": [
     "Dot Product",
     "Top-K Semantiche Latenti",
     "Edit Distance",
     "Distanza DTW"
    ],
    "deepnote_variable_selected_variable": "",
    "deepnote_variable_select_type": "from-options",
    "cell_id": "00041-16cc6f82-28dc-47f9-b27f-a607fc8583bf",
    "deepnote_to_be_reexecuted": false,
    "source_hash": "543765de",
    "execution_start": 1638373798459,
    "execution_millis": 0,
    "deepnote_cell_type": "input-select"
   },
   "source": "t3_input_query_type = 'Top-K Semantiche Latenti'",
   "outputs": [],
   "execution_count": null
  },
  {
   "cell_type": "code",
   "metadata": {
    "tags": [],
    "cell_id": "00036-9172fc2d-badc-482c-bde5-659ff0baaa6d",
    "deepnote_to_be_reexecuted": false,
    "source_hash": "2a4d7b43",
    "execution_start": 1638373798460,
    "execution_millis": 424,
    "deepnote_cell_type": "code"
   },
   "source": "query_type = t3_input_query_type\n\n# Creo la matrice di similarità gesture - gesture (in base a come ha scelto l'utente di procedere)\ngesture_sim_matrix = None\nif query_type == 'Dot Product':\n    gesture_sim_matrix = generate_gestures_similarity_matrix_dp(t2_data_dp['data'])\nelif query_type == 'Top-K Semantiche Latenti':\n    gesture_sim_matrix = generate_gestures_similarity_matrix_tksem(t2_data_tksem['data'], int(t2_input_k_latent_features))\nelif query_type == 'Edit Distance':\n    gesture_sim_matrix = generate_gestures_similarity_matrix_ed(t2_data_ed['data'])\nelse:\n    gesture_sim_matrix = generate_gestures_similarity_matrix_dtw(t2_data_dtw['data'])\n# La trasformo in dataframe pandas (così ho anche il nome delle gestures a confronto nelle righe / colonne)\ngestures_sim_matrix_pd = gestures_similarity_matrix_2_pandas(gesture_sim_matrix, t2_data_tksem['gestures'])\nprint(\"Matrice similarità gesture-gesture:\")\ngestures_sim_matrix_pd",
   "outputs": [
    {
     "name": "stdout",
     "text": "Matrice similarità gesture-gesture:\n",
     "output_type": "stream"
    },
    {
     "output_type": "execute_result",
     "execution_count": 31,
     "data": {
      "application/vnd.deepnote.dataframe.v2+json": {
       "row_count": 93,
       "column_count": 93,
       "columns": [
        {
         "name": "1",
         "dtype": "float64",
         "stats": {
          "unique_count": 93,
          "nan_count": 0,
          "min": "0.0",
          "max": "1.0",
          "histogram": [
           {
            "bin_start": 0,
            "bin_end": 0.1,
            "count": 2
           },
           {
            "bin_start": 0.1,
            "bin_end": 0.2,
            "count": 4
           },
           {
            "bin_start": 0.2,
            "bin_end": 0.30000000000000004,
            "count": 7
           },
           {
            "bin_start": 0.30000000000000004,
            "bin_end": 0.4,
            "count": 9
           },
           {
            "bin_start": 0.4,
            "bin_end": 0.5,
            "count": 11
           },
           {
            "bin_start": 0.5,
            "bin_end": 0.6000000000000001,
            "count": 14
           },
           {
            "bin_start": 0.6000000000000001,
            "bin_end": 0.7000000000000001,
            "count": 15
           },
           {
            "bin_start": 0.7000000000000001,
            "bin_end": 0.8,
            "count": 18
           },
           {
            "bin_start": 0.8,
            "bin_end": 0.9,
            "count": 10
           },
           {
            "bin_start": 0.9,
            "bin_end": 1,
            "count": 3
           }
          ]
         }
        },
        {
         "name": "10",
         "dtype": "float64",
         "stats": {
          "unique_count": 93,
          "nan_count": 0,
          "min": "0.0",
          "max": "1.0",
          "histogram": [
           {
            "bin_start": 0,
            "bin_end": 0.1,
            "count": 2
           },
           {
            "bin_start": 0.1,
            "bin_end": 0.2,
            "count": 2
           },
           {
            "bin_start": 0.2,
            "bin_end": 0.30000000000000004,
            "count": 3
           },
           {
            "bin_start": 0.30000000000000004,
            "bin_end": 0.4,
            "count": 9
           },
           {
            "bin_start": 0.4,
            "bin_end": 0.5,
            "count": 13
           },
           {
            "bin_start": 0.5,
            "bin_end": 0.6000000000000001,
            "count": 17
           },
           {
            "bin_start": 0.6000000000000001,
            "bin_end": 0.7000000000000001,
            "count": 12
           },
           {
            "bin_start": 0.7000000000000001,
            "bin_end": 0.8,
            "count": 11
           },
           {
            "bin_start": 0.8,
            "bin_end": 0.9,
            "count": 14
           },
           {
            "bin_start": 0.9,
            "bin_end": 1,
            "count": 10
           }
          ]
         }
        },
        {
         "name": "11",
         "dtype": "float64",
         "stats": {
          "unique_count": 93,
          "nan_count": 0,
          "min": "0.0",
          "max": "1.0",
          "histogram": [
           {
            "bin_start": 0,
            "bin_end": 0.1,
            "count": 4
           },
           {
            "bin_start": 0.1,
            "bin_end": 0.2,
            "count": 13
           },
           {
            "bin_start": 0.2,
            "bin_end": 0.30000000000000004,
            "count": 13
           },
           {
            "bin_start": 0.30000000000000004,
            "bin_end": 0.4,
            "count": 15
           },
           {
            "bin_start": 0.4,
            "bin_end": 0.5,
            "count": 14
           },
           {
            "bin_start": 0.5,
            "bin_end": 0.6000000000000001,
            "count": 12
           },
           {
            "bin_start": 0.6000000000000001,
            "bin_end": 0.7000000000000001,
            "count": 8
           },
           {
            "bin_start": 0.7000000000000001,
            "bin_end": 0.8,
            "count": 5
           },
           {
            "bin_start": 0.8,
            "bin_end": 0.9,
            "count": 6
           },
           {
            "bin_start": 0.9,
            "bin_end": 1,
            "count": 3
           }
          ]
         }
        },
        {
         "name": "12",
         "dtype": "float64",
         "stats": {
          "unique_count": 93,
          "nan_count": 0,
          "min": "0.0",
          "max": "1.0",
          "histogram": [
           {
            "bin_start": 0,
            "bin_end": 0.1,
            "count": 3
           },
           {
            "bin_start": 0.1,
            "bin_end": 0.2,
            "count": 3
           },
           {
            "bin_start": 0.2,
            "bin_end": 0.30000000000000004,
            "count": 11
           },
           {
            "bin_start": 0.30000000000000004,
            "bin_end": 0.4,
            "count": 6
           },
           {
            "bin_start": 0.4,
            "bin_end": 0.5,
            "count": 14
           },
           {
            "bin_start": 0.5,
            "bin_end": 0.6000000000000001,
            "count": 17
           },
           {
            "bin_start": 0.6000000000000001,
            "bin_end": 0.7000000000000001,
            "count": 21
           },
           {
            "bin_start": 0.7000000000000001,
            "bin_end": 0.8,
            "count": 11
           },
           {
            "bin_start": 0.8,
            "bin_end": 0.9,
            "count": 6
           },
           {
            "bin_start": 0.9,
            "bin_end": 1,
            "count": 1
           }
          ]
         }
        },
        {
         "name": "13",
         "dtype": "float64",
         "stats": {
          "unique_count": 93,
          "nan_count": 0,
          "min": "0.0",
          "max": "1.0",
          "histogram": [
           {
            "bin_start": 0,
            "bin_end": 0.1,
            "count": 2
           },
           {
            "bin_start": 0.1,
            "bin_end": 0.2,
            "count": 2
           },
           {
            "bin_start": 0.2,
            "bin_end": 0.30000000000000004,
            "count": 3
           },
           {
            "bin_start": 0.30000000000000004,
            "bin_end": 0.4,
            "count": 8
           },
           {
            "bin_start": 0.4,
            "bin_end": 0.5,
            "count": 14
           },
           {
            "bin_start": 0.5,
            "bin_end": 0.6000000000000001,
            "count": 14
           },
           {
            "bin_start": 0.6000000000000001,
            "bin_end": 0.7000000000000001,
            "count": 13
           },
           {
            "bin_start": 0.7000000000000001,
            "bin_end": 0.8,
            "count": 14
           },
           {
            "bin_start": 0.8,
            "bin_end": 0.9,
            "count": 14
           },
           {
            "bin_start": 0.9,
            "bin_end": 1,
            "count": 9
           }
          ]
         }
        },
        {
         "name": "14",
         "dtype": "float64",
         "stats": {
          "unique_count": 93,
          "nan_count": 0,
          "min": "0.0",
          "max": "1.0",
          "histogram": [
           {
            "bin_start": 0,
            "bin_end": 0.1,
            "count": 2
           },
           {
            "bin_start": 0.1,
            "bin_end": 0.2,
            "count": 2
           },
           {
            "bin_start": 0.2,
            "bin_end": 0.30000000000000004,
            "count": 8
           },
           {
            "bin_start": 0.30000000000000004,
            "bin_end": 0.4,
            "count": 10
           },
           {
            "bin_start": 0.4,
            "bin_end": 0.5,
            "count": 13
           },
           {
            "bin_start": 0.5,
            "bin_end": 0.6000000000000001,
            "count": 15
           },
           {
            "bin_start": 0.6000000000000001,
            "bin_end": 0.7000000000000001,
            "count": 16
           },
           {
            "bin_start": 0.7000000000000001,
            "bin_end": 0.8,
            "count": 14
           },
           {
            "bin_start": 0.8,
            "bin_end": 0.9,
            "count": 8
           },
           {
            "bin_start": 0.9,
            "bin_end": 1,
            "count": 5
           }
          ]
         }
        },
        {
         "name": "15",
         "dtype": "float64",
         "stats": {
          "unique_count": 93,
          "nan_count": 0,
          "min": "0.0",
          "max": "1.0",
          "histogram": [
           {
            "bin_start": 0,
            "bin_end": 0.1,
            "count": 6
           },
           {
            "bin_start": 0.1,
            "bin_end": 0.2,
            "count": 20
           },
           {
            "bin_start": 0.2,
            "bin_end": 0.30000000000000004,
            "count": 15
           },
           {
            "bin_start": 0.30000000000000004,
            "bin_end": 0.4,
            "count": 17
           },
           {
            "bin_start": 0.4,
            "bin_end": 0.5,
            "count": 9
           },
           {
            "bin_start": 0.5,
            "bin_end": 0.6000000000000001,
            "count": 9
           },
           {
            "bin_start": 0.6000000000000001,
            "bin_end": 0.7000000000000001,
            "count": 8
           },
           {
            "bin_start": 0.7000000000000001,
            "bin_end": 0.8,
            "count": 5
           },
           {
            "bin_start": 0.8,
            "bin_end": 0.9,
            "count": 2
           },
           {
            "bin_start": 0.9,
            "bin_end": 1,
            "count": 2
           }
          ]
         }
        },
        {
         "name": "16",
         "dtype": "float64",
         "stats": {
          "unique_count": 93,
          "nan_count": 0,
          "min": "0.0",
          "max": "1.0",
          "histogram": [
           {
            "bin_start": 0,
            "bin_end": 0.1,
            "count": 3
           },
           {
            "bin_start": 0.1,
            "bin_end": 0.2,
            "count": 5
           },
           {
            "bin_start": 0.2,
            "bin_end": 0.30000000000000004,
            "count": 9
           },
           {
            "bin_start": 0.30000000000000004,
            "bin_end": 0.4,
            "count": 11
           },
           {
            "bin_start": 0.4,
            "bin_end": 0.5,
            "count": 10
           },
           {
            "bin_start": 0.5,
            "bin_end": 0.6000000000000001,
            "count": 19
           },
           {
            "bin_start": 0.6000000000000001,
            "bin_end": 0.7000000000000001,
            "count": 7
           },
           {
            "bin_start": 0.7000000000000001,
            "bin_end": 0.8,
            "count": 14
           },
           {
            "bin_start": 0.8,
            "bin_end": 0.9,
            "count": 11
           },
           {
            "bin_start": 0.9,
            "bin_end": 1,
            "count": 4
           }
          ]
         }
        },
        {
         "name": "17",
         "dtype": "float64",
         "stats": {
          "unique_count": 93,
          "nan_count": 0,
          "min": "0.0",
          "max": "1.0",
          "histogram": [
           {
            "bin_start": 0,
            "bin_end": 0.1,
            "count": 4
           },
           {
            "bin_start": 0.1,
            "bin_end": 0.2,
            "count": 3
           },
           {
            "bin_start": 0.2,
            "bin_end": 0.30000000000000004,
            "count": 12
           },
           {
            "bin_start": 0.30000000000000004,
            "bin_end": 0.4,
            "count": 16
           },
           {
            "bin_start": 0.4,
            "bin_end": 0.5,
            "count": 11
           },
           {
            "bin_start": 0.5,
            "bin_end": 0.6000000000000001,
            "count": 18
           },
           {
            "bin_start": 0.6000000000000001,
            "bin_end": 0.7000000000000001,
            "count": 15
           },
           {
            "bin_start": 0.7000000000000001,
            "bin_end": 0.8,
            "count": 6
           },
           {
            "bin_start": 0.8,
            "bin_end": 0.9,
            "count": 5
           },
           {
            "bin_start": 0.9,
            "bin_end": 1,
            "count": 3
           }
          ]
         }
        },
        {
         "name": "18",
         "dtype": "float64",
         "stats": {
          "unique_count": 93,
          "nan_count": 0,
          "min": "0.0",
          "max": "1.0",
          "histogram": [
           {
            "bin_start": 0,
            "bin_end": 0.1,
            "count": 2
           },
           {
            "bin_start": 0.1,
            "bin_end": 0.2,
            "count": 1
           },
           {
            "bin_start": 0.2,
            "bin_end": 0.30000000000000004,
            "count": 6
           },
           {
            "bin_start": 0.30000000000000004,
            "bin_end": 0.4,
            "count": 5
           },
           {
            "bin_start": 0.4,
            "bin_end": 0.5,
            "count": 8
           },
           {
            "bin_start": 0.5,
            "bin_end": 0.6000000000000001,
            "count": 16
           },
           {
            "bin_start": 0.6000000000000001,
            "bin_end": 0.7000000000000001,
            "count": 18
           },
           {
            "bin_start": 0.7000000000000001,
            "bin_end": 0.8,
            "count": 21
           },
           {
            "bin_start": 0.8,
            "bin_end": 0.9,
            "count": 13
           },
           {
            "bin_start": 0.9,
            "bin_end": 1,
            "count": 3
           }
          ]
         }
        },
        {
         "name": "19",
         "dtype": "float64",
         "stats": {
          "unique_count": 93,
          "nan_count": 0,
          "min": "0.0",
          "max": "1.0",
          "histogram": [
           {
            "bin_start": 0,
            "bin_end": 0.1,
            "count": 3
           },
           {
            "bin_start": 0.1,
            "bin_end": 0.2,
            "count": 8
           },
           {
            "bin_start": 0.2,
            "bin_end": 0.30000000000000004,
            "count": 16
           },
           {
            "bin_start": 0.30000000000000004,
            "bin_end": 0.4,
            "count": 12
           },
           {
            "bin_start": 0.4,
            "bin_end": 0.5,
            "count": 7
           },
           {
            "bin_start": 0.5,
            "bin_end": 0.6000000000000001,
            "count": 12
           },
           {
            "bin_start": 0.6000000000000001,
            "bin_end": 0.7000000000000001,
            "count": 13
           },
           {
            "bin_start": 0.7000000000000001,
            "bin_end": 0.8,
            "count": 17
           },
           {
            "bin_start": 0.8,
            "bin_end": 0.9,
            "count": 4
           },
           {
            "bin_start": 0.9,
            "bin_end": 1,
            "count": 1
           }
          ]
         }
        },
        {
         "name": "2",
         "dtype": "float64",
         "stats": {
          "unique_count": 93,
          "nan_count": 0,
          "min": "0.0",
          "max": "1.0",
          "histogram": [
           {
            "bin_start": 0,
            "bin_end": 0.1,
            "count": 2
           },
           {
            "bin_start": 0.1,
            "bin_end": 0.2,
            "count": 5
           },
           {
            "bin_start": 0.2,
            "bin_end": 0.30000000000000004,
            "count": 11
           },
           {
            "bin_start": 0.30000000000000004,
            "bin_end": 0.4,
            "count": 7
           },
           {
            "bin_start": 0.4,
            "bin_end": 0.5,
            "count": 13
           },
           {
            "bin_start": 0.5,
            "bin_end": 0.6000000000000001,
            "count": 18
           },
           {
            "bin_start": 0.6000000000000001,
            "bin_end": 0.7000000000000001,
            "count": 18
           },
           {
            "bin_start": 0.7000000000000001,
            "bin_end": 0.8,
            "count": 13
           },
           {
            "bin_start": 0.8,
            "bin_end": 0.9,
            "count": 4
           },
           {
            "bin_start": 0.9,
            "bin_end": 1,
            "count": 2
           }
          ]
         }
        },
        {
         "name": "20",
         "dtype": "float64",
         "stats": {
          "unique_count": 93,
          "nan_count": 0,
          "min": "0.0",
          "max": "1.0",
          "histogram": [
           {
            "bin_start": 0,
            "bin_end": 0.1,
            "count": 4
           },
           {
            "bin_start": 0.1,
            "bin_end": 0.2,
            "count": 15
           },
           {
            "bin_start": 0.2,
            "bin_end": 0.30000000000000004,
            "count": 9
           },
           {
            "bin_start": 0.30000000000000004,
            "bin_end": 0.4,
            "count": 15
           },
           {
            "bin_start": 0.4,
            "bin_end": 0.5,
            "count": 14
           },
           {
            "bin_start": 0.5,
            "bin_end": 0.6000000000000001,
            "count": 10
           },
           {
            "bin_start": 0.6000000000000001,
            "bin_end": 0.7000000000000001,
            "count": 11
           },
           {
            "bin_start": 0.7000000000000001,
            "bin_end": 0.8,
            "count": 5
           },
           {
            "bin_start": 0.8,
            "bin_end": 0.9,
            "count": 8
           },
           {
            "bin_start": 0.9,
            "bin_end": 1,
            "count": 2
           }
          ]
         }
        },
        {
         "name": "21",
         "dtype": "float64",
         "stats": {
          "unique_count": 93,
          "nan_count": 0,
          "min": "0.0",
          "max": "1.0",
          "histogram": [
           {
            "bin_start": 0,
            "bin_end": 0.1,
            "count": 3
           },
           {
            "bin_start": 0.1,
            "bin_end": 0.2,
            "count": 3
           },
           {
            "bin_start": 0.2,
            "bin_end": 0.30000000000000004,
            "count": 5
           },
           {
            "bin_start": 0.30000000000000004,
            "bin_end": 0.4,
            "count": 12
           },
           {
            "bin_start": 0.4,
            "bin_end": 0.5,
            "count": 14
           },
           {
            "bin_start": 0.5,
            "bin_end": 0.6000000000000001,
            "count": 13
           },
           {
            "bin_start": 0.6000000000000001,
            "bin_end": 0.7000000000000001,
            "count": 14
           },
           {
            "bin_start": 0.7000000000000001,
            "bin_end": 0.8,
            "count": 12
           },
           {
            "bin_start": 0.8,
            "bin_end": 0.9,
            "count": 10
           },
           {
            "bin_start": 0.9,
            "bin_end": 1,
            "count": 7
           }
          ]
         }
        },
        {
         "name": "22",
         "dtype": "float64",
         "stats": {
          "unique_count": 93,
          "nan_count": 0,
          "min": "0.0",
          "max": "1.0",
          "histogram": [
           {
            "bin_start": 0,
            "bin_end": 0.1,
            "count": 3
           },
           {
            "bin_start": 0.1,
            "bin_end": 0.2,
            "count": 12
           },
           {
            "bin_start": 0.2,
            "bin_end": 0.30000000000000004,
            "count": 11
           },
           {
            "bin_start": 0.30000000000000004,
            "bin_end": 0.4,
            "count": 15
           },
           {
            "bin_start": 0.4,
            "bin_end": 0.5,
            "count": 11
           },
           {
            "bin_start": 0.5,
            "bin_end": 0.6000000000000001,
            "count": 13
           },
           {
            "bin_start": 0.6000000000000001,
            "bin_end": 0.7000000000000001,
            "count": 12
           },
           {
            "bin_start": 0.7000000000000001,
            "bin_end": 0.8,
            "count": 8
           },
           {
            "bin_start": 0.8,
            "bin_end": 0.9,
            "count": 5
           },
           {
            "bin_start": 0.9,
            "bin_end": 1,
            "count": 3
           }
          ]
         }
        },
        {
         "name": "23",
         "dtype": "float64",
         "stats": {
          "unique_count": 93,
          "nan_count": 0,
          "min": "0.0",
          "max": "1.0",
          "histogram": [
           {
            "bin_start": 0,
            "bin_end": 0.1,
            "count": 6
           },
           {
            "bin_start": 0.1,
            "bin_end": 0.2,
            "count": 16
           },
           {
            "bin_start": 0.2,
            "bin_end": 0.30000000000000004,
            "count": 18
           },
           {
            "bin_start": 0.30000000000000004,
            "bin_end": 0.4,
            "count": 16
           },
           {
            "bin_start": 0.4,
            "bin_end": 0.5,
            "count": 9
           },
           {
            "bin_start": 0.5,
            "bin_end": 0.6000000000000001,
            "count": 12
           },
           {
            "bin_start": 0.6000000000000001,
            "bin_end": 0.7000000000000001,
            "count": 6
           },
           {
            "bin_start": 0.7000000000000001,
            "bin_end": 0.8,
            "count": 4
           },
           {
            "bin_start": 0.8,
            "bin_end": 0.9,
            "count": 4
           },
           {
            "bin_start": 0.9,
            "bin_end": 1,
            "count": 2
           }
          ]
         }
        },
        {
         "name": "24",
         "dtype": "float64",
         "stats": {
          "unique_count": 93,
          "nan_count": 0,
          "min": "0.0",
          "max": "1.0",
          "histogram": [
           {
            "bin_start": 0,
            "bin_end": 0.1,
            "count": 4
           },
           {
            "bin_start": 0.1,
            "bin_end": 0.2,
            "count": 10
           },
           {
            "bin_start": 0.2,
            "bin_end": 0.30000000000000004,
            "count": 17
           },
           {
            "bin_start": 0.30000000000000004,
            "bin_end": 0.4,
            "count": 15
           },
           {
            "bin_start": 0.4,
            "bin_end": 0.5,
            "count": 19
           },
           {
            "bin_start": 0.5,
            "bin_end": 0.6000000000000001,
            "count": 8
           },
           {
            "bin_start": 0.6000000000000001,
            "bin_end": 0.7000000000000001,
            "count": 8
           },
           {
            "bin_start": 0.7000000000000001,
            "bin_end": 0.8,
            "count": 5
           },
           {
            "bin_start": 0.8,
            "bin_end": 0.9,
            "count": 5
           },
           {
            "bin_start": 0.9,
            "bin_end": 1,
            "count": 2
           }
          ]
         }
        },
        {
         "name": "249",
         "dtype": "float64",
         "stats": {
          "unique_count": 89,
          "nan_count": 0,
          "min": "0.0",
          "max": "1.0",
          "histogram": [
           {
            "bin_start": 0,
            "bin_end": 0.1,
            "count": 12
           },
           {
            "bin_start": 0.1,
            "bin_end": 0.2,
            "count": 9
           },
           {
            "bin_start": 0.2,
            "bin_end": 0.30000000000000004,
            "count": 13
           },
           {
            "bin_start": 0.30000000000000004,
            "bin_end": 0.4,
            "count": 25
           },
           {
            "bin_start": 0.4,
            "bin_end": 0.5,
            "count": 19
           },
           {
            "bin_start": 0.5,
            "bin_end": 0.6000000000000001,
            "count": 7
           },
           {
            "bin_start": 0.6000000000000001,
            "bin_end": 0.7000000000000001,
            "count": 5
           },
           {
            "bin_start": 0.7000000000000001,
            "bin_end": 0.8,
            "count": 2
           },
           {
            "bin_start": 0.8,
            "bin_end": 0.9,
            "count": 0
           },
           {
            "bin_start": 0.9,
            "bin_end": 1,
            "count": 1
           }
          ]
         }
        },
        {
         "name": "25",
         "dtype": "float64",
         "stats": {
          "unique_count": 93,
          "nan_count": 0,
          "min": "0.07957126926163116",
          "max": "1.0",
          "histogram": [
           {
            "bin_start": 0.07957126926163116,
            "bin_end": 0.17161414233546804,
            "count": 1
           },
           {
            "bin_start": 0.17161414233546804,
            "bin_end": 0.2636570154093049,
            "count": 3
           },
           {
            "bin_start": 0.2636570154093049,
            "bin_end": 0.3556998884831418,
            "count": 3
           },
           {
            "bin_start": 0.3556998884831418,
            "bin_end": 0.4477427615569787,
            "count": 14
           },
           {
            "bin_start": 0.4477427615569787,
            "bin_end": 0.5397856346308155,
            "count": 13
           },
           {
            "bin_start": 0.5397856346308155,
            "bin_end": 0.6318285077046525,
            "count": 12
           },
           {
            "bin_start": 0.6318285077046525,
            "bin_end": 0.7238713807784893,
            "count": 12
           },
           {
            "bin_start": 0.7238713807784893,
            "bin_end": 0.8159142538523262,
            "count": 17
           },
           {
            "bin_start": 0.8159142538523262,
            "bin_end": 0.907957126926163,
            "count": 9
           },
           {
            "bin_start": 0.907957126926163,
            "bin_end": 1,
            "count": 9
           }
          ]
         }
        },
        {
         "name": "250",
         "dtype": "float64",
         "stats": {
          "unique_count": 93,
          "nan_count": 0,
          "min": "0.0",
          "max": "1.0",
          "histogram": [
           {
            "bin_start": 0,
            "bin_end": 0.1,
            "count": 5
           },
           {
            "bin_start": 0.1,
            "bin_end": 0.2,
            "count": 3
           },
           {
            "bin_start": 0.2,
            "bin_end": 0.30000000000000004,
            "count": 7
           },
           {
            "bin_start": 0.30000000000000004,
            "bin_end": 0.4,
            "count": 16
           },
           {
            "bin_start": 0.4,
            "bin_end": 0.5,
            "count": 16
           },
           {
            "bin_start": 0.5,
            "bin_end": 0.6000000000000001,
            "count": 19
           },
           {
            "bin_start": 0.6000000000000001,
            "bin_end": 0.7000000000000001,
            "count": 14
           },
           {
            "bin_start": 0.7000000000000001,
            "bin_end": 0.8,
            "count": 8
           },
           {
            "bin_start": 0.8,
            "bin_end": 0.9,
            "count": 1
           },
           {
            "bin_start": 0.9,
            "bin_end": 1,
            "count": 4
           }
          ]
         }
        },
        {
         "name": "251",
         "dtype": "float64",
         "stats": {
          "unique_count": 93,
          "nan_count": 0,
          "min": "0.0",
          "max": "1.0",
          "histogram": [
           {
            "bin_start": 0,
            "bin_end": 0.1,
            "count": 5
           },
           {
            "bin_start": 0.1,
            "bin_end": 0.2,
            "count": 4
           },
           {
            "bin_start": 0.2,
            "bin_end": 0.30000000000000004,
            "count": 6
           },
           {
            "bin_start": 0.30000000000000004,
            "bin_end": 0.4,
            "count": 11
           },
           {
            "bin_start": 0.4,
            "bin_end": 0.5,
            "count": 12
           },
           {
            "bin_start": 0.5,
            "bin_end": 0.6000000000000001,
            "count": 24
           },
           {
            "bin_start": 0.6000000000000001,
            "bin_end": 0.7000000000000001,
            "count": 17
           },
           {
            "bin_start": 0.7000000000000001,
            "bin_end": 0.8,
            "count": 9
           },
           {
            "bin_start": 0.8,
            "bin_end": 0.9,
            "count": 2
           },
           {
            "bin_start": 0.9,
            "bin_end": 1,
            "count": 3
           }
          ]
         }
        },
        {
         "name": "252",
         "dtype": "float64",
         "stats": {
          "unique_count": 93,
          "nan_count": 0,
          "min": "0.0882493827279851",
          "max": "1.0",
          "histogram": [
           {
            "bin_start": 0.0882493827279851,
            "bin_end": 0.1794244444551866,
            "count": 1
           },
           {
            "bin_start": 0.1794244444551866,
            "bin_end": 0.2705995061823881,
            "count": 5
           },
           {
            "bin_start": 0.2705995061823881,
            "bin_end": 0.3617745679095896,
            "count": 7
           },
           {
            "bin_start": 0.3617745679095896,
            "bin_end": 0.4529496296367911,
            "count": 9
           },
           {
            "bin_start": 0.4529496296367911,
            "bin_end": 0.5441246913639926,
            "count": 17
           },
           {
            "bin_start": 0.5441246913639926,
            "bin_end": 0.6352997530911941,
            "count": 14
           },
           {
            "bin_start": 0.6352997530911941,
            "bin_end": 0.7264748148183956,
            "count": 10
           },
           {
            "bin_start": 0.7264748148183956,
            "bin_end": 0.8176498765455971,
            "count": 18
           },
           {
            "bin_start": 0.8176498765455971,
            "bin_end": 0.9088249382727985,
            "count": 9
           },
           {
            "bin_start": 0.9088249382727985,
            "bin_end": 1,
            "count": 3
           }
          ]
         }
        },
        {
         "name": "253",
         "dtype": "float64",
         "stats": {
          "unique_count": 93,
          "nan_count": 0,
          "min": "0.15932373157117918",
          "max": "1.0",
          "histogram": [
           {
            "bin_start": 0.15932373157117918,
            "bin_end": 0.24339135841406126,
            "count": 4
           },
           {
            "bin_start": 0.24339135841406126,
            "bin_end": 0.32745898525694334,
            "count": 9
           },
           {
            "bin_start": 0.32745898525694334,
            "bin_end": 0.41152661209982544,
            "count": 9
           },
           {
            "bin_start": 0.41152661209982544,
            "bin_end": 0.4955942389427075,
            "count": 12
           },
           {
            "bin_start": 0.4955942389427075,
            "bin_end": 0.5796618657855895,
            "count": 8
           },
           {
            "bin_start": 0.5796618657855895,
            "bin_end": 0.6637294926284717,
            "count": 13
           },
           {
            "bin_start": 0.6637294926284717,
            "bin_end": 0.7477971194713537,
            "count": 13
           },
           {
            "bin_start": 0.7477971194713537,
            "bin_end": 0.8318647463142358,
            "count": 15
           },
           {
            "bin_start": 0.8318647463142358,
            "bin_end": 0.9159323731571178,
            "count": 5
           },
           {
            "bin_start": 0.9159323731571178,
            "bin_end": 1,
            "count": 5
           }
          ]
         }
        },
        {
         "name": "254",
         "dtype": "float64",
         "stats": {
          "unique_count": 93,
          "nan_count": 0,
          "min": "0.181521356770169",
          "max": "1.0",
          "histogram": [
           {
            "bin_start": 0.181521356770169,
            "bin_end": 0.2633692210931521,
            "count": 6
           },
           {
            "bin_start": 0.2633692210931521,
            "bin_end": 0.3452170854161352,
            "count": 12
           },
           {
            "bin_start": 0.3452170854161352,
            "bin_end": 0.42706494973911835,
            "count": 9
           },
           {
            "bin_start": 0.42706494973911835,
            "bin_end": 0.5089128140621014,
            "count": 7
           },
           {
            "bin_start": 0.5089128140621014,
            "bin_end": 0.5907606783850845,
            "count": 10
           },
           {
            "bin_start": 0.5907606783850845,
            "bin_end": 0.6726085427080677,
            "count": 9
           },
           {
            "bin_start": 0.6726085427080677,
            "bin_end": 0.7544564070310508,
            "count": 15
           },
           {
            "bin_start": 0.7544564070310508,
            "bin_end": 0.8363042713540338,
            "count": 10
           },
           {
            "bin_start": 0.8363042713540338,
            "bin_end": 0.9181521356770169,
            "count": 9
           },
           {
            "bin_start": 0.9181521356770169,
            "bin_end": 1,
            "count": 6
           }
          ]
         }
        },
        {
         "name": "255",
         "dtype": "float64",
         "stats": {
          "unique_count": 93,
          "nan_count": 0,
          "min": "0.1678630100393419",
          "max": "1.0",
          "histogram": [
           {
            "bin_start": 0.1678630100393419,
            "bin_end": 0.2510767090354077,
            "count": 5
           },
           {
            "bin_start": 0.2510767090354077,
            "bin_end": 0.33429040803147353,
            "count": 13
           },
           {
            "bin_start": 0.33429040803147353,
            "bin_end": 0.4175041070275394,
            "count": 8
           },
           {
            "bin_start": 0.4175041070275394,
            "bin_end": 0.5007178060236052,
            "count": 10
           },
           {
            "bin_start": 0.5007178060236052,
            "bin_end": 0.583931505019671,
            "count": 9
           },
           {
            "bin_start": 0.583931505019671,
            "bin_end": 0.6671452040157368,
            "count": 14
           },
           {
            "bin_start": 0.6671452040157368,
            "bin_end": 0.7503589030118026,
            "count": 12
           },
           {
            "bin_start": 0.7503589030118026,
            "bin_end": 0.8335726020078684,
            "count": 10
           },
           {
            "bin_start": 0.8335726020078684,
            "bin_end": 0.9167863010039342,
            "count": 8
           },
           {
            "bin_start": 0.9167863010039342,
            "bin_end": 1,
            "count": 4
           }
          ]
         }
        },
        {
         "name": "256",
         "dtype": "float64",
         "stats": {
          "unique_count": 93,
          "nan_count": 0,
          "min": "0.13560537388977167",
          "max": "1.0",
          "histogram": [
           {
            "bin_start": 0.13560537388977167,
            "bin_end": 0.2220448365007945,
            "count": 3
           },
           {
            "bin_start": 0.2220448365007945,
            "bin_end": 0.30848429911181735,
            "count": 3
           },
           {
            "bin_start": 0.30848429911181735,
            "bin_end": 0.39492376172284016,
            "count": 8
           },
           {
            "bin_start": 0.39492376172284016,
            "bin_end": 0.481363224333863,
            "count": 12
           },
           {
            "bin_start": 0.481363224333863,
            "bin_end": 0.5678026869448859,
            "count": 15
           },
           {
            "bin_start": 0.5678026869448859,
            "bin_end": 0.6542421495559086,
            "count": 8
           },
           {
            "bin_start": 0.6542421495559086,
            "bin_end": 0.7406816121669315,
            "count": 14
           },
           {
            "bin_start": 0.7406816121669315,
            "bin_end": 0.8271210747779544,
            "count": 13
           },
           {
            "bin_start": 0.8271210747779544,
            "bin_end": 0.9135605373889772,
            "count": 12
           },
           {
            "bin_start": 0.9135605373889772,
            "bin_end": 1,
            "count": 5
           }
          ]
         }
        },
        {
         "name": "257",
         "dtype": "float64",
         "stats": {
          "unique_count": 93,
          "nan_count": 0,
          "min": "0.0",
          "max": "1.0",
          "histogram": [
           {
            "bin_start": 0,
            "bin_end": 0.1,
            "count": 5
           },
           {
            "bin_start": 0.1,
            "bin_end": 0.2,
            "count": 11
           },
           {
            "bin_start": 0.2,
            "bin_end": 0.30000000000000004,
            "count": 14
           },
           {
            "bin_start": 0.30000000000000004,
            "bin_end": 0.4,
            "count": 8
           },
           {
            "bin_start": 0.4,
            "bin_end": 0.5,
            "count": 22
           },
           {
            "bin_start": 0.5,
            "bin_end": 0.6000000000000001,
            "count": 18
           },
           {
            "bin_start": 0.6000000000000001,
            "bin_end": 0.7000000000000001,
            "count": 10
           },
           {
            "bin_start": 0.7000000000000001,
            "bin_end": 0.8,
            "count": 4
           },
           {
            "bin_start": 0.8,
            "bin_end": 0.9,
            "count": 0
           },
           {
            "bin_start": 0.9,
            "bin_end": 1,
            "count": 1
           }
          ]
         }
        },
        {
         "name": "258",
         "dtype": "float64",
         "stats": {
          "unique_count": 93,
          "nan_count": 0,
          "min": "0.08852458633156046",
          "max": "1.0",
          "histogram": [
           {
            "bin_start": 0.08852458633156046,
            "bin_end": 0.1796721276984044,
            "count": 1
           },
           {
            "bin_start": 0.1796721276984044,
            "bin_end": 0.27081966906524835,
            "count": 2
           },
           {
            "bin_start": 0.27081966906524835,
            "bin_end": 0.36196721043209235,
            "count": 3
           },
           {
            "bin_start": 0.36196721043209235,
            "bin_end": 0.4531147517989363,
            "count": 15
           },
           {
            "bin_start": 0.4531147517989363,
            "bin_end": 0.5442622931657802,
            "count": 13
           },
           {
            "bin_start": 0.5442622931657802,
            "bin_end": 0.6354098345326242,
            "count": 16
           },
           {
            "bin_start": 0.6354098345326242,
            "bin_end": 0.7265573758994681,
            "count": 9
           },
           {
            "bin_start": 0.7265573758994681,
            "bin_end": 0.8177049172663121,
            "count": 16
           },
           {
            "bin_start": 0.8177049172663121,
            "bin_end": 0.9088524586331561,
            "count": 10
           },
           {
            "bin_start": 0.9088524586331561,
            "bin_end": 1,
            "count": 8
           }
          ]
         }
        },
        {
         "name": "259",
         "dtype": "float64",
         "stats": {
          "unique_count": 93,
          "nan_count": 0,
          "min": "0.0",
          "max": "1.0",
          "histogram": [
           {
            "bin_start": 0,
            "bin_end": 0.1,
            "count": 2
           },
           {
            "bin_start": 0.1,
            "bin_end": 0.2,
            "count": 2
           },
           {
            "bin_start": 0.2,
            "bin_end": 0.30000000000000004,
            "count": 4
           },
           {
            "bin_start": 0.30000000000000004,
            "bin_end": 0.4,
            "count": 11
           },
           {
            "bin_start": 0.4,
            "bin_end": 0.5,
            "count": 9
           },
           {
            "bin_start": 0.5,
            "bin_end": 0.6000000000000001,
            "count": 17
           },
           {
            "bin_start": 0.6000000000000001,
            "bin_end": 0.7000000000000001,
            "count": 17
           },
           {
            "bin_start": 0.7000000000000001,
            "bin_end": 0.8,
            "count": 18
           },
           {
            "bin_start": 0.8,
            "bin_end": 0.9,
            "count": 9
           },
           {
            "bin_start": 0.9,
            "bin_end": 1,
            "count": 4
           }
          ]
         }
        },
        {
         "name": "26",
         "dtype": "float64",
         "stats": {
          "unique_count": 93,
          "nan_count": 0,
          "min": "0.0",
          "max": "1.0",
          "histogram": [
           {
            "bin_start": 0,
            "bin_end": 0.1,
            "count": 4
           },
           {
            "bin_start": 0.1,
            "bin_end": 0.2,
            "count": 8
           },
           {
            "bin_start": 0.2,
            "bin_end": 0.30000000000000004,
            "count": 13
           },
           {
            "bin_start": 0.30000000000000004,
            "bin_end": 0.4,
            "count": 13
           },
           {
            "bin_start": 0.4,
            "bin_end": 0.5,
            "count": 21
           },
           {
            "bin_start": 0.5,
            "bin_end": 0.6000000000000001,
            "count": 9
           },
           {
            "bin_start": 0.6000000000000001,
            "bin_end": 0.7000000000000001,
            "count": 11
           },
           {
            "bin_start": 0.7000000000000001,
            "bin_end": 0.8,
            "count": 4
           },
           {
            "bin_start": 0.8,
            "bin_end": 0.9,
            "count": 8
           },
           {
            "bin_start": 0.9,
            "bin_end": 1,
            "count": 2
           }
          ]
         }
        },
        {
         "name": "260",
         "dtype": "float64",
         "stats": {
          "unique_count": 93,
          "nan_count": 0,
          "min": "0.12169626105153819",
          "max": "1.0",
          "histogram": [
           {
            "bin_start": 0.12169626105153819,
            "bin_end": 0.20952663494638438,
            "count": 1
           },
           {
            "bin_start": 0.20952663494638438,
            "bin_end": 0.29735700884123056,
            "count": 5
           },
           {
            "bin_start": 0.29735700884123056,
            "bin_end": 0.3851873827360768,
            "count": 13
           },
           {
            "bin_start": 0.3851873827360768,
            "bin_end": 0.47301775663092294,
            "count": 7
           },
           {
            "bin_start": 0.47301775663092294,
            "bin_end": 0.5608481305257691,
            "count": 8
           },
           {
            "bin_start": 0.5608481305257691,
            "bin_end": 0.6486785044206154,
            "count": 13
           },
           {
            "bin_start": 0.6486785044206154,
            "bin_end": 0.7365088783154615,
            "count": 13
           },
           {
            "bin_start": 0.7365088783154615,
            "bin_end": 0.8243392522103077,
            "count": 16
           },
           {
            "bin_start": 0.8243392522103077,
            "bin_end": 0.9121696261051538,
            "count": 14
           },
           {
            "bin_start": 0.9121696261051538,
            "bin_end": 1,
            "count": 3
           }
          ]
         }
        },
        {
         "name": "261",
         "dtype": "float64",
         "stats": {
          "unique_count": 93,
          "nan_count": 0,
          "min": "0.0",
          "max": "1.0",
          "histogram": [
           {
            "bin_start": 0,
            "bin_end": 0.1,
            "count": 5
           },
           {
            "bin_start": 0.1,
            "bin_end": 0.2,
            "count": 3
           },
           {
            "bin_start": 0.2,
            "bin_end": 0.30000000000000004,
            "count": 7
           },
           {
            "bin_start": 0.30000000000000004,
            "bin_end": 0.4,
            "count": 12
           },
           {
            "bin_start": 0.4,
            "bin_end": 0.5,
            "count": 13
           },
           {
            "bin_start": 0.5,
            "bin_end": 0.6000000000000001,
            "count": 22
           },
           {
            "bin_start": 0.6000000000000001,
            "bin_end": 0.7000000000000001,
            "count": 17
           },
           {
            "bin_start": 0.7000000000000001,
            "bin_end": 0.8,
            "count": 8
           },
           {
            "bin_start": 0.8,
            "bin_end": 0.9,
            "count": 2
           },
           {
            "bin_start": 0.9,
            "bin_end": 1,
            "count": 4
           }
          ]
         }
        },
        {
         "name": "262",
         "dtype": "float64",
         "stats": {
          "unique_count": 93,
          "nan_count": 0,
          "min": "0.02832216997670789",
          "max": "1.0",
          "histogram": [
           {
            "bin_start": 0.02832216997670789,
            "bin_end": 0.1254899529790371,
            "count": 12
           },
           {
            "bin_start": 0.1254899529790371,
            "bin_end": 0.22265773598136632,
            "count": 9
           },
           {
            "bin_start": 0.22265773598136632,
            "bin_end": 0.31982551898369554,
            "count": 6
           },
           {
            "bin_start": 0.31982551898369554,
            "bin_end": 0.41699330198602474,
            "count": 14
           },
           {
            "bin_start": 0.41699330198602474,
            "bin_end": 0.514161084988354,
            "count": 16
           },
           {
            "bin_start": 0.514161084988354,
            "bin_end": 0.6113288679906832,
            "count": 14
           },
           {
            "bin_start": 0.6113288679906832,
            "bin_end": 0.7084966509930124,
            "count": 6
           },
           {
            "bin_start": 0.7084966509930124,
            "bin_end": 0.8056644339953416,
            "count": 7
           },
           {
            "bin_start": 0.8056644339953416,
            "bin_end": 0.9028322169976708,
            "count": 8
           },
           {
            "bin_start": 0.9028322169976708,
            "bin_end": 1,
            "count": 1
           }
          ]
         }
        },
        {
         "name": "263",
         "dtype": "float64",
         "stats": {
          "unique_count": 93,
          "nan_count": 0,
          "min": "0.06352211436671207",
          "max": "1.0",
          "histogram": [
           {
            "bin_start": 0.06352211436671207,
            "bin_end": 0.15716990293004085,
            "count": 13
           },
           {
            "bin_start": 0.15716990293004085,
            "bin_end": 0.25081769149336963,
            "count": 4
           },
           {
            "bin_start": 0.25081769149336963,
            "bin_end": 0.34446548005669847,
            "count": 10
           },
           {
            "bin_start": 0.34446548005669847,
            "bin_end": 0.43811326862002725,
            "count": 6
           },
           {
            "bin_start": 0.43811326862002725,
            "bin_end": 0.531761057183356,
            "count": 22
           },
           {
            "bin_start": 0.531761057183356,
            "bin_end": 0.6254088457466849,
            "count": 12
           },
           {
            "bin_start": 0.6254088457466849,
            "bin_end": 0.7190566343100137,
            "count": 8
           },
           {
            "bin_start": 0.7190566343100137,
            "bin_end": 0.8127044228733424,
            "count": 5
           },
           {
            "bin_start": 0.8127044228733424,
            "bin_end": 0.9063522114366712,
            "count": 7
           },
           {
            "bin_start": 0.9063522114366712,
            "bin_end": 1,
            "count": 6
           }
          ]
         }
        },
        {
         "name": "264",
         "dtype": "float64",
         "stats": {
          "unique_count": 93,
          "nan_count": 0,
          "min": "0.1368219638730367",
          "max": "1.0",
          "histogram": [
           {
            "bin_start": 0.1368219638730367,
            "bin_end": 0.22313976748573303,
            "count": 2
           },
           {
            "bin_start": 0.22313976748573303,
            "bin_end": 0.30945757109842936,
            "count": 3
           },
           {
            "bin_start": 0.30945757109842936,
            "bin_end": 0.39577537471112567,
            "count": 8
           },
           {
            "bin_start": 0.39577537471112567,
            "bin_end": 0.48209317832382204,
            "count": 10
           },
           {
            "bin_start": 0.48209317832382204,
            "bin_end": 0.5684109819365184,
            "count": 14
           },
           {
            "bin_start": 0.5684109819365184,
            "bin_end": 0.6547287855492147,
            "count": 9
           },
           {
            "bin_start": 0.6547287855492147,
            "bin_end": 0.741046589161911,
            "count": 15
           },
           {
            "bin_start": 0.741046589161911,
            "bin_end": 0.8273643927746074,
            "count": 13
           },
           {
            "bin_start": 0.8273643927746074,
            "bin_end": 0.9136821963873037,
            "count": 14
           },
           {
            "bin_start": 0.9136821963873037,
            "bin_end": 1,
            "count": 5
           }
          ]
         }
        },
        {
         "name": "265",
         "dtype": "float64",
         "stats": {
          "unique_count": 93,
          "nan_count": 0,
          "min": "0.061214919177796756",
          "max": "1.0",
          "histogram": [
           {
            "bin_start": 0.061214919177796756,
            "bin_end": 0.15509342726001707,
            "count": 13
           },
           {
            "bin_start": 0.15509342726001707,
            "bin_end": 0.2489719353422374,
            "count": 3
           },
           {
            "bin_start": 0.2489719353422374,
            "bin_end": 0.34285044342445775,
            "count": 10
           },
           {
            "bin_start": 0.34285044342445775,
            "bin_end": 0.43672895150667806,
            "count": 7
           },
           {
            "bin_start": 0.43672895150667806,
            "bin_end": 0.5306074595888983,
            "count": 21
           },
           {
            "bin_start": 0.5306074595888983,
            "bin_end": 0.6244859676711187,
            "count": 14
           },
           {
            "bin_start": 0.6244859676711187,
            "bin_end": 0.7183644757533391,
            "count": 7
           },
           {
            "bin_start": 0.7183644757533391,
            "bin_end": 0.8122429838355594,
            "count": 6
           },
           {
            "bin_start": 0.8122429838355594,
            "bin_end": 0.9061214919177797,
            "count": 6
           },
           {
            "bin_start": 0.9061214919177797,
            "bin_end": 1,
            "count": 6
           }
          ]
         }
        },
        {
         "name": "266",
         "dtype": "float64",
         "stats": {
          "unique_count": 93,
          "nan_count": 0,
          "min": "0.1775809580517278",
          "max": "1.0",
          "histogram": [
           {
            "bin_start": 0.1775809580517278,
            "bin_end": 0.25982286224655504,
            "count": 11
           },
           {
            "bin_start": 0.25982286224655504,
            "bin_end": 0.34206476644138223,
            "count": 8
           },
           {
            "bin_start": 0.34206476644138223,
            "bin_end": 0.4243066706362094,
            "count": 7
           },
           {
            "bin_start": 0.4243066706362094,
            "bin_end": 0.5065485748310367,
            "count": 10
           },
           {
            "bin_start": 0.5065485748310367,
            "bin_end": 0.5887904790258639,
            "count": 9
           },
           {
            "bin_start": 0.5887904790258639,
            "bin_end": 0.671032383220691,
            "count": 13
           },
           {
            "bin_start": 0.671032383220691,
            "bin_end": 0.7532742874155183,
            "count": 13
           },
           {
            "bin_start": 0.7532742874155183,
            "bin_end": 0.8355161916103455,
            "count": 7
           },
           {
            "bin_start": 0.8355161916103455,
            "bin_end": 0.9177580958051728,
            "count": 7
           },
           {
            "bin_start": 0.9177580958051728,
            "bin_end": 1,
            "count": 8
           }
          ]
         }
        },
        {
         "name": "267",
         "dtype": "float64",
         "stats": {
          "unique_count": 93,
          "nan_count": 0,
          "min": "0.0362509488807381",
          "max": "1.0",
          "histogram": [
           {
            "bin_start": 0.0362509488807381,
            "bin_end": 0.1326258539926643,
            "count": 1
           },
           {
            "bin_start": 0.1326258539926643,
            "bin_end": 0.22900075910459047,
            "count": 1
           },
           {
            "bin_start": 0.22900075910459047,
            "bin_end": 0.32537566421651665,
            "count": 2
           },
           {
            "bin_start": 0.32537566421651665,
            "bin_end": 0.42175056932844285,
            "count": 9
           },
           {
            "bin_start": 0.42175056932844285,
            "bin_end": 0.518125474440369,
            "count": 13
           },
           {
            "bin_start": 0.518125474440369,
            "bin_end": 0.6145003795522952,
            "count": 13
           },
           {
            "bin_start": 0.6145003795522952,
            "bin_end": 0.7108752846642215,
            "count": 17
           },
           {
            "bin_start": 0.7108752846642215,
            "bin_end": 0.8072501897761476,
            "count": 16
           },
           {
            "bin_start": 0.8072501897761476,
            "bin_end": 0.9036250948880737,
            "count": 13
           },
           {
            "bin_start": 0.9036250948880737,
            "bin_end": 1,
            "count": 8
           }
          ]
         }
        },
        {
         "name": "268",
         "dtype": "float64",
         "stats": {
          "unique_count": 93,
          "nan_count": 0,
          "min": "0.0",
          "max": "1.0",
          "histogram": [
           {
            "bin_start": 0,
            "bin_end": 0.1,
            "count": 1
           },
           {
            "bin_start": 0.1,
            "bin_end": 0.2,
            "count": 1
           },
           {
            "bin_start": 0.2,
            "bin_end": 0.30000000000000004,
            "count": 1
           },
           {
            "bin_start": 0.30000000000000004,
            "bin_end": 0.4,
            "count": 8
           },
           {
            "bin_start": 0.4,
            "bin_end": 0.5,
            "count": 10
           },
           {
            "bin_start": 0.5,
            "bin_end": 0.6000000000000001,
            "count": 17
           },
           {
            "bin_start": 0.6000000000000001,
            "bin_end": 0.7000000000000001,
            "count": 14
           },
           {
            "bin_start": 0.7000000000000001,
            "bin_end": 0.8,
            "count": 17
           },
           {
            "bin_start": 0.8,
            "bin_end": 0.9,
            "count": 14
           },
           {
            "bin_start": 0.9,
            "bin_end": 1,
            "count": 10
           }
          ]
         }
        },
        {
         "name": "269",
         "dtype": "float64",
         "stats": {
          "unique_count": 93,
          "nan_count": 0,
          "min": "0.0",
          "max": "1.0",
          "histogram": [
           {
            "bin_start": 0,
            "bin_end": 0.1,
            "count": 2
           },
           {
            "bin_start": 0.1,
            "bin_end": 0.2,
            "count": 0
           },
           {
            "bin_start": 0.2,
            "bin_end": 0.30000000000000004,
            "count": 2
           },
           {
            "bin_start": 0.30000000000000004,
            "bin_end": 0.4,
            "count": 6
           },
           {
            "bin_start": 0.4,
            "bin_end": 0.5,
            "count": 14
           },
           {
            "bin_start": 0.5,
            "bin_end": 0.6000000000000001,
            "count": 17
           },
           {
            "bin_start": 0.6000000000000001,
            "bin_end": 0.7000000000000001,
            "count": 19
           },
           {
            "bin_start": 0.7000000000000001,
            "bin_end": 0.8,
            "count": 10
           },
           {
            "bin_start": 0.8,
            "bin_end": 0.9,
            "count": 16
           },
           {
            "bin_start": 0.9,
            "bin_end": 1,
            "count": 7
           }
          ]
         }
        },
        {
         "name": "27",
         "dtype": "float64",
         "stats": {
          "unique_count": 93,
          "nan_count": 0,
          "min": "0.0",
          "max": "1.0",
          "histogram": [
           {
            "bin_start": 0,
            "bin_end": 0.1,
            "count": 2
           },
           {
            "bin_start": 0.1,
            "bin_end": 0.2,
            "count": 0
           },
           {
            "bin_start": 0.2,
            "bin_end": 0.30000000000000004,
            "count": 2
           },
           {
            "bin_start": 0.30000000000000004,
            "bin_end": 0.4,
            "count": 3
           },
           {
            "bin_start": 0.4,
            "bin_end": 0.5,
            "count": 10
           },
           {
            "bin_start": 0.5,
            "bin_end": 0.6000000000000001,
            "count": 20
           },
           {
            "bin_start": 0.6000000000000001,
            "bin_end": 0.7000000000000001,
            "count": 23
           },
           {
            "bin_start": 0.7000000000000001,
            "bin_end": 0.8,
            "count": 14
           },
           {
            "bin_start": 0.8,
            "bin_end": 0.9,
            "count": 16
           },
           {
            "bin_start": 0.9,
            "bin_end": 1,
            "count": 3
           }
          ]
         }
        },
        {
         "name": "270",
         "dtype": "float64",
         "stats": {
          "unique_count": 93,
          "nan_count": 0,
          "min": "0.0",
          "max": "1.0",
          "histogram": [
           {
            "bin_start": 0,
            "bin_end": 0.1,
            "count": 1
           },
           {
            "bin_start": 0.1,
            "bin_end": 0.2,
            "count": 3
           },
           {
            "bin_start": 0.2,
            "bin_end": 0.30000000000000004,
            "count": 11
           },
           {
            "bin_start": 0.30000000000000004,
            "bin_end": 0.4,
            "count": 6
           },
           {
            "bin_start": 0.4,
            "bin_end": 0.5,
            "count": 12
           },
           {
            "bin_start": 0.5,
            "bin_end": 0.6000000000000001,
            "count": 13
           },
           {
            "bin_start": 0.6000000000000001,
            "bin_end": 0.7000000000000001,
            "count": 15
           },
           {
            "bin_start": 0.7000000000000001,
            "bin_end": 0.8,
            "count": 22
           },
           {
            "bin_start": 0.8,
            "bin_end": 0.9,
            "count": 9
           },
           {
            "bin_start": 0.9,
            "bin_end": 1,
            "count": 1
           }
          ]
         }
        },
        {
         "name": "271",
         "dtype": "float64",
         "stats": {
          "unique_count": 93,
          "nan_count": 0,
          "min": "0.09407401831304096",
          "max": "1.0",
          "histogram": [
           {
            "bin_start": 0.09407401831304096,
            "bin_end": 0.18466661648173688,
            "count": 1
           },
           {
            "bin_start": 0.18466661648173688,
            "bin_end": 0.2752592146504328,
            "count": 5
           },
           {
            "bin_start": 0.2752592146504328,
            "bin_end": 0.36585181281912865,
            "count": 12
           },
           {
            "bin_start": 0.36585181281912865,
            "bin_end": 0.45644441098782457,
            "count": 8
           },
           {
            "bin_start": 0.45644441098782457,
            "bin_end": 0.5470370091565204,
            "count": 10
           },
           {
            "bin_start": 0.5470370091565204,
            "bin_end": 0.6376296073252163,
            "count": 10
           },
           {
            "bin_start": 0.6376296073252163,
            "bin_end": 0.7282222054939123,
            "count": 14
           },
           {
            "bin_start": 0.7282222054939123,
            "bin_end": 0.8188148036626082,
            "count": 17
           },
           {
            "bin_start": 0.8188148036626082,
            "bin_end": 0.9094074018313041,
            "count": 14
           },
           {
            "bin_start": 0.9094074018313041,
            "bin_end": 1,
            "count": 2
           }
          ]
         }
        },
        {
         "name": "272",
         "dtype": "float64",
         "stats": {
          "unique_count": 93,
          "nan_count": 0,
          "min": "0.1972788892596018",
          "max": "1.0",
          "histogram": [
           {
            "bin_start": 0.1972788892596018,
            "bin_end": 0.2775510003336416,
            "count": 5
           },
           {
            "bin_start": 0.2775510003336416,
            "bin_end": 0.3578231114076814,
            "count": 13
           },
           {
            "bin_start": 0.3578231114076814,
            "bin_end": 0.4380952224817213,
            "count": 9
           },
           {
            "bin_start": 0.4380952224817213,
            "bin_end": 0.518367333555761,
            "count": 8
           },
           {
            "bin_start": 0.518367333555761,
            "bin_end": 0.5986394446298009,
            "count": 10
           },
           {
            "bin_start": 0.5986394446298009,
            "bin_end": 0.6789115557038408,
            "count": 11
           },
           {
            "bin_start": 0.6789115557038408,
            "bin_end": 0.7591836667778805,
            "count": 10
           },
           {
            "bin_start": 0.7591836667778805,
            "bin_end": 0.8394557778519204,
            "count": 14
           },
           {
            "bin_start": 0.8394557778519204,
            "bin_end": 0.9197278889259602,
            "count": 8
           },
           {
            "bin_start": 0.9197278889259602,
            "bin_end": 1,
            "count": 5
           }
          ]
         }
        },
        {
         "name": "273",
         "dtype": "float64",
         "stats": {
          "unique_count": 82,
          "nan_count": 0,
          "min": "0.0",
          "max": "1.0",
          "histogram": [
           {
            "bin_start": 0,
            "bin_end": 0.1,
            "count": 14
           },
           {
            "bin_start": 0.1,
            "bin_end": 0.2,
            "count": 4
           },
           {
            "bin_start": 0.2,
            "bin_end": 0.30000000000000004,
            "count": 9
           },
           {
            "bin_start": 0.30000000000000004,
            "bin_end": 0.4,
            "count": 10
           },
           {
            "bin_start": 0.4,
            "bin_end": 0.5,
            "count": 22
           },
           {
            "bin_start": 0.5,
            "bin_end": 0.6000000000000001,
            "count": 11
           },
           {
            "bin_start": 0.6000000000000001,
            "bin_end": 0.7000000000000001,
            "count": 9
           },
           {
            "bin_start": 0.7000000000000001,
            "bin_end": 0.8,
            "count": 5
           },
           {
            "bin_start": 0.8,
            "bin_end": 0.9,
            "count": 5
           },
           {
            "bin_start": 0.9,
            "bin_end": 1,
            "count": 4
           }
          ]
         }
        },
        {
         "name": "274",
         "dtype": "float64",
         "stats": {
          "unique_count": 93,
          "nan_count": 0,
          "min": "0.1298589420188886",
          "max": "1.0",
          "histogram": [
           {
            "bin_start": 0.1298589420188886,
            "bin_end": 0.21687304781699973,
            "count": 13
           },
           {
            "bin_start": 0.21687304781699973,
            "bin_end": 0.30388715361511087,
            "count": 4
           },
           {
            "bin_start": 0.30388715361511087,
            "bin_end": 0.390901259413222,
            "count": 11
           },
           {
            "bin_start": 0.390901259413222,
            "bin_end": 0.47791536521133315,
            "count": 9
           },
           {
            "bin_start": 0.47791536521133315,
            "bin_end": 0.5649294710094444,
            "count": 13
           },
           {
            "bin_start": 0.5649294710094444,
            "bin_end": 0.6519435768075554,
            "count": 14
           },
           {
            "bin_start": 0.6519435768075554,
            "bin_end": 0.7389576826056666,
            "count": 11
           },
           {
            "bin_start": 0.7389576826056666,
            "bin_end": 0.8259717884037777,
            "count": 3
           },
           {
            "bin_start": 0.8259717884037777,
            "bin_end": 0.9129858942018888,
            "count": 7
           },
           {
            "bin_start": 0.9129858942018888,
            "bin_end": 1,
            "count": 8
           }
          ]
         }
        },
        {
         "name": "275",
         "dtype": "float64",
         "stats": {
          "unique_count": 93,
          "nan_count": 0,
          "min": "0.20422298525749538",
          "max": "1.0",
          "histogram": [
           {
            "bin_start": 0.20422298525749538,
            "bin_end": 0.28380068673174585,
            "count": 6
           },
           {
            "bin_start": 0.28380068673174585,
            "bin_end": 0.3633783882059963,
            "count": 14
           },
           {
            "bin_start": 0.3633783882059963,
            "bin_end": 0.44295608968024675,
            "count": 8
           },
           {
            "bin_start": 0.44295608968024675,
            "bin_end": 0.5225337911544972,
            "count": 8
           },
           {
            "bin_start": 0.5225337911544972,
            "bin_end": 0.6021114926287476,
            "count": 10
           },
           {
            "bin_start": 0.6021114926287476,
            "bin_end": 0.6816891941029981,
            "count": 10
           },
           {
            "bin_start": 0.6816891941029981,
            "bin_end": 0.7612668955772486,
            "count": 9
           },
           {
            "bin_start": 0.7612668955772486,
            "bin_end": 0.840844597051499,
            "count": 15
           },
           {
            "bin_start": 0.840844597051499,
            "bin_end": 0.9204222985257495,
            "count": 7
           },
           {
            "bin_start": 0.9204222985257495,
            "bin_end": 1,
            "count": 6
           }
          ]
         }
        },
        {
         "name": "276",
         "dtype": "float64",
         "stats": {
          "unique_count": 93,
          "nan_count": 0,
          "min": "0.14147801854118658",
          "max": "1.0",
          "histogram": [
           {
            "bin_start": 0.14147801854118658,
            "bin_end": 0.22733021668706793,
            "count": 12
           },
           {
            "bin_start": 0.22733021668706793,
            "bin_end": 0.3131824148329493,
            "count": 5
           },
           {
            "bin_start": 0.3131824148329493,
            "bin_end": 0.3990346129788306,
            "count": 9
           },
           {
            "bin_start": 0.3990346129788306,
            "bin_end": 0.48488681112471194,
            "count": 11
           },
           {
            "bin_start": 0.48488681112471194,
            "bin_end": 0.5707390092705933,
            "count": 12
           },
           {
            "bin_start": 0.5707390092705933,
            "bin_end": 0.6565912074164746,
            "count": 14
           },
           {
            "bin_start": 0.6565912074164746,
            "bin_end": 0.742443405562356,
            "count": 11
           },
           {
            "bin_start": 0.742443405562356,
            "bin_end": 0.8282956037082373,
            "count": 4
           },
           {
            "bin_start": 0.8282956037082373,
            "bin_end": 0.9141478018541186,
            "count": 9
           },
           {
            "bin_start": 0.9141478018541186,
            "bin_end": 1,
            "count": 6
           }
          ]
         }
        },
        {
         "name": "277",
         "dtype": "float64",
         "stats": {
          "unique_count": 93,
          "nan_count": 0,
          "min": "0.09765841388594976",
          "max": "1.0",
          "histogram": [
           {
            "bin_start": 0.09765841388594976,
            "bin_end": 0.18789257249735478,
            "count": 13
           },
           {
            "bin_start": 0.18789257249735478,
            "bin_end": 0.2781267311087598,
            "count": 4
           },
           {
            "bin_start": 0.2781267311087598,
            "bin_end": 0.3683608897201648,
            "count": 10
           },
           {
            "bin_start": 0.3683608897201648,
            "bin_end": 0.45859504833156983,
            "count": 9
           },
           {
            "bin_start": 0.45859504833156983,
            "bin_end": 0.5488292069429749,
            "count": 17
           },
           {
            "bin_start": 0.5488292069429749,
            "bin_end": 0.6390633655543798,
            "count": 16
           },
           {
            "bin_start": 0.6390633655543798,
            "bin_end": 0.7292975241657849,
            "count": 6
           },
           {
            "bin_start": 0.7292975241657849,
            "bin_end": 0.8195316827771899,
            "count": 5
           },
           {
            "bin_start": 0.8195316827771899,
            "bin_end": 0.909765841388595,
            "count": 6
           },
           {
            "bin_start": 0.909765841388595,
            "bin_end": 1,
            "count": 7
           }
          ]
         }
        },
        {
         "name": "278",
         "dtype": "float64",
         "stats": {
          "unique_count": 93,
          "nan_count": 0,
          "min": "0.05025217764837242",
          "max": "1.0",
          "histogram": [
           {
            "bin_start": 0.05025217764837242,
            "bin_end": 0.14522695988353518,
            "count": 1
           },
           {
            "bin_start": 0.14522695988353518,
            "bin_end": 0.24020174211869794,
            "count": 1
           },
           {
            "bin_start": 0.24020174211869794,
            "bin_end": 0.3351765243538607,
            "count": 1
           },
           {
            "bin_start": 0.3351765243538607,
            "bin_end": 0.43015130658902345,
            "count": 12
           },
           {
            "bin_start": 0.43015130658902345,
            "bin_end": 0.5251260888241862,
            "count": 10
           },
           {
            "bin_start": 0.5251260888241862,
            "bin_end": 0.620100871059349,
            "count": 14
           },
           {
            "bin_start": 0.620100871059349,
            "bin_end": 0.7150756532945117,
            "count": 14
           },
           {
            "bin_start": 0.7150756532945117,
            "bin_end": 0.8100504355296745,
            "count": 19
           },
           {
            "bin_start": 0.8100504355296745,
            "bin_end": 0.9050252177648372,
            "count": 11
           },
           {
            "bin_start": 0.9050252177648372,
            "bin_end": 1,
            "count": 10
           }
          ]
         }
        },
        {
         "name": "279",
         "dtype": "float64",
         "stats": {
          "unique_count": 93,
          "nan_count": 0,
          "min": "0.13402980062105296",
          "max": "1.0",
          "histogram": [
           {
            "bin_start": 0.13402980062105296,
            "bin_end": 0.22062682055894767,
            "count": 14
           },
           {
            "bin_start": 0.22062682055894767,
            "bin_end": 0.30722384049684237,
            "count": 2
           },
           {
            "bin_start": 0.30722384049684237,
            "bin_end": 0.3938208604347371,
            "count": 9
           },
           {
            "bin_start": 0.3938208604347371,
            "bin_end": 0.4804178803726318,
            "count": 12
           },
           {
            "bin_start": 0.4804178803726318,
            "bin_end": 0.5670149003105265,
            "count": 10
           },
           {
            "bin_start": 0.5670149003105265,
            "bin_end": 0.6536119202484212,
            "count": 14
           },
           {
            "bin_start": 0.6536119202484212,
            "bin_end": 0.7402089401863159,
            "count": 12
           },
           {
            "bin_start": 0.7402089401863159,
            "bin_end": 0.8268059601242106,
            "count": 5
           },
           {
            "bin_start": 0.8268059601242106,
            "bin_end": 0.9134029800621053,
            "count": 9
           },
           {
            "bin_start": 0.9134029800621053,
            "bin_end": 1,
            "count": 6
           }
          ]
         }
        },
        {
         "name": "28",
         "dtype": "float64",
         "stats": {
          "unique_count": 93,
          "nan_count": 0,
          "min": "0.0",
          "max": "1.0",
          "histogram": [
           {
            "bin_start": 0,
            "bin_end": 0.1,
            "count": 2
           },
           {
            "bin_start": 0.1,
            "bin_end": 0.2,
            "count": 4
           },
           {
            "bin_start": 0.2,
            "bin_end": 0.30000000000000004,
            "count": 10
           },
           {
            "bin_start": 0.30000000000000004,
            "bin_end": 0.4,
            "count": 3
           },
           {
            "bin_start": 0.4,
            "bin_end": 0.5,
            "count": 12
           },
           {
            "bin_start": 0.5,
            "bin_end": 0.6000000000000001,
            "count": 20
           },
           {
            "bin_start": 0.6000000000000001,
            "bin_end": 0.7000000000000001,
            "count": 24
           },
           {
            "bin_start": 0.7000000000000001,
            "bin_end": 0.8,
            "count": 11
           },
           {
            "bin_start": 0.8,
            "bin_end": 0.9,
            "count": 4
           },
           {
            "bin_start": 0.9,
            "bin_end": 1,
            "count": 3
           }
          ]
         }
        },
        {
         "name": "29",
         "dtype": "float64",
         "stats": {
          "unique_count": 93,
          "nan_count": 0,
          "min": "0.021422505784245094",
          "max": "1.0",
          "histogram": [
           {
            "bin_start": 0.021422505784245094,
            "bin_end": 0.11928025520582058,
            "count": 1
           },
           {
            "bin_start": 0.11928025520582058,
            "bin_end": 0.21713800462739608,
            "count": 1
           },
           {
            "bin_start": 0.21713800462739608,
            "bin_end": 0.31499575404897157,
            "count": 1
           },
           {
            "bin_start": 0.31499575404897157,
            "bin_end": 0.41285350347054706,
            "count": 8
           },
           {
            "bin_start": 0.41285350347054706,
            "bin_end": 0.5107112528921225,
            "count": 12
           },
           {
            "bin_start": 0.5107112528921225,
            "bin_end": 0.608569002313698,
            "count": 14
           },
           {
            "bin_start": 0.608569002313698,
            "bin_end": 0.7064267517352735,
            "count": 15
           },
           {
            "bin_start": 0.7064267517352735,
            "bin_end": 0.804284501156849,
            "count": 20
           },
           {
            "bin_start": 0.804284501156849,
            "bin_end": 0.9021422505784246,
            "count": 11
           },
           {
            "bin_start": 0.9021422505784246,
            "bin_end": 1,
            "count": 10
           }
          ]
         }
        },
        {
         "name": "3",
         "dtype": "float64",
         "stats": {
          "unique_count": 93,
          "nan_count": 0,
          "min": "0.0",
          "max": "1.0",
          "histogram": [
           {
            "bin_start": 0,
            "bin_end": 0.1,
            "count": 1
           },
           {
            "bin_start": 0.1,
            "bin_end": 0.2,
            "count": 8
           },
           {
            "bin_start": 0.2,
            "bin_end": 0.30000000000000004,
            "count": 10
           },
           {
            "bin_start": 0.30000000000000004,
            "bin_end": 0.4,
            "count": 10
           },
           {
            "bin_start": 0.4,
            "bin_end": 0.5,
            "count": 12
           },
           {
            "bin_start": 0.5,
            "bin_end": 0.6000000000000001,
            "count": 18
           },
           {
            "bin_start": 0.6000000000000001,
            "bin_end": 0.7000000000000001,
            "count": 7
           },
           {
            "bin_start": 0.7000000000000001,
            "bin_end": 0.8,
            "count": 13
           },
           {
            "bin_start": 0.8,
            "bin_end": 0.9,
            "count": 10
           },
           {
            "bin_start": 0.9,
            "bin_end": 1,
            "count": 4
           }
          ]
         }
        },
        {
         "name": "30",
         "dtype": "float64",
         "stats": {
          "unique_count": 93,
          "nan_count": 0,
          "min": "0.14778627360472507",
          "max": "1.0",
          "histogram": [
           {
            "bin_start": 0.14778627360472507,
            "bin_end": 0.23300764624425258,
            "count": 13
           },
           {
            "bin_start": 0.23300764624425258,
            "bin_end": 0.3182290188837801,
            "count": 4
           },
           {
            "bin_start": 0.3182290188837801,
            "bin_end": 0.4034503915233075,
            "count": 9
           },
           {
            "bin_start": 0.4034503915233075,
            "bin_end": 0.48867176416283503,
            "count": 12
           },
           {
            "bin_start": 0.48867176416283503,
            "bin_end": 0.5738931368023625,
            "count": 9
           },
           {
            "bin_start": 0.5738931368023625,
            "bin_end": 0.65911450944189,
            "count": 14
           },
           {
            "bin_start": 0.65911450944189,
            "bin_end": 0.7443358820814175,
            "count": 12
           },
           {
            "bin_start": 0.7443358820814175,
            "bin_end": 0.829557254720945,
            "count": 5
           },
           {
            "bin_start": 0.829557254720945,
            "bin_end": 0.9147786273604724,
            "count": 9
           },
           {
            "bin_start": 0.9147786273604724,
            "bin_end": 1,
            "count": 6
           }
          ]
         }
        },
        {
         "name": "31",
         "dtype": "float64",
         "stats": {
          "unique_count": 93,
          "nan_count": 0,
          "min": "0.0",
          "max": "1.0",
          "histogram": [
           {
            "bin_start": 0,
            "bin_end": 0.1,
            "count": 2
           },
           {
            "bin_start": 0.1,
            "bin_end": 0.2,
            "count": 6
           },
           {
            "bin_start": 0.2,
            "bin_end": 0.30000000000000004,
            "count": 5
           },
           {
            "bin_start": 0.30000000000000004,
            "bin_end": 0.4,
            "count": 11
           },
           {
            "bin_start": 0.4,
            "bin_end": 0.5,
            "count": 18
           },
           {
            "bin_start": 0.5,
            "bin_end": 0.6000000000000001,
            "count": 21
           },
           {
            "bin_start": 0.6000000000000001,
            "bin_end": 0.7000000000000001,
            "count": 12
           },
           {
            "bin_start": 0.7000000000000001,
            "bin_end": 0.8,
            "count": 9
           },
           {
            "bin_start": 0.8,
            "bin_end": 0.9,
            "count": 7
           },
           {
            "bin_start": 0.9,
            "bin_end": 1,
            "count": 2
           }
          ]
         }
        },
        {
         "name": "4",
         "dtype": "float64",
         "stats": {
          "unique_count": 93,
          "nan_count": 0,
          "min": "0.06712496694270764",
          "max": "1.0",
          "histogram": [
           {
            "bin_start": 0.06712496694270764,
            "bin_end": 0.16041247024843688,
            "count": 2
           },
           {
            "bin_start": 0.16041247024843688,
            "bin_end": 0.2536999735541661,
            "count": 4
           },
           {
            "bin_start": 0.2536999735541661,
            "bin_end": 0.3469874768598954,
            "count": 4
           },
           {
            "bin_start": 0.3469874768598954,
            "bin_end": 0.4402749801656246,
            "count": 9
           },
           {
            "bin_start": 0.4402749801656246,
            "bin_end": 0.5335624834713538,
            "count": 7
           },
           {
            "bin_start": 0.5335624834713538,
            "bin_end": 0.6268499867770831,
            "count": 15
           },
           {
            "bin_start": 0.6268499867770831,
            "bin_end": 0.7201374900828124,
            "count": 17
           },
           {
            "bin_start": 0.7201374900828124,
            "bin_end": 0.8134249933885416,
            "count": 14
           },
           {
            "bin_start": 0.8134249933885416,
            "bin_end": 0.9067124966942708,
            "count": 18
           },
           {
            "bin_start": 0.9067124966942708,
            "bin_end": 1,
            "count": 3
           }
          ]
         }
        },
        {
         "name": "5",
         "dtype": "float64",
         "stats": {
          "unique_count": 93,
          "nan_count": 0,
          "min": "0.0",
          "max": "1.0",
          "histogram": [
           {
            "bin_start": 0,
            "bin_end": 0.1,
            "count": 1
           },
           {
            "bin_start": 0.1,
            "bin_end": 0.2,
            "count": 1
           },
           {
            "bin_start": 0.2,
            "bin_end": 0.30000000000000004,
            "count": 1
           },
           {
            "bin_start": 0.30000000000000004,
            "bin_end": 0.4,
            "count": 5
           },
           {
            "bin_start": 0.4,
            "bin_end": 0.5,
            "count": 13
           },
           {
            "bin_start": 0.5,
            "bin_end": 0.6000000000000001,
            "count": 13
           },
           {
            "bin_start": 0.6000000000000001,
            "bin_end": 0.7000000000000001,
            "count": 20
           },
           {
            "bin_start": 0.7000000000000001,
            "bin_end": 0.8,
            "count": 15
           },
           {
            "bin_start": 0.8,
            "bin_end": 0.9,
            "count": 15
           },
           {
            "bin_start": 0.9,
            "bin_end": 1,
            "count": 9
           }
          ]
         }
        },
        {
         "name": "559",
         "dtype": "float64",
         "stats": {
          "unique_count": 93,
          "nan_count": 0,
          "min": "0.0",
          "max": "1.0",
          "histogram": [
           {
            "bin_start": 0,
            "bin_end": 0.1,
            "count": 13
           },
           {
            "bin_start": 0.1,
            "bin_end": 0.2,
            "count": 19
           },
           {
            "bin_start": 0.2,
            "bin_end": 0.30000000000000004,
            "count": 14
           },
           {
            "bin_start": 0.30000000000000004,
            "bin_end": 0.4,
            "count": 18
           },
           {
            "bin_start": 0.4,
            "bin_end": 0.5,
            "count": 17
           },
           {
            "bin_start": 0.5,
            "bin_end": 0.6000000000000001,
            "count": 5
           },
           {
            "bin_start": 0.6000000000000001,
            "bin_end": 0.7000000000000001,
            "count": 5
           },
           {
            "bin_start": 0.7000000000000001,
            "bin_end": 0.8,
            "count": 1
           },
           {
            "bin_start": 0.8,
            "bin_end": 0.9,
            "count": 0
           },
           {
            "bin_start": 0.9,
            "bin_end": 1,
            "count": 1
           }
          ]
         }
        },
        {
         "name": "560",
         "dtype": "float64",
         "stats": {
          "unique_count": 93,
          "nan_count": 0,
          "min": "0.0",
          "max": "1.0",
          "histogram": [
           {
            "bin_start": 0,
            "bin_end": 0.1,
            "count": 3
           },
           {
            "bin_start": 0.1,
            "bin_end": 0.2,
            "count": 7
           },
           {
            "bin_start": 0.2,
            "bin_end": 0.30000000000000004,
            "count": 11
           },
           {
            "bin_start": 0.30000000000000004,
            "bin_end": 0.4,
            "count": 29
           },
           {
            "bin_start": 0.4,
            "bin_end": 0.5,
            "count": 19
           },
           {
            "bin_start": 0.5,
            "bin_end": 0.6000000000000001,
            "count": 7
           },
           {
            "bin_start": 0.6000000000000001,
            "bin_end": 0.7000000000000001,
            "count": 5
           },
           {
            "bin_start": 0.7000000000000001,
            "bin_end": 0.8,
            "count": 8
           },
           {
            "bin_start": 0.8,
            "bin_end": 0.9,
            "count": 3
           },
           {
            "bin_start": 0.9,
            "bin_end": 1,
            "count": 1
           }
          ]
         }
        },
        {
         "name": "561",
         "dtype": "float64",
         "stats": {
          "unique_count": 84,
          "nan_count": 0,
          "min": "0.0",
          "max": "1.0",
          "histogram": [
           {
            "bin_start": 0,
            "bin_end": 0.1,
            "count": 22
           },
           {
            "bin_start": 0.1,
            "bin_end": 0.2,
            "count": 22
           },
           {
            "bin_start": 0.2,
            "bin_end": 0.30000000000000004,
            "count": 23
           },
           {
            "bin_start": 0.30000000000000004,
            "bin_end": 0.4,
            "count": 6
           },
           {
            "bin_start": 0.4,
            "bin_end": 0.5,
            "count": 12
           },
           {
            "bin_start": 0.5,
            "bin_end": 0.6000000000000001,
            "count": 3
           },
           {
            "bin_start": 0.6000000000000001,
            "bin_end": 0.7000000000000001,
            "count": 2
           },
           {
            "bin_start": 0.7000000000000001,
            "bin_end": 0.8,
            "count": 2
           },
           {
            "bin_start": 0.8,
            "bin_end": 0.9,
            "count": 0
           },
           {
            "bin_start": 0.9,
            "bin_end": 1,
            "count": 1
           }
          ]
         }
        },
        {
         "name": "562",
         "dtype": "float64",
         "stats": {
          "unique_count": 93,
          "nan_count": 0,
          "min": "0.17354445692037623",
          "max": "1.0",
          "histogram": [
           {
            "bin_start": 0.17354445692037623,
            "bin_end": 0.2561900112283386,
            "count": 10
           },
           {
            "bin_start": 0.2561900112283386,
            "bin_end": 0.338835565536301,
            "count": 7
           },
           {
            "bin_start": 0.338835565536301,
            "bin_end": 0.42148111984426334,
            "count": 7
           },
           {
            "bin_start": 0.42148111984426334,
            "bin_end": 0.5041266741522257,
            "count": 15
           },
           {
            "bin_start": 0.5041266741522257,
            "bin_end": 0.5867722284601882,
            "count": 14
           },
           {
            "bin_start": 0.5867722284601882,
            "bin_end": 0.6694177827681504,
            "count": 8
           },
           {
            "bin_start": 0.6694177827681504,
            "bin_end": 0.7520633370761128,
            "count": 6
           },
           {
            "bin_start": 0.7520633370761128,
            "bin_end": 0.8347088913840752,
            "count": 12
           },
           {
            "bin_start": 0.8347088913840752,
            "bin_end": 0.9173544456920376,
            "count": 9
           },
           {
            "bin_start": 0.9173544456920376,
            "bin_end": 1,
            "count": 5
           }
          ]
         }
        },
        {
         "name": "563",
         "dtype": "float64",
         "stats": {
          "unique_count": 93,
          "nan_count": 0,
          "min": "0.15676940017494745",
          "max": "1.0",
          "histogram": [
           {
            "bin_start": 0.15676940017494745,
            "bin_end": 0.2410924601574527,
            "count": 6
           },
           {
            "bin_start": 0.2410924601574527,
            "bin_end": 0.32541552013995795,
            "count": 16
           },
           {
            "bin_start": 0.32541552013995795,
            "bin_end": 0.4097385801224632,
            "count": 19
           },
           {
            "bin_start": 0.4097385801224632,
            "bin_end": 0.49406164010496845,
            "count": 11
           },
           {
            "bin_start": 0.49406164010496845,
            "bin_end": 0.5783847000874737,
            "count": 7
           },
           {
            "bin_start": 0.5783847000874737,
            "bin_end": 0.662707760069979,
            "count": 7
           },
           {
            "bin_start": 0.662707760069979,
            "bin_end": 0.7470308200524842,
            "count": 10
           },
           {
            "bin_start": 0.7470308200524842,
            "bin_end": 0.8313538800349894,
            "count": 10
           },
           {
            "bin_start": 0.8313538800349894,
            "bin_end": 0.9156769400174947,
            "count": 3
           },
           {
            "bin_start": 0.9156769400174947,
            "bin_end": 1,
            "count": 4
           }
          ]
         }
        },
        {
         "name": "564",
         "dtype": "float64",
         "stats": {
          "unique_count": 93,
          "nan_count": 0,
          "min": "0.16924417748811593",
          "max": "1.0",
          "histogram": [
           {
            "bin_start": 0.16924417748811593,
            "bin_end": 0.2523197597393043,
            "count": 5
           },
           {
            "bin_start": 0.2523197597393043,
            "bin_end": 0.33539534199049276,
            "count": 18
           },
           {
            "bin_start": 0.33539534199049276,
            "bin_end": 0.4184709242416812,
            "count": 17
           },
           {
            "bin_start": 0.4184709242416812,
            "bin_end": 0.5015465064928696,
            "count": 12
           },
           {
            "bin_start": 0.5015465064928696,
            "bin_end": 0.584622088744058,
            "count": 8
           },
           {
            "bin_start": 0.584622088744058,
            "bin_end": 0.6676976709952465,
            "count": 6
           },
           {
            "bin_start": 0.6676976709952465,
            "bin_end": 0.7507732532464348,
            "count": 11
           },
           {
            "bin_start": 0.7507732532464348,
            "bin_end": 0.8338488354976232,
            "count": 9
           },
           {
            "bin_start": 0.8338488354976232,
            "bin_end": 0.9169244177488116,
            "count": 3
           },
           {
            "bin_start": 0.9169244177488116,
            "bin_end": 1,
            "count": 4
           }
          ]
         }
        },
        {
         "name": "565",
         "dtype": "float64",
         "stats": {
          "unique_count": 93,
          "nan_count": 0,
          "min": "0.0",
          "max": "1.0",
          "histogram": [
           {
            "bin_start": 0,
            "bin_end": 0.1,
            "count": 3
           },
           {
            "bin_start": 0.1,
            "bin_end": 0.2,
            "count": 6
           },
           {
            "bin_start": 0.2,
            "bin_end": 0.30000000000000004,
            "count": 13
           },
           {
            "bin_start": 0.30000000000000004,
            "bin_end": 0.4,
            "count": 19
           },
           {
            "bin_start": 0.4,
            "bin_end": 0.5,
            "count": 23
           },
           {
            "bin_start": 0.5,
            "bin_end": 0.6000000000000001,
            "count": 15
           },
           {
            "bin_start": 0.6000000000000001,
            "bin_end": 0.7000000000000001,
            "count": 6
           },
           {
            "bin_start": 0.7000000000000001,
            "bin_end": 0.8,
            "count": 6
           },
           {
            "bin_start": 0.8,
            "bin_end": 0.9,
            "count": 1
           },
           {
            "bin_start": 0.9,
            "bin_end": 1,
            "count": 1
           }
          ]
         }
        },
        {
         "name": "566",
         "dtype": "float64",
         "stats": {
          "unique_count": 93,
          "nan_count": 0,
          "min": "0.27626504349436243",
          "max": "1.0",
          "histogram": [
           {
            "bin_start": 0.27626504349436243,
            "bin_end": 0.34863853914492615,
            "count": 2
           },
           {
            "bin_start": 0.34863853914492615,
            "bin_end": 0.42101203479548993,
            "count": 3
           },
           {
            "bin_start": 0.42101203479548993,
            "bin_end": 0.4933855304460537,
            "count": 8
           },
           {
            "bin_start": 0.4933855304460537,
            "bin_end": 0.5657590260966174,
            "count": 14
           },
           {
            "bin_start": 0.5657590260966174,
            "bin_end": 0.6381325217471812,
            "count": 16
           },
           {
            "bin_start": 0.6381325217471812,
            "bin_end": 0.7105060173977449,
            "count": 18
           },
           {
            "bin_start": 0.7105060173977449,
            "bin_end": 0.7828795130483087,
            "count": 15
           },
           {
            "bin_start": 0.7828795130483087,
            "bin_end": 0.8552530086988724,
            "count": 9
           },
           {
            "bin_start": 0.8552530086988724,
            "bin_end": 0.9276265043494362,
            "count": 5
           },
           {
            "bin_start": 0.9276265043494362,
            "bin_end": 1,
            "count": 3
           }
          ]
         }
        },
        {
         "name": "567",
         "dtype": "float64",
         "stats": {
          "unique_count": 93,
          "nan_count": 0,
          "min": "0.2732300204098774",
          "max": "1.0",
          "histogram": [
           {
            "bin_start": 0.2732300204098774,
            "bin_end": 0.3459070183688897,
            "count": 6
           },
           {
            "bin_start": 0.3459070183688897,
            "bin_end": 0.41858401632790193,
            "count": 7
           },
           {
            "bin_start": 0.41858401632790193,
            "bin_end": 0.49126101428691415,
            "count": 9
           },
           {
            "bin_start": 0.49126101428691415,
            "bin_end": 0.5639380122459264,
            "count": 6
           },
           {
            "bin_start": 0.5639380122459264,
            "bin_end": 0.6366150102049387,
            "count": 12
           },
           {
            "bin_start": 0.6366150102049387,
            "bin_end": 0.7092920081639509,
            "count": 18
           },
           {
            "bin_start": 0.7092920081639509,
            "bin_end": 0.7819690061229632,
            "count": 13
           },
           {
            "bin_start": 0.7819690061229632,
            "bin_end": 0.8546460040819754,
            "count": 14
           },
           {
            "bin_start": 0.8546460040819754,
            "bin_end": 0.9273230020409877,
            "count": 7
           },
           {
            "bin_start": 0.9273230020409877,
            "bin_end": 1,
            "count": 1
           }
          ]
         }
        },
        {
         "name": "568",
         "dtype": "float64",
         "stats": {
          "unique_count": 93,
          "nan_count": 0,
          "min": "0.21072066862486905",
          "max": "1.0",
          "histogram": [
           {
            "bin_start": 0.21072066862486905,
            "bin_end": 0.28964860176238216,
            "count": 7
           },
           {
            "bin_start": 0.28964860176238216,
            "bin_end": 0.3685765348998952,
            "count": 10
           },
           {
            "bin_start": 0.3685765348998952,
            "bin_end": 0.4475044680374083,
            "count": 13
           },
           {
            "bin_start": 0.4475044680374083,
            "bin_end": 0.5264324011749214,
            "count": 12
           },
           {
            "bin_start": 0.5264324011749214,
            "bin_end": 0.6053603343124345,
            "count": 16
           },
           {
            "bin_start": 0.6053603343124345,
            "bin_end": 0.6842882674499475,
            "count": 5
           },
           {
            "bin_start": 0.6842882674499475,
            "bin_end": 0.7632162005874606,
            "count": 7
           },
           {
            "bin_start": 0.7632162005874606,
            "bin_end": 0.8421441337249738,
            "count": 10
           },
           {
            "bin_start": 0.8421441337249738,
            "bin_end": 0.9210720668624869,
            "count": 9
           },
           {
            "bin_start": 0.9210720668624869,
            "bin_end": 1,
            "count": 4
           }
          ]
         }
        },
        {
         "name": "569",
         "dtype": "float64",
         "stats": {
          "unique_count": 93,
          "nan_count": 0,
          "min": "0.14174770584703145",
          "max": "1.0",
          "histogram": [
           {
            "bin_start": 0.14174770584703145,
            "bin_end": 0.2275729352623283,
            "count": 5
           },
           {
            "bin_start": 0.2275729352623283,
            "bin_end": 0.31339816467762516,
            "count": 18
           },
           {
            "bin_start": 0.31339816467762516,
            "bin_end": 0.399223394092922,
            "count": 18
           },
           {
            "bin_start": 0.399223394092922,
            "bin_end": 0.48504862350821887,
            "count": 13
           },
           {
            "bin_start": 0.48504862350821887,
            "bin_end": 0.5708738529235158,
            "count": 7
           },
           {
            "bin_start": 0.5708738529235158,
            "bin_end": 0.6566990823388126,
            "count": 9
           },
           {
            "bin_start": 0.6566990823388126,
            "bin_end": 0.7425243117541095,
            "count": 6
           },
           {
            "bin_start": 0.7425243117541095,
            "bin_end": 0.8283495411694063,
            "count": 6
           },
           {
            "bin_start": 0.8283495411694063,
            "bin_end": 0.9141747705847031,
            "count": 6
           },
           {
            "bin_start": 0.9141747705847031,
            "bin_end": 1,
            "count": 5
           }
          ]
         }
        },
        {
         "name": "570",
         "dtype": "float64",
         "stats": {
          "unique_count": 83,
          "nan_count": 0,
          "min": "0.0",
          "max": "1.0",
          "histogram": [
           {
            "bin_start": 0,
            "bin_end": 0.1,
            "count": 19
           },
           {
            "bin_start": 0.1,
            "bin_end": 0.2,
            "count": 9
           },
           {
            "bin_start": 0.2,
            "bin_end": 0.30000000000000004,
            "count": 27
           },
           {
            "bin_start": 0.30000000000000004,
            "bin_end": 0.4,
            "count": 5
           },
           {
            "bin_start": 0.4,
            "bin_end": 0.5,
            "count": 4
           },
           {
            "bin_start": 0.5,
            "bin_end": 0.6000000000000001,
            "count": 5
           },
           {
            "bin_start": 0.6000000000000001,
            "bin_end": 0.7000000000000001,
            "count": 4
           },
           {
            "bin_start": 0.7000000000000001,
            "bin_end": 0.8,
            "count": 13
           },
           {
            "bin_start": 0.8,
            "bin_end": 0.9,
            "count": 4
           },
           {
            "bin_start": 0.9,
            "bin_end": 1,
            "count": 3
           }
          ]
         }
        },
        {
         "name": "571",
         "dtype": "float64",
         "stats": {
          "unique_count": 93,
          "nan_count": 0,
          "min": "0.24657602466009165",
          "max": "1.0",
          "histogram": [
           {
            "bin_start": 0.24657602466009165,
            "bin_end": 0.3219184221940825,
            "count": 1
           },
           {
            "bin_start": 0.3219184221940825,
            "bin_end": 0.3972608197280733,
            "count": 2
           },
           {
            "bin_start": 0.3972608197280733,
            "bin_end": 0.4726032172620641,
            "count": 9
           },
           {
            "bin_start": 0.4726032172620641,
            "bin_end": 0.547945614796055,
            "count": 19
           },
           {
            "bin_start": 0.547945614796055,
            "bin_end": 0.6232880123300458,
            "count": 14
           },
           {
            "bin_start": 0.6232880123300458,
            "bin_end": 0.6986304098640366,
            "count": 19
           },
           {
            "bin_start": 0.6986304098640366,
            "bin_end": 0.7739728073980274,
            "count": 17
           },
           {
            "bin_start": 0.7739728073980274,
            "bin_end": 0.8493152049320183,
            "count": 6
           },
           {
            "bin_start": 0.8493152049320183,
            "bin_end": 0.9246576024660091,
            "count": 5
           },
           {
            "bin_start": 0.9246576024660091,
            "bin_end": 1,
            "count": 1
           }
          ]
         }
        },
        {
         "name": "572",
         "dtype": "float64",
         "stats": {
          "unique_count": 93,
          "nan_count": 0,
          "min": "0.07886575497918347",
          "max": "1.0",
          "histogram": [
           {
            "bin_start": 0.07886575497918347,
            "bin_end": 0.17097917948126512,
            "count": 11
           },
           {
            "bin_start": 0.17097917948126512,
            "bin_end": 0.2630926039833468,
            "count": 15
           },
           {
            "bin_start": 0.2630926039833468,
            "bin_end": 0.3552060284854284,
            "count": 20
           },
           {
            "bin_start": 0.3552060284854284,
            "bin_end": 0.4473194529875101,
            "count": 11
           },
           {
            "bin_start": 0.4473194529875101,
            "bin_end": 0.5394328774895918,
            "count": 7
           },
           {
            "bin_start": 0.5394328774895918,
            "bin_end": 0.6315463019916734,
            "count": 6
           },
           {
            "bin_start": 0.6315463019916734,
            "bin_end": 0.7236597264937551,
            "count": 4
           },
           {
            "bin_start": 0.7236597264937551,
            "bin_end": 0.8157731509958367,
            "count": 8
           },
           {
            "bin_start": 0.8157731509958367,
            "bin_end": 0.9078865754979183,
            "count": 8
           },
           {
            "bin_start": 0.9078865754979183,
            "bin_end": 1,
            "count": 3
           }
          ]
         }
        },
        {
         "name": "573",
         "dtype": "float64",
         "stats": {
          "unique_count": 93,
          "nan_count": 0,
          "min": "0.05664350418789643",
          "max": "1.0",
          "histogram": [
           {
            "bin_start": 0.05664350418789643,
            "bin_end": 0.15097915376910678,
            "count": 16
           },
           {
            "bin_start": 0.15097915376910678,
            "bin_end": 0.24531480335031713,
            "count": 10
           },
           {
            "bin_start": 0.24531480335031713,
            "bin_end": 0.3396504529315275,
            "count": 16
           },
           {
            "bin_start": 0.3396504529315275,
            "bin_end": 0.43398610251273784,
            "count": 19
           },
           {
            "bin_start": 0.43398610251273784,
            "bin_end": 0.5283217520939482,
            "count": 3
           },
           {
            "bin_start": 0.5283217520939482,
            "bin_end": 0.6226574016751586,
            "count": 4
           },
           {
            "bin_start": 0.6226574016751586,
            "bin_end": 0.7169930512563689,
            "count": 5
           },
           {
            "bin_start": 0.7169930512563689,
            "bin_end": 0.8113287008375792,
            "count": 10
           },
           {
            "bin_start": 0.8113287008375792,
            "bin_end": 0.9056643504187896,
            "count": 6
           },
           {
            "bin_start": 0.9056643504187896,
            "bin_end": 1,
            "count": 4
           }
          ]
         }
        },
        {
         "name": "574",
         "dtype": "float64",
         "stats": {
          "unique_count": 93,
          "nan_count": 0,
          "min": "0.11784228502078553",
          "max": "1.0",
          "histogram": [
           {
            "bin_start": 0.11784228502078553,
            "bin_end": 0.20605805651870698,
            "count": 14
           },
           {
            "bin_start": 0.20605805651870698,
            "bin_end": 0.29427382801662844,
            "count": 8
           },
           {
            "bin_start": 0.29427382801662844,
            "bin_end": 0.38248959951454986,
            "count": 19
           },
           {
            "bin_start": 0.38248959951454986,
            "bin_end": 0.47070537101247134,
            "count": 16
           },
           {
            "bin_start": 0.47070537101247134,
            "bin_end": 0.5589211425103928,
            "count": 6
           },
           {
            "bin_start": 0.5589211425103928,
            "bin_end": 0.6471369140083142,
            "count": 4
           },
           {
            "bin_start": 0.6471369140083142,
            "bin_end": 0.7353526855062357,
            "count": 6
           },
           {
            "bin_start": 0.7353526855062357,
            "bin_end": 0.8235684570041572,
            "count": 4
           },
           {
            "bin_start": 0.8235684570041572,
            "bin_end": 0.9117842285020786,
            "count": 11
           },
           {
            "bin_start": 0.9117842285020786,
            "bin_end": 1,
            "count": 5
           }
          ]
         }
        },
        {
         "name": "575",
         "dtype": "float64",
         "stats": {
          "unique_count": 93,
          "nan_count": 0,
          "min": "0.3652392498105532",
          "max": "1.0",
          "histogram": [
           {
            "bin_start": 0.3652392498105532,
            "bin_end": 0.4287153248294979,
            "count": 5
           },
           {
            "bin_start": 0.4287153248294979,
            "bin_end": 0.49219139984844257,
            "count": 5
           },
           {
            "bin_start": 0.49219139984844257,
            "bin_end": 0.5556674748673872,
            "count": 9
           },
           {
            "bin_start": 0.5556674748673872,
            "bin_end": 0.6191435498863319,
            "count": 14
           },
           {
            "bin_start": 0.6191435498863319,
            "bin_end": 0.6826196249052766,
            "count": 18
           },
           {
            "bin_start": 0.6826196249052766,
            "bin_end": 0.7460956999242212,
            "count": 13
           },
           {
            "bin_start": 0.7460956999242212,
            "bin_end": 0.8095717749431659,
            "count": 9
           },
           {
            "bin_start": 0.8095717749431659,
            "bin_end": 0.8730478499621106,
            "count": 12
           },
           {
            "bin_start": 0.8730478499621106,
            "bin_end": 0.9365239249810553,
            "count": 6
           },
           {
            "bin_start": 0.9365239249810553,
            "bin_end": 1,
            "count": 2
           }
          ]
         }
        },
        {
         "name": "576",
         "dtype": "float64",
         "stats": {
          "unique_count": 93,
          "nan_count": 0,
          "min": "0.14994095177165734",
          "max": "1.0",
          "histogram": [
           {
            "bin_start": 0.14994095177165734,
            "bin_end": 0.2349468565944916,
            "count": 9
           },
           {
            "bin_start": 0.2349468565944916,
            "bin_end": 0.31995276141732587,
            "count": 16
           },
           {
            "bin_start": 0.31995276141732587,
            "bin_end": 0.40495866624016014,
            "count": 13
           },
           {
            "bin_start": 0.40495866624016014,
            "bin_end": 0.4899645710629944,
            "count": 11
           },
           {
            "bin_start": 0.4899645710629944,
            "bin_end": 0.5749704758858287,
            "count": 14
           },
           {
            "bin_start": 0.5749704758858287,
            "bin_end": 0.6599763807086629,
            "count": 8
           },
           {
            "bin_start": 0.6599763807086629,
            "bin_end": 0.7449822855314973,
            "count": 6
           },
           {
            "bin_start": 0.7449822855314973,
            "bin_end": 0.8299881903543315,
            "count": 11
           },
           {
            "bin_start": 0.8299881903543315,
            "bin_end": 0.9149940951771657,
            "count": 4
           },
           {
            "bin_start": 0.9149940951771657,
            "bin_end": 1,
            "count": 1
           }
          ]
         }
        },
        {
         "name": "577",
         "dtype": "float64",
         "stats": {
          "unique_count": 93,
          "nan_count": 0,
          "min": "0.20699069036411988",
          "max": "1.0",
          "histogram": [
           {
            "bin_start": 0.20699069036411988,
            "bin_end": 0.2862916213277079,
            "count": 7
           },
           {
            "bin_start": 0.2862916213277079,
            "bin_end": 0.3655925522912959,
            "count": 7
           },
           {
            "bin_start": 0.3655925522912959,
            "bin_end": 0.44489348325488387,
            "count": 10
           },
           {
            "bin_start": 0.44489348325488387,
            "bin_end": 0.5241944142184719,
            "count": 17
           },
           {
            "bin_start": 0.5241944142184719,
            "bin_end": 0.6034953451820599,
            "count": 11
           },
           {
            "bin_start": 0.6034953451820599,
            "bin_end": 0.6827962761456479,
            "count": 12
           },
           {
            "bin_start": 0.6827962761456479,
            "bin_end": 0.7620972071092359,
            "count": 5
           },
           {
            "bin_start": 0.7620972071092359,
            "bin_end": 0.8413981380728239,
            "count": 11
           },
           {
            "bin_start": 0.8413981380728239,
            "bin_end": 0.920699069036412,
            "count": 8
           },
           {
            "bin_start": 0.920699069036412,
            "bin_end": 1,
            "count": 5
           }
          ]
         }
        },
        {
         "name": "578",
         "dtype": "float64",
         "stats": {
          "unique_count": 93,
          "nan_count": 0,
          "min": "0.2611144109574971",
          "max": "1.0",
          "histogram": [
           {
            "bin_start": 0.2611144109574971,
            "bin_end": 0.3350029698617474,
            "count": 6
           },
           {
            "bin_start": 0.3350029698617474,
            "bin_end": 0.40889152876599766,
            "count": 6
           },
           {
            "bin_start": 0.40889152876599766,
            "bin_end": 0.482780087670248,
            "count": 9
           },
           {
            "bin_start": 0.482780087670248,
            "bin_end": 0.5566686465744983,
            "count": 11
           },
           {
            "bin_start": 0.5566686465744983,
            "bin_end": 0.6305572054787485,
            "count": 13
           },
           {
            "bin_start": 0.6305572054787485,
            "bin_end": 0.7044457643829989,
            "count": 11
           },
           {
            "bin_start": 0.7044457643829989,
            "bin_end": 0.7783343232872492,
            "count": 16
           },
           {
            "bin_start": 0.7783343232872492,
            "bin_end": 0.8522228821914994,
            "count": 13
           },
           {
            "bin_start": 0.8522228821914994,
            "bin_end": 0.9261114410957497,
            "count": 6
           },
           {
            "bin_start": 0.9261114410957497,
            "bin_end": 1,
            "count": 2
           }
          ]
         }
        },
        {
         "name": "579",
         "dtype": "float64",
         "stats": {
          "unique_count": 93,
          "nan_count": 0,
          "min": "0.3334216085816111",
          "max": "1.0",
          "histogram": [
           {
            "bin_start": 0.3334216085816111,
            "bin_end": 0.40007944772344994,
            "count": 5
           },
           {
            "bin_start": 0.40007944772344994,
            "bin_end": 0.46673728686528887,
            "count": 7
           },
           {
            "bin_start": 0.46673728686528887,
            "bin_end": 0.5333951260071278,
            "count": 6
           },
           {
            "bin_start": 0.5333951260071278,
            "bin_end": 0.6000529651489667,
            "count": 9
           },
           {
            "bin_start": 0.6000529651489667,
            "bin_end": 0.6667108042908055,
            "count": 11
           },
           {
            "bin_start": 0.6667108042908055,
            "bin_end": 0.7333686434326445,
            "count": 22
           },
           {
            "bin_start": 0.7333686434326445,
            "bin_end": 0.8000264825744834,
            "count": 12
           },
           {
            "bin_start": 0.8000264825744834,
            "bin_end": 0.8666843217163223,
            "count": 9
           },
           {
            "bin_start": 0.8666843217163223,
            "bin_end": 0.9333421608581611,
            "count": 10
           },
           {
            "bin_start": 0.9333421608581611,
            "bin_end": 1,
            "count": 2
           }
          ]
         }
        },
        {
         "name": "580",
         "dtype": "float64",
         "stats": {
          "unique_count": 93,
          "nan_count": 0,
          "min": "0.1329745220009374",
          "max": "1.0",
          "histogram": [
           {
            "bin_start": 0.1329745220009374,
            "bin_end": 0.21967706980084367,
            "count": 9
           },
           {
            "bin_start": 0.21967706980084367,
            "bin_end": 0.30637961760074994,
            "count": 8
           },
           {
            "bin_start": 0.30637961760074994,
            "bin_end": 0.39308216540065616,
            "count": 8
           },
           {
            "bin_start": 0.39308216540065616,
            "bin_end": 0.47978471320056243,
            "count": 6
           },
           {
            "bin_start": 0.47978471320056243,
            "bin_end": 0.5664872610004688,
            "count": 7
           },
           {
            "bin_start": 0.5664872610004688,
            "bin_end": 0.6531898088003749,
            "count": 24
           },
           {
            "bin_start": 0.6531898088003749,
            "bin_end": 0.7398923566002812,
            "count": 12
           },
           {
            "bin_start": 0.7398923566002812,
            "bin_end": 0.8265949044001875,
            "count": 10
           },
           {
            "bin_start": 0.8265949044001875,
            "bin_end": 0.9132974522000937,
            "count": 8
           },
           {
            "bin_start": 0.9132974522000937,
            "bin_end": 1,
            "count": 1
           }
          ]
         }
        },
        {
         "name": "581",
         "dtype": "float64",
         "stats": {
          "unique_count": 93,
          "nan_count": 0,
          "min": "0.2608966712591718",
          "max": "1.0",
          "histogram": [
           {
            "bin_start": 0.2608966712591718,
            "bin_end": 0.33480700413325465,
            "count": 6
           },
           {
            "bin_start": 0.33480700413325465,
            "bin_end": 0.4087173370073375,
            "count": 7
           },
           {
            "bin_start": 0.4087173370073375,
            "bin_end": 0.48262766988142025,
            "count": 11
           },
           {
            "bin_start": 0.48262766988142025,
            "bin_end": 0.5565380027555031,
            "count": 16
           },
           {
            "bin_start": 0.5565380027555031,
            "bin_end": 0.6304483356295859,
            "count": 11
           },
           {
            "bin_start": 0.6304483356295859,
            "bin_end": 0.7043586685036687,
            "count": 9
           },
           {
            "bin_start": 0.7043586685036687,
            "bin_end": 0.7782690013777516,
            "count": 13
           },
           {
            "bin_start": 0.7782690013777516,
            "bin_end": 0.8521793342518343,
            "count": 13
           },
           {
            "bin_start": 0.8521793342518343,
            "bin_end": 0.9260896671259171,
            "count": 3
           },
           {
            "bin_start": 0.9260896671259171,
            "bin_end": 1,
            "count": 4
           }
          ]
         }
        },
        {
         "name": "582",
         "dtype": "float64",
         "stats": {
          "unique_count": 93,
          "nan_count": 0,
          "min": "0.13288121505809913",
          "max": "1.0",
          "histogram": [
           {
            "bin_start": 0.13288121505809913,
            "bin_end": 0.21959309355228923,
            "count": 13
           },
           {
            "bin_start": 0.21959309355228923,
            "bin_end": 0.30630497204647933,
            "count": 7
           },
           {
            "bin_start": 0.30630497204647933,
            "bin_end": 0.39301685054066937,
            "count": 11
           },
           {
            "bin_start": 0.39301685054066937,
            "bin_end": 0.47972872903485947,
            "count": 18
           },
           {
            "bin_start": 0.47972872903485947,
            "bin_end": 0.5664406075290496,
            "count": 13
           },
           {
            "bin_start": 0.5664406075290496,
            "bin_end": 0.6531524860232396,
            "count": 5
           },
           {
            "bin_start": 0.6531524860232396,
            "bin_end": 0.7398643645174298,
            "count": 5
           },
           {
            "bin_start": 0.7398643645174298,
            "bin_end": 0.8265762430116198,
            "count": 4
           },
           {
            "bin_start": 0.8265762430116198,
            "bin_end": 0.9132881215058098,
            "count": 13
           },
           {
            "bin_start": 0.9132881215058098,
            "bin_end": 1,
            "count": 4
           }
          ]
         }
        },
        {
         "name": "583",
         "dtype": "float64",
         "stats": {
          "unique_count": 93,
          "nan_count": 0,
          "min": "0.2604668928514875",
          "max": "1.0",
          "histogram": [
           {
            "bin_start": 0.2604668928514875,
            "bin_end": 0.3344202035663387,
            "count": 6
           },
           {
            "bin_start": 0.3344202035663387,
            "bin_end": 0.40837351428119,
            "count": 6
           },
           {
            "bin_start": 0.40837351428119,
            "bin_end": 0.4823268249960413,
            "count": 10
           },
           {
            "bin_start": 0.4823268249960413,
            "bin_end": 0.5562801357108925,
            "count": 13
           },
           {
            "bin_start": 0.5562801357108925,
            "bin_end": 0.6302334464257437,
            "count": 13
           },
           {
            "bin_start": 0.6302334464257437,
            "bin_end": 0.7041867571405951,
            "count": 11
           },
           {
            "bin_start": 0.7041867571405951,
            "bin_end": 0.7781400678554463,
            "count": 11
           },
           {
            "bin_start": 0.7781400678554463,
            "bin_end": 0.8520933785702975,
            "count": 16
           },
           {
            "bin_start": 0.8520933785702975,
            "bin_end": 0.9260466892851488,
            "count": 3
           },
           {
            "bin_start": 0.9260466892851488,
            "bin_end": 1,
            "count": 4
           }
          ]
         }
        },
        {
         "name": "584",
         "dtype": "float64",
         "stats": {
          "unique_count": 93,
          "nan_count": 0,
          "min": "0.31426745252767385",
          "max": "1.0",
          "histogram": [
           {
            "bin_start": 0.31426745252767385,
            "bin_end": 0.3828407072749065,
            "count": 4
           },
           {
            "bin_start": 0.3828407072749065,
            "bin_end": 0.45141396202213907,
            "count": 8
           },
           {
            "bin_start": 0.45141396202213907,
            "bin_end": 0.5199872167693717,
            "count": 8
           },
           {
            "bin_start": 0.5199872167693717,
            "bin_end": 0.5885604715166043,
            "count": 6
           },
           {
            "bin_start": 0.5885604715166043,
            "bin_end": 0.6571337262638369,
            "count": 14
           },
           {
            "bin_start": 0.6571337262638369,
            "bin_end": 0.7257069810110695,
            "count": 12
           },
           {
            "bin_start": 0.7257069810110695,
            "bin_end": 0.7942802357583021,
            "count": 19
           },
           {
            "bin_start": 0.7942802357583021,
            "bin_end": 0.8628534905055347,
            "count": 11
           },
           {
            "bin_start": 0.8628534905055347,
            "bin_end": 0.9314267452527674,
            "count": 9
           },
           {
            "bin_start": 0.9314267452527674,
            "bin_end": 1,
            "count": 2
           }
          ]
         }
        },
        {
         "name": "585",
         "dtype": "float64",
         "stats": {
          "unique_count": 93,
          "nan_count": 0,
          "min": "0.07066495304325882",
          "max": "1.0",
          "histogram": [
           {
            "bin_start": 0.07066495304325882,
            "bin_end": 0.16359845773893295,
            "count": 16
           },
           {
            "bin_start": 0.16359845773893295,
            "bin_end": 0.2565319624346071,
            "count": 8
           },
           {
            "bin_start": 0.2565319624346071,
            "bin_end": 0.34946546713028115,
            "count": 18
           },
           {
            "bin_start": 0.34946546713028115,
            "bin_end": 0.4423989718259553,
            "count": 19
           },
           {
            "bin_start": 0.4423989718259553,
            "bin_end": 0.5353324765216294,
            "count": 4
           },
           {
            "bin_start": 0.5353324765216294,
            "bin_end": 0.6282659812173035,
            "count": 5
           },
           {
            "bin_start": 0.6282659812173035,
            "bin_end": 0.7211994859129777,
            "count": 4
           },
           {
            "bin_start": 0.7211994859129777,
            "bin_end": 0.8141329906086517,
            "count": 7
           },
           {
            "bin_start": 0.8141329906086517,
            "bin_end": 0.9070664953043258,
            "count": 7
           },
           {
            "bin_start": 0.9070664953043258,
            "bin_end": 1,
            "count": 5
           }
          ]
         }
        },
        {
         "name": "586",
         "dtype": "float64",
         "stats": {
          "unique_count": 93,
          "nan_count": 0,
          "min": "0.14817511867362854",
          "max": "1.0",
          "histogram": [
           {
            "bin_start": 0.14817511867362854,
            "bin_end": 0.2333576068062657,
            "count": 11
           },
           {
            "bin_start": 0.2333576068062657,
            "bin_end": 0.31854009493890284,
            "count": 7
           },
           {
            "bin_start": 0.31854009493890284,
            "bin_end": 0.40372258307153996,
            "count": 10
           },
           {
            "bin_start": 0.40372258307153996,
            "bin_end": 0.48890507120417714,
            "count": 8
           },
           {
            "bin_start": 0.48890507120417714,
            "bin_end": 0.5740875593368143,
            "count": 21
           },
           {
            "bin_start": 0.5740875593368143,
            "bin_end": 0.6592700474694514,
            "count": 7
           },
           {
            "bin_start": 0.6592700474694514,
            "bin_end": 0.7444525356020886,
            "count": 7
           },
           {
            "bin_start": 0.7444525356020886,
            "bin_end": 0.8296350237347258,
            "count": 12
           },
           {
            "bin_start": 0.8296350237347258,
            "bin_end": 0.9148175118673629,
            "count": 5
           },
           {
            "bin_start": 0.9148175118673629,
            "bin_end": 1,
            "count": 5
           }
          ]
         }
        },
        {
         "name": "587",
         "dtype": "float64",
         "stats": {
          "unique_count": 93,
          "nan_count": 0,
          "min": "0.11563961874477291",
          "max": "1.0",
          "histogram": [
           {
            "bin_start": 0.11563961874477291,
            "bin_end": 0.2040756568702956,
            "count": 13
           },
           {
            "bin_start": 0.2040756568702956,
            "bin_end": 0.2925116949958183,
            "count": 6
           },
           {
            "bin_start": 0.2925116949958183,
            "bin_end": 0.38094773312134106,
            "count": 11
           },
           {
            "bin_start": 0.38094773312134106,
            "bin_end": 0.46938377124686376,
            "count": 18
           },
           {
            "bin_start": 0.46938377124686376,
            "bin_end": 0.5578198093723865,
            "count": 14
           },
           {
            "bin_start": 0.5578198093723865,
            "bin_end": 0.6462558474979092,
            "count": 5
           },
           {
            "bin_start": 0.6462558474979092,
            "bin_end": 0.7346918856234319,
            "count": 4
           },
           {
            "bin_start": 0.7346918856234319,
            "bin_end": 0.8231279237489546,
            "count": 10
           },
           {
            "bin_start": 0.8231279237489546,
            "bin_end": 0.9115639618744773,
            "count": 8
           },
           {
            "bin_start": 0.9115639618744773,
            "bin_end": 1,
            "count": 4
           }
          ]
         }
        },
        {
         "name": "588",
         "dtype": "float64",
         "stats": {
          "unique_count": 93,
          "nan_count": 0,
          "min": "0.13829644331590096",
          "max": "1.0",
          "histogram": [
           {
            "bin_start": 0.13829644331590096,
            "bin_end": 0.22446679898431088,
            "count": 11
           },
           {
            "bin_start": 0.22446679898431088,
            "bin_end": 0.3106371546527208,
            "count": 7
           },
           {
            "bin_start": 0.3106371546527208,
            "bin_end": 0.39680751032113065,
            "count": 7
           },
           {
            "bin_start": 0.39680751032113065,
            "bin_end": 0.48297786598954057,
            "count": 11
           },
           {
            "bin_start": 0.48297786598954057,
            "bin_end": 0.5691482216579504,
            "count": 17
           },
           {
            "bin_start": 0.5691482216579504,
            "bin_end": 0.6553185773263603,
            "count": 10
           },
           {
            "bin_start": 0.6553185773263603,
            "bin_end": 0.7414889329947703,
            "count": 10
           },
           {
            "bin_start": 0.7414889329947703,
            "bin_end": 0.8276592886631802,
            "count": 11
           },
           {
            "bin_start": 0.8276592886631802,
            "bin_end": 0.9138296443315901,
            "count": 5
           },
           {
            "bin_start": 0.9138296443315901,
            "bin_end": 1,
            "count": 4
           }
          ]
         }
        },
        {
         "name": "589",
         "dtype": "float64",
         "stats": {
          "unique_count": 93,
          "nan_count": 0,
          "min": "0.07895328641831989",
          "max": "1.0",
          "histogram": [
           {
            "bin_start": 0.07895328641831989,
            "bin_end": 0.1710579577764879,
            "count": 10
           },
           {
            "bin_start": 0.1710579577764879,
            "bin_end": 0.26316262913465593,
            "count": 7
           },
           {
            "bin_start": 0.26316262913465593,
            "bin_end": 0.3552673004928239,
            "count": 8
           },
           {
            "bin_start": 0.3552673004928239,
            "bin_end": 0.4473719718509919,
            "count": 5
           },
           {
            "bin_start": 0.4473719718509919,
            "bin_end": 0.53947664320916,
            "count": 10
           },
           {
            "bin_start": 0.53947664320916,
            "bin_end": 0.6315813145673279,
            "count": 21
           },
           {
            "bin_start": 0.6315813145673279,
            "bin_end": 0.7236859859254959,
            "count": 19
           },
           {
            "bin_start": 0.7236859859254959,
            "bin_end": 0.815790657283664,
            "count": 9
           },
           {
            "bin_start": 0.815790657283664,
            "bin_end": 0.907895328641832,
            "count": 3
           },
           {
            "bin_start": 0.907895328641832,
            "bin_end": 1,
            "count": 1
           }
          ]
         }
        },
        {
         "name": "6",
         "dtype": "float64",
         "stats": {
          "unique_count": 93,
          "nan_count": 0,
          "min": "0.45923364105608555",
          "max": "1.0",
          "histogram": [
           {
            "bin_start": 0.45923364105608555,
            "bin_end": 0.513310276950477,
            "count": 5
           },
           {
            "bin_start": 0.513310276950477,
            "bin_end": 0.5673869128448684,
            "count": 12
           },
           {
            "bin_start": 0.5673869128448684,
            "bin_end": 0.6214635487392599,
            "count": 15
           },
           {
            "bin_start": 0.6214635487392599,
            "bin_end": 0.6755401846336513,
            "count": 20
           },
           {
            "bin_start": 0.6755401846336513,
            "bin_end": 0.7296168205280428,
            "count": 10
           },
           {
            "bin_start": 0.7296168205280428,
            "bin_end": 0.7836934564224343,
            "count": 8
           },
           {
            "bin_start": 0.7836934564224343,
            "bin_end": 0.8377700923168256,
            "count": 12
           },
           {
            "bin_start": 0.8377700923168256,
            "bin_end": 0.8918467282112171,
            "count": 7
           },
           {
            "bin_start": 0.8918467282112171,
            "bin_end": 0.9459233641056086,
            "count": 1
           },
           {
            "bin_start": 0.9459233641056086,
            "bin_end": 1,
            "count": 3
           }
          ]
         }
        },
        {
         "name": "7",
         "dtype": "float64",
         "stats": {
          "unique_count": 93,
          "nan_count": 0,
          "min": "0.4342231121704838",
          "max": "1.0",
          "histogram": [
           {
            "bin_start": 0.4342231121704838,
            "bin_end": 0.4908008009534354,
            "count": 4
           },
           {
            "bin_start": 0.4908008009534354,
            "bin_end": 0.547378489736387,
            "count": 7
           },
           {
            "bin_start": 0.547378489736387,
            "bin_end": 0.6039561785193387,
            "count": 15
           },
           {
            "bin_start": 0.6039561785193387,
            "bin_end": 0.6605338673022902,
            "count": 18
           },
           {
            "bin_start": 0.6605338673022902,
            "bin_end": 0.7171115560852419,
            "count": 15
           },
           {
            "bin_start": 0.7171115560852419,
            "bin_end": 0.7736892448681936,
            "count": 12
           },
           {
            "bin_start": 0.7736892448681936,
            "bin_end": 0.8302669336511452,
            "count": 7
           },
           {
            "bin_start": 0.8302669336511452,
            "bin_end": 0.8868446224340968,
            "count": 10
           },
           {
            "bin_start": 0.8868446224340968,
            "bin_end": 0.9434223112170484,
            "count": 0
           },
           {
            "bin_start": 0.9434223112170484,
            "bin_end": 1,
            "count": 5
           }
          ]
         }
        },
        {
         "name": "8",
         "dtype": "float64",
         "stats": {
          "unique_count": 93,
          "nan_count": 0,
          "min": "0.19671648554007692",
          "max": "1.0",
          "histogram": [
           {
            "bin_start": 0.19671648554007692,
            "bin_end": 0.27704483698606924,
            "count": 7
           },
           {
            "bin_start": 0.27704483698606924,
            "bin_end": 0.35737318843206156,
            "count": 7
           },
           {
            "bin_start": 0.35737318843206156,
            "bin_end": 0.4377015398780538,
            "count": 8
           },
           {
            "bin_start": 0.4377015398780538,
            "bin_end": 0.5180298913240462,
            "count": 5
           },
           {
            "bin_start": 0.5180298913240462,
            "bin_end": 0.5983582427700385,
            "count": 12
           },
           {
            "bin_start": 0.5983582427700385,
            "bin_end": 0.6786865942160307,
            "count": 12
           },
           {
            "bin_start": 0.6786865942160307,
            "bin_end": 0.7590149456620231,
            "count": 23
           },
           {
            "bin_start": 0.7590149456620231,
            "bin_end": 0.8393432971080154,
            "count": 12
           },
           {
            "bin_start": 0.8393432971080154,
            "bin_end": 0.9196716485540076,
            "count": 5
           },
           {
            "bin_start": 0.9196716485540076,
            "bin_end": 1,
            "count": 2
           }
          ]
         }
        },
        {
         "name": "9",
         "dtype": "float64",
         "stats": {
          "unique_count": 93,
          "nan_count": 0,
          "min": "0.3288210923447933",
          "max": "1.0",
          "histogram": [
           {
            "bin_start": 0.3288210923447933,
            "bin_end": 0.39593898311031395,
            "count": 13
           },
           {
            "bin_start": 0.39593898311031395,
            "bin_end": 0.4630568738758346,
            "count": 13
           },
           {
            "bin_start": 0.4630568738758346,
            "bin_end": 0.5301747646413553,
            "count": 20
           },
           {
            "bin_start": 0.5301747646413553,
            "bin_end": 0.597292655406876,
            "count": 19
           },
           {
            "bin_start": 0.597292655406876,
            "bin_end": 0.6644105461723966,
            "count": 7
           },
           {
            "bin_start": 0.6644105461723966,
            "bin_end": 0.7315284369379174,
            "count": 9
           },
           {
            "bin_start": 0.7315284369379174,
            "bin_end": 0.798646327703438,
            "count": 4
           },
           {
            "bin_start": 0.798646327703438,
            "bin_end": 0.8657642184689587,
            "count": 3
           },
           {
            "bin_start": 0.8657642184689587,
            "bin_end": 0.9328821092344793,
            "count": 4
           },
           {
            "bin_start": 0.9328821092344793,
            "bin_end": 1,
            "count": 1
           }
          ]
         }
        },
        {
         "name": "_deepnote_index_column",
         "dtype": "object"
        }
       ],
       "rows_top": [
        {
         "1": 1,
         "2": 0.798739470316966,
         "3": 0.34294533563628393,
         "4": 0.8613030836700828,
         "5": 0.7817906744704555,
         "6": 0.8339435495539662,
         "7": 0.7378460402794351,
         "8": 0.576607243659347,
         "9": 0.6893614423230996,
         "10": 0.7891502815519383,
         "11": 0.5086204780649302,
         "12": 0.8259633147013243,
         "13": 0.79139214243047,
         "14": 0.3458144261103978,
         "15": 0.27285575392599615,
         "16": 0.834553210045378,
         "17": 0.49407639577366835,
         "18": 0.5732802140055817,
         "19": 0.6603481980857655,
         "20": 0.5163972814821141,
         "21": 0.7780406437630185,
         "22": 0.5979992001963561,
         "23": 0.354626947961465,
         "24": 0.387027342326864,
         "25": 0.8457031813683991,
         "26": 0.46857222893100403,
         "27": 0.6368531212243613,
         "28": 0.7643561284406071,
         "29": 0.781408599945507,
         "30": 0.6196300181269149,
         "31": 0.6385874908304726,
         "249": 0,
         "250": 0.43074637517717196,
         "251": 0.48735940335322203,
         "252": 0.9672075057680505,
         "253": 0.8171995436319016,
         "254": 0.763499178595265,
         "255": 0.7482956349852552,
         "256": 0.9283688719729626,
         "257": 0.19317645842556286,
         "258": 0.86359767554072,
         "259": 0.7034657915909108,
         "260": 0.7219991616722474,
         "261": 0.4917951904535802,
         "262": 0.5005028466570736,
         "263": 0.5167332678973784,
         "264": 0.8791939993329737,
         "265": 0.5084877465218605,
         "266": 0.6825064637573628,
         "267": 0.7714512499109715,
         "268": 0.7580398834619582,
         "269": 0.7527322865158911,
         "270": 0.8848486820441817,
         "271": 0.6678574592385902,
         "272": 0.7697491815457949,
         "273": 0.4177274405145276,
         "274": 0.6055333541838075,
         "275": 0.7734462491843868,
         "276": 0.6221974109917936,
         "277": 0.5651675586979907,
         "278": 0.8040733286943815,
         "279": 0.600692221922088,
         "559": 0.3912327325516154,
         "560": 0.5017898580259947,
         "561": 0.22235128934327142,
         "562": 0.3920786131544981,
         "563": 0.289549195754335,
         "564": 0.3065095007390777,
         "565": 0.5828279591409271,
         "566": 0.6921258925667155,
         "567": 0.5837494723108214,
         "568": 0.4045618700331065,
         "569": 0.26995784948397605,
         "570": 0.06117191573840697,
         "571": 0.6076776272678925,
         "572": 0.1770849104231732,
         "573": 0.1578822193998557,
         "574": 0.2468177158952677,
         "575": 0.6788656119137497,
         "576": 0.6689827280764729,
         "577": 0.4195933099381498,
         "578": 0.5310329335585545,
         "579": 0.6686836153516771,
         "580": 0.45146466824732967,
         "581": 0.49210365350669516,
         "582": 0.2993239260944254,
         "583": 0.5026589856548331,
         "584": 0.7005928812780757,
         "585": 0.1808829787032793,
         "586": 0.3720347101101338,
         "587": 0.29220865007127395,
         "588": 0.37951869956020656,
         "589": 0.44930509100634297,
         "_deepnote_index_column": "1"
        },
        {
         "1": 0.7891502815519383,
         "2": 0.6311554408904357,
         "3": 0.5290593789883122,
         "4": 0.8643538560807001,
         "5": 0.9687865740885269,
         "6": 0.8291662072211914,
         "7": 0.8504569707496571,
         "8": 0.7347297143515683,
         "9": 0.5382380414811708,
         "10": 1,
         "11": 0.39036474218198014,
         "12": 0.6091770750947851,
         "13": 0.9836835812754103,
         "14": 0.5191116428167424,
         "15": 0.17427820821951823,
         "16": 0.82305433222423,
         "17": 0.5040379271016768,
         "18": 0.7448286608907642,
         "19": 0.6217805810070519,
         "20": 0.4400899421697737,
         "21": 0.8540553866318528,
         "22": 0.4877989442523868,
         "23": 0.25576212335095105,
         "24": 0.3315407759478629,
         "25": 0.927452473307675,
         "26": 0.4344227977577674,
         "27": 0.8151458138722463,
         "28": 0.6043856504465508,
         "29": 0.9561071651024885,
         "30": 0.5995783416518983,
         "31": 0.5393502647574073,
         "249": 0,
         "250": 0.47351084588746817,
         "251": 0.5536545184167821,
         "252": 0.8147393325173595,
         "253": 0.6975748421877231,
         "254": 0.6822351573510236,
         "255": 0.6311237779678771,
         "256": 0.8299822105459872,
         "257": 0.2641304126345698,
         "258": 0.9187109341250401,
         "259": 0.8035866456907041,
         "260": 0.7630293407083352,
         "261": 0.5382881200836129,
         "262": 0.36035460835840427,
         "263": 0.44552320097719333,
         "264": 0.8674909286773003,
         "265": 0.44757699999293454,
         "266": 0.6346886509342469,
         "267": 0.9205966289003135,
         "268": 0.9658375858281487,
         "269": 0.9022005709651864,
         "270": 0.7375796285532015,
         "271": 0.7360735763880271,
         "272": 0.7219401923164848,
         "273": 0.3445422465117498,
         "274": 0.5638044624164247,
         "275": 0.7173424746036621,
         "276": 0.5828523083685271,
         "277": 0.5050188606221048,
         "278": 0.9407944178641877,
         "279": 0.5892216457716968,
         "559": 0.1491281253397566,
         "560": 0.32137035409943304,
         "561": 0.0029780954984587327,
         "562": 0.5872142681773778,
         "563": 0.45666809367775685,
         "564": 0.47103586625083427,
         "565": 0.35812484565155156,
         "566": 0.8168543638946949,
         "567": 0.7829167650994141,
         "568": 0.5944602111093105,
         "569": 0.4411958578770573,
         "570": 0.24162970783232252,
         "571": 0.7135016144380951,
         "572": 0.3514654290424849,
         "573": 0.34210446214256907,
         "574": 0.43215419872083705,
         "575": 0.8691798545045822,
         "576": 0.4981110014071599,
         "577": 0.6140251918421458,
         "578": 0.7315797014456394,
         "579": 0.8743167601631856,
         "580": 0.6228912886154636,
         "581": 0.6841200485674609,
         "582": 0.49010414752230413,
         "583": 0.6978469508843208,
         "584": 0.8909578929517915,
         "585": 0.36587981829777416,
         "586": 0.5631979852782457,
         "587": 0.483501309157352,
         "588": 0.5682119236959513,
         "589": 0.5793629084134835,
         "_deepnote_index_column": "10"
        },
        {
         "1": 0.5086204780649302,
         "2": 0.7364196711460202,
         "3": 0.12431327467415243,
         "4": 0.5926631572293235,
         "5": 0.4992769977164053,
         "6": 0.6265250695815229,
         "7": 0.5712802563175794,
         "8": 0.25617861857397817,
         "9": 0.8308575980149739,
         "10": 0.39036474218198014,
         "11": 1,
         "12": 0.64695883945991,
         "13": 0.47186631741207863,
         "14": 0.30296379645984794,
         "15": 0.7857510415585486,
         "16": 0.6315867101879957,
         "17": 0.7256514562886827,
         "18": 0.26767814401830137,
         "19": 0.7829694431034105,
         "20": 0.9025195241194961,
         "21": 0.5939816746242568,
         "22": 0.9168961206243618,
         "23": 0.8562409098399731,
         "24": 0.8157409045346538,
         "25": 0.48489996977525185,
         "26": 0.8074467835647385,
         "27": 0.4726723257861808,
         "28": 0.7672541437101935,
         "29": 0.44929178381058765,
         "30": 0.22949176996670095,
         "31": 0.8732510505208693,
         "249": 0.43130345628251654,
         "250": 0.642397567526173,
         "251": 0.6180575797923522,
         "252": 0.5538608139248106,
         "253": 0.412220461594515,
         "254": 0.35986248295526624,
         "255": 0.35841351336677785,
         "256": 0.5111968789431343,
         "257": 0.444907713164839,
         "258": 0.503492272042702,
         "259": 0.589884899574318,
         "260": 0.3296232249861212,
         "261": 0.6562058670654052,
         "262": 0.1771327033502189,
         "263": 0.14928736830097533,
         "264": 0.4801328356334167,
         "265": 0.1389563144280841,
         "266": 0.2862633360885789,
         "267": 0.4236674124341758,
         "268": 0.45693072203141827,
         "269": 0.5331685770992538,
         "270": 0.6657403360327437,
         "271": 0.2871236968866875,
         "272": 0.36212921566879563,
         "273": 0.0647642911534888,
         "274": 0.21886613175121472,
         "275": 0.365584911031817,
         "276": 0.23305188415079825,
         "277": 0.18755032432518526,
         "278": 0.4540367186820372,
         "279": 0.2126762314629671,
         "559": 0.3715404377633087,
         "560": 0.823827331810031,
         "561": 0.5524845693360747,
         "562": 0.21189501139326206,
         "563": 0.27895119943834523,
         "564": 0.300356124461439,
         "565": 0.6456394716009455,
         "566": 0.5611017982008983,
         "567": 0.32741961868611813,
         "568": 0.28557876875205224,
         "569": 0.24911579445059817,
         "570": 0,
         "571": 0.5793427284420787,
         "572": 0.15593378812953984,
         "573": 0.07620234630427258,
         "574": 0.1635179388310709,
         "575": 0.4691425450780107,
         "576": 0.3407150403848418,
         "577": 0.27112921131599876,
         "578": 0.32813616403173007,
         "579": 0.4036010970892122,
         "580": 0.17059162541176365,
         "581": 0.3485965459736269,
         "582": 0.1723375195468837,
         "583": 0.34270058225158817,
         "584": 0.39107987122932897,
         "585": 0.09529796638899524,
         "586": 0.165446582337333,
         "587": 0.1382078218386168,
         "588": 0.15838983925799333,
         "589": 0.12390887896165004,
         "_deepnote_index_column": "11"
        },
        {
         "1": 0.8259633147013243,
         "2": 0.8899720614346414,
         "3": 0.24150459967900584,
         "4": 0.7535425320799083,
         "5": 0.6547579782059589,
         "6": 0.7522411175862124,
         "7": 0.6481384959186487,
         "8": 0.4527267099160529,
         "9": 0.8085154452234942,
         "10": 0.6091770750947851,
         "11": 0.64695883945991,
         "12": 1,
         "13": 0.6549228505032754,
         "14": 0.27939326745952453,
         "15": 0.41214834443026627,
         "16": 0.7562039957977047,
         "17": 0.5225234602678752,
         "18": 0.4496393427784212,
         "19": 0.6856643633518589,
         "20": 0.6059059537983984,
         "21": 0.6888975743125151,
         "22": 0.7000095452129964,
         "23": 0.4851392305090838,
         "24": 0.4802668135674635,
         "25": 0.7007158877191373,
         "26": 0.5335466033380656,
         "27": 0.5387887533174944,
         "28": 0.8654674743646357,
         "29": 0.6427504795152061,
         "30": 0.5337157521884938,
         "31": 0.7208458564025553,
         "249": 0.09312571886688392,
         "250": 0.4464639702820755,
         "251": 0.4786049277455958,
         "252": 0.8118400587741208,
         "253": 0.732748806582886,
         "254": 0.6751453339249345,
         "255": 0.6878327409349931,
         "256": 0.7767662875461474,
         "257": 0.21694576115484832,
         "258": 0.7184880537895342,
         "259": 0.6296683638633369,
         "260": 0.5981294683086522,
         "261": 0.4954755848159893,
         "262": 0.512905819363797,
         "263": 0.47438714795356407,
         "264": 0.7305124355106885,
         "265": 0.4610829038154467,
         "266": 0.5975568900575792,
         "267": 0.6315032448749612,
         "268": 0.6256575048002759,
         "269": 0.6444717601780401,
         "270": 0.8628668935565869,
         "271": 0.5462576186643758,
         "272": 0.6633635119401402,
         "273": 0.3900607085945046,
         "274": 0.5322811522612748,
         "275": 0.6695821906985842,
         "276": 0.5448372498931433,
         "277": 0.5086527777402481,
         "278": 0.6620962498002537,
         "279": 0.5141486333902014,
         "559": 0.5714357955981099,
         "560": 0.6795334670597649,
         "561": 0.44412193321786164,
         "562": 0.29352530389820497,
         "563": 0.2325329537411832,
         "564": 0.2504274046169148,
         "565": 0.7769479521094735,
         "566": 0.6096985807573603,
         "567": 0.4642833460210113,
         "568": 0.3181593281597628,
         "569": 0.21063740964181898,
         "570": 0,
         "571": 0.5533959144294427,
         "572": 0.12019595308620046,
         "573": 0.08821105231834026,
         "574": 0.17323887284242634,
         "575": 0.5688821942630506,
         "576": 0.6824588448987603,
         "577": 0.3262096857963538,
         "578": 0.42309389141756126,
         "579": 0.5449144349600223,
         "580": 0.33802890108457606,
         "581": 0.3982782210603877,
         "582": 0.21462546046779818,
         "583": 0.4047592016424152,
         "584": 0.5683553579841258,
         "585": 0.10942635670111134,
         "586": 0.27035247320227473,
         "587": 0.20280342780655836,
         "588": 0.27555761595405104,
         "589": 0.3390489284397523,
         "_deepnote_index_column": "12"
        },
        {
         "1": 0.79139214243047,
         "2": 0.6313889497178462,
         "3": 0.5384021236439183,
         "4": 0.857919039519728,
         "5": 0.9532289926681909,
         "6": 0.8210742688437446,
         "7": 0.8368953453614185,
         "8": 0.7488388591522597,
         "9": 0.5376649394785524,
         "10": 0.9836835812754103,
         "11": 0.47186631741207863,
         "12": 0.6549228505032754,
         "13": 1,
         "14": 0.5162920637013648,
         "15": 0.17447514988389146,
         "16": 0.8151990050962457,
         "17": 0.4964272604622194,
         "18": 0.756867386906163,
         "19": 0.6143987357570384,
         "20": 0.43607108251103766,
         "21": 0.8416789483213996,
         "22": 0.48500591806015025,
         "23": 0.25494624533957666,
         "24": 0.32799716229624143,
         "25": 0.9377573506985103,
         "26": 0.4288630749752951,
         "27": 0.8051479854585901,
         "28": 0.6041049497987178,
         "29": 0.9719739064854254,
         "30": 0.6219044371385725,
         "31": 0.5355056297713121,
         "249": 0,
         "250": 0.4659015866159546,
         "251": 0.5447251381843086,
         "252": 0.8201852565556065,
         "253": 0.7143381673494402,
         "254": 0.7012249938941466,
         "255": 0.6499848171741516,
         "256": 0.8393459318005061,
         "257": 0.26007540108258076,
         "258": 0.9252465981557347,
         "259": 0.7907172971227429,
         "260": 0.7828649749114932,
         "261": 0.5296697693488375,
         "262": 0.3841683329718836,
         "263": 0.4698821844186799,
         "264": 0.8795886201602904,
         "265": 0.4720865081293465,
         "266": 0.6558738229127113,
         "267": 0.9373415255955837,
         "268": 0.9653288358786402,
         "269": 0.8877083566818788,
         "270": 0.7367385899580663,
         "271": 0.7560256837482359,
         "272": 0.7410086729110872,
         "273": 0.3706721918224738,
         "274": 0.5865053548464216,
         "275": 0.7362587182717402,
         "276": 0.6052347832615286,
         "277": 0.5284954504496406,
         "278": 0.9572743269398196,
         "279": 0.6117950462537267,
         "559": 0.16667571453215524,
         "560": 0.32508306121980857,
         "561": 0.014139978421730315,
         "562": 0.5912990618571068,
         "563": 0.45439962424075186,
         "564": 0.46808701085171367,
         "565": 0.36693857139680663,
         "566": 0.8037720659651099,
         "567": 0.7870262737409481,
         "568": 0.5934453233133927,
         "569": 0.4399232500593697,
         "570": 0.24842869573806559,
         "571": 0.7021144284028897,
         "572": 0.3529973417231759,
         "573": 0.34721983796584255,
         "574": 0.4346020063957726,
         "575": 0.8591786787804451,
         "576": 0.5172802887544492,
         "577": 0.6144481141043601,
         "578": 0.7316876606459362,
         "579": 0.8741842448786957,
         "580": 0.6354213930259545,
         "581": 0.6809659866166229,
         "582": 0.4934890387307118,
         "583": 0.695425216669564,
         "584": 0.8995230815768297,
         "585": 0.37052141299782504,
         "586": 0.5704042376361596,
         "587": 0.4890521493817963,
         "588": 0.5765574126424775,
         "589": 0.5974457652604401,
         "_deepnote_index_column": "13"
        }
       ],
       "rows_bottom": [
        {
         "1": 0.44930509100634297,
         "2": 0.28351198173157277,
         "3": 0.7973208578952686,
         "4": 0.4047099394962258,
         "5": 0.5512103286970069,
         "6": 0.5717605015117474,
         "7": 0.6033669604567329,
         "8": 0.884099495147568,
         "9": 0.3675916001215731,
         "10": 0.5793629084134835,
         "11": 0.12390887896165004,
         "12": 0.3390489284397523,
         "13": 0.5974457652604401,
         "14": 0.5341211997245392,
         "15": 0.07895328641831989,
         "16": 0.3229568531224497,
         "17": 0.20721341975621277,
         "18": 0.8514663907344597,
         "19": 0.1677429459507246,
         "20": 0.1151307736145134,
         "21": 0.38169412874730546,
         "22": 0.15310063269295993,
         "23": 0.08096675732342606,
         "24": 0.13130125130221382,
         "25": 0.5858376353337719,
         "26": 0.15882266263393874,
         "27": 0.5516672778041158,
         "28": 0.26265451142589213,
         "29": 0.6331285124946451,
         "30": 0.7455319873166872,
         "31": 0.16476668800492145,
         "249": 0.17015732978745124,
         "250": 0.2383721415640503,
         "251": 0.268005168967675,
         "252": 0.4740854880423463,
         "253": 0.595019587471534,
         "254": 0.6475823303606024,
         "255": 0.6103291304801841,
         "256": 0.5356015594315705,
         "257": 0.2534137658176143,
         "258": 0.5582765742012912,
         "259": 0.3786382720846506,
         "260": 0.7532989678358144,
         "261": 0.2462331885360698,
         "262": 0.5665687651822522,
         "263": 0.6774432322048873,
         "264": 0.5864597793365925,
         "265": 0.691787222828437,
         "266": 0.702112468653655,
         "267": 0.6714682832957788,
         "268": 0.6183189205160733,
         "269": 0.4928950350996357,
         "270": 0.327348837949644,
         "271": 0.8051918997799344,
         "272": 0.6740261508484717,
         "273": 0.6630265531400006,
         "274": 0.7199568466158832,
         "275": 0.6661392275635709,
         "276": 0.7215279143873541,
         "277": 0.6959141880144581,
         "278": 0.6296347142687141,
         "279": 0.7587793010352655,
         "559": 0.30445103219624015,
         "560": 0.18589307712578973,
         "561": 0.17539433609453214,
         "562": 0.7276676055002245,
         "563": 0.5019221957477545,
         "564": 0.4922660591088237,
         "565": 0.27348375208021825,
         "566": 0.42738106448664615,
         "567": 0.7561031393391048,
         "568": 0.6293370624236158,
         "569": 0.5205284216428394,
         "570": 0.5867162533104338,
         "571": 0.35229965584524814,
         "572": 0.5339647120868412,
         "573": 0.6125316093905274,
         "574": 0.609824733704388,
         "575": 0.5803621338689888,
         "576": 0.5243407036016648,
         "577": 0.6696454352571288,
         "578": 0.7043970676851652,
         "579": 0.6836082324496098,
         "580": 0.890415129806961,
         "581": 0.6301266361426086,
         "582": 0.6645056712348111,
         "583": 0.6507522944464538,
         "584": 0.7120969220469935,
         "585": 0.6170115553007898,
         "586": 0.7743181564309496,
         "587": 0.7037460360994321,
         "588": 0.7970865515843066,
         "589": 1,
         "_deepnote_index_column": "589"
        },
        {
         "1": 0.8339435495539662,
         "2": 0.7967984283538273,
         "3": 0.5754902456133499,
         "4": 0.950981666034504,
         "5": 0.8457667198623168,
         "6": 1,
         "7": 0.8662576686607111,
         "8": 0.5066366752176429,
         "9": 0.6646641661014494,
         "10": 0.8291662072211914,
         "11": 0.6265250695815229,
         "12": 0.7522411175862124,
         "13": 0.8210742688437446,
         "14": 0.5944958062664506,
         "15": 0.5108018557159912,
         "16": 0.9927453031851364,
         "17": 0.6707334917754006,
         "18": 0.6590256970075805,
         "19": 0.7713208428609488,
         "20": 0.6425535523977317,
         "21": 0.9205571730043489,
         "22": 0.6897937863387686,
         "23": 0.5435257601918154,
         "24": 0.5865540400870883,
         "25": 0.8327499583031834,
         "26": 0.6399716905213313,
         "27": 0.7717603443929332,
         "28": 0.7808893004632053,
         "29": 0.8001137265977287,
         "30": 0.6305173430081451,
         "31": 0.7248874154300267,
         "249": 0.45923364105608555,
         "250": 0.637051356476323,
         "251": 0.6703182374960237,
         "252": 0.8490185451612962,
         "253": 0.7179127832777095,
         "254": 0.6944059442791053,
         "255": 0.6769027454843561,
         "256": 0.8237140082950589,
         "257": 0.520645419470547,
         "258": 0.8492856689377355,
         "259": 0.8492083147213737,
         "260": 0.7009259020251442,
         "261": 0.6740528843300407,
         "262": 0.5586506786495125,
         "263": 0.5774385357193645,
         "264": 0.8147408803923217,
         "265": 0.5757388628347796,
         "266": 0.6567800191038493,
         "267": 0.7777530290243388,
         "268": 0.8050067986077974,
         "269": 0.8640455922786655,
         "270": 0.8714409703621865,
         "271": 0.6742154972574217,
         "272": 0.7070669923905142,
         "273": 0.5407525305271146,
         "274": 0.6200424341594493,
         "275": 0.7071470073371169,
         "276": 0.6282835851504021,
         "277": 0.599037045477483,
         "278": 0.8056317068706307,
         "279": 0.6229306614241561,
         "559": 0.5235264133738216,
         "560": 0.6128307663323046,
         "561": 0.4960802115418771,
         "562": 0.6082534882695787,
         "563": 0.5657717653053307,
         "564": 0.5734155787874695,
         "565": 0.6257171089304594,
         "566": 0.8339172758734174,
         "567": 0.6948007660873687,
         "568": 0.6233873947879964,
         "569": 0.5585492512904695,
         "570": 0.48684221209683876,
         "571": 0.7600669414420318,
         "572": 0.522414609842963,
         "573": 0.5189218525356254,
         "574": 0.5522945712481787,
         "575": 0.7922479248582937,
         "576": 0.6233666442957949,
         "577": 0.6279752903765771,
         "578": 0.6811474349812572,
         "579": 0.7533636293416452,
         "580": 0.6034733954656525,
         "581": 0.6703632508809099,
         "582": 0.5725176339169106,
         "583": 0.6740014616309715,
         "584": 0.7476095207260154,
         "585": 0.5271291541880996,
         "586": 0.5923282747490253,
         "587": 0.5665841218038739,
         "588": 0.5917899944660522,
         "589": 0.5717605015117474,
         "_deepnote_index_column": "6"
        },
        {
         "1": 0.7378460402794351,
         "2": 0.6917705064067989,
         "3": 0.6389232662090973,
         "4": 0.8609215744335543,
         "5": 0.8799964837187397,
         "6": 0.8662576686607111,
         "7": 1,
         "8": 0.5907748687361165,
         "9": 0.5842844608134007,
         "10": 0.8504569707496571,
         "11": 0.5712802563175794,
         "12": 0.6481384959186487,
         "13": 0.8368953453614185,
         "14": 0.6837040040418788,
         "15": 0.4821651934510024,
         "16": 0.8603953354935007,
         "17": 0.688606907831759,
         "18": 0.7052723895536566,
         "19": 0.7341076697208271,
         "20": 0.6053824062038482,
         "21": 0.9489990537153215,
         "22": 0.6272751974660795,
         "23": 0.5093551865191435,
         "24": 0.5719492426628676,
         "25": 0.8092781757629602,
         "26": 0.6317055891808798,
         "27": 0.8781549228773169,
         "28": 0.6815927589508275,
         "29": 0.8149456968241979,
         "30": 0.607486270415823,
         "31": 0.6604536280408972,
         "249": 0.4796872626496673,
         "250": 0.6775041690312862,
         "251": 0.7274672258877382,
         "252": 0.7610793862018232,
         "253": 0.659341601161642,
         "254": 0.6485083608729166,
         "255": 0.6229986877045577,
         "256": 0.7556035441684609,
         "257": 0.5724808928022329,
         "258": 0.8147014875669284,
         "259": 0.9497912555718983,
         "260": 0.6878854668466869,
         "261": 0.7171851558036983,
         "262": 0.5100046922196835,
         "263": 0.5455940817155458,
         "264": 0.7693331463868891,
         "265": 0.5467553401397136,
         "266": 0.623665027036566,
         "267": 0.7881069655507962,
         "268": 0.8421103927977946,
         "269": 0.9441750045492943,
         "270": 0.7513838668907132,
         "271": 0.6728627891628147,
         "272": 0.6686643595389143,
         "273": 0.5117859965791458,
         "274": 0.592102161724083,
         "275": 0.6665458409041265,
         "276": 0.6002141109098921,
         "277": 0.5681169869302799,
         "278": 0.8046778916764284,
         "279": 0.6029671993236629,
         "559": 0.4504629057405156,
         "560": 0.5408188256930129,
         "561": 0.4342231121704838,
         "562": 0.6841350451410708,
         "563": 0.6519843939831018,
         "564": 0.6606463042811074,
         "565": 0.5410295774027025,
         "566": 0.9512493094094828,
         "567": 0.76285319222918,
         "568": 0.7110081245383482,
         "569": 0.6432038497557452,
         "570": 0.5563087166508118,
         "571": 0.8535390368186133,
         "572": 0.6011379324041598,
         "573": 0.5922266174447712,
         "574": 0.6313143937701229,
         "575": 0.8864639927717423,
         "576": 0.5584102737196063,
         "577": 0.7123953094169619,
         "578": 0.763642295906729,
         "579": 0.8204438574846962,
         "580": 0.6545705270353596,
         "581": 0.7628466538143724,
         "582": 0.6503040233807271,
         "583": 0.7644100526057471,
         "584": 0.790545397033892,
         "585": 0.6015076775084822,
         "586": 0.6607205045934905,
         "587": 0.6397258384408222,
         "588": 0.6570862790420249,
         "589": 0.6033669604567329,
         "_deepnote_index_column": "7"
        },
        {
         "1": 0.576607243659347,
         "2": 0.41760426941095785,
         "3": 0.806888107061147,
         "4": 0.5691637203424095,
         "5": 0.7105401862736023,
         "6": 0.5066366752176429,
         "7": 0.5907748687361165,
         "8": 1,
         "9": 0.4188714408711812,
         "10": 0.7347297143515683,
         "11": 0.25617861857397817,
         "12": 0.4527267099160529,
         "13": 0.7488388591522597,
         "14": 0.6182647044457898,
         "15": 0.19671648554007692,
         "16": 0.49839198571055143,
         "17": 0.3494569661153961,
         "18": 0.9697207525115967,
         "19": 0.3338596441290891,
         "20": 0.2586165793200973,
         "21": 0.5568004417183183,
         "22": 0.29407172102178825,
         "23": 0.20621595956079575,
         "24": 0.26004972076203736,
         "25": 0.7242797393969834,
         "26": 0.2971080661933616,
         "27": 0.6957867701559579,
         "28": 0.39694567874072395,
         "29": 0.7787197226380547,
         "30": 0.7546137413634671,
         "31": 0.3122879989534153,
         "249": 0.2636308112302923,
         "250": 0.37178201167585123,
         "251": 0.409859219940064,
         "252": 0.604819771060474,
         "253": 0.6674381627554145,
         "254": 0.7043678023715414,
         "255": 0.662116649112773,
         "256": 0.6567827131089043,
         "257": 0.3564005671445427,
         "258": 0.6988882089675312,
         "259": 0.5481887594034263,
         "260": 0.8211752840381461,
         "261": 0.3886110111133311,
         "262": 0.5762801806902591,
         "263": 0.6697022915103039,
         "264": 0.7085399180304424,
         "265": 0.6799287242324121,
         "266": 0.7328351186096036,
         "267": 0.8078368445396552,
         "268": 0.7709700781277851,
         "269": 0.6566306151696646,
         "270": 0.4744412905989722,
         "271": 0.8581186552958167,
         "272": 0.7372264711400017,
         "273": 0.6417247427717472,
         "274": 0.726300623273074,
         "275": 0.729414113544034,
         "276": 0.7325430152827046,
         "277": 0.695072253959552,
         "278": 0.7687204570418404,
         "279": 0.760943865542266,
         "559": 0.36028217595024503,
         "560": 0.29468201528266436,
         "561": 0.255309370120957,
         "562": 0.7806752310738142,
         "563": 0.581023906669233,
         "564": 0.5762597406247798,
         "565": 0.36398438117347265,
         "566": 0.5909439151210123,
         "567": 0.8745592979044158,
         "568": 0.708907353268321,
         "569": 0.5924801342506427,
         "570": 0.6068741445875027,
         "571": 0.5108137695327665,
         "572": 0.5866759435296236,
         "573": 0.6417893878768618,
         "574": 0.6573794517794878,
         "575": 0.7295492355684192,
         "576": 0.5682947174817083,
         "577": 0.7451149591898225,
         "578": 0.8082026429861423,
         "579": 0.826006847135,
         "580": 0.9002646290539501,
         "581": 0.7324289108338425,
         "582": 0.709274973102658,
         "583": 0.7530048789983744,
         "584": 0.8558093725271636,
         "585": 0.6493632152031192,
         "586": 0.8048310864324977,
         "587": 0.734622788166555,
         "588": 0.8211031837031655,
         "589": 0.884099495147568,
         "_deepnote_index_column": "8"
        },
        {
         "1": 0.6893614423230996,
         "2": 0.8931052121444518,
         "3": 0.37375895762669853,
         "4": 0.6483717508636939,
         "5": 0.5472235830357373,
         "6": 0.6646641661014494,
         "7": 0.5842844608134007,
         "8": 0.4188714408711812,
         "9": 1,
         "10": 0.5382380414811708,
         "11": 0.8308575980149739,
         "12": 0.8085154452234942,
         "13": 0.5376649394785524,
         "14": 0.41214496291292846,
         "15": 0.6662366512215707,
         "16": 0.6710371816490466,
         "17": 0.6626873020316855,
         "18": 0.4245822742606409,
         "19": 0.7763169093271097,
         "20": 0.7853883749203137,
         "21": 0.6085810836347121,
         "22": 0.8854353747518283,
         "23": 0.7098635014374096,
         "24": 0.6950431767410836,
         "25": 0.5769375561423222,
         "26": 0.7111749790109663,
         "27": 0.5140622222262162,
         "28": 0.9279403765754811,
         "29": 0.5271975735383593,
         "30": 0.48675354599549214,
         "31": 0.8879802277912712,
         "249": 0.4938252465134215,
         "250": 0.593567273717678,
         "251": 0.5751052453535571,
         "252": 0.669266022301879,
         "253": 0.5955850125155023,
         "254": 0.5609464493532788,
         "255": 0.5713236954839307,
         "256": 0.6342619528003022,
         "257": 0.47217074324540664,
         "258": 0.5932680754990042,
         "259": 0.5870122751948886,
         "260": 0.5070919826427394,
         "261": 0.6078514802086835,
         "262": 0.5052349247668853,
         "263": 0.4756087756285542,
         "264": 0.5980682573319361,
         "265": 0.46854336574364663,
         "266": 0.5192528770581208,
         "267": 0.5190954668437033,
         "268": 0.5206239471709282,
         "269": 0.5639704313009593,
         "270": 0.7839610801707488,
         "271": 0.4754421109274951,
         "272": 0.5516525303196051,
         "273": 0.448532842513253,
         "274": 0.4905541644649122,
         "275": 0.5557332892404752,
         "276": 0.49514626028647823,
         "277": 0.4853856420098972,
         "278": 0.5439272788882542,
         "279": 0.47695384366148763,
         "559": 0.6227024276668656,
         "560": 0.8354678401722446,
         "561": 0.669086126055582,
         "562": 0.39958406191929285,
         "563": 0.3970838306960627,
         "564": 0.4046122960002996,
         "565": 0.7871044766213715,
         "566": 0.5677057275091202,
         "567": 0.44991170970772465,
         "568": 0.41871263237876144,
         "569": 0.38918925699118634,
         "570": 0.3288210923447933,
         "571": 0.5550266137331313,
         "572": 0.3613466152046736,
         "573": 0.34940337000864463,
         "574": 0.3733158486097593,
         "575": 0.5190966760799587,
         "576": 0.5786818798184549,
         "577": 0.4172887628614571,
         "578": 0.446150757997676,
         "579": 0.4876342934259562,
         "580": 0.38857778501845475,
         "581": 0.4476727451613087,
         "582": 0.38151288805502936,
         "583": 0.4474274040558812,
         "584": 0.4828744838510237,
         "585": 0.3547956738293311,
         "586": 0.38608533544535006,
         "587": 0.37402437420519186,
         "588": 0.3844563544493581,
         "589": 0.3675916001215731,
         "_deepnote_index_column": "9"
        }
       ]
      },
      "text/plain": "            1        10        11        12        13        14        15  \\\n1    1.000000  0.789150  0.508620  0.825963  0.791392  0.345814  0.272856   \n10   0.789150  1.000000  0.390365  0.609177  0.983684  0.519112  0.174278   \n11   0.508620  0.390365  1.000000  0.646959  0.471866  0.302964  0.785751   \n12   0.825963  0.609177  0.646959  1.000000  0.654923  0.279393  0.412148   \n13   0.791392  0.983684  0.471866  0.654923  1.000000  0.516292  0.174475   \n..        ...       ...       ...       ...       ...       ...       ...   \n589  0.449305  0.579363  0.123909  0.339049  0.597446  0.534121  0.078953   \n6    0.833944  0.829166  0.626525  0.752241  0.821074  0.594496  0.510802   \n7    0.737846  0.850457  0.571280  0.648138  0.836895  0.683704  0.482165   \n8    0.576607  0.734730  0.256179  0.452727  0.748839  0.618265  0.196716   \n9    0.689361  0.538238  0.830858  0.808515  0.537665  0.412145  0.666237   \n\n           16        17        18  ...       584       585       586  \\\n1    0.834553  0.494076  0.573280  ...  0.700593  0.180883  0.372035   \n10   0.823054  0.504038  0.744829  ...  0.890958  0.365880  0.563198   \n11   0.631587  0.725651  0.267678  ...  0.391080  0.095298  0.165447   \n12   0.756204  0.522523  0.449639  ...  0.568355  0.109426  0.270352   \n13   0.815199  0.496427  0.756867  ...  0.899523  0.370521  0.570404   \n..        ...       ...       ...  ...       ...       ...       ...   \n589  0.322957  0.207213  0.851466  ...  0.712097  0.617012  0.774318   \n6    0.992745  0.670733  0.659026  ...  0.747610  0.527129  0.592328   \n7    0.860395  0.688607  0.705272  ...  0.790545  0.601508  0.660721   \n8    0.498392  0.349457  0.969721  ...  0.855809  0.649363  0.804831   \n9    0.671037  0.662687  0.424582  ...  0.482874  0.354796  0.386085   \n\n          587       588       589         6         7         8         9  \n1    0.292209  0.379519  0.449305  0.833944  0.737846  0.576607  0.689361  \n10   0.483501  0.568212  0.579363  0.829166  0.850457  0.734730  0.538238  \n11   0.138208  0.158390  0.123909  0.626525  0.571280  0.256179  0.830858  \n12   0.202803  0.275558  0.339049  0.752241  0.648138  0.452727  0.808515  \n13   0.489052  0.576557  0.597446  0.821074  0.836895  0.748839  0.537665  \n..        ...       ...       ...       ...       ...       ...       ...  \n589  0.703746  0.797087  1.000000  0.571761  0.603367  0.884099  0.367592  \n6    0.566584  0.591790  0.571761  1.000000  0.866258  0.506637  0.664664  \n7    0.639726  0.657086  0.603367  0.866258  1.000000  0.590775  0.584284  \n8    0.734623  0.821103  0.884099  0.506637  0.590775  1.000000  0.418871  \n9    0.374024  0.384456  0.367592  0.664664  0.584284  0.418871  1.000000  \n\n[93 rows x 93 columns]",
      "text/html": "<div>\n<style scoped>\n    .dataframe tbody tr th:only-of-type {\n        vertical-align: middle;\n    }\n\n    .dataframe tbody tr th {\n        vertical-align: top;\n    }\n\n    .dataframe thead th {\n        text-align: right;\n    }\n</style>\n<table border=\"1\" class=\"dataframe\">\n  <thead>\n    <tr style=\"text-align: right;\">\n      <th></th>\n      <th>1</th>\n      <th>10</th>\n      <th>11</th>\n      <th>12</th>\n      <th>13</th>\n      <th>14</th>\n      <th>15</th>\n      <th>16</th>\n      <th>17</th>\n      <th>18</th>\n      <th>...</th>\n      <th>584</th>\n      <th>585</th>\n      <th>586</th>\n      <th>587</th>\n      <th>588</th>\n      <th>589</th>\n      <th>6</th>\n      <th>7</th>\n      <th>8</th>\n      <th>9</th>\n    </tr>\n  </thead>\n  <tbody>\n    <tr>\n      <th>1</th>\n      <td>1.000000</td>\n      <td>0.789150</td>\n      <td>0.508620</td>\n      <td>0.825963</td>\n      <td>0.791392</td>\n      <td>0.345814</td>\n      <td>0.272856</td>\n      <td>0.834553</td>\n      <td>0.494076</td>\n      <td>0.573280</td>\n      <td>...</td>\n      <td>0.700593</td>\n      <td>0.180883</td>\n      <td>0.372035</td>\n      <td>0.292209</td>\n      <td>0.379519</td>\n      <td>0.449305</td>\n      <td>0.833944</td>\n      <td>0.737846</td>\n      <td>0.576607</td>\n      <td>0.689361</td>\n    </tr>\n    <tr>\n      <th>10</th>\n      <td>0.789150</td>\n      <td>1.000000</td>\n      <td>0.390365</td>\n      <td>0.609177</td>\n      <td>0.983684</td>\n      <td>0.519112</td>\n      <td>0.174278</td>\n      <td>0.823054</td>\n      <td>0.504038</td>\n      <td>0.744829</td>\n      <td>...</td>\n      <td>0.890958</td>\n      <td>0.365880</td>\n      <td>0.563198</td>\n      <td>0.483501</td>\n      <td>0.568212</td>\n      <td>0.579363</td>\n      <td>0.829166</td>\n      <td>0.850457</td>\n      <td>0.734730</td>\n      <td>0.538238</td>\n    </tr>\n    <tr>\n      <th>11</th>\n      <td>0.508620</td>\n      <td>0.390365</td>\n      <td>1.000000</td>\n      <td>0.646959</td>\n      <td>0.471866</td>\n      <td>0.302964</td>\n      <td>0.785751</td>\n      <td>0.631587</td>\n      <td>0.725651</td>\n      <td>0.267678</td>\n      <td>...</td>\n      <td>0.391080</td>\n      <td>0.095298</td>\n      <td>0.165447</td>\n      <td>0.138208</td>\n      <td>0.158390</td>\n      <td>0.123909</td>\n      <td>0.626525</td>\n      <td>0.571280</td>\n      <td>0.256179</td>\n      <td>0.830858</td>\n    </tr>\n    <tr>\n      <th>12</th>\n      <td>0.825963</td>\n      <td>0.609177</td>\n      <td>0.646959</td>\n      <td>1.000000</td>\n      <td>0.654923</td>\n      <td>0.279393</td>\n      <td>0.412148</td>\n      <td>0.756204</td>\n      <td>0.522523</td>\n      <td>0.449639</td>\n      <td>...</td>\n      <td>0.568355</td>\n      <td>0.109426</td>\n      <td>0.270352</td>\n      <td>0.202803</td>\n      <td>0.275558</td>\n      <td>0.339049</td>\n      <td>0.752241</td>\n      <td>0.648138</td>\n      <td>0.452727</td>\n      <td>0.808515</td>\n    </tr>\n    <tr>\n      <th>13</th>\n      <td>0.791392</td>\n      <td>0.983684</td>\n      <td>0.471866</td>\n      <td>0.654923</td>\n      <td>1.000000</td>\n      <td>0.516292</td>\n      <td>0.174475</td>\n      <td>0.815199</td>\n      <td>0.496427</td>\n      <td>0.756867</td>\n      <td>...</td>\n      <td>0.899523</td>\n      <td>0.370521</td>\n      <td>0.570404</td>\n      <td>0.489052</td>\n      <td>0.576557</td>\n      <td>0.597446</td>\n      <td>0.821074</td>\n      <td>0.836895</td>\n      <td>0.748839</td>\n      <td>0.537665</td>\n    </tr>\n    <tr>\n      <th>...</th>\n      <td>...</td>\n      <td>...</td>\n      <td>...</td>\n      <td>...</td>\n      <td>...</td>\n      <td>...</td>\n      <td>...</td>\n      <td>...</td>\n      <td>...</td>\n      <td>...</td>\n      <td>...</td>\n      <td>...</td>\n      <td>...</td>\n      <td>...</td>\n      <td>...</td>\n      <td>...</td>\n      <td>...</td>\n      <td>...</td>\n      <td>...</td>\n      <td>...</td>\n      <td>...</td>\n    </tr>\n    <tr>\n      <th>589</th>\n      <td>0.449305</td>\n      <td>0.579363</td>\n      <td>0.123909</td>\n      <td>0.339049</td>\n      <td>0.597446</td>\n      <td>0.534121</td>\n      <td>0.078953</td>\n      <td>0.322957</td>\n      <td>0.207213</td>\n      <td>0.851466</td>\n      <td>...</td>\n      <td>0.712097</td>\n      <td>0.617012</td>\n      <td>0.774318</td>\n      <td>0.703746</td>\n      <td>0.797087</td>\n      <td>1.000000</td>\n      <td>0.571761</td>\n      <td>0.603367</td>\n      <td>0.884099</td>\n      <td>0.367592</td>\n    </tr>\n    <tr>\n      <th>6</th>\n      <td>0.833944</td>\n      <td>0.829166</td>\n      <td>0.626525</td>\n      <td>0.752241</td>\n      <td>0.821074</td>\n      <td>0.594496</td>\n      <td>0.510802</td>\n      <td>0.992745</td>\n      <td>0.670733</td>\n      <td>0.659026</td>\n      <td>...</td>\n      <td>0.747610</td>\n      <td>0.527129</td>\n      <td>0.592328</td>\n      <td>0.566584</td>\n      <td>0.591790</td>\n      <td>0.571761</td>\n      <td>1.000000</td>\n      <td>0.866258</td>\n      <td>0.506637</td>\n      <td>0.664664</td>\n    </tr>\n    <tr>\n      <th>7</th>\n      <td>0.737846</td>\n      <td>0.850457</td>\n      <td>0.571280</td>\n      <td>0.648138</td>\n      <td>0.836895</td>\n      <td>0.683704</td>\n      <td>0.482165</td>\n      <td>0.860395</td>\n      <td>0.688607</td>\n      <td>0.705272</td>\n      <td>...</td>\n      <td>0.790545</td>\n      <td>0.601508</td>\n      <td>0.660721</td>\n      <td>0.639726</td>\n      <td>0.657086</td>\n      <td>0.603367</td>\n      <td>0.866258</td>\n      <td>1.000000</td>\n      <td>0.590775</td>\n      <td>0.584284</td>\n    </tr>\n    <tr>\n      <th>8</th>\n      <td>0.576607</td>\n      <td>0.734730</td>\n      <td>0.256179</td>\n      <td>0.452727</td>\n      <td>0.748839</td>\n      <td>0.618265</td>\n      <td>0.196716</td>\n      <td>0.498392</td>\n      <td>0.349457</td>\n      <td>0.969721</td>\n      <td>...</td>\n      <td>0.855809</td>\n      <td>0.649363</td>\n      <td>0.804831</td>\n      <td>0.734623</td>\n      <td>0.821103</td>\n      <td>0.884099</td>\n      <td>0.506637</td>\n      <td>0.590775</td>\n      <td>1.000000</td>\n      <td>0.418871</td>\n    </tr>\n    <tr>\n      <th>9</th>\n      <td>0.689361</td>\n      <td>0.538238</td>\n      <td>0.830858</td>\n      <td>0.808515</td>\n      <td>0.537665</td>\n      <td>0.412145</td>\n      <td>0.666237</td>\n      <td>0.671037</td>\n      <td>0.662687</td>\n      <td>0.424582</td>\n      <td>...</td>\n      <td>0.482874</td>\n      <td>0.354796</td>\n      <td>0.386085</td>\n      <td>0.374024</td>\n      <td>0.384456</td>\n      <td>0.367592</td>\n      <td>0.664664</td>\n      <td>0.584284</td>\n      <td>0.418871</td>\n      <td>1.000000</td>\n    </tr>\n  </tbody>\n</table>\n<p>93 rows × 93 columns</p>\n</div>"
     },
     "metadata": {}
    }
   ],
   "execution_count": null
  },
  {
   "cell_type": "code",
   "metadata": {
    "tags": [],
    "cell_id": "00043-207c5d4c-78ed-457a-96cc-df9a95da9cb7",
    "deepnote_to_be_reexecuted": false,
    "source_hash": "e96974a3",
    "execution_start": 1638373798887,
    "execution_millis": 19,
    "deepnote_cell_type": "code"
   },
   "source": "# Faccio svd con 93 componenti (e poi mi prendo solo quelle che servono)\nn_components = 92\nsvd_latent_gestures, svd_variance = generate_gesture_gesture_svd(gestures_sim_matrix_pd, n_components=n_components)",
   "outputs": [],
   "execution_count": null
  },
  {
   "cell_type": "code",
   "metadata": {
    "deepnote_variable_name": "t3_query_top_p",
    "deepnote_variable_value": "5",
    "cell_id": "00041-8c620e05-f0f6-42c6-b128-88970e1c1838",
    "deepnote_to_be_reexecuted": false,
    "source_hash": "ca37bedc",
    "execution_start": 1638373798929,
    "execution_millis": 651949,
    "deepnote_cell_type": "input-text"
   },
   "source": "t3_query_top_p = '5'",
   "outputs": [],
   "execution_count": null
  },
  {
   "cell_type": "code",
   "metadata": {
    "tags": [],
    "cell_id": "00045-15bd40d7-33e0-4c8b-8e79-96acaf28063b",
    "deepnote_to_be_reexecuted": false,
    "source_hash": "8c1b6ce9",
    "execution_start": 1638373798953,
    "execution_millis": 651941,
    "deepnote_cell_type": "code"
   },
   "source": "t3_query_top_p = int(t3_query_top_p)\n# Input value check\nif t3_query_top_p < 1:\n    t3_query_top_p = 1\nelif t3_query_top_p > n_components:\n    t3_query_top_p = n_components\n\n# Tiro fuori le top p gestures latenti\ntop_p_gestures = get_top_p_latent_gestures(svd_latent_gestures, t3_query_top_p)",
   "outputs": [],
   "execution_count": null
  },
  {
   "cell_type": "code",
   "metadata": {
    "tags": [],
    "cell_id": "00046-2640e2e4-32f0-460d-9b08-42795dbb8006",
    "deepnote_to_be_reexecuted": false,
    "source_hash": "bf6ad681",
    "execution_start": 1638373798967,
    "execution_millis": 651910,
    "deepnote_cell_type": "code"
   },
   "source": "#top_p_gestures",
   "outputs": [],
   "execution_count": null
  },
  {
   "cell_type": "markdown",
   "source": "## Task 4",
   "metadata": {
    "tags": [],
    "is_collapsed": false,
    "cell_id": "00044-9cfe662a-8cc0-4eed-8c0c-f9fe6eb8fd34",
    "deepnote_cell_type": "text-cell-h2"
   }
  },
  {
   "cell_type": "code",
   "metadata": {
    "deepnote_variable_name": "t4_p_partitions",
    "deepnote_variable_value": "3",
    "cell_id": "00047-107ad2bf-4161-48cc-944f-5dd10698959d",
    "deepnote_to_be_reexecuted": false,
    "source_hash": "21bab306",
    "execution_start": 1638373799015,
    "execution_millis": 651898,
    "deepnote_cell_type": "input-text"
   },
   "source": "t4_p_partitions = '3'",
   "outputs": [],
   "execution_count": null
  },
  {
   "cell_type": "code",
   "metadata": {
    "tags": [],
    "cell_id": "00048-fa675f74-61bc-4d04-9b33-06518fb6e745",
    "deepnote_to_be_reexecuted": false,
    "source_hash": "5f16cad7",
    "execution_start": 1638373799016,
    "execution_millis": 651898,
    "deepnote_cell_type": "code"
   },
   "source": "t4_p_partitions = int(t4_p_partitions)\n# Input value check\nif t4_p_partitions < 1:\n    t4_p_partitions = 1",
   "outputs": [],
   "execution_count": null
  },
  {
   "cell_type": "markdown",
   "source": "### Task 4A",
   "metadata": {
    "tags": [],
    "is_collapsed": false,
    "cell_id": "00045-1989ef30-c1fe-4922-8612-930834cd9cd1",
    "deepnote_cell_type": "text-cell-h3"
   }
  },
  {
   "cell_type": "markdown",
   "source": "Partizionamento top_p_gestures in base ai loro gradi di appartenenza alle p semantiche",
   "metadata": {
    "tags": [],
    "is_collapsed": false,
    "cell_id": "00047-a0819029-fabf-499e-9cbd-2e837f0f16ab",
    "deepnote_cell_type": "text-cell-p"
   }
  },
  {
   "cell_type": "code",
   "metadata": {
    "tags": [],
    "cell_id": "00052-c04737e2-8510-42f7-861f-c8625338840c",
    "deepnote_to_be_reexecuted": false,
    "source_hash": "2523e3da",
    "execution_start": 1638373799016,
    "execution_millis": 651902,
    "deepnote_cell_type": "code"
   },
   "source": "# Preparo i dati\nmax_iterations = 100 # max numero di iterazioni\n\n# Dati reali (le top p gestures appena calcolate)\n# Essendo le top p gestures in un 'formato strano' le traduco in un array numpy (sono una lista di dizionari di liste)\nX_train = top_p_gestures_2_numpy(top_p_gestures, t3_query_top_p, t1_metrics_data['filename'])\nX_test = X_train[:10] # Prendo un dato a caso giusto x testare la predict\n#X_test = [np.array([0.5, 0.2, 0.3, 0.7, 0.1])] # Un esempio a caso deve avere p dimensioni (se non presente fra i dati deve dare None)\n\n# Semplice esempio di test su 2 dimensioni\n#X_train = [np.array([1, 1]), np.array([2, 2]), np.array([3, 3]), np.array([4, 1]), np.array([1, 2]), np.array([-1, -2]), np.array([5, 2])]\n#X_test = [np.array([4, 1]), np.array([4, 2])]",
   "outputs": [],
   "execution_count": null
  },
  {
   "cell_type": "code",
   "metadata": {
    "tags": [],
    "cell_id": "00050-387b0fc0-e1be-4529-ae1a-41b89849d568",
    "deepnote_to_be_reexecuted": false,
    "source_hash": "c8693f90",
    "execution_start": 1638373799016,
    "execution_millis": 1726,
    "deepnote_output_heights": [
     194,
     155.60000610351562
    ],
    "deepnote_cell_type": "code"
   },
   "source": "# Creo e fitto il partizionatore selezionando t4_p_partitions come numero di gruppi da creare\npartitioner = MyPartitioner(t4_p_partitions, max_iterations=max_iterations)\npartitioner.fit(X_train)\n#partitioner.fit(gesture_sim_matrix)\nprint(\"Dimensione spazio:\", partitioner.groups_space_dimension)\n#print(\"Gruppi:\\n\", partitioner.groups)",
   "outputs": [
    {
     "name": "stdout",
     "text": "Dimensione spazio: 5.75982350159885\n",
     "output_type": "stream"
    }
   ],
   "execution_count": null
  },
  {
   "cell_type": "code",
   "metadata": {
    "tags": [],
    "cell_id": "00051-57c18208-c98c-46bf-bf97-9c4d242d0c56",
    "deepnote_to_be_reexecuted": false,
    "source_hash": "13c56718",
    "execution_start": 1638373800740,
    "execution_millis": 22,
    "deepnote_cell_type": "code"
   },
   "source": "print(\"Predizione gruppi:\", partitioner.predict(X_test))",
   "outputs": [
    {
     "name": "stdout",
     "text": "Predizione gruppi: [0, 2, 0, 0, 2, 1, 0, 2, 1, 0]\n",
     "output_type": "stream"
    }
   ],
   "execution_count": null
  },
  {
   "cell_type": "markdown",
   "source": "### Task 4B",
   "metadata": {
    "tags": [],
    "is_collapsed": false,
    "cell_id": "00046-aba01dff-15c5-4d34-91d7-d45e7d1d2aa0",
    "deepnote_cell_type": "text-cell-h3"
   }
  },
  {
   "cell_type": "markdown",
   "source": "Clustering matrice similarità gesture-gesture con un algoritmo basato sul k-means (scritto da noi)",
   "metadata": {
    "tags": [],
    "is_collapsed": false,
    "cell_id": "00049-e8f155be-1fbc-4c3e-b02b-696dfd483adc",
    "deepnote_cell_type": "text-cell-p"
   }
  },
  {
   "cell_type": "code",
   "metadata": {
    "tags": [],
    "cell_id": "00053-fc41c804-7678-4cea-b1fc-2dcc84e5b4bc",
    "deepnote_to_be_reexecuted": false,
    "source_hash": "29b2d131",
    "execution_start": 1638373800760,
    "execution_millis": 1,
    "deepnote_cell_type": "code"
   },
   "source": "# Settings del k-means\nk = t4_p_partitions # numero clusters\nmin_tolerance = 0.1 #meno di 10% differenza va bene\nmax_iterations = 5 # max numero di iterazioni\n\n# Preparo i dati x il clustering\nX_train = gestures_sim_matrix_pd.to_numpy()\n# Prendo parte dei dati x vedere poi dopo dove sono andati a finire (dovrebbero essere circa tutti nello stesso se prendo tipo i top 10)\n#(poi dopo a causa dell'ordinamento lessicografico posso avere roba differente)\nX_test = X_train[0:10] # Prendo tot elementi del training data e provo poi a predirli, o sotto predico un elemento nuovo",
   "outputs": [],
   "execution_count": null
  },
  {
   "cell_type": "code",
   "metadata": {
    "tags": [],
    "cell_id": "00058-4ef383b8-7d8c-4a21-b34c-6a26a85da39b",
    "deepnote_to_be_reexecuted": false,
    "source_hash": "418ea723",
    "execution_start": 1638373800763,
    "execution_millis": 24,
    "deepnote_cell_type": "code"
   },
   "source": "# Creazione e fit dell'algoritmo\nkmean = SimpleKMeans(k=k, min_tolerance=min_tolerance, max_iterations=max_iterations)\nkmean.fit(X_train)",
   "outputs": [],
   "execution_count": null
  },
  {
   "cell_type": "code",
   "metadata": {
    "tags": [],
    "cell_id": "00054-d6a5bc9f-5bba-42b3-93b6-c5846ecf9aea",
    "deepnote_to_be_reexecuted": false,
    "source_hash": "22b3cb16",
    "execution_start": 1638373800797,
    "execution_millis": 7,
    "deepnote_output_heights": [
     21.199996948242188,
     21.199996948242188
    ],
    "deepnote_cell_type": "code"
   },
   "source": "# Predizione dati\npredictions = kmean.predict(X_test)\nprint(predictions)",
   "outputs": [
    {
     "name": "stdout",
     "text": "[2, 2, 0, 0, 2, 1, 0, 0, 0, 2]\n",
     "output_type": "stream"
    }
   ],
   "execution_count": null
  },
  {
   "cell_type": "markdown",
   "source": "### Task 4C",
   "metadata": {
    "tags": [],
    "is_collapsed": false,
    "cell_id": "00048-5cfa9be3-10a5-4401-bf03-b9d304c3196b",
    "deepnote_cell_type": "text-cell-h3"
   }
  },
  {
   "cell_type": "markdown",
   "source": "Clustering matrice similarità gesture-gesture con un algoritmo di clustering spettrale basato sulla matrice laplaciana",
   "metadata": {
    "tags": [],
    "is_collapsed": false,
    "cell_id": "00051-03956622-a0af-4ed6-8b21-e44448b6632d",
    "deepnote_cell_type": "text-cell-p"
   }
  },
  {
   "cell_type": "code",
   "metadata": {
    "tags": [],
    "cell_id": "00052-df70d435-7ebe-4eb7-88c2-2742141056d3",
    "deepnote_to_be_reexecuted": false,
    "source_hash": "4d046c65",
    "execution_start": 1638373800805,
    "execution_millis": 201,
    "deepnote_cell_type": "code"
   },
   "source": "analysys_spectral_results = spectral_clustering_analyze(gestures_sim_matrix_pd, max_clusters=15)\nanalysys_spectral_results = spectral_analisys_results_2_pandas(analysys_spectral_results, gestures_sim_matrix_pd)",
   "outputs": [],
   "execution_count": null
  },
  {
   "cell_type": "code",
   "metadata": {
    "tags": [],
    "cell_id": "00053-9c0ede94-414f-46f9-a4a6-231b3beb4052",
    "deepnote_to_be_reexecuted": false,
    "source_hash": "6e9152ab",
    "execution_start": 1638373801058,
    "execution_millis": 18,
    "deepnote_output_heights": [
     527
    ],
    "deepnote_cell_type": "code"
   },
   "source": "# Plot clusters sankey\nsource, target, value = spectral_analisys_results_pandas_2_split(analysys_spectral_results)\nfig = go.Figure(data=[go.Sankey(\n    node = dict(\n        pad = 15,\n        thickness = 20,\n        line = dict(color = \"black\", width = 0.5),\n        label = list(set(source).union(set(target))),\n        color = \"blue\"\n    ),\n    link = dict(\n        source = source,\n        target = target,\n        value = value\n    )\n)])\n\nfig.update_layout(title_text=\"Spectral Clustering Evolution\", font_size=10)\nfig.show()",
   "outputs": [
    {
     "data": {
      "text/html": "<html>\n<head><meta charset=\"utf-8\" /></head>\n<body>\n    <div>            <script src=\"https://cdnjs.cloudflare.com/ajax/libs/mathjax/2.7.5/MathJax.js?config=TeX-AMS-MML_SVG\"></script><script type=\"text/javascript\">if (window.MathJax) {MathJax.Hub.Config({SVG: {font: \"STIX-Web\"}});}</script>                <script type=\"text/javascript\">window.PlotlyConfig = {MathJaxConfig: 'local'};</script>\n        <script src=\"https://cdn.plot.ly/plotly-2.4.2.min.js\"></script>                <div id=\"7718e58e-982e-4dbf-8f61-748f90921a32\" class=\"plotly-graph-div\" style=\"height:525px; width:100%;\"></div>            <script type=\"text/javascript\">                                    window.PLOTLYENV=window.PLOTLYENV || {};                                    if (document.getElementById(\"7718e58e-982e-4dbf-8f61-748f90921a32\")) {                    Plotly.newPlot(                        \"7718e58e-982e-4dbf-8f61-748f90921a32\",                        [{\"link\":{\"source\":[0,0,2,1,2,1,1,3,5,4,5,4,3,3,7,9,8,9,9,6,7,6,7,13,11,13,12,14,10,10,12,14,12,11,20,20,18,18,19,17,16,16,19,19,15,20,17,17,23,22,26,24,25,27,23,23,25,27,21,27,21,21,22,22,27,30,29,33,31,32,34,32,32,35,29,30,30,35,29,28,29,30,32,31,33,31,28,29,30,34,30,42,42,40,44,44,41,40,38,38,44,38,41,41,36,36,36,39,43,40,37,37,37,39,37,43,36,51,48,50,49,50,52,51,46,54,47,45,47,51,52,45,45,53,49,48,46,46,65,64,58,65,56,65,63,62,58,63,64,60,63,58,55,57,55,59,59,64,61,61,62,56,59,69,75,71,73,67,74,76,77,73,71,69,69,76,69,66,72,74,68,71,70,89,84,83,87,85,86,80,86,82,90,83,81,78,81,78,78,81,83,88,88,80,88,85,87,79],\"target\":[2,1,3,3,5,4,5,7,9,8,7,7,6,8,13,11,12,14,13,10,10,11,12,20,18,19,17,16,15,19,19,20,20,20,23,22,26,23,22,24,26,25,27,23,21,25,22,27,30,29,33,31,32,34,32,29,35,29,30,30,28,34,28,31,31,42,42,40,44,44,41,42,40,38,38,38,41,44,44,36,36,36,36,39,43,37,37,37,43,39,40,51,48,50,49,50,52,51,50,48,46,54,54,47,45,47,51,52,53,53,52,46,49,49,48,54,46,65,64,58,56,63,62,58,63,60,60,55,57,55,59,59,64,61,62,62,62,59,69,75,71,73,67,74,76,77,73,71,69,69,74,76,66,72,73,77,74,74,68,71,67,70,70,89,84,83,89,87,85,86,80,83,86,82,90,83,81,78,81,84,88,88,79,98,92,103,94,93,99,97,96,96,104,99,97,101,104,91,98,95,95,101,103,102,98,94,102,100],\"value\":[39,54,8,27,31,26,1,15,24,22,8,4,18,2,23,10,24,13,1,17,1,1,3,13,10,11,21,12,16,2,5,1,1,1,6,9,5,5,6,15,2,10,11,1,16,1,4,2,8,14,7,15,9,6,3,1,2,3,4,2,4,8,3,2,2,4,3,4,4,4,13,1,5,1,6,3,3,1,1,5,3,2,2,11,3,4,2,5,1,1,1,6,2,7,4,3,3,2,1,5,3,4,3,10,9,1,1,5,3,1,2,4,1,7,4,1,1,6,10,7,10,4,6,2,5,8,3,6,8,1,4,2,1,4,2,1,2,1,1,9,5,3,4,2,5,6,3,1,1,11,3,1,6,8,1,3,3,1,3,1,5,6,1,1,9,5,5,9,8,5,9,2,1,5,4,1,3,6,8,1,3,1,7,6,10,6,4,6,5,7,1,5,4,1,2,3,3,2,1,6,1,1,2,2,1,2,5,7]},\"node\":{\"color\":\"blue\",\"label\":[0,1,2,3,4,5,6,7,8,9,10,11,12,13,14,15,16,17,18,19,20,21,22,23,24,25,26,27,28,29,30,31,32,33,34,35,36,37,38,39,40,41,42,43,44,45,46,47,48,49,50,51,52,53,54,55,56,57,58,59,60,61,62,63,64,65,66,67,68,69,70,71,72,73,74,75,76,77,78,79,80,81,82,83,84,85,86,87,88,89,90,91,92,93,94,95,96,97,98,99,100,101,102,103,104],\"line\":{\"color\":\"black\",\"width\":0.5},\"pad\":15,\"thickness\":20},\"type\":\"sankey\"}],                        {\"font\":{\"size\":10},\"template\":{\"data\":{\"bar\":[{\"error_x\":{\"color\":\"#2a3f5f\"},\"error_y\":{\"color\":\"#2a3f5f\"},\"marker\":{\"line\":{\"color\":\"#E5ECF6\",\"width\":0.5},\"pattern\":{\"fillmode\":\"overlay\",\"size\":10,\"solidity\":0.2}},\"type\":\"bar\"}],\"barpolar\":[{\"marker\":{\"line\":{\"color\":\"#E5ECF6\",\"width\":0.5},\"pattern\":{\"fillmode\":\"overlay\",\"size\":10,\"solidity\":0.2}},\"type\":\"barpolar\"}],\"carpet\":[{\"aaxis\":{\"endlinecolor\":\"#2a3f5f\",\"gridcolor\":\"white\",\"linecolor\":\"white\",\"minorgridcolor\":\"white\",\"startlinecolor\":\"#2a3f5f\"},\"baxis\":{\"endlinecolor\":\"#2a3f5f\",\"gridcolor\":\"white\",\"linecolor\":\"white\",\"minorgridcolor\":\"white\",\"startlinecolor\":\"#2a3f5f\"},\"type\":\"carpet\"}],\"choropleth\":[{\"colorbar\":{\"outlinewidth\":0,\"ticks\":\"\"},\"type\":\"choropleth\"}],\"contour\":[{\"colorbar\":{\"outlinewidth\":0,\"ticks\":\"\"},\"colorscale\":[[0.0,\"#0d0887\"],[0.1111111111111111,\"#46039f\"],[0.2222222222222222,\"#7201a8\"],[0.3333333333333333,\"#9c179e\"],[0.4444444444444444,\"#bd3786\"],[0.5555555555555556,\"#d8576b\"],[0.6666666666666666,\"#ed7953\"],[0.7777777777777778,\"#fb9f3a\"],[0.8888888888888888,\"#fdca26\"],[1.0,\"#f0f921\"]],\"type\":\"contour\"}],\"contourcarpet\":[{\"colorbar\":{\"outlinewidth\":0,\"ticks\":\"\"},\"type\":\"contourcarpet\"}],\"heatmap\":[{\"colorbar\":{\"outlinewidth\":0,\"ticks\":\"\"},\"colorscale\":[[0.0,\"#0d0887\"],[0.1111111111111111,\"#46039f\"],[0.2222222222222222,\"#7201a8\"],[0.3333333333333333,\"#9c179e\"],[0.4444444444444444,\"#bd3786\"],[0.5555555555555556,\"#d8576b\"],[0.6666666666666666,\"#ed7953\"],[0.7777777777777778,\"#fb9f3a\"],[0.8888888888888888,\"#fdca26\"],[1.0,\"#f0f921\"]],\"type\":\"heatmap\"}],\"heatmapgl\":[{\"colorbar\":{\"outlinewidth\":0,\"ticks\":\"\"},\"colorscale\":[[0.0,\"#0d0887\"],[0.1111111111111111,\"#46039f\"],[0.2222222222222222,\"#7201a8\"],[0.3333333333333333,\"#9c179e\"],[0.4444444444444444,\"#bd3786\"],[0.5555555555555556,\"#d8576b\"],[0.6666666666666666,\"#ed7953\"],[0.7777777777777778,\"#fb9f3a\"],[0.8888888888888888,\"#fdca26\"],[1.0,\"#f0f921\"]],\"type\":\"heatmapgl\"}],\"histogram\":[{\"marker\":{\"pattern\":{\"fillmode\":\"overlay\",\"size\":10,\"solidity\":0.2}},\"type\":\"histogram\"}],\"histogram2d\":[{\"colorbar\":{\"outlinewidth\":0,\"ticks\":\"\"},\"colorscale\":[[0.0,\"#0d0887\"],[0.1111111111111111,\"#46039f\"],[0.2222222222222222,\"#7201a8\"],[0.3333333333333333,\"#9c179e\"],[0.4444444444444444,\"#bd3786\"],[0.5555555555555556,\"#d8576b\"],[0.6666666666666666,\"#ed7953\"],[0.7777777777777778,\"#fb9f3a\"],[0.8888888888888888,\"#fdca26\"],[1.0,\"#f0f921\"]],\"type\":\"histogram2d\"}],\"histogram2dcontour\":[{\"colorbar\":{\"outlinewidth\":0,\"ticks\":\"\"},\"colorscale\":[[0.0,\"#0d0887\"],[0.1111111111111111,\"#46039f\"],[0.2222222222222222,\"#7201a8\"],[0.3333333333333333,\"#9c179e\"],[0.4444444444444444,\"#bd3786\"],[0.5555555555555556,\"#d8576b\"],[0.6666666666666666,\"#ed7953\"],[0.7777777777777778,\"#fb9f3a\"],[0.8888888888888888,\"#fdca26\"],[1.0,\"#f0f921\"]],\"type\":\"histogram2dcontour\"}],\"mesh3d\":[{\"colorbar\":{\"outlinewidth\":0,\"ticks\":\"\"},\"type\":\"mesh3d\"}],\"parcoords\":[{\"line\":{\"colorbar\":{\"outlinewidth\":0,\"ticks\":\"\"}},\"type\":\"parcoords\"}],\"pie\":[{\"automargin\":true,\"type\":\"pie\"}],\"scatter\":[{\"marker\":{\"colorbar\":{\"outlinewidth\":0,\"ticks\":\"\"}},\"type\":\"scatter\"}],\"scatter3d\":[{\"line\":{\"colorbar\":{\"outlinewidth\":0,\"ticks\":\"\"}},\"marker\":{\"colorbar\":{\"outlinewidth\":0,\"ticks\":\"\"}},\"type\":\"scatter3d\"}],\"scattercarpet\":[{\"marker\":{\"colorbar\":{\"outlinewidth\":0,\"ticks\":\"\"}},\"type\":\"scattercarpet\"}],\"scattergeo\":[{\"marker\":{\"colorbar\":{\"outlinewidth\":0,\"ticks\":\"\"}},\"type\":\"scattergeo\"}],\"scattergl\":[{\"marker\":{\"colorbar\":{\"outlinewidth\":0,\"ticks\":\"\"}},\"type\":\"scattergl\"}],\"scattermapbox\":[{\"marker\":{\"colorbar\":{\"outlinewidth\":0,\"ticks\":\"\"}},\"type\":\"scattermapbox\"}],\"scatterpolar\":[{\"marker\":{\"colorbar\":{\"outlinewidth\":0,\"ticks\":\"\"}},\"type\":\"scatterpolar\"}],\"scatterpolargl\":[{\"marker\":{\"colorbar\":{\"outlinewidth\":0,\"ticks\":\"\"}},\"type\":\"scatterpolargl\"}],\"scatterternary\":[{\"marker\":{\"colorbar\":{\"outlinewidth\":0,\"ticks\":\"\"}},\"type\":\"scatterternary\"}],\"surface\":[{\"colorbar\":{\"outlinewidth\":0,\"ticks\":\"\"},\"colorscale\":[[0.0,\"#0d0887\"],[0.1111111111111111,\"#46039f\"],[0.2222222222222222,\"#7201a8\"],[0.3333333333333333,\"#9c179e\"],[0.4444444444444444,\"#bd3786\"],[0.5555555555555556,\"#d8576b\"],[0.6666666666666666,\"#ed7953\"],[0.7777777777777778,\"#fb9f3a\"],[0.8888888888888888,\"#fdca26\"],[1.0,\"#f0f921\"]],\"type\":\"surface\"}],\"table\":[{\"cells\":{\"fill\":{\"color\":\"#EBF0F8\"},\"line\":{\"color\":\"white\"}},\"header\":{\"fill\":{\"color\":\"#C8D4E3\"},\"line\":{\"color\":\"white\"}},\"type\":\"table\"}]},\"layout\":{\"annotationdefaults\":{\"arrowcolor\":\"#2a3f5f\",\"arrowhead\":0,\"arrowwidth\":1},\"autotypenumbers\":\"strict\",\"coloraxis\":{\"colorbar\":{\"outlinewidth\":0,\"ticks\":\"\"}},\"colorscale\":{\"diverging\":[[0,\"#8e0152\"],[0.1,\"#c51b7d\"],[0.2,\"#de77ae\"],[0.3,\"#f1b6da\"],[0.4,\"#fde0ef\"],[0.5,\"#f7f7f7\"],[0.6,\"#e6f5d0\"],[0.7,\"#b8e186\"],[0.8,\"#7fbc41\"],[0.9,\"#4d9221\"],[1,\"#276419\"]],\"sequential\":[[0.0,\"#0d0887\"],[0.1111111111111111,\"#46039f\"],[0.2222222222222222,\"#7201a8\"],[0.3333333333333333,\"#9c179e\"],[0.4444444444444444,\"#bd3786\"],[0.5555555555555556,\"#d8576b\"],[0.6666666666666666,\"#ed7953\"],[0.7777777777777778,\"#fb9f3a\"],[0.8888888888888888,\"#fdca26\"],[1.0,\"#f0f921\"]],\"sequentialminus\":[[0.0,\"#0d0887\"],[0.1111111111111111,\"#46039f\"],[0.2222222222222222,\"#7201a8\"],[0.3333333333333333,\"#9c179e\"],[0.4444444444444444,\"#bd3786\"],[0.5555555555555556,\"#d8576b\"],[0.6666666666666666,\"#ed7953\"],[0.7777777777777778,\"#fb9f3a\"],[0.8888888888888888,\"#fdca26\"],[1.0,\"#f0f921\"]]},\"colorway\":[\"#636efa\",\"#EF553B\",\"#00cc96\",\"#ab63fa\",\"#FFA15A\",\"#19d3f3\",\"#FF6692\",\"#B6E880\",\"#FF97FF\",\"#FECB52\"],\"font\":{\"color\":\"#2a3f5f\"},\"geo\":{\"bgcolor\":\"white\",\"lakecolor\":\"white\",\"landcolor\":\"#E5ECF6\",\"showlakes\":true,\"showland\":true,\"subunitcolor\":\"white\"},\"hoverlabel\":{\"align\":\"left\"},\"hovermode\":\"closest\",\"mapbox\":{\"style\":\"light\"},\"paper_bgcolor\":\"white\",\"plot_bgcolor\":\"#E5ECF6\",\"polar\":{\"angularaxis\":{\"gridcolor\":\"white\",\"linecolor\":\"white\",\"ticks\":\"\"},\"bgcolor\":\"#E5ECF6\",\"radialaxis\":{\"gridcolor\":\"white\",\"linecolor\":\"white\",\"ticks\":\"\"}},\"scene\":{\"xaxis\":{\"backgroundcolor\":\"#E5ECF6\",\"gridcolor\":\"white\",\"gridwidth\":2,\"linecolor\":\"white\",\"showbackground\":true,\"ticks\":\"\",\"zerolinecolor\":\"white\"},\"yaxis\":{\"backgroundcolor\":\"#E5ECF6\",\"gridcolor\":\"white\",\"gridwidth\":2,\"linecolor\":\"white\",\"showbackground\":true,\"ticks\":\"\",\"zerolinecolor\":\"white\"},\"zaxis\":{\"backgroundcolor\":\"#E5ECF6\",\"gridcolor\":\"white\",\"gridwidth\":2,\"linecolor\":\"white\",\"showbackground\":true,\"ticks\":\"\",\"zerolinecolor\":\"white\"}},\"shapedefaults\":{\"line\":{\"color\":\"#2a3f5f\"}},\"ternary\":{\"aaxis\":{\"gridcolor\":\"white\",\"linecolor\":\"white\",\"ticks\":\"\"},\"baxis\":{\"gridcolor\":\"white\",\"linecolor\":\"white\",\"ticks\":\"\"},\"bgcolor\":\"#E5ECF6\",\"caxis\":{\"gridcolor\":\"white\",\"linecolor\":\"white\",\"ticks\":\"\"}},\"title\":{\"x\":0.05},\"xaxis\":{\"automargin\":true,\"gridcolor\":\"white\",\"linecolor\":\"white\",\"ticks\":\"\",\"title\":{\"standoff\":15},\"zerolinecolor\":\"white\",\"zerolinewidth\":2},\"yaxis\":{\"automargin\":true,\"gridcolor\":\"white\",\"linecolor\":\"white\",\"ticks\":\"\",\"title\":{\"standoff\":15},\"zerolinecolor\":\"white\",\"zerolinewidth\":2}}},\"title\":{\"text\":\"Spectral Clustering Evolution\"}},                        {\"responsive\": true}                    ).then(function(){\n                            \nvar gd = document.getElementById('7718e58e-982e-4dbf-8f61-748f90921a32');\nvar x = new MutationObserver(function (mutations, observer) {{\n        var display = window.getComputedStyle(gd).display;\n        if (!display || display === 'none') {{\n            console.log([gd, 'removed!']);\n            Plotly.purge(gd);\n            observer.disconnect();\n        }}\n}});\n\n// Listen for the removal of the full notebook cells\nvar notebookContainer = gd.closest('#notebook-container');\nif (notebookContainer) {{\n    x.observe(notebookContainer, {childList: true});\n}}\n\n// Listen for the clearing of the current output cell\nvar outputEl = gd.closest('.output');\nif (outputEl) {{\n    x.observe(outputEl, {childList: true});\n}}\n\n                        })                };                            </script>        </div>\n</body>\n</html>"
     },
     "metadata": {},
     "output_type": "display_data"
    }
   ],
   "execution_count": null
  },
  {
   "cell_type": "code",
   "metadata": {
    "tags": [],
    "cell_id": "00064-dcc73abb-8745-4437-80f2-3714d5ed2b6e",
    "deepnote_to_be_reexecuted": false,
    "source_hash": "61bc35c5",
    "execution_start": 1638373801111,
    "execution_millis": 1,
    "deepnote_cell_type": "code"
   },
   "source": "generated_cluster_labels = spectral_clustering(gestures_sim_matrix_pd, n_clusters=t4_p_partitions)#, offset=44) # Usare offset se vogliamo mostrare i nomi dei cluster mostrati nel sankey, offset=44 per n_clusters=10\nclustering_labels = [str(elem) for elem in set(generated_cluster_labels)] # All the cluster names\ncluster_labels_full = cluster_labels_2_pandas(generated_cluster_labels, gestures_sim_matrix_pd.columns)",
   "outputs": [],
   "execution_count": null
  },
  {
   "cell_type": "code",
   "metadata": {
    "tags": [],
    "cell_id": "00065-23d0f2d0-ab55-4cde-8c6c-ed3697cb19d0",
    "deepnote_to_be_reexecuted": false,
    "source_hash": "6c26d295",
    "execution_start": 1638373801112,
    "execution_millis": 19,
    "deepnote_cell_type": "code"
   },
   "source": "print(\"Cluster Names:\", clustering_labels)\nprint(\"\\nClustering Result:\\n\", generated_cluster_labels)\n## In caso si voglia far vedere per bene le accoppiate (Gesture X, Label Y)\nprint(\"\\nClustering Results(full info):\\n\", cluster_labels_full)",
   "outputs": [
    {
     "name": "stdout",
     "text": "Cluster Names: ['0', '1', '2']\n\nClustering Result:\n [0 0 2 2 0 1 2 2 2 1 2 2 2 2 2 2 2 2 0 2 2 0 0 0 0 0 2 0 2 2 0 2 0 0 0 0 0\n 0 0 2 1 2 0 0 0 0 0 0 0 0 0 2 0 1 0 2 2 0 0 2 2 1 1 1 2 2 1 1 1 1 2 1 1 1\n 1 0 1 1 1 1 1 1 1 0 1 1 1 1 0 2 2 0 2]\n\nClustering Results(full info):\n [{'Gesture': '1', 'Label': 0}, {'Gesture': '10', 'Label': 0}, {'Gesture': '11', 'Label': 2}, {'Gesture': '12', 'Label': 2}, {'Gesture': '13', 'Label': 0}, {'Gesture': '14', 'Label': 1}, {'Gesture': '15', 'Label': 2}, {'Gesture': '16', 'Label': 2}, {'Gesture': '17', 'Label': 2}, {'Gesture': '18', 'Label': 1}, {'Gesture': '19', 'Label': 2}, {'Gesture': '2', 'Label': 2}, {'Gesture': '20', 'Label': 2}, {'Gesture': '21', 'Label': 2}, {'Gesture': '22', 'Label': 2}, {'Gesture': '23', 'Label': 2}, {'Gesture': '24', 'Label': 2}, {'Gesture': '249', 'Label': 2}, {'Gesture': '25', 'Label': 0}, {'Gesture': '250', 'Label': 2}, {'Gesture': '251', 'Label': 2}, {'Gesture': '252', 'Label': 0}, {'Gesture': '253', 'Label': 0}, {'Gesture': '254', 'Label': 0}, {'Gesture': '255', 'Label': 0}, {'Gesture': '256', 'Label': 0}, {'Gesture': '257', 'Label': 2}, {'Gesture': '258', 'Label': 0}, {'Gesture': '259', 'Label': 2}, {'Gesture': '26', 'Label': 2}, {'Gesture': '260', 'Label': 0}, {'Gesture': '261', 'Label': 2}, {'Gesture': '262', 'Label': 0}, {'Gesture': '263', 'Label': 0}, {'Gesture': '264', 'Label': 0}, {'Gesture': '265', 'Label': 0}, {'Gesture': '266', 'Label': 0}, {'Gesture': '267', 'Label': 0}, {'Gesture': '268', 'Label': 0}, {'Gesture': '269', 'Label': 2}, {'Gesture': '27', 'Label': 1}, {'Gesture': '270', 'Label': 2}, {'Gesture': '271', 'Label': 0}, {'Gesture': '272', 'Label': 0}, {'Gesture': '273', 'Label': 0}, {'Gesture': '274', 'Label': 0}, {'Gesture': '275', 'Label': 0}, {'Gesture': '276', 'Label': 0}, {'Gesture': '277', 'Label': 0}, {'Gesture': '278', 'Label': 0}, {'Gesture': '279', 'Label': 0}, {'Gesture': '28', 'Label': 2}, {'Gesture': '29', 'Label': 0}, {'Gesture': '3', 'Label': 1}, {'Gesture': '30', 'Label': 0}, {'Gesture': '31', 'Label': 2}, {'Gesture': '4', 'Label': 2}, {'Gesture': '5', 'Label': 0}, {'Gesture': '559', 'Label': 0}, {'Gesture': '560', 'Label': 2}, {'Gesture': '561', 'Label': 2}, {'Gesture': '562', 'Label': 1}, {'Gesture': '563', 'Label': 1}, {'Gesture': '564', 'Label': 1}, {'Gesture': '565', 'Label': 2}, {'Gesture': '566', 'Label': 2}, {'Gesture': '567', 'Label': 1}, {'Gesture': '568', 'Label': 1}, {'Gesture': '569', 'Label': 1}, {'Gesture': '570', 'Label': 1}, {'Gesture': '571', 'Label': 2}, {'Gesture': '572', 'Label': 1}, {'Gesture': '573', 'Label': 1}, {'Gesture': '574', 'Label': 1}, {'Gesture': '575', 'Label': 1}, {'Gesture': '576', 'Label': 0}, {'Gesture': '577', 'Label': 1}, {'Gesture': '578', 'Label': 1}, {'Gesture': '579', 'Label': 1}, {'Gesture': '580', 'Label': 1}, {'Gesture': '581', 'Label': 1}, {'Gesture': '582', 'Label': 1}, {'Gesture': '583', 'Label': 1}, {'Gesture': '584', 'Label': 0}, {'Gesture': '585', 'Label': 1}, {'Gesture': '586', 'Label': 1}, {'Gesture': '587', 'Label': 1}, {'Gesture': '588', 'Label': 1}, {'Gesture': '589', 'Label': 0}, {'Gesture': '6', 'Label': 2}, {'Gesture': '7', 'Label': 2}, {'Gesture': '8', 'Label': 0}, {'Gesture': '9', 'Label': 2}]\n",
     "output_type": "stream"
    }
   ],
   "execution_count": null
  },
  {
   "cell_type": "markdown",
   "source": "## Task 5 ",
   "metadata": {
    "tags": [],
    "is_collapsed": false,
    "cell_id": "00047-ca6ba479-67d1-47c0-9e18-3f88843cf02f",
    "deepnote_cell_type": "text-cell-h2"
   }
  },
  {
   "cell_type": "code",
   "metadata": {
    "tags": [],
    "cell_id": "00067-76b186c5-5cb0-4b47-b940-e567f47b3667",
    "deepnote_to_be_reexecuted": false,
    "source_hash": "bb23882f",
    "execution_start": 1638374206707,
    "execution_millis": 307,
    "deepnote_cell_type": "code"
   },
   "source": "# Preparazione dataset\n# In task 1 avevo generato i dati utilizzabili qui che sono in\n#t5_data = { 'data', 'labels' }\n# Posso usare meno feature latenti facendo\nn_features_latenti = 15\ntask_data = t5_data['data'][:,:n_features_latenti]\ntask_target = t5_data['labels']\n# Genero il dataframe pandas a partire dai dati e dalle loro labels\n(X_train_df, y_train_df), (X_test_df, y_test_df), features_names = database_numpy_2_supervised_data(task_data, task_target)\n\nX_train = X_train_df.to_numpy()\ny_train = y_train_df.values.ravel()\n# Normalizzo i dati di test\nX_test = X_test_df.to_numpy()\ny_test = y_test_df.values.ravel()",
   "outputs": [],
   "execution_count": null
  },
  {
   "cell_type": "markdown",
   "source": "### Classificazione con k-nearest neighbor",
   "metadata": {
    "tags": [],
    "is_collapsed": false,
    "cell_id": "00058-be2015dd-a32d-49bd-80ca-c70d45ea5f1d",
    "deepnote_cell_type": "text-cell-h3"
   }
  },
  {
   "cell_type": "code",
   "metadata": {
    "tags": [],
    "cell_id": "00070-72e9d292-d2c4-4fd3-b412-bffa2a35686e",
    "deepnote_to_be_reexecuted": false,
    "source_hash": "2a37737e",
    "execution_start": 1638374212437,
    "execution_millis": 388,
    "deepnote_output_heights": [
     527
    ],
    "deepnote_cell_type": "code"
   },
   "source": "weight = 'uniform'#'uniform', 'distance'\naccuracy_data_df = test_knn_best_K(X_train, y_train, X_test, y_test, max_neighbors=len(X_train)+1, weights=weight)\nfig = px.line(accuracy_data_df, x=\"# Neighbors\", y=\"Accuracy\", title='KNN accuracy based on # of neighbors used')\nfig.show()",
   "outputs": [
    {
     "data": {
      "text/html": "<html>\n<head><meta charset=\"utf-8\" /></head>\n<body>\n    <div>            <script src=\"https://cdnjs.cloudflare.com/ajax/libs/mathjax/2.7.5/MathJax.js?config=TeX-AMS-MML_SVG\"></script><script type=\"text/javascript\">if (window.MathJax) {MathJax.Hub.Config({SVG: {font: \"STIX-Web\"}});}</script>                <script type=\"text/javascript\">window.PlotlyConfig = {MathJaxConfig: 'local'};</script>\n        <script src=\"https://cdn.plot.ly/plotly-2.4.2.min.js\"></script>                <div id=\"f2fb3b20-ef24-4aa2-9eb4-6fe79599822d\" class=\"plotly-graph-div\" style=\"height:525px; width:100%;\"></div>            <script type=\"text/javascript\">                                    window.PLOTLYENV=window.PLOTLYENV || {};                                    if (document.getElementById(\"f2fb3b20-ef24-4aa2-9eb4-6fe79599822d\")) {                    Plotly.newPlot(                        \"f2fb3b20-ef24-4aa2-9eb4-6fe79599822d\",                        [{\"hovertemplate\":\"# Neighbors=%{x}<br>Accuracy=%{y}<extra></extra>\",\"legendgroup\":\"\",\"line\":{\"color\":\"#636efa\",\"dash\":\"solid\"},\"marker\":{\"symbol\":\"circle\"},\"mode\":\"lines\",\"name\":\"\",\"orientation\":\"v\",\"showlegend\":false,\"type\":\"scatter\",\"x\":[1.0,2.0,3.0,4.0,5.0,6.0,7.0,8.0,9.0,10.0,11.0,12.0,13.0,14.0,15.0,16.0,17.0,18.0,19.0,20.0,21.0,22.0,23.0,24.0,25.0,26.0,27.0,28.0,29.0,30.0,31.0,32.0,33.0,34.0,35.0,36.0,37.0,38.0,39.0,40.0,41.0,42.0,43.0,44.0,45.0,46.0,47.0,48.0,49.0,50.0,51.0,52.0,53.0,54.0,55.0,56.0,57.0,58.0,59.0,60.0,61.0,62.0,63.0,64.0,65.0],\"xaxis\":\"x\",\"y\":[0.67857,0.75,0.75,0.78571,0.82143,0.78571,0.78571,0.75,0.75,0.78571,0.71429,0.71429,0.67857,0.64286,0.64286,0.60714,0.46429,0.53571,0.5,0.57143,0.57143,0.53571,0.5,0.53571,0.53571,0.53571,0.53571,0.5,0.5,0.5,0.46429,0.46429,0.46429,0.46429,0.46429,0.32143,0.32143,0.32143,0.32143,0.32143,0.32143,0.32143,0.32143,0.32143,0.32143,0.32143,0.32143,0.32143,0.32143,0.32143,0.32143,0.32143,0.32143,0.32143,0.32143,0.32143,0.32143,0.32143,0.32143,0.32143,0.32143,0.32143,0.32143,0.32143,0.32143],\"yaxis\":\"y\"}],                        {\"legend\":{\"tracegroupgap\":0},\"template\":{\"data\":{\"bar\":[{\"error_x\":{\"color\":\"#2a3f5f\"},\"error_y\":{\"color\":\"#2a3f5f\"},\"marker\":{\"line\":{\"color\":\"#E5ECF6\",\"width\":0.5},\"pattern\":{\"fillmode\":\"overlay\",\"size\":10,\"solidity\":0.2}},\"type\":\"bar\"}],\"barpolar\":[{\"marker\":{\"line\":{\"color\":\"#E5ECF6\",\"width\":0.5},\"pattern\":{\"fillmode\":\"overlay\",\"size\":10,\"solidity\":0.2}},\"type\":\"barpolar\"}],\"carpet\":[{\"aaxis\":{\"endlinecolor\":\"#2a3f5f\",\"gridcolor\":\"white\",\"linecolor\":\"white\",\"minorgridcolor\":\"white\",\"startlinecolor\":\"#2a3f5f\"},\"baxis\":{\"endlinecolor\":\"#2a3f5f\",\"gridcolor\":\"white\",\"linecolor\":\"white\",\"minorgridcolor\":\"white\",\"startlinecolor\":\"#2a3f5f\"},\"type\":\"carpet\"}],\"choropleth\":[{\"colorbar\":{\"outlinewidth\":0,\"ticks\":\"\"},\"type\":\"choropleth\"}],\"contour\":[{\"colorbar\":{\"outlinewidth\":0,\"ticks\":\"\"},\"colorscale\":[[0.0,\"#0d0887\"],[0.1111111111111111,\"#46039f\"],[0.2222222222222222,\"#7201a8\"],[0.3333333333333333,\"#9c179e\"],[0.4444444444444444,\"#bd3786\"],[0.5555555555555556,\"#d8576b\"],[0.6666666666666666,\"#ed7953\"],[0.7777777777777778,\"#fb9f3a\"],[0.8888888888888888,\"#fdca26\"],[1.0,\"#f0f921\"]],\"type\":\"contour\"}],\"contourcarpet\":[{\"colorbar\":{\"outlinewidth\":0,\"ticks\":\"\"},\"type\":\"contourcarpet\"}],\"heatmap\":[{\"colorbar\":{\"outlinewidth\":0,\"ticks\":\"\"},\"colorscale\":[[0.0,\"#0d0887\"],[0.1111111111111111,\"#46039f\"],[0.2222222222222222,\"#7201a8\"],[0.3333333333333333,\"#9c179e\"],[0.4444444444444444,\"#bd3786\"],[0.5555555555555556,\"#d8576b\"],[0.6666666666666666,\"#ed7953\"],[0.7777777777777778,\"#fb9f3a\"],[0.8888888888888888,\"#fdca26\"],[1.0,\"#f0f921\"]],\"type\":\"heatmap\"}],\"heatmapgl\":[{\"colorbar\":{\"outlinewidth\":0,\"ticks\":\"\"},\"colorscale\":[[0.0,\"#0d0887\"],[0.1111111111111111,\"#46039f\"],[0.2222222222222222,\"#7201a8\"],[0.3333333333333333,\"#9c179e\"],[0.4444444444444444,\"#bd3786\"],[0.5555555555555556,\"#d8576b\"],[0.6666666666666666,\"#ed7953\"],[0.7777777777777778,\"#fb9f3a\"],[0.8888888888888888,\"#fdca26\"],[1.0,\"#f0f921\"]],\"type\":\"heatmapgl\"}],\"histogram\":[{\"marker\":{\"pattern\":{\"fillmode\":\"overlay\",\"size\":10,\"solidity\":0.2}},\"type\":\"histogram\"}],\"histogram2d\":[{\"colorbar\":{\"outlinewidth\":0,\"ticks\":\"\"},\"colorscale\":[[0.0,\"#0d0887\"],[0.1111111111111111,\"#46039f\"],[0.2222222222222222,\"#7201a8\"],[0.3333333333333333,\"#9c179e\"],[0.4444444444444444,\"#bd3786\"],[0.5555555555555556,\"#d8576b\"],[0.6666666666666666,\"#ed7953\"],[0.7777777777777778,\"#fb9f3a\"],[0.8888888888888888,\"#fdca26\"],[1.0,\"#f0f921\"]],\"type\":\"histogram2d\"}],\"histogram2dcontour\":[{\"colorbar\":{\"outlinewidth\":0,\"ticks\":\"\"},\"colorscale\":[[0.0,\"#0d0887\"],[0.1111111111111111,\"#46039f\"],[0.2222222222222222,\"#7201a8\"],[0.3333333333333333,\"#9c179e\"],[0.4444444444444444,\"#bd3786\"],[0.5555555555555556,\"#d8576b\"],[0.6666666666666666,\"#ed7953\"],[0.7777777777777778,\"#fb9f3a\"],[0.8888888888888888,\"#fdca26\"],[1.0,\"#f0f921\"]],\"type\":\"histogram2dcontour\"}],\"mesh3d\":[{\"colorbar\":{\"outlinewidth\":0,\"ticks\":\"\"},\"type\":\"mesh3d\"}],\"parcoords\":[{\"line\":{\"colorbar\":{\"outlinewidth\":0,\"ticks\":\"\"}},\"type\":\"parcoords\"}],\"pie\":[{\"automargin\":true,\"type\":\"pie\"}],\"scatter\":[{\"marker\":{\"colorbar\":{\"outlinewidth\":0,\"ticks\":\"\"}},\"type\":\"scatter\"}],\"scatter3d\":[{\"line\":{\"colorbar\":{\"outlinewidth\":0,\"ticks\":\"\"}},\"marker\":{\"colorbar\":{\"outlinewidth\":0,\"ticks\":\"\"}},\"type\":\"scatter3d\"}],\"scattercarpet\":[{\"marker\":{\"colorbar\":{\"outlinewidth\":0,\"ticks\":\"\"}},\"type\":\"scattercarpet\"}],\"scattergeo\":[{\"marker\":{\"colorbar\":{\"outlinewidth\":0,\"ticks\":\"\"}},\"type\":\"scattergeo\"}],\"scattergl\":[{\"marker\":{\"colorbar\":{\"outlinewidth\":0,\"ticks\":\"\"}},\"type\":\"scattergl\"}],\"scattermapbox\":[{\"marker\":{\"colorbar\":{\"outlinewidth\":0,\"ticks\":\"\"}},\"type\":\"scattermapbox\"}],\"scatterpolar\":[{\"marker\":{\"colorbar\":{\"outlinewidth\":0,\"ticks\":\"\"}},\"type\":\"scatterpolar\"}],\"scatterpolargl\":[{\"marker\":{\"colorbar\":{\"outlinewidth\":0,\"ticks\":\"\"}},\"type\":\"scatterpolargl\"}],\"scatterternary\":[{\"marker\":{\"colorbar\":{\"outlinewidth\":0,\"ticks\":\"\"}},\"type\":\"scatterternary\"}],\"surface\":[{\"colorbar\":{\"outlinewidth\":0,\"ticks\":\"\"},\"colorscale\":[[0.0,\"#0d0887\"],[0.1111111111111111,\"#46039f\"],[0.2222222222222222,\"#7201a8\"],[0.3333333333333333,\"#9c179e\"],[0.4444444444444444,\"#bd3786\"],[0.5555555555555556,\"#d8576b\"],[0.6666666666666666,\"#ed7953\"],[0.7777777777777778,\"#fb9f3a\"],[0.8888888888888888,\"#fdca26\"],[1.0,\"#f0f921\"]],\"type\":\"surface\"}],\"table\":[{\"cells\":{\"fill\":{\"color\":\"#EBF0F8\"},\"line\":{\"color\":\"white\"}},\"header\":{\"fill\":{\"color\":\"#C8D4E3\"},\"line\":{\"color\":\"white\"}},\"type\":\"table\"}]},\"layout\":{\"annotationdefaults\":{\"arrowcolor\":\"#2a3f5f\",\"arrowhead\":0,\"arrowwidth\":1},\"autotypenumbers\":\"strict\",\"coloraxis\":{\"colorbar\":{\"outlinewidth\":0,\"ticks\":\"\"}},\"colorscale\":{\"diverging\":[[0,\"#8e0152\"],[0.1,\"#c51b7d\"],[0.2,\"#de77ae\"],[0.3,\"#f1b6da\"],[0.4,\"#fde0ef\"],[0.5,\"#f7f7f7\"],[0.6,\"#e6f5d0\"],[0.7,\"#b8e186\"],[0.8,\"#7fbc41\"],[0.9,\"#4d9221\"],[1,\"#276419\"]],\"sequential\":[[0.0,\"#0d0887\"],[0.1111111111111111,\"#46039f\"],[0.2222222222222222,\"#7201a8\"],[0.3333333333333333,\"#9c179e\"],[0.4444444444444444,\"#bd3786\"],[0.5555555555555556,\"#d8576b\"],[0.6666666666666666,\"#ed7953\"],[0.7777777777777778,\"#fb9f3a\"],[0.8888888888888888,\"#fdca26\"],[1.0,\"#f0f921\"]],\"sequentialminus\":[[0.0,\"#0d0887\"],[0.1111111111111111,\"#46039f\"],[0.2222222222222222,\"#7201a8\"],[0.3333333333333333,\"#9c179e\"],[0.4444444444444444,\"#bd3786\"],[0.5555555555555556,\"#d8576b\"],[0.6666666666666666,\"#ed7953\"],[0.7777777777777778,\"#fb9f3a\"],[0.8888888888888888,\"#fdca26\"],[1.0,\"#f0f921\"]]},\"colorway\":[\"#636efa\",\"#EF553B\",\"#00cc96\",\"#ab63fa\",\"#FFA15A\",\"#19d3f3\",\"#FF6692\",\"#B6E880\",\"#FF97FF\",\"#FECB52\"],\"font\":{\"color\":\"#2a3f5f\"},\"geo\":{\"bgcolor\":\"white\",\"lakecolor\":\"white\",\"landcolor\":\"#E5ECF6\",\"showlakes\":true,\"showland\":true,\"subunitcolor\":\"white\"},\"hoverlabel\":{\"align\":\"left\"},\"hovermode\":\"closest\",\"mapbox\":{\"style\":\"light\"},\"paper_bgcolor\":\"white\",\"plot_bgcolor\":\"#E5ECF6\",\"polar\":{\"angularaxis\":{\"gridcolor\":\"white\",\"linecolor\":\"white\",\"ticks\":\"\"},\"bgcolor\":\"#E5ECF6\",\"radialaxis\":{\"gridcolor\":\"white\",\"linecolor\":\"white\",\"ticks\":\"\"}},\"scene\":{\"xaxis\":{\"backgroundcolor\":\"#E5ECF6\",\"gridcolor\":\"white\",\"gridwidth\":2,\"linecolor\":\"white\",\"showbackground\":true,\"ticks\":\"\",\"zerolinecolor\":\"white\"},\"yaxis\":{\"backgroundcolor\":\"#E5ECF6\",\"gridcolor\":\"white\",\"gridwidth\":2,\"linecolor\":\"white\",\"showbackground\":true,\"ticks\":\"\",\"zerolinecolor\":\"white\"},\"zaxis\":{\"backgroundcolor\":\"#E5ECF6\",\"gridcolor\":\"white\",\"gridwidth\":2,\"linecolor\":\"white\",\"showbackground\":true,\"ticks\":\"\",\"zerolinecolor\":\"white\"}},\"shapedefaults\":{\"line\":{\"color\":\"#2a3f5f\"}},\"ternary\":{\"aaxis\":{\"gridcolor\":\"white\",\"linecolor\":\"white\",\"ticks\":\"\"},\"baxis\":{\"gridcolor\":\"white\",\"linecolor\":\"white\",\"ticks\":\"\"},\"bgcolor\":\"#E5ECF6\",\"caxis\":{\"gridcolor\":\"white\",\"linecolor\":\"white\",\"ticks\":\"\"}},\"title\":{\"x\":0.05},\"xaxis\":{\"automargin\":true,\"gridcolor\":\"white\",\"linecolor\":\"white\",\"ticks\":\"\",\"title\":{\"standoff\":15},\"zerolinecolor\":\"white\",\"zerolinewidth\":2},\"yaxis\":{\"automargin\":true,\"gridcolor\":\"white\",\"linecolor\":\"white\",\"ticks\":\"\",\"title\":{\"standoff\":15},\"zerolinecolor\":\"white\",\"zerolinewidth\":2}}},\"title\":{\"text\":\"KNN accuracy based on # of neighbors used\"},\"xaxis\":{\"anchor\":\"y\",\"domain\":[0.0,1.0],\"title\":{\"text\":\"# Neighbors\"}},\"yaxis\":{\"anchor\":\"x\",\"domain\":[0.0,1.0],\"title\":{\"text\":\"Accuracy\"}}},                        {\"responsive\": true}                    ).then(function(){\n                            \nvar gd = document.getElementById('f2fb3b20-ef24-4aa2-9eb4-6fe79599822d');\nvar x = new MutationObserver(function (mutations, observer) {{\n        var display = window.getComputedStyle(gd).display;\n        if (!display || display === 'none') {{\n            console.log([gd, 'removed!']);\n            Plotly.purge(gd);\n            observer.disconnect();\n        }}\n}});\n\n// Listen for the removal of the full notebook cells\nvar notebookContainer = gd.closest('#notebook-container');\nif (notebookContainer) {{\n    x.observe(notebookContainer, {childList: true});\n}}\n\n// Listen for the clearing of the current output cell\nvar outputEl = gd.closest('.output');\nif (outputEl) {{\n    x.observe(outputEl, {childList: true});\n}}\n\n                        })                };                            </script>        </div>\n</body>\n</html>"
     },
     "metadata": {},
     "output_type": "display_data"
    }
   ],
   "execution_count": null
  },
  {
   "cell_type": "code",
   "metadata": {
    "tags": [],
    "cell_id": "00058-4219f70d-c44d-464a-a238-6f9f9f157f98",
    "deepnote_to_be_reexecuted": false,
    "source_hash": "b848b6a9",
    "execution_start": 1638374115913,
    "execution_millis": 14,
    "deepnote_output_heights": [
     21.199996948242188
    ],
    "deepnote_cell_type": "code"
   },
   "source": "# Addestro il classificatore\nn_neighbors = 19 # Numero di vicini che uso x decidere la label\nclassifier = KNeighborsClassifier(n_neighbors=n_neighbors, weights=weight)\nclassifier.fit(X_train, y_train)",
   "outputs": [
    {
     "output_type": "execute_result",
     "execution_count": 73,
     "data": {
      "text/plain": "KNeighborsClassifier(n_neighbors=19)"
     },
     "metadata": {}
    }
   ],
   "execution_count": null
  },
  {
   "cell_type": "code",
   "metadata": {
    "tags": [],
    "cell_id": "00061-0abd1337-9406-4c02-91b2-ad8ffdeb4137",
    "deepnote_to_be_reexecuted": false,
    "source_hash": "1162bf93",
    "execution_start": 1638374117220,
    "execution_millis": 5,
    "deepnote_output_heights": [
     21.199996948242188
    ],
    "deepnote_cell_type": "code"
   },
   "source": "# Predico\ny_pred = classifier.predict(X_test)\nprint(\"(\"+str(n_neighbors)+\")NN - Predictions:\\n\", y_pred)\nprint(\"Reals:\\n\", y_test)\nprint(\"Accuracy\", format_float(accuracy_score(y_test, y_pred)))",
   "outputs": [
    {
     "name": "stdout",
     "text": "(19)NN - Predictions:\n [2. 1. 1. 1. 1. 1. 1. 1. 2. 1. 1. 1. 1. 1. 1. 0. 0. 1. 0. 1. 0. 2. 2. 1.\n 0. 1. 1. 1.]\nReals:\n [2. 1. 1. 0. 0. 1. 0. 1. 2. 2. 0. 0. 2. 2. 2. 0. 0. 1. 1. 0. 0. 2. 2. 2.\n 0. 1. 1. 1.]\nAccuracy 0.57143\n",
     "output_type": "stream"
    }
   ],
   "execution_count": null
  },
  {
   "cell_type": "markdown",
   "source": "### Classificazione con decision tree",
   "metadata": {
    "tags": [],
    "is_collapsed": false,
    "cell_id": "00060-635d37c3-f66e-454d-8b84-316306713b7a",
    "deepnote_cell_type": "text-cell-h3"
   }
  },
  {
   "cell_type": "code",
   "metadata": {
    "tags": [],
    "cell_id": "00073-1dcdc65a-e664-4bf6-88b8-6e29f884d6c9",
    "deepnote_to_be_reexecuted": false,
    "source_hash": "57d62dbf",
    "execution_start": 1638374197675,
    "execution_millis": 159,
    "deepnote_output_heights": [
     527
    ],
    "deepnote_cell_type": "code"
   },
   "source": "accuracy_data_df = test_tree_best_depth(X_train, y_train, X_test, y_test, max_depth=20)\nfig = px.line(accuracy_data_df, x=\"Depth\", y=\"Accuracy\", title='Decision Tree accuracy based on his depth')\nfig.show()",
   "outputs": [
    {
     "data": {
      "text/html": "<html>\n<head><meta charset=\"utf-8\" /></head>\n<body>\n    <div>            <script src=\"https://cdnjs.cloudflare.com/ajax/libs/mathjax/2.7.5/MathJax.js?config=TeX-AMS-MML_SVG\"></script><script type=\"text/javascript\">if (window.MathJax) {MathJax.Hub.Config({SVG: {font: \"STIX-Web\"}});}</script>                <script type=\"text/javascript\">window.PlotlyConfig = {MathJaxConfig: 'local'};</script>\n        <script src=\"https://cdn.plot.ly/plotly-2.4.2.min.js\"></script>                <div id=\"500814e7-9ff0-4ba4-89d9-795f38512f68\" class=\"plotly-graph-div\" style=\"height:525px; width:100%;\"></div>            <script type=\"text/javascript\">                                    window.PLOTLYENV=window.PLOTLYENV || {};                                    if (document.getElementById(\"500814e7-9ff0-4ba4-89d9-795f38512f68\")) {                    Plotly.newPlot(                        \"500814e7-9ff0-4ba4-89d9-795f38512f68\",                        [{\"hovertemplate\":\"Depth=%{x}<br>Accuracy=%{y}<extra></extra>\",\"legendgroup\":\"\",\"line\":{\"color\":\"#636efa\",\"dash\":\"solid\"},\"marker\":{\"symbol\":\"circle\"},\"mode\":\"lines\",\"name\":\"\",\"orientation\":\"v\",\"showlegend\":false,\"type\":\"scatter\",\"x\":[1.0,2.0,3.0,4.0,5.0,6.0,7.0,8.0,9.0,10.0,11.0,12.0,13.0,14.0,15.0,16.0,17.0,18.0,19.0],\"xaxis\":\"x\",\"y\":[0.39286,0.42857,0.46429,0.53571,0.53571,0.57143,0.53571,0.46429,0.5,0.57143,0.53571,0.57143,0.57143,0.46429,0.5,0.5,0.5,0.53571,0.53571],\"yaxis\":\"y\"}],                        {\"legend\":{\"tracegroupgap\":0},\"template\":{\"data\":{\"bar\":[{\"error_x\":{\"color\":\"#2a3f5f\"},\"error_y\":{\"color\":\"#2a3f5f\"},\"marker\":{\"line\":{\"color\":\"#E5ECF6\",\"width\":0.5},\"pattern\":{\"fillmode\":\"overlay\",\"size\":10,\"solidity\":0.2}},\"type\":\"bar\"}],\"barpolar\":[{\"marker\":{\"line\":{\"color\":\"#E5ECF6\",\"width\":0.5},\"pattern\":{\"fillmode\":\"overlay\",\"size\":10,\"solidity\":0.2}},\"type\":\"barpolar\"}],\"carpet\":[{\"aaxis\":{\"endlinecolor\":\"#2a3f5f\",\"gridcolor\":\"white\",\"linecolor\":\"white\",\"minorgridcolor\":\"white\",\"startlinecolor\":\"#2a3f5f\"},\"baxis\":{\"endlinecolor\":\"#2a3f5f\",\"gridcolor\":\"white\",\"linecolor\":\"white\",\"minorgridcolor\":\"white\",\"startlinecolor\":\"#2a3f5f\"},\"type\":\"carpet\"}],\"choropleth\":[{\"colorbar\":{\"outlinewidth\":0,\"ticks\":\"\"},\"type\":\"choropleth\"}],\"contour\":[{\"colorbar\":{\"outlinewidth\":0,\"ticks\":\"\"},\"colorscale\":[[0.0,\"#0d0887\"],[0.1111111111111111,\"#46039f\"],[0.2222222222222222,\"#7201a8\"],[0.3333333333333333,\"#9c179e\"],[0.4444444444444444,\"#bd3786\"],[0.5555555555555556,\"#d8576b\"],[0.6666666666666666,\"#ed7953\"],[0.7777777777777778,\"#fb9f3a\"],[0.8888888888888888,\"#fdca26\"],[1.0,\"#f0f921\"]],\"type\":\"contour\"}],\"contourcarpet\":[{\"colorbar\":{\"outlinewidth\":0,\"ticks\":\"\"},\"type\":\"contourcarpet\"}],\"heatmap\":[{\"colorbar\":{\"outlinewidth\":0,\"ticks\":\"\"},\"colorscale\":[[0.0,\"#0d0887\"],[0.1111111111111111,\"#46039f\"],[0.2222222222222222,\"#7201a8\"],[0.3333333333333333,\"#9c179e\"],[0.4444444444444444,\"#bd3786\"],[0.5555555555555556,\"#d8576b\"],[0.6666666666666666,\"#ed7953\"],[0.7777777777777778,\"#fb9f3a\"],[0.8888888888888888,\"#fdca26\"],[1.0,\"#f0f921\"]],\"type\":\"heatmap\"}],\"heatmapgl\":[{\"colorbar\":{\"outlinewidth\":0,\"ticks\":\"\"},\"colorscale\":[[0.0,\"#0d0887\"],[0.1111111111111111,\"#46039f\"],[0.2222222222222222,\"#7201a8\"],[0.3333333333333333,\"#9c179e\"],[0.4444444444444444,\"#bd3786\"],[0.5555555555555556,\"#d8576b\"],[0.6666666666666666,\"#ed7953\"],[0.7777777777777778,\"#fb9f3a\"],[0.8888888888888888,\"#fdca26\"],[1.0,\"#f0f921\"]],\"type\":\"heatmapgl\"}],\"histogram\":[{\"marker\":{\"pattern\":{\"fillmode\":\"overlay\",\"size\":10,\"solidity\":0.2}},\"type\":\"histogram\"}],\"histogram2d\":[{\"colorbar\":{\"outlinewidth\":0,\"ticks\":\"\"},\"colorscale\":[[0.0,\"#0d0887\"],[0.1111111111111111,\"#46039f\"],[0.2222222222222222,\"#7201a8\"],[0.3333333333333333,\"#9c179e\"],[0.4444444444444444,\"#bd3786\"],[0.5555555555555556,\"#d8576b\"],[0.6666666666666666,\"#ed7953\"],[0.7777777777777778,\"#fb9f3a\"],[0.8888888888888888,\"#fdca26\"],[1.0,\"#f0f921\"]],\"type\":\"histogram2d\"}],\"histogram2dcontour\":[{\"colorbar\":{\"outlinewidth\":0,\"ticks\":\"\"},\"colorscale\":[[0.0,\"#0d0887\"],[0.1111111111111111,\"#46039f\"],[0.2222222222222222,\"#7201a8\"],[0.3333333333333333,\"#9c179e\"],[0.4444444444444444,\"#bd3786\"],[0.5555555555555556,\"#d8576b\"],[0.6666666666666666,\"#ed7953\"],[0.7777777777777778,\"#fb9f3a\"],[0.8888888888888888,\"#fdca26\"],[1.0,\"#f0f921\"]],\"type\":\"histogram2dcontour\"}],\"mesh3d\":[{\"colorbar\":{\"outlinewidth\":0,\"ticks\":\"\"},\"type\":\"mesh3d\"}],\"parcoords\":[{\"line\":{\"colorbar\":{\"outlinewidth\":0,\"ticks\":\"\"}},\"type\":\"parcoords\"}],\"pie\":[{\"automargin\":true,\"type\":\"pie\"}],\"scatter\":[{\"marker\":{\"colorbar\":{\"outlinewidth\":0,\"ticks\":\"\"}},\"type\":\"scatter\"}],\"scatter3d\":[{\"line\":{\"colorbar\":{\"outlinewidth\":0,\"ticks\":\"\"}},\"marker\":{\"colorbar\":{\"outlinewidth\":0,\"ticks\":\"\"}},\"type\":\"scatter3d\"}],\"scattercarpet\":[{\"marker\":{\"colorbar\":{\"outlinewidth\":0,\"ticks\":\"\"}},\"type\":\"scattercarpet\"}],\"scattergeo\":[{\"marker\":{\"colorbar\":{\"outlinewidth\":0,\"ticks\":\"\"}},\"type\":\"scattergeo\"}],\"scattergl\":[{\"marker\":{\"colorbar\":{\"outlinewidth\":0,\"ticks\":\"\"}},\"type\":\"scattergl\"}],\"scattermapbox\":[{\"marker\":{\"colorbar\":{\"outlinewidth\":0,\"ticks\":\"\"}},\"type\":\"scattermapbox\"}],\"scatterpolar\":[{\"marker\":{\"colorbar\":{\"outlinewidth\":0,\"ticks\":\"\"}},\"type\":\"scatterpolar\"}],\"scatterpolargl\":[{\"marker\":{\"colorbar\":{\"outlinewidth\":0,\"ticks\":\"\"}},\"type\":\"scatterpolargl\"}],\"scatterternary\":[{\"marker\":{\"colorbar\":{\"outlinewidth\":0,\"ticks\":\"\"}},\"type\":\"scatterternary\"}],\"surface\":[{\"colorbar\":{\"outlinewidth\":0,\"ticks\":\"\"},\"colorscale\":[[0.0,\"#0d0887\"],[0.1111111111111111,\"#46039f\"],[0.2222222222222222,\"#7201a8\"],[0.3333333333333333,\"#9c179e\"],[0.4444444444444444,\"#bd3786\"],[0.5555555555555556,\"#d8576b\"],[0.6666666666666666,\"#ed7953\"],[0.7777777777777778,\"#fb9f3a\"],[0.8888888888888888,\"#fdca26\"],[1.0,\"#f0f921\"]],\"type\":\"surface\"}],\"table\":[{\"cells\":{\"fill\":{\"color\":\"#EBF0F8\"},\"line\":{\"color\":\"white\"}},\"header\":{\"fill\":{\"color\":\"#C8D4E3\"},\"line\":{\"color\":\"white\"}},\"type\":\"table\"}]},\"layout\":{\"annotationdefaults\":{\"arrowcolor\":\"#2a3f5f\",\"arrowhead\":0,\"arrowwidth\":1},\"autotypenumbers\":\"strict\",\"coloraxis\":{\"colorbar\":{\"outlinewidth\":0,\"ticks\":\"\"}},\"colorscale\":{\"diverging\":[[0,\"#8e0152\"],[0.1,\"#c51b7d\"],[0.2,\"#de77ae\"],[0.3,\"#f1b6da\"],[0.4,\"#fde0ef\"],[0.5,\"#f7f7f7\"],[0.6,\"#e6f5d0\"],[0.7,\"#b8e186\"],[0.8,\"#7fbc41\"],[0.9,\"#4d9221\"],[1,\"#276419\"]],\"sequential\":[[0.0,\"#0d0887\"],[0.1111111111111111,\"#46039f\"],[0.2222222222222222,\"#7201a8\"],[0.3333333333333333,\"#9c179e\"],[0.4444444444444444,\"#bd3786\"],[0.5555555555555556,\"#d8576b\"],[0.6666666666666666,\"#ed7953\"],[0.7777777777777778,\"#fb9f3a\"],[0.8888888888888888,\"#fdca26\"],[1.0,\"#f0f921\"]],\"sequentialminus\":[[0.0,\"#0d0887\"],[0.1111111111111111,\"#46039f\"],[0.2222222222222222,\"#7201a8\"],[0.3333333333333333,\"#9c179e\"],[0.4444444444444444,\"#bd3786\"],[0.5555555555555556,\"#d8576b\"],[0.6666666666666666,\"#ed7953\"],[0.7777777777777778,\"#fb9f3a\"],[0.8888888888888888,\"#fdca26\"],[1.0,\"#f0f921\"]]},\"colorway\":[\"#636efa\",\"#EF553B\",\"#00cc96\",\"#ab63fa\",\"#FFA15A\",\"#19d3f3\",\"#FF6692\",\"#B6E880\",\"#FF97FF\",\"#FECB52\"],\"font\":{\"color\":\"#2a3f5f\"},\"geo\":{\"bgcolor\":\"white\",\"lakecolor\":\"white\",\"landcolor\":\"#E5ECF6\",\"showlakes\":true,\"showland\":true,\"subunitcolor\":\"white\"},\"hoverlabel\":{\"align\":\"left\"},\"hovermode\":\"closest\",\"mapbox\":{\"style\":\"light\"},\"paper_bgcolor\":\"white\",\"plot_bgcolor\":\"#E5ECF6\",\"polar\":{\"angularaxis\":{\"gridcolor\":\"white\",\"linecolor\":\"white\",\"ticks\":\"\"},\"bgcolor\":\"#E5ECF6\",\"radialaxis\":{\"gridcolor\":\"white\",\"linecolor\":\"white\",\"ticks\":\"\"}},\"scene\":{\"xaxis\":{\"backgroundcolor\":\"#E5ECF6\",\"gridcolor\":\"white\",\"gridwidth\":2,\"linecolor\":\"white\",\"showbackground\":true,\"ticks\":\"\",\"zerolinecolor\":\"white\"},\"yaxis\":{\"backgroundcolor\":\"#E5ECF6\",\"gridcolor\":\"white\",\"gridwidth\":2,\"linecolor\":\"white\",\"showbackground\":true,\"ticks\":\"\",\"zerolinecolor\":\"white\"},\"zaxis\":{\"backgroundcolor\":\"#E5ECF6\",\"gridcolor\":\"white\",\"gridwidth\":2,\"linecolor\":\"white\",\"showbackground\":true,\"ticks\":\"\",\"zerolinecolor\":\"white\"}},\"shapedefaults\":{\"line\":{\"color\":\"#2a3f5f\"}},\"ternary\":{\"aaxis\":{\"gridcolor\":\"white\",\"linecolor\":\"white\",\"ticks\":\"\"},\"baxis\":{\"gridcolor\":\"white\",\"linecolor\":\"white\",\"ticks\":\"\"},\"bgcolor\":\"#E5ECF6\",\"caxis\":{\"gridcolor\":\"white\",\"linecolor\":\"white\",\"ticks\":\"\"}},\"title\":{\"x\":0.05},\"xaxis\":{\"automargin\":true,\"gridcolor\":\"white\",\"linecolor\":\"white\",\"ticks\":\"\",\"title\":{\"standoff\":15},\"zerolinecolor\":\"white\",\"zerolinewidth\":2},\"yaxis\":{\"automargin\":true,\"gridcolor\":\"white\",\"linecolor\":\"white\",\"ticks\":\"\",\"title\":{\"standoff\":15},\"zerolinecolor\":\"white\",\"zerolinewidth\":2}}},\"title\":{\"text\":\"Decision Tree accuracy based on his depth\"},\"xaxis\":{\"anchor\":\"y\",\"domain\":[0.0,1.0],\"title\":{\"text\":\"Depth\"}},\"yaxis\":{\"anchor\":\"x\",\"domain\":[0.0,1.0],\"title\":{\"text\":\"Accuracy\"}}},                        {\"responsive\": true}                    ).then(function(){\n                            \nvar gd = document.getElementById('500814e7-9ff0-4ba4-89d9-795f38512f68');\nvar x = new MutationObserver(function (mutations, observer) {{\n        var display = window.getComputedStyle(gd).display;\n        if (!display || display === 'none') {{\n            console.log([gd, 'removed!']);\n            Plotly.purge(gd);\n            observer.disconnect();\n        }}\n}});\n\n// Listen for the removal of the full notebook cells\nvar notebookContainer = gd.closest('#notebook-container');\nif (notebookContainer) {{\n    x.observe(notebookContainer, {childList: true});\n}}\n\n// Listen for the clearing of the current output cell\nvar outputEl = gd.closest('.output');\nif (outputEl) {{\n    x.observe(outputEl, {childList: true});\n}}\n\n                        })                };                            </script>        </div>\n</body>\n</html>"
     },
     "metadata": {},
     "output_type": "display_data"
    }
   ],
   "execution_count": null
  },
  {
   "cell_type": "code",
   "metadata": {
    "tags": [],
    "cell_id": "00061-1a624ecf-e3d8-4eae-811d-fd06915be624",
    "deepnote_to_be_reexecuted": false,
    "source_hash": "a56db2f4",
    "execution_start": 1638374009332,
    "execution_millis": 4,
    "deepnote_output_heights": [
     420.66668701171875
    ],
    "deepnote_cell_type": "code"
   },
   "source": "# Addestro l'albero di decisione\nclf = tree.DecisionTreeClassifier(max_depth=2)\nclf = clf.fit(X_train, y_train)\n\n# Eseguo il plot dell'albero di decisione creato\ndot_data = tree.export_graphviz(clf, out_file=None,\n    feature_names=features_names,\n    class_names=[str(val) for val in set(t5_data['labels'])], #['Ugo', 'Federico', 'D.Va'],\n    filled=True, rounded=True,\n    special_characters=True)\ngraph = graphviz.Source(dot_data)\ngraph",
   "outputs": [
    {
     "output_type": "execute_result",
     "execution_count": 65,
     "data": {
      "text/plain": "<graphviz.sources.Source at 0x7f9653d03e50>",
      "image/svg+xml": "<?xml version=\"1.0\" encoding=\"UTF-8\" standalone=\"no\"?>\n<!DOCTYPE svg PUBLIC \"-//W3C//DTD SVG 1.1//EN\"\n \"http://www.w3.org/Graphics/SVG/1.1/DTD/svg11.dtd\">\n<!-- Generated by graphviz version 2.40.1 (20161225.0304)\n -->\n<!-- Title: Tree Pages: 1 -->\n<svg width=\"622pt\" height=\"314pt\"\n viewBox=\"0.00 0.00 622.00 314.00\" xmlns=\"http://www.w3.org/2000/svg\" xmlns:xlink=\"http://www.w3.org/1999/xlink\">\n<g id=\"graph0\" class=\"graph\" transform=\"scale(1 1) rotate(0) translate(4 310)\">\n<title>Tree</title>\n<polygon fill=\"#ffffff\" stroke=\"transparent\" points=\"-4,4 -4,-310 618,-310 618,4 -4,4\"/>\n<!-- 0 -->\n<g id=\"node1\" class=\"node\">\n<title>0</title>\n<path fill=\"#ffffff\" stroke=\"#000000\" d=\"M376,-306C376,-306 241,-306 241,-306 235,-306 229,-300 229,-294 229,-294 229,-235 229,-235 229,-229 235,-223 241,-223 241,-223 376,-223 376,-223 382,-223 388,-229 388,-235 388,-235 388,-294 388,-294 388,-300 382,-306 376,-306\"/>\n<text text-anchor=\"start\" x=\"264.5\" y=\"-290.8\" font-family=\"Helvetica,sans-Serif\" font-size=\"14.00\" fill=\"#000000\">F18 ≤ 0.003</text>\n<text text-anchor=\"start\" x=\"264.5\" y=\"-275.8\" font-family=\"Helvetica,sans-Serif\" font-size=\"14.00\" fill=\"#000000\">gini = 0.667</text>\n<text text-anchor=\"start\" x=\"258.5\" y=\"-260.8\" font-family=\"Helvetica,sans-Serif\" font-size=\"14.00\" fill=\"#000000\">samples = 65</text>\n<text text-anchor=\"start\" x=\"237\" y=\"-245.8\" font-family=\"Helvetica,sans-Serif\" font-size=\"14.00\" fill=\"#000000\">value = [21, 22, 22]</text>\n<text text-anchor=\"start\" x=\"275.5\" y=\"-230.8\" font-family=\"Helvetica,sans-Serif\" font-size=\"14.00\" fill=\"#000000\">class = 1</text>\n</g>\n<!-- 1 -->\n<g id=\"node2\" class=\"node\">\n<title>1</title>\n<path fill=\"#fcf0e8\" stroke=\"#000000\" d=\"M289.5,-187C289.5,-187 163.5,-187 163.5,-187 157.5,-187 151.5,-181 151.5,-175 151.5,-175 151.5,-116 151.5,-116 151.5,-110 157.5,-104 163.5,-104 163.5,-104 289.5,-104 289.5,-104 295.5,-104 301.5,-110 301.5,-116 301.5,-116 301.5,-175 301.5,-175 301.5,-181 295.5,-187 289.5,-187\"/>\n<text text-anchor=\"start\" x=\"182.5\" y=\"-171.8\" font-family=\"Helvetica,sans-Serif\" font-size=\"14.00\" fill=\"#000000\">F13 ≤ 0.008</text>\n<text text-anchor=\"start\" x=\"182.5\" y=\"-156.8\" font-family=\"Helvetica,sans-Serif\" font-size=\"14.00\" fill=\"#000000\">gini = 0.498</text>\n<text text-anchor=\"start\" x=\"176.5\" y=\"-141.8\" font-family=\"Helvetica,sans-Serif\" font-size=\"14.00\" fill=\"#000000\">samples = 32</text>\n<text text-anchor=\"start\" x=\"159.5\" y=\"-126.8\" font-family=\"Helvetica,sans-Serif\" font-size=\"14.00\" fill=\"#000000\">value = [17, 0, 15]</text>\n<text text-anchor=\"start\" x=\"193.5\" y=\"-111.8\" font-family=\"Helvetica,sans-Serif\" font-size=\"14.00\" fill=\"#000000\">class = 0</text>\n</g>\n<!-- 0&#45;&gt;1 -->\n<g id=\"edge1\" class=\"edge\">\n<title>0&#45;&gt;1</title>\n<path fill=\"none\" stroke=\"#000000\" d=\"M279.8204,-222.8796C273.7385,-214.0534 267.2578,-204.6485 260.9859,-195.5466\"/>\n<polygon fill=\"#000000\" stroke=\"#000000\" points=\"263.8582,-193.5465 255.302,-187.2981 258.0941,-197.5184 263.8582,-193.5465\"/>\n<text text-anchor=\"middle\" x=\"250.7761\" y=\"-208.185\" font-family=\"Helvetica,sans-Serif\" font-size=\"14.00\" fill=\"#000000\">True</text>\n</g>\n<!-- 4 -->\n<g id=\"node5\" class=\"node\">\n<title>4</title>\n<path fill=\"#8df0b6\" stroke=\"#000000\" d=\"M449,-187C449,-187 332,-187 332,-187 326,-187 320,-181 320,-175 320,-175 320,-116 320,-116 320,-110 326,-104 332,-104 332,-104 449,-104 449,-104 455,-104 461,-110 461,-116 461,-116 461,-175 461,-175 461,-181 455,-187 449,-187\"/>\n<text text-anchor=\"start\" x=\"343.5\" y=\"-171.8\" font-family=\"Helvetica,sans-Serif\" font-size=\"14.00\" fill=\"#000000\">F15 ≤ &#45;0.006</text>\n<text text-anchor=\"start\" x=\"346.5\" y=\"-156.8\" font-family=\"Helvetica,sans-Serif\" font-size=\"14.00\" fill=\"#000000\">gini = 0.496</text>\n<text text-anchor=\"start\" x=\"340.5\" y=\"-141.8\" font-family=\"Helvetica,sans-Serif\" font-size=\"14.00\" fill=\"#000000\">samples = 33</text>\n<text text-anchor=\"start\" x=\"328\" y=\"-126.8\" font-family=\"Helvetica,sans-Serif\" font-size=\"14.00\" fill=\"#000000\">value = [4, 22, 7]</text>\n<text text-anchor=\"start\" x=\"357.5\" y=\"-111.8\" font-family=\"Helvetica,sans-Serif\" font-size=\"14.00\" fill=\"#000000\">class = 1</text>\n</g>\n<!-- 0&#45;&gt;4 -->\n<g id=\"edge4\" class=\"edge\">\n<title>0&#45;&gt;4</title>\n<path fill=\"none\" stroke=\"#000000\" d=\"M337.1796,-222.8796C343.2615,-214.0534 349.7422,-204.6485 356.0141,-195.5466\"/>\n<polygon fill=\"#000000\" stroke=\"#000000\" points=\"358.9059,-197.5184 361.698,-187.2981 353.1418,-193.5465 358.9059,-197.5184\"/>\n<text text-anchor=\"middle\" x=\"366.2239\" y=\"-208.185\" font-family=\"Helvetica,sans-Serif\" font-size=\"14.00\" fill=\"#000000\">False</text>\n</g>\n<!-- 2 -->\n<g id=\"node3\" class=\"node\">\n<title>2</title>\n<path fill=\"#e89253\" stroke=\"#000000\" d=\"M129,-68C129,-68 12,-68 12,-68 6,-68 0,-62 0,-56 0,-56 0,-12 0,-12 0,-6 6,0 12,0 12,0 129,0 129,0 135,0 141,-6 141,-12 141,-12 141,-56 141,-56 141,-62 135,-68 129,-68\"/>\n<text text-anchor=\"start\" x=\"26.5\" y=\"-52.8\" font-family=\"Helvetica,sans-Serif\" font-size=\"14.00\" fill=\"#000000\">gini = 0.208</text>\n<text text-anchor=\"start\" x=\"20.5\" y=\"-37.8\" font-family=\"Helvetica,sans-Serif\" font-size=\"14.00\" fill=\"#000000\">samples = 17</text>\n<text text-anchor=\"start\" x=\"8\" y=\"-22.8\" font-family=\"Helvetica,sans-Serif\" font-size=\"14.00\" fill=\"#000000\">value = [15, 0, 2]</text>\n<text text-anchor=\"start\" x=\"37.5\" y=\"-7.8\" font-family=\"Helvetica,sans-Serif\" font-size=\"14.00\" fill=\"#000000\">class = 0</text>\n</g>\n<!-- 1&#45;&gt;2 -->\n<g id=\"edge2\" class=\"edge\">\n<title>1&#45;&gt;2</title>\n<path fill=\"none\" stroke=\"#000000\" d=\"M168.4114,-103.9815C154.7811,-94.2394 140.2816,-83.8759 126.7342,-74.193\"/>\n<polygon fill=\"#000000\" stroke=\"#000000\" points=\"128.6092,-71.2311 118.4384,-68.2637 124.5388,-76.926 128.6092,-71.2311\"/>\n</g>\n<!-- 3 -->\n<g id=\"node4\" class=\"node\">\n<title>3</title>\n<path fill=\"#9457e9\" stroke=\"#000000\" d=\"M288,-68C288,-68 171,-68 171,-68 165,-68 159,-62 159,-56 159,-56 159,-12 159,-12 159,-6 165,0 171,0 171,0 288,0 288,0 294,0 300,-6 300,-12 300,-12 300,-56 300,-56 300,-62 294,-68 288,-68\"/>\n<text text-anchor=\"start\" x=\"185.5\" y=\"-52.8\" font-family=\"Helvetica,sans-Serif\" font-size=\"14.00\" fill=\"#000000\">gini = 0.231</text>\n<text text-anchor=\"start\" x=\"179.5\" y=\"-37.8\" font-family=\"Helvetica,sans-Serif\" font-size=\"14.00\" fill=\"#000000\">samples = 15</text>\n<text text-anchor=\"start\" x=\"167\" y=\"-22.8\" font-family=\"Helvetica,sans-Serif\" font-size=\"14.00\" fill=\"#000000\">value = [2, 0, 13]</text>\n<text text-anchor=\"start\" x=\"196.5\" y=\"-7.8\" font-family=\"Helvetica,sans-Serif\" font-size=\"14.00\" fill=\"#000000\">class = 2</text>\n</g>\n<!-- 1&#45;&gt;3 -->\n<g id=\"edge3\" class=\"edge\">\n<title>1&#45;&gt;3</title>\n<path fill=\"none\" stroke=\"#000000\" d=\"M227.6171,-103.9815C227.8421,-95.618 228.0795,-86.7965 228.307,-78.3409\"/>\n<polygon fill=\"#000000\" stroke=\"#000000\" points=\"231.8078,-78.3542 228.5781,-68.2637 224.8103,-78.1659 231.8078,-78.3542\"/>\n</g>\n<!-- 5 -->\n<g id=\"node6\" class=\"node\">\n<title>5</title>\n<path fill=\"#9a61ea\" stroke=\"#000000\" d=\"M442.5,-68C442.5,-68 334.5,-68 334.5,-68 328.5,-68 322.5,-62 322.5,-56 322.5,-56 322.5,-12 322.5,-12 322.5,-6 328.5,0 334.5,0 334.5,0 442.5,0 442.5,0 448.5,0 454.5,-6 454.5,-12 454.5,-12 454.5,-56 454.5,-56 454.5,-62 448.5,-68 442.5,-68\"/>\n<text text-anchor=\"start\" x=\"344.5\" y=\"-52.8\" font-family=\"Helvetica,sans-Serif\" font-size=\"14.00\" fill=\"#000000\">gini = 0.278</text>\n<text text-anchor=\"start\" x=\"343\" y=\"-37.8\" font-family=\"Helvetica,sans-Serif\" font-size=\"14.00\" fill=\"#000000\">samples = 6</text>\n<text text-anchor=\"start\" x=\"330.5\" y=\"-22.8\" font-family=\"Helvetica,sans-Serif\" font-size=\"14.00\" fill=\"#000000\">value = [1, 0, 5]</text>\n<text text-anchor=\"start\" x=\"355.5\" y=\"-7.8\" font-family=\"Helvetica,sans-Serif\" font-size=\"14.00\" fill=\"#000000\">class = 2</text>\n</g>\n<!-- 4&#45;&gt;5 -->\n<g id=\"edge5\" class=\"edge\">\n<title>4&#45;&gt;5</title>\n<path fill=\"none\" stroke=\"#000000\" d=\"M389.7553,-103.9815C389.6053,-95.618 389.447,-86.7965 389.2954,-78.3409\"/>\n<polygon fill=\"#000000\" stroke=\"#000000\" points=\"392.7935,-78.1993 389.1146,-68.2637 385.7946,-78.3249 392.7935,-78.1993\"/>\n</g>\n<!-- 6 -->\n<g id=\"node7\" class=\"node\">\n<title>6</title>\n<path fill=\"#62ea9b\" stroke=\"#000000\" d=\"M602,-68C602,-68 485,-68 485,-68 479,-68 473,-62 473,-56 473,-56 473,-12 473,-12 473,-6 479,0 485,0 485,0 602,0 602,0 608,0 614,-6 614,-12 614,-12 614,-56 614,-56 614,-62 608,-68 602,-68\"/>\n<text text-anchor=\"start\" x=\"499.5\" y=\"-52.8\" font-family=\"Helvetica,sans-Serif\" font-size=\"14.00\" fill=\"#000000\">gini = 0.318</text>\n<text text-anchor=\"start\" x=\"493.5\" y=\"-37.8\" font-family=\"Helvetica,sans-Serif\" font-size=\"14.00\" fill=\"#000000\">samples = 27</text>\n<text text-anchor=\"start\" x=\"481\" y=\"-22.8\" font-family=\"Helvetica,sans-Serif\" font-size=\"14.00\" fill=\"#000000\">value = [3, 22, 2]</text>\n<text text-anchor=\"start\" x=\"510.5\" y=\"-7.8\" font-family=\"Helvetica,sans-Serif\" font-size=\"14.00\" fill=\"#000000\">class = 1</text>\n</g>\n<!-- 4&#45;&gt;6 -->\n<g id=\"edge6\" class=\"edge\">\n<title>4&#45;&gt;6</title>\n<path fill=\"none\" stroke=\"#000000\" d=\"M447.4716,-103.9815C460.8396,-94.2394 475.0604,-83.8759 488.3472,-74.193\"/>\n<polygon fill=\"#000000\" stroke=\"#000000\" points=\"490.4632,-76.9819 496.4835,-68.2637 486.3405,-71.3247 490.4632,-76.9819\"/>\n</g>\n</g>\n</svg>\n"
     },
     "metadata": {}
    }
   ],
   "execution_count": null
  },
  {
   "cell_type": "code",
   "metadata": {
    "tags": [],
    "cell_id": "00063-1463aafe-6ead-4826-9b72-f408a4ba5066",
    "deepnote_to_be_reexecuted": false,
    "source_hash": "822e6f90",
    "execution_start": 1638373802093,
    "execution_millis": 3,
    "deepnote_output_heights": [
     null,
     21.199996948242188
    ],
    "deepnote_cell_type": "code"
   },
   "source": "# Predico con l'albero di decisione\ny_pred = clf.predict(X_test)\nprint(\"DT - Predictions:\\n\", y_pred)\nprint(\"Reals:\\n\", y_test)\nprint(\"Accuracy\", format_float(accuracy_score(y_test, y_pred)))",
   "outputs": [
    {
     "name": "stdout",
     "text": "DT - Predictions:\n [2. 1. 1. 0. 0. 0. 0. 0. 2. 2. 1. 0. 0. 0. 0. 0. 0. 1. 1. 2. 2. 2. 2. 1.\n 0. 1. 0. 1.]\nReals:\n [2. 1. 1. 0. 0. 1. 0. 1. 2. 2. 0. 0. 2. 2. 2. 0. 0. 1. 1. 0. 0. 2. 2. 2.\n 0. 1. 1. 1.]\nAccuracy 0.64286\n",
     "output_type": "stream"
    }
   ],
   "execution_count": null
  },
  {
   "cell_type": "code",
   "metadata": {
    "tags": [],
    "cell_id": "00066-47aa80fa-7c34-46da-8f1b-77ee86f8b4fe",
    "deepnote_to_be_reexecuted": false,
    "source_hash": "b623e53d",
    "execution_start": 1638373802095,
    "execution_millis": 651120,
    "deepnote_cell_type": "code"
   },
   "source": "",
   "outputs": [],
   "execution_count": null
  },
  {
   "cell_type": "markdown",
   "source": "<a style='text-decoration:none;line-height:16px;display:flex;color:#5B5B62;padding:10px;justify-content:end;' href='https://deepnote.com?utm_source=created-in-deepnote-cell&projectId=81dda25b-3b1c-4959-acc8-4a8b980be717' target=\"_blank\">\n<img alt='Created in deepnote.com' style='display:inline;max-height:16px;margin:0px;margin-right:7.5px;' src='data:image/svg+xml;base64,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' > </img>\nCreated in <span style='font-weight:600;margin-left:4px;'>Deepnote</span></a>",
   "metadata": {
    "tags": [],
    "created_in_deepnote_cell": true,
    "deepnote_cell_type": "markdown"
   }
  }
 ],
 "nbformat": 4,
 "nbformat_minor": 2,
 "metadata": {
  "orig_nbformat": 2,
  "deepnote": {
   "is_reactive": false
  },
  "deepnote_notebook_id": "e09f2adf-083e-4839-9bb5-7d8776406a70",
  "deepnote_execution_queue": []
 }
}