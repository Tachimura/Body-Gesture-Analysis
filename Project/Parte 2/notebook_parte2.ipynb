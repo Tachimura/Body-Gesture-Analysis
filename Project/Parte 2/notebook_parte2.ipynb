{
 "cells": [
  {
   "cell_type": "markdown",
   "source": "# BDM Exam Project - Part 2",
   "metadata": {
    "tags": [],
    "cell_id": "00000-8372ca05-7983-4b78-9184-019ba314114c",
    "deepnote_cell_type": "markdown"
   }
  },
  {
   "cell_type": "markdown",
   "source": "## DOMANDE X PROF:\nTASK 4:\n\nPARTE C:\n- L'algoritmo di clustering spettrale si costruisce automaticamente la matrice laplaciana, possiamo usarlo o meno? (in ogni caso abbiamo descritto come si creerebbe)\n<br>\n\nTASK 5:\n- Nel paper non c'è scritto nulla, possiamo usare Knn e decision-tree già scritti o dobbiamo scriverli di nostro? (in task 4 c'è scritto di scriverli da 0, qua no)\n- I dati da clusterizzare possiamo già caricarli prima ed eseguire tutte le operazioni man mano? (words -> vettorizzazione -> ecc...)",
   "metadata": {
    "tags": [],
    "cell_id": "00001-2ee25412-9938-49fa-8a53-fdc27702ec77",
    "deepnote_cell_type": "markdown"
   }
  },
  {
   "cell_type": "markdown",
   "source": "## TODO:\nTASK1\n- Fixare LDA scrauso, bisogna capire che label passarci dato che è supervisionato!\n<br>\n\nTASK2\n- Implementare Opzione #1\n- Implementare Opzione (#2,#3 QUESTE DUE CONTROLLARE SE GIà FUNZIONA), (#4 ANCORA DA IMPLEMENTARE LDA)\n- Implementare Opzione #5\n- Implementare Opzione #6\n<br>\n\nTASK3\n- punto 1) 4 opzioni di implementazioni co0me nel task2\n- NOTA BENE: le 3 parti devono funzionare senza cambiare codice (indifferentemente da cosa abbiamo scelto prima, l'input per la parte 4 DEVE essere sempre lo stesso)\n<br>\n\nTASK4\n- [x] DONE\n<br>\n\nTASK 5\n- \\[X] Leggere i veri dati di test\n- [X] Parte A\n- [X] Parte B \n",
   "metadata": {
    "tags": [],
    "cell_id": "00001-36d412ad-00a8-4bff-a4a6-6e2b48a48bc2",
    "deepnote_cell_type": "markdown"
   }
  },
  {
   "cell_type": "markdown",
   "source": "## Imports",
   "metadata": {
    "tags": [],
    "is_collapsed": false,
    "cell_id": "00001-e7a911cb-1821-422d-8f2f-057c00b923a7",
    "deepnote_cell_type": "text-cell-h2"
   }
  },
  {
   "cell_type": "code",
   "metadata": {
    "tags": [],
    "cell_id": "00002-cb5942af-91be-4d6f-8734-41bb867f669d",
    "deepnote_to_be_reexecuted": false,
    "source_hash": "63da052",
    "execution_start": 1638012899213,
    "execution_millis": 787,
    "deepnote_cell_type": "code"
   },
   "source": "# General utils\nimport os\nimport shutil\nimport numpy as np\n\n# per i plot\nimport plotly.express as px\nimport plotly.graph_objects as go\n# ---------- ---------- ---------- ---------- ----------\n\n# My general utils\nfrom my_utils import get_files_name\n# ---------- ---------- ---------- ---------- ----------\n\n# Task 0\nfrom task0_utils import task0_stats\n# Parte A\nfrom task0_utils import generate_alphabet\nfrom task0_utils import gesture_2_word\nfrom task0_utils import write_word_as_json\nfrom task0_utils import generate_dizionario_parole_from_gesturewordsdict\n# Parte B\nfrom task0_utils import gesture_words_preprocessing\nfrom task0_utils import show_gesture_metrics\n# ---------- ---------- ---------- ---------- ----------\n\n# Task 1\nfrom task1_utils import read_gesture_measures_reduced\nfrom task1_utils import metrics_reduced_2_numpy\nfrom task1_utils import metrics_numpy_2_pandas\nfrom task1_utils import metrics_numpy_2_PCA\nfrom task1_utils import metrics_numpy_2_LDA\nfrom task1_utils import metrics_numpy_2_SVD\nfrom task1_utils import get_top_k_latent_features\nfrom task1_utils import prepare_alg_variances_to_plot\n# ---------- ---------- ---------- ---------- ----------\n\n# Task 2\nfrom task2_utils import find_k_most_similar\nfrom task2_utils import generate_alg_database\n# ---------- ---------- ---------- ---------- ----------\n\n# Task 3\nfrom task3_utils import generate_gestures_similarity_matrix\nfrom task3_utils import gestures_similarity_matrix_2_pandas\nfrom task3_utils import generate_gesture_gesture_svd\nfrom task3_utils import get_top_p_latent_gestures\n# ---------- ---------- ---------- ---------- ----------\n\n# Task 4\nfrom task4_utils import cluster_labels_2_pandas\nfrom task4_utils import top_p_gestures_2_numpy\n# Parte A\nfrom task4_utils import MyPartitioner\n# Parte B\nfrom task4_utils import SimpleKMeans\n# Parte C\nfrom task4_utils import spectral_clustering_analyze\nfrom task4_utils import spectral_analisys_results_2_pandas\nfrom task4_utils import spectral_analisys_results_pandas_2_split\nfrom task4_utils import spectral_clustering\n# ---------- ---------- ---------- ---------- ----------\n\n# Task 5\nfrom task5_utils import database_numpy_2_supervised_data\nfrom task5_utils import prepare_test_dataframe\n\nfrom sklearn.preprocessing import StandardScaler\n# KNN classifier\nfrom sklearn.neighbors import KNeighborsClassifier\n# Decision Tree classifier\nfrom sklearn import tree\nimport graphviz \n# ---------- ---------- ---------- ---------- ----------",
   "execution_count": 1,
   "outputs": []
  },
  {
   "cell_type": "markdown",
   "source": "## Task 0",
   "metadata": {
    "tags": [],
    "is_collapsed": false,
    "cell_id": "00003-44add2df-f923-4f64-bca8-a523401b6bfc",
    "deepnote_cell_type": "text-cell-h2"
   }
  },
  {
   "cell_type": "code",
   "metadata": {
    "deepnote_variable_name": "path_csv_directory",
    "deepnote_variable_value": "../Dati_2/csv/",
    "cell_id": "00003-654eb8b5-36b7-4241-ab02-b10556446202",
    "deepnote_to_be_reexecuted": false,
    "source_hash": "b7faf05a",
    "execution_start": 1638012900007,
    "execution_millis": 7,
    "deepnote_cell_type": "input-text"
   },
   "source": "path_csv_directory = '../Dati_2/csv/'",
   "execution_count": 2,
   "outputs": []
  },
  {
   "cell_type": "code",
   "metadata": {
    "deepnote_variable_name": "path_words_directory",
    "deepnote_variable_value": "../Dati_2/words/",
    "cell_id": "00006-abe6fad0-cc88-44ef-b239-4a3ab59617ca",
    "deepnote_to_be_reexecuted": false,
    "source_hash": "14bb7c6c",
    "execution_start": 1638012900021,
    "execution_millis": 0,
    "deepnote_cell_type": "input-text"
   },
   "source": "path_words_directory = '../Dati_2/words/'",
   "execution_count": 3,
   "outputs": []
  },
  {
   "cell_type": "code",
   "metadata": {
    "deepnote_variable_name": "path_vectors_directory",
    "deepnote_variable_value": "../Dati_2/vectors/",
    "cell_id": "00007-a6402a1b-7cac-4925-b172-2db72134598e",
    "deepnote_to_be_reexecuted": false,
    "source_hash": "3edc11a8",
    "execution_start": 1638012900068,
    "execution_millis": 23433,
    "deepnote_cell_type": "input-text"
   },
   "source": "path_vectors_directory = '../Dati_2/vectors/'",
   "execution_count": 4,
   "outputs": []
  },
  {
   "cell_type": "markdown",
   "source": "Inserire le coordinate che compongono il gesto separate da un trattino:",
   "metadata": {
    "tags": [],
    "is_collapsed": false,
    "cell_id": "00004-960f3675-011c-43a5-9c57-0dbc4c51a806",
    "deepnote_cell_type": "text-cell-p"
   }
  },
  {
   "cell_type": "code",
   "metadata": {
    "deepnote_variable_name": "input_data_components",
    "deepnote_variable_value": "X-Y-Z-W",
    "cell_id": "00005-9d5e77d9-d1b7-44e2-873a-c01b72b5b714",
    "deepnote_to_be_reexecuted": false,
    "source_hash": "a12cce7",
    "execution_start": 1638012900069,
    "execution_millis": 23388,
    "deepnote_cell_type": "input-text"
   },
   "source": "input_data_components = 'X-Y-Z-W'",
   "execution_count": 5,
   "outputs": []
  },
  {
   "cell_type": "markdown",
   "source": "Inserire un valore per R (2R è il numero di simboli dell'alfabeto)",
   "metadata": {
    "tags": [],
    "is_collapsed": false,
    "cell_id": "00008-70103ada-8b72-4f87-82a9-c7c2bff33365",
    "deepnote_cell_type": "text-cell-p"
   }
  },
  {
   "cell_type": "code",
   "metadata": {
    "deepnote_variable_name": "input_interval_resolution",
    "deepnote_variable_value": "1",
    "cell_id": "00009-598da1f3-1b47-46f7-9b8a-6c5ff8c1bb73",
    "deepnote_to_be_reexecuted": false,
    "source_hash": "c757808e",
    "execution_start": 1638012900070,
    "execution_millis": 23387,
    "deepnote_cell_type": "input-text"
   },
   "source": "input_interval_resolution = '1'",
   "execution_count": 6,
   "outputs": []
  },
  {
   "cell_type": "code",
   "metadata": {
    "tags": [],
    "cell_id": "00007-74fd2943-5f7b-4279-b9fb-2cd9f8bdf6f5",
    "deepnote_to_be_reexecuted": false,
    "source_hash": "9eab1643",
    "execution_start": 1638012900071,
    "execution_millis": 23387,
    "deepnote_cell_type": "code"
   },
   "source": "data_components = input_data_components.strip().split(\"-\")\ntask0_stats[\"r\"] = int(input_interval_resolution.strip())\n\n\n_RESET_DATA_ = True # se metto false non cancella le directory, se metto true devo rieseguire anche la parte 0 per rigenerare tutto\n# Rigenero i vari file path (per words e vectors)\nif _RESET_DATA_:\n    if os.path.exists(path_words_directory):\n        shutil.rmtree(path_words_directory)\n    os.makedirs(path_words_directory)\n\n    if os.path.exists(path_vectors_directory):\n        shutil.rmtree(path_vectors_directory)\n    os.makedirs(path_vectors_directory)",
   "execution_count": 7,
   "outputs": []
  },
  {
   "cell_type": "code",
   "metadata": {
    "tags": [],
    "cell_id": "00012-67a6b997-83aa-41fc-9d64-868e6cc7998a",
    "deepnote_to_be_reexecuted": false,
    "source_hash": "3e0bdde5",
    "execution_start": 1638012900117,
    "execution_millis": 18923,
    "deepnote_output_heights": [
     611
    ],
    "deepnote_cell_type": "code"
   },
   "source": "# Mi prendo il nome di tutti i files\ngesture_files = get_files_name(path_csv_directory + \"X/\", ext_filter=\"csv\")\nalfabeto = generate_alphabet(gesture_files, data_components, path_csv_directory, task0_stats)",
   "execution_count": 8,
   "outputs": []
  },
  {
   "cell_type": "code",
   "metadata": {
    "tags": [],
    "cell_id": "00012-9814337b-f285-4a25-85bf-fd97c925ad36",
    "deepnote_to_be_reexecuted": false,
    "source_hash": "d98118b8",
    "execution_start": 1638012919051,
    "execution_millis": 6,
    "deepnote_cell_type": "code"
   },
   "source": "print(alfabeto.simboli)\nprint(alfabeto.parole)\nprint(alfabeto.n_simboli)\nprint(alfabeto.n_parole)",
   "execution_count": 9,
   "outputs": [
    {
     "name": "stdout",
     "text": "{'0.5': (0, 1.0), '-0.5': (0.0, -1.0)}\n{'-0.5;-0.5', '0.5;0.5', '-0.5;0.5', '0.5;-0.5'}\n2\n4\n",
     "output_type": "stream"
    }
   ]
  },
  {
   "cell_type": "markdown",
   "source": "### Task 0A",
   "metadata": {
    "tags": [],
    "is_collapsed": false,
    "cell_id": "00010-695b39bf-40e0-4e20-ada3-0672059bd901",
    "deepnote_cell_type": "text-cell-h3"
   }
  },
  {
   "cell_type": "code",
   "metadata": {
    "tags": [],
    "cell_id": "00009-58e91d3b-2f71-4db4-99ad-d2690db42617",
    "deepnote_to_be_reexecuted": false,
    "source_hash": "b88b5500",
    "execution_start": 1638012919064,
    "execution_millis": 20445,
    "deepnote_cell_type": "code"
   },
   "source": "dizionario_gesti_parole = {}\nfor gesture_file_name in gesture_files:\n    gesture_words_dict = gesture_2_word(gesture_file_name, data_components, alfabeto, path_csv_directory)\n    # Salvo solo le info necessarie relative alle parole (come richiesto nel testo)\n    dizionario_parole_gesture = generate_dizionario_parole_from_gesturewordsdict(gesture_words_dict)\n    dizionario_gesti_parole[gesture_file_name.split(\".\")[0]] = dizionario_parole_gesture\n    # Salvo su file il dizionario completo\n    write_word_as_json(gesture_words_dict, gesture_file_name, path_words_directory)",
   "execution_count": 10,
   "outputs": []
  },
  {
   "cell_type": "code",
   "metadata": {
    "tags": [],
    "cell_id": "00016-118445cb-5625-46c7-b237-a146a9f79417",
    "deepnote_to_be_reexecuted": false,
    "source_hash": "2cdf5fbc",
    "execution_start": 1638012939534,
    "execution_millis": 3,
    "deepnote_output_heights": [
     611
    ],
    "deepnote_cell_type": "code"
   },
   "source": "dizionario_gesti_parole['1']",
   "execution_count": 11,
   "outputs": [
    {
     "output_type": "execute_result",
     "execution_count": 11,
     "data": {
      "text/plain": "{('X', '0', '-0.5;-0.5'): 2,\n ('X', '1', '-0.5;-0.5'): 2,\n ('X', '2', '-0.5;-0.5'): 2,\n ('X', '3', '-0.5;-0.5'): 2,\n ('X', '4', '0.5;0.5'): 2,\n ('X', '5', '-0.5;-0.5'): 2,\n ('X', '6', '-0.5;-0.5'): 2,\n ('X', '7', '-0.5;-0.5'): 2,\n ('X', '8', '0.5;0.5'): 2,\n ('X', '9', '-0.5;-0.5'): 2,\n ('X', '10', '-0.5;-0.5'): 2,\n ('X', '11', '-0.5;-0.5'): 2,\n ('X', '12', '0.5;0.5'): 2,\n ('X', '13', '0.5;0.5'): 2,\n ('X', '14', '-0.5;-0.5'): 2,\n ('X', '15', '-0.5;-0.5'): 2,\n ('X', '16', '0.5;0.5'): 2,\n ('X', '17', '-0.5;-0.5'): 2,\n ('X', '18', '-0.5;-0.5'): 2,\n ('X', '19', '-0.5;-0.5'): 2,\n ('Y', '0', '-0.5;-0.5'): 2,\n ('Y', '1', '-0.5;-0.5'): 2,\n ('Y', '2', '-0.5;-0.5'): 2,\n ('Y', '3', '-0.5;-0.5'): 2,\n ('Y', '4', '0.5;0.5'): 2,\n ('Y', '5', '-0.5;-0.5'): 2,\n ('Y', '6', '-0.5;-0.5'): 2,\n ('Y', '7', '-0.5;-0.5'): 2,\n ('Y', '8', '0.5;0.5'): 2,\n ('Y', '9', '-0.5;-0.5'): 2,\n ('Y', '10', '-0.5;-0.5'): 2,\n ('Y', '11', '-0.5;-0.5'): 2,\n ('Y', '12', '0.5;0.5'): 2,\n ('Y', '13', '0.5;0.5'): 2,\n ('Y', '14', '-0.5;-0.5'): 2,\n ('Y', '15', '-0.5;-0.5'): 2,\n ('Y', '16', '0.5;0.5'): 2,\n ('Y', '17', '-0.5;-0.5'): 2,\n ('Y', '18', '-0.5;-0.5'): 2,\n ('Y', '19', '-0.5;-0.5'): 2,\n ('Z', '0', '-0.5;-0.5'): 2,\n ('Z', '1', '-0.5;-0.5'): 2,\n ('Z', '2', '-0.5;-0.5'): 2,\n ('Z', '3', '-0.5;-0.5'): 2,\n ('Z', '4', '0.5;0.5'): 2,\n ('Z', '5', '-0.5;-0.5'): 2,\n ('Z', '6', '-0.5;-0.5'): 2,\n ('Z', '7', '-0.5;-0.5'): 2,\n ('Z', '8', '0.5;0.5'): 2,\n ('Z', '9', '-0.5;-0.5'): 2,\n ('Z', '10', '-0.5;-0.5'): 2,\n ('Z', '11', '-0.5;-0.5'): 2,\n ('Z', '12', '0.5;0.5'): 2,\n ('Z', '13', '0.5;0.5'): 2,\n ('Z', '14', '-0.5;-0.5'): 2,\n ('Z', '15', '-0.5;-0.5'): 2,\n ('Z', '16', '0.5;0.5'): 2,\n ('Z', '17', '-0.5;-0.5'): 2,\n ('Z', '18', '-0.5;-0.5'): 2,\n ('Z', '19', '-0.5;-0.5'): 2,\n ('W', '0', '-0.5;-0.5'): 2,\n ('W', '1', '-0.5;-0.5'): 2,\n ('W', '2', '-0.5;-0.5'): 2,\n ('W', '3', '-0.5;-0.5'): 2,\n ('W', '4', '0.5;0.5'): 2,\n ('W', '5', '-0.5;-0.5'): 2,\n ('W', '6', '-0.5;-0.5'): 2,\n ('W', '7', '-0.5;-0.5'): 2,\n ('W', '8', '0.5;0.5'): 2,\n ('W', '9', '-0.5;-0.5'): 2,\n ('W', '10', '-0.5;-0.5'): 2,\n ('W', '11', '-0.5;-0.5'): 2,\n ('W', '12', '0.5;0.5'): 2,\n ('W', '13', '0.5;0.5'): 2,\n ('W', '14', '-0.5;-0.5'): 2,\n ('W', '15', '-0.5;-0.5'): 2,\n ('W', '16', '0.5;0.5'): 2,\n ('W', '17', '-0.5;-0.5'): 2,\n ('W', '18', '-0.5;-0.5'): 2,\n ('W', '19', '-0.5;-0.5'): 2}"
     },
     "metadata": {}
    }
   ]
  },
  {
   "cell_type": "markdown",
   "source": "### Task 0B",
   "metadata": {
    "tags": [],
    "is_collapsed": false,
    "cell_id": "00012-11c64cd4-a6ab-4f60-83e6-e185a99dad47",
    "deepnote_cell_type": "text-cell-h3"
   }
  },
  {
   "cell_type": "code",
   "metadata": {
    "tags": [],
    "cell_id": "00020-43669b13-907e-46c3-af64-1cef661e2c30",
    "deepnote_to_be_reexecuted": false,
    "source_hash": "445b4c52",
    "execution_start": 1638012939541,
    "execution_millis": 231,
    "deepnote_cell_type": "code"
   },
   "source": "# Mi prendo la lista di tutti i file words\nwords_files = get_files_name(path_words_directory, ext_filter=\"wrd\")\n\n# CALCOLARE IL NUMERO DI SENSORI (anche se so che ce ne sono 20, in questo modo rimane più parametrico)\nn_sensori = 0\nfor (_, sensor, word), cont in dizionario_gesti_parole[next(iter(dizionario_gesti_parole))].items():\n    sensor = int(sensor)\n    if n_sensori > sensor: # ho già ciclato una volta su tutti i sensori, è inutile ricontrollare per le altre coordinate\n        break\n    if n_sensori < sensor:\n        n_sensori = sensor\nn_sensori += 1 # Correzione dato che i sensori partono da 0 e a me serve sapere quanti ce ne sono\n\nt0b_preprocessing_settings = {\n    'dizionario_gesti_parole': dizionario_gesti_parole,\n    'data_components': data_components,\n    'words_files': words_files,\n    'n_sensori': n_sensori,\n    'alfabeto': alfabeto,\n    'path_words_directory': path_words_directory,\n    'path_vectors_directory': path_vectors_directory # mettere a None o a caso se si mette save=False nel metodo\n}\n# Calcolo TF, IDF, TF-IDF di ogni gesto\ngestures_metrics = gesture_words_preprocessing(t0b_preprocessing_settings)",
   "execution_count": 12,
   "outputs": []
  },
  {
   "cell_type": "code",
   "metadata": {
    "tags": [],
    "cell_id": "00019-874478a8-a79c-480f-8478-63e1bc4e91b8",
    "deepnote_to_be_reexecuted": false,
    "source_hash": "551c845f",
    "execution_start": 1638012939776,
    "execution_millis": 206,
    "deepnote_cell_type": "code"
   },
   "source": "show_gesture_metrics(gestures_metrics[0])",
   "execution_count": 13,
   "outputs": [
    {
     "name": "stdout",
     "text": "File gesto: ../Dati_2/words/9.wrd\nNumero sensori: 20\nTF: (2}\nword: -0.5;-0.5 tf: {'0': 1.0, '1': 1.0, '2': 1.0, '3': 1.0, '4': 0, '5': 0.6667, '6': 1.0, '7': 1.0, '8': 0, '9': 1.0, '10': 1.0, '11': 1.0, '12': 0, '13': 0, '14': 1.0, '15': 1.0, '16': 0, '17': 1.0, '18': 1.0, '19': 1.0}\nword: 0.5;0.5 tf: {'0': 0, '1': 0, '2': 0, '3': 0, '4': 1.0, '5': 0.3333, '6': 0, '7': 0, '8': 1.0, '9': 0, '10': 0, '11': 0, '12': 1.0, '13': 1.0, '14': 0, '15': 0, '16': 1.0, '17': 0, '18': 0, '19': 0}\nTF-IDF: (2}\nword: -0.5;-0.5 tf-idf: {'0': 0.0163, '1': 0.0163, '2': 0.0163, '3': 0.0163, '4': 0, '5': 0.0108, '6': 0.0163, '7': 0.0163, '8': 0, '9': 0.0163, '10': 0.0163, '11': 0.0163, '12': 0, '13': 0, '14': 0.0163, '15': 0.0163, '16': 0, '17': 0.0163, '18': 0.0163, '19': 0.0163}\nword: 0.5;0.5 tf-idf: {'0': 0, '1': 0, '2': 0, '3': 0, '4': 0.0163, '5': 0.0054, '6': 0, '7': 0, '8': 0.0163, '9': 0, '10': 0, '11': 0, '12': 0.0163, '13': 0.0163, '14': 0, '15': 0, '16': 0.0163, '17': 0, '18': 0, '19': 0}\n",
     "output_type": "stream"
    }
   ]
  },
  {
   "cell_type": "markdown",
   "source": "## Task 1",
   "metadata": {
    "tags": [],
    "is_collapsed": false,
    "cell_id": "00021-d42fafd2-d117-4556-bc4f-eac7aca3e403",
    "deepnote_cell_type": "text-cell-h2"
   }
  },
  {
   "cell_type": "code",
   "metadata": {
    "deepnote_variable_name": "input_task1_gesti_directory",
    "deepnote_variable_value": "../Dati_2/csv/",
    "cell_id": "00022-8d12824b-1681-44bc-a0f3-975f336eeacb",
    "deepnote_to_be_reexecuted": false,
    "source_hash": "7e508682",
    "execution_start": 1638012939796,
    "execution_millis": 4,
    "deepnote_cell_type": "input-text"
   },
   "source": "input_task1_gesti_directory = '../Dati_2/csv/'",
   "execution_count": 14,
   "outputs": []
  },
  {
   "cell_type": "code",
   "metadata": {
    "deepnote_variable_name": "input_task1_data_components",
    "deepnote_variable_value": "X-Y-W-Z",
    "cell_id": "00023-f2b03f2f-8666-4c59-a6c5-e88ff27e8d58",
    "deepnote_to_be_reexecuted": false,
    "source_hash": "e7fe2f0e",
    "execution_start": 1638012939804,
    "execution_millis": 3,
    "deepnote_cell_type": "input-text"
   },
   "source": "input_task1_data_components = 'X-Y-W-Z'",
   "execution_count": 15,
   "outputs": []
  },
  {
   "cell_type": "code",
   "metadata": {
    "deepnote_variable_name": "input_task1_modello_vettoriale",
    "deepnote_variable_value": "Modello TF-IDF",
    "deepnote_variable_options": [
     "Modello TF",
     "Modello TF-IDF"
    ],
    "deepnote_variable_custom_options": [
     "Modello TF",
     "Modello TF-IDF"
    ],
    "deepnote_variable_selected_variable": "",
    "deepnote_variable_select_type": "from-options",
    "cell_id": "00025-8b54665a-704e-4a66-9889-a1db052e9230",
    "deepnote_to_be_reexecuted": false,
    "source_hash": "a561fd25",
    "execution_start": 1638012939853,
    "execution_millis": 68133958,
    "deepnote_cell_type": "input-select"
   },
   "source": "input_task1_modello_vettoriale = 'Modello TF-IDF'",
   "execution_count": 16,
   "outputs": []
  },
  {
   "cell_type": "code",
   "metadata": {
    "tags": [],
    "cell_id": "00026-3581d5e8-c72a-4bc9-a259-ad0554d28030",
    "deepnote_to_be_reexecuted": false,
    "source_hash": "47c18b3e",
    "execution_start": 1638012939854,
    "execution_millis": 134,
    "deepnote_output_heights": [
     21.199996948242188
    ],
    "deepnote_cell_type": "code"
   },
   "source": "t1_data_components = input_task1_data_components.strip().split(\"-\")\nt1_gesture_files = get_files_name(input_task1_gesti_directory + t1_data_components[0] + \"/\", ext_filter=\"csv\")\n# Dovremmo eseguire a tutti questi i 2 metodi gesture_2_word e poi word_2_metrics\n# Ma ipotizziamo che siano i dati già calcolati ed evitiamo\nt1_gesture_files = [g_file.split(\".\")[0] for g_file in t1_gesture_files] # mi prendo giusto il nome dei vari files\n\nt1_metrics_numpy = []\nfor gesture_file in t1_gesture_files:\n    #path_vectors_directory = ../Dati_2/vectors/\n    # Leggo le metrice ridotte\n    gesture_metrics_reduced = read_gesture_measures_reduced(gesture_file, path_vectors_directory, input_task1_modello_vettoriale)\n    # Trasformo la metrica ridotta in un file numpy\n    metrics_numpy = metrics_reduced_2_numpy(gesture_metrics_reduced, alfabeto)\n    t1_metrics_numpy.insert(0, (gesture_file, metrics_numpy)) # Salvo, numero gesto, vettore numpy\n\nlen(t1_metrics_numpy) # Dovrebbe stampare 60 se è tutto corretto (1 file x gesto)",
   "execution_count": 17,
   "outputs": [
    {
     "output_type": "execute_result",
     "execution_count": 17,
     "data": {
      "text/plain": "60"
     },
     "metadata": {}
    }
   ]
  },
  {
   "cell_type": "code",
   "metadata": {
    "deepnote_variable_name": "input_task1_option",
    "deepnote_variable_value": "PCA",
    "deepnote_variable_options": [
     "PCA",
     "SVD",
     "LDA"
    ],
    "deepnote_variable_custom_options": [
     "PCA",
     "SVD",
     "LDA"
    ],
    "deepnote_variable_selected_variable": "",
    "deepnote_variable_select_type": "from-options",
    "cell_id": "00028-09fc5a78-a0f0-44a1-b5f4-17b8196b3c27",
    "deepnote_to_be_reexecuted": false,
    "source_hash": "8b62f10f",
    "execution_start": 1638012939902,
    "execution_millis": 0,
    "deepnote_cell_type": "input-select"
   },
   "source": "input_task1_option = 'PCA'",
   "execution_count": 18,
   "outputs": []
  },
  {
   "cell_type": "code",
   "metadata": {
    "tags": [],
    "cell_id": "00032-45eae3d4-37f2-4c04-9bbb-01c136497b1b",
    "deepnote_to_be_reexecuted": false,
    "source_hash": "7210f98d",
    "execution_start": 1638012939958,
    "execution_millis": 272,
    "deepnote_output_heights": [
     null,
     null,
     78.80000305175781
    ],
    "deepnote_cell_type": "code"
   },
   "source": "t1_metrics_alg = []\nalg_variances = []\nshow_intermediate_data = True\nfor metrics_numpy in t1_metrics_numpy:\n    metrics_pandas = metrics_numpy_2_pandas(metrics_numpy[1], alfabeto)\n    alg_result = None\n    alg_variance = None\n    if input_task1_option == \"PCA\":\n        alg_result, alg_variance = metrics_numpy_2_PCA(metrics_pandas, metrics_numpy[0], show_intermediate_data=show_intermediate_data)\n    elif input_task1_option == \"SVD\":\n        alg_result, alg_variance = metrics_numpy_2_SVD(metrics_pandas, metrics_numpy[0], show_intermediate_data=show_intermediate_data)\n    else:\n        alg_result, alg_variance = metrics_numpy_2_LDA(metrics_pandas, metrics_numpy[0], show_intermediate_data=show_intermediate_data)\n\n    alg_variances.insert(0, (alg_result['document'], alg_variance))\n    t1_metrics_alg.insert(0, alg_result)\n    if show_intermediate_data:\n        show_intermediate_data = False",
   "execution_count": 19,
   "outputs": [
    {
     "data": {
      "application/vnd.deepnote.dataframe.v2+json": {
       "row_count": 4,
       "column_count": 4,
       "columns": [
        {
         "name": "PC1",
         "dtype": "float64",
         "stats": {
          "unique_count": 3,
          "nan_count": 0,
          "min": "0.0",
          "max": "0.7071465493460228",
          "histogram": [
           {
            "bin_start": 0,
            "bin_end": 0.07071465493460229,
            "count": 2
           },
           {
            "bin_start": 0.07071465493460229,
            "bin_end": 0.14142930986920457,
            "count": 0
           },
           {
            "bin_start": 0.14142930986920457,
            "bin_end": 0.21214396480380687,
            "count": 0
           },
           {
            "bin_start": 0.21214396480380687,
            "bin_end": 0.28285861973840914,
            "count": 0
           },
           {
            "bin_start": 0.28285861973840914,
            "bin_end": 0.3535732746730114,
            "count": 0
           },
           {
            "bin_start": 0.3535732746730114,
            "bin_end": 0.42428792960761375,
            "count": 0
           },
           {
            "bin_start": 0.42428792960761375,
            "bin_end": 0.495002584542216,
            "count": 0
           },
           {
            "bin_start": 0.495002584542216,
            "bin_end": 0.5657172394768183,
            "count": 0
           },
           {
            "bin_start": 0.5657172394768183,
            "bin_end": 0.6364318944114206,
            "count": 0
           },
           {
            "bin_start": 0.6364318944114206,
            "bin_end": 0.7071465493460228,
            "count": 2
           }
          ]
         }
        },
        {
         "name": "PC2",
         "dtype": "float64",
         "stats": {
          "unique_count": 3,
          "nan_count": 0,
          "min": "0.0",
          "max": "0.7071465493460228",
          "histogram": [
           {
            "bin_start": 0,
            "bin_end": 0.07071465493460229,
            "count": 2
           },
           {
            "bin_start": 0.07071465493460229,
            "bin_end": 0.14142930986920457,
            "count": 0
           },
           {
            "bin_start": 0.14142930986920457,
            "bin_end": 0.21214396480380687,
            "count": 0
           },
           {
            "bin_start": 0.21214396480380687,
            "bin_end": 0.28285861973840914,
            "count": 0
           },
           {
            "bin_start": 0.28285861973840914,
            "bin_end": 0.3535732746730114,
            "count": 0
           },
           {
            "bin_start": 0.3535732746730114,
            "bin_end": 0.42428792960761375,
            "count": 0
           },
           {
            "bin_start": 0.42428792960761375,
            "bin_end": 0.495002584542216,
            "count": 0
           },
           {
            "bin_start": 0.495002584542216,
            "bin_end": 0.5657172394768183,
            "count": 0
           },
           {
            "bin_start": 0.5657172394768183,
            "bin_end": 0.6364318944114206,
            "count": 0
           },
           {
            "bin_start": 0.6364318944114206,
            "bin_end": 0.7071465493460228,
            "count": 2
           }
          ]
         }
        },
        {
         "name": "PC3",
         "dtype": "float64",
         "stats": {
          "unique_count": 2,
          "nan_count": 0,
          "min": "0.0",
          "max": "1.0",
          "histogram": [
           {
            "bin_start": 0,
            "bin_end": 0.1,
            "count": 3
           },
           {
            "bin_start": 0.1,
            "bin_end": 0.2,
            "count": 0
           },
           {
            "bin_start": 0.2,
            "bin_end": 0.30000000000000004,
            "count": 0
           },
           {
            "bin_start": 0.30000000000000004,
            "bin_end": 0.4,
            "count": 0
           },
           {
            "bin_start": 0.4,
            "bin_end": 0.5,
            "count": 0
           },
           {
            "bin_start": 0.5,
            "bin_end": 0.6000000000000001,
            "count": 0
           },
           {
            "bin_start": 0.6000000000000001,
            "bin_end": 0.7000000000000001,
            "count": 0
           },
           {
            "bin_start": 0.7000000000000001,
            "bin_end": 0.8,
            "count": 0
           },
           {
            "bin_start": 0.8,
            "bin_end": 0.9,
            "count": 0
           },
           {
            "bin_start": 0.9,
            "bin_end": 1,
            "count": 1
           }
          ]
         }
        },
        {
         "name": "PC4",
         "dtype": "float64",
         "stats": {
          "unique_count": 2,
          "nan_count": 0,
          "min": "0.0",
          "max": "1.0",
          "histogram": [
           {
            "bin_start": 0,
            "bin_end": 0.1,
            "count": 3
           },
           {
            "bin_start": 0.1,
            "bin_end": 0.2,
            "count": 0
           },
           {
            "bin_start": 0.2,
            "bin_end": 0.30000000000000004,
            "count": 0
           },
           {
            "bin_start": 0.30000000000000004,
            "bin_end": 0.4,
            "count": 0
           },
           {
            "bin_start": 0.4,
            "bin_end": 0.5,
            "count": 0
           },
           {
            "bin_start": 0.5,
            "bin_end": 0.6000000000000001,
            "count": 0
           },
           {
            "bin_start": 0.6000000000000001,
            "bin_end": 0.7000000000000001,
            "count": 0
           },
           {
            "bin_start": 0.7000000000000001,
            "bin_end": 0.8,
            "count": 0
           },
           {
            "bin_start": 0.8,
            "bin_end": 0.9,
            "count": 0
           },
           {
            "bin_start": 0.9,
            "bin_end": 1,
            "count": 1
           }
          ]
         }
        },
        {
         "name": "_deepnote_index_column",
         "dtype": "object"
        }
       ],
       "rows_top": [
        {
         "PC1": 0.7071465493460228,
         "PC2": 0.7070670107903584,
         "PC3": 0,
         "PC4": 0,
         "_deepnote_index_column": "-0.5;-0.5"
        },
        {
         "PC1": 0.7070670107903584,
         "PC2": 0.7071465493460228,
         "PC3": 0,
         "PC4": 0,
         "_deepnote_index_column": "0.5;0.5"
        },
        {
         "PC1": 0,
         "PC2": 0,
         "PC3": 0,
         "PC4": 1,
         "_deepnote_index_column": "-0.5;0.5"
        },
        {
         "PC1": 0,
         "PC2": 0,
         "PC3": 1,
         "PC4": 0,
         "_deepnote_index_column": "0.5;-0.5"
        }
       ],
       "rows_bottom": null
      },
      "text/plain": "                PC1       PC2  PC3  PC4\n-0.5;-0.5  0.707147  0.707067  0.0  0.0\n0.5;0.5    0.707067  0.707147  0.0  0.0\n-0.5;0.5   0.000000  0.000000  0.0  1.0\n0.5;-0.5   0.000000  0.000000  1.0  0.0",
      "text/html": "<div>\n<style scoped>\n    .dataframe tbody tr th:only-of-type {\n        vertical-align: middle;\n    }\n\n    .dataframe tbody tr th {\n        vertical-align: top;\n    }\n\n    .dataframe thead th {\n        text-align: right;\n    }\n</style>\n<table border=\"1\" class=\"dataframe\">\n  <thead>\n    <tr style=\"text-align: right;\">\n      <th></th>\n      <th>PC1</th>\n      <th>PC2</th>\n      <th>PC3</th>\n      <th>PC4</th>\n    </tr>\n  </thead>\n  <tbody>\n    <tr>\n      <th>-0.5;-0.5</th>\n      <td>0.707147</td>\n      <td>0.707067</td>\n      <td>0.0</td>\n      <td>0.0</td>\n    </tr>\n    <tr>\n      <th>0.5;0.5</th>\n      <td>0.707067</td>\n      <td>0.707147</td>\n      <td>0.0</td>\n      <td>0.0</td>\n    </tr>\n    <tr>\n      <th>-0.5;0.5</th>\n      <td>0.000000</td>\n      <td>0.000000</td>\n      <td>0.0</td>\n      <td>1.0</td>\n    </tr>\n    <tr>\n      <th>0.5;-0.5</th>\n      <td>0.000000</td>\n      <td>0.000000</td>\n      <td>1.0</td>\n      <td>0.0</td>\n    </tr>\n  </tbody>\n</table>\n</div>"
     },
     "metadata": {},
     "output_type": "display_data"
    },
    {
     "name": "stdout",
     "text": "\nPC1 top 10 features are: \n\n",
     "output_type": "stream"
    },
    {
     "data": {
      "text/plain": "['-0.5;-0.5:     0.707147',\n '0.5;0.5:     0.707067',\n '-0.5;0.5:     0.0',\n '0.5;-0.5:     0.0']"
     },
     "metadata": {},
     "output_type": "display_data"
    }
   ]
  },
  {
   "cell_type": "code",
   "metadata": {
    "tags": [],
    "cell_id": "00030-52877fd7-b1ec-4027-80af-65ced51be790",
    "deepnote_to_be_reexecuted": false,
    "source_hash": "dff9aea6",
    "execution_start": 1638012940255,
    "execution_millis": 2784,
    "deepnote_output_heights": [
     527
    ],
    "deepnote_cell_type": "code"
   },
   "source": "fig = px.scatter(prepare_alg_variances_to_plot(alg_variances), x=\"component\", y=\"variance\", color=\"document\", trendline=\"rolling\", trendline_options=dict(function=\"median\", window=5), trendline_scope='overall',\n            labels={\"component\": \"# Components\", \"variance\": \"Explained Variance\", \"document\": \"Gesture\"}, \n            title=\"Explained Variance with increasing number of latent features\")\nfig.update_traces(showlegend=True)\nfig.show()",
   "execution_count": 20,
   "outputs": [
    {
     "data": {
      "text/html": "<html>\n<head><meta charset=\"utf-8\" /></head>\n<body>\n    <div>            <script src=\"https://cdnjs.cloudflare.com/ajax/libs/mathjax/2.7.5/MathJax.js?config=TeX-AMS-MML_SVG\"></script><script type=\"text/javascript\">if (window.MathJax) {MathJax.Hub.Config({SVG: {font: \"STIX-Web\"}});}</script>                <script type=\"text/javascript\">window.PlotlyConfig = {MathJaxConfig: 'local'};</script>\n        <script src=\"https://cdn.plot.ly/plotly-2.4.2.min.js\"></script>                <div id=\"03279a24-924a-4efd-916a-83f323e9f615\" class=\"plotly-graph-div\" style=\"height:525px; width:100%;\"></div>            <script type=\"text/javascript\">                                    window.PLOTLYENV=window.PLOTLYENV || {};                                    if (document.getElementById(\"03279a24-924a-4efd-916a-83f323e9f615\")) {                    Plotly.newPlot(                        \"03279a24-924a-4efd-916a-83f323e9f615\",                        [{\"hovertemplate\":\"Gesture=1<br># Components=%{x}<br>Explained Variance=%{y}<extra></extra>\",\"legendgroup\":\"1\",\"marker\":{\"color\":\"#636efa\",\"symbol\":\"circle\"},\"mode\":\"markers\",\"name\":\"1\",\"orientation\":\"v\",\"showlegend\":true,\"type\":\"scatter\",\"x\":[1,2,3,4],\"xaxis\":\"x\",\"y\":[1.0,1.0,1.0,1.0],\"yaxis\":\"y\"},{\"hovertemplate\":\"Gesture=10<br># Components=%{x}<br>Explained Variance=%{y}<extra></extra>\",\"legendgroup\":\"10\",\"marker\":{\"color\":\"#EF553B\",\"symbol\":\"circle\"},\"mode\":\"markers\",\"name\":\"10\",\"orientation\":\"v\",\"showlegend\":true,\"type\":\"scatter\",\"x\":[1,2,3,4],\"xaxis\":\"x\",\"y\":[0.9943420392815246,0.9999999859849942,0.9999999999999998,0.9999999999999998],\"yaxis\":\"y\"},{\"hovertemplate\":\"Gesture=11<br># Components=%{x}<br>Explained Variance=%{y}<extra></extra>\",\"legendgroup\":\"11\",\"marker\":{\"color\":\"#00cc96\",\"symbol\":\"circle\"},\"mode\":\"markers\",\"name\":\"11\",\"orientation\":\"v\",\"showlegend\":true,\"type\":\"scatter\",\"x\":[1,2,3,4],\"xaxis\":\"x\",\"y\":[0.9978981874702821,0.9999999873743087,1.0,1.0],\"yaxis\":\"y\"},{\"hovertemplate\":\"Gesture=12<br># Components=%{x}<br>Explained Variance=%{y}<extra></extra>\",\"legendgroup\":\"12\",\"marker\":{\"color\":\"#ab63fa\",\"symbol\":\"circle\"},\"mode\":\"markers\",\"name\":\"12\",\"orientation\":\"v\",\"showlegend\":true,\"type\":\"scatter\",\"x\":[1,2,3,4],\"xaxis\":\"x\",\"y\":[0.9999868035588492,0.9999999999999999,0.9999999999999999,0.9999999999999999],\"yaxis\":\"y\"},{\"hovertemplate\":\"Gesture=13<br># Components=%{x}<br>Explained Variance=%{y}<extra></extra>\",\"legendgroup\":\"13\",\"marker\":{\"color\":\"#FFA15A\",\"symbol\":\"circle\"},\"mode\":\"markers\",\"name\":\"13\",\"orientation\":\"v\",\"showlegend\":true,\"type\":\"scatter\",\"x\":[1,2,3,4],\"xaxis\":\"x\",\"y\":[1.0,1.0,1.0,1.0],\"yaxis\":\"y\"},{\"hovertemplate\":\"Gesture=14<br># Components=%{x}<br>Explained Variance=%{y}<extra></extra>\",\"legendgroup\":\"14\",\"marker\":{\"color\":\"#19d3f3\",\"symbol\":\"circle\"},\"mode\":\"markers\",\"name\":\"14\",\"orientation\":\"v\",\"showlegend\":true,\"type\":\"scatter\",\"x\":[1,2,3,4],\"xaxis\":\"x\",\"y\":[0.9999955324165587,1.0,1.0,1.0],\"yaxis\":\"y\"},{\"hovertemplate\":\"Gesture=15<br># Components=%{x}<br>Explained Variance=%{y}<extra></extra>\",\"legendgroup\":\"15\",\"marker\":{\"color\":\"#FF6692\",\"symbol\":\"circle\"},\"mode\":\"markers\",\"name\":\"15\",\"orientation\":\"v\",\"showlegend\":true,\"type\":\"scatter\",\"x\":[1,2,3,4],\"xaxis\":\"x\",\"y\":[0.99780035990938,0.9999999910655722,1.0,1.0],\"yaxis\":\"y\"},{\"hovertemplate\":\"Gesture=16<br># Components=%{x}<br>Explained Variance=%{y}<extra></extra>\",\"legendgroup\":\"16\",\"marker\":{\"color\":\"#B6E880\",\"symbol\":\"circle\"},\"mode\":\"markers\",\"name\":\"16\",\"orientation\":\"v\",\"showlegend\":true,\"type\":\"scatter\",\"x\":[1,2,3,4],\"xaxis\":\"x\",\"y\":[0.9810903216931274,1.0,1.0,1.0],\"yaxis\":\"y\"},{\"hovertemplate\":\"Gesture=17<br># Components=%{x}<br>Explained Variance=%{y}<extra></extra>\",\"legendgroup\":\"17\",\"marker\":{\"color\":\"#FF97FF\",\"symbol\":\"circle\"},\"mode\":\"markers\",\"name\":\"17\",\"orientation\":\"v\",\"showlegend\":true,\"type\":\"scatter\",\"x\":[1,2,3,4],\"xaxis\":\"x\",\"y\":[1.0,1.0,1.0,1.0],\"yaxis\":\"y\"},{\"hovertemplate\":\"Gesture=18<br># Components=%{x}<br>Explained Variance=%{y}<extra></extra>\",\"legendgroup\":\"18\",\"marker\":{\"color\":\"#FECB52\",\"symbol\":\"circle\"},\"mode\":\"markers\",\"name\":\"18\",\"orientation\":\"v\",\"showlegend\":true,\"type\":\"scatter\",\"x\":[1,2,3,4],\"xaxis\":\"x\",\"y\":[1.0,1.0,1.0,1.0],\"yaxis\":\"y\"},{\"hovertemplate\":\"Gesture=19<br># Components=%{x}<br>Explained Variance=%{y}<extra></extra>\",\"legendgroup\":\"19\",\"marker\":{\"color\":\"#636efa\",\"symbol\":\"circle\"},\"mode\":\"markers\",\"name\":\"19\",\"orientation\":\"v\",\"showlegend\":true,\"type\":\"scatter\",\"x\":[1,2,3,4],\"xaxis\":\"x\",\"y\":[1.0,1.0,1.0,1.0],\"yaxis\":\"y\"},{\"hovertemplate\":\"Gesture=2<br># Components=%{x}<br>Explained Variance=%{y}<extra></extra>\",\"legendgroup\":\"2\",\"marker\":{\"color\":\"#EF553B\",\"symbol\":\"circle\"},\"mode\":\"markers\",\"name\":\"2\",\"orientation\":\"v\",\"showlegend\":true,\"type\":\"scatter\",\"x\":[1,2,3,4],\"xaxis\":\"x\",\"y\":[0.9999976424039889,1.0,1.0,1.0],\"yaxis\":\"y\"},{\"hovertemplate\":\"Gesture=20<br># Components=%{x}<br>Explained Variance=%{y}<extra></extra>\",\"legendgroup\":\"20\",\"marker\":{\"color\":\"#00cc96\",\"symbol\":\"circle\"},\"mode\":\"markers\",\"name\":\"20\",\"orientation\":\"v\",\"showlegend\":true,\"type\":\"scatter\",\"x\":[1,2,3,4],\"xaxis\":\"x\",\"y\":[0.7147584539324298,0.9984298110950309,0.9999999966231504,0.9999999999999999],\"yaxis\":\"y\"},{\"hovertemplate\":\"Gesture=21<br># Components=%{x}<br>Explained Variance=%{y}<extra></extra>\",\"legendgroup\":\"21\",\"marker\":{\"color\":\"#ab63fa\",\"symbol\":\"circle\"},\"mode\":\"markers\",\"name\":\"21\",\"orientation\":\"v\",\"showlegend\":true,\"type\":\"scatter\",\"x\":[1,2,3,4],\"xaxis\":\"x\",\"y\":[1.0,1.0,1.0,1.0],\"yaxis\":\"y\"},{\"hovertemplate\":\"Gesture=22<br># Components=%{x}<br>Explained Variance=%{y}<extra></extra>\",\"legendgroup\":\"22\",\"marker\":{\"color\":\"#FFA15A\",\"symbol\":\"circle\"},\"mode\":\"markers\",\"name\":\"22\",\"orientation\":\"v\",\"showlegend\":true,\"type\":\"scatter\",\"x\":[1,2,3,4],\"xaxis\":\"x\",\"y\":[1.0,1.0,1.0,1.0],\"yaxis\":\"y\"},{\"hovertemplate\":\"Gesture=23<br># Components=%{x}<br>Explained Variance=%{y}<extra></extra>\",\"legendgroup\":\"23\",\"marker\":{\"color\":\"#19d3f3\",\"symbol\":\"circle\"},\"mode\":\"markers\",\"name\":\"23\",\"orientation\":\"v\",\"showlegend\":true,\"type\":\"scatter\",\"x\":[1,2,3,4],\"xaxis\":\"x\",\"y\":[0.9974399390058255,0.9999999890073108,1.0000000000000002,1.0000000000000002],\"yaxis\":\"y\"},{\"hovertemplate\":\"Gesture=24<br># Components=%{x}<br>Explained Variance=%{y}<extra></extra>\",\"legendgroup\":\"24\",\"marker\":{\"color\":\"#FF6692\",\"symbol\":\"circle\"},\"mode\":\"markers\",\"name\":\"24\",\"orientation\":\"v\",\"showlegend\":true,\"type\":\"scatter\",\"x\":[1,2,3,4],\"xaxis\":\"x\",\"y\":[0.9999957388370514,1.0,1.0,1.0],\"yaxis\":\"y\"},{\"hovertemplate\":\"Gesture=25<br># Components=%{x}<br>Explained Variance=%{y}<extra></extra>\",\"legendgroup\":\"25\",\"marker\":{\"color\":\"#B6E880\",\"symbol\":\"circle\"},\"mode\":\"markers\",\"name\":\"25\",\"orientation\":\"v\",\"showlegend\":true,\"type\":\"scatter\",\"x\":[1,2,3,4],\"xaxis\":\"x\",\"y\":[1.0,1.0,1.0,1.0],\"yaxis\":\"y\"},{\"hovertemplate\":\"Gesture=26<br># Components=%{x}<br>Explained Variance=%{y}<extra></extra>\",\"legendgroup\":\"26\",\"marker\":{\"color\":\"#FF97FF\",\"symbol\":\"circle\"},\"mode\":\"markers\",\"name\":\"26\",\"orientation\":\"v\",\"showlegend\":true,\"type\":\"scatter\",\"x\":[1,2,3,4],\"xaxis\":\"x\",\"y\":[1.0,1.0,1.0,1.0],\"yaxis\":\"y\"},{\"hovertemplate\":\"Gesture=27<br># Components=%{x}<br>Explained Variance=%{y}<extra></extra>\",\"legendgroup\":\"27\",\"marker\":{\"color\":\"#FECB52\",\"symbol\":\"circle\"},\"mode\":\"markers\",\"name\":\"27\",\"orientation\":\"v\",\"showlegend\":true,\"type\":\"scatter\",\"x\":[1,2,3,4],\"xaxis\":\"x\",\"y\":[1.0,1.0,1.0,1.0],\"yaxis\":\"y\"},{\"hovertemplate\":\"Gesture=28<br># Components=%{x}<br>Explained Variance=%{y}<extra></extra>\",\"legendgroup\":\"28\",\"marker\":{\"color\":\"#636efa\",\"symbol\":\"circle\"},\"mode\":\"markers\",\"name\":\"28\",\"orientation\":\"v\",\"showlegend\":true,\"type\":\"scatter\",\"x\":[1,2,3,4],\"xaxis\":\"x\",\"y\":[1.0,1.0,1.0,1.0],\"yaxis\":\"y\"},{\"hovertemplate\":\"Gesture=29<br># Components=%{x}<br>Explained Variance=%{y}<extra></extra>\",\"legendgroup\":\"29\",\"marker\":{\"color\":\"#EF553B\",\"symbol\":\"circle\"},\"mode\":\"markers\",\"name\":\"29\",\"orientation\":\"v\",\"showlegend\":true,\"type\":\"scatter\",\"x\":[1,2,3,4],\"xaxis\":\"x\",\"y\":[0.9989759353101165,0.9999999956025881,1.0,1.0],\"yaxis\":\"y\"},{\"hovertemplate\":\"Gesture=3<br># Components=%{x}<br>Explained Variance=%{y}<extra></extra>\",\"legendgroup\":\"3\",\"marker\":{\"color\":\"#00cc96\",\"symbol\":\"circle\"},\"mode\":\"markers\",\"name\":\"3\",\"orientation\":\"v\",\"showlegend\":true,\"type\":\"scatter\",\"x\":[1,2,3,4],\"xaxis\":\"x\",\"y\":[0.9999977643806008,1.0,1.0,1.0],\"yaxis\":\"y\"},{\"hovertemplate\":\"Gesture=30<br># Components=%{x}<br>Explained Variance=%{y}<extra></extra>\",\"legendgroup\":\"30\",\"marker\":{\"color\":\"#ab63fa\",\"symbol\":\"circle\"},\"mode\":\"markers\",\"name\":\"30\",\"orientation\":\"v\",\"showlegend\":true,\"type\":\"scatter\",\"x\":[1,2,3,4],\"xaxis\":\"x\",\"y\":[0.9966360256325667,1.0,1.0,1.0],\"yaxis\":\"y\"},{\"hovertemplate\":\"Gesture=31<br># Components=%{x}<br>Explained Variance=%{y}<extra></extra>\",\"legendgroup\":\"31\",\"marker\":{\"color\":\"#FFA15A\",\"symbol\":\"circle\"},\"mode\":\"markers\",\"name\":\"31\",\"orientation\":\"v\",\"showlegend\":true,\"type\":\"scatter\",\"x\":[1,2,3,4],\"xaxis\":\"x\",\"y\":[0.9999957388370514,1.0,1.0,1.0],\"yaxis\":\"y\"},{\"hovertemplate\":\"Gesture=32<br># Components=%{x}<br>Explained Variance=%{y}<extra></extra>\",\"legendgroup\":\"32\",\"marker\":{\"color\":\"#19d3f3\",\"symbol\":\"circle\"},\"mode\":\"markers\",\"name\":\"32\",\"orientation\":\"v\",\"showlegend\":true,\"type\":\"scatter\",\"x\":[1,2,3,4],\"xaxis\":\"x\",\"y\":[1.0,1.0,1.0,1.0],\"yaxis\":\"y\"},{\"hovertemplate\":\"Gesture=33<br># Components=%{x}<br>Explained Variance=%{y}<extra></extra>\",\"legendgroup\":\"33\",\"marker\":{\"color\":\"#FF6692\",\"symbol\":\"circle\"},\"mode\":\"markers\",\"name\":\"33\",\"orientation\":\"v\",\"showlegend\":true,\"type\":\"scatter\",\"x\":[1,2,3,4],\"xaxis\":\"x\",\"y\":[1.0,1.0,1.0,1.0],\"yaxis\":\"y\"},{\"hovertemplate\":\"Gesture=34<br># Components=%{x}<br>Explained Variance=%{y}<extra></extra>\",\"legendgroup\":\"34\",\"marker\":{\"color\":\"#B6E880\",\"symbol\":\"circle\"},\"mode\":\"markers\",\"name\":\"34\",\"orientation\":\"v\",\"showlegend\":true,\"type\":\"scatter\",\"x\":[1,2,3,4],\"xaxis\":\"x\",\"y\":[1.0,1.0,1.0,1.0],\"yaxis\":\"y\"},{\"hovertemplate\":\"Gesture=35<br># Components=%{x}<br>Explained Variance=%{y}<extra></extra>\",\"legendgroup\":\"35\",\"marker\":{\"color\":\"#FF97FF\",\"symbol\":\"circle\"},\"mode\":\"markers\",\"name\":\"35\",\"orientation\":\"v\",\"showlegend\":true,\"type\":\"scatter\",\"x\":[1,2,3,4],\"xaxis\":\"x\",\"y\":[1.0,1.0,1.0,1.0],\"yaxis\":\"y\"},{\"hovertemplate\":\"Gesture=36<br># Components=%{x}<br>Explained Variance=%{y}<extra></extra>\",\"legendgroup\":\"36\",\"marker\":{\"color\":\"#FECB52\",\"symbol\":\"circle\"},\"mode\":\"markers\",\"name\":\"36\",\"orientation\":\"v\",\"showlegend\":true,\"type\":\"scatter\",\"x\":[1,2,3,4],\"xaxis\":\"x\",\"y\":[1.0,1.0,1.0,1.0],\"yaxis\":\"y\"},{\"hovertemplate\":\"Gesture=37<br># Components=%{x}<br>Explained Variance=%{y}<extra></extra>\",\"legendgroup\":\"37\",\"marker\":{\"color\":\"#636efa\",\"symbol\":\"circle\"},\"mode\":\"markers\",\"name\":\"37\",\"orientation\":\"v\",\"showlegend\":true,\"type\":\"scatter\",\"x\":[1,2,3,4],\"xaxis\":\"x\",\"y\":[1.0,1.0,1.0,1.0],\"yaxis\":\"y\"},{\"hovertemplate\":\"Gesture=38<br># Components=%{x}<br>Explained Variance=%{y}<extra></extra>\",\"legendgroup\":\"38\",\"marker\":{\"color\":\"#EF553B\",\"symbol\":\"circle\"},\"mode\":\"markers\",\"name\":\"38\",\"orientation\":\"v\",\"showlegend\":true,\"type\":\"scatter\",\"x\":[1,2,3,4],\"xaxis\":\"x\",\"y\":[1.0,1.0,1.0,1.0],\"yaxis\":\"y\"},{\"hovertemplate\":\"Gesture=39<br># Components=%{x}<br>Explained Variance=%{y}<extra></extra>\",\"legendgroup\":\"39\",\"marker\":{\"color\":\"#00cc96\",\"symbol\":\"circle\"},\"mode\":\"markers\",\"name\":\"39\",\"orientation\":\"v\",\"showlegend\":true,\"type\":\"scatter\",\"x\":[1,2,3,4],\"xaxis\":\"x\",\"y\":[1.0,1.0,1.0,1.0],\"yaxis\":\"y\"},{\"hovertemplate\":\"Gesture=4<br># Components=%{x}<br>Explained Variance=%{y}<extra></extra>\",\"legendgroup\":\"4\",\"marker\":{\"color\":\"#ab63fa\",\"symbol\":\"circle\"},\"mode\":\"markers\",\"name\":\"4\",\"orientation\":\"v\",\"showlegend\":true,\"type\":\"scatter\",\"x\":[1,2,3,4],\"xaxis\":\"x\",\"y\":[0.9955961349507138,1.0,1.0,1.0],\"yaxis\":\"y\"},{\"hovertemplate\":\"Gesture=40<br># Components=%{x}<br>Explained Variance=%{y}<extra></extra>\",\"legendgroup\":\"40\",\"marker\":{\"color\":\"#FFA15A\",\"symbol\":\"circle\"},\"mode\":\"markers\",\"name\":\"40\",\"orientation\":\"v\",\"showlegend\":true,\"type\":\"scatter\",\"x\":[1,2,3,4],\"xaxis\":\"x\",\"y\":[1.0,1.0,1.0,1.0],\"yaxis\":\"y\"},{\"hovertemplate\":\"Gesture=41<br># Components=%{x}<br>Explained Variance=%{y}<extra></extra>\",\"legendgroup\":\"41\",\"marker\":{\"color\":\"#19d3f3\",\"symbol\":\"circle\"},\"mode\":\"markers\",\"name\":\"41\",\"orientation\":\"v\",\"showlegend\":true,\"type\":\"scatter\",\"x\":[1,2,3,4],\"xaxis\":\"x\",\"y\":[0.990196904760809,0.9999999555431461,1.0,1.0],\"yaxis\":\"y\"},{\"hovertemplate\":\"Gesture=42<br># Components=%{x}<br>Explained Variance=%{y}<extra></extra>\",\"legendgroup\":\"42\",\"marker\":{\"color\":\"#FF6692\",\"symbol\":\"circle\"},\"mode\":\"markers\",\"name\":\"42\",\"orientation\":\"v\",\"showlegend\":true,\"type\":\"scatter\",\"x\":[1,2,3,4],\"xaxis\":\"x\",\"y\":[0.9973023216437952,0.9999999804704348,1.0,1.0],\"yaxis\":\"y\"},{\"hovertemplate\":\"Gesture=43<br># Components=%{x}<br>Explained Variance=%{y}<extra></extra>\",\"legendgroup\":\"43\",\"marker\":{\"color\":\"#B6E880\",\"symbol\":\"circle\"},\"mode\":\"markers\",\"name\":\"43\",\"orientation\":\"v\",\"showlegend\":true,\"type\":\"scatter\",\"x\":[1,2,3,4],\"xaxis\":\"x\",\"y\":[1.0,1.0,1.0,1.0],\"yaxis\":\"y\"},{\"hovertemplate\":\"Gesture=44<br># Components=%{x}<br>Explained Variance=%{y}<extra></extra>\",\"legendgroup\":\"44\",\"marker\":{\"color\":\"#FF97FF\",\"symbol\":\"circle\"},\"mode\":\"markers\",\"name\":\"44\",\"orientation\":\"v\",\"showlegend\":true,\"type\":\"scatter\",\"x\":[1,2,3,4],\"xaxis\":\"x\",\"y\":[0.9999854360693771,1.0,1.0,1.0],\"yaxis\":\"y\"},{\"hovertemplate\":\"Gesture=45<br># Components=%{x}<br>Explained Variance=%{y}<extra></extra>\",\"legendgroup\":\"45\",\"marker\":{\"color\":\"#FECB52\",\"symbol\":\"circle\"},\"mode\":\"markers\",\"name\":\"45\",\"orientation\":\"v\",\"showlegend\":true,\"type\":\"scatter\",\"x\":[1,2,3,4],\"xaxis\":\"x\",\"y\":[1.0,1.0,1.0,1.0],\"yaxis\":\"y\"},{\"hovertemplate\":\"Gesture=46<br># Components=%{x}<br>Explained Variance=%{y}<extra></extra>\",\"legendgroup\":\"46\",\"marker\":{\"color\":\"#636efa\",\"symbol\":\"circle\"},\"mode\":\"markers\",\"name\":\"46\",\"orientation\":\"v\",\"showlegend\":true,\"type\":\"scatter\",\"x\":[1,2,3,4],\"xaxis\":\"x\",\"y\":[0.715683047223135,0.9996188331042741,0.9999999999999999,0.9999999999999999],\"yaxis\":\"y\"},{\"hovertemplate\":\"Gesture=47<br># Components=%{x}<br>Explained Variance=%{y}<extra></extra>\",\"legendgroup\":\"47\",\"marker\":{\"color\":\"#EF553B\",\"symbol\":\"circle\"},\"mode\":\"markers\",\"name\":\"47\",\"orientation\":\"v\",\"showlegend\":true,\"type\":\"scatter\",\"x\":[1,2,3,4],\"xaxis\":\"x\",\"y\":[0.9999947545878617,1.0,1.0,1.0],\"yaxis\":\"y\"},{\"hovertemplate\":\"Gesture=48<br># Components=%{x}<br>Explained Variance=%{y}<extra></extra>\",\"legendgroup\":\"48\",\"marker\":{\"color\":\"#00cc96\",\"symbol\":\"circle\"},\"mode\":\"markers\",\"name\":\"48\",\"orientation\":\"v\",\"showlegend\":true,\"type\":\"scatter\",\"x\":[1,2,3,4],\"xaxis\":\"x\",\"y\":[0.9989461899537914,1.0,1.0,1.0],\"yaxis\":\"y\"},{\"hovertemplate\":\"Gesture=49<br># Components=%{x}<br>Explained Variance=%{y}<extra></extra>\",\"legendgroup\":\"49\",\"marker\":{\"color\":\"#ab63fa\",\"symbol\":\"circle\"},\"mode\":\"markers\",\"name\":\"49\",\"orientation\":\"v\",\"showlegend\":true,\"type\":\"scatter\",\"x\":[1,2,3,4],\"xaxis\":\"x\",\"y\":[0.9964613519680297,0.9999999791639443,1.0,1.0],\"yaxis\":\"y\"},{\"hovertemplate\":\"Gesture=5<br># Components=%{x}<br>Explained Variance=%{y}<extra></extra>\",\"legendgroup\":\"5\",\"marker\":{\"color\":\"#FFA15A\",\"symbol\":\"circle\"},\"mode\":\"markers\",\"name\":\"5\",\"orientation\":\"v\",\"showlegend\":true,\"type\":\"scatter\",\"x\":[1,2,3,4],\"xaxis\":\"x\",\"y\":[0.9785387803108792,0.9999999999999999,0.9999999999999999,0.9999999999999999],\"yaxis\":\"y\"},{\"hovertemplate\":\"Gesture=50<br># Components=%{x}<br>Explained Variance=%{y}<extra></extra>\",\"legendgroup\":\"50\",\"marker\":{\"color\":\"#19d3f3\",\"symbol\":\"circle\"},\"mode\":\"markers\",\"name\":\"50\",\"orientation\":\"v\",\"showlegend\":true,\"type\":\"scatter\",\"x\":[1,2,3,4],\"xaxis\":\"x\",\"y\":[0.9999935997291151,1.0,1.0,1.0],\"yaxis\":\"y\"},{\"hovertemplate\":\"Gesture=51<br># Components=%{x}<br>Explained Variance=%{y}<extra></extra>\",\"legendgroup\":\"51\",\"marker\":{\"color\":\"#FF6692\",\"symbol\":\"circle\"},\"mode\":\"markers\",\"name\":\"51\",\"orientation\":\"v\",\"showlegend\":true,\"type\":\"scatter\",\"x\":[1,2,3,4],\"xaxis\":\"x\",\"y\":[0.9957635976598342,0.9999999884133758,1.0,1.0],\"yaxis\":\"y\"},{\"hovertemplate\":\"Gesture=52<br># Components=%{x}<br>Explained Variance=%{y}<extra></extra>\",\"legendgroup\":\"52\",\"marker\":{\"color\":\"#B6E880\",\"symbol\":\"circle\"},\"mode\":\"markers\",\"name\":\"52\",\"orientation\":\"v\",\"showlegend\":true,\"type\":\"scatter\",\"x\":[1,2,3,4],\"xaxis\":\"x\",\"y\":[0.7146717082462047,0.9982604875552608,0.9999999778176978,1.0],\"yaxis\":\"y\"},{\"hovertemplate\":\"Gesture=53<br># Components=%{x}<br>Explained Variance=%{y}<extra></extra>\",\"legendgroup\":\"53\",\"marker\":{\"color\":\"#FF97FF\",\"symbol\":\"circle\"},\"mode\":\"markers\",\"name\":\"53\",\"orientation\":\"v\",\"showlegend\":true,\"type\":\"scatter\",\"x\":[1,2,3,4],\"xaxis\":\"x\",\"y\":[0.994544946688724,1.0,1.0,1.0],\"yaxis\":\"y\"},{\"hovertemplate\":\"Gesture=54<br># Components=%{x}<br>Explained Variance=%{y}<extra></extra>\",\"legendgroup\":\"54\",\"marker\":{\"color\":\"#FECB52\",\"symbol\":\"circle\"},\"mode\":\"markers\",\"name\":\"54\",\"orientation\":\"v\",\"showlegend\":true,\"type\":\"scatter\",\"x\":[1,2,3,4],\"xaxis\":\"x\",\"y\":[1.0,1.0,1.0,1.0],\"yaxis\":\"y\"},{\"hovertemplate\":\"Gesture=55<br># Components=%{x}<br>Explained Variance=%{y}<extra></extra>\",\"legendgroup\":\"55\",\"marker\":{\"color\":\"#636efa\",\"symbol\":\"circle\"},\"mode\":\"markers\",\"name\":\"55\",\"orientation\":\"v\",\"showlegend\":true,\"type\":\"scatter\",\"x\":[1,2,3,4],\"xaxis\":\"x\",\"y\":[0.9999955324165587,1.0,1.0,1.0],\"yaxis\":\"y\"},{\"hovertemplate\":\"Gesture=56<br># Components=%{x}<br>Explained Variance=%{y}<extra></extra>\",\"legendgroup\":\"56\",\"marker\":{\"color\":\"#EF553B\",\"symbol\":\"circle\"},\"mode\":\"markers\",\"name\":\"56\",\"orientation\":\"v\",\"showlegend\":true,\"type\":\"scatter\",\"x\":[1,2,3,4],\"xaxis\":\"x\",\"y\":[0.9999973068206751,1.0,1.0,1.0],\"yaxis\":\"y\"},{\"hovertemplate\":\"Gesture=57<br># Components=%{x}<br>Explained Variance=%{y}<extra></extra>\",\"legendgroup\":\"57\",\"marker\":{\"color\":\"#00cc96\",\"symbol\":\"circle\"},\"mode\":\"markers\",\"name\":\"57\",\"orientation\":\"v\",\"showlegend\":true,\"type\":\"scatter\",\"x\":[1,2,3,4],\"xaxis\":\"x\",\"y\":[0.9951016490817401,1.0,1.0,1.0],\"yaxis\":\"y\"},{\"hovertemplate\":\"Gesture=58<br># Components=%{x}<br>Explained Variance=%{y}<extra></extra>\",\"legendgroup\":\"58\",\"marker\":{\"color\":\"#ab63fa\",\"symbol\":\"circle\"},\"mode\":\"markers\",\"name\":\"58\",\"orientation\":\"v\",\"showlegend\":true,\"type\":\"scatter\",\"x\":[1,2,3,4],\"xaxis\":\"x\",\"y\":[1.0,1.0,1.0,1.0],\"yaxis\":\"y\"},{\"hovertemplate\":\"Gesture=59<br># Components=%{x}<br>Explained Variance=%{y}<extra></extra>\",\"legendgroup\":\"59\",\"marker\":{\"color\":\"#FFA15A\",\"symbol\":\"circle\"},\"mode\":\"markers\",\"name\":\"59\",\"orientation\":\"v\",\"showlegend\":true,\"type\":\"scatter\",\"x\":[1,2,3,4],\"xaxis\":\"x\",\"y\":[0.9981539632640961,1.0,1.0,1.0],\"yaxis\":\"y\"},{\"hovertemplate\":\"Gesture=6<br># Components=%{x}<br>Explained Variance=%{y}<extra></extra>\",\"legendgroup\":\"6\",\"marker\":{\"color\":\"#19d3f3\",\"symbol\":\"circle\"},\"mode\":\"markers\",\"name\":\"6\",\"orientation\":\"v\",\"showlegend\":true,\"type\":\"scatter\",\"x\":[1,2,3,4],\"xaxis\":\"x\",\"y\":[0.9999976424039889,1.0,1.0,1.0],\"yaxis\":\"y\"},{\"hovertemplate\":\"Gesture=60<br># Components=%{x}<br>Explained Variance=%{y}<extra></extra>\",\"legendgroup\":\"60\",\"marker\":{\"color\":\"#FF6692\",\"symbol\":\"circle\"},\"mode\":\"markers\",\"name\":\"60\",\"orientation\":\"v\",\"showlegend\":true,\"type\":\"scatter\",\"x\":[1,2,3,4],\"xaxis\":\"x\",\"y\":[0.999995011341848,1.0,1.0,1.0],\"yaxis\":\"y\"},{\"hovertemplate\":\"Gesture=7<br># Components=%{x}<br>Explained Variance=%{y}<extra></extra>\",\"legendgroup\":\"7\",\"marker\":{\"color\":\"#B6E880\",\"symbol\":\"circle\"},\"mode\":\"markers\",\"name\":\"7\",\"orientation\":\"v\",\"showlegend\":true,\"type\":\"scatter\",\"x\":[1,2,3,4],\"xaxis\":\"x\",\"y\":[0.9999976424039889,1.0,1.0,1.0],\"yaxis\":\"y\"},{\"hovertemplate\":\"Gesture=8<br># Components=%{x}<br>Explained Variance=%{y}<extra></extra>\",\"legendgroup\":\"8\",\"marker\":{\"color\":\"#FF97FF\",\"symbol\":\"circle\"},\"mode\":\"markers\",\"name\":\"8\",\"orientation\":\"v\",\"showlegend\":true,\"type\":\"scatter\",\"x\":[1,2,3,4],\"xaxis\":\"x\",\"y\":[1.0,1.0,1.0,1.0],\"yaxis\":\"y\"},{\"hovertemplate\":\"Gesture=9<br># Components=%{x}<br>Explained Variance=%{y}<extra></extra>\",\"legendgroup\":\"9\",\"marker\":{\"color\":\"#FECB52\",\"symbol\":\"circle\"},\"mode\":\"markers\",\"name\":\"9\",\"orientation\":\"v\",\"showlegend\":true,\"type\":\"scatter\",\"x\":[1,2,3,4],\"xaxis\":\"x\",\"y\":[0.9999975800393303,1.0,1.0,1.0],\"yaxis\":\"y\"},{\"hovertemplate\":\"<b>Rolling median trendline</b><br><br># Components=%{x}<br>Explained Variance=%{y} <b>(trend)</b><extra></extra>\",\"legendgroup\":\"Overall Trendline\",\"line\":{\"color\":\"#636efa\"},\"mode\":\"lines\",\"name\":\"Overall Trendline\",\"showlegend\":true,\"type\":\"scatter\",\"x\":[1,1,1,1,1,1,1,1,1,1,1,1,1,1,1,1,1,1,1,1,1,1,1,1,1,1,1,1,1,1,1,1,1,1,1,1,1,1,1,1,1,1,1,1,1,1,1,1,1,1,1,1,1,1,1,1,1,1,1,1,2,2,2,2,2,2,2,2,2,2,2,2,2,2,2,2,2,2,2,2,2,2,2,2,2,2,2,2,2,2,2,2,2,2,2,2,2,2,2,2,2,2,2,2,2,2,2,2,2,2,2,2,2,2,2,2,2,2,2,2,3,3,3,3,3,3,3,3,3,3,3,3,3,3,3,3,3,3,3,3,3,3,3,3,3,3,3,3,3,3,3,3,3,3,3,3,3,3,3,3,3,3,3,3,3,3,3,3,3,3,3,3,3,3,3,3,3,3,3,3,4,4,4,4,4,4,4,4,4,4,4,4,4,4,4,4,4,4,4,4,4,4,4,4,4,4,4,4,4,4,4,4,4,4,4,4,4,4,4,4,4,4,4,4,4,4,4,4,4,4,4,4,4,4,4,4,4,4,4,4],\"xaxis\":\"x\",\"y\":[null,null,null,null,1.0,0.9999976424039889,0.9999976424039889,1.0,0.9999976424039889,1.0,1.0,1.0,1.0,1.0,1.0,0.9999957388370514,0.999995011341848,0.999995011341848,0.9999957388370514,0.9999854360693771,0.9999854360693771,0.9999955324165587,0.9999955324165587,0.9989759353101165,0.9999955324165587,0.9999977643806008,0.9999976424039889,0.9999977643806008,1.0,0.9999977643806008,0.9999976424039889,0.9999957388370514,0.9999957388370514,0.9999957388370514,1.0,1.0,1.0,1.0,1.0,1.0,1.0,1.0,1.0,0.9999955324165587,0.9978981874702821,0.9978981874702821,0.9978981874702821,0.9999955324165587,0.9999975800393303,0.9999975800393303,0.9999975800393303,0.9999975800393303,0.9999975800393303,0.9973023216437952,0.99780035990938,0.9955961349507138,0.99780035990938,0.9955961349507138,0.994544946688724,0.994544946688724,0.9999868035588492,0.9999935997291151,0.9999999956025881,1.0,1.0,1.0,1.0,1.0,1.0,1.0,1.0,1.0,1.0,1.0,1.0,1.0,1.0,1.0,1.0,1.0,1.0,1.0,1.0,1.0,1.0,1.0,1.0,1.0,1.0,1.0,1.0,1.0,1.0,0.9999999999999999,1.0,1.0,1.0,1.0,1.0,0.9999999999999999,0.9999999884133758,0.9999999884133758,0.9999999884133758,1.0,1.0,1.0,1.0,1.0,1.0,1.0,1.0,1.0,1.0,1.0,1.0,1.0,1.0,1.0,1.0,1.0,1.0,1.0,1.0,1.0,1.0,1.0,1.0,1.0,1.0,1.0,1.0,1.0,1.0,1.0,1.0,1.0,1.0,1.0,1.0,1.0,1.0,1.0,1.0,1.0,1.0,1.0,1.0,1.0,1.0,1.0,1.0,1.0,1.0,1.0,1.0,1.0,1.0,1.0,1.0,1.0,1.0,1.0,1.0,1.0,1.0,1.0,1.0,1.0,1.0,1.0,1.0,1.0,1.0,1.0,1.0,1.0,1.0,1.0,1.0,1.0,1.0,1.0,1.0,1.0,1.0,1.0,1.0,1.0,1.0,1.0,1.0,1.0,1.0,1.0,1.0,1.0,1.0,1.0,1.0,1.0,1.0,1.0,1.0,1.0,1.0,1.0,1.0,1.0,1.0,1.0,1.0,1.0,1.0,1.0,1.0,1.0,1.0,1.0,1.0,1.0,1.0,1.0,1.0,1.0,1.0,1.0,1.0,1.0,1.0,1.0,1.0,1.0,1.0,1.0,1.0,1.0,1.0,1.0,1.0,1.0],\"yaxis\":\"y\"}],                        {\"legend\":{\"title\":{\"text\":\"Gesture\"},\"tracegroupgap\":0},\"template\":{\"data\":{\"bar\":[{\"error_x\":{\"color\":\"#2a3f5f\"},\"error_y\":{\"color\":\"#2a3f5f\"},\"marker\":{\"line\":{\"color\":\"#E5ECF6\",\"width\":0.5},\"pattern\":{\"fillmode\":\"overlay\",\"size\":10,\"solidity\":0.2}},\"type\":\"bar\"}],\"barpolar\":[{\"marker\":{\"line\":{\"color\":\"#E5ECF6\",\"width\":0.5},\"pattern\":{\"fillmode\":\"overlay\",\"size\":10,\"solidity\":0.2}},\"type\":\"barpolar\"}],\"carpet\":[{\"aaxis\":{\"endlinecolor\":\"#2a3f5f\",\"gridcolor\":\"white\",\"linecolor\":\"white\",\"minorgridcolor\":\"white\",\"startlinecolor\":\"#2a3f5f\"},\"baxis\":{\"endlinecolor\":\"#2a3f5f\",\"gridcolor\":\"white\",\"linecolor\":\"white\",\"minorgridcolor\":\"white\",\"startlinecolor\":\"#2a3f5f\"},\"type\":\"carpet\"}],\"choropleth\":[{\"colorbar\":{\"outlinewidth\":0,\"ticks\":\"\"},\"type\":\"choropleth\"}],\"contour\":[{\"colorbar\":{\"outlinewidth\":0,\"ticks\":\"\"},\"colorscale\":[[0.0,\"#0d0887\"],[0.1111111111111111,\"#46039f\"],[0.2222222222222222,\"#7201a8\"],[0.3333333333333333,\"#9c179e\"],[0.4444444444444444,\"#bd3786\"],[0.5555555555555556,\"#d8576b\"],[0.6666666666666666,\"#ed7953\"],[0.7777777777777778,\"#fb9f3a\"],[0.8888888888888888,\"#fdca26\"],[1.0,\"#f0f921\"]],\"type\":\"contour\"}],\"contourcarpet\":[{\"colorbar\":{\"outlinewidth\":0,\"ticks\":\"\"},\"type\":\"contourcarpet\"}],\"heatmap\":[{\"colorbar\":{\"outlinewidth\":0,\"ticks\":\"\"},\"colorscale\":[[0.0,\"#0d0887\"],[0.1111111111111111,\"#46039f\"],[0.2222222222222222,\"#7201a8\"],[0.3333333333333333,\"#9c179e\"],[0.4444444444444444,\"#bd3786\"],[0.5555555555555556,\"#d8576b\"],[0.6666666666666666,\"#ed7953\"],[0.7777777777777778,\"#fb9f3a\"],[0.8888888888888888,\"#fdca26\"],[1.0,\"#f0f921\"]],\"type\":\"heatmap\"}],\"heatmapgl\":[{\"colorbar\":{\"outlinewidth\":0,\"ticks\":\"\"},\"colorscale\":[[0.0,\"#0d0887\"],[0.1111111111111111,\"#46039f\"],[0.2222222222222222,\"#7201a8\"],[0.3333333333333333,\"#9c179e\"],[0.4444444444444444,\"#bd3786\"],[0.5555555555555556,\"#d8576b\"],[0.6666666666666666,\"#ed7953\"],[0.7777777777777778,\"#fb9f3a\"],[0.8888888888888888,\"#fdca26\"],[1.0,\"#f0f921\"]],\"type\":\"heatmapgl\"}],\"histogram\":[{\"marker\":{\"pattern\":{\"fillmode\":\"overlay\",\"size\":10,\"solidity\":0.2}},\"type\":\"histogram\"}],\"histogram2d\":[{\"colorbar\":{\"outlinewidth\":0,\"ticks\":\"\"},\"colorscale\":[[0.0,\"#0d0887\"],[0.1111111111111111,\"#46039f\"],[0.2222222222222222,\"#7201a8\"],[0.3333333333333333,\"#9c179e\"],[0.4444444444444444,\"#bd3786\"],[0.5555555555555556,\"#d8576b\"],[0.6666666666666666,\"#ed7953\"],[0.7777777777777778,\"#fb9f3a\"],[0.8888888888888888,\"#fdca26\"],[1.0,\"#f0f921\"]],\"type\":\"histogram2d\"}],\"histogram2dcontour\":[{\"colorbar\":{\"outlinewidth\":0,\"ticks\":\"\"},\"colorscale\":[[0.0,\"#0d0887\"],[0.1111111111111111,\"#46039f\"],[0.2222222222222222,\"#7201a8\"],[0.3333333333333333,\"#9c179e\"],[0.4444444444444444,\"#bd3786\"],[0.5555555555555556,\"#d8576b\"],[0.6666666666666666,\"#ed7953\"],[0.7777777777777778,\"#fb9f3a\"],[0.8888888888888888,\"#fdca26\"],[1.0,\"#f0f921\"]],\"type\":\"histogram2dcontour\"}],\"mesh3d\":[{\"colorbar\":{\"outlinewidth\":0,\"ticks\":\"\"},\"type\":\"mesh3d\"}],\"parcoords\":[{\"line\":{\"colorbar\":{\"outlinewidth\":0,\"ticks\":\"\"}},\"type\":\"parcoords\"}],\"pie\":[{\"automargin\":true,\"type\":\"pie\"}],\"scatter\":[{\"marker\":{\"colorbar\":{\"outlinewidth\":0,\"ticks\":\"\"}},\"type\":\"scatter\"}],\"scatter3d\":[{\"line\":{\"colorbar\":{\"outlinewidth\":0,\"ticks\":\"\"}},\"marker\":{\"colorbar\":{\"outlinewidth\":0,\"ticks\":\"\"}},\"type\":\"scatter3d\"}],\"scattercarpet\":[{\"marker\":{\"colorbar\":{\"outlinewidth\":0,\"ticks\":\"\"}},\"type\":\"scattercarpet\"}],\"scattergeo\":[{\"marker\":{\"colorbar\":{\"outlinewidth\":0,\"ticks\":\"\"}},\"type\":\"scattergeo\"}],\"scattergl\":[{\"marker\":{\"colorbar\":{\"outlinewidth\":0,\"ticks\":\"\"}},\"type\":\"scattergl\"}],\"scattermapbox\":[{\"marker\":{\"colorbar\":{\"outlinewidth\":0,\"ticks\":\"\"}},\"type\":\"scattermapbox\"}],\"scatterpolar\":[{\"marker\":{\"colorbar\":{\"outlinewidth\":0,\"ticks\":\"\"}},\"type\":\"scatterpolar\"}],\"scatterpolargl\":[{\"marker\":{\"colorbar\":{\"outlinewidth\":0,\"ticks\":\"\"}},\"type\":\"scatterpolargl\"}],\"scatterternary\":[{\"marker\":{\"colorbar\":{\"outlinewidth\":0,\"ticks\":\"\"}},\"type\":\"scatterternary\"}],\"surface\":[{\"colorbar\":{\"outlinewidth\":0,\"ticks\":\"\"},\"colorscale\":[[0.0,\"#0d0887\"],[0.1111111111111111,\"#46039f\"],[0.2222222222222222,\"#7201a8\"],[0.3333333333333333,\"#9c179e\"],[0.4444444444444444,\"#bd3786\"],[0.5555555555555556,\"#d8576b\"],[0.6666666666666666,\"#ed7953\"],[0.7777777777777778,\"#fb9f3a\"],[0.8888888888888888,\"#fdca26\"],[1.0,\"#f0f921\"]],\"type\":\"surface\"}],\"table\":[{\"cells\":{\"fill\":{\"color\":\"#EBF0F8\"},\"line\":{\"color\":\"white\"}},\"header\":{\"fill\":{\"color\":\"#C8D4E3\"},\"line\":{\"color\":\"white\"}},\"type\":\"table\"}]},\"layout\":{\"annotationdefaults\":{\"arrowcolor\":\"#2a3f5f\",\"arrowhead\":0,\"arrowwidth\":1},\"autotypenumbers\":\"strict\",\"coloraxis\":{\"colorbar\":{\"outlinewidth\":0,\"ticks\":\"\"}},\"colorscale\":{\"diverging\":[[0,\"#8e0152\"],[0.1,\"#c51b7d\"],[0.2,\"#de77ae\"],[0.3,\"#f1b6da\"],[0.4,\"#fde0ef\"],[0.5,\"#f7f7f7\"],[0.6,\"#e6f5d0\"],[0.7,\"#b8e186\"],[0.8,\"#7fbc41\"],[0.9,\"#4d9221\"],[1,\"#276419\"]],\"sequential\":[[0.0,\"#0d0887\"],[0.1111111111111111,\"#46039f\"],[0.2222222222222222,\"#7201a8\"],[0.3333333333333333,\"#9c179e\"],[0.4444444444444444,\"#bd3786\"],[0.5555555555555556,\"#d8576b\"],[0.6666666666666666,\"#ed7953\"],[0.7777777777777778,\"#fb9f3a\"],[0.8888888888888888,\"#fdca26\"],[1.0,\"#f0f921\"]],\"sequentialminus\":[[0.0,\"#0d0887\"],[0.1111111111111111,\"#46039f\"],[0.2222222222222222,\"#7201a8\"],[0.3333333333333333,\"#9c179e\"],[0.4444444444444444,\"#bd3786\"],[0.5555555555555556,\"#d8576b\"],[0.6666666666666666,\"#ed7953\"],[0.7777777777777778,\"#fb9f3a\"],[0.8888888888888888,\"#fdca26\"],[1.0,\"#f0f921\"]]},\"colorway\":[\"#636efa\",\"#EF553B\",\"#00cc96\",\"#ab63fa\",\"#FFA15A\",\"#19d3f3\",\"#FF6692\",\"#B6E880\",\"#FF97FF\",\"#FECB52\"],\"font\":{\"color\":\"#2a3f5f\"},\"geo\":{\"bgcolor\":\"white\",\"lakecolor\":\"white\",\"landcolor\":\"#E5ECF6\",\"showlakes\":true,\"showland\":true,\"subunitcolor\":\"white\"},\"hoverlabel\":{\"align\":\"left\"},\"hovermode\":\"closest\",\"mapbox\":{\"style\":\"light\"},\"paper_bgcolor\":\"white\",\"plot_bgcolor\":\"#E5ECF6\",\"polar\":{\"angularaxis\":{\"gridcolor\":\"white\",\"linecolor\":\"white\",\"ticks\":\"\"},\"bgcolor\":\"#E5ECF6\",\"radialaxis\":{\"gridcolor\":\"white\",\"linecolor\":\"white\",\"ticks\":\"\"}},\"scene\":{\"xaxis\":{\"backgroundcolor\":\"#E5ECF6\",\"gridcolor\":\"white\",\"gridwidth\":2,\"linecolor\":\"white\",\"showbackground\":true,\"ticks\":\"\",\"zerolinecolor\":\"white\"},\"yaxis\":{\"backgroundcolor\":\"#E5ECF6\",\"gridcolor\":\"white\",\"gridwidth\":2,\"linecolor\":\"white\",\"showbackground\":true,\"ticks\":\"\",\"zerolinecolor\":\"white\"},\"zaxis\":{\"backgroundcolor\":\"#E5ECF6\",\"gridcolor\":\"white\",\"gridwidth\":2,\"linecolor\":\"white\",\"showbackground\":true,\"ticks\":\"\",\"zerolinecolor\":\"white\"}},\"shapedefaults\":{\"line\":{\"color\":\"#2a3f5f\"}},\"ternary\":{\"aaxis\":{\"gridcolor\":\"white\",\"linecolor\":\"white\",\"ticks\":\"\"},\"baxis\":{\"gridcolor\":\"white\",\"linecolor\":\"white\",\"ticks\":\"\"},\"bgcolor\":\"#E5ECF6\",\"caxis\":{\"gridcolor\":\"white\",\"linecolor\":\"white\",\"ticks\":\"\"}},\"title\":{\"x\":0.05},\"xaxis\":{\"automargin\":true,\"gridcolor\":\"white\",\"linecolor\":\"white\",\"ticks\":\"\",\"title\":{\"standoff\":15},\"zerolinecolor\":\"white\",\"zerolinewidth\":2},\"yaxis\":{\"automargin\":true,\"gridcolor\":\"white\",\"linecolor\":\"white\",\"ticks\":\"\",\"title\":{\"standoff\":15},\"zerolinecolor\":\"white\",\"zerolinewidth\":2}}},\"title\":{\"text\":\"Explained Variance with increasing number of latent features\"},\"xaxis\":{\"anchor\":\"y\",\"domain\":[0.0,1.0],\"title\":{\"text\":\"# Components\"}},\"yaxis\":{\"anchor\":\"x\",\"domain\":[0.0,1.0],\"title\":{\"text\":\"Explained Variance\"}}},                        {\"responsive\": true}                    ).then(function(){\n                            \nvar gd = document.getElementById('03279a24-924a-4efd-916a-83f323e9f615');\nvar x = new MutationObserver(function (mutations, observer) {{\n        var display = window.getComputedStyle(gd).display;\n        if (!display || display === 'none') {{\n            console.log([gd, 'removed!']);\n            Plotly.purge(gd);\n            observer.disconnect();\n        }}\n}});\n\n// Listen for the removal of the full notebook cells\nvar notebookContainer = gd.closest('#notebook-container');\nif (notebookContainer) {{\n    x.observe(notebookContainer, {childList: true});\n}}\n\n// Listen for the clearing of the current output cell\nvar outputEl = gd.closest('.output');\nif (outputEl) {{\n    x.observe(outputEl, {childList: true});\n}}\n\n                        })                };                            </script>        </div>\n</body>\n</html>"
     },
     "metadata": {},
     "output_type": "display_data"
    }
   ]
  },
  {
   "cell_type": "code",
   "metadata": {
    "deepnote_variable_name": "t1_top_k_latent_features",
    "deepnote_variable_value": "2",
    "cell_id": "00029-b576f595-3089-4a57-bed5-f4b6ef3cf661",
    "deepnote_to_be_reexecuted": false,
    "source_hash": "7462d0f7",
    "execution_start": 1638012943076,
    "execution_millis": 0,
    "deepnote_cell_type": "input-text"
   },
   "source": "t1_top_k_latent_features = '2'",
   "execution_count": 21,
   "outputs": []
  },
  {
   "cell_type": "code",
   "metadata": {
    "tags": [],
    "cell_id": "00030-3fd7b515-2617-4d84-bd43-2b12195c3c5d",
    "deepnote_to_be_reexecuted": false,
    "source_hash": "72c6b7b0",
    "execution_start": 1638012943077,
    "execution_millis": 3,
    "deepnote_output_heights": [
     155.60000610351562
    ],
    "deepnote_cell_type": "code"
   },
   "source": "t1_top_k_latent_features = int(t1_top_k_latent_features)\ntop_k_features = get_top_k_latent_features(t1_metrics_alg[0], t1_top_k_latent_features)\ntop_k_features",
   "execution_count": 22,
   "outputs": [
    {
     "output_type": "execute_result",
     "execution_count": 22,
     "data": {
      "text/plain": "[{'PC1': [('0.5;0.5', 0.7071),\n   ('-0.5;-0.5', 0.7071),\n   ('0.5;-0.5', 0.0),\n   ('-0.5;0.5', 0.0)]},\n {'PC2': [('0.5;0.5', 0.7071),\n   ('-0.5;-0.5', 0.7071),\n   ('0.5;-0.5', 0.0),\n   ('-0.5;0.5', 0.0)]}]"
     },
     "metadata": {}
    }
   ]
  },
  {
   "cell_type": "markdown",
   "source": "## Task 2",
   "metadata": {
    "tags": [],
    "is_collapsed": false,
    "cell_id": "00032-2fc1a75a-25fe-4978-acdd-6f5588d24955",
    "deepnote_cell_type": "text-cell-h2"
   }
  },
  {
   "cell_type": "code",
   "metadata": {
    "tags": [],
    "cell_id": "00031-cb331bc2-c2f4-42d7-a3e3-0f68a521dcde",
    "deepnote_to_be_reexecuted": false,
    "source_hash": "bd967303",
    "execution_start": 1638012943078,
    "execution_millis": 0,
    "deepnote_cell_type": "code"
   },
   "source": "# Genero il dataset dalla metrica scelta dall'algoritmo di prima\n# Dizionario composto da 'gestures', lista delle gestures in ordine, 'np_database', tf/tfidf delle varie gesture in formato numpy\nalg_database = generate_alg_database(t1_metrics_alg)",
   "execution_count": 23,
   "outputs": []
  },
  {
   "cell_type": "markdown",
   "source": " Scrivere un programma che, dato un file di gesti, individui i 10 gesti piu’ simili nel database di gesti, \nutilizzado:",
   "metadata": {
    "tags": [],
    "cell_id": "00036-0ef71ff2-9019-4d7d-bb03-cb9af8f7ad80",
    "deepnote_cell_type": "markdown"
   }
  },
  {
   "cell_type": "code",
   "metadata": {
    "deepnote_variable_name": "t2_input_file_gestures",
    "deepnote_variable_value": "../Dati_2/words/1.wrd",
    "cell_id": "00036-9cb944e1-67a5-4e98-9ffb-874ae8e5be84",
    "deepnote_to_be_reexecuted": false,
    "source_hash": "17d27e49",
    "execution_start": 1638012943079,
    "execution_millis": 3,
    "deepnote_cell_type": "input-text"
   },
   "source": "t2_input_file_gestures = '../Dati_2/words/1.wrd'",
   "execution_count": 24,
   "outputs": []
  },
  {
   "cell_type": "code",
   "metadata": {
    "deepnote_variable_name": "t2_input_k_gestures",
    "deepnote_variable_value": "10",
    "cell_id": "00038-81e5c045-6b78-4d9d-a618-c23b0c976f76",
    "deepnote_to_be_reexecuted": false,
    "source_hash": "537c0a7f",
    "execution_start": 1638012943111,
    "execution_millis": 68132678,
    "deepnote_cell_type": "input-text"
   },
   "source": "t2_input_k_gestures = '10'",
   "execution_count": 25,
   "outputs": []
  },
  {
   "cell_type": "code",
   "metadata": {
    "deepnote_variable_name": "t2_input_k_latent_features",
    "deepnote_variable_value": "4",
    "cell_id": "00034-5d6dbea6-0445-480c-9f12-0742690d9443",
    "deepnote_to_be_reexecuted": false,
    "source_hash": "7cf7183d",
    "execution_start": 1638012943112,
    "execution_millis": 68132675,
    "deepnote_cell_type": "input-text"
   },
   "source": "t2_input_k_latent_features = '4'",
   "execution_count": 26,
   "outputs": []
  },
  {
   "cell_type": "code",
   "metadata": {
    "deepnote_variable_name": "t2_input_query_type",
    "deepnote_variable_value": "Top-K Semantiche Latenti",
    "deepnote_variable_options": [
     "Dot Product",
     "Top-K Semantiche Latenti",
     "Edit Distance",
     "Distanza DTW"
    ],
    "deepnote_variable_custom_options": [
     "Dot Product",
     "Top-K Semantiche Latenti",
     "Edit Distance",
     "Distanza DTW"
    ],
    "deepnote_variable_selected_variable": "",
    "deepnote_variable_select_type": "from-options",
    "cell_id": "00036-8977fcab-0985-4f26-b5fe-9d5be8d89d8e",
    "deepnote_to_be_reexecuted": false,
    "source_hash": "b7483e5c",
    "execution_start": 1638012943113,
    "execution_millis": 68132630,
    "deepnote_cell_type": "input-select"
   },
   "source": "t2_input_query_type = 'Top-K Semantiche Latenti'",
   "execution_count": 27,
   "outputs": []
  },
  {
   "cell_type": "code",
   "metadata": {
    "tags": [],
    "cell_id": "00040-1c04c788-26a9-4837-9833-724f5bfd006f",
    "deepnote_to_be_reexecuted": false,
    "source_hash": "4f087257",
    "execution_start": 1638012943113,
    "execution_millis": 53,
    "deepnote_cell_type": "code"
   },
   "source": "# X facilità so che già ho calcolato sto file in input e lo prendo dal database\ngesture_name_id = t2_input_file_gestures.split(\"/\")[-1].split(\".\")[0]\n\nquery_type = t2_input_query_type\n\ntop_k = None\nif query_type == 'Dot Product':\n    print(\"Dot product not implemented yet!\")\nelif query_type == 'Top-K Semantiche Latenti':\n    gesture_numpy = alg_database['np_database'][alg_database['gestures'].index(gesture_name_id)]\n    # Preparo la query con gli input scelti dall'utente\n    finder_query_settings = {\n        'k_latent_features': int(t2_input_k_latent_features),\n        'k_gestures_return': int(t2_input_k_gestures),\n    }\n    top_k = find_k_most_similar(alg_database, gesture_numpy, finder_query_settings)\nelif query_type == 'Edit Distance':\n    print(\"Edit Distance not implemented yet!\")\nelse:\n    print(\"Distanza DTW not implemented yet!\")\n\n\nif top_k is not None:\n    print(\"Top \" + t2_input_k_gestures + \" gestures più simili a '\" + t2_input_file_gestures + \"', usando '\" + query_type + \"':\")\n    print(top_k)",
   "execution_count": 28,
   "outputs": [
    {
     "name": "stdout",
     "text": "Top 10 gestures più simili a '../Dati_2/words/1.wrd', usando 'Top-K Semantiche Latenti':\n  gesture  similarity\n0       1         1.0\n1      13         1.0\n2      17         1.0\n3      18         1.0\n4      19         1.0\n5      21         1.0\n6      22         1.0\n7      25         1.0\n8      26         1.0\n9      27         1.0\n",
     "output_type": "stream"
    }
   ]
  },
  {
   "cell_type": "markdown",
   "source": "## Task 3",
   "metadata": {
    "tags": [],
    "is_collapsed": false,
    "cell_id": "00036-0bea7e6c-0dab-4f1a-a70d-13a374b82871",
    "deepnote_cell_type": "text-cell-h2"
   }
  },
  {
   "cell_type": "code",
   "metadata": {
    "deepnote_variable_name": "t3_input_query_type",
    "deepnote_variable_value": "Top-K Semantiche Latenti",
    "deepnote_variable_options": [
     "Dot Product",
     "Top-K Semantiche Latenti",
     "Edit Distance",
     "Distanza DTW"
    ],
    "deepnote_variable_custom_options": [
     "Dot Product",
     "Top-K Semantiche Latenti",
     "Edit Distance",
     "Distanza DTW"
    ],
    "deepnote_variable_selected_variable": "",
    "deepnote_variable_select_type": "from-options",
    "cell_id": "00041-16cc6f82-28dc-47f9-b27f-a607fc8583bf",
    "deepnote_to_be_reexecuted": false,
    "source_hash": "543765de",
    "execution_start": 1638012943214,
    "execution_millis": 0,
    "deepnote_cell_type": "input-select"
   },
   "source": "t3_input_query_type = 'Top-K Semantiche Latenti'",
   "execution_count": 29,
   "outputs": []
  },
  {
   "cell_type": "code",
   "metadata": {
    "tags": [],
    "cell_id": "00036-9172fc2d-badc-482c-bde5-659ff0baaa6d",
    "deepnote_to_be_reexecuted": false,
    "source_hash": "7e2081ef",
    "execution_start": 1638012943215,
    "execution_millis": 356,
    "deepnote_cell_type": "code"
   },
   "source": "query_type = t3_input_query_type\n\n# Creo la matrice di similarità gesture - gesture (in base a come ha scelto l'utente di procedere)\ngesture_sim_matrix = None\nif query_type == 'Dot Product':\n    #gesture_sim_matrix = generate_gestures_similarity_matrix(alg_database['np_database'], int(t2_input_k_latent_features))\n    print(\"Dot product not implemented yet!\")\nelif query_type == 'Top-K Semantiche Latenti':\n    gesture_sim_matrix = generate_gestures_similarity_matrix(alg_database['np_database'], int(t2_input_k_latent_features))\nelif query_type == 'Edit Distance':\n    #gesture_sim_matrix = generate_gestures_similarity_matrix(alg_database['np_database'], int(t2_input_k_latent_features))\n    print(\"Edit Distance not implemented yet!\")\nelse:\n    #gesture_sim_matrix = generate_gestures_similarity_matrix(alg_database['np_database'], int(t2_input_k_latent_features))\n    print(\"Distanza DTW not implemented yet!\")\n\n# La trasformo in dataframe pandas (così ho anche il nome delle gestures a confronto nelle righe / colonne)\ngestures_sim_matrix_pd = gestures_similarity_matrix_2_pandas(gesture_sim_matrix, alg_database['gestures'])\nprint(\"Matrice similarità gesture-gesture:\")\ngestures_sim_matrix_pd",
   "execution_count": 30,
   "outputs": [
    {
     "name": "stdout",
     "text": "Matrice similarità gesture-gesture:\n",
     "output_type": "stream"
    },
    {
     "output_type": "execute_result",
     "execution_count": 30,
     "data": {
      "application/vnd.deepnote.dataframe.v2+json": {
       "row_count": 60,
       "column_count": 60,
       "columns": [
        {
         "name": "1",
         "dtype": "float64",
         "stats": {
          "unique_count": 26,
          "nan_count": 0,
          "min": "0.0",
          "max": "1.0",
          "histogram": [
           {
            "bin_start": 0,
            "bin_end": 0.1,
            "count": 3
           },
           {
            "bin_start": 0.1,
            "bin_end": 0.2,
            "count": 0
           },
           {
            "bin_start": 0.2,
            "bin_end": 0.30000000000000004,
            "count": 4
           },
           {
            "bin_start": 0.30000000000000004,
            "bin_end": 0.4,
            "count": 0
           },
           {
            "bin_start": 0.4,
            "bin_end": 0.5,
            "count": 0
           },
           {
            "bin_start": 0.5,
            "bin_end": 0.6000000000000001,
            "count": 13
           },
           {
            "bin_start": 0.6000000000000001,
            "bin_end": 0.7000000000000001,
            "count": 0
           },
           {
            "bin_start": 0.7000000000000001,
            "bin_end": 0.8,
            "count": 0
           },
           {
            "bin_start": 0.8,
            "bin_end": 0.9,
            "count": 0
           },
           {
            "bin_start": 0.9,
            "bin_end": 1,
            "count": 40
           }
          ]
         }
        },
        {
         "name": "10",
         "dtype": "float64",
         "stats": {
          "unique_count": 27,
          "nan_count": 0,
          "min": "0.0",
          "max": "1.0",
          "histogram": [
           {
            "bin_start": 0,
            "bin_end": 0.1,
            "count": 3
           },
           {
            "bin_start": 0.1,
            "bin_end": 0.2,
            "count": 0
           },
           {
            "bin_start": 0.2,
            "bin_end": 0.30000000000000004,
            "count": 39
           },
           {
            "bin_start": 0.30000000000000004,
            "bin_end": 0.4,
            "count": 0
           },
           {
            "bin_start": 0.4,
            "bin_end": 0.5,
            "count": 4
           },
           {
            "bin_start": 0.5,
            "bin_end": 0.6000000000000001,
            "count": 1
           },
           {
            "bin_start": 0.6000000000000001,
            "bin_end": 0.7000000000000001,
            "count": 0
           },
           {
            "bin_start": 0.7000000000000001,
            "bin_end": 0.8,
            "count": 0
           },
           {
            "bin_start": 0.8,
            "bin_end": 0.9,
            "count": 0
           },
           {
            "bin_start": 0.9,
            "bin_end": 1,
            "count": 13
           }
          ]
         }
        },
        {
         "name": "11",
         "dtype": "float64",
         "stats": {
          "unique_count": 25,
          "nan_count": 0,
          "min": "0.0",
          "max": "1.0",
          "histogram": [
           {
            "bin_start": 0,
            "bin_end": 0.1,
            "count": 39
           },
           {
            "bin_start": 0.1,
            "bin_end": 0.2,
            "count": 0
           },
           {
            "bin_start": 0.2,
            "bin_end": 0.30000000000000004,
            "count": 4
           },
           {
            "bin_start": 0.30000000000000004,
            "bin_end": 0.4,
            "count": 0
           },
           {
            "bin_start": 0.4,
            "bin_end": 0.5,
            "count": 13
           },
           {
            "bin_start": 0.5,
            "bin_end": 0.6000000000000001,
            "count": 0
           },
           {
            "bin_start": 0.6000000000000001,
            "bin_end": 0.7000000000000001,
            "count": 0
           },
           {
            "bin_start": 0.7000000000000001,
            "bin_end": 0.8,
            "count": 0
           },
           {
            "bin_start": 0.8,
            "bin_end": 0.9,
            "count": 0
           },
           {
            "bin_start": 0.9,
            "bin_end": 1,
            "count": 4
           }
          ]
         }
        },
        {
         "name": "12",
         "dtype": "float64",
         "stats": {
          "unique_count": 26,
          "nan_count": 0,
          "min": "0.0",
          "max": "1.0",
          "histogram": [
           {
            "bin_start": 0,
            "bin_end": 0.1,
            "count": 4
           },
           {
            "bin_start": 0.1,
            "bin_end": 0.2,
            "count": 0
           },
           {
            "bin_start": 0.2,
            "bin_end": 0.30000000000000004,
            "count": 4
           },
           {
            "bin_start": 0.30000000000000004,
            "bin_end": 0.4,
            "count": 0
           },
           {
            "bin_start": 0.4,
            "bin_end": 0.5,
            "count": 0
           },
           {
            "bin_start": 0.5,
            "bin_end": 0.6000000000000001,
            "count": 12
           },
           {
            "bin_start": 0.6000000000000001,
            "bin_end": 0.7000000000000001,
            "count": 0
           },
           {
            "bin_start": 0.7000000000000001,
            "bin_end": 0.8,
            "count": 0
           },
           {
            "bin_start": 0.8,
            "bin_end": 0.9,
            "count": 0
           },
           {
            "bin_start": 0.9,
            "bin_end": 1,
            "count": 40
           }
          ]
         }
        },
        {
         "name": "13",
         "dtype": "float64",
         "stats": {
          "unique_count": 26,
          "nan_count": 0,
          "min": "0.0",
          "max": "1.0",
          "histogram": [
           {
            "bin_start": 0,
            "bin_end": 0.1,
            "count": 4
           },
           {
            "bin_start": 0.1,
            "bin_end": 0.2,
            "count": 0
           },
           {
            "bin_start": 0.2,
            "bin_end": 0.30000000000000004,
            "count": 4
           },
           {
            "bin_start": 0.30000000000000004,
            "bin_end": 0.4,
            "count": 0
           },
           {
            "bin_start": 0.4,
            "bin_end": 0.5,
            "count": 0
           },
           {
            "bin_start": 0.5,
            "bin_end": 0.6000000000000001,
            "count": 12
           },
           {
            "bin_start": 0.6000000000000001,
            "bin_end": 0.7000000000000001,
            "count": 0
           },
           {
            "bin_start": 0.7000000000000001,
            "bin_end": 0.8,
            "count": 0
           },
           {
            "bin_start": 0.8,
            "bin_end": 0.9,
            "count": 0
           },
           {
            "bin_start": 0.9,
            "bin_end": 1,
            "count": 40
           }
          ]
         }
        },
        {
         "name": "14",
         "dtype": "float64",
         "stats": {
          "unique_count": 27,
          "nan_count": 0,
          "min": "0.0",
          "max": "1.0",
          "histogram": [
           {
            "bin_start": 0,
            "bin_end": 0.1,
            "count": 4
           },
           {
            "bin_start": 0.1,
            "bin_end": 0.2,
            "count": 0
           },
           {
            "bin_start": 0.2,
            "bin_end": 0.30000000000000004,
            "count": 4
           },
           {
            "bin_start": 0.30000000000000004,
            "bin_end": 0.4,
            "count": 0
           },
           {
            "bin_start": 0.4,
            "bin_end": 0.5,
            "count": 0
           },
           {
            "bin_start": 0.5,
            "bin_end": 0.6000000000000001,
            "count": 12
           },
           {
            "bin_start": 0.6000000000000001,
            "bin_end": 0.7000000000000001,
            "count": 0
           },
           {
            "bin_start": 0.7000000000000001,
            "bin_end": 0.8,
            "count": 0
           },
           {
            "bin_start": 0.8,
            "bin_end": 0.9,
            "count": 0
           },
           {
            "bin_start": 0.9,
            "bin_end": 1,
            "count": 40
           }
          ]
         }
        },
        {
         "name": "15",
         "dtype": "float64",
         "stats": {
          "unique_count": 28,
          "nan_count": 0,
          "min": "0.0",
          "max": "1.0",
          "histogram": [
           {
            "bin_start": 0,
            "bin_end": 0.1,
            "count": 36
           },
           {
            "bin_start": 0.1,
            "bin_end": 0.2,
            "count": 0
           },
           {
            "bin_start": 0.2,
            "bin_end": 0.30000000000000004,
            "count": 7
           },
           {
            "bin_start": 0.30000000000000004,
            "bin_end": 0.4,
            "count": 0
           },
           {
            "bin_start": 0.4,
            "bin_end": 0.5,
            "count": 13
           },
           {
            "bin_start": 0.5,
            "bin_end": 0.6000000000000001,
            "count": 0
           },
           {
            "bin_start": 0.6000000000000001,
            "bin_end": 0.7000000000000001,
            "count": 0
           },
           {
            "bin_start": 0.7000000000000001,
            "bin_end": 0.8,
            "count": 0
           },
           {
            "bin_start": 0.8,
            "bin_end": 0.9,
            "count": 0
           },
           {
            "bin_start": 0.9,
            "bin_end": 1,
            "count": 4
           }
          ]
         }
        },
        {
         "name": "16",
         "dtype": "float64",
         "stats": {
          "unique_count": 28,
          "nan_count": 0,
          "min": "0.0",
          "max": "1.0",
          "histogram": [
           {
            "bin_start": 0,
            "bin_end": 0.1,
            "count": 3
           },
           {
            "bin_start": 0.1,
            "bin_end": 0.2,
            "count": 0
           },
           {
            "bin_start": 0.2,
            "bin_end": 0.30000000000000004,
            "count": 36
           },
           {
            "bin_start": 0.30000000000000004,
            "bin_end": 0.4,
            "count": 0
           },
           {
            "bin_start": 0.4,
            "bin_end": 0.5,
            "count": 4
           },
           {
            "bin_start": 0.5,
            "bin_end": 0.6000000000000001,
            "count": 4
           },
           {
            "bin_start": 0.6000000000000001,
            "bin_end": 0.7000000000000001,
            "count": 0
           },
           {
            "bin_start": 0.7000000000000001,
            "bin_end": 0.8,
            "count": 0
           },
           {
            "bin_start": 0.8,
            "bin_end": 0.9,
            "count": 0
           },
           {
            "bin_start": 0.9,
            "bin_end": 1,
            "count": 13
           }
          ]
         }
        },
        {
         "name": "17",
         "dtype": "float64",
         "stats": {
          "unique_count": 26,
          "nan_count": 0,
          "min": "0.0",
          "max": "1.0",
          "histogram": [
           {
            "bin_start": 0,
            "bin_end": 0.1,
            "count": 5
           },
           {
            "bin_start": 0.1,
            "bin_end": 0.2,
            "count": 0
           },
           {
            "bin_start": 0.2,
            "bin_end": 0.30000000000000004,
            "count": 4
           },
           {
            "bin_start": 0.30000000000000004,
            "bin_end": 0.4,
            "count": 0
           },
           {
            "bin_start": 0.4,
            "bin_end": 0.5,
            "count": 0
           },
           {
            "bin_start": 0.5,
            "bin_end": 0.6000000000000001,
            "count": 11
           },
           {
            "bin_start": 0.6000000000000001,
            "bin_end": 0.7000000000000001,
            "count": 0
           },
           {
            "bin_start": 0.7000000000000001,
            "bin_end": 0.8,
            "count": 0
           },
           {
            "bin_start": 0.8,
            "bin_end": 0.9,
            "count": 0
           },
           {
            "bin_start": 0.9,
            "bin_end": 1,
            "count": 40
           }
          ]
         }
        },
        {
         "name": "18",
         "dtype": "float64",
         "stats": {
          "unique_count": 26,
          "nan_count": 0,
          "min": "0.0",
          "max": "1.0",
          "histogram": [
           {
            "bin_start": 0,
            "bin_end": 0.1,
            "count": 5
           },
           {
            "bin_start": 0.1,
            "bin_end": 0.2,
            "count": 0
           },
           {
            "bin_start": 0.2,
            "bin_end": 0.30000000000000004,
            "count": 4
           },
           {
            "bin_start": 0.30000000000000004,
            "bin_end": 0.4,
            "count": 0
           },
           {
            "bin_start": 0.4,
            "bin_end": 0.5,
            "count": 0
           },
           {
            "bin_start": 0.5,
            "bin_end": 0.6000000000000001,
            "count": 11
           },
           {
            "bin_start": 0.6000000000000001,
            "bin_end": 0.7000000000000001,
            "count": 0
           },
           {
            "bin_start": 0.7000000000000001,
            "bin_end": 0.8,
            "count": 0
           },
           {
            "bin_start": 0.8,
            "bin_end": 0.9,
            "count": 0
           },
           {
            "bin_start": 0.9,
            "bin_end": 1,
            "count": 40
           }
          ]
         }
        },
        {
         "name": "19",
         "dtype": "float64",
         "stats": {
          "unique_count": 26,
          "nan_count": 0,
          "min": "0.0",
          "max": "1.0",
          "histogram": [
           {
            "bin_start": 0,
            "bin_end": 0.1,
            "count": 5
           },
           {
            "bin_start": 0.1,
            "bin_end": 0.2,
            "count": 0
           },
           {
            "bin_start": 0.2,
            "bin_end": 0.30000000000000004,
            "count": 4
           },
           {
            "bin_start": 0.30000000000000004,
            "bin_end": 0.4,
            "count": 0
           },
           {
            "bin_start": 0.4,
            "bin_end": 0.5,
            "count": 0
           },
           {
            "bin_start": 0.5,
            "bin_end": 0.6000000000000001,
            "count": 11
           },
           {
            "bin_start": 0.6000000000000001,
            "bin_end": 0.7000000000000001,
            "count": 0
           },
           {
            "bin_start": 0.7000000000000001,
            "bin_end": 0.8,
            "count": 0
           },
           {
            "bin_start": 0.8,
            "bin_end": 0.9,
            "count": 0
           },
           {
            "bin_start": 0.9,
            "bin_end": 1,
            "count": 40
           }
          ]
         }
        },
        {
         "name": "2",
         "dtype": "float64",
         "stats": {
          "unique_count": 26,
          "nan_count": 0,
          "min": "0.0",
          "max": "1.0",
          "histogram": [
           {
            "bin_start": 0,
            "bin_end": 0.1,
            "count": 5
           },
           {
            "bin_start": 0.1,
            "bin_end": 0.2,
            "count": 0
           },
           {
            "bin_start": 0.2,
            "bin_end": 0.30000000000000004,
            "count": 4
           },
           {
            "bin_start": 0.30000000000000004,
            "bin_end": 0.4,
            "count": 0
           },
           {
            "bin_start": 0.4,
            "bin_end": 0.5,
            "count": 0
           },
           {
            "bin_start": 0.5,
            "bin_end": 0.6000000000000001,
            "count": 11
           },
           {
            "bin_start": 0.6000000000000001,
            "bin_end": 0.7000000000000001,
            "count": 0
           },
           {
            "bin_start": 0.7000000000000001,
            "bin_end": 0.8,
            "count": 0
           },
           {
            "bin_start": 0.8,
            "bin_end": 0.9,
            "count": 0
           },
           {
            "bin_start": 0.9,
            "bin_end": 1,
            "count": 40
           }
          ]
         }
        },
        {
         "name": "20",
         "dtype": "float64",
         "stats": {
          "unique_count": 23,
          "nan_count": 0,
          "min": "0.0",
          "max": "1.0",
          "histogram": [
           {
            "bin_start": 0,
            "bin_end": 0.1,
            "count": 42
           },
           {
            "bin_start": 0.1,
            "bin_end": 0.2,
            "count": 0
           },
           {
            "bin_start": 0.2,
            "bin_end": 0.30000000000000004,
            "count": 13
           },
           {
            "bin_start": 0.30000000000000004,
            "bin_end": 0.4,
            "count": 0
           },
           {
            "bin_start": 0.4,
            "bin_end": 0.5,
            "count": 2
           },
           {
            "bin_start": 0.5,
            "bin_end": 0.6000000000000001,
            "count": 0
           },
           {
            "bin_start": 0.6000000000000001,
            "bin_end": 0.7000000000000001,
            "count": 0
           },
           {
            "bin_start": 0.7000000000000001,
            "bin_end": 0.8,
            "count": 0
           },
           {
            "bin_start": 0.8,
            "bin_end": 0.9,
            "count": 0
           },
           {
            "bin_start": 0.9,
            "bin_end": 1,
            "count": 3
           }
          ]
         }
        },
        {
         "name": "21",
         "dtype": "float64",
         "stats": {
          "unique_count": 25,
          "nan_count": 0,
          "min": "0.0",
          "max": "1.0",
          "histogram": [
           {
            "bin_start": 0,
            "bin_end": 0.1,
            "count": 5
           },
           {
            "bin_start": 0.1,
            "bin_end": 0.2,
            "count": 0
           },
           {
            "bin_start": 0.2,
            "bin_end": 0.30000000000000004,
            "count": 4
           },
           {
            "bin_start": 0.30000000000000004,
            "bin_end": 0.4,
            "count": 0
           },
           {
            "bin_start": 0.4,
            "bin_end": 0.5,
            "count": 0
           },
           {
            "bin_start": 0.5,
            "bin_end": 0.6000000000000001,
            "count": 11
           },
           {
            "bin_start": 0.6000000000000001,
            "bin_end": 0.7000000000000001,
            "count": 0
           },
           {
            "bin_start": 0.7000000000000001,
            "bin_end": 0.8,
            "count": 0
           },
           {
            "bin_start": 0.8,
            "bin_end": 0.9,
            "count": 0
           },
           {
            "bin_start": 0.9,
            "bin_end": 1,
            "count": 40
           }
          ]
         }
        },
        {
         "name": "22",
         "dtype": "float64",
         "stats": {
          "unique_count": 25,
          "nan_count": 0,
          "min": "0.0",
          "max": "1.0",
          "histogram": [
           {
            "bin_start": 0,
            "bin_end": 0.1,
            "count": 5
           },
           {
            "bin_start": 0.1,
            "bin_end": 0.2,
            "count": 0
           },
           {
            "bin_start": 0.2,
            "bin_end": 0.30000000000000004,
            "count": 4
           },
           {
            "bin_start": 0.30000000000000004,
            "bin_end": 0.4,
            "count": 0
           },
           {
            "bin_start": 0.4,
            "bin_end": 0.5,
            "count": 0
           },
           {
            "bin_start": 0.5,
            "bin_end": 0.6000000000000001,
            "count": 11
           },
           {
            "bin_start": 0.6000000000000001,
            "bin_end": 0.7000000000000001,
            "count": 0
           },
           {
            "bin_start": 0.7000000000000001,
            "bin_end": 0.8,
            "count": 0
           },
           {
            "bin_start": 0.8,
            "bin_end": 0.9,
            "count": 0
           },
           {
            "bin_start": 0.9,
            "bin_end": 1,
            "count": 40
           }
          ]
         }
        },
        {
         "name": "23",
         "dtype": "float64",
         "stats": {
          "unique_count": 30,
          "nan_count": 0,
          "min": "0.0",
          "max": "1.0",
          "histogram": [
           {
            "bin_start": 0,
            "bin_end": 0.1,
            "count": 2
           },
           {
            "bin_start": 0.1,
            "bin_end": 0.2,
            "count": 0
           },
           {
            "bin_start": 0.2,
            "bin_end": 0.30000000000000004,
            "count": 31
           },
           {
            "bin_start": 0.30000000000000004,
            "bin_end": 0.4,
            "count": 0
           },
           {
            "bin_start": 0.4,
            "bin_end": 0.5,
            "count": 4
           },
           {
            "bin_start": 0.5,
            "bin_end": 0.6000000000000001,
            "count": 10
           },
           {
            "bin_start": 0.6000000000000001,
            "bin_end": 0.7000000000000001,
            "count": 0
           },
           {
            "bin_start": 0.7000000000000001,
            "bin_end": 0.8,
            "count": 0
           },
           {
            "bin_start": 0.8,
            "bin_end": 0.9,
            "count": 0
           },
           {
            "bin_start": 0.9,
            "bin_end": 1,
            "count": 13
           }
          ]
         }
        },
        {
         "name": "24",
         "dtype": "float64",
         "stats": {
          "unique_count": 25,
          "nan_count": 0,
          "min": "0.0",
          "max": "1.0",
          "histogram": [
           {
            "bin_start": 0,
            "bin_end": 0.1,
            "count": 5
           },
           {
            "bin_start": 0.1,
            "bin_end": 0.2,
            "count": 0
           },
           {
            "bin_start": 0.2,
            "bin_end": 0.30000000000000004,
            "count": 5
           },
           {
            "bin_start": 0.30000000000000004,
            "bin_end": 0.4,
            "count": 0
           },
           {
            "bin_start": 0.4,
            "bin_end": 0.5,
            "count": 0
           },
           {
            "bin_start": 0.5,
            "bin_end": 0.6000000000000001,
            "count": 10
           },
           {
            "bin_start": 0.6000000000000001,
            "bin_end": 0.7000000000000001,
            "count": 0
           },
           {
            "bin_start": 0.7000000000000001,
            "bin_end": 0.8,
            "count": 0
           },
           {
            "bin_start": 0.8,
            "bin_end": 0.9,
            "count": 0
           },
           {
            "bin_start": 0.9,
            "bin_end": 1,
            "count": 40
           }
          ]
         }
        },
        {
         "name": "25",
         "dtype": "float64",
         "stats": {
          "unique_count": 25,
          "nan_count": 0,
          "min": "0.0",
          "max": "1.0",
          "histogram": [
           {
            "bin_start": 0,
            "bin_end": 0.1,
            "count": 5
           },
           {
            "bin_start": 0.1,
            "bin_end": 0.2,
            "count": 0
           },
           {
            "bin_start": 0.2,
            "bin_end": 0.30000000000000004,
            "count": 5
           },
           {
            "bin_start": 0.30000000000000004,
            "bin_end": 0.4,
            "count": 0
           },
           {
            "bin_start": 0.4,
            "bin_end": 0.5,
            "count": 0
           },
           {
            "bin_start": 0.5,
            "bin_end": 0.6000000000000001,
            "count": 10
           },
           {
            "bin_start": 0.6000000000000001,
            "bin_end": 0.7000000000000001,
            "count": 0
           },
           {
            "bin_start": 0.7000000000000001,
            "bin_end": 0.8,
            "count": 0
           },
           {
            "bin_start": 0.8,
            "bin_end": 0.9,
            "count": 0
           },
           {
            "bin_start": 0.9,
            "bin_end": 1,
            "count": 40
           }
          ]
         }
        },
        {
         "name": "26",
         "dtype": "float64",
         "stats": {
          "unique_count": 25,
          "nan_count": 0,
          "min": "0.0",
          "max": "1.0",
          "histogram": [
           {
            "bin_start": 0,
            "bin_end": 0.1,
            "count": 5
           },
           {
            "bin_start": 0.1,
            "bin_end": 0.2,
            "count": 0
           },
           {
            "bin_start": 0.2,
            "bin_end": 0.30000000000000004,
            "count": 5
           },
           {
            "bin_start": 0.30000000000000004,
            "bin_end": 0.4,
            "count": 0
           },
           {
            "bin_start": 0.4,
            "bin_end": 0.5,
            "count": 0
           },
           {
            "bin_start": 0.5,
            "bin_end": 0.6000000000000001,
            "count": 10
           },
           {
            "bin_start": 0.6000000000000001,
            "bin_end": 0.7000000000000001,
            "count": 0
           },
           {
            "bin_start": 0.7000000000000001,
            "bin_end": 0.8,
            "count": 0
           },
           {
            "bin_start": 0.8,
            "bin_end": 0.9,
            "count": 0
           },
           {
            "bin_start": 0.9,
            "bin_end": 1,
            "count": 40
           }
          ]
         }
        },
        {
         "name": "27",
         "dtype": "float64",
         "stats": {
          "unique_count": 25,
          "nan_count": 0,
          "min": "0.0",
          "max": "1.0",
          "histogram": [
           {
            "bin_start": 0,
            "bin_end": 0.1,
            "count": 5
           },
           {
            "bin_start": 0.1,
            "bin_end": 0.2,
            "count": 0
           },
           {
            "bin_start": 0.2,
            "bin_end": 0.30000000000000004,
            "count": 5
           },
           {
            "bin_start": 0.30000000000000004,
            "bin_end": 0.4,
            "count": 0
           },
           {
            "bin_start": 0.4,
            "bin_end": 0.5,
            "count": 0
           },
           {
            "bin_start": 0.5,
            "bin_end": 0.6000000000000001,
            "count": 10
           },
           {
            "bin_start": 0.6000000000000001,
            "bin_end": 0.7000000000000001,
            "count": 0
           },
           {
            "bin_start": 0.7000000000000001,
            "bin_end": 0.8,
            "count": 0
           },
           {
            "bin_start": 0.8,
            "bin_end": 0.9,
            "count": 0
           },
           {
            "bin_start": 0.9,
            "bin_end": 1,
            "count": 40
           }
          ]
         }
        },
        {
         "name": "28",
         "dtype": "float64",
         "stats": {
          "unique_count": 25,
          "nan_count": 0,
          "min": "0.0",
          "max": "1.0",
          "histogram": [
           {
            "bin_start": 0,
            "bin_end": 0.1,
            "count": 5
           },
           {
            "bin_start": 0.1,
            "bin_end": 0.2,
            "count": 0
           },
           {
            "bin_start": 0.2,
            "bin_end": 0.30000000000000004,
            "count": 5
           },
           {
            "bin_start": 0.30000000000000004,
            "bin_end": 0.4,
            "count": 0
           },
           {
            "bin_start": 0.4,
            "bin_end": 0.5,
            "count": 0
           },
           {
            "bin_start": 0.5,
            "bin_end": 0.6000000000000001,
            "count": 10
           },
           {
            "bin_start": 0.6000000000000001,
            "bin_end": 0.7000000000000001,
            "count": 0
           },
           {
            "bin_start": 0.7000000000000001,
            "bin_end": 0.8,
            "count": 0
           },
           {
            "bin_start": 0.8,
            "bin_end": 0.9,
            "count": 0
           },
           {
            "bin_start": 0.9,
            "bin_end": 1,
            "count": 40
           }
          ]
         }
        },
        {
         "name": "29",
         "dtype": "float64",
         "stats": {
          "unique_count": 31,
          "nan_count": 0,
          "min": "0.0",
          "max": "1.0",
          "histogram": [
           {
            "bin_start": 0,
            "bin_end": 0.1,
            "count": 25
           },
           {
            "bin_start": 0.1,
            "bin_end": 0.2,
            "count": 0
           },
           {
            "bin_start": 0.2,
            "bin_end": 0.30000000000000004,
            "count": 17
           },
           {
            "bin_start": 0.30000000000000004,
            "bin_end": 0.4,
            "count": 0
           },
           {
            "bin_start": 0.4,
            "bin_end": 0.5,
            "count": 14
           },
           {
            "bin_start": 0.5,
            "bin_end": 0.6000000000000001,
            "count": 0
           },
           {
            "bin_start": 0.6000000000000001,
            "bin_end": 0.7000000000000001,
            "count": 0
           },
           {
            "bin_start": 0.7000000000000001,
            "bin_end": 0.8,
            "count": 0
           },
           {
            "bin_start": 0.8,
            "bin_end": 0.9,
            "count": 0
           },
           {
            "bin_start": 0.9,
            "bin_end": 1,
            "count": 4
           }
          ]
         }
        },
        {
         "name": "3",
         "dtype": "float64",
         "stats": {
          "unique_count": 26,
          "nan_count": 0,
          "min": "0.0",
          "max": "1.0",
          "histogram": [
           {
            "bin_start": 0,
            "bin_end": 0.1,
            "count": 6
           },
           {
            "bin_start": 0.1,
            "bin_end": 0.2,
            "count": 0
           },
           {
            "bin_start": 0.2,
            "bin_end": 0.30000000000000004,
            "count": 4
           },
           {
            "bin_start": 0.30000000000000004,
            "bin_end": 0.4,
            "count": 0
           },
           {
            "bin_start": 0.4,
            "bin_end": 0.5,
            "count": 0
           },
           {
            "bin_start": 0.5,
            "bin_end": 0.6000000000000001,
            "count": 10
           },
           {
            "bin_start": 0.6000000000000001,
            "bin_end": 0.7000000000000001,
            "count": 0
           },
           {
            "bin_start": 0.7000000000000001,
            "bin_end": 0.8,
            "count": 0
           },
           {
            "bin_start": 0.8,
            "bin_end": 0.9,
            "count": 0
           },
           {
            "bin_start": 0.9,
            "bin_end": 1,
            "count": 40
           }
          ]
         }
        },
        {
         "name": "30",
         "dtype": "float64",
         "stats": {
          "unique_count": 30,
          "nan_count": 0,
          "min": "0.0",
          "max": "1.0",
          "histogram": [
           {
            "bin_start": 0,
            "bin_end": 0.1,
            "count": 2
           },
           {
            "bin_start": 0.1,
            "bin_end": 0.2,
            "count": 0
           },
           {
            "bin_start": 0.2,
            "bin_end": 0.30000000000000004,
            "count": 25
           },
           {
            "bin_start": 0.30000000000000004,
            "bin_end": 0.4,
            "count": 0
           },
           {
            "bin_start": 0.4,
            "bin_end": 0.5,
            "count": 4
           },
           {
            "bin_start": 0.5,
            "bin_end": 0.6000000000000001,
            "count": 16
           },
           {
            "bin_start": 0.6000000000000001,
            "bin_end": 0.7000000000000001,
            "count": 0
           },
           {
            "bin_start": 0.7000000000000001,
            "bin_end": 0.8,
            "count": 0
           },
           {
            "bin_start": 0.8,
            "bin_end": 0.9,
            "count": 0
           },
           {
            "bin_start": 0.9,
            "bin_end": 1,
            "count": 13
           }
          ]
         }
        },
        {
         "name": "31",
         "dtype": "float64",
         "stats": {
          "unique_count": 25,
          "nan_count": 0,
          "min": "0.0",
          "max": "1.0",
          "histogram": [
           {
            "bin_start": 0,
            "bin_end": 0.1,
            "count": 6
           },
           {
            "bin_start": 0.1,
            "bin_end": 0.2,
            "count": 0
           },
           {
            "bin_start": 0.2,
            "bin_end": 0.30000000000000004,
            "count": 5
           },
           {
            "bin_start": 0.30000000000000004,
            "bin_end": 0.4,
            "count": 0
           },
           {
            "bin_start": 0.4,
            "bin_end": 0.5,
            "count": 0
           },
           {
            "bin_start": 0.5,
            "bin_end": 0.6000000000000001,
            "count": 9
           },
           {
            "bin_start": 0.6000000000000001,
            "bin_end": 0.7000000000000001,
            "count": 0
           },
           {
            "bin_start": 0.7000000000000001,
            "bin_end": 0.8,
            "count": 0
           },
           {
            "bin_start": 0.8,
            "bin_end": 0.9,
            "count": 0
           },
           {
            "bin_start": 0.9,
            "bin_end": 1,
            "count": 40
           }
          ]
         }
        },
        {
         "name": "32",
         "dtype": "float64",
         "stats": {
          "unique_count": 25,
          "nan_count": 0,
          "min": "0.0",
          "max": "1.0",
          "histogram": [
           {
            "bin_start": 0,
            "bin_end": 0.1,
            "count": 6
           },
           {
            "bin_start": 0.1,
            "bin_end": 0.2,
            "count": 0
           },
           {
            "bin_start": 0.2,
            "bin_end": 0.30000000000000004,
            "count": 5
           },
           {
            "bin_start": 0.30000000000000004,
            "bin_end": 0.4,
            "count": 0
           },
           {
            "bin_start": 0.4,
            "bin_end": 0.5,
            "count": 0
           },
           {
            "bin_start": 0.5,
            "bin_end": 0.6000000000000001,
            "count": 9
           },
           {
            "bin_start": 0.6000000000000001,
            "bin_end": 0.7000000000000001,
            "count": 0
           },
           {
            "bin_start": 0.7000000000000001,
            "bin_end": 0.8,
            "count": 0
           },
           {
            "bin_start": 0.8,
            "bin_end": 0.9,
            "count": 0
           },
           {
            "bin_start": 0.9,
            "bin_end": 1,
            "count": 40
           }
          ]
         }
        },
        {
         "name": "33",
         "dtype": "float64",
         "stats": {
          "unique_count": 25,
          "nan_count": 0,
          "min": "0.0",
          "max": "1.0",
          "histogram": [
           {
            "bin_start": 0,
            "bin_end": 0.1,
            "count": 6
           },
           {
            "bin_start": 0.1,
            "bin_end": 0.2,
            "count": 0
           },
           {
            "bin_start": 0.2,
            "bin_end": 0.30000000000000004,
            "count": 5
           },
           {
            "bin_start": 0.30000000000000004,
            "bin_end": 0.4,
            "count": 0
           },
           {
            "bin_start": 0.4,
            "bin_end": 0.5,
            "count": 0
           },
           {
            "bin_start": 0.5,
            "bin_end": 0.6000000000000001,
            "count": 9
           },
           {
            "bin_start": 0.6000000000000001,
            "bin_end": 0.7000000000000001,
            "count": 0
           },
           {
            "bin_start": 0.7000000000000001,
            "bin_end": 0.8,
            "count": 0
           },
           {
            "bin_start": 0.8,
            "bin_end": 0.9,
            "count": 0
           },
           {
            "bin_start": 0.9,
            "bin_end": 1,
            "count": 40
           }
          ]
         }
        },
        {
         "name": "34",
         "dtype": "float64",
         "stats": {
          "unique_count": 25,
          "nan_count": 0,
          "min": "0.0",
          "max": "1.0",
          "histogram": [
           {
            "bin_start": 0,
            "bin_end": 0.1,
            "count": 6
           },
           {
            "bin_start": 0.1,
            "bin_end": 0.2,
            "count": 0
           },
           {
            "bin_start": 0.2,
            "bin_end": 0.30000000000000004,
            "count": 5
           },
           {
            "bin_start": 0.30000000000000004,
            "bin_end": 0.4,
            "count": 0
           },
           {
            "bin_start": 0.4,
            "bin_end": 0.5,
            "count": 0
           },
           {
            "bin_start": 0.5,
            "bin_end": 0.6000000000000001,
            "count": 9
           },
           {
            "bin_start": 0.6000000000000001,
            "bin_end": 0.7000000000000001,
            "count": 0
           },
           {
            "bin_start": 0.7000000000000001,
            "bin_end": 0.8,
            "count": 0
           },
           {
            "bin_start": 0.8,
            "bin_end": 0.9,
            "count": 0
           },
           {
            "bin_start": 0.9,
            "bin_end": 1,
            "count": 40
           }
          ]
         }
        },
        {
         "name": "35",
         "dtype": "float64",
         "stats": {
          "unique_count": 25,
          "nan_count": 0,
          "min": "0.0",
          "max": "1.0",
          "histogram": [
           {
            "bin_start": 0,
            "bin_end": 0.1,
            "count": 6
           },
           {
            "bin_start": 0.1,
            "bin_end": 0.2,
            "count": 0
           },
           {
            "bin_start": 0.2,
            "bin_end": 0.30000000000000004,
            "count": 5
           },
           {
            "bin_start": 0.30000000000000004,
            "bin_end": 0.4,
            "count": 0
           },
           {
            "bin_start": 0.4,
            "bin_end": 0.5,
            "count": 0
           },
           {
            "bin_start": 0.5,
            "bin_end": 0.6000000000000001,
            "count": 9
           },
           {
            "bin_start": 0.6000000000000001,
            "bin_end": 0.7000000000000001,
            "count": 0
           },
           {
            "bin_start": 0.7000000000000001,
            "bin_end": 0.8,
            "count": 0
           },
           {
            "bin_start": 0.8,
            "bin_end": 0.9,
            "count": 0
           },
           {
            "bin_start": 0.9,
            "bin_end": 1,
            "count": 40
           }
          ]
         }
        },
        {
         "name": "36",
         "dtype": "float64",
         "stats": {
          "unique_count": 25,
          "nan_count": 0,
          "min": "0.0",
          "max": "1.0",
          "histogram": [
           {
            "bin_start": 0,
            "bin_end": 0.1,
            "count": 6
           },
           {
            "bin_start": 0.1,
            "bin_end": 0.2,
            "count": 0
           },
           {
            "bin_start": 0.2,
            "bin_end": 0.30000000000000004,
            "count": 5
           },
           {
            "bin_start": 0.30000000000000004,
            "bin_end": 0.4,
            "count": 0
           },
           {
            "bin_start": 0.4,
            "bin_end": 0.5,
            "count": 0
           },
           {
            "bin_start": 0.5,
            "bin_end": 0.6000000000000001,
            "count": 9
           },
           {
            "bin_start": 0.6000000000000001,
            "bin_end": 0.7000000000000001,
            "count": 0
           },
           {
            "bin_start": 0.7000000000000001,
            "bin_end": 0.8,
            "count": 0
           },
           {
            "bin_start": 0.8,
            "bin_end": 0.9,
            "count": 0
           },
           {
            "bin_start": 0.9,
            "bin_end": 1,
            "count": 40
           }
          ]
         }
        },
        {
         "name": "37",
         "dtype": "float64",
         "stats": {
          "unique_count": 25,
          "nan_count": 0,
          "min": "0.0",
          "max": "1.0",
          "histogram": [
           {
            "bin_start": 0,
            "bin_end": 0.1,
            "count": 6
           },
           {
            "bin_start": 0.1,
            "bin_end": 0.2,
            "count": 0
           },
           {
            "bin_start": 0.2,
            "bin_end": 0.30000000000000004,
            "count": 5
           },
           {
            "bin_start": 0.30000000000000004,
            "bin_end": 0.4,
            "count": 0
           },
           {
            "bin_start": 0.4,
            "bin_end": 0.5,
            "count": 0
           },
           {
            "bin_start": 0.5,
            "bin_end": 0.6000000000000001,
            "count": 9
           },
           {
            "bin_start": 0.6000000000000001,
            "bin_end": 0.7000000000000001,
            "count": 0
           },
           {
            "bin_start": 0.7000000000000001,
            "bin_end": 0.8,
            "count": 0
           },
           {
            "bin_start": 0.8,
            "bin_end": 0.9,
            "count": 0
           },
           {
            "bin_start": 0.9,
            "bin_end": 1,
            "count": 40
           }
          ]
         }
        },
        {
         "name": "38",
         "dtype": "float64",
         "stats": {
          "unique_count": 25,
          "nan_count": 0,
          "min": "0.0",
          "max": "1.0",
          "histogram": [
           {
            "bin_start": 0,
            "bin_end": 0.1,
            "count": 6
           },
           {
            "bin_start": 0.1,
            "bin_end": 0.2,
            "count": 0
           },
           {
            "bin_start": 0.2,
            "bin_end": 0.30000000000000004,
            "count": 5
           },
           {
            "bin_start": 0.30000000000000004,
            "bin_end": 0.4,
            "count": 0
           },
           {
            "bin_start": 0.4,
            "bin_end": 0.5,
            "count": 0
           },
           {
            "bin_start": 0.5,
            "bin_end": 0.6000000000000001,
            "count": 9
           },
           {
            "bin_start": 0.6000000000000001,
            "bin_end": 0.7000000000000001,
            "count": 0
           },
           {
            "bin_start": 0.7000000000000001,
            "bin_end": 0.8,
            "count": 0
           },
           {
            "bin_start": 0.8,
            "bin_end": 0.9,
            "count": 0
           },
           {
            "bin_start": 0.9,
            "bin_end": 1,
            "count": 40
           }
          ]
         }
        },
        {
         "name": "39",
         "dtype": "float64",
         "stats": {
          "unique_count": 25,
          "nan_count": 0,
          "min": "0.0",
          "max": "1.0",
          "histogram": [
           {
            "bin_start": 0,
            "bin_end": 0.1,
            "count": 6
           },
           {
            "bin_start": 0.1,
            "bin_end": 0.2,
            "count": 0
           },
           {
            "bin_start": 0.2,
            "bin_end": 0.30000000000000004,
            "count": 5
           },
           {
            "bin_start": 0.30000000000000004,
            "bin_end": 0.4,
            "count": 0
           },
           {
            "bin_start": 0.4,
            "bin_end": 0.5,
            "count": 0
           },
           {
            "bin_start": 0.5,
            "bin_end": 0.6000000000000001,
            "count": 9
           },
           {
            "bin_start": 0.6000000000000001,
            "bin_end": 0.7000000000000001,
            "count": 0
           },
           {
            "bin_start": 0.7000000000000001,
            "bin_end": 0.8,
            "count": 0
           },
           {
            "bin_start": 0.8,
            "bin_end": 0.9,
            "count": 0
           },
           {
            "bin_start": 0.9,
            "bin_end": 1,
            "count": 40
           }
          ]
         }
        },
        {
         "name": "4",
         "dtype": "float64",
         "stats": {
          "unique_count": 29,
          "nan_count": 0,
          "min": "0.0",
          "max": "1.0",
          "histogram": [
           {
            "bin_start": 0,
            "bin_end": 0.1,
            "count": 15
           },
           {
            "bin_start": 0.1,
            "bin_end": 0.2,
            "count": 0
           },
           {
            "bin_start": 0.2,
            "bin_end": 0.30000000000000004,
            "count": 27
           },
           {
            "bin_start": 0.30000000000000004,
            "bin_end": 0.4,
            "count": 0
           },
           {
            "bin_start": 0.4,
            "bin_end": 0.5,
            "count": 14
           },
           {
            "bin_start": 0.5,
            "bin_end": 0.6000000000000001,
            "count": 0
           },
           {
            "bin_start": 0.6000000000000001,
            "bin_end": 0.7000000000000001,
            "count": 0
           },
           {
            "bin_start": 0.7000000000000001,
            "bin_end": 0.8,
            "count": 0
           },
           {
            "bin_start": 0.8,
            "bin_end": 0.9,
            "count": 0
           },
           {
            "bin_start": 0.9,
            "bin_end": 1,
            "count": 4
           }
          ]
         }
        },
        {
         "name": "40",
         "dtype": "float64",
         "stats": {
          "unique_count": 25,
          "nan_count": 0,
          "min": "0.0",
          "max": "1.0",
          "histogram": [
           {
            "bin_start": 0,
            "bin_end": 0.1,
            "count": 7
           },
           {
            "bin_start": 0.1,
            "bin_end": 0.2,
            "count": 0
           },
           {
            "bin_start": 0.2,
            "bin_end": 0.30000000000000004,
            "count": 4
           },
           {
            "bin_start": 0.30000000000000004,
            "bin_end": 0.4,
            "count": 0
           },
           {
            "bin_start": 0.4,
            "bin_end": 0.5,
            "count": 0
           },
           {
            "bin_start": 0.5,
            "bin_end": 0.6000000000000001,
            "count": 9
           },
           {
            "bin_start": 0.6000000000000001,
            "bin_end": 0.7000000000000001,
            "count": 0
           },
           {
            "bin_start": 0.7000000000000001,
            "bin_end": 0.8,
            "count": 0
           },
           {
            "bin_start": 0.8,
            "bin_end": 0.9,
            "count": 0
           },
           {
            "bin_start": 0.9,
            "bin_end": 1,
            "count": 40
           }
          ]
         }
        },
        {
         "name": "41",
         "dtype": "float64",
         "stats": {
          "unique_count": 25,
          "nan_count": 0,
          "min": "0.0",
          "max": "1.0",
          "histogram": [
           {
            "bin_start": 0,
            "bin_end": 0.1,
            "count": 2
           },
           {
            "bin_start": 0.1,
            "bin_end": 0.2,
            "count": 0
           },
           {
            "bin_start": 0.2,
            "bin_end": 0.30000000000000004,
            "count": 15
           },
           {
            "bin_start": 0.30000000000000004,
            "bin_end": 0.4,
            "count": 0
           },
           {
            "bin_start": 0.4,
            "bin_end": 0.5,
            "count": 4
           },
           {
            "bin_start": 0.5,
            "bin_end": 0.6000000000000001,
            "count": 26
           },
           {
            "bin_start": 0.6000000000000001,
            "bin_end": 0.7000000000000001,
            "count": 0
           },
           {
            "bin_start": 0.7000000000000001,
            "bin_end": 0.8,
            "count": 0
           },
           {
            "bin_start": 0.8,
            "bin_end": 0.9,
            "count": 0
           },
           {
            "bin_start": 0.9,
            "bin_end": 1,
            "count": 13
           }
          ]
         }
        },
        {
         "name": "42",
         "dtype": "float64",
         "stats": {
          "unique_count": 29,
          "nan_count": 0,
          "min": "0.0",
          "max": "1.0",
          "histogram": [
           {
            "bin_start": 0,
            "bin_end": 0.1,
            "count": 2
           },
           {
            "bin_start": 0.1,
            "bin_end": 0.2,
            "count": 0
           },
           {
            "bin_start": 0.2,
            "bin_end": 0.30000000000000004,
            "count": 15
           },
           {
            "bin_start": 0.30000000000000004,
            "bin_end": 0.4,
            "count": 0
           },
           {
            "bin_start": 0.4,
            "bin_end": 0.5,
            "count": 4
           },
           {
            "bin_start": 0.5,
            "bin_end": 0.6000000000000001,
            "count": 26
           },
           {
            "bin_start": 0.6000000000000001,
            "bin_end": 0.7000000000000001,
            "count": 0
           },
           {
            "bin_start": 0.7000000000000001,
            "bin_end": 0.8,
            "count": 0
           },
           {
            "bin_start": 0.8,
            "bin_end": 0.9,
            "count": 0
           },
           {
            "bin_start": 0.9,
            "bin_end": 1,
            "count": 13
           }
          ]
         }
        },
        {
         "name": "43",
         "dtype": "float64",
         "stats": {
          "unique_count": 25,
          "nan_count": 0,
          "min": "0.0",
          "max": "1.0",
          "histogram": [
           {
            "bin_start": 0,
            "bin_end": 0.1,
            "count": 7
           },
           {
            "bin_start": 0.1,
            "bin_end": 0.2,
            "count": 0
           },
           {
            "bin_start": 0.2,
            "bin_end": 0.30000000000000004,
            "count": 6
           },
           {
            "bin_start": 0.30000000000000004,
            "bin_end": 0.4,
            "count": 0
           },
           {
            "bin_start": 0.4,
            "bin_end": 0.5,
            "count": 0
           },
           {
            "bin_start": 0.5,
            "bin_end": 0.6000000000000001,
            "count": 7
           },
           {
            "bin_start": 0.6000000000000001,
            "bin_end": 0.7000000000000001,
            "count": 0
           },
           {
            "bin_start": 0.7000000000000001,
            "bin_end": 0.8,
            "count": 0
           },
           {
            "bin_start": 0.8,
            "bin_end": 0.9,
            "count": 0
           },
           {
            "bin_start": 0.9,
            "bin_end": 1,
            "count": 40
           }
          ]
         }
        },
        {
         "name": "44",
         "dtype": "float64",
         "stats": {
          "unique_count": 22,
          "nan_count": 0,
          "min": "0.0",
          "max": "1.0",
          "histogram": [
           {
            "bin_start": 0,
            "bin_end": 0.1,
            "count": 7
           },
           {
            "bin_start": 0.1,
            "bin_end": 0.2,
            "count": 0
           },
           {
            "bin_start": 0.2,
            "bin_end": 0.30000000000000004,
            "count": 6
           },
           {
            "bin_start": 0.30000000000000004,
            "bin_end": 0.4,
            "count": 0
           },
           {
            "bin_start": 0.4,
            "bin_end": 0.5,
            "count": 0
           },
           {
            "bin_start": 0.5,
            "bin_end": 0.6000000000000001,
            "count": 7
           },
           {
            "bin_start": 0.6000000000000001,
            "bin_end": 0.7000000000000001,
            "count": 0
           },
           {
            "bin_start": 0.7000000000000001,
            "bin_end": 0.8,
            "count": 0
           },
           {
            "bin_start": 0.8,
            "bin_end": 0.9,
            "count": 0
           },
           {
            "bin_start": 0.9,
            "bin_end": 1,
            "count": 40
           }
          ]
         }
        },
        {
         "name": "45",
         "dtype": "float64",
         "stats": {
          "unique_count": 25,
          "nan_count": 0,
          "min": "0.0",
          "max": "1.0",
          "histogram": [
           {
            "bin_start": 0,
            "bin_end": 0.1,
            "count": 7
           },
           {
            "bin_start": 0.1,
            "bin_end": 0.2,
            "count": 0
           },
           {
            "bin_start": 0.2,
            "bin_end": 0.30000000000000004,
            "count": 6
           },
           {
            "bin_start": 0.30000000000000004,
            "bin_end": 0.4,
            "count": 0
           },
           {
            "bin_start": 0.4,
            "bin_end": 0.5,
            "count": 0
           },
           {
            "bin_start": 0.5,
            "bin_end": 0.6000000000000001,
            "count": 7
           },
           {
            "bin_start": 0.6000000000000001,
            "bin_end": 0.7000000000000001,
            "count": 0
           },
           {
            "bin_start": 0.7000000000000001,
            "bin_end": 0.8,
            "count": 0
           },
           {
            "bin_start": 0.8,
            "bin_end": 0.9,
            "count": 0
           },
           {
            "bin_start": 0.9,
            "bin_end": 1,
            "count": 40
           }
          ]
         }
        },
        {
         "name": "46",
         "dtype": "float64",
         "stats": {
          "unique_count": 22,
          "nan_count": 0,
          "min": "0.0",
          "max": "1.0",
          "histogram": [
           {
            "bin_start": 0,
            "bin_end": 0.1,
            "count": 46
           },
           {
            "bin_start": 0.1,
            "bin_end": 0.2,
            "count": 0
           },
           {
            "bin_start": 0.2,
            "bin_end": 0.30000000000000004,
            "count": 9
           },
           {
            "bin_start": 0.30000000000000004,
            "bin_end": 0.4,
            "count": 2
           },
           {
            "bin_start": 0.4,
            "bin_end": 0.5,
            "count": 0
           },
           {
            "bin_start": 0.5,
            "bin_end": 0.6000000000000001,
            "count": 0
           },
           {
            "bin_start": 0.6000000000000001,
            "bin_end": 0.7000000000000001,
            "count": 0
           },
           {
            "bin_start": 0.7000000000000001,
            "bin_end": 0.8,
            "count": 0
           },
           {
            "bin_start": 0.8,
            "bin_end": 0.9,
            "count": 0
           },
           {
            "bin_start": 0.9,
            "bin_end": 1,
            "count": 3
           }
          ]
         }
        },
        {
         "name": "47",
         "dtype": "float64",
         "stats": {
          "unique_count": 24,
          "nan_count": 0,
          "min": "0.0",
          "max": "1.0",
          "histogram": [
           {
            "bin_start": 0,
            "bin_end": 0.1,
            "count": 7
           },
           {
            "bin_start": 0.1,
            "bin_end": 0.2,
            "count": 0
           },
           {
            "bin_start": 0.2,
            "bin_end": 0.30000000000000004,
            "count": 6
           },
           {
            "bin_start": 0.30000000000000004,
            "bin_end": 0.4,
            "count": 0
           },
           {
            "bin_start": 0.4,
            "bin_end": 0.5,
            "count": 0
           },
           {
            "bin_start": 0.5,
            "bin_end": 0.6000000000000001,
            "count": 7
           },
           {
            "bin_start": 0.6000000000000001,
            "bin_end": 0.7000000000000001,
            "count": 0
           },
           {
            "bin_start": 0.7000000000000001,
            "bin_end": 0.8,
            "count": 0
           },
           {
            "bin_start": 0.8,
            "bin_end": 0.9,
            "count": 0
           },
           {
            "bin_start": 0.9,
            "bin_end": 1,
            "count": 40
           }
          ]
         }
        },
        {
         "name": "48",
         "dtype": "float64",
         "stats": {
          "unique_count": 30,
          "nan_count": 0,
          "min": "0.0",
          "max": "1.0",
          "histogram": [
           {
            "bin_start": 0,
            "bin_end": 0.1,
            "count": 1
           },
           {
            "bin_start": 0.1,
            "bin_end": 0.2,
            "count": 0
           },
           {
            "bin_start": 0.2,
            "bin_end": 0.30000000000000004,
            "count": 12
           },
           {
            "bin_start": 0.30000000000000004,
            "bin_end": 0.4,
            "count": 0
           },
           {
            "bin_start": 0.4,
            "bin_end": 0.5,
            "count": 4
           },
           {
            "bin_start": 0.5,
            "bin_end": 0.6000000000000001,
            "count": 30
           },
           {
            "bin_start": 0.6000000000000001,
            "bin_end": 0.7000000000000001,
            "count": 0
           },
           {
            "bin_start": 0.7000000000000001,
            "bin_end": 0.8,
            "count": 0
           },
           {
            "bin_start": 0.8,
            "bin_end": 0.9,
            "count": 0
           },
           {
            "bin_start": 0.9,
            "bin_end": 1,
            "count": 13
           }
          ]
         }
        },
        {
         "name": "49",
         "dtype": "float64",
         "stats": {
          "unique_count": 30,
          "nan_count": 0,
          "min": "0.0",
          "max": "1.0",
          "histogram": [
           {
            "bin_start": 0,
            "bin_end": 0.1,
            "count": 1
           },
           {
            "bin_start": 0.1,
            "bin_end": 0.2,
            "count": 0
           },
           {
            "bin_start": 0.2,
            "bin_end": 0.30000000000000004,
            "count": 12
           },
           {
            "bin_start": 0.30000000000000004,
            "bin_end": 0.4,
            "count": 0
           },
           {
            "bin_start": 0.4,
            "bin_end": 0.5,
            "count": 4
           },
           {
            "bin_start": 0.5,
            "bin_end": 0.6000000000000001,
            "count": 30
           },
           {
            "bin_start": 0.6000000000000001,
            "bin_end": 0.7000000000000001,
            "count": 0
           },
           {
            "bin_start": 0.7000000000000001,
            "bin_end": 0.8,
            "count": 0
           },
           {
            "bin_start": 0.8,
            "bin_end": 0.9,
            "count": 0
           },
           {
            "bin_start": 0.9,
            "bin_end": 1,
            "count": 13
           }
          ]
         }
        },
        {
         "name": "5",
         "dtype": "float64",
         "stats": {
          "unique_count": 28,
          "nan_count": 0,
          "min": "0.0",
          "max": "1.0",
          "histogram": [
           {
            "bin_start": 0,
            "bin_end": 0.1,
            "count": 1
           },
           {
            "bin_start": 0.1,
            "bin_end": 0.2,
            "count": 0
           },
           {
            "bin_start": 0.2,
            "bin_end": 0.30000000000000004,
            "count": 11
           },
           {
            "bin_start": 0.30000000000000004,
            "bin_end": 0.4,
            "count": 1
           },
           {
            "bin_start": 0.4,
            "bin_end": 0.5,
            "count": 4
           },
           {
            "bin_start": 0.5,
            "bin_end": 0.6000000000000001,
            "count": 30
           },
           {
            "bin_start": 0.6000000000000001,
            "bin_end": 0.7000000000000001,
            "count": 0
           },
           {
            "bin_start": 0.7000000000000001,
            "bin_end": 0.8,
            "count": 0
           },
           {
            "bin_start": 0.8,
            "bin_end": 0.9,
            "count": 0
           },
           {
            "bin_start": 0.9,
            "bin_end": 1,
            "count": 13
           }
          ]
         }
        },
        {
         "name": "50",
         "dtype": "float64",
         "stats": {
          "unique_count": 24,
          "nan_count": 0,
          "min": "0.0",
          "max": "1.0",
          "histogram": [
           {
            "bin_start": 0,
            "bin_end": 0.1,
            "count": 7
           },
           {
            "bin_start": 0.1,
            "bin_end": 0.2,
            "count": 0
           },
           {
            "bin_start": 0.2,
            "bin_end": 0.30000000000000004,
            "count": 9
           },
           {
            "bin_start": 0.30000000000000004,
            "bin_end": 0.4,
            "count": 0
           },
           {
            "bin_start": 0.4,
            "bin_end": 0.5,
            "count": 0
           },
           {
            "bin_start": 0.5,
            "bin_end": 0.6000000000000001,
            "count": 4
           },
           {
            "bin_start": 0.6000000000000001,
            "bin_end": 0.7000000000000001,
            "count": 0
           },
           {
            "bin_start": 0.7000000000000001,
            "bin_end": 0.8,
            "count": 0
           },
           {
            "bin_start": 0.8,
            "bin_end": 0.9,
            "count": 0
           },
           {
            "bin_start": 0.9,
            "bin_end": 1,
            "count": 40
           }
          ]
         }
        },
        {
         "name": "51",
         "dtype": "float64",
         "stats": {
          "unique_count": 30,
          "nan_count": 0,
          "min": "0.0",
          "max": "1.0",
          "histogram": [
           {
            "bin_start": 0,
            "bin_end": 0.1,
            "count": 1
           },
           {
            "bin_start": 0.1,
            "bin_end": 0.2,
            "count": 0
           },
           {
            "bin_start": 0.2,
            "bin_end": 0.30000000000000004,
            "count": 11
           },
           {
            "bin_start": 0.30000000000000004,
            "bin_end": 0.4,
            "count": 0
           },
           {
            "bin_start": 0.4,
            "bin_end": 0.5,
            "count": 4
           },
           {
            "bin_start": 0.5,
            "bin_end": 0.6000000000000001,
            "count": 31
           },
           {
            "bin_start": 0.6000000000000001,
            "bin_end": 0.7000000000000001,
            "count": 0
           },
           {
            "bin_start": 0.7000000000000001,
            "bin_end": 0.8,
            "count": 0
           },
           {
            "bin_start": 0.8,
            "bin_end": 0.9,
            "count": 0
           },
           {
            "bin_start": 0.9,
            "bin_end": 1,
            "count": 13
           }
          ]
         }
        },
        {
         "name": "52",
         "dtype": "float64",
         "stats": {
          "unique_count": 13,
          "nan_count": 0,
          "min": "0.0",
          "max": "1.0",
          "histogram": [
           {
            "bin_start": 0,
            "bin_end": 0.1,
            "count": 50
           },
           {
            "bin_start": 0.1,
            "bin_end": 0.2,
            "count": 0
           },
           {
            "bin_start": 0.2,
            "bin_end": 0.30000000000000004,
            "count": 7
           },
           {
            "bin_start": 0.30000000000000004,
            "bin_end": 0.4,
            "count": 0
           },
           {
            "bin_start": 0.4,
            "bin_end": 0.5,
            "count": 0
           },
           {
            "bin_start": 0.5,
            "bin_end": 0.6000000000000001,
            "count": 0
           },
           {
            "bin_start": 0.6000000000000001,
            "bin_end": 0.7000000000000001,
            "count": 0
           },
           {
            "bin_start": 0.7000000000000001,
            "bin_end": 0.8,
            "count": 0
           },
           {
            "bin_start": 0.8,
            "bin_end": 0.9,
            "count": 0
           },
           {
            "bin_start": 0.9,
            "bin_end": 1,
            "count": 3
           }
          ]
         }
        },
        {
         "name": "53",
         "dtype": "float64",
         "stats": {
          "unique_count": 30,
          "nan_count": 0,
          "min": "0.2956682189614269",
          "max": "1.0",
          "histogram": [
           {
            "bin_start": 0.2956682189614269,
            "bin_end": 0.3661013970652842,
            "count": 12
           },
           {
            "bin_start": 0.3661013970652842,
            "bin_end": 0.4365345751691415,
            "count": 4
           },
           {
            "bin_start": 0.4365345751691415,
            "bin_end": 0.5069677532729988,
            "count": 31
           },
           {
            "bin_start": 0.5069677532729988,
            "bin_end": 0.5774009313768562,
            "count": 0
           },
           {
            "bin_start": 0.5774009313768562,
            "bin_end": 0.6478341094807134,
            "count": 0
           },
           {
            "bin_start": 0.6478341094807134,
            "bin_end": 0.7182672875845708,
            "count": 0
           },
           {
            "bin_start": 0.7182672875845708,
            "bin_end": 0.7887004656884281,
            "count": 0
           },
           {
            "bin_start": 0.7887004656884281,
            "bin_end": 0.8591336437922854,
            "count": 0
           },
           {
            "bin_start": 0.8591336437922854,
            "bin_end": 0.9295668218961427,
            "count": 0
           },
           {
            "bin_start": 0.9295668218961427,
            "bin_end": 1,
            "count": 13
           }
          ]
         }
        },
        {
         "name": "54",
         "dtype": "float64",
         "stats": {
          "unique_count": 25,
          "nan_count": 0,
          "min": "0.0",
          "max": "1.0",
          "histogram": [
           {
            "bin_start": 0,
            "bin_end": 0.1,
            "count": 7
           },
           {
            "bin_start": 0.1,
            "bin_end": 0.2,
            "count": 0
           },
           {
            "bin_start": 0.2,
            "bin_end": 0.30000000000000004,
            "count": 11
           },
           {
            "bin_start": 0.30000000000000004,
            "bin_end": 0.4,
            "count": 0
           },
           {
            "bin_start": 0.4,
            "bin_end": 0.5,
            "count": 0
           },
           {
            "bin_start": 0.5,
            "bin_end": 0.6000000000000001,
            "count": 2
           },
           {
            "bin_start": 0.6000000000000001,
            "bin_end": 0.7000000000000001,
            "count": 0
           },
           {
            "bin_start": 0.7000000000000001,
            "bin_end": 0.8,
            "count": 0
           },
           {
            "bin_start": 0.8,
            "bin_end": 0.9,
            "count": 0
           },
           {
            "bin_start": 0.9,
            "bin_end": 1,
            "count": 40
           }
          ]
         }
        },
        {
         "name": "55",
         "dtype": "float64",
         "stats": {
          "unique_count": 24,
          "nan_count": 0,
          "min": "0.0",
          "max": "1.0",
          "histogram": [
           {
            "bin_start": 0,
            "bin_end": 0.1,
            "count": 7
           },
           {
            "bin_start": 0.1,
            "bin_end": 0.2,
            "count": 0
           },
           {
            "bin_start": 0.2,
            "bin_end": 0.30000000000000004,
            "count": 11
           },
           {
            "bin_start": 0.30000000000000004,
            "bin_end": 0.4,
            "count": 0
           },
           {
            "bin_start": 0.4,
            "bin_end": 0.5,
            "count": 0
           },
           {
            "bin_start": 0.5,
            "bin_end": 0.6000000000000001,
            "count": 2
           },
           {
            "bin_start": 0.6000000000000001,
            "bin_end": 0.7000000000000001,
            "count": 0
           },
           {
            "bin_start": 0.7000000000000001,
            "bin_end": 0.8,
            "count": 0
           },
           {
            "bin_start": 0.8,
            "bin_end": 0.9,
            "count": 0
           },
           {
            "bin_start": 0.9,
            "bin_end": 1,
            "count": 40
           }
          ]
         }
        },
        {
         "name": "56",
         "dtype": "float64",
         "stats": {
          "unique_count": 24,
          "nan_count": 0,
          "min": "0.0",
          "max": "1.0",
          "histogram": [
           {
            "bin_start": 0,
            "bin_end": 0.1,
            "count": 7
           },
           {
            "bin_start": 0.1,
            "bin_end": 0.2,
            "count": 0
           },
           {
            "bin_start": 0.2,
            "bin_end": 0.30000000000000004,
            "count": 11
           },
           {
            "bin_start": 0.30000000000000004,
            "bin_end": 0.4,
            "count": 0
           },
           {
            "bin_start": 0.4,
            "bin_end": 0.5,
            "count": 0
           },
           {
            "bin_start": 0.5,
            "bin_end": 0.6000000000000001,
            "count": 2
           },
           {
            "bin_start": 0.6000000000000001,
            "bin_end": 0.7000000000000001,
            "count": 0
           },
           {
            "bin_start": 0.7000000000000001,
            "bin_end": 0.8,
            "count": 0
           },
           {
            "bin_start": 0.8,
            "bin_end": 0.9,
            "count": 0
           },
           {
            "bin_start": 0.9,
            "bin_end": 1,
            "count": 40
           }
          ]
         }
        },
        {
         "name": "57",
         "dtype": "float64",
         "stats": {
          "unique_count": 29,
          "nan_count": 0,
          "min": "0.29611735769501046",
          "max": "1.0",
          "histogram": [
           {
            "bin_start": 0.29611735769501046,
            "bin_end": 0.3665056219255094,
            "count": 9
           },
           {
            "bin_start": 0.3665056219255094,
            "bin_end": 0.4368938861560084,
            "count": 4
           },
           {
            "bin_start": 0.4368938861560084,
            "bin_end": 0.5072821503865074,
            "count": 34
           },
           {
            "bin_start": 0.5072821503865074,
            "bin_end": 0.5776704146170063,
            "count": 0
           },
           {
            "bin_start": 0.5776704146170063,
            "bin_end": 0.6480586788475052,
            "count": 0
           },
           {
            "bin_start": 0.6480586788475052,
            "bin_end": 0.7184469430780043,
            "count": 0
           },
           {
            "bin_start": 0.7184469430780043,
            "bin_end": 0.7888352073085032,
            "count": 0
           },
           {
            "bin_start": 0.7888352073085032,
            "bin_end": 0.8592234715390021,
            "count": 0
           },
           {
            "bin_start": 0.8592234715390021,
            "bin_end": 0.9296117357695011,
            "count": 0
           },
           {
            "bin_start": 0.9296117357695011,
            "bin_end": 1,
            "count": 13
           }
          ]
         }
        },
        {
         "name": "58",
         "dtype": "float64",
         "stats": {
          "unique_count": 25,
          "nan_count": 0,
          "min": "0.0",
          "max": "1.0",
          "histogram": [
           {
            "bin_start": 0,
            "bin_end": 0.1,
            "count": 7
           },
           {
            "bin_start": 0.1,
            "bin_end": 0.2,
            "count": 0
           },
           {
            "bin_start": 0.2,
            "bin_end": 0.30000000000000004,
            "count": 12
           },
           {
            "bin_start": 0.30000000000000004,
            "bin_end": 0.4,
            "count": 0
           },
           {
            "bin_start": 0.4,
            "bin_end": 0.5,
            "count": 0
           },
           {
            "bin_start": 0.5,
            "bin_end": 0.6000000000000001,
            "count": 1
           },
           {
            "bin_start": 0.6000000000000001,
            "bin_end": 0.7000000000000001,
            "count": 0
           },
           {
            "bin_start": 0.7000000000000001,
            "bin_end": 0.8,
            "count": 0
           },
           {
            "bin_start": 0.8,
            "bin_end": 0.9,
            "count": 0
           },
           {
            "bin_start": 0.9,
            "bin_end": 1,
            "count": 40
           }
          ]
         }
        },
        {
         "name": "59",
         "dtype": "float64",
         "stats": {
          "unique_count": 28,
          "nan_count": 0,
          "min": "0.29477846942511887",
          "max": "1.0",
          "histogram": [
           {
            "bin_start": 0.29477846942511887,
            "bin_end": 0.365300622482607,
            "count": 8
           },
           {
            "bin_start": 0.365300622482607,
            "bin_end": 0.4358227755400951,
            "count": 4
           },
           {
            "bin_start": 0.4358227755400951,
            "bin_end": 0.5063449285975832,
            "count": 35
           },
           {
            "bin_start": 0.5063449285975832,
            "bin_end": 0.5768670816550714,
            "count": 0
           },
           {
            "bin_start": 0.5768670816550714,
            "bin_end": 0.6473892347125594,
            "count": 0
           },
           {
            "bin_start": 0.6473892347125594,
            "bin_end": 0.7179113877700476,
            "count": 0
           },
           {
            "bin_start": 0.7179113877700476,
            "bin_end": 0.7884335408275357,
            "count": 0
           },
           {
            "bin_start": 0.7884335408275357,
            "bin_end": 0.8589556938850238,
            "count": 0
           },
           {
            "bin_start": 0.8589556938850238,
            "bin_end": 0.9294778469425119,
            "count": 0
           },
           {
            "bin_start": 0.9294778469425119,
            "bin_end": 1,
            "count": 13
           }
          ]
         }
        },
        {
         "name": "6",
         "dtype": "float64",
         "stats": {
          "unique_count": 24,
          "nan_count": 0,
          "min": "0.0",
          "max": "1.0",
          "histogram": [
           {
            "bin_start": 0,
            "bin_end": 0.1,
            "count": 7
           },
           {
            "bin_start": 0.1,
            "bin_end": 0.2,
            "count": 0
           },
           {
            "bin_start": 0.2,
            "bin_end": 0.30000000000000004,
            "count": 13
           },
           {
            "bin_start": 0.30000000000000004,
            "bin_end": 0.4,
            "count": 0
           },
           {
            "bin_start": 0.4,
            "bin_end": 0.5,
            "count": 0
           },
           {
            "bin_start": 0.5,
            "bin_end": 0.6000000000000001,
            "count": 0
           },
           {
            "bin_start": 0.6000000000000001,
            "bin_end": 0.7000000000000001,
            "count": 0
           },
           {
            "bin_start": 0.7000000000000001,
            "bin_end": 0.8,
            "count": 0
           },
           {
            "bin_start": 0.8,
            "bin_end": 0.9,
            "count": 0
           },
           {
            "bin_start": 0.9,
            "bin_end": 1,
            "count": 40
           }
          ]
         }
        },
        {
         "name": "60",
         "dtype": "float64",
         "stats": {
          "unique_count": 24,
          "nan_count": 0,
          "min": "0.0",
          "max": "1.0",
          "histogram": [
           {
            "bin_start": 0,
            "bin_end": 0.1,
            "count": 7
           },
           {
            "bin_start": 0.1,
            "bin_end": 0.2,
            "count": 0
           },
           {
            "bin_start": 0.2,
            "bin_end": 0.30000000000000004,
            "count": 13
           },
           {
            "bin_start": 0.30000000000000004,
            "bin_end": 0.4,
            "count": 0
           },
           {
            "bin_start": 0.4,
            "bin_end": 0.5,
            "count": 0
           },
           {
            "bin_start": 0.5,
            "bin_end": 0.6000000000000001,
            "count": 0
           },
           {
            "bin_start": 0.6000000000000001,
            "bin_end": 0.7000000000000001,
            "count": 0
           },
           {
            "bin_start": 0.7000000000000001,
            "bin_end": 0.8,
            "count": 0
           },
           {
            "bin_start": 0.8,
            "bin_end": 0.9,
            "count": 0
           },
           {
            "bin_start": 0.9,
            "bin_end": 1,
            "count": 40
           }
          ]
         }
        },
        {
         "name": "7",
         "dtype": "float64",
         "stats": {
          "unique_count": 24,
          "nan_count": 0,
          "min": "0.0",
          "max": "1.0",
          "histogram": [
           {
            "bin_start": 0,
            "bin_end": 0.1,
            "count": 7
           },
           {
            "bin_start": 0.1,
            "bin_end": 0.2,
            "count": 0
           },
           {
            "bin_start": 0.2,
            "bin_end": 0.30000000000000004,
            "count": 13
           },
           {
            "bin_start": 0.30000000000000004,
            "bin_end": 0.4,
            "count": 0
           },
           {
            "bin_start": 0.4,
            "bin_end": 0.5,
            "count": 0
           },
           {
            "bin_start": 0.5,
            "bin_end": 0.6000000000000001,
            "count": 0
           },
           {
            "bin_start": 0.6000000000000001,
            "bin_end": 0.7000000000000001,
            "count": 0
           },
           {
            "bin_start": 0.7000000000000001,
            "bin_end": 0.8,
            "count": 0
           },
           {
            "bin_start": 0.8,
            "bin_end": 0.9,
            "count": 0
           },
           {
            "bin_start": 0.9,
            "bin_end": 1,
            "count": 40
           }
          ]
         }
        },
        {
         "name": "8",
         "dtype": "float64",
         "stats": {
          "unique_count": 25,
          "nan_count": 0,
          "min": "0.0",
          "max": "1.0",
          "histogram": [
           {
            "bin_start": 0,
            "bin_end": 0.1,
            "count": 7
           },
           {
            "bin_start": 0.1,
            "bin_end": 0.2,
            "count": 0
           },
           {
            "bin_start": 0.2,
            "bin_end": 0.30000000000000004,
            "count": 13
           },
           {
            "bin_start": 0.30000000000000004,
            "bin_end": 0.4,
            "count": 0
           },
           {
            "bin_start": 0.4,
            "bin_end": 0.5,
            "count": 0
           },
           {
            "bin_start": 0.5,
            "bin_end": 0.6000000000000001,
            "count": 0
           },
           {
            "bin_start": 0.6000000000000001,
            "bin_end": 0.7000000000000001,
            "count": 0
           },
           {
            "bin_start": 0.7000000000000001,
            "bin_end": 0.8,
            "count": 0
           },
           {
            "bin_start": 0.8,
            "bin_end": 0.9,
            "count": 0
           },
           {
            "bin_start": 0.9,
            "bin_end": 1,
            "count": 40
           }
          ]
         }
        },
        {
         "name": "9",
         "dtype": "float64",
         "stats": {
          "unique_count": 25,
          "nan_count": 0,
          "min": "0.0",
          "max": "1.0",
          "histogram": [
           {
            "bin_start": 0,
            "bin_end": 0.1,
            "count": 7
           },
           {
            "bin_start": 0.1,
            "bin_end": 0.2,
            "count": 0
           },
           {
            "bin_start": 0.2,
            "bin_end": 0.30000000000000004,
            "count": 13
           },
           {
            "bin_start": 0.30000000000000004,
            "bin_end": 0.4,
            "count": 0
           },
           {
            "bin_start": 0.4,
            "bin_end": 0.5,
            "count": 0
           },
           {
            "bin_start": 0.5,
            "bin_end": 0.6000000000000001,
            "count": 0
           },
           {
            "bin_start": 0.6000000000000001,
            "bin_end": 0.7000000000000001,
            "count": 0
           },
           {
            "bin_start": 0.7000000000000001,
            "bin_end": 0.8,
            "count": 0
           },
           {
            "bin_start": 0.8,
            "bin_end": 0.9,
            "count": 0
           },
           {
            "bin_start": 0.9,
            "bin_end": 1,
            "count": 40
           }
          ]
         }
        },
        {
         "name": "_deepnote_index_column",
         "dtype": "object"
        }
       ],
       "rows_top": [
        {
         "1": 1,
         "2": 0.9999589575210343,
         "3": 0.9999179150420685,
         "4": 0.29912784732197817,
         "5": 0.5060948081264108,
         "6": 0.9999589575210343,
         "7": 0.9999589575210343,
         "8": 1,
         "9": 1,
         "10": 0.5065975784937409,
         "11": 0.2990457623640467,
         "12": 0.9999589575210343,
         "13": 1,
         "14": 0.9999179150420685,
         "15": 0.299076544223271,
         "16": 0.5059614200697722,
         "17": 1,
         "18": 1,
         "19": 1,
         "20": 0.0011286681715574343,
         "21": 1,
         "22": 1,
         "23": 0.5062794992817565,
         "24": 0.9998358300841371,
         "25": 1,
         "26": 1,
         "27": 1,
         "28": 1,
         "29": 0.2992407141391339,
         "30": 0.5064641904371023,
         "31": 0.9998358300841371,
         "32": 1,
         "33": 1,
         "34": 1,
         "35": 1,
         "36": 1,
         "37": 1,
         "38": 1,
         "39": 1,
         "40": 1,
         "41": 0.5068233121280525,
         "42": 0.5063102811409809,
         "43": 1,
         "44": 0.9997537451262056,
         "45": 1,
         "46": 0.000020521239482818032,
         "47": 0.9998768725631028,
         "48": 0.5062487174225323,
         "49": 0.5065360147752923,
         "50": 0.9998768725631028,
         "51": 0.5067104453108966,
         "52": 0,
         "53": 0.5065667966345168,
         "54": 1,
         "55": 0.9999179150420685,
         "56": 0.9999179150420685,
         "57": 0.5067514877898625,
         "58": 1,
         "59": 0.506002462548738,
         "60": 0.9998768725631028,
         "_deepnote_index_column": "1"
        },
        {
         "1": 0.5065975784937409,
         "2": 0.2958016664470119,
         "3": 0.29577237915330423,
         "4": 0.4098903190850649,
         "5": 0.9959729971152016,
         "6": 0.2958016664470119,
         "7": 0.2958016664470119,
         "8": 0.29583095374071955,
         "9": 0.29583095374071955,
         "10": 1,
         "11": 0.4100074682598954,
         "12": 0.2958016664470119,
         "13": 0.29583095374071955,
         "14": 0.29577237915330423,
         "15": 0.4099342500256262,
         "16": 0.9972469943914832,
         "17": 0.29583095374071955,
         "18": 0.29583095374071955,
         "19": 0.29583095374071955,
         "20": 0.000468596699321866,
         "21": 0.29583095374071955,
         "22": 0.29583095374071955,
         "23": 0.9981109695558582,
         "24": 0.295713804565889,
         "25": 0.29583095374071955,
         "26": 0.29583095374071955,
         "27": 0.29583095374071955,
         "28": 0.29583095374071955,
         "29": 0.41019783566899504,
         "30": 0.9986967154300107,
         "31": 0.295713804565889,
         "32": 0.29583095374071955,
         "33": 0.29583095374071955,
         "34": 0.29583095374071955,
         "35": 0.29583095374071955,
         "36": 0.29583095374071955,
         "37": 0.29583095374071955,
         "38": 0.29583095374071955,
         "39": 0.29583095374071955,
         "40": 0.29583095374071955,
         "41": 0.9907159278946829,
         "42": 0.9942596904333055,
         "43": 0.29583095374071955,
         "44": 0.2956552299784738,
         "45": 0.29583095374071955,
         "46": 0.0002928729370761385,
         "47": 0.2957430918595966,
         "48": 0.9980084640278815,
         "49": 0.9988870828391102,
         "50": 0.2957430918595966,
         "51": 0.999136024835625,
         "52": 0,
         "53": 0.9998974944720234,
         "54": 0.29583095374071955,
         "55": 0.29577237915330423,
         "56": 0.29577237915330423,
         "57": 0.9994288977727013,
         "58": 0.29583095374071955,
         "59": 0.996251226405424,
         "60": 0.2957430918595966,
         "_deepnote_index_column": "10"
        },
        {
         "1": 0.2990457623640467,
         "2": 0.00008781815786784719,
         "3": 0.000058545438578527786,
         "4": 0.9995023637720826,
         "5": 0.40633461645419544,
         "6": 0.00008781815786784719,
         "7": 0.00008781815786784719,
         "8": 0.00011709087715705557,
         "9": 0.00011709087715705557,
         "10": 0.4100074682598954,
         "11": 1,
         "12": 0.00008781815786784719,
         "13": 0.00011709087715705557,
         "14": 0.000058545438578527786,
         "15": 0.9997804546053305,
         "16": 0.4089252521112948,
         "17": 0.00011709087715705557,
         "18": 0.00011709087715705557,
         "19": 0.00011709087715705557,
         "20": 0.2769784699149628,
         "21": 0.00011709087715705557,
         "22": 0.00011709087715705557,
         "23": 0.4084129795237329,
         "24": 0.000058545438578527786,
         "25": 0.00011709087715705557,
         "26": 0.00011709087715705557,
         "27": 0.00011709087715705557,
         "28": 0.00011709087715705557,
         "29": 0.9973800916236113,
         "30": 0.40899843390951807,
         "31": 0.000058545438578527786,
         "32": 0.00011709087715705557,
         "33": 0.00011709087715705557,
         "34": 0.00011709087715705557,
         "35": 0.00011709087715705557,
         "36": 0.00011709087715705557,
         "37": 0.00011709087715705557,
         "38": 0.00011709087715705557,
         "39": 0.00011709087715705557,
         "40": 0.00011709087715705557,
         "41": 0.40151925413111245,
         "42": 0.4049148895686666,
         "43": 0.00011709087715705557,
         "44": 0,
         "45": 0.00011709087715705557,
         "46": 0.27803228780937594,
         "47": 0.00008781815786784719,
         "48": 0.408369070444799,
         "49": 0.4093643429006337,
         "50": 0.00008781815786784719,
         "51": 0.40987661548819576,
         "52": 0.27847137859871485,
         "53": 0.41031570627753466,
         "54": 0.00011709087715705557,
         "55": 0.00011709087715705557,
         "56": 0.00011709087715705557,
         "57": 0.4101986154003776,
         "58": 0.00011709087715705557,
         "59": 0.4066127072874435,
         "60": 0.00008781815786784719,
         "_deepnote_index_column": "11"
        },
        {
         "1": 0.9999589575210343,
         "2": 1,
         "3": 0.9999589575210343,
         "4": 0.29910732608249546,
         "5": 0.506074286886928,
         "6": 1,
         "7": 1,
         "8": 0.9999589575210343,
         "9": 0.9999589575210343,
         "10": 0.2958016664470119,
         "11": 0.00008781815786784719,
         "12": 1,
         "13": 0.9999589575210343,
         "14": 0.9999589575210343,
         "15": 0.2990560229837882,
         "16": 0.5059614200697722,
         "17": 0.9999589575210343,
         "18": 0.9999589575210343,
         "19": 0.9999589575210343,
         "20": 0.0011286681715576563,
         "21": 0.9999589575210343,
         "22": 0.9999589575210343,
         "23": 0.5063000205212395,
         "24": 0.9997947876051714,
         "25": 0.9999589575210343,
         "26": 0.9999589575210343,
         "27": 0.9999589575210343,
         "28": 0.9999589575210343,
         "29": 0.29926123537861693,
         "30": 0.5064436691976195,
         "31": 0.9997947876051714,
         "32": 0.9999589575210343,
         "33": 0.9999589575210343,
         "34": 0.9999589575210343,
         "35": 0.9999589575210343,
         "36": 0.9999589575210343,
         "37": 0.9999589575210343,
         "38": 0.9999589575210343,
         "39": 0.9999589575210343,
         "40": 0.9999589575210343,
         "41": 0.5068233121280525,
         "42": 0.5063308023804639,
         "43": 0.9999589575210343,
         "44": 0.9997127026472399,
         "45": 0.9999589575210343,
         "46": 0.000020521239482818032,
         "47": 0.999835830084137,
         "48": 0.5062281961830495,
         "49": 0.5065565360147753,
         "50": 0.999835830084137,
         "51": 0.5067309665503796,
         "52": 0,
         "53": 0.5065462753950339,
         "54": 0.9999589575210343,
         "55": 0.9998768725631028,
         "56": 0.9998768725631028,
         "57": 0.5067309665503797,
         "58": 0.9999589575210343,
         "59": 0.505981941309255,
         "60": 0.999835830084137,
         "_deepnote_index_column": "12"
        },
        {
         "1": 1,
         "2": 0.9999589575210343,
         "3": 0.9999179150420685,
         "4": 0.29912784732197817,
         "5": 0.5060948081264108,
         "6": 0.9999589575210343,
         "7": 0.9999589575210343,
         "8": 1,
         "9": 1,
         "10": 0.29583095374071955,
         "11": 0.00011709087715705557,
         "12": 0.9999589575210343,
         "13": 1,
         "14": 0.9999179150420685,
         "15": 0.299076544223271,
         "16": 0.5059614200697722,
         "17": 1,
         "18": 1,
         "19": 1,
         "20": 0.0011286681715574343,
         "21": 1,
         "22": 1,
         "23": 0.5062794992817565,
         "24": 0.9998358300841371,
         "25": 1,
         "26": 1,
         "27": 1,
         "28": 1,
         "29": 0.2992407141391339,
         "30": 0.5064641904371023,
         "31": 0.9998358300841371,
         "32": 1,
         "33": 1,
         "34": 1,
         "35": 1,
         "36": 1,
         "37": 1,
         "38": 1,
         "39": 1,
         "40": 1,
         "41": 0.5068233121280525,
         "42": 0.5063102811409809,
         "43": 1,
         "44": 0.9997537451262056,
         "45": 1,
         "46": 0.000020521239482818032,
         "47": 0.9998768725631028,
         "48": 0.5062487174225323,
         "49": 0.5065360147752923,
         "50": 0.9998768725631028,
         "51": 0.5067104453108966,
         "52": 0,
         "53": 0.5065667966345168,
         "54": 1,
         "55": 0.9999179150420685,
         "56": 0.9999179150420685,
         "57": 0.5067514877898625,
         "58": 1,
         "59": 0.506002462548738,
         "60": 0.9998768725631028,
         "_deepnote_index_column": "13"
        },
        {
         "1": 0.9999179150420685,
         "2": 0.9999589575210343,
         "3": 1,
         "4": 0.29908680484301253,
         "5": 0.5060537656474451,
         "6": 0.9999589575210343,
         "7": 0.9999589575210343,
         "8": 0.9999179150420685,
         "9": 0.9999179150420685,
         "10": 0.29577237915330423,
         "11": 0.000058545438578527786,
         "12": 0.9999589575210343,
         "13": 0.9999179150420685,
         "14": 1,
         "15": 0.2990355017443054,
         "16": 0.5059408988302894,
         "17": 0.9999179150420685,
         "18": 0.9999179150420685,
         "19": 0.9999179150420685,
         "20": 0.0011286681715576563,
         "21": 0.9999179150420685,
         "22": 0.9999179150420685,
         "23": 0.5063205417607223,
         "24": 0.9997537451262056,
         "25": 0.9999179150420685,
         "26": 0.9999179150420685,
         "27": 0.9999179150420685,
         "28": 0.9999179150420685,
         "29": 0.29928175661809975,
         "30": 0.5064231479581367,
         "31": 0.9997537451262056,
         "32": 0.9999179150420685,
         "33": 0.9999179150420685,
         "34": 0.9999179150420685,
         "35": 0.9999179150420685,
         "36": 0.9999179150420685,
         "37": 0.9999179150420685,
         "38": 0.9999179150420685,
         "39": 0.9999179150420685,
         "40": 0.9999179150420685,
         "41": 0.5068233121280525,
         "42": 0.5063513236199466,
         "43": 0.9999179150420685,
         "44": 0.9996716601682741,
         "45": 0.9999179150420685,
         "46": 0.000020521239482818032,
         "47": 0.9997947876051714,
         "48": 0.5062076749435667,
         "49": 0.5065770572542583,
         "50": 0.9997947876051714,
         "51": 0.5067514877898626,
         "52": 0,
         "53": 0.506525754155551,
         "54": 0.9999179150420685,
         "55": 0.999835830084137,
         "56": 0.999835830084137,
         "57": 0.5067104453108968,
         "58": 0.9999179150420685,
         "59": 0.5059614200697722,
         "60": 0.9997947876051714,
         "_deepnote_index_column": "14"
        },
        {
         "1": 0.299076544223271,
         "2": 0.00011709259096626123,
         "3": 0.00008781944322477919,
         "4": 0.999721905096455,
         "5": 0.40625274435760084,
         "6": 0.00011709259096626123,
         "7": 0.00011709259096626123,
         "8": 0.00014636573870796532,
         "9": 0.00014636573870796532,
         "10": 0.4099342500256262,
         "11": 0.9997804546053305,
         "12": 0.2990560229837882,
         "13": 0.299076544223271,
         "14": 0.2990355017443054,
         "15": 1,
         "16": 0.40896051052369664,
         "17": 0.00014636573870796532,
         "18": 0.00014636573870796532,
         "19": 0.00014636573870796532,
         "20": 0.27707034337402314,
         "21": 0.00014636573870796532,
         "22": 0.00014636573870796532,
         "23": 0.4083311378472526,
         "24": 0.00005854629548318613,
         "25": 0.00014636573870796532,
         "26": 0.00014636573870796532,
         "27": 0.00014636573870796532,
         "28": 0.00014636573870796532,
         "29": 0.9973068704077749,
         "30": 0.40891660080208436,
         "31": 0.00005854629548318613,
         "32": 0.00014636573870796532,
         "33": 0.00014636573870796532,
         "34": 0.00014636573870796532,
         "35": 0.00014636573870796532,
         "36": 0.00014636573870796532,
         "37": 0.00014636573870796532,
         "38": 0.00014636573870796532,
         "39": 0.00014636573870796532,
         "40": 0.00014636573870796532,
         "41": 0.4015544041450777,
         "42": 0.40483299669213435,
         "43": 0.00014636573870796532,
         "44": 0,
         "45": 0.00014636573870796532,
         "46": 0.2781241766927197,
         "47": 0.00008781944322477919,
         "48": 0.40828722812564033,
         "49": 0.40928251514885405,
         "50": 0.00008781944322477919,
         "51": 0.4097947952343315,
         "52": 0.2785632739088434,
         "53": 0.4102338924504554,
         "54": 0.00014636573870796532,
         "55": 0.00011709259096626123,
         "56": 0.00011709259096626123,
         "57": 0.4101167998594889,
         "58": 0.00014636573870796532,
         "59": 0.40653083926114575,
         "60": 0.00008781944322477919,
         "_deepnote_index_column": "15"
        },
        {
         "1": 0.5059614200697722,
         "2": 0.2947784694251191,
         "3": 0.2947491761259613,
         "4": 0.4085389967045039,
         "5": 0.995825704870011,
         "6": 0.2947784694251191,
         "7": 0.2947784694251191,
         "8": 0.2947784694251191,
         "9": 0.2947784694251191,
         "10": 0.9972469943914832,
         "11": 0.4089252521112948,
         "12": 0.5059614200697722,
         "13": 0.5059614200697722,
         "14": 0.5059408988302894,
         "15": 0.40896051052369664,
         "16": 1,
         "17": 0.2947784694251191,
         "18": 0.2947784694251191,
         "19": 0.2947784694251191,
         "20": 0.0001464664957890882,
         "21": 0.2947784694251191,
         "22": 0.2947784694251191,
         "23": 0.9960600512632736,
         "24": 0.2946612962284878,
         "25": 0.2947784694251191,
         "26": 0.2947784694251191,
         "27": 0.2947784694251191,
         "28": 0.2947784694251191,
         "29": 0.40738191138777013,
         "30": 0.9963236909556938,
         "31": 0.2946612962284878,
         "32": 0.2947784694251191,
         "33": 0.2947784694251191,
         "34": 0.2947784694251191,
         "35": 0.2947784694251191,
         "36": 0.2947784694251191,
         "37": 0.2947784694251191,
         "38": 0.2947784694251191,
         "39": 0.2947784694251191,
         "40": 0.2947784694251191,
         "41": 0.9924130355181252,
         "42": 0.9943756865616991,
         "43": 0.2947784694251191,
         "44": 0.2946027096301722,
         "45": 0.2947784694251191,
         "46": 0,
         "47": 0.2946905895276456,
         "48": 0.9962211644086415,
         "49": 0.9961625778103259,
         "50": 0.2946905895276456,
         "51": 0.9964115708531673,
         "52": 0.000263639692420492,
         "53": 0.9973489564262175,
         "54": 0.2947784694251191,
         "55": 0.2947198828268035,
         "56": 0.2947198828268035,
         "57": 0.9966752105455877,
         "58": 0.2947784694251191,
         "59": 0.9961039912120102,
         "60": 0.2946905895276456,
         "_deepnote_index_column": "16"
        }
       ],
       "rows_bottom": [
        {
         "1": 0.5067514877898625,
         "2": 0.5067309665503797,
         "3": 0.5067104453108968,
         "4": 0.410046985465244,
         "5": 0.9960736052508204,
         "6": 0.29617591941906773,
         "7": 0.29617591941906773,
         "8": 0.2962052002810962,
         "9": 0.2962052002810962,
         "10": 0.9994288977727013,
         "11": 0.4101986154003776,
         "12": 0.5067309665503797,
         "13": 0.5067514877898625,
         "14": 0.5067104453108968,
         "15": 0.4101167998594889,
         "16": 0.9966752105455877,
         "17": 0.5067514877898625,
         "18": 0.5067514877898625,
         "19": 0.5067514877898625,
         "20": 0.2989214175654853,
         "21": 0.5067514877898625,
         "22": 0.5067514877898625,
         "23": 0.9982136581937449,
         "24": 0.5066694028319311,
         "25": 0.5067514877898625,
         "26": 0.5067514877898625,
         "27": 0.5067514877898625,
         "28": 0.5067514877898625,
         "29": 0.41090355448849325,
         "30": 0.9987991330326285,
         "31": 0.5066694028319311,
         "32": 0.5067514877898625,
         "33": 0.5067514877898625,
         "34": 0.5067514877898625,
         "35": 0.5067514877898625,
         "36": 0.5067514877898625,
         "37": 0.5067514877898625,
         "38": 0.5067514877898625,
         "39": 0.5067514877898625,
         "40": 0.5067514877898625,
         "41": 0.990469498001669,
         "42": 0.9940096957979994,
         "43": 0.5067514877898625,
         "44": 0.5066283603529653,
         "45": 0.5067514877898625,
         "46": 0.29934946335857504,
         "47": 0.5066899240714139,
         "48": 0.9981109695558582,
         "49": 0.9991362019237808,
         "50": 0.5066899240714139,
         "51": 0.9996779293786965,
         "52": 0.2991586291812026,
         "53": 0.9993263626512023,
         "54": 0.5067514877898625,
         "55": 0.5067104453108968,
         "56": 0.5067104453108968,
         "57": 1,
         "58": 0.2962052002810962,
         "59": 0.996354532677442,
         "60": 0.29611735769501046,
         "_deepnote_index_column": "57"
        },
        {
         "1": 1,
         "2": 0.9999589575210343,
         "3": 0.9999179150420685,
         "4": 0.0001756465990426781,
         "5": 0.29477262072198784,
         "6": 0.9999589575210343,
         "7": 0.9999589575210343,
         "8": 1,
         "9": 1,
         "10": 0.29583095374071955,
         "11": 0.00011709087715705557,
         "12": 0.9999589575210343,
         "13": 1,
         "14": 0.9999179150420685,
         "15": 0.00014636573870796532,
         "16": 0.2947784694251191,
         "17": 1,
         "18": 1,
         "19": 1,
         "20": 0,
         "21": 1,
         "22": 1,
         "23": 0.2954492210378352,
         "24": 0.9998358300841371,
         "25": 1,
         "26": 1,
         "27": 1,
         "28": 1,
         "29": 0.00017567488434733214,
         "30": 0.29558901060277676,
         "31": 0.9998358300841371,
         "32": 1,
         "33": 1,
         "34": 1,
         "35": 1,
         "36": 1,
         "37": 1,
         "38": 1,
         "39": 1,
         "40": 1,
         "41": 0.2963385890172311,
         "42": 0.29529709858371056,
         "43": 1,
         "44": 0.9997537451262056,
         "45": 1,
         "46": 2.220446049250313e-16,
         "47": 0.9998768725631028,
         "48": 0.29533306974769,
         "49": 0.2958874427184749,
         "50": 0.9998768725631028,
         "51": 0.29618785500966205,
         "52": 2.220446049250313e-16,
         "53": 0.29575608470257453,
         "54": 1,
         "55": 0.9999179150420685,
         "56": 0.9999179150420685,
         "57": 0.2962052002810962,
         "58": 1,
         "59": 0.506002462548738,
         "60": 0.9998768725631028,
         "_deepnote_index_column": "58"
        },
        {
         "1": 0.506002462548738,
         "2": 0.505981941309255,
         "3": 0.5059614200697722,
         "4": 0.40643159296828113,
         "5": 0.999311415846226,
         "6": 0.29480776272427667,
         "7": 0.29480776272427667,
         "8": 0.2948370560234347,
         "9": 0.2948370560234347,
         "10": 0.996251226405424,
         "11": 0.4066127072874435,
         "12": 0.505981941309255,
         "13": 0.506002462548738,
         "14": 0.5059614200697722,
         "15": 0.40653083926114575,
         "16": 0.9961039912120102,
         "17": 0.506002462548738,
         "18": 0.506002462548738,
         "19": 0.506002462548738,
         "20": 0.2998356445814073,
         "21": 0.506002462548738,
         "22": 0.506002462548738,
         "23": 0.9976718987934872,
         "24": 0.5059408988302894,
         "25": 0.506002462548738,
         "26": 0.506002462548738,
         "27": 0.506002462548738,
         "28": 0.506002462548738,
         "29": 0.40860514141828197,
         "30": 0.997554331907914,
         "31": 0.5059408988302894,
         "32": 0.506002462548738,
         "33": 0.506002462548738,
         "34": 0.506002462548738,
         "35": 0.506002462548738,
         "36": 0.506002462548738,
         "37": 0.506002462548738,
         "38": 0.506002462548738,
         "39": 0.506002462548738,
         "40": 0.506002462548738,
         "41": 0.9927972242961922,
         "42": 0.9963091524232172,
         "43": 0.506002462548738,
         "44": 0.5058998563513236,
         "45": 0.506002462548738,
         "46": 0.30005746064971583,
         "47": 0.5059614200697722,
         "48": 0.9982134750838348,
         "49": 0.9966033702765618,
         "50": 0.5059614200697722,
         "51": 0.9964425835919658,
         "52": 0.29945618715370426,
         "53": 0.9962364174208476,
         "54": 0.506002462548738,
         "55": 0.505981941309255,
         "56": 0.505981941309255,
         "57": 0.996354532677442,
         "58": 0.506002462548738,
         "59": 1,
         "60": 0.29477846942511887,
         "_deepnote_index_column": "59"
        },
        {
         "1": 0.9999589575210343,
         "2": 1,
         "3": 0.9999589575210343,
         "4": 0.00014637216586899093,
         "5": 0.29474331926863573,
         "6": 1,
         "7": 1,
         "8": 0.9999589575210343,
         "9": 0.9999589575210343,
         "10": 0.2958016664470119,
         "11": 0.00008781815786784719,
         "12": 1,
         "13": 0.9999589575210343,
         "14": 0.9999589575210343,
         "15": 0.00011709259096626123,
         "16": 0.2947784694251191,
         "17": 0.9999589575210343,
         "18": 0.9999589575210343,
         "19": 0.9999589575210343,
         "20": 0,
         "21": 0.9999589575210343,
         "22": 0.9999589575210343,
         "23": 0.29547850532974096,
         "24": 0.9997947876051714,
         "25": 0.9999589575210343,
         "26": 0.9999589575210343,
         "27": 0.9999589575210343,
         "28": 0.9999589575210343,
         "29": 0.00020495403173859117,
         "30": 0.2955597211645481,
         "31": 0.9997947876051714,
         "32": 0.9999589575210343,
         "33": 0.9999589575210343,
         "34": 0.9999589575210343,
         "35": 0.9999589575210343,
         "36": 0.9999589575210343,
         "37": 0.9999589575210343,
         "38": 0.9999589575210343,
         "39": 0.9999589575210343,
         "40": 0.9999589575210343,
         "41": 0.2963385890172311,
         "42": 0.2953263910247962,
         "43": 0.9999589575210343,
         "44": 0.9997127026472399,
         "45": 0.9999589575210343,
         "46": 0,
         "47": 0.999835830084137,
         "48": 0.29530378245398237,
         "49": 0.2959167240091942,
         "50": 0.999835830084137,
         "51": 0.2962171341570533,
         "52": 0,
         "53": 0.295726796122192,
         "54": 0.9999589575210343,
         "55": 0.9998768725631028,
         "56": 0.9998768725631028,
         "57": 0.29617591941906773,
         "58": 0.9999589575210343,
         "59": 0.29480776272427667,
         "60": 0.999835830084137,
         "_deepnote_index_column": "6"
        },
        {
         "1": 0.9998768725631028,
         "2": 0.999835830084137,
         "3": 0.9997947876051714,
         "4": 0.00008782329952128354,
         "5": 0.2947140178152836,
         "6": 0.999835830084137,
         "7": 0.999835830084137,
         "8": 0.9998768725631028,
         "9": 0.9998768725631028,
         "10": 0.2957430918595966,
         "11": 0.00008781815786784719,
         "12": 0.999835830084137,
         "13": 0.9998768725631028,
         "14": 0.9997947876051714,
         "15": 0.00008781944322477919,
         "16": 0.2946905895276456,
         "17": 0.9998768725631028,
         "18": 0.9998768725631028,
         "19": 0.9998768725631028,
         "20": 0,
         "21": 0.9998768725631028,
         "22": 0.9998768725631028,
         "23": 0.2953613681621178,
         "24": 0.9999589575210343,
         "25": 0.9998768725631028,
         "26": 0.9998768725631028,
         "27": 0.9998768725631028,
         "28": 0.9998768725631028,
         "29": 0.00008783744217355505,
         "30": 0.295501142288091,
         "31": 0.9999589575210343,
         "32": 0.9998768725631028,
         "33": 0.9998768725631028,
         "34": 0.9998768725631028,
         "35": 0.9998768725631028,
         "36": 0.9998768725631028,
         "37": 0.9998768725631028,
         "38": 0.9998768725631028,
         "39": 0.9998768725631028,
         "40": 0.9998768725631028,
         "41": 0.29630930944119926,
         "42": 0.2952092212604538,
         "43": 0.9998768725631028,
         "44": 0.9998768725631029,
         "45": 0.9998768725631028,
         "46": 0,
         "47": 1,
         "48": 0.29524520786656716,
         "49": 0.2957995988463171,
         "50": 1,
         "51": 0.2961000175674884,
         "52": 0,
         "53": 0.2956682189614269,
         "54": 0.9998768725631028,
         "55": 0.9999589575210343,
         "56": 0.9999589575210343,
         "57": 0.29611735769501046,
         "58": 0.9998768725631028,
         "59": 0.29477846942511887,
         "60": 1,
         "_deepnote_index_column": "60"
        },
        {
         "1": 0.9999589575210343,
         "2": 1,
         "3": 0.9999589575210343,
         "4": 0.00014637216586899093,
         "5": 0.29474331926863573,
         "6": 1,
         "7": 1,
         "8": 0.9999589575210343,
         "9": 0.9999589575210343,
         "10": 0.2958016664470119,
         "11": 0.00008781815786784719,
         "12": 1,
         "13": 0.9999589575210343,
         "14": 0.9999589575210343,
         "15": 0.00011709259096626123,
         "16": 0.2947784694251191,
         "17": 0.9999589575210343,
         "18": 0.9999589575210343,
         "19": 0.9999589575210343,
         "20": 0,
         "21": 0.9999589575210343,
         "22": 0.9999589575210343,
         "23": 0.29547850532974096,
         "24": 0.9997947876051714,
         "25": 0.9999589575210343,
         "26": 0.9999589575210343,
         "27": 0.9999589575210343,
         "28": 0.9999589575210343,
         "29": 0.00020495403173859117,
         "30": 0.2955597211645481,
         "31": 0.9997947876051714,
         "32": 0.9999589575210343,
         "33": 0.9999589575210343,
         "34": 0.9999589575210343,
         "35": 0.9999589575210343,
         "36": 0.9999589575210343,
         "37": 0.9999589575210343,
         "38": 0.9999589575210343,
         "39": 0.9999589575210343,
         "40": 0.9999589575210343,
         "41": 0.2963385890172311,
         "42": 0.2953263910247962,
         "43": 0.9999589575210343,
         "44": 0.9997127026472399,
         "45": 0.9999589575210343,
         "46": 0,
         "47": 0.999835830084137,
         "48": 0.29530378245398237,
         "49": 0.2959167240091942,
         "50": 0.999835830084137,
         "51": 0.2962171341570533,
         "52": 0,
         "53": 0.295726796122192,
         "54": 0.9999589575210343,
         "55": 0.9998768725631028,
         "56": 0.9998768725631028,
         "57": 0.29617591941906773,
         "58": 0.9999589575210343,
         "59": 0.29480776272427667,
         "60": 0.999835830084137,
         "_deepnote_index_column": "7"
        },
        {
         "1": 1,
         "2": 0.9999589575210343,
         "3": 0.9999179150420685,
         "4": 0.0001756465990426781,
         "5": 0.29477262072198784,
         "6": 0.9999589575210343,
         "7": 0.9999589575210343,
         "8": 1,
         "9": 1,
         "10": 0.29583095374071955,
         "11": 0.00011709087715705557,
         "12": 0.9999589575210343,
         "13": 1,
         "14": 0.9999179150420685,
         "15": 0.00014636573870796532,
         "16": 0.2947784694251191,
         "17": 1,
         "18": 1,
         "19": 1,
         "20": 0,
         "21": 1,
         "22": 1,
         "23": 0.2954492210378352,
         "24": 0.9998358300841371,
         "25": 1,
         "26": 1,
         "27": 1,
         "28": 1,
         "29": 0.00017567488434733214,
         "30": 0.29558901060277676,
         "31": 0.9998358300841371,
         "32": 1,
         "33": 1,
         "34": 1,
         "35": 1,
         "36": 1,
         "37": 1,
         "38": 1,
         "39": 1,
         "40": 1,
         "41": 0.2963385890172311,
         "42": 0.29529709858371056,
         "43": 1,
         "44": 0.9997537451262056,
         "45": 1,
         "46": 2.220446049250313e-16,
         "47": 0.9998768725631028,
         "48": 0.29533306974769,
         "49": 0.2958874427184749,
         "50": 0.9998768725631028,
         "51": 0.29618785500966205,
         "52": 2.220446049250313e-16,
         "53": 0.29575608470257453,
         "54": 1,
         "55": 0.9999179150420685,
         "56": 0.9999179150420685,
         "57": 0.2962052002810962,
         "58": 1,
         "59": 0.2948370560234347,
         "60": 0.9998768725631028,
         "_deepnote_index_column": "8"
        },
        {
         "1": 1,
         "2": 0.9999589575210343,
         "3": 0.9999179150420685,
         "4": 0.0001756465990426781,
         "5": 0.29477262072198784,
         "6": 0.9999589575210343,
         "7": 0.9999589575210343,
         "8": 1,
         "9": 1,
         "10": 0.29583095374071955,
         "11": 0.00011709087715705557,
         "12": 0.9999589575210343,
         "13": 1,
         "14": 0.9999179150420685,
         "15": 0.00014636573870796532,
         "16": 0.2947784694251191,
         "17": 1,
         "18": 1,
         "19": 1,
         "20": 0,
         "21": 1,
         "22": 1,
         "23": 0.2954492210378352,
         "24": 0.9998358300841371,
         "25": 1,
         "26": 1,
         "27": 1,
         "28": 1,
         "29": 0.00017567488434733214,
         "30": 0.29558901060277676,
         "31": 0.9998358300841371,
         "32": 1,
         "33": 1,
         "34": 1,
         "35": 1,
         "36": 1,
         "37": 1,
         "38": 1,
         "39": 1,
         "40": 1,
         "41": 0.2963385890172311,
         "42": 0.29529709858371056,
         "43": 1,
         "44": 0.9997537451262056,
         "45": 1,
         "46": 2.220446049250313e-16,
         "47": 0.9998768725631028,
         "48": 0.29533306974769,
         "49": 0.2958874427184749,
         "50": 0.9998768725631028,
         "51": 0.29618785500966205,
         "52": 2.220446049250313e-16,
         "53": 0.29575608470257453,
         "54": 1,
         "55": 0.9999179150420685,
         "56": 0.9999179150420685,
         "57": 0.2962052002810962,
         "58": 1,
         "59": 0.2948370560234347,
         "60": 0.9998768725631028,
         "_deepnote_index_column": "9"
        }
       ]
      },
      "text/plain": "           1        10        11        12        13        14        15  \\\n1   1.000000  0.506598  0.299046  0.999959  1.000000  0.999918  0.299077   \n10  0.506598  1.000000  0.410007  0.295802  0.295831  0.295772  0.409934   \n11  0.299046  0.410007  1.000000  0.000088  0.000117  0.000059  0.999780   \n12  0.999959  0.295802  0.000088  1.000000  0.999959  0.999959  0.299056   \n13  1.000000  0.295831  0.000117  0.999959  1.000000  0.999918  0.299077   \n14  0.999918  0.295772  0.000059  0.999959  0.999918  1.000000  0.299036   \n15  0.299077  0.409934  0.999780  0.299056  0.299077  0.299036  1.000000   \n16  0.505961  0.997247  0.408925  0.505961  0.505961  0.505941  0.408961   \n17  1.000000  0.295831  0.000117  0.999959  1.000000  0.999918  0.000146   \n18  1.000000  0.295831  0.000117  0.999959  1.000000  0.999918  0.000146   \n19  1.000000  0.295831  0.000117  0.999959  1.000000  0.999918  0.000146   \n2   0.999959  0.295802  0.000088  1.000000  0.999959  0.999959  0.000117   \n20  0.001129  0.000469  0.276978  0.001129  0.001129  0.001129  0.277070   \n21  1.000000  0.295831  0.000117  0.999959  1.000000  0.999918  0.000146   \n22  1.000000  0.295831  0.000117  0.999959  1.000000  0.999918  0.000146   \n23  0.506279  0.998111  0.408413  0.506300  0.506279  0.506321  0.408331   \n24  0.999836  0.295714  0.000059  0.999795  0.999836  0.999754  0.000059   \n25  1.000000  0.295831  0.000117  0.999959  1.000000  0.999918  0.000146   \n26  1.000000  0.295831  0.000117  0.999959  1.000000  0.999918  0.000146   \n27  1.000000  0.295831  0.000117  0.999959  1.000000  0.999918  0.000146   \n28  1.000000  0.295831  0.000117  0.999959  1.000000  0.999918  0.000146   \n29  0.299241  0.410198  0.997380  0.299261  0.299241  0.299282  0.997307   \n3   0.999918  0.295772  0.000059  0.999959  0.999918  1.000000  0.000088   \n30  0.506464  0.998697  0.408998  0.506444  0.506464  0.506423  0.408917   \n31  0.999836  0.295714  0.000059  0.999795  0.999836  0.999754  0.000059   \n32  1.000000  0.295831  0.000117  0.999959  1.000000  0.999918  0.000146   \n33  1.000000  0.295831  0.000117  0.999959  1.000000  0.999918  0.000146   \n34  1.000000  0.295831  0.000117  0.999959  1.000000  0.999918  0.000146   \n35  1.000000  0.295831  0.000117  0.999959  1.000000  0.999918  0.000146   \n36  1.000000  0.295831  0.000117  0.999959  1.000000  0.999918  0.000146   \n37  1.000000  0.295831  0.000117  0.999959  1.000000  0.999918  0.000146   \n38  1.000000  0.295831  0.000117  0.999959  1.000000  0.999918  0.000146   \n39  1.000000  0.295831  0.000117  0.999959  1.000000  0.999918  0.000146   \n4   0.299128  0.409890  0.999502  0.299107  0.299128  0.299087  0.999722   \n40  1.000000  0.295831  0.000117  0.999959  1.000000  0.999918  0.000146   \n41  0.506823  0.990716  0.401519  0.506823  0.506823  0.506823  0.401554   \n42  0.506310  0.994260  0.404915  0.506331  0.506310  0.506351  0.404833   \n43  1.000000  0.295831  0.000117  0.999959  1.000000  0.999918  0.000146   \n44  0.999754  0.295655  0.000000  0.999713  0.999754  0.999672  0.000000   \n45  1.000000  0.295831  0.000117  0.999959  1.000000  0.999918  0.000146   \n46  0.000021  0.000293  0.278032  0.000021  0.000021  0.000021  0.278124   \n47  0.999877  0.295743  0.000088  0.999836  0.999877  0.999795  0.000088   \n48  0.506249  0.998008  0.408369  0.506228  0.506249  0.506208  0.408287   \n49  0.506536  0.998887  0.409364  0.506557  0.506536  0.506577  0.409283   \n5   0.506095  0.995973  0.406335  0.506074  0.506095  0.506054  0.406253   \n50  0.999877  0.295743  0.000088  0.999836  0.999877  0.999795  0.000088   \n51  0.506710  0.999136  0.409877  0.506731  0.506710  0.506751  0.409795   \n52  0.000000  0.000000  0.278471  0.000000  0.000000  0.000000  0.278563   \n53  0.506567  0.999897  0.410316  0.506546  0.506567  0.506526  0.410234   \n54  1.000000  0.295831  0.000117  0.999959  1.000000  0.999918  0.000146   \n55  0.999918  0.295772  0.000117  0.999877  0.999918  0.999836  0.000117   \n56  0.999918  0.295772  0.000117  0.999877  0.999918  0.999836  0.000117   \n57  0.506751  0.999429  0.410199  0.506731  0.506751  0.506710  0.410117   \n58  1.000000  0.295831  0.000117  0.999959  1.000000  0.999918  0.000146   \n59  0.506002  0.996251  0.406613  0.505982  0.506002  0.505961  0.406531   \n6   0.999959  0.295802  0.000088  1.000000  0.999959  0.999959  0.000117   \n60  0.999877  0.295743  0.000088  0.999836  0.999877  0.999795  0.000088   \n7   0.999959  0.295802  0.000088  1.000000  0.999959  0.999959  0.000117   \n8   1.000000  0.295831  0.000117  0.999959  1.000000  0.999918  0.000146   \n9   1.000000  0.295831  0.000117  0.999959  1.000000  0.999918  0.000146   \n\n          16        17        18  ...        55        56        57  \\\n1   0.505961  1.000000  1.000000  ...  0.999918  0.999918  0.506751   \n10  0.997247  0.295831  0.295831  ...  0.295772  0.295772  0.999429   \n11  0.408925  0.000117  0.000117  ...  0.000117  0.000117  0.410199   \n12  0.505961  0.999959  0.999959  ...  0.999877  0.999877  0.506731   \n13  0.505961  1.000000  1.000000  ...  0.999918  0.999918  0.506751   \n14  0.505941  0.999918  0.999918  ...  0.999836  0.999836  0.506710   \n15  0.408961  0.000146  0.000146  ...  0.000117  0.000117  0.410117   \n16  1.000000  0.294778  0.294778  ...  0.294720  0.294720  0.996675   \n17  0.294778  1.000000  1.000000  ...  0.999918  0.999918  0.506751   \n18  0.294778  1.000000  1.000000  ...  0.999918  0.999918  0.506751   \n19  0.294778  1.000000  1.000000  ...  0.999918  0.999918  0.506751   \n2   0.294778  0.999959  0.999959  ...  0.999877  0.999877  0.506731   \n20  0.000146  0.001129  0.001129  ...  0.000000  0.000000  0.298921   \n21  0.294778  1.000000  1.000000  ...  0.999918  0.999918  0.506751   \n22  0.294778  1.000000  1.000000  ...  0.999918  0.999918  0.506751   \n23  0.996060  0.506279  0.506279  ...  0.295391  0.295391  0.998214   \n24  0.294661  0.999836  0.999836  ...  0.999918  0.999918  0.506669   \n25  0.294778  1.000000  1.000000  ...  0.999918  0.999918  0.506751   \n26  0.294778  1.000000  1.000000  ...  0.999918  0.999918  0.506751   \n27  0.294778  1.000000  1.000000  ...  0.999918  0.999918  0.506751   \n28  0.294778  1.000000  1.000000  ...  0.999918  0.999918  0.506751   \n29  0.407382  0.299241  0.299241  ...  0.000117  0.000117  0.410904   \n3   0.294749  0.999918  0.999918  ...  0.999836  0.999836  0.506710   \n30  0.996324  0.506464  0.506464  ...  0.295530  0.295530  0.998799   \n31  0.294661  0.999836  0.999836  ...  0.999918  0.999918  0.506669   \n32  0.294778  1.000000  1.000000  ...  0.999918  0.999918  0.506751   \n33  0.294778  1.000000  1.000000  ...  0.999918  0.999918  0.506751   \n34  0.294778  1.000000  1.000000  ...  0.999918  0.999918  0.506751   \n35  0.294778  1.000000  1.000000  ...  0.999918  0.999918  0.506751   \n36  0.294778  1.000000  1.000000  ...  0.999918  0.999918  0.506751   \n37  0.294778  1.000000  1.000000  ...  0.999918  0.999918  0.506751   \n38  0.294778  1.000000  1.000000  ...  0.999918  0.999918  0.506751   \n39  0.294778  1.000000  1.000000  ...  0.999918  0.999918  0.506751   \n4   0.408539  0.299128  0.299128  ...  0.000117  0.000117  0.410047   \n40  0.294778  1.000000  1.000000  ...  0.999918  0.999918  0.506751   \n41  0.992413  0.506823  0.506823  ...  0.296339  0.296339  0.990469   \n42  0.994376  0.506310  0.506310  ...  0.295239  0.295239  0.994010   \n43  0.294778  1.000000  1.000000  ...  0.999918  0.999918  0.506751   \n44  0.294603  0.999754  0.999754  ...  0.999836  0.999836  0.506628   \n45  0.294778  1.000000  1.000000  ...  0.999918  0.999918  0.506751   \n46  0.000000  0.000021  0.000021  ...  0.000000  0.000000  0.299349   \n47  0.294691  0.999877  0.999877  ...  0.999959  0.999959  0.506690   \n48  0.996221  0.506249  0.506249  ...  0.295274  0.295274  0.998111   \n49  0.996163  0.506536  0.506536  ...  0.295829  0.295829  0.999136   \n5   0.995826  0.506095  0.506095  ...  0.294743  0.294743  0.996074   \n50  0.294691  0.999877  0.999877  ...  0.999959  0.999959  0.506690   \n51  0.996412  0.506710  0.506710  ...  0.296129  0.296129  0.999678   \n52  0.000264  0.000000  0.000000  ...  0.000000  0.000000  0.299159   \n53  0.997349  0.506567  0.506567  ...  0.295698  0.295698  0.999326   \n54  0.294778  1.000000  1.000000  ...  0.999918  0.999918  0.506751   \n55  0.294720  0.999918  0.999918  ...  1.000000  1.000000  0.506710   \n56  0.294720  0.999918  0.999918  ...  1.000000  1.000000  0.506710   \n57  0.996675  0.506751  0.506751  ...  0.506710  0.506710  1.000000   \n58  0.294778  1.000000  1.000000  ...  0.999918  0.999918  0.296205   \n59  0.996104  0.506002  0.506002  ...  0.505982  0.505982  0.996355   \n6   0.294778  0.999959  0.999959  ...  0.999877  0.999877  0.296176   \n60  0.294691  0.999877  0.999877  ...  0.999959  0.999959  0.296117   \n7   0.294778  0.999959  0.999959  ...  0.999877  0.999877  0.296176   \n8   0.294778  1.000000  1.000000  ...  0.999918  0.999918  0.296205   \n9   0.294778  1.000000  1.000000  ...  0.999918  0.999918  0.296205   \n\n              58        59         6        60         7             8  \\\n1   1.000000e+00  0.506002  0.999959  0.999877  0.999959  1.000000e+00   \n10  2.958310e-01  0.996251  0.295802  0.295743  0.295802  2.958310e-01   \n11  1.170909e-04  0.406613  0.000088  0.000088  0.000088  1.170909e-04   \n12  9.999590e-01  0.505982  1.000000  0.999836  1.000000  9.999590e-01   \n13  1.000000e+00  0.506002  0.999959  0.999877  0.999959  1.000000e+00   \n14  9.999179e-01  0.505961  0.999959  0.999795  0.999959  9.999179e-01   \n15  1.463657e-04  0.406531  0.000117  0.000088  0.000117  1.463657e-04   \n16  2.947785e-01  0.996104  0.294778  0.294691  0.294778  2.947785e-01   \n17  1.000000e+00  0.506002  0.999959  0.999877  0.999959  1.000000e+00   \n18  1.000000e+00  0.506002  0.999959  0.999877  0.999959  1.000000e+00   \n19  1.000000e+00  0.506002  0.999959  0.999877  0.999959  1.000000e+00   \n2   9.999590e-01  0.505982  1.000000  0.999836  1.000000  9.999590e-01   \n20  0.000000e+00  0.299836  0.000000  0.000000  0.000000  0.000000e+00   \n21  1.000000e+00  0.506002  0.999959  0.999877  0.999959  1.000000e+00   \n22  1.000000e+00  0.506002  0.999959  0.999877  0.999959  1.000000e+00   \n23  2.954492e-01  0.997672  0.295479  0.295361  0.295479  2.954492e-01   \n24  9.998358e-01  0.505941  0.999795  0.999959  0.999795  9.998358e-01   \n25  1.000000e+00  0.506002  0.999959  0.999877  0.999959  1.000000e+00   \n26  1.000000e+00  0.506002  0.999959  0.999877  0.999959  1.000000e+00   \n27  1.000000e+00  0.506002  0.999959  0.999877  0.999959  1.000000e+00   \n28  1.000000e+00  0.506002  0.999959  0.999877  0.999959  1.000000e+00   \n29  1.756749e-04  0.408605  0.000205  0.000088  0.000205  1.756749e-04   \n3   9.999179e-01  0.505961  0.999959  0.999795  0.999959  9.999179e-01   \n30  2.955890e-01  0.997554  0.295560  0.295501  0.295560  2.955890e-01   \n31  9.998358e-01  0.505941  0.999795  0.999959  0.999795  9.998358e-01   \n32  1.000000e+00  0.506002  0.999959  0.999877  0.999959  1.000000e+00   \n33  1.000000e+00  0.506002  0.999959  0.999877  0.999959  1.000000e+00   \n34  1.000000e+00  0.506002  0.999959  0.999877  0.999959  1.000000e+00   \n35  1.000000e+00  0.506002  0.999959  0.999877  0.999959  1.000000e+00   \n36  1.000000e+00  0.506002  0.999959  0.999877  0.999959  1.000000e+00   \n37  1.000000e+00  0.506002  0.999959  0.999877  0.999959  1.000000e+00   \n38  1.000000e+00  0.506002  0.999959  0.999877  0.999959  1.000000e+00   \n39  1.000000e+00  0.506002  0.999959  0.999877  0.999959  1.000000e+00   \n4   1.756466e-04  0.406432  0.000146  0.000088  0.000146  1.756466e-04   \n40  1.000000e+00  0.506002  0.999959  0.999877  0.999959  1.000000e+00   \n41  2.963386e-01  0.992797  0.296339  0.296309  0.296339  2.963386e-01   \n42  2.952971e-01  0.996309  0.295326  0.295209  0.295326  2.952971e-01   \n43  1.000000e+00  0.506002  0.999959  0.999877  0.999959  1.000000e+00   \n44  9.997537e-01  0.505900  0.999713  0.999877  0.999713  9.997537e-01   \n45  1.000000e+00  0.506002  0.999959  0.999877  0.999959  1.000000e+00   \n46  2.220446e-16  0.300057  0.000000  0.000000  0.000000  2.220446e-16   \n47  9.998769e-01  0.505961  0.999836  1.000000  0.999836  9.998769e-01   \n48  2.953331e-01  0.998213  0.295304  0.295245  0.295304  2.953331e-01   \n49  2.958874e-01  0.996603  0.295917  0.295800  0.295917  2.958874e-01   \n5   2.947726e-01  0.999311  0.294743  0.294714  0.294743  2.947726e-01   \n50  9.998769e-01  0.505961  0.999836  1.000000  0.999836  9.998769e-01   \n51  2.961879e-01  0.996443  0.296217  0.296100  0.296217  2.961879e-01   \n52  2.220446e-16  0.299456  0.000000  0.000000  0.000000  2.220446e-16   \n53  2.957561e-01  0.996236  0.295727  0.295668  0.295727  2.957561e-01   \n54  1.000000e+00  0.506002  0.999959  0.999877  0.999959  1.000000e+00   \n55  9.999179e-01  0.505982  0.999877  0.999959  0.999877  9.999179e-01   \n56  9.999179e-01  0.505982  0.999877  0.999959  0.999877  9.999179e-01   \n57  2.962052e-01  0.996355  0.296176  0.296117  0.296176  2.962052e-01   \n58  1.000000e+00  0.506002  0.999959  0.999877  0.999959  1.000000e+00   \n59  5.060025e-01  1.000000  0.294808  0.294778  0.294808  2.948371e-01   \n6   9.999590e-01  0.294808  1.000000  0.999836  1.000000  9.999590e-01   \n60  9.998769e-01  0.294778  0.999836  1.000000  0.999836  9.998769e-01   \n7   9.999590e-01  0.294808  1.000000  0.999836  1.000000  9.999590e-01   \n8   1.000000e+00  0.294837  0.999959  0.999877  0.999959  1.000000e+00   \n9   1.000000e+00  0.294837  0.999959  0.999877  0.999959  1.000000e+00   \n\n               9  \n1   1.000000e+00  \n10  2.958310e-01  \n11  1.170909e-04  \n12  9.999590e-01  \n13  1.000000e+00  \n14  9.999179e-01  \n15  1.463657e-04  \n16  2.947785e-01  \n17  1.000000e+00  \n18  1.000000e+00  \n19  1.000000e+00  \n2   9.999590e-01  \n20  0.000000e+00  \n21  1.000000e+00  \n22  1.000000e+00  \n23  2.954492e-01  \n24  9.998358e-01  \n25  1.000000e+00  \n26  1.000000e+00  \n27  1.000000e+00  \n28  1.000000e+00  \n29  1.756749e-04  \n3   9.999179e-01  \n30  2.955890e-01  \n31  9.998358e-01  \n32  1.000000e+00  \n33  1.000000e+00  \n34  1.000000e+00  \n35  1.000000e+00  \n36  1.000000e+00  \n37  1.000000e+00  \n38  1.000000e+00  \n39  1.000000e+00  \n4   1.756466e-04  \n40  1.000000e+00  \n41  2.963386e-01  \n42  2.952971e-01  \n43  1.000000e+00  \n44  9.997537e-01  \n45  1.000000e+00  \n46  2.220446e-16  \n47  9.998769e-01  \n48  2.953331e-01  \n49  2.958874e-01  \n5   2.947726e-01  \n50  9.998769e-01  \n51  2.961879e-01  \n52  2.220446e-16  \n53  2.957561e-01  \n54  1.000000e+00  \n55  9.999179e-01  \n56  9.999179e-01  \n57  2.962052e-01  \n58  1.000000e+00  \n59  2.948371e-01  \n6   9.999590e-01  \n60  9.998769e-01  \n7   9.999590e-01  \n8   1.000000e+00  \n9   1.000000e+00  \n\n[60 rows x 60 columns]",
      "text/html": "<div>\n<style scoped>\n    .dataframe tbody tr th:only-of-type {\n        vertical-align: middle;\n    }\n\n    .dataframe tbody tr th {\n        vertical-align: top;\n    }\n\n    .dataframe thead th {\n        text-align: right;\n    }\n</style>\n<table border=\"1\" class=\"dataframe\">\n  <thead>\n    <tr style=\"text-align: right;\">\n      <th></th>\n      <th>1</th>\n      <th>10</th>\n      <th>11</th>\n      <th>12</th>\n      <th>13</th>\n      <th>14</th>\n      <th>15</th>\n      <th>16</th>\n      <th>17</th>\n      <th>18</th>\n      <th>...</th>\n      <th>55</th>\n      <th>56</th>\n      <th>57</th>\n      <th>58</th>\n      <th>59</th>\n      <th>6</th>\n      <th>60</th>\n      <th>7</th>\n      <th>8</th>\n      <th>9</th>\n    </tr>\n  </thead>\n  <tbody>\n    <tr>\n      <th>1</th>\n      <td>1.000000</td>\n      <td>0.506598</td>\n      <td>0.299046</td>\n      <td>0.999959</td>\n      <td>1.000000</td>\n      <td>0.999918</td>\n      <td>0.299077</td>\n      <td>0.505961</td>\n      <td>1.000000</td>\n      <td>1.000000</td>\n      <td>...</td>\n      <td>0.999918</td>\n      <td>0.999918</td>\n      <td>0.506751</td>\n      <td>1.000000e+00</td>\n      <td>0.506002</td>\n      <td>0.999959</td>\n      <td>0.999877</td>\n      <td>0.999959</td>\n      <td>1.000000e+00</td>\n      <td>1.000000e+00</td>\n    </tr>\n    <tr>\n      <th>10</th>\n      <td>0.506598</td>\n      <td>1.000000</td>\n      <td>0.410007</td>\n      <td>0.295802</td>\n      <td>0.295831</td>\n      <td>0.295772</td>\n      <td>0.409934</td>\n      <td>0.997247</td>\n      <td>0.295831</td>\n      <td>0.295831</td>\n      <td>...</td>\n      <td>0.295772</td>\n      <td>0.295772</td>\n      <td>0.999429</td>\n      <td>2.958310e-01</td>\n      <td>0.996251</td>\n      <td>0.295802</td>\n      <td>0.295743</td>\n      <td>0.295802</td>\n      <td>2.958310e-01</td>\n      <td>2.958310e-01</td>\n    </tr>\n    <tr>\n      <th>11</th>\n      <td>0.299046</td>\n      <td>0.410007</td>\n      <td>1.000000</td>\n      <td>0.000088</td>\n      <td>0.000117</td>\n      <td>0.000059</td>\n      <td>0.999780</td>\n      <td>0.408925</td>\n      <td>0.000117</td>\n      <td>0.000117</td>\n      <td>...</td>\n      <td>0.000117</td>\n      <td>0.000117</td>\n      <td>0.410199</td>\n      <td>1.170909e-04</td>\n      <td>0.406613</td>\n      <td>0.000088</td>\n      <td>0.000088</td>\n      <td>0.000088</td>\n      <td>1.170909e-04</td>\n      <td>1.170909e-04</td>\n    </tr>\n    <tr>\n      <th>12</th>\n      <td>0.999959</td>\n      <td>0.295802</td>\n      <td>0.000088</td>\n      <td>1.000000</td>\n      <td>0.999959</td>\n      <td>0.999959</td>\n      <td>0.299056</td>\n      <td>0.505961</td>\n      <td>0.999959</td>\n      <td>0.999959</td>\n      <td>...</td>\n      <td>0.999877</td>\n      <td>0.999877</td>\n      <td>0.506731</td>\n      <td>9.999590e-01</td>\n      <td>0.505982</td>\n      <td>1.000000</td>\n      <td>0.999836</td>\n      <td>1.000000</td>\n      <td>9.999590e-01</td>\n      <td>9.999590e-01</td>\n    </tr>\n    <tr>\n      <th>13</th>\n      <td>1.000000</td>\n      <td>0.295831</td>\n      <td>0.000117</td>\n      <td>0.999959</td>\n      <td>1.000000</td>\n      <td>0.999918</td>\n      <td>0.299077</td>\n      <td>0.505961</td>\n      <td>1.000000</td>\n      <td>1.000000</td>\n      <td>...</td>\n      <td>0.999918</td>\n      <td>0.999918</td>\n      <td>0.506751</td>\n      <td>1.000000e+00</td>\n      <td>0.506002</td>\n      <td>0.999959</td>\n      <td>0.999877</td>\n      <td>0.999959</td>\n      <td>1.000000e+00</td>\n      <td>1.000000e+00</td>\n    </tr>\n    <tr>\n      <th>14</th>\n      <td>0.999918</td>\n      <td>0.295772</td>\n      <td>0.000059</td>\n      <td>0.999959</td>\n      <td>0.999918</td>\n      <td>1.000000</td>\n      <td>0.299036</td>\n      <td>0.505941</td>\n      <td>0.999918</td>\n      <td>0.999918</td>\n      <td>...</td>\n      <td>0.999836</td>\n      <td>0.999836</td>\n      <td>0.506710</td>\n      <td>9.999179e-01</td>\n      <td>0.505961</td>\n      <td>0.999959</td>\n      <td>0.999795</td>\n      <td>0.999959</td>\n      <td>9.999179e-01</td>\n      <td>9.999179e-01</td>\n    </tr>\n    <tr>\n      <th>15</th>\n      <td>0.299077</td>\n      <td>0.409934</td>\n      <td>0.999780</td>\n      <td>0.299056</td>\n      <td>0.299077</td>\n      <td>0.299036</td>\n      <td>1.000000</td>\n      <td>0.408961</td>\n      <td>0.000146</td>\n      <td>0.000146</td>\n      <td>...</td>\n      <td>0.000117</td>\n      <td>0.000117</td>\n      <td>0.410117</td>\n      <td>1.463657e-04</td>\n      <td>0.406531</td>\n      <td>0.000117</td>\n      <td>0.000088</td>\n      <td>0.000117</td>\n      <td>1.463657e-04</td>\n      <td>1.463657e-04</td>\n    </tr>\n    <tr>\n      <th>16</th>\n      <td>0.505961</td>\n      <td>0.997247</td>\n      <td>0.408925</td>\n      <td>0.505961</td>\n      <td>0.505961</td>\n      <td>0.505941</td>\n      <td>0.408961</td>\n      <td>1.000000</td>\n      <td>0.294778</td>\n      <td>0.294778</td>\n      <td>...</td>\n      <td>0.294720</td>\n      <td>0.294720</td>\n      <td>0.996675</td>\n      <td>2.947785e-01</td>\n      <td>0.996104</td>\n      <td>0.294778</td>\n      <td>0.294691</td>\n      <td>0.294778</td>\n      <td>2.947785e-01</td>\n      <td>2.947785e-01</td>\n    </tr>\n    <tr>\n      <th>17</th>\n      <td>1.000000</td>\n      <td>0.295831</td>\n      <td>0.000117</td>\n      <td>0.999959</td>\n      <td>1.000000</td>\n      <td>0.999918</td>\n      <td>0.000146</td>\n      <td>0.294778</td>\n      <td>1.000000</td>\n      <td>1.000000</td>\n      <td>...</td>\n      <td>0.999918</td>\n      <td>0.999918</td>\n      <td>0.506751</td>\n      <td>1.000000e+00</td>\n      <td>0.506002</td>\n      <td>0.999959</td>\n      <td>0.999877</td>\n      <td>0.999959</td>\n      <td>1.000000e+00</td>\n      <td>1.000000e+00</td>\n    </tr>\n    <tr>\n      <th>18</th>\n      <td>1.000000</td>\n      <td>0.295831</td>\n      <td>0.000117</td>\n      <td>0.999959</td>\n      <td>1.000000</td>\n      <td>0.999918</td>\n      <td>0.000146</td>\n      <td>0.294778</td>\n      <td>1.000000</td>\n      <td>1.000000</td>\n      <td>...</td>\n      <td>0.999918</td>\n      <td>0.999918</td>\n      <td>0.506751</td>\n      <td>1.000000e+00</td>\n      <td>0.506002</td>\n      <td>0.999959</td>\n      <td>0.999877</td>\n      <td>0.999959</td>\n      <td>1.000000e+00</td>\n      <td>1.000000e+00</td>\n    </tr>\n    <tr>\n      <th>19</th>\n      <td>1.000000</td>\n      <td>0.295831</td>\n      <td>0.000117</td>\n      <td>0.999959</td>\n      <td>1.000000</td>\n      <td>0.999918</td>\n      <td>0.000146</td>\n      <td>0.294778</td>\n      <td>1.000000</td>\n      <td>1.000000</td>\n      <td>...</td>\n      <td>0.999918</td>\n      <td>0.999918</td>\n      <td>0.506751</td>\n      <td>1.000000e+00</td>\n      <td>0.506002</td>\n      <td>0.999959</td>\n      <td>0.999877</td>\n      <td>0.999959</td>\n      <td>1.000000e+00</td>\n      <td>1.000000e+00</td>\n    </tr>\n    <tr>\n      <th>2</th>\n      <td>0.999959</td>\n      <td>0.295802</td>\n      <td>0.000088</td>\n      <td>1.000000</td>\n      <td>0.999959</td>\n      <td>0.999959</td>\n      <td>0.000117</td>\n      <td>0.294778</td>\n      <td>0.999959</td>\n      <td>0.999959</td>\n      <td>...</td>\n      <td>0.999877</td>\n      <td>0.999877</td>\n      <td>0.506731</td>\n      <td>9.999590e-01</td>\n      <td>0.505982</td>\n      <td>1.000000</td>\n      <td>0.999836</td>\n      <td>1.000000</td>\n      <td>9.999590e-01</td>\n      <td>9.999590e-01</td>\n    </tr>\n    <tr>\n      <th>20</th>\n      <td>0.001129</td>\n      <td>0.000469</td>\n      <td>0.276978</td>\n      <td>0.001129</td>\n      <td>0.001129</td>\n      <td>0.001129</td>\n      <td>0.277070</td>\n      <td>0.000146</td>\n      <td>0.001129</td>\n      <td>0.001129</td>\n      <td>...</td>\n      <td>0.000000</td>\n      <td>0.000000</td>\n      <td>0.298921</td>\n      <td>0.000000e+00</td>\n      <td>0.299836</td>\n      <td>0.000000</td>\n      <td>0.000000</td>\n      <td>0.000000</td>\n      <td>0.000000e+00</td>\n      <td>0.000000e+00</td>\n    </tr>\n    <tr>\n      <th>21</th>\n      <td>1.000000</td>\n      <td>0.295831</td>\n      <td>0.000117</td>\n      <td>0.999959</td>\n      <td>1.000000</td>\n      <td>0.999918</td>\n      <td>0.000146</td>\n      <td>0.294778</td>\n      <td>1.000000</td>\n      <td>1.000000</td>\n      <td>...</td>\n      <td>0.999918</td>\n      <td>0.999918</td>\n      <td>0.506751</td>\n      <td>1.000000e+00</td>\n      <td>0.506002</td>\n      <td>0.999959</td>\n      <td>0.999877</td>\n      <td>0.999959</td>\n      <td>1.000000e+00</td>\n      <td>1.000000e+00</td>\n    </tr>\n    <tr>\n      <th>22</th>\n      <td>1.000000</td>\n      <td>0.295831</td>\n      <td>0.000117</td>\n      <td>0.999959</td>\n      <td>1.000000</td>\n      <td>0.999918</td>\n      <td>0.000146</td>\n      <td>0.294778</td>\n      <td>1.000000</td>\n      <td>1.000000</td>\n      <td>...</td>\n      <td>0.999918</td>\n      <td>0.999918</td>\n      <td>0.506751</td>\n      <td>1.000000e+00</td>\n      <td>0.506002</td>\n      <td>0.999959</td>\n      <td>0.999877</td>\n      <td>0.999959</td>\n      <td>1.000000e+00</td>\n      <td>1.000000e+00</td>\n    </tr>\n    <tr>\n      <th>23</th>\n      <td>0.506279</td>\n      <td>0.998111</td>\n      <td>0.408413</td>\n      <td>0.506300</td>\n      <td>0.506279</td>\n      <td>0.506321</td>\n      <td>0.408331</td>\n      <td>0.996060</td>\n      <td>0.506279</td>\n      <td>0.506279</td>\n      <td>...</td>\n      <td>0.295391</td>\n      <td>0.295391</td>\n      <td>0.998214</td>\n      <td>2.954492e-01</td>\n      <td>0.997672</td>\n      <td>0.295479</td>\n      <td>0.295361</td>\n      <td>0.295479</td>\n      <td>2.954492e-01</td>\n      <td>2.954492e-01</td>\n    </tr>\n    <tr>\n      <th>24</th>\n      <td>0.999836</td>\n      <td>0.295714</td>\n      <td>0.000059</td>\n      <td>0.999795</td>\n      <td>0.999836</td>\n      <td>0.999754</td>\n      <td>0.000059</td>\n      <td>0.294661</td>\n      <td>0.999836</td>\n      <td>0.999836</td>\n      <td>...</td>\n      <td>0.999918</td>\n      <td>0.999918</td>\n      <td>0.506669</td>\n      <td>9.998358e-01</td>\n      <td>0.505941</td>\n      <td>0.999795</td>\n      <td>0.999959</td>\n      <td>0.999795</td>\n      <td>9.998358e-01</td>\n      <td>9.998358e-01</td>\n    </tr>\n    <tr>\n      <th>25</th>\n      <td>1.000000</td>\n      <td>0.295831</td>\n      <td>0.000117</td>\n      <td>0.999959</td>\n      <td>1.000000</td>\n      <td>0.999918</td>\n      <td>0.000146</td>\n      <td>0.294778</td>\n      <td>1.000000</td>\n      <td>1.000000</td>\n      <td>...</td>\n      <td>0.999918</td>\n      <td>0.999918</td>\n      <td>0.506751</td>\n      <td>1.000000e+00</td>\n      <td>0.506002</td>\n      <td>0.999959</td>\n      <td>0.999877</td>\n      <td>0.999959</td>\n      <td>1.000000e+00</td>\n      <td>1.000000e+00</td>\n    </tr>\n    <tr>\n      <th>26</th>\n      <td>1.000000</td>\n      <td>0.295831</td>\n      <td>0.000117</td>\n      <td>0.999959</td>\n      <td>1.000000</td>\n      <td>0.999918</td>\n      <td>0.000146</td>\n      <td>0.294778</td>\n      <td>1.000000</td>\n      <td>1.000000</td>\n      <td>...</td>\n      <td>0.999918</td>\n      <td>0.999918</td>\n      <td>0.506751</td>\n      <td>1.000000e+00</td>\n      <td>0.506002</td>\n      <td>0.999959</td>\n      <td>0.999877</td>\n      <td>0.999959</td>\n      <td>1.000000e+00</td>\n      <td>1.000000e+00</td>\n    </tr>\n    <tr>\n      <th>27</th>\n      <td>1.000000</td>\n      <td>0.295831</td>\n      <td>0.000117</td>\n      <td>0.999959</td>\n      <td>1.000000</td>\n      <td>0.999918</td>\n      <td>0.000146</td>\n      <td>0.294778</td>\n      <td>1.000000</td>\n      <td>1.000000</td>\n      <td>...</td>\n      <td>0.999918</td>\n      <td>0.999918</td>\n      <td>0.506751</td>\n      <td>1.000000e+00</td>\n      <td>0.506002</td>\n      <td>0.999959</td>\n      <td>0.999877</td>\n      <td>0.999959</td>\n      <td>1.000000e+00</td>\n      <td>1.000000e+00</td>\n    </tr>\n    <tr>\n      <th>28</th>\n      <td>1.000000</td>\n      <td>0.295831</td>\n      <td>0.000117</td>\n      <td>0.999959</td>\n      <td>1.000000</td>\n      <td>0.999918</td>\n      <td>0.000146</td>\n      <td>0.294778</td>\n      <td>1.000000</td>\n      <td>1.000000</td>\n      <td>...</td>\n      <td>0.999918</td>\n      <td>0.999918</td>\n      <td>0.506751</td>\n      <td>1.000000e+00</td>\n      <td>0.506002</td>\n      <td>0.999959</td>\n      <td>0.999877</td>\n      <td>0.999959</td>\n      <td>1.000000e+00</td>\n      <td>1.000000e+00</td>\n    </tr>\n    <tr>\n      <th>29</th>\n      <td>0.299241</td>\n      <td>0.410198</td>\n      <td>0.997380</td>\n      <td>0.299261</td>\n      <td>0.299241</td>\n      <td>0.299282</td>\n      <td>0.997307</td>\n      <td>0.407382</td>\n      <td>0.299241</td>\n      <td>0.299241</td>\n      <td>...</td>\n      <td>0.000117</td>\n      <td>0.000117</td>\n      <td>0.410904</td>\n      <td>1.756749e-04</td>\n      <td>0.408605</td>\n      <td>0.000205</td>\n      <td>0.000088</td>\n      <td>0.000205</td>\n      <td>1.756749e-04</td>\n      <td>1.756749e-04</td>\n    </tr>\n    <tr>\n      <th>3</th>\n      <td>0.999918</td>\n      <td>0.295772</td>\n      <td>0.000059</td>\n      <td>0.999959</td>\n      <td>0.999918</td>\n      <td>1.000000</td>\n      <td>0.000088</td>\n      <td>0.294749</td>\n      <td>0.999918</td>\n      <td>0.999918</td>\n      <td>...</td>\n      <td>0.999836</td>\n      <td>0.999836</td>\n      <td>0.506710</td>\n      <td>9.999179e-01</td>\n      <td>0.505961</td>\n      <td>0.999959</td>\n      <td>0.999795</td>\n      <td>0.999959</td>\n      <td>9.999179e-01</td>\n      <td>9.999179e-01</td>\n    </tr>\n    <tr>\n      <th>30</th>\n      <td>0.506464</td>\n      <td>0.998697</td>\n      <td>0.408998</td>\n      <td>0.506444</td>\n      <td>0.506464</td>\n      <td>0.506423</td>\n      <td>0.408917</td>\n      <td>0.996324</td>\n      <td>0.506464</td>\n      <td>0.506464</td>\n      <td>...</td>\n      <td>0.295530</td>\n      <td>0.295530</td>\n      <td>0.998799</td>\n      <td>2.955890e-01</td>\n      <td>0.997554</td>\n      <td>0.295560</td>\n      <td>0.295501</td>\n      <td>0.295560</td>\n      <td>2.955890e-01</td>\n      <td>2.955890e-01</td>\n    </tr>\n    <tr>\n      <th>31</th>\n      <td>0.999836</td>\n      <td>0.295714</td>\n      <td>0.000059</td>\n      <td>0.999795</td>\n      <td>0.999836</td>\n      <td>0.999754</td>\n      <td>0.000059</td>\n      <td>0.294661</td>\n      <td>0.999836</td>\n      <td>0.999836</td>\n      <td>...</td>\n      <td>0.999918</td>\n      <td>0.999918</td>\n      <td>0.506669</td>\n      <td>9.998358e-01</td>\n      <td>0.505941</td>\n      <td>0.999795</td>\n      <td>0.999959</td>\n      <td>0.999795</td>\n      <td>9.998358e-01</td>\n      <td>9.998358e-01</td>\n    </tr>\n    <tr>\n      <th>32</th>\n      <td>1.000000</td>\n      <td>0.295831</td>\n      <td>0.000117</td>\n      <td>0.999959</td>\n      <td>1.000000</td>\n      <td>0.999918</td>\n      <td>0.000146</td>\n      <td>0.294778</td>\n      <td>1.000000</td>\n      <td>1.000000</td>\n      <td>...</td>\n      <td>0.999918</td>\n      <td>0.999918</td>\n      <td>0.506751</td>\n      <td>1.000000e+00</td>\n      <td>0.506002</td>\n      <td>0.999959</td>\n      <td>0.999877</td>\n      <td>0.999959</td>\n      <td>1.000000e+00</td>\n      <td>1.000000e+00</td>\n    </tr>\n    <tr>\n      <th>33</th>\n      <td>1.000000</td>\n      <td>0.295831</td>\n      <td>0.000117</td>\n      <td>0.999959</td>\n      <td>1.000000</td>\n      <td>0.999918</td>\n      <td>0.000146</td>\n      <td>0.294778</td>\n      <td>1.000000</td>\n      <td>1.000000</td>\n      <td>...</td>\n      <td>0.999918</td>\n      <td>0.999918</td>\n      <td>0.506751</td>\n      <td>1.000000e+00</td>\n      <td>0.506002</td>\n      <td>0.999959</td>\n      <td>0.999877</td>\n      <td>0.999959</td>\n      <td>1.000000e+00</td>\n      <td>1.000000e+00</td>\n    </tr>\n    <tr>\n      <th>34</th>\n      <td>1.000000</td>\n      <td>0.295831</td>\n      <td>0.000117</td>\n      <td>0.999959</td>\n      <td>1.000000</td>\n      <td>0.999918</td>\n      <td>0.000146</td>\n      <td>0.294778</td>\n      <td>1.000000</td>\n      <td>1.000000</td>\n      <td>...</td>\n      <td>0.999918</td>\n      <td>0.999918</td>\n      <td>0.506751</td>\n      <td>1.000000e+00</td>\n      <td>0.506002</td>\n      <td>0.999959</td>\n      <td>0.999877</td>\n      <td>0.999959</td>\n      <td>1.000000e+00</td>\n      <td>1.000000e+00</td>\n    </tr>\n    <tr>\n      <th>35</th>\n      <td>1.000000</td>\n      <td>0.295831</td>\n      <td>0.000117</td>\n      <td>0.999959</td>\n      <td>1.000000</td>\n      <td>0.999918</td>\n      <td>0.000146</td>\n      <td>0.294778</td>\n      <td>1.000000</td>\n      <td>1.000000</td>\n      <td>...</td>\n      <td>0.999918</td>\n      <td>0.999918</td>\n      <td>0.506751</td>\n      <td>1.000000e+00</td>\n      <td>0.506002</td>\n      <td>0.999959</td>\n      <td>0.999877</td>\n      <td>0.999959</td>\n      <td>1.000000e+00</td>\n      <td>1.000000e+00</td>\n    </tr>\n    <tr>\n      <th>36</th>\n      <td>1.000000</td>\n      <td>0.295831</td>\n      <td>0.000117</td>\n      <td>0.999959</td>\n      <td>1.000000</td>\n      <td>0.999918</td>\n      <td>0.000146</td>\n      <td>0.294778</td>\n      <td>1.000000</td>\n      <td>1.000000</td>\n      <td>...</td>\n      <td>0.999918</td>\n      <td>0.999918</td>\n      <td>0.506751</td>\n      <td>1.000000e+00</td>\n      <td>0.506002</td>\n      <td>0.999959</td>\n      <td>0.999877</td>\n      <td>0.999959</td>\n      <td>1.000000e+00</td>\n      <td>1.000000e+00</td>\n    </tr>\n    <tr>\n      <th>37</th>\n      <td>1.000000</td>\n      <td>0.295831</td>\n      <td>0.000117</td>\n      <td>0.999959</td>\n      <td>1.000000</td>\n      <td>0.999918</td>\n      <td>0.000146</td>\n      <td>0.294778</td>\n      <td>1.000000</td>\n      <td>1.000000</td>\n      <td>...</td>\n      <td>0.999918</td>\n      <td>0.999918</td>\n      <td>0.506751</td>\n      <td>1.000000e+00</td>\n      <td>0.506002</td>\n      <td>0.999959</td>\n      <td>0.999877</td>\n      <td>0.999959</td>\n      <td>1.000000e+00</td>\n      <td>1.000000e+00</td>\n    </tr>\n    <tr>\n      <th>38</th>\n      <td>1.000000</td>\n      <td>0.295831</td>\n      <td>0.000117</td>\n      <td>0.999959</td>\n      <td>1.000000</td>\n      <td>0.999918</td>\n      <td>0.000146</td>\n      <td>0.294778</td>\n      <td>1.000000</td>\n      <td>1.000000</td>\n      <td>...</td>\n      <td>0.999918</td>\n      <td>0.999918</td>\n      <td>0.506751</td>\n      <td>1.000000e+00</td>\n      <td>0.506002</td>\n      <td>0.999959</td>\n      <td>0.999877</td>\n      <td>0.999959</td>\n      <td>1.000000e+00</td>\n      <td>1.000000e+00</td>\n    </tr>\n    <tr>\n      <th>39</th>\n      <td>1.000000</td>\n      <td>0.295831</td>\n      <td>0.000117</td>\n      <td>0.999959</td>\n      <td>1.000000</td>\n      <td>0.999918</td>\n      <td>0.000146</td>\n      <td>0.294778</td>\n      <td>1.000000</td>\n      <td>1.000000</td>\n      <td>...</td>\n      <td>0.999918</td>\n      <td>0.999918</td>\n      <td>0.506751</td>\n      <td>1.000000e+00</td>\n      <td>0.506002</td>\n      <td>0.999959</td>\n      <td>0.999877</td>\n      <td>0.999959</td>\n      <td>1.000000e+00</td>\n      <td>1.000000e+00</td>\n    </tr>\n    <tr>\n      <th>4</th>\n      <td>0.299128</td>\n      <td>0.409890</td>\n      <td>0.999502</td>\n      <td>0.299107</td>\n      <td>0.299128</td>\n      <td>0.299087</td>\n      <td>0.999722</td>\n      <td>0.408539</td>\n      <td>0.299128</td>\n      <td>0.299128</td>\n      <td>...</td>\n      <td>0.000117</td>\n      <td>0.000117</td>\n      <td>0.410047</td>\n      <td>1.756466e-04</td>\n      <td>0.406432</td>\n      <td>0.000146</td>\n      <td>0.000088</td>\n      <td>0.000146</td>\n      <td>1.756466e-04</td>\n      <td>1.756466e-04</td>\n    </tr>\n    <tr>\n      <th>40</th>\n      <td>1.000000</td>\n      <td>0.295831</td>\n      <td>0.000117</td>\n      <td>0.999959</td>\n      <td>1.000000</td>\n      <td>0.999918</td>\n      <td>0.000146</td>\n      <td>0.294778</td>\n      <td>1.000000</td>\n      <td>1.000000</td>\n      <td>...</td>\n      <td>0.999918</td>\n      <td>0.999918</td>\n      <td>0.506751</td>\n      <td>1.000000e+00</td>\n      <td>0.506002</td>\n      <td>0.999959</td>\n      <td>0.999877</td>\n      <td>0.999959</td>\n      <td>1.000000e+00</td>\n      <td>1.000000e+00</td>\n    </tr>\n    <tr>\n      <th>41</th>\n      <td>0.506823</td>\n      <td>0.990716</td>\n      <td>0.401519</td>\n      <td>0.506823</td>\n      <td>0.506823</td>\n      <td>0.506823</td>\n      <td>0.401554</td>\n      <td>0.992413</td>\n      <td>0.506823</td>\n      <td>0.506823</td>\n      <td>...</td>\n      <td>0.296339</td>\n      <td>0.296339</td>\n      <td>0.990469</td>\n      <td>2.963386e-01</td>\n      <td>0.992797</td>\n      <td>0.296339</td>\n      <td>0.296309</td>\n      <td>0.296339</td>\n      <td>2.963386e-01</td>\n      <td>2.963386e-01</td>\n    </tr>\n    <tr>\n      <th>42</th>\n      <td>0.506310</td>\n      <td>0.994260</td>\n      <td>0.404915</td>\n      <td>0.506331</td>\n      <td>0.506310</td>\n      <td>0.506351</td>\n      <td>0.404833</td>\n      <td>0.994376</td>\n      <td>0.506310</td>\n      <td>0.506310</td>\n      <td>...</td>\n      <td>0.295239</td>\n      <td>0.295239</td>\n      <td>0.994010</td>\n      <td>2.952971e-01</td>\n      <td>0.996309</td>\n      <td>0.295326</td>\n      <td>0.295209</td>\n      <td>0.295326</td>\n      <td>2.952971e-01</td>\n      <td>2.952971e-01</td>\n    </tr>\n    <tr>\n      <th>43</th>\n      <td>1.000000</td>\n      <td>0.295831</td>\n      <td>0.000117</td>\n      <td>0.999959</td>\n      <td>1.000000</td>\n      <td>0.999918</td>\n      <td>0.000146</td>\n      <td>0.294778</td>\n      <td>1.000000</td>\n      <td>1.000000</td>\n      <td>...</td>\n      <td>0.999918</td>\n      <td>0.999918</td>\n      <td>0.506751</td>\n      <td>1.000000e+00</td>\n      <td>0.506002</td>\n      <td>0.999959</td>\n      <td>0.999877</td>\n      <td>0.999959</td>\n      <td>1.000000e+00</td>\n      <td>1.000000e+00</td>\n    </tr>\n    <tr>\n      <th>44</th>\n      <td>0.999754</td>\n      <td>0.295655</td>\n      <td>0.000000</td>\n      <td>0.999713</td>\n      <td>0.999754</td>\n      <td>0.999672</td>\n      <td>0.000000</td>\n      <td>0.294603</td>\n      <td>0.999754</td>\n      <td>0.999754</td>\n      <td>...</td>\n      <td>0.999836</td>\n      <td>0.999836</td>\n      <td>0.506628</td>\n      <td>9.997537e-01</td>\n      <td>0.505900</td>\n      <td>0.999713</td>\n      <td>0.999877</td>\n      <td>0.999713</td>\n      <td>9.997537e-01</td>\n      <td>9.997537e-01</td>\n    </tr>\n    <tr>\n      <th>45</th>\n      <td>1.000000</td>\n      <td>0.295831</td>\n      <td>0.000117</td>\n      <td>0.999959</td>\n      <td>1.000000</td>\n      <td>0.999918</td>\n      <td>0.000146</td>\n      <td>0.294778</td>\n      <td>1.000000</td>\n      <td>1.000000</td>\n      <td>...</td>\n      <td>0.999918</td>\n      <td>0.999918</td>\n      <td>0.506751</td>\n      <td>1.000000e+00</td>\n      <td>0.506002</td>\n      <td>0.999959</td>\n      <td>0.999877</td>\n      <td>0.999959</td>\n      <td>1.000000e+00</td>\n      <td>1.000000e+00</td>\n    </tr>\n    <tr>\n      <th>46</th>\n      <td>0.000021</td>\n      <td>0.000293</td>\n      <td>0.278032</td>\n      <td>0.000021</td>\n      <td>0.000021</td>\n      <td>0.000021</td>\n      <td>0.278124</td>\n      <td>0.000000</td>\n      <td>0.000021</td>\n      <td>0.000021</td>\n      <td>...</td>\n      <td>0.000000</td>\n      <td>0.000000</td>\n      <td>0.299349</td>\n      <td>2.220446e-16</td>\n      <td>0.300057</td>\n      <td>0.000000</td>\n      <td>0.000000</td>\n      <td>0.000000</td>\n      <td>2.220446e-16</td>\n      <td>2.220446e-16</td>\n    </tr>\n    <tr>\n      <th>47</th>\n      <td>0.999877</td>\n      <td>0.295743</td>\n      <td>0.000088</td>\n      <td>0.999836</td>\n      <td>0.999877</td>\n      <td>0.999795</td>\n      <td>0.000088</td>\n      <td>0.294691</td>\n      <td>0.999877</td>\n      <td>0.999877</td>\n      <td>...</td>\n      <td>0.999959</td>\n      <td>0.999959</td>\n      <td>0.506690</td>\n      <td>9.998769e-01</td>\n      <td>0.505961</td>\n      <td>0.999836</td>\n      <td>1.000000</td>\n      <td>0.999836</td>\n      <td>9.998769e-01</td>\n      <td>9.998769e-01</td>\n    </tr>\n    <tr>\n      <th>48</th>\n      <td>0.506249</td>\n      <td>0.998008</td>\n      <td>0.408369</td>\n      <td>0.506228</td>\n      <td>0.506249</td>\n      <td>0.506208</td>\n      <td>0.408287</td>\n      <td>0.996221</td>\n      <td>0.506249</td>\n      <td>0.506249</td>\n      <td>...</td>\n      <td>0.295274</td>\n      <td>0.295274</td>\n      <td>0.998111</td>\n      <td>2.953331e-01</td>\n      <td>0.998213</td>\n      <td>0.295304</td>\n      <td>0.295245</td>\n      <td>0.295304</td>\n      <td>2.953331e-01</td>\n      <td>2.953331e-01</td>\n    </tr>\n    <tr>\n      <th>49</th>\n      <td>0.506536</td>\n      <td>0.998887</td>\n      <td>0.409364</td>\n      <td>0.506557</td>\n      <td>0.506536</td>\n      <td>0.506577</td>\n      <td>0.409283</td>\n      <td>0.996163</td>\n      <td>0.506536</td>\n      <td>0.506536</td>\n      <td>...</td>\n      <td>0.295829</td>\n      <td>0.295829</td>\n      <td>0.999136</td>\n      <td>2.958874e-01</td>\n      <td>0.996603</td>\n      <td>0.295917</td>\n      <td>0.295800</td>\n      <td>0.295917</td>\n      <td>2.958874e-01</td>\n      <td>2.958874e-01</td>\n    </tr>\n    <tr>\n      <th>5</th>\n      <td>0.506095</td>\n      <td>0.995973</td>\n      <td>0.406335</td>\n      <td>0.506074</td>\n      <td>0.506095</td>\n      <td>0.506054</td>\n      <td>0.406253</td>\n      <td>0.995826</td>\n      <td>0.506095</td>\n      <td>0.506095</td>\n      <td>...</td>\n      <td>0.294743</td>\n      <td>0.294743</td>\n      <td>0.996074</td>\n      <td>2.947726e-01</td>\n      <td>0.999311</td>\n      <td>0.294743</td>\n      <td>0.294714</td>\n      <td>0.294743</td>\n      <td>2.947726e-01</td>\n      <td>2.947726e-01</td>\n    </tr>\n    <tr>\n      <th>50</th>\n      <td>0.999877</td>\n      <td>0.295743</td>\n      <td>0.000088</td>\n      <td>0.999836</td>\n      <td>0.999877</td>\n      <td>0.999795</td>\n      <td>0.000088</td>\n      <td>0.294691</td>\n      <td>0.999877</td>\n      <td>0.999877</td>\n      <td>...</td>\n      <td>0.999959</td>\n      <td>0.999959</td>\n      <td>0.506690</td>\n      <td>9.998769e-01</td>\n      <td>0.505961</td>\n      <td>0.999836</td>\n      <td>1.000000</td>\n      <td>0.999836</td>\n      <td>9.998769e-01</td>\n      <td>9.998769e-01</td>\n    </tr>\n    <tr>\n      <th>51</th>\n      <td>0.506710</td>\n      <td>0.999136</td>\n      <td>0.409877</td>\n      <td>0.506731</td>\n      <td>0.506710</td>\n      <td>0.506751</td>\n      <td>0.409795</td>\n      <td>0.996412</td>\n      <td>0.506710</td>\n      <td>0.506710</td>\n      <td>...</td>\n      <td>0.296129</td>\n      <td>0.296129</td>\n      <td>0.999678</td>\n      <td>2.961879e-01</td>\n      <td>0.996443</td>\n      <td>0.296217</td>\n      <td>0.296100</td>\n      <td>0.296217</td>\n      <td>2.961879e-01</td>\n      <td>2.961879e-01</td>\n    </tr>\n    <tr>\n      <th>52</th>\n      <td>0.000000</td>\n      <td>0.000000</td>\n      <td>0.278471</td>\n      <td>0.000000</td>\n      <td>0.000000</td>\n      <td>0.000000</td>\n      <td>0.278563</td>\n      <td>0.000264</td>\n      <td>0.000000</td>\n      <td>0.000000</td>\n      <td>...</td>\n      <td>0.000000</td>\n      <td>0.000000</td>\n      <td>0.299159</td>\n      <td>2.220446e-16</td>\n      <td>0.299456</td>\n      <td>0.000000</td>\n      <td>0.000000</td>\n      <td>0.000000</td>\n      <td>2.220446e-16</td>\n      <td>2.220446e-16</td>\n    </tr>\n    <tr>\n      <th>53</th>\n      <td>0.506567</td>\n      <td>0.999897</td>\n      <td>0.410316</td>\n      <td>0.506546</td>\n      <td>0.506567</td>\n      <td>0.506526</td>\n      <td>0.410234</td>\n      <td>0.997349</td>\n      <td>0.506567</td>\n      <td>0.506567</td>\n      <td>...</td>\n      <td>0.295698</td>\n      <td>0.295698</td>\n      <td>0.999326</td>\n      <td>2.957561e-01</td>\n      <td>0.996236</td>\n      <td>0.295727</td>\n      <td>0.295668</td>\n      <td>0.295727</td>\n      <td>2.957561e-01</td>\n      <td>2.957561e-01</td>\n    </tr>\n    <tr>\n      <th>54</th>\n      <td>1.000000</td>\n      <td>0.295831</td>\n      <td>0.000117</td>\n      <td>0.999959</td>\n      <td>1.000000</td>\n      <td>0.999918</td>\n      <td>0.000146</td>\n      <td>0.294778</td>\n      <td>1.000000</td>\n      <td>1.000000</td>\n      <td>...</td>\n      <td>0.999918</td>\n      <td>0.999918</td>\n      <td>0.506751</td>\n      <td>1.000000e+00</td>\n      <td>0.506002</td>\n      <td>0.999959</td>\n      <td>0.999877</td>\n      <td>0.999959</td>\n      <td>1.000000e+00</td>\n      <td>1.000000e+00</td>\n    </tr>\n    <tr>\n      <th>55</th>\n      <td>0.999918</td>\n      <td>0.295772</td>\n      <td>0.000117</td>\n      <td>0.999877</td>\n      <td>0.999918</td>\n      <td>0.999836</td>\n      <td>0.000117</td>\n      <td>0.294720</td>\n      <td>0.999918</td>\n      <td>0.999918</td>\n      <td>...</td>\n      <td>1.000000</td>\n      <td>1.000000</td>\n      <td>0.506710</td>\n      <td>9.999179e-01</td>\n      <td>0.505982</td>\n      <td>0.999877</td>\n      <td>0.999959</td>\n      <td>0.999877</td>\n      <td>9.999179e-01</td>\n      <td>9.999179e-01</td>\n    </tr>\n    <tr>\n      <th>56</th>\n      <td>0.999918</td>\n      <td>0.295772</td>\n      <td>0.000117</td>\n      <td>0.999877</td>\n      <td>0.999918</td>\n      <td>0.999836</td>\n      <td>0.000117</td>\n      <td>0.294720</td>\n      <td>0.999918</td>\n      <td>0.999918</td>\n      <td>...</td>\n      <td>1.000000</td>\n      <td>1.000000</td>\n      <td>0.506710</td>\n      <td>9.999179e-01</td>\n      <td>0.505982</td>\n      <td>0.999877</td>\n      <td>0.999959</td>\n      <td>0.999877</td>\n      <td>9.999179e-01</td>\n      <td>9.999179e-01</td>\n    </tr>\n    <tr>\n      <th>57</th>\n      <td>0.506751</td>\n      <td>0.999429</td>\n      <td>0.410199</td>\n      <td>0.506731</td>\n      <td>0.506751</td>\n      <td>0.506710</td>\n      <td>0.410117</td>\n      <td>0.996675</td>\n      <td>0.506751</td>\n      <td>0.506751</td>\n      <td>...</td>\n      <td>0.506710</td>\n      <td>0.506710</td>\n      <td>1.000000</td>\n      <td>2.962052e-01</td>\n      <td>0.996355</td>\n      <td>0.296176</td>\n      <td>0.296117</td>\n      <td>0.296176</td>\n      <td>2.962052e-01</td>\n      <td>2.962052e-01</td>\n    </tr>\n    <tr>\n      <th>58</th>\n      <td>1.000000</td>\n      <td>0.295831</td>\n      <td>0.000117</td>\n      <td>0.999959</td>\n      <td>1.000000</td>\n      <td>0.999918</td>\n      <td>0.000146</td>\n      <td>0.294778</td>\n      <td>1.000000</td>\n      <td>1.000000</td>\n      <td>...</td>\n      <td>0.999918</td>\n      <td>0.999918</td>\n      <td>0.296205</td>\n      <td>1.000000e+00</td>\n      <td>0.506002</td>\n      <td>0.999959</td>\n      <td>0.999877</td>\n      <td>0.999959</td>\n      <td>1.000000e+00</td>\n      <td>1.000000e+00</td>\n    </tr>\n    <tr>\n      <th>59</th>\n      <td>0.506002</td>\n      <td>0.996251</td>\n      <td>0.406613</td>\n      <td>0.505982</td>\n      <td>0.506002</td>\n      <td>0.505961</td>\n      <td>0.406531</td>\n      <td>0.996104</td>\n      <td>0.506002</td>\n      <td>0.506002</td>\n      <td>...</td>\n      <td>0.505982</td>\n      <td>0.505982</td>\n      <td>0.996355</td>\n      <td>5.060025e-01</td>\n      <td>1.000000</td>\n      <td>0.294808</td>\n      <td>0.294778</td>\n      <td>0.294808</td>\n      <td>2.948371e-01</td>\n      <td>2.948371e-01</td>\n    </tr>\n    <tr>\n      <th>6</th>\n      <td>0.999959</td>\n      <td>0.295802</td>\n      <td>0.000088</td>\n      <td>1.000000</td>\n      <td>0.999959</td>\n      <td>0.999959</td>\n      <td>0.000117</td>\n      <td>0.294778</td>\n      <td>0.999959</td>\n      <td>0.999959</td>\n      <td>...</td>\n      <td>0.999877</td>\n      <td>0.999877</td>\n      <td>0.296176</td>\n      <td>9.999590e-01</td>\n      <td>0.294808</td>\n      <td>1.000000</td>\n      <td>0.999836</td>\n      <td>1.000000</td>\n      <td>9.999590e-01</td>\n      <td>9.999590e-01</td>\n    </tr>\n    <tr>\n      <th>60</th>\n      <td>0.999877</td>\n      <td>0.295743</td>\n      <td>0.000088</td>\n      <td>0.999836</td>\n      <td>0.999877</td>\n      <td>0.999795</td>\n      <td>0.000088</td>\n      <td>0.294691</td>\n      <td>0.999877</td>\n      <td>0.999877</td>\n      <td>...</td>\n      <td>0.999959</td>\n      <td>0.999959</td>\n      <td>0.296117</td>\n      <td>9.998769e-01</td>\n      <td>0.294778</td>\n      <td>0.999836</td>\n      <td>1.000000</td>\n      <td>0.999836</td>\n      <td>9.998769e-01</td>\n      <td>9.998769e-01</td>\n    </tr>\n    <tr>\n      <th>7</th>\n      <td>0.999959</td>\n      <td>0.295802</td>\n      <td>0.000088</td>\n      <td>1.000000</td>\n      <td>0.999959</td>\n      <td>0.999959</td>\n      <td>0.000117</td>\n      <td>0.294778</td>\n      <td>0.999959</td>\n      <td>0.999959</td>\n      <td>...</td>\n      <td>0.999877</td>\n      <td>0.999877</td>\n      <td>0.296176</td>\n      <td>9.999590e-01</td>\n      <td>0.294808</td>\n      <td>1.000000</td>\n      <td>0.999836</td>\n      <td>1.000000</td>\n      <td>9.999590e-01</td>\n      <td>9.999590e-01</td>\n    </tr>\n    <tr>\n      <th>8</th>\n      <td>1.000000</td>\n      <td>0.295831</td>\n      <td>0.000117</td>\n      <td>0.999959</td>\n      <td>1.000000</td>\n      <td>0.999918</td>\n      <td>0.000146</td>\n      <td>0.294778</td>\n      <td>1.000000</td>\n      <td>1.000000</td>\n      <td>...</td>\n      <td>0.999918</td>\n      <td>0.999918</td>\n      <td>0.296205</td>\n      <td>1.000000e+00</td>\n      <td>0.294837</td>\n      <td>0.999959</td>\n      <td>0.999877</td>\n      <td>0.999959</td>\n      <td>1.000000e+00</td>\n      <td>1.000000e+00</td>\n    </tr>\n    <tr>\n      <th>9</th>\n      <td>1.000000</td>\n      <td>0.295831</td>\n      <td>0.000117</td>\n      <td>0.999959</td>\n      <td>1.000000</td>\n      <td>0.999918</td>\n      <td>0.000146</td>\n      <td>0.294778</td>\n      <td>1.000000</td>\n      <td>1.000000</td>\n      <td>...</td>\n      <td>0.999918</td>\n      <td>0.999918</td>\n      <td>0.296205</td>\n      <td>1.000000e+00</td>\n      <td>0.294837</td>\n      <td>0.999959</td>\n      <td>0.999877</td>\n      <td>0.999959</td>\n      <td>1.000000e+00</td>\n      <td>1.000000e+00</td>\n    </tr>\n  </tbody>\n</table>\n<p>60 rows × 60 columns</p>\n</div>"
     },
     "metadata": {}
    }
   ]
  },
  {
   "cell_type": "code",
   "metadata": {
    "tags": [],
    "cell_id": "00041-9fa3fd30-95d7-41cd-86a2-142b120da90c",
    "deepnote_to_be_reexecuted": false,
    "source_hash": "9c5010c7",
    "execution_start": 1638012943575,
    "execution_millis": 34,
    "deepnote_cell_type": "code"
   },
   "source": "# Faccio svd con 60 componenti (e poi mi prendo solo quelle che servono)\nn_components = 59\nsvd_latent_gestures, svd_variance = generate_gesture_gesture_svd(gestures_sim_matrix_pd, n_components=n_components)",
   "execution_count": 31,
   "outputs": []
  },
  {
   "cell_type": "code",
   "metadata": {
    "deepnote_variable_name": "t3_query_top_p",
    "deepnote_variable_value": "5",
    "cell_id": "00041-8c620e05-f0f6-42c6-b128-88970e1c1838",
    "deepnote_to_be_reexecuted": false,
    "source_hash": "ca37bedc",
    "execution_start": 1638012943617,
    "execution_millis": 2,
    "deepnote_cell_type": "input-text"
   },
   "source": "t3_query_top_p = '5'",
   "execution_count": 32,
   "outputs": []
  },
  {
   "cell_type": "code",
   "metadata": {
    "tags": [],
    "cell_id": "00045-ce487730-2512-4589-89ae-7f7806ffca3b",
    "deepnote_to_be_reexecuted": false,
    "source_hash": "273481ce",
    "execution_start": 1638012943629,
    "execution_millis": 34,
    "deepnote_output_heights": [
     611
    ],
    "deepnote_cell_type": "code"
   },
   "source": "t3_query_top_p = int(t3_query_top_p)\n# Input value check\nif t3_query_top_p < 1:\n    t3_query_top_p = 1\nelif t3_query_top_p > n_components:\n    t3_query_top_p = n_components\n\n# Tiro fuori le top p gestures latenti\ntop_p_gestures = get_top_p_latent_gestures(svd_latent_gestures, t3_query_top_p)\n#top_p_gestures",
   "execution_count": 33,
   "outputs": [
    {
     "output_type": "execute_result",
     "execution_count": 33,
     "data": {
      "text/plain": "[{'PC1': [('1', 0.1527),\n   ('12', 0.1523),\n   ('13', 0.1523),\n   ('14', 0.1523),\n   ('17', 0.1518),\n   ('18', 0.1518),\n   ('19', 0.1518),\n   ('2', 0.1518),\n   ('21', 0.1518),\n   ('22', 0.1518),\n   ('24', 0.1515),\n   ('25', 0.1515),\n   ('26', 0.1515),\n   ('27', 0.1515),\n   ('28', 0.1515),\n   ('3', 0.1513),\n   ('31', 0.1509),\n   ('32', 0.1509),\n   ('33', 0.1509),\n   ('34', 0.1509),\n   ('35', 0.1509),\n   ('36', 0.1509),\n   ('37', 0.1509),\n   ('38', 0.1509),\n   ('39', 0.1509),\n   ('40', 0.1506),\n   ('43', 0.1498),\n   ('45', 0.1498),\n   ('47', 0.1498),\n   ('44', 0.1497),\n   ('50', 0.1484),\n   ('54', 0.1476),\n   ('55', 0.1476),\n   ('56', 0.1476),\n   ('58', 0.1471),\n   ('6', 0.1467),\n   ('7', 0.1467),\n   ('8', 0.1467),\n   ('9', 0.1467),\n   ('60', 0.1466),\n   ('59', 0.0933),\n   ('57', 0.0927),\n   ('51', 0.0905),\n   ('53', 0.0905),\n   ('49', 0.0898),\n   ('48', 0.0897),\n   ('5', 0.0897),\n   ('41', 0.0867),\n   ('42', 0.0867),\n   ('30', 0.0794),\n   ('23', 0.075),\n   ('16', 0.0704),\n   ('10', 0.0683),\n   ('4', 0.0391),\n   ('29', 0.0287),\n   ('15', 0.017),\n   ('11', 0.0139),\n   ('20', 0.0081),\n   ('46', 0.0054),\n   ('52', 0.0029)]},\n {'PC2': [('10', 0.2512),\n   ('23', 0.2501),\n   ('16', 0.2499),\n   ('30', 0.2464),\n   ('42', 0.2376),\n   ('53', 0.2368),\n   ('48', 0.2365),\n   ('49', 0.2365),\n   ('41', 0.2364),\n   ('5', 0.2362),\n   ('51', 0.2352),\n   ('57', 0.2324),\n   ('59', 0.2307),\n   ('11', 0.1803),\n   ('15', 0.1788),\n   ('29', 0.1724),\n   ('4', 0.1611),\n   ('20', 0.1157),\n   ('6', 0.0858),\n   ('60', 0.0858),\n   ('7', 0.0858),\n   ('8', 0.0858),\n   ('9', 0.0858),\n   ('46', 0.0837),\n   ('58', 0.0815),\n   ('55', 0.0772),\n   ('56', 0.0772),\n   ('54', 0.0771),\n   ('50', 0.0683),\n   ('52', 0.0585),\n   ('43', 0.0551),\n   ('44', 0.0551),\n   ('45', 0.0551),\n   ('47', 0.0551),\n   ('40', 0.0462),\n   ('31', 0.0419),\n   ('32', 0.0419),\n   ('33', 0.0419),\n   ('34', 0.0419),\n   ('35', 0.0419),\n   ('36', 0.0419),\n   ('37', 0.0419),\n   ('38', 0.0419),\n   ('39', 0.0419),\n   ('3', 0.0373),\n   ('24', 0.0327),\n   ('25', 0.0327),\n   ('26', 0.0327),\n   ('27', 0.0327),\n   ('28', 0.0327),\n   ('21', 0.0281),\n   ('22', 0.0281),\n   ('17', 0.028),\n   ('18', 0.028),\n   ('19', 0.028),\n   ('2', 0.028),\n   ('12', 0.0186),\n   ('13', 0.0186),\n   ('14', 0.0186),\n   ('1', 0.0091)]},\n {'PC3': [('52', 0.3852),\n   ('20', 0.3611),\n   ('46', 0.3572),\n   ('4', 0.3542),\n   ('29', 0.3523),\n   ('15', 0.3134),\n   ('11', 0.305),\n   ('10', 0.159),\n   ('16', 0.1535),\n   ('23', 0.1183),\n   ('41', 0.1129),\n   ('42', 0.1127),\n   ('30', 0.1115),\n   ('5', 0.0867),\n   ('48', 0.0861),\n   ('49', 0.0859),\n   ('51', 0.0856),\n   ('53', 0.0544),\n   ('59', 0.053),\n   ('57', 0.0528),\n   ('1', 0.0499),\n   ('12', 0.0343),\n   ('13', 0.0343),\n   ('14', 0.0343),\n   ('40', 0.0265),\n   ('25', 0.0244),\n   ('26', 0.0244),\n   ('27', 0.0244),\n   ('28', 0.0244),\n   ('24', 0.0243),\n   ('17', 0.0177),\n   ('18', 0.0177),\n   ('19', 0.0177),\n   ('2', 0.0177),\n   ('21', 0.0176),\n   ('22', 0.0176),\n   ('6', 0.0152),\n   ('60', 0.0152),\n   ('7', 0.0152),\n   ('8', 0.0152),\n   ('9', 0.0152),\n   ('43', 0.0136),\n   ('44', 0.0136),\n   ('45', 0.0136),\n   ('47', 0.0136),\n   ('58', 0.0122),\n   ('54', 0.0092),\n   ('55', 0.0092),\n   ('56', 0.0092),\n   ('3', 0.0042),\n   ('31', 0.0022),\n   ('32', 0.0022),\n   ('33', 0.0022),\n   ('34', 0.0022),\n   ('35', 0.0022),\n   ('36', 0.0022),\n   ('37', 0.0022),\n   ('38', 0.0022),\n   ('39', 0.0022),\n   ('50', 0.0012)]},\n {'PC4': [('46', 0.4422),\n   ('52', 0.41),\n   ('20', 0.3816),\n   ('29', 0.3175),\n   ('15', 0.3143),\n   ('4', 0.3023),\n   ('11', 0.2883),\n   ('59', 0.1242),\n   ('57', 0.1217),\n   ('53', 0.1169),\n   ('1', 0.1083),\n   ('12', 0.0707),\n   ('13', 0.0707),\n   ('14', 0.0707),\n   ('51', 0.0667),\n   ('5', 0.0654),\n   ('48', 0.0645),\n   ('49', 0.0639),\n   ('43', 0.0514),\n   ('44', 0.0514),\n   ('45', 0.0514),\n   ('47', 0.0514),\n   ('40', 0.0503),\n   ('16', 0.0437),\n   ('50', 0.0346),\n   ('21', 0.0286),\n   ('22', 0.0286),\n   ('17', 0.0284),\n   ('18', 0.0284),\n   ('19', 0.0284),\n   ('2', 0.0284),\n   ('24', 0.0276),\n   ('25', 0.0276),\n   ('26', 0.0276),\n   ('27', 0.0276),\n   ('28', 0.0276),\n   ('10', 0.0256),\n   ('30', 0.0225),\n   ('55', 0.0188),\n   ('56', 0.0188),\n   ('54', 0.0187),\n   ('31', 0.0133),\n   ('32', 0.0133),\n   ('33', 0.0133),\n   ('34', 0.0133),\n   ('35', 0.0133),\n   ('36', 0.0133),\n   ('37', 0.0133),\n   ('38', 0.0133),\n   ('39', 0.0133),\n   ('23', 0.0113),\n   ('3', 0.0113),\n   ('58', 0.0082),\n   ('42', 0.0065),\n   ('41', 0.0056),\n   ('6', 0.0025),\n   ('60', 0.0025),\n   ('7', 0.0025),\n   ('8', 0.0025),\n   ('9', 0.0025)]},\n {'PC5': [('4', 0.3566),\n   ('10', 0.2549),\n   ('16', 0.241),\n   ('11', 0.2008),\n   ('20', 0.1957),\n   ('15', 0.1821),\n   ('29', 0.164),\n   ('58', 0.1603),\n   ('54', 0.1596),\n   ('55', 0.1595),\n   ('56', 0.1595),\n   ('41', 0.1592),\n   ('42', 0.1592),\n   ('6', 0.1563),\n   ('60', 0.1563),\n   ('7', 0.1563),\n   ('8', 0.1563),\n   ('9', 0.1563),\n   ('50', 0.1269),\n   ('5', 0.1267),\n   ('48', 0.1266),\n   ('49', 0.1263),\n   ('24', 0.1252),\n   ('25', 0.1251),\n   ('26', 0.1251),\n   ('27', 0.1251),\n   ('28', 0.1251),\n   ('21', 0.1112),\n   ('22', 0.1112),\n   ('17', 0.1111),\n   ('18', 0.1111),\n   ('19', 0.1111),\n   ('2', 0.1111),\n   ('51', 0.1047),\n   ('53', 0.0864),\n   ('3', 0.0855),\n   ('23', 0.0813),\n   ('31', 0.0786),\n   ('32', 0.0785),\n   ('33', 0.0785),\n   ('34', 0.0785),\n   ('35', 0.0785),\n   ('36', 0.0785),\n   ('37', 0.0785),\n   ('38', 0.0785),\n   ('39', 0.0785),\n   ('52', 0.0785),\n   ('1', 0.0663),\n   ('43', 0.0622),\n   ('45', 0.0622),\n   ('44', 0.0621),\n   ('47', 0.0621),\n   ('30', 0.0404),\n   ('46', 0.0389),\n   ('12', 0.0258),\n   ('13', 0.0258),\n   ('14', 0.0258),\n   ('59', 0.0233),\n   ('40', 0.0078),\n   ('57', 0.0043)]}]"
     },
     "metadata": {}
    }
   ]
  },
  {
   "cell_type": "markdown",
   "source": "## Task 4",
   "metadata": {
    "tags": [],
    "is_collapsed": false,
    "cell_id": "00044-9cfe662a-8cc0-4eed-8c0c-f9fe6eb8fd34",
    "deepnote_cell_type": "text-cell-h2"
   }
  },
  {
   "cell_type": "code",
   "metadata": {
    "deepnote_variable_name": "t4_p_partitions",
    "deepnote_variable_value": "3",
    "cell_id": "00047-107ad2bf-4161-48cc-944f-5dd10698959d",
    "deepnote_to_be_reexecuted": false,
    "source_hash": "21bab306",
    "execution_start": 1638012943674,
    "execution_millis": 15,
    "deepnote_cell_type": "input-text"
   },
   "source": "t4_p_partitions = '3'",
   "execution_count": 34,
   "outputs": []
  },
  {
   "cell_type": "code",
   "metadata": {
    "tags": [],
    "cell_id": "00048-fa675f74-61bc-4d04-9b33-06518fb6e745",
    "deepnote_to_be_reexecuted": false,
    "source_hash": "5f16cad7",
    "execution_start": 1638012943693,
    "execution_millis": 68132732,
    "deepnote_cell_type": "code"
   },
   "source": "t4_p_partitions = int(t4_p_partitions)\n# Input value check\nif t4_p_partitions < 1:\n    t4_p_partitions = 1",
   "execution_count": 35,
   "outputs": []
  },
  {
   "cell_type": "markdown",
   "source": "### Task 4A",
   "metadata": {
    "tags": [],
    "is_collapsed": false,
    "cell_id": "00045-1989ef30-c1fe-4922-8612-930834cd9cd1",
    "deepnote_cell_type": "text-cell-h3"
   }
  },
  {
   "cell_type": "markdown",
   "source": "Partizionamento top_p_gestures in base ai loro gradi di appartenenza alle p semantiche",
   "metadata": {
    "tags": [],
    "is_collapsed": false,
    "cell_id": "00047-a0819029-fabf-499e-9cbd-2e837f0f16ab",
    "deepnote_cell_type": "text-cell-p"
   }
  },
  {
   "cell_type": "code",
   "metadata": {
    "tags": [],
    "cell_id": "00050-b8762211-11f3-4a80-a5fd-fe175ecf0f78",
    "deepnote_to_be_reexecuted": false,
    "source_hash": "6ef4c55a",
    "execution_start": 1638014710948,
    "execution_millis": 2,
    "deepnote_cell_type": "code"
   },
   "source": "# Preparo i dati\n\n# Dati reali (le top p gestures appena calcolate)\n# Essendo le top p gestures in un 'formato strano' le traduco in un array numpy (sono una lista di dizionari di liste)\nX_train = top_p_gestures_2_numpy(top_p_gestures, t3_query_top_p)\nX_test = [X_train[0]] # Prendo un dato a caso giusto x testare la predict\n#X_test = [np.array([0.5, 0.2, 0.3, 0.7, 0.1])] # Un esempio a caso deve avere p dimensioni (se non presente fra i dati deve dare None)\n\n# Semplice esempio di test su 2 dimensioni\n#X_train = [np.array([1, 1]), np.array([2, 2]), np.array([3, 3]), np.array([4, 1]), np.array([1, 2]), np.array([-1, -2]), np.array([5, 2])]\n#X_test = [np.array([4, 1]), np.array([4, 2])]",
   "execution_count": 89,
   "outputs": []
  },
  {
   "cell_type": "code",
   "metadata": {
    "tags": [],
    "cell_id": "00050-387b0fc0-e1be-4529-ae1a-41b89849d568",
    "deepnote_to_be_reexecuted": false,
    "source_hash": "1913c4ea",
    "execution_start": 1638014732557,
    "execution_millis": 20,
    "deepnote_output_heights": [
     194,
     155.60000610351562
    ],
    "deepnote_cell_type": "code"
   },
   "source": "# Creo e fitto il partizionatore selezionando t4_p_partitions come numero di gruppi da creare\npartitioner = MyPartitioner(t4_p_partitions, max_iterations=5)\npartitioner.fit(X_train)\n#partitioner.fit(gesture_sim_matrix)\nprint(\"Dimensione spazio:\", partitioner.groups_space_dimension)\nprint(\"Gruppi:\\n\", partitioner.groups)",
   "execution_count": 94,
   "outputs": [
    {
     "name": "stdout",
     "text": "Dimensione spazio: 8.678825665147778\nGruppi:\n {0: {'size': 3.600577572014271, 'conditions': [(0.0029, 0.1518), (0.028, 0.2512), (0.0022, 0.3852), (0.0025, 0.41), (0.0404, 0.3566)], 'elements': [[0.017, 0.1788, 0.3134, 0.3143, 0.1821], [0.0704, 0.2499, 0.1535, 0.0437, 0.241], [0.0081, 0.1157, 0.3611, 0.3816, 0.1957], [0.1518, 0.0281, 0.0176, 0.0286, 0.1112], [0.1515, 0.0327, 0.0244, 0.0276, 0.1251], [0.0287, 0.1724, 0.3523, 0.3175, 0.164], [0.0794, 0.2464, 0.1115, 0.0225, 0.0404], [0.1509, 0.0419, 0.0022, 0.0133, 0.0785], [0.1509, 0.0419, 0.0022, 0.0133, 0.0785], [0.1509, 0.0419, 0.0022, 0.0133, 0.0785], [0.1509, 0.0419, 0.0022, 0.0133, 0.0785], [0.1509, 0.0419, 0.0022, 0.0133, 0.0785], [0.1498, 0.0551, 0.0136, 0.0514, 0.0622], [0.0905, 0.2352, 0.0856, 0.0667, 0.1047], [0.0029, 0.0585, 0.3852, 0.41, 0.0785], [0.1476, 0.0772, 0.0092, 0.0188, 0.1595], [0.1518, 0.028, 0.0177, 0.0284, 0.1111], [0.0391, 0.1611, 0.3542, 0.3023, 0.3566], [0.1467, 0.0858, 0.0152, 0.0025, 0.1563], [0.1467, 0.0858, 0.0152, 0.0025, 0.1563], [0.0683, 0.2512, 0.159, 0.0256, 0.2549], [0.0139, 0.1803, 0.305, 0.2883, 0.2008]]}, 1: {'size': 3.1808389638951517, 'conditions': [(0.0054, 0.1527), (0.0091, 0.2376), (0.0012, 0.3572), (0.0025, 0.4422), (0.0043, 0.1603)], 'elements': [[0.1523, 0.0186, 0.0343, 0.0707, 0.0258], [0.1523, 0.0186, 0.0343, 0.0707, 0.0258], [0.1518, 0.0281, 0.0176, 0.0286, 0.1112], [0.1515, 0.0327, 0.0243, 0.0276, 0.1252], [0.1515, 0.0327, 0.0244, 0.0276, 0.1251], [0.1515, 0.0327, 0.0244, 0.0276, 0.1251], [0.1509, 0.0419, 0.0022, 0.0133, 0.0786], [0.1509, 0.0419, 0.0022, 0.0133, 0.0785], [0.0867, 0.2364, 0.1129, 0.0056, 0.1592], [0.0867, 0.2376, 0.1127, 0.0065, 0.1592], [0.1497, 0.0551, 0.0136, 0.0514, 0.0621], [0.0054, 0.0837, 0.3572, 0.4422, 0.0389], [0.0898, 0.2365, 0.0859, 0.0639, 0.1263], [0.1484, 0.0683, 0.0012, 0.0346, 0.1269], [0.0905, 0.2368, 0.0544, 0.1169, 0.0864], [0.1476, 0.0771, 0.0092, 0.0187, 0.1596], [0.0927, 0.2324, 0.0528, 0.1217, 0.0043], [0.1471, 0.0815, 0.0122, 0.0082, 0.1603], [0.1466, 0.0858, 0.0152, 0.0025, 0.1563], [0.1518, 0.028, 0.0177, 0.0284, 0.1111], [0.1527, 0.0091, 0.0499, 0.1083, 0.0663], [0.1518, 0.028, 0.0177, 0.0284, 0.1111], [0.1513, 0.0373, 0.0042, 0.0113, 0.0855], [0.1467, 0.0858, 0.0152, 0.0025, 0.1563], [0.1523, 0.0186, 0.0343, 0.0707, 0.0258]]}, 2: {'size': 1.897409129238356, 'conditions': [(0.075, 0.1518), (0.028, 0.2501), (0.0022, 0.1183), (0.0025, 0.1242), (0.0078, 0.1595)], 'elements': [[0.075, 0.2501, 0.1183, 0.0113, 0.0813], [0.1515, 0.0327, 0.0244, 0.0276, 0.1251], [0.1509, 0.0419, 0.0022, 0.0133, 0.0785], [0.1509, 0.0419, 0.0022, 0.0133, 0.0785], [0.1506, 0.0462, 0.0265, 0.0503, 0.0078], [0.1498, 0.0551, 0.0136, 0.0514, 0.0622], [0.1498, 0.0551, 0.0136, 0.0514, 0.0621], [0.0897, 0.2365, 0.0861, 0.0645, 0.1266], [0.1476, 0.0772, 0.0092, 0.0188, 0.1595], [0.0933, 0.2307, 0.053, 0.1242, 0.0233], [0.1518, 0.028, 0.0177, 0.0284, 0.1111], [0.0897, 0.2362, 0.0867, 0.0654, 0.1267], [0.1467, 0.0858, 0.0152, 0.0025, 0.1563]]}}\n",
     "output_type": "stream"
    }
   ]
  },
  {
   "cell_type": "code",
   "metadata": {
    "tags": [],
    "cell_id": "00051-57c18208-c98c-46bf-bf97-9c4d242d0c56",
    "deepnote_to_be_reexecuted": false,
    "source_hash": "13c56718",
    "execution_start": 1638014714207,
    "execution_millis": 6,
    "deepnote_cell_type": "code"
   },
   "source": "print(\"Predizione gruppi:\", partitioner.predict(X_test))",
   "execution_count": 90,
   "outputs": [
    {
     "name": "stdout",
     "text": "Predizione gruppi: [([0.5, 0.2, 0.3, 0.7, 0.1], None)]\n",
     "output_type": "stream"
    }
   ]
  },
  {
   "cell_type": "markdown",
   "source": "### Task 4B",
   "metadata": {
    "tags": [],
    "is_collapsed": false,
    "cell_id": "00046-aba01dff-15c5-4d34-91d7-d45e7d1d2aa0",
    "deepnote_cell_type": "text-cell-h3"
   }
  },
  {
   "cell_type": "markdown",
   "source": "Clustering matrice similarità gesture-gesture con un algoritmo basato sul k-means (scritto da noi)",
   "metadata": {
    "tags": [],
    "is_collapsed": false,
    "cell_id": "00049-e8f155be-1fbc-4c3e-b02b-696dfd483adc",
    "deepnote_cell_type": "text-cell-p"
   }
  },
  {
   "cell_type": "code",
   "metadata": {
    "tags": [],
    "cell_id": "00053-fc41c804-7678-4cea-b1fc-2dcc84e5b4bc",
    "deepnote_to_be_reexecuted": false,
    "source_hash": "b23cf1ab",
    "execution_start": 1638012943741,
    "execution_millis": 1,
    "deepnote_cell_type": "code"
   },
   "source": "# Settings del k-means\nk = 5 # numero clusters\nmin_tolerance = 0.1 #meno di 10% differenza va bene\nmax_iterations = 5 # max numero di iterazioni\n\n# Generazione dati fasully, giusto x testare\n#X_train = np.array([[1, 2, 3],[1, 4, 5],[2, 7, 4],[3, 9, 2],[5, 5, 5]])\n#X_test = np.array([2, 1, 1])\n\n# Oppure uso dati reali\nX_train = gestures_sim_matrix_pd.to_numpy()\n# per test del data, sono 60x60\nX_test = X_train[0:10] # Prendo tot elementi del training data e provo poi a predirli, o sotto predico un elemento nuovo\n#X_test = [np.array([1, 1, 1, 1, 1, 1, 1, 1, 1, 1, 1, 1, 1, 1, 1, 1, 1, 1, 1, 1, 1, 1, 1, 1, 1, 1, 1, 1, 1, 1, 1, 1, 1, 1, 1, 1, 1, 1, 1, 1, 1, 1, 1, 1, 1, 1, 1, 1, 1, 1, 1, 1, 1, 1, 1, 1, 1, 1, 1, 1])]",
   "execution_count": 39,
   "outputs": []
  },
  {
   "cell_type": "code",
   "metadata": {
    "tags": [],
    "cell_id": "00053-b2fce304-e4af-4e1a-b571-9d8e33f0fd20",
    "deepnote_to_be_reexecuted": false,
    "source_hash": "418ea723",
    "execution_start": 1638012943749,
    "execution_millis": 19,
    "deepnote_output_heights": [
     21.199996948242188
    ],
    "deepnote_cell_type": "code"
   },
   "source": "# Creazione e fit dell'algoritmo\nkmean = SimpleKMeans(k=k, min_tolerance=min_tolerance, max_iterations=max_iterations)\nkmean.fit(X_train)",
   "execution_count": 40,
   "outputs": []
  },
  {
   "cell_type": "code",
   "metadata": {
    "tags": [],
    "cell_id": "00054-d6a5bc9f-5bba-42b3-93b6-c5846ecf9aea",
    "deepnote_to_be_reexecuted": false,
    "source_hash": "22b3cb16",
    "execution_start": 1638012943785,
    "execution_millis": 9,
    "deepnote_output_heights": [
     21.199996948242188,
     21.199996948242188
    ],
    "deepnote_cell_type": "code"
   },
   "source": "# Predizione dati\npredictions = kmean.predict(X_test)\nprint(predictions)",
   "execution_count": 41,
   "outputs": [
    {
     "name": "stdout",
     "text": "[1, 4, 0, 1, 1, 1, 0, 4, 1, 1]\n",
     "output_type": "stream"
    }
   ]
  },
  {
   "cell_type": "markdown",
   "source": "### Task 4C",
   "metadata": {
    "tags": [],
    "is_collapsed": false,
    "cell_id": "00048-5cfa9be3-10a5-4401-bf03-b9d304c3196b",
    "deepnote_cell_type": "text-cell-h3"
   }
  },
  {
   "cell_type": "markdown",
   "source": "Clustering matrice similarità gesture-gesture con un algoritmo di clustering spettrale basato sulla matrice laplaciana",
   "metadata": {
    "tags": [],
    "is_collapsed": false,
    "cell_id": "00051-03956622-a0af-4ed6-8b21-e44448b6632d",
    "deepnote_cell_type": "text-cell-p"
   }
  },
  {
   "cell_type": "code",
   "metadata": {
    "tags": [],
    "cell_id": "00052-df70d435-7ebe-4eb7-88c2-2742141056d3",
    "deepnote_to_be_reexecuted": false,
    "source_hash": "4d046c65",
    "execution_start": 1638012943806,
    "execution_millis": 341,
    "deepnote_cell_type": "code"
   },
   "source": "analysys_spectral_results = spectral_clustering_analyze(gestures_sim_matrix_pd, max_clusters=15)\nanalysys_spectral_results = spectral_analisys_results_2_pandas(analysys_spectral_results, gestures_sim_matrix_pd)",
   "execution_count": 42,
   "outputs": []
  },
  {
   "cell_type": "code",
   "metadata": {
    "tags": [],
    "cell_id": "00053-9c0ede94-414f-46f9-a4a6-231b3beb4052",
    "deepnote_to_be_reexecuted": false,
    "source_hash": "6e9152ab",
    "execution_start": 1638012944158,
    "execution_millis": 74,
    "deepnote_output_heights": [
     527
    ],
    "deepnote_cell_type": "code"
   },
   "source": "# Plot clusters sankey\nsource, target, value = spectral_analisys_results_pandas_2_split(analysys_spectral_results)\nfig = go.Figure(data=[go.Sankey(\n    node = dict(\n        pad = 15,\n        thickness = 20,\n        line = dict(color = \"black\", width = 0.5),\n        label = list(set(source).union(set(target))),\n        color = \"blue\"\n    ),\n    link = dict(\n        source = source,\n        target = target,\n        value = value\n    )\n)])\n\nfig.update_layout(title_text=\"Spectral Clustering Evolution\", font_size=10)\nfig.show()",
   "execution_count": 43,
   "outputs": [
    {
     "data": {
      "text/html": "<html>\n<head><meta charset=\"utf-8\" /></head>\n<body>\n    <div>            <script src=\"https://cdnjs.cloudflare.com/ajax/libs/mathjax/2.7.5/MathJax.js?config=TeX-AMS-MML_SVG\"></script><script type=\"text/javascript\">if (window.MathJax) {MathJax.Hub.Config({SVG: {font: \"STIX-Web\"}});}</script>                <script type=\"text/javascript\">window.PlotlyConfig = {MathJaxConfig: 'local'};</script>\n        <script src=\"https://cdn.plot.ly/plotly-2.4.2.min.js\"></script>                <div id=\"41cfe5ba-f880-4999-b756-a05ebea5c26f\" class=\"plotly-graph-div\" style=\"height:525px; width:100%;\"></div>            <script type=\"text/javascript\">                                    window.PLOTLYENV=window.PLOTLYENV || {};                                    if (document.getElementById(\"41cfe5ba-f880-4999-b756-a05ebea5c26f\")) {                    Plotly.newPlot(                        \"41cfe5ba-f880-4999-b756-a05ebea5c26f\",                        [{\"link\":{\"source\":[0,0,1,1,2,2,5,3,3,4,9,6,7,9,8,6,13,11,14,12,10,14,13,10,10,16,16,19,15,18,15,20,17,16,17,17,22,27,26,22,27,21,24,26,23,26,25,31,34,33,33,28,35,29,32,31,41,42,44,41,36,43,44,36,36,40,40,40,40,37,38,47,53,50,49,48,45,52,47,46,51,46,51,47,56,63,59,63,58,57,54,63,54,54,62,63,60,62,60,64,61,68,73,71,67,74,72,65,75,70,76,66,69,69,81,81,86,86,86,82,79,87,87,85,77,89,83,88,78,84,80],\"target\":[1,2,5,3,3,4,9,6,7,8,13,13,11,14,12,10,16,19,15,18,15,20,20,17,16,22,27,26,21,24,27,23,23,25,25,27,31,31,34,33,33,28,35,28,29,29,32,41,42,44,41,36,43,40,37,38,47,53,50,50,49,48,49,45,53,45,52,53,47,46,51,56,63,59,58,57,54,62,60,60,64,64,61,61,68,68,73,73,71,67,74,74,72,65,75,75,70,70,76,66,69,81,86,82,79,87,85,77,89,83,88,78,84,80,103,101,95,93,101,99,92,90,101,102,90,96,100,98,91,97,94],\"value\":[53,7,40,13,4,3,40,13,4,3,19,2,4,21,3,11,20,4,11,3,2,10,1,8,1,14,3,4,12,3,1,11,2,4,5,1,6,3,2,8,2,12,3,1,13,1,9,3,2,4,6,13,3,14,9,6,8,2,3,1,6,3,1,6,1,1,11,1,1,9,6,7,4,4,7,3,7,11,1,7,1,2,5,1,7,1,4,1,7,3,5,1,1,1,9,1,1,2,7,3,6,8,5,7,3,6,1,1,10,3,7,3,4,2,7,1,3,1,1,7,3,5,1,1,1,10,3,7,3,4,2]},\"node\":{\"color\":\"blue\",\"label\":[0,1,2,3,4,5,6,7,8,9,10,11,12,13,14,15,16,17,18,19,20,21,22,23,24,25,26,27,28,29,31,32,33,34,35,36,37,38,40,41,42,43,44,45,46,47,48,49,50,51,52,53,54,56,57,58,59,60,61,62,63,64,65,66,67,68,69,70,71,72,73,74,75,76,77,78,79,80,81,82,83,84,85,86,87,88,89,90,91,92,93,94,95,96,97,98,99,100,101,102,103],\"line\":{\"color\":\"black\",\"width\":0.5},\"pad\":15,\"thickness\":20},\"type\":\"sankey\"}],                        {\"font\":{\"size\":10},\"template\":{\"data\":{\"bar\":[{\"error_x\":{\"color\":\"#2a3f5f\"},\"error_y\":{\"color\":\"#2a3f5f\"},\"marker\":{\"line\":{\"color\":\"#E5ECF6\",\"width\":0.5},\"pattern\":{\"fillmode\":\"overlay\",\"size\":10,\"solidity\":0.2}},\"type\":\"bar\"}],\"barpolar\":[{\"marker\":{\"line\":{\"color\":\"#E5ECF6\",\"width\":0.5},\"pattern\":{\"fillmode\":\"overlay\",\"size\":10,\"solidity\":0.2}},\"type\":\"barpolar\"}],\"carpet\":[{\"aaxis\":{\"endlinecolor\":\"#2a3f5f\",\"gridcolor\":\"white\",\"linecolor\":\"white\",\"minorgridcolor\":\"white\",\"startlinecolor\":\"#2a3f5f\"},\"baxis\":{\"endlinecolor\":\"#2a3f5f\",\"gridcolor\":\"white\",\"linecolor\":\"white\",\"minorgridcolor\":\"white\",\"startlinecolor\":\"#2a3f5f\"},\"type\":\"carpet\"}],\"choropleth\":[{\"colorbar\":{\"outlinewidth\":0,\"ticks\":\"\"},\"type\":\"choropleth\"}],\"contour\":[{\"colorbar\":{\"outlinewidth\":0,\"ticks\":\"\"},\"colorscale\":[[0.0,\"#0d0887\"],[0.1111111111111111,\"#46039f\"],[0.2222222222222222,\"#7201a8\"],[0.3333333333333333,\"#9c179e\"],[0.4444444444444444,\"#bd3786\"],[0.5555555555555556,\"#d8576b\"],[0.6666666666666666,\"#ed7953\"],[0.7777777777777778,\"#fb9f3a\"],[0.8888888888888888,\"#fdca26\"],[1.0,\"#f0f921\"]],\"type\":\"contour\"}],\"contourcarpet\":[{\"colorbar\":{\"outlinewidth\":0,\"ticks\":\"\"},\"type\":\"contourcarpet\"}],\"heatmap\":[{\"colorbar\":{\"outlinewidth\":0,\"ticks\":\"\"},\"colorscale\":[[0.0,\"#0d0887\"],[0.1111111111111111,\"#46039f\"],[0.2222222222222222,\"#7201a8\"],[0.3333333333333333,\"#9c179e\"],[0.4444444444444444,\"#bd3786\"],[0.5555555555555556,\"#d8576b\"],[0.6666666666666666,\"#ed7953\"],[0.7777777777777778,\"#fb9f3a\"],[0.8888888888888888,\"#fdca26\"],[1.0,\"#f0f921\"]],\"type\":\"heatmap\"}],\"heatmapgl\":[{\"colorbar\":{\"outlinewidth\":0,\"ticks\":\"\"},\"colorscale\":[[0.0,\"#0d0887\"],[0.1111111111111111,\"#46039f\"],[0.2222222222222222,\"#7201a8\"],[0.3333333333333333,\"#9c179e\"],[0.4444444444444444,\"#bd3786\"],[0.5555555555555556,\"#d8576b\"],[0.6666666666666666,\"#ed7953\"],[0.7777777777777778,\"#fb9f3a\"],[0.8888888888888888,\"#fdca26\"],[1.0,\"#f0f921\"]],\"type\":\"heatmapgl\"}],\"histogram\":[{\"marker\":{\"pattern\":{\"fillmode\":\"overlay\",\"size\":10,\"solidity\":0.2}},\"type\":\"histogram\"}],\"histogram2d\":[{\"colorbar\":{\"outlinewidth\":0,\"ticks\":\"\"},\"colorscale\":[[0.0,\"#0d0887\"],[0.1111111111111111,\"#46039f\"],[0.2222222222222222,\"#7201a8\"],[0.3333333333333333,\"#9c179e\"],[0.4444444444444444,\"#bd3786\"],[0.5555555555555556,\"#d8576b\"],[0.6666666666666666,\"#ed7953\"],[0.7777777777777778,\"#fb9f3a\"],[0.8888888888888888,\"#fdca26\"],[1.0,\"#f0f921\"]],\"type\":\"histogram2d\"}],\"histogram2dcontour\":[{\"colorbar\":{\"outlinewidth\":0,\"ticks\":\"\"},\"colorscale\":[[0.0,\"#0d0887\"],[0.1111111111111111,\"#46039f\"],[0.2222222222222222,\"#7201a8\"],[0.3333333333333333,\"#9c179e\"],[0.4444444444444444,\"#bd3786\"],[0.5555555555555556,\"#d8576b\"],[0.6666666666666666,\"#ed7953\"],[0.7777777777777778,\"#fb9f3a\"],[0.8888888888888888,\"#fdca26\"],[1.0,\"#f0f921\"]],\"type\":\"histogram2dcontour\"}],\"mesh3d\":[{\"colorbar\":{\"outlinewidth\":0,\"ticks\":\"\"},\"type\":\"mesh3d\"}],\"parcoords\":[{\"line\":{\"colorbar\":{\"outlinewidth\":0,\"ticks\":\"\"}},\"type\":\"parcoords\"}],\"pie\":[{\"automargin\":true,\"type\":\"pie\"}],\"scatter\":[{\"marker\":{\"colorbar\":{\"outlinewidth\":0,\"ticks\":\"\"}},\"type\":\"scatter\"}],\"scatter3d\":[{\"line\":{\"colorbar\":{\"outlinewidth\":0,\"ticks\":\"\"}},\"marker\":{\"colorbar\":{\"outlinewidth\":0,\"ticks\":\"\"}},\"type\":\"scatter3d\"}],\"scattercarpet\":[{\"marker\":{\"colorbar\":{\"outlinewidth\":0,\"ticks\":\"\"}},\"type\":\"scattercarpet\"}],\"scattergeo\":[{\"marker\":{\"colorbar\":{\"outlinewidth\":0,\"ticks\":\"\"}},\"type\":\"scattergeo\"}],\"scattergl\":[{\"marker\":{\"colorbar\":{\"outlinewidth\":0,\"ticks\":\"\"}},\"type\":\"scattergl\"}],\"scattermapbox\":[{\"marker\":{\"colorbar\":{\"outlinewidth\":0,\"ticks\":\"\"}},\"type\":\"scattermapbox\"}],\"scatterpolar\":[{\"marker\":{\"colorbar\":{\"outlinewidth\":0,\"ticks\":\"\"}},\"type\":\"scatterpolar\"}],\"scatterpolargl\":[{\"marker\":{\"colorbar\":{\"outlinewidth\":0,\"ticks\":\"\"}},\"type\":\"scatterpolargl\"}],\"scatterternary\":[{\"marker\":{\"colorbar\":{\"outlinewidth\":0,\"ticks\":\"\"}},\"type\":\"scatterternary\"}],\"surface\":[{\"colorbar\":{\"outlinewidth\":0,\"ticks\":\"\"},\"colorscale\":[[0.0,\"#0d0887\"],[0.1111111111111111,\"#46039f\"],[0.2222222222222222,\"#7201a8\"],[0.3333333333333333,\"#9c179e\"],[0.4444444444444444,\"#bd3786\"],[0.5555555555555556,\"#d8576b\"],[0.6666666666666666,\"#ed7953\"],[0.7777777777777778,\"#fb9f3a\"],[0.8888888888888888,\"#fdca26\"],[1.0,\"#f0f921\"]],\"type\":\"surface\"}],\"table\":[{\"cells\":{\"fill\":{\"color\":\"#EBF0F8\"},\"line\":{\"color\":\"white\"}},\"header\":{\"fill\":{\"color\":\"#C8D4E3\"},\"line\":{\"color\":\"white\"}},\"type\":\"table\"}]},\"layout\":{\"annotationdefaults\":{\"arrowcolor\":\"#2a3f5f\",\"arrowhead\":0,\"arrowwidth\":1},\"autotypenumbers\":\"strict\",\"coloraxis\":{\"colorbar\":{\"outlinewidth\":0,\"ticks\":\"\"}},\"colorscale\":{\"diverging\":[[0,\"#8e0152\"],[0.1,\"#c51b7d\"],[0.2,\"#de77ae\"],[0.3,\"#f1b6da\"],[0.4,\"#fde0ef\"],[0.5,\"#f7f7f7\"],[0.6,\"#e6f5d0\"],[0.7,\"#b8e186\"],[0.8,\"#7fbc41\"],[0.9,\"#4d9221\"],[1,\"#276419\"]],\"sequential\":[[0.0,\"#0d0887\"],[0.1111111111111111,\"#46039f\"],[0.2222222222222222,\"#7201a8\"],[0.3333333333333333,\"#9c179e\"],[0.4444444444444444,\"#bd3786\"],[0.5555555555555556,\"#d8576b\"],[0.6666666666666666,\"#ed7953\"],[0.7777777777777778,\"#fb9f3a\"],[0.8888888888888888,\"#fdca26\"],[1.0,\"#f0f921\"]],\"sequentialminus\":[[0.0,\"#0d0887\"],[0.1111111111111111,\"#46039f\"],[0.2222222222222222,\"#7201a8\"],[0.3333333333333333,\"#9c179e\"],[0.4444444444444444,\"#bd3786\"],[0.5555555555555556,\"#d8576b\"],[0.6666666666666666,\"#ed7953\"],[0.7777777777777778,\"#fb9f3a\"],[0.8888888888888888,\"#fdca26\"],[1.0,\"#f0f921\"]]},\"colorway\":[\"#636efa\",\"#EF553B\",\"#00cc96\",\"#ab63fa\",\"#FFA15A\",\"#19d3f3\",\"#FF6692\",\"#B6E880\",\"#FF97FF\",\"#FECB52\"],\"font\":{\"color\":\"#2a3f5f\"},\"geo\":{\"bgcolor\":\"white\",\"lakecolor\":\"white\",\"landcolor\":\"#E5ECF6\",\"showlakes\":true,\"showland\":true,\"subunitcolor\":\"white\"},\"hoverlabel\":{\"align\":\"left\"},\"hovermode\":\"closest\",\"mapbox\":{\"style\":\"light\"},\"paper_bgcolor\":\"white\",\"plot_bgcolor\":\"#E5ECF6\",\"polar\":{\"angularaxis\":{\"gridcolor\":\"white\",\"linecolor\":\"white\",\"ticks\":\"\"},\"bgcolor\":\"#E5ECF6\",\"radialaxis\":{\"gridcolor\":\"white\",\"linecolor\":\"white\",\"ticks\":\"\"}},\"scene\":{\"xaxis\":{\"backgroundcolor\":\"#E5ECF6\",\"gridcolor\":\"white\",\"gridwidth\":2,\"linecolor\":\"white\",\"showbackground\":true,\"ticks\":\"\",\"zerolinecolor\":\"white\"},\"yaxis\":{\"backgroundcolor\":\"#E5ECF6\",\"gridcolor\":\"white\",\"gridwidth\":2,\"linecolor\":\"white\",\"showbackground\":true,\"ticks\":\"\",\"zerolinecolor\":\"white\"},\"zaxis\":{\"backgroundcolor\":\"#E5ECF6\",\"gridcolor\":\"white\",\"gridwidth\":2,\"linecolor\":\"white\",\"showbackground\":true,\"ticks\":\"\",\"zerolinecolor\":\"white\"}},\"shapedefaults\":{\"line\":{\"color\":\"#2a3f5f\"}},\"ternary\":{\"aaxis\":{\"gridcolor\":\"white\",\"linecolor\":\"white\",\"ticks\":\"\"},\"baxis\":{\"gridcolor\":\"white\",\"linecolor\":\"white\",\"ticks\":\"\"},\"bgcolor\":\"#E5ECF6\",\"caxis\":{\"gridcolor\":\"white\",\"linecolor\":\"white\",\"ticks\":\"\"}},\"title\":{\"x\":0.05},\"xaxis\":{\"automargin\":true,\"gridcolor\":\"white\",\"linecolor\":\"white\",\"ticks\":\"\",\"title\":{\"standoff\":15},\"zerolinecolor\":\"white\",\"zerolinewidth\":2},\"yaxis\":{\"automargin\":true,\"gridcolor\":\"white\",\"linecolor\":\"white\",\"ticks\":\"\",\"title\":{\"standoff\":15},\"zerolinecolor\":\"white\",\"zerolinewidth\":2}}},\"title\":{\"text\":\"Spectral Clustering Evolution\"}},                        {\"responsive\": true}                    ).then(function(){\n                            \nvar gd = document.getElementById('41cfe5ba-f880-4999-b756-a05ebea5c26f');\nvar x = new MutationObserver(function (mutations, observer) {{\n        var display = window.getComputedStyle(gd).display;\n        if (!display || display === 'none') {{\n            console.log([gd, 'removed!']);\n            Plotly.purge(gd);\n            observer.disconnect();\n        }}\n}});\n\n// Listen for the removal of the full notebook cells\nvar notebookContainer = gd.closest('#notebook-container');\nif (notebookContainer) {{\n    x.observe(notebookContainer, {childList: true});\n}}\n\n// Listen for the clearing of the current output cell\nvar outputEl = gd.closest('.output');\nif (outputEl) {{\n    x.observe(outputEl, {childList: true});\n}}\n\n                        })                };                            </script>        </div>\n</body>\n</html>"
     },
     "metadata": {},
     "output_type": "display_data"
    }
   ]
  },
  {
   "cell_type": "code",
   "metadata": {
    "tags": [],
    "cell_id": "00054-16677564-9ecd-46f0-a9c2-0a8baed2a875",
    "deepnote_to_be_reexecuted": false,
    "source_hash": "4eccfae5",
    "execution_start": 1638012944242,
    "execution_millis": 17,
    "deepnote_output_heights": [
     611,
     611
    ],
    "deepnote_cell_type": "code"
   },
   "source": "generated_cluster_labels = spectral_clustering(gestures_sim_matrix_pd, n_clusters=t4_p_partitions)#, offset=44) # Usare offset se vogliamo mostrare i nomi dei cluster mostrati nel sankey, offset=44 per n_clusters=10\nclustering_labels = [str(elem) for elem in set(generated_cluster_labels)] # All the cluster names\nprint(\"Cluster Names:\", clustering_labels)\nprint(\"\\nClustering Result:\\n\", generated_cluster_labels)\n## In caso si voglia far vedere per bene le accoppiate (Gesture X, Label Y)\ncluster_labels_full = cluster_labels_2_pandas(generated_cluster_labels, gestures_sim_matrix_pd.columns)\nprint(\"\\nClustering Results(full info):\\n\", cluster_labels_full)",
   "execution_count": 44,
   "outputs": [
    {
     "name": "stdout",
     "text": "Cluster Names: ['0', '1', '2']\n\nClustering Result:\n [2 0 0 2 2 2 0 0 2 2 2 2 1 2 2 0 2 2 2 2 2 0 2 0 2 2 2 2 2 2 2 2 2 0 2 0 0\n 2 2 2 1 2 0 0 0 2 0 1 0 2 2 2 0 2 0 2 2 2 2 2]\n\nClustering Results(full info):\n [{'Gesture': '1', 'Label': 2}, {'Gesture': '10', 'Label': 0}, {'Gesture': '11', 'Label': 0}, {'Gesture': '12', 'Label': 2}, {'Gesture': '13', 'Label': 2}, {'Gesture': '14', 'Label': 2}, {'Gesture': '15', 'Label': 0}, {'Gesture': '16', 'Label': 0}, {'Gesture': '17', 'Label': 2}, {'Gesture': '18', 'Label': 2}, {'Gesture': '19', 'Label': 2}, {'Gesture': '2', 'Label': 2}, {'Gesture': '20', 'Label': 1}, {'Gesture': '21', 'Label': 2}, {'Gesture': '22', 'Label': 2}, {'Gesture': '23', 'Label': 0}, {'Gesture': '24', 'Label': 2}, {'Gesture': '25', 'Label': 2}, {'Gesture': '26', 'Label': 2}, {'Gesture': '27', 'Label': 2}, {'Gesture': '28', 'Label': 2}, {'Gesture': '29', 'Label': 0}, {'Gesture': '3', 'Label': 2}, {'Gesture': '30', 'Label': 0}, {'Gesture': '31', 'Label': 2}, {'Gesture': '32', 'Label': 2}, {'Gesture': '33', 'Label': 2}, {'Gesture': '34', 'Label': 2}, {'Gesture': '35', 'Label': 2}, {'Gesture': '36', 'Label': 2}, {'Gesture': '37', 'Label': 2}, {'Gesture': '38', 'Label': 2}, {'Gesture': '39', 'Label': 2}, {'Gesture': '4', 'Label': 0}, {'Gesture': '40', 'Label': 2}, {'Gesture': '41', 'Label': 0}, {'Gesture': '42', 'Label': 0}, {'Gesture': '43', 'Label': 2}, {'Gesture': '44', 'Label': 2}, {'Gesture': '45', 'Label': 2}, {'Gesture': '46', 'Label': 1}, {'Gesture': '47', 'Label': 2}, {'Gesture': '48', 'Label': 0}, {'Gesture': '49', 'Label': 0}, {'Gesture': '5', 'Label': 0}, {'Gesture': '50', 'Label': 2}, {'Gesture': '51', 'Label': 0}, {'Gesture': '52', 'Label': 1}, {'Gesture': '53', 'Label': 0}, {'Gesture': '54', 'Label': 2}, {'Gesture': '55', 'Label': 2}, {'Gesture': '56', 'Label': 2}, {'Gesture': '57', 'Label': 0}, {'Gesture': '58', 'Label': 2}, {'Gesture': '59', 'Label': 0}, {'Gesture': '6', 'Label': 2}, {'Gesture': '60', 'Label': 2}, {'Gesture': '7', 'Label': 2}, {'Gesture': '8', 'Label': 2}, {'Gesture': '9', 'Label': 2}]\n",
     "output_type": "stream"
    }
   ]
  },
  {
   "cell_type": "markdown",
   "source": "## Task 5 ",
   "metadata": {
    "tags": [],
    "is_collapsed": false,
    "cell_id": "00047-ca6ba479-67d1-47c0-9e18-3f88843cf02f",
    "deepnote_cell_type": "text-cell-h2"
   }
  },
  {
   "cell_type": "code",
   "metadata": {
    "tags": [],
    "cell_id": "00058-2377e8f9-b3be-4e2b-ad82-ca34dbc6bf86",
    "deepnote_to_be_reexecuted": false,
    "source_hash": "a85b8ee2",
    "execution_start": 1638012944262,
    "execution_millis": 220,
    "deepnote_cell_type": "code"
   },
   "source": "# Genero il dataframe pandas a partire dai dati e dalle loro labels\nX_train_df, y_train_df, reshaped_features_names = database_numpy_2_supervised_data(alg_database['np_database'], cluster_labels_full)\n\n# Fitto un normalizzatore sui dati di train\nscaler = StandardScaler()\nscaler.fit(X_train_df)\n# Normalizzo i dati di train\nX_train = scaler.transform(X_train_df)\ny_train = y_train_df.values.ravel()",
   "execution_count": 45,
   "outputs": []
  },
  {
   "cell_type": "code",
   "metadata": {
    "tags": [],
    "cell_id": "00058-3726ec68-4c3c-4662-ac55-912048f90ec3",
    "deepnote_to_be_reexecuted": false,
    "source_hash": "8d208efc",
    "execution_start": 1638012944483,
    "execution_millis": 68065051,
    "deepnote_cell_type": "code"
   },
   "source": "# Leggo i dati di test\ntest_data = [[0, 1, 1, 1, 1, 1, 1, 1, 1, 1, 1, 1, 1, 1, 1, 1], [0, 1, 1, 0, 0, 0, 0, 1, 0, 1, 0, 1, 0, 0, 1, 1]]\n\n# QUI, GUARDARE ANCHE I COMMENTI MESSI SOPRA A STO METODO IN TASK5_UTILS\nX_test_df = prepare_test_dataframe(test_data, reshaped_features_names)\n\n# Normalizzo i dati di test\nX_test = scaler.transform(X_test_df)",
   "execution_count": 46,
   "outputs": []
  },
  {
   "cell_type": "markdown",
   "source": "### Classificazione con k-nearest neighbor",
   "metadata": {
    "tags": [],
    "is_collapsed": false,
    "cell_id": "00058-be2015dd-a32d-49bd-80ca-c70d45ea5f1d",
    "deepnote_cell_type": "text-cell-h3"
   }
  },
  {
   "cell_type": "code",
   "metadata": {
    "tags": [],
    "cell_id": "00058-4219f70d-c44d-464a-a238-6f9f9f157f98",
    "deepnote_to_be_reexecuted": false,
    "source_hash": "4f673a89",
    "execution_start": 1638012944484,
    "execution_millis": 226,
    "deepnote_output_heights": [
     21.199996948242188
    ],
    "deepnote_cell_type": "code"
   },
   "source": "# Addestro il classificatore\nn_neighbors = 5 # Numero di vicini che uso x decidere la label\nclassifier = KNeighborsClassifier(n_neighbors=n_neighbors)\nclassifier.fit(X_train, y_train)",
   "execution_count": 47,
   "outputs": [
    {
     "output_type": "execute_result",
     "execution_count": 47,
     "data": {
      "text/plain": "KNeighborsClassifier()"
     },
     "metadata": {}
    }
   ]
  },
  {
   "cell_type": "code",
   "metadata": {
    "tags": [],
    "cell_id": "00061-0abd1337-9406-4c02-91b2-ad8ffdeb4137",
    "deepnote_to_be_reexecuted": false,
    "source_hash": "729d824e",
    "execution_start": 1638012944500,
    "execution_millis": 210,
    "deepnote_output_heights": [
     21.199996948242188
    ],
    "deepnote_cell_type": "code"
   },
   "source": "# Predico\ny_pred = classifier.predict(X_test)\nprint(\"(\"+str(n_neighbors)+\")NN - Predictions:\\n\", y_pred)",
   "execution_count": 48,
   "outputs": [
    {
     "name": "stdout",
     "text": "(5)NN - Predictions:\n [0 2]\n",
     "output_type": "stream"
    }
   ]
  },
  {
   "cell_type": "markdown",
   "source": "### Classificazione con decision tree",
   "metadata": {
    "tags": [],
    "is_collapsed": false,
    "cell_id": "00060-635d37c3-f66e-454d-8b84-316306713b7a",
    "deepnote_cell_type": "text-cell-h3"
   }
  },
  {
   "cell_type": "code",
   "metadata": {
    "tags": [],
    "cell_id": "00061-1a624ecf-e3d8-4eae-811d-fd06915be624",
    "deepnote_to_be_reexecuted": false,
    "source_hash": "896362cb",
    "execution_start": 1638012944523,
    "execution_millis": 243,
    "deepnote_output_heights": [
     420.66668701171875
    ],
    "deepnote_cell_type": "code"
   },
   "source": "# Addestro l'albero di decisione\nclf = tree.DecisionTreeClassifier()#(max_depth=10)\nclf = clf.fit(X_train, y_train)\n\n# Eseguo il plot dell'albero di decisione creato\ndot_data = tree.export_graphviz(clf, out_file=None,\n    feature_names=reshaped_features_names,\n    class_names=clustering_labels, #['Ugo', 'Federico', 'D.Va'],\n    filled=True, rounded=True,\n    special_characters=True)\ngraph = graphviz.Source(dot_data)\ngraph",
   "execution_count": 49,
   "outputs": [
    {
     "output_type": "execute_result",
     "execution_count": 49,
     "data": {
      "text/plain": "<graphviz.sources.Source at 0x7f7e37cb67d0>",
      "image/svg+xml": "<?xml version=\"1.0\" encoding=\"UTF-8\" standalone=\"no\"?>\n<!DOCTYPE svg PUBLIC \"-//W3C//DTD SVG 1.1//EN\"\n \"http://www.w3.org/Graphics/SVG/1.1/DTD/svg11.dtd\">\n<!-- Generated by graphviz version 2.40.1 (20161225.0304)\n -->\n<!-- Title: Tree Pages: 1 -->\n<svg width=\"385pt\" height=\"314pt\"\n viewBox=\"0.00 0.00 385.00 314.00\" xmlns=\"http://www.w3.org/2000/svg\" xmlns:xlink=\"http://www.w3.org/1999/xlink\">\n<g id=\"graph0\" class=\"graph\" transform=\"scale(1 1) rotate(0) translate(4 310)\">\n<title>Tree</title>\n<polygon fill=\"#ffffff\" stroke=\"transparent\" points=\"-4,4 -4,-310 381,-310 381,4 -4,4\"/>\n<!-- 0 -->\n<g id=\"node1\" class=\"node\">\n<title>0</title>\n<path fill=\"#bc95f1\" stroke=\"#000000\" d=\"M289.5,-306C289.5,-306 163.5,-306 163.5,-306 157.5,-306 151.5,-300 151.5,-294 151.5,-294 151.5,-235 151.5,-235 151.5,-229 157.5,-223 163.5,-223 163.5,-223 289.5,-223 289.5,-223 295.5,-223 301.5,-229 301.5,-235 301.5,-235 301.5,-294 301.5,-294 301.5,-300 295.5,-306 289.5,-306\"/>\n<text text-anchor=\"start\" x=\"179.5\" y=\"-290.8\" font-family=\"Helvetica,sans-Serif\" font-size=\"14.00\" fill=\"#000000\">F11 ≤ &#45;0.348</text>\n<text text-anchor=\"start\" x=\"182.5\" y=\"-275.8\" font-family=\"Helvetica,sans-Serif\" font-size=\"14.00\" fill=\"#000000\">gini = 0.473</text>\n<text text-anchor=\"start\" x=\"176.5\" y=\"-260.8\" font-family=\"Helvetica,sans-Serif\" font-size=\"14.00\" fill=\"#000000\">samples = 60</text>\n<text text-anchor=\"start\" x=\"159.5\" y=\"-245.8\" font-family=\"Helvetica,sans-Serif\" font-size=\"14.00\" fill=\"#000000\">value = [17, 3, 40]</text>\n<text text-anchor=\"start\" x=\"193.5\" y=\"-230.8\" font-family=\"Helvetica,sans-Serif\" font-size=\"14.00\" fill=\"#000000\">class = 2</text>\n</g>\n<!-- 1 -->\n<g id=\"node2\" class=\"node\">\n<title>1</title>\n<path fill=\"#ea975c\" stroke=\"#000000\" d=\"M206,-187C206,-187 89,-187 89,-187 83,-187 77,-181 77,-175 77,-175 77,-116 77,-116 77,-110 83,-104 89,-104 89,-104 206,-104 206,-104 212,-104 218,-110 218,-116 218,-116 218,-175 218,-175 218,-181 212,-187 206,-187\"/>\n<text text-anchor=\"start\" x=\"103.5\" y=\"-171.8\" font-family=\"Helvetica,sans-Serif\" font-size=\"14.00\" fill=\"#000000\">F13 ≤ 2.063</text>\n<text text-anchor=\"start\" x=\"103.5\" y=\"-156.8\" font-family=\"Helvetica,sans-Serif\" font-size=\"14.00\" fill=\"#000000\">gini = 0.255</text>\n<text text-anchor=\"start\" x=\"97.5\" y=\"-141.8\" font-family=\"Helvetica,sans-Serif\" font-size=\"14.00\" fill=\"#000000\">samples = 20</text>\n<text text-anchor=\"start\" x=\"85\" y=\"-126.8\" font-family=\"Helvetica,sans-Serif\" font-size=\"14.00\" fill=\"#000000\">value = [17, 3, 0]</text>\n<text text-anchor=\"start\" x=\"114.5\" y=\"-111.8\" font-family=\"Helvetica,sans-Serif\" font-size=\"14.00\" fill=\"#000000\">class = 0</text>\n</g>\n<!-- 0&#45;&gt;1 -->\n<g id=\"edge1\" class=\"edge\">\n<title>0&#45;&gt;1</title>\n<path fill=\"none\" stroke=\"#000000\" d=\"M198.8696,-222.8796C193.07,-214.1434 186.8941,-204.8404 180.9092,-195.8253\"/>\n<polygon fill=\"#000000\" stroke=\"#000000\" points=\"183.6951,-193.6935 175.2483,-187.2981 177.8632,-197.5652 183.6951,-193.6935\"/>\n<text text-anchor=\"middle\" x=\"170.2978\" y=\"-208.103\" font-family=\"Helvetica,sans-Serif\" font-size=\"14.00\" fill=\"#000000\">True</text>\n</g>\n<!-- 4 -->\n<g id=\"node5\" class=\"node\">\n<title>4</title>\n<path fill=\"#8139e5\" stroke=\"#000000\" d=\"M365,-179.5C365,-179.5 248,-179.5 248,-179.5 242,-179.5 236,-173.5 236,-167.5 236,-167.5 236,-123.5 236,-123.5 236,-117.5 242,-111.5 248,-111.5 248,-111.5 365,-111.5 365,-111.5 371,-111.5 377,-117.5 377,-123.5 377,-123.5 377,-167.5 377,-167.5 377,-173.5 371,-179.5 365,-179.5\"/>\n<text text-anchor=\"start\" x=\"271.5\" y=\"-164.3\" font-family=\"Helvetica,sans-Serif\" font-size=\"14.00\" fill=\"#000000\">gini = 0.0</text>\n<text text-anchor=\"start\" x=\"256.5\" y=\"-149.3\" font-family=\"Helvetica,sans-Serif\" font-size=\"14.00\" fill=\"#000000\">samples = 40</text>\n<text text-anchor=\"start\" x=\"244\" y=\"-134.3\" font-family=\"Helvetica,sans-Serif\" font-size=\"14.00\" fill=\"#000000\">value = [0, 0, 40]</text>\n<text text-anchor=\"start\" x=\"273.5\" y=\"-119.3\" font-family=\"Helvetica,sans-Serif\" font-size=\"14.00\" fill=\"#000000\">class = 2</text>\n</g>\n<!-- 0&#45;&gt;4 -->\n<g id=\"edge4\" class=\"edge\">\n<title>0&#45;&gt;4</title>\n<path fill=\"none\" stroke=\"#000000\" d=\"M254.4801,-222.8796C262.0203,-211.6636 270.1887,-199.5131 277.7691,-188.2372\"/>\n<polygon fill=\"#000000\" stroke=\"#000000\" points=\"280.7566,-190.0667 283.4311,-179.8149 274.9473,-186.1612 280.7566,-190.0667\"/>\n<text text-anchor=\"middle\" x=\"288.2392\" y=\"-200.6482\" font-family=\"Helvetica,sans-Serif\" font-size=\"14.00\" fill=\"#000000\">False</text>\n</g>\n<!-- 2 -->\n<g id=\"node3\" class=\"node\">\n<title>2</title>\n<path fill=\"#e58139\" stroke=\"#000000\" d=\"M129,-68C129,-68 12,-68 12,-68 6,-68 0,-62 0,-56 0,-56 0,-12 0,-12 0,-6 6,0 12,0 12,0 129,0 129,0 135,0 141,-6 141,-12 141,-12 141,-56 141,-56 141,-62 135,-68 129,-68\"/>\n<text text-anchor=\"start\" x=\"35.5\" y=\"-52.8\" font-family=\"Helvetica,sans-Serif\" font-size=\"14.00\" fill=\"#000000\">gini = 0.0</text>\n<text text-anchor=\"start\" x=\"20.5\" y=\"-37.8\" font-family=\"Helvetica,sans-Serif\" font-size=\"14.00\" fill=\"#000000\">samples = 17</text>\n<text text-anchor=\"start\" x=\"8\" y=\"-22.8\" font-family=\"Helvetica,sans-Serif\" font-size=\"14.00\" fill=\"#000000\">value = [17, 0, 0]</text>\n<text text-anchor=\"start\" x=\"37.5\" y=\"-7.8\" font-family=\"Helvetica,sans-Serif\" font-size=\"14.00\" fill=\"#000000\">class = 0</text>\n</g>\n<!-- 1&#45;&gt;2 -->\n<g id=\"edge2\" class=\"edge\">\n<title>1&#45;&gt;2</title>\n<path fill=\"none\" stroke=\"#000000\" d=\"M118.828,-103.9815C112.6715,-95.0666 106.1557,-85.6313 99.9695,-76.6734\"/>\n<polygon fill=\"#000000\" stroke=\"#000000\" points=\"102.7245,-74.5034 94.1619,-68.2637 96.9645,-78.4811 102.7245,-74.5034\"/>\n</g>\n<!-- 3 -->\n<g id=\"node4\" class=\"node\">\n<title>3</title>\n<path fill=\"#39e581\" stroke=\"#000000\" d=\"M279.5,-68C279.5,-68 171.5,-68 171.5,-68 165.5,-68 159.5,-62 159.5,-56 159.5,-56 159.5,-12 159.5,-12 159.5,-6 165.5,0 171.5,0 171.5,0 279.5,0 279.5,0 285.5,0 291.5,-6 291.5,-12 291.5,-12 291.5,-56 291.5,-56 291.5,-62 285.5,-68 279.5,-68\"/>\n<text text-anchor=\"start\" x=\"190.5\" y=\"-52.8\" font-family=\"Helvetica,sans-Serif\" font-size=\"14.00\" fill=\"#000000\">gini = 0.0</text>\n<text text-anchor=\"start\" x=\"180\" y=\"-37.8\" font-family=\"Helvetica,sans-Serif\" font-size=\"14.00\" fill=\"#000000\">samples = 3</text>\n<text text-anchor=\"start\" x=\"167.5\" y=\"-22.8\" font-family=\"Helvetica,sans-Serif\" font-size=\"14.00\" fill=\"#000000\">value = [0, 3, 0]</text>\n<text text-anchor=\"start\" x=\"192.5\" y=\"-7.8\" font-family=\"Helvetica,sans-Serif\" font-size=\"14.00\" fill=\"#000000\">class = 1</text>\n</g>\n<!-- 1&#45;&gt;3 -->\n<g id=\"edge3\" class=\"edge\">\n<title>1&#45;&gt;3</title>\n<path fill=\"none\" stroke=\"#000000\" d=\"M176.5443,-103.9815C182.7808,-95.0666 189.3813,-85.6313 195.6478,-76.6734\"/>\n<polygon fill=\"#000000\" stroke=\"#000000\" points=\"198.6665,-78.464 201.5308,-68.2637 192.9307,-74.4515 198.6665,-78.464\"/>\n</g>\n</g>\n</svg>\n"
     },
     "metadata": {}
    }
   ]
  },
  {
   "cell_type": "code",
   "metadata": {
    "tags": [],
    "cell_id": "00063-1463aafe-6ead-4826-9b72-f408a4ba5066",
    "deepnote_to_be_reexecuted": false,
    "source_hash": "5b3b215d",
    "execution_start": 1638012944643,
    "execution_millis": 123,
    "deepnote_output_heights": [
     21.199996948242188
    ],
    "deepnote_cell_type": "code"
   },
   "source": "# Predico con l'albero di decisione\ny_pred = clf.predict(X_test)\nprint(\"DT - Predictions:\\n\", y_pred)",
   "execution_count": 50,
   "outputs": [
    {
     "name": "stdout",
     "text": "DT - Predictions:\n [2 2]\n",
     "output_type": "stream"
    }
   ]
  },
  {
   "cell_type": "code",
   "metadata": {
    "tags": [],
    "cell_id": "00066-47aa80fa-7c34-46da-8f1b-77ee86f8b4fe",
    "deepnote_to_be_reexecuted": false,
    "source_hash": "b623e53d",
    "execution_start": 1638012944655,
    "execution_millis": 6,
    "deepnote_cell_type": "code"
   },
   "source": "",
   "execution_count": 50,
   "outputs": []
  },
  {
   "cell_type": "markdown",
   "source": "<a style='text-decoration:none;line-height:16px;display:flex;color:#5B5B62;padding:10px;justify-content:end;' href='https://deepnote.com?utm_source=created-in-deepnote-cell&projectId=81dda25b-3b1c-4959-acc8-4a8b980be717' target=\"_blank\">\n<img alt='Created in deepnote.com' style='display:inline;max-height:16px;margin:0px;margin-right:7.5px;' src='data:image/svg+xml;base64,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' > </img>\nCreated in <span style='font-weight:600;margin-left:4px;'>Deepnote</span></a>",
   "metadata": {
    "tags": [],
    "created_in_deepnote_cell": true,
    "deepnote_cell_type": "markdown"
   }
  }
 ],
 "nbformat": 4,
 "nbformat_minor": 2,
 "metadata": {
  "orig_nbformat": 2,
  "deepnote": {
   "is_reactive": false
  },
  "deepnote_notebook_id": "e09f2adf-083e-4839-9bb5-7d8776406a70",
  "deepnote_execution_queue": []
 }
}