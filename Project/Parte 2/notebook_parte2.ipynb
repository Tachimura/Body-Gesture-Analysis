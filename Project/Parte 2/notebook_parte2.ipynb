{
 "cells": [
  {
   "cell_type": "markdown",
   "source": "# BDM Exam Project - Part 2",
   "metadata": {
    "tags": [],
    "cell_id": "00000-8372ca05-7983-4b78-9184-019ba314114c",
    "deepnote_cell_type": "markdown"
   }
  },
  {
   "cell_type": "markdown",
   "source": "## DOMANDE X PROF:\nTASK 4:\n\nPARTE C:\n- L'algoritmo di clustering spettrale si costruisce automaticamente la matrice laplaciana, possiamo usarlo o meno? (in ogni caso abbiamo descritto come si creerebbe)\n<br>\n\nTASK 5:\n- Nel paper non c'è scritto nulla, possiamo usare Knn e decision-tree già scritti o dobbiamo scriverli di nostro? (in task 4 c'è scritto di scriverli da 0, qua no)\n- I dati da clusterizzare possiamo già caricarli prima ed eseguire tutte le operazioni man mano?(o preferisce vengano fatti tutti di colpo alla fine (all'inizio del task 5)) (words -> vettorizzazione -> ecc...) (ora come ora facciamo cosi)\n- Dizionario può essere da ampliare se usiamo anche dei dati di test (o generiamo uno come merge dei due dati, oppure i dati di train dobbiamo modificarli in modo tale che i valori cadano nel nostro alfabeto) (noi abbiamo scelto il primo metodo anche avendo i dati del task5 vengono generati man mano) è preferibile la seconda?",
   "metadata": {
    "tags": [],
    "cell_id": "00001-2ee25412-9938-49fa-8a53-fdc27702ec77",
    "deepnote_cell_type": "markdown"
   }
  },
  {
   "cell_type": "markdown",
   "source": "## TODO:\nTASK 0\n- [x] DONE\n\nTASK1\n- Fixare LDA scrauso, bisogna capire che label passarci dato che è supervisionato!\n\nTASK2\n- Implementare Opzione #1\n- Implementare Opzione (#2,#3 QUESTE DUE CONTROLLARE SE GIà FUNZIONA), (#4 ANCORA DA IMPLEMENTARE LDA)\n- Implementare Opzione #5\n- Implementare Opzione #6\n\n\nTASK3\n- punto 1) 4 opzioni di implementazioni co0me nel task2\n- NOTA BENE: le 3 parti devono funzionare senza cambiare codice (indifferentemente da cosa abbiamo scelto prima, l'input per la parte 4 DEVE essere sempre lo stesso)\n\nTASK4\n- [x] DONE\n\nTASK 5\n- [x] DONE\n",
   "metadata": {
    "tags": [],
    "cell_id": "00001-36d412ad-00a8-4bff-a4a6-6e2b48a48bc2",
    "deepnote_cell_type": "markdown"
   }
  },
  {
   "cell_type": "markdown",
   "source": "## Imports",
   "metadata": {
    "tags": [],
    "is_collapsed": false,
    "cell_id": "00001-e7a911cb-1821-422d-8f2f-057c00b923a7",
    "deepnote_cell_type": "text-cell-h2"
   }
  },
  {
   "cell_type": "code",
   "metadata": {
    "tags": [],
    "cell_id": "00002-cb5942af-91be-4d6f-8734-41bb867f669d",
    "deepnote_to_be_reexecuted": false,
    "source_hash": "57214b0e",
    "execution_start": 1638019443023,
    "execution_millis": 2205,
    "deepnote_cell_type": "code"
   },
   "source": "# General utils\nimport os\nimport shutil\nimport numpy as np\n\n# per i plot\nimport plotly.express as px\nimport plotly.graph_objects as go\n# ---------- ---------- ---------- ---------- ----------\n\n# My general utils\nfrom my_utils import get_files_name\n# ---------- ---------- ---------- ---------- ----------\n\n# Task 0\nfrom task0_utils import task0_stats\n# Parte A\nfrom task0_utils import generate_alphabet\nfrom task0_utils import update_alphabet\nfrom task0_utils import gesture_2_word\nfrom task0_utils import write_word_as_json\nfrom task0_utils import generate_dizionario_parole_from_gesturewordsdict\n# Parte B\nfrom task0_utils import gesture_words_preprocessing\nfrom task0_utils import show_gesture_metrics\n# ---------- ---------- ---------- ---------- ----------\n\n# Task 1\nfrom task1_utils import read_gesture_measures_reduced\nfrom task1_utils import metrics_reduced_2_numpy\nfrom task1_utils import metrics_numpy_2_pandas\nfrom task1_utils import metrics_numpy_2_PCA\nfrom task1_utils import metrics_numpy_2_LDA\nfrom task1_utils import metrics_numpy_2_SVD\nfrom task1_utils import get_top_k_latent_features\nfrom task1_utils import prepare_alg_variances_to_plot\n# ---------- ---------- ---------- ---------- ----------\n\n# Task 2\nfrom task2_utils import find_k_most_similar\nfrom task2_utils import generate_alg_database\n# ---------- ---------- ---------- ---------- ----------\n\n# Task 3\nfrom task3_utils import generate_gestures_similarity_matrix\nfrom task3_utils import gestures_similarity_matrix_2_pandas\nfrom task3_utils import generate_gesture_gesture_svd\nfrom task3_utils import get_top_p_latent_gestures\n# ---------- ---------- ---------- ---------- ----------\n\n# Task 4\nfrom task4_utils import cluster_labels_2_pandas\nfrom task4_utils import top_p_gestures_2_numpy\n# Parte A\nfrom task4_utils import MyPartitioner\n# Parte B\nfrom task4_utils import SimpleKMeans\n# Parte C\nfrom task4_utils import spectral_clustering_analyze\nfrom task4_utils import spectral_analisys_results_2_pandas\nfrom task4_utils import spectral_analisys_results_pandas_2_split\nfrom task4_utils import spectral_clustering\n# ---------- ---------- ---------- ---------- ----------\n\n# Task 5\nfrom task5_utils import database_numpy_2_supervised_data\nfrom task5_utils import prepare_test_dataframe\n\nfrom sklearn.preprocessing import StandardScaler\n# KNN classifier\nfrom sklearn.neighbors import KNeighborsClassifier\n# Decision Tree classifier\nfrom sklearn import tree\nimport graphviz \n# ---------- ---------- ---------- ---------- ----------",
   "outputs": [],
   "execution_count": null
  },
  {
   "cell_type": "code",
   "source": "# Questi 3 input servono x la parte di classificazione della parte 5, gestiamo questi dati in co-op a quelli di 'train' x semplicità nostra\n# Si può facilmente eseguire tutto dopo richiamando in ordine i vari metodi e controllando le scelte fatte in precedenza dall'utente (task 2/3)",
   "metadata": {
    "tags": [],
    "cell_id": "00005-09abda27-a5c9-4259-a39d-d199a5716d3b",
    "deepnote_to_be_reexecuted": false,
    "source_hash": "489ca401",
    "execution_start": 1638019445243,
    "execution_millis": 46,
    "deepnote_cell_type": "code"
   },
   "outputs": [],
   "execution_count": null
  },
  {
   "cell_type": "code",
   "source": "t5_csv_directory = '../Dati_Classificazione/csv/'",
   "metadata": {
    "deepnote_variable_name": "t5_csv_directory",
    "deepnote_variable_value": "../Dati_Classificazione/csv/",
    "cell_id": "00006-b42a21a8-0014-4e0b-a854-75c99eb75441",
    "deepnote_to_be_reexecuted": false,
    "source_hash": "343c6d8e",
    "execution_start": 1638019445290,
    "execution_millis": 44,
    "deepnote_cell_type": "input-text"
   },
   "outputs": [],
   "execution_count": null
  },
  {
   "cell_type": "code",
   "source": "t5_words_directory = '../Dati_Classificazione/words/'",
   "metadata": {
    "deepnote_variable_name": "t5_words_directory",
    "deepnote_variable_value": "../Dati_Classificazione/words/",
    "cell_id": "00007-7ae4c672-2443-4e54-81b9-96b92322acfd",
    "deepnote_to_be_reexecuted": false,
    "source_hash": "56481a7e",
    "execution_start": 1638019445335,
    "execution_millis": 5,
    "deepnote_cell_type": "input-text"
   },
   "outputs": [],
   "execution_count": null
  },
  {
   "cell_type": "code",
   "source": "t5_vectors_directory = '../Dati_Classificazione/vectors/'",
   "metadata": {
    "deepnote_variable_name": "t5_vectors_directory",
    "deepnote_variable_value": "../Dati_Classificazione/vectors/",
    "cell_id": "00008-1cfb79dc-c978-4e95-b28c-6c310f77d7a4",
    "deepnote_to_be_reexecuted": false,
    "source_hash": "d211de9",
    "execution_start": 1638019445406,
    "execution_millis": 224240,
    "deepnote_cell_type": "input-text"
   },
   "outputs": [],
   "execution_count": null
  },
  {
   "cell_type": "markdown",
   "source": "## Task 0",
   "metadata": {
    "tags": [],
    "is_collapsed": false,
    "cell_id": "00003-44add2df-f923-4f64-bca8-a523401b6bfc",
    "deepnote_cell_type": "text-cell-h2"
   }
  },
  {
   "cell_type": "code",
   "metadata": {
    "deepnote_variable_name": "path_csv_directory",
    "deepnote_variable_value": "../Dati_2/csv/",
    "cell_id": "00003-654eb8b5-36b7-4241-ab02-b10556446202",
    "deepnote_to_be_reexecuted": false,
    "source_hash": "b7faf05a",
    "execution_start": 1638019445450,
    "execution_millis": 0,
    "deepnote_cell_type": "input-text"
   },
   "source": "path_csv_directory = '../Dati_2/csv/'",
   "outputs": [],
   "execution_count": null
  },
  {
   "cell_type": "code",
   "metadata": {
    "deepnote_variable_name": "path_words_directory",
    "deepnote_variable_value": "../Dati_2/words/",
    "cell_id": "00006-abe6fad0-cc88-44ef-b239-4a3ab59617ca",
    "deepnote_to_be_reexecuted": false,
    "source_hash": "14bb7c6c",
    "execution_start": 1638019445494,
    "execution_millis": 224236,
    "deepnote_cell_type": "input-text"
   },
   "source": "path_words_directory = '../Dati_2/words/'",
   "outputs": [],
   "execution_count": null
  },
  {
   "cell_type": "code",
   "metadata": {
    "deepnote_variable_name": "path_vectors_directory",
    "deepnote_variable_value": "../Dati_2/vectors/",
    "cell_id": "00007-a6402a1b-7cac-4925-b172-2db72134598e",
    "deepnote_to_be_reexecuted": false,
    "source_hash": "3edc11a8",
    "execution_start": 1638019445495,
    "execution_millis": 224236,
    "deepnote_cell_type": "input-text"
   },
   "source": "path_vectors_directory = '../Dati_2/vectors/'",
   "outputs": [],
   "execution_count": null
  },
  {
   "cell_type": "markdown",
   "source": "Inserire le coordinate che compongono il gesto separate da un trattino:",
   "metadata": {
    "tags": [],
    "is_collapsed": false,
    "cell_id": "00004-960f3675-011c-43a5-9c57-0dbc4c51a806",
    "deepnote_cell_type": "text-cell-p"
   }
  },
  {
   "cell_type": "code",
   "metadata": {
    "deepnote_variable_name": "input_data_components",
    "deepnote_variable_value": "X-Y-Z-W",
    "cell_id": "00005-9d5e77d9-d1b7-44e2-873a-c01b72b5b714",
    "deepnote_to_be_reexecuted": false,
    "source_hash": "a12cce7",
    "execution_start": 1638019445495,
    "execution_millis": 224189,
    "deepnote_cell_type": "input-text"
   },
   "source": "input_data_components = 'X-Y-Z-W'",
   "outputs": [],
   "execution_count": null
  },
  {
   "cell_type": "markdown",
   "source": "Inserire un valore per R (2R è il numero di simboli dell'alfabeto)",
   "metadata": {
    "tags": [],
    "is_collapsed": false,
    "cell_id": "00008-70103ada-8b72-4f87-82a9-c7c2bff33365",
    "deepnote_cell_type": "text-cell-p"
   }
  },
  {
   "cell_type": "code",
   "metadata": {
    "deepnote_variable_name": "input_interval_resolution",
    "deepnote_variable_value": "5",
    "cell_id": "00009-598da1f3-1b47-46f7-9b8a-6c5ff8c1bb73",
    "deepnote_to_be_reexecuted": false,
    "source_hash": "b000374b",
    "execution_start": 1638019445539,
    "execution_millis": 224233,
    "deepnote_cell_type": "input-text"
   },
   "source": "input_interval_resolution = '5'",
   "outputs": [],
   "execution_count": null
  },
  {
   "cell_type": "code",
   "metadata": {
    "tags": [],
    "cell_id": "00007-74fd2943-5f7b-4279-b9fb-2cd9f8bdf6f5",
    "deepnote_to_be_reexecuted": false,
    "source_hash": "48f2456c",
    "execution_start": 1638019445541,
    "execution_millis": 3,
    "deepnote_cell_type": "code"
   },
   "source": "data_components = input_data_components.strip().split(\"-\")\ntask0_stats[\"r\"] = int(input_interval_resolution.strip())\n\n\n_RESET_DATA_ = True # se metto false non cancella le directory, se metto true devo rieseguire anche la parte 0 per rigenerare tutto\n# Rigenero i vari file path (per words e vectors)\nif _RESET_DATA_:\n    if os.path.exists(path_words_directory):\n        shutil.rmtree(path_words_directory)\n    os.makedirs(path_words_directory)\n    if os.path.exists(path_vectors_directory):\n        shutil.rmtree(path_vectors_directory)\n    os.makedirs(path_vectors_directory)\n\n    # Analogo x la parte 5\n    if os.path.exists(t5_words_directory):\n        shutil.rmtree(t5_words_directory)\n    os.makedirs(t5_words_directory)\n    if os.path.exists(t5_vectors_directory):\n        shutil.rmtree(t5_vectors_directory)\n    os.makedirs(t5_vectors_directory)",
   "outputs": [],
   "execution_count": null
  },
  {
   "cell_type": "code",
   "metadata": {
    "tags": [],
    "cell_id": "00012-67a6b997-83aa-41fc-9d64-868e6cc7998a",
    "deepnote_to_be_reexecuted": false,
    "source_hash": "462cf1b9",
    "execution_start": 1638019445554,
    "execution_millis": 96767,
    "deepnote_output_heights": [
     290
    ],
    "deepnote_cell_type": "code"
   },
   "source": "# Mi prendo il nome di tutti i files\ngesture_files = get_files_name(path_csv_directory + \"X/\", ext_filter=\"csv\")\nalfabeto = generate_alphabet(gesture_files, data_components, path_csv_directory, task0_stats)\n# Anche x task 5\nt5_gesture_files = get_files_name(t5_csv_directory + \"X/\", ext_filter=\"csv\")\n# FARE MERGE DEI 2\nalfabeto = update_alphabet(alfabeto, generate_alphabet(t5_gesture_files, data_components, t5_csv_directory, task0_stats))",
   "outputs": [],
   "execution_count": null
  },
  {
   "cell_type": "code",
   "metadata": {
    "tags": [],
    "cell_id": "00012-9814337b-f285-4a25-85bf-fd97c925ad36",
    "deepnote_to_be_reexecuted": false,
    "source_hash": "a50e816f",
    "execution_start": 1638019542322,
    "execution_millis": 0,
    "deepnote_cell_type": "code"
   },
   "source": "print(alfabeto.simboli)\nprint(alfabeto.parole)\nprint(\"Numero simboli:\", alfabeto.n_simboli)\nprint(\"Numero parole:\", alfabeto.n_parole)",
   "outputs": [
    {
     "name": "stdout",
     "text": "{'0.2882': (0, 0.5763), '-0.2882': (0.0, -0.5763), '0.7334': (0.5763, 0.8904000000000001), '-0.7334': (-0.5763, -0.8904000000000001), '0.937': (0.8904000000000001, 0.9836), '-0.937': (-0.8904000000000001, -0.9836), '0.9911': (0.9836, 0.9986), '-0.9911': (-0.9836, -0.9986), '0.9993': (0.9986, 0.9999), '-0.9993': (-0.9986, -0.9999)}\n{'0.2882;0.2882', '0;0.7334', '0;-0.9993', '0.7334;0', '0.937;0', '0.9911;0.9993', '-0.9993;-0.9993', '0.9993;0.937', '-0.7334;-0.937', '-0.2882;-0.2882', '0.937;0.9911', '-0.9911;-0.9911', '0.7334;-0.2882', '0;0', '0.9911;0', '0.9911;0.937', '-0.2882;0.937', '0.9993;0', '0.7334;-0.7334', '0.9911;0.9911', '0.7334;0.7334', '0.7334;0.937', '-0.9993;-0.9911', '-0.2882;0.2882', '0;0.9911', '-0.9911;-0.7334', '0;-0.7334', '0.7334;0.2882', '-0.937;0', '0;-0.937', '-0.937;-0.9911', '0.2882;0.9911', '-0.937;0.937', '-0.7334;0.2882', '-0.937;-0.937', '-0.937;0.2882', '-0.937;-0.2882', '-0.2882;0', '0;0.2882', '0.937;0.7334', '0.9993;0.9911', '0.9911;-0.9911', '-0.2882;-0.7334', '0.937;0.937', '-0.7334;-0.2882', '0.2882;-0.7334', '-0.937;-0.7334', '0.937;-0.9911', '0.7334;-0.937', '-0.9911;-0.9993', '0.2882;-0.2882', '0.2882;0.937', '0.9911;0.2882', '0;-0.9911', '-0.9911;0', '-0.7334;0.7334', '0;0.9993', '0;0.937', '-0.9993;0', '0.2882;0.7334', '-0.9911;-0.937', '0.9993;0.9993', '-0.7334;-0.7334'}\nNumero simboli: 10\nNumero parole: 63\n",
     "output_type": "stream"
    }
   ],
   "execution_count": null
  },
  {
   "cell_type": "markdown",
   "source": "### Task 0A",
   "metadata": {
    "tags": [],
    "is_collapsed": false,
    "cell_id": "00010-695b39bf-40e0-4e20-ada3-0672059bd901",
    "deepnote_cell_type": "text-cell-h3"
   }
  },
  {
   "cell_type": "code",
   "metadata": {
    "tags": [],
    "cell_id": "00009-58e91d3b-2f71-4db4-99ad-d2690db42617",
    "deepnote_to_be_reexecuted": false,
    "source_hash": "d785f58e",
    "execution_start": 1638019542338,
    "execution_millis": 104889,
    "deepnote_cell_type": "code"
   },
   "source": "dizionario_gesti_parole = {}\nfor gesture_file_name in gesture_files:\n    gesture_words_dict = gesture_2_word(gesture_file_name, data_components, alfabeto, path_csv_directory)\n    # Salvo solo le info necessarie relative alle parole (come richiesto nel testo)\n    dizionario_parole_gesture = generate_dizionario_parole_from_gesturewordsdict(gesture_words_dict)\n    dizionario_gesti_parole[gesture_file_name.split(\".\")[0]] = dizionario_parole_gesture\n    # Salvo su file il dizionario completo\n    write_word_as_json(gesture_words_dict, gesture_file_name, path_words_directory)\n# Anche x task 5\nt5_dizionario_gesti_parole = {}\nfor gesture_file_name in t5_gesture_files:\n    gesture_words_dict = gesture_2_word(gesture_file_name, data_components, alfabeto, t5_csv_directory)\n    # Salvo solo le info necessarie relative alle parole (come richiesto nel testo)\n    dizionario_parole_gesture = generate_dizionario_parole_from_gesturewordsdict(gesture_words_dict)\n    t5_dizionario_gesti_parole[gesture_file_name.split(\".\")[0]] = dizionario_parole_gesture\n    # Salvo su file il dizionario completo\n    write_word_as_json(gesture_words_dict, gesture_file_name, t5_words_directory)",
   "outputs": [],
   "execution_count": null
  },
  {
   "cell_type": "code",
   "metadata": {
    "tags": [],
    "cell_id": "00016-118445cb-5625-46c7-b237-a146a9f79417",
    "deepnote_to_be_reexecuted": false,
    "source_hash": "b6c4fafc",
    "execution_start": 1638019647270,
    "execution_millis": 1,
    "deepnote_output_heights": [
     611
    ],
    "deepnote_cell_type": "code"
   },
   "source": "#dizionario_gesti_parole['1']",
   "outputs": [],
   "execution_count": null
  },
  {
   "cell_type": "markdown",
   "source": "### Task 0B",
   "metadata": {
    "tags": [],
    "is_collapsed": false,
    "cell_id": "00012-11c64cd4-a6ab-4f60-83e6-e185a99dad47",
    "deepnote_cell_type": "text-cell-h3"
   }
  },
  {
   "cell_type": "code",
   "metadata": {
    "tags": [],
    "cell_id": "00020-43669b13-907e-46c3-af64-1cef661e2c30",
    "deepnote_to_be_reexecuted": false,
    "source_hash": "908cf18a",
    "execution_start": 1638019647301,
    "execution_millis": 4091,
    "deepnote_output_heights": [
     194
    ],
    "deepnote_cell_type": "code"
   },
   "source": "# Mi prendo la lista di tutti i file words\nwords_files = get_files_name(path_words_directory, ext_filter=\"wrd\")\nt5_words_files = get_files_name(t5_words_directory, ext_filter=\"wrd\")\n\n# CALCOLARE IL NUMERO DI SENSORI (anche se so che ce ne sono 20, in questo modo rimane più parametrico)\nn_sensori = 0\nfor (_, sensor, word), cont in dizionario_gesti_parole[next(iter(dizionario_gesti_parole))].items():\n    sensor = int(sensor)\n    if n_sensori > sensor: # ho già ciclato una volta su tutti i sensori, è inutile ricontrollare per le altre coordinate\n        break\n    if n_sensori < sensor:\n        n_sensori = sensor\nn_sensori += 1 # Correzione dato che i sensori partono da 0 e a me serve sapere quanti ce ne sono\n\n# Faccio prima poer task5 (così rimane tutto ok)\nt0b_preprocessing_settings = {\n    'dizionario_gesti_parole': t5_dizionario_gesti_parole,\n    'data_components': data_components,\n    'words_files': t5_words_files,\n    'n_sensori': n_sensori,\n    'alfabeto': alfabeto,\n    'path_words_directory': t5_words_directory,\n    'path_vectors_directory': t5_vectors_directory # mettere a None o a caso se si mette save=False nel metodo\n}\n# Calcolo TF, IDF, TF-IDF di ogni gesto\nt5_gestures_metrics = gesture_words_preprocessing(t0b_preprocessing_settings)\n\n# Eseguo x il nostro dataset\nt0b_preprocessing_settings = {\n    'dizionario_gesti_parole': dizionario_gesti_parole,\n    'data_components': data_components,\n    'words_files': words_files,\n    'n_sensori': n_sensori,\n    'alfabeto': alfabeto,\n    'path_words_directory': path_words_directory,\n    'path_vectors_directory': path_vectors_directory # mettere a None o a caso se si mette save=False nel metodo\n}\n# Calcolo TF, IDF, TF-IDF di ogni gesto\ngestures_metrics = gesture_words_preprocessing(t0b_preprocessing_settings)",
   "outputs": [],
   "execution_count": null
  },
  {
   "cell_type": "code",
   "metadata": {
    "tags": [],
    "cell_id": "00019-874478a8-a79c-480f-8478-63e1bc4e91b8",
    "deepnote_to_be_reexecuted": false,
    "source_hash": "551c845f",
    "execution_start": 1638019651425,
    "execution_millis": 13,
    "deepnote_cell_type": "code"
   },
   "source": "show_gesture_metrics(gestures_metrics[0])",
   "outputs": [
    {
     "name": "stdout",
     "text": "File gesto: ../Dati_2/words/9.wrd\nNumero sensori: 20\nTF: (8}\nword: 0.2882;0.2882 tf: {'0': 0, '1': 0, '2': 0, '3': 0, '4': 0, '5': 0.3333, '6': 0, '7': 0, '8': 0, '9': 0, '10': 0, '11': 0, '12': 0, '13': 1.0, '14': 0, '15': 0, '16': 0, '17': 0, '18': 0, '19': 0}\nword: -0.7334;-0.937 tf: {'0': 0, '1': 0, '2': 0, '3': 0, '4': 0, '5': 0, '6': 0, '7': 0, '8': 0, '9': 0, '10': 0, '11': 0, '12': 0, '13': 0, '14': 0, '15': 0, '16': 0, '17': 0.3333, '18': 0, '19': 0}\nword: -0.2882;-0.2882 tf: {'0': 1.0, '1': 1.0, '2': 1.0, '3': 0.3333, '4': 0, '5': 0.3333, '6': 1.0, '7': 0.6667, '8': 0, '9': 0, '10': 1.0, '11': 1.0, '12': 0, '13': 0, '14': 1.0, '15': 1.0, '16': 0, '17': 0, '18': 1.0, '19': 1.0}\nword: 0.9911;0.9911 tf: {'0': 0, '1': 0, '2': 0, '3': 0, '4': 0.3333, '5': 0, '6': 0, '7': 0, '8': 0, '9': 0, '10': 0, '11': 0, '12': 0.6667, '13': 0, '14': 0, '15': 0, '16': 0.6667, '17': 0, '18': 0, '19': 0}\nword: -0.937;-0.937 tf: {'0': 0, '1': 0, '2': 0, '3': 0, '4': 0, '5': 0, '6': 0, '7': 0, '8': 0, '9': 1.0, '10': 0, '11': 0, '12': 0, '13': 0, '14': 0, '15': 0, '16': 0, '17': 0, '18': 0, '19': 0}\nword: 0.937;0.937 tf: {'0': 0, '1': 0, '2': 0, '3': 0, '4': 0.6667, '5': 0, '6': 0, '7': 0, '8': 1.0, '9': 0, '10': 0, '11': 0, '12': 0, '13': 0, '14': 0, '15': 0, '16': 0, '17': 0, '18': 0, '19': 0}\nword: 0.9993;0.9993 tf: {'0': 0, '1': 0, '2': 0, '3': 0, '4': 0, '5': 0, '6': 0, '7': 0, '8': 0, '9': 0, '10': 0, '11': 0, '12': 0.3333, '13': 0, '14': 0, '15': 0, '16': 0.3333, '17': 0, '18': 0, '19': 0}\nword: -0.7334;-0.7334 tf: {'0': 0, '1': 0, '2': 0, '3': 0.6667, '4': 0, '5': 0.3333, '6': 0, '7': 0.3333, '8': 0, '9': 0, '10': 0, '11': 0, '12': 0, '13': 0, '14': 0, '15': 0, '16': 0, '17': 0.6667, '18': 0, '19': 0}\nTF-IDF: (8}\nword: 0.2882;0.2882 tf-idf: {'0': 0, '1': 0, '2': 0, '3': 0, '4': 0, '5': 0.0054, '6': 0, '7': 0, '8': 0, '9': 0, '10': 0, '11': 0, '12': 0, '13': 0.0163, '14': 0, '15': 0, '16': 0, '17': 0, '18': 0, '19': 0}\nword: -0.7334;-0.937 tf-idf: {'0': 0, '1': 0, '2': 0, '3': 0, '4': 0, '5': 0, '6': 0, '7': 0, '8': 0, '9': 0, '10': 0, '11': 0, '12': 0, '13': 0, '14': 0, '15': 0, '16': 0, '17': 1.0094, '18': 0, '19': 0}\nword: -0.2882;-0.2882 tf-idf: {'0': 0.0328, '1': 0.0328, '2': 0.0328, '3': 0.0109, '4': 0, '5': 0.0109, '6': 0.0328, '7': 0.0219, '8': 0, '9': 0, '10': 0.0328, '11': 0.0328, '12': 0, '13': 0, '14': 0.0328, '15': 0.0328, '16': 0, '17': 0, '18': 0.0328, '19': 0.0328}\nword: 0.9911;0.9911 tf-idf: {'0': 0, '1': 0, '2': 0, '3': 0, '4': 0.122, '5': 0, '6': 0, '7': 0, '8': 0, '9': 0, '10': 0, '11': 0, '12': 0.244, '13': 0, '14': 0, '15': 0, '16': 0.244, '17': 0, '18': 0, '19': 0}\nword: -0.937;-0.937 tf-idf: {'0': 0, '1': 0, '2': 0, '3': 0, '4': 0, '5': 0, '6': 0, '7': 0, '8': 0, '9': 0.3895, '10': 0, '11': 0, '12': 0, '13': 0, '14': 0, '15': 0, '16': 0, '17': 0, '18': 0, '19': 0}\nword: 0.937;0.937 tf-idf: {'0': 0, '1': 0, '2': 0, '3': 0, '4': 0.1173, '5': 0, '6': 0, '7': 0, '8': 0.1759, '9': 0, '10': 0, '11': 0, '12': 0, '13': 0, '14': 0, '15': 0, '16': 0, '17': 0, '18': 0, '19': 0}\nword: 0.9993;0.9993 tf-idf: {'0': 0, '1': 0, '2': 0, '3': 0, '4': 0, '5': 0, '6': 0, '7': 0, '8': 0, '9': 0, '10': 0, '11': 0, '12': 0.2533, '13': 0, '14': 0, '15': 0, '16': 0.2533, '17': 0, '18': 0, '19': 0}\nword: -0.7334;-0.7334 tf-idf: {'0': 0, '1': 0, '2': 0, '3': 0.2137, '4': 0, '5': 0.1068, '6': 0, '7': 0.1068, '8': 0, '9': 0, '10': 0, '11': 0, '12': 0, '13': 0, '14': 0, '15': 0, '16': 0, '17': 0.2137, '18': 0, '19': 0}\n",
     "output_type": "stream"
    }
   ],
   "execution_count": null
  },
  {
   "cell_type": "markdown",
   "source": "## Task 1",
   "metadata": {
    "tags": [],
    "is_collapsed": false,
    "cell_id": "00021-d42fafd2-d117-4556-bc4f-eac7aca3e403",
    "deepnote_cell_type": "text-cell-h2"
   }
  },
  {
   "cell_type": "code",
   "metadata": {
    "deepnote_variable_name": "input_task1_gesti_directory",
    "deepnote_variable_value": "../Dati_2/csv/",
    "cell_id": "00022-8d12824b-1681-44bc-a0f3-975f336eeacb",
    "deepnote_to_be_reexecuted": false,
    "source_hash": "7e508682",
    "execution_start": 1638019651459,
    "execution_millis": 19,
    "deepnote_cell_type": "input-text"
   },
   "source": "input_task1_gesti_directory = '../Dati_2/csv/'",
   "outputs": [],
   "execution_count": null
  },
  {
   "cell_type": "code",
   "metadata": {
    "deepnote_variable_name": "input_task1_data_components",
    "deepnote_variable_value": "X-Y-W-Z",
    "cell_id": "00023-f2b03f2f-8666-4c59-a6c5-e88ff27e8d58",
    "deepnote_to_be_reexecuted": false,
    "source_hash": "e7fe2f0e",
    "execution_start": 1638019651530,
    "execution_millis": 1979751,
    "deepnote_cell_type": "input-text"
   },
   "source": "input_task1_data_components = 'X-Y-W-Z'",
   "outputs": [],
   "execution_count": null
  },
  {
   "cell_type": "code",
   "metadata": {
    "deepnote_variable_name": "input_task1_modello_vettoriale",
    "deepnote_variable_value": "Modello TF-IDF",
    "deepnote_variable_options": [
     "Modello TF",
     "Modello TF-IDF"
    ],
    "deepnote_variable_custom_options": [
     "Modello TF",
     "Modello TF-IDF"
    ],
    "deepnote_variable_selected_variable": "",
    "deepnote_variable_select_type": "from-options",
    "cell_id": "00025-8b54665a-704e-4a66-9889-a1db052e9230",
    "deepnote_to_be_reexecuted": false,
    "source_hash": "a561fd25",
    "execution_start": 1638019651530,
    "execution_millis": 1978592,
    "deepnote_cell_type": "input-select"
   },
   "source": "input_task1_modello_vettoriale = 'Modello TF-IDF'",
   "outputs": [],
   "execution_count": null
  },
  {
   "cell_type": "code",
   "metadata": {
    "tags": [],
    "cell_id": "00026-3581d5e8-c72a-4bc9-a259-ad0554d28030",
    "deepnote_to_be_reexecuted": false,
    "source_hash": "cecae9f6",
    "execution_start": 1638019651573,
    "execution_millis": 703,
    "deepnote_output_heights": [
     21.199996948242188
    ],
    "deepnote_cell_type": "code"
   },
   "source": "t1_data_components = input_task1_data_components.strip().split(\"-\")\nt1_gesture_files = get_files_name(input_task1_gesti_directory + t1_data_components[0] + \"/\", ext_filter=\"csv\")\n# Dovremmo eseguire a tutti questi i 2 metodi gesture_2_word e poi word_2_metrics\n# Ma ipotizziamo che siano i dati già calcolati ed evitiamo\nt1_gesture_files = [g_file.split(\".\")[0] for g_file in t1_gesture_files] # mi prendo giusto il nome dei vari files\nt5_gesture_files = [g_file.split(\".\")[0] for g_file in t5_gesture_files] # mi prendo giusto il nome dei vari files\n\nt1_metrics_numpy = []\nfor gesture_file in t1_gesture_files:\n    #path_vectors_directory = ../Dati_2/vectors/\n    # Leggo le metrice ridotte\n    gesture_metrics_reduced = read_gesture_measures_reduced(gesture_file, path_vectors_directory, input_task1_modello_vettoriale)\n    # Trasformo la metrica ridotta in un file numpy\n    metrics_numpy = metrics_reduced_2_numpy(gesture_metrics_reduced, alfabeto)\n    t1_metrics_numpy.insert(0, (gesture_file, metrics_numpy)) # Salvo, numero gesto, vettore numpy\n\n# Eseguo in modo analogo x task 5\nt5_metrics_numpy = []\nfor gesture_file in t5_gesture_files:\n    #path_vectors_directory = ../Dati_2/vectors/\n    # Leggo le metrice ridotte\n    gesture_metrics_reduced = read_gesture_measures_reduced(gesture_file, t5_vectors_directory, input_task1_modello_vettoriale)\n    # Trasformo la metrica ridotta in un file numpy\n    metrics_numpy = metrics_reduced_2_numpy(gesture_metrics_reduced, alfabeto)\n    t5_metrics_numpy.insert(0, (gesture_file, metrics_numpy)) # Salvo, numero gesto, vettore numpy\n\nlen(t1_metrics_numpy) # Dovrebbe stampare 60 se è tutto corretto (1 file x gesto)",
   "outputs": [
    {
     "output_type": "execute_result",
     "execution_count": 21,
     "data": {
      "text/plain": "60"
     },
     "metadata": {}
    }
   ],
   "execution_count": null
  },
  {
   "cell_type": "code",
   "metadata": {
    "deepnote_variable_name": "input_task1_option",
    "deepnote_variable_value": "PCA",
    "deepnote_variable_options": [
     "PCA",
     "SVD",
     "LDA"
    ],
    "deepnote_variable_custom_options": [
     "PCA",
     "SVD",
     "LDA"
    ],
    "deepnote_variable_selected_variable": "",
    "deepnote_variable_select_type": "from-options",
    "cell_id": "00028-09fc5a78-a0f0-44a1-b5f4-17b8196b3c27",
    "deepnote_to_be_reexecuted": false,
    "source_hash": "8b62f10f",
    "execution_start": 1638019652287,
    "execution_millis": 20,
    "deepnote_cell_type": "input-select"
   },
   "source": "input_task1_option = 'PCA'",
   "outputs": [],
   "execution_count": null
  },
  {
   "cell_type": "code",
   "metadata": {
    "tags": [],
    "cell_id": "00032-45eae3d4-37f2-4c04-9bbb-01c136497b1b",
    "deepnote_to_be_reexecuted": false,
    "source_hash": "6c1810d5",
    "execution_start": 1638019652329,
    "execution_millis": 1564,
    "deepnote_output_heights": [
     null,
     null,
     194
    ],
    "deepnote_cell_type": "code"
   },
   "source": "t1_metrics_alg = []\nalg_variances = []\nshow_intermediate_data = True\nfor metrics_numpy in t1_metrics_numpy:\n    metrics_pandas = metrics_numpy_2_pandas(metrics_numpy[1], alfabeto)\n    alg_result = None\n    alg_variance = None\n    if input_task1_option == \"PCA\":\n        alg_result, alg_variance = metrics_numpy_2_PCA(metrics_pandas, metrics_numpy[0], show_intermediate_data=show_intermediate_data)\n    elif input_task1_option == \"SVD\":\n        alg_result, alg_variance = metrics_numpy_2_SVD(metrics_pandas, metrics_numpy[0], show_intermediate_data=show_intermediate_data)\n    else:\n        alg_result, alg_variance = metrics_numpy_2_LDA(metrics_pandas, metrics_numpy[0], show_intermediate_data=show_intermediate_data)\n\n    alg_variances.insert(0, (alg_result['document'], alg_variance))\n    t1_metrics_alg.insert(0, alg_result)\n    if show_intermediate_data:\n        show_intermediate_data = False\n\nt5_metrics_alg = []\nt5_alg_variances = []\nfor metrics_numpy in t5_metrics_numpy:\n    metrics_pandas = metrics_numpy_2_pandas(metrics_numpy[1], alfabeto)\n    alg_result = None\n    alg_variance = None\n    if input_task1_option == \"PCA\":\n        alg_result, alg_variance = metrics_numpy_2_PCA(metrics_pandas, metrics_numpy[0])\n    elif input_task1_option == \"SVD\":\n        alg_result, alg_variance = metrics_numpy_2_SVD(metrics_pandas, metrics_numpy[0])\n    else:\n        alg_result, alg_variance = metrics_numpy_2_LDA(metrics_pandas, metrics_numpy[0])\n\n    t5_alg_variances.insert(0, (alg_result['document'], alg_variance))\n    t5_metrics_alg.insert(0, alg_result)",
   "outputs": [
    {
     "data": {
      "application/vnd.deepnote.dataframe.v2+json": {
       "row_count": 63,
       "column_count": 4,
       "columns": [
        {
         "name": "PC1",
         "dtype": "float64",
         "stats": {
          "unique_count": 25,
          "nan_count": 0,
          "min": "0.0",
          "max": "0.9779980649076818",
          "histogram": [
           {
            "bin_start": 0,
            "bin_end": 0.09779980649076818,
            "count": 61
           },
           {
            "bin_start": 0.09779980649076818,
            "bin_end": 0.19559961298153636,
            "count": 0
           },
           {
            "bin_start": 0.19559961298153636,
            "bin_end": 0.2933994194723045,
            "count": 1
           },
           {
            "bin_start": 0.2933994194723045,
            "bin_end": 0.3911992259630727,
            "count": 0
           },
           {
            "bin_start": 0.3911992259630727,
            "bin_end": 0.4889990324538409,
            "count": 0
           },
           {
            "bin_start": 0.4889990324538409,
            "bin_end": 0.586798838944609,
            "count": 0
           },
           {
            "bin_start": 0.586798838944609,
            "bin_end": 0.6845986454353773,
            "count": 0
           },
           {
            "bin_start": 0.6845986454353773,
            "bin_end": 0.7823984519261454,
            "count": 0
           },
           {
            "bin_start": 0.7823984519261454,
            "bin_end": 0.8801982584169136,
            "count": 0
           },
           {
            "bin_start": 0.8801982584169136,
            "bin_end": 0.9779980649076818,
            "count": 1
           }
          ]
         }
        },
        {
         "name": "PC2",
         "dtype": "float64",
         "stats": {
          "unique_count": 25,
          "nan_count": 0,
          "min": "0.0",
          "max": "0.6911449152011735",
          "histogram": [
           {
            "bin_start": 0,
            "bin_end": 0.06911449152011735,
            "count": 59
           },
           {
            "bin_start": 0.06911449152011735,
            "bin_end": 0.1382289830402347,
            "count": 1
           },
           {
            "bin_start": 0.1382289830402347,
            "bin_end": 0.20734347456035207,
            "count": 1
           },
           {
            "bin_start": 0.20734347456035207,
            "bin_end": 0.2764579660804694,
            "count": 0
           },
           {
            "bin_start": 0.2764579660804694,
            "bin_end": 0.34557245760058675,
            "count": 0
           },
           {
            "bin_start": 0.34557245760058675,
            "bin_end": 0.41468694912070414,
            "count": 0
           },
           {
            "bin_start": 0.41468694912070414,
            "bin_end": 0.4838014406408215,
            "count": 0
           },
           {
            "bin_start": 0.4838014406408215,
            "bin_end": 0.5529159321609388,
            "count": 0
           },
           {
            "bin_start": 0.5529159321609388,
            "bin_end": 0.6220304236810562,
            "count": 0
           },
           {
            "bin_start": 0.6220304236810562,
            "bin_end": 0.6911449152011735,
            "count": 2
           }
          ]
         }
        },
        {
         "name": "PC3",
         "dtype": "float64",
         "stats": {
          "unique_count": 25,
          "nan_count": 0,
          "min": "0.0",
          "max": "0.9748208181003979",
          "histogram": [
           {
            "bin_start": 0,
            "bin_end": 0.09748208181003978,
            "count": 59
           },
           {
            "bin_start": 0.09748208181003978,
            "bin_end": 0.19496416362007957,
            "count": 3
           },
           {
            "bin_start": 0.19496416362007957,
            "bin_end": 0.2924462454301193,
            "count": 0
           },
           {
            "bin_start": 0.2924462454301193,
            "bin_end": 0.38992832724015913,
            "count": 0
           },
           {
            "bin_start": 0.38992832724015913,
            "bin_end": 0.48741040905019895,
            "count": 0
           },
           {
            "bin_start": 0.48741040905019895,
            "bin_end": 0.5848924908602386,
            "count": 0
           },
           {
            "bin_start": 0.5848924908602386,
            "bin_end": 0.6823745726702785,
            "count": 0
           },
           {
            "bin_start": 0.6823745726702785,
            "bin_end": 0.7798566544803183,
            "count": 0
           },
           {
            "bin_start": 0.7798566544803183,
            "bin_end": 0.8773387362903581,
            "count": 0
           },
           {
            "bin_start": 0.8773387362903581,
            "bin_end": 0.9748208181003979,
            "count": 1
           }
          ]
         }
        },
        {
         "name": "PC4",
         "dtype": "float64",
         "stats": {
          "unique_count": 25,
          "nan_count": 0,
          "min": "0.0",
          "max": "0.8811456347860245",
          "histogram": [
           {
            "bin_start": 0,
            "bin_end": 0.08811456347860244,
            "count": 59
           },
           {
            "bin_start": 0.08811456347860244,
            "bin_end": 0.17622912695720488,
            "count": 1
           },
           {
            "bin_start": 0.17622912695720488,
            "bin_end": 0.2643436904358073,
            "count": 1
           },
           {
            "bin_start": 0.2643436904358073,
            "bin_end": 0.35245825391440977,
            "count": 0
           },
           {
            "bin_start": 0.35245825391440977,
            "bin_end": 0.44057281739301224,
            "count": 1
           },
           {
            "bin_start": 0.44057281739301224,
            "bin_end": 0.5286873808716146,
            "count": 0
           },
           {
            "bin_start": 0.5286873808716146,
            "bin_end": 0.6168019443502171,
            "count": 0
           },
           {
            "bin_start": 0.6168019443502171,
            "bin_end": 0.7049165078288195,
            "count": 0
           },
           {
            "bin_start": 0.7049165078288195,
            "bin_end": 0.793031071307422,
            "count": 0
           },
           {
            "bin_start": 0.793031071307422,
            "bin_end": 0.8811456347860245,
            "count": 1
           }
          ]
         }
        },
        {
         "name": "_deepnote_index_column",
         "dtype": "object"
        }
       ],
       "rows_top": [
        {
         "PC1": 0.0010170113815701428,
         "PC2": 0.0035365398180045226,
         "PC3": 0.003902739336038965,
         "PC4": 0.0022898382709464517,
         "_deepnote_index_column": "0.2882;0.2882"
        },
        {
         "PC1": 5.0564816501005055e-17,
         "PC2": 1.9806502258700563e-16,
         "PC3": 3.1995561469473354e-16,
         "PC4": 2.8455163124622857e-16,
         "_deepnote_index_column": "0;0.7334"
        },
        {
         "PC1": 7.416297990509915e-17,
         "PC2": 1.2614608937339028e-16,
         "PC3": 7.511273799115794e-17,
         "PC4": 4.223844078381817e-17,
         "_deepnote_index_column": "0;-0.9993"
        },
        {
         "PC1": 9.731304442280118e-18,
         "PC2": 1.7340245974641338e-17,
         "PC3": 3.74605175103763e-17,
         "PC4": 4.833202878226243e-17,
         "_deepnote_index_column": "0.7334;0"
        },
        {
         "PC1": 5.555641630312032e-17,
         "PC2": 1.9755392396981296e-17,
         "PC3": 1.0942120139671971e-16,
         "PC4": 3.3999991171336294e-17,
         "_deepnote_index_column": "0.937;0"
        },
        {
         "PC1": 5.758028355565576e-17,
         "PC2": 1.6717051094128823e-16,
         "PC3": 4.4885644196714726e-17,
         "PC4": 4.7939144850897686e-17,
         "_deepnote_index_column": "0.9911;0.9993"
        },
        {
         "PC1": 1.3355737578906738e-17,
         "PC2": 1.1219999195071881e-17,
         "PC3": 7.314298323047378e-17,
         "PC4": 6.784591341022892e-18,
         "_deepnote_index_column": "-0.9993;-0.9993"
        },
        {
         "PC1": 1.8188248364213767e-18,
         "PC2": 5.868693743881804e-18,
         "PC3": 5.548071218745739e-17,
         "PC4": 9.940505247138573e-18,
         "_deepnote_index_column": "0.9993;0.937"
        },
        {
         "PC1": 0.9779980649076818,
         "PC2": 0.06498909135309643,
         "PC3": 0.053599600654350495,
         "PC4": 0.17951200291855204,
         "_deepnote_index_column": "-0.7334;-0.937"
        },
        {
         "PC1": 0.018401530404109082,
         "PC2": 0.062000552014296814,
         "PC3": 0.06854526008717958,
         "PC4": 0.02820864643981653,
         "_deepnote_index_column": "-0.2882;-0.2882"
        },
        {
         "PC1": 3.2116136837794304e-28,
         "PC2": 2.859733866827134e-28,
         "PC3": 1.91669165432312e-29,
         "PC4": 1.3770086614051545e-28,
         "_deepnote_index_column": "0.937;0.9911"
        },
        {
         "PC1": 4.951944612162992e-28,
         "PC2": 4.774454316616363e-28,
         "PC3": 6.593184690526478e-29,
         "PC4": 1.8745388357295425e-28,
         "_deepnote_index_column": "-0.9911;-0.9911"
        },
        {
         "PC1": 2.8718756897018844e-28,
         "PC2": 1.2766775205935616e-28,
         "PC3": 1.0993770635593794e-29,
         "PC4": 8.040809895488628e-29,
         "_deepnote_index_column": "0.7334;-0.2882"
        },
        {
         "PC1": 2.9654731880296527e-33,
         "PC2": 1.9707721157284155e-34,
         "PC3": 1.6514097489906408e-34,
         "PC4": 5.538695999321004e-34,
         "_deepnote_index_column": "0;0"
        },
        {
         "PC1": 1.6915207756033253e-34,
         "PC2": 2.196094968654566e-35,
         "PC3": 3.9701549757825924e-33,
         "PC4": 1.4430117348911543e-32,
         "_deepnote_index_column": "0.9911;0"
        },
        {
         "PC1": 2.721448138261746e-33,
         "PC2": 1.8084334521510213e-34,
         "PC3": 1.491501247770078e-34,
         "PC4": 4.995230805330198e-34,
         "_deepnote_index_column": "0.9911;0.937"
        },
        {
         "PC1": 3.970832020728785e-33,
         "PC2": 2.6386633491683e-34,
         "PC3": 2.176231407949373e-34,
         "PC4": 7.288480773849119e-34,
         "_deepnote_index_column": "-0.2882;0.937"
        },
        {
         "PC1": 5.93486957831719e-52,
         "PC2": 1.8274952624093466e-51,
         "PC3": 1.9503847141435793e-51,
         "PC4": 3.5820528407228775e-51,
         "_deepnote_index_column": "0.9993;0"
        },
        {
         "PC1": 6.923302370295032e-52,
         "PC2": 2.131858521064427e-51,
         "PC3": 2.2752148023185894e-51,
         "PC4": 4.178631829299662e-51,
         "_deepnote_index_column": "0.7334;-0.7334"
        },
        {
         "PC1": 0.04197079576283407,
         "PC2": 0.6911449152011735,
         "PC3": 0.10645993226433555,
         "PC4": 0.007970224867239915,
         "_deepnote_index_column": "0.9911;0.9911"
        },
        {
         "PC1": 0,
         "PC2": 0,
         "PC3": 0,
         "PC4": 0,
         "_deepnote_index_column": "0.7334;0.7334"
        },
        {
         "PC1": 0,
         "PC2": 0,
         "PC3": 0,
         "PC4": 0,
         "_deepnote_index_column": "0.7334;0.937"
        },
        {
         "PC1": 0,
         "PC2": 0,
         "PC3": 0,
         "PC4": 0,
         "_deepnote_index_column": "-0.9993;-0.9911"
        },
        {
         "PC1": 0,
         "PC2": 0,
         "PC3": 0,
         "PC4": 0,
         "_deepnote_index_column": "-0.2882;0.2882"
        },
        {
         "PC1": 0,
         "PC2": 0,
         "PC3": 0,
         "PC4": 0,
         "_deepnote_index_column": "0;0.9911"
        },
        {
         "PC1": 0,
         "PC2": 0,
         "PC3": 0,
         "PC4": 0,
         "_deepnote_index_column": "-0.9911;-0.7334"
        },
        {
         "PC1": 0,
         "PC2": 0,
         "PC3": 0,
         "PC4": 0,
         "_deepnote_index_column": "0;-0.7334"
        },
        {
         "PC1": 0,
         "PC2": 0,
         "PC3": 0,
         "PC4": 0,
         "_deepnote_index_column": "0.7334;0.2882"
        },
        {
         "PC1": 0,
         "PC2": 0,
         "PC3": 0,
         "PC4": 0,
         "_deepnote_index_column": "-0.937;0"
        },
        {
         "PC1": 0,
         "PC2": 0,
         "PC3": 0,
         "PC4": 0,
         "_deepnote_index_column": "0;-0.937"
        },
        {
         "PC1": 0,
         "PC2": 0,
         "PC3": 0,
         "PC4": 0,
         "_deepnote_index_column": "-0.937;-0.9911"
        },
        {
         "PC1": 0,
         "PC2": 0,
         "PC3": 0,
         "PC4": 0,
         "_deepnote_index_column": "0.2882;0.9911"
        },
        {
         "PC1": 0,
         "PC2": 0,
         "PC3": 0,
         "PC4": 0,
         "_deepnote_index_column": "-0.937;0.937"
        },
        {
         "PC1": 0,
         "PC2": 0,
         "PC3": 0,
         "PC4": 0,
         "_deepnote_index_column": "-0.7334;0.2882"
        },
        {
         "PC1": 0.02385264641577816,
         "PC2": 0.18027439089044167,
         "PC3": 0.9748208181003979,
         "PC4": 0.07152113542326079,
         "_deepnote_index_column": "-0.937;-0.937"
        },
        {
         "PC1": 0,
         "PC2": 0,
         "PC3": 0,
         "PC4": 0,
         "_deepnote_index_column": "-0.937;0.2882"
        },
        {
         "PC1": 0,
         "PC2": 0,
         "PC3": 0,
         "PC4": 0,
         "_deepnote_index_column": "-0.937;-0.2882"
        },
        {
         "PC1": 0,
         "PC2": 0,
         "PC3": 0,
         "PC4": 0,
         "_deepnote_index_column": "-0.2882;0"
        },
        {
         "PC1": 0,
         "PC2": 0,
         "PC3": 0,
         "PC4": 0,
         "_deepnote_index_column": "0;0.2882"
        },
        {
         "PC1": 0,
         "PC2": 0,
         "PC3": 0,
         "PC4": 0,
         "_deepnote_index_column": "0.937;0.7334"
        },
        {
         "PC1": 0,
         "PC2": 0,
         "PC3": 0,
         "PC4": 0,
         "_deepnote_index_column": "0.9993;0.9911"
        },
        {
         "PC1": 0,
         "PC2": 0,
         "PC3": 0,
         "PC4": 0,
         "_deepnote_index_column": "0.9911;-0.9911"
        },
        {
         "PC1": 0,
         "PC2": 0,
         "PC3": 0,
         "PC4": 0,
         "_deepnote_index_column": "-0.2882;-0.7334"
        },
        {
         "PC1": 0.016584859526152344,
         "PC2": 0.0015551441760503122,
         "PC3": 0.051562142425499544,
         "PC4": 0.40797383181039615,
         "_deepnote_index_column": "0.937;0.937"
        },
        {
         "PC1": 0,
         "PC2": 0,
         "PC3": 0,
         "PC4": 0,
         "_deepnote_index_column": "-0.7334;-0.2882"
        },
        {
         "PC1": 0,
         "PC2": 0,
         "PC3": 0,
         "PC4": 0,
         "_deepnote_index_column": "0.2882;-0.7334"
        },
        {
         "PC1": 0,
         "PC2": 0,
         "PC3": 0,
         "PC4": 0,
         "_deepnote_index_column": "-0.937;-0.7334"
        },
        {
         "PC1": 0,
         "PC2": 0,
         "PC3": 0,
         "PC4": 0,
         "_deepnote_index_column": "0.937;-0.9911"
        },
        {
         "PC1": 0,
         "PC2": 0,
         "PC3": 0,
         "PC4": 0,
         "_deepnote_index_column": "0.7334;-0.937"
        },
        {
         "PC1": 0,
         "PC2": 0,
         "PC3": 0,
         "PC4": 0,
         "_deepnote_index_column": "-0.9911;-0.9993"
        },
        {
         "PC1": 0,
         "PC2": 0,
         "PC3": 0,
         "PC4": 0,
         "_deepnote_index_column": "0.2882;-0.2882"
        },
        {
         "PC1": 0,
         "PC2": 0,
         "PC3": 0,
         "PC4": 0,
         "_deepnote_index_column": "0.2882;0.937"
        },
        {
         "PC1": 0,
         "PC2": 0,
         "PC3": 0,
         "PC4": 0,
         "_deepnote_index_column": "0.9911;0.2882"
        },
        {
         "PC1": 0,
         "PC2": 0,
         "PC3": 0,
         "PC4": 0,
         "_deepnote_index_column": "0;-0.9911"
        },
        {
         "PC1": 0,
         "PC2": 0,
         "PC3": 0,
         "PC4": 0,
         "_deepnote_index_column": "-0.9911;0"
        },
        {
         "PC1": 0,
         "PC2": 0,
         "PC3": 0,
         "PC4": 0,
         "_deepnote_index_column": "-0.7334;0.7334"
        },
        {
         "PC1": 0,
         "PC2": 0,
         "PC3": 0,
         "PC4": 0,
         "_deepnote_index_column": "0;0.9993"
        },
        {
         "PC1": 0,
         "PC2": 0,
         "PC3": 0,
         "PC4": 0,
         "_deepnote_index_column": "0;0.937"
        },
        {
         "PC1": 0,
         "PC2": 0,
         "PC3": 0,
         "PC4": 0,
         "_deepnote_index_column": "-0.9993;0"
        },
        {
         "PC1": 0,
         "PC2": 0,
         "PC3": 0,
         "PC4": 0,
         "_deepnote_index_column": "0.2882;0.7334"
        },
        {
         "PC1": 0,
         "PC2": 0,
         "PC3": 0,
         "PC4": 0,
         "_deepnote_index_column": "-0.9911;-0.937"
        },
        {
         "PC1": 0.036093971122875566,
         "PC2": 0.6898657011684646,
         "PC3": 0.12426854316491548,
         "PC4": 0.13760594199999837,
         "_deepnote_index_column": "0.9993;0.9993"
        },
        {
         "PC1": 0.19817115241261335,
         "PC2": 0.07630588771329727,
         "PC3": 0.11270638324184121,
         "PC4": 0.8811456347860245,
         "_deepnote_index_column": "-0.7334;-0.7334"
        }
       ],
       "rows_bottom": null
      },
      "text/plain": "                          PC1           PC2           PC3           PC4\n0.2882;0.2882    1.017011e-03  3.536540e-03  3.902739e-03  2.289838e-03\n0;0.7334         5.056482e-17  1.980650e-16  3.199556e-16  2.845516e-16\n0;-0.9993        7.416298e-17  1.261461e-16  7.511274e-17  4.223844e-17\n0.7334;0         9.731304e-18  1.734025e-17  3.746052e-17  4.833203e-17\n0.937;0          5.555642e-17  1.975539e-17  1.094212e-16  3.399999e-17\n...                       ...           ...           ...           ...\n-0.9993;0        0.000000e+00  0.000000e+00  0.000000e+00  0.000000e+00\n0.2882;0.7334    0.000000e+00  0.000000e+00  0.000000e+00  0.000000e+00\n-0.9911;-0.937   0.000000e+00  0.000000e+00  0.000000e+00  0.000000e+00\n0.9993;0.9993    3.609397e-02  6.898657e-01  1.242685e-01  1.376059e-01\n-0.7334;-0.7334  1.981712e-01  7.630589e-02  1.127064e-01  8.811456e-01\n\n[63 rows x 4 columns]",
      "text/html": "<div>\n<style scoped>\n    .dataframe tbody tr th:only-of-type {\n        vertical-align: middle;\n    }\n\n    .dataframe tbody tr th {\n        vertical-align: top;\n    }\n\n    .dataframe thead th {\n        text-align: right;\n    }\n</style>\n<table border=\"1\" class=\"dataframe\">\n  <thead>\n    <tr style=\"text-align: right;\">\n      <th></th>\n      <th>PC1</th>\n      <th>PC2</th>\n      <th>PC3</th>\n      <th>PC4</th>\n    </tr>\n  </thead>\n  <tbody>\n    <tr>\n      <th>0.2882;0.2882</th>\n      <td>1.017011e-03</td>\n      <td>3.536540e-03</td>\n      <td>3.902739e-03</td>\n      <td>2.289838e-03</td>\n    </tr>\n    <tr>\n      <th>0;0.7334</th>\n      <td>5.056482e-17</td>\n      <td>1.980650e-16</td>\n      <td>3.199556e-16</td>\n      <td>2.845516e-16</td>\n    </tr>\n    <tr>\n      <th>0;-0.9993</th>\n      <td>7.416298e-17</td>\n      <td>1.261461e-16</td>\n      <td>7.511274e-17</td>\n      <td>4.223844e-17</td>\n    </tr>\n    <tr>\n      <th>0.7334;0</th>\n      <td>9.731304e-18</td>\n      <td>1.734025e-17</td>\n      <td>3.746052e-17</td>\n      <td>4.833203e-17</td>\n    </tr>\n    <tr>\n      <th>0.937;0</th>\n      <td>5.555642e-17</td>\n      <td>1.975539e-17</td>\n      <td>1.094212e-16</td>\n      <td>3.399999e-17</td>\n    </tr>\n    <tr>\n      <th>...</th>\n      <td>...</td>\n      <td>...</td>\n      <td>...</td>\n      <td>...</td>\n    </tr>\n    <tr>\n      <th>-0.9993;0</th>\n      <td>0.000000e+00</td>\n      <td>0.000000e+00</td>\n      <td>0.000000e+00</td>\n      <td>0.000000e+00</td>\n    </tr>\n    <tr>\n      <th>0.2882;0.7334</th>\n      <td>0.000000e+00</td>\n      <td>0.000000e+00</td>\n      <td>0.000000e+00</td>\n      <td>0.000000e+00</td>\n    </tr>\n    <tr>\n      <th>-0.9911;-0.937</th>\n      <td>0.000000e+00</td>\n      <td>0.000000e+00</td>\n      <td>0.000000e+00</td>\n      <td>0.000000e+00</td>\n    </tr>\n    <tr>\n      <th>0.9993;0.9993</th>\n      <td>3.609397e-02</td>\n      <td>6.898657e-01</td>\n      <td>1.242685e-01</td>\n      <td>1.376059e-01</td>\n    </tr>\n    <tr>\n      <th>-0.7334;-0.7334</th>\n      <td>1.981712e-01</td>\n      <td>7.630589e-02</td>\n      <td>1.127064e-01</td>\n      <td>8.811456e-01</td>\n    </tr>\n  </tbody>\n</table>\n<p>63 rows × 4 columns</p>\n</div>"
     },
     "metadata": {},
     "output_type": "display_data"
    },
    {
     "name": "stdout",
     "text": "\nPC1 top 10 features are: \n\n",
     "output_type": "stream"
    },
    {
     "data": {
      "text/plain": "['-0.7334;-0.937:     0.977998',\n '-0.7334;-0.7334:     0.198171',\n '0.9911;0.9911:     0.041971',\n '0.9993;0.9993:     0.036094',\n '-0.937;-0.937:     0.023853',\n '-0.2882;-0.2882:     0.018402',\n '0.937;0.937:     0.016585',\n '0.2882;0.2882:     0.001017',\n '0;-0.9993:     0.0',\n '0.9911;0.9993:     0.0']"
     },
     "metadata": {},
     "output_type": "display_data"
    }
   ],
   "execution_count": null
  },
  {
   "cell_type": "code",
   "metadata": {
    "tags": [],
    "cell_id": "00030-52877fd7-b1ec-4027-80af-65ced51be790",
    "deepnote_to_be_reexecuted": false,
    "source_hash": "dff9aea6",
    "execution_start": 1638019653952,
    "execution_millis": 3792,
    "deepnote_output_heights": [
     527
    ],
    "deepnote_cell_type": "code"
   },
   "source": "fig = px.scatter(prepare_alg_variances_to_plot(alg_variances), x=\"component\", y=\"variance\", color=\"document\", trendline=\"rolling\", trendline_options=dict(function=\"median\", window=5), trendline_scope='overall',\n            labels={\"component\": \"# Components\", \"variance\": \"Explained Variance\", \"document\": \"Gesture\"}, \n            title=\"Explained Variance with increasing number of latent features\")\nfig.update_traces(showlegend=True)\nfig.show()",
   "outputs": [
    {
     "data": {
      "text/html": "<html>\n<head><meta charset=\"utf-8\" /></head>\n<body>\n    <div>            <script src=\"https://cdnjs.cloudflare.com/ajax/libs/mathjax/2.7.5/MathJax.js?config=TeX-AMS-MML_SVG\"></script><script type=\"text/javascript\">if (window.MathJax) {MathJax.Hub.Config({SVG: {font: \"STIX-Web\"}});}</script>                <script type=\"text/javascript\">window.PlotlyConfig = {MathJaxConfig: 'local'};</script>\n        <script src=\"https://cdn.plot.ly/plotly-2.4.2.min.js\"></script>                <div id=\"d80b2959-b0ec-4711-84e3-2d077b8660b3\" class=\"plotly-graph-div\" style=\"height:525px; width:100%;\"></div>            <script type=\"text/javascript\">                                    window.PLOTLYENV=window.PLOTLYENV || {};                                    if (document.getElementById(\"d80b2959-b0ec-4711-84e3-2d077b8660b3\")) {                    Plotly.newPlot(                        \"d80b2959-b0ec-4711-84e3-2d077b8660b3\",                        [{\"hovertemplate\":\"Gesture=1<br># Components=%{x}<br>Explained Variance=%{y}<extra></extra>\",\"legendgroup\":\"1\",\"marker\":{\"color\":\"#636efa\",\"symbol\":\"circle\"},\"mode\":\"markers\",\"name\":\"1\",\"orientation\":\"v\",\"showlegend\":true,\"type\":\"scatter\",\"x\":[1,2,3,4],\"xaxis\":\"x\",\"y\":[0.3529937207793481,0.5965146884392658,0.7612638100154323,0.9050595266483918],\"yaxis\":\"y\"},{\"hovertemplate\":\"Gesture=10<br># Components=%{x}<br>Explained Variance=%{y}<extra></extra>\",\"legendgroup\":\"10\",\"marker\":{\"color\":\"#EF553B\",\"symbol\":\"circle\"},\"mode\":\"markers\",\"name\":\"10\",\"orientation\":\"v\",\"showlegend\":true,\"type\":\"scatter\",\"x\":[1,2,3,4],\"xaxis\":\"x\",\"y\":[0.6256215509457618,0.7505215626201698,0.8580683803938366,0.9247692951144603],\"yaxis\":\"y\"},{\"hovertemplate\":\"Gesture=11<br># Components=%{x}<br>Explained Variance=%{y}<extra></extra>\",\"legendgroup\":\"11\",\"marker\":{\"color\":\"#00cc96\",\"symbol\":\"circle\"},\"mode\":\"markers\",\"name\":\"11\",\"orientation\":\"v\",\"showlegend\":true,\"type\":\"scatter\",\"x\":[1,2,3,4],\"xaxis\":\"x\",\"y\":[0.5036220075017067,0.8894572661902161,0.9592364223426983,0.9885930592383065],\"yaxis\":\"y\"},{\"hovertemplate\":\"Gesture=12<br># Components=%{x}<br>Explained Variance=%{y}<extra></extra>\",\"legendgroup\":\"12\",\"marker\":{\"color\":\"#ab63fa\",\"symbol\":\"circle\"},\"mode\":\"markers\",\"name\":\"12\",\"orientation\":\"v\",\"showlegend\":true,\"type\":\"scatter\",\"x\":[1,2,3,4],\"xaxis\":\"x\",\"y\":[0.868596941767859,0.9318228455646075,0.9882824798339116,0.9988773854533229],\"yaxis\":\"y\"},{\"hovertemplate\":\"Gesture=13<br># Components=%{x}<br>Explained Variance=%{y}<extra></extra>\",\"legendgroup\":\"13\",\"marker\":{\"color\":\"#FFA15A\",\"symbol\":\"circle\"},\"mode\":\"markers\",\"name\":\"13\",\"orientation\":\"v\",\"showlegend\":true,\"type\":\"scatter\",\"x\":[1,2,3,4],\"xaxis\":\"x\",\"y\":[0.4727455350275033,0.7150957862771128,0.8603323936232685,0.9178233606698061],\"yaxis\":\"y\"},{\"hovertemplate\":\"Gesture=14<br># Components=%{x}<br>Explained Variance=%{y}<extra></extra>\",\"legendgroup\":\"14\",\"marker\":{\"color\":\"#19d3f3\",\"symbol\":\"circle\"},\"mode\":\"markers\",\"name\":\"14\",\"orientation\":\"v\",\"showlegend\":true,\"type\":\"scatter\",\"x\":[1,2,3,4],\"xaxis\":\"x\",\"y\":[0.735632277752214,0.8369696774956339,0.9229402126178611,0.9634608955472534],\"yaxis\":\"y\"},{\"hovertemplate\":\"Gesture=15<br># Components=%{x}<br>Explained Variance=%{y}<extra></extra>\",\"legendgroup\":\"15\",\"marker\":{\"color\":\"#FF6692\",\"symbol\":\"circle\"},\"mode\":\"markers\",\"name\":\"15\",\"orientation\":\"v\",\"showlegend\":true,\"type\":\"scatter\",\"x\":[1,2,3,4],\"xaxis\":\"x\",\"y\":[0.39931538790618243,0.7259454786444761,0.9658863375602328,0.9929141592462504],\"yaxis\":\"y\"},{\"hovertemplate\":\"Gesture=16<br># Components=%{x}<br>Explained Variance=%{y}<extra></extra>\",\"legendgroup\":\"16\",\"marker\":{\"color\":\"#B6E880\",\"symbol\":\"circle\"},\"mode\":\"markers\",\"name\":\"16\",\"orientation\":\"v\",\"showlegend\":true,\"type\":\"scatter\",\"x\":[1,2,3,4],\"xaxis\":\"x\",\"y\":[0.5140181887684536,0.8162338221226391,0.907778311430552,0.9773147022031442],\"yaxis\":\"y\"},{\"hovertemplate\":\"Gesture=17<br># Components=%{x}<br>Explained Variance=%{y}<extra></extra>\",\"legendgroup\":\"17\",\"marker\":{\"color\":\"#FF97FF\",\"symbol\":\"circle\"},\"mode\":\"markers\",\"name\":\"17\",\"orientation\":\"v\",\"showlegend\":true,\"type\":\"scatter\",\"x\":[1,2,3,4],\"xaxis\":\"x\",\"y\":[0.576722257339835,0.7553222704353052,0.8884207047642457,0.9590650877208937],\"yaxis\":\"y\"},{\"hovertemplate\":\"Gesture=18<br># Components=%{x}<br>Explained Variance=%{y}<extra></extra>\",\"legendgroup\":\"18\",\"marker\":{\"color\":\"#FECB52\",\"symbol\":\"circle\"},\"mode\":\"markers\",\"name\":\"18\",\"orientation\":\"v\",\"showlegend\":true,\"type\":\"scatter\",\"x\":[1,2,3,4],\"xaxis\":\"x\",\"y\":[0.6296236629851365,0.7619194356193077,0.8504479808006229,0.9264910336351948],\"yaxis\":\"y\"},{\"hovertemplate\":\"Gesture=19<br># Components=%{x}<br>Explained Variance=%{y}<extra></extra>\",\"legendgroup\":\"19\",\"marker\":{\"color\":\"#636efa\",\"symbol\":\"circle\"},\"mode\":\"markers\",\"name\":\"19\",\"orientation\":\"v\",\"showlegend\":true,\"type\":\"scatter\",\"x\":[1,2,3,4],\"xaxis\":\"x\",\"y\":[0.5424366908770824,0.7544183745716284,0.8868948755234486,0.9581235572017736],\"yaxis\":\"y\"},{\"hovertemplate\":\"Gesture=2<br># Components=%{x}<br>Explained Variance=%{y}<extra></extra>\",\"legendgroup\":\"2\",\"marker\":{\"color\":\"#EF553B\",\"symbol\":\"circle\"},\"mode\":\"markers\",\"name\":\"2\",\"orientation\":\"v\",\"showlegend\":true,\"type\":\"scatter\",\"x\":[1,2,3,4],\"xaxis\":\"x\",\"y\":[0.46693433679538954,0.8356333213624703,0.9295748700247123,0.9978580371581592],\"yaxis\":\"y\"},{\"hovertemplate\":\"Gesture=20<br># Components=%{x}<br>Explained Variance=%{y}<extra></extra>\",\"legendgroup\":\"20\",\"marker\":{\"color\":\"#00cc96\",\"symbol\":\"circle\"},\"mode\":\"markers\",\"name\":\"20\",\"orientation\":\"v\",\"showlegend\":true,\"type\":\"scatter\",\"x\":[1,2,3,4],\"xaxis\":\"x\",\"y\":[0.6679459614797766,0.935460301148219,0.9920893786369598,0.9990902530735745],\"yaxis\":\"y\"},{\"hovertemplate\":\"Gesture=21<br># Components=%{x}<br>Explained Variance=%{y}<extra></extra>\",\"legendgroup\":\"21\",\"marker\":{\"color\":\"#ab63fa\",\"symbol\":\"circle\"},\"mode\":\"markers\",\"name\":\"21\",\"orientation\":\"v\",\"showlegend\":true,\"type\":\"scatter\",\"x\":[1,2,3,4],\"xaxis\":\"x\",\"y\":[0.5637375139148817,0.7484534310588439,0.8259293601007297,0.9004796947251832],\"yaxis\":\"y\"},{\"hovertemplate\":\"Gesture=22<br># Components=%{x}<br>Explained Variance=%{y}<extra></extra>\",\"legendgroup\":\"22\",\"marker\":{\"color\":\"#FFA15A\",\"symbol\":\"circle\"},\"mode\":\"markers\",\"name\":\"22\",\"orientation\":\"v\",\"showlegend\":true,\"type\":\"scatter\",\"x\":[1,2,3,4],\"xaxis\":\"x\",\"y\":[0.3150190934484894,0.5706759877536283,0.7874679454785719,0.8663307981691111],\"yaxis\":\"y\"},{\"hovertemplate\":\"Gesture=23<br># Components=%{x}<br>Explained Variance=%{y}<extra></extra>\",\"legendgroup\":\"23\",\"marker\":{\"color\":\"#19d3f3\",\"symbol\":\"circle\"},\"mode\":\"markers\",\"name\":\"23\",\"orientation\":\"v\",\"showlegend\":true,\"type\":\"scatter\",\"x\":[1,2,3,4],\"xaxis\":\"x\",\"y\":[0.4786649269301999,0.7412680032936445,0.8500524229734205,0.9365288016009041],\"yaxis\":\"y\"},{\"hovertemplate\":\"Gesture=24<br># Components=%{x}<br>Explained Variance=%{y}<extra></extra>\",\"legendgroup\":\"24\",\"marker\":{\"color\":\"#FF6692\",\"symbol\":\"circle\"},\"mode\":\"markers\",\"name\":\"24\",\"orientation\":\"v\",\"showlegend\":true,\"type\":\"scatter\",\"x\":[1,2,3,4],\"xaxis\":\"x\",\"y\":[0.35582907137808567,0.6566606628475793,0.8057234286795234,0.8993214522292844],\"yaxis\":\"y\"},{\"hovertemplate\":\"Gesture=25<br># Components=%{x}<br>Explained Variance=%{y}<extra></extra>\",\"legendgroup\":\"25\",\"marker\":{\"color\":\"#B6E880\",\"symbol\":\"circle\"},\"mode\":\"markers\",\"name\":\"25\",\"orientation\":\"v\",\"showlegend\":true,\"type\":\"scatter\",\"x\":[1,2,3,4],\"xaxis\":\"x\",\"y\":[0.3793308613988872,0.5767716849645407,0.7321573224451475,0.8603982158094241],\"yaxis\":\"y\"},{\"hovertemplate\":\"Gesture=26<br># Components=%{x}<br>Explained Variance=%{y}<extra></extra>\",\"legendgroup\":\"26\",\"marker\":{\"color\":\"#FF97FF\",\"symbol\":\"circle\"},\"mode\":\"markers\",\"name\":\"26\",\"orientation\":\"v\",\"showlegend\":true,\"type\":\"scatter\",\"x\":[1,2,3,4],\"xaxis\":\"x\",\"y\":[0.687111966306078,0.8514392082276601,0.9612193407240868,0.9888540894386483],\"yaxis\":\"y\"},{\"hovertemplate\":\"Gesture=27<br># Components=%{x}<br>Explained Variance=%{y}<extra></extra>\",\"legendgroup\":\"27\",\"marker\":{\"color\":\"#FECB52\",\"symbol\":\"circle\"},\"mode\":\"markers\",\"name\":\"27\",\"orientation\":\"v\",\"showlegend\":true,\"type\":\"scatter\",\"x\":[1,2,3,4],\"xaxis\":\"x\",\"y\":[0.26374513777241887,0.4789003965868035,0.6689345681562552,0.8236633308216226],\"yaxis\":\"y\"},{\"hovertemplate\":\"Gesture=28<br># Components=%{x}<br>Explained Variance=%{y}<extra></extra>\",\"legendgroup\":\"28\",\"marker\":{\"color\":\"#636efa\",\"symbol\":\"circle\"},\"mode\":\"markers\",\"name\":\"28\",\"orientation\":\"v\",\"showlegend\":true,\"type\":\"scatter\",\"x\":[1,2,3,4],\"xaxis\":\"x\",\"y\":[0.3100151124765974,0.5650804563310343,0.7853483660457938,0.8714247191228027],\"yaxis\":\"y\"},{\"hovertemplate\":\"Gesture=29<br># Components=%{x}<br>Explained Variance=%{y}<extra></extra>\",\"legendgroup\":\"29\",\"marker\":{\"color\":\"#EF553B\",\"symbol\":\"circle\"},\"mode\":\"markers\",\"name\":\"29\",\"orientation\":\"v\",\"showlegend\":true,\"type\":\"scatter\",\"x\":[1,2,3,4],\"xaxis\":\"x\",\"y\":[0.6733514087696065,0.8552155269844544,0.9295871071667634,0.9617128197554357],\"yaxis\":\"y\"},{\"hovertemplate\":\"Gesture=3<br># Components=%{x}<br>Explained Variance=%{y}<extra></extra>\",\"legendgroup\":\"3\",\"marker\":{\"color\":\"#00cc96\",\"symbol\":\"circle\"},\"mode\":\"markers\",\"name\":\"3\",\"orientation\":\"v\",\"showlegend\":true,\"type\":\"scatter\",\"x\":[1,2,3,4],\"xaxis\":\"x\",\"y\":[0.5084572420496037,0.725954300046036,0.8817860423043296,0.9632402197743379],\"yaxis\":\"y\"},{\"hovertemplate\":\"Gesture=30<br># Components=%{x}<br>Explained Variance=%{y}<extra></extra>\",\"legendgroup\":\"30\",\"marker\":{\"color\":\"#ab63fa\",\"symbol\":\"circle\"},\"mode\":\"markers\",\"name\":\"30\",\"orientation\":\"v\",\"showlegend\":true,\"type\":\"scatter\",\"x\":[1,2,3,4],\"xaxis\":\"x\",\"y\":[0.4123158618630566,0.6429177659993759,0.8054168442287986,0.8782659008537819],\"yaxis\":\"y\"},{\"hovertemplate\":\"Gesture=31<br># Components=%{x}<br>Explained Variance=%{y}<extra></extra>\",\"legendgroup\":\"31\",\"marker\":{\"color\":\"#FFA15A\",\"symbol\":\"circle\"},\"mode\":\"markers\",\"name\":\"31\",\"orientation\":\"v\",\"showlegend\":true,\"type\":\"scatter\",\"x\":[1,2,3,4],\"xaxis\":\"x\",\"y\":[0.4711444286560585,0.6322230949940024,0.7670437121889322,0.8598518420699148],\"yaxis\":\"y\"},{\"hovertemplate\":\"Gesture=32<br># Components=%{x}<br>Explained Variance=%{y}<extra></extra>\",\"legendgroup\":\"32\",\"marker\":{\"color\":\"#19d3f3\",\"symbol\":\"circle\"},\"mode\":\"markers\",\"name\":\"32\",\"orientation\":\"v\",\"showlegend\":true,\"type\":\"scatter\",\"x\":[1,2,3,4],\"xaxis\":\"x\",\"y\":[0.33514324961516706,0.5836995449588844,0.7787610707542718,0.918140652238534],\"yaxis\":\"y\"},{\"hovertemplate\":\"Gesture=33<br># Components=%{x}<br>Explained Variance=%{y}<extra></extra>\",\"legendgroup\":\"33\",\"marker\":{\"color\":\"#FF6692\",\"symbol\":\"circle\"},\"mode\":\"markers\",\"name\":\"33\",\"orientation\":\"v\",\"showlegend\":true,\"type\":\"scatter\",\"x\":[1,2,3,4],\"xaxis\":\"x\",\"y\":[0.4042805962589819,0.6314249063346704,0.8074777992571447,0.9072284189036204],\"yaxis\":\"y\"},{\"hovertemplate\":\"Gesture=34<br># Components=%{x}<br>Explained Variance=%{y}<extra></extra>\",\"legendgroup\":\"34\",\"marker\":{\"color\":\"#B6E880\",\"symbol\":\"circle\"},\"mode\":\"markers\",\"name\":\"34\",\"orientation\":\"v\",\"showlegend\":true,\"type\":\"scatter\",\"x\":[1,2,3,4],\"xaxis\":\"x\",\"y\":[0.47594219132503607,0.6378323935687522,0.7924398292059036,0.8985930123662689],\"yaxis\":\"y\"},{\"hovertemplate\":\"Gesture=35<br># Components=%{x}<br>Explained Variance=%{y}<extra></extra>\",\"legendgroup\":\"35\",\"marker\":{\"color\":\"#FF97FF\",\"symbol\":\"circle\"},\"mode\":\"markers\",\"name\":\"35\",\"orientation\":\"v\",\"showlegend\":true,\"type\":\"scatter\",\"x\":[1,2,3,4],\"xaxis\":\"x\",\"y\":[0.35506318697195394,0.6034339591047125,0.7101228243068003,0.798148778843783],\"yaxis\":\"y\"},{\"hovertemplate\":\"Gesture=36<br># Components=%{x}<br>Explained Variance=%{y}<extra></extra>\",\"legendgroup\":\"36\",\"marker\":{\"color\":\"#FECB52\",\"symbol\":\"circle\"},\"mode\":\"markers\",\"name\":\"36\",\"orientation\":\"v\",\"showlegend\":true,\"type\":\"scatter\",\"x\":[1,2,3,4],\"xaxis\":\"x\",\"y\":[0.5175763058837453,0.7146518105462314,0.8254776990892987,0.9236519745569705],\"yaxis\":\"y\"},{\"hovertemplate\":\"Gesture=37<br># Components=%{x}<br>Explained Variance=%{y}<extra></extra>\",\"legendgroup\":\"37\",\"marker\":{\"color\":\"#636efa\",\"symbol\":\"circle\"},\"mode\":\"markers\",\"name\":\"37\",\"orientation\":\"v\",\"showlegend\":true,\"type\":\"scatter\",\"x\":[1,2,3,4],\"xaxis\":\"x\",\"y\":[0.2511237491552682,0.4802482308013034,0.6568777894421584,0.787774231064363],\"yaxis\":\"y\"},{\"hovertemplate\":\"Gesture=38<br># Components=%{x}<br>Explained Variance=%{y}<extra></extra>\",\"legendgroup\":\"38\",\"marker\":{\"color\":\"#EF553B\",\"symbol\":\"circle\"},\"mode\":\"markers\",\"name\":\"38\",\"orientation\":\"v\",\"showlegend\":true,\"type\":\"scatter\",\"x\":[1,2,3,4],\"xaxis\":\"x\",\"y\":[0.37962054982064286,0.6286741042291943,0.7894845742292624,0.8860350508528894],\"yaxis\":\"y\"},{\"hovertemplate\":\"Gesture=39<br># Components=%{x}<br>Explained Variance=%{y}<extra></extra>\",\"legendgroup\":\"39\",\"marker\":{\"color\":\"#00cc96\",\"symbol\":\"circle\"},\"mode\":\"markers\",\"name\":\"39\",\"orientation\":\"v\",\"showlegend\":true,\"type\":\"scatter\",\"x\":[1,2,3,4],\"xaxis\":\"x\",\"y\":[0.33750962052494493,0.6287957969438205,0.7707698710653595,0.8637872452741646],\"yaxis\":\"y\"},{\"hovertemplate\":\"Gesture=4<br># Components=%{x}<br>Explained Variance=%{y}<extra></extra>\",\"legendgroup\":\"4\",\"marker\":{\"color\":\"#ab63fa\",\"symbol\":\"circle\"},\"mode\":\"markers\",\"name\":\"4\",\"orientation\":\"v\",\"showlegend\":true,\"type\":\"scatter\",\"x\":[1,2,3,4],\"xaxis\":\"x\",\"y\":[0.46713196481605906,0.71540214900095,0.8212580556714543,0.8985259329658173],\"yaxis\":\"y\"},{\"hovertemplate\":\"Gesture=40<br># Components=%{x}<br>Explained Variance=%{y}<extra></extra>\",\"legendgroup\":\"40\",\"marker\":{\"color\":\"#FFA15A\",\"symbol\":\"circle\"},\"mode\":\"markers\",\"name\":\"40\",\"orientation\":\"v\",\"showlegend\":true,\"type\":\"scatter\",\"x\":[1,2,3,4],\"xaxis\":\"x\",\"y\":[0.30529779668469725,0.500152236312703,0.6818143957450298,0.8292608990550612],\"yaxis\":\"y\"},{\"hovertemplate\":\"Gesture=41<br># Components=%{x}<br>Explained Variance=%{y}<extra></extra>\",\"legendgroup\":\"41\",\"marker\":{\"color\":\"#19d3f3\",\"symbol\":\"circle\"},\"mode\":\"markers\",\"name\":\"41\",\"orientation\":\"v\",\"showlegend\":true,\"type\":\"scatter\",\"x\":[1,2,3,4],\"xaxis\":\"x\",\"y\":[0.4750140070205441,0.84639391946365,0.9180603704926757,0.9790544255901243],\"yaxis\":\"y\"},{\"hovertemplate\":\"Gesture=42<br># Components=%{x}<br>Explained Variance=%{y}<extra></extra>\",\"legendgroup\":\"42\",\"marker\":{\"color\":\"#FF6692\",\"symbol\":\"circle\"},\"mode\":\"markers\",\"name\":\"42\",\"orientation\":\"v\",\"showlegend\":true,\"type\":\"scatter\",\"x\":[1,2,3,4],\"xaxis\":\"x\",\"y\":[0.7881657078404548,0.9455262676845598,0.9748484969061527,0.999535786123009],\"yaxis\":\"y\"},{\"hovertemplate\":\"Gesture=43<br># Components=%{x}<br>Explained Variance=%{y}<extra></extra>\",\"legendgroup\":\"43\",\"marker\":{\"color\":\"#B6E880\",\"symbol\":\"circle\"},\"mode\":\"markers\",\"name\":\"43\",\"orientation\":\"v\",\"showlegend\":true,\"type\":\"scatter\",\"x\":[1,2,3,4],\"xaxis\":\"x\",\"y\":[0.6413098191106724,0.9294118570496757,0.9983818094570075,0.9999999987755472],\"yaxis\":\"y\"},{\"hovertemplate\":\"Gesture=44<br># Components=%{x}<br>Explained Variance=%{y}<extra></extra>\",\"legendgroup\":\"44\",\"marker\":{\"color\":\"#FF97FF\",\"symbol\":\"circle\"},\"mode\":\"markers\",\"name\":\"44\",\"orientation\":\"v\",\"showlegend\":true,\"type\":\"scatter\",\"x\":[1,2,3,4],\"xaxis\":\"x\",\"y\":[0.50817016238007,0.8348351170871384,0.9532229289489411,0.990872934368049],\"yaxis\":\"y\"},{\"hovertemplate\":\"Gesture=45<br># Components=%{x}<br>Explained Variance=%{y}<extra></extra>\",\"legendgroup\":\"45\",\"marker\":{\"color\":\"#FECB52\",\"symbol\":\"circle\"},\"mode\":\"markers\",\"name\":\"45\",\"orientation\":\"v\",\"showlegend\":true,\"type\":\"scatter\",\"x\":[1,2,3,4],\"xaxis\":\"x\",\"y\":[0.9925757339397431,1.0,1.0,1.0],\"yaxis\":\"y\"},{\"hovertemplate\":\"Gesture=46<br># Components=%{x}<br>Explained Variance=%{y}<extra></extra>\",\"legendgroup\":\"46\",\"marker\":{\"color\":\"#636efa\",\"symbol\":\"circle\"},\"mode\":\"markers\",\"name\":\"46\",\"orientation\":\"v\",\"showlegend\":true,\"type\":\"scatter\",\"x\":[1,2,3,4],\"xaxis\":\"x\",\"y\":[0.46723318147785714,0.7093954730780296,0.8771202894350418,0.9870929455459194],\"yaxis\":\"y\"},{\"hovertemplate\":\"Gesture=47<br># Components=%{x}<br>Explained Variance=%{y}<extra></extra>\",\"legendgroup\":\"47\",\"marker\":{\"color\":\"#EF553B\",\"symbol\":\"circle\"},\"mode\":\"markers\",\"name\":\"47\",\"orientation\":\"v\",\"showlegend\":true,\"type\":\"scatter\",\"x\":[1,2,3,4],\"xaxis\":\"x\",\"y\":[0.7005868186761275,0.8716087518530863,0.9625666367386382,0.9887811074883035],\"yaxis\":\"y\"},{\"hovertemplate\":\"Gesture=48<br># Components=%{x}<br>Explained Variance=%{y}<extra></extra>\",\"legendgroup\":\"48\",\"marker\":{\"color\":\"#00cc96\",\"symbol\":\"circle\"},\"mode\":\"markers\",\"name\":\"48\",\"orientation\":\"v\",\"showlegend\":true,\"type\":\"scatter\",\"x\":[1,2,3,4],\"xaxis\":\"x\",\"y\":[0.8338387037369449,0.9178797618598082,0.9875312551733535,0.9990794610577647],\"yaxis\":\"y\"},{\"hovertemplate\":\"Gesture=49<br># Components=%{x}<br>Explained Variance=%{y}<extra></extra>\",\"legendgroup\":\"49\",\"marker\":{\"color\":\"#ab63fa\",\"symbol\":\"circle\"},\"mode\":\"markers\",\"name\":\"49\",\"orientation\":\"v\",\"showlegend\":true,\"type\":\"scatter\",\"x\":[1,2,3,4],\"xaxis\":\"x\",\"y\":[0.604638807340801,0.884329840333931,0.9829816847251008,0.9986127846562067],\"yaxis\":\"y\"},{\"hovertemplate\":\"Gesture=5<br># Components=%{x}<br>Explained Variance=%{y}<extra></extra>\",\"legendgroup\":\"5\",\"marker\":{\"color\":\"#FFA15A\",\"symbol\":\"circle\"},\"mode\":\"markers\",\"name\":\"5\",\"orientation\":\"v\",\"showlegend\":true,\"type\":\"scatter\",\"x\":[1,2,3,4],\"xaxis\":\"x\",\"y\":[0.49635572931034894,0.681330507115986,0.805540448413409,0.8931279042619782],\"yaxis\":\"y\"},{\"hovertemplate\":\"Gesture=50<br># Components=%{x}<br>Explained Variance=%{y}<extra></extra>\",\"legendgroup\":\"50\",\"marker\":{\"color\":\"#19d3f3\",\"symbol\":\"circle\"},\"mode\":\"markers\",\"name\":\"50\",\"orientation\":\"v\",\"showlegend\":true,\"type\":\"scatter\",\"x\":[1,2,3,4],\"xaxis\":\"x\",\"y\":[0.5132047943664468,0.9746336234705906,0.9881799329736246,0.9992601336239364],\"yaxis\":\"y\"},{\"hovertemplate\":\"Gesture=51<br># Components=%{x}<br>Explained Variance=%{y}<extra></extra>\",\"legendgroup\":\"51\",\"marker\":{\"color\":\"#FF6692\",\"symbol\":\"circle\"},\"mode\":\"markers\",\"name\":\"51\",\"orientation\":\"v\",\"showlegend\":true,\"type\":\"scatter\",\"x\":[1,2,3,4],\"xaxis\":\"x\",\"y\":[0.47707733701872107,0.6896702344686715,0.8651259741696555,0.9504076907309905],\"yaxis\":\"y\"},{\"hovertemplate\":\"Gesture=52<br># Components=%{x}<br>Explained Variance=%{y}<extra></extra>\",\"legendgroup\":\"52\",\"marker\":{\"color\":\"#B6E880\",\"symbol\":\"circle\"},\"mode\":\"markers\",\"name\":\"52\",\"orientation\":\"v\",\"showlegend\":true,\"type\":\"scatter\",\"x\":[1,2,3,4],\"xaxis\":\"x\",\"y\":[0.36500242032063884,0.5844328370614392,0.7457310582737432,0.8689323671287943],\"yaxis\":\"y\"},{\"hovertemplate\":\"Gesture=53<br># Components=%{x}<br>Explained Variance=%{y}<extra></extra>\",\"legendgroup\":\"53\",\"marker\":{\"color\":\"#FF97FF\",\"symbol\":\"circle\"},\"mode\":\"markers\",\"name\":\"53\",\"orientation\":\"v\",\"showlegend\":true,\"type\":\"scatter\",\"x\":[1,2,3,4],\"xaxis\":\"x\",\"y\":[0.4690933986208926,0.6654537255152007,0.8318378058650999,0.9181435184458482],\"yaxis\":\"y\"},{\"hovertemplate\":\"Gesture=54<br># Components=%{x}<br>Explained Variance=%{y}<extra></extra>\",\"legendgroup\":\"54\",\"marker\":{\"color\":\"#FECB52\",\"symbol\":\"circle\"},\"mode\":\"markers\",\"name\":\"54\",\"orientation\":\"v\",\"showlegend\":true,\"type\":\"scatter\",\"x\":[1,2,3,4],\"xaxis\":\"x\",\"y\":[0.7199541146384579,0.8935558014048758,0.9536721166069124,0.9922670818993232],\"yaxis\":\"y\"},{\"hovertemplate\":\"Gesture=55<br># Components=%{x}<br>Explained Variance=%{y}<extra></extra>\",\"legendgroup\":\"55\",\"marker\":{\"color\":\"#636efa\",\"symbol\":\"circle\"},\"mode\":\"markers\",\"name\":\"55\",\"orientation\":\"v\",\"showlegend\":true,\"type\":\"scatter\",\"x\":[1,2,3,4],\"xaxis\":\"x\",\"y\":[0.7408984601300111,0.8956872027474203,0.9799555525501311,0.9977077645703646],\"yaxis\":\"y\"},{\"hovertemplate\":\"Gesture=56<br># Components=%{x}<br>Explained Variance=%{y}<extra></extra>\",\"legendgroup\":\"56\",\"marker\":{\"color\":\"#EF553B\",\"symbol\":\"circle\"},\"mode\":\"markers\",\"name\":\"56\",\"orientation\":\"v\",\"showlegend\":true,\"type\":\"scatter\",\"x\":[1,2,3,4],\"xaxis\":\"x\",\"y\":[0.4260763716215942,0.7362797946548603,0.9006651305045217,0.9774427074888968],\"yaxis\":\"y\"},{\"hovertemplate\":\"Gesture=57<br># Components=%{x}<br>Explained Variance=%{y}<extra></extra>\",\"legendgroup\":\"57\",\"marker\":{\"color\":\"#00cc96\",\"symbol\":\"circle\"},\"mode\":\"markers\",\"name\":\"57\",\"orientation\":\"v\",\"showlegend\":true,\"type\":\"scatter\",\"x\":[1,2,3,4],\"xaxis\":\"x\",\"y\":[0.5080637532814247,0.798087974307624,0.9724866374409626,0.99841199265317],\"yaxis\":\"y\"},{\"hovertemplate\":\"Gesture=58<br># Components=%{x}<br>Explained Variance=%{y}<extra></extra>\",\"legendgroup\":\"58\",\"marker\":{\"color\":\"#ab63fa\",\"symbol\":\"circle\"},\"mode\":\"markers\",\"name\":\"58\",\"orientation\":\"v\",\"showlegend\":true,\"type\":\"scatter\",\"x\":[1,2,3,4],\"xaxis\":\"x\",\"y\":[0.49748763990803274,0.7782043163343997,0.9454719289567756,0.9818561117598423],\"yaxis\":\"y\"},{\"hovertemplate\":\"Gesture=59<br># Components=%{x}<br>Explained Variance=%{y}<extra></extra>\",\"legendgroup\":\"59\",\"marker\":{\"color\":\"#FFA15A\",\"symbol\":\"circle\"},\"mode\":\"markers\",\"name\":\"59\",\"orientation\":\"v\",\"showlegend\":true,\"type\":\"scatter\",\"x\":[1,2,3,4],\"xaxis\":\"x\",\"y\":[0.4783758073598829,0.697939701141459,0.8387338969906535,0.9304956950672489],\"yaxis\":\"y\"},{\"hovertemplate\":\"Gesture=6<br># Components=%{x}<br>Explained Variance=%{y}<extra></extra>\",\"legendgroup\":\"6\",\"marker\":{\"color\":\"#19d3f3\",\"symbol\":\"circle\"},\"mode\":\"markers\",\"name\":\"6\",\"orientation\":\"v\",\"showlegend\":true,\"type\":\"scatter\",\"x\":[1,2,3,4],\"xaxis\":\"x\",\"y\":[0.7626023614215829,0.9118382021174305,0.9522322133074993,0.9769204809051705],\"yaxis\":\"y\"},{\"hovertemplate\":\"Gesture=60<br># Components=%{x}<br>Explained Variance=%{y}<extra></extra>\",\"legendgroup\":\"60\",\"marker\":{\"color\":\"#FF6692\",\"symbol\":\"circle\"},\"mode\":\"markers\",\"name\":\"60\",\"orientation\":\"v\",\"showlegend\":true,\"type\":\"scatter\",\"x\":[1,2,3,4],\"xaxis\":\"x\",\"y\":[0.4321083669361588,0.6578389276245483,0.8350807978651262,0.9985060131947779],\"yaxis\":\"y\"},{\"hovertemplate\":\"Gesture=7<br># Components=%{x}<br>Explained Variance=%{y}<extra></extra>\",\"legendgroup\":\"7\",\"marker\":{\"color\":\"#B6E880\",\"symbol\":\"circle\"},\"mode\":\"markers\",\"name\":\"7\",\"orientation\":\"v\",\"showlegend\":true,\"type\":\"scatter\",\"x\":[1,2,3,4],\"xaxis\":\"x\",\"y\":[0.465046238681041,0.7131759723217501,0.8508707691009192,0.9611600060388767],\"yaxis\":\"y\"},{\"hovertemplate\":\"Gesture=8<br># Components=%{x}<br>Explained Variance=%{y}<extra></extra>\",\"legendgroup\":\"8\",\"marker\":{\"color\":\"#FF97FF\",\"symbol\":\"circle\"},\"mode\":\"markers\",\"name\":\"8\",\"orientation\":\"v\",\"showlegend\":true,\"type\":\"scatter\",\"x\":[1,2,3,4],\"xaxis\":\"x\",\"y\":[0.7961373871890833,0.8819892838245051,0.9409833362652554,0.976245422215295],\"yaxis\":\"y\"},{\"hovertemplate\":\"Gesture=9<br># Components=%{x}<br>Explained Variance=%{y}<extra></extra>\",\"legendgroup\":\"9\",\"marker\":{\"color\":\"#FECB52\",\"symbol\":\"circle\"},\"mode\":\"markers\",\"name\":\"9\",\"orientation\":\"v\",\"showlegend\":true,\"type\":\"scatter\",\"x\":[1,2,3,4],\"xaxis\":\"x\",\"y\":[0.6805765629491163,0.8335577367919125,0.9298927720279115,0.9686457485260191],\"yaxis\":\"y\"},{\"hovertemplate\":\"<b>Rolling median trendline</b><br><br># Components=%{x}<br>Explained Variance=%{y} <b>(trend)</b><extra></extra>\",\"legendgroup\":\"Overall Trendline\",\"line\":{\"color\":\"#636efa\"},\"mode\":\"lines\",\"name\":\"Overall Trendline\",\"showlegend\":true,\"type\":\"scatter\",\"x\":[1,1,1,1,1,1,1,1,1,1,1,1,1,1,1,1,1,1,1,1,1,1,1,1,1,1,1,1,1,1,1,1,1,1,1,1,1,1,1,1,1,1,1,1,1,1,1,1,1,1,1,1,1,1,1,1,1,1,1,1,2,2,2,2,2,2,2,2,2,2,2,2,2,2,2,2,2,2,2,2,2,2,2,2,2,2,2,2,2,2,2,2,2,2,2,2,2,2,2,2,2,2,2,2,2,2,2,2,2,2,2,2,2,2,2,2,2,2,2,2,3,3,3,3,3,3,3,3,3,3,3,3,3,3,3,3,3,3,3,3,3,3,3,3,3,3,3,3,3,3,3,3,3,3,3,3,3,3,3,3,3,3,3,3,3,3,3,3,3,3,3,3,3,3,3,3,3,3,3,3,4,4,4,4,4,4,4,4,4,4,4,4,4,4,4,4,4,4,4,4,4,4,4,4,4,4,4,4,4,4,4,4,4,4,4,4,4,4,4,4,4,4,4,4,4,4,4,4,4,4,4,4,4,4,4,4,4,4,4,4],\"xaxis\":\"x\",\"y\":[null,null,null,null,0.47594219132503607,0.47594219132503607,0.5424366908770824,0.5424366908770824,0.604638807340801,0.49748763990803274,0.49748763990803274,0.49748763990803274,0.5637375139148817,0.49748763990803274,0.4321083669361588,0.4711444286560585,0.4711444286560585,0.4711444286560585,0.4711444286560585,0.4786649269301999,0.50817016238007,0.50817016238007,0.46723318147785714,0.4783758073598829,0.4783758073598829,0.4783758073598829,0.5084572420496037,0.5084572420496037,0.5084572420496037,0.4123158618630566,0.3793308613988872,0.3793308613988872,0.4123158618630566,0.4123158618630566,0.6413098191106724,0.687111966306078,0.6413098191106724,0.47707733701872107,0.47707733701872107,0.4727455350275033,0.4260763716215942,0.4260763716215942,0.4727455350275033,0.49635572931034894,0.5036220075017067,0.5036220075017067,0.5036220075017067,0.5036220075017067,0.5036220075017067,0.6805765629491163,0.6805765629491163,0.6805765629491163,0.576722257339835,0.5175763058837453,0.46713196481605906,0.46713196481605906,0.5175763058837453,0.5140181887684536,0.5140181887684536,0.5140181887684536,0.5140181887684536,0.5132047943664468,0.5132047943664468,0.6287957969438205,0.71540214900095,0.725954300046036,0.725954300046036,0.71540214900095,0.6286741042291943,0.6286741042291943,0.6286741042291943,0.7782043163343997,0.7782043163343997,0.7782043163343997,0.6314249063346704,0.6314249063346704,0.6314249063346704,0.697939701141459,0.7146518105462314,0.798087974307624,0.798087974307624,0.697939701141459,0.6429177659993759,0.6429177659993759,0.6429177659993759,0.7544183745716284,0.7544183745716284,0.7544183745716284,0.7544183745716284,0.7131759723217501,0.7131759723217501,0.7259454786444761,0.7553222704353052,0.8162338221226391,0.8369696774956339,0.8369696774956339,0.8369696774956339,0.8369696774956339,0.7150957862771128,0.7150957862771128,0.7505215626201698,0.8335577367919125,0.7505215626201698,0.8335577367919125,0.8335577367919125,0.8335577367919125,0.8356333213624703,0.8356333213624703,0.7619194356193077,0.7619194356193077,0.7093954730780296,0.6566606628475793,0.7093954730780296,0.8514392082276601,0.7412680032936445,0.7412680032936445,0.7484534310588439,0.7412680032936445,0.7412680032936445,0.7362797946548603,0.7484534310588439,0.9178797618598082,0.9829816847251008,0.9829816847251008,0.9829816847251008,0.8771202894350418,0.8651259741696555,0.8651259741696555,0.8771202894350418,0.9536721166069124,0.9748484969061527,0.9748484969061527,0.9748484969061527,0.9625666367386382,0.9532229289489411,0.9532229289489411,0.9532229289489411,0.9454719289567756,0.9454719289567756,0.9454719289567756,0.9006651305045217,0.8500524229734205,0.8259293601007297,0.8500524229734205,0.8350807978651262,0.8350807978651262,0.8868948755234486,0.8868948755234486,0.8868948755234486,0.8868948755234486,0.8868948755234486,0.8884207047642457,0.907778311430552,0.907778311430552,0.9229402126178611,0.9409833362652554,0.9409833362652554,0.9409833362652554,0.9409833362652554,0.8580683803938366,0.8580683803938366,0.8057234286795234,0.7612638100154323,0.8057234286795234,0.9298927720279115,0.8057234286795234,0.7924398292059036,0.8074777992571447,0.7924398292059036,0.7894845742292624,0.7787610707542718,0.7787610707542718,0.7787610707542718,0.7894845742292624,0.7707698710653595,0.7853483660457938,0.8387338969906535,0.7853483660457938,0.7853483660457938,0.8054168442287986,0.8254776990892987,0.8254776990892987,0.976245422215295,0.976245422215295,0.976245422215295,0.9611600060388767,0.9611600060388767,0.9611600060388767,0.9769204809051705,0.9818561117598423,0.9977077645703646,0.9818561117598423,0.9769204809051705,0.9504076907309905,0.9504076907309905,0.9236519745569705,0.8993214522292844,0.8993214522292844,0.8993214522292844,0.8993214522292844,0.9004796947251832,0.9365288016009041,0.9004796947251832,0.9581235572017736,0.9590650877208937,0.9590650877208937,0.9590650877208937,0.9634608955472534,0.9634608955472534,0.9773147022031442,0.9885930592383065,0.9634608955472534,0.9247692951144603,0.9264910336351948,0.9264910336351948,0.9264910336351948,0.9264910336351948,0.9617128197554357,0.9617128197554357,0.9632402197743379,0.9986127846562067,0.9986127846562067,0.9887811074883035,0.9986127846562067,0.990872934368049,0.990872934368049,0.999535786123009,0.999535786123009,0.990872934368049,0.9790544255901243,0.8985259329658173,0.8860350508528894,0.8637872452741646,0.8637872452741646,0.8637872452741646,0.8860350508528894,0.8985930123662689,0.8985930123662689,0.8985930123662689,0.9072284189036204],\"yaxis\":\"y\"}],                        {\"legend\":{\"title\":{\"text\":\"Gesture\"},\"tracegroupgap\":0},\"template\":{\"data\":{\"bar\":[{\"error_x\":{\"color\":\"#2a3f5f\"},\"error_y\":{\"color\":\"#2a3f5f\"},\"marker\":{\"line\":{\"color\":\"#E5ECF6\",\"width\":0.5},\"pattern\":{\"fillmode\":\"overlay\",\"size\":10,\"solidity\":0.2}},\"type\":\"bar\"}],\"barpolar\":[{\"marker\":{\"line\":{\"color\":\"#E5ECF6\",\"width\":0.5},\"pattern\":{\"fillmode\":\"overlay\",\"size\":10,\"solidity\":0.2}},\"type\":\"barpolar\"}],\"carpet\":[{\"aaxis\":{\"endlinecolor\":\"#2a3f5f\",\"gridcolor\":\"white\",\"linecolor\":\"white\",\"minorgridcolor\":\"white\",\"startlinecolor\":\"#2a3f5f\"},\"baxis\":{\"endlinecolor\":\"#2a3f5f\",\"gridcolor\":\"white\",\"linecolor\":\"white\",\"minorgridcolor\":\"white\",\"startlinecolor\":\"#2a3f5f\"},\"type\":\"carpet\"}],\"choropleth\":[{\"colorbar\":{\"outlinewidth\":0,\"ticks\":\"\"},\"type\":\"choropleth\"}],\"contour\":[{\"colorbar\":{\"outlinewidth\":0,\"ticks\":\"\"},\"colorscale\":[[0.0,\"#0d0887\"],[0.1111111111111111,\"#46039f\"],[0.2222222222222222,\"#7201a8\"],[0.3333333333333333,\"#9c179e\"],[0.4444444444444444,\"#bd3786\"],[0.5555555555555556,\"#d8576b\"],[0.6666666666666666,\"#ed7953\"],[0.7777777777777778,\"#fb9f3a\"],[0.8888888888888888,\"#fdca26\"],[1.0,\"#f0f921\"]],\"type\":\"contour\"}],\"contourcarpet\":[{\"colorbar\":{\"outlinewidth\":0,\"ticks\":\"\"},\"type\":\"contourcarpet\"}],\"heatmap\":[{\"colorbar\":{\"outlinewidth\":0,\"ticks\":\"\"},\"colorscale\":[[0.0,\"#0d0887\"],[0.1111111111111111,\"#46039f\"],[0.2222222222222222,\"#7201a8\"],[0.3333333333333333,\"#9c179e\"],[0.4444444444444444,\"#bd3786\"],[0.5555555555555556,\"#d8576b\"],[0.6666666666666666,\"#ed7953\"],[0.7777777777777778,\"#fb9f3a\"],[0.8888888888888888,\"#fdca26\"],[1.0,\"#f0f921\"]],\"type\":\"heatmap\"}],\"heatmapgl\":[{\"colorbar\":{\"outlinewidth\":0,\"ticks\":\"\"},\"colorscale\":[[0.0,\"#0d0887\"],[0.1111111111111111,\"#46039f\"],[0.2222222222222222,\"#7201a8\"],[0.3333333333333333,\"#9c179e\"],[0.4444444444444444,\"#bd3786\"],[0.5555555555555556,\"#d8576b\"],[0.6666666666666666,\"#ed7953\"],[0.7777777777777778,\"#fb9f3a\"],[0.8888888888888888,\"#fdca26\"],[1.0,\"#f0f921\"]],\"type\":\"heatmapgl\"}],\"histogram\":[{\"marker\":{\"pattern\":{\"fillmode\":\"overlay\",\"size\":10,\"solidity\":0.2}},\"type\":\"histogram\"}],\"histogram2d\":[{\"colorbar\":{\"outlinewidth\":0,\"ticks\":\"\"},\"colorscale\":[[0.0,\"#0d0887\"],[0.1111111111111111,\"#46039f\"],[0.2222222222222222,\"#7201a8\"],[0.3333333333333333,\"#9c179e\"],[0.4444444444444444,\"#bd3786\"],[0.5555555555555556,\"#d8576b\"],[0.6666666666666666,\"#ed7953\"],[0.7777777777777778,\"#fb9f3a\"],[0.8888888888888888,\"#fdca26\"],[1.0,\"#f0f921\"]],\"type\":\"histogram2d\"}],\"histogram2dcontour\":[{\"colorbar\":{\"outlinewidth\":0,\"ticks\":\"\"},\"colorscale\":[[0.0,\"#0d0887\"],[0.1111111111111111,\"#46039f\"],[0.2222222222222222,\"#7201a8\"],[0.3333333333333333,\"#9c179e\"],[0.4444444444444444,\"#bd3786\"],[0.5555555555555556,\"#d8576b\"],[0.6666666666666666,\"#ed7953\"],[0.7777777777777778,\"#fb9f3a\"],[0.8888888888888888,\"#fdca26\"],[1.0,\"#f0f921\"]],\"type\":\"histogram2dcontour\"}],\"mesh3d\":[{\"colorbar\":{\"outlinewidth\":0,\"ticks\":\"\"},\"type\":\"mesh3d\"}],\"parcoords\":[{\"line\":{\"colorbar\":{\"outlinewidth\":0,\"ticks\":\"\"}},\"type\":\"parcoords\"}],\"pie\":[{\"automargin\":true,\"type\":\"pie\"}],\"scatter\":[{\"marker\":{\"colorbar\":{\"outlinewidth\":0,\"ticks\":\"\"}},\"type\":\"scatter\"}],\"scatter3d\":[{\"line\":{\"colorbar\":{\"outlinewidth\":0,\"ticks\":\"\"}},\"marker\":{\"colorbar\":{\"outlinewidth\":0,\"ticks\":\"\"}},\"type\":\"scatter3d\"}],\"scattercarpet\":[{\"marker\":{\"colorbar\":{\"outlinewidth\":0,\"ticks\":\"\"}},\"type\":\"scattercarpet\"}],\"scattergeo\":[{\"marker\":{\"colorbar\":{\"outlinewidth\":0,\"ticks\":\"\"}},\"type\":\"scattergeo\"}],\"scattergl\":[{\"marker\":{\"colorbar\":{\"outlinewidth\":0,\"ticks\":\"\"}},\"type\":\"scattergl\"}],\"scattermapbox\":[{\"marker\":{\"colorbar\":{\"outlinewidth\":0,\"ticks\":\"\"}},\"type\":\"scattermapbox\"}],\"scatterpolar\":[{\"marker\":{\"colorbar\":{\"outlinewidth\":0,\"ticks\":\"\"}},\"type\":\"scatterpolar\"}],\"scatterpolargl\":[{\"marker\":{\"colorbar\":{\"outlinewidth\":0,\"ticks\":\"\"}},\"type\":\"scatterpolargl\"}],\"scatterternary\":[{\"marker\":{\"colorbar\":{\"outlinewidth\":0,\"ticks\":\"\"}},\"type\":\"scatterternary\"}],\"surface\":[{\"colorbar\":{\"outlinewidth\":0,\"ticks\":\"\"},\"colorscale\":[[0.0,\"#0d0887\"],[0.1111111111111111,\"#46039f\"],[0.2222222222222222,\"#7201a8\"],[0.3333333333333333,\"#9c179e\"],[0.4444444444444444,\"#bd3786\"],[0.5555555555555556,\"#d8576b\"],[0.6666666666666666,\"#ed7953\"],[0.7777777777777778,\"#fb9f3a\"],[0.8888888888888888,\"#fdca26\"],[1.0,\"#f0f921\"]],\"type\":\"surface\"}],\"table\":[{\"cells\":{\"fill\":{\"color\":\"#EBF0F8\"},\"line\":{\"color\":\"white\"}},\"header\":{\"fill\":{\"color\":\"#C8D4E3\"},\"line\":{\"color\":\"white\"}},\"type\":\"table\"}]},\"layout\":{\"annotationdefaults\":{\"arrowcolor\":\"#2a3f5f\",\"arrowhead\":0,\"arrowwidth\":1},\"autotypenumbers\":\"strict\",\"coloraxis\":{\"colorbar\":{\"outlinewidth\":0,\"ticks\":\"\"}},\"colorscale\":{\"diverging\":[[0,\"#8e0152\"],[0.1,\"#c51b7d\"],[0.2,\"#de77ae\"],[0.3,\"#f1b6da\"],[0.4,\"#fde0ef\"],[0.5,\"#f7f7f7\"],[0.6,\"#e6f5d0\"],[0.7,\"#b8e186\"],[0.8,\"#7fbc41\"],[0.9,\"#4d9221\"],[1,\"#276419\"]],\"sequential\":[[0.0,\"#0d0887\"],[0.1111111111111111,\"#46039f\"],[0.2222222222222222,\"#7201a8\"],[0.3333333333333333,\"#9c179e\"],[0.4444444444444444,\"#bd3786\"],[0.5555555555555556,\"#d8576b\"],[0.6666666666666666,\"#ed7953\"],[0.7777777777777778,\"#fb9f3a\"],[0.8888888888888888,\"#fdca26\"],[1.0,\"#f0f921\"]],\"sequentialminus\":[[0.0,\"#0d0887\"],[0.1111111111111111,\"#46039f\"],[0.2222222222222222,\"#7201a8\"],[0.3333333333333333,\"#9c179e\"],[0.4444444444444444,\"#bd3786\"],[0.5555555555555556,\"#d8576b\"],[0.6666666666666666,\"#ed7953\"],[0.7777777777777778,\"#fb9f3a\"],[0.8888888888888888,\"#fdca26\"],[1.0,\"#f0f921\"]]},\"colorway\":[\"#636efa\",\"#EF553B\",\"#00cc96\",\"#ab63fa\",\"#FFA15A\",\"#19d3f3\",\"#FF6692\",\"#B6E880\",\"#FF97FF\",\"#FECB52\"],\"font\":{\"color\":\"#2a3f5f\"},\"geo\":{\"bgcolor\":\"white\",\"lakecolor\":\"white\",\"landcolor\":\"#E5ECF6\",\"showlakes\":true,\"showland\":true,\"subunitcolor\":\"white\"},\"hoverlabel\":{\"align\":\"left\"},\"hovermode\":\"closest\",\"mapbox\":{\"style\":\"light\"},\"paper_bgcolor\":\"white\",\"plot_bgcolor\":\"#E5ECF6\",\"polar\":{\"angularaxis\":{\"gridcolor\":\"white\",\"linecolor\":\"white\",\"ticks\":\"\"},\"bgcolor\":\"#E5ECF6\",\"radialaxis\":{\"gridcolor\":\"white\",\"linecolor\":\"white\",\"ticks\":\"\"}},\"scene\":{\"xaxis\":{\"backgroundcolor\":\"#E5ECF6\",\"gridcolor\":\"white\",\"gridwidth\":2,\"linecolor\":\"white\",\"showbackground\":true,\"ticks\":\"\",\"zerolinecolor\":\"white\"},\"yaxis\":{\"backgroundcolor\":\"#E5ECF6\",\"gridcolor\":\"white\",\"gridwidth\":2,\"linecolor\":\"white\",\"showbackground\":true,\"ticks\":\"\",\"zerolinecolor\":\"white\"},\"zaxis\":{\"backgroundcolor\":\"#E5ECF6\",\"gridcolor\":\"white\",\"gridwidth\":2,\"linecolor\":\"white\",\"showbackground\":true,\"ticks\":\"\",\"zerolinecolor\":\"white\"}},\"shapedefaults\":{\"line\":{\"color\":\"#2a3f5f\"}},\"ternary\":{\"aaxis\":{\"gridcolor\":\"white\",\"linecolor\":\"white\",\"ticks\":\"\"},\"baxis\":{\"gridcolor\":\"white\",\"linecolor\":\"white\",\"ticks\":\"\"},\"bgcolor\":\"#E5ECF6\",\"caxis\":{\"gridcolor\":\"white\",\"linecolor\":\"white\",\"ticks\":\"\"}},\"title\":{\"x\":0.05},\"xaxis\":{\"automargin\":true,\"gridcolor\":\"white\",\"linecolor\":\"white\",\"ticks\":\"\",\"title\":{\"standoff\":15},\"zerolinecolor\":\"white\",\"zerolinewidth\":2},\"yaxis\":{\"automargin\":true,\"gridcolor\":\"white\",\"linecolor\":\"white\",\"ticks\":\"\",\"title\":{\"standoff\":15},\"zerolinecolor\":\"white\",\"zerolinewidth\":2}}},\"title\":{\"text\":\"Explained Variance with increasing number of latent features\"},\"xaxis\":{\"anchor\":\"y\",\"domain\":[0.0,1.0],\"title\":{\"text\":\"# Components\"}},\"yaxis\":{\"anchor\":\"x\",\"domain\":[0.0,1.0],\"title\":{\"text\":\"Explained Variance\"}}},                        {\"responsive\": true}                    ).then(function(){\n                            \nvar gd = document.getElementById('d80b2959-b0ec-4711-84e3-2d077b8660b3');\nvar x = new MutationObserver(function (mutations, observer) {{\n        var display = window.getComputedStyle(gd).display;\n        if (!display || display === 'none') {{\n            console.log([gd, 'removed!']);\n            Plotly.purge(gd);\n            observer.disconnect();\n        }}\n}});\n\n// Listen for the removal of the full notebook cells\nvar notebookContainer = gd.closest('#notebook-container');\nif (notebookContainer) {{\n    x.observe(notebookContainer, {childList: true});\n}}\n\n// Listen for the clearing of the current output cell\nvar outputEl = gd.closest('.output');\nif (outputEl) {{\n    x.observe(outputEl, {childList: true});\n}}\n\n                        })                };                            </script>        </div>\n</body>\n</html>"
     },
     "metadata": {},
     "output_type": "display_data"
    }
   ],
   "execution_count": null
  },
  {
   "cell_type": "code",
   "metadata": {
    "deepnote_variable_name": "t1_top_k_latent_features",
    "deepnote_variable_value": "2",
    "cell_id": "00029-b576f595-3089-4a57-bed5-f4b6ef3cf661",
    "deepnote_to_be_reexecuted": false,
    "source_hash": "7462d0f7",
    "execution_start": 1638019657689,
    "execution_millis": 0,
    "deepnote_cell_type": "input-text"
   },
   "source": "t1_top_k_latent_features = '2'",
   "outputs": [],
   "execution_count": null
  },
  {
   "cell_type": "code",
   "metadata": {
    "tags": [],
    "cell_id": "00030-3fd7b515-2617-4d84-bd43-2b12195c3c5d",
    "deepnote_to_be_reexecuted": false,
    "source_hash": "72c6b7b0",
    "execution_start": 1638019657750,
    "execution_millis": 13,
    "deepnote_output_heights": [
     611
    ],
    "deepnote_cell_type": "code"
   },
   "source": "t1_top_k_latent_features = int(t1_top_k_latent_features)\ntop_k_features = get_top_k_latent_features(t1_metrics_alg[0], t1_top_k_latent_features)\ntop_k_features",
   "outputs": [
    {
     "output_type": "execute_result",
     "execution_count": 26,
     "data": {
      "text/plain": "[{'PC1': [('0.9911;0.9911', 0.7373),\n   ('0.9993;0.9993', 0.6429),\n   ('-0.937;-0.937', 0.1739),\n   ('-0.7334;-0.7334', 0.0771),\n   ('0.937;0.937', 0.0611),\n   ('-0.2882;-0.2882', 0.0559),\n   ('0.2882;0.2882', 0.002),\n   ('-0.9911;-0.937', 0.0),\n   ('0.2882;0.7334', 0.0),\n   ('-0.9993;0', 0.0),\n   ('0;0.937', 0.0),\n   ('0;0.9993', 0.0),\n   ('-0.7334;0.7334', 0.0),\n   ('-0.9911;0', 0.0),\n   ('0;-0.9911', 0.0),\n   ('0.9911;0.2882', 0.0),\n   ('0.2882;0.937', 0.0),\n   ('0.2882;-0.2882', 0.0),\n   ('-0.9911;-0.9993', 0.0),\n   ('0.7334;-0.937', 0.0),\n   ('0.937;-0.9911', 0.0),\n   ('-0.937;-0.7334', 0.0),\n   ('0.2882;-0.7334', 0.0),\n   ('-0.7334;-0.2882', 0.0),\n   ('-0.2882;-0.7334', 0.0),\n   ('0.9911;-0.9911', 0.0),\n   ('0.9993;0.9911', 0.0),\n   ('0.937;0.7334', 0.0),\n   ('0;0.2882', 0.0),\n   ('-0.2882;0', 0.0),\n   ('-0.937;-0.2882', 0.0),\n   ('-0.937;0.2882', 0.0),\n   ('-0.7334;0.2882', 0.0),\n   ('-0.937;0.937', 0.0),\n   ('0.2882;0.9911', 0.0),\n   ('-0.937;-0.9911', 0.0),\n   ('0;-0.937', 0.0),\n   ('-0.937;0', 0.0),\n   ('0.7334;0.2882', 0.0),\n   ('0;-0.7334', 0.0),\n   ('-0.9911;-0.7334', 0.0),\n   ('0;0.9911', 0.0),\n   ('-0.2882;0.2882', 0.0),\n   ('-0.9993;-0.9911', 0.0),\n   ('0.7334;0.937', 0.0),\n   ('0.7334;0.7334', 0.0),\n   ('0.7334;-0.7334', 0.0),\n   ('0.9993;0', 0.0),\n   ('-0.2882;0.937', 0.0),\n   ('0.9911;0.937', 0.0),\n   ('0.9911;0', 0.0),\n   ('0;0', 0.0),\n   ('0.7334;-0.2882', 0.0),\n   ('-0.9911;-0.9911', 0.0),\n   ('0.937;0.9911', 0.0),\n   ('-0.7334;-0.937', 0.0),\n   ('0.9993;0.937', 0.0),\n   ('-0.9993;-0.9993', 0.0),\n   ('0.9911;0.9993', 0.0),\n   ('0.937;0', 0.0),\n   ('0.7334;0', 0.0),\n   ('0;-0.9993', 0.0),\n   ('0;0.7334', 0.0)]},\n {'PC2': [('-0.937;-0.937', 0.972),\n   ('-0.7334;-0.7334', 0.1458),\n   ('0.9993;0.9993', 0.1145),\n   ('0.9911;0.9911', 0.1027),\n   ('0.937;0.937', 0.0806),\n   ('-0.2882;-0.2882', 0.0618),\n   ('0.2882;0.2882', 0.0021),\n   ('-0.9911;-0.937', 0.0),\n   ('0.2882;0.7334', 0.0),\n   ('-0.9993;0', 0.0),\n   ('0;0.937', 0.0),\n   ('0;0.9993', 0.0),\n   ('-0.7334;0.7334', 0.0),\n   ('-0.9911;0', 0.0),\n   ('0;-0.9911', 0.0),\n   ('0.9911;0.2882', 0.0),\n   ('0.2882;0.937', 0.0),\n   ('0.2882;-0.2882', 0.0),\n   ('-0.9911;-0.9993', 0.0),\n   ('0.7334;-0.937', 0.0),\n   ('0.937;-0.9911', 0.0),\n   ('-0.937;-0.7334', 0.0),\n   ('0.2882;-0.7334', 0.0),\n   ('-0.7334;-0.2882', 0.0),\n   ('-0.2882;-0.7334', 0.0),\n   ('0.9911;-0.9911', 0.0),\n   ('0.9993;0.9911', 0.0),\n   ('0.937;0.7334', 0.0),\n   ('0;0.2882', 0.0),\n   ('-0.2882;0', 0.0),\n   ('-0.937;-0.2882', 0.0),\n   ('-0.937;0.2882', 0.0),\n   ('-0.7334;0.2882', 0.0),\n   ('-0.937;0.937', 0.0),\n   ('0.2882;0.9911', 0.0),\n   ('-0.937;-0.9911', 0.0),\n   ('0;-0.937', 0.0),\n   ('-0.937;0', 0.0),\n   ('0.7334;0.2882', 0.0),\n   ('0;-0.7334', 0.0),\n   ('-0.9911;-0.7334', 0.0),\n   ('0;0.9911', 0.0),\n   ('-0.2882;0.2882', 0.0),\n   ('-0.9993;-0.9911', 0.0),\n   ('0.7334;0.937', 0.0),\n   ('0.7334;0.7334', 0.0),\n   ('0.7334;-0.7334', 0.0),\n   ('0.9993;0', 0.0),\n   ('-0.2882;0.937', 0.0),\n   ('0.9911;0.937', 0.0),\n   ('0.9911;0', 0.0),\n   ('0;0', 0.0),\n   ('0.7334;-0.2882', 0.0),\n   ('-0.9911;-0.9911', 0.0),\n   ('0.937;0.9911', 0.0),\n   ('-0.7334;-0.937', 0.0),\n   ('0.9993;0.937', 0.0),\n   ('-0.9993;-0.9993', 0.0),\n   ('0.9911;0.9993', 0.0),\n   ('0.937;0', 0.0),\n   ('0.7334;0', 0.0),\n   ('0;-0.9993', 0.0),\n   ('0;0.7334', 0.0)]}]"
     },
     "metadata": {}
    }
   ],
   "execution_count": null
  },
  {
   "cell_type": "markdown",
   "source": "## Task 2",
   "metadata": {
    "tags": [],
    "is_collapsed": false,
    "cell_id": "00032-2fc1a75a-25fe-4978-acdd-6f5588d24955",
    "deepnote_cell_type": "text-cell-h2"
   }
  },
  {
   "cell_type": "code",
   "metadata": {
    "tags": [],
    "cell_id": "00031-cb331bc2-c2f4-42d7-a3e3-0f68a521dcde",
    "deepnote_to_be_reexecuted": false,
    "source_hash": "9fd94631",
    "execution_start": 1638019657752,
    "execution_millis": 73,
    "deepnote_cell_type": "code"
   },
   "source": "# Genero il dataset dalla metrica scelta dall'algoritmo di prima\n# Dizionario composto da 'gestures', lista delle gestures in ordine, 'np_database', tf/tfidf delle varie gesture in formato numpy\nalg_database = generate_alg_database(t1_metrics_alg)\nt5_alg_database = generate_alg_database(t5_metrics_alg)",
   "outputs": [],
   "execution_count": null
  },
  {
   "cell_type": "markdown",
   "source": " Scrivere un programma che, dato un file di gesti, individui i 10 gesti piu’ simili nel database di gesti, \nutilizzado:",
   "metadata": {
    "tags": [],
    "cell_id": "00036-0ef71ff2-9019-4d7d-bb03-cb9af8f7ad80",
    "deepnote_cell_type": "markdown"
   }
  },
  {
   "cell_type": "code",
   "metadata": {
    "deepnote_variable_name": "t2_input_file_gestures",
    "deepnote_variable_value": "../Dati_2/words/1.wrd",
    "cell_id": "00036-9cb944e1-67a5-4e98-9ffb-874ae8e5be84",
    "deepnote_to_be_reexecuted": false,
    "source_hash": "17d27e49",
    "execution_start": 1638019657883,
    "execution_millis": 0,
    "deepnote_cell_type": "input-text"
   },
   "source": "t2_input_file_gestures = '../Dati_2/words/1.wrd'",
   "outputs": [],
   "execution_count": null
  },
  {
   "cell_type": "code",
   "metadata": {
    "deepnote_variable_name": "t2_input_k_gestures",
    "deepnote_variable_value": "10",
    "cell_id": "00038-81e5c045-6b78-4d9d-a618-c23b0c976f76",
    "deepnote_to_be_reexecuted": false,
    "source_hash": "537c0a7f",
    "execution_start": 1638019657928,
    "execution_millis": 1649323,
    "deepnote_cell_type": "input-text"
   },
   "source": "t2_input_k_gestures = '10'",
   "outputs": [],
   "execution_count": null
  },
  {
   "cell_type": "code",
   "metadata": {
    "deepnote_variable_name": "t2_input_k_latent_features",
    "deepnote_variable_value": "4",
    "cell_id": "00034-5d6dbea6-0445-480c-9f12-0742690d9443",
    "deepnote_to_be_reexecuted": false,
    "source_hash": "7cf7183d",
    "execution_start": 1638019657929,
    "execution_millis": 1642639,
    "deepnote_cell_type": "input-text"
   },
   "source": "t2_input_k_latent_features = '4'",
   "outputs": [],
   "execution_count": null
  },
  {
   "cell_type": "code",
   "metadata": {
    "deepnote_variable_name": "t2_input_query_type",
    "deepnote_variable_value": "Top-K Semantiche Latenti",
    "deepnote_variable_options": [
     "Dot Product",
     "Top-K Semantiche Latenti",
     "Edit Distance",
     "Distanza DTW"
    ],
    "deepnote_variable_custom_options": [
     "Dot Product",
     "Top-K Semantiche Latenti",
     "Edit Distance",
     "Distanza DTW"
    ],
    "deepnote_variable_selected_variable": "",
    "deepnote_variable_select_type": "from-options",
    "cell_id": "00036-8977fcab-0985-4f26-b5fe-9d5be8d89d8e",
    "deepnote_to_be_reexecuted": false,
    "source_hash": "b7483e5c",
    "execution_start": 1638019657974,
    "execution_millis": 1657953,
    "deepnote_cell_type": "input-select"
   },
   "source": "t2_input_query_type = 'Top-K Semantiche Latenti'",
   "outputs": [],
   "execution_count": null
  },
  {
   "cell_type": "code",
   "metadata": {
    "tags": [],
    "cell_id": "00040-1c04c788-26a9-4837-9833-724f5bfd006f",
    "deepnote_to_be_reexecuted": false,
    "source_hash": "4f087257",
    "execution_start": 1638019657974,
    "execution_millis": 106,
    "deepnote_output_heights": [
     194
    ],
    "deepnote_cell_type": "code"
   },
   "source": "# X facilità so che già ho calcolato sto file in input e lo prendo dal database\ngesture_name_id = t2_input_file_gestures.split(\"/\")[-1].split(\".\")[0]\n\nquery_type = t2_input_query_type\n\ntop_k = None\nif query_type == 'Dot Product':\n    print(\"Dot product not implemented yet!\")\nelif query_type == 'Top-K Semantiche Latenti':\n    gesture_numpy = alg_database['np_database'][alg_database['gestures'].index(gesture_name_id)]\n    # Preparo la query con gli input scelti dall'utente\n    finder_query_settings = {\n        'k_latent_features': int(t2_input_k_latent_features),\n        'k_gestures_return': int(t2_input_k_gestures),\n    }\n    top_k = find_k_most_similar(alg_database, gesture_numpy, finder_query_settings)\nelif query_type == 'Edit Distance':\n    print(\"Edit Distance not implemented yet!\")\nelse:\n    print(\"Distanza DTW not implemented yet!\")\n\n\nif top_k is not None:\n    print(\"Top \" + t2_input_k_gestures + \" gestures più simili a '\" + t2_input_file_gestures + \"', usando '\" + query_type + \"':\")\n    print(top_k)",
   "outputs": [
    {
     "name": "stdout",
     "text": "Top 10 gestures più simili a '../Dati_2/words/1.wrd', usando 'Top-K Semantiche Latenti':\n  gesture  similarity\n0       1    1.000000\n1       3    0.711436\n2       5    0.437160\n3       4    0.431421\n4       8    0.430209\n5      38    0.428718\n6       2    0.425327\n7      57    0.389737\n8      14    0.388339\n9      55    0.347573\n",
     "output_type": "stream"
    }
   ],
   "execution_count": null
  },
  {
   "cell_type": "markdown",
   "source": "## Task 3",
   "metadata": {
    "tags": [],
    "is_collapsed": false,
    "cell_id": "00036-0bea7e6c-0dab-4f1a-a70d-13a374b82871",
    "deepnote_cell_type": "text-cell-h2"
   }
  },
  {
   "cell_type": "code",
   "metadata": {
    "deepnote_variable_name": "t3_input_query_type",
    "deepnote_variable_value": "Top-K Semantiche Latenti",
    "deepnote_variable_options": [
     "Dot Product",
     "Top-K Semantiche Latenti",
     "Edit Distance",
     "Distanza DTW"
    ],
    "deepnote_variable_custom_options": [
     "Dot Product",
     "Top-K Semantiche Latenti",
     "Edit Distance",
     "Distanza DTW"
    ],
    "deepnote_variable_selected_variable": "",
    "deepnote_variable_select_type": "from-options",
    "cell_id": "00041-16cc6f82-28dc-47f9-b27f-a607fc8583bf",
    "deepnote_to_be_reexecuted": false,
    "source_hash": "543765de",
    "execution_start": 1638019658107,
    "execution_millis": 1636576,
    "deepnote_cell_type": "input-select"
   },
   "source": "t3_input_query_type = 'Top-K Semantiche Latenti'",
   "outputs": [],
   "execution_count": null
  },
  {
   "cell_type": "code",
   "metadata": {
    "tags": [],
    "cell_id": "00036-9172fc2d-badc-482c-bde5-659ff0baaa6d",
    "deepnote_to_be_reexecuted": false,
    "source_hash": "7e2081ef",
    "execution_start": 1638019658213,
    "execution_millis": 638,
    "deepnote_cell_type": "code"
   },
   "source": "query_type = t3_input_query_type\n\n# Creo la matrice di similarità gesture - gesture (in base a come ha scelto l'utente di procedere)\ngesture_sim_matrix = None\nif query_type == 'Dot Product':\n    #gesture_sim_matrix = generate_gestures_similarity_matrix(alg_database['np_database'], int(t2_input_k_latent_features))\n    print(\"Dot product not implemented yet!\")\nelif query_type == 'Top-K Semantiche Latenti':\n    gesture_sim_matrix = generate_gestures_similarity_matrix(alg_database['np_database'], int(t2_input_k_latent_features))\nelif query_type == 'Edit Distance':\n    #gesture_sim_matrix = generate_gestures_similarity_matrix(alg_database['np_database'], int(t2_input_k_latent_features))\n    print(\"Edit Distance not implemented yet!\")\nelse:\n    #gesture_sim_matrix = generate_gestures_similarity_matrix(alg_database['np_database'], int(t2_input_k_latent_features))\n    print(\"Distanza DTW not implemented yet!\")\n\n# La trasformo in dataframe pandas (così ho anche il nome delle gestures a confronto nelle righe / colonne)\ngestures_sim_matrix_pd = gestures_similarity_matrix_2_pandas(gesture_sim_matrix, alg_database['gestures'])\nprint(\"Matrice similarità gesture-gesture:\")\ngestures_sim_matrix_pd",
   "outputs": [
    {
     "name": "stdout",
     "text": "Matrice similarità gesture-gesture:\n",
     "output_type": "stream"
    },
    {
     "output_type": "execute_result",
     "execution_count": 34,
     "data": {
      "application/vnd.deepnote.dataframe.v2+json": {
       "row_count": 60,
       "column_count": 60,
       "columns": [
        {
         "name": "1",
         "dtype": "float64",
         "stats": {
          "unique_count": 60,
          "nan_count": 0,
          "min": "0.0",
          "max": "1.0",
          "histogram": [
           {
            "bin_start": 0,
            "bin_end": 0.1,
            "count": 5
           },
           {
            "bin_start": 0.1,
            "bin_end": 0.2,
            "count": 22
           },
           {
            "bin_start": 0.2,
            "bin_end": 0.30000000000000004,
            "count": 17
           },
           {
            "bin_start": 0.30000000000000004,
            "bin_end": 0.4,
            "count": 9
           },
           {
            "bin_start": 0.4,
            "bin_end": 0.5,
            "count": 5
           },
           {
            "bin_start": 0.5,
            "bin_end": 0.6000000000000001,
            "count": 0
           },
           {
            "bin_start": 0.6000000000000001,
            "bin_end": 0.7000000000000001,
            "count": 0
           },
           {
            "bin_start": 0.7000000000000001,
            "bin_end": 0.8,
            "count": 1
           },
           {
            "bin_start": 0.8,
            "bin_end": 0.9,
            "count": 0
           },
           {
            "bin_start": 0.9,
            "bin_end": 1,
            "count": 1
           }
          ]
         }
        },
        {
         "name": "10",
         "dtype": "float64",
         "stats": {
          "unique_count": 60,
          "nan_count": 0,
          "min": "0.0",
          "max": "1.0",
          "histogram": [
           {
            "bin_start": 0,
            "bin_end": 0.1,
            "count": 14
           },
           {
            "bin_start": 0.1,
            "bin_end": 0.2,
            "count": 25
           },
           {
            "bin_start": 0.2,
            "bin_end": 0.30000000000000004,
            "count": 12
           },
           {
            "bin_start": 0.30000000000000004,
            "bin_end": 0.4,
            "count": 8
           },
           {
            "bin_start": 0.4,
            "bin_end": 0.5,
            "count": 0
           },
           {
            "bin_start": 0.5,
            "bin_end": 0.6000000000000001,
            "count": 0
           },
           {
            "bin_start": 0.6000000000000001,
            "bin_end": 0.7000000000000001,
            "count": 0
           },
           {
            "bin_start": 0.7000000000000001,
            "bin_end": 0.8,
            "count": 0
           },
           {
            "bin_start": 0.8,
            "bin_end": 0.9,
            "count": 0
           },
           {
            "bin_start": 0.9,
            "bin_end": 1,
            "count": 1
           }
          ]
         }
        },
        {
         "name": "11",
         "dtype": "float64",
         "stats": {
          "unique_count": 60,
          "nan_count": 0,
          "min": "0.0",
          "max": "1.0",
          "histogram": [
           {
            "bin_start": 0,
            "bin_end": 0.1,
            "count": 13
           },
           {
            "bin_start": 0.1,
            "bin_end": 0.2,
            "count": 26
           },
           {
            "bin_start": 0.2,
            "bin_end": 0.30000000000000004,
            "count": 11
           },
           {
            "bin_start": 0.30000000000000004,
            "bin_end": 0.4,
            "count": 7
           },
           {
            "bin_start": 0.4,
            "bin_end": 0.5,
            "count": 2
           },
           {
            "bin_start": 0.5,
            "bin_end": 0.6000000000000001,
            "count": 0
           },
           {
            "bin_start": 0.6000000000000001,
            "bin_end": 0.7000000000000001,
            "count": 0
           },
           {
            "bin_start": 0.7000000000000001,
            "bin_end": 0.8,
            "count": 0
           },
           {
            "bin_start": 0.8,
            "bin_end": 0.9,
            "count": 0
           },
           {
            "bin_start": 0.9,
            "bin_end": 1,
            "count": 1
           }
          ]
         }
        },
        {
         "name": "12",
         "dtype": "float64",
         "stats": {
          "unique_count": 60,
          "nan_count": 0,
          "min": "0.0",
          "max": "1.0",
          "histogram": [
           {
            "bin_start": 0,
            "bin_end": 0.1,
            "count": 11
           },
           {
            "bin_start": 0.1,
            "bin_end": 0.2,
            "count": 22
           },
           {
            "bin_start": 0.2,
            "bin_end": 0.30000000000000004,
            "count": 15
           },
           {
            "bin_start": 0.30000000000000004,
            "bin_end": 0.4,
            "count": 9
           },
           {
            "bin_start": 0.4,
            "bin_end": 0.5,
            "count": 2
           },
           {
            "bin_start": 0.5,
            "bin_end": 0.6000000000000001,
            "count": 0
           },
           {
            "bin_start": 0.6000000000000001,
            "bin_end": 0.7000000000000001,
            "count": 0
           },
           {
            "bin_start": 0.7000000000000001,
            "bin_end": 0.8,
            "count": 0
           },
           {
            "bin_start": 0.8,
            "bin_end": 0.9,
            "count": 0
           },
           {
            "bin_start": 0.9,
            "bin_end": 1,
            "count": 1
           }
          ]
         }
        },
        {
         "name": "13",
         "dtype": "float64",
         "stats": {
          "unique_count": 60,
          "nan_count": 0,
          "min": "0.0",
          "max": "1.0",
          "histogram": [
           {
            "bin_start": 0,
            "bin_end": 0.1,
            "count": 9
           },
           {
            "bin_start": 0.1,
            "bin_end": 0.2,
            "count": 21
           },
           {
            "bin_start": 0.2,
            "bin_end": 0.30000000000000004,
            "count": 14
           },
           {
            "bin_start": 0.30000000000000004,
            "bin_end": 0.4,
            "count": 9
           },
           {
            "bin_start": 0.4,
            "bin_end": 0.5,
            "count": 6
           },
           {
            "bin_start": 0.5,
            "bin_end": 0.6000000000000001,
            "count": 0
           },
           {
            "bin_start": 0.6000000000000001,
            "bin_end": 0.7000000000000001,
            "count": 0
           },
           {
            "bin_start": 0.7000000000000001,
            "bin_end": 0.8,
            "count": 0
           },
           {
            "bin_start": 0.8,
            "bin_end": 0.9,
            "count": 0
           },
           {
            "bin_start": 0.9,
            "bin_end": 1,
            "count": 1
           }
          ]
         }
        },
        {
         "name": "14",
         "dtype": "float64",
         "stats": {
          "unique_count": 60,
          "nan_count": 0,
          "min": "0.0",
          "max": "1.0",
          "histogram": [
           {
            "bin_start": 0,
            "bin_end": 0.1,
            "count": 6
           },
           {
            "bin_start": 0.1,
            "bin_end": 0.2,
            "count": 14
           },
           {
            "bin_start": 0.2,
            "bin_end": 0.30000000000000004,
            "count": 19
           },
           {
            "bin_start": 0.30000000000000004,
            "bin_end": 0.4,
            "count": 12
           },
           {
            "bin_start": 0.4,
            "bin_end": 0.5,
            "count": 6
           },
           {
            "bin_start": 0.5,
            "bin_end": 0.6000000000000001,
            "count": 2
           },
           {
            "bin_start": 0.6000000000000001,
            "bin_end": 0.7000000000000001,
            "count": 0
           },
           {
            "bin_start": 0.7000000000000001,
            "bin_end": 0.8,
            "count": 0
           },
           {
            "bin_start": 0.8,
            "bin_end": 0.9,
            "count": 0
           },
           {
            "bin_start": 0.9,
            "bin_end": 1,
            "count": 1
           }
          ]
         }
        },
        {
         "name": "15",
         "dtype": "float64",
         "stats": {
          "unique_count": 60,
          "nan_count": 0,
          "min": "0.0",
          "max": "1.0",
          "histogram": [
           {
            "bin_start": 0,
            "bin_end": 0.1,
            "count": 11
           },
           {
            "bin_start": 0.1,
            "bin_end": 0.2,
            "count": 30
           },
           {
            "bin_start": 0.2,
            "bin_end": 0.30000000000000004,
            "count": 13
           },
           {
            "bin_start": 0.30000000000000004,
            "bin_end": 0.4,
            "count": 4
           },
           {
            "bin_start": 0.4,
            "bin_end": 0.5,
            "count": 1
           },
           {
            "bin_start": 0.5,
            "bin_end": 0.6000000000000001,
            "count": 0
           },
           {
            "bin_start": 0.6000000000000001,
            "bin_end": 0.7000000000000001,
            "count": 0
           },
           {
            "bin_start": 0.7000000000000001,
            "bin_end": 0.8,
            "count": 0
           },
           {
            "bin_start": 0.8,
            "bin_end": 0.9,
            "count": 0
           },
           {
            "bin_start": 0.9,
            "bin_end": 1,
            "count": 1
           }
          ]
         }
        },
        {
         "name": "16",
         "dtype": "float64",
         "stats": {
          "unique_count": 60,
          "nan_count": 0,
          "min": "0.0",
          "max": "1.0",
          "histogram": [
           {
            "bin_start": 0,
            "bin_end": 0.1,
            "count": 21
           },
           {
            "bin_start": 0.1,
            "bin_end": 0.2,
            "count": 25
           },
           {
            "bin_start": 0.2,
            "bin_end": 0.30000000000000004,
            "count": 8
           },
           {
            "bin_start": 0.30000000000000004,
            "bin_end": 0.4,
            "count": 5
           },
           {
            "bin_start": 0.4,
            "bin_end": 0.5,
            "count": 0
           },
           {
            "bin_start": 0.5,
            "bin_end": 0.6000000000000001,
            "count": 0
           },
           {
            "bin_start": 0.6000000000000001,
            "bin_end": 0.7000000000000001,
            "count": 0
           },
           {
            "bin_start": 0.7000000000000001,
            "bin_end": 0.8,
            "count": 0
           },
           {
            "bin_start": 0.8,
            "bin_end": 0.9,
            "count": 0
           },
           {
            "bin_start": 0.9,
            "bin_end": 1,
            "count": 1
           }
          ]
         }
        },
        {
         "name": "17",
         "dtype": "float64",
         "stats": {
          "unique_count": 60,
          "nan_count": 0,
          "min": "0.0",
          "max": "1.0",
          "histogram": [
           {
            "bin_start": 0,
            "bin_end": 0.1,
            "count": 5
           },
           {
            "bin_start": 0.1,
            "bin_end": 0.2,
            "count": 15
           },
           {
            "bin_start": 0.2,
            "bin_end": 0.30000000000000004,
            "count": 20
           },
           {
            "bin_start": 0.30000000000000004,
            "bin_end": 0.4,
            "count": 10
           },
           {
            "bin_start": 0.4,
            "bin_end": 0.5,
            "count": 4
           },
           {
            "bin_start": 0.5,
            "bin_end": 0.6000000000000001,
            "count": 5
           },
           {
            "bin_start": 0.6000000000000001,
            "bin_end": 0.7000000000000001,
            "count": 0
           },
           {
            "bin_start": 0.7000000000000001,
            "bin_end": 0.8,
            "count": 0
           },
           {
            "bin_start": 0.8,
            "bin_end": 0.9,
            "count": 0
           },
           {
            "bin_start": 0.9,
            "bin_end": 1,
            "count": 1
           }
          ]
         }
        },
        {
         "name": "18",
         "dtype": "float64",
         "stats": {
          "unique_count": 60,
          "nan_count": 0,
          "min": "0.0",
          "max": "1.0",
          "histogram": [
           {
            "bin_start": 0,
            "bin_end": 0.1,
            "count": 14
           },
           {
            "bin_start": 0.1,
            "bin_end": 0.2,
            "count": 16
           },
           {
            "bin_start": 0.2,
            "bin_end": 0.30000000000000004,
            "count": 12
           },
           {
            "bin_start": 0.30000000000000004,
            "bin_end": 0.4,
            "count": 12
           },
           {
            "bin_start": 0.4,
            "bin_end": 0.5,
            "count": 4
           },
           {
            "bin_start": 0.5,
            "bin_end": 0.6000000000000001,
            "count": 1
           },
           {
            "bin_start": 0.6000000000000001,
            "bin_end": 0.7000000000000001,
            "count": 0
           },
           {
            "bin_start": 0.7000000000000001,
            "bin_end": 0.8,
            "count": 0
           },
           {
            "bin_start": 0.8,
            "bin_end": 0.9,
            "count": 0
           },
           {
            "bin_start": 0.9,
            "bin_end": 1,
            "count": 1
           }
          ]
         }
        },
        {
         "name": "19",
         "dtype": "float64",
         "stats": {
          "unique_count": 60,
          "nan_count": 0,
          "min": "0.0",
          "max": "1.0",
          "histogram": [
           {
            "bin_start": 0,
            "bin_end": 0.1,
            "count": 9
           },
           {
            "bin_start": 0.1,
            "bin_end": 0.2,
            "count": 22
           },
           {
            "bin_start": 0.2,
            "bin_end": 0.30000000000000004,
            "count": 20
           },
           {
            "bin_start": 0.30000000000000004,
            "bin_end": 0.4,
            "count": 7
           },
           {
            "bin_start": 0.4,
            "bin_end": 0.5,
            "count": 0
           },
           {
            "bin_start": 0.5,
            "bin_end": 0.6000000000000001,
            "count": 1
           },
           {
            "bin_start": 0.6000000000000001,
            "bin_end": 0.7000000000000001,
            "count": 0
           },
           {
            "bin_start": 0.7000000000000001,
            "bin_end": 0.8,
            "count": 0
           },
           {
            "bin_start": 0.8,
            "bin_end": 0.9,
            "count": 0
           },
           {
            "bin_start": 0.9,
            "bin_end": 1,
            "count": 1
           }
          ]
         }
        },
        {
         "name": "2",
         "dtype": "float64",
         "stats": {
          "unique_count": 60,
          "nan_count": 0,
          "min": "0.0",
          "max": "1.0",
          "histogram": [
           {
            "bin_start": 0,
            "bin_end": 0.1,
            "count": 8
           },
           {
            "bin_start": 0.1,
            "bin_end": 0.2,
            "count": 16
           },
           {
            "bin_start": 0.2,
            "bin_end": 0.30000000000000004,
            "count": 16
           },
           {
            "bin_start": 0.30000000000000004,
            "bin_end": 0.4,
            "count": 11
           },
           {
            "bin_start": 0.4,
            "bin_end": 0.5,
            "count": 6
           },
           {
            "bin_start": 0.5,
            "bin_end": 0.6000000000000001,
            "count": 2
           },
           {
            "bin_start": 0.6000000000000001,
            "bin_end": 0.7000000000000001,
            "count": 0
           },
           {
            "bin_start": 0.7000000000000001,
            "bin_end": 0.8,
            "count": 0
           },
           {
            "bin_start": 0.8,
            "bin_end": 0.9,
            "count": 0
           },
           {
            "bin_start": 0.9,
            "bin_end": 1,
            "count": 1
           }
          ]
         }
        },
        {
         "name": "20",
         "dtype": "float64",
         "stats": {
          "unique_count": 60,
          "nan_count": 0,
          "min": "0.0",
          "max": "1.0",
          "histogram": [
           {
            "bin_start": 0,
            "bin_end": 0.1,
            "count": 8
           },
           {
            "bin_start": 0.1,
            "bin_end": 0.2,
            "count": 21
           },
           {
            "bin_start": 0.2,
            "bin_end": 0.30000000000000004,
            "count": 17
           },
           {
            "bin_start": 0.30000000000000004,
            "bin_end": 0.4,
            "count": 9
           },
           {
            "bin_start": 0.4,
            "bin_end": 0.5,
            "count": 4
           },
           {
            "bin_start": 0.5,
            "bin_end": 0.6000000000000001,
            "count": 0
           },
           {
            "bin_start": 0.6000000000000001,
            "bin_end": 0.7000000000000001,
            "count": 0
           },
           {
            "bin_start": 0.7000000000000001,
            "bin_end": 0.8,
            "count": 0
           },
           {
            "bin_start": 0.8,
            "bin_end": 0.9,
            "count": 0
           },
           {
            "bin_start": 0.9,
            "bin_end": 1,
            "count": 1
           }
          ]
         }
        },
        {
         "name": "21",
         "dtype": "float64",
         "stats": {
          "unique_count": 60,
          "nan_count": 0,
          "min": "0.0",
          "max": "1.0",
          "histogram": [
           {
            "bin_start": 0,
            "bin_end": 0.1,
            "count": 11
           },
           {
            "bin_start": 0.1,
            "bin_end": 0.2,
            "count": 25
           },
           {
            "bin_start": 0.2,
            "bin_end": 0.30000000000000004,
            "count": 15
           },
           {
            "bin_start": 0.30000000000000004,
            "bin_end": 0.4,
            "count": 6
           },
           {
            "bin_start": 0.4,
            "bin_end": 0.5,
            "count": 2
           },
           {
            "bin_start": 0.5,
            "bin_end": 0.6000000000000001,
            "count": 0
           },
           {
            "bin_start": 0.6000000000000001,
            "bin_end": 0.7000000000000001,
            "count": 0
           },
           {
            "bin_start": 0.7000000000000001,
            "bin_end": 0.8,
            "count": 0
           },
           {
            "bin_start": 0.8,
            "bin_end": 0.9,
            "count": 0
           },
           {
            "bin_start": 0.9,
            "bin_end": 1,
            "count": 1
           }
          ]
         }
        },
        {
         "name": "22",
         "dtype": "float64",
         "stats": {
          "unique_count": 60,
          "nan_count": 0,
          "min": "0.0",
          "max": "1.0",
          "histogram": [
           {
            "bin_start": 0,
            "bin_end": 0.1,
            "count": 21
           },
           {
            "bin_start": 0.1,
            "bin_end": 0.2,
            "count": 23
           },
           {
            "bin_start": 0.2,
            "bin_end": 0.30000000000000004,
            "count": 13
           },
           {
            "bin_start": 0.30000000000000004,
            "bin_end": 0.4,
            "count": 2
           },
           {
            "bin_start": 0.4,
            "bin_end": 0.5,
            "count": 0
           },
           {
            "bin_start": 0.5,
            "bin_end": 0.6000000000000001,
            "count": 0
           },
           {
            "bin_start": 0.6000000000000001,
            "bin_end": 0.7000000000000001,
            "count": 0
           },
           {
            "bin_start": 0.7000000000000001,
            "bin_end": 0.8,
            "count": 0
           },
           {
            "bin_start": 0.8,
            "bin_end": 0.9,
            "count": 0
           },
           {
            "bin_start": 0.9,
            "bin_end": 1,
            "count": 1
           }
          ]
         }
        },
        {
         "name": "23",
         "dtype": "float64",
         "stats": {
          "unique_count": 60,
          "nan_count": 0,
          "min": "0.0",
          "max": "1.0",
          "histogram": [
           {
            "bin_start": 0,
            "bin_end": 0.1,
            "count": 13
           },
           {
            "bin_start": 0.1,
            "bin_end": 0.2,
            "count": 24
           },
           {
            "bin_start": 0.2,
            "bin_end": 0.30000000000000004,
            "count": 15
           },
           {
            "bin_start": 0.30000000000000004,
            "bin_end": 0.4,
            "count": 3
           },
           {
            "bin_start": 0.4,
            "bin_end": 0.5,
            "count": 3
           },
           {
            "bin_start": 0.5,
            "bin_end": 0.6000000000000001,
            "count": 0
           },
           {
            "bin_start": 0.6000000000000001,
            "bin_end": 0.7000000000000001,
            "count": 1
           },
           {
            "bin_start": 0.7000000000000001,
            "bin_end": 0.8,
            "count": 0
           },
           {
            "bin_start": 0.8,
            "bin_end": 0.9,
            "count": 0
           },
           {
            "bin_start": 0.9,
            "bin_end": 1,
            "count": 1
           }
          ]
         }
        },
        {
         "name": "24",
         "dtype": "float64",
         "stats": {
          "unique_count": 60,
          "nan_count": 0,
          "min": "0.0",
          "max": "1.0",
          "histogram": [
           {
            "bin_start": 0,
            "bin_end": 0.1,
            "count": 10
           },
           {
            "bin_start": 0.1,
            "bin_end": 0.2,
            "count": 28
           },
           {
            "bin_start": 0.2,
            "bin_end": 0.30000000000000004,
            "count": 16
           },
           {
            "bin_start": 0.30000000000000004,
            "bin_end": 0.4,
            "count": 1
           },
           {
            "bin_start": 0.4,
            "bin_end": 0.5,
            "count": 3
           },
           {
            "bin_start": 0.5,
            "bin_end": 0.6000000000000001,
            "count": 1
           },
           {
            "bin_start": 0.6000000000000001,
            "bin_end": 0.7000000000000001,
            "count": 0
           },
           {
            "bin_start": 0.7000000000000001,
            "bin_end": 0.8,
            "count": 0
           },
           {
            "bin_start": 0.8,
            "bin_end": 0.9,
            "count": 0
           },
           {
            "bin_start": 0.9,
            "bin_end": 1,
            "count": 1
           }
          ]
         }
        },
        {
         "name": "25",
         "dtype": "float64",
         "stats": {
          "unique_count": 60,
          "nan_count": 0,
          "min": "0.0",
          "max": "1.0",
          "histogram": [
           {
            "bin_start": 0,
            "bin_end": 0.1,
            "count": 12
           },
           {
            "bin_start": 0.1,
            "bin_end": 0.2,
            "count": 24
           },
           {
            "bin_start": 0.2,
            "bin_end": 0.30000000000000004,
            "count": 15
           },
           {
            "bin_start": 0.30000000000000004,
            "bin_end": 0.4,
            "count": 6
           },
           {
            "bin_start": 0.4,
            "bin_end": 0.5,
            "count": 2
           },
           {
            "bin_start": 0.5,
            "bin_end": 0.6000000000000001,
            "count": 0
           },
           {
            "bin_start": 0.6000000000000001,
            "bin_end": 0.7000000000000001,
            "count": 0
           },
           {
            "bin_start": 0.7000000000000001,
            "bin_end": 0.8,
            "count": 0
           },
           {
            "bin_start": 0.8,
            "bin_end": 0.9,
            "count": 0
           },
           {
            "bin_start": 0.9,
            "bin_end": 1,
            "count": 1
           }
          ]
         }
        },
        {
         "name": "26",
         "dtype": "float64",
         "stats": {
          "unique_count": 60,
          "nan_count": 0,
          "min": "0.0",
          "max": "1.0",
          "histogram": [
           {
            "bin_start": 0,
            "bin_end": 0.1,
            "count": 5
           },
           {
            "bin_start": 0.1,
            "bin_end": 0.2,
            "count": 14
           },
           {
            "bin_start": 0.2,
            "bin_end": 0.30000000000000004,
            "count": 20
           },
           {
            "bin_start": 0.30000000000000004,
            "bin_end": 0.4,
            "count": 14
           },
           {
            "bin_start": 0.4,
            "bin_end": 0.5,
            "count": 6
           },
           {
            "bin_start": 0.5,
            "bin_end": 0.6000000000000001,
            "count": 0
           },
           {
            "bin_start": 0.6000000000000001,
            "bin_end": 0.7000000000000001,
            "count": 0
           },
           {
            "bin_start": 0.7000000000000001,
            "bin_end": 0.8,
            "count": 0
           },
           {
            "bin_start": 0.8,
            "bin_end": 0.9,
            "count": 0
           },
           {
            "bin_start": 0.9,
            "bin_end": 1,
            "count": 1
           }
          ]
         }
        },
        {
         "name": "27",
         "dtype": "float64",
         "stats": {
          "unique_count": 57,
          "nan_count": 0,
          "min": "0.0",
          "max": "1.0",
          "histogram": [
           {
            "bin_start": 0,
            "bin_end": 0.1,
            "count": 27
           },
           {
            "bin_start": 0.1,
            "bin_end": 0.2,
            "count": 20
           },
           {
            "bin_start": 0.2,
            "bin_end": 0.30000000000000004,
            "count": 9
           },
           {
            "bin_start": 0.30000000000000004,
            "bin_end": 0.4,
            "count": 3
           },
           {
            "bin_start": 0.4,
            "bin_end": 0.5,
            "count": 0
           },
           {
            "bin_start": 0.5,
            "bin_end": 0.6000000000000001,
            "count": 0
           },
           {
            "bin_start": 0.6000000000000001,
            "bin_end": 0.7000000000000001,
            "count": 0
           },
           {
            "bin_start": 0.7000000000000001,
            "bin_end": 0.8,
            "count": 0
           },
           {
            "bin_start": 0.8,
            "bin_end": 0.9,
            "count": 0
           },
           {
            "bin_start": 0.9,
            "bin_end": 1,
            "count": 1
           }
          ]
         }
        },
        {
         "name": "28",
         "dtype": "float64",
         "stats": {
          "unique_count": 59,
          "nan_count": 0,
          "min": "0.0",
          "max": "1.0",
          "histogram": [
           {
            "bin_start": 0,
            "bin_end": 0.1,
            "count": 38
           },
           {
            "bin_start": 0.1,
            "bin_end": 0.2,
            "count": 16
           },
           {
            "bin_start": 0.2,
            "bin_end": 0.30000000000000004,
            "count": 5
           },
           {
            "bin_start": 0.30000000000000004,
            "bin_end": 0.4,
            "count": 0
           },
           {
            "bin_start": 0.4,
            "bin_end": 0.5,
            "count": 0
           },
           {
            "bin_start": 0.5,
            "bin_end": 0.6000000000000001,
            "count": 0
           },
           {
            "bin_start": 0.6000000000000001,
            "bin_end": 0.7000000000000001,
            "count": 0
           },
           {
            "bin_start": 0.7000000000000001,
            "bin_end": 0.8,
            "count": 0
           },
           {
            "bin_start": 0.8,
            "bin_end": 0.9,
            "count": 0
           },
           {
            "bin_start": 0.9,
            "bin_end": 1,
            "count": 1
           }
          ]
         }
        },
        {
         "name": "29",
         "dtype": "float64",
         "stats": {
          "unique_count": 60,
          "nan_count": 0,
          "min": "0.013767209011264159",
          "max": "1.0",
          "histogram": [
           {
            "bin_start": 0.013767209011264159,
            "bin_end": 0.11239048811013774,
            "count": 16
           },
           {
            "bin_start": 0.11239048811013774,
            "bin_end": 0.21101376720901133,
            "count": 15
           },
           {
            "bin_start": 0.21101376720901133,
            "bin_end": 0.3096370463078849,
            "count": 17
           },
           {
            "bin_start": 0.3096370463078849,
            "bin_end": 0.4082603254067585,
            "count": 10
           },
           {
            "bin_start": 0.4082603254067585,
            "bin_end": 0.5068836045056321,
            "count": 1
           },
           {
            "bin_start": 0.5068836045056321,
            "bin_end": 0.6055068836045057,
            "count": 0
           },
           {
            "bin_start": 0.6055068836045057,
            "bin_end": 0.7041301627033792,
            "count": 0
           },
           {
            "bin_start": 0.7041301627033792,
            "bin_end": 0.8027534418022528,
            "count": 0
           },
           {
            "bin_start": 0.8027534418022528,
            "bin_end": 0.9013767209011264,
            "count": 0
           },
           {
            "bin_start": 0.9013767209011264,
            "bin_end": 1,
            "count": 1
           }
          ]
         }
        },
        {
         "name": "3",
         "dtype": "float64",
         "stats": {
          "unique_count": 60,
          "nan_count": 0,
          "min": "0.0",
          "max": "1.0",
          "histogram": [
           {
            "bin_start": 0,
            "bin_end": 0.1,
            "count": 11
           },
           {
            "bin_start": 0.1,
            "bin_end": 0.2,
            "count": 21
           },
           {
            "bin_start": 0.2,
            "bin_end": 0.30000000000000004,
            "count": 17
           },
           {
            "bin_start": 0.30000000000000004,
            "bin_end": 0.4,
            "count": 7
           },
           {
            "bin_start": 0.4,
            "bin_end": 0.5,
            "count": 1
           },
           {
            "bin_start": 0.5,
            "bin_end": 0.6000000000000001,
            "count": 1
           },
           {
            "bin_start": 0.6000000000000001,
            "bin_end": 0.7000000000000001,
            "count": 0
           },
           {
            "bin_start": 0.7000000000000001,
            "bin_end": 0.8,
            "count": 1
           },
           {
            "bin_start": 0.8,
            "bin_end": 0.9,
            "count": 0
           },
           {
            "bin_start": 0.9,
            "bin_end": 1,
            "count": 1
           }
          ]
         }
        },
        {
         "name": "30",
         "dtype": "float64",
         "stats": {
          "unique_count": 60,
          "nan_count": 0,
          "min": "0.0",
          "max": "1.0",
          "histogram": [
           {
            "bin_start": 0,
            "bin_end": 0.1,
            "count": 13
           },
           {
            "bin_start": 0.1,
            "bin_end": 0.2,
            "count": 30
           },
           {
            "bin_start": 0.2,
            "bin_end": 0.30000000000000004,
            "count": 10
           },
           {
            "bin_start": 0.30000000000000004,
            "bin_end": 0.4,
            "count": 4
           },
           {
            "bin_start": 0.4,
            "bin_end": 0.5,
            "count": 1
           },
           {
            "bin_start": 0.5,
            "bin_end": 0.6000000000000001,
            "count": 0
           },
           {
            "bin_start": 0.6000000000000001,
            "bin_end": 0.7000000000000001,
            "count": 1
           },
           {
            "bin_start": 0.7000000000000001,
            "bin_end": 0.8,
            "count": 0
           },
           {
            "bin_start": 0.8,
            "bin_end": 0.9,
            "count": 0
           },
           {
            "bin_start": 0.9,
            "bin_end": 1,
            "count": 1
           }
          ]
         }
        },
        {
         "name": "31",
         "dtype": "float64",
         "stats": {
          "unique_count": 60,
          "nan_count": 0,
          "min": "0.0",
          "max": "1.0",
          "histogram": [
           {
            "bin_start": 0,
            "bin_end": 0.1,
            "count": 14
           },
           {
            "bin_start": 0.1,
            "bin_end": 0.2,
            "count": 16
           },
           {
            "bin_start": 0.2,
            "bin_end": 0.30000000000000004,
            "count": 18
           },
           {
            "bin_start": 0.30000000000000004,
            "bin_end": 0.4,
            "count": 8
           },
           {
            "bin_start": 0.4,
            "bin_end": 0.5,
            "count": 2
           },
           {
            "bin_start": 0.5,
            "bin_end": 0.6000000000000001,
            "count": 1
           },
           {
            "bin_start": 0.6000000000000001,
            "bin_end": 0.7000000000000001,
            "count": 0
           },
           {
            "bin_start": 0.7000000000000001,
            "bin_end": 0.8,
            "count": 0
           },
           {
            "bin_start": 0.8,
            "bin_end": 0.9,
            "count": 0
           },
           {
            "bin_start": 0.9,
            "bin_end": 1,
            "count": 1
           }
          ]
         }
        },
        {
         "name": "32",
         "dtype": "float64",
         "stats": {
          "unique_count": 60,
          "nan_count": 0,
          "min": "0.005539266317928893",
          "max": "1.0",
          "histogram": [
           {
            "bin_start": 0.005539266317928893,
            "bin_end": 0.104985339686136,
            "count": 10
           },
           {
            "bin_start": 0.104985339686136,
            "bin_end": 0.20443141305434312,
            "count": 19
           },
           {
            "bin_start": 0.20443141305434312,
            "bin_end": 0.30387748642255025,
            "count": 22
           },
           {
            "bin_start": 0.30387748642255025,
            "bin_end": 0.40332355979075735,
            "count": 7
           },
           {
            "bin_start": 0.40332355979075735,
            "bin_end": 0.5027696331589644,
            "count": 1
           },
           {
            "bin_start": 0.5027696331589644,
            "bin_end": 0.6022157065271716,
            "count": 0
           },
           {
            "bin_start": 0.6022157065271716,
            "bin_end": 0.7016617798953787,
            "count": 0
           },
           {
            "bin_start": 0.7016617798953787,
            "bin_end": 0.8011078532635858,
            "count": 0
           },
           {
            "bin_start": 0.8011078532635858,
            "bin_end": 0.9005539266317929,
            "count": 0
           },
           {
            "bin_start": 0.9005539266317929,
            "bin_end": 1,
            "count": 1
           }
          ]
         }
        },
        {
         "name": "33",
         "dtype": "float64",
         "stats": {
          "unique_count": 60,
          "nan_count": 0,
          "min": "0.0",
          "max": "1.0",
          "histogram": [
           {
            "bin_start": 0,
            "bin_end": 0.1,
            "count": 8
           },
           {
            "bin_start": 0.1,
            "bin_end": 0.2,
            "count": 31
           },
           {
            "bin_start": 0.2,
            "bin_end": 0.30000000000000004,
            "count": 18
           },
           {
            "bin_start": 0.30000000000000004,
            "bin_end": 0.4,
            "count": 1
           },
           {
            "bin_start": 0.4,
            "bin_end": 0.5,
            "count": 1
           },
           {
            "bin_start": 0.5,
            "bin_end": 0.6000000000000001,
            "count": 0
           },
           {
            "bin_start": 0.6000000000000001,
            "bin_end": 0.7000000000000001,
            "count": 0
           },
           {
            "bin_start": 0.7000000000000001,
            "bin_end": 0.8,
            "count": 0
           },
           {
            "bin_start": 0.8,
            "bin_end": 0.9,
            "count": 0
           },
           {
            "bin_start": 0.9,
            "bin_end": 1,
            "count": 1
           }
          ]
         }
        },
        {
         "name": "34",
         "dtype": "float64",
         "stats": {
          "unique_count": 60,
          "nan_count": 0,
          "min": "0.0",
          "max": "1.0",
          "histogram": [
           {
            "bin_start": 0,
            "bin_end": 0.1,
            "count": 13
           },
           {
            "bin_start": 0.1,
            "bin_end": 0.2,
            "count": 22
           },
           {
            "bin_start": 0.2,
            "bin_end": 0.30000000000000004,
            "count": 17
           },
           {
            "bin_start": 0.30000000000000004,
            "bin_end": 0.4,
            "count": 6
           },
           {
            "bin_start": 0.4,
            "bin_end": 0.5,
            "count": 0
           },
           {
            "bin_start": 0.5,
            "bin_end": 0.6000000000000001,
            "count": 1
           },
           {
            "bin_start": 0.6000000000000001,
            "bin_end": 0.7000000000000001,
            "count": 0
           },
           {
            "bin_start": 0.7000000000000001,
            "bin_end": 0.8,
            "count": 0
           },
           {
            "bin_start": 0.8,
            "bin_end": 0.9,
            "count": 0
           },
           {
            "bin_start": 0.9,
            "bin_end": 1,
            "count": 1
           }
          ]
         }
        },
        {
         "name": "35",
         "dtype": "float64",
         "stats": {
          "unique_count": 57,
          "nan_count": 0,
          "min": "0.0",
          "max": "1.0",
          "histogram": [
           {
            "bin_start": 0,
            "bin_end": 0.1,
            "count": 17
           },
           {
            "bin_start": 0.1,
            "bin_end": 0.2,
            "count": 18
           },
           {
            "bin_start": 0.2,
            "bin_end": 0.30000000000000004,
            "count": 18
           },
           {
            "bin_start": 0.30000000000000004,
            "bin_end": 0.4,
            "count": 5
           },
           {
            "bin_start": 0.4,
            "bin_end": 0.5,
            "count": 0
           },
           {
            "bin_start": 0.5,
            "bin_end": 0.6000000000000001,
            "count": 1
           },
           {
            "bin_start": 0.6000000000000001,
            "bin_end": 0.7000000000000001,
            "count": 0
           },
           {
            "bin_start": 0.7000000000000001,
            "bin_end": 0.8,
            "count": 0
           },
           {
            "bin_start": 0.8,
            "bin_end": 0.9,
            "count": 0
           },
           {
            "bin_start": 0.9,
            "bin_end": 1,
            "count": 1
           }
          ]
         }
        },
        {
         "name": "36",
         "dtype": "float64",
         "stats": {
          "unique_count": 60,
          "nan_count": 0,
          "min": "0.0",
          "max": "1.0",
          "histogram": [
           {
            "bin_start": 0,
            "bin_end": 0.1,
            "count": 10
           },
           {
            "bin_start": 0.1,
            "bin_end": 0.2,
            "count": 21
           },
           {
            "bin_start": 0.2,
            "bin_end": 0.30000000000000004,
            "count": 13
           },
           {
            "bin_start": 0.30000000000000004,
            "bin_end": 0.4,
            "count": 7
           },
           {
            "bin_start": 0.4,
            "bin_end": 0.5,
            "count": 7
           },
           {
            "bin_start": 0.5,
            "bin_end": 0.6000000000000001,
            "count": 1
           },
           {
            "bin_start": 0.6000000000000001,
            "bin_end": 0.7000000000000001,
            "count": 0
           },
           {
            "bin_start": 0.7000000000000001,
            "bin_end": 0.8,
            "count": 0
           },
           {
            "bin_start": 0.8,
            "bin_end": 0.9,
            "count": 0
           },
           {
            "bin_start": 0.9,
            "bin_end": 1,
            "count": 1
           }
          ]
         }
        },
        {
         "name": "37",
         "dtype": "float64",
         "stats": {
          "unique_count": 58,
          "nan_count": 0,
          "min": "0.0",
          "max": "1.0",
          "histogram": [
           {
            "bin_start": 0,
            "bin_end": 0.1,
            "count": 27
           },
           {
            "bin_start": 0.1,
            "bin_end": 0.2,
            "count": 18
           },
           {
            "bin_start": 0.2,
            "bin_end": 0.30000000000000004,
            "count": 10
           },
           {
            "bin_start": 0.30000000000000004,
            "bin_end": 0.4,
            "count": 3
           },
           {
            "bin_start": 0.4,
            "bin_end": 0.5,
            "count": 1
           },
           {
            "bin_start": 0.5,
            "bin_end": 0.6000000000000001,
            "count": 0
           },
           {
            "bin_start": 0.6000000000000001,
            "bin_end": 0.7000000000000001,
            "count": 0
           },
           {
            "bin_start": 0.7000000000000001,
            "bin_end": 0.8,
            "count": 0
           },
           {
            "bin_start": 0.8,
            "bin_end": 0.9,
            "count": 0
           },
           {
            "bin_start": 0.9,
            "bin_end": 1,
            "count": 1
           }
          ]
         }
        },
        {
         "name": "38",
         "dtype": "float64",
         "stats": {
          "unique_count": 60,
          "nan_count": 0,
          "min": "0.0",
          "max": "1.0",
          "histogram": [
           {
            "bin_start": 0,
            "bin_end": 0.1,
            "count": 11
           },
           {
            "bin_start": 0.1,
            "bin_end": 0.2,
            "count": 17
           },
           {
            "bin_start": 0.2,
            "bin_end": 0.30000000000000004,
            "count": 17
           },
           {
            "bin_start": 0.30000000000000004,
            "bin_end": 0.4,
            "count": 9
           },
           {
            "bin_start": 0.4,
            "bin_end": 0.5,
            "count": 3
           },
           {
            "bin_start": 0.5,
            "bin_end": 0.6000000000000001,
            "count": 2
           },
           {
            "bin_start": 0.6000000000000001,
            "bin_end": 0.7000000000000001,
            "count": 0
           },
           {
            "bin_start": 0.7000000000000001,
            "bin_end": 0.8,
            "count": 0
           },
           {
            "bin_start": 0.8,
            "bin_end": 0.9,
            "count": 0
           },
           {
            "bin_start": 0.9,
            "bin_end": 1,
            "count": 1
           }
          ]
         }
        },
        {
         "name": "39",
         "dtype": "float64",
         "stats": {
          "unique_count": 60,
          "nan_count": 0,
          "min": "0.0",
          "max": "1.0",
          "histogram": [
           {
            "bin_start": 0,
            "bin_end": 0.1,
            "count": 15
           },
           {
            "bin_start": 0.1,
            "bin_end": 0.2,
            "count": 24
           },
           {
            "bin_start": 0.2,
            "bin_end": 0.30000000000000004,
            "count": 15
           },
           {
            "bin_start": 0.30000000000000004,
            "bin_end": 0.4,
            "count": 3
           },
           {
            "bin_start": 0.4,
            "bin_end": 0.5,
            "count": 2
           },
           {
            "bin_start": 0.5,
            "bin_end": 0.6000000000000001,
            "count": 0
           },
           {
            "bin_start": 0.6000000000000001,
            "bin_end": 0.7000000000000001,
            "count": 0
           },
           {
            "bin_start": 0.7000000000000001,
            "bin_end": 0.8,
            "count": 0
           },
           {
            "bin_start": 0.8,
            "bin_end": 0.9,
            "count": 0
           },
           {
            "bin_start": 0.9,
            "bin_end": 1,
            "count": 1
           }
          ]
         }
        },
        {
         "name": "4",
         "dtype": "float64",
         "stats": {
          "unique_count": 60,
          "nan_count": 0,
          "min": "0.0",
          "max": "1.0",
          "histogram": [
           {
            "bin_start": 0,
            "bin_end": 0.1,
            "count": 7
           },
           {
            "bin_start": 0.1,
            "bin_end": 0.2,
            "count": 19
           },
           {
            "bin_start": 0.2,
            "bin_end": 0.30000000000000004,
            "count": 19
           },
           {
            "bin_start": 0.30000000000000004,
            "bin_end": 0.4,
            "count": 9
           },
           {
            "bin_start": 0.4,
            "bin_end": 0.5,
            "count": 5
           },
           {
            "bin_start": 0.5,
            "bin_end": 0.6000000000000001,
            "count": 0
           },
           {
            "bin_start": 0.6000000000000001,
            "bin_end": 0.7000000000000001,
            "count": 0
           },
           {
            "bin_start": 0.7000000000000001,
            "bin_end": 0.8,
            "count": 0
           },
           {
            "bin_start": 0.8,
            "bin_end": 0.9,
            "count": 0
           },
           {
            "bin_start": 0.9,
            "bin_end": 1,
            "count": 1
           }
          ]
         }
        },
        {
         "name": "40",
         "dtype": "float64",
         "stats": {
          "unique_count": 57,
          "nan_count": 0,
          "min": "0.0",
          "max": "1.0",
          "histogram": [
           {
            "bin_start": 0,
            "bin_end": 0.1,
            "count": 34
           },
           {
            "bin_start": 0.1,
            "bin_end": 0.2,
            "count": 20
           },
           {
            "bin_start": 0.2,
            "bin_end": 0.30000000000000004,
            "count": 4
           },
           {
            "bin_start": 0.30000000000000004,
            "bin_end": 0.4,
            "count": 1
           },
           {
            "bin_start": 0.4,
            "bin_end": 0.5,
            "count": 0
           },
           {
            "bin_start": 0.5,
            "bin_end": 0.6000000000000001,
            "count": 0
           },
           {
            "bin_start": 0.6000000000000001,
            "bin_end": 0.7000000000000001,
            "count": 0
           },
           {
            "bin_start": 0.7000000000000001,
            "bin_end": 0.8,
            "count": 0
           },
           {
            "bin_start": 0.8,
            "bin_end": 0.9,
            "count": 0
           },
           {
            "bin_start": 0.9,
            "bin_end": 1,
            "count": 1
           }
          ]
         }
        },
        {
         "name": "41",
         "dtype": "float64",
         "stats": {
          "unique_count": 60,
          "nan_count": 0,
          "min": "0.0",
          "max": "1.0",
          "histogram": [
           {
            "bin_start": 0,
            "bin_end": 0.1,
            "count": 14
           },
           {
            "bin_start": 0.1,
            "bin_end": 0.2,
            "count": 15
           },
           {
            "bin_start": 0.2,
            "bin_end": 0.30000000000000004,
            "count": 18
           },
           {
            "bin_start": 0.30000000000000004,
            "bin_end": 0.4,
            "count": 8
           },
           {
            "bin_start": 0.4,
            "bin_end": 0.5,
            "count": 2
           },
           {
            "bin_start": 0.5,
            "bin_end": 0.6000000000000001,
            "count": 1
           },
           {
            "bin_start": 0.6000000000000001,
            "bin_end": 0.7000000000000001,
            "count": 1
           },
           {
            "bin_start": 0.7000000000000001,
            "bin_end": 0.8,
            "count": 0
           },
           {
            "bin_start": 0.8,
            "bin_end": 0.9,
            "count": 0
           },
           {
            "bin_start": 0.9,
            "bin_end": 1,
            "count": 1
           }
          ]
         }
        },
        {
         "name": "42",
         "dtype": "float64",
         "stats": {
          "unique_count": 60,
          "nan_count": 0,
          "min": "0.06021785052235262",
          "max": "1.0",
          "histogram": [
           {
            "bin_start": 0.06021785052235262,
            "bin_end": 0.15419606547011735,
            "count": 14
           },
           {
            "bin_start": 0.15419606547011735,
            "bin_end": 0.2481742804178821,
            "count": 17
           },
           {
            "bin_start": 0.2481742804178821,
            "bin_end": 0.34215249536564685,
            "count": 19
           },
           {
            "bin_start": 0.34215249536564685,
            "bin_end": 0.43613071031341155,
            "count": 7
           },
           {
            "bin_start": 0.43613071031341155,
            "bin_end": 0.5301089252611763,
            "count": 1
           },
           {
            "bin_start": 0.5301089252611763,
            "bin_end": 0.6240871402089411,
            "count": 1
           },
           {
            "bin_start": 0.6240871402089411,
            "bin_end": 0.7180653551567058,
            "count": 0
           },
           {
            "bin_start": 0.7180653551567058,
            "bin_end": 0.8120435701044705,
            "count": 0
           },
           {
            "bin_start": 0.8120435701044705,
            "bin_end": 0.9060217850522352,
            "count": 0
           },
           {
            "bin_start": 0.9060217850522352,
            "bin_end": 1,
            "count": 1
           }
          ]
         }
        },
        {
         "name": "43",
         "dtype": "float64",
         "stats": {
          "unique_count": 60,
          "nan_count": 0,
          "min": "0.01796262708621077",
          "max": "1.0",
          "histogram": [
           {
            "bin_start": 0.01796262708621077,
            "bin_end": 0.11616636437758969,
            "count": 17
           },
           {
            "bin_start": 0.11616636437758969,
            "bin_end": 0.2143701016689686,
            "count": 22
           },
           {
            "bin_start": 0.2143701016689686,
            "bin_end": 0.3125738389603475,
            "count": 15
           },
           {
            "bin_start": 0.3125738389603475,
            "bin_end": 0.41077757625172645,
            "count": 3
           },
           {
            "bin_start": 0.41077757625172645,
            "bin_end": 0.5089813135431054,
            "count": 1
           },
           {
            "bin_start": 0.5089813135431054,
            "bin_end": 0.6071850508344843,
            "count": 1
           },
           {
            "bin_start": 0.6071850508344843,
            "bin_end": 0.7053887881258633,
            "count": 0
           },
           {
            "bin_start": 0.7053887881258633,
            "bin_end": 0.8035925254172421,
            "count": 0
           },
           {
            "bin_start": 0.8035925254172421,
            "bin_end": 0.901796262708621,
            "count": 0
           },
           {
            "bin_start": 0.901796262708621,
            "bin_end": 1,
            "count": 1
           }
          ]
         }
        },
        {
         "name": "44",
         "dtype": "float64",
         "stats": {
          "unique_count": 60,
          "nan_count": 0,
          "min": "0.037168230611159814",
          "max": "1.0",
          "histogram": [
           {
            "bin_start": 0.037168230611159814,
            "bin_end": 0.13345140755004384,
            "count": 17
           },
           {
            "bin_start": 0.13345140755004384,
            "bin_end": 0.22973458448892786,
            "count": 18
           },
           {
            "bin_start": 0.22973458448892786,
            "bin_end": 0.3260177614278119,
            "count": 16
           },
           {
            "bin_start": 0.3260177614278119,
            "bin_end": 0.4223009383666959,
            "count": 5
           },
           {
            "bin_start": 0.4223009383666959,
            "bin_end": 0.5185841153055799,
            "count": 2
           },
           {
            "bin_start": 0.5185841153055799,
            "bin_end": 0.614867292244464,
            "count": 1
           },
           {
            "bin_start": 0.614867292244464,
            "bin_end": 0.711150469183348,
            "count": 0
           },
           {
            "bin_start": 0.711150469183348,
            "bin_end": 0.807433646122232,
            "count": 0
           },
           {
            "bin_start": 0.807433646122232,
            "bin_end": 0.903716823061116,
            "count": 0
           },
           {
            "bin_start": 0.903716823061116,
            "bin_end": 1,
            "count": 1
           }
          ]
         }
        },
        {
         "name": "45",
         "dtype": "float64",
         "stats": {
          "unique_count": 60,
          "nan_count": 0,
          "min": "0.019501450952966737",
          "max": "1.0",
          "histogram": [
           {
            "bin_start": 0.019501450952966737,
            "bin_end": 0.11755130585767007,
            "count": 18
           },
           {
            "bin_start": 0.11755130585767007,
            "bin_end": 0.2156011607623734,
            "count": 28
           },
           {
            "bin_start": 0.2156011607623734,
            "bin_end": 0.31365101566707676,
            "count": 13
           },
           {
            "bin_start": 0.31365101566707676,
            "bin_end": 0.41170087057178006,
            "count": 0
           },
           {
            "bin_start": 0.41170087057178006,
            "bin_end": 0.5097507254764834,
            "count": 0
           },
           {
            "bin_start": 0.5097507254764834,
            "bin_end": 0.6078005803811868,
            "count": 0
           },
           {
            "bin_start": 0.6078005803811868,
            "bin_end": 0.7058504352858901,
            "count": 0
           },
           {
            "bin_start": 0.7058504352858901,
            "bin_end": 0.8039002901905934,
            "count": 0
           },
           {
            "bin_start": 0.8039002901905934,
            "bin_end": 0.9019501450952967,
            "count": 0
           },
           {
            "bin_start": 0.9019501450952967,
            "bin_end": 1,
            "count": 1
           }
          ]
         }
        },
        {
         "name": "46",
         "dtype": "float64",
         "stats": {
          "unique_count": 58,
          "nan_count": 0,
          "min": "0.0",
          "max": "1.0",
          "histogram": [
           {
            "bin_start": 0,
            "bin_end": 0.1,
            "count": 18
           },
           {
            "bin_start": 0.1,
            "bin_end": 0.2,
            "count": 17
           },
           {
            "bin_start": 0.2,
            "bin_end": 0.30000000000000004,
            "count": 17
           },
           {
            "bin_start": 0.30000000000000004,
            "bin_end": 0.4,
            "count": 5
           },
           {
            "bin_start": 0.4,
            "bin_end": 0.5,
            "count": 1
           },
           {
            "bin_start": 0.5,
            "bin_end": 0.6000000000000001,
            "count": 1
           },
           {
            "bin_start": 0.6000000000000001,
            "bin_end": 0.7000000000000001,
            "count": 0
           },
           {
            "bin_start": 0.7000000000000001,
            "bin_end": 0.8,
            "count": 0
           },
           {
            "bin_start": 0.8,
            "bin_end": 0.9,
            "count": 0
           },
           {
            "bin_start": 0.9,
            "bin_end": 1,
            "count": 1
           }
          ]
         }
        },
        {
         "name": "47",
         "dtype": "float64",
         "stats": {
          "unique_count": 60,
          "nan_count": 0,
          "min": "0.04469918675274631",
          "max": "1.0",
          "histogram": [
           {
            "bin_start": 0.04469918675274631,
            "bin_end": 0.14022926807747169,
            "count": 16
           },
           {
            "bin_start": 0.14022926807747169,
            "bin_end": 0.23575934940219706,
            "count": 21
           },
           {
            "bin_start": 0.23575934940219706,
            "bin_end": 0.3312894307269224,
            "count": 13
           },
           {
            "bin_start": 0.3312894307269224,
            "bin_end": 0.4268195120516478,
            "count": 5
           },
           {
            "bin_start": 0.4268195120516478,
            "bin_end": 0.5223495933763732,
            "count": 3
           },
           {
            "bin_start": 0.5223495933763732,
            "bin_end": 0.6178796747010985,
            "count": 1
           },
           {
            "bin_start": 0.6178796747010985,
            "bin_end": 0.7134097560258239,
            "count": 0
           },
           {
            "bin_start": 0.7134097560258239,
            "bin_end": 0.8089398373505493,
            "count": 0
           },
           {
            "bin_start": 0.8089398373505493,
            "bin_end": 0.9044699186752747,
            "count": 0
           },
           {
            "bin_start": 0.9044699186752747,
            "bin_end": 1,
            "count": 1
           }
          ]
         }
        },
        {
         "name": "48",
         "dtype": "float64",
         "stats": {
          "unique_count": 60,
          "nan_count": 0,
          "min": "0.08498891799314912",
          "max": "1.0",
          "histogram": [
           {
            "bin_start": 0.08498891799314912,
            "bin_end": 0.1764900261938342,
            "count": 15
           },
           {
            "bin_start": 0.1764900261938342,
            "bin_end": 0.26799113439451927,
            "count": 20
           },
           {
            "bin_start": 0.26799113439451927,
            "bin_end": 0.3594922425952044,
            "count": 15
           },
           {
            "bin_start": 0.3594922425952044,
            "bin_end": 0.4509933507958895,
            "count": 6
           },
           {
            "bin_start": 0.4509933507958895,
            "bin_end": 0.5424944589965746,
            "count": 2
           },
           {
            "bin_start": 0.5424944589965746,
            "bin_end": 0.6339955671972597,
            "count": 0
           },
           {
            "bin_start": 0.6339955671972597,
            "bin_end": 0.7254966753979447,
            "count": 0
           },
           {
            "bin_start": 0.7254966753979447,
            "bin_end": 0.8169977835986298,
            "count": 1
           },
           {
            "bin_start": 0.8169977835986298,
            "bin_end": 0.908498891799315,
            "count": 0
           },
           {
            "bin_start": 0.908498891799315,
            "bin_end": 1,
            "count": 1
           }
          ]
         }
        },
        {
         "name": "49",
         "dtype": "float64",
         "stats": {
          "unique_count": 60,
          "nan_count": 0,
          "min": "0.03839625938066782",
          "max": "1.0",
          "histogram": [
           {
            "bin_start": 0.03839625938066782,
            "bin_end": 0.13455663344260105,
            "count": 12
           },
           {
            "bin_start": 0.13455663344260105,
            "bin_end": 0.23071700750453425,
            "count": 19
           },
           {
            "bin_start": 0.23071700750453425,
            "bin_end": 0.32687738156646745,
            "count": 18
           },
           {
            "bin_start": 0.32687738156646745,
            "bin_end": 0.4230377556284007,
            "count": 7
           },
           {
            "bin_start": 0.4230377556284007,
            "bin_end": 0.5191981296903339,
            "count": 2
           },
           {
            "bin_start": 0.5191981296903339,
            "bin_end": 0.6153585037522671,
            "count": 1
           },
           {
            "bin_start": 0.6153585037522671,
            "bin_end": 0.7115188778142003,
            "count": 0
           },
           {
            "bin_start": 0.7115188778142003,
            "bin_end": 0.8076792518761335,
            "count": 0
           },
           {
            "bin_start": 0.8076792518761335,
            "bin_end": 0.9038396259380668,
            "count": 0
           },
           {
            "bin_start": 0.9038396259380668,
            "bin_end": 1,
            "count": 1
           }
          ]
         }
        },
        {
         "name": "5",
         "dtype": "float64",
         "stats": {
          "unique_count": 58,
          "nan_count": 0,
          "min": "0.0",
          "max": "1.0",
          "histogram": [
           {
            "bin_start": 0,
            "bin_end": 0.1,
            "count": 25
           },
           {
            "bin_start": 0.1,
            "bin_end": 0.2,
            "count": 15
           },
           {
            "bin_start": 0.2,
            "bin_end": 0.30000000000000004,
            "count": 13
           },
           {
            "bin_start": 0.30000000000000004,
            "bin_end": 0.4,
            "count": 5
           },
           {
            "bin_start": 0.4,
            "bin_end": 0.5,
            "count": 1
           },
           {
            "bin_start": 0.5,
            "bin_end": 0.6000000000000001,
            "count": 0
           },
           {
            "bin_start": 0.6000000000000001,
            "bin_end": 0.7000000000000001,
            "count": 0
           },
           {
            "bin_start": 0.7000000000000001,
            "bin_end": 0.8,
            "count": 0
           },
           {
            "bin_start": 0.8,
            "bin_end": 0.9,
            "count": 0
           },
           {
            "bin_start": 0.9,
            "bin_end": 1,
            "count": 1
           }
          ]
         }
        },
        {
         "name": "50",
         "dtype": "float64",
         "stats": {
          "unique_count": 60,
          "nan_count": 0,
          "min": "0.00026584661368900253",
          "max": "1.0",
          "histogram": [
           {
            "bin_start": 0.00026584661368900253,
            "bin_end": 0.10023926195232011,
            "count": 15
           },
           {
            "bin_start": 0.10023926195232011,
            "bin_end": 0.2002126772909512,
            "count": 18
           },
           {
            "bin_start": 0.2002126772909512,
            "bin_end": 0.3001860926295823,
            "count": 18
           },
           {
            "bin_start": 0.3001860926295823,
            "bin_end": 0.4001595079682134,
            "count": 5
           },
           {
            "bin_start": 0.4001595079682134,
            "bin_end": 0.5001329233068446,
            "count": 2
           },
           {
            "bin_start": 0.5001329233068446,
            "bin_end": 0.6001063386454756,
            "count": 1
           },
           {
            "bin_start": 0.6001063386454756,
            "bin_end": 0.7000797539841067,
            "count": 0
           },
           {
            "bin_start": 0.7000797539841067,
            "bin_end": 0.8000531693227378,
            "count": 0
           },
           {
            "bin_start": 0.8000531693227378,
            "bin_end": 0.900026584661369,
            "count": 0
           },
           {
            "bin_start": 0.900026584661369,
            "bin_end": 1,
            "count": 1
           }
          ]
         }
        },
        {
         "name": "51",
         "dtype": "float64",
         "stats": {
          "unique_count": 60,
          "nan_count": 0,
          "min": "0.03788153488471291",
          "max": "1.0",
          "histogram": [
           {
            "bin_start": 0.03788153488471291,
            "bin_end": 0.1340933813962416,
            "count": 14
           },
           {
            "bin_start": 0.1340933813962416,
            "bin_end": 0.23030522790777033,
            "count": 19
           },
           {
            "bin_start": 0.23030522790777033,
            "bin_end": 0.32651707441929906,
            "count": 15
           },
           {
            "bin_start": 0.32651707441929906,
            "bin_end": 0.42272892093082776,
            "count": 6
           },
           {
            "bin_start": 0.42272892093082776,
            "bin_end": 0.5189407674423565,
            "count": 5
           },
           {
            "bin_start": 0.5189407674423565,
            "bin_end": 0.6151526139538852,
            "count": 0
           },
           {
            "bin_start": 0.6151526139538852,
            "bin_end": 0.7113644604654139,
            "count": 0
           },
           {
            "bin_start": 0.7113644604654139,
            "bin_end": 0.8075763069769426,
            "count": 0
           },
           {
            "bin_start": 0.8075763069769426,
            "bin_end": 0.9037881534884713,
            "count": 0
           },
           {
            "bin_start": 0.9037881534884713,
            "bin_end": 1,
            "count": 1
           }
          ]
         }
        },
        {
         "name": "52",
         "dtype": "float64",
         "stats": {
          "unique_count": 51,
          "nan_count": 0,
          "min": "0.0",
          "max": "1.0",
          "histogram": [
           {
            "bin_start": 0,
            "bin_end": 0.1,
            "count": 24
           },
           {
            "bin_start": 0.1,
            "bin_end": 0.2,
            "count": 20
           },
           {
            "bin_start": 0.2,
            "bin_end": 0.30000000000000004,
            "count": 7
           },
           {
            "bin_start": 0.30000000000000004,
            "bin_end": 0.4,
            "count": 7
           },
           {
            "bin_start": 0.4,
            "bin_end": 0.5,
            "count": 0
           },
           {
            "bin_start": 0.5,
            "bin_end": 0.6000000000000001,
            "count": 1
           },
           {
            "bin_start": 0.6000000000000001,
            "bin_end": 0.7000000000000001,
            "count": 0
           },
           {
            "bin_start": 0.7000000000000001,
            "bin_end": 0.8,
            "count": 0
           },
           {
            "bin_start": 0.8,
            "bin_end": 0.9,
            "count": 0
           },
           {
            "bin_start": 0.9,
            "bin_end": 1,
            "count": 1
           }
          ]
         }
        },
        {
         "name": "53",
         "dtype": "float64",
         "stats": {
          "unique_count": 60,
          "nan_count": 0,
          "min": "0.014226999683844666",
          "max": "1.0",
          "histogram": [
           {
            "bin_start": 0.014226999683844666,
            "bin_end": 0.1128042997154602,
            "count": 27
           },
           {
            "bin_start": 0.1128042997154602,
            "bin_end": 0.21138159974707574,
            "count": 21
           },
           {
            "bin_start": 0.21138159974707574,
            "bin_end": 0.3099588997786913,
            "count": 8
           },
           {
            "bin_start": 0.3099588997786913,
            "bin_end": 0.4085361998103068,
            "count": 3
           },
           {
            "bin_start": 0.4085361998103068,
            "bin_end": 0.5071134998419223,
            "count": 0
           },
           {
            "bin_start": 0.5071134998419223,
            "bin_end": 0.6056907998735379,
            "count": 0
           },
           {
            "bin_start": 0.6056907998735379,
            "bin_end": 0.7042680999051534,
            "count": 0
           },
           {
            "bin_start": 0.7042680999051534,
            "bin_end": 0.802845399936769,
            "count": 0
           },
           {
            "bin_start": 0.802845399936769,
            "bin_end": 0.9014226999683845,
            "count": 0
           },
           {
            "bin_start": 0.9014226999683845,
            "bin_end": 1,
            "count": 1
           }
          ]
         }
        },
        {
         "name": "54",
         "dtype": "float64",
         "stats": {
          "unique_count": 60,
          "nan_count": 0,
          "min": "0.058839355596138954",
          "max": "1.0",
          "histogram": [
           {
            "bin_start": 0.058839355596138954,
            "bin_end": 0.15295542003652507,
            "count": 12
           },
           {
            "bin_start": 0.15295542003652507,
            "bin_end": 0.24707148447691116,
            "count": 22
           },
           {
            "bin_start": 0.24707148447691116,
            "bin_end": 0.34118754891729725,
            "count": 12
           },
           {
            "bin_start": 0.34118754891729725,
            "bin_end": 0.43530361335768336,
            "count": 8
           },
           {
            "bin_start": 0.43530361335768336,
            "bin_end": 0.5294196777980695,
            "count": 3
           },
           {
            "bin_start": 0.5294196777980695,
            "bin_end": 0.6235357422384555,
            "count": 2
           },
           {
            "bin_start": 0.6235357422384555,
            "bin_end": 0.7176518066788417,
            "count": 0
           },
           {
            "bin_start": 0.7176518066788417,
            "bin_end": 0.8117678711192278,
            "count": 0
           },
           {
            "bin_start": 0.8117678711192278,
            "bin_end": 0.9058839355596139,
            "count": 0
           },
           {
            "bin_start": 0.9058839355596139,
            "bin_end": 1,
            "count": 1
           }
          ]
         }
        },
        {
         "name": "55",
         "dtype": "float64",
         "stats": {
          "unique_count": 60,
          "nan_count": 0,
          "min": "0.07513379675196863",
          "max": "1.0",
          "histogram": [
           {
            "bin_start": 0.07513379675196863,
            "bin_end": 0.16762041707677178,
            "count": 16
           },
           {
            "bin_start": 0.16762041707677178,
            "bin_end": 0.2601070374015749,
            "count": 15
           },
           {
            "bin_start": 0.2601070374015749,
            "bin_end": 0.352593657726378,
            "count": 17
           },
           {
            "bin_start": 0.352593657726378,
            "bin_end": 0.44508027805118117,
            "count": 6
           },
           {
            "bin_start": 0.44508027805118117,
            "bin_end": 0.5375668983759843,
            "count": 4
           },
           {
            "bin_start": 0.5375668983759843,
            "bin_end": 0.6300535187007874,
            "count": 1
           },
           {
            "bin_start": 0.6300535187007874,
            "bin_end": 0.7225401390255906,
            "count": 0
           },
           {
            "bin_start": 0.7225401390255906,
            "bin_end": 0.8150267593503937,
            "count": 0
           },
           {
            "bin_start": 0.8150267593503937,
            "bin_end": 0.9075133796751969,
            "count": 0
           },
           {
            "bin_start": 0.9075133796751969,
            "bin_end": 1,
            "count": 1
           }
          ]
         }
        },
        {
         "name": "56",
         "dtype": "float64",
         "stats": {
          "unique_count": 60,
          "nan_count": 0,
          "min": "0.0035117334096973485",
          "max": "1.0",
          "histogram": [
           {
            "bin_start": 0.0035117334096973485,
            "bin_end": 0.10316056006872762,
            "count": 17
           },
           {
            "bin_start": 0.10316056006872762,
            "bin_end": 0.2028093867277579,
            "count": 20
           },
           {
            "bin_start": 0.2028093867277579,
            "bin_end": 0.30245821338678813,
            "count": 15
           },
           {
            "bin_start": 0.30245821338678813,
            "bin_end": 0.40210704004581843,
            "count": 7
           },
           {
            "bin_start": 0.40210704004581843,
            "bin_end": 0.5017558667048487,
            "count": 0
           },
           {
            "bin_start": 0.5017558667048487,
            "bin_end": 0.6014046933638789,
            "count": 0
           },
           {
            "bin_start": 0.6014046933638789,
            "bin_end": 0.7010535200229092,
            "count": 0
           },
           {
            "bin_start": 0.7010535200229092,
            "bin_end": 0.8007023466819395,
            "count": 0
           },
           {
            "bin_start": 0.8007023466819395,
            "bin_end": 0.9003511733409698,
            "count": 0
           },
           {
            "bin_start": 0.9003511733409698,
            "bin_end": 1,
            "count": 1
           }
          ]
         }
        },
        {
         "name": "57",
         "dtype": "float64",
         "stats": {
          "unique_count": 60,
          "nan_count": 0,
          "min": "0.09655289048368365",
          "max": "1.0",
          "histogram": [
           {
            "bin_start": 0.09655289048368365,
            "bin_end": 0.18689760143531528,
            "count": 12
           },
           {
            "bin_start": 0.18689760143531528,
            "bin_end": 0.2772423123869469,
            "count": 28
           },
           {
            "bin_start": 0.2772423123869469,
            "bin_end": 0.3675870233385785,
            "count": 13
           },
           {
            "bin_start": 0.3675870233385785,
            "bin_end": 0.45793173429021017,
            "count": 4
           },
           {
            "bin_start": 0.45793173429021017,
            "bin_end": 0.5482764452418418,
            "count": 1
           },
           {
            "bin_start": 0.5482764452418418,
            "bin_end": 0.6386211561934734,
            "count": 0
           },
           {
            "bin_start": 0.6386211561934734,
            "bin_end": 0.728965867145105,
            "count": 0
           },
           {
            "bin_start": 0.728965867145105,
            "bin_end": 0.8193105780967367,
            "count": 1
           },
           {
            "bin_start": 0.8193105780967367,
            "bin_end": 0.9096552890483683,
            "count": 0
           },
           {
            "bin_start": 0.9096552890483683,
            "bin_end": 1,
            "count": 1
           }
          ]
         }
        },
        {
         "name": "58",
         "dtype": "float64",
         "stats": {
          "unique_count": 60,
          "nan_count": 0,
          "min": "0.00960414616141736",
          "max": "1.0",
          "histogram": [
           {
            "bin_start": 0.00960414616141736,
            "bin_end": 0.10864373154527562,
            "count": 18
           },
           {
            "bin_start": 0.10864373154527562,
            "bin_end": 0.2076833169291339,
            "count": 18
           },
           {
            "bin_start": 0.2076833169291339,
            "bin_end": 0.30672290231299215,
            "count": 16
           },
           {
            "bin_start": 0.30672290231299215,
            "bin_end": 0.4057624876968504,
            "count": 6
           },
           {
            "bin_start": 0.4057624876968504,
            "bin_end": 0.5048020730807087,
            "count": 0
           },
           {
            "bin_start": 0.5048020730807087,
            "bin_end": 0.6038416584645669,
            "count": 1
           },
           {
            "bin_start": 0.6038416584645669,
            "bin_end": 0.7028812438484252,
            "count": 0
           },
           {
            "bin_start": 0.7028812438484252,
            "bin_end": 0.8019208292322835,
            "count": 0
           },
           {
            "bin_start": 0.8019208292322835,
            "bin_end": 0.9009604146161417,
            "count": 0
           },
           {
            "bin_start": 0.9009604146161417,
            "bin_end": 1,
            "count": 1
           }
          ]
         }
        },
        {
         "name": "59",
         "dtype": "float64",
         "stats": {
          "unique_count": 60,
          "nan_count": 0,
          "min": "0.0",
          "max": "1.0",
          "histogram": [
           {
            "bin_start": 0,
            "bin_end": 0.1,
            "count": 30
           },
           {
            "bin_start": 0.1,
            "bin_end": 0.2,
            "count": 10
           },
           {
            "bin_start": 0.2,
            "bin_end": 0.30000000000000004,
            "count": 7
           },
           {
            "bin_start": 0.30000000000000004,
            "bin_end": 0.4,
            "count": 11
           },
           {
            "bin_start": 0.4,
            "bin_end": 0.5,
            "count": 1
           },
           {
            "bin_start": 0.5,
            "bin_end": 0.6000000000000001,
            "count": 0
           },
           {
            "bin_start": 0.6000000000000001,
            "bin_end": 0.7000000000000001,
            "count": 0
           },
           {
            "bin_start": 0.7000000000000001,
            "bin_end": 0.8,
            "count": 0
           },
           {
            "bin_start": 0.8,
            "bin_end": 0.9,
            "count": 0
           },
           {
            "bin_start": 0.9,
            "bin_end": 1,
            "count": 1
           }
          ]
         }
        },
        {
         "name": "6",
         "dtype": "float64",
         "stats": {
          "unique_count": 60,
          "nan_count": 0,
          "min": "0.03738378191955616",
          "max": "1.0",
          "histogram": [
           {
            "bin_start": 0.03738378191955616,
            "bin_end": 0.13364540372760053,
            "count": 9
           },
           {
            "bin_start": 0.13364540372760053,
            "bin_end": 0.22990702553564493,
            "count": 27
           },
           {
            "bin_start": 0.22990702553564493,
            "bin_end": 0.32616864734368933,
            "count": 12
           },
           {
            "bin_start": 0.32616864734368933,
            "bin_end": 0.4224302691517337,
            "count": 9
           },
           {
            "bin_start": 0.4224302691517337,
            "bin_end": 0.5186918909597781,
            "count": 1
           },
           {
            "bin_start": 0.5186918909597781,
            "bin_end": 0.6149535127678225,
            "count": 1
           },
           {
            "bin_start": 0.6149535127678225,
            "bin_end": 0.7112151345758668,
            "count": 0
           },
           {
            "bin_start": 0.7112151345758668,
            "bin_end": 0.8074767563839113,
            "count": 0
           },
           {
            "bin_start": 0.8074767563839113,
            "bin_end": 0.9037383781919557,
            "count": 0
           },
           {
            "bin_start": 0.9037383781919557,
            "bin_end": 1,
            "count": 1
           }
          ]
         }
        },
        {
         "name": "60",
         "dtype": "float64",
         "stats": {
          "unique_count": 60,
          "nan_count": 0,
          "min": "0.0",
          "max": "1.0",
          "histogram": [
           {
            "bin_start": 0,
            "bin_end": 0.1,
            "count": 8
           },
           {
            "bin_start": 0.1,
            "bin_end": 0.2,
            "count": 22
           },
           {
            "bin_start": 0.2,
            "bin_end": 0.30000000000000004,
            "count": 17
           },
           {
            "bin_start": 0.30000000000000004,
            "bin_end": 0.4,
            "count": 10
           },
           {
            "bin_start": 0.4,
            "bin_end": 0.5,
            "count": 1
           },
           {
            "bin_start": 0.5,
            "bin_end": 0.6000000000000001,
            "count": 1
           },
           {
            "bin_start": 0.6000000000000001,
            "bin_end": 0.7000000000000001,
            "count": 0
           },
           {
            "bin_start": 0.7000000000000001,
            "bin_end": 0.8,
            "count": 0
           },
           {
            "bin_start": 0.8,
            "bin_end": 0.9,
            "count": 0
           },
           {
            "bin_start": 0.9,
            "bin_end": 1,
            "count": 1
           }
          ]
         }
        },
        {
         "name": "7",
         "dtype": "float64",
         "stats": {
          "unique_count": 57,
          "nan_count": 0,
          "min": "0.0",
          "max": "1.0",
          "histogram": [
           {
            "bin_start": 0,
            "bin_end": 0.1,
            "count": 13
           },
           {
            "bin_start": 0.1,
            "bin_end": 0.2,
            "count": 24
           },
           {
            "bin_start": 0.2,
            "bin_end": 0.30000000000000004,
            "count": 16
           },
           {
            "bin_start": 0.30000000000000004,
            "bin_end": 0.4,
            "count": 5
           },
           {
            "bin_start": 0.4,
            "bin_end": 0.5,
            "count": 1
           },
           {
            "bin_start": 0.5,
            "bin_end": 0.6000000000000001,
            "count": 0
           },
           {
            "bin_start": 0.6000000000000001,
            "bin_end": 0.7000000000000001,
            "count": 0
           },
           {
            "bin_start": 0.7000000000000001,
            "bin_end": 0.8,
            "count": 0
           },
           {
            "bin_start": 0.8,
            "bin_end": 0.9,
            "count": 0
           },
           {
            "bin_start": 0.9,
            "bin_end": 1,
            "count": 1
           }
          ]
         }
        },
        {
         "name": "8",
         "dtype": "float64",
         "stats": {
          "unique_count": 60,
          "nan_count": 0,
          "min": "0.09835230290069308",
          "max": "1.0",
          "histogram": [
           {
            "bin_start": 0.09835230290069308,
            "bin_end": 0.18851707261062378,
            "count": 20
           },
           {
            "bin_start": 0.18851707261062378,
            "bin_end": 0.2786818423205545,
            "count": 21
           },
           {
            "bin_start": 0.2786818423205545,
            "bin_end": 0.36884661203048513,
            "count": 8
           },
           {
            "bin_start": 0.36884661203048513,
            "bin_end": 0.45901138174041584,
            "count": 7
           },
           {
            "bin_start": 0.45901138174041584,
            "bin_end": 0.5491761514503466,
            "count": 2
           },
           {
            "bin_start": 0.5491761514503466,
            "bin_end": 0.6393409211602772,
            "count": 1
           },
           {
            "bin_start": 0.6393409211602772,
            "bin_end": 0.7295056908702079,
            "count": 0
           },
           {
            "bin_start": 0.7295056908702079,
            "bin_end": 0.8196704605801386,
            "count": 0
           },
           {
            "bin_start": 0.8196704605801386,
            "bin_end": 0.9098352302900693,
            "count": 0
           },
           {
            "bin_start": 0.9098352302900693,
            "bin_end": 1,
            "count": 1
           }
          ]
         }
        },
        {
         "name": "9",
         "dtype": "float64",
         "stats": {
          "unique_count": 60,
          "nan_count": 0,
          "min": "0.021873945483859014",
          "max": "1.0",
          "histogram": [
           {
            "bin_start": 0.021873945483859014,
            "bin_end": 0.11968655093547312,
            "count": 9
           },
           {
            "bin_start": 0.11968655093547312,
            "bin_end": 0.21749915638708722,
            "count": 18
           },
           {
            "bin_start": 0.21749915638708722,
            "bin_end": 0.31531176183870135,
            "count": 22
           },
           {
            "bin_start": 0.31531176183870135,
            "bin_end": 0.41312436729031543,
            "count": 6
           },
           {
            "bin_start": 0.41312436729031543,
            "bin_end": 0.5109369727419295,
            "count": 3
           },
           {
            "bin_start": 0.5109369727419295,
            "bin_end": 0.6087495781935437,
            "count": 1
           },
           {
            "bin_start": 0.6087495781935437,
            "bin_end": 0.7065621836451578,
            "count": 0
           },
           {
            "bin_start": 0.7065621836451578,
            "bin_end": 0.8043747890967718,
            "count": 0
           },
           {
            "bin_start": 0.8043747890967718,
            "bin_end": 0.9021873945483859,
            "count": 0
           },
           {
            "bin_start": 0.9021873945483859,
            "bin_end": 1,
            "count": 1
           }
          ]
         }
        },
        {
         "name": "_deepnote_index_column",
         "dtype": "object"
        }
       ],
       "rows_top": [
        {
         "1": 1,
         "2": 0.4253274839347504,
         "3": 0.7114356772120614,
         "4": 0.43142146564508166,
         "5": 0.43716015818091947,
         "6": 0.188952051408799,
         "7": 0.2902017424616906,
         "8": 0.43020884824518046,
         "9": 0.269764891250618,
         "10": 0.1480629016312408,
         "11": 0.34235973801285224,
         "12": 0.16879325259515565,
         "13": 0.23021966139396943,
         "14": 0.3883387913989126,
         "15": 0.24505684626791913,
         "16": 0.2671774592189817,
         "17": 0.23428231586752346,
         "18": 0.19629726890756305,
         "19": 0.20996817844784976,
         "20": 0.21135071675729122,
         "21": 0.3162382600098863,
         "22": 0.25559194265941676,
         "23": 0.16397367770637672,
         "24": 0.11605598121601601,
         "25": 0.13752780523974306,
         "26": 0.15781018289668813,
         "27": 0.12601180177953542,
         "28": 0.13276229609490853,
         "29": 0.3464841819080574,
         "30": 0.1348785837864559,
         "31": 0.25303540533860613,
         "32": 0.303826309935739,
         "33": 0.13459280771131987,
         "34": 0.17988445378151263,
         "35": 0.2973847627286209,
         "36": 0.3238229115175483,
         "37": 0.2127950444883836,
         "38": 0.42871817844784976,
         "39": 0.2254618759268413,
         "40": 0.1078611591695503,
         "41": 0.193671218487395,
         "42": 0.2835362086010875,
         "43": 0.148603559070687,
         "44": 0.18144463667820077,
         "45": 0.17067782995551162,
         "46": 0.13910343549184379,
         "47": 0.21746786950074148,
         "48": 0.31605289174493334,
         "49": 0.18708292140385585,
         "50": 0.20002780523974306,
         "51": 0.20106277805239736,
         "52": 0,
         "53": 0.09845371972318329,
         "54": 0.15335362086010873,
         "55": 0.34757322046465655,
         "56": 0.09103126544735551,
         "57": 0.38973677706376664,
         "58": 0.08089007661888281,
         "59": 0.04968641868512125,
         "60": 0.1225129757785467,
         "_deepnote_index_column": "1"
        },
        {
         "1": 0.1480629016312408,
         "2": 0.1900746149700555,
         "3": 0.1748100468336078,
         "4": 0.16154178969660637,
         "5": 0.2588600532855636,
         "6": 0.3291635988249849,
         "7": 0.19846215738217587,
         "8": 0.2668149351388689,
         "9": 0.3116218698526678,
         "10": 1,
         "11": 0.2428895652899965,
         "12": 0.30101789089363384,
         "13": 0.1867575506858049,
         "14": 0.31444554928914625,
         "15": 0.08169694025489016,
         "16": 0.17823337862353217,
         "17": 0.3035910826381668,
         "18": 0.35510046074554247,
         "19": 0.3853107945014156,
         "20": 0.22374623319645093,
         "21": 0.17325398692909688,
         "22": 0.06876266670714948,
         "23": 0.18436653180814166,
         "24": 0.11961925870824264,
         "25": 0.15099853502652893,
         "26": 0.2603022551482811,
         "27": 0.04932330370494076,
         "28": 0,
         "29": 0.25852606969630265,
         "30": 0.1715461163021944,
         "31": 0.20242441723658944,
         "32": 0.20728236035311176,
         "33": 0.06199190848849678,
         "34": 0.14717290482226753,
         "35": 0.183432895865435,
         "36": 0.23912465937469174,
         "37": 0.09432000182172873,
         "38": 0.1716523838078685,
         "39": 0.14529804240073485,
         "40": 0.05887219814335487,
         "41": 0.08695718178574963,
         "42": 0.24090084482666996,
         "43": 0.04873883242373411,
         "44": 0.13824643434565786,
         "45": 0.0957394320760876,
         "46": 0.13200701365537448,
         "47": 0.11063206394267622,
         "48": 0.11949781013032945,
         "49": 0.3027788952733732,
         "50": 0.10282899281176239,
         "51": 0.28454642751417525,
         "52": 0.042894119611668224,
         "53": 0.051873723841114994,
         "54": 0.18640838602430487,
         "55": 0.16022103641180174,
         "56": 0.048845099929408,
         "57": 0.13692568106085334,
         "58": 0.20336564371541554,
         "59": 0.07230744707498682,
         "60": 0.14345354212368022,
         "_deepnote_index_column": "10"
        },
        {
         "1": 0.34235973801285224,
         "2": 0.09336015133012476,
         "3": 0.13038654630494306,
         "4": 0.2220625912889399,
         "5": 0.15414761072400607,
         "6": 0.21174245145224246,
         "7": 0.19971426062942488,
         "8": 0.35141951807421246,
         "9": 0.13231808059765826,
         "10": 0.2428895652899965,
         "11": 1,
         "12": 0.19766300313674778,
         "13": 0.10310561980700605,
         "14": 0.369880835508305,
         "15": 0.2749243748453577,
         "16": 0.2673578686077789,
         "17": 0.16462738149398592,
         "18": 0.08485980413284488,
         "19": 0.21645954553073288,
         "20": 0.4909529168562283,
         "21": 0.19237921924510526,
         "22": 0.20487832132110562,
         "23": 0.16420435952078805,
         "24": 0.15836186736265767,
         "25": 0.10257085618051065,
         "26": 0.13979678982193167,
         "27": 0.0958264492493357,
         "28": 0.15714069072304826,
         "29": 0.34980724564806165,
         "30": 0.14084237243493036,
         "31": 0.2322470448323477,
         "32": 0.2964506061984691,
         "33": 0.1563505176033012,
         "34": 0.3454014318894716,
         "35": 0.0026658365858136523,
         "36": 0.46140523110568354,
         "37": 0.11070405223124136,
         "38": 0.19372810063134038,
         "39": 0.25164220322614106,
         "40": 0.15896048336246615,
         "41": 0.05012411305062692,
         "42": 0.10563577009952996,
         "43": 0.11202100743082,
         "44": 0.10274645020712114,
         "45": 0.1652100344004661,
         "46": 0.3035781273695216,
         "47": 0.07409269768295701,
         "48": 0.1439631571805985,
         "49": 0.17181875503835142,
         "50": 0.04189513843992698,
         "51": 0.07291142877666823,
         "52": 0.35141951807421234,
         "53": 0.0424139389730942,
         "54": 0.1008228974610701,
         "55": 0.12261251985409738,
         "56": 0.054921022595758595,
         "57": 0.2194526255297753,
         "58": 0.041919083079919206,
         "59": 0,
         "60": 0.06852157811140636,
         "_deepnote_index_column": "11"
        },
        {
         "1": 0.16879325259515565,
         "2": 0.23144237028962467,
         "3": 0.3391091732146373,
         "4": 0.14486533133487778,
         "5": 0.12553935595221877,
         "6": 0.23566637901015886,
         "7": 0.10763652329260731,
         "8": 0.28362931674009484,
         "9": 0.31526396269549284,
         "10": 0.30101789089363384,
         "11": 0.19766300313674778,
         "12": 1,
         "13": 0.2933263690178801,
         "14": 0.4304174047327066,
         "15": 0.12258709179270566,
         "16": 0.19525820956533602,
         "17": 0.3794265037622443,
         "18": 0.3017743864589485,
         "19": 0.21522005722850523,
         "20": 0.3883817050461008,
         "21": 0.13795400523837653,
         "22": 0.08741729875399329,
         "23": 0.22505336785211427,
         "24": 0.15855929509015776,
         "25": 0.30789844211291273,
         "26": 0.23917881636916927,
         "27": 0.1481506714508486,
         "28": 0.08472998137802612,
         "29": 0.2496707089975927,
         "30": 0.20195757823500016,
         "31": 0.16383552103677468,
         "32": 0.36032005571452363,
         "33": 0.09257997607909041,
         "34": 0.26146462581944263,
         "35": 0.138567167794583,
         "36": 0.27297088613344234,
         "37": 0.04132412832508214,
         "38": 0.3922196484534678,
         "39": 0.1318450894006148,
         "40": 0.12660671299450443,
         "41": 0.06380675538598968,
         "42": 0.10384399933384814,
         "43": 0.19185175091974382,
         "44": 0.12220859638763992,
         "45": 0.15930114608408663,
         "46": 0.12142132594510313,
         "47": 0.20770313848389876,
         "48": 0.28659672071581066,
         "49": 0.42903211155016574,
         "50": 0.05262600112034643,
         "51": 0.22367564457767486,
         "52": 0,
         "53": 0.0390834355270927,
         "54": 0.2268322962559235,
         "55": 0.11778020014837032,
         "56": 0.06429879941257521,
         "57": 0.12069461476737675,
         "58": 0.0961605426110127,
         "59": 0.030786816248050686,
         "60": 0.15571300964406298,
         "_deepnote_index_column": "12"
        },
        {
         "1": 0.23021966139396943,
         "2": 0.4271724053835718,
         "3": 0.39887512003292347,
         "4": 0.47732711448473497,
         "5": 0.21731674973707082,
         "6": 0.3974042404011767,
         "7": 0.3020714253052267,
         "8": 0.42743152407517493,
         "9": 0.471900864237048,
         "10": 0.1867575506858049,
         "11": 0.10310561980700605,
         "12": 0.2933263690178801,
         "13": 1,
         "14": 0.265291813373573,
         "15": 0.1751718566616367,
         "16": 0.16689530080631632,
         "17": 0.42935967198622105,
         "18": 0.4740805097017087,
         "19": 0.2289999542731721,
         "20": 0.38336610422668316,
         "21": 0.2747648878930603,
         "22": 0.218261770847623,
         "23": 0.18671025957596,
         "24": 0.1740591705153416,
         "25": 0.14947337936500682,
         "26": 0.3623012788269544,
         "27": 0.050924444037983796,
         "28": 0.08040300577682269,
         "29": 0.25019433901870236,
         "30": 0.1422256771381103,
         "31": 0.24913500083832518,
         "32": 0.16303138384623594,
         "33": 0.13709665127196802,
         "34": 0.12359199475665728,
         "35": 0.21500754492660845,
         "36": 0.21294221653177248,
         "37": 0,
         "38": 0.1428048836252228,
         "39": 0.1270748548173215,
         "40": 0.004069687685765322,
         "41": 0.09892237108845103,
         "42": 0.16488332037739883,
         "43": 0.15302482966756592,
         "44": 0.390316582072035,
         "45": 0.1776258630938773,
         "46": 0.1519426280732239,
         "47": 0.30012803511820396,
         "48": 0.3096087307756795,
         "49": 0.38234487173624776,
         "50": 0.21789595622418345,
         "51": 0.1672763577057328,
         "52": 0.01756672306308782,
         "53": 0.09157559406770643,
         "54": 0.21875714481686404,
         "55": 0.23085951194232335,
         "56": 0.114355175514808,
         "57": 0.16666666666666674,
         "58": 0.0977944426661791,
         "59": 0.05089395948603048,
         "60": 0.17471458838233722,
         "_deepnote_index_column": "13"
        },
        {
         "1": 0.3883387913989126,
         "2": 0.26010404752241467,
         "3": 0.2311994982105302,
         "4": 0.35068442607829386,
         "5": 0.3575840312880493,
         "6": 0.21873593329151764,
         "7": 0.28278050400324695,
         "8": 0.5860015496439508,
         "9": 0.4092019333653102,
         "10": 0.31444554928914625,
         "11": 0.369880835508305,
         "12": 0.4304174047327066,
         "13": 0.265291813373573,
         "14": 1,
         "15": 0.27436077187027264,
         "16": 0.3093384496181234,
         "17": 0.487141644836365,
         "18": 0.4043168652916651,
         "19": 0.2313618418625244,
         "20": 0.23454230159022993,
         "21": 0.31776556100800646,
         "22": 0.20886248754750403,
         "23": 0.23043943474892092,
         "24": 0.1239862745821495,
         "25": 0.48235250710253486,
         "26": 0.21286204479208948,
         "27": 0.16685237796553887,
         "28": 0.12781610891783213,
         "29": 0.35054422019702636,
         "30": 0.1579234771058553,
         "31": 0.32532929933955657,
         "32": 0.3290041692801535,
         "33": 0.1382429989300078,
         "34": 0.26671586171272554,
         "35": 0.2419141792421503,
         "36": 0.4598162565029702,
         "37": 0.15085414898719696,
         "38": 0.55323026971184,
         "39": 0.2660000737925692,
         "40": 0.3302881599822899,
         "41": 0.06394126111500587,
         "42": 0.1509943548684649,
         "43": 0.18070324318341147,
         "44": 0.12239235508984248,
         "45": 0.15528908238940353,
         "46": 0.126864184776593,
         "47": 0.20275246282699333,
         "48": 0.1540493672287202,
         "49": 0.3324945577980297,
         "50": 0.11997195882374634,
         "51": 0.2574622735490536,
         "52": 0,
         "53": 0.05930708777626115,
         "54": 0.29504482898572115,
         "55": 0.18075489798177335,
         "56": 0.06509980444969199,
         "57": 0.2334354130539057,
         "58": 0.09518503486698893,
         "59": 0.04172969781942959,
         "60": 0.21762904475519307,
         "_deepnote_index_column": "14"
        },
        {
         "1": 0.24505684626791913,
         "2": 0.19667136013827113,
         "3": 0.21215981643311066,
         "4": 0.30048648205678374,
         "5": 0.182844243792325,
         "6": 0.18352963964568025,
         "7": 0.4387874453359558,
         "8": 0.2619180653957044,
         "9": 0.15101058638595255,
         "10": 0.08169694025489016,
         "11": 0.2749243748453577,
         "12": 0.12258709179270566,
         "13": 0.1751718566616367,
         "14": 0.27436077187027264,
         "15": 1,
         "16": 0.39463156247904707,
         "17": 0.20655745032742556,
         "18": 0.16039752959494613,
         "19": 0.1812127036631429,
         "20": 0.328163064613459,
         "21": 0.11713564132936993,
         "22": 0.15948118513882992,
         "23": 0.0908075006146214,
         "24": 0.0953072733909961,
         "25": 0.2198407199636443,
         "26": 0.15203123021105724,
         "27": 0.059152642126515276,
         "28": 0.060210535726258896,
         "29": 0.18183104992214805,
         "30": 0.08801376751670664,
         "31": 0.19214923749711332,
         "32": 0.21749398416139587,
         "33": 0.17891066759046115,
         "34": 0.10068614084884786,
         "35": 0,
         "36": 0.1600175818936297,
         "37": 0.056902755738327926,
         "38": 0.1494609957609755,
         "39": 0.1442162274918236,
         "40": 0.026149341796482206,
         "41": 0.14174284245580326,
         "42": 0.19322948096164017,
         "43": 0.18157775145460364,
         "44": 0.1844087343271572,
         "45": 0.23980659917007507,
         "46": 0.2790529617295816,
         "47": 0.15153953318582425,
         "48": 0.22465339084698532,
         "49": 0.2425481825834953,
         "50": 0.14277838619076366,
         "51": 0.1375932175610337,
         "52": 0.1264182851693747,
         "53": 0.12968881538266697,
         "54": 0.17035066937845034,
         "55": 0.2046949615954824,
         "56": 0.14264428700206366,
         "57": 0.3366709131409755,
         "58": 0.1272303302565021,
         "59": 0.08403549158527579,
         "60": 0.09813825626354955,
         "_deepnote_index_column": "15"
        },
        {
         "1": 0.2671774592189817,
         "2": 0.06700602854330717,
         "3": 0.1342196727362206,
         "4": 0.22081846702755925,
         "5": 0.3241264763779528,
         "6": 0.15749569389763807,
         "7": 0.31060070127952755,
         "8": 0.24920029527559062,
         "9": 0.0830231914370082,
         "10": 0.17823337862353217,
         "11": 0.2673578686077789,
         "12": 0.19525820956533602,
         "13": 0.16689530080631632,
         "14": 0.3093384496181234,
         "15": 0.39463156247904707,
         "16": 1,
         "17": 0.14618448572834652,
         "18": 0.1549197219488191,
         "19": 0.09003598671259849,
         "20": 0.17701156496062997,
         "21": 0.11341966043307106,
         "22": 0.20151021161417326,
         "23": 0.16087906003937025,
         "24": 0.05236528051181111,
         "25": 0.178472563976378,
         "26": 0.04047736220472442,
         "27": 0.1244386687992125,
         "28": 0.07144285187007893,
         "29": 0.16875307578740184,
         "30": 0.04945097194881898,
         "31": 0.17349747785433078,
         "32": 0.3181363804133859,
         "33": 0.13301242618110243,
         "34": 0.08687561515748043,
         "35": 0.03225732037401574,
         "36": 0.15585014763779537,
         "37": 0.16287063238188992,
         "38": 0.22246401328740173,
         "39": 0.21114511564960636,
         "40": 0.10673751230314976,
         "41": 0.033718319389763884,
         "42": 0.08164677657480313,
         "43": 0.12623031496062997,
         "44": 0.07697157972440949,
         "45": 0.11415784940944895,
         "46": 0.1464843750000001,
         "47": 0.1677073080708662,
         "48": 0.11283526082677164,
         "49": 0.16015625,
         "50": 0.004952017716535528,
         "51": 0.13773375984251968,
         "52": 0.042538139763779514,
         "53": 0.09724870816929143,
         "54": 0.0669675812007875,
         "55": 0.07513379675196863,
         "56": 0.01642470472440971,
         "57": 0.22031865157480313,
         "58": 0.00960414616141736,
         "59": 0.010788324311023612,
         "60": 0,
         "_deepnote_index_column": "16"
        }
       ],
       "rows_bottom": [
        {
         "1": 0.38973677706376664,
         "2": 0.25282341054522317,
         "3": 0.2862384134860153,
         "4": 0.41895389865802857,
         "5": 0.23606987294458104,
         "6": 0.13572239077425718,
         "7": 0.1788654525555079,
         "8": 0.20147109712621014,
         "9": 0.13297816692284758,
         "10": 0.13692568106085334,
         "11": 0.2194526255297753,
         "12": 0.12069461476737675,
         "13": 0.16666666666666674,
         "14": 0.2334354130539057,
         "15": 0.3366709131409755,
         "16": 0.22031865157480313,
         "17": 0.19928428505464058,
         "18": 0.17517420066997302,
         "19": 0.19562310304414454,
         "20": 0.21674267048948592,
         "21": 0.2741768098919575,
         "22": 0.1468867264516951,
         "23": 0.18753956407230532,
         "24": 0.1967126433308657,
         "25": 0.22242160264973942,
         "26": 0.3292737899682927,
         "27": 0.1301395672916269,
         "28": 0.09655289048368365,
         "29": 0.33465107246126624,
         "30": 0.1788974465986264,
         "31": 0.32198778641196735,
         "32": 0.2707243527804617,
         "33": 0.2430566716412198,
         "34": 0.2260035921718645,
         "35": 0.2498644577279684,
         "36": 0.2087953300286981,
         "37": 0.20039743541674482,
         "38": 0.30034338152592477,
         "39": 0.20252248776135262,
         "40": 0.10717929557832429,
         "41": 0.4568609981462587,
         "42": 0.40567444207435943,
         "43": 0.2438083253102471,
         "44": 0.2411327935524793,
         "45": 0.2630739484038913,
         "46": 0.27476313522825146,
         "47": 0.2635664151934841,
         "48": 0.7657384646383236,
         "49": 0.20816804109665887,
         "50": 0.3345167851316291,
         "51": 0.46405953251897347,
         "52": 0.3097158073172238,
         "53": 0.30127710085235404,
         "54": 0.36186149122942346,
         "55": 0.3000392649599497,
         "56": 0.2465479214738573,
         "57": 1,
         "58": 0.2581823741962481,
         "59": 0.3381591971736908,
         "60": 0.2953380384835145,
         "_deepnote_index_column": "57"
        },
        {
         "1": 0.08089007661888281,
         "2": 0.10786214122665871,
         "3": 0.07977016881762988,
         "4": 0.13072651550208225,
         "5": 0.03079925846659326,
         "6": 0.1726293878040015,
         "7": 0.13536300467233753,
         "8": 0.10088205343237078,
         "9": 0.10664011021924047,
         "10": 0.20336564371541554,
         "11": 0.041919083079919206,
         "12": 0.0961605426110127,
         "13": 0.0977944426661791,
         "14": 0.09518503486698893,
         "15": 0.1272303302565021,
         "16": 0.00960414616141736,
         "17": 0.15330152378020623,
         "18": 0.22637271661058023,
         "19": 0.2730714908194848,
         "20": 0.13990560085614112,
         "21": 0.10389129787696194,
         "22": 0.051238631304458604,
         "23": 0.10495713403721552,
         "24": 0.11656066351426897,
         "25": 0.22168644221876155,
         "26": 0.3188447874087941,
         "27": 0.050458943895797304,
         "28": 0.042000617656141936,
         "29": 0.10582193258814887,
         "30": 0.30283416170277344,
         "31": 0.07081884287069251,
         "32": 0.23118315396661449,
         "33": 0.13420579344124262,
         "34": 0.13597381291160315,
         "35": 0.22132165725305575,
         "36": 0.12505707018001555,
         "37": 0.25717070975966405,
         "38": 0.18452474060169965,
         "39": 0.1317915450840429,
         "40": 0.109083332135826,
         "41": 0.2466625472416617,
         "42": 0.26341582758014337,
         "43": 0.23755410845191072,
         "44": 0.3419126152009253,
         "45": 0.19973366837951512,
         "46": 0.17602906795793227,
         "47": 0.282460683856923,
         "48": 0.2638081805359661,
         "49": 0.18528758845639082,
         "50": 0.23475467331699496,
         "51": 0.5088493286333976,
         "52": 0.23184248272264962,
         "53": 0.2022767576225617,
         "54": 0.36074299202394366,
         "55": 0.3067535731113553,
         "56": 0.24352712529389064,
         "57": 0.2581823741962481,
         "58": 1,
         "59": 0.32917515274949083,
         "60": 0.30734844854438725,
         "_deepnote_index_column": "58"
        },
        {
         "1": 0.04968641868512125,
         "2": 0.11111027953448338,
         "3": 0.0621691732057571,
         "4": 0.09665664044423872,
         "5": 0.023851150733243842,
         "6": 0.1501083633545276,
         "7": 0.0632095646807227,
         "8": 0.09835230290069308,
         "9": 0.13969543438634768,
         "10": 0.07230744707498682,
         "11": 0,
         "12": 0.030786816248050686,
         "13": 0.05089395948603048,
         "14": 0.04172969781942959,
         "15": 0.08403549158527579,
         "16": 0.010788324311023612,
         "17": 0.1645220871171309,
         "18": 0.05799023403064696,
         "19": 0.28784145205397127,
         "20": 0.0908531861707651,
         "21": 0.14030232576848511,
         "22": 0.010486230363162208,
         "23": 0.11596083059152673,
         "24": 0.09826567763962935,
         "25": 0.09583962435673454,
         "26": 0.21981128471558997,
         "27": 0.009264196688209658,
         "28": 0.0051030162208268726,
         "29": 0.05601829873548836,
         "30": 0.15688431915620127,
         "31": 0.039436244737674264,
         "32": 0.13135974411088513,
         "33": 0.09450120537251738,
         "34": 0.061424583829006285,
         "35": 0.0756634708429701,
         "36": 0.07072625880511363,
         "37": 0.07761988676840015,
         "38": 0.0692200546728936,
         "39": 0.07976623982122344,
         "40": 0.03289312966129698,
         "41": 0.329649800974292,
         "42": 0.2868873139292185,
         "43": 0.3755865697326227,
         "44": 0.21869333233834543,
         "45": 0.1552547830601052,
         "46": 0.3444726727900461,
         "47": 0.3079683218856736,
         "48": 0.34385653838404173,
         "49": 0.2579921300859921,
         "50": 0.19558577270538513,
         "51": 0.4036180637151663,
         "52": 0.36838673813233047,
         "53": 0.3100509124191979,
         "54": 0.37971890957898147,
         "55": 0.3800691063295115,
         "56": 0.22164637031321643,
         "57": 0.3381591971736908,
         "58": 0.32917515274949083,
         "59": 1,
         "60": 0.2931479913309316,
         "_deepnote_index_column": "59"
        },
        {
         "1": 0.188952051408799,
         "2": 0.41331437338622157,
         "3": 0.2381225604680669,
         "4": 0.3823678273947245,
         "5": 0.09061176506051338,
         "6": 1,
         "7": 0.29869751819369295,
         "8": 0.22733345773465197,
         "9": 0.38438514648255284,
         "10": 0.3291635988249849,
         "11": 0.21174245145224246,
         "12": 0.23566637901015886,
         "13": 0.3974042404011767,
         "14": 0.21873593329151764,
         "15": 0.18352963964568025,
         "16": 0.15749569389763807,
         "17": 0.39805294751423725,
         "18": 0.3783278268801792,
         "19": 0.5896039306427863,
         "20": 0.4000463210688986,
         "21": 0.16993153825732277,
         "22": 0.21910576861922026,
         "23": 0.24840376063833935,
         "24": 0.1941443959331045,
         "25": 0.08911251116574315,
         "26": 0.42671811131909687,
         "27": 0.0997234249799146,
         "28": 0.07261136193179318,
         "29": 0.28495101635665265,
         "30": 0.1918275979815608,
         "31": 0.2335807111835866,
         "32": 0.16008896145003815,
         "33": 0.14333601193892764,
         "34": 0.10254795393933736,
         "35": 0.23224053091393226,
         "36": 0.1252935037829377,
         "37": 0.04995688200667403,
         "38": 0.1006904873634108,
         "39": 0.13569022757051785,
         "40": 0.03738378191955616,
         "41": 0.25424276825360326,
         "42": 0.25450889546396327,
         "43": 0.14528735283638217,
         "44": 0.3968881758143352,
         "45": 0.19746909725618245,
         "46": 0.20778233774129795,
         "47": 0.27027737116691064,
         "48": 0.2075277050171267,
         "49": 0.2172881654765625,
         "50": 0.2179300134396045,
         "51": 0.2263876264585688,
         "52": 0.13836292386985194,
         "53": 0.1668883359075568,
         "54": 0.2722272790385536,
         "55": 0.29647400659651313,
         "56": 0.1846761924865883,
         "57": 0.13572239077425718,
         "58": 0.1726293878040015,
         "59": 0.1501083633545276,
         "60": 0.2120470236984513,
         "_deepnote_index_column": "6"
        },
        {
         "1": 0.1225129757785467,
         "2": 0.27208771470269055,
         "3": 0.14095342766863594,
         "4": 0.17656033086534018,
         "5": 0.14459901430315447,
         "6": 0.2120470236984513,
         "7": 0.19516665090943464,
         "8": 0.16672363512068822,
         "9": 0.2719504301724326,
         "10": 0.14345354212368022,
         "11": 0.06852157811140636,
         "12": 0.15571300964406298,
         "13": 0.17471458838233722,
         "14": 0.21762904475519307,
         "15": 0.09813825626354955,
         "16": 0,
         "17": 0.3526473757118669,
         "18": 0.32172506573248605,
         "19": 0.17619527000631074,
         "20": 0.10343175229409085,
         "21": 0.10441421365534209,
         "22": 0.04832093112001523,
         "23": 0.2157677969943026,
         "24": 0.1888417204236097,
         "25": 0.2755586824027888,
         "26": 0.26723459525537674,
         "27": 0.022367738128248327,
         "28": 0.04666980396770548,
         "29": 0.0906909498942643,
         "30": 0.19964335850058812,
         "31": 0.12810123633459236,
         "32": 0.19262486255955735,
         "33": 0.24395974438449453,
         "34": 0.2188192484430035,
         "35": 0.2489585549478076,
         "36": 0.10098160709626935,
         "37": 0.159604064339545,
         "38": 0.24537254288544752,
         "39": 0.08745910402649504,
         "40": 0.10874563508600499,
         "41": 0.33010245872192445,
         "42": 0.34778320603683577,
         "43": 0.16430017208572456,
         "44": 0.2744897578448565,
         "45": 0.17530488951751844,
         "46": 0.16470153953054067,
         "47": 0.3024809518447623,
         "48": 0.2960064477130767,
         "49": 0.29943339824810244,
         "50": 0.4190066191848556,
         "51": 0.3807465212346939,
         "52": 0.3654837314959063,
         "53": 0.22415050626394373,
         "54": 0.5298986408306208,
         "55": 0.3473142767394377,
         "56": 0.3078810024675901,
         "57": 0.2953380384835145,
         "58": 0.30734844854438725,
         "59": 0.2931479913309316,
         "60": 1,
         "_deepnote_index_column": "60"
        },
        {
         "1": 0.2902017424616906,
         "2": 0.2499270291509188,
         "3": 0.22001244514841245,
         "4": 0.31083699676075893,
         "5": 0.3000572729053942,
         "6": 0.29869751819369295,
         "7": 1,
         "8": 0.3881397531220676,
         "9": 0.2975961885512165,
         "10": 0.19846215738217587,
         "11": 0.19971426062942488,
         "12": 0.10763652329260731,
         "13": 0.3020714253052267,
         "14": 0.28278050400324695,
         "15": 0.4387874453359558,
         "16": 0.31060070127952755,
         "17": 0.25673387717408025,
         "18": 0.29942584685672236,
         "19": 0.28068936502689545,
         "20": 0.22836286967008224,
         "21": 0,
         "22": 0.037627997201551855,
         "23": 0,
         "24": 0.04972580182194486,
         "25": 0,
         "26": 0.23260113840394236,
         "27": 0.02082489032982826,
         "28": 0.01425020956190537,
         "29": 0.07732078891718097,
         "30": 0.04124141594263364,
         "31": 0.10755944556300645,
         "32": 0.15071802219038422,
         "33": 0.1282363295450195,
         "34": 0,
         "35": 0.2733149865144018,
         "36": 0.11282774589094724,
         "37": 0.12223763638408758,
         "38": 0.21466186975337598,
         "39": 0.10856022057700498,
         "40": 0.004655908261362973,
         "41": 0.1136386497866041,
         "42": 0.11873361009809102,
         "43": 0.16492938420601766,
         "44": 0.17763516286705716,
         "45": 0.14106547695178195,
         "46": 0.1606265245116134,
         "47": 0.15736966557820053,
         "48": 0.110078581503123,
         "49": 0.1850471633848645,
         "50": 0.24221473181880238,
         "51": 0.22463623532193833,
         "52": 0.07263693200925114,
         "53": 0.2608546421829414,
         "54": 0.18824727317607493,
         "55": 0.15530076959321493,
         "56": 0.10834103697017772,
         "57": 0.1788654525555079,
         "58": 0.13536300467233753,
         "59": 0.0632095646807227,
         "60": 0.19516665090943464,
         "_deepnote_index_column": "7"
        },
        {
         "1": 0.43020884824518046,
         "2": 0.3026830819892976,
         "3": 0.19917086219018454,
         "4": 0.41853453262378526,
         "5": 0.3438635096233553,
         "6": 0.22733345773465197,
         "7": 0.3881397531220676,
         "8": 1,
         "9": 0.5354071123052455,
         "10": 0.2668149351388689,
         "11": 0.35141951807421246,
         "12": 0.28362931674009484,
         "13": 0.42743152407517493,
         "14": 0.5860015496439508,
         "15": 0.2619180653957044,
         "16": 0.24920029527559062,
         "17": 0.4601585347083268,
         "18": 0.4349612504120258,
         "19": 0.23266069657721555,
         "20": 0.2034213699855446,
         "21": 0.27977603114969063,
         "22": 0.21840615658589335,
         "23": 0.20618645326164253,
         "24": 0.13555814058888405,
         "25": 0.18618530785831167,
         "26": 0.2287275088818429,
         "27": 0.24399746887642293,
         "28": 0.18577479080574721,
         "29": 0.25976436062319275,
         "30": 0.15730166559168346,
         "31": 0.258756676705992,
         "32": 0.1526255289374603,
         "33": 0.15304021734971085,
         "34": 0.27433463180238393,
         "35": 0.3206758583771987,
         "36": 0.42494456039655626,
         "37": 0.15249521952682699,
         "38": 0.4013169165679723,
         "39": 0.17953231887203502,
         "40": 0.1769460690626392,
         "41": 0.1286338358073834,
         "42": 0.15386438526877522,
         "43": 0.29843606674197,
         "44": 0.15849408604156556,
         "45": 0.19805592964030194,
         "46": 0.2059004480345109,
         "47": 0.2436737604624104,
         "48": 0.11817852105581295,
         "49": 0.2148839147612981,
         "50": 0.23144148741204962,
         "51": 0.18832997095794457,
         "52": 0.11110348566683359,
         "53": 0.14157513872204108,
         "54": 0.18214566716549174,
         "55": 0.2797471336579235,
         "56": 0.20993441596727336,
         "57": 0.20147109712621014,
         "58": 0.10088205343237078,
         "59": 0.09835230290069308,
         "60": 0.16672363512068822,
         "_deepnote_index_column": "8"
        },
        {
         "1": 0.269764891250618,
         "2": 0.488343374621113,
         "3": 0.3101185521605263,
         "4": 0.3538726284127719,
         "5": 0.24480399101719696,
         "6": 0.38438514648255284,
         "7": 0.2975961885512165,
         "8": 0.5354071123052455,
         "9": 1,
         "10": 0.3116218698526678,
         "11": 0.13231808059765826,
         "12": 0.31526396269549284,
         "13": 0.471900864237048,
         "14": 0.4092019333653102,
         "15": 0.15101058638595255,
         "16": 0.0830231914370082,
         "17": 0.5060643373864859,
         "18": 0.3413413259948027,
         "19": 0.23125582233975406,
         "20": 0.24631627706388337,
         "21": 0.24079869351503969,
         "22": 0.09024200216243727,
         "23": 0.21368115851418834,
         "24": 0.1505521731905186,
         "25": 0.123032655352047,
         "26": 0.3014096344118883,
         "27": 0.16957816977013696,
         "28": 0.08104530948984545,
         "29": 0.19527858098485185,
         "30": 0.20065257806275372,
         "31": 0.1961661979799325,
         "32": 0.09494219171692242,
         "33": 0.10523093406803663,
         "34": 0.22543599791622926,
         "35": 0.3028117300684231,
         "36": 0.23929526480563523,
         "37": 0.021873945483859014,
         "38": 0.24673564091677647,
         "39": 0.0964381315262739,
         "40": 0.11805026656511808,
         "41": 0.25144778628806275,
         "42": 0.26714680000305824,
         "43": 0.14142869055651164,
         "44": 0.30086937054587504,
         "45": 0.18804216164975163,
         "46": 0.1909394248655535,
         "47": 0.28139473782982405,
         "48": 0.20563368930082604,
         "49": 0.26089325928241125,
         "50": 0.2879525086063778,
         "51": 0.19288949978199998,
         "52": 0.12377926168923425,
         "53": 0.14508609347291346,
         "54": 0.33985405513815403,
         "55": 0.3242814512329196,
         "56": 0.3115569110721279,
         "57": 0.13297816692284758,
         "58": 0.10664011021924047,
         "59": 0.13969543438634768,
         "60": 0.2719504301724326,
         "_deepnote_index_column": "9"
        }
       ]
      },
      "text/plain": "           1        10        11        12        13        14        15  \\\n1   1.000000  0.148063  0.342360  0.168793  0.230220  0.388339  0.245057   \n10  0.148063  1.000000  0.242890  0.301018  0.186758  0.314446  0.081697   \n11  0.342360  0.242890  1.000000  0.197663  0.103106  0.369881  0.274924   \n12  0.168793  0.301018  0.197663  1.000000  0.293326  0.430417  0.122587   \n13  0.230220  0.186758  0.103106  0.293326  1.000000  0.265292  0.175172   \n14  0.388339  0.314446  0.369881  0.430417  0.265292  1.000000  0.274361   \n15  0.245057  0.081697  0.274924  0.122587  0.175172  0.274361  1.000000   \n16  0.267177  0.178233  0.267358  0.195258  0.166895  0.309338  0.394632   \n17  0.234282  0.303591  0.164627  0.379427  0.429360  0.487142  0.206557   \n18  0.196297  0.355100  0.084860  0.301774  0.474081  0.404317  0.160398   \n19  0.209968  0.385311  0.216460  0.215220  0.229000  0.231362  0.181213   \n2   0.425327  0.190075  0.093360  0.231442  0.427172  0.260104  0.196671   \n20  0.211351  0.223746  0.490953  0.388382  0.383366  0.234542  0.328163   \n21  0.316238  0.173254  0.192379  0.137954  0.274765  0.317766  0.117136   \n22  0.255592  0.068763  0.204878  0.087417  0.218262  0.208862  0.159481   \n23  0.163974  0.184367  0.164204  0.225053  0.186710  0.230439  0.090808   \n24  0.116056  0.119619  0.158362  0.158559  0.174059  0.123986  0.095307   \n25  0.137528  0.150999  0.102571  0.307898  0.149473  0.482353  0.219841   \n26  0.157810  0.260302  0.139797  0.239179  0.362301  0.212862  0.152031   \n27  0.126012  0.049323  0.095826  0.148151  0.050924  0.166852  0.059153   \n28  0.132762  0.000000  0.157141  0.084730  0.080403  0.127816  0.060211   \n29  0.346484  0.258526  0.349807  0.249671  0.250194  0.350544  0.181831   \n3   0.711436  0.174810  0.130387  0.339109  0.398875  0.231199  0.212160   \n30  0.134879  0.171546  0.140842  0.201958  0.142226  0.157923  0.088014   \n31  0.253035  0.202424  0.232247  0.163836  0.249135  0.325329  0.192149   \n32  0.303826  0.207282  0.296451  0.360320  0.163031  0.329004  0.217494   \n33  0.134593  0.061992  0.156351  0.092580  0.137097  0.138243  0.178911   \n34  0.179884  0.147173  0.345401  0.261465  0.123592  0.266716  0.100686   \n35  0.297385  0.183433  0.002666  0.138567  0.215008  0.241914  0.000000   \n36  0.323823  0.239125  0.461405  0.272971  0.212942  0.459816  0.160018   \n37  0.212795  0.094320  0.110704  0.041324  0.000000  0.150854  0.056903   \n38  0.428718  0.171652  0.193728  0.392220  0.142805  0.553230  0.149461   \n39  0.225462  0.145298  0.251642  0.131845  0.127075  0.266000  0.144216   \n4   0.431421  0.161542  0.222063  0.144865  0.477327  0.350684  0.300486   \n40  0.107861  0.058872  0.158960  0.126607  0.004070  0.330288  0.026149   \n41  0.193671  0.086957  0.050124  0.063807  0.098922  0.063941  0.141743   \n42  0.283536  0.240901  0.105636  0.103844  0.164883  0.150994  0.193229   \n43  0.148604  0.048739  0.112021  0.191852  0.153025  0.180703  0.181578   \n44  0.181445  0.138246  0.102746  0.122209  0.390317  0.122392  0.184409   \n45  0.170678  0.095739  0.165210  0.159301  0.177626  0.155289  0.239807   \n46  0.139103  0.132007  0.303578  0.121421  0.151943  0.126864  0.279053   \n47  0.217468  0.110632  0.074093  0.207703  0.300128  0.202752  0.151540   \n48  0.316053  0.119498  0.143963  0.286597  0.309609  0.154049  0.224653   \n49  0.187083  0.302779  0.171819  0.429032  0.382345  0.332495  0.242548   \n5   0.437160  0.258860  0.154148  0.125539  0.217317  0.357584  0.182844   \n50  0.200028  0.102829  0.041895  0.052626  0.217896  0.119972  0.142778   \n51  0.201063  0.284546  0.072911  0.223676  0.167276  0.257462  0.137593   \n52  0.000000  0.042894  0.351420  0.000000  0.017567  0.000000  0.126418   \n53  0.098454  0.051874  0.042414  0.039083  0.091576  0.059307  0.129689   \n54  0.153354  0.186408  0.100823  0.226832  0.218757  0.295045  0.170351   \n55  0.347573  0.160221  0.122613  0.117780  0.230860  0.180755  0.204695   \n56  0.091031  0.048845  0.054921  0.064299  0.114355  0.065100  0.142644   \n57  0.389737  0.136926  0.219453  0.120695  0.166667  0.233435  0.336671   \n58  0.080890  0.203366  0.041919  0.096161  0.097794  0.095185  0.127230   \n59  0.049686  0.072307  0.000000  0.030787  0.050894  0.041730  0.084035   \n6   0.188952  0.329164  0.211742  0.235666  0.397404  0.218736  0.183530   \n60  0.122513  0.143454  0.068522  0.155713  0.174715  0.217629  0.098138   \n7   0.290202  0.198462  0.199714  0.107637  0.302071  0.282781  0.438787   \n8   0.430209  0.266815  0.351420  0.283629  0.427432  0.586002  0.261918   \n9   0.269765  0.311622  0.132318  0.315264  0.471901  0.409202  0.151011   \n\n          16        17        18  ...        55        56        57        58  \\\n1   0.267177  0.234282  0.196297  ...  0.347573  0.091031  0.389737  0.080890   \n10  0.178233  0.303591  0.355100  ...  0.160221  0.048845  0.136926  0.203366   \n11  0.267358  0.164627  0.084860  ...  0.122613  0.054921  0.219453  0.041919   \n12  0.195258  0.379427  0.301774  ...  0.117780  0.064299  0.120695  0.096161   \n13  0.166895  0.429360  0.474081  ...  0.230860  0.114355  0.166667  0.097794   \n14  0.309338  0.487142  0.404317  ...  0.180755  0.065100  0.233435  0.095185   \n15  0.394632  0.206557  0.160398  ...  0.204695  0.142644  0.336671  0.127230   \n16  1.000000  0.146184  0.154920  ...  0.075134  0.016425  0.220319  0.009604   \n17  0.146184  1.000000  0.552301  ...  0.526181  0.239564  0.199284  0.153302   \n18  0.154920  0.552301  1.000000  ...  0.194790  0.073130  0.175174  0.226373   \n19  0.090036  0.321087  0.369397  ...  0.298239  0.151073  0.195623  0.273071   \n2   0.067006  0.500762  0.323887  ...  0.420058  0.153987  0.252823  0.107862   \n20  0.177012  0.297761  0.211371  ...  0.219690  0.158298  0.216743  0.139906   \n21  0.113420  0.299146  0.219635  ...  0.263179  0.069918  0.274177  0.103891   \n22  0.201510  0.130099  0.154339  ...  0.123219  0.091745  0.146887  0.051239   \n23  0.160879  0.136732  0.123523  ...  0.185469  0.208937  0.187540  0.104957   \n24  0.052365  0.122880  0.075920  ...  0.181537  0.241884  0.196713  0.116561   \n25  0.178473  0.225281  0.330770  ...  0.123444  0.127056  0.222422  0.221686   \n26  0.040477  0.338718  0.276084  ...  0.345066  0.174222  0.329274  0.318845   \n27  0.124439  0.000000  0.009620  ...  0.094626  0.213055  0.130140  0.050459   \n28  0.071443  0.048561  0.025335  ...  0.079545  0.111406  0.096553  0.042001   \n29  0.168753  0.291342  0.206297  ...  0.148082  0.072617  0.334651  0.105822   \n3   0.134220  0.294336  0.242348  ...  0.372102  0.101598  0.286238  0.079770   \n30  0.049451  0.129121  0.092731  ...  0.145199  0.237083  0.178897  0.302834   \n31  0.173497  0.257796  0.162856  ...  0.123816  0.104739  0.321988  0.070819   \n32  0.318136  0.212960  0.159421  ...  0.177090  0.096600  0.270724  0.231183   \n33  0.133012  0.168578  0.108438  ...  0.173665  0.254613  0.243057  0.134206   \n34  0.086876  0.134916  0.066921  ...  0.120423  0.165854  0.226004  0.135974   \n35  0.032257  0.221225  0.292588  ...  0.161052  0.057168  0.249864  0.221322   \n36  0.155850  0.212383  0.137521  ...  0.194797  0.088964  0.208795  0.125057   \n37  0.162871  0.018901  0.068262  ...  0.146564  0.149286  0.200397  0.257171   \n38  0.222464  0.305172  0.252788  ...  0.168063  0.059366  0.300343  0.184525   \n39  0.211145  0.124304  0.064644  ...  0.193045  0.146108  0.202522  0.131792   \n4   0.220818  0.360997  0.418856  ...  0.234267  0.140755  0.418954  0.130727   \n40  0.106738  0.075004  0.019770  ...  0.093851  0.025126  0.107179  0.109083   \n41  0.033718  0.221302  0.093497  ...  0.396571  0.314827  0.456861  0.246663   \n42  0.081647  0.284462  0.153235  ...  0.456264  0.323318  0.405674  0.263416   \n43  0.126230  0.231037  0.301089  ...  0.421390  0.196716  0.243808  0.237554   \n44  0.076972  0.322741  0.188068  ...  0.433536  0.219596  0.241133  0.341913   \n45  0.114158  0.195144  0.137597  ...  0.272907  0.195167  0.263074  0.199734   \n46  0.146484  0.196067  0.118648  ...  0.298308  0.225009  0.274763  0.176029   \n47  0.167707  0.373072  0.269553  ...  0.592771  0.214923  0.263566  0.282461   \n48  0.112835  0.234208  0.186811  ...  0.325932  0.195986  0.765738  0.263808   \n49  0.160156  0.432223  0.372257  ...  0.233757  0.139951  0.208168  0.185288   \n5   0.324126  0.250539  0.226687  ...  0.191706  0.003512  0.236070  0.030799   \n50  0.004952  0.216246  0.206373  ...  0.316657  0.329443  0.334517  0.234755   \n51  0.137734  0.274396  0.369620  ...  0.488985  0.181457  0.464060  0.508849   \n52  0.042538  0.093759  0.000000  ...  0.316695  0.310484  0.309716  0.231842   \n53  0.097249  0.108050  0.074195  ...  0.290673  0.213653  0.301277  0.202277   \n54  0.066968  0.526997  0.372740  ...  0.452429  0.208234  0.361861  0.360743   \n55  0.075134  0.526181  0.194790  ...  1.000000  0.319954  0.300039  0.306754   \n56  0.016425  0.239564  0.073130  ...  0.319954  1.000000  0.246548  0.243527   \n57  0.220319  0.199284  0.175174  ...  0.300039  0.246548  1.000000  0.258182   \n58  0.009604  0.153302  0.226373  ...  0.306754  0.243527  0.258182  1.000000   \n59  0.010788  0.164522  0.057990  ...  0.380069  0.221646  0.338159  0.329175   \n6   0.157496  0.398053  0.378328  ...  0.296474  0.184676  0.135722  0.172629   \n60  0.000000  0.352647  0.321725  ...  0.347314  0.307881  0.295338  0.307348   \n7   0.310601  0.256734  0.299426  ...  0.155301  0.108341  0.178865  0.135363   \n8   0.249200  0.460159  0.434961  ...  0.279747  0.209934  0.201471  0.100882   \n9   0.083023  0.506064  0.341341  ...  0.324281  0.311557  0.132978  0.106640   \n\n          59         6        60         7         8         9  \n1   0.049686  0.188952  0.122513  0.290202  0.430209  0.269765  \n10  0.072307  0.329164  0.143454  0.198462  0.266815  0.311622  \n11  0.000000  0.211742  0.068522  0.199714  0.351420  0.132318  \n12  0.030787  0.235666  0.155713  0.107637  0.283629  0.315264  \n13  0.050894  0.397404  0.174715  0.302071  0.427432  0.471901  \n14  0.041730  0.218736  0.217629  0.282781  0.586002  0.409202  \n15  0.084035  0.183530  0.098138  0.438787  0.261918  0.151011  \n16  0.010788  0.157496  0.000000  0.310601  0.249200  0.083023  \n17  0.164522  0.398053  0.352647  0.256734  0.460159  0.506064  \n18  0.057990  0.378328  0.321725  0.299426  0.434961  0.341341  \n19  0.287841  0.589604  0.176195  0.280689  0.232661  0.231256  \n2   0.111110  0.413314  0.272088  0.249927  0.302683  0.488343  \n20  0.090853  0.400046  0.103432  0.228363  0.203421  0.246316  \n21  0.140302  0.169932  0.104414  0.000000  0.279776  0.240799  \n22  0.010486  0.219106  0.048321  0.037628  0.218406  0.090242  \n23  0.115961  0.248404  0.215768  0.000000  0.206186  0.213681  \n24  0.098266  0.194144  0.188842  0.049726  0.135558  0.150552  \n25  0.095840  0.089113  0.275559  0.000000  0.186185  0.123033  \n26  0.219811  0.426718  0.267235  0.232601  0.228728  0.301410  \n27  0.009264  0.099723  0.022368  0.020825  0.243997  0.169578  \n28  0.005103  0.072611  0.046670  0.014250  0.185775  0.081045  \n29  0.056018  0.284951  0.090691  0.077321  0.259764  0.195279  \n3   0.062169  0.238123  0.140953  0.220012  0.199171  0.310119  \n30  0.156884  0.191828  0.199643  0.041241  0.157302  0.200653  \n31  0.039436  0.233581  0.128101  0.107559  0.258757  0.196166  \n32  0.131360  0.160089  0.192625  0.150718  0.152626  0.094942  \n33  0.094501  0.143336  0.243960  0.128236  0.153040  0.105231  \n34  0.061425  0.102548  0.218819  0.000000  0.274335  0.225436  \n35  0.075663  0.232241  0.248959  0.273315  0.320676  0.302812  \n36  0.070726  0.125294  0.100982  0.112828  0.424945  0.239295  \n37  0.077620  0.049957  0.159604  0.122238  0.152495  0.021874  \n38  0.069220  0.100690  0.245373  0.214662  0.401317  0.246736  \n39  0.079766  0.135690  0.087459  0.108560  0.179532  0.096438  \n4   0.096657  0.382368  0.176560  0.310837  0.418535  0.353873  \n40  0.032893  0.037384  0.108746  0.004656  0.176946  0.118050  \n41  0.329650  0.254243  0.330102  0.113639  0.128634  0.251448  \n42  0.286887  0.254509  0.347783  0.118734  0.153864  0.267147  \n43  0.375587  0.145287  0.164300  0.164929  0.298436  0.141429  \n44  0.218693  0.396888  0.274490  0.177635  0.158494  0.300869  \n45  0.155255  0.197469  0.175305  0.141065  0.198056  0.188042  \n46  0.344473  0.207782  0.164702  0.160627  0.205900  0.190939  \n47  0.307968  0.270277  0.302481  0.157370  0.243674  0.281395  \n48  0.343857  0.207528  0.296006  0.110079  0.118179  0.205634  \n49  0.257992  0.217288  0.299433  0.185047  0.214884  0.260893  \n5   0.023851  0.090612  0.144599  0.300057  0.343864  0.244804  \n50  0.195586  0.217930  0.419007  0.242215  0.231441  0.287953  \n51  0.403618  0.226388  0.380747  0.224636  0.188330  0.192889  \n52  0.368387  0.138363  0.365484  0.072637  0.111103  0.123779  \n53  0.310051  0.166888  0.224151  0.260855  0.141575  0.145086  \n54  0.379719  0.272227  0.529899  0.188247  0.182146  0.339854  \n55  0.380069  0.296474  0.347314  0.155301  0.279747  0.324281  \n56  0.221646  0.184676  0.307881  0.108341  0.209934  0.311557  \n57  0.338159  0.135722  0.295338  0.178865  0.201471  0.132978  \n58  0.329175  0.172629  0.307348  0.135363  0.100882  0.106640  \n59  1.000000  0.150108  0.293148  0.063210  0.098352  0.139695  \n6   0.150108  1.000000  0.212047  0.298698  0.227333  0.384385  \n60  0.293148  0.212047  1.000000  0.195167  0.166724  0.271950  \n7   0.063210  0.298698  0.195167  1.000000  0.388140  0.297596  \n8   0.098352  0.227333  0.166724  0.388140  1.000000  0.535407  \n9   0.139695  0.384385  0.271950  0.297596  0.535407  1.000000  \n\n[60 rows x 60 columns]",
      "text/html": "<div>\n<style scoped>\n    .dataframe tbody tr th:only-of-type {\n        vertical-align: middle;\n    }\n\n    .dataframe tbody tr th {\n        vertical-align: top;\n    }\n\n    .dataframe thead th {\n        text-align: right;\n    }\n</style>\n<table border=\"1\" class=\"dataframe\">\n  <thead>\n    <tr style=\"text-align: right;\">\n      <th></th>\n      <th>1</th>\n      <th>10</th>\n      <th>11</th>\n      <th>12</th>\n      <th>13</th>\n      <th>14</th>\n      <th>15</th>\n      <th>16</th>\n      <th>17</th>\n      <th>18</th>\n      <th>...</th>\n      <th>55</th>\n      <th>56</th>\n      <th>57</th>\n      <th>58</th>\n      <th>59</th>\n      <th>6</th>\n      <th>60</th>\n      <th>7</th>\n      <th>8</th>\n      <th>9</th>\n    </tr>\n  </thead>\n  <tbody>\n    <tr>\n      <th>1</th>\n      <td>1.000000</td>\n      <td>0.148063</td>\n      <td>0.342360</td>\n      <td>0.168793</td>\n      <td>0.230220</td>\n      <td>0.388339</td>\n      <td>0.245057</td>\n      <td>0.267177</td>\n      <td>0.234282</td>\n      <td>0.196297</td>\n      <td>...</td>\n      <td>0.347573</td>\n      <td>0.091031</td>\n      <td>0.389737</td>\n      <td>0.080890</td>\n      <td>0.049686</td>\n      <td>0.188952</td>\n      <td>0.122513</td>\n      <td>0.290202</td>\n      <td>0.430209</td>\n      <td>0.269765</td>\n    </tr>\n    <tr>\n      <th>10</th>\n      <td>0.148063</td>\n      <td>1.000000</td>\n      <td>0.242890</td>\n      <td>0.301018</td>\n      <td>0.186758</td>\n      <td>0.314446</td>\n      <td>0.081697</td>\n      <td>0.178233</td>\n      <td>0.303591</td>\n      <td>0.355100</td>\n      <td>...</td>\n      <td>0.160221</td>\n      <td>0.048845</td>\n      <td>0.136926</td>\n      <td>0.203366</td>\n      <td>0.072307</td>\n      <td>0.329164</td>\n      <td>0.143454</td>\n      <td>0.198462</td>\n      <td>0.266815</td>\n      <td>0.311622</td>\n    </tr>\n    <tr>\n      <th>11</th>\n      <td>0.342360</td>\n      <td>0.242890</td>\n      <td>1.000000</td>\n      <td>0.197663</td>\n      <td>0.103106</td>\n      <td>0.369881</td>\n      <td>0.274924</td>\n      <td>0.267358</td>\n      <td>0.164627</td>\n      <td>0.084860</td>\n      <td>...</td>\n      <td>0.122613</td>\n      <td>0.054921</td>\n      <td>0.219453</td>\n      <td>0.041919</td>\n      <td>0.000000</td>\n      <td>0.211742</td>\n      <td>0.068522</td>\n      <td>0.199714</td>\n      <td>0.351420</td>\n      <td>0.132318</td>\n    </tr>\n    <tr>\n      <th>12</th>\n      <td>0.168793</td>\n      <td>0.301018</td>\n      <td>0.197663</td>\n      <td>1.000000</td>\n      <td>0.293326</td>\n      <td>0.430417</td>\n      <td>0.122587</td>\n      <td>0.195258</td>\n      <td>0.379427</td>\n      <td>0.301774</td>\n      <td>...</td>\n      <td>0.117780</td>\n      <td>0.064299</td>\n      <td>0.120695</td>\n      <td>0.096161</td>\n      <td>0.030787</td>\n      <td>0.235666</td>\n      <td>0.155713</td>\n      <td>0.107637</td>\n      <td>0.283629</td>\n      <td>0.315264</td>\n    </tr>\n    <tr>\n      <th>13</th>\n      <td>0.230220</td>\n      <td>0.186758</td>\n      <td>0.103106</td>\n      <td>0.293326</td>\n      <td>1.000000</td>\n      <td>0.265292</td>\n      <td>0.175172</td>\n      <td>0.166895</td>\n      <td>0.429360</td>\n      <td>0.474081</td>\n      <td>...</td>\n      <td>0.230860</td>\n      <td>0.114355</td>\n      <td>0.166667</td>\n      <td>0.097794</td>\n      <td>0.050894</td>\n      <td>0.397404</td>\n      <td>0.174715</td>\n      <td>0.302071</td>\n      <td>0.427432</td>\n      <td>0.471901</td>\n    </tr>\n    <tr>\n      <th>14</th>\n      <td>0.388339</td>\n      <td>0.314446</td>\n      <td>0.369881</td>\n      <td>0.430417</td>\n      <td>0.265292</td>\n      <td>1.000000</td>\n      <td>0.274361</td>\n      <td>0.309338</td>\n      <td>0.487142</td>\n      <td>0.404317</td>\n      <td>...</td>\n      <td>0.180755</td>\n      <td>0.065100</td>\n      <td>0.233435</td>\n      <td>0.095185</td>\n      <td>0.041730</td>\n      <td>0.218736</td>\n      <td>0.217629</td>\n      <td>0.282781</td>\n      <td>0.586002</td>\n      <td>0.409202</td>\n    </tr>\n    <tr>\n      <th>15</th>\n      <td>0.245057</td>\n      <td>0.081697</td>\n      <td>0.274924</td>\n      <td>0.122587</td>\n      <td>0.175172</td>\n      <td>0.274361</td>\n      <td>1.000000</td>\n      <td>0.394632</td>\n      <td>0.206557</td>\n      <td>0.160398</td>\n      <td>...</td>\n      <td>0.204695</td>\n      <td>0.142644</td>\n      <td>0.336671</td>\n      <td>0.127230</td>\n      <td>0.084035</td>\n      <td>0.183530</td>\n      <td>0.098138</td>\n      <td>0.438787</td>\n      <td>0.261918</td>\n      <td>0.151011</td>\n    </tr>\n    <tr>\n      <th>16</th>\n      <td>0.267177</td>\n      <td>0.178233</td>\n      <td>0.267358</td>\n      <td>0.195258</td>\n      <td>0.166895</td>\n      <td>0.309338</td>\n      <td>0.394632</td>\n      <td>1.000000</td>\n      <td>0.146184</td>\n      <td>0.154920</td>\n      <td>...</td>\n      <td>0.075134</td>\n      <td>0.016425</td>\n      <td>0.220319</td>\n      <td>0.009604</td>\n      <td>0.010788</td>\n      <td>0.157496</td>\n      <td>0.000000</td>\n      <td>0.310601</td>\n      <td>0.249200</td>\n      <td>0.083023</td>\n    </tr>\n    <tr>\n      <th>17</th>\n      <td>0.234282</td>\n      <td>0.303591</td>\n      <td>0.164627</td>\n      <td>0.379427</td>\n      <td>0.429360</td>\n      <td>0.487142</td>\n      <td>0.206557</td>\n      <td>0.146184</td>\n      <td>1.000000</td>\n      <td>0.552301</td>\n      <td>...</td>\n      <td>0.526181</td>\n      <td>0.239564</td>\n      <td>0.199284</td>\n      <td>0.153302</td>\n      <td>0.164522</td>\n      <td>0.398053</td>\n      <td>0.352647</td>\n      <td>0.256734</td>\n      <td>0.460159</td>\n      <td>0.506064</td>\n    </tr>\n    <tr>\n      <th>18</th>\n      <td>0.196297</td>\n      <td>0.355100</td>\n      <td>0.084860</td>\n      <td>0.301774</td>\n      <td>0.474081</td>\n      <td>0.404317</td>\n      <td>0.160398</td>\n      <td>0.154920</td>\n      <td>0.552301</td>\n      <td>1.000000</td>\n      <td>...</td>\n      <td>0.194790</td>\n      <td>0.073130</td>\n      <td>0.175174</td>\n      <td>0.226373</td>\n      <td>0.057990</td>\n      <td>0.378328</td>\n      <td>0.321725</td>\n      <td>0.299426</td>\n      <td>0.434961</td>\n      <td>0.341341</td>\n    </tr>\n    <tr>\n      <th>19</th>\n      <td>0.209968</td>\n      <td>0.385311</td>\n      <td>0.216460</td>\n      <td>0.215220</td>\n      <td>0.229000</td>\n      <td>0.231362</td>\n      <td>0.181213</td>\n      <td>0.090036</td>\n      <td>0.321087</td>\n      <td>0.369397</td>\n      <td>...</td>\n      <td>0.298239</td>\n      <td>0.151073</td>\n      <td>0.195623</td>\n      <td>0.273071</td>\n      <td>0.287841</td>\n      <td>0.589604</td>\n      <td>0.176195</td>\n      <td>0.280689</td>\n      <td>0.232661</td>\n      <td>0.231256</td>\n    </tr>\n    <tr>\n      <th>2</th>\n      <td>0.425327</td>\n      <td>0.190075</td>\n      <td>0.093360</td>\n      <td>0.231442</td>\n      <td>0.427172</td>\n      <td>0.260104</td>\n      <td>0.196671</td>\n      <td>0.067006</td>\n      <td>0.500762</td>\n      <td>0.323887</td>\n      <td>...</td>\n      <td>0.420058</td>\n      <td>0.153987</td>\n      <td>0.252823</td>\n      <td>0.107862</td>\n      <td>0.111110</td>\n      <td>0.413314</td>\n      <td>0.272088</td>\n      <td>0.249927</td>\n      <td>0.302683</td>\n      <td>0.488343</td>\n    </tr>\n    <tr>\n      <th>20</th>\n      <td>0.211351</td>\n      <td>0.223746</td>\n      <td>0.490953</td>\n      <td>0.388382</td>\n      <td>0.383366</td>\n      <td>0.234542</td>\n      <td>0.328163</td>\n      <td>0.177012</td>\n      <td>0.297761</td>\n      <td>0.211371</td>\n      <td>...</td>\n      <td>0.219690</td>\n      <td>0.158298</td>\n      <td>0.216743</td>\n      <td>0.139906</td>\n      <td>0.090853</td>\n      <td>0.400046</td>\n      <td>0.103432</td>\n      <td>0.228363</td>\n      <td>0.203421</td>\n      <td>0.246316</td>\n    </tr>\n    <tr>\n      <th>21</th>\n      <td>0.316238</td>\n      <td>0.173254</td>\n      <td>0.192379</td>\n      <td>0.137954</td>\n      <td>0.274765</td>\n      <td>0.317766</td>\n      <td>0.117136</td>\n      <td>0.113420</td>\n      <td>0.299146</td>\n      <td>0.219635</td>\n      <td>...</td>\n      <td>0.263179</td>\n      <td>0.069918</td>\n      <td>0.274177</td>\n      <td>0.103891</td>\n      <td>0.140302</td>\n      <td>0.169932</td>\n      <td>0.104414</td>\n      <td>0.000000</td>\n      <td>0.279776</td>\n      <td>0.240799</td>\n    </tr>\n    <tr>\n      <th>22</th>\n      <td>0.255592</td>\n      <td>0.068763</td>\n      <td>0.204878</td>\n      <td>0.087417</td>\n      <td>0.218262</td>\n      <td>0.208862</td>\n      <td>0.159481</td>\n      <td>0.201510</td>\n      <td>0.130099</td>\n      <td>0.154339</td>\n      <td>...</td>\n      <td>0.123219</td>\n      <td>0.091745</td>\n      <td>0.146887</td>\n      <td>0.051239</td>\n      <td>0.010486</td>\n      <td>0.219106</td>\n      <td>0.048321</td>\n      <td>0.037628</td>\n      <td>0.218406</td>\n      <td>0.090242</td>\n    </tr>\n    <tr>\n      <th>23</th>\n      <td>0.163974</td>\n      <td>0.184367</td>\n      <td>0.164204</td>\n      <td>0.225053</td>\n      <td>0.186710</td>\n      <td>0.230439</td>\n      <td>0.090808</td>\n      <td>0.160879</td>\n      <td>0.136732</td>\n      <td>0.123523</td>\n      <td>...</td>\n      <td>0.185469</td>\n      <td>0.208937</td>\n      <td>0.187540</td>\n      <td>0.104957</td>\n      <td>0.115961</td>\n      <td>0.248404</td>\n      <td>0.215768</td>\n      <td>0.000000</td>\n      <td>0.206186</td>\n      <td>0.213681</td>\n    </tr>\n    <tr>\n      <th>24</th>\n      <td>0.116056</td>\n      <td>0.119619</td>\n      <td>0.158362</td>\n      <td>0.158559</td>\n      <td>0.174059</td>\n      <td>0.123986</td>\n      <td>0.095307</td>\n      <td>0.052365</td>\n      <td>0.122880</td>\n      <td>0.075920</td>\n      <td>...</td>\n      <td>0.181537</td>\n      <td>0.241884</td>\n      <td>0.196713</td>\n      <td>0.116561</td>\n      <td>0.098266</td>\n      <td>0.194144</td>\n      <td>0.188842</td>\n      <td>0.049726</td>\n      <td>0.135558</td>\n      <td>0.150552</td>\n    </tr>\n    <tr>\n      <th>25</th>\n      <td>0.137528</td>\n      <td>0.150999</td>\n      <td>0.102571</td>\n      <td>0.307898</td>\n      <td>0.149473</td>\n      <td>0.482353</td>\n      <td>0.219841</td>\n      <td>0.178473</td>\n      <td>0.225281</td>\n      <td>0.330770</td>\n      <td>...</td>\n      <td>0.123444</td>\n      <td>0.127056</td>\n      <td>0.222422</td>\n      <td>0.221686</td>\n      <td>0.095840</td>\n      <td>0.089113</td>\n      <td>0.275559</td>\n      <td>0.000000</td>\n      <td>0.186185</td>\n      <td>0.123033</td>\n    </tr>\n    <tr>\n      <th>26</th>\n      <td>0.157810</td>\n      <td>0.260302</td>\n      <td>0.139797</td>\n      <td>0.239179</td>\n      <td>0.362301</td>\n      <td>0.212862</td>\n      <td>0.152031</td>\n      <td>0.040477</td>\n      <td>0.338718</td>\n      <td>0.276084</td>\n      <td>...</td>\n      <td>0.345066</td>\n      <td>0.174222</td>\n      <td>0.329274</td>\n      <td>0.318845</td>\n      <td>0.219811</td>\n      <td>0.426718</td>\n      <td>0.267235</td>\n      <td>0.232601</td>\n      <td>0.228728</td>\n      <td>0.301410</td>\n    </tr>\n    <tr>\n      <th>27</th>\n      <td>0.126012</td>\n      <td>0.049323</td>\n      <td>0.095826</td>\n      <td>0.148151</td>\n      <td>0.050924</td>\n      <td>0.166852</td>\n      <td>0.059153</td>\n      <td>0.124439</td>\n      <td>0.000000</td>\n      <td>0.009620</td>\n      <td>...</td>\n      <td>0.094626</td>\n      <td>0.213055</td>\n      <td>0.130140</td>\n      <td>0.050459</td>\n      <td>0.009264</td>\n      <td>0.099723</td>\n      <td>0.022368</td>\n      <td>0.020825</td>\n      <td>0.243997</td>\n      <td>0.169578</td>\n    </tr>\n    <tr>\n      <th>28</th>\n      <td>0.132762</td>\n      <td>0.000000</td>\n      <td>0.157141</td>\n      <td>0.084730</td>\n      <td>0.080403</td>\n      <td>0.127816</td>\n      <td>0.060211</td>\n      <td>0.071443</td>\n      <td>0.048561</td>\n      <td>0.025335</td>\n      <td>...</td>\n      <td>0.079545</td>\n      <td>0.111406</td>\n      <td>0.096553</td>\n      <td>0.042001</td>\n      <td>0.005103</td>\n      <td>0.072611</td>\n      <td>0.046670</td>\n      <td>0.014250</td>\n      <td>0.185775</td>\n      <td>0.081045</td>\n    </tr>\n    <tr>\n      <th>29</th>\n      <td>0.346484</td>\n      <td>0.258526</td>\n      <td>0.349807</td>\n      <td>0.249671</td>\n      <td>0.250194</td>\n      <td>0.350544</td>\n      <td>0.181831</td>\n      <td>0.168753</td>\n      <td>0.291342</td>\n      <td>0.206297</td>\n      <td>...</td>\n      <td>0.148082</td>\n      <td>0.072617</td>\n      <td>0.334651</td>\n      <td>0.105822</td>\n      <td>0.056018</td>\n      <td>0.284951</td>\n      <td>0.090691</td>\n      <td>0.077321</td>\n      <td>0.259764</td>\n      <td>0.195279</td>\n    </tr>\n    <tr>\n      <th>3</th>\n      <td>0.711436</td>\n      <td>0.174810</td>\n      <td>0.130387</td>\n      <td>0.339109</td>\n      <td>0.398875</td>\n      <td>0.231199</td>\n      <td>0.212160</td>\n      <td>0.134220</td>\n      <td>0.294336</td>\n      <td>0.242348</td>\n      <td>...</td>\n      <td>0.372102</td>\n      <td>0.101598</td>\n      <td>0.286238</td>\n      <td>0.079770</td>\n      <td>0.062169</td>\n      <td>0.238123</td>\n      <td>0.140953</td>\n      <td>0.220012</td>\n      <td>0.199171</td>\n      <td>0.310119</td>\n    </tr>\n    <tr>\n      <th>30</th>\n      <td>0.134879</td>\n      <td>0.171546</td>\n      <td>0.140842</td>\n      <td>0.201958</td>\n      <td>0.142226</td>\n      <td>0.157923</td>\n      <td>0.088014</td>\n      <td>0.049451</td>\n      <td>0.129121</td>\n      <td>0.092731</td>\n      <td>...</td>\n      <td>0.145199</td>\n      <td>0.237083</td>\n      <td>0.178897</td>\n      <td>0.302834</td>\n      <td>0.156884</td>\n      <td>0.191828</td>\n      <td>0.199643</td>\n      <td>0.041241</td>\n      <td>0.157302</td>\n      <td>0.200653</td>\n    </tr>\n    <tr>\n      <th>31</th>\n      <td>0.253035</td>\n      <td>0.202424</td>\n      <td>0.232247</td>\n      <td>0.163836</td>\n      <td>0.249135</td>\n      <td>0.325329</td>\n      <td>0.192149</td>\n      <td>0.173497</td>\n      <td>0.257796</td>\n      <td>0.162856</td>\n      <td>...</td>\n      <td>0.123816</td>\n      <td>0.104739</td>\n      <td>0.321988</td>\n      <td>0.070819</td>\n      <td>0.039436</td>\n      <td>0.233581</td>\n      <td>0.128101</td>\n      <td>0.107559</td>\n      <td>0.258757</td>\n      <td>0.196166</td>\n    </tr>\n    <tr>\n      <th>32</th>\n      <td>0.303826</td>\n      <td>0.207282</td>\n      <td>0.296451</td>\n      <td>0.360320</td>\n      <td>0.163031</td>\n      <td>0.329004</td>\n      <td>0.217494</td>\n      <td>0.318136</td>\n      <td>0.212960</td>\n      <td>0.159421</td>\n      <td>...</td>\n      <td>0.177090</td>\n      <td>0.096600</td>\n      <td>0.270724</td>\n      <td>0.231183</td>\n      <td>0.131360</td>\n      <td>0.160089</td>\n      <td>0.192625</td>\n      <td>0.150718</td>\n      <td>0.152626</td>\n      <td>0.094942</td>\n    </tr>\n    <tr>\n      <th>33</th>\n      <td>0.134593</td>\n      <td>0.061992</td>\n      <td>0.156351</td>\n      <td>0.092580</td>\n      <td>0.137097</td>\n      <td>0.138243</td>\n      <td>0.178911</td>\n      <td>0.133012</td>\n      <td>0.168578</td>\n      <td>0.108438</td>\n      <td>...</td>\n      <td>0.173665</td>\n      <td>0.254613</td>\n      <td>0.243057</td>\n      <td>0.134206</td>\n      <td>0.094501</td>\n      <td>0.143336</td>\n      <td>0.243960</td>\n      <td>0.128236</td>\n      <td>0.153040</td>\n      <td>0.105231</td>\n    </tr>\n    <tr>\n      <th>34</th>\n      <td>0.179884</td>\n      <td>0.147173</td>\n      <td>0.345401</td>\n      <td>0.261465</td>\n      <td>0.123592</td>\n      <td>0.266716</td>\n      <td>0.100686</td>\n      <td>0.086876</td>\n      <td>0.134916</td>\n      <td>0.066921</td>\n      <td>...</td>\n      <td>0.120423</td>\n      <td>0.165854</td>\n      <td>0.226004</td>\n      <td>0.135974</td>\n      <td>0.061425</td>\n      <td>0.102548</td>\n      <td>0.218819</td>\n      <td>0.000000</td>\n      <td>0.274335</td>\n      <td>0.225436</td>\n    </tr>\n    <tr>\n      <th>35</th>\n      <td>0.297385</td>\n      <td>0.183433</td>\n      <td>0.002666</td>\n      <td>0.138567</td>\n      <td>0.215008</td>\n      <td>0.241914</td>\n      <td>0.000000</td>\n      <td>0.032257</td>\n      <td>0.221225</td>\n      <td>0.292588</td>\n      <td>...</td>\n      <td>0.161052</td>\n      <td>0.057168</td>\n      <td>0.249864</td>\n      <td>0.221322</td>\n      <td>0.075663</td>\n      <td>0.232241</td>\n      <td>0.248959</td>\n      <td>0.273315</td>\n      <td>0.320676</td>\n      <td>0.302812</td>\n    </tr>\n    <tr>\n      <th>36</th>\n      <td>0.323823</td>\n      <td>0.239125</td>\n      <td>0.461405</td>\n      <td>0.272971</td>\n      <td>0.212942</td>\n      <td>0.459816</td>\n      <td>0.160018</td>\n      <td>0.155850</td>\n      <td>0.212383</td>\n      <td>0.137521</td>\n      <td>...</td>\n      <td>0.194797</td>\n      <td>0.088964</td>\n      <td>0.208795</td>\n      <td>0.125057</td>\n      <td>0.070726</td>\n      <td>0.125294</td>\n      <td>0.100982</td>\n      <td>0.112828</td>\n      <td>0.424945</td>\n      <td>0.239295</td>\n    </tr>\n    <tr>\n      <th>37</th>\n      <td>0.212795</td>\n      <td>0.094320</td>\n      <td>0.110704</td>\n      <td>0.041324</td>\n      <td>0.000000</td>\n      <td>0.150854</td>\n      <td>0.056903</td>\n      <td>0.162871</td>\n      <td>0.018901</td>\n      <td>0.068262</td>\n      <td>...</td>\n      <td>0.146564</td>\n      <td>0.149286</td>\n      <td>0.200397</td>\n      <td>0.257171</td>\n      <td>0.077620</td>\n      <td>0.049957</td>\n      <td>0.159604</td>\n      <td>0.122238</td>\n      <td>0.152495</td>\n      <td>0.021874</td>\n    </tr>\n    <tr>\n      <th>38</th>\n      <td>0.428718</td>\n      <td>0.171652</td>\n      <td>0.193728</td>\n      <td>0.392220</td>\n      <td>0.142805</td>\n      <td>0.553230</td>\n      <td>0.149461</td>\n      <td>0.222464</td>\n      <td>0.305172</td>\n      <td>0.252788</td>\n      <td>...</td>\n      <td>0.168063</td>\n      <td>0.059366</td>\n      <td>0.300343</td>\n      <td>0.184525</td>\n      <td>0.069220</td>\n      <td>0.100690</td>\n      <td>0.245373</td>\n      <td>0.214662</td>\n      <td>0.401317</td>\n      <td>0.246736</td>\n    </tr>\n    <tr>\n      <th>39</th>\n      <td>0.225462</td>\n      <td>0.145298</td>\n      <td>0.251642</td>\n      <td>0.131845</td>\n      <td>0.127075</td>\n      <td>0.266000</td>\n      <td>0.144216</td>\n      <td>0.211145</td>\n      <td>0.124304</td>\n      <td>0.064644</td>\n      <td>...</td>\n      <td>0.193045</td>\n      <td>0.146108</td>\n      <td>0.202522</td>\n      <td>0.131792</td>\n      <td>0.079766</td>\n      <td>0.135690</td>\n      <td>0.087459</td>\n      <td>0.108560</td>\n      <td>0.179532</td>\n      <td>0.096438</td>\n    </tr>\n    <tr>\n      <th>4</th>\n      <td>0.431421</td>\n      <td>0.161542</td>\n      <td>0.222063</td>\n      <td>0.144865</td>\n      <td>0.477327</td>\n      <td>0.350684</td>\n      <td>0.300486</td>\n      <td>0.220818</td>\n      <td>0.360997</td>\n      <td>0.418856</td>\n      <td>...</td>\n      <td>0.234267</td>\n      <td>0.140755</td>\n      <td>0.418954</td>\n      <td>0.130727</td>\n      <td>0.096657</td>\n      <td>0.382368</td>\n      <td>0.176560</td>\n      <td>0.310837</td>\n      <td>0.418535</td>\n      <td>0.353873</td>\n    </tr>\n    <tr>\n      <th>40</th>\n      <td>0.107861</td>\n      <td>0.058872</td>\n      <td>0.158960</td>\n      <td>0.126607</td>\n      <td>0.004070</td>\n      <td>0.330288</td>\n      <td>0.026149</td>\n      <td>0.106738</td>\n      <td>0.075004</td>\n      <td>0.019770</td>\n      <td>...</td>\n      <td>0.093851</td>\n      <td>0.025126</td>\n      <td>0.107179</td>\n      <td>0.109083</td>\n      <td>0.032893</td>\n      <td>0.037384</td>\n      <td>0.108746</td>\n      <td>0.004656</td>\n      <td>0.176946</td>\n      <td>0.118050</td>\n    </tr>\n    <tr>\n      <th>41</th>\n      <td>0.193671</td>\n      <td>0.086957</td>\n      <td>0.050124</td>\n      <td>0.063807</td>\n      <td>0.098922</td>\n      <td>0.063941</td>\n      <td>0.141743</td>\n      <td>0.033718</td>\n      <td>0.221302</td>\n      <td>0.093497</td>\n      <td>...</td>\n      <td>0.396571</td>\n      <td>0.314827</td>\n      <td>0.456861</td>\n      <td>0.246663</td>\n      <td>0.329650</td>\n      <td>0.254243</td>\n      <td>0.330102</td>\n      <td>0.113639</td>\n      <td>0.128634</td>\n      <td>0.251448</td>\n    </tr>\n    <tr>\n      <th>42</th>\n      <td>0.283536</td>\n      <td>0.240901</td>\n      <td>0.105636</td>\n      <td>0.103844</td>\n      <td>0.164883</td>\n      <td>0.150994</td>\n      <td>0.193229</td>\n      <td>0.081647</td>\n      <td>0.284462</td>\n      <td>0.153235</td>\n      <td>...</td>\n      <td>0.456264</td>\n      <td>0.323318</td>\n      <td>0.405674</td>\n      <td>0.263416</td>\n      <td>0.286887</td>\n      <td>0.254509</td>\n      <td>0.347783</td>\n      <td>0.118734</td>\n      <td>0.153864</td>\n      <td>0.267147</td>\n    </tr>\n    <tr>\n      <th>43</th>\n      <td>0.148604</td>\n      <td>0.048739</td>\n      <td>0.112021</td>\n      <td>0.191852</td>\n      <td>0.153025</td>\n      <td>0.180703</td>\n      <td>0.181578</td>\n      <td>0.126230</td>\n      <td>0.231037</td>\n      <td>0.301089</td>\n      <td>...</td>\n      <td>0.421390</td>\n      <td>0.196716</td>\n      <td>0.243808</td>\n      <td>0.237554</td>\n      <td>0.375587</td>\n      <td>0.145287</td>\n      <td>0.164300</td>\n      <td>0.164929</td>\n      <td>0.298436</td>\n      <td>0.141429</td>\n    </tr>\n    <tr>\n      <th>44</th>\n      <td>0.181445</td>\n      <td>0.138246</td>\n      <td>0.102746</td>\n      <td>0.122209</td>\n      <td>0.390317</td>\n      <td>0.122392</td>\n      <td>0.184409</td>\n      <td>0.076972</td>\n      <td>0.322741</td>\n      <td>0.188068</td>\n      <td>...</td>\n      <td>0.433536</td>\n      <td>0.219596</td>\n      <td>0.241133</td>\n      <td>0.341913</td>\n      <td>0.218693</td>\n      <td>0.396888</td>\n      <td>0.274490</td>\n      <td>0.177635</td>\n      <td>0.158494</td>\n      <td>0.300869</td>\n    </tr>\n    <tr>\n      <th>45</th>\n      <td>0.170678</td>\n      <td>0.095739</td>\n      <td>0.165210</td>\n      <td>0.159301</td>\n      <td>0.177626</td>\n      <td>0.155289</td>\n      <td>0.239807</td>\n      <td>0.114158</td>\n      <td>0.195144</td>\n      <td>0.137597</td>\n      <td>...</td>\n      <td>0.272907</td>\n      <td>0.195167</td>\n      <td>0.263074</td>\n      <td>0.199734</td>\n      <td>0.155255</td>\n      <td>0.197469</td>\n      <td>0.175305</td>\n      <td>0.141065</td>\n      <td>0.198056</td>\n      <td>0.188042</td>\n    </tr>\n    <tr>\n      <th>46</th>\n      <td>0.139103</td>\n      <td>0.132007</td>\n      <td>0.303578</td>\n      <td>0.121421</td>\n      <td>0.151943</td>\n      <td>0.126864</td>\n      <td>0.279053</td>\n      <td>0.146484</td>\n      <td>0.196067</td>\n      <td>0.118648</td>\n      <td>...</td>\n      <td>0.298308</td>\n      <td>0.225009</td>\n      <td>0.274763</td>\n      <td>0.176029</td>\n      <td>0.344473</td>\n      <td>0.207782</td>\n      <td>0.164702</td>\n      <td>0.160627</td>\n      <td>0.205900</td>\n      <td>0.190939</td>\n    </tr>\n    <tr>\n      <th>47</th>\n      <td>0.217468</td>\n      <td>0.110632</td>\n      <td>0.074093</td>\n      <td>0.207703</td>\n      <td>0.300128</td>\n      <td>0.202752</td>\n      <td>0.151540</td>\n      <td>0.167707</td>\n      <td>0.373072</td>\n      <td>0.269553</td>\n      <td>...</td>\n      <td>0.592771</td>\n      <td>0.214923</td>\n      <td>0.263566</td>\n      <td>0.282461</td>\n      <td>0.307968</td>\n      <td>0.270277</td>\n      <td>0.302481</td>\n      <td>0.157370</td>\n      <td>0.243674</td>\n      <td>0.281395</td>\n    </tr>\n    <tr>\n      <th>48</th>\n      <td>0.316053</td>\n      <td>0.119498</td>\n      <td>0.143963</td>\n      <td>0.286597</td>\n      <td>0.309609</td>\n      <td>0.154049</td>\n      <td>0.224653</td>\n      <td>0.112835</td>\n      <td>0.234208</td>\n      <td>0.186811</td>\n      <td>...</td>\n      <td>0.325932</td>\n      <td>0.195986</td>\n      <td>0.765738</td>\n      <td>0.263808</td>\n      <td>0.343857</td>\n      <td>0.207528</td>\n      <td>0.296006</td>\n      <td>0.110079</td>\n      <td>0.118179</td>\n      <td>0.205634</td>\n    </tr>\n    <tr>\n      <th>49</th>\n      <td>0.187083</td>\n      <td>0.302779</td>\n      <td>0.171819</td>\n      <td>0.429032</td>\n      <td>0.382345</td>\n      <td>0.332495</td>\n      <td>0.242548</td>\n      <td>0.160156</td>\n      <td>0.432223</td>\n      <td>0.372257</td>\n      <td>...</td>\n      <td>0.233757</td>\n      <td>0.139951</td>\n      <td>0.208168</td>\n      <td>0.185288</td>\n      <td>0.257992</td>\n      <td>0.217288</td>\n      <td>0.299433</td>\n      <td>0.185047</td>\n      <td>0.214884</td>\n      <td>0.260893</td>\n    </tr>\n    <tr>\n      <th>5</th>\n      <td>0.437160</td>\n      <td>0.258860</td>\n      <td>0.154148</td>\n      <td>0.125539</td>\n      <td>0.217317</td>\n      <td>0.357584</td>\n      <td>0.182844</td>\n      <td>0.324126</td>\n      <td>0.250539</td>\n      <td>0.226687</td>\n      <td>...</td>\n      <td>0.191706</td>\n      <td>0.003512</td>\n      <td>0.236070</td>\n      <td>0.030799</td>\n      <td>0.023851</td>\n      <td>0.090612</td>\n      <td>0.144599</td>\n      <td>0.300057</td>\n      <td>0.343864</td>\n      <td>0.244804</td>\n    </tr>\n    <tr>\n      <th>50</th>\n      <td>0.200028</td>\n      <td>0.102829</td>\n      <td>0.041895</td>\n      <td>0.052626</td>\n      <td>0.217896</td>\n      <td>0.119972</td>\n      <td>0.142778</td>\n      <td>0.004952</td>\n      <td>0.216246</td>\n      <td>0.206373</td>\n      <td>...</td>\n      <td>0.316657</td>\n      <td>0.329443</td>\n      <td>0.334517</td>\n      <td>0.234755</td>\n      <td>0.195586</td>\n      <td>0.217930</td>\n      <td>0.419007</td>\n      <td>0.242215</td>\n      <td>0.231441</td>\n      <td>0.287953</td>\n    </tr>\n    <tr>\n      <th>51</th>\n      <td>0.201063</td>\n      <td>0.284546</td>\n      <td>0.072911</td>\n      <td>0.223676</td>\n      <td>0.167276</td>\n      <td>0.257462</td>\n      <td>0.137593</td>\n      <td>0.137734</td>\n      <td>0.274396</td>\n      <td>0.369620</td>\n      <td>...</td>\n      <td>0.488985</td>\n      <td>0.181457</td>\n      <td>0.464060</td>\n      <td>0.508849</td>\n      <td>0.403618</td>\n      <td>0.226388</td>\n      <td>0.380747</td>\n      <td>0.224636</td>\n      <td>0.188330</td>\n      <td>0.192889</td>\n    </tr>\n    <tr>\n      <th>52</th>\n      <td>0.000000</td>\n      <td>0.042894</td>\n      <td>0.351420</td>\n      <td>0.000000</td>\n      <td>0.017567</td>\n      <td>0.000000</td>\n      <td>0.126418</td>\n      <td>0.042538</td>\n      <td>0.093759</td>\n      <td>0.000000</td>\n      <td>...</td>\n      <td>0.316695</td>\n      <td>0.310484</td>\n      <td>0.309716</td>\n      <td>0.231842</td>\n      <td>0.368387</td>\n      <td>0.138363</td>\n      <td>0.365484</td>\n      <td>0.072637</td>\n      <td>0.111103</td>\n      <td>0.123779</td>\n    </tr>\n    <tr>\n      <th>53</th>\n      <td>0.098454</td>\n      <td>0.051874</td>\n      <td>0.042414</td>\n      <td>0.039083</td>\n      <td>0.091576</td>\n      <td>0.059307</td>\n      <td>0.129689</td>\n      <td>0.097249</td>\n      <td>0.108050</td>\n      <td>0.074195</td>\n      <td>...</td>\n      <td>0.290673</td>\n      <td>0.213653</td>\n      <td>0.301277</td>\n      <td>0.202277</td>\n      <td>0.310051</td>\n      <td>0.166888</td>\n      <td>0.224151</td>\n      <td>0.260855</td>\n      <td>0.141575</td>\n      <td>0.145086</td>\n    </tr>\n    <tr>\n      <th>54</th>\n      <td>0.153354</td>\n      <td>0.186408</td>\n      <td>0.100823</td>\n      <td>0.226832</td>\n      <td>0.218757</td>\n      <td>0.295045</td>\n      <td>0.170351</td>\n      <td>0.066968</td>\n      <td>0.526997</td>\n      <td>0.372740</td>\n      <td>...</td>\n      <td>0.452429</td>\n      <td>0.208234</td>\n      <td>0.361861</td>\n      <td>0.360743</td>\n      <td>0.379719</td>\n      <td>0.272227</td>\n      <td>0.529899</td>\n      <td>0.188247</td>\n      <td>0.182146</td>\n      <td>0.339854</td>\n    </tr>\n    <tr>\n      <th>55</th>\n      <td>0.347573</td>\n      <td>0.160221</td>\n      <td>0.122613</td>\n      <td>0.117780</td>\n      <td>0.230860</td>\n      <td>0.180755</td>\n      <td>0.204695</td>\n      <td>0.075134</td>\n      <td>0.526181</td>\n      <td>0.194790</td>\n      <td>...</td>\n      <td>1.000000</td>\n      <td>0.319954</td>\n      <td>0.300039</td>\n      <td>0.306754</td>\n      <td>0.380069</td>\n      <td>0.296474</td>\n      <td>0.347314</td>\n      <td>0.155301</td>\n      <td>0.279747</td>\n      <td>0.324281</td>\n    </tr>\n    <tr>\n      <th>56</th>\n      <td>0.091031</td>\n      <td>0.048845</td>\n      <td>0.054921</td>\n      <td>0.064299</td>\n      <td>0.114355</td>\n      <td>0.065100</td>\n      <td>0.142644</td>\n      <td>0.016425</td>\n      <td>0.239564</td>\n      <td>0.073130</td>\n      <td>...</td>\n      <td>0.319954</td>\n      <td>1.000000</td>\n      <td>0.246548</td>\n      <td>0.243527</td>\n      <td>0.221646</td>\n      <td>0.184676</td>\n      <td>0.307881</td>\n      <td>0.108341</td>\n      <td>0.209934</td>\n      <td>0.311557</td>\n    </tr>\n    <tr>\n      <th>57</th>\n      <td>0.389737</td>\n      <td>0.136926</td>\n      <td>0.219453</td>\n      <td>0.120695</td>\n      <td>0.166667</td>\n      <td>0.233435</td>\n      <td>0.336671</td>\n      <td>0.220319</td>\n      <td>0.199284</td>\n      <td>0.175174</td>\n      <td>...</td>\n      <td>0.300039</td>\n      <td>0.246548</td>\n      <td>1.000000</td>\n      <td>0.258182</td>\n      <td>0.338159</td>\n      <td>0.135722</td>\n      <td>0.295338</td>\n      <td>0.178865</td>\n      <td>0.201471</td>\n      <td>0.132978</td>\n    </tr>\n    <tr>\n      <th>58</th>\n      <td>0.080890</td>\n      <td>0.203366</td>\n      <td>0.041919</td>\n      <td>0.096161</td>\n      <td>0.097794</td>\n      <td>0.095185</td>\n      <td>0.127230</td>\n      <td>0.009604</td>\n      <td>0.153302</td>\n      <td>0.226373</td>\n      <td>...</td>\n      <td>0.306754</td>\n      <td>0.243527</td>\n      <td>0.258182</td>\n      <td>1.000000</td>\n      <td>0.329175</td>\n      <td>0.172629</td>\n      <td>0.307348</td>\n      <td>0.135363</td>\n      <td>0.100882</td>\n      <td>0.106640</td>\n    </tr>\n    <tr>\n      <th>59</th>\n      <td>0.049686</td>\n      <td>0.072307</td>\n      <td>0.000000</td>\n      <td>0.030787</td>\n      <td>0.050894</td>\n      <td>0.041730</td>\n      <td>0.084035</td>\n      <td>0.010788</td>\n      <td>0.164522</td>\n      <td>0.057990</td>\n      <td>...</td>\n      <td>0.380069</td>\n      <td>0.221646</td>\n      <td>0.338159</td>\n      <td>0.329175</td>\n      <td>1.000000</td>\n      <td>0.150108</td>\n      <td>0.293148</td>\n      <td>0.063210</td>\n      <td>0.098352</td>\n      <td>0.139695</td>\n    </tr>\n    <tr>\n      <th>6</th>\n      <td>0.188952</td>\n      <td>0.329164</td>\n      <td>0.211742</td>\n      <td>0.235666</td>\n      <td>0.397404</td>\n      <td>0.218736</td>\n      <td>0.183530</td>\n      <td>0.157496</td>\n      <td>0.398053</td>\n      <td>0.378328</td>\n      <td>...</td>\n      <td>0.296474</td>\n      <td>0.184676</td>\n      <td>0.135722</td>\n      <td>0.172629</td>\n      <td>0.150108</td>\n      <td>1.000000</td>\n      <td>0.212047</td>\n      <td>0.298698</td>\n      <td>0.227333</td>\n      <td>0.384385</td>\n    </tr>\n    <tr>\n      <th>60</th>\n      <td>0.122513</td>\n      <td>0.143454</td>\n      <td>0.068522</td>\n      <td>0.155713</td>\n      <td>0.174715</td>\n      <td>0.217629</td>\n      <td>0.098138</td>\n      <td>0.000000</td>\n      <td>0.352647</td>\n      <td>0.321725</td>\n      <td>...</td>\n      <td>0.347314</td>\n      <td>0.307881</td>\n      <td>0.295338</td>\n      <td>0.307348</td>\n      <td>0.293148</td>\n      <td>0.212047</td>\n      <td>1.000000</td>\n      <td>0.195167</td>\n      <td>0.166724</td>\n      <td>0.271950</td>\n    </tr>\n    <tr>\n      <th>7</th>\n      <td>0.290202</td>\n      <td>0.198462</td>\n      <td>0.199714</td>\n      <td>0.107637</td>\n      <td>0.302071</td>\n      <td>0.282781</td>\n      <td>0.438787</td>\n      <td>0.310601</td>\n      <td>0.256734</td>\n      <td>0.299426</td>\n      <td>...</td>\n      <td>0.155301</td>\n      <td>0.108341</td>\n      <td>0.178865</td>\n      <td>0.135363</td>\n      <td>0.063210</td>\n      <td>0.298698</td>\n      <td>0.195167</td>\n      <td>1.000000</td>\n      <td>0.388140</td>\n      <td>0.297596</td>\n    </tr>\n    <tr>\n      <th>8</th>\n      <td>0.430209</td>\n      <td>0.266815</td>\n      <td>0.351420</td>\n      <td>0.283629</td>\n      <td>0.427432</td>\n      <td>0.586002</td>\n      <td>0.261918</td>\n      <td>0.249200</td>\n      <td>0.460159</td>\n      <td>0.434961</td>\n      <td>...</td>\n      <td>0.279747</td>\n      <td>0.209934</td>\n      <td>0.201471</td>\n      <td>0.100882</td>\n      <td>0.098352</td>\n      <td>0.227333</td>\n      <td>0.166724</td>\n      <td>0.388140</td>\n      <td>1.000000</td>\n      <td>0.535407</td>\n    </tr>\n    <tr>\n      <th>9</th>\n      <td>0.269765</td>\n      <td>0.311622</td>\n      <td>0.132318</td>\n      <td>0.315264</td>\n      <td>0.471901</td>\n      <td>0.409202</td>\n      <td>0.151011</td>\n      <td>0.083023</td>\n      <td>0.506064</td>\n      <td>0.341341</td>\n      <td>...</td>\n      <td>0.324281</td>\n      <td>0.311557</td>\n      <td>0.132978</td>\n      <td>0.106640</td>\n      <td>0.139695</td>\n      <td>0.384385</td>\n      <td>0.271950</td>\n      <td>0.297596</td>\n      <td>0.535407</td>\n      <td>1.000000</td>\n    </tr>\n  </tbody>\n</table>\n<p>60 rows × 60 columns</p>\n</div>"
     },
     "metadata": {}
    }
   ],
   "execution_count": null
  },
  {
   "cell_type": "code",
   "metadata": {
    "tags": [],
    "cell_id": "00041-9fa3fd30-95d7-41cd-86a2-142b120da90c",
    "deepnote_to_be_reexecuted": false,
    "source_hash": "9c5010c7",
    "execution_start": 1638019658867,
    "execution_millis": 27,
    "deepnote_cell_type": "code"
   },
   "source": "# Faccio svd con 60 componenti (e poi mi prendo solo quelle che servono)\nn_components = 59\nsvd_latent_gestures, svd_variance = generate_gesture_gesture_svd(gestures_sim_matrix_pd, n_components=n_components)",
   "outputs": [],
   "execution_count": null
  },
  {
   "cell_type": "code",
   "metadata": {
    "deepnote_variable_name": "t3_query_top_p",
    "deepnote_variable_value": "5",
    "cell_id": "00041-8c620e05-f0f6-42c6-b128-88970e1c1838",
    "deepnote_to_be_reexecuted": false,
    "source_hash": "ca37bedc",
    "execution_start": 1638019658906,
    "execution_millis": 16,
    "deepnote_cell_type": "input-text"
   },
   "source": "t3_query_top_p = '5'",
   "outputs": [],
   "execution_count": null
  },
  {
   "cell_type": "code",
   "metadata": {
    "tags": [],
    "cell_id": "00045-ce487730-2512-4589-89ae-7f7806ffca3b",
    "deepnote_to_be_reexecuted": false,
    "source_hash": "e0129707",
    "execution_start": 1638019658936,
    "execution_millis": 15,
    "deepnote_output_heights": [
     611
    ],
    "deepnote_cell_type": "code"
   },
   "source": "t3_query_top_p = int(t3_query_top_p)\n# Input value check\nif t3_query_top_p < 1:\n    t3_query_top_p = 1\nelif t3_query_top_p > n_components:\n    t3_query_top_p = n_components\n\n# Tiro fuori le top p gestures latenti\ntop_p_gestures = get_top_p_latent_gestures(svd_latent_gestures, t3_query_top_p)\n#top_p_gestures",
   "outputs": [],
   "execution_count": null
  },
  {
   "cell_type": "markdown",
   "source": "## Task 4",
   "metadata": {
    "tags": [],
    "is_collapsed": false,
    "cell_id": "00044-9cfe662a-8cc0-4eed-8c0c-f9fe6eb8fd34",
    "deepnote_cell_type": "text-cell-h2"
   }
  },
  {
   "cell_type": "code",
   "metadata": {
    "deepnote_variable_name": "t4_p_partitions",
    "deepnote_variable_value": "3",
    "cell_id": "00047-107ad2bf-4161-48cc-944f-5dd10698959d",
    "deepnote_to_be_reexecuted": false,
    "source_hash": "21bab306",
    "execution_start": 1638019658971,
    "execution_millis": 3,
    "deepnote_cell_type": "input-text"
   },
   "source": "t4_p_partitions = '3'",
   "outputs": [],
   "execution_count": null
  },
  {
   "cell_type": "code",
   "metadata": {
    "tags": [],
    "cell_id": "00048-fa675f74-61bc-4d04-9b33-06518fb6e745",
    "deepnote_to_be_reexecuted": false,
    "source_hash": "5f16cad7",
    "execution_start": 1638019658998,
    "execution_millis": 1620880,
    "deepnote_cell_type": "code"
   },
   "source": "t4_p_partitions = int(t4_p_partitions)\n# Input value check\nif t4_p_partitions < 1:\n    t4_p_partitions = 1",
   "outputs": [],
   "execution_count": null
  },
  {
   "cell_type": "markdown",
   "source": "### Task 4A",
   "metadata": {
    "tags": [],
    "is_collapsed": false,
    "cell_id": "00045-1989ef30-c1fe-4922-8612-930834cd9cd1",
    "deepnote_cell_type": "text-cell-h3"
   }
  },
  {
   "cell_type": "markdown",
   "source": "Partizionamento top_p_gestures in base ai loro gradi di appartenenza alle p semantiche",
   "metadata": {
    "tags": [],
    "is_collapsed": false,
    "cell_id": "00047-a0819029-fabf-499e-9cbd-2e837f0f16ab",
    "deepnote_cell_type": "text-cell-p"
   }
  },
  {
   "cell_type": "code",
   "metadata": {
    "tags": [],
    "cell_id": "00050-b8762211-11f3-4a80-a5fd-fe175ecf0f78",
    "deepnote_to_be_reexecuted": false,
    "source_hash": "7302fa8f",
    "execution_start": 1638019659026,
    "execution_millis": 1617502,
    "deepnote_cell_type": "code"
   },
   "source": "# Preparo i dati\n\n# Dati reali (le top p gestures appena calcolate)\n# Essendo le top p gestures in un 'formato strano' le traduco in un array numpy (sono una lista di dizionari di liste)\nX_train = top_p_gestures_2_numpy(top_p_gestures, t3_query_top_p)\nX_test = [X_train[0]] # Prendo un dato a caso giusto x testare la predict\n#X_test = [np.array([0.5, 0.2, 0.3, 0.7, 0.1])] # Un esempio a caso deve avere p dimensioni (se non presente fra i dati deve dare None)\n\n# Semplice esempio di test su 2 dimensioni\n#X_train = [np.array([1, 1]), np.array([2, 2]), np.array([3, 3]), np.array([4, 1]), np.array([1, 2]), np.array([-1, -2]), np.array([5, 2])]\n#X_test = [np.array([4, 1]), np.array([4, 2])]",
   "outputs": [],
   "execution_count": null
  },
  {
   "cell_type": "code",
   "metadata": {
    "tags": [],
    "cell_id": "00050-387b0fc0-e1be-4529-ae1a-41b89849d568",
    "deepnote_to_be_reexecuted": false,
    "source_hash": "1913c4ea",
    "execution_start": 1638019659049,
    "execution_millis": 41,
    "deepnote_output_heights": [
     194,
     155.60000610351562
    ],
    "deepnote_cell_type": "code"
   },
   "source": "# Creo e fitto il partizionatore selezionando t4_p_partitions come numero di gruppi da creare\npartitioner = MyPartitioner(t4_p_partitions, max_iterations=5)\npartitioner.fit(X_train)\n#partitioner.fit(gesture_sim_matrix)\nprint(\"Dimensione spazio:\", partitioner.groups_space_dimension)\nprint(\"Gruppi:\\n\", partitioner.groups)",
   "outputs": [
    {
     "name": "stdout",
     "text": "Dimensione spazio: 8.11853962584625\nGruppi:\n {0: {'size': 2.7237317674185118, 'conditions': [(0.0737, 0.1673), (0.0031, 0.2592), (0.0017, 0.227), (0.0075, 0.2599), (0.002, 0.2941)], 'elements': [[0.0892, 0.1218, 0.0798, 0.024, 0.2941], [0.1449, 0.0031, 0.227, 0.0632, 0.148], [0.1224, 0.1361, 0.0502, 0.0824, 0.1451], [0.1131, 0.1353, 0.1097, 0.1524, 0.0539], [0.1618, 0.0075, 0.0264, 0.043, 0.1725], [0.0737, 0.1443, 0.1657, 0.008, 0.0595], [0.1082, 0.0653, 0.2106, 0.1076, 0.1512], [0.1245, 0.2032, 0.0992, 0.1691, 0.1467], [0.104, 0.0307, 0.1943, 0.0572, 0.1101], [0.1153, 0.1754, 0.1892, 0.0162, 0.0103], [0.1153, 0.0646, 0.0919, 0.2599, 0.1506], [0.1353, 0.2592, 0.1092, 0.0275, 0.0055], [0.1209, 0.1384, 0.0017, 0.0715, 0.0616], [0.1673, 0.1047, 0.0807, 0.0159, 0.0405], [0.148, 0.0952, 0.1137, 0.047, 0.0391], [0.0872, 0.1545, 0.1008, 0.0075, 0.1702], [0.1054, 0.1179, 0.1643, 0.0575, 0.002], [0.1495, 0.0042, 0.1553, 0.1154, 0.0273], [0.099, 0.0273, 0.2112, 0.164, 0.1453], [0.1486, 0.0412, 0.1049, 0.2147, 0.106], [0.1565, 0.0054, 0.1461, 0.071, 0.1457], [0.1153, 0.0598, 0.1093, 0.0102, 0.0523], [0.1277, 0.1115, 0.1036, 0.029, 0.0311], [0.1478, 0.0159, 0.1975, 0.1882, 0.1303], [0.1617, 0.2049, 0.1384, 0.1421, 0.0494], [0.1607, 0.0401, 0.16, 0.1263, 0.1494], [0.1403, 0.0108, 0.1643, 0.0913, 0.0357]]}, 1: {'size': 2.7925136923544795, 'conditions': [(0.0806, 0.1744), (0.0163, 0.2257), (0.0012, 0.2506), (0.0104, 0.2876), (0.0008, 0.3237)], 'elements': [[0.1744, 0.033, 0.1868, 0.0104, 0.1586], [0.1331, 0.05, 0.103, 0.0688, 0.021], [0.1366, 0.0163, 0.0817, 0.2625, 0.1974], [0.0878, 0.1171, 0.0494, 0.1868, 0.0278], [0.1132, 0.105, 0.2506, 0.1624, 0.0939], [0.1299, 0.1527, 0.0748, 0.1032, 0.0617], [0.0806, 0.1107, 0.1437, 0.2876, 0.0636], [0.1064, 0.1825, 0.1651, 0.0557, 0.0518], [0.1354, 0.1965, 0.1597, 0.056, 0.0429], [0.1571, 0.1474, 0.1243, 0.0421, 0.0219], [0.1386, 0.137, 0.0228, 0.1349, 0.1714], [0.1043, 0.1059, 0.0098, 0.0261, 0.1212], [0.1066, 0.1867, 0.0159, 0.1096, 0.3038], [0.1496, 0.1644, 0.0012, 0.0668, 0.0871], [0.1505, 0.1515, 0.0127, 0.276, 0.0008], [0.1631, 0.1555, 0.0042, 0.1696, 0.1233], [0.1677, 0.1823, 0.0319, 0.0264, 0.044], [0.1648, 0.0714, 0.1154, 0.062, 0.1498], [0.1024, 0.2257, 0.1397, 0.0985, 0.0257], [0.1129, 0.0218, 0.1944, 0.0192, 0.1738], [0.1605, 0.1254, 0.1499, 0.0276, 0.0656], [0.1116, 0.1551, 0.01, 0.1311, 0.3237], [0.1512, 0.1099, 0.1213, 0.0108, 0.1409]]}, 2: {'size': 2.602294166073258, 'conditions': [(0.0568, 0.1399), (0.0091, 0.1803), (0.0106, 0.2204), (0.0301, 0.3392), (0.0027, 0.298)], 'elements': [[0.1132, 0.0091, 0.062, 0.0886, 0.298], [0.1193, 0.1471, 0.2204, 0.1334, 0.151], [0.0573, 0.1046, 0.1028, 0.0471, 0.0816], [0.1331, 0.1793, 0.0106, 0.1168, 0.0525], [0.1399, 0.1803, 0.0603, 0.3392, 0.0027], [0.0568, 0.0953, 0.0721, 0.2055, 0.044], [0.1217, 0.1684, 0.066, 0.0301, 0.0163], [0.0883, 0.1678, 0.1994, 0.0479, 0.2162], [0.1158, 0.1331, 0.124, 0.1835, 0.0667], [0.1387, 0.1429, 0.083, 0.153, 0.1154]]}}\n",
     "output_type": "stream"
    }
   ],
   "execution_count": null
  },
  {
   "cell_type": "code",
   "metadata": {
    "tags": [],
    "cell_id": "00051-57c18208-c98c-46bf-bf97-9c4d242d0c56",
    "deepnote_to_be_reexecuted": false,
    "source_hash": "13c56718",
    "execution_start": 1638019659117,
    "execution_millis": 8,
    "deepnote_cell_type": "code"
   },
   "source": "print(\"Predizione gruppi:\", partitioner.predict(X_test))",
   "outputs": [
    {
     "name": "stdout",
     "text": "Predizione gruppi: [([0.1512, 0.1099, 0.1213, 0.0108, 0.1409], 1)]\n",
     "output_type": "stream"
    }
   ],
   "execution_count": null
  },
  {
   "cell_type": "markdown",
   "source": "### Task 4B",
   "metadata": {
    "tags": [],
    "is_collapsed": false,
    "cell_id": "00046-aba01dff-15c5-4d34-91d7-d45e7d1d2aa0",
    "deepnote_cell_type": "text-cell-h3"
   }
  },
  {
   "cell_type": "markdown",
   "source": "Clustering matrice similarità gesture-gesture con un algoritmo basato sul k-means (scritto da noi)",
   "metadata": {
    "tags": [],
    "is_collapsed": false,
    "cell_id": "00049-e8f155be-1fbc-4c3e-b02b-696dfd483adc",
    "deepnote_cell_type": "text-cell-p"
   }
  },
  {
   "cell_type": "code",
   "metadata": {
    "tags": [],
    "cell_id": "00053-fc41c804-7678-4cea-b1fc-2dcc84e5b4bc",
    "deepnote_to_be_reexecuted": false,
    "source_hash": "b23cf1ab",
    "execution_start": 1638019659155,
    "execution_millis": 11,
    "deepnote_cell_type": "code"
   },
   "source": "# Settings del k-means\nk = 5 # numero clusters\nmin_tolerance = 0.1 #meno di 10% differenza va bene\nmax_iterations = 5 # max numero di iterazioni\n\n# Generazione dati fasully, giusto x testare\n#X_train = np.array([[1, 2, 3],[1, 4, 5],[2, 7, 4],[3, 9, 2],[5, 5, 5]])\n#X_test = np.array([2, 1, 1])\n\n# Oppure uso dati reali\nX_train = gestures_sim_matrix_pd.to_numpy()\n# per test del data, sono 60x60\nX_test = X_train[0:10] # Prendo tot elementi del training data e provo poi a predirli, o sotto predico un elemento nuovo\n#X_test = [np.array([1, 1, 1, 1, 1, 1, 1, 1, 1, 1, 1, 1, 1, 1, 1, 1, 1, 1, 1, 1, 1, 1, 1, 1, 1, 1, 1, 1, 1, 1, 1, 1, 1, 1, 1, 1, 1, 1, 1, 1, 1, 1, 1, 1, 1, 1, 1, 1, 1, 1, 1, 1, 1, 1, 1, 1, 1, 1, 1, 1])]",
   "outputs": [],
   "execution_count": null
  },
  {
   "cell_type": "code",
   "metadata": {
    "tags": [],
    "cell_id": "00053-b2fce304-e4af-4e1a-b571-9d8e33f0fd20",
    "deepnote_to_be_reexecuted": false,
    "source_hash": "418ea723",
    "execution_start": 1638019659193,
    "execution_millis": 43,
    "deepnote_output_heights": [
     21.199996948242188
    ],
    "deepnote_cell_type": "code"
   },
   "source": "# Creazione e fit dell'algoritmo\nkmean = SimpleKMeans(k=k, min_tolerance=min_tolerance, max_iterations=max_iterations)\nkmean.fit(X_train)",
   "outputs": [],
   "execution_count": null
  },
  {
   "cell_type": "code",
   "metadata": {
    "tags": [],
    "cell_id": "00054-d6a5bc9f-5bba-42b3-93b6-c5846ecf9aea",
    "deepnote_to_be_reexecuted": false,
    "source_hash": "22b3cb16",
    "execution_start": 1638019659257,
    "execution_millis": 21,
    "deepnote_output_heights": [
     21.199996948242188,
     21.199996948242188
    ],
    "deepnote_cell_type": "code"
   },
   "source": "# Predizione dati\npredictions = kmean.predict(X_test)\nprint(predictions)",
   "outputs": [
    {
     "name": "stdout",
     "text": "[0, 2, 1, 1, 0, 2, 1, 1, 0, 2]\n",
     "output_type": "stream"
    }
   ],
   "execution_count": null
  },
  {
   "cell_type": "markdown",
   "source": "### Task 4C",
   "metadata": {
    "tags": [],
    "is_collapsed": false,
    "cell_id": "00048-5cfa9be3-10a5-4401-bf03-b9d304c3196b",
    "deepnote_cell_type": "text-cell-h3"
   }
  },
  {
   "cell_type": "markdown",
   "source": "Clustering matrice similarità gesture-gesture con un algoritmo di clustering spettrale basato sulla matrice laplaciana",
   "metadata": {
    "tags": [],
    "is_collapsed": false,
    "cell_id": "00051-03956622-a0af-4ed6-8b21-e44448b6632d",
    "deepnote_cell_type": "text-cell-p"
   }
  },
  {
   "cell_type": "code",
   "metadata": {
    "tags": [],
    "cell_id": "00052-df70d435-7ebe-4eb7-88c2-2742141056d3",
    "deepnote_to_be_reexecuted": false,
    "source_hash": "4d046c65",
    "execution_start": 1638019659377,
    "execution_millis": 257,
    "deepnote_cell_type": "code"
   },
   "source": "analysys_spectral_results = spectral_clustering_analyze(gestures_sim_matrix_pd, max_clusters=15)\nanalysys_spectral_results = spectral_analisys_results_2_pandas(analysys_spectral_results, gestures_sim_matrix_pd)",
   "outputs": [],
   "execution_count": null
  },
  {
   "cell_type": "code",
   "metadata": {
    "tags": [],
    "cell_id": "00053-9c0ede94-414f-46f9-a4a6-231b3beb4052",
    "deepnote_to_be_reexecuted": false,
    "source_hash": "6e9152ab",
    "execution_start": 1638019659653,
    "execution_millis": 124,
    "deepnote_output_heights": [
     527
    ],
    "deepnote_cell_type": "code"
   },
   "source": "# Plot clusters sankey\nsource, target, value = spectral_analisys_results_pandas_2_split(analysys_spectral_results)\nfig = go.Figure(data=[go.Sankey(\n    node = dict(\n        pad = 15,\n        thickness = 20,\n        line = dict(color = \"black\", width = 0.5),\n        label = list(set(source).union(set(target))),\n        color = \"blue\"\n    ),\n    link = dict(\n        source = source,\n        target = target,\n        value = value\n    )\n)])\n\nfig.update_layout(title_text=\"Spectral Clustering Evolution\", font_size=10)\nfig.show()",
   "outputs": [
    {
     "data": {
      "text/html": "<html>\n<head><meta charset=\"utf-8\" /></head>\n<body>\n    <div>            <script src=\"https://cdnjs.cloudflare.com/ajax/libs/mathjax/2.7.5/MathJax.js?config=TeX-AMS-MML_SVG\"></script><script type=\"text/javascript\">if (window.MathJax) {MathJax.Hub.Config({SVG: {font: \"STIX-Web\"}});}</script>                <script type=\"text/javascript\">window.PlotlyConfig = {MathJaxConfig: 'local'};</script>\n        <script src=\"https://cdn.plot.ly/plotly-2.4.2.min.js\"></script>                <div id=\"2816db72-47d1-4d22-ba4e-79228df8ad36\" class=\"plotly-graph-div\" style=\"height:525px; width:100%;\"></div>            <script type=\"text/javascript\">                                    window.PLOTLYENV=window.PLOTLYENV || {};                                    if (document.getElementById(\"2816db72-47d1-4d22-ba4e-79228df8ad36\")) {                    Plotly.newPlot(                        \"2816db72-47d1-4d22-ba4e-79228df8ad36\",                        [{\"link\":{\"source\":[0,0,1,1,2,2,4,3,4,3,5,8,6,9,8,6,9,8,6,7,7,7,12,12,11,12,10,14,10,14,13,10,11,13,13,20,17,18,17,16,18,17,15,15,16,17,15,15,16,19,19,19,20,16,19,27,23,23,27,25,26,25,23,27,21,21,22,26,24,21,24,22,22,21,24,25,35,34,32,34,31,30,33,28,29,32,43,42,40,44,39,40,38,38,41,36,41,38,36,39,43,37,39,52,49,50,46,49,51,53,52,50,48,45,54,53,48,48,54,46,47,47,47,54,65,64,59,62,57,62,61,57,58,55,55,55,56,56,55,60,63,58,63,58,65,62,60,61,65,60,56,63,59,63,57,57,67,74,68,74,77,71,72,72,75,71,76,66,76,75,70,69,75,75,70,77,71,69,72,72,69,68,67,77,66,73,73,73,66,66,77,66,83,85,81,80,85,84,79,83,80,87,87,78,88,90,86,87,89,90,90,81,89,90,84,90,89,83,82,86,80,79,82,86,88,81],\"target\":[1,2,4,3,4,5,8,6,9,9,7,12,11,12,11,10,14,10,14,13,10,11,20,17,18,16,15,16,17,15,19,19,19,16,18,27,23,23,27,25,26,25,27,21,21,22,26,24,24,22,21,26,25,22,24,35,34,32,34,31,32,34,30,30,33,28,30,33,30,30,33,35,29,34,35,32,43,42,40,44,39,38,41,36,37,41,52,49,50,46,46,51,53,48,45,45,54,45,48,48,47,47,51,65,64,59,62,57,61,64,57,64,58,55,56,60,59,63,63,63,65,60,63,59,67,74,68,74,74,77,71,72,75,71,76,66,70,69,75,70,77,68,70,70,71,69,72,77,66,73,73,73,66,66,77,66,83,85,81,80,84,79,85,83,87,87,78,78,88,90,86,87,89,78,90,89,89,84,82,78,86,86,89,79,83,82,86,84,86,88,81,85,101,95,97,104,94,98,92,94,97,96,91,91,104,103,102,98,103,104,100,96,99,102,99,96,94,100,93,97,98,101,95,100,100,94],\"value\":[26,34,8,18,15,19,20,14,3,4,19,15,1,2,3,7,5,2,6,16,1,2,6,9,5,2,7,5,2,6,14,1,1,1,1,3,4,2,2,4,4,4,1,6,1,1,3,3,2,11,1,3,3,1,1,4,3,2,1,5,5,5,1,1,1,5,1,5,4,1,1,4,8,1,1,1,9,8,7,2,5,8,7,5,8,1,6,8,4,2,3,3,2,5,1,4,7,1,1,1,3,8,1,5,2,3,4,6,4,1,1,1,5,6,5,1,1,1,1,1,3,6,2,1,6,4,4,2,2,1,3,3,3,1,2,2,2,2,1,1,2,1,1,1,1,1,3,1,1,3,1,1,1,1,1,1,4,5,4,3,2,3,1,1,1,1,1,2,1,1,1,1,1,1,4,1,1,1,3,1,1,1,2,1,1,3,1,1,1,1,1,1,2,3,2,1,4,3,3,1,1,1,1,5,1,1,2,1,3,1,1,2,1,1,1,1,1,3,4,2,1,1,2,1,1,1]},\"node\":{\"color\":\"blue\",\"label\":[0,1,2,3,4,5,6,7,8,9,10,11,12,13,14,15,16,17,18,19,20,21,22,23,24,25,26,27,28,29,30,31,32,33,34,35,36,37,38,39,40,41,42,43,44,45,46,47,48,49,50,51,52,53,54,55,56,57,58,59,60,61,62,63,64,65,66,67,68,69,70,71,72,73,74,75,76,77,78,79,80,81,82,83,84,85,86,87,88,89,90,91,92,93,94,95,96,97,98,99,100,101,102,103,104],\"line\":{\"color\":\"black\",\"width\":0.5},\"pad\":15,\"thickness\":20},\"type\":\"sankey\"}],                        {\"font\":{\"size\":10},\"template\":{\"data\":{\"bar\":[{\"error_x\":{\"color\":\"#2a3f5f\"},\"error_y\":{\"color\":\"#2a3f5f\"},\"marker\":{\"line\":{\"color\":\"#E5ECF6\",\"width\":0.5},\"pattern\":{\"fillmode\":\"overlay\",\"size\":10,\"solidity\":0.2}},\"type\":\"bar\"}],\"barpolar\":[{\"marker\":{\"line\":{\"color\":\"#E5ECF6\",\"width\":0.5},\"pattern\":{\"fillmode\":\"overlay\",\"size\":10,\"solidity\":0.2}},\"type\":\"barpolar\"}],\"carpet\":[{\"aaxis\":{\"endlinecolor\":\"#2a3f5f\",\"gridcolor\":\"white\",\"linecolor\":\"white\",\"minorgridcolor\":\"white\",\"startlinecolor\":\"#2a3f5f\"},\"baxis\":{\"endlinecolor\":\"#2a3f5f\",\"gridcolor\":\"white\",\"linecolor\":\"white\",\"minorgridcolor\":\"white\",\"startlinecolor\":\"#2a3f5f\"},\"type\":\"carpet\"}],\"choropleth\":[{\"colorbar\":{\"outlinewidth\":0,\"ticks\":\"\"},\"type\":\"choropleth\"}],\"contour\":[{\"colorbar\":{\"outlinewidth\":0,\"ticks\":\"\"},\"colorscale\":[[0.0,\"#0d0887\"],[0.1111111111111111,\"#46039f\"],[0.2222222222222222,\"#7201a8\"],[0.3333333333333333,\"#9c179e\"],[0.4444444444444444,\"#bd3786\"],[0.5555555555555556,\"#d8576b\"],[0.6666666666666666,\"#ed7953\"],[0.7777777777777778,\"#fb9f3a\"],[0.8888888888888888,\"#fdca26\"],[1.0,\"#f0f921\"]],\"type\":\"contour\"}],\"contourcarpet\":[{\"colorbar\":{\"outlinewidth\":0,\"ticks\":\"\"},\"type\":\"contourcarpet\"}],\"heatmap\":[{\"colorbar\":{\"outlinewidth\":0,\"ticks\":\"\"},\"colorscale\":[[0.0,\"#0d0887\"],[0.1111111111111111,\"#46039f\"],[0.2222222222222222,\"#7201a8\"],[0.3333333333333333,\"#9c179e\"],[0.4444444444444444,\"#bd3786\"],[0.5555555555555556,\"#d8576b\"],[0.6666666666666666,\"#ed7953\"],[0.7777777777777778,\"#fb9f3a\"],[0.8888888888888888,\"#fdca26\"],[1.0,\"#f0f921\"]],\"type\":\"heatmap\"}],\"heatmapgl\":[{\"colorbar\":{\"outlinewidth\":0,\"ticks\":\"\"},\"colorscale\":[[0.0,\"#0d0887\"],[0.1111111111111111,\"#46039f\"],[0.2222222222222222,\"#7201a8\"],[0.3333333333333333,\"#9c179e\"],[0.4444444444444444,\"#bd3786\"],[0.5555555555555556,\"#d8576b\"],[0.6666666666666666,\"#ed7953\"],[0.7777777777777778,\"#fb9f3a\"],[0.8888888888888888,\"#fdca26\"],[1.0,\"#f0f921\"]],\"type\":\"heatmapgl\"}],\"histogram\":[{\"marker\":{\"pattern\":{\"fillmode\":\"overlay\",\"size\":10,\"solidity\":0.2}},\"type\":\"histogram\"}],\"histogram2d\":[{\"colorbar\":{\"outlinewidth\":0,\"ticks\":\"\"},\"colorscale\":[[0.0,\"#0d0887\"],[0.1111111111111111,\"#46039f\"],[0.2222222222222222,\"#7201a8\"],[0.3333333333333333,\"#9c179e\"],[0.4444444444444444,\"#bd3786\"],[0.5555555555555556,\"#d8576b\"],[0.6666666666666666,\"#ed7953\"],[0.7777777777777778,\"#fb9f3a\"],[0.8888888888888888,\"#fdca26\"],[1.0,\"#f0f921\"]],\"type\":\"histogram2d\"}],\"histogram2dcontour\":[{\"colorbar\":{\"outlinewidth\":0,\"ticks\":\"\"},\"colorscale\":[[0.0,\"#0d0887\"],[0.1111111111111111,\"#46039f\"],[0.2222222222222222,\"#7201a8\"],[0.3333333333333333,\"#9c179e\"],[0.4444444444444444,\"#bd3786\"],[0.5555555555555556,\"#d8576b\"],[0.6666666666666666,\"#ed7953\"],[0.7777777777777778,\"#fb9f3a\"],[0.8888888888888888,\"#fdca26\"],[1.0,\"#f0f921\"]],\"type\":\"histogram2dcontour\"}],\"mesh3d\":[{\"colorbar\":{\"outlinewidth\":0,\"ticks\":\"\"},\"type\":\"mesh3d\"}],\"parcoords\":[{\"line\":{\"colorbar\":{\"outlinewidth\":0,\"ticks\":\"\"}},\"type\":\"parcoords\"}],\"pie\":[{\"automargin\":true,\"type\":\"pie\"}],\"scatter\":[{\"marker\":{\"colorbar\":{\"outlinewidth\":0,\"ticks\":\"\"}},\"type\":\"scatter\"}],\"scatter3d\":[{\"line\":{\"colorbar\":{\"outlinewidth\":0,\"ticks\":\"\"}},\"marker\":{\"colorbar\":{\"outlinewidth\":0,\"ticks\":\"\"}},\"type\":\"scatter3d\"}],\"scattercarpet\":[{\"marker\":{\"colorbar\":{\"outlinewidth\":0,\"ticks\":\"\"}},\"type\":\"scattercarpet\"}],\"scattergeo\":[{\"marker\":{\"colorbar\":{\"outlinewidth\":0,\"ticks\":\"\"}},\"type\":\"scattergeo\"}],\"scattergl\":[{\"marker\":{\"colorbar\":{\"outlinewidth\":0,\"ticks\":\"\"}},\"type\":\"scattergl\"}],\"scattermapbox\":[{\"marker\":{\"colorbar\":{\"outlinewidth\":0,\"ticks\":\"\"}},\"type\":\"scattermapbox\"}],\"scatterpolar\":[{\"marker\":{\"colorbar\":{\"outlinewidth\":0,\"ticks\":\"\"}},\"type\":\"scatterpolar\"}],\"scatterpolargl\":[{\"marker\":{\"colorbar\":{\"outlinewidth\":0,\"ticks\":\"\"}},\"type\":\"scatterpolargl\"}],\"scatterternary\":[{\"marker\":{\"colorbar\":{\"outlinewidth\":0,\"ticks\":\"\"}},\"type\":\"scatterternary\"}],\"surface\":[{\"colorbar\":{\"outlinewidth\":0,\"ticks\":\"\"},\"colorscale\":[[0.0,\"#0d0887\"],[0.1111111111111111,\"#46039f\"],[0.2222222222222222,\"#7201a8\"],[0.3333333333333333,\"#9c179e\"],[0.4444444444444444,\"#bd3786\"],[0.5555555555555556,\"#d8576b\"],[0.6666666666666666,\"#ed7953\"],[0.7777777777777778,\"#fb9f3a\"],[0.8888888888888888,\"#fdca26\"],[1.0,\"#f0f921\"]],\"type\":\"surface\"}],\"table\":[{\"cells\":{\"fill\":{\"color\":\"#EBF0F8\"},\"line\":{\"color\":\"white\"}},\"header\":{\"fill\":{\"color\":\"#C8D4E3\"},\"line\":{\"color\":\"white\"}},\"type\":\"table\"}]},\"layout\":{\"annotationdefaults\":{\"arrowcolor\":\"#2a3f5f\",\"arrowhead\":0,\"arrowwidth\":1},\"autotypenumbers\":\"strict\",\"coloraxis\":{\"colorbar\":{\"outlinewidth\":0,\"ticks\":\"\"}},\"colorscale\":{\"diverging\":[[0,\"#8e0152\"],[0.1,\"#c51b7d\"],[0.2,\"#de77ae\"],[0.3,\"#f1b6da\"],[0.4,\"#fde0ef\"],[0.5,\"#f7f7f7\"],[0.6,\"#e6f5d0\"],[0.7,\"#b8e186\"],[0.8,\"#7fbc41\"],[0.9,\"#4d9221\"],[1,\"#276419\"]],\"sequential\":[[0.0,\"#0d0887\"],[0.1111111111111111,\"#46039f\"],[0.2222222222222222,\"#7201a8\"],[0.3333333333333333,\"#9c179e\"],[0.4444444444444444,\"#bd3786\"],[0.5555555555555556,\"#d8576b\"],[0.6666666666666666,\"#ed7953\"],[0.7777777777777778,\"#fb9f3a\"],[0.8888888888888888,\"#fdca26\"],[1.0,\"#f0f921\"]],\"sequentialminus\":[[0.0,\"#0d0887\"],[0.1111111111111111,\"#46039f\"],[0.2222222222222222,\"#7201a8\"],[0.3333333333333333,\"#9c179e\"],[0.4444444444444444,\"#bd3786\"],[0.5555555555555556,\"#d8576b\"],[0.6666666666666666,\"#ed7953\"],[0.7777777777777778,\"#fb9f3a\"],[0.8888888888888888,\"#fdca26\"],[1.0,\"#f0f921\"]]},\"colorway\":[\"#636efa\",\"#EF553B\",\"#00cc96\",\"#ab63fa\",\"#FFA15A\",\"#19d3f3\",\"#FF6692\",\"#B6E880\",\"#FF97FF\",\"#FECB52\"],\"font\":{\"color\":\"#2a3f5f\"},\"geo\":{\"bgcolor\":\"white\",\"lakecolor\":\"white\",\"landcolor\":\"#E5ECF6\",\"showlakes\":true,\"showland\":true,\"subunitcolor\":\"white\"},\"hoverlabel\":{\"align\":\"left\"},\"hovermode\":\"closest\",\"mapbox\":{\"style\":\"light\"},\"paper_bgcolor\":\"white\",\"plot_bgcolor\":\"#E5ECF6\",\"polar\":{\"angularaxis\":{\"gridcolor\":\"white\",\"linecolor\":\"white\",\"ticks\":\"\"},\"bgcolor\":\"#E5ECF6\",\"radialaxis\":{\"gridcolor\":\"white\",\"linecolor\":\"white\",\"ticks\":\"\"}},\"scene\":{\"xaxis\":{\"backgroundcolor\":\"#E5ECF6\",\"gridcolor\":\"white\",\"gridwidth\":2,\"linecolor\":\"white\",\"showbackground\":true,\"ticks\":\"\",\"zerolinecolor\":\"white\"},\"yaxis\":{\"backgroundcolor\":\"#E5ECF6\",\"gridcolor\":\"white\",\"gridwidth\":2,\"linecolor\":\"white\",\"showbackground\":true,\"ticks\":\"\",\"zerolinecolor\":\"white\"},\"zaxis\":{\"backgroundcolor\":\"#E5ECF6\",\"gridcolor\":\"white\",\"gridwidth\":2,\"linecolor\":\"white\",\"showbackground\":true,\"ticks\":\"\",\"zerolinecolor\":\"white\"}},\"shapedefaults\":{\"line\":{\"color\":\"#2a3f5f\"}},\"ternary\":{\"aaxis\":{\"gridcolor\":\"white\",\"linecolor\":\"white\",\"ticks\":\"\"},\"baxis\":{\"gridcolor\":\"white\",\"linecolor\":\"white\",\"ticks\":\"\"},\"bgcolor\":\"#E5ECF6\",\"caxis\":{\"gridcolor\":\"white\",\"linecolor\":\"white\",\"ticks\":\"\"}},\"title\":{\"x\":0.05},\"xaxis\":{\"automargin\":true,\"gridcolor\":\"white\",\"linecolor\":\"white\",\"ticks\":\"\",\"title\":{\"standoff\":15},\"zerolinecolor\":\"white\",\"zerolinewidth\":2},\"yaxis\":{\"automargin\":true,\"gridcolor\":\"white\",\"linecolor\":\"white\",\"ticks\":\"\",\"title\":{\"standoff\":15},\"zerolinecolor\":\"white\",\"zerolinewidth\":2}}},\"title\":{\"text\":\"Spectral Clustering Evolution\"}},                        {\"responsive\": true}                    ).then(function(){\n                            \nvar gd = document.getElementById('2816db72-47d1-4d22-ba4e-79228df8ad36');\nvar x = new MutationObserver(function (mutations, observer) {{\n        var display = window.getComputedStyle(gd).display;\n        if (!display || display === 'none') {{\n            console.log([gd, 'removed!']);\n            Plotly.purge(gd);\n            observer.disconnect();\n        }}\n}});\n\n// Listen for the removal of the full notebook cells\nvar notebookContainer = gd.closest('#notebook-container');\nif (notebookContainer) {{\n    x.observe(notebookContainer, {childList: true});\n}}\n\n// Listen for the clearing of the current output cell\nvar outputEl = gd.closest('.output');\nif (outputEl) {{\n    x.observe(outputEl, {childList: true});\n}}\n\n                        })                };                            </script>        </div>\n</body>\n</html>"
     },
     "metadata": {},
     "output_type": "display_data"
    }
   ],
   "execution_count": null
  },
  {
   "cell_type": "code",
   "metadata": {
    "tags": [],
    "cell_id": "00054-16677564-9ecd-46f0-a9c2-0a8baed2a875",
    "deepnote_to_be_reexecuted": false,
    "source_hash": "4eccfae5",
    "execution_start": 1638019659786,
    "execution_millis": 42,
    "deepnote_output_heights": [
     611,
     611
    ],
    "deepnote_cell_type": "code"
   },
   "source": "generated_cluster_labels = spectral_clustering(gestures_sim_matrix_pd, n_clusters=t4_p_partitions)#, offset=44) # Usare offset se vogliamo mostrare i nomi dei cluster mostrati nel sankey, offset=44 per n_clusters=10\nclustering_labels = [str(elem) for elem in set(generated_cluster_labels)] # All the cluster names\nprint(\"Cluster Names:\", clustering_labels)\nprint(\"\\nClustering Result:\\n\", generated_cluster_labels)\n## In caso si voglia far vedere per bene le accoppiate (Gesture X, Label Y)\ncluster_labels_full = cluster_labels_2_pandas(generated_cluster_labels, gestures_sim_matrix_pd.columns)\nprint(\"\\nClustering Results(full info):\\n\", cluster_labels_full)",
   "outputs": [
    {
     "name": "stdout",
     "text": "Cluster Names: ['0', '1', '2']\n\nClustering Result:\n [1 1 0 1 1 1 1 1 1 1 1 1 1 0 0 0 0 0 1 0 0 0 1 0 0 0 0 0 1 0 0 1 0 1 0 2 2\n 2 2 2 2 2 2 1 1 2 2 2 2 2 2 2 2 2 2 1 2 1 1 1]\n\nClustering Results(full info):\n [{'Gesture': '1', 'Label': 1}, {'Gesture': '10', 'Label': 1}, {'Gesture': '11', 'Label': 0}, {'Gesture': '12', 'Label': 1}, {'Gesture': '13', 'Label': 1}, {'Gesture': '14', 'Label': 1}, {'Gesture': '15', 'Label': 1}, {'Gesture': '16', 'Label': 1}, {'Gesture': '17', 'Label': 1}, {'Gesture': '18', 'Label': 1}, {'Gesture': '19', 'Label': 1}, {'Gesture': '2', 'Label': 1}, {'Gesture': '20', 'Label': 1}, {'Gesture': '21', 'Label': 0}, {'Gesture': '22', 'Label': 0}, {'Gesture': '23', 'Label': 0}, {'Gesture': '24', 'Label': 0}, {'Gesture': '25', 'Label': 0}, {'Gesture': '26', 'Label': 1}, {'Gesture': '27', 'Label': 0}, {'Gesture': '28', 'Label': 0}, {'Gesture': '29', 'Label': 0}, {'Gesture': '3', 'Label': 1}, {'Gesture': '30', 'Label': 0}, {'Gesture': '31', 'Label': 0}, {'Gesture': '32', 'Label': 0}, {'Gesture': '33', 'Label': 0}, {'Gesture': '34', 'Label': 0}, {'Gesture': '35', 'Label': 1}, {'Gesture': '36', 'Label': 0}, {'Gesture': '37', 'Label': 0}, {'Gesture': '38', 'Label': 1}, {'Gesture': '39', 'Label': 0}, {'Gesture': '4', 'Label': 1}, {'Gesture': '40', 'Label': 0}, {'Gesture': '41', 'Label': 2}, {'Gesture': '42', 'Label': 2}, {'Gesture': '43', 'Label': 2}, {'Gesture': '44', 'Label': 2}, {'Gesture': '45', 'Label': 2}, {'Gesture': '46', 'Label': 2}, {'Gesture': '47', 'Label': 2}, {'Gesture': '48', 'Label': 2}, {'Gesture': '49', 'Label': 1}, {'Gesture': '5', 'Label': 1}, {'Gesture': '50', 'Label': 2}, {'Gesture': '51', 'Label': 2}, {'Gesture': '52', 'Label': 2}, {'Gesture': '53', 'Label': 2}, {'Gesture': '54', 'Label': 2}, {'Gesture': '55', 'Label': 2}, {'Gesture': '56', 'Label': 2}, {'Gesture': '57', 'Label': 2}, {'Gesture': '58', 'Label': 2}, {'Gesture': '59', 'Label': 2}, {'Gesture': '6', 'Label': 1}, {'Gesture': '60', 'Label': 2}, {'Gesture': '7', 'Label': 1}, {'Gesture': '8', 'Label': 1}, {'Gesture': '9', 'Label': 1}]\n",
     "output_type": "stream"
    }
   ],
   "execution_count": null
  },
  {
   "cell_type": "markdown",
   "source": "## Task 5 ",
   "metadata": {
    "tags": [],
    "is_collapsed": false,
    "cell_id": "00047-ca6ba479-67d1-47c0-9e18-3f88843cf02f",
    "deepnote_cell_type": "text-cell-h2"
   }
  },
  {
   "cell_type": "code",
   "metadata": {
    "tags": [],
    "cell_id": "00058-2377e8f9-b3be-4e2b-ad82-ca34dbc6bf86",
    "deepnote_to_be_reexecuted": false,
    "source_hash": "a85b8ee2",
    "execution_start": 1638019659835,
    "execution_millis": 2676,
    "deepnote_cell_type": "code"
   },
   "source": "# Genero il dataframe pandas a partire dai dati e dalle loro labels\nX_train_df, y_train_df, reshaped_features_names = database_numpy_2_supervised_data(alg_database['np_database'], cluster_labels_full)\n\n# Fitto un normalizzatore sui dati di train\nscaler = StandardScaler()\nscaler.fit(X_train_df)\n# Normalizzo i dati di train\nX_train = scaler.transform(X_train_df)\ny_train = y_train_df.values.ravel()",
   "outputs": [],
   "execution_count": null
  },
  {
   "cell_type": "code",
   "source": "# Preparo i dati di test\n#test_data = [[0, 1, 1, 1, 1, 1, 1, 1, 1, 1, 1, 1, 1, 1, 1, 1], [0, 1, 1, 0, 0, 0, 0, 1, 0, 1, 0, 1, 0, 0, 1, 1]]\n# Eseguo reshape dei dati (rendo le matrici in righe, come viene fatto anche x quello di train)\ntest_data = t5_alg_database['np_database']\ntest_data = np.transpose(test_data,(0,1,2)).reshape(test_data.shape[0],-1)\nX_test_df = prepare_test_dataframe(test_data, reshaped_features_names)\n\n# Normalizzo i dati di test\nX_test = scaler.transform(X_test_df)",
   "metadata": {
    "tags": [],
    "cell_id": "00070-ef334c6a-c6f0-4bb1-afd0-b7c614bfff3b",
    "deepnote_cell_type": "code"
   },
   "outputs": [],
   "execution_count": null
  },
  {
   "cell_type": "markdown",
   "source": "### Classificazione con k-nearest neighbor",
   "metadata": {
    "tags": [],
    "is_collapsed": false,
    "cell_id": "00058-be2015dd-a32d-49bd-80ca-c70d45ea5f1d",
    "deepnote_cell_type": "text-cell-h3"
   }
  },
  {
   "cell_type": "code",
   "metadata": {
    "tags": [],
    "cell_id": "00058-4219f70d-c44d-464a-a238-6f9f9f157f98",
    "deepnote_to_be_reexecuted": false,
    "source_hash": "4f673a89",
    "execution_start": 1638019666576,
    "execution_millis": 25,
    "deepnote_output_heights": [
     21.199996948242188
    ],
    "deepnote_cell_type": "code"
   },
   "source": "# Addestro il classificatore\nn_neighbors = 5 # Numero di vicini che uso x decidere la label\nclassifier = KNeighborsClassifier(n_neighbors=n_neighbors)\nclassifier.fit(X_train, y_train)",
   "outputs": [
    {
     "output_type": "execute_result",
     "execution_count": 51,
     "data": {
      "text/plain": "KNeighborsClassifier()"
     },
     "metadata": {}
    }
   ],
   "execution_count": null
  },
  {
   "cell_type": "code",
   "metadata": {
    "tags": [],
    "cell_id": "00061-0abd1337-9406-4c02-91b2-ad8ffdeb4137",
    "deepnote_to_be_reexecuted": false,
    "source_hash": "729d824e",
    "execution_start": 1638019666638,
    "execution_millis": 139,
    "deepnote_output_heights": [
     21.199996948242188
    ],
    "deepnote_cell_type": "code"
   },
   "source": "# Predico\ny_pred = classifier.predict(X_test)\nprint(\"(\"+str(n_neighbors)+\")NN - Predictions:\\n\", y_pred)",
   "outputs": [
    {
     "name": "stdout",
     "text": "(5)NN - Predictions:\n [1 0 0 2 0 1 2 1 2 1 0 1 0 0 0 2 1 1 1 1 1 0 0 1 1 0 1 1 2 0 1 0 1 0 2 0 1\n 0 2 0 0 1 1 0 1 1 0 1 2 0 1 1 1 1 2 0 1 0 0 1 1 1 1 1 1 1 1 0 2 1 0 0 0 0\n 1 1 0 1 1 2 1 1 1 0 1 0 0 0 1 1 1 1 1]\n",
     "output_type": "stream"
    }
   ],
   "execution_count": null
  },
  {
   "cell_type": "markdown",
   "source": "### Classificazione con decision tree",
   "metadata": {
    "tags": [],
    "is_collapsed": false,
    "cell_id": "00060-635d37c3-f66e-454d-8b84-316306713b7a",
    "deepnote_cell_type": "text-cell-h3"
   }
  },
  {
   "cell_type": "code",
   "metadata": {
    "tags": [],
    "cell_id": "00061-1a624ecf-e3d8-4eae-811d-fd06915be624",
    "deepnote_to_be_reexecuted": false,
    "source_hash": "896362cb",
    "execution_start": 1638019666771,
    "execution_millis": 47,
    "deepnote_output_heights": [
     611
    ],
    "deepnote_cell_type": "code"
   },
   "source": "# Addestro l'albero di decisione\nclf = tree.DecisionTreeClassifier()#(max_depth=10)\nclf = clf.fit(X_train, y_train)\n\n# Eseguo il plot dell'albero di decisione creato\ndot_data = tree.export_graphviz(clf, out_file=None,\n    feature_names=reshaped_features_names,\n    class_names=clustering_labels, #['Ugo', 'Federico', 'D.Va'],\n    filled=True, rounded=True,\n    special_characters=True)\ngraph = graphviz.Source(dot_data)\ngraph",
   "outputs": [
    {
     "output_type": "execute_result",
     "execution_count": 53,
     "data": {
      "text/plain": "<graphviz.sources.Source at 0x7fc7715cced0>",
      "image/svg+xml": "<?xml version=\"1.0\" encoding=\"UTF-8\" standalone=\"no\"?>\n<!DOCTYPE svg PUBLIC \"-//W3C//DTD SVG 1.1//EN\"\n \"http://www.w3.org/Graphics/SVG/1.1/DTD/svg11.dtd\">\n<!-- Generated by graphviz version 2.40.1 (20161225.0304)\n -->\n<!-- Title: Tree Pages: 1 -->\n<svg width=\"622pt\" height=\"552pt\"\n viewBox=\"0.00 0.00 622.00 552.00\" xmlns=\"http://www.w3.org/2000/svg\" xmlns:xlink=\"http://www.w3.org/1999/xlink\">\n<g id=\"graph0\" class=\"graph\" transform=\"scale(1 1) rotate(0) translate(4 548)\">\n<title>Tree</title>\n<polygon fill=\"#ffffff\" stroke=\"transparent\" points=\"-4,4 -4,-548 618,-548 618,4 -4,4\"/>\n<!-- 0 -->\n<g id=\"node1\" class=\"node\">\n<title>0</title>\n<path fill=\"#ecfcf3\" stroke=\"#000000\" d=\"M372,-544C372,-544 237,-544 237,-544 231,-544 225,-538 225,-532 225,-532 225,-473 225,-473 225,-467 231,-461 237,-461 237,-461 372,-461 372,-461 378,-461 384,-467 384,-473 384,-473 384,-532 384,-532 384,-538 378,-544 372,-544\"/>\n<text text-anchor=\"start\" x=\"253\" y=\"-528.8\" font-family=\"Helvetica,sans-Serif\" font-size=\"14.00\" fill=\"#000000\">F145 ≤ &#45;0.636</text>\n<text text-anchor=\"start\" x=\"260.5\" y=\"-513.8\" font-family=\"Helvetica,sans-Serif\" font-size=\"14.00\" fill=\"#000000\">gini = 0.663</text>\n<text text-anchor=\"start\" x=\"254.5\" y=\"-498.8\" font-family=\"Helvetica,sans-Serif\" font-size=\"14.00\" fill=\"#000000\">samples = 60</text>\n<text text-anchor=\"start\" x=\"233\" y=\"-483.8\" font-family=\"Helvetica,sans-Serif\" font-size=\"14.00\" fill=\"#000000\">value = [18, 23, 19]</text>\n<text text-anchor=\"start\" x=\"271.5\" y=\"-468.8\" font-family=\"Helvetica,sans-Serif\" font-size=\"14.00\" fill=\"#000000\">class = 1</text>\n</g>\n<!-- 1 -->\n<g id=\"node2\" class=\"node\">\n<title>1</title>\n<path fill=\"#8844e6\" stroke=\"#000000\" d=\"M281,-425C281,-425 164,-425 164,-425 158,-425 152,-419 152,-413 152,-413 152,-354 152,-354 152,-348 158,-342 164,-342 164,-342 281,-342 281,-342 287,-342 293,-348 293,-354 293,-354 293,-413 293,-413 293,-419 287,-425 281,-425\"/>\n<text text-anchor=\"start\" x=\"174\" y=\"-409.8\" font-family=\"Helvetica,sans-Serif\" font-size=\"14.00\" fill=\"#000000\">F113 ≤ 4.222</text>\n<text text-anchor=\"start\" x=\"187.5\" y=\"-394.8\" font-family=\"Helvetica,sans-Serif\" font-size=\"14.00\" fill=\"#000000\">gini = 0.1</text>\n<text text-anchor=\"start\" x=\"172.5\" y=\"-379.8\" font-family=\"Helvetica,sans-Serif\" font-size=\"14.00\" fill=\"#000000\">samples = 19</text>\n<text text-anchor=\"start\" x=\"160\" y=\"-364.8\" font-family=\"Helvetica,sans-Serif\" font-size=\"14.00\" fill=\"#000000\">value = [0, 1, 18]</text>\n<text text-anchor=\"start\" x=\"189.5\" y=\"-349.8\" font-family=\"Helvetica,sans-Serif\" font-size=\"14.00\" fill=\"#000000\">class = 2</text>\n</g>\n<!-- 0&#45;&gt;1 -->\n<g id=\"edge1\" class=\"edge\">\n<title>0&#45;&gt;1</title>\n<path fill=\"none\" stroke=\"#000000\" d=\"M275.8204,-460.8796C269.7385,-452.0534 263.2578,-442.6485 256.9859,-433.5466\"/>\n<polygon fill=\"#000000\" stroke=\"#000000\" points=\"259.8582,-431.5465 251.302,-425.2981 254.0941,-435.5184 259.8582,-431.5465\"/>\n<text text-anchor=\"middle\" x=\"246.7761\" y=\"-446.185\" font-family=\"Helvetica,sans-Serif\" font-size=\"14.00\" fill=\"#000000\">True</text>\n</g>\n<!-- 4 -->\n<g id=\"node5\" class=\"node\">\n<title>4</title>\n<path fill=\"#ddfae9\" stroke=\"#000000\" d=\"M449.5,-425C449.5,-425 323.5,-425 323.5,-425 317.5,-425 311.5,-419 311.5,-413 311.5,-413 311.5,-354 311.5,-354 311.5,-348 317.5,-342 323.5,-342 323.5,-342 449.5,-342 449.5,-342 455.5,-342 461.5,-348 461.5,-354 461.5,-354 461.5,-413 461.5,-413 461.5,-419 455.5,-425 449.5,-425\"/>\n<text text-anchor=\"start\" x=\"335\" y=\"-409.8\" font-family=\"Helvetica,sans-Serif\" font-size=\"14.00\" fill=\"#000000\">F198 ≤ &#45;0.268</text>\n<text text-anchor=\"start\" x=\"342.5\" y=\"-394.8\" font-family=\"Helvetica,sans-Serif\" font-size=\"14.00\" fill=\"#000000\">gini = 0.519</text>\n<text text-anchor=\"start\" x=\"336.5\" y=\"-379.8\" font-family=\"Helvetica,sans-Serif\" font-size=\"14.00\" fill=\"#000000\">samples = 41</text>\n<text text-anchor=\"start\" x=\"319.5\" y=\"-364.8\" font-family=\"Helvetica,sans-Serif\" font-size=\"14.00\" fill=\"#000000\">value = [18, 22, 1]</text>\n<text text-anchor=\"start\" x=\"353.5\" y=\"-349.8\" font-family=\"Helvetica,sans-Serif\" font-size=\"14.00\" fill=\"#000000\">class = 1</text>\n</g>\n<!-- 0&#45;&gt;4 -->\n<g id=\"edge4\" class=\"edge\">\n<title>0&#45;&gt;4</title>\n<path fill=\"none\" stroke=\"#000000\" d=\"M333.1796,-460.8796C339.2615,-452.0534 345.7422,-442.6485 352.0141,-433.5466\"/>\n<polygon fill=\"#000000\" stroke=\"#000000\" points=\"354.9059,-435.5184 357.698,-425.2981 349.1418,-431.5465 354.9059,-435.5184\"/>\n<text text-anchor=\"middle\" x=\"362.2239\" y=\"-446.185\" font-family=\"Helvetica,sans-Serif\" font-size=\"14.00\" fill=\"#000000\">False</text>\n</g>\n<!-- 2 -->\n<g id=\"node3\" class=\"node\">\n<title>2</title>\n<path fill=\"#8139e5\" stroke=\"#000000\" d=\"M129,-298.5C129,-298.5 12,-298.5 12,-298.5 6,-298.5 0,-292.5 0,-286.5 0,-286.5 0,-242.5 0,-242.5 0,-236.5 6,-230.5 12,-230.5 12,-230.5 129,-230.5 129,-230.5 135,-230.5 141,-236.5 141,-242.5 141,-242.5 141,-286.5 141,-286.5 141,-292.5 135,-298.5 129,-298.5\"/>\n<text text-anchor=\"start\" x=\"35.5\" y=\"-283.3\" font-family=\"Helvetica,sans-Serif\" font-size=\"14.00\" fill=\"#000000\">gini = 0.0</text>\n<text text-anchor=\"start\" x=\"20.5\" y=\"-268.3\" font-family=\"Helvetica,sans-Serif\" font-size=\"14.00\" fill=\"#000000\">samples = 18</text>\n<text text-anchor=\"start\" x=\"8\" y=\"-253.3\" font-family=\"Helvetica,sans-Serif\" font-size=\"14.00\" fill=\"#000000\">value = [0, 0, 18]</text>\n<text text-anchor=\"start\" x=\"37.5\" y=\"-238.3\" font-family=\"Helvetica,sans-Serif\" font-size=\"14.00\" fill=\"#000000\">class = 2</text>\n</g>\n<!-- 1&#45;&gt;2 -->\n<g id=\"edge2\" class=\"edge\">\n<title>1&#45;&gt;2</title>\n<path fill=\"none\" stroke=\"#000000\" d=\"M169.3378,-341.8796C154.1687,-330.0038 137.6616,-317.0804 122.5591,-305.2568\"/>\n<polygon fill=\"#000000\" stroke=\"#000000\" points=\"124.3624,-302.2236 114.3308,-298.8149 120.0472,-307.7353 124.3624,-302.2236\"/>\n</g>\n<!-- 3 -->\n<g id=\"node4\" class=\"node\">\n<title>3</title>\n<path fill=\"#39e581\" stroke=\"#000000\" d=\"M279.5,-298.5C279.5,-298.5 171.5,-298.5 171.5,-298.5 165.5,-298.5 159.5,-292.5 159.5,-286.5 159.5,-286.5 159.5,-242.5 159.5,-242.5 159.5,-236.5 165.5,-230.5 171.5,-230.5 171.5,-230.5 279.5,-230.5 279.5,-230.5 285.5,-230.5 291.5,-236.5 291.5,-242.5 291.5,-242.5 291.5,-286.5 291.5,-286.5 291.5,-292.5 285.5,-298.5 279.5,-298.5\"/>\n<text text-anchor=\"start\" x=\"190.5\" y=\"-283.3\" font-family=\"Helvetica,sans-Serif\" font-size=\"14.00\" fill=\"#000000\">gini = 0.0</text>\n<text text-anchor=\"start\" x=\"180\" y=\"-268.3\" font-family=\"Helvetica,sans-Serif\" font-size=\"14.00\" fill=\"#000000\">samples = 1</text>\n<text text-anchor=\"start\" x=\"167.5\" y=\"-253.3\" font-family=\"Helvetica,sans-Serif\" font-size=\"14.00\" fill=\"#000000\">value = [0, 1, 0]</text>\n<text text-anchor=\"start\" x=\"192.5\" y=\"-238.3\" font-family=\"Helvetica,sans-Serif\" font-size=\"14.00\" fill=\"#000000\">class = 1</text>\n</g>\n<!-- 1&#45;&gt;3 -->\n<g id=\"edge3\" class=\"edge\">\n<title>1&#45;&gt;3</title>\n<path fill=\"none\" stroke=\"#000000\" d=\"M223.5493,-341.8796C223.8182,-331.2134 224.1084,-319.7021 224.3806,-308.9015\"/>\n<polygon fill=\"#000000\" stroke=\"#000000\" points=\"227.8817,-308.9 224.6349,-298.8149 220.8839,-308.7235 227.8817,-308.9\"/>\n</g>\n<!-- 5 -->\n<g id=\"node6\" class=\"node\">\n<title>5</title>\n<path fill=\"#e99558\" stroke=\"#000000\" d=\"M443,-306C443,-306 326,-306 326,-306 320,-306 314,-300 314,-294 314,-294 314,-235 314,-235 314,-229 320,-223 326,-223 326,-223 443,-223 443,-223 449,-223 455,-229 455,-235 455,-235 455,-294 455,-294 455,-300 449,-306 443,-306\"/>\n<text text-anchor=\"start\" x=\"340.5\" y=\"-290.8\" font-family=\"Helvetica,sans-Serif\" font-size=\"14.00\" fill=\"#000000\">F20 ≤ 2.654</text>\n<text text-anchor=\"start\" x=\"340.5\" y=\"-275.8\" font-family=\"Helvetica,sans-Serif\" font-size=\"14.00\" fill=\"#000000\">gini = 0.254</text>\n<text text-anchor=\"start\" x=\"334.5\" y=\"-260.8\" font-family=\"Helvetica,sans-Serif\" font-size=\"14.00\" fill=\"#000000\">samples = 21</text>\n<text text-anchor=\"start\" x=\"322\" y=\"-245.8\" font-family=\"Helvetica,sans-Serif\" font-size=\"14.00\" fill=\"#000000\">value = [18, 2, 1]</text>\n<text text-anchor=\"start\" x=\"351.5\" y=\"-230.8\" font-family=\"Helvetica,sans-Serif\" font-size=\"14.00\" fill=\"#000000\">class = 0</text>\n</g>\n<!-- 4&#45;&gt;5 -->\n<g id=\"edge5\" class=\"edge\">\n<title>4&#45;&gt;5</title>\n<path fill=\"none\" stroke=\"#000000\" d=\"M385.8005,-341.8796C385.6628,-333.6838 385.5166,-324.9891 385.374,-316.5013\"/>\n<polygon fill=\"#000000\" stroke=\"#000000\" points=\"388.8701,-316.2378 385.2025,-306.2981 381.8711,-316.3555 388.8701,-316.2378\"/>\n</g>\n<!-- 10 -->\n<g id=\"node11\" class=\"node\">\n<title>10</title>\n<path fill=\"#39e581\" stroke=\"#000000\" d=\"M602,-298.5C602,-298.5 485,-298.5 485,-298.5 479,-298.5 473,-292.5 473,-286.5 473,-286.5 473,-242.5 473,-242.5 473,-236.5 479,-230.5 485,-230.5 485,-230.5 602,-230.5 602,-230.5 608,-230.5 614,-236.5 614,-242.5 614,-242.5 614,-286.5 614,-286.5 614,-292.5 608,-298.5 602,-298.5\"/>\n<text text-anchor=\"start\" x=\"508.5\" y=\"-283.3\" font-family=\"Helvetica,sans-Serif\" font-size=\"14.00\" fill=\"#000000\">gini = 0.0</text>\n<text text-anchor=\"start\" x=\"493.5\" y=\"-268.3\" font-family=\"Helvetica,sans-Serif\" font-size=\"14.00\" fill=\"#000000\">samples = 20</text>\n<text text-anchor=\"start\" x=\"481\" y=\"-253.3\" font-family=\"Helvetica,sans-Serif\" font-size=\"14.00\" fill=\"#000000\">value = [0, 20, 0]</text>\n<text text-anchor=\"start\" x=\"510.5\" y=\"-238.3\" font-family=\"Helvetica,sans-Serif\" font-size=\"14.00\" fill=\"#000000\">class = 1</text>\n</g>\n<!-- 4&#45;&gt;10 -->\n<g id=\"edge10\" class=\"edge\">\n<title>4&#45;&gt;10</title>\n<path fill=\"none\" stroke=\"#000000\" d=\"M441.411,-341.8796C457.2994,-329.8368 474.6091,-316.7167 490.3857,-304.7586\"/>\n<polygon fill=\"#000000\" stroke=\"#000000\" points=\"492.6253,-307.4529 498.4805,-298.623 488.3969,-301.8743 492.6253,-307.4529\"/>\n</g>\n<!-- 6 -->\n<g id=\"node7\" class=\"node\">\n<title>6</title>\n<path fill=\"#e68844\" stroke=\"#000000\" d=\"M365,-187C365,-187 248,-187 248,-187 242,-187 236,-181 236,-175 236,-175 236,-116 236,-116 236,-110 242,-104 248,-104 248,-104 365,-104 365,-104 371,-104 377,-110 377,-116 377,-116 377,-175 377,-175 377,-181 371,-187 365,-187\"/>\n<text text-anchor=\"start\" x=\"255\" y=\"-171.8\" font-family=\"Helvetica,sans-Serif\" font-size=\"14.00\" fill=\"#000000\">F169 ≤ &#45;0.653</text>\n<text text-anchor=\"start\" x=\"271.5\" y=\"-156.8\" font-family=\"Helvetica,sans-Serif\" font-size=\"14.00\" fill=\"#000000\">gini = 0.1</text>\n<text text-anchor=\"start\" x=\"256.5\" y=\"-141.8\" font-family=\"Helvetica,sans-Serif\" font-size=\"14.00\" fill=\"#000000\">samples = 19</text>\n<text text-anchor=\"start\" x=\"244\" y=\"-126.8\" font-family=\"Helvetica,sans-Serif\" font-size=\"14.00\" fill=\"#000000\">value = [18, 0, 1]</text>\n<text text-anchor=\"start\" x=\"273.5\" y=\"-111.8\" font-family=\"Helvetica,sans-Serif\" font-size=\"14.00\" fill=\"#000000\">class = 0</text>\n</g>\n<!-- 5&#45;&gt;6 -->\n<g id=\"edge6\" class=\"edge\">\n<title>5&#45;&gt;6</title>\n<path fill=\"none\" stroke=\"#000000\" d=\"M357.2194,-222.8796C351.4932,-214.1434 345.3954,-204.8404 339.4863,-195.8253\"/>\n<polygon fill=\"#000000\" stroke=\"#000000\" points=\"342.3063,-193.7429 333.8971,-187.2981 336.4518,-197.5803 342.3063,-193.7429\"/>\n</g>\n<!-- 9 -->\n<g id=\"node10\" class=\"node\">\n<title>9</title>\n<path fill=\"#39e581\" stroke=\"#000000\" d=\"M515.5,-179.5C515.5,-179.5 407.5,-179.5 407.5,-179.5 401.5,-179.5 395.5,-173.5 395.5,-167.5 395.5,-167.5 395.5,-123.5 395.5,-123.5 395.5,-117.5 401.5,-111.5 407.5,-111.5 407.5,-111.5 515.5,-111.5 515.5,-111.5 521.5,-111.5 527.5,-117.5 527.5,-123.5 527.5,-123.5 527.5,-167.5 527.5,-167.5 527.5,-173.5 521.5,-179.5 515.5,-179.5\"/>\n<text text-anchor=\"start\" x=\"426.5\" y=\"-164.3\" font-family=\"Helvetica,sans-Serif\" font-size=\"14.00\" fill=\"#000000\">gini = 0.0</text>\n<text text-anchor=\"start\" x=\"416\" y=\"-149.3\" font-family=\"Helvetica,sans-Serif\" font-size=\"14.00\" fill=\"#000000\">samples = 2</text>\n<text text-anchor=\"start\" x=\"403.5\" y=\"-134.3\" font-family=\"Helvetica,sans-Serif\" font-size=\"14.00\" fill=\"#000000\">value = [0, 2, 0]</text>\n<text text-anchor=\"start\" x=\"428.5\" y=\"-119.3\" font-family=\"Helvetica,sans-Serif\" font-size=\"14.00\" fill=\"#000000\">class = 1</text>\n</g>\n<!-- 5&#45;&gt;9 -->\n<g id=\"edge9\" class=\"edge\">\n<title>5&#45;&gt;9</title>\n<path fill=\"none\" stroke=\"#000000\" d=\"M411.4309,-222.8796C418.6883,-211.6636 426.5503,-199.5131 433.8465,-188.2372\"/>\n<polygon fill=\"#000000\" stroke=\"#000000\" points=\"436.8022,-190.112 439.2962,-179.8149 430.9252,-186.3093 436.8022,-190.112\"/>\n</g>\n<!-- 7 -->\n<g id=\"node8\" class=\"node\">\n<title>7</title>\n<path fill=\"#8139e5\" stroke=\"#000000\" d=\"M283.5,-68C283.5,-68 175.5,-68 175.5,-68 169.5,-68 163.5,-62 163.5,-56 163.5,-56 163.5,-12 163.5,-12 163.5,-6 169.5,0 175.5,0 175.5,0 283.5,0 283.5,0 289.5,0 295.5,-6 295.5,-12 295.5,-12 295.5,-56 295.5,-56 295.5,-62 289.5,-68 283.5,-68\"/>\n<text text-anchor=\"start\" x=\"194.5\" y=\"-52.8\" font-family=\"Helvetica,sans-Serif\" font-size=\"14.00\" fill=\"#000000\">gini = 0.0</text>\n<text text-anchor=\"start\" x=\"184\" y=\"-37.8\" font-family=\"Helvetica,sans-Serif\" font-size=\"14.00\" fill=\"#000000\">samples = 1</text>\n<text text-anchor=\"start\" x=\"171.5\" y=\"-22.8\" font-family=\"Helvetica,sans-Serif\" font-size=\"14.00\" fill=\"#000000\">value = [0, 0, 1]</text>\n<text text-anchor=\"start\" x=\"196.5\" y=\"-7.8\" font-family=\"Helvetica,sans-Serif\" font-size=\"14.00\" fill=\"#000000\">class = 2</text>\n</g>\n<!-- 6&#45;&gt;7 -->\n<g id=\"edge7\" class=\"edge\">\n<title>6&#45;&gt;7</title>\n<path fill=\"none\" stroke=\"#000000\" d=\"M277.828,-103.9815C271.6715,-95.0666 265.1557,-85.6313 258.9695,-76.6734\"/>\n<polygon fill=\"#000000\" stroke=\"#000000\" points=\"261.7245,-74.5034 253.1619,-68.2637 255.9645,-78.4811 261.7245,-74.5034\"/>\n</g>\n<!-- 8 -->\n<g id=\"node9\" class=\"node\">\n<title>8</title>\n<path fill=\"#e58139\" stroke=\"#000000\" d=\"M443,-68C443,-68 326,-68 326,-68 320,-68 314,-62 314,-56 314,-56 314,-12 314,-12 314,-6 320,0 326,0 326,0 443,0 443,0 449,0 455,-6 455,-12 455,-12 455,-56 455,-56 455,-62 449,-68 443,-68\"/>\n<text text-anchor=\"start\" x=\"349.5\" y=\"-52.8\" font-family=\"Helvetica,sans-Serif\" font-size=\"14.00\" fill=\"#000000\">gini = 0.0</text>\n<text text-anchor=\"start\" x=\"334.5\" y=\"-37.8\" font-family=\"Helvetica,sans-Serif\" font-size=\"14.00\" fill=\"#000000\">samples = 18</text>\n<text text-anchor=\"start\" x=\"322\" y=\"-22.8\" font-family=\"Helvetica,sans-Serif\" font-size=\"14.00\" fill=\"#000000\">value = [18, 0, 0]</text>\n<text text-anchor=\"start\" x=\"351.5\" y=\"-7.8\" font-family=\"Helvetica,sans-Serif\" font-size=\"14.00\" fill=\"#000000\">class = 0</text>\n</g>\n<!-- 6&#45;&gt;8 -->\n<g id=\"edge8\" class=\"edge\">\n<title>6&#45;&gt;8</title>\n<path fill=\"none\" stroke=\"#000000\" d=\"M335.5443,-103.9815C341.7808,-95.0666 348.3813,-85.6313 354.6478,-76.6734\"/>\n<polygon fill=\"#000000\" stroke=\"#000000\" points=\"357.6665,-78.464 360.5308,-68.2637 351.9307,-74.4515 357.6665,-78.464\"/>\n</g>\n</g>\n</svg>\n"
     },
     "metadata": {}
    }
   ],
   "execution_count": null
  },
  {
   "cell_type": "code",
   "metadata": {
    "tags": [],
    "cell_id": "00063-1463aafe-6ead-4826-9b72-f408a4ba5066",
    "deepnote_to_be_reexecuted": false,
    "source_hash": "5b3b215d",
    "execution_start": 1638019666820,
    "execution_millis": 36,
    "deepnote_output_heights": [
     21.199996948242188
    ],
    "deepnote_cell_type": "code"
   },
   "source": "# Predico con l'albero di decisione\ny_pred = clf.predict(X_test)\nprint(\"DT - Predictions:\\n\", y_pred)",
   "outputs": [
    {
     "name": "stdout",
     "text": "DT - Predictions:\n [1 2 0 2 1 2 2 2 2 2 2 0 0 1 0 2 2 0 2 1 1 2 2 2 2 2 0 2 2 2 2 0 2 2 2 2 2\n 2 1 1 2 0 2 2 0 1 2 2 2 2 0 2 2 2 2 2 0 1 1 1 0 0 2 2 2 1 1 2 2 2 2 2 2 2\n 0 1 0 2 0 2 2 2 2 2 2 0 2 1 2 1 0 2 2]\n",
     "output_type": "stream"
    }
   ],
   "execution_count": null
  },
  {
   "cell_type": "code",
   "metadata": {
    "tags": [],
    "cell_id": "00066-47aa80fa-7c34-46da-8f1b-77ee86f8b4fe",
    "deepnote_to_be_reexecuted": false,
    "source_hash": "b623e53d",
    "execution_start": 1638019666860,
    "execution_millis": 6722202,
    "deepnote_cell_type": "code"
   },
   "source": "",
   "outputs": [],
   "execution_count": null
  },
  {
   "cell_type": "markdown",
   "source": "<a style='text-decoration:none;line-height:16px;display:flex;color:#5B5B62;padding:10px;justify-content:end;' href='https://deepnote.com?utm_source=created-in-deepnote-cell&projectId=81dda25b-3b1c-4959-acc8-4a8b980be717' target=\"_blank\">\n<img alt='Created in deepnote.com' style='display:inline;max-height:16px;margin:0px;margin-right:7.5px;' src='data:image/svg+xml;base64,PD94bWwgdmVyc2lvbj0iMS4wIiBlbmNvZGluZz0iVVRGLTgiPz4KPHN2ZyB3aWR0aD0iODBweCIgaGVpZ2h0PSI4MHB4IiB2aWV3Qm94PSIwIDAgODAgODAiIHZlcnNpb249IjEuMSIgeG1sbnM9Imh0dHA6Ly93d3cudzMub3JnLzIwMDAvc3ZnIiB4bWxuczp4bGluaz0iaHR0cDovL3d3dy53My5vcmcvMTk5OS94bGluayI+CiAgICA8IS0tIEdlbmVyYXRvcjogU2tldGNoIDU0LjEgKDc2NDkwKSAtIGh0dHBzOi8vc2tldGNoYXBwLmNvbSAtLT4KICAgIDx0aXRsZT5Hcm91cCAzPC90aXRsZT4KICAgIDxkZXNjPkNyZWF0ZWQgd2l0aCBTa2V0Y2guPC9kZXNjPgogICAgPGcgaWQ9IkxhbmRpbmciIHN0cm9rZT0ibm9uZSIgc3Ryb2tlLXdpZHRoPSIxIiBmaWxsPSJub25lIiBmaWxsLXJ1bGU9ImV2ZW5vZGQiPgogICAgICAgIDxnIGlkPSJBcnRib2FyZCIgdHJhbnNmb3JtPSJ0cmFuc2xhdGUoLTEyMzUuMDAwMDAwLCAtNzkuMDAwMDAwKSI+CiAgICAgICAgICAgIDxnIGlkPSJHcm91cC0zIiB0cmFuc2Zvcm09InRyYW5zbGF0ZSgxMjM1LjAwMDAwMCwgNzkuMDAwMDAwKSI+CiAgICAgICAgICAgICAgICA8cG9seWdvbiBpZD0iUGF0aC0yMCIgZmlsbD0iIzAyNjVCNCIgcG9pbnRzPSIyLjM3NjIzNzYyIDgwIDM4LjA0NzY2NjcgODAgNTcuODIxNzgyMiA3My44MDU3NTkyIDU3LjgyMTc4MjIgMzIuNzU5MjczOSAzOS4xNDAyMjc4IDMxLjY4MzE2ODMiPjwvcG9seWdvbj4KICAgICAgICAgICAgICAgIDxwYXRoIGQ9Ik0zNS4wMDc3MTgsODAgQzQyLjkwNjIwMDcsNzYuNDU0OTM1OCA0Ny41NjQ5MTY3LDcxLjU0MjI2NzEgNDguOTgzODY2LDY1LjI2MTk5MzkgQzUxLjExMjI4OTksNTUuODQxNTg0MiA0MS42NzcxNzk1LDQ5LjIxMjIyODQgMjUuNjIzOTg0Niw0OS4yMTIyMjg0IEMyNS40ODQ5Mjg5LDQ5LjEyNjg0NDggMjkuODI2MTI5Niw0My4yODM4MjQ4IDM4LjY0NzU4NjksMzEuNjgzMTY4MyBMNzIuODcxMjg3MSwzMi41NTQ0MjUgTDY1LjI4MDk3Myw2Ny42NzYzNDIxIEw1MS4xMTIyODk5LDc3LjM3NjE0NCBMMzUuMDA3NzE4LDgwIFoiIGlkPSJQYXRoLTIyIiBmaWxsPSIjMDAyODY4Ij48L3BhdGg+CiAgICAgICAgICAgICAgICA8cGF0aCBkPSJNMCwzNy43MzA0NDA1IEwyNy4xMTQ1MzcsMC4yNTcxMTE0MzYgQzYyLjM3MTUxMjMsLTEuOTkwNzE3MDEgODAsMTAuNTAwMzkyNyA4MCwzNy43MzA0NDA1IEM4MCw2NC45NjA0ODgyIDY0Ljc3NjUwMzgsNzkuMDUwMzQxNCAzNC4zMjk1MTEzLDgwIEM0Ny4wNTUzNDg5LDc3LjU2NzA4MDggNTMuNDE4MjY3Nyw3MC4zMTM2MTAzIDUzLjQxODI2NzcsNTguMjM5NTg4NSBDNTMuNDE4MjY3Nyw0MC4xMjg1NTU3IDM2LjMwMzk1NDQsMzcuNzMwNDQwNSAyNS4yMjc0MTcsMzcuNzMwNDQwNSBDMTcuODQzMDU4NiwzNy43MzA0NDA1IDkuNDMzOTE5NjYsMzcuNzMwNDQwNSAwLDM3LjczMDQ0MDUgWiIgaWQ9IlBhdGgtMTkiIGZpbGw9IiMzNzkzRUYiPjwvcGF0aD4KICAgICAgICAgICAgPC9nPgogICAgICAgIDwvZz4KICAgIDwvZz4KPC9zdmc+' > </img>\nCreated in <span style='font-weight:600;margin-left:4px;'>Deepnote</span></a>",
   "metadata": {
    "tags": [],
    "created_in_deepnote_cell": true,
    "deepnote_cell_type": "markdown"
   }
  }
 ],
 "nbformat": 4,
 "nbformat_minor": 2,
 "metadata": {
  "orig_nbformat": 2,
  "deepnote": {
   "is_reactive": false
  },
  "deepnote_notebook_id": "e09f2adf-083e-4839-9bb5-7d8776406a70",
  "deepnote_execution_queue": []
 }
}