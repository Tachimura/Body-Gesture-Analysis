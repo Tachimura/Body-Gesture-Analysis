{
 "cells": [
  {
   "cell_type": "markdown",
   "source": "# BDM Exam Project - Part 2",
   "metadata": {
    "tags": [],
    "cell_id": "00000-8372ca05-7983-4b78-9184-019ba314114c",
    "deepnote_cell_type": "markdown"
   }
  },
  {
   "cell_type": "markdown",
   "source": "## TODO:\nTASK 0\n- [x] DONE\n\nTASK1\n- [x] DONE\n\nTASK2\n- [X] DONE\n\nTASK3\n- [X] DONE\n- NOTA BENE: le 3 parti devono funzionare senza cambiare codice (indifferentemente da cosa abbiamo scelto prima, l'input per la parte 4 DEVE essere sempre lo stesso)\n\nTASK4\n- (magari, ma non necessario) MOSTRARE COME GRUPPI IL NOME DEI MEMBRI E NON IL LORO VETTORE\n- [x] DONE\n\nTASK 5\n- [x] DONE\n",
   "metadata": {
    "tags": [],
    "cell_id": "00001-36d412ad-00a8-4bff-a4a6-6e2b48a48bc2",
    "deepnote_cell_type": "markdown"
   }
  },
  {
   "cell_type": "markdown",
   "source": "## Imports",
   "metadata": {
    "tags": [],
    "is_collapsed": false,
    "cell_id": "00001-e7a911cb-1821-422d-8f2f-057c00b923a7",
    "deepnote_cell_type": "text-cell-h2"
   }
  },
  {
   "cell_type": "code",
   "metadata": {
    "tags": [],
    "cell_id": "00002-cb5942af-91be-4d6f-8734-41bb867f669d",
    "deepnote_to_be_reexecuted": true,
    "source_hash": "27ec2fc8",
    "execution_start": 1638299736289,
    "execution_millis": 2327,
    "deepnote_output_heights": [
     40.375
    ],
    "deepnote_cell_type": "code"
   },
   "source": "# General utils\nimport os\nimport shutil\nimport numpy as np\n\n# per i plot\nimport plotly.express as px\nimport plotly.graph_objects as go\n# ---------- ---------- ---------- ---------- ----------\n\n# My general utils\nfrom my_utils import get_files_name, format_float\n# ---------- ---------- ---------- ---------- ----------\n\n# Task 0\nfrom task0_utils import task0_stats\n# Parte A\nfrom task0_utils import generate_alphabet, gesture_2_word, write_word_as_json, generate_dizionario_parole_from_gesturewordsdict\n# Parte B\nfrom task0_utils import gesture_words_preprocessing, show_gesture_metrics\n# ---------- ---------- ---------- ---------- ----------\n\n# Task 1\nfrom task1_utils import read_gesture_measures_reduced, metrics_reduced_2_numpy, metrics_numpy_2_pandas\nfrom task1_utils import metrics_numpy_2_PCA, metrics_numpy_2_LDA, metrics_numpy_2_SVD\nfrom task1_utils import get_top_k_latent_features, prepare_alg_variances_to_plot\n# ---------- ---------- ---------- ---------- ----------\n\n# Task 2\nfrom task2_utils import generate_matrix_ed_dtw\nfrom task2_utils import find_k_most_similar_dp, find_k_most_similar_tksem, find_k_most_similar_ed, find_k_most_similar_dtw\n# ---------- ---------- ---------- ---------- ----------\n\n# Task 3\nfrom task3_utils import generate_gestures_similarity_matrix_dp, generate_gestures_similarity_matrix_tksem\nfrom task3_utils import generate_gestures_similarity_matrix_ed, generate_gestures_similarity_matrix_dtw\nfrom task3_utils import gestures_similarity_matrix_2_pandas, generate_gesture_gesture_svd, get_top_p_latent_gestures\n# ---------- ---------- ---------- ---------- ----------\n\n# Task 4\nfrom task4_utils import cluster_labels_2_pandas, top_p_gestures_2_numpy\n# Parte A\nfrom task4_utils import MyPartitioner\n# Parte B\nfrom task4_utils import SimpleKMeans\n# Parte C\nfrom task4_utils import spectral_clustering_analyze, spectral_clustering\nfrom task4_utils import spectral_analisys_results_2_pandas, spectral_analisys_results_pandas_2_split\n# ---------- ---------- ---------- ---------- ----------\n\n# Task 5\nfrom task5_utils import database_numpy_2_supervised_data, test_knn_best_K, test_tree_best_depth\n\nfrom sklearn.metrics import accuracy_score\n# KNN classifier\nfrom sklearn.neighbors import KNeighborsClassifier\n# Decision Tree classifier\nfrom sklearn import tree\nimport graphviz \n# ---------- ---------- ---------- ---------- ----------",
   "outputs": [
    {
     "output_type": "error",
     "ename": "KernelInterrupted",
     "evalue": "Execution interrupted by the Jupyter kernel.",
     "traceback": [
      "\u001b[0;31m---------------------------------------------------------------------------\u001b[0m",
      "\u001b[0;31mKernelInterrupted\u001b[0m: Execution interrupted by the Jupyter kernel."
     ]
    }
   ],
   "execution_count": null
  },
  {
   "cell_type": "markdown",
   "source": "## Task 0",
   "metadata": {
    "tags": [],
    "is_collapsed": false,
    "cell_id": "00003-44add2df-f923-4f64-bca8-a523401b6bfc",
    "deepnote_cell_type": "text-cell-h2"
   }
  },
  {
   "cell_type": "code",
   "metadata": {
    "deepnote_variable_name": "path_csv_directory",
    "deepnote_variable_value": "../Dati_2/csv/",
    "cell_id": "00003-654eb8b5-36b7-4241-ab02-b10556446202",
    "deepnote_to_be_reexecuted": true,
    "source_hash": "b7faf05a",
    "execution_start": 1638299738664,
    "execution_millis": 14,
    "deepnote_cell_type": "input-text"
   },
   "source": "path_csv_directory = '../Dati_2/csv/'",
   "outputs": [],
   "execution_count": null
  },
  {
   "cell_type": "code",
   "metadata": {
    "deepnote_variable_name": "path_words_directory",
    "deepnote_variable_value": "../Dati_2/words/",
    "cell_id": "00006-abe6fad0-cc88-44ef-b239-4a3ab59617ca",
    "deepnote_to_be_reexecuted": true,
    "source_hash": "14bb7c6c",
    "execution_start": 1638299738743,
    "execution_millis": 470182,
    "deepnote_cell_type": "input-text"
   },
   "source": "path_words_directory = '../Dati_2/words/'",
   "outputs": [],
   "execution_count": null
  },
  {
   "cell_type": "code",
   "metadata": {
    "deepnote_variable_name": "path_vectors_directory",
    "deepnote_variable_value": "../Dati_2/vectors/",
    "cell_id": "00007-a6402a1b-7cac-4925-b172-2db72134598e",
    "deepnote_to_be_reexecuted": true,
    "source_hash": "3edc11a8",
    "execution_start": 1638299738813,
    "execution_millis": 470156,
    "deepnote_cell_type": "input-text"
   },
   "source": "path_vectors_directory = '../Dati_2/vectors/'",
   "outputs": [],
   "execution_count": null
  },
  {
   "cell_type": "markdown",
   "source": "Inserire le coordinate che compongono il gesto separate da un trattino:",
   "metadata": {
    "tags": [],
    "is_collapsed": false,
    "cell_id": "00004-960f3675-011c-43a5-9c57-0dbc4c51a806",
    "deepnote_cell_type": "text-cell-p"
   }
  },
  {
   "cell_type": "code",
   "metadata": {
    "deepnote_variable_name": "input_data_components",
    "deepnote_variable_value": "X-Y-Z-W",
    "cell_id": "00005-9d5e77d9-d1b7-44e2-873a-c01b72b5b714",
    "deepnote_to_be_reexecuted": true,
    "source_hash": "a12cce7",
    "execution_start": 1638299738857,
    "execution_millis": 470074,
    "deepnote_cell_type": "input-text"
   },
   "source": "input_data_components = 'X-Y-Z-W'",
   "outputs": [],
   "execution_count": null
  },
  {
   "cell_type": "markdown",
   "source": "Inserire un valore per R (2R è il numero di simboli dell'alfabeto)",
   "metadata": {
    "tags": [],
    "is_collapsed": false,
    "cell_id": "00008-70103ada-8b72-4f87-82a9-c7c2bff33365",
    "deepnote_cell_type": "text-cell-p"
   }
  },
  {
   "cell_type": "code",
   "metadata": {
    "deepnote_variable_name": "input_interval_resolution",
    "deepnote_variable_value": "6",
    "cell_id": "00009-598da1f3-1b47-46f7-9b8a-6c5ff8c1bb73",
    "deepnote_to_be_reexecuted": true,
    "source_hash": "bfc0a159",
    "execution_start": 1638299738858,
    "execution_millis": 30587,
    "deepnote_cell_type": "input-text"
   },
   "source": "input_interval_resolution = '6'",
   "outputs": [],
   "execution_count": null
  },
  {
   "cell_type": "code",
   "metadata": {
    "tags": [],
    "cell_id": "00007-74fd2943-5f7b-4279-b9fb-2cd9f8bdf6f5",
    "deepnote_to_be_reexecuted": true,
    "source_hash": "8eda3704",
    "execution_start": 1638299738921,
    "execution_millis": 1,
    "deepnote_cell_type": "code"
   },
   "source": "data_components = input_data_components.strip().split(\"-\")\ntask0_stats[\"r\"] = int(input_interval_resolution.strip())\n\n# Rigenero i vari file path (per words e vectors)\nif os.path.exists(path_words_directory):\n    shutil.rmtree(path_words_directory)\nos.makedirs(path_words_directory)\nif os.path.exists(path_vectors_directory):\n    shutil.rmtree(path_vectors_directory)\nos.makedirs(path_vectors_directory)",
   "outputs": [],
   "execution_count": null
  },
  {
   "cell_type": "code",
   "metadata": {
    "tags": [],
    "cell_id": "00013-049aa084-0991-44a0-ae1f-d75d205f14d8",
    "deepnote_to_be_reexecuted": true,
    "source_hash": "3e0bdde5",
    "execution_start": 1638299738965,
    "execution_millis": 140413,
    "deepnote_cell_type": "code"
   },
   "source": "# Mi prendo il nome di tutti i files\ngesture_files = get_files_name(path_csv_directory + \"X/\", ext_filter=\"csv\")\nalfabeto = generate_alphabet(gesture_files, data_components, path_csv_directory, task0_stats)",
   "outputs": [
    {
     "output_type": "error",
     "ename": "KeyboardInterrupt",
     "evalue": "",
     "traceback": [
      "\u001b[0;31m---------------------------------------------------------------------------\u001b[0m",
      "\u001b[0;31mKeyboardInterrupt\u001b[0m                         Traceback (most recent call last)",
      "\u001b[0;32m<ipython-input-8-8cc6a3df9383>\u001b[0m in \u001b[0;36m<module>\u001b[0;34m\u001b[0m\n\u001b[1;32m      1\u001b[0m \u001b[0;31m# Mi prendo il nome di tutti i files\u001b[0m\u001b[0;34m\u001b[0m\u001b[0;34m\u001b[0m\u001b[0;34m\u001b[0m\u001b[0m\n\u001b[1;32m      2\u001b[0m \u001b[0mgesture_files\u001b[0m \u001b[0;34m=\u001b[0m \u001b[0mget_files_name\u001b[0m\u001b[0;34m(\u001b[0m\u001b[0mpath_csv_directory\u001b[0m \u001b[0;34m+\u001b[0m \u001b[0;34m\"X/\"\u001b[0m\u001b[0;34m,\u001b[0m \u001b[0mext_filter\u001b[0m\u001b[0;34m=\u001b[0m\u001b[0;34m\"csv\"\u001b[0m\u001b[0;34m)\u001b[0m\u001b[0;34m\u001b[0m\u001b[0;34m\u001b[0m\u001b[0m\n\u001b[0;32m----> 3\u001b[0;31m \u001b[0malfabeto\u001b[0m \u001b[0;34m=\u001b[0m \u001b[0mgenerate_alphabet\u001b[0m\u001b[0;34m(\u001b[0m\u001b[0mgesture_files\u001b[0m\u001b[0;34m,\u001b[0m \u001b[0mdata_components\u001b[0m\u001b[0;34m,\u001b[0m \u001b[0mpath_csv_directory\u001b[0m\u001b[0;34m,\u001b[0m \u001b[0mtask0_stats\u001b[0m\u001b[0;34m)\u001b[0m\u001b[0;34m\u001b[0m\u001b[0;34m\u001b[0m\u001b[0m\n\u001b[0m",
      "\u001b[0;32m/work/Parte 2/task0_utils.py\u001b[0m in \u001b[0;36mgenerate_alphabet\u001b[0;34m(gesture_files, components, input_directory, options)\u001b[0m\n\u001b[1;32m    158\u001b[0m         \u001b[0mnormalized_data\u001b[0m \u001b[0;34m=\u001b[0m \u001b[0mnormalize_data\u001b[0m\u001b[0;34m(\u001b[0m\u001b[0mdata\u001b[0m\u001b[0;34m,\u001b[0m \u001b[0moptions\u001b[0m\u001b[0;34m[\u001b[0m\u001b[0;34m\"interval_min\"\u001b[0m\u001b[0;34m]\u001b[0m\u001b[0;34m,\u001b[0m \u001b[0moptions\u001b[0m\u001b[0;34m[\u001b[0m\u001b[0;34m\"interval_max\"\u001b[0m\u001b[0;34m]\u001b[0m\u001b[0;34m)\u001b[0m\u001b[0;34m\u001b[0m\u001b[0;34m\u001b[0m\u001b[0m\n\u001b[1;32m    159\u001b[0m         \u001b[0;31m# Estraggo le parole e le inserisco nell'alfabeto\u001b[0m\u001b[0;34m\u001b[0m\u001b[0;34m\u001b[0m\u001b[0;34m\u001b[0m\u001b[0m\n\u001b[0;32m--> 160\u001b[0;31m         \u001b[0mgenerate_alphabet_words\u001b[0m\u001b[0;34m(\u001b[0m\u001b[0mnormalized_data\u001b[0m\u001b[0;34m,\u001b[0m \u001b[0malfabeto\u001b[0m\u001b[0;34m,\u001b[0m \u001b[0;34m(\u001b[0m\u001b[0moptions\u001b[0m\u001b[0;34m[\u001b[0m\u001b[0;34m\"window_size\"\u001b[0m\u001b[0;34m]\u001b[0m\u001b[0;34m,\u001b[0m \u001b[0moptions\u001b[0m\u001b[0;34m[\u001b[0m\u001b[0;34m\"window_shift\"\u001b[0m\u001b[0;34m]\u001b[0m\u001b[0;34m)\u001b[0m\u001b[0;34m)\u001b[0m\u001b[0;34m\u001b[0m\u001b[0;34m\u001b[0m\u001b[0m\n\u001b[0m\u001b[1;32m    161\u001b[0m     \u001b[0;32mreturn\u001b[0m \u001b[0malfabeto\u001b[0m\u001b[0;34m\u001b[0m\u001b[0;34m\u001b[0m\u001b[0m\n\u001b[1;32m    162\u001b[0m \u001b[0;34m\u001b[0m\u001b[0m\n",
      "\u001b[0;32m/work/Parte 2/task0_utils.py\u001b[0m in \u001b[0;36mgenerate_alphabet_words\u001b[0;34m(data, alfabeto, window_options)\u001b[0m\n\u001b[1;32m    137\u001b[0m             \u001b[0mwindow\u001b[0m \u001b[0;34m=\u001b[0m \u001b[0mextract_window\u001b[0m\u001b[0;34m(\u001b[0m\u001b[0mrow\u001b[0m\u001b[0;34m,\u001b[0m \u001b[0mcurrent_position\u001b[0m\u001b[0;34m,\u001b[0m \u001b[0mwindow_size\u001b[0m\u001b[0;34m)\u001b[0m\u001b[0;34m\u001b[0m\u001b[0;34m\u001b[0m\u001b[0m\n\u001b[1;32m    138\u001b[0m             \u001b[0;31m# Converto gli elementi nella finestra nella parola dell'alfabeto (WIN)\u001b[0m\u001b[0;34m\u001b[0m\u001b[0;34m\u001b[0m\u001b[0;34m\u001b[0m\u001b[0m\n\u001b[0;32m--> 139\u001b[0;31m             \u001b[0mwin\u001b[0m \u001b[0;34m=\u001b[0m \u001b[0mextract_word\u001b[0m\u001b[0;34m(\u001b[0m\u001b[0mwindow\u001b[0m\u001b[0;34m,\u001b[0m \u001b[0malfabeto\u001b[0m\u001b[0;34m.\u001b[0m\u001b[0msimboli\u001b[0m\u001b[0;34m)\u001b[0m\u001b[0;34m\u001b[0m\u001b[0;34m\u001b[0m\u001b[0m\n\u001b[0m\u001b[1;32m    140\u001b[0m             \u001b[0malfabeto\u001b[0m\u001b[0;34m.\u001b[0m\u001b[0maddParola\u001b[0m\u001b[0;34m(\u001b[0m\u001b[0mwin\u001b[0m\u001b[0;34m)\u001b[0m\u001b[0;34m\u001b[0m\u001b[0;34m\u001b[0m\u001b[0m\n\u001b[1;32m    141\u001b[0m             \u001b[0;31m# Sposto la posizione della finestra\u001b[0m\u001b[0;34m\u001b[0m\u001b[0;34m\u001b[0m\u001b[0;34m\u001b[0m\u001b[0m\n",
      "\u001b[0;32m/work/Parte 2/task0_utils.py\u001b[0m in \u001b[0;36mextract_word\u001b[0;34m(array, symbols)\u001b[0m\n\u001b[1;32m     30\u001b[0m     \u001b[0;32mfor\u001b[0m \u001b[0melement\u001b[0m \u001b[0;32min\u001b[0m \u001b[0marray\u001b[0m\u001b[0;34m:\u001b[0m\u001b[0;34m\u001b[0m\u001b[0;34m\u001b[0m\u001b[0m\n\u001b[1;32m     31\u001b[0m         \u001b[0;31m# Per ogni elemento nell'array estraggo il simbolo (centro) che equivale a quell'elemento\u001b[0m\u001b[0;34m\u001b[0m\u001b[0;34m\u001b[0m\u001b[0;34m\u001b[0m\u001b[0m\n\u001b[0;32m---> 32\u001b[0;31m         \u001b[0mword\u001b[0m \u001b[0;34m+=\u001b[0m \u001b[0;34m\";\"\u001b[0m \u001b[0;34m+\u001b[0m \u001b[0mextract_symbol\u001b[0m\u001b[0;34m(\u001b[0m\u001b[0melement\u001b[0m\u001b[0;34m,\u001b[0m \u001b[0msymbols\u001b[0m\u001b[0;34m)\u001b[0m\u001b[0;34m\u001b[0m\u001b[0;34m\u001b[0m\u001b[0m\n\u001b[0m\u001b[1;32m     33\u001b[0m     \u001b[0;31m# Ritorno la parola formata dalla concatenazione dei simboli\u001b[0m\u001b[0;34m\u001b[0m\u001b[0;34m\u001b[0m\u001b[0;34m\u001b[0m\u001b[0m\n\u001b[1;32m     34\u001b[0m     \u001b[0;32mreturn\u001b[0m \u001b[0mword\u001b[0m\u001b[0;34m[\u001b[0m\u001b[0;36m1\u001b[0m\u001b[0;34m:\u001b[0m\u001b[0;34m]\u001b[0m \u001b[0;31m#tolgo il primo carattere perchè conterrà il ;\u001b[0m\u001b[0;34m\u001b[0m\u001b[0;34m\u001b[0m\u001b[0m\n",
      "\u001b[0;32m/work/Parte 2/task0_utils.py\u001b[0m in \u001b[0;36mextract_symbol\u001b[0;34m(element, symbols)\u001b[0m\n\u001b[1;32m     39\u001b[0m     \u001b[0;32mfor\u001b[0m \u001b[0msymbol\u001b[0m\u001b[0;34m,\u001b[0m \u001b[0;34m(\u001b[0m\u001b[0moff1\u001b[0m\u001b[0;34m,\u001b[0m  \u001b[0moff2\u001b[0m\u001b[0;34m)\u001b[0m \u001b[0;32min\u001b[0m \u001b[0msymbols\u001b[0m\u001b[0;34m.\u001b[0m\u001b[0mitems\u001b[0m\u001b[0;34m(\u001b[0m\u001b[0;34m)\u001b[0m\u001b[0;34m:\u001b[0m\u001b[0;34m\u001b[0m\u001b[0;34m\u001b[0m\u001b[0m\n\u001b[1;32m     40\u001b[0m         \u001b[0mmin_value\u001b[0m \u001b[0;34m=\u001b[0m \u001b[0mmin\u001b[0m\u001b[0;34m(\u001b[0m\u001b[0moff1\u001b[0m\u001b[0;34m,\u001b[0m \u001b[0moff2\u001b[0m\u001b[0;34m)\u001b[0m\u001b[0;34m\u001b[0m\u001b[0;34m\u001b[0m\u001b[0m\n\u001b[0;32m---> 41\u001b[0;31m         \u001b[0mmax_value\u001b[0m \u001b[0;34m=\u001b[0m \u001b[0mmax\u001b[0m\u001b[0;34m(\u001b[0m\u001b[0moff1\u001b[0m\u001b[0;34m,\u001b[0m \u001b[0moff2\u001b[0m\u001b[0;34m)\u001b[0m\u001b[0;34m\u001b[0m\u001b[0;34m\u001b[0m\u001b[0m\n\u001b[0m\u001b[1;32m     42\u001b[0m         \u001b[0;32mif\u001b[0m \u001b[0melement\u001b[0m \u001b[0;34m>=\u001b[0m \u001b[0mmin_value\u001b[0m \u001b[0;32mand\u001b[0m \u001b[0melement\u001b[0m \u001b[0;34m<=\u001b[0m \u001b[0mmax_value\u001b[0m\u001b[0;34m:\u001b[0m\u001b[0;34m\u001b[0m\u001b[0;34m\u001b[0m\u001b[0m\n\u001b[1;32m     43\u001b[0m             \u001b[0melement_symbol\u001b[0m \u001b[0;34m=\u001b[0m \u001b[0msymbol\u001b[0m\u001b[0;34m\u001b[0m\u001b[0;34m\u001b[0m\u001b[0m\n",
      "\u001b[0;31mKeyboardInterrupt\u001b[0m: "
     ]
    }
   ],
   "execution_count": null
  },
  {
   "cell_type": "code",
   "source": "print(alfabeto.simboli)\nprint(alfabeto.parole)\nprint(\"Numero simboli:\", alfabeto.n_simboli)\nprint(\"Numero parole:\", alfabeto.n_parole)",
   "metadata": {
    "tags": [],
    "cell_id": "00014-f347bd06-7556-4043-916e-abd524841178",
    "deepnote_to_be_reexecuted": true,
    "source_hash": "a50e816f",
    "execution_start": 1638299394649,
    "execution_millis": 3,
    "deepnote_cell_type": "code"
   },
   "outputs": [
    {
     "name": "stdout",
     "text": "{'0.2882': (0.0, 0.5763), '-0.2882': (0.0, -0.5763), '0.7334': (0.5763, 0.8904), '-0.7334': (-0.5763, -0.8904), '0.937': (0.8904, 0.9836), '-0.937': (-0.8904, -0.9836), '0.9911': (0.9836, 0.9986), '-0.9911': (-0.9836, -0.9986), '0.9993': (0.9986, 1.0), '-0.9993': (-0.9986, -1.0)}\n{'-0.937;-0.9993', '0.937;0.7334', '0.7334;-0.2882', '-0.9911;-0.937', '0.9911;0.9911', '-0.7334;0.2882', '-0.9993;0.937', '-0.937;0.937', '0.2882;0.2882', '-0.9911;-0.7334', '-0.9993;-0.9911', '-0.2882;0.9993', '-0.7334;-0.2882', '0.937;-0.9993', '-0.9911;-0.9911', '-0.2882;0.2882', '-0.9993;-0.7334', '0.9911;0.9993', '-0.9993;0.2882', '0.7334;0.2882', '0.7334;0.9993', '0.7334;0.7334', '-0.7334;0.7334', '0.7334;-0.7334', '0.9911;0.937', '0.7334;-0.937', '0.2882;-0.7334', '-0.937;-0.9911', '0.7334;-0.9993', '-0.937;-0.7334', '-0.7334;-0.7334', '-0.9911;-0.9993', '0.2882;0.7334', '-0.9993;-0.937', '-0.937;-0.2882', '-0.937;-0.937', '0.9993;0.9993', '0.2882;0.937', '0.7334;0.937', '0.9993;0.9911', '-0.2882;-0.7334', '0.937;0.9911', '0.937;-0.9911', '-0.2882;-0.2882', '0.9993;0.937', '-0.9993;-0.9993', '-0.7334;-0.937', '0.9911;0.2882', '0.9911;-0.9911', '-0.2882;0.937', '0.937;0.937', '-0.937;0.2882', '0.2882;-0.2882', '-0.9993;0.7334', '0.2882;0.9911'}\nNumero simboli: 10\nNumero parole: 55\n",
     "output_type": "stream"
    }
   ],
   "execution_count": null
  },
  {
   "cell_type": "markdown",
   "source": "### Task 0A",
   "metadata": {
    "tags": [],
    "is_collapsed": false,
    "cell_id": "00010-695b39bf-40e0-4e20-ada3-0672059bd901",
    "deepnote_cell_type": "text-cell-h3"
   }
  },
  {
   "cell_type": "code",
   "metadata": {
    "tags": [],
    "cell_id": "00016-320d5da2-7d1e-4619-b75a-c6b34a37c5b2",
    "deepnote_to_be_reexecuted": true,
    "source_hash": "93ffbd30",
    "execution_start": 1638299394664,
    "execution_millis": 133226,
    "deepnote_cell_type": "code"
   },
   "source": "dizionario_gesti_parole = {}\n\nfor gesture_file_name in gesture_files:\n    gesture_words_dict = gesture_2_word(gesture_file_name, data_components, alfabeto, path_csv_directory, task0_stats)\n    # Salvo solo le info necessarie relative alle parole (come richiesto nel testo)\n    dizionario_parole_gesture = generate_dizionario_parole_from_gesturewordsdict(gesture_words_dict)\n    dizionario_gesti_parole[gesture_file_name.split(\".\")[0]] = dizionario_parole_gesture\n    # Salvo su file il dizionario completo\n    write_word_as_json(gesture_words_dict, gesture_file_name, path_words_directory)",
   "outputs": [],
   "execution_count": null
  },
  {
   "cell_type": "code",
   "metadata": {
    "tags": [],
    "cell_id": "00017-df73132d-dd28-422e-bcf9-cee19fde9521",
    "deepnote_to_be_reexecuted": true,
    "source_hash": "b6c4fafc",
    "execution_start": 1638299527936,
    "execution_millis": 1,
    "deepnote_cell_type": "code"
   },
   "source": "#dizionario_gesti_parole['1']",
   "outputs": [],
   "execution_count": null
  },
  {
   "cell_type": "markdown",
   "source": "### Task 0B",
   "metadata": {
    "tags": [],
    "is_collapsed": false,
    "cell_id": "00012-11c64cd4-a6ab-4f60-83e6-e185a99dad47",
    "deepnote_cell_type": "text-cell-h3"
   }
  },
  {
   "cell_type": "code",
   "metadata": {
    "tags": [],
    "cell_id": "00019-339613d5-9030-4622-a83b-40ba07478fdc",
    "deepnote_to_be_reexecuted": true,
    "source_hash": "ad02c073",
    "execution_start": 1638299527950,
    "execution_millis": 2838,
    "deepnote_cell_type": "code"
   },
   "source": "# Mi prendo la lista di tutti i file words\nwords_files = get_files_name(path_words_directory, ext_filter=\"wrd\")\n\n# CALCOLARE IL NUMERO DI SENSORI (anche se so che ce ne sono 20, in questo modo rimane più parametrico)\nn_sensori = 0\nfor (_, sensor, word), cont in dizionario_gesti_parole[next(iter(dizionario_gesti_parole))].items():\n    sensor = int(sensor)\n    if n_sensori > sensor: # ho già ciclato una volta su tutti i sensori, è inutile ricontrollare per le altre coordinate\n        break\n    if n_sensori < sensor:\n        n_sensori = sensor\nn_sensori += 1 # Correzione dato che i sensori partono da 0 e a me serve sapere quanti ce ne sono\n\n# Eseguo x il nostro dataset\nt0b_preprocessing_settings = {\n    'dizionario_gesti_parole': dizionario_gesti_parole,\n    'data_components': data_components,\n    'words_files': words_files,\n    'n_sensori': n_sensori,\n    'alfabeto': alfabeto,\n    'path_words_directory': path_words_directory,\n    'path_vectors_directory': path_vectors_directory # mettere a None o a caso se si mette save=False nel metodo\n}\n# Calcolo TF, IDF, TF-IDF di ogni gesto\ngestures_metrics = gesture_words_preprocessing(t0b_preprocessing_settings)",
   "outputs": [],
   "execution_count": null
  },
  {
   "cell_type": "code",
   "metadata": {
    "tags": [],
    "cell_id": "00020-7c36a3da-d893-4958-8894-7fc35c5aa41e",
    "deepnote_to_be_reexecuted": true,
    "source_hash": "1fe76d2b",
    "execution_start": 1638299530796,
    "execution_millis": 7,
    "deepnote_cell_type": "code"
   },
   "source": "#show_gesture_metrics(gestures_metrics[0])",
   "outputs": [],
   "execution_count": null
  },
  {
   "cell_type": "markdown",
   "source": "## Task 1",
   "metadata": {
    "tags": [],
    "is_collapsed": false,
    "cell_id": "00021-d42fafd2-d117-4556-bc4f-eac7aca3e403",
    "deepnote_cell_type": "text-cell-h2"
   }
  },
  {
   "cell_type": "code",
   "metadata": {
    "deepnote_variable_name": "input_task1_gesti_directory",
    "deepnote_variable_value": "../Dati_2/csv/",
    "cell_id": "00022-8d12824b-1681-44bc-a0f3-975f336eeacb",
    "deepnote_to_be_reexecuted": true,
    "source_hash": "7e508682",
    "execution_start": 1638299530857,
    "execution_millis": 1,
    "deepnote_cell_type": "input-text"
   },
   "source": "input_task1_gesti_directory = '../Dati_2/csv/'",
   "outputs": [],
   "execution_count": null
  },
  {
   "cell_type": "code",
   "metadata": {
    "deepnote_variable_name": "input_task1_data_components",
    "deepnote_variable_value": "X-Y-W-Z",
    "cell_id": "00023-f2b03f2f-8666-4c59-a6c5-e88ff27e8d58",
    "deepnote_to_be_reexecuted": true,
    "source_hash": "e7fe2f0e",
    "execution_start": 1638299530903,
    "execution_millis": 527585,
    "deepnote_cell_type": "input-text"
   },
   "source": "input_task1_data_components = 'X-Y-W-Z'",
   "outputs": [],
   "execution_count": null
  },
  {
   "cell_type": "code",
   "metadata": {
    "deepnote_variable_name": "input_task1_modello_vettoriale",
    "deepnote_variable_value": "Modello TF-IDF",
    "deepnote_variable_options": [
     "Modello TF",
     "Modello TF-IDF"
    ],
    "deepnote_variable_custom_options": [
     "Modello TF",
     "Modello TF-IDF"
    ],
    "deepnote_variable_selected_variable": "",
    "deepnote_variable_select_type": "from-options",
    "cell_id": "00025-8b54665a-704e-4a66-9889-a1db052e9230",
    "deepnote_to_be_reexecuted": true,
    "source_hash": "a561fd25",
    "execution_start": 1638299530904,
    "execution_millis": 527630,
    "deepnote_cell_type": "input-select"
   },
   "source": "input_task1_modello_vettoriale = 'Modello TF-IDF'",
   "outputs": [],
   "execution_count": null
  },
  {
   "cell_type": "code",
   "metadata": {
    "tags": [],
    "cell_id": "00025-5662e148-aefc-4984-a2ed-e2b0891ae86d",
    "deepnote_to_be_reexecuted": true,
    "source_hash": "71d6ce71",
    "execution_start": 1638299530948,
    "execution_millis": 387,
    "deepnote_cell_type": "code"
   },
   "source": "t1_data_components = input_task1_data_components.strip().split(\"-\")\nt1_gesture_files = get_files_name(input_task1_gesti_directory + t1_data_components[0] + \"/\", ext_filter=\"csv\")\n# Dovremmo eseguire a tutti questi i 2 metodi gesture_2_word e poi word_2_metrics\n# Ma ipotizziamo che siano i dati già calcolati ed evitiamo\nt1_gesture_files = [g_file.split(\".\")[0] for g_file in t1_gesture_files] # mi prendo giusto il nome dei vari files\n\n# 1260 con dimensione dei dati (n_sensori * n_parole)\nt1_metrics_data = {\n    'filename': [],\n    'labels': [],\n    'data': np.zeros((len(t1_gesture_files), n_sensori * alfabeto.n_parole))\n}\nfor index, gesture_file in zip(range(len(t1_gesture_files)), t1_gesture_files):\n    #path_vectors_directory = ../Dati_2/vectors/\n    # Leggo le metrice ridotte\n    gesture_metrics_reduced = read_gesture_measures_reduced(gesture_file, path_vectors_directory, input_task1_modello_vettoriale)\n    # Trasformo la metrica ridotta in un file numpy\n    label = 1 # Label 1 per i file 250, 280\n    if int(gesture_file) < 100:\n        label = 0 # Label 0 per file 1, 30\n    elif int(gesture_file) > 400:\n        label = 2 # label 2 per i file 560, 590\n    metrics_numpy = metrics_reduced_2_numpy(gesture_metrics_reduced, alfabeto)\n    t1_metrics_data['filename'].append(gesture_file)\n    t1_metrics_data['labels'].append(label)\n    t1_metrics_data['data'][index] = metrics_numpy",
   "outputs": [],
   "execution_count": null
  },
  {
   "cell_type": "code",
   "metadata": {
    "tags": [],
    "cell_id": "00026-f5468916-1c32-4695-9695-608bce02ec11",
    "deepnote_to_be_reexecuted": true,
    "source_hash": "2271376f",
    "execution_start": 1638299531374,
    "execution_millis": 8,
    "deepnote_cell_type": "code"
   },
   "source": "#t1_metrics_data",
   "outputs": [],
   "execution_count": null
  },
  {
   "cell_type": "code",
   "metadata": {
    "deepnote_variable_name": "input_task1_option",
    "deepnote_variable_value": "LDA",
    "deepnote_variable_options": [
     "PCA",
     "SVD",
     "LDA"
    ],
    "deepnote_variable_custom_options": [
     "PCA",
     "SVD",
     "LDA"
    ],
    "deepnote_variable_selected_variable": "",
    "deepnote_variable_select_type": "from-options",
    "cell_id": "00028-09fc5a78-a0f0-44a1-b5f4-17b8196b3c27",
    "deepnote_to_be_reexecuted": true,
    "source_hash": "c1987eae",
    "execution_start": 1638299531400,
    "execution_millis": 3,
    "deepnote_cell_type": "input-select"
   },
   "source": "input_task1_option = 'LDA'",
   "outputs": [],
   "execution_count": null
  },
  {
   "cell_type": "code",
   "metadata": {
    "tags": [],
    "cell_id": "00032-45eae3d4-37f2-4c04-9bbb-01c136497b1b",
    "deepnote_to_be_reexecuted": true,
    "source_hash": "53923c8",
    "execution_start": 1638299531466,
    "execution_millis": 610,
    "deepnote_output_heights": [
     null,
     null,
     194,
     null,
     null,
     194
    ],
    "deepnote_cell_type": "code"
   },
   "source": "metrics_pandas = metrics_numpy_2_pandas(t1_metrics_data['data'], alfabeto)\nif input_task1_option == \"PCA\":\n    t1_alg_result, t1_alg_variance = metrics_numpy_2_PCA(metrics_pandas, show_intermediate_data=True)\nelif input_task1_option == \"SVD\":\n    t1_alg_result, t1_alg_variance = metrics_numpy_2_SVD(metrics_pandas, show_intermediate_data=True)\nelse:\n    t1_alg_result, t1_alg_variance = metrics_numpy_2_LDA(metrics_pandas, t1_metrics_data['labels'], show_intermediate_data=True)\n\n# Preparo i dati x il task 5 di classificazione che sarà fatto dai dati con dimensionalità ridotta generati qua\nt5_data = {\n    'data': t1_alg_result['fitted_alg'], \n    'labels': t1_metrics_data['labels']\n}",
   "outputs": [
    {
     "data": {
      "application/vnd.deepnote.dataframe.v2+json": {
       "row_count": 1100,
       "column_count": 3,
       "columns": [
        {
         "name": "PC1",
         "dtype": "float64",
         "stats": {
          "unique_count": 422,
          "nan_count": 0,
          "min": "0.0",
          "max": "1207.7979239934255",
          "histogram": [
           {
            "bin_start": 0,
            "bin_end": 120.77979239934254,
            "count": 1060
           },
           {
            "bin_start": 120.77979239934254,
            "bin_end": 241.55958479868508,
            "count": 25
           },
           {
            "bin_start": 241.55958479868508,
            "bin_end": 362.3393771980276,
            "count": 9
           },
           {
            "bin_start": 362.3393771980276,
            "bin_end": 483.11916959737016,
            "count": 5
           },
           {
            "bin_start": 483.11916959737016,
            "bin_end": 603.8989619967127,
            "count": 0
           },
           {
            "bin_start": 603.8989619967127,
            "bin_end": 724.6787543960552,
            "count": 0
           },
           {
            "bin_start": 724.6787543960552,
            "bin_end": 845.4585467953978,
            "count": 0
           },
           {
            "bin_start": 845.4585467953978,
            "bin_end": 966.2383391947403,
            "count": 0
           },
           {
            "bin_start": 966.2383391947403,
            "bin_end": 1087.018131594083,
            "count": 0
           },
           {
            "bin_start": 1087.018131594083,
            "bin_end": 1207.7979239934255,
            "count": 1
           }
          ]
         }
        },
        {
         "name": "PC2",
         "dtype": "float64",
         "stats": {
          "unique_count": 422,
          "nan_count": 0,
          "min": "0.0",
          "max": "1211.5662589384035",
          "histogram": [
           {
            "bin_start": 0,
            "bin_end": 121.15662589384036,
            "count": 1060
           },
           {
            "bin_start": 121.15662589384036,
            "bin_end": 242.3132517876807,
            "count": 26
           },
           {
            "bin_start": 242.3132517876807,
            "bin_end": 363.4698776815211,
            "count": 9
           },
           {
            "bin_start": 363.4698776815211,
            "bin_end": 484.6265035753614,
            "count": 1
           },
           {
            "bin_start": 484.6265035753614,
            "bin_end": 605.7831294692018,
            "count": 1
           },
           {
            "bin_start": 605.7831294692018,
            "bin_end": 726.9397553630422,
            "count": 1
           },
           {
            "bin_start": 726.9397553630422,
            "bin_end": 848.0963812568825,
            "count": 1
           },
           {
            "bin_start": 848.0963812568825,
            "bin_end": 969.2530071507229,
            "count": 0
           },
           {
            "bin_start": 969.2530071507229,
            "bin_end": 1090.4096330445632,
            "count": 0
           },
           {
            "bin_start": 1090.4096330445632,
            "bin_end": 1211.5662589384035,
            "count": 1
           }
          ]
         }
        },
        {
         "name": "PC3",
         "dtype": "float64",
         "stats": {
          "unique_count": 422,
          "nan_count": 0,
          "min": "0.0",
          "max": "1211.7332855823615",
          "histogram": [
           {
            "bin_start": 0,
            "bin_end": 121.17332855823615,
            "count": 1060
           },
           {
            "bin_start": 121.17332855823615,
            "bin_end": 242.3466571164723,
            "count": 30
           },
           {
            "bin_start": 242.3466571164723,
            "bin_end": 363.51998567470844,
            "count": 5
           },
           {
            "bin_start": 363.51998567470844,
            "bin_end": 484.6933142329446,
            "count": 0
           },
           {
            "bin_start": 484.6933142329446,
            "bin_end": 605.8666427911808,
            "count": 3
           },
           {
            "bin_start": 605.8666427911808,
            "bin_end": 727.0399713494169,
            "count": 1
           },
           {
            "bin_start": 727.0399713494169,
            "bin_end": 848.2132999076531,
            "count": 0
           },
           {
            "bin_start": 848.2132999076531,
            "bin_end": 969.3866284658892,
            "count": 0
           },
           {
            "bin_start": 969.3866284658892,
            "bin_end": 1090.5599570241254,
            "count": 0
           },
           {
            "bin_start": 1090.5599570241254,
            "bin_end": 1211.7332855823615,
            "count": 1
           }
          ]
         }
        },
        {
         "name": "_deepnote_index_column",
         "dtype": "object"
        }
       ],
       "rows_top": [
        {
         "PC1": 5.402062463744771e-17,
         "PC2": 1.3570070288404834e-17,
         "PC3": 6.759069492585255e-17,
         "_deepnote_index_column": "S0 -0.937;-0.9993"
        },
        {
         "PC1": 2.2822337349911686e-16,
         "PC2": 7.060079953513908e-17,
         "PC3": 2.98824173034256e-16,
         "_deepnote_index_column": "S0 0.937;0.7334"
        },
        {
         "PC1": 3.0816479164064115e-16,
         "PC2": 1.3302479713996521e-17,
         "PC3": 3.2146727135463774e-16,
         "_deepnote_index_column": "S0 0.7334;-0.2882"
        },
        {
         "PC1": 6.112953650246956e-17,
         "PC2": 1.4022806552068768e-16,
         "PC3": 7.909852901821806e-17,
         "_deepnote_index_column": "S0 -0.9911;-0.937"
        },
        {
         "PC1": 84.85957977857893,
         "PC2": 34.797643413288625,
         "PC3": 119.65722319186756,
         "_deepnote_index_column": "S0 0.9911;0.9911"
        },
        {
         "PC1": 1.7125801681733938e-16,
         "PC2": 1.3659437045467368e-16,
         "PC3": 3.4663646362665776e-17,
         "_deepnote_index_column": "S0 -0.7334;0.2882"
        },
        {
         "PC1": 1.081480787667718e-16,
         "PC2": 1.6654148191499248e-16,
         "PC3": 5.83934031482206e-17,
         "_deepnote_index_column": "S0 -0.9993;0.937"
        },
        {
         "PC1": 7.247761952589697e-17,
         "PC2": 5.926771667364694e-17,
         "PC3": 1.3174533619954389e-16,
         "_deepnote_index_column": "S0 -0.937;0.937"
        },
        {
         "PC1": 100.58550903523414,
         "PC2": 112.71270956221444,
         "PC3": 12.127200526980236,
         "_deepnote_index_column": "S0 0.2882;0.2882"
        },
        {
         "PC1": 2.330101222927061e-16,
         "PC2": 1.3116396213961424e-16,
         "PC3": 1.0184616015309189e-16,
         "_deepnote_index_column": "S0 -0.9911;-0.7334"
        },
        {
         "PC1": 1.9500093908224592e-16,
         "PC2": 1.1445956902163357e-16,
         "PC3": 3.094605081038795e-16,
         "_deepnote_index_column": "S0 -0.9993;-0.9911"
        },
        {
         "PC1": 4.3469139413605424e-17,
         "PC2": 8.67191204193323e-17,
         "PC3": 4.324998100572684e-17,
         "_deepnote_index_column": "S0 -0.2882;0.9993"
        },
        {
         "PC1": 4.7113836894174376e-17,
         "PC2": 1.2884201273765602e-17,
         "PC3": 3.422963562040878e-17,
         "_deepnote_index_column": "S0 -0.7334;-0.2882"
        },
        {
         "PC1": 1.191161157051358e-16,
         "PC2": 1.2772106901917257e-16,
         "PC3": 8.604953314036684e-18,
         "_deepnote_index_column": "S0 0.937;-0.9993"
        },
        {
         "PC1": 6.390125493869259e-17,
         "PC2": 6.695491718181592e-17,
         "PC3": 1.308561721205085e-16,
         "_deepnote_index_column": "S0 -0.9911;-0.9911"
        },
        {
         "PC1": 6.4122785554413015,
         "PC2": 0.9933863482239473,
         "PC3": 5.418892207217356,
         "_deepnote_index_column": "S0 -0.2882;0.2882"
        },
        {
         "PC1": 1.3036308272148756e-16,
         "PC2": 1.0451384543845065e-16,
         "PC3": 2.5849237283036965e-17,
         "_deepnote_index_column": "S0 -0.9993;-0.7334"
        },
        {
         "PC1": 1.835162097775091,
         "PC2": 2.011817805211754,
         "PC3": 0.17665570743666195,
         "_deepnote_index_column": "S0 0.9911;0.9993"
        },
        {
         "PC1": 5.654082978174672e-17,
         "PC2": 1.8605739286174827e-18,
         "PC3": 5.84014037103642e-17,
         "_deepnote_index_column": "S0 -0.9993;0.2882"
        },
        {
         "PC1": 9.963110918439705e-18,
         "PC2": 3.030115073991618e-17,
         "PC3": 4.026426165835587e-17,
         "_deepnote_index_column": "S0 0.7334;0.2882"
        },
        {
         "PC1": 7.843409298014207e-17,
         "PC2": 1.9292491100166433e-16,
         "PC3": 2.7135900398180635e-16,
         "_deepnote_index_column": "S0 0.7334;0.9993"
        },
        {
         "PC1": 131.8086742314078,
         "PC2": 26.62872266202053,
         "PC3": 105.1799515693873,
         "_deepnote_index_column": "S0 0.7334;0.7334"
        },
        {
         "PC1": 2.779060529271554e-16,
         "PC2": 1.2072531672956363e-16,
         "PC3": 1.5718073619759187e-16,
         "_deepnote_index_column": "S0 -0.7334;0.7334"
        },
        {
         "PC1": 1.129998631608189e-17,
         "PC2": 9.896246550500927e-17,
         "PC3": 8.766247918892735e-17,
         "_deepnote_index_column": "S0 0.7334;-0.7334"
        },
        {
         "PC1": 3.3395018469759883,
         "PC2": 3.974144747797074,
         "PC3": 7.313646594773061,
         "_deepnote_index_column": "S0 0.9911;0.937"
        },
        {
         "PC1": 7.726707822013403e-17,
         "PC2": 6.551835670235627e-17,
         "PC3": 1.4278543492249028e-16,
         "_deepnote_index_column": "S0 0.7334;-0.937"
        },
        {
         "PC1": 4.4732951211545404e-17,
         "PC2": 1.8513612460046122e-17,
         "PC3": 2.6219338751499298e-17,
         "_deepnote_index_column": "S0 0.2882;-0.7334"
        },
        {
         "PC1": 1.4544633655073744e-17,
         "PC2": 3.7583735372669686e-17,
         "PC3": 2.3039101717595933e-17,
         "_deepnote_index_column": "S0 -0.937;-0.9911"
        },
        {
         "PC1": 3.9831412765663913e-17,
         "PC2": 1.199296643942681e-16,
         "PC3": 1.5976107715993196e-16,
         "_deepnote_index_column": "S0 0.7334;-0.9993"
        },
        {
         "PC1": 2.2960636112628375e-16,
         "PC2": 8.790427973336759e-17,
         "PC3": 1.4170208139291621e-16,
         "_deepnote_index_column": "S0 -0.937;-0.7334"
        },
        {
         "PC1": 1207.7979239934255,
         "PC2": 628.242703618801,
         "PC3": 579.5552203746249,
         "_deepnote_index_column": "S0 -0.7334;-0.7334"
        },
        {
         "PC1": 3.508403669569037e-17,
         "PC2": 1.126652084456244e-17,
         "PC3": 2.3817515851127938e-17,
         "_deepnote_index_column": "S0 -0.9911;-0.9993"
        },
        {
         "PC1": 2.11263949027815,
         "PC2": 0.8586508358577476,
         "PC3": 2.971290326135897,
         "_deepnote_index_column": "S0 0.2882;0.7334"
        },
        {
         "PC1": 3.8963596884051034e-17,
         "PC2": 8.359118862264103e-17,
         "PC3": 1.2255478550669203e-16,
         "_deepnote_index_column": "S0 -0.9993;-0.937"
        },
        {
         "PC1": 1.8579808251917476e-17,
         "PC2": 1.275146814528761e-16,
         "PC3": 1.4609448970479354e-16,
         "_deepnote_index_column": "S0 -0.937;-0.2882"
        },
        {
         "PC1": 6.129601094702134e-17,
         "PC2": 6.884811579620646e-17,
         "PC3": 1.301441267432278e-16,
         "_deepnote_index_column": "S0 -0.937;-0.937"
        },
        {
         "PC1": 119.93766074794569,
         "PC2": 22.50097988820637,
         "PC3": 97.43668085973935,
         "_deepnote_index_column": "S0 0.9993;0.9993"
        },
        {
         "PC1": 1.0597503327233957e-16,
         "PC2": 8.48355047732919e-18,
         "PC3": 1.1445858374966878e-16,
         "_deepnote_index_column": "S0 0.2882;0.937"
        },
        {
         "PC1": 6.218851817492511e-17,
         "PC2": 2.3021128472586178e-17,
         "PC3": 3.9167389702338953e-17,
         "_deepnote_index_column": "S0 0.7334;0.937"
        },
        {
         "PC1": 4.525283959249285,
         "PC2": 0.7075973744155366,
         "PC3": 3.81768658483375,
         "_deepnote_index_column": "S0 0.9993;0.9911"
        },
        {
         "PC1": 1.7010953341438246e-17,
         "PC2": 6.9553908155649e-17,
         "PC3": 8.656486149708723e-17,
         "_deepnote_index_column": "S0 -0.2882;-0.7334"
        },
        {
         "PC1": 3.1003063389734473,
         "PC2": 1.3312549108265654,
         "PC3": 1.769051428146883,
         "_deepnote_index_column": "S0 0.937;0.9911"
        },
        {
         "PC1": 7.200255849608734e-17,
         "PC2": 7.386192175749211e-17,
         "PC3": 1.8593632614047282e-18,
         "_deepnote_index_column": "S0 0.937;-0.9911"
        },
        {
         "PC1": 262.9664315890743,
         "PC2": 187.39880114364914,
         "PC3": 75.5676304454253,
         "_deepnote_index_column": "S0 -0.2882;-0.2882"
        },
        {
         "PC1": 2.4696566340359063e-17,
         "PC2": 1.0437988962891777e-16,
         "PC3": 1.290764559692768e-16,
         "_deepnote_index_column": "S0 0.9993;0.937"
        },
        {
         "PC1": 8.90249457483345e-17,
         "PC2": 1.3458038850475547e-17,
         "PC3": 1.0248298459881005e-16,
         "_deepnote_index_column": "S0 -0.9993;-0.9993"
        },
        {
         "PC1": 5.887381536775863e-17,
         "PC2": 5.447732293206577e-17,
         "PC3": 1.1335113829982437e-16,
         "_deepnote_index_column": "S0 -0.7334;-0.937"
        },
        {
         "PC1": 1.0099862890090193e-16,
         "PC2": 4.7035295625115764e-17,
         "PC3": 1.4803392452601768e-16,
         "_deepnote_index_column": "S0 0.9911;0.2882"
        },
        {
         "PC1": 4.7559389825327566e-17,
         "PC2": 5.272811630926924e-18,
         "PC3": 4.228657819440065e-17,
         "_deepnote_index_column": "S0 0.9911;-0.9911"
        },
        {
         "PC1": 3.262921089287571e-17,
         "PC2": 3.9246548331897664e-17,
         "PC3": 6.6173374390219376e-18,
         "_deepnote_index_column": "S0 -0.2882;0.937"
        },
        {
         "PC1": 177.61523079497124,
         "PC2": 262.22166687676884,
         "PC3": 84.60643608179751,
         "_deepnote_index_column": "S0 0.937;0.937"
        },
        {
         "PC1": 6.137229926034066e-17,
         "PC2": 6.68794170428331e-17,
         "PC3": 1.2825171630317374e-16,
         "_deepnote_index_column": "S0 -0.937;0.2882"
        },
        {
         "PC1": 6.698378918464494e-17,
         "PC2": 5.1567648477770933e-17,
         "PC3": 1.5416140706874035e-17,
         "_deepnote_index_column": "S0 0.2882;-0.2882"
        },
        {
         "PC1": 7.420339000705519e-17,
         "PC2": 1.651728204769128e-17,
         "PC3": 9.072067205474647e-17,
         "_deepnote_index_column": "S0 -0.9993;0.7334"
        },
        {
         "PC1": 1.64320985798615e-17,
         "PC2": 2.9595910585223944e-17,
         "PC3": 1.3163812005362431e-17,
         "_deepnote_index_column": "S0 0.2882;0.9911"
        },
        {
         "PC1": 2.1598344961828535e-17,
         "PC2": 4.0451783090183805e-17,
         "PC3": 1.8853438128355254e-17,
         "_deepnote_index_column": "S1 -0.937;-0.9993"
        },
        {
         "PC1": 24.301715013397647,
         "PC2": 8.31845303880008,
         "PC3": 15.983261974597573,
         "_deepnote_index_column": "S1 0.937;0.7334"
        },
        {
         "PC1": 1.168094949150511e-16,
         "PC2": 6.527345586165726e-18,
         "PC3": 1.2333684050121685e-16,
         "_deepnote_index_column": "S1 0.7334;-0.2882"
        },
        {
         "PC1": 2.6688706431149542e-17,
         "PC2": 2.052884623204748e-17,
         "PC3": 4.7217552663197014e-17,
         "_deepnote_index_column": "S1 -0.9911;-0.937"
        },
        {
         "PC1": 74.32716043287064,
         "PC2": 30.83560249895488,
         "PC3": 43.491557933915786,
         "_deepnote_index_column": "S1 0.9911;0.9911"
        },
        {
         "PC1": 4.317565491978001e-17,
         "PC2": 2.3248344640893482e-17,
         "PC3": 1.9927310278886546e-17,
         "_deepnote_index_column": "S1 -0.7334;0.2882"
        },
        {
         "PC1": 2.6945410202672117e-19,
         "PC2": 5.2443909395820505e-17,
         "PC3": 5.217445529379377e-17,
         "_deepnote_index_column": "S1 -0.9993;0.937"
        },
        {
         "PC1": 4.0815385906877355e-16,
         "PC2": 8.364231506270703e-17,
         "PC3": 4.917961741314806e-16,
         "_deepnote_index_column": "S1 -0.937;0.937"
        },
        {
         "PC1": 51.6795015193875,
         "PC2": 19.49760904517781,
         "PC3": 71.17711056456531,
         "_deepnote_index_column": "S1 0.2882;0.2882"
        },
        {
         "PC1": 7.592262711538779e-17,
         "PC2": 1.6967354514593407e-16,
         "PC3": 9.375091803054622e-17,
         "_deepnote_index_column": "S1 -0.9911;-0.7334"
        },
        {
         "PC1": 2.5965539761425356e-17,
         "PC2": 3.8397577081137044e-17,
         "PC3": 1.2432037319711663e-17,
         "_deepnote_index_column": "S1 -0.9993;-0.9911"
        },
        {
         "PC1": 6.350156216175293e-17,
         "PC2": 9.259943038619029e-17,
         "PC3": 1.561009925479432e-16,
         "_deepnote_index_column": "S1 -0.2882;0.9993"
        },
        {
         "PC1": 2.7055215387426552e-17,
         "PC2": 2.537208619310651e-16,
         "PC3": 2.2666564654363847e-16,
         "_deepnote_index_column": "S1 -0.7334;-0.2882"
        },
        {
         "PC1": 2.3027351243883607e-16,
         "PC2": 5.392840764642258e-17,
         "PC3": 1.7634510479241354e-16,
         "_deepnote_index_column": "S1 0.937;-0.9993"
        },
        {
         "PC1": 5.988268176086266e-17,
         "PC2": 5.441701136974699e-17,
         "PC3": 5.465670391115694e-18,
         "_deepnote_index_column": "S1 -0.9911;-0.9911"
        },
        {
         "PC1": 4.440465884546949e-17,
         "PC2": 1.3228845989261306e-16,
         "PC3": 8.788380104714352e-17,
         "_deepnote_index_column": "S1 -0.2882;0.2882"
        },
        {
         "PC1": 4.2125529923575714e-17,
         "PC2": 1.0937000256208453e-16,
         "PC3": 6.724447263850878e-17,
         "_deepnote_index_column": "S1 -0.9993;-0.7334"
        },
        {
         "PC1": 3.7723819484669265,
         "PC2": 1.7927752701155104,
         "PC3": 5.565157218582437,
         "_deepnote_index_column": "S1 0.9911;0.9993"
        },
        {
         "PC1": 3.895025424004088e-18,
         "PC2": 8.899775855788013e-17,
         "PC3": 8.510273313387601e-17,
         "_deepnote_index_column": "S1 -0.9993;0.2882"
        },
        {
         "PC1": 7.883901385929801e-18,
         "PC2": 1.13751286161734e-17,
         "PC3": 1.92590300021032e-17,
         "_deepnote_index_column": "S1 0.7334;0.2882"
        },
        {
         "PC1": 2.4902273247967172e-17,
         "PC2": 5.381688749849699e-17,
         "PC3": 2.8914614250529803e-17,
         "_deepnote_index_column": "S1 0.7334;0.9993"
        },
        {
         "PC1": 236.57991819107687,
         "PC2": 226.5145163631568,
         "PC3": 10.065401827920189,
         "_deepnote_index_column": "S1 0.7334;0.7334"
        },
        {
         "PC1": 6.58930032275935e-17,
         "PC2": 9.499347462710213e-17,
         "PC3": 2.9100471399508576e-17,
         "_deepnote_index_column": "S1 -0.7334;0.7334"
        },
        {
         "PC1": 4.3850236930470937e-17,
         "PC2": 5.789001653792704e-17,
         "PC3": 1.403977960745607e-17,
         "_deepnote_index_column": "S1 0.7334;-0.7334"
        },
        {
         "PC1": 4.0681576899898975,
         "PC2": 1.8303222586372683,
         "PC3": 2.237835431352631,
         "_deepnote_index_column": "S1 0.9911;0.937"
        },
        {
         "PC1": 3.756957580040088e-18,
         "PC2": 3.150302894307306e-17,
         "PC3": 2.774607136303296e-17,
         "_deepnote_index_column": "S1 0.7334;-0.937"
        },
        {
         "PC1": 3.6713389617468105e-17,
         "PC2": 6.147756616234129e-17,
         "PC3": 9.819095577980938e-17,
         "_deepnote_index_column": "S1 0.2882;-0.7334"
        },
        {
         "PC1": 7.565010886290007e-18,
         "PC2": 3.896230417732524e-17,
         "PC3": 3.139729329103522e-17,
         "_deepnote_index_column": "S1 -0.937;-0.9911"
        },
        {
         "PC1": 2.154819191264e-17,
         "PC2": 2.8736583964817214e-17,
         "PC3": 7.1883920521772e-18,
         "_deepnote_index_column": "S1 0.7334;-0.9993"
        },
        {
         "PC1": 7.554582839752738,
         "PC2": 6.3503883398595145,
         "PC3": 1.2041944998932272,
         "_deepnote_index_column": "S1 -0.937;-0.7334"
        },
        {
         "PC1": 214.3208064308761,
         "PC2": 127.50077237347762,
         "PC3": 86.82003405739856,
         "_deepnote_index_column": "S1 -0.7334;-0.7334"
        },
        {
         "PC1": 6.996126338973207e-17,
         "PC2": 2.762522048936296e-17,
         "PC3": 4.233604290036914e-17,
         "_deepnote_index_column": "S1 -0.9911;-0.9993"
        },
        {
         "PC1": 1.434074455795938,
         "PC2": 1.710363973882857,
         "PC3": 3.144438429678795,
         "_deepnote_index_column": "S1 0.2882;0.7334"
        },
        {
         "PC1": 1.2254707364189672e-16,
         "PC2": 5.843666509990145e-17,
         "PC3": 1.8098373874179817e-16,
         "_deepnote_index_column": "S1 -0.9993;-0.937"
        },
        {
         "PC1": 5.007051529564615e-18,
         "PC2": 9.134615191038984e-17,
         "PC3": 8.63391003808252e-17,
         "_deepnote_index_column": "S1 -0.937;-0.2882"
        },
        {
         "PC1": 35.10043109979833,
         "PC2": 8.333157866034322,
         "PC3": 43.433588965832655,
         "_deepnote_index_column": "S1 -0.937;-0.937"
        },
        {
         "PC1": 96.891337967949,
         "PC2": 28.26391286799213,
         "PC3": 68.6274250999569,
         "_deepnote_index_column": "S1 0.9993;0.9993"
        },
        {
         "PC1": 0,
         "PC2": 0,
         "PC3": 0,
         "_deepnote_index_column": "S1 0.2882;0.937"
        },
        {
         "PC1": 1.4099534671466576,
         "PC2": 2.319350905093616,
         "PC3": 0.9093974379469573,
         "_deepnote_index_column": "S1 0.7334;0.937"
        },
        {
         "PC1": 3.8572465829352964,
         "PC2": 1.90440719917089,
         "PC3": 5.761653782106187,
         "_deepnote_index_column": "S1 0.9993;0.9911"
        },
        {
         "PC1": 7.997670017388823,
         "PC2": 10.345099094372591,
         "PC3": 18.342769111761413,
         "_deepnote_index_column": "S1 -0.2882;-0.7334"
        },
        {
         "PC1": 0.5496323954858767,
         "PC2": 3.3612022862915234,
         "PC3": 2.8115698908056452,
         "_deepnote_index_column": "S1 0.937;0.9911"
        },
        {
         "PC1": 0,
         "PC2": 0,
         "PC3": 0,
         "_deepnote_index_column": "S1 0.937;-0.9911"
        },
        {
         "PC1": 123.05869147779086,
         "PC2": 142.6647108393702,
         "PC3": 19.60601936157927,
         "_deepnote_index_column": "S1 -0.2882;-0.2882"
        },
        {
         "PC1": 0,
         "PC2": 0,
         "PC3": 0,
         "_deepnote_index_column": "S1 0.9993;0.937"
        },
        {
         "PC1": 0,
         "PC2": 0,
         "PC3": 0,
         "_deepnote_index_column": "S1 -0.9993;-0.9993"
        },
        {
         "PC1": 0,
         "PC2": 0,
         "PC3": 0,
         "_deepnote_index_column": "S1 -0.7334;-0.937"
        },
        {
         "PC1": 0,
         "PC2": 0,
         "PC3": 0,
         "_deepnote_index_column": "S1 0.9911;0.2882"
        },
        {
         "PC1": 0,
         "PC2": 0,
         "PC3": 0,
         "_deepnote_index_column": "S1 0.9911;-0.9911"
        },
        {
         "PC1": 0,
         "PC2": 0,
         "PC3": 0,
         "_deepnote_index_column": "S1 -0.2882;0.937"
        },
        {
         "PC1": 19.49189755927798,
         "PC2": 20.166529654048272,
         "PC3": 39.65842721332625,
         "_deepnote_index_column": "S1 0.937;0.937"
        },
        {
         "PC1": 0,
         "PC2": 0,
         "PC3": 0,
         "_deepnote_index_column": "S1 -0.937;0.2882"
        },
        {
         "PC1": 0,
         "PC2": 0,
         "PC3": 0,
         "_deepnote_index_column": "S1 0.2882;-0.2882"
        },
        {
         "PC1": 0,
         "PC2": 0,
         "PC3": 0,
         "_deepnote_index_column": "S1 -0.9993;0.7334"
        },
        {
         "PC1": 0,
         "PC2": 0,
         "PC3": 0,
         "_deepnote_index_column": "S1 0.2882;0.9911"
        },
        {
         "PC1": 0,
         "PC2": 0,
         "PC3": 0,
         "_deepnote_index_column": "S2 -0.937;-0.9993"
        },
        {
         "PC1": 0,
         "PC2": 0,
         "PC3": 0,
         "_deepnote_index_column": "S2 0.937;0.7334"
        },
        {
         "PC1": 0,
         "PC2": 0,
         "PC3": 0,
         "_deepnote_index_column": "S2 0.7334;-0.2882"
        },
        {
         "PC1": 0,
         "PC2": 0,
         "PC3": 0,
         "_deepnote_index_column": "S2 -0.9911;-0.937"
        },
        {
         "PC1": 89.46627965352727,
         "PC2": 71.80557757215583,
         "PC3": 161.27185722568308,
         "_deepnote_index_column": "S2 0.9911;0.9911"
        },
        {
         "PC1": 0,
         "PC2": 0,
         "PC3": 0,
         "_deepnote_index_column": "S2 -0.7334;0.2882"
        },
        {
         "PC1": 0,
         "PC2": 0,
         "PC3": 0,
         "_deepnote_index_column": "S2 -0.9993;0.937"
        },
        {
         "PC1": 0,
         "PC2": 0,
         "PC3": 0,
         "_deepnote_index_column": "S2 -0.937;0.937"
        },
        {
         "PC1": 110.21703887537005,
         "PC2": 42.329702264208386,
         "PC3": 152.54674113957844,
         "_deepnote_index_column": "S2 0.2882;0.2882"
        },
        {
         "PC1": 0,
         "PC2": 0,
         "PC3": 0,
         "_deepnote_index_column": "S2 -0.9911;-0.7334"
        },
        {
         "PC1": 0,
         "PC2": 0,
         "PC3": 0,
         "_deepnote_index_column": "S2 -0.9993;-0.9911"
        },
        {
         "PC1": 0,
         "PC2": 0,
         "PC3": 0,
         "_deepnote_index_column": "S2 -0.2882;0.9993"
        },
        {
         "PC1": 0,
         "PC2": 0,
         "PC3": 0,
         "_deepnote_index_column": "S2 -0.7334;-0.2882"
        },
        {
         "PC1": 0,
         "PC2": 0,
         "PC3": 0,
         "_deepnote_index_column": "S2 0.937;-0.9993"
        },
        {
         "PC1": 0,
         "PC2": 0,
         "PC3": 0,
         "_deepnote_index_column": "S2 -0.9911;-0.9911"
        },
        {
         "PC1": 1.7239605711836907,
         "PC2": 2.835887569546781,
         "PC3": 1.1119269983630888,
         "_deepnote_index_column": "S2 -0.2882;0.2882"
        },
        {
         "PC1": 0,
         "PC2": 0,
         "PC3": 0,
         "_deepnote_index_column": "S2 -0.9993;-0.7334"
        },
        {
         "PC1": 2.946305012017,
         "PC2": 12.651455726117984,
         "PC3": 9.705150714100979,
         "_deepnote_index_column": "S2 0.9911;0.9993"
        },
        {
         "PC1": 0,
         "PC2": 0,
         "PC3": 0,
         "_deepnote_index_column": "S2 -0.9993;0.2882"
        },
        {
         "PC1": 2.087104523056046,
         "PC2": 3.8246547087236893,
         "PC3": 1.7375501856676412,
         "_deepnote_index_column": "S2 0.7334;0.2882"
        },
        {
         "PC1": 0,
         "PC2": 0,
         "PC3": 0,
         "_deepnote_index_column": "S2 0.7334;0.9993"
        },
        {
         "PC1": 0.16702664395860006,
         "PC2": 1211.5662589384035,
         "PC3": 1211.7332855823615,
         "_deepnote_index_column": "S2 0.7334;0.7334"
        },
        {
         "PC1": 0,
         "PC2": 0,
         "PC3": 0,
         "_deepnote_index_column": "S2 -0.7334;0.7334"
        },
        {
         "PC1": 0,
         "PC2": 0,
         "PC3": 0,
         "_deepnote_index_column": "S2 0.7334;-0.7334"
        },
        {
         "PC1": 1.6998701466697745,
         "PC2": 0.3467076171099674,
         "PC3": 2.046577763779742,
         "_deepnote_index_column": "S2 0.9911;0.937"
        },
        {
         "PC1": 0,
         "PC2": 0,
         "PC3": 0,
         "_deepnote_index_column": "S2 0.7334;-0.937"
        },
        {
         "PC1": 0,
         "PC2": 0,
         "PC3": 0,
         "_deepnote_index_column": "S2 0.2882;-0.7334"
        },
        {
         "PC1": 0,
         "PC2": 0,
         "PC3": 0,
         "_deepnote_index_column": "S2 -0.937;-0.9911"
        },
        {
         "PC1": 0,
         "PC2": 0,
         "PC3": 0,
         "_deepnote_index_column": "S2 0.7334;-0.9993"
        },
        {
         "PC1": 7.55458283975274,
         "PC2": 6.350388339859511,
         "PC3": 1.2041944998932324,
         "_deepnote_index_column": "S2 -0.937;-0.7334"
        },
        {
         "PC1": 7.689565888525476,
         "PC2": 38.695405632925215,
         "PC3": 31.00583974439973,
         "_deepnote_index_column": "S2 -0.7334;-0.7334"
        },
        {
         "PC1": 0,
         "PC2": 0,
         "PC3": 0,
         "_deepnote_index_column": "S2 -0.9911;-0.9993"
        },
        {
         "PC1": 0,
         "PC2": 0,
         "PC3": 0,
         "_deepnote_index_column": "S2 0.2882;0.7334"
        },
        {
         "PC1": 0,
         "PC2": 0,
         "PC3": 0,
         "_deepnote_index_column": "S2 -0.9993;-0.937"
        },
        {
         "PC1": 0,
         "PC2": 0,
         "PC3": 0,
         "_deepnote_index_column": "S2 -0.937;-0.2882"
        },
        {
         "PC1": 49.52390717070549,
         "PC2": 0.31242654064091196,
         "PC3": 49.83633371134641,
         "_deepnote_index_column": "S2 -0.937;-0.937"
        },
        {
         "PC1": 112.0841182817421,
         "PC2": 53.24454920416587,
         "PC3": 58.839569077576265,
         "_deepnote_index_column": "S2 0.9993;0.9993"
        },
        {
         "PC1": 0,
         "PC2": 0,
         "PC3": 0,
         "_deepnote_index_column": "S2 0.2882;0.937"
        },
        {
         "PC1": 0,
         "PC2": 0,
         "PC3": 0,
         "_deepnote_index_column": "S2 0.7334;0.937"
        },
        {
         "PC1": 3.03639641955256,
         "PC2": 0.17879284780843616,
         "PC3": 2.8576035717441246,
         "_deepnote_index_column": "S2 0.9993;0.9911"
        },
        {
         "PC1": 5.950486490375913,
         "PC2": 8.763357118554914,
         "PC3": 14.713843608930825,
         "_deepnote_index_column": "S2 -0.2882;-0.7334"
        },
        {
         "PC1": 0,
         "PC2": 0,
         "PC3": 0,
         "_deepnote_index_column": "S2 0.937;0.9911"
        },
        {
         "PC1": 0,
         "PC2": 0,
         "PC3": 0,
         "_deepnote_index_column": "S2 0.937;-0.9911"
        },
        {
         "PC1": 105.6942908148641,
         "PC2": 52.393180977829005,
         "PC3": 158.0874717926931,
         "_deepnote_index_column": "S2 -0.2882;-0.2882"
        },
        {
         "PC1": 0,
         "PC2": 0,
         "PC3": 0,
         "_deepnote_index_column": "S2 0.9993;0.937"
        },
        {
         "PC1": 0,
         "PC2": 0,
         "PC3": 0,
         "_deepnote_index_column": "S2 -0.9993;-0.9993"
        },
        {
         "PC1": 4.704547340257243,
         "PC2": 0.807308861831348,
         "PC3": 3.897238478425896,
         "_deepnote_index_column": "S2 -0.7334;-0.937"
        },
        {
         "PC1": 0,
         "PC2": 0,
         "PC3": 0,
         "_deepnote_index_column": "S2 0.9911;0.2882"
        },
        {
         "PC1": 0,
         "PC2": 0,
         "PC3": 0,
         "_deepnote_index_column": "S2 0.9911;-0.9911"
        },
        {
         "PC1": 0,
         "PC2": 0,
         "PC3": 0,
         "_deepnote_index_column": "S2 -0.2882;0.937"
        },
        {
         "PC1": 158.4429012310859,
         "PC2": 13.571417907752041,
         "PC3": 144.87148332333388,
         "_deepnote_index_column": "S2 0.937;0.937"
        },
        {
         "PC1": 0,
         "PC2": 0,
         "PC3": 0,
         "_deepnote_index_column": "S2 -0.937;0.2882"
        },
        {
         "PC1": 0,
         "PC2": 0,
         "PC3": 0,
         "_deepnote_index_column": "S2 0.2882;-0.2882"
        },
        {
         "PC1": 0,
         "PC2": 0,
         "PC3": 0,
         "_deepnote_index_column": "S2 -0.9993;0.7334"
        },
        {
         "PC1": 0,
         "PC2": 0,
         "PC3": 0,
         "_deepnote_index_column": "S2 0.2882;0.9911"
        },
        {
         "PC1": 0,
         "PC2": 0,
         "PC3": 0,
         "_deepnote_index_column": "S3 -0.937;-0.9993"
        }
       ],
       "rows_bottom": [
        {
         "PC1": 0,
         "PC2": 0,
         "PC3": 0,
         "_deepnote_index_column": "S16 -0.9993;0.7334"
        },
        {
         "PC1": 0,
         "PC2": 0,
         "PC3": 0,
         "_deepnote_index_column": "S16 0.2882;0.9911"
        },
        {
         "PC1": 0,
         "PC2": 0,
         "PC3": 0,
         "_deepnote_index_column": "S17 -0.937;-0.9993"
        },
        {
         "PC1": 0,
         "PC2": 0,
         "PC3": 0,
         "_deepnote_index_column": "S17 0.937;0.7334"
        },
        {
         "PC1": 0,
         "PC2": 0,
         "PC3": 0,
         "_deepnote_index_column": "S17 0.7334;-0.2882"
        },
        {
         "PC1": 0,
         "PC2": 0,
         "PC3": 0,
         "_deepnote_index_column": "S17 -0.9911;-0.937"
        },
        {
         "PC1": 0,
         "PC2": 0,
         "PC3": 0,
         "_deepnote_index_column": "S17 0.9911;0.9911"
        },
        {
         "PC1": 0,
         "PC2": 0,
         "PC3": 0,
         "_deepnote_index_column": "S17 -0.7334;0.2882"
        },
        {
         "PC1": 0,
         "PC2": 0,
         "PC3": 0,
         "_deepnote_index_column": "S17 -0.9993;0.937"
        },
        {
         "PC1": 0,
         "PC2": 0,
         "PC3": 0,
         "_deepnote_index_column": "S17 -0.937;0.937"
        },
        {
         "PC1": 123.12671614297246,
         "PC2": 141.1122378979813,
         "PC3": 17.985521755008783,
         "_deepnote_index_column": "S17 0.2882;0.2882"
        },
        {
         "PC1": 0,
         "PC2": 0,
         "PC3": 0,
         "_deepnote_index_column": "S17 -0.9911;-0.7334"
        },
        {
         "PC1": 0,
         "PC2": 0,
         "PC3": 0,
         "_deepnote_index_column": "S17 -0.9993;-0.9911"
        },
        {
         "PC1": 0,
         "PC2": 0,
         "PC3": 0,
         "_deepnote_index_column": "S17 -0.2882;0.9993"
        },
        {
         "PC1": 0,
         "PC2": 0,
         "PC3": 0,
         "_deepnote_index_column": "S17 -0.7334;-0.2882"
        },
        {
         "PC1": 0,
         "PC2": 0,
         "PC3": 0,
         "_deepnote_index_column": "S17 0.937;-0.9993"
        },
        {
         "PC1": 8.286420762111382,
         "PC2": 4.847796620176709,
         "PC3": 13.13421738228809,
         "_deepnote_index_column": "S17 -0.9911;-0.9911"
        },
        {
         "PC1": 0,
         "PC2": 0,
         "PC3": 0,
         "_deepnote_index_column": "S17 -0.2882;0.2882"
        },
        {
         "PC1": 0,
         "PC2": 0,
         "PC3": 0,
         "_deepnote_index_column": "S17 -0.9993;-0.7334"
        },
        {
         "PC1": 0,
         "PC2": 0,
         "PC3": 0,
         "_deepnote_index_column": "S17 0.9911;0.9993"
        },
        {
         "PC1": 0,
         "PC2": 0,
         "PC3": 0,
         "_deepnote_index_column": "S17 -0.9993;0.2882"
        },
        {
         "PC1": 0,
         "PC2": 0,
         "PC3": 0,
         "_deepnote_index_column": "S17 0.7334;0.2882"
        },
        {
         "PC1": 0,
         "PC2": 0,
         "PC3": 0,
         "_deepnote_index_column": "S17 0.7334;0.9993"
        },
        {
         "PC1": 4.697440644337836,
         "PC2": 94.60277991210232,
         "PC3": 89.90533926776443,
         "_deepnote_index_column": "S17 0.7334;0.7334"
        },
        {
         "PC1": 0,
         "PC2": 0,
         "PC3": 0,
         "_deepnote_index_column": "S17 -0.7334;0.7334"
        },
        {
         "PC1": 0,
         "PC2": 0,
         "PC3": 0,
         "_deepnote_index_column": "S17 0.7334;-0.7334"
        },
        {
         "PC1": 0,
         "PC2": 0,
         "PC3": 0,
         "_deepnote_index_column": "S17 0.9911;0.937"
        },
        {
         "PC1": 0,
         "PC2": 0,
         "PC3": 0,
         "_deepnote_index_column": "S17 0.7334;-0.937"
        },
        {
         "PC1": 0,
         "PC2": 0,
         "PC3": 0,
         "_deepnote_index_column": "S17 0.2882;-0.7334"
        },
        {
         "PC1": 0,
         "PC2": 0,
         "PC3": 0,
         "_deepnote_index_column": "S17 -0.937;-0.9911"
        },
        {
         "PC1": 0,
         "PC2": 0,
         "PC3": 0,
         "_deepnote_index_column": "S17 0.7334;-0.9993"
        },
        {
         "PC1": 0,
         "PC2": 0,
         "PC3": 0,
         "_deepnote_index_column": "S17 -0.937;-0.7334"
        },
        {
         "PC1": 7.051951664683669,
         "PC2": 34.958338149886536,
         "PC3": 27.90638648520285,
         "_deepnote_index_column": "S17 -0.7334;-0.7334"
        },
        {
         "PC1": 0,
         "PC2": 0,
         "PC3": 0,
         "_deepnote_index_column": "S17 -0.9911;-0.9993"
        },
        {
         "PC1": 6.563937617332186,
         "PC2": 1.9925887606436032,
         "PC3": 4.571348856688585,
         "_deepnote_index_column": "S17 0.2882;0.7334"
        },
        {
         "PC1": 0,
         "PC2": 0,
         "PC3": 0,
         "_deepnote_index_column": "S17 -0.9993;-0.937"
        },
        {
         "PC1": 0,
         "PC2": 0,
         "PC3": 0,
         "_deepnote_index_column": "S17 -0.937;-0.2882"
        },
        {
         "PC1": 1.5353237444228545,
         "PC2": 11.256972975112875,
         "PC3": 9.721649230690016,
         "_deepnote_index_column": "S17 -0.937;-0.937"
        },
        {
         "PC1": 0,
         "PC2": 0,
         "PC3": 0,
         "_deepnote_index_column": "S17 0.9993;0.9993"
        },
        {
         "PC1": 0,
         "PC2": 0,
         "PC3": 0,
         "_deepnote_index_column": "S17 0.2882;0.937"
        },
        {
         "PC1": 0,
         "PC2": 0,
         "PC3": 0,
         "_deepnote_index_column": "S17 0.7334;0.937"
        },
        {
         "PC1": 6.177809371563539,
         "PC2": 3.0344402366858696,
         "PC3": 3.143369134877672,
         "_deepnote_index_column": "S17 0.9993;0.9911"
        },
        {
         "PC1": 6.323086590799424,
         "PC2": 0.44071989310381326,
         "PC3": 5.882366697695611,
         "_deepnote_index_column": "S17 -0.2882;-0.7334"
        },
        {
         "PC1": 0,
         "PC2": 0,
         "PC3": 0,
         "_deepnote_index_column": "S17 0.937;0.9911"
        },
        {
         "PC1": 0,
         "PC2": 0,
         "PC3": 0,
         "_deepnote_index_column": "S17 0.937;-0.9911"
        },
        {
         "PC1": 13.301167998374678,
         "PC2": 12.779762216536836,
         "PC3": 26.080930214911515,
         "_deepnote_index_column": "S17 -0.2882;-0.2882"
        },
        {
         "PC1": 0,
         "PC2": 0,
         "PC3": 0,
         "_deepnote_index_column": "S17 0.9993;0.937"
        },
        {
         "PC1": 5.824434894395721,
         "PC2": 11.88435866971995,
         "PC3": 6.059923775324224,
         "_deepnote_index_column": "S17 -0.9993;-0.9993"
        },
        {
         "PC1": 5.117745901607848,
         "PC2": 4.358232198446285,
         "PC3": 0.7595137031615657,
         "_deepnote_index_column": "S17 -0.7334;-0.937"
        },
        {
         "PC1": 0,
         "PC2": 0,
         "PC3": 0,
         "_deepnote_index_column": "S17 0.9911;0.2882"
        },
        {
         "PC1": 0,
         "PC2": 0,
         "PC3": 0,
         "_deepnote_index_column": "S17 0.9911;-0.9911"
        },
        {
         "PC1": 0,
         "PC2": 0,
         "PC3": 0,
         "_deepnote_index_column": "S17 -0.2882;0.937"
        },
        {
         "PC1": 259.4175392754802,
         "PC2": 99.68293828312646,
         "PC3": 159.73460099235382,
         "_deepnote_index_column": "S17 0.937;0.937"
        },
        {
         "PC1": 0,
         "PC2": 0,
         "PC3": 0,
         "_deepnote_index_column": "S17 -0.937;0.2882"
        },
        {
         "PC1": 0,
         "PC2": 0,
         "PC3": 0,
         "_deepnote_index_column": "S17 0.2882;-0.2882"
        },
        {
         "PC1": 0,
         "PC2": 0,
         "PC3": 0,
         "_deepnote_index_column": "S17 -0.9993;0.7334"
        },
        {
         "PC1": 0,
         "PC2": 0,
         "PC3": 0,
         "_deepnote_index_column": "S17 0.2882;0.9911"
        },
        {
         "PC1": 0,
         "PC2": 0,
         "PC3": 0,
         "_deepnote_index_column": "S18 -0.937;-0.9993"
        },
        {
         "PC1": 0,
         "PC2": 0,
         "PC3": 0,
         "_deepnote_index_column": "S18 0.937;0.7334"
        },
        {
         "PC1": 0,
         "PC2": 0,
         "PC3": 0,
         "_deepnote_index_column": "S18 0.7334;-0.2882"
        },
        {
         "PC1": 0,
         "PC2": 0,
         "PC3": 0,
         "_deepnote_index_column": "S18 -0.9911;-0.937"
        },
        {
         "PC1": 23.683651992182526,
         "PC2": 59.97748923516221,
         "PC3": 36.29383724297967,
         "_deepnote_index_column": "S18 0.9911;0.9911"
        },
        {
         "PC1": 0,
         "PC2": 0,
         "PC3": 0,
         "_deepnote_index_column": "S18 -0.7334;0.2882"
        },
        {
         "PC1": 0,
         "PC2": 0,
         "PC3": 0,
         "_deepnote_index_column": "S18 -0.9993;0.937"
        },
        {
         "PC1": 0,
         "PC2": 0,
         "PC3": 0,
         "_deepnote_index_column": "S18 -0.937;0.937"
        },
        {
         "PC1": 55.81985981500341,
         "PC2": 31.66918002267365,
         "PC3": 24.150679792329782,
         "_deepnote_index_column": "S18 0.2882;0.2882"
        },
        {
         "PC1": 0,
         "PC2": 0,
         "PC3": 0,
         "_deepnote_index_column": "S18 -0.9911;-0.7334"
        },
        {
         "PC1": 0,
         "PC2": 0,
         "PC3": 0,
         "_deepnote_index_column": "S18 -0.9993;-0.9911"
        },
        {
         "PC1": 0,
         "PC2": 0,
         "PC3": 0,
         "_deepnote_index_column": "S18 -0.2882;0.9993"
        },
        {
         "PC1": 0,
         "PC2": 0,
         "PC3": 0,
         "_deepnote_index_column": "S18 -0.7334;-0.2882"
        },
        {
         "PC1": 0,
         "PC2": 0,
         "PC3": 0,
         "_deepnote_index_column": "S18 0.937;-0.9993"
        },
        {
         "PC1": 0,
         "PC2": 0,
         "PC3": 0,
         "_deepnote_index_column": "S18 -0.9911;-0.9911"
        },
        {
         "PC1": 0,
         "PC2": 0,
         "PC3": 0,
         "_deepnote_index_column": "S18 -0.2882;0.2882"
        },
        {
         "PC1": 0,
         "PC2": 0,
         "PC3": 0,
         "_deepnote_index_column": "S18 -0.9993;-0.7334"
        },
        {
         "PC1": 1.1194501587321861,
         "PC2": 4.6149265933693515,
         "PC3": 3.495476434637163,
         "_deepnote_index_column": "S18 0.9911;0.9993"
        },
        {
         "PC1": 0,
         "PC2": 0,
         "PC3": 0,
         "_deepnote_index_column": "S18 -0.9993;0.2882"
        },
        {
         "PC1": 8.567111976852484,
         "PC2": 2.5515584309008634,
         "PC3": 6.015553545951623,
         "_deepnote_index_column": "S18 0.7334;0.2882"
        },
        {
         "PC1": 0,
         "PC2": 0,
         "PC3": 0,
         "_deepnote_index_column": "S18 0.7334;0.9993"
        },
        {
         "PC1": 4.9062631895544015,
         "PC2": 122.77091573424862,
         "PC3": 117.86465254469418,
         "_deepnote_index_column": "S18 0.7334;0.7334"
        },
        {
         "PC1": 0,
         "PC2": 0,
         "PC3": 0,
         "_deepnote_index_column": "S18 -0.7334;0.7334"
        },
        {
         "PC1": 0,
         "PC2": 0,
         "PC3": 0,
         "_deepnote_index_column": "S18 0.7334;-0.7334"
        },
        {
         "PC1": 0,
         "PC2": 0,
         "PC3": 0,
         "_deepnote_index_column": "S18 0.9911;0.937"
        },
        {
         "PC1": 0,
         "PC2": 0,
         "PC3": 0,
         "_deepnote_index_column": "S18 0.7334;-0.937"
        },
        {
         "PC1": 0,
         "PC2": 0,
         "PC3": 0,
         "_deepnote_index_column": "S18 0.2882;-0.7334"
        },
        {
         "PC1": 0,
         "PC2": 0,
         "PC3": 0,
         "_deepnote_index_column": "S18 -0.937;-0.9911"
        },
        {
         "PC1": 0,
         "PC2": 0,
         "PC3": 0,
         "_deepnote_index_column": "S18 0.7334;-0.9993"
        },
        {
         "PC1": 0,
         "PC2": 0,
         "PC3": 0,
         "_deepnote_index_column": "S18 -0.937;-0.7334"
        },
        {
         "PC1": 100.52342506857677,
         "PC2": 35.4174333881397,
         "PC3": 135.94085845671648,
         "_deepnote_index_column": "S18 -0.7334;-0.7334"
        },
        {
         "PC1": 0,
         "PC2": 0,
         "PC3": 0,
         "_deepnote_index_column": "S18 -0.9911;-0.9993"
        },
        {
         "PC1": 2.915469413982818,
         "PC2": 8.184479459752563,
         "PC3": 5.2690100457697415,
         "_deepnote_index_column": "S18 0.2882;0.7334"
        },
        {
         "PC1": 0,
         "PC2": 0,
         "PC3": 0,
         "_deepnote_index_column": "S18 -0.9993;-0.937"
        },
        {
         "PC1": 0,
         "PC2": 0,
         "PC3": 0,
         "_deepnote_index_column": "S18 -0.937;-0.2882"
        },
        {
         "PC1": 4.189505660235529,
         "PC2": 6.595251291494418,
         "PC3": 10.784756951729944,
         "_deepnote_index_column": "S18 -0.937;-0.937"
        },
        {
         "PC1": 8.2245609925097,
         "PC2": 14.715936688657411,
         "PC3": 6.491375696147705,
         "_deepnote_index_column": "S18 0.9993;0.9993"
        },
        {
         "PC1": 0,
         "PC2": 0,
         "PC3": 0,
         "_deepnote_index_column": "S18 0.2882;0.937"
        },
        {
         "PC1": 0,
         "PC2": 0,
         "PC3": 0,
         "_deepnote_index_column": "S18 0.7334;0.937"
        },
        {
         "PC1": 2.9787205012552125,
         "PC2": 13.301726295724816,
         "PC3": 16.280446796980026,
         "_deepnote_index_column": "S18 0.9993;0.9911"
        },
        {
         "PC1": 0,
         "PC2": 0,
         "PC3": 0,
         "_deepnote_index_column": "S18 -0.2882;-0.7334"
        },
        {
         "PC1": 0,
         "PC2": 0,
         "PC3": 0,
         "_deepnote_index_column": "S18 0.937;0.9911"
        },
        {
         "PC1": 0,
         "PC2": 0,
         "PC3": 0,
         "_deepnote_index_column": "S18 0.937;-0.9911"
        },
        {
         "PC1": 33.45138409366211,
         "PC2": 12.82092809242269,
         "PC3": 20.63045600123943,
         "_deepnote_index_column": "S18 -0.2882;-0.2882"
        },
        {
         "PC1": 0,
         "PC2": 0,
         "PC3": 0,
         "_deepnote_index_column": "S18 0.9993;0.937"
        },
        {
         "PC1": 0,
         "PC2": 0,
         "PC3": 0,
         "_deepnote_index_column": "S18 -0.9993;-0.9993"
        },
        {
         "PC1": 9.53828074078193,
         "PC2": 8.017886372207766,
         "PC3": 1.5203943685741694,
         "_deepnote_index_column": "S18 -0.7334;-0.937"
        },
        {
         "PC1": 0,
         "PC2": 0,
         "PC3": 0,
         "_deepnote_index_column": "S18 0.9911;0.2882"
        },
        {
         "PC1": 0,
         "PC2": 0,
         "PC3": 0,
         "_deepnote_index_column": "S18 0.9911;-0.9911"
        },
        {
         "PC1": 0,
         "PC2": 0,
         "PC3": 0,
         "_deepnote_index_column": "S18 -0.2882;0.937"
        },
        {
         "PC1": 0,
         "PC2": 0,
         "PC3": 0,
         "_deepnote_index_column": "S18 0.937;0.937"
        },
        {
         "PC1": 0,
         "PC2": 0,
         "PC3": 0,
         "_deepnote_index_column": "S18 -0.937;0.2882"
        },
        {
         "PC1": 1.5373324408141145,
         "PC2": 2.528887279697089,
         "PC3": 0.9915548388829737,
         "_deepnote_index_column": "S18 0.2882;-0.2882"
        },
        {
         "PC1": 0,
         "PC2": 0,
         "PC3": 0,
         "_deepnote_index_column": "S18 -0.9993;0.7334"
        },
        {
         "PC1": 0,
         "PC2": 0,
         "PC3": 0,
         "_deepnote_index_column": "S18 0.2882;0.9911"
        },
        {
         "PC1": 0,
         "PC2": 0,
         "PC3": 0,
         "_deepnote_index_column": "S19 -0.937;-0.9993"
        },
        {
         "PC1": 0.012418002481338331,
         "PC2": 3.9448504625360226,
         "PC3": 3.9572684650173597,
         "_deepnote_index_column": "S19 0.937;0.7334"
        },
        {
         "PC1": 0,
         "PC2": 0,
         "PC3": 0,
         "_deepnote_index_column": "S19 0.7334;-0.2882"
        },
        {
         "PC1": 0,
         "PC2": 0,
         "PC3": 0,
         "_deepnote_index_column": "S19 -0.9911;-0.937"
        },
        {
         "PC1": 0,
         "PC2": 0,
         "PC3": 0,
         "_deepnote_index_column": "S19 0.9911;0.9911"
        },
        {
         "PC1": 0,
         "PC2": 0,
         "PC3": 0,
         "_deepnote_index_column": "S19 -0.7334;0.2882"
        },
        {
         "PC1": 0,
         "PC2": 0,
         "PC3": 0,
         "_deepnote_index_column": "S19 -0.9993;0.937"
        },
        {
         "PC1": 0,
         "PC2": 0,
         "PC3": 0,
         "_deepnote_index_column": "S19 -0.937;0.937"
        },
        {
         "PC1": 4.848558495331935,
         "PC2": 164.16525476184472,
         "PC3": 169.0138132571766,
         "_deepnote_index_column": "S19 0.2882;0.2882"
        },
        {
         "PC1": 0,
         "PC2": 0,
         "PC3": 0,
         "_deepnote_index_column": "S19 -0.9911;-0.7334"
        },
        {
         "PC1": 0,
         "PC2": 0,
         "PC3": 0,
         "_deepnote_index_column": "S19 -0.9993;-0.9911"
        },
        {
         "PC1": 0,
         "PC2": 0,
         "PC3": 0,
         "_deepnote_index_column": "S19 -0.2882;0.9993"
        },
        {
         "PC1": 5.230295862324094,
         "PC2": 6.18548013528018,
         "PC3": 0.9551842729560824,
         "_deepnote_index_column": "S19 -0.7334;-0.2882"
        },
        {
         "PC1": 0,
         "PC2": 0,
         "PC3": 0,
         "_deepnote_index_column": "S19 0.937;-0.9993"
        },
        {
         "PC1": 5.418516085303939,
         "PC2": 1.5889607385270041,
         "PC3": 3.829555346776937,
         "_deepnote_index_column": "S19 -0.9911;-0.9911"
        },
        {
         "PC1": 5.804998485606377,
         "PC2": 7.670131462427107,
         "PC3": 1.8651329768207263,
         "_deepnote_index_column": "S19 -0.2882;0.2882"
        },
        {
         "PC1": 0,
         "PC2": 0,
         "PC3": 0,
         "_deepnote_index_column": "S19 -0.9993;-0.7334"
        },
        {
         "PC1": 0,
         "PC2": 0,
         "PC3": 0,
         "_deepnote_index_column": "S19 0.9911;0.9993"
        },
        {
         "PC1": 0,
         "PC2": 0,
         "PC3": 0,
         "_deepnote_index_column": "S19 -0.9993;0.2882"
        },
        {
         "PC1": 0,
         "PC2": 0,
         "PC3": 0,
         "_deepnote_index_column": "S19 0.7334;0.2882"
        },
        {
         "PC1": 0,
         "PC2": 0,
         "PC3": 0,
         "_deepnote_index_column": "S19 0.7334;0.9993"
        },
        {
         "PC1": 120.16280987548826,
         "PC2": 34.65451286415124,
         "PC3": 85.50829701133705,
         "_deepnote_index_column": "S19 0.7334;0.7334"
        },
        {
         "PC1": 0,
         "PC2": 0,
         "PC3": 0,
         "_deepnote_index_column": "S19 -0.7334;0.7334"
        },
        {
         "PC1": 0,
         "PC2": 0,
         "PC3": 0,
         "_deepnote_index_column": "S19 0.7334;-0.7334"
        },
        {
         "PC1": 0,
         "PC2": 0,
         "PC3": 0,
         "_deepnote_index_column": "S19 0.9911;0.937"
        },
        {
         "PC1": 0,
         "PC2": 0,
         "PC3": 0,
         "_deepnote_index_column": "S19 0.7334;-0.937"
        },
        {
         "PC1": 0,
         "PC2": 0,
         "PC3": 0,
         "_deepnote_index_column": "S19 0.2882;-0.7334"
        },
        {
         "PC1": 0,
         "PC2": 0,
         "PC3": 0,
         "_deepnote_index_column": "S19 -0.937;-0.9911"
        },
        {
         "PC1": 0,
         "PC2": 0,
         "PC3": 0,
         "_deepnote_index_column": "S19 0.7334;-0.9993"
        },
        {
         "PC1": 9.069814441984537,
         "PC2": 6.56046713938077,
         "PC3": 15.630281581365306,
         "_deepnote_index_column": "S19 -0.937;-0.7334"
        },
        {
         "PC1": 76.94529868384056,
         "PC2": 31.127155041548043,
         "PC3": 45.81814364229254,
         "_deepnote_index_column": "S19 -0.7334;-0.7334"
        },
        {
         "PC1": 0,
         "PC2": 0,
         "PC3": 0,
         "_deepnote_index_column": "S19 -0.9911;-0.9993"
        },
        {
         "PC1": 0,
         "PC2": 0,
         "PC3": 0,
         "_deepnote_index_column": "S19 0.2882;0.7334"
        },
        {
         "PC1": 0,
         "PC2": 0,
         "PC3": 0,
         "_deepnote_index_column": "S19 -0.9993;-0.937"
        },
        {
         "PC1": 0,
         "PC2": 0,
         "PC3": 0,
         "_deepnote_index_column": "S19 -0.937;-0.2882"
        },
        {
         "PC1": 2.013263306528653,
         "PC2": 5.506134039376165,
         "PC3": 7.519397345904816,
         "_deepnote_index_column": "S19 -0.937;-0.937"
        },
        {
         "PC1": 0,
         "PC2": 0,
         "PC3": 0,
         "_deepnote_index_column": "S19 0.9993;0.9993"
        },
        {
         "PC1": 0,
         "PC2": 0,
         "PC3": 0,
         "_deepnote_index_column": "S19 0.2882;0.937"
        },
        {
         "PC1": 2.6405611038710104,
         "PC2": 3.161875703595652,
         "PC3": 0.5213145997246403,
         "_deepnote_index_column": "S19 0.7334;0.937"
        },
        {
         "PC1": 0,
         "PC2": 0,
         "PC3": 0,
         "_deepnote_index_column": "S19 0.9993;0.9911"
        },
        {
         "PC1": 1.326631269620717,
         "PC2": 1.8477245958355666,
         "PC3": 3.174355865456283,
         "_deepnote_index_column": "S19 -0.2882;-0.7334"
        },
        {
         "PC1": 0,
         "PC2": 0,
         "PC3": 0,
         "_deepnote_index_column": "S19 0.937;0.9911"
        },
        {
         "PC1": 0,
         "PC2": 0,
         "PC3": 0,
         "_deepnote_index_column": "S19 0.937;-0.9911"
        },
        {
         "PC1": 60.25778904482924,
         "PC2": 45.38618483722622,
         "PC3": 14.87160420760305,
         "_deepnote_index_column": "S19 -0.2882;-0.2882"
        },
        {
         "PC1": 0,
         "PC2": 0,
         "PC3": 0,
         "_deepnote_index_column": "S19 0.9993;0.937"
        },
        {
         "PC1": 0,
         "PC2": 0,
         "PC3": 0,
         "_deepnote_index_column": "S19 -0.9993;-0.9993"
        },
        {
         "PC1": 6.121691431685927,
         "PC2": 5.6963960468665755,
         "PC3": 0.4252953848193544,
         "_deepnote_index_column": "S19 -0.7334;-0.937"
        },
        {
         "PC1": 0,
         "PC2": 0,
         "PC3": 0,
         "_deepnote_index_column": "S19 0.9911;0.2882"
        },
        {
         "PC1": 0,
         "PC2": 0,
         "PC3": 0,
         "_deepnote_index_column": "S19 0.9911;-0.9911"
        },
        {
         "PC1": 0,
         "PC2": 0,
         "PC3": 0,
         "_deepnote_index_column": "S19 -0.2882;0.937"
        },
        {
         "PC1": 154.06074420655966,
         "PC2": 54.185609026382615,
         "PC3": 99.87513518017708,
         "_deepnote_index_column": "S19 0.937;0.937"
        },
        {
         "PC1": 0,
         "PC2": 0,
         "PC3": 0,
         "_deepnote_index_column": "S19 -0.937;0.2882"
        },
        {
         "PC1": 2.2793631409896595,
         "PC2": 0.3263213631900836,
         "PC3": 2.6056845041797434,
         "_deepnote_index_column": "S19 0.2882;-0.2882"
        },
        {
         "PC1": 0,
         "PC2": 0,
         "PC3": 0,
         "_deepnote_index_column": "S19 -0.9993;0.7334"
        },
        {
         "PC1": 0,
         "PC2": 0,
         "PC3": 0,
         "_deepnote_index_column": "S19 0.2882;0.9911"
        }
       ]
      },
      "text/plain": "                             PC1           PC2           PC3\nS0 -0.937;-0.9993   5.402062e-17  1.357007e-17  6.759069e-17\nS0 0.937;0.7334     2.282234e-16  7.060080e-17  2.988242e-16\nS0 0.7334;-0.2882   3.081648e-16  1.330248e-17  3.214673e-16\nS0 -0.9911;-0.937   6.112954e-17  1.402281e-16  7.909853e-17\nS0 0.9911;0.9911    8.485958e+01  3.479764e+01  1.196572e+02\n...                          ...           ...           ...\nS19 0.937;0.937     1.540607e+02  5.418561e+01  9.987514e+01\nS19 -0.937;0.2882   0.000000e+00  0.000000e+00  0.000000e+00\nS19 0.2882;-0.2882  2.279363e+00  3.263214e-01  2.605685e+00\nS19 -0.9993;0.7334  0.000000e+00  0.000000e+00  0.000000e+00\nS19 0.2882;0.9911   0.000000e+00  0.000000e+00  0.000000e+00\n\n[1100 rows x 3 columns]",
      "text/html": "<div>\n<style scoped>\n    .dataframe tbody tr th:only-of-type {\n        vertical-align: middle;\n    }\n\n    .dataframe tbody tr th {\n        vertical-align: top;\n    }\n\n    .dataframe thead th {\n        text-align: right;\n    }\n</style>\n<table border=\"1\" class=\"dataframe\">\n  <thead>\n    <tr style=\"text-align: right;\">\n      <th></th>\n      <th>PC1</th>\n      <th>PC2</th>\n      <th>PC3</th>\n    </tr>\n  </thead>\n  <tbody>\n    <tr>\n      <th>S0 -0.937;-0.9993</th>\n      <td>5.402062e-17</td>\n      <td>1.357007e-17</td>\n      <td>6.759069e-17</td>\n    </tr>\n    <tr>\n      <th>S0 0.937;0.7334</th>\n      <td>2.282234e-16</td>\n      <td>7.060080e-17</td>\n      <td>2.988242e-16</td>\n    </tr>\n    <tr>\n      <th>S0 0.7334;-0.2882</th>\n      <td>3.081648e-16</td>\n      <td>1.330248e-17</td>\n      <td>3.214673e-16</td>\n    </tr>\n    <tr>\n      <th>S0 -0.9911;-0.937</th>\n      <td>6.112954e-17</td>\n      <td>1.402281e-16</td>\n      <td>7.909853e-17</td>\n    </tr>\n    <tr>\n      <th>S0 0.9911;0.9911</th>\n      <td>8.485958e+01</td>\n      <td>3.479764e+01</td>\n      <td>1.196572e+02</td>\n    </tr>\n    <tr>\n      <th>...</th>\n      <td>...</td>\n      <td>...</td>\n      <td>...</td>\n    </tr>\n    <tr>\n      <th>S19 0.937;0.937</th>\n      <td>1.540607e+02</td>\n      <td>5.418561e+01</td>\n      <td>9.987514e+01</td>\n    </tr>\n    <tr>\n      <th>S19 -0.937;0.2882</th>\n      <td>0.000000e+00</td>\n      <td>0.000000e+00</td>\n      <td>0.000000e+00</td>\n    </tr>\n    <tr>\n      <th>S19 0.2882;-0.2882</th>\n      <td>2.279363e+00</td>\n      <td>3.263214e-01</td>\n      <td>2.605685e+00</td>\n    </tr>\n    <tr>\n      <th>S19 -0.9993;0.7334</th>\n      <td>0.000000e+00</td>\n      <td>0.000000e+00</td>\n      <td>0.000000e+00</td>\n    </tr>\n    <tr>\n      <th>S19 0.2882;0.9911</th>\n      <td>0.000000e+00</td>\n      <td>0.000000e+00</td>\n      <td>0.000000e+00</td>\n    </tr>\n  </tbody>\n</table>\n<p>1100 rows × 3 columns</p>\n</div>"
     },
     "metadata": {},
     "output_type": "display_data"
    },
    {
     "name": "stdout",
     "text": "\nPC1 top 10 features are: \n\n",
     "output_type": "stream"
    },
    {
     "data": {
      "text/plain": "['S0 -0.7334;-0.7334:     1207.797924',\n 'S10 0.9911;0.9911:     428.079615',\n 'S10 0.937;0.937:     418.119221',\n 'S9 0.7334;0.7334:     414.403851',\n 'S4 0.9911;0.9911:     393.13408',\n 'S6 0.7334;0.7334:     363.283398',\n 'S9 0.937;0.937:     337.385522',\n 'S8 0.9911;0.9911:     336.012169',\n 'S10 0.2882;0.2882:     328.660033',\n 'S7 0.937;0.937:     294.205109']"
     },
     "metadata": {},
     "output_type": "display_data"
    }
   ],
   "execution_count": null
  },
  {
   "cell_type": "code",
   "metadata": {
    "tags": [],
    "cell_id": "00030-52877fd7-b1ec-4027-80af-65ced51be790",
    "deepnote_to_be_reexecuted": true,
    "source_hash": "ac033c5f",
    "execution_start": 1638299532096,
    "execution_millis": 1711,
    "deepnote_output_heights": [
     527,
     527
    ],
    "deepnote_cell_type": "code"
   },
   "source": "fig = px.scatter(t1_alg_variance,\n            labels={\"index\": \"# Components\", \"value\": \"Explained Variance\"}, \n            title=\"Explained Variance with increasing number of latent features\")\nfig.update_traces(showlegend=True)\nfig.show()",
   "outputs": [
    {
     "data": {
      "text/html": "<html>\n<head><meta charset=\"utf-8\" /></head>\n<body>\n    <div>            <script src=\"https://cdnjs.cloudflare.com/ajax/libs/mathjax/2.7.5/MathJax.js?config=TeX-AMS-MML_SVG\"></script><script type=\"text/javascript\">if (window.MathJax) {MathJax.Hub.Config({SVG: {font: \"STIX-Web\"}});}</script>                <script type=\"text/javascript\">window.PlotlyConfig = {MathJaxConfig: 'local'};</script>\n        <script src=\"https://cdn.plot.ly/plotly-2.4.2.min.js\"></script>                <div id=\"111c4ad1-aab1-4055-bb3c-86d827465502\" class=\"plotly-graph-div\" style=\"height:525px; width:100%;\"></div>            <script type=\"text/javascript\">                                    window.PLOTLYENV=window.PLOTLYENV || {};                                    if (document.getElementById(\"111c4ad1-aab1-4055-bb3c-86d827465502\")) {                    Plotly.newPlot(                        \"111c4ad1-aab1-4055-bb3c-86d827465502\",                        [{\"hovertemplate\":\"variable=0<br># Components=%{x}<br>Explained Variance=%{y}<extra></extra>\",\"legendgroup\":\"0\",\"marker\":{\"color\":\"#636efa\",\"symbol\":\"circle\"},\"mode\":\"markers\",\"name\":\"0\",\"orientation\":\"v\",\"showlegend\":true,\"type\":\"scatter\",\"x\":[0,1],\"xaxis\":\"x\",\"y\":[0.5365621166846732,1.0],\"yaxis\":\"y\"}],                        {\"legend\":{\"title\":{\"text\":\"variable\"},\"tracegroupgap\":0},\"template\":{\"data\":{\"bar\":[{\"error_x\":{\"color\":\"#2a3f5f\"},\"error_y\":{\"color\":\"#2a3f5f\"},\"marker\":{\"line\":{\"color\":\"#E5ECF6\",\"width\":0.5},\"pattern\":{\"fillmode\":\"overlay\",\"size\":10,\"solidity\":0.2}},\"type\":\"bar\"}],\"barpolar\":[{\"marker\":{\"line\":{\"color\":\"#E5ECF6\",\"width\":0.5},\"pattern\":{\"fillmode\":\"overlay\",\"size\":10,\"solidity\":0.2}},\"type\":\"barpolar\"}],\"carpet\":[{\"aaxis\":{\"endlinecolor\":\"#2a3f5f\",\"gridcolor\":\"white\",\"linecolor\":\"white\",\"minorgridcolor\":\"white\",\"startlinecolor\":\"#2a3f5f\"},\"baxis\":{\"endlinecolor\":\"#2a3f5f\",\"gridcolor\":\"white\",\"linecolor\":\"white\",\"minorgridcolor\":\"white\",\"startlinecolor\":\"#2a3f5f\"},\"type\":\"carpet\"}],\"choropleth\":[{\"colorbar\":{\"outlinewidth\":0,\"ticks\":\"\"},\"type\":\"choropleth\"}],\"contour\":[{\"colorbar\":{\"outlinewidth\":0,\"ticks\":\"\"},\"colorscale\":[[0.0,\"#0d0887\"],[0.1111111111111111,\"#46039f\"],[0.2222222222222222,\"#7201a8\"],[0.3333333333333333,\"#9c179e\"],[0.4444444444444444,\"#bd3786\"],[0.5555555555555556,\"#d8576b\"],[0.6666666666666666,\"#ed7953\"],[0.7777777777777778,\"#fb9f3a\"],[0.8888888888888888,\"#fdca26\"],[1.0,\"#f0f921\"]],\"type\":\"contour\"}],\"contourcarpet\":[{\"colorbar\":{\"outlinewidth\":0,\"ticks\":\"\"},\"type\":\"contourcarpet\"}],\"heatmap\":[{\"colorbar\":{\"outlinewidth\":0,\"ticks\":\"\"},\"colorscale\":[[0.0,\"#0d0887\"],[0.1111111111111111,\"#46039f\"],[0.2222222222222222,\"#7201a8\"],[0.3333333333333333,\"#9c179e\"],[0.4444444444444444,\"#bd3786\"],[0.5555555555555556,\"#d8576b\"],[0.6666666666666666,\"#ed7953\"],[0.7777777777777778,\"#fb9f3a\"],[0.8888888888888888,\"#fdca26\"],[1.0,\"#f0f921\"]],\"type\":\"heatmap\"}],\"heatmapgl\":[{\"colorbar\":{\"outlinewidth\":0,\"ticks\":\"\"},\"colorscale\":[[0.0,\"#0d0887\"],[0.1111111111111111,\"#46039f\"],[0.2222222222222222,\"#7201a8\"],[0.3333333333333333,\"#9c179e\"],[0.4444444444444444,\"#bd3786\"],[0.5555555555555556,\"#d8576b\"],[0.6666666666666666,\"#ed7953\"],[0.7777777777777778,\"#fb9f3a\"],[0.8888888888888888,\"#fdca26\"],[1.0,\"#f0f921\"]],\"type\":\"heatmapgl\"}],\"histogram\":[{\"marker\":{\"pattern\":{\"fillmode\":\"overlay\",\"size\":10,\"solidity\":0.2}},\"type\":\"histogram\"}],\"histogram2d\":[{\"colorbar\":{\"outlinewidth\":0,\"ticks\":\"\"},\"colorscale\":[[0.0,\"#0d0887\"],[0.1111111111111111,\"#46039f\"],[0.2222222222222222,\"#7201a8\"],[0.3333333333333333,\"#9c179e\"],[0.4444444444444444,\"#bd3786\"],[0.5555555555555556,\"#d8576b\"],[0.6666666666666666,\"#ed7953\"],[0.7777777777777778,\"#fb9f3a\"],[0.8888888888888888,\"#fdca26\"],[1.0,\"#f0f921\"]],\"type\":\"histogram2d\"}],\"histogram2dcontour\":[{\"colorbar\":{\"outlinewidth\":0,\"ticks\":\"\"},\"colorscale\":[[0.0,\"#0d0887\"],[0.1111111111111111,\"#46039f\"],[0.2222222222222222,\"#7201a8\"],[0.3333333333333333,\"#9c179e\"],[0.4444444444444444,\"#bd3786\"],[0.5555555555555556,\"#d8576b\"],[0.6666666666666666,\"#ed7953\"],[0.7777777777777778,\"#fb9f3a\"],[0.8888888888888888,\"#fdca26\"],[1.0,\"#f0f921\"]],\"type\":\"histogram2dcontour\"}],\"mesh3d\":[{\"colorbar\":{\"outlinewidth\":0,\"ticks\":\"\"},\"type\":\"mesh3d\"}],\"parcoords\":[{\"line\":{\"colorbar\":{\"outlinewidth\":0,\"ticks\":\"\"}},\"type\":\"parcoords\"}],\"pie\":[{\"automargin\":true,\"type\":\"pie\"}],\"scatter\":[{\"marker\":{\"colorbar\":{\"outlinewidth\":0,\"ticks\":\"\"}},\"type\":\"scatter\"}],\"scatter3d\":[{\"line\":{\"colorbar\":{\"outlinewidth\":0,\"ticks\":\"\"}},\"marker\":{\"colorbar\":{\"outlinewidth\":0,\"ticks\":\"\"}},\"type\":\"scatter3d\"}],\"scattercarpet\":[{\"marker\":{\"colorbar\":{\"outlinewidth\":0,\"ticks\":\"\"}},\"type\":\"scattercarpet\"}],\"scattergeo\":[{\"marker\":{\"colorbar\":{\"outlinewidth\":0,\"ticks\":\"\"}},\"type\":\"scattergeo\"}],\"scattergl\":[{\"marker\":{\"colorbar\":{\"outlinewidth\":0,\"ticks\":\"\"}},\"type\":\"scattergl\"}],\"scattermapbox\":[{\"marker\":{\"colorbar\":{\"outlinewidth\":0,\"ticks\":\"\"}},\"type\":\"scattermapbox\"}],\"scatterpolar\":[{\"marker\":{\"colorbar\":{\"outlinewidth\":0,\"ticks\":\"\"}},\"type\":\"scatterpolar\"}],\"scatterpolargl\":[{\"marker\":{\"colorbar\":{\"outlinewidth\":0,\"ticks\":\"\"}},\"type\":\"scatterpolargl\"}],\"scatterternary\":[{\"marker\":{\"colorbar\":{\"outlinewidth\":0,\"ticks\":\"\"}},\"type\":\"scatterternary\"}],\"surface\":[{\"colorbar\":{\"outlinewidth\":0,\"ticks\":\"\"},\"colorscale\":[[0.0,\"#0d0887\"],[0.1111111111111111,\"#46039f\"],[0.2222222222222222,\"#7201a8\"],[0.3333333333333333,\"#9c179e\"],[0.4444444444444444,\"#bd3786\"],[0.5555555555555556,\"#d8576b\"],[0.6666666666666666,\"#ed7953\"],[0.7777777777777778,\"#fb9f3a\"],[0.8888888888888888,\"#fdca26\"],[1.0,\"#f0f921\"]],\"type\":\"surface\"}],\"table\":[{\"cells\":{\"fill\":{\"color\":\"#EBF0F8\"},\"line\":{\"color\":\"white\"}},\"header\":{\"fill\":{\"color\":\"#C8D4E3\"},\"line\":{\"color\":\"white\"}},\"type\":\"table\"}]},\"layout\":{\"annotationdefaults\":{\"arrowcolor\":\"#2a3f5f\",\"arrowhead\":0,\"arrowwidth\":1},\"autotypenumbers\":\"strict\",\"coloraxis\":{\"colorbar\":{\"outlinewidth\":0,\"ticks\":\"\"}},\"colorscale\":{\"diverging\":[[0,\"#8e0152\"],[0.1,\"#c51b7d\"],[0.2,\"#de77ae\"],[0.3,\"#f1b6da\"],[0.4,\"#fde0ef\"],[0.5,\"#f7f7f7\"],[0.6,\"#e6f5d0\"],[0.7,\"#b8e186\"],[0.8,\"#7fbc41\"],[0.9,\"#4d9221\"],[1,\"#276419\"]],\"sequential\":[[0.0,\"#0d0887\"],[0.1111111111111111,\"#46039f\"],[0.2222222222222222,\"#7201a8\"],[0.3333333333333333,\"#9c179e\"],[0.4444444444444444,\"#bd3786\"],[0.5555555555555556,\"#d8576b\"],[0.6666666666666666,\"#ed7953\"],[0.7777777777777778,\"#fb9f3a\"],[0.8888888888888888,\"#fdca26\"],[1.0,\"#f0f921\"]],\"sequentialminus\":[[0.0,\"#0d0887\"],[0.1111111111111111,\"#46039f\"],[0.2222222222222222,\"#7201a8\"],[0.3333333333333333,\"#9c179e\"],[0.4444444444444444,\"#bd3786\"],[0.5555555555555556,\"#d8576b\"],[0.6666666666666666,\"#ed7953\"],[0.7777777777777778,\"#fb9f3a\"],[0.8888888888888888,\"#fdca26\"],[1.0,\"#f0f921\"]]},\"colorway\":[\"#636efa\",\"#EF553B\",\"#00cc96\",\"#ab63fa\",\"#FFA15A\",\"#19d3f3\",\"#FF6692\",\"#B6E880\",\"#FF97FF\",\"#FECB52\"],\"font\":{\"color\":\"#2a3f5f\"},\"geo\":{\"bgcolor\":\"white\",\"lakecolor\":\"white\",\"landcolor\":\"#E5ECF6\",\"showlakes\":true,\"showland\":true,\"subunitcolor\":\"white\"},\"hoverlabel\":{\"align\":\"left\"},\"hovermode\":\"closest\",\"mapbox\":{\"style\":\"light\"},\"paper_bgcolor\":\"white\",\"plot_bgcolor\":\"#E5ECF6\",\"polar\":{\"angularaxis\":{\"gridcolor\":\"white\",\"linecolor\":\"white\",\"ticks\":\"\"},\"bgcolor\":\"#E5ECF6\",\"radialaxis\":{\"gridcolor\":\"white\",\"linecolor\":\"white\",\"ticks\":\"\"}},\"scene\":{\"xaxis\":{\"backgroundcolor\":\"#E5ECF6\",\"gridcolor\":\"white\",\"gridwidth\":2,\"linecolor\":\"white\",\"showbackground\":true,\"ticks\":\"\",\"zerolinecolor\":\"white\"},\"yaxis\":{\"backgroundcolor\":\"#E5ECF6\",\"gridcolor\":\"white\",\"gridwidth\":2,\"linecolor\":\"white\",\"showbackground\":true,\"ticks\":\"\",\"zerolinecolor\":\"white\"},\"zaxis\":{\"backgroundcolor\":\"#E5ECF6\",\"gridcolor\":\"white\",\"gridwidth\":2,\"linecolor\":\"white\",\"showbackground\":true,\"ticks\":\"\",\"zerolinecolor\":\"white\"}},\"shapedefaults\":{\"line\":{\"color\":\"#2a3f5f\"}},\"ternary\":{\"aaxis\":{\"gridcolor\":\"white\",\"linecolor\":\"white\",\"ticks\":\"\"},\"baxis\":{\"gridcolor\":\"white\",\"linecolor\":\"white\",\"ticks\":\"\"},\"bgcolor\":\"#E5ECF6\",\"caxis\":{\"gridcolor\":\"white\",\"linecolor\":\"white\",\"ticks\":\"\"}},\"title\":{\"x\":0.05},\"xaxis\":{\"automargin\":true,\"gridcolor\":\"white\",\"linecolor\":\"white\",\"ticks\":\"\",\"title\":{\"standoff\":15},\"zerolinecolor\":\"white\",\"zerolinewidth\":2},\"yaxis\":{\"automargin\":true,\"gridcolor\":\"white\",\"linecolor\":\"white\",\"ticks\":\"\",\"title\":{\"standoff\":15},\"zerolinecolor\":\"white\",\"zerolinewidth\":2}}},\"title\":{\"text\":\"Explained Variance with increasing number of latent features\"},\"xaxis\":{\"anchor\":\"y\",\"domain\":[0.0,1.0],\"title\":{\"text\":\"# Components\"}},\"yaxis\":{\"anchor\":\"x\",\"domain\":[0.0,1.0],\"title\":{\"text\":\"Explained Variance\"}}},                        {\"responsive\": true}                    ).then(function(){\n                            \nvar gd = document.getElementById('111c4ad1-aab1-4055-bb3c-86d827465502');\nvar x = new MutationObserver(function (mutations, observer) {{\n        var display = window.getComputedStyle(gd).display;\n        if (!display || display === 'none') {{\n            console.log([gd, 'removed!']);\n            Plotly.purge(gd);\n            observer.disconnect();\n        }}\n}});\n\n// Listen for the removal of the full notebook cells\nvar notebookContainer = gd.closest('#notebook-container');\nif (notebookContainer) {{\n    x.observe(notebookContainer, {childList: true});\n}}\n\n// Listen for the clearing of the current output cell\nvar outputEl = gd.closest('.output');\nif (outputEl) {{\n    x.observe(outputEl, {childList: true});\n}}\n\n                        })                };                            </script>        </div>\n</body>\n</html>"
     },
     "metadata": {},
     "output_type": "display_data"
    }
   ],
   "execution_count": null
  },
  {
   "cell_type": "code",
   "metadata": {
    "deepnote_variable_name": "t1_top_k_latent_features",
    "deepnote_variable_value": "2",
    "cell_id": "00029-b576f595-3089-4a57-bed5-f4b6ef3cf661",
    "deepnote_to_be_reexecuted": true,
    "source_hash": "7462d0f7",
    "execution_start": 1638299533812,
    "execution_millis": 10,
    "deepnote_cell_type": "input-text"
   },
   "source": "t1_top_k_latent_features = '2'",
   "outputs": [],
   "execution_count": null
  },
  {
   "cell_type": "code",
   "metadata": {
    "tags": [],
    "cell_id": "00031-9da35401-f766-4424-92c2-b9a4a5c8e6c7",
    "deepnote_to_be_reexecuted": true,
    "source_hash": "300d9714",
    "execution_start": 1638299533845,
    "execution_millis": 60,
    "deepnote_cell_type": "code"
   },
   "source": "t1_top_k_latent_features = int(t1_top_k_latent_features)\ntop_k_features = get_top_k_latent_features(t1_alg_result, t1_top_k_latent_features)\n#top_k_features",
   "outputs": [],
   "execution_count": null
  },
  {
   "cell_type": "markdown",
   "source": "## Task 2",
   "metadata": {
    "tags": [],
    "is_collapsed": false,
    "cell_id": "00032-2fc1a75a-25fe-4978-acdd-6f5588d24955",
    "deepnote_cell_type": "text-cell-h2"
   }
  },
  {
   "cell_type": "markdown",
   "source": " Scrivere un programma che, dato un file di gesti, individui i 10 gesti piu’ simili nel database di gesti, \nutilizzado:",
   "metadata": {
    "tags": [],
    "cell_id": "00036-0ef71ff2-9019-4d7d-bb03-cb9af8f7ad80",
    "deepnote_cell_type": "markdown"
   }
  },
  {
   "cell_type": "code",
   "metadata": {
    "tags": [],
    "cell_id": "00035-a1ac6ce4-c459-45b9-9ac7-6b970a7f33b4",
    "deepnote_to_be_reexecuted": true,
    "source_hash": "3c757692",
    "execution_start": 1638299533905,
    "execution_millis": 382,
    "deepnote_cell_type": "code"
   },
   "source": "# Preparazione data\nt2_data_dp = {'gestures': t1_metrics_data['filename'], 'data': t1_metrics_data['data']}\nt2_data_tksem = {'gestures': t1_metrics_data['filename'], 'data': t1_alg_result['fitted_alg']}\n\nt2_data_ed_dtw = generate_matrix_ed_dtw([path_words_directory + word_file for word_file in words_files])\nt2_data_ed = {'gestures': t1_metrics_data['filename'], 'data': t2_data_ed_dtw['ed']}\nt2_data_dtw = {'gestures': t1_metrics_data['filename'], 'data': t2_data_ed_dtw['dtw']}",
   "outputs": [],
   "execution_count": null
  },
  {
   "cell_type": "code",
   "metadata": {
    "deepnote_variable_name": "t2_input_file_gestures",
    "deepnote_variable_value": "../Dati_2/words/1.wrd",
    "cell_id": "00036-9cb944e1-67a5-4e98-9ffb-874ae8e5be84",
    "deepnote_to_be_reexecuted": true,
    "source_hash": "17d27e49",
    "execution_start": 1638299534292,
    "execution_millis": 13,
    "deepnote_cell_type": "input-text"
   },
   "source": "t2_input_file_gestures = '../Dati_2/words/1.wrd'",
   "outputs": [],
   "execution_count": null
  },
  {
   "cell_type": "code",
   "metadata": {
    "deepnote_variable_name": "t2_input_k_gestures",
    "deepnote_variable_value": "10",
    "cell_id": "00038-81e5c045-6b78-4d9d-a618-c23b0c976f76",
    "deepnote_to_be_reexecuted": true,
    "source_hash": "537c0a7f",
    "execution_start": 1638299534318,
    "execution_millis": 21,
    "deepnote_cell_type": "input-text"
   },
   "source": "t2_input_k_gestures = '10'",
   "outputs": [],
   "execution_count": null
  },
  {
   "cell_type": "code",
   "metadata": {
    "deepnote_variable_name": "t2_input_k_latent_features",
    "deepnote_variable_value": "5",
    "cell_id": "00034-5d6dbea6-0445-480c-9f12-0742690d9443",
    "deepnote_to_be_reexecuted": true,
    "source_hash": "76c7131f",
    "execution_start": 1638299534347,
    "execution_millis": 528040,
    "deepnote_cell_type": "input-text"
   },
   "source": "t2_input_k_latent_features = '5'",
   "outputs": [],
   "execution_count": null
  },
  {
   "cell_type": "code",
   "metadata": {
    "deepnote_variable_name": "t2_input_query_type",
    "deepnote_variable_value": "Distanza DTW",
    "deepnote_variable_options": [
     "Dot Product",
     "Top-K Semantiche Latenti",
     "Edit Distance",
     "Distanza DTW"
    ],
    "deepnote_variable_custom_options": [
     "Dot Product",
     "Top-K Semantiche Latenti",
     "Edit Distance",
     "Distanza DTW"
    ],
    "deepnote_variable_selected_variable": "",
    "deepnote_variable_select_type": "from-options",
    "cell_id": "00036-8977fcab-0985-4f26-b5fe-9d5be8d89d8e",
    "deepnote_to_be_reexecuted": true,
    "source_hash": "44420b51",
    "execution_start": 1638299534413,
    "execution_millis": 528107,
    "deepnote_cell_type": "input-select"
   },
   "source": "t2_input_query_type = 'Distanza DTW'",
   "outputs": [],
   "execution_count": null
  },
  {
   "cell_type": "code",
   "metadata": {
    "tags": [],
    "cell_id": "00040-1c04c788-26a9-4837-9833-724f5bfd006f",
    "deepnote_to_be_reexecuted": true,
    "source_hash": "6ab0d841",
    "execution_start": 1638299534414,
    "execution_millis": 127,
    "deepnote_output_heights": [
     328.3999938964844
    ],
    "deepnote_cell_type": "code"
   },
   "source": "# X facilità so che già ho calcolato sto file in input e lo prendo dal database\ngesture_name_id = t2_input_file_gestures.split(\"/\")[-1].split(\".\")[0]\n\nquery_type = t2_input_query_type\nfinder_query_settings = {\n    'k_latent_features': int(t2_input_k_latent_features),\n    'k_gestures_return': int(t2_input_k_gestures),\n}\n\ntop_k = None\nif query_type == 'Dot Product':\n    gesture_numpy = t2_data_dp['data'][t2_data_dp['gestures'].index(gesture_name_id)]\n    top_k = find_k_most_similar_dp(t2_data_dp, gesture_numpy, finder_query_settings)\nelif query_type == 'Top-K Semantiche Latenti':\n    gesture_numpy = t2_data_tksem['data'][t2_data_tksem['gestures'].index(gesture_name_id)]\n    # Preparo la query con gli input scelti dall'utente\n    top_k = find_k_most_similar_tksem(t2_data_tksem, gesture_numpy, finder_query_settings)\nelif query_type == 'Edit Distance':\n    gesture_numpy = t2_data_ed['data'][t2_data_ed['gestures'].index(gesture_name_id)]\n    top_k = find_k_most_similar_ed(t2_data_ed, gesture_numpy, finder_query_settings)\n    #print(\"Edit Distance not implemented yet!\")\nelse:\n    gesture_numpy = t2_data_dtw['data'][t2_data_dtw['gestures'].index(gesture_name_id)]\n    top_k = find_k_most_similar_dtw(t2_data_dtw, gesture_numpy, finder_query_settings)\n    #print(\"Distanza DTW not implemented yet!\")\n\nif top_k is not None:\n    print(\"Top \" + t2_input_k_gestures + \" gestures più simili a '\" + t2_input_file_gestures + \"', usando '\" + query_type + \"':\")\n    print(top_k)",
   "outputs": [
    {
     "name": "stdout",
     "text": "Top 10 gestures più simili a '../Dati_2/words/1.wrd', usando 'Distanza DTW':\n  gesture  similarity\n0       1    1.000000\n1     276    0.984963\n2      17    0.984936\n3     272    0.975743\n4     559    0.968005\n5       2    0.967655\n6     256    0.963169\n7     560    0.962200\n8       8    0.955716\n9       6    0.953942\n",
     "output_type": "stream"
    }
   ],
   "execution_count": null
  },
  {
   "cell_type": "markdown",
   "source": "## Task 3",
   "metadata": {
    "tags": [],
    "is_collapsed": false,
    "cell_id": "00036-0bea7e6c-0dab-4f1a-a70d-13a374b82871",
    "deepnote_cell_type": "text-cell-h2"
   }
  },
  {
   "cell_type": "code",
   "metadata": {
    "deepnote_variable_name": "t3_input_query_type",
    "deepnote_variable_value": "Distanza DTW",
    "deepnote_variable_options": [
     "Dot Product",
     "Top-K Semantiche Latenti",
     "Edit Distance",
     "Distanza DTW"
    ],
    "deepnote_variable_custom_options": [
     "Dot Product",
     "Top-K Semantiche Latenti",
     "Edit Distance",
     "Distanza DTW"
    ],
    "deepnote_variable_selected_variable": "",
    "deepnote_variable_select_type": "from-options",
    "cell_id": "00041-16cc6f82-28dc-47f9-b27f-a607fc8583bf",
    "deepnote_to_be_reexecuted": true,
    "source_hash": "f04a3a37",
    "execution_start": 1638299534552,
    "execution_millis": 11,
    "deepnote_cell_type": "input-select"
   },
   "source": "t3_input_query_type = 'Distanza DTW'",
   "outputs": [],
   "execution_count": null
  },
  {
   "cell_type": "code",
   "metadata": {
    "tags": [],
    "cell_id": "00036-9172fc2d-badc-482c-bde5-659ff0baaa6d",
    "deepnote_to_be_reexecuted": true,
    "source_hash": "2a4d7b43",
    "execution_start": 1638299534585,
    "execution_millis": 5150,
    "deepnote_cell_type": "code"
   },
   "source": "query_type = t3_input_query_type\n\n# Creo la matrice di similarità gesture - gesture (in base a come ha scelto l'utente di procedere)\ngesture_sim_matrix = None\nif query_type == 'Dot Product':\n    gesture_sim_matrix = generate_gestures_similarity_matrix_dp(t2_data_dp['data'])\nelif query_type == 'Top-K Semantiche Latenti':\n    gesture_sim_matrix = generate_gestures_similarity_matrix_tksem(t2_data_tksem['data'], int(t2_input_k_latent_features))\nelif query_type == 'Edit Distance':\n    gesture_sim_matrix = generate_gestures_similarity_matrix_ed(t2_data_ed['data'])\nelse:\n    gesture_sim_matrix = generate_gestures_similarity_matrix_dtw(t2_data_dtw['data'])\n# La trasformo in dataframe pandas (così ho anche il nome delle gestures a confronto nelle righe / colonne)\ngestures_sim_matrix_pd = gestures_similarity_matrix_2_pandas(gesture_sim_matrix, t2_data_tksem['gestures'])\nprint(\"Matrice similarità gesture-gesture:\")\ngestures_sim_matrix_pd",
   "outputs": [
    {
     "name": "stdout",
     "text": "Matrice similarità gesture-gesture:\n",
     "output_type": "stream"
    },
    {
     "output_type": "execute_result",
     "execution_count": 31,
     "data": {
      "application/vnd.deepnote.dataframe.v2+json": {
       "row_count": 93,
       "column_count": 93,
       "columns": [
        {
         "name": "1",
         "dtype": "float64",
         "stats": {
          "unique_count": 93,
          "nan_count": 0,
          "min": "0.0",
          "max": "1.0",
          "histogram": [
           {
            "bin_start": 0,
            "bin_end": 0.1,
            "count": 2
           },
           {
            "bin_start": 0.1,
            "bin_end": 0.2,
            "count": 0
           },
           {
            "bin_start": 0.2,
            "bin_end": 0.30000000000000004,
            "count": 2
           },
           {
            "bin_start": 0.30000000000000004,
            "bin_end": 0.4,
            "count": 0
           },
           {
            "bin_start": 0.4,
            "bin_end": 0.5,
            "count": 3
           },
           {
            "bin_start": 0.5,
            "bin_end": 0.6000000000000001,
            "count": 8
           },
           {
            "bin_start": 0.6000000000000001,
            "bin_end": 0.7000000000000001,
            "count": 13
           },
           {
            "bin_start": 0.7000000000000001,
            "bin_end": 0.8,
            "count": 20
           },
           {
            "bin_start": 0.8,
            "bin_end": 0.9,
            "count": 26
           },
           {
            "bin_start": 0.9,
            "bin_end": 1,
            "count": 19
           }
          ]
         }
        },
        {
         "name": "10",
         "dtype": "float64",
         "stats": {
          "unique_count": 93,
          "nan_count": 0,
          "min": "0.0",
          "max": "1.0",
          "histogram": [
           {
            "bin_start": 0,
            "bin_end": 0.1,
            "count": 1
           },
           {
            "bin_start": 0.1,
            "bin_end": 0.2,
            "count": 2
           },
           {
            "bin_start": 0.2,
            "bin_end": 0.30000000000000004,
            "count": 4
           },
           {
            "bin_start": 0.30000000000000004,
            "bin_end": 0.4,
            "count": 7
           },
           {
            "bin_start": 0.4,
            "bin_end": 0.5,
            "count": 7
           },
           {
            "bin_start": 0.5,
            "bin_end": 0.6000000000000001,
            "count": 8
           },
           {
            "bin_start": 0.6000000000000001,
            "bin_end": 0.7000000000000001,
            "count": 11
           },
           {
            "bin_start": 0.7000000000000001,
            "bin_end": 0.8,
            "count": 14
           },
           {
            "bin_start": 0.8,
            "bin_end": 0.9,
            "count": 23
           },
           {
            "bin_start": 0.9,
            "bin_end": 1,
            "count": 16
           }
          ]
         }
        },
        {
         "name": "11",
         "dtype": "float64",
         "stats": {
          "unique_count": 93,
          "nan_count": 0,
          "min": "0.0",
          "max": "1.0",
          "histogram": [
           {
            "bin_start": 0,
            "bin_end": 0.1,
            "count": 1
           },
           {
            "bin_start": 0.1,
            "bin_end": 0.2,
            "count": 1
           },
           {
            "bin_start": 0.2,
            "bin_end": 0.30000000000000004,
            "count": 2
           },
           {
            "bin_start": 0.30000000000000004,
            "bin_end": 0.4,
            "count": 4
           },
           {
            "bin_start": 0.4,
            "bin_end": 0.5,
            "count": 8
           },
           {
            "bin_start": 0.5,
            "bin_end": 0.6000000000000001,
            "count": 4
           },
           {
            "bin_start": 0.6000000000000001,
            "bin_end": 0.7000000000000001,
            "count": 13
           },
           {
            "bin_start": 0.7000000000000001,
            "bin_end": 0.8,
            "count": 19
           },
           {
            "bin_start": 0.8,
            "bin_end": 0.9,
            "count": 38
           },
           {
            "bin_start": 0.9,
            "bin_end": 1,
            "count": 3
           }
          ]
         }
        },
        {
         "name": "12",
         "dtype": "float64",
         "stats": {
          "unique_count": 93,
          "nan_count": 0,
          "min": "0.0",
          "max": "1.0",
          "histogram": [
           {
            "bin_start": 0,
            "bin_end": 0.1,
            "count": 1
           },
           {
            "bin_start": 0.1,
            "bin_end": 0.2,
            "count": 6
           },
           {
            "bin_start": 0.2,
            "bin_end": 0.30000000000000004,
            "count": 3
           },
           {
            "bin_start": 0.30000000000000004,
            "bin_end": 0.4,
            "count": 6
           },
           {
            "bin_start": 0.4,
            "bin_end": 0.5,
            "count": 14
           },
           {
            "bin_start": 0.5,
            "bin_end": 0.6000000000000001,
            "count": 12
           },
           {
            "bin_start": 0.6000000000000001,
            "bin_end": 0.7000000000000001,
            "count": 17
           },
           {
            "bin_start": 0.7000000000000001,
            "bin_end": 0.8,
            "count": 7
           },
           {
            "bin_start": 0.8,
            "bin_end": 0.9,
            "count": 12
           },
           {
            "bin_start": 0.9,
            "bin_end": 1,
            "count": 15
           }
          ]
         }
        },
        {
         "name": "13",
         "dtype": "float64",
         "stats": {
          "unique_count": 93,
          "nan_count": 0,
          "min": "0.0",
          "max": "1.0",
          "histogram": [
           {
            "bin_start": 0,
            "bin_end": 0.1,
            "count": 3
           },
           {
            "bin_start": 0.1,
            "bin_end": 0.2,
            "count": 6
           },
           {
            "bin_start": 0.2,
            "bin_end": 0.30000000000000004,
            "count": 9
           },
           {
            "bin_start": 0.30000000000000004,
            "bin_end": 0.4,
            "count": 6
           },
           {
            "bin_start": 0.4,
            "bin_end": 0.5,
            "count": 2
           },
           {
            "bin_start": 0.5,
            "bin_end": 0.6000000000000001,
            "count": 7
           },
           {
            "bin_start": 0.6000000000000001,
            "bin_end": 0.7000000000000001,
            "count": 17
           },
           {
            "bin_start": 0.7000000000000001,
            "bin_end": 0.8,
            "count": 11
           },
           {
            "bin_start": 0.8,
            "bin_end": 0.9,
            "count": 25
           },
           {
            "bin_start": 0.9,
            "bin_end": 1,
            "count": 7
           }
          ]
         }
        },
        {
         "name": "14",
         "dtype": "float64",
         "stats": {
          "unique_count": 93,
          "nan_count": 0,
          "min": "0.0",
          "max": "1.0",
          "histogram": [
           {
            "bin_start": 0,
            "bin_end": 0.1,
            "count": 2
           },
           {
            "bin_start": 0.1,
            "bin_end": 0.2,
            "count": 1
           },
           {
            "bin_start": 0.2,
            "bin_end": 0.30000000000000004,
            "count": 2
           },
           {
            "bin_start": 0.30000000000000004,
            "bin_end": 0.4,
            "count": 3
           },
           {
            "bin_start": 0.4,
            "bin_end": 0.5,
            "count": 7
           },
           {
            "bin_start": 0.5,
            "bin_end": 0.6000000000000001,
            "count": 14
           },
           {
            "bin_start": 0.6000000000000001,
            "bin_end": 0.7000000000000001,
            "count": 21
           },
           {
            "bin_start": 0.7000000000000001,
            "bin_end": 0.8,
            "count": 10
           },
           {
            "bin_start": 0.8,
            "bin_end": 0.9,
            "count": 15
           },
           {
            "bin_start": 0.9,
            "bin_end": 1,
            "count": 18
           }
          ]
         }
        },
        {
         "name": "15",
         "dtype": "float64",
         "stats": {
          "unique_count": 93,
          "nan_count": 0,
          "min": "0.0",
          "max": "1.0",
          "histogram": [
           {
            "bin_start": 0,
            "bin_end": 0.1,
            "count": 1
           },
           {
            "bin_start": 0.1,
            "bin_end": 0.2,
            "count": 6
           },
           {
            "bin_start": 0.2,
            "bin_end": 0.30000000000000004,
            "count": 5
           },
           {
            "bin_start": 0.30000000000000004,
            "bin_end": 0.4,
            "count": 10
           },
           {
            "bin_start": 0.4,
            "bin_end": 0.5,
            "count": 17
           },
           {
            "bin_start": 0.5,
            "bin_end": 0.6000000000000001,
            "count": 11
           },
           {
            "bin_start": 0.6000000000000001,
            "bin_end": 0.7000000000000001,
            "count": 14
           },
           {
            "bin_start": 0.7000000000000001,
            "bin_end": 0.8,
            "count": 10
           },
           {
            "bin_start": 0.8,
            "bin_end": 0.9,
            "count": 12
           },
           {
            "bin_start": 0.9,
            "bin_end": 1,
            "count": 7
           }
          ]
         }
        },
        {
         "name": "16",
         "dtype": "float64",
         "stats": {
          "unique_count": 93,
          "nan_count": 0,
          "min": "0.0",
          "max": "1.0",
          "histogram": [
           {
            "bin_start": 0,
            "bin_end": 0.1,
            "count": 3
           },
           {
            "bin_start": 0.1,
            "bin_end": 0.2,
            "count": 4
           },
           {
            "bin_start": 0.2,
            "bin_end": 0.30000000000000004,
            "count": 6
           },
           {
            "bin_start": 0.30000000000000004,
            "bin_end": 0.4,
            "count": 6
           },
           {
            "bin_start": 0.4,
            "bin_end": 0.5,
            "count": 6
           },
           {
            "bin_start": 0.5,
            "bin_end": 0.6000000000000001,
            "count": 11
           },
           {
            "bin_start": 0.6000000000000001,
            "bin_end": 0.7000000000000001,
            "count": 12
           },
           {
            "bin_start": 0.7000000000000001,
            "bin_end": 0.8,
            "count": 14
           },
           {
            "bin_start": 0.8,
            "bin_end": 0.9,
            "count": 22
           },
           {
            "bin_start": 0.9,
            "bin_end": 1,
            "count": 9
           }
          ]
         }
        },
        {
         "name": "17",
         "dtype": "float64",
         "stats": {
          "unique_count": 93,
          "nan_count": 0,
          "min": "0.0",
          "max": "1.0",
          "histogram": [
           {
            "bin_start": 0,
            "bin_end": 0.1,
            "count": 2
           },
           {
            "bin_start": 0.1,
            "bin_end": 0.2,
            "count": 0
           },
           {
            "bin_start": 0.2,
            "bin_end": 0.30000000000000004,
            "count": 2
           },
           {
            "bin_start": 0.30000000000000004,
            "bin_end": 0.4,
            "count": 0
           },
           {
            "bin_start": 0.4,
            "bin_end": 0.5,
            "count": 4
           },
           {
            "bin_start": 0.5,
            "bin_end": 0.6000000000000001,
            "count": 9
           },
           {
            "bin_start": 0.6000000000000001,
            "bin_end": 0.7000000000000001,
            "count": 14
           },
           {
            "bin_start": 0.7000000000000001,
            "bin_end": 0.8,
            "count": 19
           },
           {
            "bin_start": 0.8,
            "bin_end": 0.9,
            "count": 24
           },
           {
            "bin_start": 0.9,
            "bin_end": 1,
            "count": 19
           }
          ]
         }
        },
        {
         "name": "18",
         "dtype": "float64",
         "stats": {
          "unique_count": 93,
          "nan_count": 0,
          "min": "0.0",
          "max": "1.0",
          "histogram": [
           {
            "bin_start": 0,
            "bin_end": 0.1,
            "count": 3
           },
           {
            "bin_start": 0.1,
            "bin_end": 0.2,
            "count": 3
           },
           {
            "bin_start": 0.2,
            "bin_end": 0.30000000000000004,
            "count": 2
           },
           {
            "bin_start": 0.30000000000000004,
            "bin_end": 0.4,
            "count": 7
           },
           {
            "bin_start": 0.4,
            "bin_end": 0.5,
            "count": 10
           },
           {
            "bin_start": 0.5,
            "bin_end": 0.6000000000000001,
            "count": 10
           },
           {
            "bin_start": 0.6000000000000001,
            "bin_end": 0.7000000000000001,
            "count": 7
           },
           {
            "bin_start": 0.7000000000000001,
            "bin_end": 0.8,
            "count": 11
           },
           {
            "bin_start": 0.8,
            "bin_end": 0.9,
            "count": 27
           },
           {
            "bin_start": 0.9,
            "bin_end": 1,
            "count": 13
           }
          ]
         }
        },
        {
         "name": "19",
         "dtype": "float64",
         "stats": {
          "unique_count": 93,
          "nan_count": 0,
          "min": "0.0",
          "max": "1.0",
          "histogram": [
           {
            "bin_start": 0,
            "bin_end": 0.1,
            "count": 1
           },
           {
            "bin_start": 0.1,
            "bin_end": 0.2,
            "count": 1
           },
           {
            "bin_start": 0.2,
            "bin_end": 0.30000000000000004,
            "count": 2
           },
           {
            "bin_start": 0.30000000000000004,
            "bin_end": 0.4,
            "count": 2
           },
           {
            "bin_start": 0.4,
            "bin_end": 0.5,
            "count": 4
           },
           {
            "bin_start": 0.5,
            "bin_end": 0.6000000000000001,
            "count": 12
           },
           {
            "bin_start": 0.6000000000000001,
            "bin_end": 0.7000000000000001,
            "count": 11
           },
           {
            "bin_start": 0.7000000000000001,
            "bin_end": 0.8,
            "count": 20
           },
           {
            "bin_start": 0.8,
            "bin_end": 0.9,
            "count": 23
           },
           {
            "bin_start": 0.9,
            "bin_end": 1,
            "count": 17
           }
          ]
         }
        },
        {
         "name": "2",
         "dtype": "float64",
         "stats": {
          "unique_count": 93,
          "nan_count": 0,
          "min": "0.0",
          "max": "1.0",
          "histogram": [
           {
            "bin_start": 0,
            "bin_end": 0.1,
            "count": 1
           },
           {
            "bin_start": 0.1,
            "bin_end": 0.2,
            "count": 1
           },
           {
            "bin_start": 0.2,
            "bin_end": 0.30000000000000004,
            "count": 2
           },
           {
            "bin_start": 0.30000000000000004,
            "bin_end": 0.4,
            "count": 0
           },
           {
            "bin_start": 0.4,
            "bin_end": 0.5,
            "count": 3
           },
           {
            "bin_start": 0.5,
            "bin_end": 0.6000000000000001,
            "count": 7
           },
           {
            "bin_start": 0.6000000000000001,
            "bin_end": 0.7000000000000001,
            "count": 14
           },
           {
            "bin_start": 0.7000000000000001,
            "bin_end": 0.8,
            "count": 17
           },
           {
            "bin_start": 0.8,
            "bin_end": 0.9,
            "count": 28
           },
           {
            "bin_start": 0.9,
            "bin_end": 1,
            "count": 20
           }
          ]
         }
        },
        {
         "name": "20",
         "dtype": "float64",
         "stats": {
          "unique_count": 93,
          "nan_count": 0,
          "min": "0.0",
          "max": "1.0",
          "histogram": [
           {
            "bin_start": 0,
            "bin_end": 0.1,
            "count": 1
           },
           {
            "bin_start": 0.1,
            "bin_end": 0.2,
            "count": 7
           },
           {
            "bin_start": 0.2,
            "bin_end": 0.30000000000000004,
            "count": 5
           },
           {
            "bin_start": 0.30000000000000004,
            "bin_end": 0.4,
            "count": 10
           },
           {
            "bin_start": 0.4,
            "bin_end": 0.5,
            "count": 15
           },
           {
            "bin_start": 0.5,
            "bin_end": 0.6000000000000001,
            "count": 14
           },
           {
            "bin_start": 0.6000000000000001,
            "bin_end": 0.7000000000000001,
            "count": 11
           },
           {
            "bin_start": 0.7000000000000001,
            "bin_end": 0.8,
            "count": 10
           },
           {
            "bin_start": 0.8,
            "bin_end": 0.9,
            "count": 13
           },
           {
            "bin_start": 0.9,
            "bin_end": 1,
            "count": 7
           }
          ]
         }
        },
        {
         "name": "21",
         "dtype": "float64",
         "stats": {
          "unique_count": 87,
          "nan_count": 0,
          "min": "0.0",
          "max": "1.0",
          "histogram": [
           {
            "bin_start": 0,
            "bin_end": 0.1,
            "count": 13
           },
           {
            "bin_start": 0.1,
            "bin_end": 0.2,
            "count": 11
           },
           {
            "bin_start": 0.2,
            "bin_end": 0.30000000000000004,
            "count": 4
           },
           {
            "bin_start": 0.30000000000000004,
            "bin_end": 0.4,
            "count": 13
           },
           {
            "bin_start": 0.4,
            "bin_end": 0.5,
            "count": 12
           },
           {
            "bin_start": 0.5,
            "bin_end": 0.6000000000000001,
            "count": 11
           },
           {
            "bin_start": 0.6000000000000001,
            "bin_end": 0.7000000000000001,
            "count": 9
           },
           {
            "bin_start": 0.7000000000000001,
            "bin_end": 0.8,
            "count": 10
           },
           {
            "bin_start": 0.8,
            "bin_end": 0.9,
            "count": 4
           },
           {
            "bin_start": 0.9,
            "bin_end": 1,
            "count": 6
           }
          ]
         }
        },
        {
         "name": "22",
         "dtype": "float64",
         "stats": {
          "unique_count": 93,
          "nan_count": 0,
          "min": "0.0",
          "max": "1.0",
          "histogram": [
           {
            "bin_start": 0,
            "bin_end": 0.1,
            "count": 3
           },
           {
            "bin_start": 0.1,
            "bin_end": 0.2,
            "count": 3
           },
           {
            "bin_start": 0.2,
            "bin_end": 0.30000000000000004,
            "count": 4
           },
           {
            "bin_start": 0.30000000000000004,
            "bin_end": 0.4,
            "count": 5
           },
           {
            "bin_start": 0.4,
            "bin_end": 0.5,
            "count": 3
           },
           {
            "bin_start": 0.5,
            "bin_end": 0.6000000000000001,
            "count": 12
           },
           {
            "bin_start": 0.6000000000000001,
            "bin_end": 0.7000000000000001,
            "count": 8
           },
           {
            "bin_start": 0.7000000000000001,
            "bin_end": 0.8,
            "count": 24
           },
           {
            "bin_start": 0.8,
            "bin_end": 0.9,
            "count": 22
           },
           {
            "bin_start": 0.9,
            "bin_end": 1,
            "count": 9
           }
          ]
         }
        },
        {
         "name": "23",
         "dtype": "float64",
         "stats": {
          "unique_count": 93,
          "nan_count": 0,
          "min": "0.0",
          "max": "1.0",
          "histogram": [
           {
            "bin_start": 0,
            "bin_end": 0.1,
            "count": 3
           },
           {
            "bin_start": 0.1,
            "bin_end": 0.2,
            "count": 3
           },
           {
            "bin_start": 0.2,
            "bin_end": 0.30000000000000004,
            "count": 4
           },
           {
            "bin_start": 0.30000000000000004,
            "bin_end": 0.4,
            "count": 5
           },
           {
            "bin_start": 0.4,
            "bin_end": 0.5,
            "count": 4
           },
           {
            "bin_start": 0.5,
            "bin_end": 0.6000000000000001,
            "count": 9
           },
           {
            "bin_start": 0.6000000000000001,
            "bin_end": 0.7000000000000001,
            "count": 11
           },
           {
            "bin_start": 0.7000000000000001,
            "bin_end": 0.8,
            "count": 22
           },
           {
            "bin_start": 0.8,
            "bin_end": 0.9,
            "count": 22
           },
           {
            "bin_start": 0.9,
            "bin_end": 1,
            "count": 10
           }
          ]
         }
        },
        {
         "name": "24",
         "dtype": "float64",
         "stats": {
          "unique_count": 93,
          "nan_count": 0,
          "min": "0.0",
          "max": "1.0",
          "histogram": [
           {
            "bin_start": 0,
            "bin_end": 0.1,
            "count": 1
           },
           {
            "bin_start": 0.1,
            "bin_end": 0.2,
            "count": 5
           },
           {
            "bin_start": 0.2,
            "bin_end": 0.30000000000000004,
            "count": 4
           },
           {
            "bin_start": 0.30000000000000004,
            "bin_end": 0.4,
            "count": 5
           },
           {
            "bin_start": 0.4,
            "bin_end": 0.5,
            "count": 5
           },
           {
            "bin_start": 0.5,
            "bin_end": 0.6000000000000001,
            "count": 15
           },
           {
            "bin_start": 0.6000000000000001,
            "bin_end": 0.7000000000000001,
            "count": 18
           },
           {
            "bin_start": 0.7000000000000001,
            "bin_end": 0.8,
            "count": 10
           },
           {
            "bin_start": 0.8,
            "bin_end": 0.9,
            "count": 17
           },
           {
            "bin_start": 0.9,
            "bin_end": 1,
            "count": 13
           }
          ]
         }
        },
        {
         "name": "249",
         "dtype": "float64",
         "stats": {
          "unique_count": 93,
          "nan_count": 0,
          "min": "0.0",
          "max": "1.0",
          "histogram": [
           {
            "bin_start": 0,
            "bin_end": 0.1,
            "count": 1
           },
           {
            "bin_start": 0.1,
            "bin_end": 0.2,
            "count": 5
           },
           {
            "bin_start": 0.2,
            "bin_end": 0.30000000000000004,
            "count": 3
           },
           {
            "bin_start": 0.30000000000000004,
            "bin_end": 0.4,
            "count": 7
           },
           {
            "bin_start": 0.4,
            "bin_end": 0.5,
            "count": 10
           },
           {
            "bin_start": 0.5,
            "bin_end": 0.6000000000000001,
            "count": 10
           },
           {
            "bin_start": 0.6000000000000001,
            "bin_end": 0.7000000000000001,
            "count": 8
           },
           {
            "bin_start": 0.7000000000000001,
            "bin_end": 0.8,
            "count": 21
           },
           {
            "bin_start": 0.8,
            "bin_end": 0.9,
            "count": 20
           },
           {
            "bin_start": 0.9,
            "bin_end": 1,
            "count": 8
           }
          ]
         }
        },
        {
         "name": "25",
         "dtype": "float64",
         "stats": {
          "unique_count": 93,
          "nan_count": 0,
          "min": "0.0",
          "max": "1.0",
          "histogram": [
           {
            "bin_start": 0,
            "bin_end": 0.1,
            "count": 1
           },
           {
            "bin_start": 0.1,
            "bin_end": 0.2,
            "count": 5
           },
           {
            "bin_start": 0.2,
            "bin_end": 0.30000000000000004,
            "count": 4
           },
           {
            "bin_start": 0.30000000000000004,
            "bin_end": 0.4,
            "count": 5
           },
           {
            "bin_start": 0.4,
            "bin_end": 0.5,
            "count": 6
           },
           {
            "bin_start": 0.5,
            "bin_end": 0.6000000000000001,
            "count": 14
           },
           {
            "bin_start": 0.6000000000000001,
            "bin_end": 0.7000000000000001,
            "count": 18
           },
           {
            "bin_start": 0.7000000000000001,
            "bin_end": 0.8,
            "count": 9
           },
           {
            "bin_start": 0.8,
            "bin_end": 0.9,
            "count": 18
           },
           {
            "bin_start": 0.9,
            "bin_end": 1,
            "count": 13
           }
          ]
         }
        },
        {
         "name": "250",
         "dtype": "float64",
         "stats": {
          "unique_count": 93,
          "nan_count": 0,
          "min": "0.11201088945007875",
          "max": "1.0",
          "histogram": [
           {
            "bin_start": 0.11201088945007875,
            "bin_end": 0.20080980050507088,
            "count": 5
           },
           {
            "bin_start": 0.20080980050507088,
            "bin_end": 0.289608711560063,
            "count": 4
           },
           {
            "bin_start": 0.289608711560063,
            "bin_end": 0.3784076226150551,
            "count": 6
           },
           {
            "bin_start": 0.3784076226150551,
            "bin_end": 0.4672065336700473,
            "count": 6
           },
           {
            "bin_start": 0.4672065336700473,
            "bin_end": 0.5560054447250394,
            "count": 5
           },
           {
            "bin_start": 0.5560054447250394,
            "bin_end": 0.6448043557800315,
            "count": 8
           },
           {
            "bin_start": 0.6448043557800315,
            "bin_end": 0.7336032668350236,
            "count": 15
           },
           {
            "bin_start": 0.7336032668350236,
            "bin_end": 0.8224021778900158,
            "count": 19
           },
           {
            "bin_start": 0.8224021778900158,
            "bin_end": 0.911201088945008,
            "count": 19
           },
           {
            "bin_start": 0.911201088945008,
            "bin_end": 1,
            "count": 6
           }
          ]
         }
        },
        {
         "name": "251",
         "dtype": "float64",
         "stats": {
          "unique_count": 93,
          "nan_count": 0,
          "min": "0.0",
          "max": "1.0",
          "histogram": [
           {
            "bin_start": 0,
            "bin_end": 0.1,
            "count": 2
           },
           {
            "bin_start": 0.1,
            "bin_end": 0.2,
            "count": 2
           },
           {
            "bin_start": 0.2,
            "bin_end": 0.30000000000000004,
            "count": 0
           },
           {
            "bin_start": 0.30000000000000004,
            "bin_end": 0.4,
            "count": 7
           },
           {
            "bin_start": 0.4,
            "bin_end": 0.5,
            "count": 11
           },
           {
            "bin_start": 0.5,
            "bin_end": 0.6000000000000001,
            "count": 11
           },
           {
            "bin_start": 0.6000000000000001,
            "bin_end": 0.7000000000000001,
            "count": 11
           },
           {
            "bin_start": 0.7000000000000001,
            "bin_end": 0.8,
            "count": 12
           },
           {
            "bin_start": 0.8,
            "bin_end": 0.9,
            "count": 34
           },
           {
            "bin_start": 0.9,
            "bin_end": 1,
            "count": 3
           }
          ]
         }
        },
        {
         "name": "252",
         "dtype": "float64",
         "stats": {
          "unique_count": 93,
          "nan_count": 0,
          "min": "0.17772555867219042",
          "max": "1.0",
          "histogram": [
           {
            "bin_start": 0.17772555867219042,
            "bin_end": 0.25995300280497136,
            "count": 6
           },
           {
            "bin_start": 0.25995300280497136,
            "bin_end": 0.34218044693775235,
            "count": 4
           },
           {
            "bin_start": 0.34218044693775235,
            "bin_end": 0.42440789107053334,
            "count": 2
           },
           {
            "bin_start": 0.42440789107053334,
            "bin_end": 0.5066353352033143,
            "count": 6
           },
           {
            "bin_start": 0.5066353352033143,
            "bin_end": 0.5888627793360952,
            "count": 8
           },
           {
            "bin_start": 0.5888627793360952,
            "bin_end": 0.6710902234688763,
            "count": 9
           },
           {
            "bin_start": 0.6710902234688763,
            "bin_end": 0.7533176676016572,
            "count": 13
           },
           {
            "bin_start": 0.7533176676016572,
            "bin_end": 0.8355451117344381,
            "count": 16
           },
           {
            "bin_start": 0.8355451117344381,
            "bin_end": 0.9177725558672191,
            "count": 19
           },
           {
            "bin_start": 0.9177725558672191,
            "bin_end": 1,
            "count": 10
           }
          ]
         }
        },
        {
         "name": "253",
         "dtype": "float64",
         "stats": {
          "unique_count": 93,
          "nan_count": 0,
          "min": "0.02275387479673563",
          "max": "1.0",
          "histogram": [
           {
            "bin_start": 0.02275387479673563,
            "bin_end": 0.12047848731706207,
            "count": 1
           },
           {
            "bin_start": 0.12047848731706207,
            "bin_end": 0.2182030998373885,
            "count": 3
           },
           {
            "bin_start": 0.2182030998373885,
            "bin_end": 0.31592771235771494,
            "count": 11
           },
           {
            "bin_start": 0.31592771235771494,
            "bin_end": 0.4136523248780414,
            "count": 4
           },
           {
            "bin_start": 0.4136523248780414,
            "bin_end": 0.5113769373983679,
            "count": 12
           },
           {
            "bin_start": 0.5113769373983679,
            "bin_end": 0.6091015499186943,
            "count": 11
           },
           {
            "bin_start": 0.6091015499186943,
            "bin_end": 0.7068261624390207,
            "count": 14
           },
           {
            "bin_start": 0.7068261624390207,
            "bin_end": 0.8045507749593471,
            "count": 9
           },
           {
            "bin_start": 0.8045507749593471,
            "bin_end": 0.9022753874796735,
            "count": 11
           },
           {
            "bin_start": 0.9022753874796735,
            "bin_end": 1,
            "count": 17
           }
          ]
         }
        },
        {
         "name": "254",
         "dtype": "float64",
         "stats": {
          "unique_count": 93,
          "nan_count": 0,
          "min": "0.12264350995872852",
          "max": "1.0",
          "histogram": [
           {
            "bin_start": 0.12264350995872852,
            "bin_end": 0.21037915896285567,
            "count": 2
           },
           {
            "bin_start": 0.21037915896285567,
            "bin_end": 0.2981148079669828,
            "count": 2
           },
           {
            "bin_start": 0.2981148079669828,
            "bin_end": 0.38585045697111,
            "count": 1
           },
           {
            "bin_start": 0.38585045697111,
            "bin_end": 0.4735861059752371,
            "count": 6
           },
           {
            "bin_start": 0.4735861059752371,
            "bin_end": 0.5613217549793642,
            "count": 10
           },
           {
            "bin_start": 0.5613217549793642,
            "bin_end": 0.6490574039834914,
            "count": 8
           },
           {
            "bin_start": 0.6490574039834914,
            "bin_end": 0.7367930529876185,
            "count": 13
           },
           {
            "bin_start": 0.7367930529876185,
            "bin_end": 0.8245287019917457,
            "count": 19
           },
           {
            "bin_start": 0.8245287019917457,
            "bin_end": 0.9122643509958728,
            "count": 22
           },
           {
            "bin_start": 0.9122643509958728,
            "bin_end": 1,
            "count": 10
           }
          ]
         }
        },
        {
         "name": "255",
         "dtype": "float64",
         "stats": {
          "unique_count": 93,
          "nan_count": 0,
          "min": "0.10299930188439455",
          "max": "1.0",
          "histogram": [
           {
            "bin_start": 0.10299930188439455,
            "bin_end": 0.19269937169595508,
            "count": 5
           },
           {
            "bin_start": 0.19269937169595508,
            "bin_end": 0.2823994415075156,
            "count": 4
           },
           {
            "bin_start": 0.2823994415075156,
            "bin_end": 0.3720995113190762,
            "count": 5
           },
           {
            "bin_start": 0.3720995113190762,
            "bin_end": 0.46179958113063674,
            "count": 6
           },
           {
            "bin_start": 0.46179958113063674,
            "bin_end": 0.5514996509421972,
            "count": 4
           },
           {
            "bin_start": 0.5514996509421972,
            "bin_end": 0.6411997207537579,
            "count": 9
           },
           {
            "bin_start": 0.6411997207537579,
            "bin_end": 0.7308997905653184,
            "count": 15
           },
           {
            "bin_start": 0.7308997905653184,
            "bin_end": 0.8205998603768789,
            "count": 24
           },
           {
            "bin_start": 0.8205998603768789,
            "bin_end": 0.9102999301884395,
            "count": 17
           },
           {
            "bin_start": 0.9102999301884395,
            "bin_end": 1,
            "count": 4
           }
          ]
         }
        },
        {
         "name": "256",
         "dtype": "float64",
         "stats": {
          "unique_count": 93,
          "nan_count": 0,
          "min": "0.09363097775198725",
          "max": "1.0",
          "histogram": [
           {
            "bin_start": 0.09363097775198725,
            "bin_end": 0.18426787997678853,
            "count": 1
           },
           {
            "bin_start": 0.18426787997678853,
            "bin_end": 0.2749047822015898,
            "count": 2
           },
           {
            "bin_start": 0.2749047822015898,
            "bin_end": 0.3655416844263911,
            "count": 2
           },
           {
            "bin_start": 0.3655416844263911,
            "bin_end": 0.4561785866511924,
            "count": 5
           },
           {
            "bin_start": 0.4561785866511924,
            "bin_end": 0.5468154888759936,
            "count": 8
           },
           {
            "bin_start": 0.5468154888759936,
            "bin_end": 0.637452391100795,
            "count": 8
           },
           {
            "bin_start": 0.637452391100795,
            "bin_end": 0.7280892933255962,
            "count": 16
           },
           {
            "bin_start": 0.7280892933255962,
            "bin_end": 0.8187261955503975,
            "count": 15
           },
           {
            "bin_start": 0.8187261955503975,
            "bin_end": 0.9093630977751987,
            "count": 19
           },
           {
            "bin_start": 0.9093630977751987,
            "bin_end": 1,
            "count": 17
           }
          ]
         }
        },
        {
         "name": "257",
         "dtype": "float64",
         "stats": {
          "unique_count": 93,
          "nan_count": 0,
          "min": "0.0",
          "max": "1.0",
          "histogram": [
           {
            "bin_start": 0,
            "bin_end": 0.1,
            "count": 4
           },
           {
            "bin_start": 0.1,
            "bin_end": 0.2,
            "count": 4
           },
           {
            "bin_start": 0.2,
            "bin_end": 0.30000000000000004,
            "count": 6
           },
           {
            "bin_start": 0.30000000000000004,
            "bin_end": 0.4,
            "count": 4
           },
           {
            "bin_start": 0.4,
            "bin_end": 0.5,
            "count": 7
           },
           {
            "bin_start": 0.5,
            "bin_end": 0.6000000000000001,
            "count": 9
           },
           {
            "bin_start": 0.6000000000000001,
            "bin_end": 0.7000000000000001,
            "count": 14
           },
           {
            "bin_start": 0.7000000000000001,
            "bin_end": 0.8,
            "count": 19
           },
           {
            "bin_start": 0.8,
            "bin_end": 0.9,
            "count": 25
           },
           {
            "bin_start": 0.9,
            "bin_end": 1,
            "count": 1
           }
          ]
         }
        },
        {
         "name": "258",
         "dtype": "float64",
         "stats": {
          "unique_count": 93,
          "nan_count": 0,
          "min": "0.0",
          "max": "1.0",
          "histogram": [
           {
            "bin_start": 0,
            "bin_end": 0.1,
            "count": 3
           },
           {
            "bin_start": 0.1,
            "bin_end": 0.2,
            "count": 3
           },
           {
            "bin_start": 0.2,
            "bin_end": 0.30000000000000004,
            "count": 5
           },
           {
            "bin_start": 0.30000000000000004,
            "bin_end": 0.4,
            "count": 6
           },
           {
            "bin_start": 0.4,
            "bin_end": 0.5,
            "count": 4
           },
           {
            "bin_start": 0.5,
            "bin_end": 0.6000000000000001,
            "count": 11
           },
           {
            "bin_start": 0.6000000000000001,
            "bin_end": 0.7000000000000001,
            "count": 15
           },
           {
            "bin_start": 0.7000000000000001,
            "bin_end": 0.8,
            "count": 18
           },
           {
            "bin_start": 0.8,
            "bin_end": 0.9,
            "count": 21
           },
           {
            "bin_start": 0.9,
            "bin_end": 1,
            "count": 7
           }
          ]
         }
        },
        {
         "name": "259",
         "dtype": "float64",
         "stats": {
          "unique_count": 93,
          "nan_count": 0,
          "min": "0.0",
          "max": "1.0",
          "histogram": [
           {
            "bin_start": 0,
            "bin_end": 0.1,
            "count": 2
           },
           {
            "bin_start": 0.1,
            "bin_end": 0.2,
            "count": 5
           },
           {
            "bin_start": 0.2,
            "bin_end": 0.30000000000000004,
            "count": 8
           },
           {
            "bin_start": 0.30000000000000004,
            "bin_end": 0.4,
            "count": 7
           },
           {
            "bin_start": 0.4,
            "bin_end": 0.5,
            "count": 23
           },
           {
            "bin_start": 0.5,
            "bin_end": 0.6000000000000001,
            "count": 8
           },
           {
            "bin_start": 0.6000000000000001,
            "bin_end": 0.7000000000000001,
            "count": 8
           },
           {
            "bin_start": 0.7000000000000001,
            "bin_end": 0.8,
            "count": 11
           },
           {
            "bin_start": 0.8,
            "bin_end": 0.9,
            "count": 13
           },
           {
            "bin_start": 0.9,
            "bin_end": 1,
            "count": 8
           }
          ]
         }
        },
        {
         "name": "26",
         "dtype": "float64",
         "stats": {
          "unique_count": 93,
          "nan_count": 0,
          "min": "0.13675794633551475",
          "max": "1.0",
          "histogram": [
           {
            "bin_start": 0.13675794633551475,
            "bin_end": 0.22308215170196327,
            "count": 2
           },
           {
            "bin_start": 0.22308215170196327,
            "bin_end": 0.3094063570684118,
            "count": 1
           },
           {
            "bin_start": 0.3094063570684118,
            "bin_end": 0.3957305624348603,
            "count": 0
           },
           {
            "bin_start": 0.3957305624348603,
            "bin_end": 0.48205476780130885,
            "count": 3
           },
           {
            "bin_start": 0.48205476780130885,
            "bin_end": 0.5683789731677573,
            "count": 10
           },
           {
            "bin_start": 0.5683789731677573,
            "bin_end": 0.6547031785342059,
            "count": 3
           },
           {
            "bin_start": 0.6547031785342059,
            "bin_end": 0.7410273839006544,
            "count": 20
           },
           {
            "bin_start": 0.7410273839006544,
            "bin_end": 0.827351589267103,
            "count": 16
           },
           {
            "bin_start": 0.827351589267103,
            "bin_end": 0.9136757946335515,
            "count": 19
           },
           {
            "bin_start": 0.9136757946335515,
            "bin_end": 1,
            "count": 19
           }
          ]
         }
        },
        {
         "name": "260",
         "dtype": "float64",
         "stats": {
          "unique_count": 93,
          "nan_count": 0,
          "min": "0.0",
          "max": "1.0",
          "histogram": [
           {
            "bin_start": 0,
            "bin_end": 0.1,
            "count": 4
           },
           {
            "bin_start": 0.1,
            "bin_end": 0.2,
            "count": 2
           },
           {
            "bin_start": 0.2,
            "bin_end": 0.30000000000000004,
            "count": 6
           },
           {
            "bin_start": 0.30000000000000004,
            "bin_end": 0.4,
            "count": 7
           },
           {
            "bin_start": 0.4,
            "bin_end": 0.5,
            "count": 3
           },
           {
            "bin_start": 0.5,
            "bin_end": 0.6000000000000001,
            "count": 8
           },
           {
            "bin_start": 0.6000000000000001,
            "bin_end": 0.7000000000000001,
            "count": 12
           },
           {
            "bin_start": 0.7000000000000001,
            "bin_end": 0.8,
            "count": 23
           },
           {
            "bin_start": 0.8,
            "bin_end": 0.9,
            "count": 23
           },
           {
            "bin_start": 0.9,
            "bin_end": 1,
            "count": 5
           }
          ]
         }
        },
        {
         "name": "261",
         "dtype": "float64",
         "stats": {
          "unique_count": 93,
          "nan_count": 0,
          "min": "0.0",
          "max": "1.0",
          "histogram": [
           {
            "bin_start": 0,
            "bin_end": 0.1,
            "count": 2
           },
           {
            "bin_start": 0.1,
            "bin_end": 0.2,
            "count": 2
           },
           {
            "bin_start": 0.2,
            "bin_end": 0.30000000000000004,
            "count": 0
           },
           {
            "bin_start": 0.30000000000000004,
            "bin_end": 0.4,
            "count": 6
           },
           {
            "bin_start": 0.4,
            "bin_end": 0.5,
            "count": 12
           },
           {
            "bin_start": 0.5,
            "bin_end": 0.6000000000000001,
            "count": 9
           },
           {
            "bin_start": 0.6000000000000001,
            "bin_end": 0.7000000000000001,
            "count": 15
           },
           {
            "bin_start": 0.7000000000000001,
            "bin_end": 0.8,
            "count": 16
           },
           {
            "bin_start": 0.8,
            "bin_end": 0.9,
            "count": 28
           },
           {
            "bin_start": 0.9,
            "bin_end": 1,
            "count": 3
           }
          ]
         }
        },
        {
         "name": "262",
         "dtype": "float64",
         "stats": {
          "unique_count": 93,
          "nan_count": 0,
          "min": "0.12025867462534112",
          "max": "1.0",
          "histogram": [
           {
            "bin_start": 0.12025867462534112,
            "bin_end": 0.208232807162807,
            "count": 5
           },
           {
            "bin_start": 0.208232807162807,
            "bin_end": 0.2962069397002729,
            "count": 4
           },
           {
            "bin_start": 0.2962069397002729,
            "bin_end": 0.3841810722377388,
            "count": 2
           },
           {
            "bin_start": 0.3841810722377388,
            "bin_end": 0.4721552047752047,
            "count": 6
           },
           {
            "bin_start": 0.4721552047752047,
            "bin_end": 0.5601293373126706,
            "count": 5
           },
           {
            "bin_start": 0.5601293373126706,
            "bin_end": 0.6481034698501364,
            "count": 2
           },
           {
            "bin_start": 0.6481034698501364,
            "bin_end": 0.7360776023876023,
            "count": 12
           },
           {
            "bin_start": 0.7360776023876023,
            "bin_end": 0.8240517349250682,
            "count": 23
           },
           {
            "bin_start": 0.8240517349250682,
            "bin_end": 0.9120258674625341,
            "count": 28
           },
           {
            "bin_start": 0.9120258674625341,
            "bin_end": 1,
            "count": 6
           }
          ]
         }
        },
        {
         "name": "263",
         "dtype": "float64",
         "stats": {
          "unique_count": 93,
          "nan_count": 0,
          "min": "0.0",
          "max": "1.0",
          "histogram": [
           {
            "bin_start": 0,
            "bin_end": 0.1,
            "count": 3
           },
           {
            "bin_start": 0.1,
            "bin_end": 0.2,
            "count": 3
           },
           {
            "bin_start": 0.2,
            "bin_end": 0.30000000000000004,
            "count": 5
           },
           {
            "bin_start": 0.30000000000000004,
            "bin_end": 0.4,
            "count": 5
           },
           {
            "bin_start": 0.4,
            "bin_end": 0.5,
            "count": 4
           },
           {
            "bin_start": 0.5,
            "bin_end": 0.6000000000000001,
            "count": 11
           },
           {
            "bin_start": 0.6000000000000001,
            "bin_end": 0.7000000000000001,
            "count": 16
           },
           {
            "bin_start": 0.7000000000000001,
            "bin_end": 0.8,
            "count": 16
           },
           {
            "bin_start": 0.8,
            "bin_end": 0.9,
            "count": 20
           },
           {
            "bin_start": 0.9,
            "bin_end": 1,
            "count": 10
           }
          ]
         }
        },
        {
         "name": "264",
         "dtype": "float64",
         "stats": {
          "unique_count": 93,
          "nan_count": 0,
          "min": "0.04913450120669505",
          "max": "1.0",
          "histogram": [
           {
            "bin_start": 0.04913450120669505,
            "bin_end": 0.14422105108602554,
            "count": 1
           },
           {
            "bin_start": 0.14422105108602554,
            "bin_end": 0.23930760096535603,
            "count": 3
           },
           {
            "bin_start": 0.23930760096535603,
            "bin_end": 0.3343941508446865,
            "count": 10
           },
           {
            "bin_start": 0.3343941508446865,
            "bin_end": 0.429480700724017,
            "count": 9
           },
           {
            "bin_start": 0.429480700724017,
            "bin_end": 0.5245672506033475,
            "count": 10
           },
           {
            "bin_start": 0.5245672506033475,
            "bin_end": 0.6196538004826779,
            "count": 8
           },
           {
            "bin_start": 0.6196538004826779,
            "bin_end": 0.7147403503620084,
            "count": 10
           },
           {
            "bin_start": 0.7147403503620084,
            "bin_end": 0.809826900241339,
            "count": 9
           },
           {
            "bin_start": 0.809826900241339,
            "bin_end": 0.9049134501206695,
            "count": 18
           },
           {
            "bin_start": 0.9049134501206695,
            "bin_end": 1,
            "count": 15
           }
          ]
         }
        },
        {
         "name": "265",
         "dtype": "float64",
         "stats": {
          "unique_count": 93,
          "nan_count": 0,
          "min": "0.19255268638263334",
          "max": "1.0",
          "histogram": [
           {
            "bin_start": 0.19255268638263334,
            "bin_end": 0.27329741774437,
            "count": 6
           },
           {
            "bin_start": 0.27329741774437,
            "bin_end": 0.35404214910610665,
            "count": 1
           },
           {
            "bin_start": 0.35404214910610665,
            "bin_end": 0.43478688046784336,
            "count": 2
           },
           {
            "bin_start": 0.43478688046784336,
            "bin_end": 0.5155316118295801,
            "count": 4
           },
           {
            "bin_start": 0.5155316118295801,
            "bin_end": 0.5962763431913167,
            "count": 7
           },
           {
            "bin_start": 0.5962763431913167,
            "bin_end": 0.6770210745530534,
            "count": 7
           },
           {
            "bin_start": 0.6770210745530534,
            "bin_end": 0.75776580591479,
            "count": 10
           },
           {
            "bin_start": 0.75776580591479,
            "bin_end": 0.8385105372765267,
            "count": 19
           },
           {
            "bin_start": 0.8385105372765267,
            "bin_end": 0.9192552686382633,
            "count": 23
           },
           {
            "bin_start": 0.9192552686382633,
            "bin_end": 1,
            "count": 14
           }
          ]
         }
        },
        {
         "name": "266",
         "dtype": "float64",
         "stats": {
          "unique_count": 93,
          "nan_count": 0,
          "min": "0.0",
          "max": "1.0",
          "histogram": [
           {
            "bin_start": 0,
            "bin_end": 0.1,
            "count": 3
           },
           {
            "bin_start": 0.1,
            "bin_end": 0.2,
            "count": 3
           },
           {
            "bin_start": 0.2,
            "bin_end": 0.30000000000000004,
            "count": 5
           },
           {
            "bin_start": 0.30000000000000004,
            "bin_end": 0.4,
            "count": 6
           },
           {
            "bin_start": 0.4,
            "bin_end": 0.5,
            "count": 3
           },
           {
            "bin_start": 0.5,
            "bin_end": 0.6000000000000001,
            "count": 11
           },
           {
            "bin_start": 0.6000000000000001,
            "bin_end": 0.7000000000000001,
            "count": 12
           },
           {
            "bin_start": 0.7000000000000001,
            "bin_end": 0.8,
            "count": 25
           },
           {
            "bin_start": 0.8,
            "bin_end": 0.9,
            "count": 22
           },
           {
            "bin_start": 0.9,
            "bin_end": 1,
            "count": 3
           }
          ]
         }
        },
        {
         "name": "267",
         "dtype": "float64",
         "stats": {
          "unique_count": 89,
          "nan_count": 0,
          "min": "0.0",
          "max": "1.0",
          "histogram": [
           {
            "bin_start": 0,
            "bin_end": 0.1,
            "count": 12
           },
           {
            "bin_start": 0.1,
            "bin_end": 0.2,
            "count": 9
           },
           {
            "bin_start": 0.2,
            "bin_end": 0.30000000000000004,
            "count": 6
           },
           {
            "bin_start": 0.30000000000000004,
            "bin_end": 0.4,
            "count": 5
           },
           {
            "bin_start": 0.4,
            "bin_end": 0.5,
            "count": 10
           },
           {
            "bin_start": 0.5,
            "bin_end": 0.6000000000000001,
            "count": 10
           },
           {
            "bin_start": 0.6000000000000001,
            "bin_end": 0.7000000000000001,
            "count": 12
           },
           {
            "bin_start": 0.7000000000000001,
            "bin_end": 0.8,
            "count": 10
           },
           {
            "bin_start": 0.8,
            "bin_end": 0.9,
            "count": 9
           },
           {
            "bin_start": 0.9,
            "bin_end": 1,
            "count": 10
           }
          ]
         }
        },
        {
         "name": "268",
         "dtype": "float64",
         "stats": {
          "unique_count": 93,
          "nan_count": 0,
          "min": "0.10084514421221003",
          "max": "1.0",
          "histogram": [
           {
            "bin_start": 0.10084514421221003,
            "bin_end": 0.190760629790989,
            "count": 1
           },
           {
            "bin_start": 0.190760629790989,
            "bin_end": 0.280676115369768,
            "count": 2
           },
           {
            "bin_start": 0.280676115369768,
            "bin_end": 0.37059160094854704,
            "count": 2
           },
           {
            "bin_start": 0.37059160094854704,
            "bin_end": 0.460507086527326,
            "count": 5
           },
           {
            "bin_start": 0.460507086527326,
            "bin_end": 0.550422572106105,
            "count": 9
           },
           {
            "bin_start": 0.550422572106105,
            "bin_end": 0.640338057684884,
            "count": 12
           },
           {
            "bin_start": 0.640338057684884,
            "bin_end": 0.730253543263663,
            "count": 12
           },
           {
            "bin_start": 0.730253543263663,
            "bin_end": 0.820169028842442,
            "count": 18
           },
           {
            "bin_start": 0.820169028842442,
            "bin_end": 0.9100845144212211,
            "count": 20
           },
           {
            "bin_start": 0.9100845144212211,
            "bin_end": 1,
            "count": 12
           }
          ]
         }
        },
        {
         "name": "269",
         "dtype": "float64",
         "stats": {
          "unique_count": 93,
          "nan_count": 0,
          "min": "0.0",
          "max": "1.0",
          "histogram": [
           {
            "bin_start": 0,
            "bin_end": 0.1,
            "count": 4
           },
           {
            "bin_start": 0.1,
            "bin_end": 0.2,
            "count": 4
           },
           {
            "bin_start": 0.2,
            "bin_end": 0.30000000000000004,
            "count": 10
           },
           {
            "bin_start": 0.30000000000000004,
            "bin_end": 0.4,
            "count": 7
           },
           {
            "bin_start": 0.4,
            "bin_end": 0.5,
            "count": 9
           },
           {
            "bin_start": 0.5,
            "bin_end": 0.6000000000000001,
            "count": 7
           },
           {
            "bin_start": 0.6000000000000001,
            "bin_end": 0.7000000000000001,
            "count": 5
           },
           {
            "bin_start": 0.7000000000000001,
            "bin_end": 0.8,
            "count": 17
           },
           {
            "bin_start": 0.8,
            "bin_end": 0.9,
            "count": 14
           },
           {
            "bin_start": 0.9,
            "bin_end": 1,
            "count": 16
           }
          ]
         }
        },
        {
         "name": "27",
         "dtype": "float64",
         "stats": {
          "unique_count": 93,
          "nan_count": 0,
          "min": "0.0",
          "max": "1.0",
          "histogram": [
           {
            "bin_start": 0,
            "bin_end": 0.1,
            "count": 1
           },
           {
            "bin_start": 0.1,
            "bin_end": 0.2,
            "count": 4
           },
           {
            "bin_start": 0.2,
            "bin_end": 0.30000000000000004,
            "count": 2
           },
           {
            "bin_start": 0.30000000000000004,
            "bin_end": 0.4,
            "count": 5
           },
           {
            "bin_start": 0.4,
            "bin_end": 0.5,
            "count": 10
           },
           {
            "bin_start": 0.5,
            "bin_end": 0.6000000000000001,
            "count": 14
           },
           {
            "bin_start": 0.6000000000000001,
            "bin_end": 0.7000000000000001,
            "count": 19
           },
           {
            "bin_start": 0.7000000000000001,
            "bin_end": 0.8,
            "count": 12
           },
           {
            "bin_start": 0.8,
            "bin_end": 0.9,
            "count": 13
           },
           {
            "bin_start": 0.9,
            "bin_end": 1,
            "count": 13
           }
          ]
         }
        },
        {
         "name": "270",
         "dtype": "float64",
         "stats": {
          "unique_count": 93,
          "nan_count": 0,
          "min": "0.10915525273402149",
          "max": "1.0",
          "histogram": [
           {
            "bin_start": 0.10915525273402149,
            "bin_end": 0.19823972746061935,
            "count": 1
           },
           {
            "bin_start": 0.19823972746061935,
            "bin_end": 0.2873242021872172,
            "count": 2
           },
           {
            "bin_start": 0.2873242021872172,
            "bin_end": 0.376408676913815,
            "count": 1
           },
           {
            "bin_start": 0.376408676913815,
            "bin_end": 0.4654931516404129,
            "count": 2
           },
           {
            "bin_start": 0.4654931516404129,
            "bin_end": 0.5545776263670108,
            "count": 8
           },
           {
            "bin_start": 0.5545776263670108,
            "bin_end": 0.6436621010936086,
            "count": 16
           },
           {
            "bin_start": 0.6436621010936086,
            "bin_end": 0.7327465758202064,
            "count": 11
           },
           {
            "bin_start": 0.7327465758202064,
            "bin_end": 0.8218310505468043,
            "count": 17
           },
           {
            "bin_start": 0.8218310505468043,
            "bin_end": 0.9109155252734021,
            "count": 18
           },
           {
            "bin_start": 0.9109155252734021,
            "bin_end": 1,
            "count": 17
           }
          ]
         }
        },
        {
         "name": "271",
         "dtype": "float64",
         "stats": {
          "unique_count": 93,
          "nan_count": 0,
          "min": "0.10836250393119407",
          "max": "1.0",
          "histogram": [
           {
            "bin_start": 0.10836250393119407,
            "bin_end": 0.19752625353807465,
            "count": 2
           },
           {
            "bin_start": 0.19752625353807465,
            "bin_end": 0.28669000314495524,
            "count": 2
           },
           {
            "bin_start": 0.28669000314495524,
            "bin_end": 0.37585375275183586,
            "count": 1
           },
           {
            "bin_start": 0.37585375275183586,
            "bin_end": 0.4650175023587164,
            "count": 6
           },
           {
            "bin_start": 0.4650175023587164,
            "bin_end": 0.554181251965597,
            "count": 13
           },
           {
            "bin_start": 0.554181251965597,
            "bin_end": 0.6433450015724776,
            "count": 7
           },
           {
            "bin_start": 0.6433450015724776,
            "bin_end": 0.7325087511793582,
            "count": 15
           },
           {
            "bin_start": 0.7325087511793582,
            "bin_end": 0.8216725007862388,
            "count": 16
           },
           {
            "bin_start": 0.8216725007862388,
            "bin_end": 0.9108362503931193,
            "count": 17
           },
           {
            "bin_start": 0.9108362503931193,
            "bin_end": 1,
            "count": 14
           }
          ]
         }
        },
        {
         "name": "272",
         "dtype": "float64",
         "stats": {
          "unique_count": 93,
          "nan_count": 0,
          "min": "0.0743274281491546",
          "max": "1.0",
          "histogram": [
           {
            "bin_start": 0.0743274281491546,
            "bin_end": 0.16689468533423915,
            "count": 1
           },
           {
            "bin_start": 0.16689468533423915,
            "bin_end": 0.2594619425193237,
            "count": 1
           },
           {
            "bin_start": 0.2594619425193237,
            "bin_end": 0.35202919970440827,
            "count": 2
           },
           {
            "bin_start": 0.35202919970440827,
            "bin_end": 0.4445964568894928,
            "count": 2
           },
           {
            "bin_start": 0.4445964568894928,
            "bin_end": 0.5371637140745773,
            "count": 7
           },
           {
            "bin_start": 0.5371637140745773,
            "bin_end": 0.6297309712596619,
            "count": 10
           },
           {
            "bin_start": 0.6297309712596619,
            "bin_end": 0.7222982284447464,
            "count": 16
           },
           {
            "bin_start": 0.7222982284447464,
            "bin_end": 0.814865485629831,
            "count": 17
           },
           {
            "bin_start": 0.814865485629831,
            "bin_end": 0.9074327428149155,
            "count": 18
           },
           {
            "bin_start": 0.9074327428149155,
            "bin_end": 1,
            "count": 19
           }
          ]
         }
        },
        {
         "name": "273",
         "dtype": "float64",
         "stats": {
          "unique_count": 93,
          "nan_count": 0,
          "min": "0.1859068216698716",
          "max": "1.0",
          "histogram": [
           {
            "bin_start": 0.1859068216698716,
            "bin_end": 0.26731613950288446,
            "count": 3
           },
           {
            "bin_start": 0.26731613950288446,
            "bin_end": 0.34872545733589727,
            "count": 3
           },
           {
            "bin_start": 0.34872545733589727,
            "bin_end": 0.4301347751689101,
            "count": 3
           },
           {
            "bin_start": 0.4301347751689101,
            "bin_end": 0.5115440930019229,
            "count": 5
           },
           {
            "bin_start": 0.5115440930019229,
            "bin_end": 0.5929534108349358,
            "count": 8
           },
           {
            "bin_start": 0.5929534108349358,
            "bin_end": 0.6743627286679486,
            "count": 8
           },
           {
            "bin_start": 0.6743627286679486,
            "bin_end": 0.7557720465009614,
            "count": 11
           },
           {
            "bin_start": 0.7557720465009614,
            "bin_end": 0.8371813643339743,
            "count": 20
           },
           {
            "bin_start": 0.8371813643339743,
            "bin_end": 0.9185906821669871,
            "count": 18
           },
           {
            "bin_start": 0.9185906821669871,
            "bin_end": 1,
            "count": 14
           }
          ]
         }
        },
        {
         "name": "274",
         "dtype": "float64",
         "stats": {
          "unique_count": 93,
          "nan_count": 0,
          "min": "0.11482455437466754",
          "max": "1.0",
          "histogram": [
           {
            "bin_start": 0.11482455437466754,
            "bin_end": 0.2033420989372008,
            "count": 3
           },
           {
            "bin_start": 0.2033420989372008,
            "bin_end": 0.29185964349973403,
            "count": 5
           },
           {
            "bin_start": 0.29185964349973403,
            "bin_end": 0.3803771880622673,
            "count": 4
           },
           {
            "bin_start": 0.3803771880622673,
            "bin_end": 0.4688947326248005,
            "count": 4
           },
           {
            "bin_start": 0.4688947326248005,
            "bin_end": 0.5574122771873338,
            "count": 4
           },
           {
            "bin_start": 0.5574122771873338,
            "bin_end": 0.645929821749867,
            "count": 10
           },
           {
            "bin_start": 0.645929821749867,
            "bin_end": 0.7344473663124003,
            "count": 11
           },
           {
            "bin_start": 0.7344473663124003,
            "bin_end": 0.8229649108749335,
            "count": 20
           },
           {
            "bin_start": 0.8229649108749335,
            "bin_end": 0.9114824554374668,
            "count": 20
           },
           {
            "bin_start": 0.9114824554374668,
            "bin_end": 1,
            "count": 12
           }
          ]
         }
        },
        {
         "name": "275",
         "dtype": "float64",
         "stats": {
          "unique_count": 93,
          "nan_count": 0,
          "min": "0.1570726846472864",
          "max": "1.0",
          "histogram": [
           {
            "bin_start": 0.1570726846472864,
            "bin_end": 0.24136541618255777,
            "count": 2
           },
           {
            "bin_start": 0.24136541618255777,
            "bin_end": 0.32565814771782914,
            "count": 2
           },
           {
            "bin_start": 0.32565814771782914,
            "bin_end": 0.4099508792531005,
            "count": 2
           },
           {
            "bin_start": 0.4099508792531005,
            "bin_end": 0.49424361078837187,
            "count": 5
           },
           {
            "bin_start": 0.49424361078837187,
            "bin_end": 0.5785363423236433,
            "count": 4
           },
           {
            "bin_start": 0.5785363423236433,
            "bin_end": 0.6628290738589145,
            "count": 18
           },
           {
            "bin_start": 0.6628290738589145,
            "bin_end": 0.7471218053941859,
            "count": 12
           },
           {
            "bin_start": 0.7471218053941859,
            "bin_end": 0.8314145369294573,
            "count": 9
           },
           {
            "bin_start": 0.8314145369294573,
            "bin_end": 0.9157072684647287,
            "count": 25
           },
           {
            "bin_start": 0.9157072684647287,
            "bin_end": 1,
            "count": 14
           }
          ]
         }
        },
        {
         "name": "276",
         "dtype": "float64",
         "stats": {
          "unique_count": 93,
          "nan_count": 0,
          "min": "0.08843225392165921",
          "max": "1.0",
          "histogram": [
           {
            "bin_start": 0.08843225392165921,
            "bin_end": 0.1795890285294933,
            "count": 1
           },
           {
            "bin_start": 0.1795890285294933,
            "bin_end": 0.2707458031373274,
            "count": 2
           },
           {
            "bin_start": 0.2707458031373274,
            "bin_end": 0.36190257774516144,
            "count": 2
           },
           {
            "bin_start": 0.36190257774516144,
            "bin_end": 0.45305935235299555,
            "count": 5
           },
           {
            "bin_start": 0.45305935235299555,
            "bin_end": 0.5442161269608297,
            "count": 8
           },
           {
            "bin_start": 0.5442161269608297,
            "bin_end": 0.6353729015686637,
            "count": 11
           },
           {
            "bin_start": 0.6353729015686637,
            "bin_end": 0.7265296761764978,
            "count": 15
           },
           {
            "bin_start": 0.7265296761764978,
            "bin_end": 0.8176864507843319,
            "count": 16
           },
           {
            "bin_start": 0.8176864507843319,
            "bin_end": 0.908843225392166,
            "count": 15
           },
           {
            "bin_start": 0.908843225392166,
            "bin_end": 1,
            "count": 18
           }
          ]
         }
        },
        {
         "name": "277",
         "dtype": "float64",
         "stats": {
          "unique_count": 93,
          "nan_count": 0,
          "min": "0.1921042881465086",
          "max": "1.0",
          "histogram": [
           {
            "bin_start": 0.1921042881465086,
            "bin_end": 0.2728938593318577,
            "count": 3
           },
           {
            "bin_start": 0.2728938593318577,
            "bin_end": 0.35368343051720685,
            "count": 3
           },
           {
            "bin_start": 0.35368343051720685,
            "bin_end": 0.43447300170255604,
            "count": 3
           },
           {
            "bin_start": 0.43447300170255604,
            "bin_end": 0.5152625728879052,
            "count": 6
           },
           {
            "bin_start": 0.5152625728879052,
            "bin_end": 0.5960521440732542,
            "count": 7
           },
           {
            "bin_start": 0.5960521440732542,
            "bin_end": 0.6768417152586035,
            "count": 9
           },
           {
            "bin_start": 0.6768417152586035,
            "bin_end": 0.7576312864439526,
            "count": 11
           },
           {
            "bin_start": 0.7576312864439526,
            "bin_end": 0.8384208576293017,
            "count": 18
           },
           {
            "bin_start": 0.8384208576293017,
            "bin_end": 0.9192104288146509,
            "count": 23
           },
           {
            "bin_start": 0.9192104288146509,
            "bin_end": 1,
            "count": 10
           }
          ]
         }
        },
        {
         "name": "278",
         "dtype": "float64",
         "stats": {
          "unique_count": 93,
          "nan_count": 0,
          "min": "0.17345261053120387",
          "max": "1.0",
          "histogram": [
           {
            "bin_start": 0.17345261053120387,
            "bin_end": 0.25610734947808345,
            "count": 5
           },
           {
            "bin_start": 0.25610734947808345,
            "bin_end": 0.3387620884249631,
            "count": 4
           },
           {
            "bin_start": 0.3387620884249631,
            "bin_end": 0.4214168273718427,
            "count": 3
           },
           {
            "bin_start": 0.4214168273718427,
            "bin_end": 0.5040715663187223,
            "count": 5
           },
           {
            "bin_start": 0.5040715663187223,
            "bin_end": 0.5867263052656019,
            "count": 3
           },
           {
            "bin_start": 0.5867263052656019,
            "bin_end": 0.6693810442124815,
            "count": 12
           },
           {
            "bin_start": 0.6693810442124815,
            "bin_end": 0.7520357831593611,
            "count": 12
           },
           {
            "bin_start": 0.7520357831593611,
            "bin_end": 0.8346905221062407,
            "count": 20
           },
           {
            "bin_start": 0.8346905221062407,
            "bin_end": 0.9173452610531203,
            "count": 20
           },
           {
            "bin_start": 0.9173452610531203,
            "bin_end": 1,
            "count": 9
           }
          ]
         }
        },
        {
         "name": "279",
         "dtype": "float64",
         "stats": {
          "unique_count": 93,
          "nan_count": 0,
          "min": "0.0",
          "max": "1.0",
          "histogram": [
           {
            "bin_start": 0,
            "bin_end": 0.1,
            "count": 2
           },
           {
            "bin_start": 0.1,
            "bin_end": 0.2,
            "count": 3
           },
           {
            "bin_start": 0.2,
            "bin_end": 0.30000000000000004,
            "count": 3
           },
           {
            "bin_start": 0.30000000000000004,
            "bin_end": 0.4,
            "count": 5
           },
           {
            "bin_start": 0.4,
            "bin_end": 0.5,
            "count": 4
           },
           {
            "bin_start": 0.5,
            "bin_end": 0.6000000000000001,
            "count": 10
           },
           {
            "bin_start": 0.6000000000000001,
            "bin_end": 0.7000000000000001,
            "count": 20
           },
           {
            "bin_start": 0.7000000000000001,
            "bin_end": 0.8,
            "count": 22
           },
           {
            "bin_start": 0.8,
            "bin_end": 0.9,
            "count": 13
           },
           {
            "bin_start": 0.9,
            "bin_end": 1,
            "count": 11
           }
          ]
         }
        },
        {
         "name": "28",
         "dtype": "float64",
         "stats": {
          "unique_count": 93,
          "nan_count": 0,
          "min": "0.0",
          "max": "1.0",
          "histogram": [
           {
            "bin_start": 0,
            "bin_end": 0.1,
            "count": 2
           },
           {
            "bin_start": 0.1,
            "bin_end": 0.2,
            "count": 3
           },
           {
            "bin_start": 0.2,
            "bin_end": 0.30000000000000004,
            "count": 3
           },
           {
            "bin_start": 0.30000000000000004,
            "bin_end": 0.4,
            "count": 6
           },
           {
            "bin_start": 0.4,
            "bin_end": 0.5,
            "count": 1
           },
           {
            "bin_start": 0.5,
            "bin_end": 0.6000000000000001,
            "count": 7
           },
           {
            "bin_start": 0.6000000000000001,
            "bin_end": 0.7000000000000001,
            "count": 7
           },
           {
            "bin_start": 0.7000000000000001,
            "bin_end": 0.8,
            "count": 25
           },
           {
            "bin_start": 0.8,
            "bin_end": 0.9,
            "count": 26
           },
           {
            "bin_start": 0.9,
            "bin_end": 1,
            "count": 13
           }
          ]
         }
        },
        {
         "name": "29",
         "dtype": "float64",
         "stats": {
          "unique_count": 93,
          "nan_count": 0,
          "min": "0.0",
          "max": "1.0",
          "histogram": [
           {
            "bin_start": 0,
            "bin_end": 0.1,
            "count": 1
           },
           {
            "bin_start": 0.1,
            "bin_end": 0.2,
            "count": 4
           },
           {
            "bin_start": 0.2,
            "bin_end": 0.30000000000000004,
            "count": 2
           },
           {
            "bin_start": 0.30000000000000004,
            "bin_end": 0.4,
            "count": 5
           },
           {
            "bin_start": 0.4,
            "bin_end": 0.5,
            "count": 5
           },
           {
            "bin_start": 0.5,
            "bin_end": 0.6000000000000001,
            "count": 18
           },
           {
            "bin_start": 0.6000000000000001,
            "bin_end": 0.7000000000000001,
            "count": 18
           },
           {
            "bin_start": 0.7000000000000001,
            "bin_end": 0.8,
            "count": 14
           },
           {
            "bin_start": 0.8,
            "bin_end": 0.9,
            "count": 12
           },
           {
            "bin_start": 0.9,
            "bin_end": 1,
            "count": 14
           }
          ]
         }
        },
        {
         "name": "3",
         "dtype": "float64",
         "stats": {
          "unique_count": 93,
          "nan_count": 0,
          "min": "0.04079211285289974",
          "max": "1.0",
          "histogram": [
           {
            "bin_start": 0.04079211285289974,
            "bin_end": 0.13671290156760976,
            "count": 1
           },
           {
            "bin_start": 0.13671290156760976,
            "bin_end": 0.23263369028231978,
            "count": 2
           },
           {
            "bin_start": 0.23263369028231978,
            "bin_end": 0.32855447899702983,
            "count": 5
           },
           {
            "bin_start": 0.32855447899702983,
            "bin_end": 0.4244752677117398,
            "count": 18
           },
           {
            "bin_start": 0.4244752677117398,
            "bin_end": 0.5203960564264498,
            "count": 9
           },
           {
            "bin_start": 0.5203960564264498,
            "bin_end": 0.6163168451411599,
            "count": 10
           },
           {
            "bin_start": 0.6163168451411599,
            "bin_end": 0.7122376338558699,
            "count": 9
           },
           {
            "bin_start": 0.7122376338558699,
            "bin_end": 0.8081584225705799,
            "count": 6
           },
           {
            "bin_start": 0.8081584225705799,
            "bin_end": 0.9040792112852899,
            "count": 17
           },
           {
            "bin_start": 0.9040792112852899,
            "bin_end": 1,
            "count": 16
           }
          ]
         }
        },
        {
         "name": "30",
         "dtype": "float64",
         "stats": {
          "unique_count": 93,
          "nan_count": 0,
          "min": "0.0",
          "max": "1.0",
          "histogram": [
           {
            "bin_start": 0,
            "bin_end": 0.1,
            "count": 2
           },
           {
            "bin_start": 0.1,
            "bin_end": 0.2,
            "count": 7
           },
           {
            "bin_start": 0.2,
            "bin_end": 0.30000000000000004,
            "count": 16
           },
           {
            "bin_start": 0.30000000000000004,
            "bin_end": 0.4,
            "count": 15
           },
           {
            "bin_start": 0.4,
            "bin_end": 0.5,
            "count": 11
           },
           {
            "bin_start": 0.5,
            "bin_end": 0.6000000000000001,
            "count": 15
           },
           {
            "bin_start": 0.6000000000000001,
            "bin_end": 0.7000000000000001,
            "count": 5
           },
           {
            "bin_start": 0.7000000000000001,
            "bin_end": 0.8,
            "count": 3
           },
           {
            "bin_start": 0.8,
            "bin_end": 0.9,
            "count": 12
           },
           {
            "bin_start": 0.9,
            "bin_end": 1,
            "count": 7
           }
          ]
         }
        },
        {
         "name": "31",
         "dtype": "float64",
         "stats": {
          "unique_count": 93,
          "nan_count": 0,
          "min": "0.0",
          "max": "1.0",
          "histogram": [
           {
            "bin_start": 0,
            "bin_end": 0.1,
            "count": 2
           },
           {
            "bin_start": 0.1,
            "bin_end": 0.2,
            "count": 3
           },
           {
            "bin_start": 0.2,
            "bin_end": 0.30000000000000004,
            "count": 3
           },
           {
            "bin_start": 0.30000000000000004,
            "bin_end": 0.4,
            "count": 5
           },
           {
            "bin_start": 0.4,
            "bin_end": 0.5,
            "count": 1
           },
           {
            "bin_start": 0.5,
            "bin_end": 0.6000000000000001,
            "count": 6
           },
           {
            "bin_start": 0.6000000000000001,
            "bin_end": 0.7000000000000001,
            "count": 8
           },
           {
            "bin_start": 0.7000000000000001,
            "bin_end": 0.8,
            "count": 24
           },
           {
            "bin_start": 0.8,
            "bin_end": 0.9,
            "count": 27
           },
           {
            "bin_start": 0.9,
            "bin_end": 1,
            "count": 14
           }
          ]
         }
        },
        {
         "name": "4",
         "dtype": "float64",
         "stats": {
          "unique_count": 93,
          "nan_count": 0,
          "min": "0.10297887493150515",
          "max": "1.0",
          "histogram": [
           {
            "bin_start": 0.10297887493150515,
            "bin_end": 0.19268098743835463,
            "count": 1
           },
           {
            "bin_start": 0.19268098743835463,
            "bin_end": 0.2823830999452041,
            "count": 2
           },
           {
            "bin_start": 0.2823830999452041,
            "bin_end": 0.3720852124520536,
            "count": 1
           },
           {
            "bin_start": 0.3720852124520536,
            "bin_end": 0.46178732495890307,
            "count": 6
           },
           {
            "bin_start": 0.46178732495890307,
            "bin_end": 0.5514894374657525,
            "count": 11
           },
           {
            "bin_start": 0.5514894374657525,
            "bin_end": 0.6411915499726021,
            "count": 12
           },
           {
            "bin_start": 0.6411915499726021,
            "bin_end": 0.7308936624794515,
            "count": 13
           },
           {
            "bin_start": 0.7308936624794515,
            "bin_end": 0.820595774986301,
            "count": 15
           },
           {
            "bin_start": 0.820595774986301,
            "bin_end": 0.9102978874931504,
            "count": 15
           },
           {
            "bin_start": 0.9102978874931504,
            "bin_end": 1,
            "count": 17
           }
          ]
         }
        },
        {
         "name": "5",
         "dtype": "float64",
         "stats": {
          "unique_count": 93,
          "nan_count": 0,
          "min": "0.0",
          "max": "1.0",
          "histogram": [
           {
            "bin_start": 0,
            "bin_end": 0.1,
            "count": 2
           },
           {
            "bin_start": 0.1,
            "bin_end": 0.2,
            "count": 1
           },
           {
            "bin_start": 0.2,
            "bin_end": 0.30000000000000004,
            "count": 4
           },
           {
            "bin_start": 0.30000000000000004,
            "bin_end": 0.4,
            "count": 4
           },
           {
            "bin_start": 0.4,
            "bin_end": 0.5,
            "count": 10
           },
           {
            "bin_start": 0.5,
            "bin_end": 0.6000000000000001,
            "count": 12
           },
           {
            "bin_start": 0.6000000000000001,
            "bin_end": 0.7000000000000001,
            "count": 9
           },
           {
            "bin_start": 0.7000000000000001,
            "bin_end": 0.8,
            "count": 18
           },
           {
            "bin_start": 0.8,
            "bin_end": 0.9,
            "count": 19
           },
           {
            "bin_start": 0.9,
            "bin_end": 1,
            "count": 14
           }
          ]
         }
        },
        {
         "name": "559",
         "dtype": "float64",
         "stats": {
          "unique_count": 93,
          "nan_count": 0,
          "min": "0.1013525222167575",
          "max": "1.0",
          "histogram": [
           {
            "bin_start": 0.1013525222167575,
            "bin_end": 0.19121726999508176,
            "count": 1
           },
           {
            "bin_start": 0.19121726999508176,
            "bin_end": 0.281082017773406,
            "count": 2
           },
           {
            "bin_start": 0.281082017773406,
            "bin_end": 0.37094676555173023,
            "count": 1
           },
           {
            "bin_start": 0.37094676555173023,
            "bin_end": 0.4608115133300545,
            "count": 2
           },
           {
            "bin_start": 0.4608115133300545,
            "bin_end": 0.5506762611083788,
            "count": 4
           },
           {
            "bin_start": 0.5506762611083788,
            "bin_end": 0.640541008886703,
            "count": 13
           },
           {
            "bin_start": 0.640541008886703,
            "bin_end": 0.7304057566650273,
            "count": 20
           },
           {
            "bin_start": 0.7304057566650273,
            "bin_end": 0.8202705044433515,
            "count": 13
           },
           {
            "bin_start": 0.8202705044433515,
            "bin_end": 0.9101352522216757,
            "count": 18
           },
           {
            "bin_start": 0.9101352522216757,
            "bin_end": 1,
            "count": 19
           }
          ]
         }
        },
        {
         "name": "560",
         "dtype": "float64",
         "stats": {
          "unique_count": 93,
          "nan_count": 0,
          "min": "0.10519170962532554",
          "max": "1.0",
          "histogram": [
           {
            "bin_start": 0.10519170962532554,
            "bin_end": 0.194672538662793,
            "count": 1
           },
           {
            "bin_start": 0.194672538662793,
            "bin_end": 0.28415336770026045,
            "count": 2
           },
           {
            "bin_start": 0.28415336770026045,
            "bin_end": 0.37363419673772785,
            "count": 1
           },
           {
            "bin_start": 0.37363419673772785,
            "bin_end": 0.4631150257751953,
            "count": 5
           },
           {
            "bin_start": 0.4631150257751953,
            "bin_end": 0.5525958548126628,
            "count": 9
           },
           {
            "bin_start": 0.5525958548126628,
            "bin_end": 0.6420766838501302,
            "count": 14
           },
           {
            "bin_start": 0.6420766838501302,
            "bin_end": 0.7315575128875976,
            "count": 11
           },
           {
            "bin_start": 0.7315575128875976,
            "bin_end": 0.8210383419250651,
            "count": 20
           },
           {
            "bin_start": 0.8210383419250651,
            "bin_end": 0.9105191709625325,
            "count": 13
           },
           {
            "bin_start": 0.9105191709625325,
            "bin_end": 1,
            "count": 17
           }
          ]
         }
        },
        {
         "name": "561",
         "dtype": "float64",
         "stats": {
          "unique_count": 93,
          "nan_count": 0,
          "min": "0.022821992815540204",
          "max": "1.0",
          "histogram": [
           {
            "bin_start": 0.022821992815540204,
            "bin_end": 0.12053979353398618,
            "count": 3
           },
           {
            "bin_start": 0.12053979353398618,
            "bin_end": 0.21825759425243216,
            "count": 5
           },
           {
            "bin_start": 0.21825759425243216,
            "bin_end": 0.3159753949708781,
            "count": 4
           },
           {
            "bin_start": 0.3159753949708781,
            "bin_end": 0.4136931956893241,
            "count": 3
           },
           {
            "bin_start": 0.4136931956893241,
            "bin_end": 0.5114109964077701,
            "count": 7
           },
           {
            "bin_start": 0.5114109964077701,
            "bin_end": 0.609128797126216,
            "count": 10
           },
           {
            "bin_start": 0.609128797126216,
            "bin_end": 0.7068465978446621,
            "count": 11
           },
           {
            "bin_start": 0.7068465978446621,
            "bin_end": 0.804564398563108,
            "count": 16
           },
           {
            "bin_start": 0.804564398563108,
            "bin_end": 0.902282199281554,
            "count": 24
           },
           {
            "bin_start": 0.902282199281554,
            "bin_end": 1,
            "count": 10
           }
          ]
         }
        },
        {
         "name": "562",
         "dtype": "float64",
         "stats": {
          "unique_count": 75,
          "nan_count": 0,
          "min": "0.0",
          "max": "1.0",
          "histogram": [
           {
            "bin_start": 0,
            "bin_end": 0.1,
            "count": 21
           },
           {
            "bin_start": 0.1,
            "bin_end": 0.2,
            "count": 8
           },
           {
            "bin_start": 0.2,
            "bin_end": 0.30000000000000004,
            "count": 7
           },
           {
            "bin_start": 0.30000000000000004,
            "bin_end": 0.4,
            "count": 12
           },
           {
            "bin_start": 0.4,
            "bin_end": 0.5,
            "count": 4
           },
           {
            "bin_start": 0.5,
            "bin_end": 0.6000000000000001,
            "count": 3
           },
           {
            "bin_start": 0.6000000000000001,
            "bin_end": 0.7000000000000001,
            "count": 12
           },
           {
            "bin_start": 0.7000000000000001,
            "bin_end": 0.8,
            "count": 6
           },
           {
            "bin_start": 0.8,
            "bin_end": 0.9,
            "count": 5
           },
           {
            "bin_start": 0.9,
            "bin_end": 1,
            "count": 15
           }
          ]
         }
        },
        {
         "name": "563",
         "dtype": "float64",
         "stats": {
          "unique_count": 93,
          "nan_count": 0,
          "min": "0.0",
          "max": "1.0",
          "histogram": [
           {
            "bin_start": 0,
            "bin_end": 0.1,
            "count": 2
           },
           {
            "bin_start": 0.1,
            "bin_end": 0.2,
            "count": 21
           },
           {
            "bin_start": 0.2,
            "bin_end": 0.30000000000000004,
            "count": 10
           },
           {
            "bin_start": 0.30000000000000004,
            "bin_end": 0.4,
            "count": 7
           },
           {
            "bin_start": 0.4,
            "bin_end": 0.5,
            "count": 10
           },
           {
            "bin_start": 0.5,
            "bin_end": 0.6000000000000001,
            "count": 5
           },
           {
            "bin_start": 0.6000000000000001,
            "bin_end": 0.7000000000000001,
            "count": 9
           },
           {
            "bin_start": 0.7000000000000001,
            "bin_end": 0.8,
            "count": 10
           },
           {
            "bin_start": 0.8,
            "bin_end": 0.9,
            "count": 4
           },
           {
            "bin_start": 0.9,
            "bin_end": 1,
            "count": 15
           }
          ]
         }
        },
        {
         "name": "564",
         "dtype": "float64",
         "stats": {
          "unique_count": 93,
          "nan_count": 0,
          "min": "0.0",
          "max": "1.0",
          "histogram": [
           {
            "bin_start": 0,
            "bin_end": 0.1,
            "count": 15
           },
           {
            "bin_start": 0.1,
            "bin_end": 0.2,
            "count": 15
           },
           {
            "bin_start": 0.2,
            "bin_end": 0.30000000000000004,
            "count": 7
           },
           {
            "bin_start": 0.30000000000000004,
            "bin_end": 0.4,
            "count": 7
           },
           {
            "bin_start": 0.4,
            "bin_end": 0.5,
            "count": 8
           },
           {
            "bin_start": 0.5,
            "bin_end": 0.6000000000000001,
            "count": 6
           },
           {
            "bin_start": 0.6000000000000001,
            "bin_end": 0.7000000000000001,
            "count": 14
           },
           {
            "bin_start": 0.7000000000000001,
            "bin_end": 0.8,
            "count": 2
           },
           {
            "bin_start": 0.8,
            "bin_end": 0.9,
            "count": 9
           },
           {
            "bin_start": 0.9,
            "bin_end": 1,
            "count": 10
           }
          ]
         }
        },
        {
         "name": "565",
         "dtype": "float64",
         "stats": {
          "unique_count": 93,
          "nan_count": 0,
          "min": "0.0",
          "max": "1.0",
          "histogram": [
           {
            "bin_start": 0,
            "bin_end": 0.1,
            "count": 2
           },
           {
            "bin_start": 0.1,
            "bin_end": 0.2,
            "count": 1
           },
           {
            "bin_start": 0.2,
            "bin_end": 0.30000000000000004,
            "count": 0
           },
           {
            "bin_start": 0.30000000000000004,
            "bin_end": 0.4,
            "count": 6
           },
           {
            "bin_start": 0.4,
            "bin_end": 0.5,
            "count": 11
           },
           {
            "bin_start": 0.5,
            "bin_end": 0.6000000000000001,
            "count": 11
           },
           {
            "bin_start": 0.6000000000000001,
            "bin_end": 0.7000000000000001,
            "count": 16
           },
           {
            "bin_start": 0.7000000000000001,
            "bin_end": 0.8,
            "count": 12
           },
           {
            "bin_start": 0.8,
            "bin_end": 0.9,
            "count": 19
           },
           {
            "bin_start": 0.9,
            "bin_end": 1,
            "count": 15
           }
          ]
         }
        },
        {
         "name": "566",
         "dtype": "float64",
         "stats": {
          "unique_count": 93,
          "nan_count": 0,
          "min": "0.022526622810581487",
          "max": "1.0",
          "histogram": [
           {
            "bin_start": 0.022526622810581487,
            "bin_end": 0.12027396052952334,
            "count": 1
           },
           {
            "bin_start": 0.12027396052952334,
            "bin_end": 0.2180212982484652,
            "count": 1
           },
           {
            "bin_start": 0.2180212982484652,
            "bin_end": 0.31576863596740706,
            "count": 13
           },
           {
            "bin_start": 0.31576863596740706,
            "bin_end": 0.4135159736863489,
            "count": 14
           },
           {
            "bin_start": 0.4135159736863489,
            "bin_end": 0.5112633114052907,
            "count": 10
           },
           {
            "bin_start": 0.5112633114052907,
            "bin_end": 0.6090106491242326,
            "count": 10
           },
           {
            "bin_start": 0.6090106491242326,
            "bin_end": 0.7067579868431745,
            "count": 7
           },
           {
            "bin_start": 0.7067579868431745,
            "bin_end": 0.8045053245621163,
            "count": 6
           },
           {
            "bin_start": 0.8045053245621163,
            "bin_end": 0.9022526622810582,
            "count": 14
           },
           {
            "bin_start": 0.9022526622810582,
            "bin_end": 1,
            "count": 17
           }
          ]
         }
        },
        {
         "name": "567",
         "dtype": "float64",
         "stats": {
          "unique_count": 93,
          "nan_count": 0,
          "min": "0.027138232960490227",
          "max": "1.0",
          "histogram": [
           {
            "bin_start": 0.027138232960490227,
            "bin_end": 0.12442440966444121,
            "count": 1
           },
           {
            "bin_start": 0.12442440966444121,
            "bin_end": 0.2217105863683922,
            "count": 2
           },
           {
            "bin_start": 0.2217105863683922,
            "bin_end": 0.31899676307234315,
            "count": 6
           },
           {
            "bin_start": 0.31899676307234315,
            "bin_end": 0.41628293977629416,
            "count": 18
           },
           {
            "bin_start": 0.41628293977629416,
            "bin_end": 0.5135691164802452,
            "count": 11
           },
           {
            "bin_start": 0.5135691164802452,
            "bin_end": 0.6108552931841961,
            "count": 9
           },
           {
            "bin_start": 0.6108552931841961,
            "bin_end": 0.7081414698881471,
            "count": 8
           },
           {
            "bin_start": 0.7081414698881471,
            "bin_end": 0.8054276465920981,
            "count": 5
           },
           {
            "bin_start": 0.8054276465920981,
            "bin_end": 0.9027138232960491,
            "count": 18
           },
           {
            "bin_start": 0.9027138232960491,
            "bin_end": 1,
            "count": 15
           }
          ]
         }
        },
        {
         "name": "568",
         "dtype": "float64",
         "stats": {
          "unique_count": 93,
          "nan_count": 0,
          "min": "0.02162811613330795",
          "max": "1.0",
          "histogram": [
           {
            "bin_start": 0.02162811613330795,
            "bin_end": 0.11946530451997715,
            "count": 1
           },
           {
            "bin_start": 0.11946530451997715,
            "bin_end": 0.21730249290664636,
            "count": 1
           },
           {
            "bin_start": 0.21730249290664636,
            "bin_end": 0.31513968129331554,
            "count": 7
           },
           {
            "bin_start": 0.31513968129331554,
            "bin_end": 0.41297686967998476,
            "count": 18
           },
           {
            "bin_start": 0.41297686967998476,
            "bin_end": 0.510814058066654,
            "count": 11
           },
           {
            "bin_start": 0.510814058066654,
            "bin_end": 0.6086512464533231,
            "count": 9
           },
           {
            "bin_start": 0.6086512464533231,
            "bin_end": 0.7064884348399924,
            "count": 8
           },
           {
            "bin_start": 0.7064884348399924,
            "bin_end": 0.8043256232266616,
            "count": 5
           },
           {
            "bin_start": 0.8043256232266616,
            "bin_end": 0.9021628116133308,
            "count": 17
           },
           {
            "bin_start": 0.9021628116133308,
            "bin_end": 1,
            "count": 16
           }
          ]
         }
        },
        {
         "name": "569",
         "dtype": "float64",
         "stats": {
          "unique_count": 93,
          "nan_count": 0,
          "min": "0.0",
          "max": "1.0",
          "histogram": [
           {
            "bin_start": 0,
            "bin_end": 0.1,
            "count": 2
           },
           {
            "bin_start": 0.1,
            "bin_end": 0.2,
            "count": 1
           },
           {
            "bin_start": 0.2,
            "bin_end": 0.30000000000000004,
            "count": 1
           },
           {
            "bin_start": 0.30000000000000004,
            "bin_end": 0.4,
            "count": 3
           },
           {
            "bin_start": 0.4,
            "bin_end": 0.5,
            "count": 11
           },
           {
            "bin_start": 0.5,
            "bin_end": 0.6000000000000001,
            "count": 11
           },
           {
            "bin_start": 0.6000000000000001,
            "bin_end": 0.7000000000000001,
            "count": 15
           },
           {
            "bin_start": 0.7000000000000001,
            "bin_end": 0.8,
            "count": 10
           },
           {
            "bin_start": 0.8,
            "bin_end": 0.9,
            "count": 25
           },
           {
            "bin_start": 0.9,
            "bin_end": 1,
            "count": 14
           }
          ]
         }
        },
        {
         "name": "570",
         "dtype": "float64",
         "stats": {
          "unique_count": 93,
          "nan_count": 0,
          "min": "0.012353912430822178",
          "max": "1.0",
          "histogram": [
           {
            "bin_start": 0.012353912430822178,
            "bin_end": 0.11111852118773996,
            "count": 1
           },
           {
            "bin_start": 0.11111852118773996,
            "bin_end": 0.20988312994465774,
            "count": 1
           },
           {
            "bin_start": 0.20988312994465774,
            "bin_end": 0.3086477387015755,
            "count": 12
           },
           {
            "bin_start": 0.3086477387015755,
            "bin_end": 0.4074123474584933,
            "count": 5
           },
           {
            "bin_start": 0.4074123474584933,
            "bin_end": 0.506176956215411,
            "count": 11
           },
           {
            "bin_start": 0.506176956215411,
            "bin_end": 0.6049415649723289,
            "count": 19
           },
           {
            "bin_start": 0.6049415649723289,
            "bin_end": 0.7037061737292466,
            "count": 6
           },
           {
            "bin_start": 0.7037061737292466,
            "bin_end": 0.8024707824861644,
            "count": 7
           },
           {
            "bin_start": 0.8024707824861644,
            "bin_end": 0.9012353912430823,
            "count": 14
           },
           {
            "bin_start": 0.9012353912430823,
            "bin_end": 1,
            "count": 17
           }
          ]
         }
        },
        {
         "name": "571",
         "dtype": "float64",
         "stats": {
          "unique_count": 93,
          "nan_count": 0,
          "min": "0.1697661658934826",
          "max": "1.0",
          "histogram": [
           {
            "bin_start": 0.1697661658934826,
            "bin_end": 0.25278954930413433,
            "count": 2
           },
           {
            "bin_start": 0.25278954930413433,
            "bin_end": 0.33581293271478607,
            "count": 1
           },
           {
            "bin_start": 0.33581293271478607,
            "bin_end": 0.4188363161254378,
            "count": 1
           },
           {
            "bin_start": 0.4188363161254378,
            "bin_end": 0.5018596995360896,
            "count": 3
           },
           {
            "bin_start": 0.5018596995360896,
            "bin_end": 0.5848830829467413,
            "count": 7
           },
           {
            "bin_start": 0.5848830829467413,
            "bin_end": 0.667906466357393,
            "count": 11
           },
           {
            "bin_start": 0.667906466357393,
            "bin_end": 0.7509298497680448,
            "count": 19
           },
           {
            "bin_start": 0.7509298497680448,
            "bin_end": 0.8339532331786965,
            "count": 12
           },
           {
            "bin_start": 0.8339532331786965,
            "bin_end": 0.9169766165893483,
            "count": 24
           },
           {
            "bin_start": 0.9169766165893483,
            "bin_end": 1,
            "count": 13
           }
          ]
         }
        },
        {
         "name": "572",
         "dtype": "float64",
         "stats": {
          "unique_count": 93,
          "nan_count": 0,
          "min": "0.0005727686478029792",
          "max": "1.0",
          "histogram": [
           {
            "bin_start": 0.0005727686478029792,
            "bin_end": 0.10051549178302269,
            "count": 1
           },
           {
            "bin_start": 0.10051549178302269,
            "bin_end": 0.2004582149182424,
            "count": 2
           },
           {
            "bin_start": 0.2004582149182424,
            "bin_end": 0.30040093805346213,
            "count": 24
           },
           {
            "bin_start": 0.30040093805346213,
            "bin_end": 0.4003436611886818,
            "count": 7
           },
           {
            "bin_start": 0.4003436611886818,
            "bin_end": 0.5002863843239015,
            "count": 11
           },
           {
            "bin_start": 0.5002863843239015,
            "bin_end": 0.6002291074591213,
            "count": 10
           },
           {
            "bin_start": 0.6002291074591213,
            "bin_end": 0.700171830594341,
            "count": 4
           },
           {
            "bin_start": 0.700171830594341,
            "bin_end": 0.8001145537295606,
            "count": 13
           },
           {
            "bin_start": 0.8001145537295606,
            "bin_end": 0.9000572768647803,
            "count": 3
           },
           {
            "bin_start": 0.9000572768647803,
            "bin_end": 1,
            "count": 18
           }
          ]
         }
        },
        {
         "name": "573",
         "dtype": "float64",
         "stats": {
          "unique_count": 93,
          "nan_count": 0,
          "min": "0.00016977114112071146",
          "max": "1.0",
          "histogram": [
           {
            "bin_start": 0.00016977114112071146,
            "bin_end": 0.10015279402700863,
            "count": 2
           },
           {
            "bin_start": 0.10015279402700863,
            "bin_end": 0.20013581691289656,
            "count": 21
           },
           {
            "bin_start": 0.20013581691289656,
            "bin_end": 0.3001188397987845,
            "count": 10
           },
           {
            "bin_start": 0.3001188397987845,
            "bin_end": 0.4001018626846724,
            "count": 9
           },
           {
            "bin_start": 0.4001018626846724,
            "bin_end": 0.5000848855705603,
            "count": 12
           },
           {
            "bin_start": 0.5000848855705603,
            "bin_end": 0.6000679084564483,
            "count": 3
           },
           {
            "bin_start": 0.6000679084564483,
            "bin_end": 0.7000509313423362,
            "count": 8
           },
           {
            "bin_start": 0.7000509313423362,
            "bin_end": 0.8000339542282241,
            "count": 9
           },
           {
            "bin_start": 0.8000339542282241,
            "bin_end": 0.900016977114112,
            "count": 6
           },
           {
            "bin_start": 0.900016977114112,
            "bin_end": 1,
            "count": 13
           }
          ]
         }
        },
        {
         "name": "574",
         "dtype": "float64",
         "stats": {
          "unique_count": 93,
          "nan_count": 0,
          "min": "0.016112596357882203",
          "max": "1.0",
          "histogram": [
           {
            "bin_start": 0.016112596357882203,
            "bin_end": 0.11450133672209398,
            "count": 1
           },
           {
            "bin_start": 0.11450133672209398,
            "bin_end": 0.21289007708630575,
            "count": 1
           },
           {
            "bin_start": 0.21289007708630575,
            "bin_end": 0.31127881745051755,
            "count": 24
           },
           {
            "bin_start": 0.31127881745051755,
            "bin_end": 0.4096675578147293,
            "count": 7
           },
           {
            "bin_start": 0.4096675578147293,
            "bin_end": 0.508056298178941,
            "count": 13
           },
           {
            "bin_start": 0.508056298178941,
            "bin_end": 0.6064450385431529,
            "count": 9
           },
           {
            "bin_start": 0.6064450385431529,
            "bin_end": 0.7048337789073646,
            "count": 2
           },
           {
            "bin_start": 0.7048337789073646,
            "bin_end": 0.8032225192715764,
            "count": 11
           },
           {
            "bin_start": 0.8032225192715764,
            "bin_end": 0.9016112596357881,
            "count": 9
           },
           {
            "bin_start": 0.9016112596357881,
            "bin_end": 1,
            "count": 16
           }
          ]
         }
        },
        {
         "name": "575",
         "dtype": "float64",
         "stats": {
          "unique_count": 93,
          "nan_count": 0,
          "min": "0.0",
          "max": "1.0",
          "histogram": [
           {
            "bin_start": 0,
            "bin_end": 0.1,
            "count": 7
           },
           {
            "bin_start": 0.1,
            "bin_end": 0.2,
            "count": 21
           },
           {
            "bin_start": 0.2,
            "bin_end": 0.30000000000000004,
            "count": 6
           },
           {
            "bin_start": 0.30000000000000004,
            "bin_end": 0.4,
            "count": 9
           },
           {
            "bin_start": 0.4,
            "bin_end": 0.5,
            "count": 10
           },
           {
            "bin_start": 0.5,
            "bin_end": 0.6000000000000001,
            "count": 6
           },
           {
            "bin_start": 0.6000000000000001,
            "bin_end": 0.7000000000000001,
            "count": 9
           },
           {
            "bin_start": 0.7000000000000001,
            "bin_end": 0.8,
            "count": 6
           },
           {
            "bin_start": 0.8,
            "bin_end": 0.9,
            "count": 7
           },
           {
            "bin_start": 0.9,
            "bin_end": 1,
            "count": 12
           }
          ]
         }
        },
        {
         "name": "576",
         "dtype": "float64",
         "stats": {
          "unique_count": 93,
          "nan_count": 0,
          "min": "0.17389815808093523",
          "max": "1.0",
          "histogram": [
           {
            "bin_start": 0.17389815808093523,
            "bin_end": 0.2565083422728417,
            "count": 3
           },
           {
            "bin_start": 0.2565083422728417,
            "bin_end": 0.33911852646474816,
            "count": 0
           },
           {
            "bin_start": 0.33911852646474816,
            "bin_end": 0.4217287106566547,
            "count": 0
           },
           {
            "bin_start": 0.4217287106566547,
            "bin_end": 0.5043388948485612,
            "count": 3
           },
           {
            "bin_start": 0.5043388948485612,
            "bin_end": 0.5869490790404677,
            "count": 7
           },
           {
            "bin_start": 0.5869490790404677,
            "bin_end": 0.6695592632323741,
            "count": 10
           },
           {
            "bin_start": 0.6695592632323741,
            "bin_end": 0.7521694474242806,
            "count": 20
           },
           {
            "bin_start": 0.7521694474242806,
            "bin_end": 0.8347796316161871,
            "count": 18
           },
           {
            "bin_start": 0.8347796316161871,
            "bin_end": 0.9173898158080935,
            "count": 23
           },
           {
            "bin_start": 0.9173898158080935,
            "bin_end": 1,
            "count": 9
           }
          ]
         }
        },
        {
         "name": "577",
         "dtype": "float64",
         "stats": {
          "unique_count": 93,
          "nan_count": 0,
          "min": "0.007811437138008248",
          "max": "1.0",
          "histogram": [
           {
            "bin_start": 0.007811437138008248,
            "bin_end": 0.10703029342420742,
            "count": 1
           },
           {
            "bin_start": 0.10703029342420742,
            "bin_end": 0.2062491497104066,
            "count": 1
           },
           {
            "bin_start": 0.2062491497104066,
            "bin_end": 0.30546800599660573,
            "count": 12
           },
           {
            "bin_start": 0.30546800599660573,
            "bin_end": 0.4046868622828049,
            "count": 6
           },
           {
            "bin_start": 0.4046868622828049,
            "bin_end": 0.5039057185690041,
            "count": 15
           },
           {
            "bin_start": 0.5039057185690041,
            "bin_end": 0.6031245748552032,
            "count": 18
           },
           {
            "bin_start": 0.6031245748552032,
            "bin_end": 0.7023434311414024,
            "count": 4
           },
           {
            "bin_start": 0.7023434311414024,
            "bin_end": 0.8015622874276016,
            "count": 9
           },
           {
            "bin_start": 0.8015622874276016,
            "bin_end": 0.9007811437138008,
            "count": 9
           },
           {
            "bin_start": 0.9007811437138008,
            "bin_end": 1,
            "count": 18
           }
          ]
         }
        },
        {
         "name": "578",
         "dtype": "float64",
         "stats": {
          "unique_count": 93,
          "nan_count": 0,
          "min": "0.23951513028684346",
          "max": "1.0",
          "histogram": [
           {
            "bin_start": 0.23951513028684346,
            "bin_end": 0.3155636172581591,
            "count": 2
           },
           {
            "bin_start": 0.3155636172581591,
            "bin_end": 0.3916121042294748,
            "count": 6
           },
           {
            "bin_start": 0.3916121042294748,
            "bin_end": 0.4676605912007904,
            "count": 32
           },
           {
            "bin_start": 0.4676605912007904,
            "bin_end": 0.5437090781721061,
            "count": 20
           },
           {
            "bin_start": 0.5437090781721061,
            "bin_end": 0.6197575651434217,
            "count": 2
           },
           {
            "bin_start": 0.6197575651434217,
            "bin_end": 0.6958060521147373,
            "count": 3
           },
           {
            "bin_start": 0.6958060521147373,
            "bin_end": 0.7718545390860531,
            "count": 8
           },
           {
            "bin_start": 0.7718545390860531,
            "bin_end": 0.8479030260573687,
            "count": 2
           },
           {
            "bin_start": 0.8479030260573687,
            "bin_end": 0.9239515130286843,
            "count": 10
           },
           {
            "bin_start": 0.9239515130286843,
            "bin_end": 1,
            "count": 8
           }
          ]
         }
        },
        {
         "name": "579",
         "dtype": "float64",
         "stats": {
          "unique_count": 89,
          "nan_count": 0,
          "min": "0.0",
          "max": "1.0",
          "histogram": [
           {
            "bin_start": 0,
            "bin_end": 0.1,
            "count": 23
           },
           {
            "bin_start": 0.1,
            "bin_end": 0.2,
            "count": 21
           },
           {
            "bin_start": 0.2,
            "bin_end": 0.30000000000000004,
            "count": 10
           },
           {
            "bin_start": 0.30000000000000004,
            "bin_end": 0.4,
            "count": 7
           },
           {
            "bin_start": 0.4,
            "bin_end": 0.5,
            "count": 2
           },
           {
            "bin_start": 0.5,
            "bin_end": 0.6000000000000001,
            "count": 4
           },
           {
            "bin_start": 0.6000000000000001,
            "bin_end": 0.7000000000000001,
            "count": 4
           },
           {
            "bin_start": 0.7000000000000001,
            "bin_end": 0.8,
            "count": 4
           },
           {
            "bin_start": 0.8,
            "bin_end": 0.9,
            "count": 11
           },
           {
            "bin_start": 0.9,
            "bin_end": 1,
            "count": 7
           }
          ]
         }
        },
        {
         "name": "580",
         "dtype": "float64",
         "stats": {
          "unique_count": 93,
          "nan_count": 0,
          "min": "0.3221960605780385",
          "max": "1.0",
          "histogram": [
           {
            "bin_start": 0.3221960605780385,
            "bin_end": 0.38997645452023466,
            "count": 2
           },
           {
            "bin_start": 0.38997645452023466,
            "bin_end": 0.4577568484624308,
            "count": 0
           },
           {
            "bin_start": 0.4577568484624308,
            "bin_end": 0.525537242404627,
            "count": 3
           },
           {
            "bin_start": 0.525537242404627,
            "bin_end": 0.5933176363468231,
            "count": 9
           },
           {
            "bin_start": 0.5933176363468231,
            "bin_end": 0.6610980302890193,
            "count": 10
           },
           {
            "bin_start": 0.6610980302890193,
            "bin_end": 0.7288784242312154,
            "count": 18
           },
           {
            "bin_start": 0.7288784242312154,
            "bin_end": 0.7966588181734116,
            "count": 17
           },
           {
            "bin_start": 0.7966588181734116,
            "bin_end": 0.8644392121156077,
            "count": 16
           },
           {
            "bin_start": 0.8644392121156077,
            "bin_end": 0.9322196060578039,
            "count": 15
           },
           {
            "bin_start": 0.9322196060578039,
            "bin_end": 1,
            "count": 3
           }
          ]
         }
        },
        {
         "name": "581",
         "dtype": "float64",
         "stats": {
          "unique_count": 93,
          "nan_count": 0,
          "min": "0.3094947397390512",
          "max": "1.0",
          "histogram": [
           {
            "bin_start": 0.3094947397390512,
            "bin_end": 0.378545265765146,
            "count": 2
           },
           {
            "bin_start": 0.378545265765146,
            "bin_end": 0.4475957917912409,
            "count": 6
           },
           {
            "bin_start": 0.4475957917912409,
            "bin_end": 0.5166463178173358,
            "count": 23
           },
           {
            "bin_start": 0.5166463178173358,
            "bin_end": 0.5856968438434307,
            "count": 16
           },
           {
            "bin_start": 0.5856968438434307,
            "bin_end": 0.6547473698695255,
            "count": 12
           },
           {
            "bin_start": 0.6547473698695255,
            "bin_end": 0.7237978958956204,
            "count": 6
           },
           {
            "bin_start": 0.7237978958956204,
            "bin_end": 0.7928484219217153,
            "count": 5
           },
           {
            "bin_start": 0.7928484219217153,
            "bin_end": 0.8618989479478102,
            "count": 8
           },
           {
            "bin_start": 0.8618989479478102,
            "bin_end": 0.930949473973905,
            "count": 5
           },
           {
            "bin_start": 0.930949473973905,
            "bin_end": 1,
            "count": 10
           }
          ]
         }
        },
        {
         "name": "582",
         "dtype": "float64",
         "stats": {
          "unique_count": 85,
          "nan_count": 0,
          "min": "0.0",
          "max": "1.0",
          "histogram": [
           {
            "bin_start": 0,
            "bin_end": 0.1,
            "count": 11
           },
           {
            "bin_start": 0.1,
            "bin_end": 0.2,
            "count": 17
           },
           {
            "bin_start": 0.2,
            "bin_end": 0.30000000000000004,
            "count": 32
           },
           {
            "bin_start": 0.30000000000000004,
            "bin_end": 0.4,
            "count": 7
           },
           {
            "bin_start": 0.4,
            "bin_end": 0.5,
            "count": 5
           },
           {
            "bin_start": 0.5,
            "bin_end": 0.6000000000000001,
            "count": 0
           },
           {
            "bin_start": 0.6000000000000001,
            "bin_end": 0.7000000000000001,
            "count": 5
           },
           {
            "bin_start": 0.7000000000000001,
            "bin_end": 0.8,
            "count": 8
           },
           {
            "bin_start": 0.8,
            "bin_end": 0.9,
            "count": 2
           },
           {
            "bin_start": 0.9,
            "bin_end": 1,
            "count": 6
           }
          ]
         }
        },
        {
         "name": "583",
         "dtype": "float64",
         "stats": {
          "unique_count": 93,
          "nan_count": 0,
          "min": "0.3243260486120664",
          "max": "1.0",
          "histogram": [
           {
            "bin_start": 0.3243260486120664,
            "bin_end": 0.39189344375085977,
            "count": 2
           },
           {
            "bin_start": 0.39189344375085977,
            "bin_end": 0.4594608388896531,
            "count": 7
           },
           {
            "bin_start": 0.4594608388896531,
            "bin_end": 0.5270282340284465,
            "count": 18
           },
           {
            "bin_start": 0.5270282340284465,
            "bin_end": 0.5945956291672398,
            "count": 18
           },
           {
            "bin_start": 0.5945956291672398,
            "bin_end": 0.6621630243060332,
            "count": 14
           },
           {
            "bin_start": 0.6621630243060332,
            "bin_end": 0.7297304194448266,
            "count": 4
           },
           {
            "bin_start": 0.7297304194448266,
            "bin_end": 0.7972978145836199,
            "count": 6
           },
           {
            "bin_start": 0.7972978145836199,
            "bin_end": 0.8648652097224133,
            "count": 8
           },
           {
            "bin_start": 0.8648652097224133,
            "bin_end": 0.9324326048612067,
            "count": 8
           },
           {
            "bin_start": 0.9324326048612067,
            "bin_end": 1,
            "count": 8
           }
          ]
         }
        },
        {
         "name": "584",
         "dtype": "float64",
         "stats": {
          "unique_count": 93,
          "nan_count": 0,
          "min": "0.05972303881709762",
          "max": "1.0",
          "histogram": [
           {
            "bin_start": 0.05972303881709762,
            "bin_end": 0.15375073493538785,
            "count": 10
           },
           {
            "bin_start": 0.15375073493538785,
            "bin_end": 0.24777843105367808,
            "count": 15
           },
           {
            "bin_start": 0.24777843105367808,
            "bin_end": 0.34180612717196834,
            "count": 35
           },
           {
            "bin_start": 0.34180612717196834,
            "bin_end": 0.43583382329025855,
            "count": 6
           },
           {
            "bin_start": 0.43583382329025855,
            "bin_end": 0.5298615194085488,
            "count": 6
           },
           {
            "bin_start": 0.5298615194085488,
            "bin_end": 0.6238892155268391,
            "count": 0
           },
           {
            "bin_start": 0.6238892155268391,
            "bin_end": 0.7179169116451293,
            "count": 5
           },
           {
            "bin_start": 0.7179169116451293,
            "bin_end": 0.8119446077634195,
            "count": 6
           },
           {
            "bin_start": 0.8119446077634195,
            "bin_end": 0.9059723038817097,
            "count": 4
           },
           {
            "bin_start": 0.9059723038817097,
            "bin_end": 1,
            "count": 6
           }
          ]
         }
        },
        {
         "name": "585",
         "dtype": "float64",
         "stats": {
          "unique_count": 93,
          "nan_count": 0,
          "min": "0.351680656500581",
          "max": "1.0",
          "histogram": [
           {
            "bin_start": 0.351680656500581,
            "bin_end": 0.4165125908505229,
            "count": 2
           },
           {
            "bin_start": 0.4165125908505229,
            "bin_end": 0.4813445252004648,
            "count": 3
           },
           {
            "bin_start": 0.4813445252004648,
            "bin_end": 0.5461764595504067,
            "count": 14
           },
           {
            "bin_start": 0.5461764595504067,
            "bin_end": 0.6110083939003486,
            "count": 14
           },
           {
            "bin_start": 0.6110083939003486,
            "bin_end": 0.6758403282502905,
            "count": 11
           },
           {
            "bin_start": 0.6758403282502905,
            "bin_end": 0.7406722626002324,
            "count": 15
           },
           {
            "bin_start": 0.7406722626002324,
            "bin_end": 0.8055041969501744,
            "count": 6
           },
           {
            "bin_start": 0.8055041969501744,
            "bin_end": 0.8703361313001162,
            "count": 11
           },
           {
            "bin_start": 0.8703361313001162,
            "bin_end": 0.9351680656500582,
            "count": 9
           },
           {
            "bin_start": 0.9351680656500582,
            "bin_end": 1,
            "count": 8
           }
          ]
         }
        },
        {
         "name": "586",
         "dtype": "float64",
         "stats": {
          "unique_count": 93,
          "nan_count": 0,
          "min": "0.365661316754025",
          "max": "1.0",
          "histogram": [
           {
            "bin_start": 0.365661316754025,
            "bin_end": 0.42909518507862254,
            "count": 2
           },
           {
            "bin_start": 0.42909518507862254,
            "bin_end": 0.49252905340322,
            "count": 8
           },
           {
            "bin_start": 0.49252905340322,
            "bin_end": 0.5559629217278175,
            "count": 13
           },
           {
            "bin_start": 0.5559629217278175,
            "bin_end": 0.619396790052415,
            "count": 18
           },
           {
            "bin_start": 0.619396790052415,
            "bin_end": 0.6828306583770125,
            "count": 10
           },
           {
            "bin_start": 0.6828306583770125,
            "bin_end": 0.7462645267016099,
            "count": 10
           },
           {
            "bin_start": 0.7462645267016099,
            "bin_end": 0.8096983950262074,
            "count": 8
           },
           {
            "bin_start": 0.8096983950262074,
            "bin_end": 0.873132263350805,
            "count": 8
           },
           {
            "bin_start": 0.873132263350805,
            "bin_end": 0.9365661316754025,
            "count": 9
           },
           {
            "bin_start": 0.9365661316754025,
            "bin_end": 1,
            "count": 7
           }
          ]
         }
        },
        {
         "name": "587",
         "dtype": "float64",
         "stats": {
          "unique_count": 93,
          "nan_count": 0,
          "min": "0.3153742228449192",
          "max": "1.0",
          "histogram": [
           {
            "bin_start": 0.3153742228449192,
            "bin_end": 0.3838368005604273,
            "count": 2
           },
           {
            "bin_start": 0.3838368005604273,
            "bin_end": 0.45229937827593536,
            "count": 8
           },
           {
            "bin_start": 0.45229937827593536,
            "bin_end": 0.5207619559914435,
            "count": 22
           },
           {
            "bin_start": 0.5207619559914435,
            "bin_end": 0.5892245337069515,
            "count": 15
           },
           {
            "bin_start": 0.5892245337069515,
            "bin_end": 0.6576871114224596,
            "count": 12
           },
           {
            "bin_start": 0.6576871114224596,
            "bin_end": 0.7261496891379677,
            "count": 5
           },
           {
            "bin_start": 0.7261496891379677,
            "bin_end": 0.7946122668534759,
            "count": 6
           },
           {
            "bin_start": 0.7946122668534759,
            "bin_end": 0.8630748445689839,
            "count": 8
           },
           {
            "bin_start": 0.8630748445689839,
            "bin_end": 0.931537422284492,
            "count": 8
           },
           {
            "bin_start": 0.931537422284492,
            "bin_end": 1,
            "count": 7
           }
          ]
         }
        },
        {
         "name": "588",
         "dtype": "float64",
         "stats": {
          "unique_count": 93,
          "nan_count": 0,
          "min": "0.21861794618396513",
          "max": "1.0",
          "histogram": [
           {
            "bin_start": 0.21861794618396513,
            "bin_end": 0.2967561515655686,
            "count": 2
           },
           {
            "bin_start": 0.2967561515655686,
            "bin_end": 0.3748943569471721,
            "count": 9
           },
           {
            "bin_start": 0.3748943569471721,
            "bin_end": 0.4530325623287756,
            "count": 32
           },
           {
            "bin_start": 0.4530325623287756,
            "bin_end": 0.5311707677103791,
            "count": 18
           },
           {
            "bin_start": 0.5311707677103791,
            "bin_end": 0.6093089730919825,
            "count": 3
           },
           {
            "bin_start": 0.6093089730919825,
            "bin_end": 0.687447178473586,
            "count": 3
           },
           {
            "bin_start": 0.687447178473586,
            "bin_end": 0.7655853838551895,
            "count": 5
           },
           {
            "bin_start": 0.7655853838551895,
            "bin_end": 0.843723589236793,
            "count": 3
           },
           {
            "bin_start": 0.843723589236793,
            "bin_end": 0.9218617946183966,
            "count": 13
           },
           {
            "bin_start": 0.9218617946183966,
            "bin_end": 1,
            "count": 5
           }
          ]
         }
        },
        {
         "name": "589",
         "dtype": "float64",
         "stats": {
          "unique_count": 93,
          "nan_count": 0,
          "min": "0.38577540374535546",
          "max": "1.0",
          "histogram": [
           {
            "bin_start": 0.38577540374535546,
            "bin_end": 0.4471978633708199,
            "count": 2
           },
           {
            "bin_start": 0.4471978633708199,
            "bin_end": 0.5086203229962843,
            "count": 8
           },
           {
            "bin_start": 0.5086203229962843,
            "bin_end": 0.5700427826217489,
            "count": 11
           },
           {
            "bin_start": 0.5700427826217489,
            "bin_end": 0.6314652422472133,
            "count": 19
           },
           {
            "bin_start": 0.6314652422472133,
            "bin_end": 0.6928877018726778,
            "count": 8
           },
           {
            "bin_start": 0.6928877018726778,
            "bin_end": 0.7543101614981422,
            "count": 14
           },
           {
            "bin_start": 0.7543101614981422,
            "bin_end": 0.8157326211236067,
            "count": 5
           },
           {
            "bin_start": 0.8157326211236067,
            "bin_end": 0.8771550807490711,
            "count": 11
           },
           {
            "bin_start": 0.8771550807490711,
            "bin_end": 0.9385775403745356,
            "count": 12
           },
           {
            "bin_start": 0.9385775403745356,
            "bin_end": 1,
            "count": 3
           }
          ]
         }
        },
        {
         "name": "6",
         "dtype": "float64",
         "stats": {
          "unique_count": 93,
          "nan_count": 0,
          "min": "0.28679114831007346",
          "max": "1.0",
          "histogram": [
           {
            "bin_start": 0.28679114831007346,
            "bin_end": 0.3581120334790661,
            "count": 2
           },
           {
            "bin_start": 0.3581120334790661,
            "bin_end": 0.42943291864805877,
            "count": 6
           },
           {
            "bin_start": 0.42943291864805877,
            "bin_end": 0.5007538038170514,
            "count": 10
           },
           {
            "bin_start": 0.5007538038170514,
            "bin_end": 0.5720746889860441,
            "count": 5
           },
           {
            "bin_start": 0.5720746889860441,
            "bin_end": 0.6433955741550368,
            "count": 16
           },
           {
            "bin_start": 0.6433955741550368,
            "bin_end": 0.7147164593240294,
            "count": 7
           },
           {
            "bin_start": 0.7147164593240294,
            "bin_end": 0.786037344493022,
            "count": 9
           },
           {
            "bin_start": 0.786037344493022,
            "bin_end": 0.8573582296620147,
            "count": 5
           },
           {
            "bin_start": 0.8573582296620147,
            "bin_end": 0.9286791148310073,
            "count": 19
           },
           {
            "bin_start": 0.9286791148310073,
            "bin_end": 1,
            "count": 14
           }
          ]
         }
        },
        {
         "name": "7",
         "dtype": "float64",
         "stats": {
          "unique_count": 93,
          "nan_count": 0,
          "min": "0.39435444526451446",
          "max": "1.0",
          "histogram": [
           {
            "bin_start": 0.39435444526451446,
            "bin_end": 0.454919000738063,
            "count": 5
           },
           {
            "bin_start": 0.454919000738063,
            "bin_end": 0.5154835562116116,
            "count": 3
           },
           {
            "bin_start": 0.5154835562116116,
            "bin_end": 0.5760481116851601,
            "count": 10
           },
           {
            "bin_start": 0.5760481116851601,
            "bin_end": 0.6366126671587087,
            "count": 14
           },
           {
            "bin_start": 0.6366126671587087,
            "bin_end": 0.6971772226322572,
            "count": 9
           },
           {
            "bin_start": 0.6971772226322572,
            "bin_end": 0.7577417781058058,
            "count": 14
           },
           {
            "bin_start": 0.7577417781058058,
            "bin_end": 0.8183063335793543,
            "count": 15
           },
           {
            "bin_start": 0.8183063335793543,
            "bin_end": 0.8788708890529029,
            "count": 12
           },
           {
            "bin_start": 0.8788708890529029,
            "bin_end": 0.9394354445264514,
            "count": 8
           },
           {
            "bin_start": 0.9394354445264514,
            "bin_end": 1,
            "count": 3
           }
          ]
         }
        },
        {
         "name": "8",
         "dtype": "float64",
         "stats": {
          "unique_count": 93,
          "nan_count": 0,
          "min": "0.3913128302954515",
          "max": "1.0",
          "histogram": [
           {
            "bin_start": 0.3913128302954515,
            "bin_end": 0.45218154726590637,
            "count": 1
           },
           {
            "bin_start": 0.45218154726590637,
            "bin_end": 0.5130502642363612,
            "count": 3
           },
           {
            "bin_start": 0.5130502642363612,
            "bin_end": 0.5739189812068161,
            "count": 6
           },
           {
            "bin_start": 0.5739189812068161,
            "bin_end": 0.6347876981772709,
            "count": 4
           },
           {
            "bin_start": 0.6347876981772709,
            "bin_end": 0.6956564151477258,
            "count": 9
           },
           {
            "bin_start": 0.6956564151477258,
            "bin_end": 0.7565251321181806,
            "count": 15
           },
           {
            "bin_start": 0.7565251321181806,
            "bin_end": 0.8173938490886354,
            "count": 12
           },
           {
            "bin_start": 0.8173938490886354,
            "bin_end": 0.8782625660590904,
            "count": 20
           },
           {
            "bin_start": 0.8782625660590904,
            "bin_end": 0.9391312830295452,
            "count": 12
           },
           {
            "bin_start": 0.9391312830295452,
            "bin_end": 1,
            "count": 11
           }
          ]
         }
        },
        {
         "name": "9",
         "dtype": "float64",
         "stats": {
          "unique_count": 93,
          "nan_count": 0,
          "min": "0.2660276010624216",
          "max": "1.0",
          "histogram": [
           {
            "bin_start": 0.2660276010624216,
            "bin_end": 0.3394248409561795,
            "count": 2
           },
           {
            "bin_start": 0.3394248409561795,
            "bin_end": 0.4128220808499373,
            "count": 12
           },
           {
            "bin_start": 0.4128220808499373,
            "bin_end": 0.4862193207436951,
            "count": 19
           },
           {
            "bin_start": 0.4862193207436951,
            "bin_end": 0.559616560637453,
            "count": 4
           },
           {
            "bin_start": 0.559616560637453,
            "bin_end": 0.6330138005312108,
            "count": 4
           },
           {
            "bin_start": 0.6330138005312108,
            "bin_end": 0.7064110404249686,
            "count": 9
           },
           {
            "bin_start": 0.7064110404249686,
            "bin_end": 0.7798082803187265,
            "count": 6
           },
           {
            "bin_start": 0.7798082803187265,
            "bin_end": 0.8532055202124843,
            "count": 8
           },
           {
            "bin_start": 0.8532055202124843,
            "bin_end": 0.9266027601062421,
            "count": 16
           },
           {
            "bin_start": 0.9266027601062421,
            "bin_end": 1,
            "count": 13
           }
          ]
         }
        },
        {
         "name": "_deepnote_index_column",
         "dtype": "object"
        }
       ],
       "rows_top": [
        {
         "1": 1,
         "2": 0.9676552598225603,
         "3": 0.8756552598225602,
         "4": 0.9441098436839884,
         "5": 0.7919374735952686,
         "6": 0.9539416983523445,
         "7": 0.7842281368821292,
         "8": 0.9557160963244613,
         "9": 0.9379552175749893,
         "10": 0.8141563160118295,
         "11": 0.8890173215040136,
         "12": 0.6096375158428391,
         "13": 0.670054921841994,
         "14": 0.8272986903253065,
         "15": 0.5059281791297003,
         "16": 0.5569226869455006,
         "17": 0.9849362061681451,
         "18": 0.8349353612167303,
         "19": 0.9425264047317281,
         "20": 0.5203058724123364,
         "21": 0,
         "22": 0.7685424588086185,
         "23": 0.7619974651457541,
         "24": 0.6852522179974652,
         "25": 0.6878664976763837,
         "26": 0.9299045204900719,
         "27": 0.6770866075200676,
         "28": 0.8076180819602871,
         "29": 0.7000506970849176,
         "30": 0.5241858893113651,
         "31": 0.8071719476130124,
         "249": 0.7708779045204901,
         "250": 0.7798005914659909,
         "251": 0.844425855513308,
         "252": 0.8124410646387834,
         "253": 0.777076468103084,
         "254": 0.9405390790029575,
         "255": 0.7768297422898187,
         "256": 0.9631685678073512,
         "257": 0.7178859315589354,
         "258": 0.675346007604563,
         "259": 0.4381985635825941,
         "260": 0.7217237008871988,
         "261": 0.8696983523447402,
         "262": 0.8425027460920999,
         "263": 0.648724968314322,
         "264": 0.8534431770173214,
         "265": 0.8700937896070976,
         "266": 0.6871584283903679,
         "267": 0.6576493451626533,
         "268": 0.9345061258977609,
         "269": 0.9096594845796366,
         "270": 0.9399442332065905,
         "271": 0.9494735952682721,
         "272": 0.9757431347697506,
         "273": 0.8276231516687793,
         "274": 0.7734516265314744,
         "275": 0.8645965356991971,
         "276": 0.9849632446134344,
         "277": 0.8322517955217574,
         "278": 0.7904250105618927,
         "279": 0.6413468525559781,
         "559": 0.9680050697084918,
         "560": 0.9622002534854246,
         "561": 0.7059062103929026,
         "562": 0.7063219264892269,
         "563": 0.7234169835234476,
         "564": 0.6610815378115756,
         "565": 0.8938318546683567,
         "566": 0.8423743134769751,
         "567": 0.861133924799324,
         "568": 0.8570899873257287,
         "569": 0.8179298690325305,
         "570": 0.874538234051542,
         "571": 0.8447334178284748,
         "572": 0.7834778200253486,
         "573": 0.7232767215885088,
         "574": 0.8080828052386988,
         "575": 0.7027579214195184,
         "576": 0.8748525559780312,
         "577": 0.8630215462610902,
         "578": 0.4541596958174907,
         "579": 0.08121335023236198,
         "580": 0.697073088297423,
         "581": 0.5221630756231521,
         "582": 0.2140059146599076,
         "583": 0.5354507815800592,
         "584": 0.25772877059569077,
         "585": 0.7065382340515419,
         "586": 0.579993240388678,
         "587": 0.5230418250950574,
         "588": 0.4303658639628225,
         "589": 0.6003447401774398,
         "_deepnote_index_column": "1"
        },
        {
         "1": 0.8141563160118295,
         "2": 0.8310702893468769,
         "3": 0.563396149582608,
         "4": 0.7551161685858431,
         "5": 0.9346944777503792,
         "6": 0.682634662805692,
         "7": 0.9049589394384997,
         "8": 0.8458860258353504,
         "9": 0.6467977286609509,
         "10": 1,
         "11": 0.820783657217836,
         "12": 0.5071126394136146,
         "13": 0.8867384566658372,
         "14": 0.39826708594439375,
         "15": 0.3012872429473118,
         "16": 0.7455579938013254,
         "17": 0.7153428500328036,
         "18": 0.9064565753455647,
         "19": 0.828149673099111,
         "20": 0.3226749315657309,
         "21": 0,
         "22": 0.8133000022622896,
         "23": 0.8112051218243104,
         "24": 0.6531321403524646,
         "25": 0.6354161482252337,
         "26": 0.8933579168834695,
         "27": 0.6199149379001424,
         "28": 0.8906273329864483,
         "29": 0.6679772866095063,
         "30": 0.30730945863403025,
         "31": 0.8785331312354365,
         "249": 0.9105105988281336,
         "250": 0.8774834287265567,
         "251": 0.8192181526140757,
         "252": 0.955462298938986,
         "253": 0.43142773114946986,
         "254": 0.7494491324118278,
         "255": 0.8644662127004954,
         "256": 0.7532972875144225,
         "257": 0.855215709340995,
         "258": 0.814173246159763,
         "259": 0.49670158134063314,
         "260": 0.8430830486618552,
         "261": 0.8081080469651383,
         "262": 0.8853132140352464,
         "263": 0.7785353935253263,
         "264": 0.5336606112707286,
         "265": 0.9251476144153111,
         "266": 0.8299866524896503,
         "267": 0.2715494423455428,
         "268": 0.7535529262719727,
         "269": 0.5255322036965819,
         "270": 0.8316064520507662,
         "271": 0.7316290749496643,
         "272": 0.7383639119516778,
         "273": 0.9743478949392576,
         "274": 0.9455082234237493,
         "275": 0.9324751713684596,
         "276": 0.7491686084654892,
         "277": 0.9500667375517499,
         "278": 0.9664095197158566,
         "279": 0.7686582358663439,
         "559": 0.7751939913580528,
         "560": 0.780460602221569,
         "561": 0.9353256566296405,
         "562": 0.25332217270321067,
         "563": 0.3595932402778098,
         "564": 0.27614415311178,
         "565": 0.8313033052055293,
         "566": 0.5188426124923653,
         "567": 0.543956292559329,
         "568": 0.5385426328529742,
         "569": 0.9329140556070861,
         "570": 0.4953170599280593,
         "571": 0.95906612673348,
         "572": 0.43999728525213266,
         "573": 0.35940547021695435,
         "574": 0.4729362260480062,
         "575": 0.33193674637468096,
         "576": 0.9187453340271026,
         "577": 0.47249281722960057,
         "578": 0.5180689093500443,
         "579": 0.19864036377621452,
         "580": 0.8432595072732619,
         "581": 0.6091057168065521,
         "582": 0.19657263081691345,
         "583": 0.6268941022102572,
         "584": 0.2551048571363935,
         "585": 0.6840599054362821,
         "586": 0.686523539126304,
         "587": 0.6102821075492616,
         "588": 0.48621586770128744,
         "589": 0.7137682962694838,
         "_deepnote_index_column": "10"
        },
        {
         "1": 0.8890173215040136,
         "2": 0.8847002015132504,
         "3": 0.6380864796015364,
         "4": 0.8394714079312579,
         "5": 0.7386672559978713,
         "6": 0.7791695182692674,
         "7": 0.7464996578076881,
         "8": 0.843658511083229,
         "9": 0.7256924641648609,
         "10": 0.820783657217836,
         "11": 1,
         "12": 0.607137086042356,
         "13": 0.8638763735219197,
         "14": 0.6010845595224521,
         "15": 0.4613013763735224,
         "16": 0.7424788981407551,
         "17": 0.8258811452036048,
         "18": 0.8214065054560665,
         "19": 0.8578761263830278,
         "20": 0.4815192388122126,
         "21": 0,
         "22": 0.8305886658301964,
         "23": 0.821185506254515,
         "24": 0.7134662180145241,
         "25": 0.7171424090338772,
         "26": 0.8581494049655909,
         "27": 0.70198376487586,
         "28": 0.8467881449374549,
         "29": 0.7342757879928521,
         "30": 0.4869753051214789,
         "31": 0.8849093190372989,
         "249": 0.7792455610052851,
         "250": 0.8549888787498576,
         "251": 0.8156034941637204,
         "252": 0.7884491083989207,
         "253": 0.49946532451237624,
         "254": 0.8335186875023768,
         "255": 0.8508112809398886,
         "256": 0.8231412303714691,
         "257": 0.7813842629557811,
         "258": 0.8073932550093154,
         "259": 0.4911267632409414,
         "260": 0.8483993004068284,
         "261": 0.8877514162959587,
         "262": 0.9345913653473253,
         "263": 0.787168263564123,
         "264": 0.60685192578229,
         "265": 0.9357866621041027,
         "266": 0.7922084711607926,
         "267": 0.33152731835291493,
         "268": 0.8052640584008216,
         "269": 0.6549061822744384,
         "270": 0.8510180221284362,
         "271": 0.814800292764534,
         "272": 0.8385232500665376,
         "273": 0.8386943462225772,
         "274": 0.8366554503631043,
         "275": 0.8567853883882742,
         "276": 0.8332240219003083,
         "277": 0.8641995551499944,
         "278": 0.8138188662028066,
         "279": 0.776793182768716,
         "559": 0.8457354283107107,
         "560": 0.8660934945439339,
         "561": 0.8268601954298318,
         "562": 0.3689736131706024,
         "563": 0.4240095433633708,
         "564": 0.33635365575453424,
         "565": 0.8003854416181894,
         "566": 0.591286928253679,
         "567": 0.617666628645299,
         "568": 0.6119800577924797,
         "569": 0.785283829512186,
         "570": 0.6675126421048632,
         "571": 0.8248046652218546,
         "572": 0.5084668833884647,
         "573": 0.4238123075168252,
         "574": 0.5430663282764917,
         "575": 0.394958841869131,
         "576": 0.7494677008478767,
         "577": 0.6513179156686062,
         "578": 0.5135712520436486,
         "579": 0.23926846887951048,
         "580": 0.8551552222348959,
         "581": 0.6091973689213342,
         "582": 0.17586783772480197,
         "583": 0.6278824949621686,
         "584": 0.23735076613056538,
         "585": 0.7433985399794683,
         "586": 0.6905179460857005,
         "587": 0.6104330633816207,
         "588": 0.4801124481958864,
         "589": 0.7191361545188393,
         "_deepnote_index_column": "11"
        },
        {
         "1": 0.6096375158428391,
         "2": 0.6536119646683975,
         "3": 0.3344742294092017,
         "4": 0.47174783874975523,
         "5": 0.5115096598207503,
         "6": 0.5816771982227289,
         "7": 0.510638194479316,
         "8": 0.6670613637946645,
         "9": 0.3941906630101838,
         "10": 0.5071126394136146,
         "11": 0.607137086042356,
         "12": 1,
         "13": 0.6283378499427394,
         "14": 0.46028596373861885,
         "15": 0.9005913977623752,
         "16": 0.736778591109434,
         "17": 0.6135180796661868,
         "18": 0.4702948565726791,
         "19": 0.5240406187079958,
         "20": 0.9143728608198576,
         "21": 0.819666607813059,
         "22": 0.8476847044873987,
         "23": 0.8539582830512951,
         "24": 0.9180612001924353,
         "25": 0.9250151048593102,
         "26": 0.693014184799247,
         "27": 0.935347962504313,
         "28": 0.8102295128703123,
         "29": 0.9133361734248426,
         "30": 0.9180919768494749,
         "31": 0.8106571464207558,
         "249": 0.5316959071905611,
         "250": 0.6800183364082992,
         "251": 0.4266503172425413,
         "252": 0.6487314347915529,
         "253": 0.2399834130016797,
         "254": 0.46769017949270375,
         "255": 0.6828659870964814,
         "256": 0.4704455002097674,
         "257": 0.5824903498981941,
         "258": 0.7801412810540519,
         "259": 0.9322265615508842,
         "260": 0.7356868296965586,
         "261": 0.43303404384215805,
         "262": 0.776791484908909,
         "263": 0.8056583693879172,
         "264": 0.31318326203407787,
         "265": 0.7503446175676398,
         "266": 0.7688187109116207,
         "267": 0.12550882723118628,
         "268": 0.47062854032794954,
         "269": 0.19490532938312233,
         "270": 0.5265157098635949,
         "271": 0.45493082541374363,
         "272": 0.6221355436372502,
         "273": 0.6341789354840277,
         "274": 0.6861040153818494,
         "275": 0.5987388049910021,
         "276": 0.4674893213099195,
         "277": 0.629742237398174,
         "278": 0.6698345025763303,
         "279": 0.812730521210786,
         "559": 0.6270517096432985,
         "560": 0.48989472763468433,
         "561": 0.5939732826220417,
         "562": 0,
         "563": 0.18854913979243593,
         "564": 0.12879868988630438,
         "565": 0.41384074861788533,
         "566": 0.3025734144757197,
         "567": 0.32055508130706845,
         "568": 0.31667884234414456,
         "569": 0.486595146035238,
         "570": 0.5055665253640149,
         "571": 0.6177782169300772,
         "572": 0.24611930652092573,
         "573": 0.18841469439589476,
         "574": 0.26970394475752046,
         "575": 0.16874679072359156,
         "576": 0.58890809280296,
         "577": 0.4945274244311585,
         "578": 0.9701353039032901,
         "579": 0.8979948198026727,
         "580": 0.7593152031826303,
         "581": 0.9111299730623258,
         "582": 0.8227863889424333,
         "583": 0.9142351757752074,
         "584": 0.848617723142912,
         "585": 0.9071176688788065,
         "586": 0.8715398533411299,
         "587": 0.9261295438089514,
         "588": 0.9786912145602746,
         "589": 0.8520323122502436,
         "_deepnote_index_column": "12"
        },
        {
         "1": 0.670054921841994,
         "2": 0.7045791205105175,
         "3": 0.3791613452976458,
         "4": 0.6208157372240267,
         "5": 0.8393734778106723,
         "6": 0.5237039645154095,
         "7": 0.8455403628878527,
         "8": 0.7145690576541246,
         "9": 0.4857880383263572,
         "10": 0.8867384566658372,
         "11": 0.8638763735219197,
         "12": 0.6283378499427394,
         "13": 1,
         "14": 0.15607219422354546,
         "15": 0.2707283382953153,
         "16": 0.8605242268997028,
         "17": 0.5429942310456828,
         "18": 0.7967261340505807,
         "19": 0.6882493754987151,
         "20": 0.2923957723502709,
         "21": 0.17391865961919484,
         "22": 0.8732621780354725,
         "23": 0.865193142257122,
         "24": 0.697695543383828,
         "25": 0.6618421902442382,
         "26": 0.768625138806999,
         "27": 0.6465812330853387,
         "28": 0.9263578085057176,
         "29": 0.7067937822797895,
         "30": 0.2593112672740504,
         "31": 0.920886781406842,
         "249": 0.8504238691787002,
         "250": 0.8360296093819987,
         "251": 0.7312196473625108,
         "252": 0.8762435336251493,
         "253": 0.23481248294210388,
         "254": 0.637278820291552,
         "255": 0.8265084388405419,
         "256": 0.6089819847786275,
         "257": 0.8581283087109338,
         "258": 0.8604700583145659,
         "259": 0.551173687401429,
         "260": 0.881970819799868,
         "261": 0.7471202105074555,
         "262": 0.8931753832948252,
         "263": 0.8454466095674227,
         "264": 0.36456499501023965,
         "265": 0.9122364750418244,
         "266": 0.8616117654166926,
         "267": 0,
         "268": 0.6171718581699766,
         "269": 0.442521922651427,
         "270": 0.6910369742261706,
         "271": 0.6071548367338009,
         "272": 0.574312006883577,
         "273": 0.8812645447859608,
         "274": 0.9331559659404605,
         "275": 0.8183248156705552,
         "276": 0.5996754051705999,
         "277": 0.8808103620336554,
         "278": 0.9126823241656478,
         "279": 0.8392859747116048,
         "559": 0.635824602121325,
         "560": 0.6443478206519812,
         "561": 0.9439625986753698,
         "562": 0.19183596085694687,
         "563": 0.1159770241862732,
         "564": 0.021813272553402263,
         "565": 0.7241152290810298,
         "566": 0.3131881754145459,
         "567": 0.34249754678811517,
         "568": 0.32961584056101967,
         "569": 0.8176914599058718,
         "570": 0.2765847957115143,
         "571": 0.8501946943954266,
         "572": 0.2074240129337911,
         "573": 0.1325651116810388,
         "574": 0.26203219697364255,
         "575": 0.08611971673996766,
         "576": 0.8219978624242942,
         "577": 0.24874422635801707,
         "578": 0.541610848717559,
         "579": 0.3981224335028535,
         "580": 0.8959650654294011,
         "581": 0.658158726454896,
         "582": 0.14270922095157612,
         "583": 0.6828596012775453,
         "584": 0.24217524370654808,
         "585": 0.7284174647852107,
         "586": 0.751701622765807,
         "587": 0.6679507399220395,
         "588": 0.5068075327667858,
         "589": 0.7852007258590409,
         "_deepnote_index_column": "13"
        }
       ],
       "rows_bottom": [
        {
         "1": 0.6003447401774398,
         "2": 0.6262414035244155,
         "3": 0.5399332178540729,
         "4": 0.594181228576318,
         "5": 0.6376742368318202,
         "6": 0.4566083848433312,
         "7": 0.6420362318102669,
         "8": 0.6035763383264932,
         "9": 0.4243459842567794,
         "10": 0.7137682962694838,
         "11": 0.7191361545188393,
         "12": 0.8520323122502436,
         "13": 0.7852007258590409,
         "14": 0.5138226729243075,
         "15": 0.7529226512074783,
         "16": 0.91352259616879,
         "17": 0.5902477835871789,
         "18": 0.6058013605655989,
         "19": 0.6292415864064158,
         "20": 0.7623851786079999,
         "21": 0.6902593076003323,
         "22": 0.891478233245215,
         "23": 0.8842602935209289,
         "24": 0.9080066640900858,
         "25": 0.9370536971910982,
         "26": 0.6578499924147048,
         "27": 0.9255909889873373,
         "28": 0.8413805834277397,
         "29": 0.9362684175779689,
         "30": 0.7583246684592759,
         "31": 0.8342358900572576,
         "249": 0.654540939452018,
         "250": 0.7507093750079954,
         "251": 0.5753483694871424,
         "252": 0.7085709509037206,
         "253": 0.5052920859617012,
         "254": 0.5841711867228645,
         "255": 0.7614520804623647,
         "256": 0.5967506979785583,
         "257": 0.7090765787207285,
         "258": 0.9077866567552498,
         "259": 0.8303228394222769,
         "260": 0.8615712257453861,
         "261": 0.5796100410483104,
         "262": 0.7821526222887216,
         "263": 0.9745938464628296,
         "264": 0.5257910514994233,
         "265": 0.7299138307924463,
         "266": 0.8685965108556712,
         "267": 0.5022771055458394,
         "268": 0.5942135884850824,
         "269": 0.4541317841443746,
         "270": 0.6311357153608101,
         "271": 0.5809843025720263,
         "272": 0.59693289926568,
         "273": 0.703432885846843,
         "274": 0.7512705269317715,
         "275": 0.6767230507787789,
         "276": 0.5967104614935089,
         "277": 0.6973530994451257,
         "278": 0.7335215992494635,
         "279": 0.8596286380887865,
         "559": 0.6045986105446671,
         "560": 0.6058510750830377,
         "561": 0.7290242562689635,
         "562": 0.38577540374535546,
         "563": 0.5057461555540537,
         "564": 0.4939114861686512,
         "565": 0.5669832047876004,
         "566": 0.532874850412373,
         "567": 0.5392356356946756,
         "568": 0.5398703566028752,
         "569": 0.6180183971622677,
         "570": 0.5299274469835908,
         "571": 0.6912591346451499,
         "572": 0.5185383973804523,
         "573": 0.49599500036291655,
         "574": 0.5211231396118643,
         "575": 0.5008939082900972,
         "576": 0.6629476929844401,
         "577": 0.5248984605630734,
         "578": 0.8577042525052475,
         "579": 0.8424369468142718,
         "580": 0.876041229486623,
         "581": 0.8985186137978888,
         "582": 0.7140119340997513,
         "583": 0.8960633332531055,
         "584": 0.730268689599387,
         "585": 0.9535638482614907,
         "586": 0.9229890905648774,
         "587": 0.8833217914680341,
         "588": 0.8389684116491551,
         "589": 1,
         "_deepnote_index_column": "589"
        },
        {
         "1": 0.9539416983523445,
         "2": 0.9175016997893377,
         "3": 0.9280860824452807,
         "4": 0.891759304554655,
         "5": 0.6764121428674815,
         "6": 1,
         "7": 0.7505243001732467,
         "8": 0.915676855126784,
         "9": 0.9688795253383757,
         "10": 0.682634662805692,
         "11": 0.7791695182692674,
         "12": 0.5816771982227289,
         "13": 0.5237039645154095,
         "14": 0.9071746107244472,
         "15": 0.5668744062888325,
         "16": 0.4596007891335069,
         "17": 0.9511983242944825,
         "18": 0.7425690448735197,
         "19": 0.8822243380818106,
         "20": 0.572377165335932,
         "21": 0.28679114831007346,
         "22": 0.6273613269948604,
         "23": 0.6168156763336781,
         "24": 0.5994285242567625,
         "25": 0.6147687722072279,
         "26": 0.8645798239029396,
         "27": 0.6083886357929473,
         "28": 0.6432043008577436,
         "29": 0.6126846486922075,
         "30": 0.5845998845879129,
         "31": 0.6517206886696689,
         "249": 0.6414027893629792,
         "250": 0.589048631526698,
         "251": 0.7597710434946462,
         "252": 0.6719019932011961,
         "253": 0.894653186380407,
         "254": 0.9094399803717107,
         "255": 0.5786054816348887,
         "256": 0.9155801139018844,
         "257": 0.5565213348417788,
         "258": 0.48330700613268884,
         "259": 0.3987443107797669,
         "260": 0.4984927673408913,
         "261": 0.7969330296059057,
         "262": 0.6793084260942958,
         "263": 0.48004706622016313,
         "264": 0.949719388227848,
         "265": 0.7552498342899854,
         "266": 0.48718290514469065,
         "267": 0.8322876255071333,
         "268": 0.8991927700876855,
         "269": 0.9452217387142614,
         "270": 0.8791303996681359,
         "271": 0.9113755076367713,
         "272": 0.9409231926607947,
         "273": 0.7082311641117012,
         "274": 0.6008809310479628,
         "275": 0.7716856933757278,
         "276": 0.9461279461279459,
         "277": 0.7142331001508478,
         "278": 0.6343787461679513,
         "279": 0.4784483222053776,
         "559": 0.9509682252675025,
         "560": 0.9064723595410535,
         "561": 0.5479218254106647,
         "562": 0.8772401456110286,
         "563": 0.8645936905715749,
         "564": 0.83099514301745,
         "565": 0.8231419089730739,
         "566": 0.9424068700828879,
         "567": 0.9568582843581265,
         "568": 0.9538980728909978,
         "569": 0.7172107657468076,
         "570": 0.9368226726831709,
         "571": 0.7391360968726046,
         "572": 0.901311318423329,
         "573": 0.8618481188004318,
         "574": 0.9172604323599973,
         "575": 0.8527624783326334,
         "576": 0.7834432702622505,
         "577": 0.9289362629524698,
         "578": 0.41882044466084556,
         "579": 0.3562427314613422,
         "580": 0.5030813042251447,
         "581": 0.4328231123059948,
         "582": 0.3802474386719872,
         "583": 0.4349310439952083,
         "584": 0.37530466388522254,
         "585": 0.612335507274341,
         "586": 0.45008913710548937,
         "587": 0.4289024142902299,
         "588": 0.4118220575733754,
         "589": 0.4566083848433312,
         "_deepnote_index_column": "6"
        },
        {
         "1": 0.7842281368821292,
         "2": 0.7946710210996799,
         "3": 0.675549354424857,
         "4": 0.793103627095264,
         "5": 0.9076650765391048,
         "6": 0.7505243001732467,
         "7": 1,
         "8": 0.8234854290122622,
         "9": 0.6402931341100941,
         "10": 0.9049589394384997,
         "11": 0.7464996578076881,
         "12": 0.510638194479316,
         "13": 0.8455403628878527,
         "14": 0.5882628357815176,
         "15": 0.4271915310532117,
         "16": 0.7447420049037445,
         "17": 0.7618078784139252,
         "18": 0.8800616045873415,
         "19": 0.8191599223642287,
         "20": 0.43329810059336726,
         "21": 0.464719425708053,
         "22": 0.7153314650722156,
         "23": 0.7186270442287442,
         "24": 0.5914436235239379,
         "25": 0.5729451214525235,
         "26": 0.8511804492464943,
         "27": 0.5654177278760272,
         "28": 0.7834727504450554,
         "29": 0.5963294422091451,
         "30": 0.42404257064954987,
         "31": 0.7766825004188395,
         "249": 0.9427652091597738,
         "250": 0.7440339578903741,
         "251": 0.9432310255467843,
         "252": 0.9044475507588288,
         "253": 0.6142682074204417,
         "254": 0.7590487289806434,
         "255": 0.7450268995102809,
         "256": 0.8031109901452786,
         "257": 0.8344842244160123,
         "258": 0.7254390447872143,
         "259": 0.5225016325948815,
         "260": 0.7272423300890964,
         "261": 0.7922605891109209,
         "262": 0.7421879783923092,
         "263": 0.6881862914176191,
         "264": 0.6688025567959079,
         "265": 0.812771188552141,
         "266": 0.7278238908077305,
         "267": 0.5479956588514153,
         "268": 0.8074487812275959,
         "269": 0.7129612040084524,
         "270": 0.8227668033524107,
         "271": 0.7495692778909656,
         "272": 0.7808674029838821,
         "273": 0.9085570765784043,
         "274": 0.8543307182210436,
         "275": 0.8544901241663325,
         "276": 0.783076306285186,
         "277": 0.8507066046807047,
         "278": 0.8811531919127783,
         "279": 0.67787633454827,
         "559": 0.7778306782915545,
         "560": 0.8064074808008291,
         "561": 0.8469248073100129,
         "562": 0.6056455547354855,
         "563": 0.5756701837032172,
         "564": 0.5501754067793726,
         "565": 0.8383099989887939,
         "566": 0.646090478308589,
         "567": 0.6588545067722704,
         "568": 0.6531830294120102,
         "569": 0.8649852702458964,
         "570": 0.6308280402080316,
         "571": 0.8886315164738509,
         "572": 0.6038744903002593,
         "573": 0.5771812823626238,
         "574": 0.6249585396361077,
         "575": 0.5669662136979168,
         "576": 0.8839468567859684,
         "577": 0.6196936976205101,
         "578": 0.518556595890276,
         "579": 0.5850552186997864,
         "580": 0.747487178028013,
         "581": 0.5711099798363362,
         "582": 0.39435444526451446,
         "583": 0.5836460684246485,
         "584": 0.41940243305377,
         "585": 0.6082719098521977,
         "586": 0.6216780651726348,
         "587": 0.5760146030481492,
         "588": 0.5046883830241634,
         "589": 0.6420362318102669,
         "_deepnote_index_column": "7"
        },
        {
         "1": 0.9557160963244613,
         "2": 0.9157628988931864,
         "3": 0.84434489997797,
         "4": 0.9185212970629572,
         "5": 0.8658461691159591,
         "6": 0.915676855126784,
         "7": 0.8234854290122622,
         "8": 1,
         "9": 0.8664759787594167,
         "10": 0.8458860258353504,
         "11": 0.843658511083229,
         "12": 0.6670613637946645,
         "13": 0.7145690576541246,
         "14": 0.8418830891342236,
         "15": 0.6383053975713571,
         "16": 0.6271033351678184,
         "17": 0.9463270873250417,
         "18": 0.9019041239320853,
         "19": 0.965631523052697,
         "20": 0.6448292403335609,
         "21": 0.3913128302954515,
         "22": 0.7469723958746977,
         "23": 0.7369778012829569,
         "24": 0.69832422149094,
         "25": 0.7105713221195349,
         "26": 0.9684333508681714,
         "27": 0.702932525020626,
         "28": 0.7764985232238222,
         "29": 0.7123973070469638,
         "30": 0.6555043360240401,
         "31": 0.7815903065900599,
         "249": 0.8002597915300312,
         "250": 0.7736831466826324,
         "251": 0.8481036274456758,
         "252": 0.8394618542529673,
         "253": 0.7820896538541104,
         "254": 0.8765257927988716,
         "255": 0.7658821300571212,
         "256": 0.9586433796027645,
         "257": 0.7319025236949248,
         "258": 0.6509384872700239,
         "259": 0.5183497034809903,
         "260": 0.6840984382394693,
         "261": 0.8098790352895187,
         "262": 0.8196465987055621,
         "263": 0.6375791895703349,
         "264": 0.8271625352992078,
         "265": 0.8791492142289664,
         "266": 0.6589550657814867,
         "267": 0.7368822296991381,
         "268": 0.9585579468372583,
         "269": 0.8570917364317114,
         "270": 0.9708444535813013,
         "271": 0.8886138952319748,
         "272": 0.9538387025904254,
         "273": 0.8673549491064969,
         "274": 0.7761007388845582,
         "275": 0.9208713557408833,
         "276": 0.9410026942822097,
         "277": 0.8733779408780947,
         "278": 0.8053390444872988,
         "279": 0.6336204023266562,
         "559": 0.9209911378025321,
         "560": 0.9363253950903722,
         "561": 0.7476131726711535,
         "562": 0.7280814120767085,
         "563": 0.7608515701170953,
         "564": 0.7335449171705952,
         "565": 0.9674501981044483,
         "566": 0.8240119642559594,
         "567": 0.8361243935149104,
         "568": 0.8342034699656682,
         "569": 0.9008056273672811,
         "570": 0.8659476800783079,
         "571": 0.8931937686935985,
         "572": 0.7906524156678614,
         "573": 0.7560806978824128,
         "574": 0.8027379158857468,
         "575": 0.7510379630013075,
         "576": 0.9331746700335927,
         "577": 0.8593122395472169,
         "578": 0.5375227824530695,
         "579": 0.47948829487850964,
         "580": 0.6741879417741385,
         "581": 0.5635553993510667,
         "582": 0.47051877056255376,
         "583": 0.5685329561380932,
         "584": 0.47130970879986345,
         "585": 0.7140450739011306,
         "586": 0.5923969204313287,
         "587": 0.5607574143541821,
         "588": 0.5273498348619738,
         "589": 0.6035763383264932,
         "_deepnote_index_column": "8"
        },
        {
         "1": 0.9379552175749893,
         "2": 0.9017726109135767,
         "3": 0.9469169773231563,
         "4": 0.9172352279229117,
         "5": 0.6387805024306827,
         "6": 0.9688795253383757,
         "7": 0.6402931341100941,
         "8": 0.8664759787594167,
         "9": 1,
         "10": 0.6467977286609509,
         "11": 0.7256924641648609,
         "12": 0.3941906630101838,
         "13": 0.4857880383263572,
         "14": 0.8639247993083401,
         "15": 0.36989984321282254,
         "16": 0.42632590336222786,
         "17": 0.9424268502581752,
         "18": 0.706818347009054,
         "19": 0.8532189548467428,
         "20": 0.3738871791770383,
         "21": 0.2660276010624216,
         "22": 0.45846220174950914,
         "23": 0.4538563944979642,
         "24": 0.41942116974292964,
         "25": 0.423347236989177,
         "26": 0.8062932337196909,
         "27": 0.41863364063564934,
         "28": 0.4829462696229161,
         "29": 0.42703811107390865,
         "30": 0.3781252396011423,
         "31": 0.48305919918006124,
         "249": 0.6027757791092796,
         "250": 0.548517668490957,
         "251": 0.763000539182122,
         "252": 0.6351192577043822,
         "253": 0.8753571045141153,
         "254": 0.9204791405613337,
         "255": 0.5374945175865452,
         "256": 0.919416214328631,
         "257": 0.5162294461332051,
         "258": 0.446508548596915,
         "259": 0.3724885386866975,
         "260": 0.4577486162266712,
         "261": 0.7682631151608099,
         "262": 0.5696539201878565,
         "263": 0.4454656193923304,
         "264": 0.928710212215771,
         "265": 0.6574362662830656,
         "266": 0.449475485773727,
         "267": 0.8159328586774145,
         "268": 0.8800201979815806,
         "269": 0.977620699049428,
         "270": 0.8500537810066774,
         "271": 0.9359078664898198,
         "272": 0.9311599992011023,
         "273": 0.6733003157690478,
         "274": 0.5624166842707186,
         "275": 0.7389364614042411,
         "276": 0.9311378161024982,
         "277": 0.6792976296544604,
         "278": 0.5968495467877128,
         "279": 0.44438495199389283,
         "559": 0.9503170821788088,
         "560": 0.8958361247646383,
         "561": 0.5082525372301467,
         "562": 0.8556174082738088,
         "563": 0.8468098097325059,
         "564": 0.814289843409069,
         "565": 0.7896820216765794,
         "566": 0.922111151353071,
         "567": 0.9361616076506646,
         "568": 0.933379554991243,
         "569": 0.6807390929677943,
         "570": 0.9099689135333695,
         "571": 0.7053173615366056,
         "572": 0.8823417356563286,
         "573": 0.8437170530190354,
         "574": 0.897628533788365,
         "575": 0.8353244632704857,
         "576": 0.7505742380322982,
         "577": 0.8982320580640477,
         "578": 0.3927629111533678,
         "579": 0.3334306170822864,
         "580": 0.4655199804617569,
         "581": 0.4041247647119567,
         "582": 0.3604310786975068,
         "583": 0.4056027563887752,
         "584": 0.3542296394056792,
         "585": 0.42928066993400993,
         "586": 0.4188497369272153,
         "587": 0.39995760876913766,
         "588": 0.38646140348911107,
         "589": 0.4243459842567794,
         "_deepnote_index_column": "9"
        }
       ]
      },
      "text/plain": "            1        10        11        12        13        14        15  \\\n1    1.000000  0.814156  0.889017  0.609638  0.670055  0.827299  0.505928   \n10   0.814156  1.000000  0.820784  0.507113  0.886738  0.398267  0.301287   \n11   0.889017  0.820784  1.000000  0.607137  0.863876  0.601085  0.461301   \n12   0.609638  0.507113  0.607137  1.000000  0.628338  0.460286  0.900591   \n13   0.670055  0.886738  0.863876  0.628338  1.000000  0.156072  0.270728   \n..        ...       ...       ...       ...       ...       ...       ...   \n589  0.600345  0.713768  0.719136  0.852032  0.785201  0.513823  0.752923   \n6    0.953942  0.682635  0.779170  0.581677  0.523704  0.907175  0.566874   \n7    0.784228  0.904959  0.746500  0.510638  0.845540  0.588263  0.427192   \n8    0.955716  0.845886  0.843659  0.667061  0.714569  0.841883  0.638305   \n9    0.937955  0.646798  0.725692  0.394191  0.485788  0.863925  0.369900   \n\n           16        17        18  ...       584       585       586  \\\n1    0.556923  0.984936  0.834935  ...  0.257729  0.706538  0.579993   \n10   0.745558  0.715343  0.906457  ...  0.255105  0.684060  0.686524   \n11   0.742479  0.825881  0.821407  ...  0.237351  0.743399  0.690518   \n12   0.736779  0.613518  0.470295  ...  0.848618  0.907118  0.871540   \n13   0.860524  0.542994  0.796726  ...  0.242175  0.728417  0.751702   \n..        ...       ...       ...  ...       ...       ...       ...   \n589  0.913523  0.590248  0.605801  ...  0.730269  0.953564  0.922989   \n6    0.459601  0.951198  0.742569  ...  0.375305  0.612336  0.450089   \n7    0.744742  0.761808  0.880062  ...  0.419402  0.608272  0.621678   \n8    0.627103  0.946327  0.901904  ...  0.471310  0.714045  0.592397   \n9    0.426326  0.942427  0.706818  ...  0.354230  0.429281  0.418850   \n\n          587       588       589         6         7         8         9  \n1    0.523042  0.430366  0.600345  0.953942  0.784228  0.955716  0.937955  \n10   0.610282  0.486216  0.713768  0.682635  0.904959  0.845886  0.646798  \n11   0.610433  0.480112  0.719136  0.779170  0.746500  0.843659  0.725692  \n12   0.926130  0.978691  0.852032  0.581677  0.510638  0.667061  0.394191  \n13   0.667951  0.506808  0.785201  0.523704  0.845540  0.714569  0.485788  \n..        ...       ...       ...       ...       ...       ...       ...  \n589  0.883322  0.838968  1.000000  0.456608  0.642036  0.603576  0.424346  \n6    0.428902  0.411822  0.456608  1.000000  0.750524  0.915677  0.968880  \n7    0.576015  0.504688  0.642036  0.750524  1.000000  0.823485  0.640293  \n8    0.560757  0.527350  0.603576  0.915677  0.823485  1.000000  0.866476  \n9    0.399958  0.386461  0.424346  0.968880  0.640293  0.866476  1.000000  \n\n[93 rows x 93 columns]",
      "text/html": "<div>\n<style scoped>\n    .dataframe tbody tr th:only-of-type {\n        vertical-align: middle;\n    }\n\n    .dataframe tbody tr th {\n        vertical-align: top;\n    }\n\n    .dataframe thead th {\n        text-align: right;\n    }\n</style>\n<table border=\"1\" class=\"dataframe\">\n  <thead>\n    <tr style=\"text-align: right;\">\n      <th></th>\n      <th>1</th>\n      <th>10</th>\n      <th>11</th>\n      <th>12</th>\n      <th>13</th>\n      <th>14</th>\n      <th>15</th>\n      <th>16</th>\n      <th>17</th>\n      <th>18</th>\n      <th>...</th>\n      <th>584</th>\n      <th>585</th>\n      <th>586</th>\n      <th>587</th>\n      <th>588</th>\n      <th>589</th>\n      <th>6</th>\n      <th>7</th>\n      <th>8</th>\n      <th>9</th>\n    </tr>\n  </thead>\n  <tbody>\n    <tr>\n      <th>1</th>\n      <td>1.000000</td>\n      <td>0.814156</td>\n      <td>0.889017</td>\n      <td>0.609638</td>\n      <td>0.670055</td>\n      <td>0.827299</td>\n      <td>0.505928</td>\n      <td>0.556923</td>\n      <td>0.984936</td>\n      <td>0.834935</td>\n      <td>...</td>\n      <td>0.257729</td>\n      <td>0.706538</td>\n      <td>0.579993</td>\n      <td>0.523042</td>\n      <td>0.430366</td>\n      <td>0.600345</td>\n      <td>0.953942</td>\n      <td>0.784228</td>\n      <td>0.955716</td>\n      <td>0.937955</td>\n    </tr>\n    <tr>\n      <th>10</th>\n      <td>0.814156</td>\n      <td>1.000000</td>\n      <td>0.820784</td>\n      <td>0.507113</td>\n      <td>0.886738</td>\n      <td>0.398267</td>\n      <td>0.301287</td>\n      <td>0.745558</td>\n      <td>0.715343</td>\n      <td>0.906457</td>\n      <td>...</td>\n      <td>0.255105</td>\n      <td>0.684060</td>\n      <td>0.686524</td>\n      <td>0.610282</td>\n      <td>0.486216</td>\n      <td>0.713768</td>\n      <td>0.682635</td>\n      <td>0.904959</td>\n      <td>0.845886</td>\n      <td>0.646798</td>\n    </tr>\n    <tr>\n      <th>11</th>\n      <td>0.889017</td>\n      <td>0.820784</td>\n      <td>1.000000</td>\n      <td>0.607137</td>\n      <td>0.863876</td>\n      <td>0.601085</td>\n      <td>0.461301</td>\n      <td>0.742479</td>\n      <td>0.825881</td>\n      <td>0.821407</td>\n      <td>...</td>\n      <td>0.237351</td>\n      <td>0.743399</td>\n      <td>0.690518</td>\n      <td>0.610433</td>\n      <td>0.480112</td>\n      <td>0.719136</td>\n      <td>0.779170</td>\n      <td>0.746500</td>\n      <td>0.843659</td>\n      <td>0.725692</td>\n    </tr>\n    <tr>\n      <th>12</th>\n      <td>0.609638</td>\n      <td>0.507113</td>\n      <td>0.607137</td>\n      <td>1.000000</td>\n      <td>0.628338</td>\n      <td>0.460286</td>\n      <td>0.900591</td>\n      <td>0.736779</td>\n      <td>0.613518</td>\n      <td>0.470295</td>\n      <td>...</td>\n      <td>0.848618</td>\n      <td>0.907118</td>\n      <td>0.871540</td>\n      <td>0.926130</td>\n      <td>0.978691</td>\n      <td>0.852032</td>\n      <td>0.581677</td>\n      <td>0.510638</td>\n      <td>0.667061</td>\n      <td>0.394191</td>\n    </tr>\n    <tr>\n      <th>13</th>\n      <td>0.670055</td>\n      <td>0.886738</td>\n      <td>0.863876</td>\n      <td>0.628338</td>\n      <td>1.000000</td>\n      <td>0.156072</td>\n      <td>0.270728</td>\n      <td>0.860524</td>\n      <td>0.542994</td>\n      <td>0.796726</td>\n      <td>...</td>\n      <td>0.242175</td>\n      <td>0.728417</td>\n      <td>0.751702</td>\n      <td>0.667951</td>\n      <td>0.506808</td>\n      <td>0.785201</td>\n      <td>0.523704</td>\n      <td>0.845540</td>\n      <td>0.714569</td>\n      <td>0.485788</td>\n    </tr>\n    <tr>\n      <th>...</th>\n      <td>...</td>\n      <td>...</td>\n      <td>...</td>\n      <td>...</td>\n      <td>...</td>\n      <td>...</td>\n      <td>...</td>\n      <td>...</td>\n      <td>...</td>\n      <td>...</td>\n      <td>...</td>\n      <td>...</td>\n      <td>...</td>\n      <td>...</td>\n      <td>...</td>\n      <td>...</td>\n      <td>...</td>\n      <td>...</td>\n      <td>...</td>\n      <td>...</td>\n      <td>...</td>\n    </tr>\n    <tr>\n      <th>589</th>\n      <td>0.600345</td>\n      <td>0.713768</td>\n      <td>0.719136</td>\n      <td>0.852032</td>\n      <td>0.785201</td>\n      <td>0.513823</td>\n      <td>0.752923</td>\n      <td>0.913523</td>\n      <td>0.590248</td>\n      <td>0.605801</td>\n      <td>...</td>\n      <td>0.730269</td>\n      <td>0.953564</td>\n      <td>0.922989</td>\n      <td>0.883322</td>\n      <td>0.838968</td>\n      <td>1.000000</td>\n      <td>0.456608</td>\n      <td>0.642036</td>\n      <td>0.603576</td>\n      <td>0.424346</td>\n    </tr>\n    <tr>\n      <th>6</th>\n      <td>0.953942</td>\n      <td>0.682635</td>\n      <td>0.779170</td>\n      <td>0.581677</td>\n      <td>0.523704</td>\n      <td>0.907175</td>\n      <td>0.566874</td>\n      <td>0.459601</td>\n      <td>0.951198</td>\n      <td>0.742569</td>\n      <td>...</td>\n      <td>0.375305</td>\n      <td>0.612336</td>\n      <td>0.450089</td>\n      <td>0.428902</td>\n      <td>0.411822</td>\n      <td>0.456608</td>\n      <td>1.000000</td>\n      <td>0.750524</td>\n      <td>0.915677</td>\n      <td>0.968880</td>\n    </tr>\n    <tr>\n      <th>7</th>\n      <td>0.784228</td>\n      <td>0.904959</td>\n      <td>0.746500</td>\n      <td>0.510638</td>\n      <td>0.845540</td>\n      <td>0.588263</td>\n      <td>0.427192</td>\n      <td>0.744742</td>\n      <td>0.761808</td>\n      <td>0.880062</td>\n      <td>...</td>\n      <td>0.419402</td>\n      <td>0.608272</td>\n      <td>0.621678</td>\n      <td>0.576015</td>\n      <td>0.504688</td>\n      <td>0.642036</td>\n      <td>0.750524</td>\n      <td>1.000000</td>\n      <td>0.823485</td>\n      <td>0.640293</td>\n    </tr>\n    <tr>\n      <th>8</th>\n      <td>0.955716</td>\n      <td>0.845886</td>\n      <td>0.843659</td>\n      <td>0.667061</td>\n      <td>0.714569</td>\n      <td>0.841883</td>\n      <td>0.638305</td>\n      <td>0.627103</td>\n      <td>0.946327</td>\n      <td>0.901904</td>\n      <td>...</td>\n      <td>0.471310</td>\n      <td>0.714045</td>\n      <td>0.592397</td>\n      <td>0.560757</td>\n      <td>0.527350</td>\n      <td>0.603576</td>\n      <td>0.915677</td>\n      <td>0.823485</td>\n      <td>1.000000</td>\n      <td>0.866476</td>\n    </tr>\n    <tr>\n      <th>9</th>\n      <td>0.937955</td>\n      <td>0.646798</td>\n      <td>0.725692</td>\n      <td>0.394191</td>\n      <td>0.485788</td>\n      <td>0.863925</td>\n      <td>0.369900</td>\n      <td>0.426326</td>\n      <td>0.942427</td>\n      <td>0.706818</td>\n      <td>...</td>\n      <td>0.354230</td>\n      <td>0.429281</td>\n      <td>0.418850</td>\n      <td>0.399958</td>\n      <td>0.386461</td>\n      <td>0.424346</td>\n      <td>0.968880</td>\n      <td>0.640293</td>\n      <td>0.866476</td>\n      <td>1.000000</td>\n    </tr>\n  </tbody>\n</table>\n<p>93 rows × 93 columns</p>\n</div>"
     },
     "metadata": {}
    }
   ],
   "execution_count": null
  },
  {
   "cell_type": "code",
   "source": "# Faccio svd con 93 componenti (e poi mi prendo solo quelle che servono)\nn_components = 92\nsvd_latent_gestures, svd_variance = generate_gesture_gesture_svd(gestures_sim_matrix_pd, n_components=n_components)",
   "metadata": {
    "tags": [],
    "cell_id": "00043-207c5d4c-78ed-457a-96cc-df9a95da9cb7",
    "deepnote_to_be_reexecuted": true,
    "source_hash": "e96974a3",
    "execution_start": 1638299539789,
    "execution_millis": 83,
    "deepnote_cell_type": "code"
   },
   "outputs": [],
   "execution_count": null
  },
  {
   "cell_type": "code",
   "metadata": {
    "deepnote_variable_name": "t3_query_top_p",
    "deepnote_variable_value": "5",
    "cell_id": "00041-8c620e05-f0f6-42c6-b128-88970e1c1838",
    "deepnote_to_be_reexecuted": true,
    "source_hash": "ca37bedc",
    "execution_start": 1638299539900,
    "execution_millis": 26,
    "deepnote_cell_type": "input-text"
   },
   "source": "t3_query_top_p = '5'",
   "outputs": [],
   "execution_count": null
  },
  {
   "cell_type": "code",
   "metadata": {
    "tags": [],
    "cell_id": "00045-15bd40d7-33e0-4c8b-8e79-96acaf28063b",
    "deepnote_to_be_reexecuted": true,
    "source_hash": "8c1b6ce9",
    "execution_start": 1638299539948,
    "execution_millis": 93,
    "deepnote_cell_type": "code"
   },
   "source": "t3_query_top_p = int(t3_query_top_p)\n# Input value check\nif t3_query_top_p < 1:\n    t3_query_top_p = 1\nelif t3_query_top_p > n_components:\n    t3_query_top_p = n_components\n\n# Tiro fuori le top p gestures latenti\ntop_p_gestures = get_top_p_latent_gestures(svd_latent_gestures, t3_query_top_p)",
   "outputs": [],
   "execution_count": null
  },
  {
   "cell_type": "code",
   "metadata": {
    "tags": [],
    "cell_id": "00046-2640e2e4-32f0-460d-9b08-42795dbb8006",
    "deepnote_to_be_reexecuted": true,
    "source_hash": "bf6ad681",
    "execution_start": 1638299540041,
    "execution_millis": 1,
    "deepnote_cell_type": "code"
   },
   "source": "#top_p_gestures",
   "outputs": [],
   "execution_count": null
  },
  {
   "cell_type": "markdown",
   "source": "## Task 4",
   "metadata": {
    "tags": [],
    "is_collapsed": false,
    "cell_id": "00044-9cfe662a-8cc0-4eed-8c0c-f9fe6eb8fd34",
    "deepnote_cell_type": "text-cell-h2"
   }
  },
  {
   "cell_type": "code",
   "metadata": {
    "deepnote_variable_name": "t4_p_partitions",
    "deepnote_variable_value": "3",
    "cell_id": "00047-107ad2bf-4161-48cc-944f-5dd10698959d",
    "deepnote_to_be_reexecuted": true,
    "source_hash": "21bab306",
    "execution_start": 1638299540057,
    "execution_millis": 528536,
    "deepnote_cell_type": "input-text"
   },
   "source": "t4_p_partitions = '3'",
   "outputs": [],
   "execution_count": null
  },
  {
   "cell_type": "code",
   "metadata": {
    "tags": [],
    "cell_id": "00048-fa675f74-61bc-4d04-9b33-06518fb6e745",
    "deepnote_to_be_reexecuted": true,
    "source_hash": "5f16cad7",
    "execution_start": 1638299540088,
    "execution_millis": 528504,
    "deepnote_cell_type": "code"
   },
   "source": "t4_p_partitions = int(t4_p_partitions)\n# Input value check\nif t4_p_partitions < 1:\n    t4_p_partitions = 1",
   "outputs": [],
   "execution_count": null
  },
  {
   "cell_type": "markdown",
   "source": "### Task 4A",
   "metadata": {
    "tags": [],
    "is_collapsed": false,
    "cell_id": "00045-1989ef30-c1fe-4922-8612-930834cd9cd1",
    "deepnote_cell_type": "text-cell-h3"
   }
  },
  {
   "cell_type": "markdown",
   "source": "Partizionamento top_p_gestures in base ai loro gradi di appartenenza alle p semantiche",
   "metadata": {
    "tags": [],
    "is_collapsed": false,
    "cell_id": "00047-a0819029-fabf-499e-9cbd-2e837f0f16ab",
    "deepnote_cell_type": "text-cell-p"
   }
  },
  {
   "cell_type": "code",
   "metadata": {
    "tags": [],
    "cell_id": "00052-c04737e2-8510-42f7-861f-c8625338840c",
    "deepnote_to_be_reexecuted": true,
    "source_hash": "2523e3da",
    "execution_start": 1638299540104,
    "execution_millis": 528450,
    "deepnote_cell_type": "code"
   },
   "source": "# Preparo i dati\nmax_iterations = 100 # max numero di iterazioni\n\n# Dati reali (le top p gestures appena calcolate)\n# Essendo le top p gestures in un 'formato strano' le traduco in un array numpy (sono una lista di dizionari di liste)\nX_train = top_p_gestures_2_numpy(top_p_gestures, t3_query_top_p, t1_metrics_data['filename'])\nX_test = X_train[:10] # Prendo un dato a caso giusto x testare la predict\n#X_test = [np.array([0.5, 0.2, 0.3, 0.7, 0.1])] # Un esempio a caso deve avere p dimensioni (se non presente fra i dati deve dare None)\n\n# Semplice esempio di test su 2 dimensioni\n#X_train = [np.array([1, 1]), np.array([2, 2]), np.array([3, 3]), np.array([4, 1]), np.array([1, 2]), np.array([-1, -2]), np.array([5, 2])]\n#X_test = [np.array([4, 1]), np.array([4, 2])]",
   "outputs": [],
   "execution_count": null
  },
  {
   "cell_type": "code",
   "metadata": {
    "tags": [],
    "cell_id": "00050-387b0fc0-e1be-4529-ae1a-41b89849d568",
    "deepnote_to_be_reexecuted": true,
    "source_hash": "c8693f90",
    "execution_start": 1638299540116,
    "execution_millis": 7140,
    "deepnote_output_heights": [
     194,
     155.60000610351562
    ],
    "deepnote_cell_type": "code"
   },
   "source": "# Creo e fitto il partizionatore selezionando t4_p_partitions come numero di gruppi da creare\npartitioner = MyPartitioner(t4_p_partitions, max_iterations=max_iterations)\npartitioner.fit(X_train)\n#partitioner.fit(gesture_sim_matrix)\nprint(\"Dimensione spazio:\", partitioner.groups_space_dimension)\n#print(\"Gruppi:\\n\", partitioner.groups)",
   "outputs": [
    {
     "name": "stdout",
     "text": "Dimensione spazio: 2.9008551129558247\n",
     "output_type": "stream"
    }
   ],
   "execution_count": null
  },
  {
   "cell_type": "code",
   "metadata": {
    "tags": [],
    "cell_id": "00051-57c18208-c98c-46bf-bf97-9c4d242d0c56",
    "deepnote_to_be_reexecuted": true,
    "source_hash": "13c56718",
    "execution_start": 1638299547278,
    "execution_millis": 7,
    "deepnote_cell_type": "code"
   },
   "source": "print(\"Predizione gruppi:\", partitioner.predict(X_test))",
   "outputs": [
    {
     "name": "stdout",
     "text": "Predizione gruppi: [([0.1207, 0.0684, 0.0287, 0.1325, 0.1103], 2), ([0.1111, 0.0251, 0.131, 0.1052, 0.0609], 2), ([0.1137, 0.0088, 0.0792, 0.0549, 0.1854], 2), ([0.096, 0.1387, 0.1069, 0.1163, 0.0078], 2), ([0.1008, 0.0855, 0.1416, 0.1815, 0.0752], 2), ([0.1079, 0.1057, 0.0669, 0.138, 0.2269], 2), ([0.0879, 0.1263, 0.1362, 0.2369, 0.1046], 2), ([0.1, 0.1263, 0.053, 0.1655, 0.096], 2), ([0.1194, 0.0738, 0.0125, 0.1698, 0.1135], 2), ([0.1088, 0.0139, 0.1583, 0.0444, 0.003], 2)]\n",
     "output_type": "stream"
    }
   ],
   "execution_count": null
  },
  {
   "cell_type": "markdown",
   "source": "### Task 4B",
   "metadata": {
    "tags": [],
    "is_collapsed": false,
    "cell_id": "00046-aba01dff-15c5-4d34-91d7-d45e7d1d2aa0",
    "deepnote_cell_type": "text-cell-h3"
   }
  },
  {
   "cell_type": "markdown",
   "source": "Clustering matrice similarità gesture-gesture con un algoritmo basato sul k-means (scritto da noi)",
   "metadata": {
    "tags": [],
    "is_collapsed": false,
    "cell_id": "00049-e8f155be-1fbc-4c3e-b02b-696dfd483adc",
    "deepnote_cell_type": "text-cell-p"
   }
  },
  {
   "cell_type": "code",
   "metadata": {
    "tags": [],
    "cell_id": "00053-fc41c804-7678-4cea-b1fc-2dcc84e5b4bc",
    "deepnote_to_be_reexecuted": true,
    "source_hash": "29b2d131",
    "execution_start": 1638299547321,
    "execution_millis": 531083,
    "deepnote_cell_type": "code"
   },
   "source": "# Settings del k-means\nk = t4_p_partitions # numero clusters\nmin_tolerance = 0.1 #meno di 10% differenza va bene\nmax_iterations = 5 # max numero di iterazioni\n\n# Preparo i dati x il clustering\nX_train = gestures_sim_matrix_pd.to_numpy()\n# Prendo parte dei dati x vedere poi dopo dove sono andati a finire (dovrebbero essere circa tutti nello stesso se prendo tipo i top 10)\n#(poi dopo a causa dell'ordinamento lessicografico posso avere roba differente)\nX_test = X_train[0:10] # Prendo tot elementi del training data e provo poi a predirli, o sotto predico un elemento nuovo",
   "outputs": [],
   "execution_count": null
  },
  {
   "cell_type": "code",
   "source": "# Creazione e fit dell'algoritmo\nkmean = SimpleKMeans(k=k, min_tolerance=min_tolerance, max_iterations=max_iterations)\nkmean.fit(X_train)",
   "metadata": {
    "tags": [],
    "cell_id": "00058-4ef383b8-7d8c-4a21-b34c-6a26a85da39b",
    "deepnote_to_be_reexecuted": true,
    "source_hash": "418ea723",
    "execution_start": 1638299547361,
    "execution_millis": 49,
    "deepnote_cell_type": "code"
   },
   "outputs": [],
   "execution_count": null
  },
  {
   "cell_type": "code",
   "metadata": {
    "tags": [],
    "cell_id": "00054-d6a5bc9f-5bba-42b3-93b6-c5846ecf9aea",
    "deepnote_to_be_reexecuted": true,
    "source_hash": "22b3cb16",
    "execution_start": 1638299547417,
    "execution_millis": 79,
    "deepnote_output_heights": [
     21.199996948242188,
     21.199996948242188
    ],
    "deepnote_cell_type": "code"
   },
   "source": "# Predizione dati\npredictions = kmean.predict(X_test)\nprint(predictions)",
   "outputs": [
    {
     "name": "stdout",
     "text": "[2, 2, 2, 1, 2, 0, 1, 1, 0, 2]\n",
     "output_type": "stream"
    }
   ],
   "execution_count": null
  },
  {
   "cell_type": "markdown",
   "source": "### Task 4C",
   "metadata": {
    "tags": [],
    "is_collapsed": false,
    "cell_id": "00048-5cfa9be3-10a5-4401-bf03-b9d304c3196b",
    "deepnote_cell_type": "text-cell-h3"
   }
  },
  {
   "cell_type": "markdown",
   "source": "Clustering matrice similarità gesture-gesture con un algoritmo di clustering spettrale basato sulla matrice laplaciana",
   "metadata": {
    "tags": [],
    "is_collapsed": false,
    "cell_id": "00051-03956622-a0af-4ed6-8b21-e44448b6632d",
    "deepnote_cell_type": "text-cell-p"
   }
  },
  {
   "cell_type": "code",
   "metadata": {
    "tags": [],
    "cell_id": "00052-df70d435-7ebe-4eb7-88c2-2742141056d3",
    "deepnote_to_be_reexecuted": true,
    "source_hash": "4d046c65",
    "execution_start": 1638299547454,
    "execution_millis": 681,
    "deepnote_cell_type": "code"
   },
   "source": "analysys_spectral_results = spectral_clustering_analyze(gestures_sim_matrix_pd, max_clusters=15)\nanalysys_spectral_results = spectral_analisys_results_2_pandas(analysys_spectral_results, gestures_sim_matrix_pd)",
   "outputs": [],
   "execution_count": null
  },
  {
   "cell_type": "code",
   "metadata": {
    "tags": [],
    "cell_id": "00053-9c0ede94-414f-46f9-a4a6-231b3beb4052",
    "deepnote_to_be_reexecuted": true,
    "source_hash": "6e9152ab",
    "execution_start": 1638299548150,
    "execution_millis": 121,
    "deepnote_output_heights": [
     527,
     527
    ],
    "deepnote_cell_type": "code"
   },
   "source": "# Plot clusters sankey\nsource, target, value = spectral_analisys_results_pandas_2_split(analysys_spectral_results)\nfig = go.Figure(data=[go.Sankey(\n    node = dict(\n        pad = 15,\n        thickness = 20,\n        line = dict(color = \"black\", width = 0.5),\n        label = list(set(source).union(set(target))),\n        color = \"blue\"\n    ),\n    link = dict(\n        source = source,\n        target = target,\n        value = value\n    )\n)])\n\nfig.update_layout(title_text=\"Spectral Clustering Evolution\", font_size=10)\nfig.show()",
   "outputs": [
    {
     "data": {
      "text/html": "<html>\n<head><meta charset=\"utf-8\" /></head>\n<body>\n    <div>            <script src=\"https://cdnjs.cloudflare.com/ajax/libs/mathjax/2.7.5/MathJax.js?config=TeX-AMS-MML_SVG\"></script><script type=\"text/javascript\">if (window.MathJax) {MathJax.Hub.Config({SVG: {font: \"STIX-Web\"}});}</script>                <script type=\"text/javascript\">window.PlotlyConfig = {MathJaxConfig: 'local'};</script>\n        <script src=\"https://cdn.plot.ly/plotly-2.4.2.min.js\"></script>                <div id=\"9778464d-ea2b-42d1-8854-bcae894f8287\" class=\"plotly-graph-div\" style=\"height:525px; width:100%;\"></div>            <script type=\"text/javascript\">                                    window.PLOTLYENV=window.PLOTLYENV || {};                                    if (document.getElementById(\"9778464d-ea2b-42d1-8854-bcae894f8287\")) {                    Plotly.newPlot(                        \"9778464d-ea2b-42d1-8854-bcae894f8287\",                        [{\"link\":{\"source\":[0,0,2,1,1,2,5,3,4,3,5,4,6,6,8,9,7,6,8,7,7,9,9,10,13,11,14,14,12,10,14,13,12,11,15,19,18,15,17,15,15,20,17,19,20,20,17,16,18,27,23,26,23,24,26,22,22,27,21,24,25,25,24,27,32,35,29,33,31,34,35,34,35,28,32,30,28,34,32,32,31,31,33,40,43,37,41,36,40,42,37,36,39,40,44,43,39,37,39,38,37,39,38,43,47,51,47,50,49,48,50,49,51,47,54,47,54,45,45,53,50,46,52,52,47,52,53,46,48,46,49,54,62,56,64,55,62,61,65,58,58,55,65,65,55,56,63,58,55,57,55,60,60,58,57,58,56,57,59,60,60,59,59,62,56,57,64,61,62,77,77,71,73,76,69,73,75,73,76,73,70,66,67,66,67,75,68,72,72,73,72,68,75,67,74,73,75,71,69,71,75,83,87,81,78,78,82,80,80,78,81,85,85,89,80,78,86,80,84,86,82,86,84,84,88,90,79,79,79,88,85,82,88,82,80,85,83],\"target\":[2,1,5,3,4,3,6,6,8,9,7,9,10,13,11,13,10,14,10,12,14,11,14,15,19,18,17,15,20,20,20,20,16,19,27,23,26,24,22,22,21,24,21,21,25,27,25,24,23,32,35,29,33,31,34,35,32,29,28,30,30,35,32,31,40,43,37,41,36,37,40,42,42,36,42,39,42,44,37,38,38,37,44,47,51,50,49,48,51,54,47,45,45,53,50,46,52,52,51,53,46,46,48,54,62,56,64,55,64,62,61,65,58,55,61,65,65,55,63,58,57,55,60,57,58,56,59,60,59,59,57,56,77,77,77,71,73,76,69,75,77,73,73,70,76,70,66,67,66,71,75,68,72,72,73,73,72,72,68,75,67,74,75,74,75,69,71,71,71,83,87,81,78,78,82,83,80,80,81,82,85,89,80,78,86,78,80,84,86,86,82,88,90,88,79,88,85,82,88,80,83,92,97,102,96,102,96,104,96,91,99,99,96,100,98,100,92,97,101,101,101,98,98,91,94,104,95,93,98,91,93,102,93,93,103,103,103],\"value\":[45,48,32,27,21,13,12,32,12,8,20,9,14,2,8,14,4,28,4,14,2,2,1,18,15,9,26,2,3,4,3,1,11,1,11,12,8,1,20,4,4,1,1,4,8,2,5,11,1,5,1,2,12,11,6,9,15,6,9,1,10,3,1,2,17,11,8,11,1,2,1,1,1,8,1,11,1,3,2,1,10,2,1,5,5,3,11,1,4,4,7,8,1,9,4,5,7,2,2,1,2,1,10,1,5,7,1,1,2,5,4,2,4,3,1,2,3,4,5,9,2,1,4,3,1,2,1,4,6,3,7,1,1,1,2,1,4,3,2,1,1,3,2,3,1,2,5,9,3,2,1,4,2,2,3,1,5,1,1,1,1,6,3,4,2,6,1,2,1,2,3,5,1,3,7,1,1,1,1,7,5,5,3,3,6,1,1,7,2,1,1,4,4,1,10,2,1,1,1,1,1,3,3,5,2,1,5,1,1,4,1,3,1,5,3,1,7,1,2,1,3,1,3,2,5,4,1,6,3,2,1,2,1,6,1,1,1]},\"node\":{\"color\":\"blue\",\"label\":[0,1,2,3,4,5,6,7,8,9,10,11,12,13,14,15,16,17,18,19,20,21,22,23,24,25,26,27,28,29,30,31,32,33,34,35,36,37,38,39,40,41,42,43,44,45,46,47,48,49,50,51,52,53,54,55,56,57,58,59,60,61,62,63,64,65,66,67,68,69,70,71,72,73,74,75,76,77,78,79,80,81,82,83,84,85,86,87,88,89,90,91,92,93,94,95,96,97,98,99,100,101,102,103,104],\"line\":{\"color\":\"black\",\"width\":0.5},\"pad\":15,\"thickness\":20},\"type\":\"sankey\"}],                        {\"font\":{\"size\":10},\"template\":{\"data\":{\"bar\":[{\"error_x\":{\"color\":\"#2a3f5f\"},\"error_y\":{\"color\":\"#2a3f5f\"},\"marker\":{\"line\":{\"color\":\"#E5ECF6\",\"width\":0.5},\"pattern\":{\"fillmode\":\"overlay\",\"size\":10,\"solidity\":0.2}},\"type\":\"bar\"}],\"barpolar\":[{\"marker\":{\"line\":{\"color\":\"#E5ECF6\",\"width\":0.5},\"pattern\":{\"fillmode\":\"overlay\",\"size\":10,\"solidity\":0.2}},\"type\":\"barpolar\"}],\"carpet\":[{\"aaxis\":{\"endlinecolor\":\"#2a3f5f\",\"gridcolor\":\"white\",\"linecolor\":\"white\",\"minorgridcolor\":\"white\",\"startlinecolor\":\"#2a3f5f\"},\"baxis\":{\"endlinecolor\":\"#2a3f5f\",\"gridcolor\":\"white\",\"linecolor\":\"white\",\"minorgridcolor\":\"white\",\"startlinecolor\":\"#2a3f5f\"},\"type\":\"carpet\"}],\"choropleth\":[{\"colorbar\":{\"outlinewidth\":0,\"ticks\":\"\"},\"type\":\"choropleth\"}],\"contour\":[{\"colorbar\":{\"outlinewidth\":0,\"ticks\":\"\"},\"colorscale\":[[0.0,\"#0d0887\"],[0.1111111111111111,\"#46039f\"],[0.2222222222222222,\"#7201a8\"],[0.3333333333333333,\"#9c179e\"],[0.4444444444444444,\"#bd3786\"],[0.5555555555555556,\"#d8576b\"],[0.6666666666666666,\"#ed7953\"],[0.7777777777777778,\"#fb9f3a\"],[0.8888888888888888,\"#fdca26\"],[1.0,\"#f0f921\"]],\"type\":\"contour\"}],\"contourcarpet\":[{\"colorbar\":{\"outlinewidth\":0,\"ticks\":\"\"},\"type\":\"contourcarpet\"}],\"heatmap\":[{\"colorbar\":{\"outlinewidth\":0,\"ticks\":\"\"},\"colorscale\":[[0.0,\"#0d0887\"],[0.1111111111111111,\"#46039f\"],[0.2222222222222222,\"#7201a8\"],[0.3333333333333333,\"#9c179e\"],[0.4444444444444444,\"#bd3786\"],[0.5555555555555556,\"#d8576b\"],[0.6666666666666666,\"#ed7953\"],[0.7777777777777778,\"#fb9f3a\"],[0.8888888888888888,\"#fdca26\"],[1.0,\"#f0f921\"]],\"type\":\"heatmap\"}],\"heatmapgl\":[{\"colorbar\":{\"outlinewidth\":0,\"ticks\":\"\"},\"colorscale\":[[0.0,\"#0d0887\"],[0.1111111111111111,\"#46039f\"],[0.2222222222222222,\"#7201a8\"],[0.3333333333333333,\"#9c179e\"],[0.4444444444444444,\"#bd3786\"],[0.5555555555555556,\"#d8576b\"],[0.6666666666666666,\"#ed7953\"],[0.7777777777777778,\"#fb9f3a\"],[0.8888888888888888,\"#fdca26\"],[1.0,\"#f0f921\"]],\"type\":\"heatmapgl\"}],\"histogram\":[{\"marker\":{\"pattern\":{\"fillmode\":\"overlay\",\"size\":10,\"solidity\":0.2}},\"type\":\"histogram\"}],\"histogram2d\":[{\"colorbar\":{\"outlinewidth\":0,\"ticks\":\"\"},\"colorscale\":[[0.0,\"#0d0887\"],[0.1111111111111111,\"#46039f\"],[0.2222222222222222,\"#7201a8\"],[0.3333333333333333,\"#9c179e\"],[0.4444444444444444,\"#bd3786\"],[0.5555555555555556,\"#d8576b\"],[0.6666666666666666,\"#ed7953\"],[0.7777777777777778,\"#fb9f3a\"],[0.8888888888888888,\"#fdca26\"],[1.0,\"#f0f921\"]],\"type\":\"histogram2d\"}],\"histogram2dcontour\":[{\"colorbar\":{\"outlinewidth\":0,\"ticks\":\"\"},\"colorscale\":[[0.0,\"#0d0887\"],[0.1111111111111111,\"#46039f\"],[0.2222222222222222,\"#7201a8\"],[0.3333333333333333,\"#9c179e\"],[0.4444444444444444,\"#bd3786\"],[0.5555555555555556,\"#d8576b\"],[0.6666666666666666,\"#ed7953\"],[0.7777777777777778,\"#fb9f3a\"],[0.8888888888888888,\"#fdca26\"],[1.0,\"#f0f921\"]],\"type\":\"histogram2dcontour\"}],\"mesh3d\":[{\"colorbar\":{\"outlinewidth\":0,\"ticks\":\"\"},\"type\":\"mesh3d\"}],\"parcoords\":[{\"line\":{\"colorbar\":{\"outlinewidth\":0,\"ticks\":\"\"}},\"type\":\"parcoords\"}],\"pie\":[{\"automargin\":true,\"type\":\"pie\"}],\"scatter\":[{\"marker\":{\"colorbar\":{\"outlinewidth\":0,\"ticks\":\"\"}},\"type\":\"scatter\"}],\"scatter3d\":[{\"line\":{\"colorbar\":{\"outlinewidth\":0,\"ticks\":\"\"}},\"marker\":{\"colorbar\":{\"outlinewidth\":0,\"ticks\":\"\"}},\"type\":\"scatter3d\"}],\"scattercarpet\":[{\"marker\":{\"colorbar\":{\"outlinewidth\":0,\"ticks\":\"\"}},\"type\":\"scattercarpet\"}],\"scattergeo\":[{\"marker\":{\"colorbar\":{\"outlinewidth\":0,\"ticks\":\"\"}},\"type\":\"scattergeo\"}],\"scattergl\":[{\"marker\":{\"colorbar\":{\"outlinewidth\":0,\"ticks\":\"\"}},\"type\":\"scattergl\"}],\"scattermapbox\":[{\"marker\":{\"colorbar\":{\"outlinewidth\":0,\"ticks\":\"\"}},\"type\":\"scattermapbox\"}],\"scatterpolar\":[{\"marker\":{\"colorbar\":{\"outlinewidth\":0,\"ticks\":\"\"}},\"type\":\"scatterpolar\"}],\"scatterpolargl\":[{\"marker\":{\"colorbar\":{\"outlinewidth\":0,\"ticks\":\"\"}},\"type\":\"scatterpolargl\"}],\"scatterternary\":[{\"marker\":{\"colorbar\":{\"outlinewidth\":0,\"ticks\":\"\"}},\"type\":\"scatterternary\"}],\"surface\":[{\"colorbar\":{\"outlinewidth\":0,\"ticks\":\"\"},\"colorscale\":[[0.0,\"#0d0887\"],[0.1111111111111111,\"#46039f\"],[0.2222222222222222,\"#7201a8\"],[0.3333333333333333,\"#9c179e\"],[0.4444444444444444,\"#bd3786\"],[0.5555555555555556,\"#d8576b\"],[0.6666666666666666,\"#ed7953\"],[0.7777777777777778,\"#fb9f3a\"],[0.8888888888888888,\"#fdca26\"],[1.0,\"#f0f921\"]],\"type\":\"surface\"}],\"table\":[{\"cells\":{\"fill\":{\"color\":\"#EBF0F8\"},\"line\":{\"color\":\"white\"}},\"header\":{\"fill\":{\"color\":\"#C8D4E3\"},\"line\":{\"color\":\"white\"}},\"type\":\"table\"}]},\"layout\":{\"annotationdefaults\":{\"arrowcolor\":\"#2a3f5f\",\"arrowhead\":0,\"arrowwidth\":1},\"autotypenumbers\":\"strict\",\"coloraxis\":{\"colorbar\":{\"outlinewidth\":0,\"ticks\":\"\"}},\"colorscale\":{\"diverging\":[[0,\"#8e0152\"],[0.1,\"#c51b7d\"],[0.2,\"#de77ae\"],[0.3,\"#f1b6da\"],[0.4,\"#fde0ef\"],[0.5,\"#f7f7f7\"],[0.6,\"#e6f5d0\"],[0.7,\"#b8e186\"],[0.8,\"#7fbc41\"],[0.9,\"#4d9221\"],[1,\"#276419\"]],\"sequential\":[[0.0,\"#0d0887\"],[0.1111111111111111,\"#46039f\"],[0.2222222222222222,\"#7201a8\"],[0.3333333333333333,\"#9c179e\"],[0.4444444444444444,\"#bd3786\"],[0.5555555555555556,\"#d8576b\"],[0.6666666666666666,\"#ed7953\"],[0.7777777777777778,\"#fb9f3a\"],[0.8888888888888888,\"#fdca26\"],[1.0,\"#f0f921\"]],\"sequentialminus\":[[0.0,\"#0d0887\"],[0.1111111111111111,\"#46039f\"],[0.2222222222222222,\"#7201a8\"],[0.3333333333333333,\"#9c179e\"],[0.4444444444444444,\"#bd3786\"],[0.5555555555555556,\"#d8576b\"],[0.6666666666666666,\"#ed7953\"],[0.7777777777777778,\"#fb9f3a\"],[0.8888888888888888,\"#fdca26\"],[1.0,\"#f0f921\"]]},\"colorway\":[\"#636efa\",\"#EF553B\",\"#00cc96\",\"#ab63fa\",\"#FFA15A\",\"#19d3f3\",\"#FF6692\",\"#B6E880\",\"#FF97FF\",\"#FECB52\"],\"font\":{\"color\":\"#2a3f5f\"},\"geo\":{\"bgcolor\":\"white\",\"lakecolor\":\"white\",\"landcolor\":\"#E5ECF6\",\"showlakes\":true,\"showland\":true,\"subunitcolor\":\"white\"},\"hoverlabel\":{\"align\":\"left\"},\"hovermode\":\"closest\",\"mapbox\":{\"style\":\"light\"},\"paper_bgcolor\":\"white\",\"plot_bgcolor\":\"#E5ECF6\",\"polar\":{\"angularaxis\":{\"gridcolor\":\"white\",\"linecolor\":\"white\",\"ticks\":\"\"},\"bgcolor\":\"#E5ECF6\",\"radialaxis\":{\"gridcolor\":\"white\",\"linecolor\":\"white\",\"ticks\":\"\"}},\"scene\":{\"xaxis\":{\"backgroundcolor\":\"#E5ECF6\",\"gridcolor\":\"white\",\"gridwidth\":2,\"linecolor\":\"white\",\"showbackground\":true,\"ticks\":\"\",\"zerolinecolor\":\"white\"},\"yaxis\":{\"backgroundcolor\":\"#E5ECF6\",\"gridcolor\":\"white\",\"gridwidth\":2,\"linecolor\":\"white\",\"showbackground\":true,\"ticks\":\"\",\"zerolinecolor\":\"white\"},\"zaxis\":{\"backgroundcolor\":\"#E5ECF6\",\"gridcolor\":\"white\",\"gridwidth\":2,\"linecolor\":\"white\",\"showbackground\":true,\"ticks\":\"\",\"zerolinecolor\":\"white\"}},\"shapedefaults\":{\"line\":{\"color\":\"#2a3f5f\"}},\"ternary\":{\"aaxis\":{\"gridcolor\":\"white\",\"linecolor\":\"white\",\"ticks\":\"\"},\"baxis\":{\"gridcolor\":\"white\",\"linecolor\":\"white\",\"ticks\":\"\"},\"bgcolor\":\"#E5ECF6\",\"caxis\":{\"gridcolor\":\"white\",\"linecolor\":\"white\",\"ticks\":\"\"}},\"title\":{\"x\":0.05},\"xaxis\":{\"automargin\":true,\"gridcolor\":\"white\",\"linecolor\":\"white\",\"ticks\":\"\",\"title\":{\"standoff\":15},\"zerolinecolor\":\"white\",\"zerolinewidth\":2},\"yaxis\":{\"automargin\":true,\"gridcolor\":\"white\",\"linecolor\":\"white\",\"ticks\":\"\",\"title\":{\"standoff\":15},\"zerolinecolor\":\"white\",\"zerolinewidth\":2}}},\"title\":{\"text\":\"Spectral Clustering Evolution\"}},                        {\"responsive\": true}                    ).then(function(){\n                            \nvar gd = document.getElementById('9778464d-ea2b-42d1-8854-bcae894f8287');\nvar x = new MutationObserver(function (mutations, observer) {{\n        var display = window.getComputedStyle(gd).display;\n        if (!display || display === 'none') {{\n            console.log([gd, 'removed!']);\n            Plotly.purge(gd);\n            observer.disconnect();\n        }}\n}});\n\n// Listen for the removal of the full notebook cells\nvar notebookContainer = gd.closest('#notebook-container');\nif (notebookContainer) {{\n    x.observe(notebookContainer, {childList: true});\n}}\n\n// Listen for the clearing of the current output cell\nvar outputEl = gd.closest('.output');\nif (outputEl) {{\n    x.observe(outputEl, {childList: true});\n}}\n\n                        })                };                            </script>        </div>\n</body>\n</html>"
     },
     "metadata": {},
     "output_type": "display_data"
    }
   ],
   "execution_count": null
  },
  {
   "cell_type": "code",
   "metadata": {
    "tags": [],
    "cell_id": "00064-dcc73abb-8745-4437-80f2-3714d5ed2b6e",
    "deepnote_to_be_reexecuted": true,
    "source_hash": "61bc35c5",
    "execution_start": 1638299548276,
    "execution_millis": 27,
    "deepnote_cell_type": "code"
   },
   "source": "generated_cluster_labels = spectral_clustering(gestures_sim_matrix_pd, n_clusters=t4_p_partitions)#, offset=44) # Usare offset se vogliamo mostrare i nomi dei cluster mostrati nel sankey, offset=44 per n_clusters=10\nclustering_labels = [str(elem) for elem in set(generated_cluster_labels)] # All the cluster names\ncluster_labels_full = cluster_labels_2_pandas(generated_cluster_labels, gestures_sim_matrix_pd.columns)",
   "outputs": [],
   "execution_count": null
  },
  {
   "cell_type": "code",
   "metadata": {
    "tags": [],
    "cell_id": "00065-23d0f2d0-ab55-4cde-8c6c-ed3697cb19d0",
    "deepnote_to_be_reexecuted": true,
    "source_hash": "6c26d295",
    "execution_start": 1638299548315,
    "execution_millis": 22,
    "deepnote_cell_type": "code"
   },
   "source": "print(\"Cluster Names:\", clustering_labels)\nprint(\"\\nClustering Result:\\n\", generated_cluster_labels)\n## In caso si voglia far vedere per bene le accoppiate (Gesture X, Label Y)\nprint(\"\\nClustering Results(full info):\\n\", cluster_labels_full)",
   "outputs": [
    {
     "name": "stdout",
     "text": "Cluster Names: ['0', '1', '2']\n\nClustering Result:\n [2 0 0 1 0 2 1 0 2 0 0 0 1 1 0 0 1 0 1 0 0 0 2 2 0 2 0 0 1 0 0 0 0 0 2 0 0\n 2 2 2 1 0 2 2 0 0 0 2 0 0 0 0 1 2 1 0 2 0 2 2 0 2 2 2 0 2 2 2 0 2 0 2 2 2\n 2 0 2 1 1 0 1 1 1 1 1 1 1 1 1 2 0 2 2]\n\nClustering Results(full info):\n [{'Gesture': '1', 'Label': 2}, {'Gesture': '10', 'Label': 0}, {'Gesture': '11', 'Label': 0}, {'Gesture': '12', 'Label': 1}, {'Gesture': '13', 'Label': 0}, {'Gesture': '14', 'Label': 2}, {'Gesture': '15', 'Label': 1}, {'Gesture': '16', 'Label': 0}, {'Gesture': '17', 'Label': 2}, {'Gesture': '18', 'Label': 0}, {'Gesture': '19', 'Label': 0}, {'Gesture': '2', 'Label': 0}, {'Gesture': '20', 'Label': 1}, {'Gesture': '21', 'Label': 1}, {'Gesture': '22', 'Label': 0}, {'Gesture': '23', 'Label': 0}, {'Gesture': '24', 'Label': 1}, {'Gesture': '249', 'Label': 0}, {'Gesture': '25', 'Label': 1}, {'Gesture': '250', 'Label': 0}, {'Gesture': '251', 'Label': 0}, {'Gesture': '252', 'Label': 0}, {'Gesture': '253', 'Label': 2}, {'Gesture': '254', 'Label': 2}, {'Gesture': '255', 'Label': 0}, {'Gesture': '256', 'Label': 2}, {'Gesture': '257', 'Label': 0}, {'Gesture': '258', 'Label': 0}, {'Gesture': '259', 'Label': 1}, {'Gesture': '26', 'Label': 0}, {'Gesture': '260', 'Label': 0}, {'Gesture': '261', 'Label': 0}, {'Gesture': '262', 'Label': 0}, {'Gesture': '263', 'Label': 0}, {'Gesture': '264', 'Label': 2}, {'Gesture': '265', 'Label': 0}, {'Gesture': '266', 'Label': 0}, {'Gesture': '267', 'Label': 2}, {'Gesture': '268', 'Label': 2}, {'Gesture': '269', 'Label': 2}, {'Gesture': '27', 'Label': 1}, {'Gesture': '270', 'Label': 0}, {'Gesture': '271', 'Label': 2}, {'Gesture': '272', 'Label': 2}, {'Gesture': '273', 'Label': 0}, {'Gesture': '274', 'Label': 0}, {'Gesture': '275', 'Label': 0}, {'Gesture': '276', 'Label': 2}, {'Gesture': '277', 'Label': 0}, {'Gesture': '278', 'Label': 0}, {'Gesture': '279', 'Label': 0}, {'Gesture': '28', 'Label': 0}, {'Gesture': '29', 'Label': 1}, {'Gesture': '3', 'Label': 2}, {'Gesture': '30', 'Label': 1}, {'Gesture': '31', 'Label': 0}, {'Gesture': '4', 'Label': 2}, {'Gesture': '5', 'Label': 0}, {'Gesture': '559', 'Label': 2}, {'Gesture': '560', 'Label': 2}, {'Gesture': '561', 'Label': 0}, {'Gesture': '562', 'Label': 2}, {'Gesture': '563', 'Label': 2}, {'Gesture': '564', 'Label': 2}, {'Gesture': '565', 'Label': 0}, {'Gesture': '566', 'Label': 2}, {'Gesture': '567', 'Label': 2}, {'Gesture': '568', 'Label': 2}, {'Gesture': '569', 'Label': 0}, {'Gesture': '570', 'Label': 2}, {'Gesture': '571', 'Label': 0}, {'Gesture': '572', 'Label': 2}, {'Gesture': '573', 'Label': 2}, {'Gesture': '574', 'Label': 2}, {'Gesture': '575', 'Label': 2}, {'Gesture': '576', 'Label': 0}, {'Gesture': '577', 'Label': 2}, {'Gesture': '578', 'Label': 1}, {'Gesture': '579', 'Label': 1}, {'Gesture': '580', 'Label': 0}, {'Gesture': '581', 'Label': 1}, {'Gesture': '582', 'Label': 1}, {'Gesture': '583', 'Label': 1}, {'Gesture': '584', 'Label': 1}, {'Gesture': '585', 'Label': 1}, {'Gesture': '586', 'Label': 1}, {'Gesture': '587', 'Label': 1}, {'Gesture': '588', 'Label': 1}, {'Gesture': '589', 'Label': 1}, {'Gesture': '6', 'Label': 2}, {'Gesture': '7', 'Label': 0}, {'Gesture': '8', 'Label': 2}, {'Gesture': '9', 'Label': 2}]\n",
     "output_type": "stream"
    }
   ],
   "execution_count": null
  },
  {
   "cell_type": "markdown",
   "source": "## Task 5 ",
   "metadata": {
    "tags": [],
    "is_collapsed": false,
    "cell_id": "00047-ca6ba479-67d1-47c0-9e18-3f88843cf02f",
    "deepnote_cell_type": "text-cell-h2"
   }
  },
  {
   "cell_type": "code",
   "source": "# Preparazione dataset\n# In task 1 avevo generato i dati utilizzabili qui che sono in\n#t5_data = { 'data', 'labels' }\n# Genero il dataframe pandas a partire dai dati e dalle loro labels\n(X_train_df, y_train_df), (X_test_df, y_test_df), features_names = database_numpy_2_supervised_data(t5_data['data'], t5_data['labels'])\n\nX_train = X_train_df.to_numpy()\ny_train = y_train_df.values.ravel()\n# Normalizzo i dati di test\nX_test = X_test_df.to_numpy()\ny_test = y_test_df.values.ravel()",
   "metadata": {
    "tags": [],
    "cell_id": "00067-76b186c5-5cb0-4b47-b940-e567f47b3667",
    "deepnote_to_be_reexecuted": true,
    "source_hash": "13a2a625",
    "execution_start": 1638299548351,
    "execution_millis": 662,
    "deepnote_cell_type": "code"
   },
   "outputs": [],
   "execution_count": null
  },
  {
   "cell_type": "markdown",
   "source": "### Classificazione con k-nearest neighbor",
   "metadata": {
    "tags": [],
    "is_collapsed": false,
    "cell_id": "00058-be2015dd-a32d-49bd-80ca-c70d45ea5f1d",
    "deepnote_cell_type": "text-cell-h3"
   }
  },
  {
   "cell_type": "code",
   "source": "accuracy_data_df = test_knn_best_K(X_train, y_train, X_test, y_test, max_neighbors=len(X_train)+1)\nfig = px.line(accuracy_data_df, x=\"# Neighbors\", y=\"Accuracy\", title='Life expectancy in Ugoland')\nfig.show()",
   "metadata": {
    "tags": [],
    "cell_id": "00070-72e9d292-d2c4-4fd3-b412-bffa2a35686e",
    "deepnote_to_be_reexecuted": true,
    "source_hash": "302398e6",
    "execution_start": 1638299549032,
    "execution_millis": 1458,
    "deepnote_output_heights": [
     527,
     527
    ],
    "deepnote_cell_type": "code"
   },
   "outputs": [
    {
     "data": {
      "text/html": "<html>\n<head><meta charset=\"utf-8\" /></head>\n<body>\n    <div>            <script src=\"https://cdnjs.cloudflare.com/ajax/libs/mathjax/2.7.5/MathJax.js?config=TeX-AMS-MML_SVG\"></script><script type=\"text/javascript\">if (window.MathJax) {MathJax.Hub.Config({SVG: {font: \"STIX-Web\"}});}</script>                <script type=\"text/javascript\">window.PlotlyConfig = {MathJaxConfig: 'local'};</script>\n        <script src=\"https://cdn.plot.ly/plotly-2.4.2.min.js\"></script>                <div id=\"68a3a32d-6098-4561-8f83-c1640ab9f89c\" class=\"plotly-graph-div\" style=\"height:525px; width:100%;\"></div>            <script type=\"text/javascript\">                                    window.PLOTLYENV=window.PLOTLYENV || {};                                    if (document.getElementById(\"68a3a32d-6098-4561-8f83-c1640ab9f89c\")) {                    Plotly.newPlot(                        \"68a3a32d-6098-4561-8f83-c1640ab9f89c\",                        [{\"hovertemplate\":\"# Neighbors=%{x}<br>Accuracy=%{y}<extra></extra>\",\"legendgroup\":\"\",\"line\":{\"color\":\"#636efa\",\"dash\":\"solid\"},\"marker\":{\"symbol\":\"circle\"},\"mode\":\"lines\",\"name\":\"\",\"orientation\":\"v\",\"showlegend\":false,\"type\":\"scatter\",\"x\":[1.0,2.0,3.0,4.0,5.0,6.0,7.0,8.0,9.0,10.0,11.0,12.0,13.0,14.0,15.0,16.0,17.0,18.0,19.0,20.0,21.0,22.0,23.0,24.0,25.0,26.0,27.0,28.0,29.0,30.0,31.0,32.0,33.0,34.0,35.0,36.0,37.0,38.0,39.0,40.0,41.0,42.0,43.0,44.0,45.0,46.0,47.0,48.0,49.0,50.0,51.0,52.0,53.0,54.0,55.0,56.0,57.0,58.0,59.0,60.0,61.0,62.0,63.0,64.0,65.0],\"xaxis\":\"x\",\"y\":[0.8571,0.8571,0.8571,0.8571,0.8571,0.8571,0.8571,0.8571,0.8571,0.8571,0.8571,0.8929,0.8214,0.8214,0.8214,0.8214,0.8214,0.8214,0.8214,0.8214,0.8214,0.8214,0.8214,0.8214,0.8214,0.8214,0.8214,0.8214,0.8214,0.8214,0.8214,0.8214,0.8214,0.8571,0.8214,0.8214,0.8571,0.8571,0.8571,0.8571,0.8214,0.8571,0.8571,0.8571,0.8571,0.8214,0.8571,0.8214,0.8214,0.8214,0.8571,0.8571,0.8214,0.8214,0.8214,0.75,0.75,0.7143,0.6786,0.6786,0.7143,0.6786,0.6786,0.6071,0.3214],\"yaxis\":\"y\"}],                        {\"legend\":{\"tracegroupgap\":0},\"template\":{\"data\":{\"bar\":[{\"error_x\":{\"color\":\"#2a3f5f\"},\"error_y\":{\"color\":\"#2a3f5f\"},\"marker\":{\"line\":{\"color\":\"#E5ECF6\",\"width\":0.5},\"pattern\":{\"fillmode\":\"overlay\",\"size\":10,\"solidity\":0.2}},\"type\":\"bar\"}],\"barpolar\":[{\"marker\":{\"line\":{\"color\":\"#E5ECF6\",\"width\":0.5},\"pattern\":{\"fillmode\":\"overlay\",\"size\":10,\"solidity\":0.2}},\"type\":\"barpolar\"}],\"carpet\":[{\"aaxis\":{\"endlinecolor\":\"#2a3f5f\",\"gridcolor\":\"white\",\"linecolor\":\"white\",\"minorgridcolor\":\"white\",\"startlinecolor\":\"#2a3f5f\"},\"baxis\":{\"endlinecolor\":\"#2a3f5f\",\"gridcolor\":\"white\",\"linecolor\":\"white\",\"minorgridcolor\":\"white\",\"startlinecolor\":\"#2a3f5f\"},\"type\":\"carpet\"}],\"choropleth\":[{\"colorbar\":{\"outlinewidth\":0,\"ticks\":\"\"},\"type\":\"choropleth\"}],\"contour\":[{\"colorbar\":{\"outlinewidth\":0,\"ticks\":\"\"},\"colorscale\":[[0.0,\"#0d0887\"],[0.1111111111111111,\"#46039f\"],[0.2222222222222222,\"#7201a8\"],[0.3333333333333333,\"#9c179e\"],[0.4444444444444444,\"#bd3786\"],[0.5555555555555556,\"#d8576b\"],[0.6666666666666666,\"#ed7953\"],[0.7777777777777778,\"#fb9f3a\"],[0.8888888888888888,\"#fdca26\"],[1.0,\"#f0f921\"]],\"type\":\"contour\"}],\"contourcarpet\":[{\"colorbar\":{\"outlinewidth\":0,\"ticks\":\"\"},\"type\":\"contourcarpet\"}],\"heatmap\":[{\"colorbar\":{\"outlinewidth\":0,\"ticks\":\"\"},\"colorscale\":[[0.0,\"#0d0887\"],[0.1111111111111111,\"#46039f\"],[0.2222222222222222,\"#7201a8\"],[0.3333333333333333,\"#9c179e\"],[0.4444444444444444,\"#bd3786\"],[0.5555555555555556,\"#d8576b\"],[0.6666666666666666,\"#ed7953\"],[0.7777777777777778,\"#fb9f3a\"],[0.8888888888888888,\"#fdca26\"],[1.0,\"#f0f921\"]],\"type\":\"heatmap\"}],\"heatmapgl\":[{\"colorbar\":{\"outlinewidth\":0,\"ticks\":\"\"},\"colorscale\":[[0.0,\"#0d0887\"],[0.1111111111111111,\"#46039f\"],[0.2222222222222222,\"#7201a8\"],[0.3333333333333333,\"#9c179e\"],[0.4444444444444444,\"#bd3786\"],[0.5555555555555556,\"#d8576b\"],[0.6666666666666666,\"#ed7953\"],[0.7777777777777778,\"#fb9f3a\"],[0.8888888888888888,\"#fdca26\"],[1.0,\"#f0f921\"]],\"type\":\"heatmapgl\"}],\"histogram\":[{\"marker\":{\"pattern\":{\"fillmode\":\"overlay\",\"size\":10,\"solidity\":0.2}},\"type\":\"histogram\"}],\"histogram2d\":[{\"colorbar\":{\"outlinewidth\":0,\"ticks\":\"\"},\"colorscale\":[[0.0,\"#0d0887\"],[0.1111111111111111,\"#46039f\"],[0.2222222222222222,\"#7201a8\"],[0.3333333333333333,\"#9c179e\"],[0.4444444444444444,\"#bd3786\"],[0.5555555555555556,\"#d8576b\"],[0.6666666666666666,\"#ed7953\"],[0.7777777777777778,\"#fb9f3a\"],[0.8888888888888888,\"#fdca26\"],[1.0,\"#f0f921\"]],\"type\":\"histogram2d\"}],\"histogram2dcontour\":[{\"colorbar\":{\"outlinewidth\":0,\"ticks\":\"\"},\"colorscale\":[[0.0,\"#0d0887\"],[0.1111111111111111,\"#46039f\"],[0.2222222222222222,\"#7201a8\"],[0.3333333333333333,\"#9c179e\"],[0.4444444444444444,\"#bd3786\"],[0.5555555555555556,\"#d8576b\"],[0.6666666666666666,\"#ed7953\"],[0.7777777777777778,\"#fb9f3a\"],[0.8888888888888888,\"#fdca26\"],[1.0,\"#f0f921\"]],\"type\":\"histogram2dcontour\"}],\"mesh3d\":[{\"colorbar\":{\"outlinewidth\":0,\"ticks\":\"\"},\"type\":\"mesh3d\"}],\"parcoords\":[{\"line\":{\"colorbar\":{\"outlinewidth\":0,\"ticks\":\"\"}},\"type\":\"parcoords\"}],\"pie\":[{\"automargin\":true,\"type\":\"pie\"}],\"scatter\":[{\"marker\":{\"colorbar\":{\"outlinewidth\":0,\"ticks\":\"\"}},\"type\":\"scatter\"}],\"scatter3d\":[{\"line\":{\"colorbar\":{\"outlinewidth\":0,\"ticks\":\"\"}},\"marker\":{\"colorbar\":{\"outlinewidth\":0,\"ticks\":\"\"}},\"type\":\"scatter3d\"}],\"scattercarpet\":[{\"marker\":{\"colorbar\":{\"outlinewidth\":0,\"ticks\":\"\"}},\"type\":\"scattercarpet\"}],\"scattergeo\":[{\"marker\":{\"colorbar\":{\"outlinewidth\":0,\"ticks\":\"\"}},\"type\":\"scattergeo\"}],\"scattergl\":[{\"marker\":{\"colorbar\":{\"outlinewidth\":0,\"ticks\":\"\"}},\"type\":\"scattergl\"}],\"scattermapbox\":[{\"marker\":{\"colorbar\":{\"outlinewidth\":0,\"ticks\":\"\"}},\"type\":\"scattermapbox\"}],\"scatterpolar\":[{\"marker\":{\"colorbar\":{\"outlinewidth\":0,\"ticks\":\"\"}},\"type\":\"scatterpolar\"}],\"scatterpolargl\":[{\"marker\":{\"colorbar\":{\"outlinewidth\":0,\"ticks\":\"\"}},\"type\":\"scatterpolargl\"}],\"scatterternary\":[{\"marker\":{\"colorbar\":{\"outlinewidth\":0,\"ticks\":\"\"}},\"type\":\"scatterternary\"}],\"surface\":[{\"colorbar\":{\"outlinewidth\":0,\"ticks\":\"\"},\"colorscale\":[[0.0,\"#0d0887\"],[0.1111111111111111,\"#46039f\"],[0.2222222222222222,\"#7201a8\"],[0.3333333333333333,\"#9c179e\"],[0.4444444444444444,\"#bd3786\"],[0.5555555555555556,\"#d8576b\"],[0.6666666666666666,\"#ed7953\"],[0.7777777777777778,\"#fb9f3a\"],[0.8888888888888888,\"#fdca26\"],[1.0,\"#f0f921\"]],\"type\":\"surface\"}],\"table\":[{\"cells\":{\"fill\":{\"color\":\"#EBF0F8\"},\"line\":{\"color\":\"white\"}},\"header\":{\"fill\":{\"color\":\"#C8D4E3\"},\"line\":{\"color\":\"white\"}},\"type\":\"table\"}]},\"layout\":{\"annotationdefaults\":{\"arrowcolor\":\"#2a3f5f\",\"arrowhead\":0,\"arrowwidth\":1},\"autotypenumbers\":\"strict\",\"coloraxis\":{\"colorbar\":{\"outlinewidth\":0,\"ticks\":\"\"}},\"colorscale\":{\"diverging\":[[0,\"#8e0152\"],[0.1,\"#c51b7d\"],[0.2,\"#de77ae\"],[0.3,\"#f1b6da\"],[0.4,\"#fde0ef\"],[0.5,\"#f7f7f7\"],[0.6,\"#e6f5d0\"],[0.7,\"#b8e186\"],[0.8,\"#7fbc41\"],[0.9,\"#4d9221\"],[1,\"#276419\"]],\"sequential\":[[0.0,\"#0d0887\"],[0.1111111111111111,\"#46039f\"],[0.2222222222222222,\"#7201a8\"],[0.3333333333333333,\"#9c179e\"],[0.4444444444444444,\"#bd3786\"],[0.5555555555555556,\"#d8576b\"],[0.6666666666666666,\"#ed7953\"],[0.7777777777777778,\"#fb9f3a\"],[0.8888888888888888,\"#fdca26\"],[1.0,\"#f0f921\"]],\"sequentialminus\":[[0.0,\"#0d0887\"],[0.1111111111111111,\"#46039f\"],[0.2222222222222222,\"#7201a8\"],[0.3333333333333333,\"#9c179e\"],[0.4444444444444444,\"#bd3786\"],[0.5555555555555556,\"#d8576b\"],[0.6666666666666666,\"#ed7953\"],[0.7777777777777778,\"#fb9f3a\"],[0.8888888888888888,\"#fdca26\"],[1.0,\"#f0f921\"]]},\"colorway\":[\"#636efa\",\"#EF553B\",\"#00cc96\",\"#ab63fa\",\"#FFA15A\",\"#19d3f3\",\"#FF6692\",\"#B6E880\",\"#FF97FF\",\"#FECB52\"],\"font\":{\"color\":\"#2a3f5f\"},\"geo\":{\"bgcolor\":\"white\",\"lakecolor\":\"white\",\"landcolor\":\"#E5ECF6\",\"showlakes\":true,\"showland\":true,\"subunitcolor\":\"white\"},\"hoverlabel\":{\"align\":\"left\"},\"hovermode\":\"closest\",\"mapbox\":{\"style\":\"light\"},\"paper_bgcolor\":\"white\",\"plot_bgcolor\":\"#E5ECF6\",\"polar\":{\"angularaxis\":{\"gridcolor\":\"white\",\"linecolor\":\"white\",\"ticks\":\"\"},\"bgcolor\":\"#E5ECF6\",\"radialaxis\":{\"gridcolor\":\"white\",\"linecolor\":\"white\",\"ticks\":\"\"}},\"scene\":{\"xaxis\":{\"backgroundcolor\":\"#E5ECF6\",\"gridcolor\":\"white\",\"gridwidth\":2,\"linecolor\":\"white\",\"showbackground\":true,\"ticks\":\"\",\"zerolinecolor\":\"white\"},\"yaxis\":{\"backgroundcolor\":\"#E5ECF6\",\"gridcolor\":\"white\",\"gridwidth\":2,\"linecolor\":\"white\",\"showbackground\":true,\"ticks\":\"\",\"zerolinecolor\":\"white\"},\"zaxis\":{\"backgroundcolor\":\"#E5ECF6\",\"gridcolor\":\"white\",\"gridwidth\":2,\"linecolor\":\"white\",\"showbackground\":true,\"ticks\":\"\",\"zerolinecolor\":\"white\"}},\"shapedefaults\":{\"line\":{\"color\":\"#2a3f5f\"}},\"ternary\":{\"aaxis\":{\"gridcolor\":\"white\",\"linecolor\":\"white\",\"ticks\":\"\"},\"baxis\":{\"gridcolor\":\"white\",\"linecolor\":\"white\",\"ticks\":\"\"},\"bgcolor\":\"#E5ECF6\",\"caxis\":{\"gridcolor\":\"white\",\"linecolor\":\"white\",\"ticks\":\"\"}},\"title\":{\"x\":0.05},\"xaxis\":{\"automargin\":true,\"gridcolor\":\"white\",\"linecolor\":\"white\",\"ticks\":\"\",\"title\":{\"standoff\":15},\"zerolinecolor\":\"white\",\"zerolinewidth\":2},\"yaxis\":{\"automargin\":true,\"gridcolor\":\"white\",\"linecolor\":\"white\",\"ticks\":\"\",\"title\":{\"standoff\":15},\"zerolinecolor\":\"white\",\"zerolinewidth\":2}}},\"title\":{\"text\":\"Life expectancy in Ugoland\"},\"xaxis\":{\"anchor\":\"y\",\"domain\":[0.0,1.0],\"title\":{\"text\":\"# Neighbors\"}},\"yaxis\":{\"anchor\":\"x\",\"domain\":[0.0,1.0],\"title\":{\"text\":\"Accuracy\"}}},                        {\"responsive\": true}                    ).then(function(){\n                            \nvar gd = document.getElementById('68a3a32d-6098-4561-8f83-c1640ab9f89c');\nvar x = new MutationObserver(function (mutations, observer) {{\n        var display = window.getComputedStyle(gd).display;\n        if (!display || display === 'none') {{\n            console.log([gd, 'removed!']);\n            Plotly.purge(gd);\n            observer.disconnect();\n        }}\n}});\n\n// Listen for the removal of the full notebook cells\nvar notebookContainer = gd.closest('#notebook-container');\nif (notebookContainer) {{\n    x.observe(notebookContainer, {childList: true});\n}}\n\n// Listen for the clearing of the current output cell\nvar outputEl = gd.closest('.output');\nif (outputEl) {{\n    x.observe(outputEl, {childList: true});\n}}\n\n                        })                };                            </script>        </div>\n</body>\n</html>"
     },
     "metadata": {},
     "output_type": "display_data"
    }
   ],
   "execution_count": null
  },
  {
   "cell_type": "code",
   "metadata": {
    "tags": [],
    "cell_id": "00058-4219f70d-c44d-464a-a238-6f9f9f157f98",
    "deepnote_to_be_reexecuted": true,
    "source_hash": "a05e2390",
    "execution_start": 1638299550498,
    "execution_millis": 22,
    "deepnote_output_heights": [
     21.199996948242188,
     21.199996948242188
    ],
    "deepnote_cell_type": "code"
   },
   "source": "# Addestro il classificatore\nn_neighbors = 8 # Numero di vicini che uso x decidere la label\nclassifier = KNeighborsClassifier(n_neighbors=n_neighbors)\nclassifier.fit(X_train, y_train)",
   "outputs": [
    {
     "output_type": "execute_result",
     "execution_count": 50,
     "data": {
      "text/plain": "KNeighborsClassifier(n_neighbors=8)"
     },
     "metadata": {}
    }
   ],
   "execution_count": null
  },
  {
   "cell_type": "code",
   "metadata": {
    "tags": [],
    "cell_id": "00061-0abd1337-9406-4c02-91b2-ad8ffdeb4137",
    "deepnote_to_be_reexecuted": true,
    "source_hash": "1162bf93",
    "execution_start": 1638299550534,
    "execution_millis": 30,
    "deepnote_output_heights": [
     21.199996948242188
    ],
    "deepnote_cell_type": "code"
   },
   "source": "# Predico\ny_pred = classifier.predict(X_test)\nprint(\"(\"+str(n_neighbors)+\")NN - Predictions:\\n\", y_pred)\nprint(\"Reals:\\n\", y_test)\nprint(\"Accuracy\", format_float(accuracy_score(y_test, y_pred)))",
   "outputs": [
    {
     "name": "stdout",
     "text": "(8)NN - Predictions:\n [2. 1. 1. 0. 0. 1. 0. 1. 2. 2. 0. 0. 2. 0. 2. 0. 0. 1. 0. 2. 0. 2. 2. 2.\n 1. 1. 1. 1.]\nReals:\n [2. 1. 1. 0. 0. 1. 0. 1. 2. 2. 0. 0. 2. 2. 2. 0. 0. 1. 1. 0. 0. 2. 2. 2.\n 0. 1. 1. 1.]\nAccuracy 0.8571\n",
     "output_type": "stream"
    }
   ],
   "execution_count": null
  },
  {
   "cell_type": "markdown",
   "source": "### Classificazione con decision tree",
   "metadata": {
    "tags": [],
    "is_collapsed": false,
    "cell_id": "00060-635d37c3-f66e-454d-8b84-316306713b7a",
    "deepnote_cell_type": "text-cell-h3"
   }
  },
  {
   "cell_type": "code",
   "source": "accuracy_data_df = test_tree_best_depth(X_train, y_train, X_test, y_test, max_depth=20)\nfig = px.line(accuracy_data_df, x=\"Depth\", y=\"Accuracy\", title='Life expectancy in Ugoland')\nfig.show()",
   "metadata": {
    "tags": [],
    "cell_id": "00073-1dcdc65a-e664-4bf6-88b8-6e29f884d6c9",
    "deepnote_to_be_reexecuted": true,
    "source_hash": "c1bb2b8e",
    "execution_start": 1638299550574,
    "execution_millis": 429,
    "deepnote_output_heights": [
     527,
     527
    ],
    "deepnote_cell_type": "code"
   },
   "outputs": [
    {
     "data": {
      "text/html": "<html>\n<head><meta charset=\"utf-8\" /></head>\n<body>\n    <div>            <script src=\"https://cdnjs.cloudflare.com/ajax/libs/mathjax/2.7.5/MathJax.js?config=TeX-AMS-MML_SVG\"></script><script type=\"text/javascript\">if (window.MathJax) {MathJax.Hub.Config({SVG: {font: \"STIX-Web\"}});}</script>                <script type=\"text/javascript\">window.PlotlyConfig = {MathJaxConfig: 'local'};</script>\n        <script src=\"https://cdn.plot.ly/plotly-2.4.2.min.js\"></script>                <div id=\"bfc6dd8f-1f85-4125-ad2f-d9c6c4969d50\" class=\"plotly-graph-div\" style=\"height:525px; width:100%;\"></div>            <script type=\"text/javascript\">                                    window.PLOTLYENV=window.PLOTLYENV || {};                                    if (document.getElementById(\"bfc6dd8f-1f85-4125-ad2f-d9c6c4969d50\")) {                    Plotly.newPlot(                        \"bfc6dd8f-1f85-4125-ad2f-d9c6c4969d50\",                        [{\"hovertemplate\":\"Depth=%{x}<br>Accuracy=%{y}<extra></extra>\",\"legendgroup\":\"\",\"line\":{\"color\":\"#636efa\",\"dash\":\"solid\"},\"marker\":{\"symbol\":\"circle\"},\"mode\":\"lines\",\"name\":\"\",\"orientation\":\"v\",\"showlegend\":false,\"type\":\"scatter\",\"x\":[1.0,2.0,3.0,4.0,5.0,6.0,7.0,8.0,9.0,10.0,11.0,12.0,13.0,14.0,15.0,16.0,17.0,18.0,19.0],\"xaxis\":\"x\",\"y\":[0.5,0.7857,0.7857,0.7857,0.8214,0.8214,0.8214,0.8214,0.8214,0.8214,0.8214,0.8214,0.8214,0.8214,0.8214,0.8214,0.8214,0.8214,0.8214],\"yaxis\":\"y\"}],                        {\"legend\":{\"tracegroupgap\":0},\"template\":{\"data\":{\"bar\":[{\"error_x\":{\"color\":\"#2a3f5f\"},\"error_y\":{\"color\":\"#2a3f5f\"},\"marker\":{\"line\":{\"color\":\"#E5ECF6\",\"width\":0.5},\"pattern\":{\"fillmode\":\"overlay\",\"size\":10,\"solidity\":0.2}},\"type\":\"bar\"}],\"barpolar\":[{\"marker\":{\"line\":{\"color\":\"#E5ECF6\",\"width\":0.5},\"pattern\":{\"fillmode\":\"overlay\",\"size\":10,\"solidity\":0.2}},\"type\":\"barpolar\"}],\"carpet\":[{\"aaxis\":{\"endlinecolor\":\"#2a3f5f\",\"gridcolor\":\"white\",\"linecolor\":\"white\",\"minorgridcolor\":\"white\",\"startlinecolor\":\"#2a3f5f\"},\"baxis\":{\"endlinecolor\":\"#2a3f5f\",\"gridcolor\":\"white\",\"linecolor\":\"white\",\"minorgridcolor\":\"white\",\"startlinecolor\":\"#2a3f5f\"},\"type\":\"carpet\"}],\"choropleth\":[{\"colorbar\":{\"outlinewidth\":0,\"ticks\":\"\"},\"type\":\"choropleth\"}],\"contour\":[{\"colorbar\":{\"outlinewidth\":0,\"ticks\":\"\"},\"colorscale\":[[0.0,\"#0d0887\"],[0.1111111111111111,\"#46039f\"],[0.2222222222222222,\"#7201a8\"],[0.3333333333333333,\"#9c179e\"],[0.4444444444444444,\"#bd3786\"],[0.5555555555555556,\"#d8576b\"],[0.6666666666666666,\"#ed7953\"],[0.7777777777777778,\"#fb9f3a\"],[0.8888888888888888,\"#fdca26\"],[1.0,\"#f0f921\"]],\"type\":\"contour\"}],\"contourcarpet\":[{\"colorbar\":{\"outlinewidth\":0,\"ticks\":\"\"},\"type\":\"contourcarpet\"}],\"heatmap\":[{\"colorbar\":{\"outlinewidth\":0,\"ticks\":\"\"},\"colorscale\":[[0.0,\"#0d0887\"],[0.1111111111111111,\"#46039f\"],[0.2222222222222222,\"#7201a8\"],[0.3333333333333333,\"#9c179e\"],[0.4444444444444444,\"#bd3786\"],[0.5555555555555556,\"#d8576b\"],[0.6666666666666666,\"#ed7953\"],[0.7777777777777778,\"#fb9f3a\"],[0.8888888888888888,\"#fdca26\"],[1.0,\"#f0f921\"]],\"type\":\"heatmap\"}],\"heatmapgl\":[{\"colorbar\":{\"outlinewidth\":0,\"ticks\":\"\"},\"colorscale\":[[0.0,\"#0d0887\"],[0.1111111111111111,\"#46039f\"],[0.2222222222222222,\"#7201a8\"],[0.3333333333333333,\"#9c179e\"],[0.4444444444444444,\"#bd3786\"],[0.5555555555555556,\"#d8576b\"],[0.6666666666666666,\"#ed7953\"],[0.7777777777777778,\"#fb9f3a\"],[0.8888888888888888,\"#fdca26\"],[1.0,\"#f0f921\"]],\"type\":\"heatmapgl\"}],\"histogram\":[{\"marker\":{\"pattern\":{\"fillmode\":\"overlay\",\"size\":10,\"solidity\":0.2}},\"type\":\"histogram\"}],\"histogram2d\":[{\"colorbar\":{\"outlinewidth\":0,\"ticks\":\"\"},\"colorscale\":[[0.0,\"#0d0887\"],[0.1111111111111111,\"#46039f\"],[0.2222222222222222,\"#7201a8\"],[0.3333333333333333,\"#9c179e\"],[0.4444444444444444,\"#bd3786\"],[0.5555555555555556,\"#d8576b\"],[0.6666666666666666,\"#ed7953\"],[0.7777777777777778,\"#fb9f3a\"],[0.8888888888888888,\"#fdca26\"],[1.0,\"#f0f921\"]],\"type\":\"histogram2d\"}],\"histogram2dcontour\":[{\"colorbar\":{\"outlinewidth\":0,\"ticks\":\"\"},\"colorscale\":[[0.0,\"#0d0887\"],[0.1111111111111111,\"#46039f\"],[0.2222222222222222,\"#7201a8\"],[0.3333333333333333,\"#9c179e\"],[0.4444444444444444,\"#bd3786\"],[0.5555555555555556,\"#d8576b\"],[0.6666666666666666,\"#ed7953\"],[0.7777777777777778,\"#fb9f3a\"],[0.8888888888888888,\"#fdca26\"],[1.0,\"#f0f921\"]],\"type\":\"histogram2dcontour\"}],\"mesh3d\":[{\"colorbar\":{\"outlinewidth\":0,\"ticks\":\"\"},\"type\":\"mesh3d\"}],\"parcoords\":[{\"line\":{\"colorbar\":{\"outlinewidth\":0,\"ticks\":\"\"}},\"type\":\"parcoords\"}],\"pie\":[{\"automargin\":true,\"type\":\"pie\"}],\"scatter\":[{\"marker\":{\"colorbar\":{\"outlinewidth\":0,\"ticks\":\"\"}},\"type\":\"scatter\"}],\"scatter3d\":[{\"line\":{\"colorbar\":{\"outlinewidth\":0,\"ticks\":\"\"}},\"marker\":{\"colorbar\":{\"outlinewidth\":0,\"ticks\":\"\"}},\"type\":\"scatter3d\"}],\"scattercarpet\":[{\"marker\":{\"colorbar\":{\"outlinewidth\":0,\"ticks\":\"\"}},\"type\":\"scattercarpet\"}],\"scattergeo\":[{\"marker\":{\"colorbar\":{\"outlinewidth\":0,\"ticks\":\"\"}},\"type\":\"scattergeo\"}],\"scattergl\":[{\"marker\":{\"colorbar\":{\"outlinewidth\":0,\"ticks\":\"\"}},\"type\":\"scattergl\"}],\"scattermapbox\":[{\"marker\":{\"colorbar\":{\"outlinewidth\":0,\"ticks\":\"\"}},\"type\":\"scattermapbox\"}],\"scatterpolar\":[{\"marker\":{\"colorbar\":{\"outlinewidth\":0,\"ticks\":\"\"}},\"type\":\"scatterpolar\"}],\"scatterpolargl\":[{\"marker\":{\"colorbar\":{\"outlinewidth\":0,\"ticks\":\"\"}},\"type\":\"scatterpolargl\"}],\"scatterternary\":[{\"marker\":{\"colorbar\":{\"outlinewidth\":0,\"ticks\":\"\"}},\"type\":\"scatterternary\"}],\"surface\":[{\"colorbar\":{\"outlinewidth\":0,\"ticks\":\"\"},\"colorscale\":[[0.0,\"#0d0887\"],[0.1111111111111111,\"#46039f\"],[0.2222222222222222,\"#7201a8\"],[0.3333333333333333,\"#9c179e\"],[0.4444444444444444,\"#bd3786\"],[0.5555555555555556,\"#d8576b\"],[0.6666666666666666,\"#ed7953\"],[0.7777777777777778,\"#fb9f3a\"],[0.8888888888888888,\"#fdca26\"],[1.0,\"#f0f921\"]],\"type\":\"surface\"}],\"table\":[{\"cells\":{\"fill\":{\"color\":\"#EBF0F8\"},\"line\":{\"color\":\"white\"}},\"header\":{\"fill\":{\"color\":\"#C8D4E3\"},\"line\":{\"color\":\"white\"}},\"type\":\"table\"}]},\"layout\":{\"annotationdefaults\":{\"arrowcolor\":\"#2a3f5f\",\"arrowhead\":0,\"arrowwidth\":1},\"autotypenumbers\":\"strict\",\"coloraxis\":{\"colorbar\":{\"outlinewidth\":0,\"ticks\":\"\"}},\"colorscale\":{\"diverging\":[[0,\"#8e0152\"],[0.1,\"#c51b7d\"],[0.2,\"#de77ae\"],[0.3,\"#f1b6da\"],[0.4,\"#fde0ef\"],[0.5,\"#f7f7f7\"],[0.6,\"#e6f5d0\"],[0.7,\"#b8e186\"],[0.8,\"#7fbc41\"],[0.9,\"#4d9221\"],[1,\"#276419\"]],\"sequential\":[[0.0,\"#0d0887\"],[0.1111111111111111,\"#46039f\"],[0.2222222222222222,\"#7201a8\"],[0.3333333333333333,\"#9c179e\"],[0.4444444444444444,\"#bd3786\"],[0.5555555555555556,\"#d8576b\"],[0.6666666666666666,\"#ed7953\"],[0.7777777777777778,\"#fb9f3a\"],[0.8888888888888888,\"#fdca26\"],[1.0,\"#f0f921\"]],\"sequentialminus\":[[0.0,\"#0d0887\"],[0.1111111111111111,\"#46039f\"],[0.2222222222222222,\"#7201a8\"],[0.3333333333333333,\"#9c179e\"],[0.4444444444444444,\"#bd3786\"],[0.5555555555555556,\"#d8576b\"],[0.6666666666666666,\"#ed7953\"],[0.7777777777777778,\"#fb9f3a\"],[0.8888888888888888,\"#fdca26\"],[1.0,\"#f0f921\"]]},\"colorway\":[\"#636efa\",\"#EF553B\",\"#00cc96\",\"#ab63fa\",\"#FFA15A\",\"#19d3f3\",\"#FF6692\",\"#B6E880\",\"#FF97FF\",\"#FECB52\"],\"font\":{\"color\":\"#2a3f5f\"},\"geo\":{\"bgcolor\":\"white\",\"lakecolor\":\"white\",\"landcolor\":\"#E5ECF6\",\"showlakes\":true,\"showland\":true,\"subunitcolor\":\"white\"},\"hoverlabel\":{\"align\":\"left\"},\"hovermode\":\"closest\",\"mapbox\":{\"style\":\"light\"},\"paper_bgcolor\":\"white\",\"plot_bgcolor\":\"#E5ECF6\",\"polar\":{\"angularaxis\":{\"gridcolor\":\"white\",\"linecolor\":\"white\",\"ticks\":\"\"},\"bgcolor\":\"#E5ECF6\",\"radialaxis\":{\"gridcolor\":\"white\",\"linecolor\":\"white\",\"ticks\":\"\"}},\"scene\":{\"xaxis\":{\"backgroundcolor\":\"#E5ECF6\",\"gridcolor\":\"white\",\"gridwidth\":2,\"linecolor\":\"white\",\"showbackground\":true,\"ticks\":\"\",\"zerolinecolor\":\"white\"},\"yaxis\":{\"backgroundcolor\":\"#E5ECF6\",\"gridcolor\":\"white\",\"gridwidth\":2,\"linecolor\":\"white\",\"showbackground\":true,\"ticks\":\"\",\"zerolinecolor\":\"white\"},\"zaxis\":{\"backgroundcolor\":\"#E5ECF6\",\"gridcolor\":\"white\",\"gridwidth\":2,\"linecolor\":\"white\",\"showbackground\":true,\"ticks\":\"\",\"zerolinecolor\":\"white\"}},\"shapedefaults\":{\"line\":{\"color\":\"#2a3f5f\"}},\"ternary\":{\"aaxis\":{\"gridcolor\":\"white\",\"linecolor\":\"white\",\"ticks\":\"\"},\"baxis\":{\"gridcolor\":\"white\",\"linecolor\":\"white\",\"ticks\":\"\"},\"bgcolor\":\"#E5ECF6\",\"caxis\":{\"gridcolor\":\"white\",\"linecolor\":\"white\",\"ticks\":\"\"}},\"title\":{\"x\":0.05},\"xaxis\":{\"automargin\":true,\"gridcolor\":\"white\",\"linecolor\":\"white\",\"ticks\":\"\",\"title\":{\"standoff\":15},\"zerolinecolor\":\"white\",\"zerolinewidth\":2},\"yaxis\":{\"automargin\":true,\"gridcolor\":\"white\",\"linecolor\":\"white\",\"ticks\":\"\",\"title\":{\"standoff\":15},\"zerolinecolor\":\"white\",\"zerolinewidth\":2}}},\"title\":{\"text\":\"Life expectancy in Ugoland\"},\"xaxis\":{\"anchor\":\"y\",\"domain\":[0.0,1.0],\"title\":{\"text\":\"Depth\"}},\"yaxis\":{\"anchor\":\"x\",\"domain\":[0.0,1.0],\"title\":{\"text\":\"Accuracy\"}}},                        {\"responsive\": true}                    ).then(function(){\n                            \nvar gd = document.getElementById('bfc6dd8f-1f85-4125-ad2f-d9c6c4969d50');\nvar x = new MutationObserver(function (mutations, observer) {{\n        var display = window.getComputedStyle(gd).display;\n        if (!display || display === 'none') {{\n            console.log([gd, 'removed!']);\n            Plotly.purge(gd);\n            observer.disconnect();\n        }}\n}});\n\n// Listen for the removal of the full notebook cells\nvar notebookContainer = gd.closest('#notebook-container');\nif (notebookContainer) {{\n    x.observe(notebookContainer, {childList: true});\n}}\n\n// Listen for the clearing of the current output cell\nvar outputEl = gd.closest('.output');\nif (outputEl) {{\n    x.observe(outputEl, {childList: true});\n}}\n\n                        })                };                            </script>        </div>\n</body>\n</html>"
     },
     "metadata": {},
     "output_type": "display_data"
    }
   ],
   "execution_count": null
  },
  {
   "cell_type": "code",
   "metadata": {
    "tags": [],
    "cell_id": "00061-1a624ecf-e3d8-4eae-811d-fd06915be624",
    "deepnote_to_be_reexecuted": true,
    "source_hash": "a56db2f4",
    "execution_start": 1638299551010,
    "execution_millis": 134,
    "deepnote_output_heights": [
     420.66668701171875,
     420.66668701171875
    ],
    "deepnote_cell_type": "code"
   },
   "source": "# Addestro l'albero di decisione\nclf = tree.DecisionTreeClassifier(max_depth=2)\nclf = clf.fit(X_train, y_train)\n\n# Eseguo il plot dell'albero di decisione creato\ndot_data = tree.export_graphviz(clf, out_file=None,\n    feature_names=features_names,\n    class_names=[str(val) for val in set(t5_data['labels'])], #['Ugo', 'Federico', 'D.Va'],\n    filled=True, rounded=True,\n    special_characters=True)\ngraph = graphviz.Source(dot_data)\ngraph",
   "outputs": [
    {
     "output_type": "execute_result",
     "execution_count": 53,
     "data": {
      "text/plain": "<graphviz.sources.Source at 0x7fd4346cafd0>",
      "image/svg+xml": "<?xml version=\"1.0\" encoding=\"UTF-8\" standalone=\"no\"?>\n<!DOCTYPE svg PUBLIC \"-//W3C//DTD SVG 1.1//EN\"\n \"http://www.w3.org/Graphics/SVG/1.1/DTD/svg11.dtd\">\n<!-- Generated by graphviz version 2.40.1 (20161225.0304)\n -->\n<!-- Title: Tree Pages: 1 -->\n<svg width=\"622pt\" height=\"314pt\"\n viewBox=\"0.00 0.00 622.00 314.00\" xmlns=\"http://www.w3.org/2000/svg\" xmlns:xlink=\"http://www.w3.org/1999/xlink\">\n<g id=\"graph0\" class=\"graph\" transform=\"scale(1 1) rotate(0) translate(4 310)\">\n<title>Tree</title>\n<polygon fill=\"#ffffff\" stroke=\"transparent\" points=\"-4,4 -4,-310 618,-310 618,4 -4,4\"/>\n<!-- 0 -->\n<g id=\"node1\" class=\"node\">\n<title>0</title>\n<path fill=\"#ffffff\" stroke=\"#000000\" d=\"M376,-306C376,-306 241,-306 241,-306 235,-306 229,-300 229,-294 229,-294 229,-235 229,-235 229,-229 235,-223 241,-223 241,-223 376,-223 376,-223 382,-223 388,-229 388,-235 388,-235 388,-294 388,-294 388,-300 382,-306 376,-306\"/>\n<text text-anchor=\"start\" x=\"269\" y=\"-290.8\" font-family=\"Helvetica,sans-Serif\" font-size=\"14.00\" fill=\"#000000\">F1 ≤ 0.204</text>\n<text text-anchor=\"start\" x=\"264.5\" y=\"-275.8\" font-family=\"Helvetica,sans-Serif\" font-size=\"14.00\" fill=\"#000000\">gini = 0.667</text>\n<text text-anchor=\"start\" x=\"258.5\" y=\"-260.8\" font-family=\"Helvetica,sans-Serif\" font-size=\"14.00\" fill=\"#000000\">samples = 65</text>\n<text text-anchor=\"start\" x=\"237\" y=\"-245.8\" font-family=\"Helvetica,sans-Serif\" font-size=\"14.00\" fill=\"#000000\">value = [21, 22, 22]</text>\n<text text-anchor=\"start\" x=\"275.5\" y=\"-230.8\" font-family=\"Helvetica,sans-Serif\" font-size=\"14.00\" fill=\"#000000\">class = 1</text>\n</g>\n<!-- 1 -->\n<g id=\"node2\" class=\"node\">\n<title>1</title>\n<path fill=\"#ffffff\" stroke=\"#000000\" d=\"M289.5,-187C289.5,-187 163.5,-187 163.5,-187 157.5,-187 151.5,-181 151.5,-175 151.5,-175 151.5,-116 151.5,-116 151.5,-110 157.5,-104 163.5,-104 163.5,-104 289.5,-104 289.5,-104 295.5,-104 301.5,-110 301.5,-116 301.5,-116 301.5,-175 301.5,-175 301.5,-181 295.5,-187 289.5,-187\"/>\n<text text-anchor=\"start\" x=\"184\" y=\"-171.8\" font-family=\"Helvetica,sans-Serif\" font-size=\"14.00\" fill=\"#000000\">F0 ≤ &#45;1.521</text>\n<text text-anchor=\"start\" x=\"191.5\" y=\"-156.8\" font-family=\"Helvetica,sans-Serif\" font-size=\"14.00\" fill=\"#000000\">gini = 0.5</text>\n<text text-anchor=\"start\" x=\"176.5\" y=\"-141.8\" font-family=\"Helvetica,sans-Serif\" font-size=\"14.00\" fill=\"#000000\">samples = 42</text>\n<text text-anchor=\"start\" x=\"159.5\" y=\"-126.8\" font-family=\"Helvetica,sans-Serif\" font-size=\"14.00\" fill=\"#000000\">value = [0, 21, 21]</text>\n<text text-anchor=\"start\" x=\"193.5\" y=\"-111.8\" font-family=\"Helvetica,sans-Serif\" font-size=\"14.00\" fill=\"#000000\">class = 1</text>\n</g>\n<!-- 0&#45;&gt;1 -->\n<g id=\"edge1\" class=\"edge\">\n<title>0&#45;&gt;1</title>\n<path fill=\"none\" stroke=\"#000000\" d=\"M279.8204,-222.8796C273.7385,-214.0534 267.2578,-204.6485 260.9859,-195.5466\"/>\n<polygon fill=\"#000000\" stroke=\"#000000\" points=\"263.8582,-193.5465 255.302,-187.2981 258.0941,-197.5184 263.8582,-193.5465\"/>\n<text text-anchor=\"middle\" x=\"250.7761\" y=\"-208.185\" font-family=\"Helvetica,sans-Serif\" font-size=\"14.00\" fill=\"#000000\">True</text>\n</g>\n<!-- 4 -->\n<g id=\"node5\" class=\"node\">\n<title>4</title>\n<path fill=\"#e78c4b\" stroke=\"#000000\" d=\"M449,-187C449,-187 332,-187 332,-187 326,-187 320,-181 320,-175 320,-175 320,-116 320,-116 320,-110 326,-104 332,-104 332,-104 449,-104 449,-104 455,-104 461,-110 461,-116 461,-116 461,-175 461,-175 461,-181 455,-187 449,-187\"/>\n<text text-anchor=\"start\" x=\"348\" y=\"-171.8\" font-family=\"Helvetica,sans-Serif\" font-size=\"14.00\" fill=\"#000000\">F0 ≤ &#45;0.953</text>\n<text text-anchor=\"start\" x=\"346.5\" y=\"-156.8\" font-family=\"Helvetica,sans-Serif\" font-size=\"14.00\" fill=\"#000000\">gini = 0.163</text>\n<text text-anchor=\"start\" x=\"340.5\" y=\"-141.8\" font-family=\"Helvetica,sans-Serif\" font-size=\"14.00\" fill=\"#000000\">samples = 23</text>\n<text text-anchor=\"start\" x=\"328\" y=\"-126.8\" font-family=\"Helvetica,sans-Serif\" font-size=\"14.00\" fill=\"#000000\">value = [21, 1, 1]</text>\n<text text-anchor=\"start\" x=\"357.5\" y=\"-111.8\" font-family=\"Helvetica,sans-Serif\" font-size=\"14.00\" fill=\"#000000\">class = 0</text>\n</g>\n<!-- 0&#45;&gt;4 -->\n<g id=\"edge4\" class=\"edge\">\n<title>0&#45;&gt;4</title>\n<path fill=\"none\" stroke=\"#000000\" d=\"M337.1796,-222.8796C343.2615,-214.0534 349.7422,-204.6485 356.0141,-195.5466\"/>\n<polygon fill=\"#000000\" stroke=\"#000000\" points=\"358.9059,-197.5184 361.698,-187.2981 353.1418,-193.5465 358.9059,-197.5184\"/>\n<text text-anchor=\"middle\" x=\"366.2239\" y=\"-208.185\" font-family=\"Helvetica,sans-Serif\" font-size=\"14.00\" fill=\"#000000\">False</text>\n</g>\n<!-- 2 -->\n<g id=\"node3\" class=\"node\">\n<title>2</title>\n<path fill=\"#39e581\" stroke=\"#000000\" d=\"M129,-68C129,-68 12,-68 12,-68 6,-68 0,-62 0,-56 0,-56 0,-12 0,-12 0,-6 6,0 12,0 12,0 129,0 129,0 135,0 141,-6 141,-12 141,-12 141,-56 141,-56 141,-62 135,-68 129,-68\"/>\n<text text-anchor=\"start\" x=\"35.5\" y=\"-52.8\" font-family=\"Helvetica,sans-Serif\" font-size=\"14.00\" fill=\"#000000\">gini = 0.0</text>\n<text text-anchor=\"start\" x=\"20.5\" y=\"-37.8\" font-family=\"Helvetica,sans-Serif\" font-size=\"14.00\" fill=\"#000000\">samples = 18</text>\n<text text-anchor=\"start\" x=\"8\" y=\"-22.8\" font-family=\"Helvetica,sans-Serif\" font-size=\"14.00\" fill=\"#000000\">value = [0, 18, 0]</text>\n<text text-anchor=\"start\" x=\"37.5\" y=\"-7.8\" font-family=\"Helvetica,sans-Serif\" font-size=\"14.00\" fill=\"#000000\">class = 1</text>\n</g>\n<!-- 1&#45;&gt;2 -->\n<g id=\"edge2\" class=\"edge\">\n<title>1&#45;&gt;2</title>\n<path fill=\"none\" stroke=\"#000000\" d=\"M168.4114,-103.9815C154.7811,-94.2394 140.2816,-83.8759 126.7342,-74.193\"/>\n<polygon fill=\"#000000\" stroke=\"#000000\" points=\"128.6092,-71.2311 118.4384,-68.2637 124.5388,-76.926 128.6092,-71.2311\"/>\n</g>\n<!-- 3 -->\n<g id=\"node4\" class=\"node\">\n<title>3</title>\n<path fill=\"#9355e9\" stroke=\"#000000\" d=\"M288,-68C288,-68 171,-68 171,-68 165,-68 159,-62 159,-56 159,-56 159,-12 159,-12 159,-6 165,0 171,0 171,0 288,0 288,0 294,0 300,-6 300,-12 300,-12 300,-56 300,-56 300,-62 294,-68 288,-68\"/>\n<text text-anchor=\"start\" x=\"185.5\" y=\"-52.8\" font-family=\"Helvetica,sans-Serif\" font-size=\"14.00\" fill=\"#000000\">gini = 0.219</text>\n<text text-anchor=\"start\" x=\"179.5\" y=\"-37.8\" font-family=\"Helvetica,sans-Serif\" font-size=\"14.00\" fill=\"#000000\">samples = 24</text>\n<text text-anchor=\"start\" x=\"167\" y=\"-22.8\" font-family=\"Helvetica,sans-Serif\" font-size=\"14.00\" fill=\"#000000\">value = [0, 3, 21]</text>\n<text text-anchor=\"start\" x=\"196.5\" y=\"-7.8\" font-family=\"Helvetica,sans-Serif\" font-size=\"14.00\" fill=\"#000000\">class = 2</text>\n</g>\n<!-- 1&#45;&gt;3 -->\n<g id=\"edge3\" class=\"edge\">\n<title>1&#45;&gt;3</title>\n<path fill=\"none\" stroke=\"#000000\" d=\"M227.6171,-103.9815C227.8421,-95.618 228.0795,-86.7965 228.307,-78.3409\"/>\n<polygon fill=\"#000000\" stroke=\"#000000\" points=\"231.8078,-78.3542 228.5781,-68.2637 224.8103,-78.1659 231.8078,-78.3542\"/>\n</g>\n<!-- 5 -->\n<g id=\"node6\" class=\"node\">\n<title>5</title>\n<path fill=\"#39e581\" stroke=\"#000000\" d=\"M442.5,-68C442.5,-68 334.5,-68 334.5,-68 328.5,-68 322.5,-62 322.5,-56 322.5,-56 322.5,-12 322.5,-12 322.5,-6 328.5,0 334.5,0 334.5,0 442.5,0 442.5,0 448.5,0 454.5,-6 454.5,-12 454.5,-12 454.5,-56 454.5,-56 454.5,-62 448.5,-68 442.5,-68\"/>\n<text text-anchor=\"start\" x=\"353.5\" y=\"-52.8\" font-family=\"Helvetica,sans-Serif\" font-size=\"14.00\" fill=\"#000000\">gini = 0.0</text>\n<text text-anchor=\"start\" x=\"343\" y=\"-37.8\" font-family=\"Helvetica,sans-Serif\" font-size=\"14.00\" fill=\"#000000\">samples = 1</text>\n<text text-anchor=\"start\" x=\"330.5\" y=\"-22.8\" font-family=\"Helvetica,sans-Serif\" font-size=\"14.00\" fill=\"#000000\">value = [0, 1, 0]</text>\n<text text-anchor=\"start\" x=\"355.5\" y=\"-7.8\" font-family=\"Helvetica,sans-Serif\" font-size=\"14.00\" fill=\"#000000\">class = 1</text>\n</g>\n<!-- 4&#45;&gt;5 -->\n<g id=\"edge5\" class=\"edge\">\n<title>4&#45;&gt;5</title>\n<path fill=\"none\" stroke=\"#000000\" d=\"M389.7553,-103.9815C389.6053,-95.618 389.447,-86.7965 389.2954,-78.3409\"/>\n<polygon fill=\"#000000\" stroke=\"#000000\" points=\"392.7935,-78.1993 389.1146,-68.2637 385.7946,-78.3249 392.7935,-78.1993\"/>\n</g>\n<!-- 6 -->\n<g id=\"node7\" class=\"node\">\n<title>6</title>\n<path fill=\"#e68742\" stroke=\"#000000\" d=\"M602,-68C602,-68 485,-68 485,-68 479,-68 473,-62 473,-56 473,-56 473,-12 473,-12 473,-6 479,0 485,0 485,0 602,0 602,0 608,0 614,-6 614,-12 614,-12 614,-56 614,-56 614,-62 608,-68 602,-68\"/>\n<text text-anchor=\"start\" x=\"499.5\" y=\"-52.8\" font-family=\"Helvetica,sans-Serif\" font-size=\"14.00\" fill=\"#000000\">gini = 0.087</text>\n<text text-anchor=\"start\" x=\"493.5\" y=\"-37.8\" font-family=\"Helvetica,sans-Serif\" font-size=\"14.00\" fill=\"#000000\">samples = 22</text>\n<text text-anchor=\"start\" x=\"481\" y=\"-22.8\" font-family=\"Helvetica,sans-Serif\" font-size=\"14.00\" fill=\"#000000\">value = [21, 0, 1]</text>\n<text text-anchor=\"start\" x=\"510.5\" y=\"-7.8\" font-family=\"Helvetica,sans-Serif\" font-size=\"14.00\" fill=\"#000000\">class = 0</text>\n</g>\n<!-- 4&#45;&gt;6 -->\n<g id=\"edge6\" class=\"edge\">\n<title>4&#45;&gt;6</title>\n<path fill=\"none\" stroke=\"#000000\" d=\"M447.4716,-103.9815C460.8396,-94.2394 475.0604,-83.8759 488.3472,-74.193\"/>\n<polygon fill=\"#000000\" stroke=\"#000000\" points=\"490.4632,-76.9819 496.4835,-68.2637 486.3405,-71.3247 490.4632,-76.9819\"/>\n</g>\n</g>\n</svg>\n"
     },
     "metadata": {}
    }
   ],
   "execution_count": null
  },
  {
   "cell_type": "code",
   "metadata": {
    "tags": [],
    "cell_id": "00063-1463aafe-6ead-4826-9b72-f408a4ba5066",
    "deepnote_to_be_reexecuted": true,
    "source_hash": "822e6f90",
    "execution_start": 1638299551158,
    "execution_millis": 32,
    "deepnote_output_heights": [
     null,
     21.199996948242188
    ],
    "deepnote_cell_type": "code"
   },
   "source": "# Predico con l'albero di decisione\ny_pred = clf.predict(X_test)\nprint(\"DT - Predictions:\\n\", y_pred)\nprint(\"Reals:\\n\", y_test)\nprint(\"Accuracy\", format_float(accuracy_score(y_test, y_pred)))",
   "outputs": [
    {
     "name": "stdout",
     "text": "DT - Predictions:\n [2. 1. 1. 0. 0. 2. 2. 1. 2. 2. 0. 0. 2. 0. 2. 0. 0. 1. 0. 2. 0. 2. 2. 2.\n 1. 1. 1. 1.]\nReals:\n [2. 1. 1. 0. 0. 1. 0. 1. 2. 2. 0. 0. 2. 2. 2. 0. 0. 1. 1. 0. 0. 2. 2. 2.\n 0. 1. 1. 1.]\nAccuracy 0.7857\n",
     "output_type": "stream"
    }
   ],
   "execution_count": null
  },
  {
   "cell_type": "code",
   "metadata": {
    "tags": [],
    "cell_id": "00066-47aa80fa-7c34-46da-8f1b-77ee86f8b4fe",
    "deepnote_to_be_reexecuted": true,
    "source_hash": "b623e53d",
    "execution_start": 1638299551197,
    "execution_millis": 4,
    "deepnote_cell_type": "code"
   },
   "source": "",
   "outputs": [],
   "execution_count": null
  },
  {
   "cell_type": "markdown",
   "source": "<a style='text-decoration:none;line-height:16px;display:flex;color:#5B5B62;padding:10px;justify-content:end;' href='https://deepnote.com?utm_source=created-in-deepnote-cell&projectId=81dda25b-3b1c-4959-acc8-4a8b980be717' target=\"_blank\">\n<img alt='Created in deepnote.com' style='display:inline;max-height:16px;margin:0px;margin-right:7.5px;' src='data:image/svg+xml;base64,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' > </img>\nCreated in <span style='font-weight:600;margin-left:4px;'>Deepnote</span></a>",
   "metadata": {
    "tags": [],
    "created_in_deepnote_cell": true,
    "deepnote_cell_type": "markdown"
   }
  }
 ],
 "nbformat": 4,
 "nbformat_minor": 2,
 "metadata": {
  "orig_nbformat": 2,
  "deepnote": {
   "is_reactive": false
  },
  "deepnote_notebook_id": "e09f2adf-083e-4839-9bb5-7d8776406a70",
  "deepnote_execution_queue": []
 }
}