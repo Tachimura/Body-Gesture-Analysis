{
 "cells": [
  {
   "cell_type": "markdown",
   "source": "# BDM Exam Project - Part 2",
   "metadata": {
    "tags": [],
    "cell_id": "00000-8372ca05-7983-4b78-9184-019ba314114c",
    "deepnote_cell_type": "markdown"
   }
  },
  {
   "cell_type": "markdown",
   "source": "## TODO:\nTASK 0:\n- ridurre precisione (forse) per la generazione dei simboli dell'alfabeto (deve generarne quanti ne chiedo io, non di più, quindi in caso contrario castrare)\n\nTASK2 E 3:\n - tkms (semantiche latenti) deve essere calcolata come distanza euclidea e non fare la - fra matrice e vettore\n",
   "metadata": {
    "tags": [],
    "cell_id": "00001-36d412ad-00a8-4bff-a4a6-6e2b48a48bc2",
    "deepnote_cell_type": "markdown"
   }
  },
  {
   "cell_type": "markdown",
   "source": "## Imports",
   "metadata": {
    "tags": [],
    "is_collapsed": false,
    "cell_id": "00001-e7a911cb-1821-422d-8f2f-057c00b923a7",
    "deepnote_cell_type": "text-cell-h2"
   }
  },
  {
   "cell_type": "code",
   "metadata": {
    "tags": [],
    "cell_id": "00002-cb5942af-91be-4d6f-8734-41bb867f669d",
    "deepnote_to_be_reexecuted": false,
    "source_hash": "27ec2fc8",
    "execution_start": 1638302802071,
    "execution_millis": 1750,
    "deepnote_output_heights": [
     40.375
    ],
    "deepnote_cell_type": "code"
   },
   "source": "# General utils\nimport os\nimport shutil\nimport numpy as np\n\n# per i plot\nimport plotly.express as px\nimport plotly.graph_objects as go\n# ---------- ---------- ---------- ---------- ----------\n\n# My general utils\nfrom my_utils import get_files_name, format_float\n# ---------- ---------- ---------- ---------- ----------\n\n# Task 0\nfrom task0_utils import task0_stats\n# Parte A\nfrom task0_utils import generate_alphabet, gesture_2_word, write_word_as_json, generate_dizionario_parole_from_gesturewordsdict\n# Parte B\nfrom task0_utils import gesture_words_preprocessing, show_gesture_metrics\n# ---------- ---------- ---------- ---------- ----------\n\n# Task 1\nfrom task1_utils import read_gesture_measures_reduced, metrics_reduced_2_numpy, metrics_numpy_2_pandas\nfrom task1_utils import metrics_numpy_2_PCA, metrics_numpy_2_LDA, metrics_numpy_2_SVD\nfrom task1_utils import get_top_k_latent_features, prepare_alg_variances_to_plot\n# ---------- ---------- ---------- ---------- ----------\n\n# Task 2\nfrom task2_utils import generate_matrix_ed_dtw\nfrom task2_utils import find_k_most_similar_dp, find_k_most_similar_tksem, find_k_most_similar_ed, find_k_most_similar_dtw\n# ---------- ---------- ---------- ---------- ----------\n\n# Task 3\nfrom task3_utils import generate_gestures_similarity_matrix_dp, generate_gestures_similarity_matrix_tksem\nfrom task3_utils import generate_gestures_similarity_matrix_ed, generate_gestures_similarity_matrix_dtw\nfrom task3_utils import gestures_similarity_matrix_2_pandas, generate_gesture_gesture_svd, get_top_p_latent_gestures\n# ---------- ---------- ---------- ---------- ----------\n\n# Task 4\nfrom task4_utils import cluster_labels_2_pandas, top_p_gestures_2_numpy\n# Parte A\nfrom task4_utils import MyPartitioner\n# Parte B\nfrom task4_utils import SimpleKMeans\n# Parte C\nfrom task4_utils import spectral_clustering_analyze, spectral_clustering\nfrom task4_utils import spectral_analisys_results_2_pandas, spectral_analisys_results_pandas_2_split\n# ---------- ---------- ---------- ---------- ----------\n\n# Task 5\nfrom task5_utils import database_numpy_2_supervised_data, test_knn_best_K, test_tree_best_depth\n\nfrom sklearn.metrics import accuracy_score\n# KNN classifier\nfrom sklearn.neighbors import KNeighborsClassifier\n# Decision Tree classifier\nfrom sklearn import tree\nimport graphviz \n# ---------- ---------- ---------- ---------- ----------",
   "execution_count": 1,
   "outputs": []
  },
  {
   "cell_type": "markdown",
   "source": "## Task 0",
   "metadata": {
    "tags": [],
    "is_collapsed": false,
    "cell_id": "00003-44add2df-f923-4f64-bca8-a523401b6bfc",
    "deepnote_cell_type": "text-cell-h2"
   }
  },
  {
   "cell_type": "code",
   "metadata": {
    "deepnote_variable_name": "path_csv_directory",
    "deepnote_variable_value": "../Dati_2/csv/",
    "cell_id": "00003-654eb8b5-36b7-4241-ab02-b10556446202",
    "deepnote_to_be_reexecuted": false,
    "source_hash": "b7faf05a",
    "execution_start": 1638302803836,
    "execution_millis": 13,
    "deepnote_cell_type": "input-text"
   },
   "source": "path_csv_directory = '../Dati_2/csv/'",
   "execution_count": 2,
   "outputs": []
  },
  {
   "cell_type": "code",
   "metadata": {
    "deepnote_variable_name": "path_words_directory",
    "deepnote_variable_value": "../Dati_2/words/",
    "cell_id": "00006-abe6fad0-cc88-44ef-b239-4a3ab59617ca",
    "deepnote_to_be_reexecuted": false,
    "source_hash": "14bb7c6c",
    "execution_start": 1638302803864,
    "execution_millis": 40,
    "deepnote_cell_type": "input-text"
   },
   "source": "path_words_directory = '../Dati_2/words/'",
   "execution_count": 3,
   "outputs": []
  },
  {
   "cell_type": "code",
   "metadata": {
    "deepnote_variable_name": "path_vectors_directory",
    "deepnote_variable_value": "../Dati_2/vectors/",
    "cell_id": "00007-a6402a1b-7cac-4925-b172-2db72134598e",
    "deepnote_to_be_reexecuted": false,
    "source_hash": "3edc11a8",
    "execution_start": 1638302803954,
    "execution_millis": 0,
    "deepnote_cell_type": "input-text"
   },
   "source": "path_vectors_directory = '../Dati_2/vectors/'",
   "execution_count": 4,
   "outputs": []
  },
  {
   "cell_type": "markdown",
   "source": "Inserire le coordinate che compongono il gesto separate da un trattino:",
   "metadata": {
    "tags": [],
    "is_collapsed": false,
    "cell_id": "00004-960f3675-011c-43a5-9c57-0dbc4c51a806",
    "deepnote_cell_type": "text-cell-p"
   }
  },
  {
   "cell_type": "code",
   "metadata": {
    "deepnote_variable_name": "input_data_components",
    "deepnote_variable_value": "X-Y-Z-W",
    "cell_id": "00005-9d5e77d9-d1b7-44e2-873a-c01b72b5b714",
    "deepnote_to_be_reexecuted": false,
    "source_hash": "a12cce7",
    "execution_start": 1638302803997,
    "execution_millis": 1,
    "deepnote_cell_type": "input-text"
   },
   "source": "input_data_components = 'X-Y-Z-W'",
   "execution_count": 5,
   "outputs": []
  },
  {
   "cell_type": "markdown",
   "source": "Inserire un valore per R (2R è il numero di simboli dell'alfabeto)",
   "metadata": {
    "tags": [],
    "is_collapsed": false,
    "cell_id": "00008-70103ada-8b72-4f87-82a9-c7c2bff33365",
    "deepnote_cell_type": "text-cell-p"
   }
  },
  {
   "cell_type": "code",
   "metadata": {
    "deepnote_variable_name": "input_interval_resolution",
    "deepnote_variable_value": "6",
    "cell_id": "00009-598da1f3-1b47-46f7-9b8a-6c5ff8c1bb73",
    "deepnote_to_be_reexecuted": false,
    "source_hash": "bfc0a159",
    "execution_start": 1638302803998,
    "execution_millis": 2528550,
    "deepnote_cell_type": "input-text"
   },
   "source": "input_interval_resolution = '6'",
   "execution_count": 6,
   "outputs": []
  },
  {
   "cell_type": "code",
   "metadata": {
    "tags": [],
    "cell_id": "00007-74fd2943-5f7b-4279-b9fb-2cd9f8bdf6f5",
    "deepnote_to_be_reexecuted": false,
    "source_hash": "8eda3704",
    "execution_start": 1638302804042,
    "execution_millis": 133,
    "deepnote_cell_type": "code"
   },
   "source": "data_components = input_data_components.strip().split(\"-\")\ntask0_stats[\"r\"] = int(input_interval_resolution.strip())\n\n# Rigenero i vari file path (per words e vectors)\nif os.path.exists(path_words_directory):\n    shutil.rmtree(path_words_directory)\nos.makedirs(path_words_directory)\nif os.path.exists(path_vectors_directory):\n    shutil.rmtree(path_vectors_directory)\nos.makedirs(path_vectors_directory)",
   "execution_count": 7,
   "outputs": []
  },
  {
   "cell_type": "code",
   "metadata": {
    "tags": [],
    "cell_id": "00013-049aa084-0991-44a0-ae1f-d75d205f14d8",
    "deepnote_to_be_reexecuted": false,
    "source_hash": "3e0bdde5",
    "execution_start": 1638302804184,
    "execution_millis": 59680,
    "deepnote_cell_type": "code"
   },
   "source": "# Mi prendo il nome di tutti i files\ngesture_files = get_files_name(path_csv_directory + \"X/\", ext_filter=\"csv\")\nalfabeto = generate_alphabet(gesture_files, data_components, path_csv_directory, task0_stats)",
   "execution_count": 8,
   "outputs": []
  },
  {
   "cell_type": "code",
   "source": "print(alfabeto.simboli)\n#print(alfabeto.parole)\nprint(\"Numero simboli:\", alfabeto.n_simboli)\nprint(\"Numero parole:\", alfabeto.n_parole)",
   "metadata": {
    "tags": [],
    "cell_id": "00014-f347bd06-7556-4043-916e-abd524841178",
    "deepnote_to_be_reexecuted": false,
    "source_hash": "d1b0c220",
    "execution_start": 1638302863889,
    "execution_millis": 7,
    "deepnote_cell_type": "code"
   },
   "outputs": [
    {
     "name": "stdout",
     "text": "{'0.24752': (0.0, 0.49505), '-0.24752': (0.0, -0.49505), '0.65634': (0.49505, 0.81763), '-0.65634': (-0.49505, -0.81763), '0.88609': (0.81763, 0.95456), '-0.88609': (-0.81763, -0.95456), '0.97348': (0.95456, 0.9924), '-0.97348': (-0.95456, -0.9924), '0.9958': (0.9924, 0.9992), '-0.9958': (-0.9924, -0.9992), '0.9996': (0.9992, 0.99999), '-0.9996': (-0.9992, -0.99999), '1.00002': (0.99999, 1.0), '-1.00002': (-0.99999, -1.0)}\nNumero simboli: 14\nNumero parole: 1277\n",
     "output_type": "stream"
    }
   ],
   "execution_count": 9
  },
  {
   "cell_type": "markdown",
   "source": "### Task 0A",
   "metadata": {
    "tags": [],
    "is_collapsed": false,
    "cell_id": "00010-695b39bf-40e0-4e20-ada3-0672059bd901",
    "deepnote_cell_type": "text-cell-h3"
   }
  },
  {
   "cell_type": "code",
   "metadata": {
    "tags": [],
    "cell_id": "00016-320d5da2-7d1e-4619-b75a-c6b34a37c5b2",
    "deepnote_to_be_reexecuted": false,
    "source_hash": "93ffbd30",
    "execution_start": 1638302863991,
    "execution_millis": 60079,
    "deepnote_cell_type": "code"
   },
   "source": "dizionario_gesti_parole = {}\n\nfor gesture_file_name in gesture_files:\n    gesture_words_dict = gesture_2_word(gesture_file_name, data_components, alfabeto, path_csv_directory, task0_stats)\n    # Salvo solo le info necessarie relative alle parole (come richiesto nel testo)\n    dizionario_parole_gesture = generate_dizionario_parole_from_gesturewordsdict(gesture_words_dict)\n    dizionario_gesti_parole[gesture_file_name.split(\".\")[0]] = dizionario_parole_gesture\n    # Salvo su file il dizionario completo\n    write_word_as_json(gesture_words_dict, gesture_file_name, path_words_directory)",
   "execution_count": 10,
   "outputs": []
  },
  {
   "cell_type": "code",
   "metadata": {
    "tags": [],
    "cell_id": "00017-df73132d-dd28-422e-bcf9-cee19fde9521",
    "deepnote_to_be_reexecuted": false,
    "source_hash": "b6c4fafc",
    "execution_start": 1638302924080,
    "execution_millis": 15,
    "deepnote_cell_type": "code"
   },
   "source": "#dizionario_gesti_parole['1']",
   "execution_count": 11,
   "outputs": []
  },
  {
   "cell_type": "markdown",
   "source": "### Task 0B",
   "metadata": {
    "tags": [],
    "is_collapsed": false,
    "cell_id": "00012-11c64cd4-a6ab-4f60-83e6-e185a99dad47",
    "deepnote_cell_type": "text-cell-h3"
   }
  },
  {
   "cell_type": "code",
   "metadata": {
    "tags": [],
    "cell_id": "00019-339613d5-9030-4622-a83b-40ba07478fdc",
    "deepnote_to_be_reexecuted": false,
    "source_hash": "ad02c073",
    "execution_start": 1638302924121,
    "execution_millis": 28307,
    "deepnote_cell_type": "code"
   },
   "source": "# Mi prendo la lista di tutti i file words\nwords_files = get_files_name(path_words_directory, ext_filter=\"wrd\")\n\n# CALCOLARE IL NUMERO DI SENSORI (anche se so che ce ne sono 20, in questo modo rimane più parametrico)\nn_sensori = 0\nfor (_, sensor, word), cont in dizionario_gesti_parole[next(iter(dizionario_gesti_parole))].items():\n    sensor = int(sensor)\n    if n_sensori > sensor: # ho già ciclato una volta su tutti i sensori, è inutile ricontrollare per le altre coordinate\n        break\n    if n_sensori < sensor:\n        n_sensori = sensor\nn_sensori += 1 # Correzione dato che i sensori partono da 0 e a me serve sapere quanti ce ne sono\n\n# Eseguo x il nostro dataset\nt0b_preprocessing_settings = {\n    'dizionario_gesti_parole': dizionario_gesti_parole,\n    'data_components': data_components,\n    'words_files': words_files,\n    'n_sensori': n_sensori,\n    'alfabeto': alfabeto,\n    'path_words_directory': path_words_directory,\n    'path_vectors_directory': path_vectors_directory # mettere a None o a caso se si mette save=False nel metodo\n}\n# Calcolo TF, IDF, TF-IDF di ogni gesto\ngestures_metrics = gesture_words_preprocessing(t0b_preprocessing_settings)",
   "execution_count": 12,
   "outputs": []
  },
  {
   "cell_type": "code",
   "metadata": {
    "tags": [],
    "cell_id": "00020-7c36a3da-d893-4958-8894-7fc35c5aa41e",
    "deepnote_to_be_reexecuted": false,
    "source_hash": "1fe76d2b",
    "execution_start": 1638302952429,
    "execution_millis": 0,
    "deepnote_cell_type": "code"
   },
   "source": "#show_gesture_metrics(gestures_metrics[0])",
   "execution_count": 13,
   "outputs": []
  },
  {
   "cell_type": "markdown",
   "source": "## Task 1",
   "metadata": {
    "tags": [],
    "is_collapsed": false,
    "cell_id": "00021-d42fafd2-d117-4556-bc4f-eac7aca3e403",
    "deepnote_cell_type": "text-cell-h2"
   }
  },
  {
   "cell_type": "code",
   "metadata": {
    "deepnote_variable_name": "input_task1_gesti_directory",
    "deepnote_variable_value": "../Dati_2/csv/",
    "cell_id": "00022-8d12824b-1681-44bc-a0f3-975f336eeacb",
    "deepnote_to_be_reexecuted": false,
    "source_hash": "7e508682",
    "execution_start": 1638302952429,
    "execution_millis": 1,
    "deepnote_cell_type": "input-text"
   },
   "source": "input_task1_gesti_directory = '../Dati_2/csv/'",
   "execution_count": 14,
   "outputs": []
  },
  {
   "cell_type": "code",
   "metadata": {
    "deepnote_variable_name": "input_task1_data_components",
    "deepnote_variable_value": "X-Y-W-Z",
    "cell_id": "00023-f2b03f2f-8666-4c59-a6c5-e88ff27e8d58",
    "deepnote_to_be_reexecuted": false,
    "source_hash": "e7fe2f0e",
    "execution_start": 1638302952438,
    "execution_millis": 2530550,
    "deepnote_cell_type": "input-text"
   },
   "source": "input_task1_data_components = 'X-Y-W-Z'",
   "execution_count": 15,
   "outputs": []
  },
  {
   "cell_type": "code",
   "metadata": {
    "deepnote_variable_name": "input_task1_modello_vettoriale",
    "deepnote_variable_value": "Modello TF-IDF",
    "deepnote_variable_options": [
     "Modello TF",
     "Modello TF-IDF"
    ],
    "deepnote_variable_custom_options": [
     "Modello TF",
     "Modello TF-IDF"
    ],
    "deepnote_variable_selected_variable": "",
    "deepnote_variable_select_type": "from-options",
    "cell_id": "00025-8b54665a-704e-4a66-9889-a1db052e9230",
    "deepnote_to_be_reexecuted": false,
    "source_hash": "a561fd25",
    "execution_start": 1638302952461,
    "execution_millis": 2530509,
    "deepnote_cell_type": "input-select"
   },
   "source": "input_task1_modello_vettoriale = 'Modello TF-IDF'",
   "execution_count": 16,
   "outputs": []
  },
  {
   "cell_type": "code",
   "metadata": {
    "tags": [],
    "cell_id": "00025-5662e148-aefc-4984-a2ed-e2b0891ae86d",
    "deepnote_to_be_reexecuted": false,
    "source_hash": "71d6ce71",
    "execution_start": 1638302952461,
    "execution_millis": 4057,
    "deepnote_cell_type": "code"
   },
   "source": "t1_data_components = input_task1_data_components.strip().split(\"-\")\nt1_gesture_files = get_files_name(input_task1_gesti_directory + t1_data_components[0] + \"/\", ext_filter=\"csv\")\n# Dovremmo eseguire a tutti questi i 2 metodi gesture_2_word e poi word_2_metrics\n# Ma ipotizziamo che siano i dati già calcolati ed evitiamo\nt1_gesture_files = [g_file.split(\".\")[0] for g_file in t1_gesture_files] # mi prendo giusto il nome dei vari files\n\n# 1260 con dimensione dei dati (n_sensori * n_parole)\nt1_metrics_data = {\n    'filename': [],\n    'labels': [],\n    'data': np.zeros((len(t1_gesture_files), n_sensori * alfabeto.n_parole))\n}\nfor index, gesture_file in zip(range(len(t1_gesture_files)), t1_gesture_files):\n    #path_vectors_directory = ../Dati_2/vectors/\n    # Leggo le metrice ridotte\n    gesture_metrics_reduced = read_gesture_measures_reduced(gesture_file, path_vectors_directory, input_task1_modello_vettoriale)\n    # Trasformo la metrica ridotta in un file numpy\n    label = 1 # Label 1 per i file 250, 280\n    if int(gesture_file) < 100:\n        label = 0 # Label 0 per file 1, 30\n    elif int(gesture_file) > 400:\n        label = 2 # label 2 per i file 560, 590\n    metrics_numpy = metrics_reduced_2_numpy(gesture_metrics_reduced, alfabeto)\n    t1_metrics_data['filename'].append(gesture_file)\n    t1_metrics_data['labels'].append(label)\n    t1_metrics_data['data'][index] = metrics_numpy",
   "execution_count": 17,
   "outputs": []
  },
  {
   "cell_type": "code",
   "metadata": {
    "tags": [],
    "cell_id": "00026-f5468916-1c32-4695-9695-608bce02ec11",
    "deepnote_to_be_reexecuted": false,
    "source_hash": "2271376f",
    "execution_start": 1638302956518,
    "execution_millis": 13,
    "deepnote_cell_type": "code"
   },
   "source": "#t1_metrics_data",
   "execution_count": 18,
   "outputs": []
  },
  {
   "cell_type": "code",
   "metadata": {
    "deepnote_variable_name": "input_task1_option",
    "deepnote_variable_value": "LDA",
    "deepnote_variable_options": [
     "PCA",
     "SVD",
     "LDA"
    ],
    "deepnote_variable_custom_options": [
     "PCA",
     "SVD",
     "LDA"
    ],
    "deepnote_variable_selected_variable": "",
    "deepnote_variable_select_type": "from-options",
    "cell_id": "00028-09fc5a78-a0f0-44a1-b5f4-17b8196b3c27",
    "deepnote_to_be_reexecuted": false,
    "source_hash": "c1987eae",
    "execution_start": 1638302956542,
    "execution_millis": 7,
    "deepnote_cell_type": "input-select"
   },
   "source": "input_task1_option = 'LDA'",
   "execution_count": 19,
   "outputs": []
  },
  {
   "cell_type": "code",
   "metadata": {
    "tags": [],
    "cell_id": "00032-45eae3d4-37f2-4c04-9bbb-01c136497b1b",
    "deepnote_to_be_reexecuted": false,
    "source_hash": "53923c8",
    "execution_start": 1638302956557,
    "execution_millis": 2379,
    "deepnote_output_heights": [
     null,
     null,
     194
    ],
    "deepnote_cell_type": "code"
   },
   "source": "metrics_pandas = metrics_numpy_2_pandas(t1_metrics_data['data'], alfabeto)\nif input_task1_option == \"PCA\":\n    t1_alg_result, t1_alg_variance = metrics_numpy_2_PCA(metrics_pandas, show_intermediate_data=True)\nelif input_task1_option == \"SVD\":\n    t1_alg_result, t1_alg_variance = metrics_numpy_2_SVD(metrics_pandas, show_intermediate_data=True)\nelse:\n    t1_alg_result, t1_alg_variance = metrics_numpy_2_LDA(metrics_pandas, t1_metrics_data['labels'], show_intermediate_data=True)\n\n# Preparo i dati x il task 5 di classificazione che sarà fatto dai dati con dimensionalità ridotta generati qua\nt5_data = {\n    'data': t1_alg_result['fitted_alg'], \n    'labels': t1_metrics_data['labels']\n}",
   "execution_count": 20,
   "outputs": [
    {
     "data": {
      "application/vnd.deepnote.dataframe.v2+json": {
       "row_count": 25540,
       "column_count": 3,
       "columns": [
        {
         "name": "PC1",
         "dtype": "float64",
         "stats": {
          "unique_count": 2596,
          "nan_count": 0,
          "min": "0.0",
          "max": "52.15689431880621",
          "histogram": [
           {
            "bin_start": 0,
            "bin_end": 5.215689431880621,
            "count": 25485
           },
           {
            "bin_start": 5.215689431880621,
            "bin_end": 10.431378863761243,
            "count": 41
           },
           {
            "bin_start": 10.431378863761243,
            "bin_end": 15.647068295641864,
            "count": 6
           },
           {
            "bin_start": 15.647068295641864,
            "bin_end": 20.862757727522485,
            "count": 4
           },
           {
            "bin_start": 20.862757727522485,
            "bin_end": 26.078447159403105,
            "count": 1
           },
           {
            "bin_start": 26.078447159403105,
            "bin_end": 31.294136591283728,
            "count": 0
           },
           {
            "bin_start": 31.294136591283728,
            "bin_end": 36.50982602316435,
            "count": 0
           },
           {
            "bin_start": 36.50982602316435,
            "bin_end": 41.72551545504497,
            "count": 1
           },
           {
            "bin_start": 41.72551545504497,
            "bin_end": 46.94120488692559,
            "count": 0
           },
           {
            "bin_start": 46.94120488692559,
            "bin_end": 52.15689431880621,
            "count": 2
           }
          ]
         }
        },
        {
         "name": "PC2",
         "dtype": "float64",
         "stats": {
          "unique_count": 2596,
          "nan_count": 0,
          "min": "0.0",
          "max": "29.15783706867455",
          "histogram": [
           {
            "bin_start": 0,
            "bin_end": 2.915783706867455,
            "count": 25374
           },
           {
            "bin_start": 2.915783706867455,
            "bin_end": 5.83156741373491,
            "count": 122
           },
           {
            "bin_start": 5.83156741373491,
            "bin_end": 8.747351120602366,
            "count": 17
           },
           {
            "bin_start": 8.747351120602366,
            "bin_end": 11.66313482746982,
            "count": 10
           },
           {
            "bin_start": 11.66313482746982,
            "bin_end": 14.578918534337275,
            "count": 6
           },
           {
            "bin_start": 14.578918534337275,
            "bin_end": 17.49470224120473,
            "count": 6
           },
           {
            "bin_start": 17.49470224120473,
            "bin_end": 20.410485948072186,
            "count": 2
           },
           {
            "bin_start": 20.410485948072186,
            "bin_end": 23.32626965493964,
            "count": 1
           },
           {
            "bin_start": 23.32626965493964,
            "bin_end": 26.242053361807095,
            "count": 1
           },
           {
            "bin_start": 26.242053361807095,
            "bin_end": 29.15783706867455,
            "count": 1
           }
          ]
         }
        },
        {
         "name": "PC3",
         "dtype": "float64",
         "stats": {
          "unique_count": 2596,
          "nan_count": 0,
          "min": "0.0",
          "max": "80.65005908163918",
          "histogram": [
           {
            "bin_start": 0,
            "bin_end": 8.065005908163918,
            "count": 25510
           },
           {
            "bin_start": 8.065005908163918,
            "bin_end": 16.130011816327837,
            "count": 23
           },
           {
            "bin_start": 16.130011816327837,
            "bin_end": 24.195017724491755,
            "count": 4
           },
           {
            "bin_start": 24.195017724491755,
            "bin_end": 32.260023632655674,
            "count": 1
           },
           {
            "bin_start": 32.260023632655674,
            "bin_end": 40.32502954081959,
            "count": 0
           },
           {
            "bin_start": 40.32502954081959,
            "bin_end": 48.39003544898351,
            "count": 0
           },
           {
            "bin_start": 48.39003544898351,
            "bin_end": 56.45504135714743,
            "count": 1
           },
           {
            "bin_start": 56.45504135714743,
            "bin_end": 64.52004726531135,
            "count": 0
           },
           {
            "bin_start": 64.52004726531135,
            "bin_end": 72.58505317347527,
            "count": 0
           },
           {
            "bin_start": 72.58505317347527,
            "bin_end": 80.65005908163918,
            "count": 1
           }
          ]
         }
        },
        {
         "name": "_deepnote_index_column",
         "dtype": "object"
        }
       ],
       "rows_top": [
        {
         "PC1": 6.720341747236685e-19,
         "PC2": 9.17975288093411e-19,
         "PC3": 1.590009462817081e-18,
         "_deepnote_index_column": "S0 -0.9996;-0.9996;-0.9996;-0.9996;-0.9996"
        },
        {
         "PC1": 1.2484486329742158e-17,
         "PC2": 6.451245630932075e-20,
         "PC3": 1.254899878605149e-17,
         "_deepnote_index_column": "S0 0.88609;0.97348;0.65634;0.88609;0.88609"
        },
        {
         "PC1": 9.121423648066725e-18,
         "PC2": 3.861155738338776e-18,
         "PC3": 1.2982579386405512e-17,
         "_deepnote_index_column": "S0 -0.88609;-0.65634;-0.65634;-0.65634;-0.88609"
        },
        {
         "PC1": 6.7813171432447355e-18,
         "PC2": 1.8233008017036695e-18,
         "PC3": 4.95801634154107e-18,
         "_deepnote_index_column": "S0 0.88609;0.97348;0.9958;0.97348;0.9958"
        },
        {
         "PC1": 3.518485952052083e-18,
         "PC2": 2.1499161141962953e-18,
         "PC3": 1.3685698378557889e-18,
         "_deepnote_index_column": "S0 0.9958;0.9958;0.9958;0.97348;0.9958"
        },
        {
         "PC1": 1.332814072583641e-17,
         "PC2": 7.24033052429299e-18,
         "PC3": 6.087810201543426e-18,
         "_deepnote_index_column": "S0 -0.97348;-0.88609;-0.65634;-0.65634;-0.65634"
        },
        {
         "PC1": 1.792340445438583e-18,
         "PC2": 4.784843780384593e-18,
         "PC3": 6.577184225823182e-18,
         "_deepnote_index_column": "S0 0.88609;0.88609;0.9958;0.9958;0.9958"
        },
        {
         "PC1": 1.9207250583046954e-17,
         "PC2": 1.2179174373923082e-17,
         "PC3": 7.028076209123876e-18,
         "_deepnote_index_column": "S0 -0.97348;-0.9958;-0.9958;-1.00002;-0.9958"
        },
        {
         "PC1": 1.2262673538316624e-17,
         "PC2": 6.624953359302026e-18,
         "PC3": 5.637720179014602e-18,
         "_deepnote_index_column": "S0 0.88609;0.88609;0.97348;1.00002;-1.00002"
        },
        {
         "PC1": 5.494780667338364e-19,
         "PC2": 3.492342297649206e-19,
         "PC3": 8.987122964987579e-19,
         "_deepnote_index_column": "S0 -0.24752;-0.65634;-0.65634;-0.88609;-1.00002"
        },
        {
         "PC1": 1.3657877346308066e-17,
         "PC2": 2.236466231995636e-17,
         "PC3": 8.7067849736483e-18,
         "_deepnote_index_column": "S0 -0.9996;-1.00002;-0.9996;-0.9996;-0.9996"
        },
        {
         "PC1": 5.3233076606016335e-18,
         "PC2": 1.8575127072511993e-17,
         "PC3": 2.3898434733113647e-17,
         "_deepnote_index_column": "S0 0.9958;0.9958;0.97348;-1.00002;-0.97348"
        },
        {
         "PC1": 2.6109814252822713e-18,
         "PC2": 2.056634803675874e-18,
         "PC3": 4.667616228958149e-18,
         "_deepnote_index_column": "S0 0.65634;0.24752;0.88609;0.88609;0.97348"
        },
        {
         "PC1": 8.372585145357445e-18,
         "PC2": 5.755195778313573e-18,
         "PC3": 2.6173893670438725e-18,
         "_deepnote_index_column": "S0 0.24752;0.24752;0.65634;0.24752;0.24752"
        },
        {
         "PC1": 1.0587229130899198e-17,
         "PC2": 6.6982339076057695e-18,
         "PC3": 3.888995223293432e-18,
         "_deepnote_index_column": "S0 0.9958;0.9958;1.00002;0.97348;0.9958"
        },
        {
         "PC1": 1.1562911247019104e-17,
         "PC2": 1.624255574558867e-17,
         "PC3": 4.679644498569573e-18,
         "_deepnote_index_column": "S0 -0.97348;-0.88609;-0.65634;-0.65634;-0.88609"
        },
        {
         "PC1": 1.4516544117886075e-17,
         "PC2": 7.471915851219841e-19,
         "PC3": 1.3769352532764101e-17,
         "_deepnote_index_column": "S0 0.97348;0.88609;0.88609;0.88609;0.65634"
        },
        {
         "PC1": 0.23343684070914567,
         "PC2": 0.19662875386390463,
         "PC3": 0.43006559457305066,
         "_deepnote_index_column": "S0 0.9996;1.00002;0.9996;0.9996;0.9958"
        },
        {
         "PC1": 1.9808311584196184e-18,
         "PC2": 7.682545618811611e-18,
         "PC3": 9.66337677723124e-18,
         "_deepnote_index_column": "S0 0.65634;0.88609;0.65634;0.88609;0.88609"
        },
        {
         "PC1": 2.672035487866678e-18,
         "PC2": 1.1848048530958457e-17,
         "PC3": 9.176013043091787e-18,
         "_deepnote_index_column": "S0 -0.97348;-1.00002;-0.88609;-0.88609;-0.65634"
        },
        {
         "PC1": 2.6688444272730275e-18,
         "PC2": 5.860735287889132e-18,
         "PC3": 3.1918908606161074e-18,
         "_deepnote_index_column": "S0 0.24752;0.24752;0.24752;0.24752;0.88609"
        },
        {
         "PC1": 1.5387976849050214e-18,
         "PC2": 4.399784746273417e-19,
         "PC3": 1.0988192102776806e-18,
         "_deepnote_index_column": "S0 -0.24752;0.24752;0.65634;0.24752;0.24752"
        },
        {
         "PC1": 5.748328424515384e-18,
         "PC2": 7.8736075321213e-18,
         "PC3": 2.1252791076059184e-18,
         "_deepnote_index_column": "S0 -0.88609;-0.88609;-0.88609;-0.97348;-1.00002"
        },
        {
         "PC1": 4.121366197441386e-18,
         "PC2": 3.7054183896054866e-18,
         "PC3": 7.82678458704688e-18,
         "_deepnote_index_column": "S0 0.88609;0.88609;0.88609;0.97348;0.88609"
        },
        {
         "PC1": 8.32208289505157e-18,
         "PC2": 9.742449273890777e-18,
         "PC3": 1.4203663788392085e-18,
         "_deepnote_index_column": "S0 0.9996;1.00002;0.9958;0.9958;0.97348"
        },
        {
         "PC1": 1.9223535413855196e-18,
         "PC2": 2.168768090511248e-18,
         "PC3": 2.464145491257286e-19,
         "_deepnote_index_column": "S0 -0.65634;-0.88609;-0.88609;-1.00002;-0.97348"
        },
        {
         "PC1": 3.9607700891685694e-18,
         "PC2": 1.5353714310071333e-19,
         "PC3": 4.114307232269286e-18,
         "_deepnote_index_column": "S0 1.00002;-1.00002;-0.97348;-0.97348;-0.97348"
        },
        {
         "PC1": 1.3443338762289244e-18,
         "PC2": 2.814871129709288e-18,
         "PC3": 1.470537253480365e-18,
         "_deepnote_index_column": "S0 -0.9958;-0.9996;-1.00002;-0.9996;-0.9958"
        },
        {
         "PC1": 1.525083937665908e-18,
         "PC2": 2.2991095362033587e-18,
         "PC3": 7.740255985374518e-19,
         "_deepnote_index_column": "S0 -0.97348;0.97348;0.97348;1.00002;-1.00002"
        },
        {
         "PC1": 5.827973549523139e-18,
         "PC2": 4.0976628042518036e-18,
         "PC3": 1.7303107452713371e-18,
         "_deepnote_index_column": "S0 0.9996;0.97348;0.88609;0.88609;0.88609"
        },
        {
         "PC1": 1.0103148387309374e-18,
         "PC2": 8.03259901523907e-19,
         "PC3": 2.0705493720703036e-19,
         "_deepnote_index_column": "S0 0.9958;0.9958;0.97348;0.9958;0.9958"
        },
        {
         "PC1": 6.378023920449594e-18,
         "PC2": 6.469103522507732e-18,
         "PC3": 9.107960205813872e-20,
         "_deepnote_index_column": "S0 -0.24752;-0.24752;-0.65634;-0.24752;0.24752"
        },
        {
         "PC1": 6.968681906662927e-18,
         "PC2": 7.350142887952511e-18,
         "PC3": 3.814609812895849e-19,
         "_deepnote_index_column": "S0 0.9958;0.97348;0.9958;0.97348;0.9958"
        },
        {
         "PC1": 6.140836675946914e-18,
         "PC2": 1.2797324503699049e-17,
         "PC3": 1.893816117964598e-17,
         "_deepnote_index_column": "S0 0.9996;0.9996;0.97348;0.97348;0.88609"
        },
        {
         "PC1": 9.258528378109202e-18,
         "PC2": 7.888178868575846e-19,
         "PC3": 1.0047346264966796e-17,
         "_deepnote_index_column": "S0 -0.88609;-0.88609;-0.97348;-0.97348;-0.9958"
        },
        {
         "PC1": 3.4498288152211247e-18,
         "PC2": 3.3098743661265267e-17,
         "PC3": 2.964891484604417e-17,
         "_deepnote_index_column": "S0 -0.88609;-0.88609;0.88609;0.97348;0.97348"
        },
        {
         "PC1": 6.953989517923074e-19,
         "PC2": 3.298522158712936e-17,
         "PC3": 3.3680620538921697e-17,
         "_deepnote_index_column": "S0 0.9958;0.9958;0.9996;0.9958;1.00002"
        },
        {
         "PC1": 1.2831488346895112e-17,
         "PC2": 2.8436248329584947e-18,
         "PC3": 1.567511317985362e-17,
         "_deepnote_index_column": "S0 0.9996;0.97348;0.97348;0.88609;0.88609"
        },
        {
         "PC1": 1.3289608226848999e-17,
         "PC2": 1.5617747288034372e-17,
         "PC3": 2.89073555148834e-17,
         "_deepnote_index_column": "S0 0.97348;0.97348;0.97348;0.9958;-0.9996"
        },
        {
         "PC1": 1.692754563078998e-18,
         "PC2": 3.6867213286143324e-18,
         "PC3": 1.9939667655353367e-18,
         "_deepnote_index_column": "S0 -0.24752;-0.65634;-0.65634;-0.24752;-0.24752"
        },
        {
         "PC1": 7.643627606688194e-18,
         "PC2": 9.647373181391354e-18,
         "PC3": 1.7291000788079565e-17,
         "_deepnote_index_column": "S0 -0.9958;-0.97348;-0.97348;-0.97348;-0.97348"
        },
        {
         "PC1": 8.149189193815535e-19,
         "PC2": 9.509207556307637e-19,
         "PC3": 1.3600183624921048e-19,
         "_deepnote_index_column": "S0 -0.24752;-0.65634;-0.24752;-0.24752;-0.65634"
        },
        {
         "PC1": 3.889748473233761e-18,
         "PC2": 1.4988810459068655e-17,
         "PC3": 1.1099061985834907e-17,
         "_deepnote_index_column": "S0 0.24752;0.24752;-0.24752;0.24752;-0.24752"
        },
        {
         "PC1": 7.494994053069234e-18,
         "PC2": 3.22807772105395e-18,
         "PC3": 1.0723071774123193e-17,
         "_deepnote_index_column": "S0 -0.9996;-0.9996;-1.00002;-0.9958;-0.9958"
        },
        {
         "PC1": 6.7934221296067156e-18,
         "PC2": 1.731346575354985e-18,
         "PC3": 5.062075554251735e-18,
         "_deepnote_index_column": "S0 0.9958;0.65634;0.65634;0.65634;0.97348"
        },
        {
         "PC1": 0.05955772233561983,
         "PC2": 0.06803966521623293,
         "PC3": 0.008481942880613104,
         "_deepnote_index_column": "S0 0.9958;0.9996;0.9996;1.00002;1.00002"
        },
        {
         "PC1": 6.415749569129467e-18,
         "PC2": 6.68707352672141e-19,
         "PC3": 7.084456921801613e-18,
         "_deepnote_index_column": "S0 -1.00002;-0.9958;-0.88609;-0.65634;-0.65634"
        },
        {
         "PC1": 1.0694121549624459e-17,
         "PC2": 8.702398797604589e-18,
         "PC3": 1.991722752019871e-18,
         "_deepnote_index_column": "S0 -0.9958;-0.9958;-0.97348;-0.88609;-0.88609"
        },
        {
         "PC1": 1.0296425502750297e-17,
         "PC2": 1.7308956942210397e-18,
         "PC3": 1.2027321196971346e-17,
         "_deepnote_index_column": "S0 0.24752;0.65634;0.24752;-0.24752;0.24752"
        },
        {
         "PC1": 7.882978927124726e-18,
         "PC2": 5.023899659343946e-18,
         "PC3": 2.8590792677807817e-18,
         "_deepnote_index_column": "S0 -0.65634;-0.88609;-0.88609;-0.97348;-0.97348"
        },
        {
         "PC1": 3.5673813479370116e-18,
         "PC2": 5.179796704141944e-18,
         "PC3": 8.747178052078963e-18,
         "_deepnote_index_column": "S0 -0.97348;-0.9996;-1.00002;-0.97348;-0.88609"
        },
        {
         "PC1": 1.6373748169145018e-19,
         "PC2": 3.1417247718557926e-18,
         "PC3": 3.305462253547246e-18,
         "_deepnote_index_column": "S0 0.65634;0.65634;0.65634;0.65634;-0.88609"
        },
        {
         "PC1": 3.81203238312816e-18,
         "PC2": 4.980587829834859e-18,
         "PC3": 1.1685554467067005e-18,
         "_deepnote_index_column": "S0 -0.65634;0.24752;-0.65634;-0.65634;-0.65634"
        },
        {
         "PC1": 4.0975543796591275e-18,
         "PC2": 1.755441661907281e-18,
         "PC3": 5.852996041566413e-18,
         "_deepnote_index_column": "S0 0.97348;0.88609;0.88609;0.88609;0.88609"
        },
        {
         "PC1": 6.307345953169325e-18,
         "PC2": 3.340713728606435e-18,
         "PC3": 2.9666322245628917e-18,
         "_deepnote_index_column": "S0 0.9958;0.9996;0.97348;0.9958;0.9958"
        },
        {
         "PC1": 6.552708571354765e-19,
         "PC2": 2.236619830885917e-18,
         "PC3": 2.891890688021396e-18,
         "_deepnote_index_column": "S0 -0.88609;-0.65634;-0.65634;-0.88609;-0.88609"
        },
        {
         "PC1": 4.7148859607479455e-19,
         "PC2": 6.96592847054601e-18,
         "PC3": 6.494439874471222e-18,
         "_deepnote_index_column": "S0 -0.24752;-0.24752;-0.24752;0.65634;0.88609"
        },
        {
         "PC1": 8.391905760388564e-18,
         "PC2": 8.502376463532597e-18,
         "PC3": 1.1047070314403345e-19,
         "_deepnote_index_column": "S0 -0.65634;-0.88609;-0.65634;-0.88609;-0.65634"
        },
        {
         "PC1": 1.3086488720206134e-17,
         "PC2": 6.61632332014018e-18,
         "PC3": 6.470165400065959e-18,
         "_deepnote_index_column": "S0 0.88609;0.24752;0.24752;0.24752;-0.24752"
        },
        {
         "PC1": 2.263697611346625e-18,
         "PC2": 2.0308144948585673e-18,
         "PC3": 2.3288311648805774e-19,
         "_deepnote_index_column": "S0 0.88609;0.65634;-0.65634;-0.65634;-0.65634"
        },
        {
         "PC1": 1.4692761188928497e-17,
         "PC2": 6.3280927660923776e-18,
         "PC3": 8.364668422836124e-18,
         "_deepnote_index_column": "S0 0.88609;0.65634;0.65634;0.88609;0.88609"
        },
        {
         "PC1": 1.0476007549933022e-19,
         "PC2": 5.423388546875688e-19,
         "PC3": 4.37578779188239e-19,
         "_deepnote_index_column": "S0 0.9958;0.97348;0.9958;0.9958;0.9996"
        },
        {
         "PC1": 3.537284294351237e-17,
         "PC2": 2.067130440089045e-17,
         "PC3": 5.604414734440287e-17,
         "_deepnote_index_column": "S0 -0.97348;-1.00002;-0.97348;-0.88609;-0.65634"
        },
        {
         "PC1": 1.548045698404965e-17,
         "PC2": 1.319773986435768e-18,
         "PC3": 1.680023097048543e-17,
         "_deepnote_index_column": "S0 -0.97348;-0.97348;-0.88609;-0.97348;-0.97348"
        },
        {
         "PC1": 1.2051875114073718e-17,
         "PC2": 2.2772808636417793e-18,
         "PC3": 1.4329155977715507e-17,
         "_deepnote_index_column": "S0 -0.97348;-0.97348;-0.9958;-0.9958;-1.00002"
        },
        {
         "PC1": 7.184110624647644e-18,
         "PC2": 1.9087935666095897e-18,
         "PC3": 5.275317058038058e-18,
         "_deepnote_index_column": "S0 0.9958;0.97348;-1.00002;-0.97348;-0.88609"
        },
        {
         "PC1": 1.0418192371831926e-17,
         "PC2": 1.530893150335756e-18,
         "PC3": 1.1949085522167692e-17,
         "_deepnote_index_column": "S0 -0.9958;-0.97348;-0.9958;-0.9958;-0.9958"
        },
        {
         "PC1": 0.8926214318344784,
         "PC2": 1.0031372912716698,
         "PC3": 0.11051585943719165,
         "_deepnote_index_column": "S0 0.88609;0.88609;0.88609;0.97348;0.97348"
        },
        {
         "PC1": 1.1904506999274865e-18,
         "PC2": 3.2861518702409667e-18,
         "PC3": 2.0957011703134823e-18,
         "_deepnote_index_column": "S0 0.88609;-0.88609;-0.88609;-0.88609;-0.65634"
        },
        {
         "PC1": 0.06938820306067331,
         "PC2": 0.37339097045660397,
         "PC3": 0.4427791735172777,
         "_deepnote_index_column": "S0 0.9958;0.9996;1.00002;1.00002;0.9996"
        },
        {
         "PC1": 8.990104450310738e-18,
         "PC2": 7.541375466082805e-18,
         "PC3": 1.4487289842279339e-18,
         "_deepnote_index_column": "S0 0.9958;1.00002;0.97348;0.65634;0.65634"
        },
        {
         "PC1": 1.2934603581156839e-17,
         "PC2": 1.8712631595860143e-18,
         "PC3": 1.4805866740742865e-17,
         "_deepnote_index_column": "S0 -0.65634;-0.65634;-0.88609;-1.00002;-0.9958"
        },
        {
         "PC1": 6.634687460360181e-18,
         "PC2": 2.8753294765706284e-18,
         "PC3": 9.510016936930818e-18,
         "_deepnote_index_column": "S0 0.97348;0.88609;0.88609;-0.24752;0.24752"
        },
        {
         "PC1": 0.14589053228974302,
         "PC2": 0.18832178738563887,
         "PC3": 0.33421231967538223,
         "_deepnote_index_column": "S0 0.9958;0.9958;0.9996;0.9996;1.00002"
        },
        {
         "PC1": 3.1180808404569953e-18,
         "PC2": 1.205548870841297e-18,
         "PC3": 4.323629711298296e-18,
         "_deepnote_index_column": "S0 -0.9958;-0.9958;-1.00002;-1.00002;-1.00002"
        },
        {
         "PC1": 3.610850400997788e-18,
         "PC2": 3.0830320337195122e-18,
         "PC3": 6.693882434717306e-18,
         "_deepnote_index_column": "S0 0.97348;0.97348;0.97348;0.9958;0.97348"
        },
        {
         "PC1": 6.902389531699153e-19,
         "PC2": 2.5815944345848394e-18,
         "PC3": 1.891355481414926e-18,
         "_deepnote_index_column": "S0 0.9958;1.00002;1.00002;1.00002;1.00002"
        },
        {
         "PC1": 0.3888745775943732,
         "PC2": 0.08750986220245774,
         "PC3": 0.3013647153919157,
         "_deepnote_index_column": "S0 0.9958;0.9996;1.00002;0.9958;0.9958"
        },
        {
         "PC1": 4.416343970109201e-18,
         "PC2": 3.3619516065893194e-19,
         "PC3": 4.7525391307681366e-18,
         "_deepnote_index_column": "S0 -0.88609;0.97348;0.97348;0.97348;0.97348"
        },
        {
         "PC1": 5.269756438420843e-18,
         "PC2": 2.997759562160141e-18,
         "PC3": 8.267516000580991e-18,
         "_deepnote_index_column": "S0 0.65634;0.65634;0.97348;0.24752;0.24752"
        },
        {
         "PC1": 5.422954894947394e-18,
         "PC2": 3.5100667848558714e-18,
         "PC3": 8.933021679803274e-18,
         "_deepnote_index_column": "S0 0.9958;-0.88609;-0.88609;-0.65634;0.65634"
        },
        {
         "PC1": 4.484172038764729e-18,
         "PC2": 9.824640298291472e-19,
         "PC3": 5.466636068593881e-18,
         "_deepnote_index_column": "S0 -0.88609;-1.00002;-0.65634;-0.65634;-0.65634"
        },
        {
         "PC1": 7.093310008378675e-18,
         "PC2": 3.9072186015844857e-19,
         "PC3": 6.702588148220232e-18,
         "_deepnote_index_column": "S0 -0.97348;-0.97348;-0.97348;0.97348;0.97348"
        },
        {
         "PC1": 0.18715728317066613,
         "PC2": 0.05730550052740436,
         "PC3": 0.1298517826432619,
         "_deepnote_index_column": "S0 0.9996;0.9996;0.9958;0.9958;0.97348"
        },
        {
         "PC1": 3.3816688958981193e-18,
         "PC2": 3.79743129469822e-18,
         "PC3": 7.179100190596346e-18,
         "_deepnote_index_column": "S0 -1.00002;-0.9958;-0.97348;-0.88609;-0.65634"
        },
        {
         "PC1": 3.3161414135865673e-18,
         "PC2": 4.801336876437633e-18,
         "PC3": 8.117478290024208e-18,
         "_deepnote_index_column": "S0 -0.24752;1.00002;0.24752;0.65634;-0.24752"
        },
        {
         "PC1": 1.5294664060166974e-18,
         "PC2": 8.915959382826114e-19,
         "PC3": 6.378704677340864e-19,
         "_deepnote_index_column": "S0 0.97348;0.24752;-0.65634;0.88609;0.88609"
        },
        {
         "PC1": 1.150786067960786e-17,
         "PC2": 2.1950485179818317e-18,
         "PC3": 1.3702909197589704e-17,
         "_deepnote_index_column": "S0 -0.65634;0.65634;0.65634;0.88609;0.88609"
        },
        {
         "PC1": 2.1993287014107752e-18,
         "PC2": 4.566380617984624e-19,
         "PC3": 2.65596676320924e-18,
         "_deepnote_index_column": "S0 -0.24752;0.24752;0.24752;0.24752;0.65634"
        },
        {
         "PC1": 3.1960547803256332e-18,
         "PC2": 3.9332039411687455e-18,
         "PC3": 7.129258721494386e-18,
         "_deepnote_index_column": "S0 -0.97348;-0.97348;-0.97348;0.88609;0.88609"
        },
        {
         "PC1": 2.0585859445320642e-18,
         "PC2": 3.400907230027632e-19,
         "PC3": 1.7184952215293025e-18,
         "_deepnote_index_column": "S0 0.24752;-0.24752;0.88609;0.88609;0.88609"
        },
        {
         "PC1": 4.8291048082718165e-18,
         "PC2": 7.908665340681407e-20,
         "PC3": 4.908191461678634e-18,
         "_deepnote_index_column": "S0 -0.88609;-0.88609;-0.65634;-0.65634;-0.65634"
        },
        {
         "PC1": 0,
         "PC2": 0,
         "PC3": 0,
         "_deepnote_index_column": "S0 -0.97348;-0.97348;-0.88609;-0.97348;-0.88609"
        },
        {
         "PC1": 0,
         "PC2": 0,
         "PC3": 0,
         "_deepnote_index_column": "S0 -0.97348;-0.97348;-0.9958;-0.9996;-0.9958"
        },
        {
         "PC1": 0,
         "PC2": 0,
         "PC3": 0,
         "_deepnote_index_column": "S0 -0.9958;-0.9958;-0.9958;-1.00002;-1.00002"
        },
        {
         "PC1": 0,
         "PC2": 0,
         "PC3": 0,
         "_deepnote_index_column": "S0 0.24752;-0.88609;-0.65634;-0.65634;-0.65634"
        },
        {
         "PC1": 0,
         "PC2": 0,
         "PC3": 0,
         "_deepnote_index_column": "S0 -0.9958;-0.97348;-0.88609;-0.88609;-0.88609"
        },
        {
         "PC1": 0,
         "PC2": 0,
         "PC3": 0,
         "_deepnote_index_column": "S0 -0.9996;-0.9996;-0.9996;-1.00002;-1.00002"
        },
        {
         "PC1": 0,
         "PC2": 0,
         "PC3": 0,
         "_deepnote_index_column": "S0 -0.97348;-1.00002;-0.9996;-0.9996;-0.9996"
        },
        {
         "PC1": 0,
         "PC2": 0,
         "PC3": 0,
         "_deepnote_index_column": "S0 0.88609;0.97348;0.97348;0.88609;0.97348"
        },
        {
         "PC1": 0,
         "PC2": 0,
         "PC3": 0,
         "_deepnote_index_column": "S0 -0.97348;0.88609;0.97348;0.97348;0.97348"
        },
        {
         "PC1": 0,
         "PC2": 0,
         "PC3": 0,
         "_deepnote_index_column": "S0 -0.88609;-1.00002;-0.9958;-0.97348;-0.97348"
        },
        {
         "PC1": 0,
         "PC2": 0,
         "PC3": 0,
         "_deepnote_index_column": "S0 -0.88609;-1.00002;-0.24752;-0.88609;-0.24752"
        },
        {
         "PC1": 0,
         "PC2": 0,
         "PC3": 0,
         "_deepnote_index_column": "S0 -0.24752;-0.24752;-0.65634;0.65634;0.88609"
        },
        {
         "PC1": 0.7089503930269274,
         "PC2": 0.3912771653108394,
         "PC3": 1.1002275583377676,
         "_deepnote_index_column": "S0 0.9996;0.9996;0.9958;0.9958;0.9958"
        },
        {
         "PC1": 0,
         "PC2": 0,
         "PC3": 0,
         "_deepnote_index_column": "S0 -0.24752;-0.24752;-0.24752;-0.88609;-0.65634"
        },
        {
         "PC1": 0,
         "PC2": 0,
         "PC3": 0,
         "_deepnote_index_column": "S0 0.88609;0.88609;0.88609;0.88609;0.24752"
        },
        {
         "PC1": 0,
         "PC2": 0,
         "PC3": 0,
         "_deepnote_index_column": "S0 0.9958;0.9958;0.9996;0.88609;0.97348"
        },
        {
         "PC1": 0,
         "PC2": 0,
         "PC3": 0,
         "_deepnote_index_column": "S0 -1.00002;-1.00002;-0.9996;-0.9996;-0.9996"
        },
        {
         "PC1": 0,
         "PC2": 0,
         "PC3": 0,
         "_deepnote_index_column": "S0 -0.9996;-0.9958;-0.9958;-0.9958;-0.9958"
        },
        {
         "PC1": 0,
         "PC2": 0,
         "PC3": 0,
         "_deepnote_index_column": "S0 0.65634;0.65634;0.24752;0.88609;0.88609"
        },
        {
         "PC1": 0,
         "PC2": 0,
         "PC3": 0,
         "_deepnote_index_column": "S0 -0.88609;-0.97348;-0.97348;-0.97348;-0.88609"
        },
        {
         "PC1": 0,
         "PC2": 0,
         "PC3": 0,
         "_deepnote_index_column": "S0 -1.00002;-0.97348;-0.88609;-0.88609;-0.65634"
        },
        {
         "PC1": 0,
         "PC2": 0,
         "PC3": 0,
         "_deepnote_index_column": "S0 -0.65634;0.24752;0.24752;-0.65634;-0.65634"
        },
        {
         "PC1": 0,
         "PC2": 0,
         "PC3": 0,
         "_deepnote_index_column": "S0 -0.9958;-1.00002;-0.9958;-0.97348;-0.88609"
        },
        {
         "PC1": 0,
         "PC2": 0,
         "PC3": 0,
         "_deepnote_index_column": "S0 -0.24752;-0.24752;-0.65634;-1.00002;-0.88609"
        },
        {
         "PC1": 0,
         "PC2": 0,
         "PC3": 0,
         "_deepnote_index_column": "S0 -1.00002;-0.9958;-0.9958;-0.9996;0.97348"
        },
        {
         "PC1": 0.40091962050762736,
         "PC2": 0.22044106757676304,
         "PC3": 0.18047855293086443,
         "_deepnote_index_column": "S0 0.97348;0.97348;0.97348;0.9958;0.9958"
        },
        {
         "PC1": 0,
         "PC2": 0,
         "PC3": 0,
         "_deepnote_index_column": "S0 -0.9958;-0.97348;-0.88609;-0.88609;-0.65634"
        },
        {
         "PC1": 0,
         "PC2": 0,
         "PC3": 0,
         "_deepnote_index_column": "S0 0.9958;0.9958;0.88609;0.88609;0.88609"
        },
        {
         "PC1": 0,
         "PC2": 0,
         "PC3": 0,
         "_deepnote_index_column": "S0 -0.97348;-0.9958;-0.97348;-0.9958;-0.9958"
        },
        {
         "PC1": 0,
         "PC2": 0,
         "PC3": 0,
         "_deepnote_index_column": "S0 0.65634;0.65634;0.65634;0.24752;0.65634"
        },
        {
         "PC1": 0,
         "PC2": 0,
         "PC3": 0,
         "_deepnote_index_column": "S0 -1.00002;-0.9958;-0.9958;-0.97348;-0.97348"
        },
        {
         "PC1": 0,
         "PC2": 0,
         "PC3": 0,
         "_deepnote_index_column": "S0 0.88609;0.97348;-0.97348;0.97348;0.97348"
        },
        {
         "PC1": 0,
         "PC2": 0,
         "PC3": 0,
         "_deepnote_index_column": "S0 -0.97348;0.97348;0.9958;1.00002;-1.00002"
        },
        {
         "PC1": 0,
         "PC2": 0,
         "PC3": 0,
         "_deepnote_index_column": "S0 0.9958;0.9996;1.00002;0.9996;0.9996"
        },
        {
         "PC1": 0,
         "PC2": 0,
         "PC3": 0,
         "_deepnote_index_column": "S0 0.88609;0.65634;0.65634;0.24752;0.24752"
        },
        {
         "PC1": 0,
         "PC2": 0,
         "PC3": 0,
         "_deepnote_index_column": "S0 -0.9958;-0.9958;-0.9996;-0.9958;-0.9996"
        },
        {
         "PC1": 0,
         "PC2": 0,
         "PC3": 0,
         "_deepnote_index_column": "S0 -0.88609;-0.88609;0.97348;0.97348;0.9996"
        },
        {
         "PC1": 0,
         "PC2": 0,
         "PC3": 0,
         "_deepnote_index_column": "S0 0.9996;1.00002;0.9958;0.97348;0.97348"
        },
        {
         "PC1": 0,
         "PC2": 0,
         "PC3": 0,
         "_deepnote_index_column": "S0 -1.00002;-0.97348;-0.9958;-0.9958;-0.97348"
        },
        {
         "PC1": 0,
         "PC2": 0,
         "PC3": 0,
         "_deepnote_index_column": "S0 -0.88609;-0.88609;0.65634;0.24752;0.65634"
        },
        {
         "PC1": 0,
         "PC2": 0,
         "PC3": 0,
         "_deepnote_index_column": "S0 -0.24752;-0.65634;-0.24752;-0.24752;-0.24752"
        },
        {
         "PC1": 0,
         "PC2": 0,
         "PC3": 0,
         "_deepnote_index_column": "S0 0.65634;0.88609;0.65634;0.97348;0.88609"
        },
        {
         "PC1": 0,
         "PC2": 0,
         "PC3": 0,
         "_deepnote_index_column": "S0 0.88609;0.97348;0.9958;0.9958;0.9958"
        },
        {
         "PC1": 0,
         "PC2": 0,
         "PC3": 0,
         "_deepnote_index_column": "S0 0.65634;0.88609;0.88609;0.88609;0.65634"
        },
        {
         "PC1": 0,
         "PC2": 0,
         "PC3": 0,
         "_deepnote_index_column": "S0 0.88609;0.88609;0.97348;-0.88609;-0.65634"
        },
        {
         "PC1": 0,
         "PC2": 0,
         "PC3": 0,
         "_deepnote_index_column": "S0 -0.24752;0.24752;-0.24752;-0.24752;-0.24752"
        },
        {
         "PC1": 0,
         "PC2": 0,
         "PC3": 0,
         "_deepnote_index_column": "S0 -0.65634;0.65634;0.88609;0.88609;0.88609"
        },
        {
         "PC1": 0,
         "PC2": 0,
         "PC3": 0,
         "_deepnote_index_column": "S0 0.88609;0.97348;0.97348;0.88609;0.88609"
        },
        {
         "PC1": 0,
         "PC2": 0,
         "PC3": 0,
         "_deepnote_index_column": "S0 0.88609;-1.00002;-0.97348;0.88609;0.88609"
        },
        {
         "PC1": 0,
         "PC2": 0,
         "PC3": 0,
         "_deepnote_index_column": "S0 0.88609;0.65634;0.88609;0.88609;0.97348"
        },
        {
         "PC1": 0,
         "PC2": 0,
         "PC3": 0,
         "_deepnote_index_column": "S0 -0.24752;0.24752;0.65634;0.65634;0.88609"
        },
        {
         "PC1": 0.3212145573572888,
         "PC2": 0.11365671282598824,
         "PC3": 0.20755784453130074,
         "_deepnote_index_column": "S0 1.00002;1.00002;0.9996;0.9996;0.9958"
        },
        {
         "PC1": 0,
         "PC2": 0,
         "PC3": 0,
         "_deepnote_index_column": "S0 0.24752;0.65634;0.65634;-0.9958;-0.97348"
        },
        {
         "PC1": 0,
         "PC2": 0,
         "PC3": 0,
         "_deepnote_index_column": "S0 1.00002;0.88609;0.65634;0.88609;0.65634"
        },
        {
         "PC1": 0,
         "PC2": 0,
         "PC3": 0,
         "_deepnote_index_column": "S0 -0.88609;-0.97348;-0.88609;-0.97348;-0.97348"
        },
        {
         "PC1": 0.14275141837735178,
         "PC2": 0.043708913393722515,
         "PC3": 0.09904250498362935,
         "_deepnote_index_column": "S0 0.9958;0.9996;1.00002;1.00002;1.00002"
        },
        {
         "PC1": 0,
         "PC2": 0,
         "PC3": 0,
         "_deepnote_index_column": "S0 -0.65634;-0.88609;0.88609;0.88609;0.97348"
        },
        {
         "PC1": 0,
         "PC2": 0,
         "PC3": 0,
         "_deepnote_index_column": "S0 -1.00002;-0.9958;-0.88609;-0.88609;-0.88609"
        },
        {
         "PC1": 0,
         "PC2": 0,
         "PC3": 0,
         "_deepnote_index_column": "S0 -0.9958;-1.00002;-1.00002;-1.00002;-1.00002"
        },
        {
         "PC1": 0,
         "PC2": 0,
         "PC3": 0,
         "_deepnote_index_column": "S0 -1.00002;-0.9996;-0.9958;-0.9958;-0.97348"
        },
        {
         "PC1": 0,
         "PC2": 0,
         "PC3": 0,
         "_deepnote_index_column": "S0 -0.65634;0.88609;0.88609;0.88609;0.88609"
        },
        {
         "PC1": 0,
         "PC2": 0,
         "PC3": 0,
         "_deepnote_index_column": "S0 0.88609;0.88609;0.97348;0.97348;0.88609"
        },
        {
         "PC1": 0,
         "PC2": 0,
         "PC3": 0,
         "_deepnote_index_column": "S0 -1.00002;-0.88609;-0.88609;-0.88609;-0.65634"
        },
        {
         "PC1": 0.7544980497728119,
         "PC2": 0.41083606630484865,
         "PC3": 0.34366198346796356,
         "_deepnote_index_column": "S0 0.65634;0.24752;0.24752;0.24752;0.24752"
        },
        {
         "PC1": 0.10520025979869747,
         "PC2": 0.40994149909134936,
         "PC3": 0.5151417588900472,
         "_deepnote_index_column": "S0 0.9996;0.9996;0.9996;0.9996;0.9958"
        },
        {
         "PC1": 0,
         "PC2": 0,
         "PC3": 0,
         "_deepnote_index_column": "S0 0.9958;0.9996;0.88609;0.97348;0.97348"
        },
        {
         "PC1": 0,
         "PC2": 0,
         "PC3": 0,
         "_deepnote_index_column": "S0 1.00002;0.65634;0.88609;0.88609;0.88609"
        },
        {
         "PC1": 0,
         "PC2": 0,
         "PC3": 0,
         "_deepnote_index_column": "S0 -0.24752;-1.00002;-0.24752;-0.65634;-0.65634"
        },
        {
         "PC1": 0,
         "PC2": 0,
         "PC3": 0,
         "_deepnote_index_column": "S0 0.9996;0.9958;0.9958;0.9996;1.00002"
        },
        {
         "PC1": 0.5283406094037867,
         "PC2": 0.2753388018031569,
         "PC3": 0.25300180760062996,
         "_deepnote_index_column": "S0 0.24752;0.65634;0.65634;0.65634;0.65634"
        },
        {
         "PC1": 0,
         "PC2": 0,
         "PC3": 0,
         "_deepnote_index_column": "S0 -0.97348;-0.97348;-1.00002;-0.9958;-0.97348"
        },
        {
         "PC1": 0,
         "PC2": 0,
         "PC3": 0,
         "_deepnote_index_column": "S0 -0.65634;0.24752;0.24752;-0.88609;-0.88609"
        },
        {
         "PC1": 0,
         "PC2": 0,
         "PC3": 0,
         "_deepnote_index_column": "S0 -0.88609;-0.88609;-0.9958;-1.00002;-0.9958"
        },
        {
         "PC1": 0,
         "PC2": 0,
         "PC3": 0,
         "_deepnote_index_column": "S0 -0.65634;-0.65634;-0.88609;-1.00002;-0.88609"
        }
       ],
       "rows_bottom": [
        {
         "PC1": 0,
         "PC2": 0,
         "PC3": 0,
         "_deepnote_index_column": "S19 -0.97348;-0.9958;-0.24752;-0.24752;-0.24752"
        },
        {
         "PC1": 0,
         "PC2": 0,
         "PC3": 0,
         "_deepnote_index_column": "S19 0.88609;0.88609;0.65634;0.88609;0.88609"
        },
        {
         "PC1": 0,
         "PC2": 0,
         "PC3": 0,
         "_deepnote_index_column": "S19 -0.9996;-0.97348;-0.97348;-0.97348;-0.97348"
        },
        {
         "PC1": 0,
         "PC2": 0,
         "PC3": 0,
         "_deepnote_index_column": "S19 0.65634;-1.00002;-0.88609;-0.88609;0.24752"
        },
        {
         "PC1": 0,
         "PC2": 0,
         "PC3": 0,
         "_deepnote_index_column": "S19 0.9996;0.9958;0.9958;0.97348;0.97348"
        },
        {
         "PC1": 0,
         "PC2": 0,
         "PC3": 0,
         "_deepnote_index_column": "S19 -1.00002;-0.65634;-0.65634;-0.88609;-0.65634"
        },
        {
         "PC1": 0,
         "PC2": 0,
         "PC3": 0,
         "_deepnote_index_column": "S19 -0.24752;-0.65634;-0.24752;-0.65634;-0.88609"
        },
        {
         "PC1": 0,
         "PC2": 0,
         "PC3": 0,
         "_deepnote_index_column": "S19 0.97348;0.9958;0.9958;1.00002;0.9996"
        },
        {
         "PC1": 0,
         "PC2": 0,
         "PC3": 0,
         "_deepnote_index_column": "S19 1.00002;0.97348;0.97348;0.88609;0.88609"
        },
        {
         "PC1": 0,
         "PC2": 0,
         "PC3": 0,
         "_deepnote_index_column": "S19 0.24752;0.24752;0.65634;0.24752;-0.24752"
        },
        {
         "PC1": 0,
         "PC2": 0,
         "PC3": 0,
         "_deepnote_index_column": "S19 -0.24752;-0.65634;0.65634;-1.00002;-0.88609"
        },
        {
         "PC1": 0,
         "PC2": 0,
         "PC3": 0,
         "_deepnote_index_column": "S19 0.65634;0.65634;0.24752;0.24752;0.65634"
        },
        {
         "PC1": 0,
         "PC2": 0,
         "PC3": 0,
         "_deepnote_index_column": "S19 0.97348;-0.9996;-0.97348;-0.97348;-0.88609"
        },
        {
         "PC1": 0,
         "PC2": 0,
         "PC3": 0,
         "_deepnote_index_column": "S19 0.65634;0.65634;0.65634;0.88609;0.65634"
        },
        {
         "PC1": 0,
         "PC2": 0,
         "PC3": 0,
         "_deepnote_index_column": "S19 0.9958;0.9958;0.9958;0.88609;0.97348"
        },
        {
         "PC1": 0,
         "PC2": 0,
         "PC3": 0,
         "_deepnote_index_column": "S19 0.97348;-1.00002;0.88609;0.88609;0.97348"
        },
        {
         "PC1": 0,
         "PC2": 0,
         "PC3": 0,
         "_deepnote_index_column": "S19 0.9996;0.9996;1.00002;1.00002;0.9996"
        },
        {
         "PC1": 0,
         "PC2": 0,
         "PC3": 0,
         "_deepnote_index_column": "S19 0.9958;0.9996;1.00002;0.9996;0.9958"
        },
        {
         "PC1": 0.146562537179495,
         "PC2": 0.4062219900546722,
         "PC3": 0.5527845272341676,
         "_deepnote_index_column": "S19 -0.65634;-0.24752;-0.24752;-0.24752;0.24752"
        },
        {
         "PC1": 0,
         "PC2": 0,
         "PC3": 0,
         "_deepnote_index_column": "S19 0.97348;0.24752;0.97348;0.65634;0.9996"
        },
        {
         "PC1": 0,
         "PC2": 0,
         "PC3": 0,
         "_deepnote_index_column": "S19 -0.88609;0.88609;0.88609;0.97348;0.97348"
        },
        {
         "PC1": 0,
         "PC2": 0,
         "PC3": 0,
         "_deepnote_index_column": "S19 0.65634;0.88609;0.24752;0.24752;-0.24752"
        },
        {
         "PC1": 0,
         "PC2": 0,
         "PC3": 0,
         "_deepnote_index_column": "S19 0.9958;0.9996;0.9996;1.00002;0.9996"
        },
        {
         "PC1": 0,
         "PC2": 0,
         "PC3": 0,
         "_deepnote_index_column": "S19 -0.97348;-1.00002;-0.88609;-0.65634;-0.65634"
        },
        {
         "PC1": 0,
         "PC2": 0,
         "PC3": 0,
         "_deepnote_index_column": "S19 0.65634;0.65634;0.65634;0.65634;-0.97348"
        },
        {
         "PC1": 0,
         "PC2": 0,
         "PC3": 0,
         "_deepnote_index_column": "S19 -0.24752;-0.24752;0.88609;0.88609;0.65634"
        },
        {
         "PC1": 0,
         "PC2": 0,
         "PC3": 0,
         "_deepnote_index_column": "S19 0.24752;-0.24752;-0.24752;-0.88609;-1.00002"
        },
        {
         "PC1": 0,
         "PC2": 0,
         "PC3": 0,
         "_deepnote_index_column": "S19 0.9958;0.9958;0.9958;0.9958;0.9958"
        },
        {
         "PC1": 0,
         "PC2": 0,
         "PC3": 0,
         "_deepnote_index_column": "S19 1.00002;0.24752;0.65634;0.65634;0.65634"
        },
        {
         "PC1": 0.08234927963095984,
         "PC2": 0.030814402970149955,
         "PC3": 0.11316368260110989,
         "_deepnote_index_column": "S19 -0.97348;-0.9958;-1.00002;-0.9958;-0.9958"
        },
        {
         "PC1": 0,
         "PC2": 0,
         "PC3": 0,
         "_deepnote_index_column": "S19 -1.00002;-0.9958;-0.97348;-0.97348;-0.88609"
        },
        {
         "PC1": 0,
         "PC2": 0,
         "PC3": 0,
         "_deepnote_index_column": "S19 -0.97348;-0.97348;-0.97348;-0.9958;-0.97348"
        },
        {
         "PC1": 0.7713184974374219,
         "PC2": 0.6209985941098196,
         "PC3": 1.3923170915472427,
         "_deepnote_index_column": "S19 0.24752;0.24752;-0.24752;-0.24752;-0.24752"
        },
        {
         "PC1": 0,
         "PC2": 0,
         "PC3": 0,
         "_deepnote_index_column": "S19 -0.97348;-1.00002;-0.9958;-0.97348;-0.97348"
        },
        {
         "PC1": 0,
         "PC2": 0,
         "PC3": 0,
         "_deepnote_index_column": "S19 0.9996;0.9996;0.9996;0.9958;0.9958"
        },
        {
         "PC1": 0,
         "PC2": 0,
         "PC3": 0,
         "_deepnote_index_column": "S19 0.97348;0.97348;-1.00002;-0.88609;0.88609"
        },
        {
         "PC1": 0,
         "PC2": 0,
         "PC3": 0,
         "_deepnote_index_column": "S19 -0.24752;-0.24752;-0.88609;-0.88609;-0.97348"
        },
        {
         "PC1": 0,
         "PC2": 0,
         "PC3": 0,
         "_deepnote_index_column": "S19 0.97348;0.9958;1.00002;0.9958;0.9958"
        },
        {
         "PC1": 0,
         "PC2": 0,
         "PC3": 0,
         "_deepnote_index_column": "S19 -0.88609;-0.88609;-0.65634;-0.65634;-0.24752"
        },
        {
         "PC1": 0,
         "PC2": 0,
         "PC3": 0,
         "_deepnote_index_column": "S19 0.97348;0.9958;0.9958;0.9996;0.97348"
        },
        {
         "PC1": 0,
         "PC2": 0,
         "PC3": 0,
         "_deepnote_index_column": "S19 0.65634;0.65634;0.65634;-0.88609;-0.65634"
        },
        {
         "PC1": 0,
         "PC2": 0,
         "PC3": 0,
         "_deepnote_index_column": "S19 -0.88609;0.24752;0.24752;0.65634;0.65634"
        },
        {
         "PC1": 0,
         "PC2": 0,
         "PC3": 0,
         "_deepnote_index_column": "S19 0.24752;0.24752;0.88609;0.65634;0.65634"
        },
        {
         "PC1": 0,
         "PC2": 0,
         "PC3": 0,
         "_deepnote_index_column": "S19 -0.88609;-0.88609;-0.65634;-0.65634;-0.88609"
        },
        {
         "PC1": 0,
         "PC2": 0,
         "PC3": 0,
         "_deepnote_index_column": "S19 0.97348;-0.88609;-0.88609;-0.88609;-0.65634"
        },
        {
         "PC1": 0,
         "PC2": 0,
         "PC3": 0,
         "_deepnote_index_column": "S19 0.24752;-0.65634;-0.65634;-0.65634;0.24752"
        },
        {
         "PC1": 0,
         "PC2": 0,
         "PC3": 0,
         "_deepnote_index_column": "S19 -0.97348;-0.97348;-0.9958;-0.97348;-0.97348"
        },
        {
         "PC1": 0,
         "PC2": 0,
         "PC3": 0,
         "_deepnote_index_column": "S19 0.9958;0.9958;0.9996;0.9958;0.97348"
        },
        {
         "PC1": 0.2898544193220705,
         "PC2": 0.7543440063237629,
         "PC3": 0.46448958700169274,
         "_deepnote_index_column": "S19 0.24752;-0.24752;0.24752;0.24752;0.24752"
        },
        {
         "PC1": 0,
         "PC2": 0,
         "PC3": 0,
         "_deepnote_index_column": "S19 0.97348;0.97348;0.97348;-1.00002;0.65634"
        },
        {
         "PC1": 0.4197420281466868,
         "PC2": 0.1751055375560381,
         "PC3": 0.5948475657027253,
         "_deepnote_index_column": "S19 0.88609;0.88609;0.97348;0.88609;0.88609"
        },
        {
         "PC1": 0,
         "PC2": 0,
         "PC3": 0,
         "_deepnote_index_column": "S19 -1.00002;-0.88609;-0.65634;-0.65634;-0.65634"
        },
        {
         "PC1": 0.3269027177872981,
         "PC2": 0.010012080296033595,
         "PC3": 0.3168906374912648,
         "_deepnote_index_column": "S19 -0.65634;-0.24752;-0.24752;-0.65634;-0.65634"
        },
        {
         "PC1": 0,
         "PC2": 0,
         "PC3": 0,
         "_deepnote_index_column": "S19 -0.65634;-0.65634;-0.88609;-0.88609;-1.00002"
        },
        {
         "PC1": 0,
         "PC2": 0,
         "PC3": 0,
         "_deepnote_index_column": "S19 -0.65634;-0.65634;-0.97348;-0.24752;-0.24752"
        },
        {
         "PC1": 0,
         "PC2": 0,
         "PC3": 0,
         "_deepnote_index_column": "S19 -0.88609;-0.88609;-0.97348;-0.9996;-1.00002"
        },
        {
         "PC1": 0,
         "PC2": 0,
         "PC3": 0,
         "_deepnote_index_column": "S19 -0.65634;0.24752;-0.24752;-0.24752;-0.24752"
        },
        {
         "PC1": 0,
         "PC2": 0,
         "PC3": 0,
         "_deepnote_index_column": "S19 0.65634;0.88609;0.88609;0.65634;0.65634"
        },
        {
         "PC1": 0,
         "PC2": 0,
         "PC3": 0,
         "_deepnote_index_column": "S19 0.65634;0.65634;0.65634;-1.00002;-0.97348"
        },
        {
         "PC1": 0,
         "PC2": 0,
         "PC3": 0,
         "_deepnote_index_column": "S19 0.24752;0.24752;0.24752;0.24752;-0.65634"
        },
        {
         "PC1": 0,
         "PC2": 0,
         "PC3": 0,
         "_deepnote_index_column": "S19 1.00002;0.65634;0.88609;0.65634;0.88609"
        },
        {
         "PC1": 0,
         "PC2": 0,
         "PC3": 0,
         "_deepnote_index_column": "S19 -1.00002;0.65634;-0.65634;-0.88609;-0.65634"
        },
        {
         "PC1": 0,
         "PC2": 0,
         "PC3": 0,
         "_deepnote_index_column": "S19 0.88609;0.97348;0.97348;0.9958;0.9958"
        },
        {
         "PC1": 0,
         "PC2": 0,
         "PC3": 0,
         "_deepnote_index_column": "S19 0.88609;0.88609;0.97348;0.88609;0.65634"
        },
        {
         "PC1": 0.27961555242502234,
         "PC2": 0.021518120754451368,
         "PC3": 0.301133673179474,
         "_deepnote_index_column": "S19 -0.24752;-0.24752;-0.24752;0.24752;-0.24752"
        },
        {
         "PC1": 0,
         "PC2": 0,
         "PC3": 0,
         "_deepnote_index_column": "S19 -0.24752;-0.24752;-0.24752;0.65634;-0.65634"
        },
        {
         "PC1": 0,
         "PC2": 0,
         "PC3": 0,
         "_deepnote_index_column": "S19 0.65634;0.88609;1.00002;0.97348;0.88609"
        },
        {
         "PC1": 0,
         "PC2": 0,
         "PC3": 0,
         "_deepnote_index_column": "S19 -0.9958;-0.97348;-0.97348;-0.88609;-0.65634"
        },
        {
         "PC1": 0,
         "PC2": 0,
         "PC3": 0,
         "_deepnote_index_column": "S19 0.24752;0.24752;-0.65634;-0.65634;-0.65634"
        },
        {
         "PC1": 0,
         "PC2": 0,
         "PC3": 0,
         "_deepnote_index_column": "S19 -0.9958;-0.9958;-1.00002;-0.9958;-0.9958"
        },
        {
         "PC1": 0,
         "PC2": 0,
         "PC3": 0,
         "_deepnote_index_column": "S19 0.88609;0.88609;0.88609;-0.88609;-0.88609"
        },
        {
         "PC1": 0,
         "PC2": 0,
         "PC3": 0,
         "_deepnote_index_column": "S19 -0.9958;-0.9958;-0.9958;-0.9996;-0.9996"
        },
        {
         "PC1": 0,
         "PC2": 0,
         "PC3": 0,
         "_deepnote_index_column": "S19 -0.88609;-0.97348;-0.97348;-1.00002;-0.88609"
        },
        {
         "PC1": 0,
         "PC2": 0,
         "PC3": 0,
         "_deepnote_index_column": "S19 -0.24752;-0.24752;0.65634;0.65634;0.88609"
        },
        {
         "PC1": 0,
         "PC2": 0,
         "PC3": 0,
         "_deepnote_index_column": "S19 0.9996;0.9958;0.97348;0.97348;0.88609"
        },
        {
         "PC1": 0,
         "PC2": 0,
         "PC3": 0,
         "_deepnote_index_column": "S19 -0.9996;-1.00002;-1.00002;-0.9958;-0.9958"
        },
        {
         "PC1": 0,
         "PC2": 0,
         "PC3": 0,
         "_deepnote_index_column": "S19 0.9996;0.9958;0.9996;0.9996;0.9958"
        },
        {
         "PC1": 0,
         "PC2": 0,
         "PC3": 0,
         "_deepnote_index_column": "S19 0.9996;1.00002;1.00002;1.00002;1.00002"
        },
        {
         "PC1": 0,
         "PC2": 0,
         "PC3": 0,
         "_deepnote_index_column": "S19 -0.88609;-0.97348;-0.97348;-0.65634;-0.65634"
        },
        {
         "PC1": 2.6914174275689247,
         "PC2": 0.0613445340949262,
         "PC3": 2.6300728934740008,
         "_deepnote_index_column": "S19 -0.24752;-0.65634;-0.65634;-0.65634;-0.65634"
        },
        {
         "PC1": 0,
         "PC2": 0,
         "PC3": 0,
         "_deepnote_index_column": "S19 -0.97348;0.88609;0.88609;0.88609;0.88609"
        },
        {
         "PC1": 0,
         "PC2": 0,
         "PC3": 0,
         "_deepnote_index_column": "S19 -0.88609;-0.97348;-1.00002;-0.97348;-0.97348"
        },
        {
         "PC1": 0,
         "PC2": 0,
         "PC3": 0,
         "_deepnote_index_column": "S19 -1.00002;0.88609;0.97348;0.97348;0.97348"
        },
        {
         "PC1": 0,
         "PC2": 0,
         "PC3": 0,
         "_deepnote_index_column": "S19 -1.00002;-0.97348;0.88609;0.88609;0.88609"
        },
        {
         "PC1": 0,
         "PC2": 0,
         "PC3": 0,
         "_deepnote_index_column": "S19 0.24752;0.24752;0.24752;0.24752;-0.88609"
        },
        {
         "PC1": 0,
         "PC2": 0,
         "PC3": 0,
         "_deepnote_index_column": "S19 -0.24752;0.24752;0.65634;0.65634;0.24752"
        },
        {
         "PC1": 0,
         "PC2": 0,
         "PC3": 0,
         "_deepnote_index_column": "S19 -0.88609;-0.97348;0.24752;0.24752;0.24752"
        },
        {
         "PC1": 0,
         "PC2": 0,
         "PC3": 0,
         "_deepnote_index_column": "S19 -0.24752;-0.65634;-0.88609;-0.88609;-1.00002"
        },
        {
         "PC1": 0,
         "PC2": 0,
         "PC3": 0,
         "_deepnote_index_column": "S19 -0.24752;-0.24752;0.24752;0.65634;0.88609"
        },
        {
         "PC1": 0,
         "PC2": 0,
         "PC3": 0,
         "_deepnote_index_column": "S19 0.65634;0.97348;0.24752;-0.65634;-0.24752"
        },
        {
         "PC1": 0,
         "PC2": 0,
         "PC3": 0,
         "_deepnote_index_column": "S19 -1.00002;-0.97348;-0.88609;-0.88609;-0.88609"
        },
        {
         "PC1": 0,
         "PC2": 0,
         "PC3": 0,
         "_deepnote_index_column": "S19 0.97348;0.97348;0.9958;1.00002;-1.00002"
        },
        {
         "PC1": 0,
         "PC2": 0,
         "PC3": 0,
         "_deepnote_index_column": "S19 -0.65634;0.24752;-0.24752;0.24752;-0.24752"
        },
        {
         "PC1": 1.1769434962247347,
         "PC2": 0.17849783518857978,
         "PC3": 0.9984456610361557,
         "_deepnote_index_column": "S19 -0.24752;0.24752;-0.24752;-0.24752;0.24752"
        },
        {
         "PC1": 0,
         "PC2": 0,
         "PC3": 0,
         "_deepnote_index_column": "S19 -0.97348;-1.00002;-0.97348;-0.97348;-0.97348"
        },
        {
         "PC1": 0,
         "PC2": 0,
         "PC3": 0,
         "_deepnote_index_column": "S19 -0.88609;-0.24752;-0.65634;-0.65634;-0.65634"
        },
        {
         "PC1": 0,
         "PC2": 0,
         "PC3": 0,
         "_deepnote_index_column": "S19 -0.97348;-0.97348;-0.97348;-0.97348;-0.65634"
        },
        {
         "PC1": 0,
         "PC2": 0,
         "PC3": 0,
         "_deepnote_index_column": "S19 0.24752;0.24752;0.65634;0.65634;0.24752"
        },
        {
         "PC1": 0,
         "PC2": 0,
         "PC3": 0,
         "_deepnote_index_column": "S19 0.9996;0.9958;0.9996;0.9958;0.9958"
        },
        {
         "PC1": 0,
         "PC2": 0,
         "PC3": 0,
         "_deepnote_index_column": "S19 -0.97348;-0.9958;-1.00002;0.97348;0.9958"
        },
        {
         "PC1": 0,
         "PC2": 0,
         "PC3": 0,
         "_deepnote_index_column": "S19 0.24752;0.65634;0.24752;0.65634;0.65634"
        },
        {
         "PC1": 0,
         "PC2": 0,
         "PC3": 0,
         "_deepnote_index_column": "S19 0.97348;0.88609;0.24752;-0.24752;0.24752"
        },
        {
         "PC1": 0,
         "PC2": 0,
         "PC3": 0,
         "_deepnote_index_column": "S19 -0.88609;-0.97348;-0.97348;-0.97348;-0.9958"
        },
        {
         "PC1": 0,
         "PC2": 0,
         "PC3": 0,
         "_deepnote_index_column": "S19 -1.00002;-0.97348;-0.65634;-0.65634;-0.65634"
        },
        {
         "PC1": 0,
         "PC2": 0,
         "PC3": 0,
         "_deepnote_index_column": "S19 0.9958;0.9958;0.9996;0.9958;0.9996"
        },
        {
         "PC1": 0,
         "PC2": 0,
         "PC3": 0,
         "_deepnote_index_column": "S19 -0.9958;-0.97348;-0.97348;-0.88609;-0.88609"
        },
        {
         "PC1": 1.1402185790914785,
         "PC2": 1.8479881519281203,
         "PC3": 0.7077695728366427,
         "_deepnote_index_column": "S19 0.97348;0.88609;0.97348;0.88609;0.88609"
        },
        {
         "PC1": 0,
         "PC2": 0,
         "PC3": 0,
         "_deepnote_index_column": "S19 0.9996;1.00002;0.9958;0.9996;0.97348"
        },
        {
         "PC1": 0,
         "PC2": 0,
         "PC3": 0,
         "_deepnote_index_column": "S19 0.88609;0.97348;0.88609;0.97348;0.97348"
        },
        {
         "PC1": 0.17427688380712475,
         "PC2": 0.297621458072664,
         "PC3": 0.4718983418797892,
         "_deepnote_index_column": "S19 -0.24752;-0.65634;-0.24752;-0.65634;-0.24752"
        },
        {
         "PC1": 0,
         "PC2": 0,
         "PC3": 0,
         "_deepnote_index_column": "S19 -0.88609;-1.00002;-0.88609;-0.88609;-0.88609"
        },
        {
         "PC1": 0,
         "PC2": 0,
         "PC3": 0,
         "_deepnote_index_column": "S19 0.24752;0.65634;0.65634;0.88609;0.88609"
        },
        {
         "PC1": 0,
         "PC2": 0,
         "PC3": 0,
         "_deepnote_index_column": "S19 0.97348;0.97348;0.97348;0.97348;0.65634"
        },
        {
         "PC1": 0,
         "PC2": 0,
         "PC3": 0,
         "_deepnote_index_column": "S19 -0.97348;-0.65634;-0.65634;-0.65634;-0.88609"
        },
        {
         "PC1": 0,
         "PC2": 0,
         "PC3": 0,
         "_deepnote_index_column": "S19 0.88609;0.88609;-0.88609;-0.65634;-0.65634"
        },
        {
         "PC1": 0.21156945129695712,
         "PC2": 0.11793073907042792,
         "PC3": 0.09363871222652927,
         "_deepnote_index_column": "S19 -0.65634;-0.65634;-0.24752;-0.24752;0.24752"
        },
        {
         "PC1": 0,
         "PC2": 0,
         "PC3": 0,
         "_deepnote_index_column": "S19 -0.97348;-0.97348;0.24752;0.24752;0.24752"
        },
        {
         "PC1": 0,
         "PC2": 0,
         "PC3": 0,
         "_deepnote_index_column": "S19 -0.88609;-0.88609;0.65634;0.88609;0.88609"
        },
        {
         "PC1": 0.2613518930786094,
         "PC2": 0.7647734847479107,
         "PC3": 1.0261253778265211,
         "_deepnote_index_column": "S19 -0.24752;-0.65634;-0.65634;-0.65634;-0.88609"
        },
        {
         "PC1": 0,
         "PC2": 0,
         "PC3": 0,
         "_deepnote_index_column": "S19 0.9958;0.9996;0.9958;0.9958;0.9958"
        },
        {
         "PC1": 0,
         "PC2": 0,
         "PC3": 0,
         "_deepnote_index_column": "S19 -0.88609;-0.88609;-0.97348;-0.97348;-0.65634"
        },
        {
         "PC1": 0,
         "PC2": 0,
         "PC3": 0,
         "_deepnote_index_column": "S19 -0.9958;-0.9958;-1.00002;-0.9996;-0.9958"
        },
        {
         "PC1": 0,
         "PC2": 0,
         "PC3": 0,
         "_deepnote_index_column": "S19 -0.9996;-0.9996;-0.9958;-0.9958;-0.97348"
        },
        {
         "PC1": 0,
         "PC2": 0,
         "PC3": 0,
         "_deepnote_index_column": "S19 0.9958;0.9996;0.9996;0.9958;0.9958"
        },
        {
         "PC1": 0,
         "PC2": 0,
         "PC3": 0,
         "_deepnote_index_column": "S19 0.9996;1.00002;0.9958;0.9958;0.9958"
        },
        {
         "PC1": 0,
         "PC2": 0,
         "PC3": 0,
         "_deepnote_index_column": "S19 1.00002;0.9996;0.9958;0.9996;0.9996"
        },
        {
         "PC1": 0,
         "PC2": 0,
         "PC3": 0,
         "_deepnote_index_column": "S19 0.88609;0.88609;-0.65634;-1.00002;-0.24752"
        },
        {
         "PC1": 0,
         "PC2": 0,
         "PC3": 0,
         "_deepnote_index_column": "S19 0.9996;0.9958;1.00002;0.9996;0.9996"
        },
        {
         "PC1": 0,
         "PC2": 0,
         "PC3": 0,
         "_deepnote_index_column": "S19 0.24752;0.24752;0.24752;0.24752;-1.00002"
        },
        {
         "PC1": 0,
         "PC2": 0,
         "PC3": 0,
         "_deepnote_index_column": "S19 0.24752;-0.24752;0.24752;0.24752;-0.24752"
        },
        {
         "PC1": 0,
         "PC2": 0,
         "PC3": 0,
         "_deepnote_index_column": "S19 0.24752;0.24752;0.65634;1.00002;0.88609"
        },
        {
         "PC1": 0,
         "PC2": 0,
         "PC3": 0,
         "_deepnote_index_column": "S19 1.00002;0.24752;0.65634;0.24752;0.24752"
        },
        {
         "PC1": 0,
         "PC2": 0,
         "PC3": 0,
         "_deepnote_index_column": "S19 -0.88609;-0.88609;-1.00002;-0.88609;-0.88609"
        },
        {
         "PC1": 0,
         "PC2": 0,
         "PC3": 0,
         "_deepnote_index_column": "S19 0.88609;0.9958;0.9958;0.9958;0.9958"
        },
        {
         "PC1": 0,
         "PC2": 0,
         "PC3": 0,
         "_deepnote_index_column": "S19 -0.9958;-0.9996;-1.00002;-1.00002;-1.00002"
        },
        {
         "PC1": 0,
         "PC2": 0,
         "PC3": 0,
         "_deepnote_index_column": "S19 0.9958;0.9958;1.00002;0.9996;0.9958"
        },
        {
         "PC1": 0.1510502494257856,
         "PC2": 0.026066899153562362,
         "PC3": 0.1771171485793481,
         "_deepnote_index_column": "S19 0.65634;0.24752;0.24752;0.65634;0.65634"
        },
        {
         "PC1": 0,
         "PC2": 0,
         "PC3": 0,
         "_deepnote_index_column": "S19 -0.88609;-0.97348;-1.00002;-0.88609;-0.88609"
        },
        {
         "PC1": 0,
         "PC2": 0,
         "PC3": 0,
         "_deepnote_index_column": "S19 0.65634;0.65634;0.65634;1.00002;0.24752"
        },
        {
         "PC1": 0,
         "PC2": 0,
         "PC3": 0,
         "_deepnote_index_column": "S19 0.88609;0.9958;0.9958;0.9996;0.9958"
        },
        {
         "PC1": 0,
         "PC2": 0,
         "PC3": 0,
         "_deepnote_index_column": "S19 -0.9996;-0.9996;-1.00002;-0.9996;-0.9996"
        },
        {
         "PC1": 0,
         "PC2": 0,
         "PC3": 0,
         "_deepnote_index_column": "S19 -0.88609;0.97348;0.97348;0.9958;0.9958"
        },
        {
         "PC1": 0,
         "PC2": 0,
         "PC3": 0,
         "_deepnote_index_column": "S19 -0.88609;-0.97348;-0.97348;-0.9958;-0.9958"
        },
        {
         "PC1": 0.024890729992491166,
         "PC2": 0.0924847139015825,
         "PC3": 0.0675939839090914,
         "_deepnote_index_column": "S19 -0.9996;-1.00002;-0.9996;-0.9958;-0.9958"
        },
        {
         "PC1": 0,
         "PC2": 0,
         "PC3": 0,
         "_deepnote_index_column": "S19 0.9958;0.9996;0.9958;0.9996;0.9996"
        },
        {
         "PC1": 0.1152207077438091,
         "PC2": 0.019883757759934482,
         "PC3": 0.1351044655037437,
         "_deepnote_index_column": "S19 0.65634;0.65634;0.65634;0.24752;-0.24752"
        },
        {
         "PC1": 0,
         "PC2": 0,
         "PC3": 0,
         "_deepnote_index_column": "S19 -1.00002;-0.9996;-0.9996;-0.9958;-0.9996"
        },
        {
         "PC1": 0,
         "PC2": 0,
         "PC3": 0,
         "_deepnote_index_column": "S19 0.9996;0.9996;0.9996;1.00002;0.9996"
        },
        {
         "PC1": 0,
         "PC2": 0,
         "PC3": 0,
         "_deepnote_index_column": "S19 0.65634;0.88609;0.88609;0.65634;0.97348"
        },
        {
         "PC1": 0,
         "PC2": 0,
         "PC3": 0,
         "_deepnote_index_column": "S19 0.97348;0.9958;0.9996;1.00002;1.00002"
        },
        {
         "PC1": 0,
         "PC2": 0,
         "PC3": 0,
         "_deepnote_index_column": "S19 0.88609;-1.00002;-0.88609;-0.65634;-0.65634"
        },
        {
         "PC1": 0,
         "PC2": 0,
         "PC3": 0,
         "_deepnote_index_column": "S19 -0.24752;-0.97348;-1.00002;-0.24752;-0.24752"
        },
        {
         "PC1": 0,
         "PC2": 0,
         "PC3": 0,
         "_deepnote_index_column": "S19 -0.97348;-0.65634;-0.65634;0.65634;0.65634"
        },
        {
         "PC1": 0,
         "PC2": 0,
         "PC3": 0,
         "_deepnote_index_column": "S19 -0.88609;0.24752;0.65634;0.88609;0.88609"
        },
        {
         "PC1": 0,
         "PC2": 0,
         "PC3": 0,
         "_deepnote_index_column": "S19 0.9958;0.9958;0.9958;1.00002;0.9996"
        },
        {
         "PC1": 0,
         "PC2": 0,
         "PC3": 0,
         "_deepnote_index_column": "S19 0.97348;0.97348;0.9958;0.9996;1.00002"
        },
        {
         "PC1": 0,
         "PC2": 0,
         "PC3": 0,
         "_deepnote_index_column": "S19 -0.65634;-0.65634;0.88609;0.88609;0.97348"
        },
        {
         "PC1": 0,
         "PC2": 0,
         "PC3": 0,
         "_deepnote_index_column": "S19 -0.97348;-1.00002;-0.65634;-0.65634;-0.65634"
        },
        {
         "PC1": 0,
         "PC2": 0,
         "PC3": 0,
         "_deepnote_index_column": "S19 0.24752;-0.65634;-0.65634;-0.65634;-0.65634"
        },
        {
         "PC1": 0.4438294672060498,
         "PC2": 0.21051085079418172,
         "PC3": 0.23331861641186827,
         "_deepnote_index_column": "S19 -0.97348;-0.97348;-0.97348;-0.88609;-0.88609"
        },
        {
         "PC1": 0,
         "PC2": 0,
         "PC3": 0,
         "_deepnote_index_column": "S19 -0.88609;-0.97348;-0.97348;-1.00002;-1.00002"
        },
        {
         "PC1": 0,
         "PC2": 0,
         "PC3": 0,
         "_deepnote_index_column": "S19 -0.9958;-0.9958;-0.9996;-0.9958;-1.00002"
        },
        {
         "PC1": 0,
         "PC2": 0,
         "PC3": 0,
         "_deepnote_index_column": "S19 -0.65634;-0.88609;-0.88609;-0.88609;0.88609"
        },
        {
         "PC1": 0,
         "PC2": 0,
         "PC3": 0,
         "_deepnote_index_column": "S19 1.00002;0.88609;0.65634;0.65634;0.24752"
        },
        {
         "PC1": 0,
         "PC2": 0,
         "PC3": 0,
         "_deepnote_index_column": "S19 0.9996;1.00002;0.9996;0.9958;0.9958"
        },
        {
         "PC1": 0,
         "PC2": 0,
         "PC3": 0,
         "_deepnote_index_column": "S19 0.97348;0.97348;-1.00002;0.88609;0.88609"
        },
        {
         "PC1": 0,
         "PC2": 0,
         "PC3": 0,
         "_deepnote_index_column": "S19 -0.9958;-1.00002;-0.9996;-1.00002;-0.9996"
        }
       ]
      },
      "text/plain": "                                                          PC1           PC2  \\\nS0 -0.9996;-0.9996;-0.9996;-0.9996;-0.9996       6.720342e-19  9.179753e-19   \nS0 0.88609;0.97348;0.65634;0.88609;0.88609       1.248449e-17  6.451246e-20   \nS0 -0.88609;-0.65634;-0.65634;-0.65634;-0.88609  9.121424e-18  3.861156e-18   \nS0 0.88609;0.97348;0.9958;0.97348;0.9958         6.781317e-18  1.823301e-18   \nS0 0.9958;0.9958;0.9958;0.97348;0.9958           3.518486e-18  2.149916e-18   \n...                                                       ...           ...   \nS19 -0.65634;-0.88609;-0.88609;-0.88609;0.88609  0.000000e+00  0.000000e+00   \nS19 1.00002;0.88609;0.65634;0.65634;0.24752      0.000000e+00  0.000000e+00   \nS19 0.9996;1.00002;0.9996;0.9958;0.9958          0.000000e+00  0.000000e+00   \nS19 0.97348;0.97348;-1.00002;0.88609;0.88609     0.000000e+00  0.000000e+00   \nS19 -0.9958;-1.00002;-0.9996;-1.00002;-0.9996    0.000000e+00  0.000000e+00   \n\n                                                          PC3  \nS0 -0.9996;-0.9996;-0.9996;-0.9996;-0.9996       1.590009e-18  \nS0 0.88609;0.97348;0.65634;0.88609;0.88609       1.254900e-17  \nS0 -0.88609;-0.65634;-0.65634;-0.65634;-0.88609  1.298258e-17  \nS0 0.88609;0.97348;0.9958;0.97348;0.9958         4.958016e-18  \nS0 0.9958;0.9958;0.9958;0.97348;0.9958           1.368570e-18  \n...                                                       ...  \nS19 -0.65634;-0.88609;-0.88609;-0.88609;0.88609  0.000000e+00  \nS19 1.00002;0.88609;0.65634;0.65634;0.24752      0.000000e+00  \nS19 0.9996;1.00002;0.9996;0.9958;0.9958          0.000000e+00  \nS19 0.97348;0.97348;-1.00002;0.88609;0.88609     0.000000e+00  \nS19 -0.9958;-1.00002;-0.9996;-1.00002;-0.9996    0.000000e+00  \n\n[25540 rows x 3 columns]",
      "text/html": "<div>\n<style scoped>\n    .dataframe tbody tr th:only-of-type {\n        vertical-align: middle;\n    }\n\n    .dataframe tbody tr th {\n        vertical-align: top;\n    }\n\n    .dataframe thead th {\n        text-align: right;\n    }\n</style>\n<table border=\"1\" class=\"dataframe\">\n  <thead>\n    <tr style=\"text-align: right;\">\n      <th></th>\n      <th>PC1</th>\n      <th>PC2</th>\n      <th>PC3</th>\n    </tr>\n  </thead>\n  <tbody>\n    <tr>\n      <th>S0 -0.9996;-0.9996;-0.9996;-0.9996;-0.9996</th>\n      <td>6.720342e-19</td>\n      <td>9.179753e-19</td>\n      <td>1.590009e-18</td>\n    </tr>\n    <tr>\n      <th>S0 0.88609;0.97348;0.65634;0.88609;0.88609</th>\n      <td>1.248449e-17</td>\n      <td>6.451246e-20</td>\n      <td>1.254900e-17</td>\n    </tr>\n    <tr>\n      <th>S0 -0.88609;-0.65634;-0.65634;-0.65634;-0.88609</th>\n      <td>9.121424e-18</td>\n      <td>3.861156e-18</td>\n      <td>1.298258e-17</td>\n    </tr>\n    <tr>\n      <th>S0 0.88609;0.97348;0.9958;0.97348;0.9958</th>\n      <td>6.781317e-18</td>\n      <td>1.823301e-18</td>\n      <td>4.958016e-18</td>\n    </tr>\n    <tr>\n      <th>S0 0.9958;0.9958;0.9958;0.97348;0.9958</th>\n      <td>3.518486e-18</td>\n      <td>2.149916e-18</td>\n      <td>1.368570e-18</td>\n    </tr>\n    <tr>\n      <th>...</th>\n      <td>...</td>\n      <td>...</td>\n      <td>...</td>\n    </tr>\n    <tr>\n      <th>S19 -0.65634;-0.88609;-0.88609;-0.88609;0.88609</th>\n      <td>0.000000e+00</td>\n      <td>0.000000e+00</td>\n      <td>0.000000e+00</td>\n    </tr>\n    <tr>\n      <th>S19 1.00002;0.88609;0.65634;0.65634;0.24752</th>\n      <td>0.000000e+00</td>\n      <td>0.000000e+00</td>\n      <td>0.000000e+00</td>\n    </tr>\n    <tr>\n      <th>S19 0.9996;1.00002;0.9996;0.9958;0.9958</th>\n      <td>0.000000e+00</td>\n      <td>0.000000e+00</td>\n      <td>0.000000e+00</td>\n    </tr>\n    <tr>\n      <th>S19 0.97348;0.97348;-1.00002;0.88609;0.88609</th>\n      <td>0.000000e+00</td>\n      <td>0.000000e+00</td>\n      <td>0.000000e+00</td>\n    </tr>\n    <tr>\n      <th>S19 -0.9958;-1.00002;-0.9996;-1.00002;-0.9996</th>\n      <td>0.000000e+00</td>\n      <td>0.000000e+00</td>\n      <td>0.000000e+00</td>\n    </tr>\n  </tbody>\n</table>\n<p>25540 rows × 3 columns</p>\n</div>"
     },
     "metadata": {},
     "output_type": "display_data"
    },
    {
     "name": "stdout",
     "text": "\nPC1 top 10 features are: \n\n",
     "output_type": "stream"
    },
    {
     "data": {
      "text/plain": "['S5 0.97348;0.97348;0.97348;0.97348;0.97348:     52.156894',\n 'S8 0.9958;0.9958;0.9958;0.9958;0.9958:     51.492222',\n 'S10 0.9958;0.9958;0.9958;0.9958;0.9958:     37.806571',\n 'S9 0.97348;0.97348;0.97348;0.97348;0.97348:     25.365764',\n 'S4 0.9958;0.9958;0.9958;0.9958;0.9958:     18.975306',\n 'S3 0.88609;0.88609;0.97348;0.97348;0.97348:     16.732574',\n 'S6 -0.24752;-0.65634;-0.65634;-0.65634;-0.65634:     16.340106',\n 'S0 -0.88609;-0.88609;-0.88609;-0.88609;-0.88609:     16.053318',\n 'S17 -0.65634;-0.24752;-0.24752;-0.24752;-0.24752:     15.089386',\n 'S0 -0.24752;-0.24752;-0.24752;-0.24752;-0.65634:     14.33928']"
     },
     "metadata": {},
     "output_type": "display_data"
    }
   ]
  },
  {
   "cell_type": "code",
   "metadata": {
    "tags": [],
    "cell_id": "00030-52877fd7-b1ec-4027-80af-65ced51be790",
    "deepnote_to_be_reexecuted": false,
    "source_hash": "ac033c5f",
    "execution_start": 1638302958942,
    "execution_millis": 1869,
    "deepnote_output_heights": [
     527
    ],
    "deepnote_cell_type": "code"
   },
   "source": "fig = px.scatter(t1_alg_variance,\n            labels={\"index\": \"# Components\", \"value\": \"Explained Variance\"}, \n            title=\"Explained Variance with increasing number of latent features\")\nfig.update_traces(showlegend=True)\nfig.show()",
   "execution_count": 21,
   "outputs": [
    {
     "data": {
      "text/html": "<html>\n<head><meta charset=\"utf-8\" /></head>\n<body>\n    <div>            <script src=\"https://cdnjs.cloudflare.com/ajax/libs/mathjax/2.7.5/MathJax.js?config=TeX-AMS-MML_SVG\"></script><script type=\"text/javascript\">if (window.MathJax) {MathJax.Hub.Config({SVG: {font: \"STIX-Web\"}});}</script>                <script type=\"text/javascript\">window.PlotlyConfig = {MathJaxConfig: 'local'};</script>\n        <script src=\"https://cdn.plot.ly/plotly-2.4.2.min.js\"></script>                <div id=\"4716347d-67bc-471c-b3f9-7d18da98a310\" class=\"plotly-graph-div\" style=\"height:525px; width:100%;\"></div>            <script type=\"text/javascript\">                                    window.PLOTLYENV=window.PLOTLYENV || {};                                    if (document.getElementById(\"4716347d-67bc-471c-b3f9-7d18da98a310\")) {                    Plotly.newPlot(                        \"4716347d-67bc-471c-b3f9-7d18da98a310\",                        [{\"hovertemplate\":\"variable=0<br># Components=%{x}<br>Explained Variance=%{y}<extra></extra>\",\"legendgroup\":\"0\",\"marker\":{\"color\":\"#636efa\",\"symbol\":\"circle\"},\"mode\":\"markers\",\"name\":\"0\",\"orientation\":\"v\",\"showlegend\":true,\"type\":\"scatter\",\"x\":[0,1],\"xaxis\":\"x\",\"y\":[0.6287049357776081,1.0],\"yaxis\":\"y\"}],                        {\"legend\":{\"title\":{\"text\":\"variable\"},\"tracegroupgap\":0},\"template\":{\"data\":{\"bar\":[{\"error_x\":{\"color\":\"#2a3f5f\"},\"error_y\":{\"color\":\"#2a3f5f\"},\"marker\":{\"line\":{\"color\":\"#E5ECF6\",\"width\":0.5},\"pattern\":{\"fillmode\":\"overlay\",\"size\":10,\"solidity\":0.2}},\"type\":\"bar\"}],\"barpolar\":[{\"marker\":{\"line\":{\"color\":\"#E5ECF6\",\"width\":0.5},\"pattern\":{\"fillmode\":\"overlay\",\"size\":10,\"solidity\":0.2}},\"type\":\"barpolar\"}],\"carpet\":[{\"aaxis\":{\"endlinecolor\":\"#2a3f5f\",\"gridcolor\":\"white\",\"linecolor\":\"white\",\"minorgridcolor\":\"white\",\"startlinecolor\":\"#2a3f5f\"},\"baxis\":{\"endlinecolor\":\"#2a3f5f\",\"gridcolor\":\"white\",\"linecolor\":\"white\",\"minorgridcolor\":\"white\",\"startlinecolor\":\"#2a3f5f\"},\"type\":\"carpet\"}],\"choropleth\":[{\"colorbar\":{\"outlinewidth\":0,\"ticks\":\"\"},\"type\":\"choropleth\"}],\"contour\":[{\"colorbar\":{\"outlinewidth\":0,\"ticks\":\"\"},\"colorscale\":[[0.0,\"#0d0887\"],[0.1111111111111111,\"#46039f\"],[0.2222222222222222,\"#7201a8\"],[0.3333333333333333,\"#9c179e\"],[0.4444444444444444,\"#bd3786\"],[0.5555555555555556,\"#d8576b\"],[0.6666666666666666,\"#ed7953\"],[0.7777777777777778,\"#fb9f3a\"],[0.8888888888888888,\"#fdca26\"],[1.0,\"#f0f921\"]],\"type\":\"contour\"}],\"contourcarpet\":[{\"colorbar\":{\"outlinewidth\":0,\"ticks\":\"\"},\"type\":\"contourcarpet\"}],\"heatmap\":[{\"colorbar\":{\"outlinewidth\":0,\"ticks\":\"\"},\"colorscale\":[[0.0,\"#0d0887\"],[0.1111111111111111,\"#46039f\"],[0.2222222222222222,\"#7201a8\"],[0.3333333333333333,\"#9c179e\"],[0.4444444444444444,\"#bd3786\"],[0.5555555555555556,\"#d8576b\"],[0.6666666666666666,\"#ed7953\"],[0.7777777777777778,\"#fb9f3a\"],[0.8888888888888888,\"#fdca26\"],[1.0,\"#f0f921\"]],\"type\":\"heatmap\"}],\"heatmapgl\":[{\"colorbar\":{\"outlinewidth\":0,\"ticks\":\"\"},\"colorscale\":[[0.0,\"#0d0887\"],[0.1111111111111111,\"#46039f\"],[0.2222222222222222,\"#7201a8\"],[0.3333333333333333,\"#9c179e\"],[0.4444444444444444,\"#bd3786\"],[0.5555555555555556,\"#d8576b\"],[0.6666666666666666,\"#ed7953\"],[0.7777777777777778,\"#fb9f3a\"],[0.8888888888888888,\"#fdca26\"],[1.0,\"#f0f921\"]],\"type\":\"heatmapgl\"}],\"histogram\":[{\"marker\":{\"pattern\":{\"fillmode\":\"overlay\",\"size\":10,\"solidity\":0.2}},\"type\":\"histogram\"}],\"histogram2d\":[{\"colorbar\":{\"outlinewidth\":0,\"ticks\":\"\"},\"colorscale\":[[0.0,\"#0d0887\"],[0.1111111111111111,\"#46039f\"],[0.2222222222222222,\"#7201a8\"],[0.3333333333333333,\"#9c179e\"],[0.4444444444444444,\"#bd3786\"],[0.5555555555555556,\"#d8576b\"],[0.6666666666666666,\"#ed7953\"],[0.7777777777777778,\"#fb9f3a\"],[0.8888888888888888,\"#fdca26\"],[1.0,\"#f0f921\"]],\"type\":\"histogram2d\"}],\"histogram2dcontour\":[{\"colorbar\":{\"outlinewidth\":0,\"ticks\":\"\"},\"colorscale\":[[0.0,\"#0d0887\"],[0.1111111111111111,\"#46039f\"],[0.2222222222222222,\"#7201a8\"],[0.3333333333333333,\"#9c179e\"],[0.4444444444444444,\"#bd3786\"],[0.5555555555555556,\"#d8576b\"],[0.6666666666666666,\"#ed7953\"],[0.7777777777777778,\"#fb9f3a\"],[0.8888888888888888,\"#fdca26\"],[1.0,\"#f0f921\"]],\"type\":\"histogram2dcontour\"}],\"mesh3d\":[{\"colorbar\":{\"outlinewidth\":0,\"ticks\":\"\"},\"type\":\"mesh3d\"}],\"parcoords\":[{\"line\":{\"colorbar\":{\"outlinewidth\":0,\"ticks\":\"\"}},\"type\":\"parcoords\"}],\"pie\":[{\"automargin\":true,\"type\":\"pie\"}],\"scatter\":[{\"marker\":{\"colorbar\":{\"outlinewidth\":0,\"ticks\":\"\"}},\"type\":\"scatter\"}],\"scatter3d\":[{\"line\":{\"colorbar\":{\"outlinewidth\":0,\"ticks\":\"\"}},\"marker\":{\"colorbar\":{\"outlinewidth\":0,\"ticks\":\"\"}},\"type\":\"scatter3d\"}],\"scattercarpet\":[{\"marker\":{\"colorbar\":{\"outlinewidth\":0,\"ticks\":\"\"}},\"type\":\"scattercarpet\"}],\"scattergeo\":[{\"marker\":{\"colorbar\":{\"outlinewidth\":0,\"ticks\":\"\"}},\"type\":\"scattergeo\"}],\"scattergl\":[{\"marker\":{\"colorbar\":{\"outlinewidth\":0,\"ticks\":\"\"}},\"type\":\"scattergl\"}],\"scattermapbox\":[{\"marker\":{\"colorbar\":{\"outlinewidth\":0,\"ticks\":\"\"}},\"type\":\"scattermapbox\"}],\"scatterpolar\":[{\"marker\":{\"colorbar\":{\"outlinewidth\":0,\"ticks\":\"\"}},\"type\":\"scatterpolar\"}],\"scatterpolargl\":[{\"marker\":{\"colorbar\":{\"outlinewidth\":0,\"ticks\":\"\"}},\"type\":\"scatterpolargl\"}],\"scatterternary\":[{\"marker\":{\"colorbar\":{\"outlinewidth\":0,\"ticks\":\"\"}},\"type\":\"scatterternary\"}],\"surface\":[{\"colorbar\":{\"outlinewidth\":0,\"ticks\":\"\"},\"colorscale\":[[0.0,\"#0d0887\"],[0.1111111111111111,\"#46039f\"],[0.2222222222222222,\"#7201a8\"],[0.3333333333333333,\"#9c179e\"],[0.4444444444444444,\"#bd3786\"],[0.5555555555555556,\"#d8576b\"],[0.6666666666666666,\"#ed7953\"],[0.7777777777777778,\"#fb9f3a\"],[0.8888888888888888,\"#fdca26\"],[1.0,\"#f0f921\"]],\"type\":\"surface\"}],\"table\":[{\"cells\":{\"fill\":{\"color\":\"#EBF0F8\"},\"line\":{\"color\":\"white\"}},\"header\":{\"fill\":{\"color\":\"#C8D4E3\"},\"line\":{\"color\":\"white\"}},\"type\":\"table\"}]},\"layout\":{\"annotationdefaults\":{\"arrowcolor\":\"#2a3f5f\",\"arrowhead\":0,\"arrowwidth\":1},\"autotypenumbers\":\"strict\",\"coloraxis\":{\"colorbar\":{\"outlinewidth\":0,\"ticks\":\"\"}},\"colorscale\":{\"diverging\":[[0,\"#8e0152\"],[0.1,\"#c51b7d\"],[0.2,\"#de77ae\"],[0.3,\"#f1b6da\"],[0.4,\"#fde0ef\"],[0.5,\"#f7f7f7\"],[0.6,\"#e6f5d0\"],[0.7,\"#b8e186\"],[0.8,\"#7fbc41\"],[0.9,\"#4d9221\"],[1,\"#276419\"]],\"sequential\":[[0.0,\"#0d0887\"],[0.1111111111111111,\"#46039f\"],[0.2222222222222222,\"#7201a8\"],[0.3333333333333333,\"#9c179e\"],[0.4444444444444444,\"#bd3786\"],[0.5555555555555556,\"#d8576b\"],[0.6666666666666666,\"#ed7953\"],[0.7777777777777778,\"#fb9f3a\"],[0.8888888888888888,\"#fdca26\"],[1.0,\"#f0f921\"]],\"sequentialminus\":[[0.0,\"#0d0887\"],[0.1111111111111111,\"#46039f\"],[0.2222222222222222,\"#7201a8\"],[0.3333333333333333,\"#9c179e\"],[0.4444444444444444,\"#bd3786\"],[0.5555555555555556,\"#d8576b\"],[0.6666666666666666,\"#ed7953\"],[0.7777777777777778,\"#fb9f3a\"],[0.8888888888888888,\"#fdca26\"],[1.0,\"#f0f921\"]]},\"colorway\":[\"#636efa\",\"#EF553B\",\"#00cc96\",\"#ab63fa\",\"#FFA15A\",\"#19d3f3\",\"#FF6692\",\"#B6E880\",\"#FF97FF\",\"#FECB52\"],\"font\":{\"color\":\"#2a3f5f\"},\"geo\":{\"bgcolor\":\"white\",\"lakecolor\":\"white\",\"landcolor\":\"#E5ECF6\",\"showlakes\":true,\"showland\":true,\"subunitcolor\":\"white\"},\"hoverlabel\":{\"align\":\"left\"},\"hovermode\":\"closest\",\"mapbox\":{\"style\":\"light\"},\"paper_bgcolor\":\"white\",\"plot_bgcolor\":\"#E5ECF6\",\"polar\":{\"angularaxis\":{\"gridcolor\":\"white\",\"linecolor\":\"white\",\"ticks\":\"\"},\"bgcolor\":\"#E5ECF6\",\"radialaxis\":{\"gridcolor\":\"white\",\"linecolor\":\"white\",\"ticks\":\"\"}},\"scene\":{\"xaxis\":{\"backgroundcolor\":\"#E5ECF6\",\"gridcolor\":\"white\",\"gridwidth\":2,\"linecolor\":\"white\",\"showbackground\":true,\"ticks\":\"\",\"zerolinecolor\":\"white\"},\"yaxis\":{\"backgroundcolor\":\"#E5ECF6\",\"gridcolor\":\"white\",\"gridwidth\":2,\"linecolor\":\"white\",\"showbackground\":true,\"ticks\":\"\",\"zerolinecolor\":\"white\"},\"zaxis\":{\"backgroundcolor\":\"#E5ECF6\",\"gridcolor\":\"white\",\"gridwidth\":2,\"linecolor\":\"white\",\"showbackground\":true,\"ticks\":\"\",\"zerolinecolor\":\"white\"}},\"shapedefaults\":{\"line\":{\"color\":\"#2a3f5f\"}},\"ternary\":{\"aaxis\":{\"gridcolor\":\"white\",\"linecolor\":\"white\",\"ticks\":\"\"},\"baxis\":{\"gridcolor\":\"white\",\"linecolor\":\"white\",\"ticks\":\"\"},\"bgcolor\":\"#E5ECF6\",\"caxis\":{\"gridcolor\":\"white\",\"linecolor\":\"white\",\"ticks\":\"\"}},\"title\":{\"x\":0.05},\"xaxis\":{\"automargin\":true,\"gridcolor\":\"white\",\"linecolor\":\"white\",\"ticks\":\"\",\"title\":{\"standoff\":15},\"zerolinecolor\":\"white\",\"zerolinewidth\":2},\"yaxis\":{\"automargin\":true,\"gridcolor\":\"white\",\"linecolor\":\"white\",\"ticks\":\"\",\"title\":{\"standoff\":15},\"zerolinecolor\":\"white\",\"zerolinewidth\":2}}},\"title\":{\"text\":\"Explained Variance with increasing number of latent features\"},\"xaxis\":{\"anchor\":\"y\",\"domain\":[0.0,1.0],\"title\":{\"text\":\"# Components\"}},\"yaxis\":{\"anchor\":\"x\",\"domain\":[0.0,1.0],\"title\":{\"text\":\"Explained Variance\"}}},                        {\"responsive\": true}                    ).then(function(){\n                            \nvar gd = document.getElementById('4716347d-67bc-471c-b3f9-7d18da98a310');\nvar x = new MutationObserver(function (mutations, observer) {{\n        var display = window.getComputedStyle(gd).display;\n        if (!display || display === 'none') {{\n            console.log([gd, 'removed!']);\n            Plotly.purge(gd);\n            observer.disconnect();\n        }}\n}});\n\n// Listen for the removal of the full notebook cells\nvar notebookContainer = gd.closest('#notebook-container');\nif (notebookContainer) {{\n    x.observe(notebookContainer, {childList: true});\n}}\n\n// Listen for the clearing of the current output cell\nvar outputEl = gd.closest('.output');\nif (outputEl) {{\n    x.observe(outputEl, {childList: true});\n}}\n\n                        })                };                            </script>        </div>\n</body>\n</html>"
     },
     "metadata": {},
     "output_type": "display_data"
    }
   ]
  },
  {
   "cell_type": "code",
   "metadata": {
    "deepnote_variable_name": "t1_top_k_latent_features",
    "deepnote_variable_value": "2",
    "cell_id": "00029-b576f595-3089-4a57-bed5-f4b6ef3cf661",
    "deepnote_to_be_reexecuted": false,
    "source_hash": "7462d0f7",
    "execution_start": 1638302960818,
    "execution_millis": 55,
    "deepnote_cell_type": "input-text"
   },
   "source": "t1_top_k_latent_features = '2'",
   "execution_count": 22,
   "outputs": []
  },
  {
   "cell_type": "code",
   "metadata": {
    "tags": [],
    "cell_id": "00031-9da35401-f766-4424-92c2-b9a4a5c8e6c7",
    "deepnote_to_be_reexecuted": false,
    "source_hash": "300d9714",
    "execution_start": 1638302960873,
    "execution_millis": 644,
    "deepnote_cell_type": "code"
   },
   "source": "t1_top_k_latent_features = int(t1_top_k_latent_features)\ntop_k_features = get_top_k_latent_features(t1_alg_result, t1_top_k_latent_features)\n#top_k_features",
   "execution_count": 23,
   "outputs": []
  },
  {
   "cell_type": "markdown",
   "source": "## Task 2",
   "metadata": {
    "tags": [],
    "is_collapsed": false,
    "cell_id": "00032-2fc1a75a-25fe-4978-acdd-6f5588d24955",
    "deepnote_cell_type": "text-cell-h2"
   }
  },
  {
   "cell_type": "markdown",
   "source": " Scrivere un programma che, dato un file di gesti, individui i 10 gesti piu’ simili nel database di gesti, \nutilizzado:",
   "metadata": {
    "tags": [],
    "cell_id": "00036-0ef71ff2-9019-4d7d-bb03-cb9af8f7ad80",
    "deepnote_cell_type": "markdown"
   }
  },
  {
   "cell_type": "code",
   "metadata": {
    "tags": [],
    "cell_id": "00035-a1ac6ce4-c459-45b9-9ac7-6b970a7f33b4",
    "deepnote_to_be_reexecuted": false,
    "source_hash": "3c757692",
    "execution_start": 1638302961523,
    "execution_millis": 1576,
    "deepnote_cell_type": "code"
   },
   "source": "# Preparazione data\nt2_data_dp = {'gestures': t1_metrics_data['filename'], 'data': t1_metrics_data['data']}\nt2_data_tksem = {'gestures': t1_metrics_data['filename'], 'data': t1_alg_result['fitted_alg']}\n\nt2_data_ed_dtw = generate_matrix_ed_dtw([path_words_directory + word_file for word_file in words_files])\nt2_data_ed = {'gestures': t1_metrics_data['filename'], 'data': t2_data_ed_dtw['ed']}\nt2_data_dtw = {'gestures': t1_metrics_data['filename'], 'data': t2_data_ed_dtw['dtw']}",
   "execution_count": 24,
   "outputs": []
  },
  {
   "cell_type": "code",
   "metadata": {
    "deepnote_variable_name": "t2_input_file_gestures",
    "deepnote_variable_value": "../Dati_2/words/1.wrd",
    "cell_id": "00036-9cb944e1-67a5-4e98-9ffb-874ae8e5be84",
    "deepnote_to_be_reexecuted": false,
    "source_hash": "17d27e49",
    "execution_start": 1638302963118,
    "execution_millis": 15,
    "deepnote_cell_type": "input-text"
   },
   "source": "t2_input_file_gestures = '../Dati_2/words/1.wrd'",
   "execution_count": 25,
   "outputs": []
  },
  {
   "cell_type": "code",
   "metadata": {
    "deepnote_variable_name": "t2_input_k_gestures",
    "deepnote_variable_value": "10",
    "cell_id": "00038-81e5c045-6b78-4d9d-a618-c23b0c976f76",
    "deepnote_to_be_reexecuted": false,
    "source_hash": "537c0a7f",
    "execution_start": 1638302963142,
    "execution_millis": 7,
    "deepnote_cell_type": "input-text"
   },
   "source": "t2_input_k_gestures = '10'",
   "execution_count": 26,
   "outputs": []
  },
  {
   "cell_type": "code",
   "metadata": {
    "deepnote_variable_name": "t2_input_k_latent_features",
    "deepnote_variable_value": "5",
    "cell_id": "00034-5d6dbea6-0445-480c-9f12-0742690d9443",
    "deepnote_to_be_reexecuted": false,
    "source_hash": "76c7131f",
    "execution_start": 1638302963164,
    "execution_millis": 1,
    "deepnote_cell_type": "input-text"
   },
   "source": "t2_input_k_latent_features = '5'",
   "execution_count": 27,
   "outputs": []
  },
  {
   "cell_type": "code",
   "metadata": {
    "deepnote_variable_name": "t2_input_query_type",
    "deepnote_variable_value": "Dot Product",
    "deepnote_variable_options": [
     "Dot Product",
     "Top-K Semantiche Latenti",
     "Edit Distance",
     "Distanza DTW"
    ],
    "deepnote_variable_custom_options": [
     "Dot Product",
     "Top-K Semantiche Latenti",
     "Edit Distance",
     "Distanza DTW"
    ],
    "deepnote_variable_selected_variable": "",
    "deepnote_variable_select_type": "from-options",
    "cell_id": "00036-8977fcab-0985-4f26-b5fe-9d5be8d89d8e",
    "deepnote_to_be_reexecuted": false,
    "source_hash": "76fe8482",
    "execution_start": 1638302963194,
    "execution_millis": 2222567,
    "deepnote_cell_type": "input-select"
   },
   "source": "t2_input_query_type = 'Dot Product'",
   "execution_count": 28,
   "outputs": []
  },
  {
   "cell_type": "code",
   "metadata": {
    "tags": [],
    "cell_id": "00040-1c04c788-26a9-4837-9833-724f5bfd006f",
    "deepnote_to_be_reexecuted": false,
    "source_hash": "104194d2",
    "execution_start": 1638302963283,
    "execution_millis": 139,
    "deepnote_output_heights": [
     328.3999938964844
    ],
    "deepnote_cell_type": "code"
   },
   "source": "# X facilità so che già ho calcolato sto file in input e lo prendo dal database\ngesture_name_id = t2_input_file_gestures.split(\"/\")[-1].split(\".\")[0]\n\nquery_type = t2_input_query_type\nfinder_query_settings = {\n    'k_latent_features': int(t2_input_k_latent_features),\n    'k_gestures_return': int(t2_input_k_gestures),\n}\n\ntop_k = None\nif query_type == 'Dot Product':\n    gesture_numpy = t2_data_dp['data'][t2_data_dp['gestures'].index(gesture_name_id)]\n    top_k = find_k_most_similar_dp(t2_data_dp, gesture_numpy, finder_query_settings)\nelif query_type == 'Top-K Semantiche Latenti':\n    gesture_numpy = t2_data_tksem['data'][t2_data_tksem['gestures'].index(gesture_name_id)]\n    # Preparo la query con gli input scelti dall'utente\n    top_k = find_k_most_similar_tksem(t2_data_tksem, gesture_numpy, finder_query_settings)\nelif query_type == 'Edit Distance':\n    gesture_numpy = t2_data_ed['data'][t2_data_ed['gestures'].index(gesture_name_id)]\n    top_k = find_k_most_similar_ed(t2_data_ed, gesture_numpy, finder_query_settings)\nelse:\n    gesture_numpy = t2_data_dtw['data'][t2_data_dtw['gestures'].index(gesture_name_id)]\n    top_k = find_k_most_similar_dtw(t2_data_dtw, gesture_numpy, finder_query_settings)\n\nif top_k is not None:\n    print(\"Top \" + t2_input_k_gestures + \" gestures più simili a '\" + t2_input_file_gestures + \"', usando '\" + query_type + \"':\")\n    print(top_k)",
   "execution_count": 29,
   "outputs": [
    {
     "name": "stdout",
     "text": "Top 10 gestures più simili a '../Dati_2/words/1.wrd', usando 'Dot Product':\n  gesture  similarity\n0       1    1.000000\n1      16    0.153507\n2      19    0.139012\n3     570    0.113609\n4     259    0.110434\n5      28    0.094433\n6     559    0.090113\n7      25    0.083684\n8     569    0.081485\n9       9    0.080318\n",
     "output_type": "stream"
    }
   ]
  },
  {
   "cell_type": "markdown",
   "source": "## Task 3",
   "metadata": {
    "tags": [],
    "is_collapsed": false,
    "cell_id": "00036-0bea7e6c-0dab-4f1a-a70d-13a374b82871",
    "deepnote_cell_type": "text-cell-h2"
   }
  },
  {
   "cell_type": "code",
   "metadata": {
    "deepnote_variable_name": "t3_input_query_type",
    "deepnote_variable_value": "Dot Product",
    "deepnote_variable_options": [
     "Dot Product",
     "Top-K Semantiche Latenti",
     "Edit Distance",
     "Distanza DTW"
    ],
    "deepnote_variable_custom_options": [
     "Dot Product",
     "Top-K Semantiche Latenti",
     "Edit Distance",
     "Distanza DTW"
    ],
    "deepnote_variable_selected_variable": "",
    "deepnote_variable_select_type": "from-options",
    "cell_id": "00041-16cc6f82-28dc-47f9-b27f-a607fc8583bf",
    "deepnote_to_be_reexecuted": false,
    "source_hash": "b424aaf7",
    "execution_start": 1638302963366,
    "execution_millis": 1,
    "deepnote_cell_type": "input-select"
   },
   "source": "t3_input_query_type = 'Dot Product'",
   "execution_count": 30,
   "outputs": []
  },
  {
   "cell_type": "code",
   "metadata": {
    "tags": [],
    "cell_id": "00036-9172fc2d-badc-482c-bde5-659ff0baaa6d",
    "deepnote_to_be_reexecuted": false,
    "source_hash": "2a4d7b43",
    "execution_start": 1638302963367,
    "execution_millis": 845,
    "deepnote_cell_type": "code"
   },
   "source": "query_type = t3_input_query_type\n\n# Creo la matrice di similarità gesture - gesture (in base a come ha scelto l'utente di procedere)\ngesture_sim_matrix = None\nif query_type == 'Dot Product':\n    gesture_sim_matrix = generate_gestures_similarity_matrix_dp(t2_data_dp['data'])\nelif query_type == 'Top-K Semantiche Latenti':\n    gesture_sim_matrix = generate_gestures_similarity_matrix_tksem(t2_data_tksem['data'], int(t2_input_k_latent_features))\nelif query_type == 'Edit Distance':\n    gesture_sim_matrix = generate_gestures_similarity_matrix_ed(t2_data_ed['data'])\nelse:\n    gesture_sim_matrix = generate_gestures_similarity_matrix_dtw(t2_data_dtw['data'])\n# La trasformo in dataframe pandas (così ho anche il nome delle gestures a confronto nelle righe / colonne)\ngestures_sim_matrix_pd = gestures_similarity_matrix_2_pandas(gesture_sim_matrix, t2_data_tksem['gestures'])\nprint(\"Matrice similarità gesture-gesture:\")\ngestures_sim_matrix_pd",
   "execution_count": 31,
   "outputs": [
    {
     "name": "stdout",
     "text": "Matrice similarità gesture-gesture:\n",
     "output_type": "stream"
    },
    {
     "output_type": "execute_result",
     "execution_count": 31,
     "data": {
      "application/vnd.deepnote.dataframe.v2+json": {
       "row_count": 93,
       "column_count": 93,
       "columns": [
        {
         "name": "1",
         "dtype": "float64",
         "stats": {
          "unique_count": 93,
          "nan_count": 0,
          "min": "0.005566353447477362",
          "max": "1.0",
          "histogram": [
           {
            "bin_start": 0.005566353447477362,
            "bin_end": 0.10500971810272962,
            "count": 88
           },
           {
            "bin_start": 0.10500971810272962,
            "bin_end": 0.20445308275798188,
            "count": 4
           },
           {
            "bin_start": 0.20445308275798188,
            "bin_end": 0.3038964474132341,
            "count": 0
           },
           {
            "bin_start": 0.3038964474132341,
            "bin_end": 0.4033398120684864,
            "count": 0
           },
           {
            "bin_start": 0.4033398120684864,
            "bin_end": 0.5027831767237387,
            "count": 0
           },
           {
            "bin_start": 0.5027831767237387,
            "bin_end": 0.6022265413789909,
            "count": 0
           },
           {
            "bin_start": 0.6022265413789909,
            "bin_end": 0.7016699060342432,
            "count": 0
           },
           {
            "bin_start": 0.7016699060342432,
            "bin_end": 0.8011132706894954,
            "count": 0
           },
           {
            "bin_start": 0.8011132706894954,
            "bin_end": 0.9005566353447477,
            "count": 0
           },
           {
            "bin_start": 0.9005566353447477,
            "bin_end": 1,
            "count": 1
           }
          ]
         }
        },
        {
         "name": "10",
         "dtype": "float64",
         "stats": {
          "unique_count": 93,
          "nan_count": 0,
          "min": "0.008966037552280896",
          "max": "1.0",
          "histogram": [
           {
            "bin_start": 0.008966037552280896,
            "bin_end": 0.1080694337970528,
            "count": 91
           },
           {
            "bin_start": 0.1080694337970528,
            "bin_end": 0.2071728300418247,
            "count": 1
           },
           {
            "bin_start": 0.2071728300418247,
            "bin_end": 0.30627622628659656,
            "count": 0
           },
           {
            "bin_start": 0.30627622628659656,
            "bin_end": 0.4053796225313685,
            "count": 0
           },
           {
            "bin_start": 0.4053796225313685,
            "bin_end": 0.5044830187761404,
            "count": 0
           },
           {
            "bin_start": 0.5044830187761404,
            "bin_end": 0.6035864150209123,
            "count": 0
           },
           {
            "bin_start": 0.6035864150209123,
            "bin_end": 0.7026898112656842,
            "count": 0
           },
           {
            "bin_start": 0.7026898112656842,
            "bin_end": 0.8017932075104561,
            "count": 0
           },
           {
            "bin_start": 0.8017932075104561,
            "bin_end": 0.9008966037552281,
            "count": 0
           },
           {
            "bin_start": 0.9008966037552281,
            "bin_end": 1,
            "count": 1
           }
          ]
         }
        },
        {
         "name": "11",
         "dtype": "float64",
         "stats": {
          "unique_count": 93,
          "nan_count": 0,
          "min": "0.0034065422982817186",
          "max": "1.0",
          "histogram": [
           {
            "bin_start": 0.0034065422982817186,
            "bin_end": 0.10306588806845354,
            "count": 91
           },
           {
            "bin_start": 0.10306588806845354,
            "bin_end": 0.20272523383862537,
            "count": 1
           },
           {
            "bin_start": 0.20272523383862537,
            "bin_end": 0.3023845796087972,
            "count": 0
           },
           {
            "bin_start": 0.3023845796087972,
            "bin_end": 0.40204392537896905,
            "count": 0
           },
           {
            "bin_start": 0.40204392537896905,
            "bin_end": 0.5017032711491408,
            "count": 0
           },
           {
            "bin_start": 0.5017032711491408,
            "bin_end": 0.6013626169193127,
            "count": 0
           },
           {
            "bin_start": 0.6013626169193127,
            "bin_end": 0.7010219626894846,
            "count": 0
           },
           {
            "bin_start": 0.7010219626894846,
            "bin_end": 0.8006813084596563,
            "count": 0
           },
           {
            "bin_start": 0.8006813084596563,
            "bin_end": 0.9003406542298281,
            "count": 0
           },
           {
            "bin_start": 0.9003406542298281,
            "bin_end": 1,
            "count": 1
           }
          ]
         }
        },
        {
         "name": "12",
         "dtype": "float64",
         "stats": {
          "unique_count": 93,
          "nan_count": 0,
          "min": "0.004497708971575529",
          "max": "1.0",
          "histogram": [
           {
            "bin_start": 0.004497708971575529,
            "bin_end": 0.10404793807441798,
            "count": 92
           },
           {
            "bin_start": 0.10404793807441798,
            "bin_end": 0.20359816717726043,
            "count": 0
           },
           {
            "bin_start": 0.20359816717726043,
            "bin_end": 0.30314839628010287,
            "count": 0
           },
           {
            "bin_start": 0.30314839628010287,
            "bin_end": 0.4026986253829453,
            "count": 0
           },
           {
            "bin_start": 0.4026986253829453,
            "bin_end": 0.5022488544857877,
            "count": 0
           },
           {
            "bin_start": 0.5022488544857877,
            "bin_end": 0.6017990835886302,
            "count": 0
           },
           {
            "bin_start": 0.6017990835886302,
            "bin_end": 0.7013493126914726,
            "count": 0
           },
           {
            "bin_start": 0.7013493126914726,
            "bin_end": 0.8008995417943151,
            "count": 0
           },
           {
            "bin_start": 0.8008995417943151,
            "bin_end": 0.9004497708971576,
            "count": 0
           },
           {
            "bin_start": 0.9004497708971576,
            "bin_end": 1,
            "count": 1
           }
          ]
         }
        },
        {
         "name": "13",
         "dtype": "float64",
         "stats": {
          "unique_count": 93,
          "nan_count": 0,
          "min": "0.005831231998125271",
          "max": "1.0",
          "histogram": [
           {
            "bin_start": 0.005831231998125271,
            "bin_end": 0.10524810879831274,
            "count": 84
           },
           {
            "bin_start": 0.10524810879831274,
            "bin_end": 0.20466498559850022,
            "count": 7
           },
           {
            "bin_start": 0.20466498559850022,
            "bin_end": 0.30408186239868773,
            "count": 1
           },
           {
            "bin_start": 0.30408186239868773,
            "bin_end": 0.4034987391988752,
            "count": 0
           },
           {
            "bin_start": 0.4034987391988752,
            "bin_end": 0.5029156159990626,
            "count": 0
           },
           {
            "bin_start": 0.5029156159990626,
            "bin_end": 0.6023324927992502,
            "count": 0
           },
           {
            "bin_start": 0.6023324927992502,
            "bin_end": 0.7017493695994376,
            "count": 0
           },
           {
            "bin_start": 0.7017493695994376,
            "bin_end": 0.8011662463996251,
            "count": 0
           },
           {
            "bin_start": 0.8011662463996251,
            "bin_end": 0.9005831231998126,
            "count": 0
           },
           {
            "bin_start": 0.9005831231998126,
            "bin_end": 1,
            "count": 1
           }
          ]
         }
        },
        {
         "name": "14",
         "dtype": "float64",
         "stats": {
          "unique_count": 93,
          "nan_count": 0,
          "min": "0.005732984981791993",
          "max": "1.0",
          "histogram": [
           {
            "bin_start": 0.005732984981791993,
            "bin_end": 0.10515968648361279,
            "count": 88
           },
           {
            "bin_start": 0.10515968648361279,
            "bin_end": 0.2045863879854336,
            "count": 4
           },
           {
            "bin_start": 0.2045863879854336,
            "bin_end": 0.30401308948725436,
            "count": 0
           },
           {
            "bin_start": 0.30401308948725436,
            "bin_end": 0.4034397909890752,
            "count": 0
           },
           {
            "bin_start": 0.4034397909890752,
            "bin_end": 0.502866492490896,
            "count": 0
           },
           {
            "bin_start": 0.502866492490896,
            "bin_end": 0.6022931939927167,
            "count": 0
           },
           {
            "bin_start": 0.6022931939927167,
            "bin_end": 0.7017198954945376,
            "count": 0
           },
           {
            "bin_start": 0.7017198954945376,
            "bin_end": 0.8011465969963584,
            "count": 0
           },
           {
            "bin_start": 0.8011465969963584,
            "bin_end": 0.9005732984981791,
            "count": 0
           },
           {
            "bin_start": 0.9005732984981791,
            "bin_end": 1,
            "count": 1
           }
          ]
         }
        },
        {
         "name": "15",
         "dtype": "float64",
         "stats": {
          "unique_count": 93,
          "nan_count": 0,
          "min": "0.0011847769965998567",
          "max": "1.0",
          "histogram": [
           {
            "bin_start": 0.0011847769965998567,
            "bin_end": 0.10106629929693987,
            "count": 91
           },
           {
            "bin_start": 0.10106629929693987,
            "bin_end": 0.2009478215972799,
            "count": 1
           },
           {
            "bin_start": 0.2009478215972799,
            "bin_end": 0.3008293438976199,
            "count": 0
           },
           {
            "bin_start": 0.3008293438976199,
            "bin_end": 0.4007108661979599,
            "count": 0
           },
           {
            "bin_start": 0.4007108661979599,
            "bin_end": 0.5005923884982999,
            "count": 0
           },
           {
            "bin_start": 0.5005923884982999,
            "bin_end": 0.6004739107986399,
            "count": 0
           },
           {
            "bin_start": 0.6004739107986399,
            "bin_end": 0.7003554330989801,
            "count": 0
           },
           {
            "bin_start": 0.7003554330989801,
            "bin_end": 0.80023695539932,
            "count": 0
           },
           {
            "bin_start": 0.80023695539932,
            "bin_end": 0.90011847769966,
            "count": 0
           },
           {
            "bin_start": 0.90011847769966,
            "bin_end": 1,
            "count": 1
           }
          ]
         }
        },
        {
         "name": "16",
         "dtype": "float64",
         "stats": {
          "unique_count": 93,
          "nan_count": 0,
          "min": "0.0016156183242411596",
          "max": "1.0",
          "histogram": [
           {
            "bin_start": 0.0016156183242411596,
            "bin_end": 0.10145405649181705,
            "count": 76
           },
           {
            "bin_start": 0.10145405649181705,
            "bin_end": 0.20129249465939292,
            "count": 13
           },
           {
            "bin_start": 0.20129249465939292,
            "bin_end": 0.30113093282696884,
            "count": 2
           },
           {
            "bin_start": 0.30113093282696884,
            "bin_end": 0.4009693709945447,
            "count": 1
           },
           {
            "bin_start": 0.4009693709945447,
            "bin_end": 0.5008078091621205,
            "count": 0
           },
           {
            "bin_start": 0.5008078091621205,
            "bin_end": 0.6006462473296965,
            "count": 0
           },
           {
            "bin_start": 0.6006462473296965,
            "bin_end": 0.7004846854972724,
            "count": 0
           },
           {
            "bin_start": 0.7004846854972724,
            "bin_end": 0.8003231236648483,
            "count": 0
           },
           {
            "bin_start": 0.8003231236648483,
            "bin_end": 0.9001615618324241,
            "count": 0
           },
           {
            "bin_start": 0.9001615618324241,
            "bin_end": 1,
            "count": 1
           }
          ]
         }
        },
        {
         "name": "17",
         "dtype": "float64",
         "stats": {
          "unique_count": 93,
          "nan_count": 0,
          "min": "0.002626987689561462",
          "max": "1.0",
          "histogram": [
           {
            "bin_start": 0.002626987689561462,
            "bin_end": 0.10236428892060531,
            "count": 91
           },
           {
            "bin_start": 0.10236428892060531,
            "bin_end": 0.20210159015164916,
            "count": 1
           },
           {
            "bin_start": 0.20210159015164916,
            "bin_end": 0.30183889138269304,
            "count": 0
           },
           {
            "bin_start": 0.30183889138269304,
            "bin_end": 0.4015761926137369,
            "count": 0
           },
           {
            "bin_start": 0.4015761926137369,
            "bin_end": 0.5013134938447807,
            "count": 0
           },
           {
            "bin_start": 0.5013134938447807,
            "bin_end": 0.6010507950758246,
            "count": 0
           },
           {
            "bin_start": 0.6010507950758246,
            "bin_end": 0.7007880963068684,
            "count": 0
           },
           {
            "bin_start": 0.7007880963068684,
            "bin_end": 0.8005253975379123,
            "count": 0
           },
           {
            "bin_start": 0.8005253975379123,
            "bin_end": 0.9002626987689561,
            "count": 0
           },
           {
            "bin_start": 0.9002626987689561,
            "bin_end": 1,
            "count": 1
           }
          ]
         }
        },
        {
         "name": "18",
         "dtype": "float64",
         "stats": {
          "unique_count": 93,
          "nan_count": 0,
          "min": "0.0033607324446670523",
          "max": "1.0",
          "histogram": [
           {
            "bin_start": 0.0033607324446670523,
            "bin_end": 0.10302465920020035,
            "count": 86
           },
           {
            "bin_start": 0.10302465920020035,
            "bin_end": 0.20268858595573364,
            "count": 6
           },
           {
            "bin_start": 0.20268858595573364,
            "bin_end": 0.30235251271126695,
            "count": 0
           },
           {
            "bin_start": 0.30235251271126695,
            "bin_end": 0.4020164394668002,
            "count": 0
           },
           {
            "bin_start": 0.4020164394668002,
            "bin_end": 0.5016803662223335,
            "count": 0
           },
           {
            "bin_start": 0.5016803662223335,
            "bin_end": 0.6013442929778668,
            "count": 0
           },
           {
            "bin_start": 0.6013442929778668,
            "bin_end": 0.7010082197334001,
            "count": 0
           },
           {
            "bin_start": 0.7010082197334001,
            "bin_end": 0.8006721464889334,
            "count": 0
           },
           {
            "bin_start": 0.8006721464889334,
            "bin_end": 0.9003360732444666,
            "count": 0
           },
           {
            "bin_start": 0.9003360732444666,
            "bin_end": 1,
            "count": 1
           }
          ]
         }
        },
        {
         "name": "19",
         "dtype": "float64",
         "stats": {
          "unique_count": 93,
          "nan_count": 0,
          "min": "0.002436247406890974",
          "max": "1.0",
          "histogram": [
           {
            "bin_start": 0.002436247406890974,
            "bin_end": 0.10219262266620187,
            "count": 89
           },
           {
            "bin_start": 0.10219262266620187,
            "bin_end": 0.20194899792551277,
            "count": 2
           },
           {
            "bin_start": 0.20194899792551277,
            "bin_end": 0.30170537318482366,
            "count": 1
           },
           {
            "bin_start": 0.30170537318482366,
            "bin_end": 0.40146174844413457,
            "count": 0
           },
           {
            "bin_start": 0.40146174844413457,
            "bin_end": 0.5012181237034455,
            "count": 0
           },
           {
            "bin_start": 0.5012181237034455,
            "bin_end": 0.6009744989627563,
            "count": 0
           },
           {
            "bin_start": 0.6009744989627563,
            "bin_end": 0.7007308742220673,
            "count": 0
           },
           {
            "bin_start": 0.7007308742220673,
            "bin_end": 0.8004872494813782,
            "count": 0
           },
           {
            "bin_start": 0.8004872494813782,
            "bin_end": 0.9002436247406891,
            "count": 0
           },
           {
            "bin_start": 0.9002436247406891,
            "bin_end": 1,
            "count": 1
           }
          ]
         }
        },
        {
         "name": "2",
         "dtype": "float64",
         "stats": {
          "unique_count": 93,
          "nan_count": 0,
          "min": "0.00419047336197638",
          "max": "1.0",
          "histogram": [
           {
            "bin_start": 0.00419047336197638,
            "bin_end": 0.10377142602577874,
            "count": 90
           },
           {
            "bin_start": 0.10377142602577874,
            "bin_end": 0.20335237868958111,
            "count": 2
           },
           {
            "bin_start": 0.20335237868958111,
            "bin_end": 0.30293333135338346,
            "count": 0
           },
           {
            "bin_start": 0.30293333135338346,
            "bin_end": 0.4025142840171858,
            "count": 0
           },
           {
            "bin_start": 0.4025142840171858,
            "bin_end": 0.5020952366809882,
            "count": 0
           },
           {
            "bin_start": 0.5020952366809882,
            "bin_end": 0.6016761893447906,
            "count": 0
           },
           {
            "bin_start": 0.6016761893447906,
            "bin_end": 0.7012571420085929,
            "count": 0
           },
           {
            "bin_start": 0.7012571420085929,
            "bin_end": 0.8008380946723953,
            "count": 0
           },
           {
            "bin_start": 0.8008380946723953,
            "bin_end": 0.9004190473361977,
            "count": 0
           },
           {
            "bin_start": 0.9004190473361977,
            "bin_end": 1,
            "count": 1
           }
          ]
         }
        },
        {
         "name": "20",
         "dtype": "float64",
         "stats": {
          "unique_count": 93,
          "nan_count": 0,
          "min": "0.003280350496786292",
          "max": "1.0",
          "histogram": [
           {
            "bin_start": 0.003280350496786292,
            "bin_end": 0.10295231544710766,
            "count": 92
           },
           {
            "bin_start": 0.10295231544710766,
            "bin_end": 0.20262428039742902,
            "count": 0
           },
           {
            "bin_start": 0.20262428039742902,
            "bin_end": 0.30229624534775035,
            "count": 0
           },
           {
            "bin_start": 0.30229624534775035,
            "bin_end": 0.4019682102980717,
            "count": 0
           },
           {
            "bin_start": 0.4019682102980717,
            "bin_end": 0.5016401752483931,
            "count": 0
           },
           {
            "bin_start": 0.5016401752483931,
            "bin_end": 0.6013121401987145,
            "count": 0
           },
           {
            "bin_start": 0.6013121401987145,
            "bin_end": 0.7009841051490359,
            "count": 0
           },
           {
            "bin_start": 0.7009841051490359,
            "bin_end": 0.8006560700993572,
            "count": 0
           },
           {
            "bin_start": 0.8006560700993572,
            "bin_end": 0.9003280350496786,
            "count": 0
           },
           {
            "bin_start": 0.9003280350496786,
            "bin_end": 1,
            "count": 1
           }
          ]
         }
        },
        {
         "name": "21",
         "dtype": "float64",
         "stats": {
          "unique_count": 93,
          "nan_count": 0,
          "min": "0.003921714812381461",
          "max": "1.0",
          "histogram": [
           {
            "bin_start": 0.003921714812381461,
            "bin_end": 0.10352954333114331,
            "count": 89
           },
           {
            "bin_start": 0.10352954333114331,
            "bin_end": 0.20313737184990516,
            "count": 3
           },
           {
            "bin_start": 0.20313737184990516,
            "bin_end": 0.30274520036866703,
            "count": 0
           },
           {
            "bin_start": 0.30274520036866703,
            "bin_end": 0.40235302888742885,
            "count": 0
           },
           {
            "bin_start": 0.40235302888742885,
            "bin_end": 0.5019608574061907,
            "count": 0
           },
           {
            "bin_start": 0.5019608574061907,
            "bin_end": 0.6015686859249526,
            "count": 0
           },
           {
            "bin_start": 0.6015686859249526,
            "bin_end": 0.7011765144437144,
            "count": 0
           },
           {
            "bin_start": 0.7011765144437144,
            "bin_end": 0.8007843429624762,
            "count": 0
           },
           {
            "bin_start": 0.8007843429624762,
            "bin_end": 0.9003921714812381,
            "count": 0
           },
           {
            "bin_start": 0.9003921714812381,
            "bin_end": 1,
            "count": 1
           }
          ]
         }
        },
        {
         "name": "22",
         "dtype": "float64",
         "stats": {
          "unique_count": 93,
          "nan_count": 0,
          "min": "0.002747398714531635",
          "max": "1.0",
          "histogram": [
           {
            "bin_start": 0.002747398714531635,
            "bin_end": 0.10247265884307848,
            "count": 91
           },
           {
            "bin_start": 0.10247265884307848,
            "bin_end": 0.2021979189716253,
            "count": 1
           },
           {
            "bin_start": 0.2021979189716253,
            "bin_end": 0.30192317910017213,
            "count": 0
           },
           {
            "bin_start": 0.30192317910017213,
            "bin_end": 0.40164843922871896,
            "count": 0
           },
           {
            "bin_start": 0.40164843922871896,
            "bin_end": 0.5013736993572658,
            "count": 0
           },
           {
            "bin_start": 0.5013736993572658,
            "bin_end": 0.6010989594858127,
            "count": 0
           },
           {
            "bin_start": 0.6010989594858127,
            "bin_end": 0.7008242196143595,
            "count": 0
           },
           {
            "bin_start": 0.7008242196143595,
            "bin_end": 0.8005494797429064,
            "count": 0
           },
           {
            "bin_start": 0.8005494797429064,
            "bin_end": 0.9002747398714532,
            "count": 0
           },
           {
            "bin_start": 0.9002747398714532,
            "bin_end": 1,
            "count": 1
           }
          ]
         }
        },
        {
         "name": "23",
         "dtype": "float64",
         "stats": {
          "unique_count": 93,
          "nan_count": 0,
          "min": "0.003774472871517787",
          "max": "1.0",
          "histogram": [
           {
            "bin_start": 0.003774472871517787,
            "bin_end": 0.10339702558436602,
            "count": 92
           },
           {
            "bin_start": 0.10339702558436602,
            "bin_end": 0.20301957829721423,
            "count": 0
           },
           {
            "bin_start": 0.20301957829721423,
            "bin_end": 0.30264213101006243,
            "count": 0
           },
           {
            "bin_start": 0.30264213101006243,
            "bin_end": 0.4022646837229107,
            "count": 0
           },
           {
            "bin_start": 0.4022646837229107,
            "bin_end": 0.5018872364357589,
            "count": 0
           },
           {
            "bin_start": 0.5018872364357589,
            "bin_end": 0.6015097891486071,
            "count": 0
           },
           {
            "bin_start": 0.6015097891486071,
            "bin_end": 0.7011323418614553,
            "count": 0
           },
           {
            "bin_start": 0.7011323418614553,
            "bin_end": 0.8007548945743036,
            "count": 0
           },
           {
            "bin_start": 0.8007548945743036,
            "bin_end": 0.9003774472871519,
            "count": 0
           },
           {
            "bin_start": 0.9003774472871519,
            "bin_end": 1,
            "count": 1
           }
          ]
         }
        },
        {
         "name": "24",
         "dtype": "float64",
         "stats": {
          "unique_count": 93,
          "nan_count": 0,
          "min": "0.002531417300931722",
          "max": "1.0",
          "histogram": [
           {
            "bin_start": 0.002531417300931722,
            "bin_end": 0.10227827557083854,
            "count": 92
           },
           {
            "bin_start": 0.10227827557083854,
            "bin_end": 0.20202513384074539,
            "count": 0
           },
           {
            "bin_start": 0.20202513384074539,
            "bin_end": 0.3017719921106522,
            "count": 0
           },
           {
            "bin_start": 0.3017719921106522,
            "bin_end": 0.401518850380559,
            "count": 0
           },
           {
            "bin_start": 0.401518850380559,
            "bin_end": 0.5012657086504658,
            "count": 0
           },
           {
            "bin_start": 0.5012657086504658,
            "bin_end": 0.6010125669203727,
            "count": 0
           },
           {
            "bin_start": 0.6010125669203727,
            "bin_end": 0.7007594251902796,
            "count": 0
           },
           {
            "bin_start": 0.7007594251902796,
            "bin_end": 0.8005062834601864,
            "count": 0
           },
           {
            "bin_start": 0.8005062834601864,
            "bin_end": 0.9002531417300932,
            "count": 0
           },
           {
            "bin_start": 0.9002531417300932,
            "bin_end": 1,
            "count": 1
           }
          ]
         }
        },
        {
         "name": "249",
         "dtype": "float64",
         "stats": {
          "unique_count": 93,
          "nan_count": 0,
          "min": "0.0025084075196249744",
          "max": "1.0",
          "histogram": [
           {
            "bin_start": 0.0025084075196249744,
            "bin_end": 0.10225756676766247,
            "count": 77
           },
           {
            "bin_start": 0.10225756676766247,
            "bin_end": 0.20200672601569997,
            "count": 15
           },
           {
            "bin_start": 0.20200672601569997,
            "bin_end": 0.3017558852637375,
            "count": 0
           },
           {
            "bin_start": 0.3017558852637375,
            "bin_end": 0.401505044511775,
            "count": 0
           },
           {
            "bin_start": 0.401505044511775,
            "bin_end": 0.5012542037598124,
            "count": 0
           },
           {
            "bin_start": 0.5012542037598124,
            "bin_end": 0.60100336300785,
            "count": 0
           },
           {
            "bin_start": 0.60100336300785,
            "bin_end": 0.7007525222558875,
            "count": 0
           },
           {
            "bin_start": 0.7007525222558875,
            "bin_end": 0.800501681503925,
            "count": 0
           },
           {
            "bin_start": 0.800501681503925,
            "bin_end": 0.9002508407519625,
            "count": 0
           },
           {
            "bin_start": 0.9002508407519625,
            "bin_end": 1,
            "count": 1
           }
          ]
         }
        },
        {
         "name": "25",
         "dtype": "float64",
         "stats": {
          "unique_count": 93,
          "nan_count": 0,
          "min": "0.0028889394845650366",
          "max": "1.0",
          "histogram": [
           {
            "bin_start": 0.0028889394845650366,
            "bin_end": 0.10260004553610853,
            "count": 91
           },
           {
            "bin_start": 0.10260004553610853,
            "bin_end": 0.20231115158765203,
            "count": 1
           },
           {
            "bin_start": 0.20231115158765203,
            "bin_end": 0.30202225763919555,
            "count": 0
           },
           {
            "bin_start": 0.30202225763919555,
            "bin_end": 0.40173336369073903,
            "count": 0
           },
           {
            "bin_start": 0.40173336369073903,
            "bin_end": 0.5014444697422825,
            "count": 0
           },
           {
            "bin_start": 0.5014444697422825,
            "bin_end": 0.6011555757938261,
            "count": 0
           },
           {
            "bin_start": 0.6011555757938261,
            "bin_end": 0.7008666818453695,
            "count": 0
           },
           {
            "bin_start": 0.7008666818453695,
            "bin_end": 0.800577787896913,
            "count": 0
           },
           {
            "bin_start": 0.800577787896913,
            "bin_end": 0.9002888939484566,
            "count": 0
           },
           {
            "bin_start": 0.9002888939484566,
            "bin_end": 1,
            "count": 1
           }
          ]
         }
        },
        {
         "name": "250",
         "dtype": "float64",
         "stats": {
          "unique_count": 93,
          "nan_count": 0,
          "min": "0.003258144423101462",
          "max": "1.0",
          "histogram": [
           {
            "bin_start": 0.003258144423101462,
            "bin_end": 0.10293232998079131,
            "count": 92
           },
           {
            "bin_start": 0.10293232998079131,
            "bin_end": 0.20260651553848116,
            "count": 0
           },
           {
            "bin_start": 0.20260651553848116,
            "bin_end": 0.302280701096171,
            "count": 0
           },
           {
            "bin_start": 0.302280701096171,
            "bin_end": 0.40195488665386087,
            "count": 0
           },
           {
            "bin_start": 0.40195488665386087,
            "bin_end": 0.5016290722115507,
            "count": 0
           },
           {
            "bin_start": 0.5016290722115507,
            "bin_end": 0.6013032577692405,
            "count": 0
           },
           {
            "bin_start": 0.6013032577692405,
            "bin_end": 0.7009774433269305,
            "count": 0
           },
           {
            "bin_start": 0.7009774433269305,
            "bin_end": 0.8006516288846203,
            "count": 0
           },
           {
            "bin_start": 0.8006516288846203,
            "bin_end": 0.9003258144423101,
            "count": 0
           },
           {
            "bin_start": 0.9003258144423101,
            "bin_end": 1,
            "count": 1
           }
          ]
         }
        },
        {
         "name": "251",
         "dtype": "float64",
         "stats": {
          "unique_count": 93,
          "nan_count": 0,
          "min": "0.006136828119173765",
          "max": "1.0",
          "histogram": [
           {
            "bin_start": 0.006136828119173765,
            "bin_end": 0.10552314530725639,
            "count": 78
           },
           {
            "bin_start": 0.10552314530725639,
            "bin_end": 0.204909462495339,
            "count": 14
           },
           {
            "bin_start": 0.204909462495339,
            "bin_end": 0.30429577968342164,
            "count": 0
           },
           {
            "bin_start": 0.30429577968342164,
            "bin_end": 0.40368209687150425,
            "count": 0
           },
           {
            "bin_start": 0.40368209687150425,
            "bin_end": 0.5030684140595869,
            "count": 0
           },
           {
            "bin_start": 0.5030684140595869,
            "bin_end": 0.6024547312476696,
            "count": 0
           },
           {
            "bin_start": 0.6024547312476696,
            "bin_end": 0.701841048435752,
            "count": 0
           },
           {
            "bin_start": 0.701841048435752,
            "bin_end": 0.8012273656238347,
            "count": 0
           },
           {
            "bin_start": 0.8012273656238347,
            "bin_end": 0.9006136828119173,
            "count": 0
           },
           {
            "bin_start": 0.9006136828119173,
            "bin_end": 1,
            "count": 1
           }
          ]
         }
        },
        {
         "name": "252",
         "dtype": "float64",
         "stats": {
          "unique_count": 93,
          "nan_count": 0,
          "min": "0.003168447480455596",
          "max": "1.0",
          "histogram": [
           {
            "bin_start": 0.003168447480455596,
            "bin_end": 0.10285160273241004,
            "count": 91
           },
           {
            "bin_start": 0.10285160273241004,
            "bin_end": 0.20253475798436446,
            "count": 1
           },
           {
            "bin_start": 0.20253475798436446,
            "bin_end": 0.3022179132363189,
            "count": 0
           },
           {
            "bin_start": 0.3022179132363189,
            "bin_end": 0.40190106848827334,
            "count": 0
           },
           {
            "bin_start": 0.40190106848827334,
            "bin_end": 0.5015842237402278,
            "count": 0
           },
           {
            "bin_start": 0.5015842237402278,
            "bin_end": 0.6012673789921823,
            "count": 0
           },
           {
            "bin_start": 0.6012673789921823,
            "bin_end": 0.7009505342441367,
            "count": 0
           },
           {
            "bin_start": 0.7009505342441367,
            "bin_end": 0.8006336894960911,
            "count": 0
           },
           {
            "bin_start": 0.8006336894960911,
            "bin_end": 0.9003168447480456,
            "count": 0
           },
           {
            "bin_start": 0.9003168447480456,
            "bin_end": 1,
            "count": 1
           }
          ]
         }
        },
        {
         "name": "253",
         "dtype": "float64",
         "stats": {
          "unique_count": 93,
          "nan_count": 0,
          "min": "0.0013844916374268666",
          "max": "1.0",
          "histogram": [
           {
            "bin_start": 0.0013844916374268666,
            "bin_end": 0.10124604247368418,
            "count": 92
           },
           {
            "bin_start": 0.10124604247368418,
            "bin_end": 0.20110759330994152,
            "count": 0
           },
           {
            "bin_start": 0.20110759330994152,
            "bin_end": 0.30096914414619885,
            "count": 0
           },
           {
            "bin_start": 0.30096914414619885,
            "bin_end": 0.40083069498245616,
            "count": 0
           },
           {
            "bin_start": 0.40083069498245616,
            "bin_end": 0.5006922458187134,
            "count": 0
           },
           {
            "bin_start": 0.5006922458187134,
            "bin_end": 0.6005537966549708,
            "count": 0
           },
           {
            "bin_start": 0.6005537966549708,
            "bin_end": 0.700415347491228,
            "count": 0
           },
           {
            "bin_start": 0.700415347491228,
            "bin_end": 0.8002768983274854,
            "count": 0
           },
           {
            "bin_start": 0.8002768983274854,
            "bin_end": 0.9001384491637427,
            "count": 0
           },
           {
            "bin_start": 0.9001384491637427,
            "bin_end": 1,
            "count": 1
           }
          ]
         }
        },
        {
         "name": "254",
         "dtype": "float64",
         "stats": {
          "unique_count": 93,
          "nan_count": 0,
          "min": "0.002826394154912883",
          "max": "1.0",
          "histogram": [
           {
            "bin_start": 0.002826394154912883,
            "bin_end": 0.1025437547394216,
            "count": 88
           },
           {
            "bin_start": 0.1025437547394216,
            "bin_end": 0.2022611153239303,
            "count": 4
           },
           {
            "bin_start": 0.2022611153239303,
            "bin_end": 0.301978475908439,
            "count": 0
           },
           {
            "bin_start": 0.301978475908439,
            "bin_end": 0.4016958364929477,
            "count": 0
           },
           {
            "bin_start": 0.4016958364929477,
            "bin_end": 0.5014131970774565,
            "count": 0
           },
           {
            "bin_start": 0.5014131970774565,
            "bin_end": 0.6011305576619652,
            "count": 0
           },
           {
            "bin_start": 0.6011305576619652,
            "bin_end": 0.7008479182464739,
            "count": 0
           },
           {
            "bin_start": 0.7008479182464739,
            "bin_end": 0.8005652788309826,
            "count": 0
           },
           {
            "bin_start": 0.8005652788309826,
            "bin_end": 0.9002826394154914,
            "count": 0
           },
           {
            "bin_start": 0.9002826394154914,
            "bin_end": 1,
            "count": 1
           }
          ]
         }
        },
        {
         "name": "255",
         "dtype": "float64",
         "stats": {
          "unique_count": 93,
          "nan_count": 0,
          "min": "0.005579290026160722",
          "max": "1.0",
          "histogram": [
           {
            "bin_start": 0.005579290026160722,
            "bin_end": 0.10502136102354465,
            "count": 90
           },
           {
            "bin_start": 0.10502136102354465,
            "bin_end": 0.20446343202092856,
            "count": 2
           },
           {
            "bin_start": 0.20446343202092856,
            "bin_end": 0.3039055030183125,
            "count": 0
           },
           {
            "bin_start": 0.3039055030183125,
            "bin_end": 0.4033475740156964,
            "count": 0
           },
           {
            "bin_start": 0.4033475740156964,
            "bin_end": 0.5027896450130803,
            "count": 0
           },
           {
            "bin_start": 0.5027896450130803,
            "bin_end": 0.6022317160104643,
            "count": 0
           },
           {
            "bin_start": 0.6022317160104643,
            "bin_end": 0.7016737870078482,
            "count": 0
           },
           {
            "bin_start": 0.7016737870078482,
            "bin_end": 0.8011158580052321,
            "count": 0
           },
           {
            "bin_start": 0.8011158580052321,
            "bin_end": 0.900557929002616,
            "count": 0
           },
           {
            "bin_start": 0.900557929002616,
            "bin_end": 1,
            "count": 1
           }
          ]
         }
        },
        {
         "name": "256",
         "dtype": "float64",
         "stats": {
          "unique_count": 93,
          "nan_count": 0,
          "min": "0.00410648228756722",
          "max": "1.0",
          "histogram": [
           {
            "bin_start": 0.00410648228756722,
            "bin_end": 0.10369583405881048,
            "count": 91
           },
           {
            "bin_start": 0.10369583405881048,
            "bin_end": 0.20328518583005376,
            "count": 1
           },
           {
            "bin_start": 0.20328518583005376,
            "bin_end": 0.302874537601297,
            "count": 0
           },
           {
            "bin_start": 0.302874537601297,
            "bin_end": 0.4024638893725403,
            "count": 0
           },
           {
            "bin_start": 0.4024638893725403,
            "bin_end": 0.5020532411437836,
            "count": 0
           },
           {
            "bin_start": 0.5020532411437836,
            "bin_end": 0.6016425929150269,
            "count": 0
           },
           {
            "bin_start": 0.6016425929150269,
            "bin_end": 0.7012319446862701,
            "count": 0
           },
           {
            "bin_start": 0.7012319446862701,
            "bin_end": 0.8008212964575134,
            "count": 0
           },
           {
            "bin_start": 0.8008212964575134,
            "bin_end": 0.9004106482287567,
            "count": 0
           },
           {
            "bin_start": 0.9004106482287567,
            "bin_end": 1,
            "count": 1
           }
          ]
         }
        },
        {
         "name": "257",
         "dtype": "float64",
         "stats": {
          "unique_count": 93,
          "nan_count": 0,
          "min": "0.005640703050721843",
          "max": "1.0",
          "histogram": [
           {
            "bin_start": 0.005640703050721843,
            "bin_end": 0.10507663274564966,
            "count": 90
           },
           {
            "bin_start": 0.10507663274564966,
            "bin_end": 0.20451256244057747,
            "count": 2
           },
           {
            "bin_start": 0.20451256244057747,
            "bin_end": 0.3039484921355053,
            "count": 0
           },
           {
            "bin_start": 0.3039484921355053,
            "bin_end": 0.4033844218304331,
            "count": 0
           },
           {
            "bin_start": 0.4033844218304331,
            "bin_end": 0.502820351525361,
            "count": 0
           },
           {
            "bin_start": 0.502820351525361,
            "bin_end": 0.6022562812202887,
            "count": 0
           },
           {
            "bin_start": 0.6022562812202887,
            "bin_end": 0.7016922109152165,
            "count": 0
           },
           {
            "bin_start": 0.7016922109152165,
            "bin_end": 0.8011281406101444,
            "count": 0
           },
           {
            "bin_start": 0.8011281406101444,
            "bin_end": 0.9005640703050722,
            "count": 0
           },
           {
            "bin_start": 0.9005640703050722,
            "bin_end": 1,
            "count": 1
           }
          ]
         }
        },
        {
         "name": "258",
         "dtype": "float64",
         "stats": {
          "unique_count": 93,
          "nan_count": 0,
          "min": "0.002282381616976489",
          "max": "1.0",
          "histogram": [
           {
            "bin_start": 0.002282381616976489,
            "bin_end": 0.10205414345527884,
            "count": 86
           },
           {
            "bin_start": 0.10205414345527884,
            "bin_end": 0.20182590529358121,
            "count": 6
           },
           {
            "bin_start": 0.20182590529358121,
            "bin_end": 0.3015976671318835,
            "count": 0
           },
           {
            "bin_start": 0.3015976671318835,
            "bin_end": 0.4013694289701859,
            "count": 0
           },
           {
            "bin_start": 0.4013694289701859,
            "bin_end": 0.5011411908084883,
            "count": 0
           },
           {
            "bin_start": 0.5011411908084883,
            "bin_end": 0.6009129526467906,
            "count": 0
           },
           {
            "bin_start": 0.6009129526467906,
            "bin_end": 0.700684714485093,
            "count": 0
           },
           {
            "bin_start": 0.700684714485093,
            "bin_end": 0.8004564763233953,
            "count": 0
           },
           {
            "bin_start": 0.8004564763233953,
            "bin_end": 0.9002282381616977,
            "count": 0
           },
           {
            "bin_start": 0.9002282381616977,
            "bin_end": 1,
            "count": 1
           }
          ]
         }
        },
        {
         "name": "259",
         "dtype": "float64",
         "stats": {
          "unique_count": 93,
          "nan_count": 0,
          "min": "0.002912331293125068",
          "max": "1.0",
          "histogram": [
           {
            "bin_start": 0.002912331293125068,
            "bin_end": 0.10262109816381257,
            "count": 87
           },
           {
            "bin_start": 0.10262109816381257,
            "bin_end": 0.20232986503450007,
            "count": 4
           },
           {
            "bin_start": 0.20232986503450007,
            "bin_end": 0.30203863190518754,
            "count": 0
           },
           {
            "bin_start": 0.30203863190518754,
            "bin_end": 0.40174739877587506,
            "count": 1
           },
           {
            "bin_start": 0.40174739877587506,
            "bin_end": 0.5014561656465626,
            "count": 0
           },
           {
            "bin_start": 0.5014561656465626,
            "bin_end": 0.60116493251725,
            "count": 0
           },
           {
            "bin_start": 0.60116493251725,
            "bin_end": 0.7008736993879375,
            "count": 0
           },
           {
            "bin_start": 0.7008736993879375,
            "bin_end": 0.8005824662586251,
            "count": 0
           },
           {
            "bin_start": 0.8005824662586251,
            "bin_end": 0.9002912331293126,
            "count": 0
           },
           {
            "bin_start": 0.9002912331293126,
            "bin_end": 1,
            "count": 1
           }
          ]
         }
        },
        {
         "name": "26",
         "dtype": "float64",
         "stats": {
          "unique_count": 93,
          "nan_count": 0,
          "min": "0.0039604790898569",
          "max": "1.0",
          "histogram": [
           {
            "bin_start": 0.0039604790898569,
            "bin_end": 0.10356443118087122,
            "count": 90
           },
           {
            "bin_start": 0.10356443118087122,
            "bin_end": 0.20316838327188552,
            "count": 2
           },
           {
            "bin_start": 0.20316838327188552,
            "bin_end": 0.3027723353628999,
            "count": 0
           },
           {
            "bin_start": 0.3027723353628999,
            "bin_end": 0.4023762874539142,
            "count": 0
           },
           {
            "bin_start": 0.4023762874539142,
            "bin_end": 0.5019802395449284,
            "count": 0
           },
           {
            "bin_start": 0.5019802395449284,
            "bin_end": 0.6015841916359428,
            "count": 0
           },
           {
            "bin_start": 0.6015841916359428,
            "bin_end": 0.701188143726957,
            "count": 0
           },
           {
            "bin_start": 0.701188143726957,
            "bin_end": 0.8007920958179714,
            "count": 0
           },
           {
            "bin_start": 0.8007920958179714,
            "bin_end": 0.9003960479089858,
            "count": 0
           },
           {
            "bin_start": 0.9003960479089858,
            "bin_end": 1,
            "count": 1
           }
          ]
         }
        },
        {
         "name": "260",
         "dtype": "float64",
         "stats": {
          "unique_count": 93,
          "nan_count": 0,
          "min": "0.003994825600423063",
          "max": "1.0",
          "histogram": [
           {
            "bin_start": 0.003994825600423063,
            "bin_end": 0.10359534304038076,
            "count": 87
           },
           {
            "bin_start": 0.10359534304038076,
            "bin_end": 0.20319586048033844,
            "count": 5
           },
           {
            "bin_start": 0.20319586048033844,
            "bin_end": 0.3027963779202962,
            "count": 0
           },
           {
            "bin_start": 0.3027963779202962,
            "bin_end": 0.40239689536025386,
            "count": 0
           },
           {
            "bin_start": 0.40239689536025386,
            "bin_end": 0.5019974128002115,
            "count": 0
           },
           {
            "bin_start": 0.5019974128002115,
            "bin_end": 0.6015979302401693,
            "count": 0
           },
           {
            "bin_start": 0.6015979302401693,
            "bin_end": 0.701198447680127,
            "count": 0
           },
           {
            "bin_start": 0.701198447680127,
            "bin_end": 0.8007989651200846,
            "count": 0
           },
           {
            "bin_start": 0.8007989651200846,
            "bin_end": 0.9003994825600423,
            "count": 0
           },
           {
            "bin_start": 0.9003994825600423,
            "bin_end": 1,
            "count": 1
           }
          ]
         }
        },
        {
         "name": "261",
         "dtype": "float64",
         "stats": {
          "unique_count": 93,
          "nan_count": 0,
          "min": "0.0024339820697336953",
          "max": "1.0",
          "histogram": [
           {
            "bin_start": 0.0024339820697336953,
            "bin_end": 0.10219058386276032,
            "count": 89
           },
           {
            "bin_start": 0.10219058386276032,
            "bin_end": 0.20194718565578695,
            "count": 3
           },
           {
            "bin_start": 0.20194718565578695,
            "bin_end": 0.3017037874488136,
            "count": 0
           },
           {
            "bin_start": 0.3017037874488136,
            "bin_end": 0.40146038924184024,
            "count": 0
           },
           {
            "bin_start": 0.40146038924184024,
            "bin_end": 0.5012169910348668,
            "count": 0
           },
           {
            "bin_start": 0.5012169910348668,
            "bin_end": 0.6009735928278934,
            "count": 0
           },
           {
            "bin_start": 0.6009735928278934,
            "bin_end": 0.7007301946209201,
            "count": 0
           },
           {
            "bin_start": 0.7007301946209201,
            "bin_end": 0.8004867964139467,
            "count": 0
           },
           {
            "bin_start": 0.8004867964139467,
            "bin_end": 0.9002433982069733,
            "count": 0
           },
           {
            "bin_start": 0.9002433982069733,
            "bin_end": 1,
            "count": 1
           }
          ]
         }
        },
        {
         "name": "262",
         "dtype": "float64",
         "stats": {
          "unique_count": 93,
          "nan_count": 0,
          "min": "0.003956470064494543",
          "max": "1.0",
          "histogram": [
           {
            "bin_start": 0.003956470064494543,
            "bin_end": 0.10356082305804509,
            "count": 90
           },
           {
            "bin_start": 0.10356082305804509,
            "bin_end": 0.20316517605159565,
            "count": 2
           },
           {
            "bin_start": 0.20316517605159565,
            "bin_end": 0.30276952904514626,
            "count": 0
           },
           {
            "bin_start": 0.30276952904514626,
            "bin_end": 0.4023738820386968,
            "count": 0
           },
           {
            "bin_start": 0.4023738820386968,
            "bin_end": 0.5019782350322473,
            "count": 0
           },
           {
            "bin_start": 0.5019782350322473,
            "bin_end": 0.6015825880257979,
            "count": 0
           },
           {
            "bin_start": 0.6015825880257979,
            "bin_end": 0.7011869410193484,
            "count": 0
           },
           {
            "bin_start": 0.7011869410193484,
            "bin_end": 0.800791294012899,
            "count": 0
           },
           {
            "bin_start": 0.800791294012899,
            "bin_end": 0.9003956470064495,
            "count": 0
           },
           {
            "bin_start": 0.9003956470064495,
            "bin_end": 1,
            "count": 1
           }
          ]
         }
        },
        {
         "name": "263",
         "dtype": "float64",
         "stats": {
          "unique_count": 93,
          "nan_count": 0,
          "min": "0.004408349254366714",
          "max": "1.0",
          "histogram": [
           {
            "bin_start": 0.004408349254366714,
            "bin_end": 0.10396751432893005,
            "count": 92
           },
           {
            "bin_start": 0.10396751432893005,
            "bin_end": 0.2035266794034934,
            "count": 0
           },
           {
            "bin_start": 0.2035266794034934,
            "bin_end": 0.30308584447805675,
            "count": 0
           },
           {
            "bin_start": 0.30308584447805675,
            "bin_end": 0.40264500955262006,
            "count": 0
           },
           {
            "bin_start": 0.40264500955262006,
            "bin_end": 0.5022041746271834,
            "count": 0
           },
           {
            "bin_start": 0.5022041746271834,
            "bin_end": 0.6017633397017468,
            "count": 0
           },
           {
            "bin_start": 0.6017633397017468,
            "bin_end": 0.7013225047763101,
            "count": 0
           },
           {
            "bin_start": 0.7013225047763101,
            "bin_end": 0.8008816698508734,
            "count": 0
           },
           {
            "bin_start": 0.8008816698508734,
            "bin_end": 0.9004408349254367,
            "count": 0
           },
           {
            "bin_start": 0.9004408349254367,
            "bin_end": 1,
            "count": 1
           }
          ]
         }
        },
        {
         "name": "264",
         "dtype": "float64",
         "stats": {
          "unique_count": 93,
          "nan_count": 0,
          "min": "0.003976534394441085",
          "max": "1.0",
          "histogram": [
           {
            "bin_start": 0.003976534394441085,
            "bin_end": 0.10357888095499697,
            "count": 92
           },
           {
            "bin_start": 0.10357888095499697,
            "bin_end": 0.20318122751555287,
            "count": 0
           },
           {
            "bin_start": 0.20318122751555287,
            "bin_end": 0.30278357407610873,
            "count": 0
           },
           {
            "bin_start": 0.30278357407610873,
            "bin_end": 0.4023859206366646,
            "count": 0
           },
           {
            "bin_start": 0.4023859206366646,
            "bin_end": 0.5019882671972206,
            "count": 0
           },
           {
            "bin_start": 0.5019882671972206,
            "bin_end": 0.6015906137577764,
            "count": 0
           },
           {
            "bin_start": 0.6015906137577764,
            "bin_end": 0.7011929603183323,
            "count": 0
           },
           {
            "bin_start": 0.7011929603183323,
            "bin_end": 0.8007953068788882,
            "count": 0
           },
           {
            "bin_start": 0.8007953068788882,
            "bin_end": 0.9003976534394441,
            "count": 0
           },
           {
            "bin_start": 0.9003976534394441,
            "bin_end": 1,
            "count": 1
           }
          ]
         }
        },
        {
         "name": "265",
         "dtype": "float64",
         "stats": {
          "unique_count": 93,
          "nan_count": 0,
          "min": "0.0038351069071471846",
          "max": "1.0",
          "histogram": [
           {
            "bin_start": 0.0038351069071471846,
            "bin_end": 0.10345159621643246,
            "count": 90
           },
           {
            "bin_start": 0.10345159621643246,
            "bin_end": 0.20306808552571776,
            "count": 2
           },
           {
            "bin_start": 0.20306808552571776,
            "bin_end": 0.302684574835003,
            "count": 0
           },
           {
            "bin_start": 0.302684574835003,
            "bin_end": 0.4023010641442883,
            "count": 0
           },
           {
            "bin_start": 0.4023010641442883,
            "bin_end": 0.5019175534535736,
            "count": 0
           },
           {
            "bin_start": 0.5019175534535736,
            "bin_end": 0.6015340427628588,
            "count": 0
           },
           {
            "bin_start": 0.6015340427628588,
            "bin_end": 0.7011505320721442,
            "count": 0
           },
           {
            "bin_start": 0.7011505320721442,
            "bin_end": 0.8007670213814294,
            "count": 0
           },
           {
            "bin_start": 0.8007670213814294,
            "bin_end": 0.9003835106907147,
            "count": 0
           },
           {
            "bin_start": 0.9003835106907147,
            "bin_end": 1,
            "count": 1
           }
          ]
         }
        },
        {
         "name": "266",
         "dtype": "float64",
         "stats": {
          "unique_count": 93,
          "nan_count": 0,
          "min": "0.002602266416024101",
          "max": "1.0",
          "histogram": [
           {
            "bin_start": 0.002602266416024101,
            "bin_end": 0.10234203977442169,
            "count": 88
           },
           {
            "bin_start": 0.10234203977442169,
            "bin_end": 0.20208181313281928,
            "count": 4
           },
           {
            "bin_start": 0.20208181313281928,
            "bin_end": 0.30182158649121693,
            "count": 0
           },
           {
            "bin_start": 0.30182158649121693,
            "bin_end": 0.4015613598496145,
            "count": 0
           },
           {
            "bin_start": 0.4015613598496145,
            "bin_end": 0.5013011332080121,
            "count": 0
           },
           {
            "bin_start": 0.5013011332080121,
            "bin_end": 0.6010409065664097,
            "count": 0
           },
           {
            "bin_start": 0.6010409065664097,
            "bin_end": 0.7007806799248073,
            "count": 0
           },
           {
            "bin_start": 0.7007806799248073,
            "bin_end": 0.8005204532832049,
            "count": 0
           },
           {
            "bin_start": 0.8005204532832049,
            "bin_end": 0.9002602266416024,
            "count": 0
           },
           {
            "bin_start": 0.9002602266416024,
            "bin_end": 1,
            "count": 1
           }
          ]
         }
        },
        {
         "name": "267",
         "dtype": "float64",
         "stats": {
          "unique_count": 93,
          "nan_count": 0,
          "min": "0.0011847769965998567",
          "max": "1.0",
          "histogram": [
           {
            "bin_start": 0.0011847769965998567,
            "bin_end": 0.10106629929693987,
            "count": 92
           },
           {
            "bin_start": 0.10106629929693987,
            "bin_end": 0.2009478215972799,
            "count": 0
           },
           {
            "bin_start": 0.2009478215972799,
            "bin_end": 0.3008293438976199,
            "count": 0
           },
           {
            "bin_start": 0.3008293438976199,
            "bin_end": 0.4007108661979599,
            "count": 0
           },
           {
            "bin_start": 0.4007108661979599,
            "bin_end": 0.5005923884982999,
            "count": 0
           },
           {
            "bin_start": 0.5005923884982999,
            "bin_end": 0.6004739107986399,
            "count": 0
           },
           {
            "bin_start": 0.6004739107986399,
            "bin_end": 0.7003554330989801,
            "count": 0
           },
           {
            "bin_start": 0.7003554330989801,
            "bin_end": 0.80023695539932,
            "count": 0
           },
           {
            "bin_start": 0.80023695539932,
            "bin_end": 0.90011847769966,
            "count": 0
           },
           {
            "bin_start": 0.90011847769966,
            "bin_end": 1,
            "count": 1
           }
          ]
         }
        },
        {
         "name": "268",
         "dtype": "float64",
         "stats": {
          "unique_count": 93,
          "nan_count": 0,
          "min": "0.0022206725742915634",
          "max": "1.0",
          "histogram": [
           {
            "bin_start": 0.0022206725742915634,
            "bin_end": 0.1019986053168624,
            "count": 92
           },
           {
            "bin_start": 0.1019986053168624,
            "bin_end": 0.20177653805943324,
            "count": 0
           },
           {
            "bin_start": 0.20177653805943324,
            "bin_end": 0.30155447080200404,
            "count": 0
           },
           {
            "bin_start": 0.30155447080200404,
            "bin_end": 0.4013324035445749,
            "count": 0
           },
           {
            "bin_start": 0.4013324035445749,
            "bin_end": 0.5011103362871457,
            "count": 0
           },
           {
            "bin_start": 0.5011103362871457,
            "bin_end": 0.6008882690297166,
            "count": 0
           },
           {
            "bin_start": 0.6008882690297166,
            "bin_end": 0.7006662017722874,
            "count": 0
           },
           {
            "bin_start": 0.7006662017722874,
            "bin_end": 0.8004441345148583,
            "count": 0
           },
           {
            "bin_start": 0.8004441345148583,
            "bin_end": 0.9002220672574291,
            "count": 0
           },
           {
            "bin_start": 0.9002220672574291,
            "bin_end": 1,
            "count": 1
           }
          ]
         }
        },
        {
         "name": "269",
         "dtype": "float64",
         "stats": {
          "unique_count": 93,
          "nan_count": 0,
          "min": "0.00200835353459542",
          "max": "1.0",
          "histogram": [
           {
            "bin_start": 0.00200835353459542,
            "bin_end": 0.10180751818113587,
            "count": 92
           },
           {
            "bin_start": 0.10180751818113587,
            "bin_end": 0.20160668282767633,
            "count": 0
           },
           {
            "bin_start": 0.20160668282767633,
            "bin_end": 0.3014058474742168,
            "count": 0
           },
           {
            "bin_start": 0.3014058474742168,
            "bin_end": 0.40120501212075727,
            "count": 0
           },
           {
            "bin_start": 0.40120501212075727,
            "bin_end": 0.5010041767672977,
            "count": 0
           },
           {
            "bin_start": 0.5010041767672977,
            "bin_end": 0.6008033414138381,
            "count": 0
           },
           {
            "bin_start": 0.6008033414138381,
            "bin_end": 0.7006025060603785,
            "count": 0
           },
           {
            "bin_start": 0.7006025060603785,
            "bin_end": 0.800401670706919,
            "count": 0
           },
           {
            "bin_start": 0.800401670706919,
            "bin_end": 0.9002008353534595,
            "count": 0
           },
           {
            "bin_start": 0.9002008353534595,
            "bin_end": 1,
            "count": 1
           }
          ]
         }
        },
        {
         "name": "27",
         "dtype": "float64",
         "stats": {
          "unique_count": 93,
          "nan_count": 0,
          "min": "0.004305314042759567",
          "max": "1.0",
          "histogram": [
           {
            "bin_start": 0.004305314042759567,
            "bin_end": 0.10387478263848361,
            "count": 90
           },
           {
            "bin_start": 0.10387478263848361,
            "bin_end": 0.20344425123420767,
            "count": 2
           },
           {
            "bin_start": 0.20344425123420767,
            "bin_end": 0.30301371982993175,
            "count": 0
           },
           {
            "bin_start": 0.30301371982993175,
            "bin_end": 0.40258318842565577,
            "count": 0
           },
           {
            "bin_start": 0.40258318842565577,
            "bin_end": 0.5021526570213798,
            "count": 0
           },
           {
            "bin_start": 0.5021526570213798,
            "bin_end": 0.6017221256171039,
            "count": 0
           },
           {
            "bin_start": 0.6017221256171039,
            "bin_end": 0.7012915942128279,
            "count": 0
           },
           {
            "bin_start": 0.7012915942128279,
            "bin_end": 0.800861062808552,
            "count": 0
           },
           {
            "bin_start": 0.800861062808552,
            "bin_end": 0.900430531404276,
            "count": 0
           },
           {
            "bin_start": 0.900430531404276,
            "bin_end": 1,
            "count": 1
           }
          ]
         }
        },
        {
         "name": "270",
         "dtype": "float64",
         "stats": {
          "unique_count": 93,
          "nan_count": 0,
          "min": "0.0024223391806357628",
          "max": "1.0",
          "histogram": [
           {
            "bin_start": 0.0024223391806357628,
            "bin_end": 0.1021801052625722,
            "count": 92
           },
           {
            "bin_start": 0.1021801052625722,
            "bin_end": 0.2019378713445086,
            "count": 0
           },
           {
            "bin_start": 0.2019378713445086,
            "bin_end": 0.30169563742644506,
            "count": 0
           },
           {
            "bin_start": 0.30169563742644506,
            "bin_end": 0.4014534035083815,
            "count": 0
           },
           {
            "bin_start": 0.4014534035083815,
            "bin_end": 0.5012111695903179,
            "count": 0
           },
           {
            "bin_start": 0.5012111695903179,
            "bin_end": 0.6009689356722543,
            "count": 0
           },
           {
            "bin_start": 0.6009689356722543,
            "bin_end": 0.7007267017541907,
            "count": 0
           },
           {
            "bin_start": 0.7007267017541907,
            "bin_end": 0.8004844678361271,
            "count": 0
           },
           {
            "bin_start": 0.8004844678361271,
            "bin_end": 0.9002422339180636,
            "count": 0
           },
           {
            "bin_start": 0.9002422339180636,
            "bin_end": 1,
            "count": 1
           }
          ]
         }
        },
        {
         "name": "271",
         "dtype": "float64",
         "stats": {
          "unique_count": 93,
          "nan_count": 0,
          "min": "0.0026316572778588327",
          "max": "1.0",
          "histogram": [
           {
            "bin_start": 0.0026316572778588327,
            "bin_end": 0.10236849155007294,
            "count": 92
           },
           {
            "bin_start": 0.10236849155007294,
            "bin_end": 0.20210532582228705,
            "count": 0
           },
           {
            "bin_start": 0.20210532582228705,
            "bin_end": 0.30184216009450116,
            "count": 0
           },
           {
            "bin_start": 0.30184216009450116,
            "bin_end": 0.4015789943667153,
            "count": 0
           },
           {
            "bin_start": 0.4015789943667153,
            "bin_end": 0.5013158286389294,
            "count": 0
           },
           {
            "bin_start": 0.5013158286389294,
            "bin_end": 0.6010526629111435,
            "count": 0
           },
           {
            "bin_start": 0.6010526629111435,
            "bin_end": 0.7007894971833576,
            "count": 0
           },
           {
            "bin_start": 0.7007894971833576,
            "bin_end": 0.8005263314555717,
            "count": 0
           },
           {
            "bin_start": 0.8005263314555717,
            "bin_end": 0.9002631657277859,
            "count": 0
           },
           {
            "bin_start": 0.9002631657277859,
            "bin_end": 1,
            "count": 1
           }
          ]
         }
        },
        {
         "name": "272",
         "dtype": "float64",
         "stats": {
          "unique_count": 93,
          "nan_count": 0,
          "min": "0.002425951134880979",
          "max": "1.0",
          "histogram": [
           {
            "bin_start": 0.002425951134880979,
            "bin_end": 0.10218335602139288,
            "count": 92
           },
           {
            "bin_start": 0.10218335602139288,
            "bin_end": 0.20194076090790478,
            "count": 0
           },
           {
            "bin_start": 0.20194076090790478,
            "bin_end": 0.30169816579441666,
            "count": 0
           },
           {
            "bin_start": 0.30169816579441666,
            "bin_end": 0.4014555706809286,
            "count": 0
           },
           {
            "bin_start": 0.4014555706809286,
            "bin_end": 0.5012129755674405,
            "count": 0
           },
           {
            "bin_start": 0.5012129755674405,
            "bin_end": 0.6009703804539523,
            "count": 0
           },
           {
            "bin_start": 0.6009703804539523,
            "bin_end": 0.7007277853404643,
            "count": 0
           },
           {
            "bin_start": 0.7007277853404643,
            "bin_end": 0.8004851902269762,
            "count": 0
           },
           {
            "bin_start": 0.8004851902269762,
            "bin_end": 0.900242595113488,
            "count": 0
           },
           {
            "bin_start": 0.900242595113488,
            "bin_end": 1,
            "count": 1
           }
          ]
         }
        },
        {
         "name": "273",
         "dtype": "float64",
         "stats": {
          "unique_count": 93,
          "nan_count": 0,
          "min": "0.004171775375579648",
          "max": "1.0",
          "histogram": [
           {
            "bin_start": 0.004171775375579648,
            "bin_end": 0.10375459783802168,
            "count": 90
           },
           {
            "bin_start": 0.10375459783802168,
            "bin_end": 0.2033374203004637,
            "count": 2
           },
           {
            "bin_start": 0.2033374203004637,
            "bin_end": 0.30292024276290574,
            "count": 0
           },
           {
            "bin_start": 0.30292024276290574,
            "bin_end": 0.4025030652253478,
            "count": 0
           },
           {
            "bin_start": 0.4025030652253478,
            "bin_end": 0.5020858876877898,
            "count": 0
           },
           {
            "bin_start": 0.5020858876877898,
            "bin_end": 0.6016687101502318,
            "count": 0
           },
           {
            "bin_start": 0.6016687101502318,
            "bin_end": 0.7012515326126739,
            "count": 0
           },
           {
            "bin_start": 0.7012515326126739,
            "bin_end": 0.8008343550751159,
            "count": 0
           },
           {
            "bin_start": 0.8008343550751159,
            "bin_end": 0.9004171775375579,
            "count": 0
           },
           {
            "bin_start": 0.9004171775375579,
            "bin_end": 1,
            "count": 1
           }
          ]
         }
        },
        {
         "name": "274",
         "dtype": "float64",
         "stats": {
          "unique_count": 93,
          "nan_count": 0,
          "min": "0.0018136905956291423",
          "max": "1.0",
          "histogram": [
           {
            "bin_start": 0.0018136905956291423,
            "bin_end": 0.10163232153606622,
            "count": 91
           },
           {
            "bin_start": 0.10163232153606622,
            "bin_end": 0.2014509524765033,
            "count": 1
           },
           {
            "bin_start": 0.2014509524765033,
            "bin_end": 0.3012695834169404,
            "count": 0
           },
           {
            "bin_start": 0.3012695834169404,
            "bin_end": 0.40108821435737746,
            "count": 0
           },
           {
            "bin_start": 0.40108821435737746,
            "bin_end": 0.5009068452978146,
            "count": 0
           },
           {
            "bin_start": 0.5009068452978146,
            "bin_end": 0.6007254762382517,
            "count": 0
           },
           {
            "bin_start": 0.6007254762382517,
            "bin_end": 0.7005441071786888,
            "count": 0
           },
           {
            "bin_start": 0.7005441071786888,
            "bin_end": 0.8003627381191258,
            "count": 0
           },
           {
            "bin_start": 0.8003627381191258,
            "bin_end": 0.9001813690595629,
            "count": 0
           },
           {
            "bin_start": 0.9001813690595629,
            "bin_end": 1,
            "count": 1
           }
          ]
         }
        },
        {
         "name": "275",
         "dtype": "float64",
         "stats": {
          "unique_count": 93,
          "nan_count": 0,
          "min": "0.002626987689561462",
          "max": "1.0",
          "histogram": [
           {
            "bin_start": 0.002626987689561462,
            "bin_end": 0.10236428892060531,
            "count": 91
           },
           {
            "bin_start": 0.10236428892060531,
            "bin_end": 0.20210159015164916,
            "count": 1
           },
           {
            "bin_start": 0.20210159015164916,
            "bin_end": 0.30183889138269304,
            "count": 0
           },
           {
            "bin_start": 0.30183889138269304,
            "bin_end": 0.4015761926137369,
            "count": 0
           },
           {
            "bin_start": 0.4015761926137369,
            "bin_end": 0.5013134938447807,
            "count": 0
           },
           {
            "bin_start": 0.5013134938447807,
            "bin_end": 0.6010507950758246,
            "count": 0
           },
           {
            "bin_start": 0.6010507950758246,
            "bin_end": 0.7007880963068684,
            "count": 0
           },
           {
            "bin_start": 0.7007880963068684,
            "bin_end": 0.8005253975379123,
            "count": 0
           },
           {
            "bin_start": 0.8005253975379123,
            "bin_end": 0.9002626987689561,
            "count": 0
           },
           {
            "bin_start": 0.9002626987689561,
            "bin_end": 1,
            "count": 1
           }
          ]
         }
        },
        {
         "name": "276",
         "dtype": "float64",
         "stats": {
          "unique_count": 93,
          "nan_count": 0,
          "min": "0.0021500796343881753",
          "max": "1.0",
          "histogram": [
           {
            "bin_start": 0.0021500796343881753,
            "bin_end": 0.10193507167094937,
            "count": 92
           },
           {
            "bin_start": 0.10193507167094937,
            "bin_end": 0.20172006370751056,
            "count": 0
           },
           {
            "bin_start": 0.20172006370751056,
            "bin_end": 0.3015050557440717,
            "count": 0
           },
           {
            "bin_start": 0.3015050557440717,
            "bin_end": 0.40129004778063293,
            "count": 0
           },
           {
            "bin_start": 0.40129004778063293,
            "bin_end": 0.5010750398171941,
            "count": 0
           },
           {
            "bin_start": 0.5010750398171941,
            "bin_end": 0.6008600318537552,
            "count": 0
           },
           {
            "bin_start": 0.6008600318537552,
            "bin_end": 0.7006450238903165,
            "count": 0
           },
           {
            "bin_start": 0.7006450238903165,
            "bin_end": 0.8004300159268777,
            "count": 0
           },
           {
            "bin_start": 0.8004300159268777,
            "bin_end": 0.9002150079634389,
            "count": 0
           },
           {
            "bin_start": 0.9002150079634389,
            "bin_end": 1,
            "count": 1
           }
          ]
         }
        },
        {
         "name": "277",
         "dtype": "float64",
         "stats": {
          "unique_count": 93,
          "nan_count": 0,
          "min": "0.003201033096942413",
          "max": "1.0",
          "histogram": [
           {
            "bin_start": 0.003201033096942413,
            "bin_end": 0.10288092978724818,
            "count": 92
           },
           {
            "bin_start": 0.10288092978724818,
            "bin_end": 0.20256082647755394,
            "count": 0
           },
           {
            "bin_start": 0.20256082647755394,
            "bin_end": 0.3022407231678597,
            "count": 0
           },
           {
            "bin_start": 0.3022407231678597,
            "bin_end": 0.40192061985816546,
            "count": 0
           },
           {
            "bin_start": 0.40192061985816546,
            "bin_end": 0.5016005165484712,
            "count": 0
           },
           {
            "bin_start": 0.5016005165484712,
            "bin_end": 0.601280413238777,
            "count": 0
           },
           {
            "bin_start": 0.601280413238777,
            "bin_end": 0.7009603099290828,
            "count": 0
           },
           {
            "bin_start": 0.7009603099290828,
            "bin_end": 0.8006402066193885,
            "count": 0
           },
           {
            "bin_start": 0.8006402066193885,
            "bin_end": 0.9003201033096943,
            "count": 0
           },
           {
            "bin_start": 0.9003201033096943,
            "bin_end": 1,
            "count": 1
           }
          ]
         }
        },
        {
         "name": "278",
         "dtype": "float64",
         "stats": {
          "unique_count": 93,
          "nan_count": 0,
          "min": "0.0014707440350601076",
          "max": "1.0",
          "histogram": [
           {
            "bin_start": 0.0014707440350601076,
            "bin_end": 0.10132366963155409,
            "count": 90
           },
           {
            "bin_start": 0.10132366963155409,
            "bin_end": 0.2011765952280481,
            "count": 2
           },
           {
            "bin_start": 0.2011765952280481,
            "bin_end": 0.30102952082454204,
            "count": 0
           },
           {
            "bin_start": 0.30102952082454204,
            "bin_end": 0.40088244642103604,
            "count": 0
           },
           {
            "bin_start": 0.40088244642103604,
            "bin_end": 0.50073537201753,
            "count": 0
           },
           {
            "bin_start": 0.50073537201753,
            "bin_end": 0.600588297614024,
            "count": 0
           },
           {
            "bin_start": 0.600588297614024,
            "bin_end": 0.700441223210518,
            "count": 0
           },
           {
            "bin_start": 0.700441223210518,
            "bin_end": 0.800294148807012,
            "count": 0
           },
           {
            "bin_start": 0.800294148807012,
            "bin_end": 0.9001470744035059,
            "count": 0
           },
           {
            "bin_start": 0.9001470744035059,
            "bin_end": 1,
            "count": 1
           }
          ]
         }
        },
        {
         "name": "279",
         "dtype": "float64",
         "stats": {
          "unique_count": 93,
          "nan_count": 0,
          "min": "0.0034356226033057345",
          "max": "1.0",
          "histogram": [
           {
            "bin_start": 0.0034356226033057345,
            "bin_end": 0.10309206034297516,
            "count": 92
           },
           {
            "bin_start": 0.10309206034297516,
            "bin_end": 0.20274849808264458,
            "count": 0
           },
           {
            "bin_start": 0.20274849808264458,
            "bin_end": 0.302404935822314,
            "count": 0
           },
           {
            "bin_start": 0.302404935822314,
            "bin_end": 0.4020613735619834,
            "count": 0
           },
           {
            "bin_start": 0.4020613735619834,
            "bin_end": 0.5017178113016528,
            "count": 0
           },
           {
            "bin_start": 0.5017178113016528,
            "bin_end": 0.6013742490413223,
            "count": 0
           },
           {
            "bin_start": 0.6013742490413223,
            "bin_end": 0.7010306867809918,
            "count": 0
           },
           {
            "bin_start": 0.7010306867809918,
            "bin_end": 0.8006871245206612,
            "count": 0
           },
           {
            "bin_start": 0.8006871245206612,
            "bin_end": 0.9003435622603305,
            "count": 0
           },
           {
            "bin_start": 0.9003435622603305,
            "bin_end": 1,
            "count": 1
           }
          ]
         }
        },
        {
         "name": "28",
         "dtype": "float64",
         "stats": {
          "unique_count": 93,
          "nan_count": 0,
          "min": "0.003900405799592411",
          "max": "1.0",
          "histogram": [
           {
            "bin_start": 0.003900405799592411,
            "bin_end": 0.10351036521963318,
            "count": 87
           },
           {
            "bin_start": 0.10351036521963318,
            "bin_end": 0.20312032463967394,
            "count": 5
           },
           {
            "bin_start": 0.20312032463967394,
            "bin_end": 0.3027302840597147,
            "count": 0
           },
           {
            "bin_start": 0.3027302840597147,
            "bin_end": 0.40234024347975544,
            "count": 0
           },
           {
            "bin_start": 0.40234024347975544,
            "bin_end": 0.5019502028997962,
            "count": 0
           },
           {
            "bin_start": 0.5019502028997962,
            "bin_end": 0.601560162319837,
            "count": 0
           },
           {
            "bin_start": 0.601560162319837,
            "bin_end": 0.7011701217398777,
            "count": 0
           },
           {
            "bin_start": 0.7011701217398777,
            "bin_end": 0.8007800811599185,
            "count": 0
           },
           {
            "bin_start": 0.8007800811599185,
            "bin_end": 0.9003900405799593,
            "count": 0
           },
           {
            "bin_start": 0.9003900405799593,
            "bin_end": 1,
            "count": 1
           }
          ]
         }
        },
        {
         "name": "29",
         "dtype": "float64",
         "stats": {
          "unique_count": 93,
          "nan_count": 0,
          "min": "0.0031975434716499753",
          "max": "1.0",
          "histogram": [
           {
            "bin_start": 0.0031975434716499753,
            "bin_end": 0.10287778912448498,
            "count": 90
           },
           {
            "bin_start": 0.10287778912448498,
            "bin_end": 0.20255803477731996,
            "count": 2
           },
           {
            "bin_start": 0.20255803477731996,
            "bin_end": 0.30223828043015494,
            "count": 0
           },
           {
            "bin_start": 0.30223828043015494,
            "bin_end": 0.40191852608298995,
            "count": 0
           },
           {
            "bin_start": 0.40191852608298995,
            "bin_end": 0.501598771735825,
            "count": 0
           },
           {
            "bin_start": 0.501598771735825,
            "bin_end": 0.60127901738866,
            "count": 0
           },
           {
            "bin_start": 0.60127901738866,
            "bin_end": 0.700959263041495,
            "count": 0
           },
           {
            "bin_start": 0.700959263041495,
            "bin_end": 0.80063950869433,
            "count": 0
           },
           {
            "bin_start": 0.80063950869433,
            "bin_end": 0.9003197543471649,
            "count": 0
           },
           {
            "bin_start": 0.9003197543471649,
            "bin_end": 1,
            "count": 1
           }
          ]
         }
        },
        {
         "name": "3",
         "dtype": "float64",
         "stats": {
          "unique_count": 93,
          "nan_count": 0,
          "min": "0.0021480590794959466",
          "max": "1.0",
          "histogram": [
           {
            "bin_start": 0.0021480590794959466,
            "bin_end": 0.10193325317154635,
            "count": 89
           },
           {
            "bin_start": 0.10193325317154635,
            "bin_end": 0.20171844726359675,
            "count": 3
           },
           {
            "bin_start": 0.20171844726359675,
            "bin_end": 0.30150364135564717,
            "count": 0
           },
           {
            "bin_start": 0.30150364135564717,
            "bin_end": 0.40128883544769756,
            "count": 0
           },
           {
            "bin_start": 0.40128883544769756,
            "bin_end": 0.501074029539748,
            "count": 0
           },
           {
            "bin_start": 0.501074029539748,
            "bin_end": 0.6008592236317984,
            "count": 0
           },
           {
            "bin_start": 0.6008592236317984,
            "bin_end": 0.7006444177238488,
            "count": 0
           },
           {
            "bin_start": 0.7006444177238488,
            "bin_end": 0.8004296118158992,
            "count": 0
           },
           {
            "bin_start": 0.8004296118158992,
            "bin_end": 0.9002148059079497,
            "count": 0
           },
           {
            "bin_start": 0.9002148059079497,
            "bin_end": 1,
            "count": 1
           }
          ]
         }
        },
        {
         "name": "30",
         "dtype": "float64",
         "stats": {
          "unique_count": 93,
          "nan_count": 0,
          "min": "0.0033811125920514516",
          "max": "1.0",
          "histogram": [
           {
            "bin_start": 0.0033811125920514516,
            "bin_end": 0.10304300133284632,
            "count": 92
           },
           {
            "bin_start": 0.10304300133284632,
            "bin_end": 0.20270489007364118,
            "count": 0
           },
           {
            "bin_start": 0.20270489007364118,
            "bin_end": 0.302366778814436,
            "count": 0
           },
           {
            "bin_start": 0.302366778814436,
            "bin_end": 0.40202866755523087,
            "count": 0
           },
           {
            "bin_start": 0.40202866755523087,
            "bin_end": 0.5016905562960258,
            "count": 0
           },
           {
            "bin_start": 0.5016905562960258,
            "bin_end": 0.6013524450368206,
            "count": 0
           },
           {
            "bin_start": 0.6013524450368206,
            "bin_end": 0.7010143337776155,
            "count": 0
           },
           {
            "bin_start": 0.7010143337776155,
            "bin_end": 0.8006762225184103,
            "count": 0
           },
           {
            "bin_start": 0.8006762225184103,
            "bin_end": 0.9003381112592052,
            "count": 0
           },
           {
            "bin_start": 0.9003381112592052,
            "bin_end": 1,
            "count": 1
           }
          ]
         }
        },
        {
         "name": "31",
         "dtype": "float64",
         "stats": {
          "unique_count": 93,
          "nan_count": 0,
          "min": "0.0034515954326756774",
          "max": "1.0",
          "histogram": [
           {
            "bin_start": 0.0034515954326756774,
            "bin_end": 0.1031064358894081,
            "count": 92
           },
           {
            "bin_start": 0.1031064358894081,
            "bin_end": 0.20276127634614052,
            "count": 0
           },
           {
            "bin_start": 0.20276127634614052,
            "bin_end": 0.30241611680287295,
            "count": 0
           },
           {
            "bin_start": 0.30241611680287295,
            "bin_end": 0.4020709572596054,
            "count": 0
           },
           {
            "bin_start": 0.4020709572596054,
            "bin_end": 0.5017257977163379,
            "count": 0
           },
           {
            "bin_start": 0.5017257977163379,
            "bin_end": 0.6013806381730702,
            "count": 0
           },
           {
            "bin_start": 0.6013806381730702,
            "bin_end": 0.7010354786298026,
            "count": 0
           },
           {
            "bin_start": 0.7010354786298026,
            "bin_end": 0.8006903190865351,
            "count": 0
           },
           {
            "bin_start": 0.8006903190865351,
            "bin_end": 0.9003451595432675,
            "count": 0
           },
           {
            "bin_start": 0.9003451595432675,
            "bin_end": 1,
            "count": 1
           }
          ]
         }
        },
        {
         "name": "4",
         "dtype": "float64",
         "stats": {
          "unique_count": 93,
          "nan_count": 0,
          "min": "0.0018486771548725139",
          "max": "1.0",
          "histogram": [
           {
            "bin_start": 0.0018486771548725139,
            "bin_end": 0.10166380943938526,
            "count": 91
           },
           {
            "bin_start": 0.10166380943938526,
            "bin_end": 0.20147894172389802,
            "count": 1
           },
           {
            "bin_start": 0.20147894172389802,
            "bin_end": 0.30129407400841074,
            "count": 0
           },
           {
            "bin_start": 0.30129407400841074,
            "bin_end": 0.4011092062929235,
            "count": 0
           },
           {
            "bin_start": 0.4011092062929235,
            "bin_end": 0.5009243385774362,
            "count": 0
           },
           {
            "bin_start": 0.5009243385774362,
            "bin_end": 0.6007394708619489,
            "count": 0
           },
           {
            "bin_start": 0.6007394708619489,
            "bin_end": 0.7005546031464617,
            "count": 0
           },
           {
            "bin_start": 0.7005546031464617,
            "bin_end": 0.8003697354309744,
            "count": 0
           },
           {
            "bin_start": 0.8003697354309744,
            "bin_end": 0.9001848677154872,
            "count": 0
           },
           {
            "bin_start": 0.9001848677154872,
            "bin_end": 1,
            "count": 1
           }
          ]
         }
        },
        {
         "name": "5",
         "dtype": "float64",
         "stats": {
          "unique_count": 93,
          "nan_count": 0,
          "min": "0.0033389288891584015",
          "max": "1.0",
          "histogram": [
           {
            "bin_start": 0.0033389288891584015,
            "bin_end": 0.10300503600024256,
            "count": 91
           },
           {
            "bin_start": 0.10300503600024256,
            "bin_end": 0.20267114311132672,
            "count": 1
           },
           {
            "bin_start": 0.20267114311132672,
            "bin_end": 0.30233725022241087,
            "count": 0
           },
           {
            "bin_start": 0.30233725022241087,
            "bin_end": 0.402003357333495,
            "count": 0
           },
           {
            "bin_start": 0.402003357333495,
            "bin_end": 0.5016694644445792,
            "count": 0
           },
           {
            "bin_start": 0.5016694644445792,
            "bin_end": 0.6013355715556634,
            "count": 0
           },
           {
            "bin_start": 0.6013355715556634,
            "bin_end": 0.7010016786667476,
            "count": 0
           },
           {
            "bin_start": 0.7010016786667476,
            "bin_end": 0.8006677857778317,
            "count": 0
           },
           {
            "bin_start": 0.8006677857778317,
            "bin_end": 0.9003338928889159,
            "count": 0
           },
           {
            "bin_start": 0.9003338928889159,
            "bin_end": 1,
            "count": 1
           }
          ]
         }
        },
        {
         "name": "559",
         "dtype": "float64",
         "stats": {
          "unique_count": 93,
          "nan_count": 0,
          "min": "0.002774729050849044",
          "max": "1.0",
          "histogram": [
           {
            "bin_start": 0.002774729050849044,
            "bin_end": 0.10249725614576413,
            "count": 89
           },
           {
            "bin_start": 0.10249725614576413,
            "bin_end": 0.20221978324067924,
            "count": 3
           },
           {
            "bin_start": 0.20221978324067924,
            "bin_end": 0.3019423103355943,
            "count": 0
           },
           {
            "bin_start": 0.3019423103355943,
            "bin_end": 0.4016648374305094,
            "count": 0
           },
           {
            "bin_start": 0.4016648374305094,
            "bin_end": 0.5013873645254245,
            "count": 0
           },
           {
            "bin_start": 0.5013873645254245,
            "bin_end": 0.6011098916203397,
            "count": 0
           },
           {
            "bin_start": 0.6011098916203397,
            "bin_end": 0.7008324187152547,
            "count": 0
           },
           {
            "bin_start": 0.7008324187152547,
            "bin_end": 0.8005549458101698,
            "count": 0
           },
           {
            "bin_start": 0.8005549458101698,
            "bin_end": 0.900277472905085,
            "count": 0
           },
           {
            "bin_start": 0.900277472905085,
            "bin_end": 1,
            "count": 1
           }
          ]
         }
        },
        {
         "name": "560",
         "dtype": "float64",
         "stats": {
          "unique_count": 93,
          "nan_count": 0,
          "min": "0.002269756767146908",
          "max": "1.0",
          "histogram": [
           {
            "bin_start": 0.002269756767146908,
            "bin_end": 0.10204278109043222,
            "count": 89
           },
           {
            "bin_start": 0.10204278109043222,
            "bin_end": 0.20181580541371752,
            "count": 3
           },
           {
            "bin_start": 0.20181580541371752,
            "bin_end": 0.30158882973700285,
            "count": 0
           },
           {
            "bin_start": 0.30158882973700285,
            "bin_end": 0.4013618540602881,
            "count": 0
           },
           {
            "bin_start": 0.4013618540602881,
            "bin_end": 0.5011348783835734,
            "count": 0
           },
           {
            "bin_start": 0.5011348783835734,
            "bin_end": 0.6009079027068588,
            "count": 0
           },
           {
            "bin_start": 0.6009079027068588,
            "bin_end": 0.7006809270301441,
            "count": 0
           },
           {
            "bin_start": 0.7006809270301441,
            "bin_end": 0.8004539513534293,
            "count": 0
           },
           {
            "bin_start": 0.8004539513534293,
            "bin_end": 0.9002269756767146,
            "count": 0
           },
           {
            "bin_start": 0.9002269756767146,
            "bin_end": 1,
            "count": 1
           }
          ]
         }
        },
        {
         "name": "561",
         "dtype": "float64",
         "stats": {
          "unique_count": 93,
          "nan_count": 0,
          "min": "0.0026044414543252496",
          "max": "1.0",
          "histogram": [
           {
            "bin_start": 0.0026044414543252496,
            "bin_end": 0.10234399730889272,
            "count": 84
           },
           {
            "bin_start": 0.10234399730889272,
            "bin_end": 0.20208355316346022,
            "count": 7
           },
           {
            "bin_start": 0.20208355316346022,
            "bin_end": 0.30182310901802767,
            "count": 1
           },
           {
            "bin_start": 0.30182310901802767,
            "bin_end": 0.4015626648725952,
            "count": 0
           },
           {
            "bin_start": 0.4015626648725952,
            "bin_end": 0.5013022207271627,
            "count": 0
           },
           {
            "bin_start": 0.5013022207271627,
            "bin_end": 0.6010417765817301,
            "count": 0
           },
           {
            "bin_start": 0.6010417765817301,
            "bin_end": 0.7007813324362976,
            "count": 0
           },
           {
            "bin_start": 0.7007813324362976,
            "bin_end": 0.8005208882908651,
            "count": 0
           },
           {
            "bin_start": 0.8005208882908651,
            "bin_end": 0.9002604441454326,
            "count": 0
           },
           {
            "bin_start": 0.9002604441454326,
            "bin_end": 1,
            "count": 1
           }
          ]
         }
        },
        {
         "name": "562",
         "dtype": "float64",
         "stats": {
          "unique_count": 93,
          "nan_count": 0,
          "min": "0.0030994953368404313",
          "max": "1.0",
          "histogram": [
           {
            "bin_start": 0.0030994953368404313,
            "bin_end": 0.10278954580315638,
            "count": 79
           },
           {
            "bin_start": 0.10278954580315638,
            "bin_end": 0.20247959626947235,
            "count": 12
           },
           {
            "bin_start": 0.20247959626947235,
            "bin_end": 0.30216964673578833,
            "count": 1
           },
           {
            "bin_start": 0.30216964673578833,
            "bin_end": 0.4018596972021043,
            "count": 0
           },
           {
            "bin_start": 0.4018596972021043,
            "bin_end": 0.5015497476684202,
            "count": 0
           },
           {
            "bin_start": 0.5015497476684202,
            "bin_end": 0.6012397981347362,
            "count": 0
           },
           {
            "bin_start": 0.6012397981347362,
            "bin_end": 0.7009298486010521,
            "count": 0
           },
           {
            "bin_start": 0.7009298486010521,
            "bin_end": 0.8006198990673681,
            "count": 0
           },
           {
            "bin_start": 0.8006198990673681,
            "bin_end": 0.900309949533684,
            "count": 0
           },
           {
            "bin_start": 0.900309949533684,
            "bin_end": 1,
            "count": 1
           }
          ]
         }
        },
        {
         "name": "563",
         "dtype": "float64",
         "stats": {
          "unique_count": 93,
          "nan_count": 0,
          "min": "0.00409013765851388",
          "max": "1.0",
          "histogram": [
           {
            "bin_start": 0.00409013765851388,
            "bin_end": 0.10368112389266249,
            "count": 80
           },
           {
            "bin_start": 0.10368112389266249,
            "bin_end": 0.2032721101268111,
            "count": 12
           },
           {
            "bin_start": 0.2032721101268111,
            "bin_end": 0.3028630963609597,
            "count": 0
           },
           {
            "bin_start": 0.3028630963609597,
            "bin_end": 0.40245408259510834,
            "count": 0
           },
           {
            "bin_start": 0.40245408259510834,
            "bin_end": 0.5020450688292569,
            "count": 0
           },
           {
            "bin_start": 0.5020450688292569,
            "bin_end": 0.6016360550634055,
            "count": 0
           },
           {
            "bin_start": 0.6016360550634055,
            "bin_end": 0.7012270412975541,
            "count": 0
           },
           {
            "bin_start": 0.7012270412975541,
            "bin_end": 0.8008180275317027,
            "count": 0
           },
           {
            "bin_start": 0.8008180275317027,
            "bin_end": 0.9004090137658514,
            "count": 0
           },
           {
            "bin_start": 0.9004090137658514,
            "bin_end": 1,
            "count": 1
           }
          ]
         }
        },
        {
         "name": "564",
         "dtype": "float64",
         "stats": {
          "unique_count": 93,
          "nan_count": 0,
          "min": "0.003569299280969471",
          "max": "1.0",
          "histogram": [
           {
            "bin_start": 0.003569299280969471,
            "bin_end": 0.10321236935287252,
            "count": 82
           },
           {
            "bin_start": 0.10321236935287252,
            "bin_end": 0.20285543942477557,
            "count": 10
           },
           {
            "bin_start": 0.20285543942477557,
            "bin_end": 0.30249850949667867,
            "count": 0
           },
           {
            "bin_start": 0.30249850949667867,
            "bin_end": 0.4021415795685817,
            "count": 0
           },
           {
            "bin_start": 0.4021415795685817,
            "bin_end": 0.5017846496404847,
            "count": 0
           },
           {
            "bin_start": 0.5017846496404847,
            "bin_end": 0.6014277197123878,
            "count": 0
           },
           {
            "bin_start": 0.6014277197123878,
            "bin_end": 0.7010707897842908,
            "count": 0
           },
           {
            "bin_start": 0.7010707897842908,
            "bin_end": 0.8007138598561939,
            "count": 0
           },
           {
            "bin_start": 0.8007138598561939,
            "bin_end": 0.900356929928097,
            "count": 0
           },
           {
            "bin_start": 0.900356929928097,
            "bin_end": 1,
            "count": 1
           }
          ]
         }
        },
        {
         "name": "565",
         "dtype": "float64",
         "stats": {
          "unique_count": 93,
          "nan_count": 0,
          "min": "0.004623201130886975",
          "max": "1.0",
          "histogram": [
           {
            "bin_start": 0.004623201130886975,
            "bin_end": 0.10416088101779827,
            "count": 86
           },
           {
            "bin_start": 0.10416088101779827,
            "bin_end": 0.20369856090470956,
            "count": 6
           },
           {
            "bin_start": 0.20369856090470956,
            "bin_end": 0.30323624079162087,
            "count": 0
           },
           {
            "bin_start": 0.30323624079162087,
            "bin_end": 0.4027739206785322,
            "count": 0
           },
           {
            "bin_start": 0.4027739206785322,
            "bin_end": 0.5023116005654434,
            "count": 0
           },
           {
            "bin_start": 0.5023116005654434,
            "bin_end": 0.6018492804523548,
            "count": 0
           },
           {
            "bin_start": 0.6018492804523548,
            "bin_end": 0.7013869603392661,
            "count": 0
           },
           {
            "bin_start": 0.7013869603392661,
            "bin_end": 0.8009246402261774,
            "count": 0
           },
           {
            "bin_start": 0.8009246402261774,
            "bin_end": 0.9004623201130887,
            "count": 0
           },
           {
            "bin_start": 0.9004623201130887,
            "bin_end": 1,
            "count": 1
           }
          ]
         }
        },
        {
         "name": "566",
         "dtype": "float64",
         "stats": {
          "unique_count": 93,
          "nan_count": 0,
          "min": "0.005757055265196646",
          "max": "1.0",
          "histogram": [
           {
            "bin_start": 0.005757055265196646,
            "bin_end": 0.10518134973867699,
            "count": 81
           },
           {
            "bin_start": 0.10518134973867699,
            "bin_end": 0.20460564421215732,
            "count": 11
           },
           {
            "bin_start": 0.20460564421215732,
            "bin_end": 0.30402993868563766,
            "count": 0
           },
           {
            "bin_start": 0.30402993868563766,
            "bin_end": 0.403454233159118,
            "count": 0
           },
           {
            "bin_start": 0.403454233159118,
            "bin_end": 0.5028785276325983,
            "count": 0
           },
           {
            "bin_start": 0.5028785276325983,
            "bin_end": 0.6023028221060787,
            "count": 0
           },
           {
            "bin_start": 0.6023028221060787,
            "bin_end": 0.701727116579559,
            "count": 0
           },
           {
            "bin_start": 0.701727116579559,
            "bin_end": 0.8011514110530393,
            "count": 0
           },
           {
            "bin_start": 0.8011514110530393,
            "bin_end": 0.9005757055265197,
            "count": 0
           },
           {
            "bin_start": 0.9005757055265197,
            "bin_end": 1,
            "count": 1
           }
          ]
         }
        },
        {
         "name": "567",
         "dtype": "float64",
         "stats": {
          "unique_count": 93,
          "nan_count": 0,
          "min": "0.004644787141993006",
          "max": "1.0",
          "histogram": [
           {
            "bin_start": 0.004644787141993006,
            "bin_end": 0.10418030842779372,
            "count": 80
           },
           {
            "bin_start": 0.10418030842779372,
            "bin_end": 0.20371582971359442,
            "count": 12
           },
           {
            "bin_start": 0.20371582971359442,
            "bin_end": 0.30325135099939515,
            "count": 0
           },
           {
            "bin_start": 0.30325135099939515,
            "bin_end": 0.40278687228519583,
            "count": 0
           },
           {
            "bin_start": 0.40278687228519583,
            "bin_end": 0.5023223935709965,
            "count": 0
           },
           {
            "bin_start": 0.5023223935709965,
            "bin_end": 0.6018579148567973,
            "count": 0
           },
           {
            "bin_start": 0.6018579148567973,
            "bin_end": 0.701393436142598,
            "count": 0
           },
           {
            "bin_start": 0.701393436142598,
            "bin_end": 0.8009289574283986,
            "count": 0
           },
           {
            "bin_start": 0.8009289574283986,
            "bin_end": 0.9004644787141993,
            "count": 0
           },
           {
            "bin_start": 0.9004644787141993,
            "bin_end": 1,
            "count": 1
           }
          ]
         }
        },
        {
         "name": "568",
         "dtype": "float64",
         "stats": {
          "unique_count": 93,
          "nan_count": 0,
          "min": "0.004028953207406942",
          "max": "1.0",
          "histogram": [
           {
            "bin_start": 0.004028953207406942,
            "bin_end": 0.10362605788666625,
            "count": 78
           },
           {
            "bin_start": 0.10362605788666625,
            "bin_end": 0.20322316256592557,
            "count": 8
           },
           {
            "bin_start": 0.20322316256592557,
            "bin_end": 0.30282026724518485,
            "count": 5
           },
           {
            "bin_start": 0.30282026724518485,
            "bin_end": 0.40241737192444416,
            "count": 1
           },
           {
            "bin_start": 0.40241737192444416,
            "bin_end": 0.5020144766037035,
            "count": 0
           },
           {
            "bin_start": 0.5020144766037035,
            "bin_end": 0.6016115812829628,
            "count": 0
           },
           {
            "bin_start": 0.6016115812829628,
            "bin_end": 0.7012086859622221,
            "count": 0
           },
           {
            "bin_start": 0.7012086859622221,
            "bin_end": 0.8008057906414814,
            "count": 0
           },
           {
            "bin_start": 0.8008057906414814,
            "bin_end": 0.9004028953207407,
            "count": 0
           },
           {
            "bin_start": 0.9004028953207407,
            "bin_end": 1,
            "count": 1
           }
          ]
         }
        },
        {
         "name": "569",
         "dtype": "float64",
         "stats": {
          "unique_count": 93,
          "nan_count": 0,
          "min": "0.0036109323264551523",
          "max": "1.0",
          "histogram": [
           {
            "bin_start": 0.0036109323264551523,
            "bin_end": 0.10324983909380964,
            "count": 78
           },
           {
            "bin_start": 0.10324983909380964,
            "bin_end": 0.20288874586116412,
            "count": 8
           },
           {
            "bin_start": 0.20288874586116412,
            "bin_end": 0.3025276526285186,
            "count": 5
           },
           {
            "bin_start": 0.3025276526285186,
            "bin_end": 0.4021665593958731,
            "count": 1
           },
           {
            "bin_start": 0.4021665593958731,
            "bin_end": 0.5018054661632276,
            "count": 0
           },
           {
            "bin_start": 0.5018054661632276,
            "bin_end": 0.6014443729305821,
            "count": 0
           },
           {
            "bin_start": 0.6014443729305821,
            "bin_end": 0.7010832796979366,
            "count": 0
           },
           {
            "bin_start": 0.7010832796979366,
            "bin_end": 0.800722186465291,
            "count": 0
           },
           {
            "bin_start": 0.800722186465291,
            "bin_end": 0.9003610932326455,
            "count": 0
           },
           {
            "bin_start": 0.9003610932326455,
            "bin_end": 1,
            "count": 1
           }
          ]
         }
        },
        {
         "name": "570",
         "dtype": "float64",
         "stats": {
          "unique_count": 93,
          "nan_count": 0,
          "min": "0.0038186607011517714",
          "max": "1.0",
          "histogram": [
           {
            "bin_start": 0.0038186607011517714,
            "bin_end": 0.1034367946310366,
            "count": 77
           },
           {
            "bin_start": 0.1034367946310366,
            "bin_end": 0.20305492856092142,
            "count": 12
           },
           {
            "bin_start": 0.20305492856092142,
            "bin_end": 0.3026730624908062,
            "count": 3
           },
           {
            "bin_start": 0.3026730624908062,
            "bin_end": 0.40229119642069106,
            "count": 0
           },
           {
            "bin_start": 0.40229119642069106,
            "bin_end": 0.5019093303505758,
            "count": 0
           },
           {
            "bin_start": 0.5019093303505758,
            "bin_end": 0.6015274642804607,
            "count": 0
           },
           {
            "bin_start": 0.6015274642804607,
            "bin_end": 0.7011455982103455,
            "count": 0
           },
           {
            "bin_start": 0.7011455982103455,
            "bin_end": 0.8007637321402303,
            "count": 0
           },
           {
            "bin_start": 0.8007637321402303,
            "bin_end": 0.9003818660701152,
            "count": 0
           },
           {
            "bin_start": 0.9003818660701152,
            "bin_end": 1,
            "count": 1
           }
          ]
         }
        },
        {
         "name": "571",
         "dtype": "float64",
         "stats": {
          "unique_count": 93,
          "nan_count": 0,
          "min": "0.00427639462347585",
          "max": "1.0",
          "histogram": [
           {
            "bin_start": 0.00427639462347585,
            "bin_end": 0.10384875516112826,
            "count": 90
           },
           {
            "bin_start": 0.10384875516112826,
            "bin_end": 0.20342111569878069,
            "count": 2
           },
           {
            "bin_start": 0.20342111569878069,
            "bin_end": 0.30299347623643313,
            "count": 0
           },
           {
            "bin_start": 0.30299347623643313,
            "bin_end": 0.40256583677408553,
            "count": 0
           },
           {
            "bin_start": 0.40256583677408553,
            "bin_end": 0.5021381973117379,
            "count": 0
           },
           {
            "bin_start": 0.5021381973117379,
            "bin_end": 0.6017105578493904,
            "count": 0
           },
           {
            "bin_start": 0.6017105578493904,
            "bin_end": 0.7012829183870428,
            "count": 0
           },
           {
            "bin_start": 0.7012829183870428,
            "bin_end": 0.8008552789246952,
            "count": 0
           },
           {
            "bin_start": 0.8008552789246952,
            "bin_end": 0.9004276394623476,
            "count": 0
           },
           {
            "bin_start": 0.9004276394623476,
            "bin_end": 1,
            "count": 1
           }
          ]
         }
        },
        {
         "name": "572",
         "dtype": "float64",
         "stats": {
          "unique_count": 93,
          "nan_count": 0,
          "min": "0.004409653491227924",
          "max": "1.0",
          "histogram": [
           {
            "bin_start": 0.004409653491227924,
            "bin_end": 0.10396868814210512,
            "count": 79
           },
           {
            "bin_start": 0.10396868814210512,
            "bin_end": 0.20352772279298234,
            "count": 9
           },
           {
            "bin_start": 0.20352772279298234,
            "bin_end": 0.3030867574438595,
            "count": 4
           },
           {
            "bin_start": 0.3030867574438595,
            "bin_end": 0.4026457920947367,
            "count": 0
           },
           {
            "bin_start": 0.4026457920947367,
            "bin_end": 0.502204826745614,
            "count": 0
           },
           {
            "bin_start": 0.502204826745614,
            "bin_end": 0.6017638613964911,
            "count": 0
           },
           {
            "bin_start": 0.6017638613964911,
            "bin_end": 0.7013228960473683,
            "count": 0
           },
           {
            "bin_start": 0.7013228960473683,
            "bin_end": 0.8008819306982455,
            "count": 0
           },
           {
            "bin_start": 0.8008819306982455,
            "bin_end": 0.9004409653491228,
            "count": 0
           },
           {
            "bin_start": 0.9004409653491228,
            "bin_end": 1,
            "count": 1
           }
          ]
         }
        },
        {
         "name": "573",
         "dtype": "float64",
         "stats": {
          "unique_count": 93,
          "nan_count": 0,
          "min": "0.003548369244469919",
          "max": "1.0",
          "histogram": [
           {
            "bin_start": 0.003548369244469919,
            "bin_end": 0.10319353232002293,
            "count": 75
           },
           {
            "bin_start": 0.10319353232002293,
            "bin_end": 0.20283869539557595,
            "count": 13
           },
           {
            "bin_start": 0.20283869539557595,
            "bin_end": 0.30248385847112896,
            "count": 3
           },
           {
            "bin_start": 0.30248385847112896,
            "bin_end": 0.402129021546682,
            "count": 1
           },
           {
            "bin_start": 0.402129021546682,
            "bin_end": 0.501774184622235,
            "count": 0
           },
           {
            "bin_start": 0.501774184622235,
            "bin_end": 0.6014193476977879,
            "count": 0
           },
           {
            "bin_start": 0.6014193476977879,
            "bin_end": 0.701064510773341,
            "count": 0
           },
           {
            "bin_start": 0.701064510773341,
            "bin_end": 0.800709673848894,
            "count": 0
           },
           {
            "bin_start": 0.800709673848894,
            "bin_end": 0.9003548369244471,
            "count": 0
           },
           {
            "bin_start": 0.9003548369244471,
            "bin_end": 1,
            "count": 1
           }
          ]
         }
        },
        {
         "name": "574",
         "dtype": "float64",
         "stats": {
          "unique_count": 93,
          "nan_count": 0,
          "min": "0.0050449435537157005",
          "max": "1.0",
          "histogram": [
           {
            "bin_start": 0.0050449435537157005,
            "bin_end": 0.10454044919834413,
            "count": 82
           },
           {
            "bin_start": 0.10454044919834413,
            "bin_end": 0.20403595484297257,
            "count": 8
           },
           {
            "bin_start": 0.20403595484297257,
            "bin_end": 0.303531460487601,
            "count": 1
           },
           {
            "bin_start": 0.303531460487601,
            "bin_end": 0.40302696613222944,
            "count": 1
           },
           {
            "bin_start": 0.40302696613222944,
            "bin_end": 0.5025224717768578,
            "count": 0
           },
           {
            "bin_start": 0.5025224717768578,
            "bin_end": 0.6020179774214862,
            "count": 0
           },
           {
            "bin_start": 0.6020179774214862,
            "bin_end": 0.7015134830661147,
            "count": 0
           },
           {
            "bin_start": 0.7015134830661147,
            "bin_end": 0.8010089887107431,
            "count": 0
           },
           {
            "bin_start": 0.8010089887107431,
            "bin_end": 0.9005044943553715,
            "count": 0
           },
           {
            "bin_start": 0.9005044943553715,
            "bin_end": 1,
            "count": 1
           }
          ]
         }
        },
        {
         "name": "575",
         "dtype": "float64",
         "stats": {
          "unique_count": 93,
          "nan_count": 0,
          "min": "0.0043065536818042",
          "max": "1.0",
          "histogram": [
           {
            "bin_start": 0.0043065536818042,
            "bin_end": 0.10387589831362377,
            "count": 80
           },
           {
            "bin_start": 0.10387589831362377,
            "bin_end": 0.20344524294544333,
            "count": 10
           },
           {
            "bin_start": 0.20344524294544333,
            "bin_end": 0.30301458757726296,
            "count": 2
           },
           {
            "bin_start": 0.30301458757726296,
            "bin_end": 0.4025839322090825,
            "count": 0
           },
           {
            "bin_start": 0.4025839322090825,
            "bin_end": 0.502153276840902,
            "count": 0
           },
           {
            "bin_start": 0.502153276840902,
            "bin_end": 0.6017226214727217,
            "count": 0
           },
           {
            "bin_start": 0.6017226214727217,
            "bin_end": 0.7012919661045413,
            "count": 0
           },
           {
            "bin_start": 0.7012919661045413,
            "bin_end": 0.8008613107363608,
            "count": 0
           },
           {
            "bin_start": 0.8008613107363608,
            "bin_end": 0.9004306553681803,
            "count": 0
           },
           {
            "bin_start": 0.9004306553681803,
            "bin_end": 1,
            "count": 1
           }
          ]
         }
        },
        {
         "name": "576",
         "dtype": "float64",
         "stats": {
          "unique_count": 93,
          "nan_count": 0,
          "min": "0.0033811125920514516",
          "max": "1.0",
          "histogram": [
           {
            "bin_start": 0.0033811125920514516,
            "bin_end": 0.10304300133284632,
            "count": 91
           },
           {
            "bin_start": 0.10304300133284632,
            "bin_end": 0.20270489007364118,
            "count": 1
           },
           {
            "bin_start": 0.20270489007364118,
            "bin_end": 0.302366778814436,
            "count": 0
           },
           {
            "bin_start": 0.302366778814436,
            "bin_end": 0.40202866755523087,
            "count": 0
           },
           {
            "bin_start": 0.40202866755523087,
            "bin_end": 0.5016905562960258,
            "count": 0
           },
           {
            "bin_start": 0.5016905562960258,
            "bin_end": 0.6013524450368206,
            "count": 0
           },
           {
            "bin_start": 0.6013524450368206,
            "bin_end": 0.7010143337776155,
            "count": 0
           },
           {
            "bin_start": 0.7010143337776155,
            "bin_end": 0.8006762225184103,
            "count": 0
           },
           {
            "bin_start": 0.8006762225184103,
            "bin_end": 0.9003381112592052,
            "count": 0
           },
           {
            "bin_start": 0.9003381112592052,
            "bin_end": 1,
            "count": 1
           }
          ]
         }
        },
        {
         "name": "577",
         "dtype": "float64",
         "stats": {
          "unique_count": 93,
          "nan_count": 0,
          "min": "0.005303742497695153",
          "max": "1.0",
          "histogram": [
           {
            "bin_start": 0.005303742497695153,
            "bin_end": 0.10477336824792563,
            "count": 76
           },
           {
            "bin_start": 0.10477336824792563,
            "bin_end": 0.20424299399815612,
            "count": 13
           },
           {
            "bin_start": 0.20424299399815612,
            "bin_end": 0.3037126197483866,
            "count": 3
           },
           {
            "bin_start": 0.3037126197483866,
            "bin_end": 0.4031822454986171,
            "count": 0
           },
           {
            "bin_start": 0.4031822454986171,
            "bin_end": 0.5026518712488476,
            "count": 0
           },
           {
            "bin_start": 0.5026518712488476,
            "bin_end": 0.602121496999078,
            "count": 0
           },
           {
            "bin_start": 0.602121496999078,
            "bin_end": 0.7015911227493086,
            "count": 0
           },
           {
            "bin_start": 0.7015911227493086,
            "bin_end": 0.801060748499539,
            "count": 0
           },
           {
            "bin_start": 0.801060748499539,
            "bin_end": 0.9005303742497694,
            "count": 0
           },
           {
            "bin_start": 0.9005303742497694,
            "bin_end": 1,
            "count": 1
           }
          ]
         }
        },
        {
         "name": "578",
         "dtype": "float64",
         "stats": {
          "unique_count": 93,
          "nan_count": 0,
          "min": "0.0012361000976789786",
          "max": "1.0",
          "histogram": [
           {
            "bin_start": 0.0012361000976789786,
            "bin_end": 0.10111249008791108,
            "count": 91
           },
           {
            "bin_start": 0.10111249008791108,
            "bin_end": 0.20098888007814317,
            "count": 1
           },
           {
            "bin_start": 0.20098888007814317,
            "bin_end": 0.3008652700683753,
            "count": 0
           },
           {
            "bin_start": 0.3008652700683753,
            "bin_end": 0.4007416600586074,
            "count": 0
           },
           {
            "bin_start": 0.4007416600586074,
            "bin_end": 0.5006180500488394,
            "count": 0
           },
           {
            "bin_start": 0.5006180500488394,
            "bin_end": 0.6004944400390716,
            "count": 0
           },
           {
            "bin_start": 0.6004944400390716,
            "bin_end": 0.7003708300293037,
            "count": 0
           },
           {
            "bin_start": 0.7003708300293037,
            "bin_end": 0.8002472200195357,
            "count": 0
           },
           {
            "bin_start": 0.8002472200195357,
            "bin_end": 0.9001236100097678,
            "count": 0
           },
           {
            "bin_start": 0.9001236100097678,
            "bin_end": 1,
            "count": 1
           }
          ]
         }
        },
        {
         "name": "579",
         "dtype": "float64",
         "stats": {
          "unique_count": 93,
          "nan_count": 0,
          "min": "0.003774472871517787",
          "max": "1.0",
          "histogram": [
           {
            "bin_start": 0.003774472871517787,
            "bin_end": 0.10339702558436602,
            "count": 91
           },
           {
            "bin_start": 0.10339702558436602,
            "bin_end": 0.20301957829721423,
            "count": 1
           },
           {
            "bin_start": 0.20301957829721423,
            "bin_end": 0.30264213101006243,
            "count": 0
           },
           {
            "bin_start": 0.30264213101006243,
            "bin_end": 0.4022646837229107,
            "count": 0
           },
           {
            "bin_start": 0.4022646837229107,
            "bin_end": 0.5018872364357589,
            "count": 0
           },
           {
            "bin_start": 0.5018872364357589,
            "bin_end": 0.6015097891486071,
            "count": 0
           },
           {
            "bin_start": 0.6015097891486071,
            "bin_end": 0.7011323418614553,
            "count": 0
           },
           {
            "bin_start": 0.7011323418614553,
            "bin_end": 0.8007548945743036,
            "count": 0
           },
           {
            "bin_start": 0.8007548945743036,
            "bin_end": 0.9003774472871519,
            "count": 0
           },
           {
            "bin_start": 0.9003774472871519,
            "bin_end": 1,
            "count": 1
           }
          ]
         }
        },
        {
         "name": "580",
         "dtype": "float64",
         "stats": {
          "unique_count": 93,
          "nan_count": 0,
          "min": "0.0017221977180387291",
          "max": "1.0",
          "histogram": [
           {
            "bin_start": 0.0017221977180387291,
            "bin_end": 0.10154997794623487,
            "count": 92
           },
           {
            "bin_start": 0.10154997794623487,
            "bin_end": 0.201377758174431,
            "count": 0
           },
           {
            "bin_start": 0.201377758174431,
            "bin_end": 0.3012055384026271,
            "count": 0
           },
           {
            "bin_start": 0.3012055384026271,
            "bin_end": 0.40103331863082325,
            "count": 0
           },
           {
            "bin_start": 0.40103331863082325,
            "bin_end": 0.5008610988590194,
            "count": 0
           },
           {
            "bin_start": 0.5008610988590194,
            "bin_end": 0.6006888790872155,
            "count": 0
           },
           {
            "bin_start": 0.6006888790872155,
            "bin_end": 0.7005166593154116,
            "count": 0
           },
           {
            "bin_start": 0.7005166593154116,
            "bin_end": 0.8003444395436078,
            "count": 0
           },
           {
            "bin_start": 0.8003444395436078,
            "bin_end": 0.900172219771804,
            "count": 0
           },
           {
            "bin_start": 0.900172219771804,
            "bin_end": 1,
            "count": 1
           }
          ]
         }
        },
        {
         "name": "581",
         "dtype": "float64",
         "stats": {
          "unique_count": 93,
          "nan_count": 0,
          "min": "0.0030361880000788293",
          "max": "1.0",
          "histogram": [
           {
            "bin_start": 0.0030361880000788293,
            "bin_end": 0.10273256920007094,
            "count": 91
           },
           {
            "bin_start": 0.10273256920007094,
            "bin_end": 0.20242895040006303,
            "count": 1
           },
           {
            "bin_start": 0.20242895040006303,
            "bin_end": 0.3021253316000551,
            "count": 0
           },
           {
            "bin_start": 0.3021253316000551,
            "bin_end": 0.40182171280004725,
            "count": 0
           },
           {
            "bin_start": 0.40182171280004725,
            "bin_end": 0.5015180940000394,
            "count": 0
           },
           {
            "bin_start": 0.5015180940000394,
            "bin_end": 0.6012144752000315,
            "count": 0
           },
           {
            "bin_start": 0.6012144752000315,
            "bin_end": 0.7009108564000236,
            "count": 0
           },
           {
            "bin_start": 0.7009108564000236,
            "bin_end": 0.8006072376000157,
            "count": 0
           },
           {
            "bin_start": 0.8006072376000157,
            "bin_end": 0.9003036188000079,
            "count": 0
           },
           {
            "bin_start": 0.9003036188000079,
            "bin_end": 1,
            "count": 1
           }
          ]
         }
        },
        {
         "name": "582",
         "dtype": "float64",
         "stats": {
          "unique_count": 93,
          "nan_count": 0,
          "min": "0.001438115541678527",
          "max": "1.0",
          "histogram": [
           {
            "bin_start": 0.001438115541678527,
            "bin_end": 0.10129430398751067,
            "count": 92
           },
           {
            "bin_start": 0.10129430398751067,
            "bin_end": 0.20115049243334282,
            "count": 0
           },
           {
            "bin_start": 0.20115049243334282,
            "bin_end": 0.301006680879175,
            "count": 0
           },
           {
            "bin_start": 0.301006680879175,
            "bin_end": 0.40086286932500714,
            "count": 0
           },
           {
            "bin_start": 0.40086286932500714,
            "bin_end": 0.5007190577708392,
            "count": 0
           },
           {
            "bin_start": 0.5007190577708392,
            "bin_end": 0.6005752462166714,
            "count": 0
           },
           {
            "bin_start": 0.6005752462166714,
            "bin_end": 0.7004314346625036,
            "count": 0
           },
           {
            "bin_start": 0.7004314346625036,
            "bin_end": 0.8002876231083357,
            "count": 0
           },
           {
            "bin_start": 0.8002876231083357,
            "bin_end": 0.9001438115541678,
            "count": 0
           },
           {
            "bin_start": 0.9001438115541678,
            "bin_end": 1,
            "count": 1
           }
          ]
         }
        },
        {
         "name": "583",
         "dtype": "float64",
         "stats": {
          "unique_count": 93,
          "nan_count": 0,
          "min": "0.0035042097759344485",
          "max": "1.0",
          "histogram": [
           {
            "bin_start": 0.0035042097759344485,
            "bin_end": 0.103153788798341,
            "count": 91
           },
           {
            "bin_start": 0.103153788798341,
            "bin_end": 0.20280336782074754,
            "count": 1
           },
           {
            "bin_start": 0.20280336782074754,
            "bin_end": 0.3024529468431541,
            "count": 0
           },
           {
            "bin_start": 0.3024529468431541,
            "bin_end": 0.40210252586556067,
            "count": 0
           },
           {
            "bin_start": 0.40210252586556067,
            "bin_end": 0.5017521048879672,
            "count": 0
           },
           {
            "bin_start": 0.5017521048879672,
            "bin_end": 0.6014016839103737,
            "count": 0
           },
           {
            "bin_start": 0.6014016839103737,
            "bin_end": 0.7010512629327803,
            "count": 0
           },
           {
            "bin_start": 0.7010512629327803,
            "bin_end": 0.8007008419551869,
            "count": 0
           },
           {
            "bin_start": 0.8007008419551869,
            "bin_end": 0.9003504209775934,
            "count": 0
           },
           {
            "bin_start": 0.9003504209775934,
            "bin_end": 1,
            "count": 1
           }
          ]
         }
        },
        {
         "name": "584",
         "dtype": "float64",
         "stats": {
          "unique_count": 93,
          "nan_count": 0,
          "min": "0.003910740723767501",
          "max": "1.0",
          "histogram": [
           {
            "bin_start": 0.003910740723767501,
            "bin_end": 0.10351966665139074,
            "count": 90
           },
           {
            "bin_start": 0.10351966665139074,
            "bin_end": 0.203128592579014,
            "count": 2
           },
           {
            "bin_start": 0.203128592579014,
            "bin_end": 0.3027375185066372,
            "count": 0
           },
           {
            "bin_start": 0.3027375185066372,
            "bin_end": 0.4023464444342605,
            "count": 0
           },
           {
            "bin_start": 0.4023464444342605,
            "bin_end": 0.5019553703618838,
            "count": 0
           },
           {
            "bin_start": 0.5019553703618838,
            "bin_end": 0.6015642962895069,
            "count": 0
           },
           {
            "bin_start": 0.6015642962895069,
            "bin_end": 0.7011732222171302,
            "count": 0
           },
           {
            "bin_start": 0.7011732222171302,
            "bin_end": 0.8007821481447535,
            "count": 0
           },
           {
            "bin_start": 0.8007821481447535,
            "bin_end": 0.9003910740723767,
            "count": 0
           },
           {
            "bin_start": 0.9003910740723767,
            "bin_end": 1,
            "count": 1
           }
          ]
         }
        },
        {
         "name": "585",
         "dtype": "float64",
         "stats": {
          "unique_count": 93,
          "nan_count": 0,
          "min": "0.002883457927748071",
          "max": "1.0",
          "histogram": [
           {
            "bin_start": 0.002883457927748071,
            "bin_end": 0.10259511213497326,
            "count": 90
           },
           {
            "bin_start": 0.10259511213497326,
            "bin_end": 0.20230676634219846,
            "count": 2
           },
           {
            "bin_start": 0.20230676634219846,
            "bin_end": 0.3020184205494237,
            "count": 0
           },
           {
            "bin_start": 0.3020184205494237,
            "bin_end": 0.40173007475664885,
            "count": 0
           },
           {
            "bin_start": 0.40173007475664885,
            "bin_end": 0.501441728963874,
            "count": 0
           },
           {
            "bin_start": 0.501441728963874,
            "bin_end": 0.6011533831710992,
            "count": 0
           },
           {
            "bin_start": 0.6011533831710992,
            "bin_end": 0.7008650373783244,
            "count": 0
           },
           {
            "bin_start": 0.7008650373783244,
            "bin_end": 0.8005766915855496,
            "count": 0
           },
           {
            "bin_start": 0.8005766915855496,
            "bin_end": 0.9002883457927747,
            "count": 0
           },
           {
            "bin_start": 0.9002883457927747,
            "bin_end": 1,
            "count": 1
           }
          ]
         }
        },
        {
         "name": "586",
         "dtype": "float64",
         "stats": {
          "unique_count": 93,
          "nan_count": 0,
          "min": "0.0028560036536106003",
          "max": "1.0",
          "histogram": [
           {
            "bin_start": 0.0028560036536106003,
            "bin_end": 0.10257040328824954,
            "count": 89
           },
           {
            "bin_start": 0.10257040328824954,
            "bin_end": 0.20228480292288847,
            "count": 3
           },
           {
            "bin_start": 0.20228480292288847,
            "bin_end": 0.30199920255752744,
            "count": 0
           },
           {
            "bin_start": 0.30199920255752744,
            "bin_end": 0.40171360219216634,
            "count": 0
           },
           {
            "bin_start": 0.40171360219216634,
            "bin_end": 0.5014280018268052,
            "count": 0
           },
           {
            "bin_start": 0.5014280018268052,
            "bin_end": 0.6011424014614443,
            "count": 0
           },
           {
            "bin_start": 0.6011424014614443,
            "bin_end": 0.7008568010960832,
            "count": 0
           },
           {
            "bin_start": 0.7008568010960832,
            "bin_end": 0.8005712007307221,
            "count": 0
           },
           {
            "bin_start": 0.8005712007307221,
            "bin_end": 0.900285600365361,
            "count": 0
           },
           {
            "bin_start": 0.900285600365361,
            "bin_end": 1,
            "count": 1
           }
          ]
         }
        },
        {
         "name": "587",
         "dtype": "float64",
         "stats": {
          "unique_count": 93,
          "nan_count": 0,
          "min": "0.0034745980335312847",
          "max": "1.0",
          "histogram": [
           {
            "bin_start": 0.0034745980335312847,
            "bin_end": 0.10312713823017815,
            "count": 92
           },
           {
            "bin_start": 0.10312713823017815,
            "bin_end": 0.202779678426825,
            "count": 0
           },
           {
            "bin_start": 0.202779678426825,
            "bin_end": 0.30243221862347186,
            "count": 0
           },
           {
            "bin_start": 0.30243221862347186,
            "bin_end": 0.40208475882011874,
            "count": 0
           },
           {
            "bin_start": 0.40208475882011874,
            "bin_end": 0.5017372990167657,
            "count": 0
           },
           {
            "bin_start": 0.5017372990167657,
            "bin_end": 0.6013898392134125,
            "count": 0
           },
           {
            "bin_start": 0.6013898392134125,
            "bin_end": 0.7010423794100594,
            "count": 0
           },
           {
            "bin_start": 0.7010423794100594,
            "bin_end": 0.8006949196067062,
            "count": 0
           },
           {
            "bin_start": 0.8006949196067062,
            "bin_end": 0.9003474598033531,
            "count": 0
           },
           {
            "bin_start": 0.9003474598033531,
            "bin_end": 1,
            "count": 1
           }
          ]
         }
        },
        {
         "name": "588",
         "dtype": "float64",
         "stats": {
          "unique_count": 93,
          "nan_count": 0,
          "min": "0.00436708919859907",
          "max": "1.0",
          "histogram": [
           {
            "bin_start": 0.00436708919859907,
            "bin_end": 0.10393038027873916,
            "count": 92
           },
           {
            "bin_start": 0.10393038027873916,
            "bin_end": 0.20349367135887925,
            "count": 0
           },
           {
            "bin_start": 0.20349367135887925,
            "bin_end": 0.30305696243901936,
            "count": 0
           },
           {
            "bin_start": 0.30305696243901936,
            "bin_end": 0.4026202535191594,
            "count": 0
           },
           {
            "bin_start": 0.4026202535191594,
            "bin_end": 0.5021835445992995,
            "count": 0
           },
           {
            "bin_start": 0.5021835445992995,
            "bin_end": 0.6017468356794397,
            "count": 0
           },
           {
            "bin_start": 0.6017468356794397,
            "bin_end": 0.7013101267595797,
            "count": 0
           },
           {
            "bin_start": 0.7013101267595797,
            "bin_end": 0.8008734178397198,
            "count": 0
           },
           {
            "bin_start": 0.8008734178397198,
            "bin_end": 0.9004367089198598,
            "count": 0
           },
           {
            "bin_start": 0.9004367089198598,
            "bin_end": 1,
            "count": 1
           }
          ]
         }
        },
        {
         "name": "589",
         "dtype": "float64",
         "stats": {
          "unique_count": 93,
          "nan_count": 0,
          "min": "0.003433232345653042",
          "max": "1.0",
          "histogram": [
           {
            "bin_start": 0.003433232345653042,
            "bin_end": 0.10308990911108773,
            "count": 91
           },
           {
            "bin_start": 0.10308990911108773,
            "bin_end": 0.20274658587652242,
            "count": 1
           },
           {
            "bin_start": 0.20274658587652242,
            "bin_end": 0.3024032626419571,
            "count": 0
           },
           {
            "bin_start": 0.3024032626419571,
            "bin_end": 0.40205993940739176,
            "count": 0
           },
           {
            "bin_start": 0.40205993940739176,
            "bin_end": 0.5017166161728265,
            "count": 0
           },
           {
            "bin_start": 0.5017166161728265,
            "bin_end": 0.6013732929382613,
            "count": 0
           },
           {
            "bin_start": 0.6013732929382613,
            "bin_end": 0.7010299697036959,
            "count": 0
           },
           {
            "bin_start": 0.7010299697036959,
            "bin_end": 0.8006866464691306,
            "count": 0
           },
           {
            "bin_start": 0.8006866464691306,
            "bin_end": 0.9003433232345652,
            "count": 0
           },
           {
            "bin_start": 0.9003433232345652,
            "bin_end": 1,
            "count": 1
           }
          ]
         }
        },
        {
         "name": "6",
         "dtype": "float64",
         "stats": {
          "unique_count": 93,
          "nan_count": 0,
          "min": "0.0015690186823112998",
          "max": "1.0",
          "histogram": [
           {
            "bin_start": 0.0015690186823112998,
            "bin_end": 0.10141211681408016,
            "count": 90
           },
           {
            "bin_start": 0.10141211681408016,
            "bin_end": 0.20125521494584903,
            "count": 2
           },
           {
            "bin_start": 0.20125521494584903,
            "bin_end": 0.3010983130776179,
            "count": 0
           },
           {
            "bin_start": 0.3010983130776179,
            "bin_end": 0.40094141120938676,
            "count": 0
           },
           {
            "bin_start": 0.40094141120938676,
            "bin_end": 0.5007845093411556,
            "count": 0
           },
           {
            "bin_start": 0.5007845093411556,
            "bin_end": 0.6006276074729245,
            "count": 0
           },
           {
            "bin_start": 0.6006276074729245,
            "bin_end": 0.7004707056046934,
            "count": 0
           },
           {
            "bin_start": 0.7004707056046934,
            "bin_end": 0.8003138037364622,
            "count": 0
           },
           {
            "bin_start": 0.8003138037364622,
            "bin_end": 0.900156901868231,
            "count": 0
           },
           {
            "bin_start": 0.900156901868231,
            "bin_end": 1,
            "count": 1
           }
          ]
         }
        },
        {
         "name": "7",
         "dtype": "float64",
         "stats": {
          "unique_count": 93,
          "nan_count": 0,
          "min": "0.0035466385536497944",
          "max": "1.0",
          "histogram": [
           {
            "bin_start": 0.0035466385536497944,
            "bin_end": 0.10319197469828482,
            "count": 92
           },
           {
            "bin_start": 0.10319197469828482,
            "bin_end": 0.20283731084291984,
            "count": 0
           },
           {
            "bin_start": 0.20283731084291984,
            "bin_end": 0.3024826469875549,
            "count": 0
           },
           {
            "bin_start": 0.3024826469875549,
            "bin_end": 0.4021279831321899,
            "count": 0
           },
           {
            "bin_start": 0.4021279831321899,
            "bin_end": 0.5017733192768249,
            "count": 0
           },
           {
            "bin_start": 0.5017733192768249,
            "bin_end": 0.60141865542146,
            "count": 0
           },
           {
            "bin_start": 0.60141865542146,
            "bin_end": 0.701063991566095,
            "count": 0
           },
           {
            "bin_start": 0.701063991566095,
            "bin_end": 0.80070932771073,
            "count": 0
           },
           {
            "bin_start": 0.80070932771073,
            "bin_end": 0.900354663855365,
            "count": 0
           },
           {
            "bin_start": 0.900354663855365,
            "bin_end": 1,
            "count": 1
           }
          ]
         }
        },
        {
         "name": "8",
         "dtype": "float64",
         "stats": {
          "unique_count": 93,
          "nan_count": 0,
          "min": "0.002883457927748071",
          "max": "1.0",
          "histogram": [
           {
            "bin_start": 0.002883457927748071,
            "bin_end": 0.10259511213497326,
            "count": 88
           },
           {
            "bin_start": 0.10259511213497326,
            "bin_end": 0.20230676634219846,
            "count": 4
           },
           {
            "bin_start": 0.20230676634219846,
            "bin_end": 0.3020184205494237,
            "count": 0
           },
           {
            "bin_start": 0.3020184205494237,
            "bin_end": 0.40173007475664885,
            "count": 0
           },
           {
            "bin_start": 0.40173007475664885,
            "bin_end": 0.501441728963874,
            "count": 0
           },
           {
            "bin_start": 0.501441728963874,
            "bin_end": 0.6011533831710992,
            "count": 0
           },
           {
            "bin_start": 0.6011533831710992,
            "bin_end": 0.7008650373783244,
            "count": 0
           },
           {
            "bin_start": 0.7008650373783244,
            "bin_end": 0.8005766915855496,
            "count": 0
           },
           {
            "bin_start": 0.8005766915855496,
            "bin_end": 0.9002883457927747,
            "count": 0
           },
           {
            "bin_start": 0.9002883457927747,
            "bin_end": 1,
            "count": 1
           }
          ]
         }
        },
        {
         "name": "9",
         "dtype": "float64",
         "stats": {
          "unique_count": 93,
          "nan_count": 0,
          "min": "0.001438115541678527",
          "max": "1.0",
          "histogram": [
           {
            "bin_start": 0.001438115541678527,
            "bin_end": 0.10129430398751067,
            "count": 92
           },
           {
            "bin_start": 0.10129430398751067,
            "bin_end": 0.20115049243334282,
            "count": 0
           },
           {
            "bin_start": 0.20115049243334282,
            "bin_end": 0.301006680879175,
            "count": 0
           },
           {
            "bin_start": 0.301006680879175,
            "bin_end": 0.40086286932500714,
            "count": 0
           },
           {
            "bin_start": 0.40086286932500714,
            "bin_end": 0.5007190577708392,
            "count": 0
           },
           {
            "bin_start": 0.5007190577708392,
            "bin_end": 0.6005752462166714,
            "count": 0
           },
           {
            "bin_start": 0.6005752462166714,
            "bin_end": 0.7004314346625036,
            "count": 0
           },
           {
            "bin_start": 0.7004314346625036,
            "bin_end": 0.8002876231083357,
            "count": 0
           },
           {
            "bin_start": 0.8002876231083357,
            "bin_end": 0.9001438115541678,
            "count": 0
           },
           {
            "bin_start": 0.9001438115541678,
            "bin_end": 1,
            "count": 1
           }
          ]
         }
        },
        {
         "name": "_deepnote_index_column",
         "dtype": "object"
        }
       ],
       "rows_top": [
        {
         "1": 1,
         "2": 0.07317804494996981,
         "3": 0.06403561425186778,
         "4": 0.04017021851795791,
         "5": 0.030711644678471987,
         "6": 0.0402572469610615,
         "7": 0.044758579985952306,
         "8": 0.06141792013124885,
         "9": 0.08031831243255778,
         "10": 0.020167142902791882,
         "11": 0.07874330203777925,
         "12": 0.05611164375374482,
         "13": 0.024665860653058192,
         "14": 0.060019247442343805,
         "15": 0.012832261790223318,
         "16": 0.1535071056228434,
         "17": 0.02243586835149347,
         "18": 0.04174523707017444,
         "19": 0.13901211161250743,
         "20": 0.02256959649568993,
         "21": 0.013990919812185367,
         "22": 0.02408075046576279,
         "23": 0.028148917006620554,
         "24": 0.023389613162249412,
         "25": 0.08368361453702568,
         "26": 0.0497277714472252,
         "27": 0.03625342465970212,
         "28": 0.09443334113804372,
         "29": 0.020837517895094117,
         "30": 0.021881053257462243,
         "31": 0.018363681825186683,
         "249": 0.038966079516140985,
         "250": 0.03532709373510687,
         "251": 0.056099601743761364,
         "252": 0.032622733361631816,
         "253": 0.0626689529811832,
         "254": 0.07978830737047593,
         "255": 0.04804686934969959,
         "256": 0.030629233345279415,
         "257": 0.03854547874961133,
         "258": 0.03515048030782883,
         "259": 0.11043426346366626,
         "260": 0.06478103114786857,
         "261": 0.021373228269316875,
         "262": 0.04579622078361779,
         "263": 0.03236298095769112,
         "264": 0.02377296380387155,
         "265": 0.04290912400989789,
         "266": 0.07615603026645738,
         "267": 0.022577044236588795,
         "268": 0.012508481655378847,
         "269": 0.023146381201757098,
         "270": 0.010044760808598015,
         "271": 0.06481366742584027,
         "272": 0.01904662906094272,
         "273": 0.022580098381377988,
         "274": 0.06295403749310563,
         "275": 0.023428887963269834,
         "276": 0.013789848754279762,
         "277": 0.022205822073792958,
         "278": 0.012134492489611612,
         "279": 0.010338216483401502,
         "559": 0.09011320765207756,
         "560": 0.022226067203434573,
         "561": 0.06621735041316822,
         "562": 0.04579859949254013,
         "563": 0.07403138475078104,
         "564": 0.04698038711422249,
         "565": 0.02077204140320059,
         "566": 0.03726232517178724,
         "567": 0.027223390405412634,
         "568": 0.04476434076867167,
         "569": 0.08148510668318633,
         "570": 0.11360885608798296,
         "571": 0.033599395678719904,
         "572": 0.0726373927998034,
         "573": 0.07731248088569521,
         "574": 0.019416133267294633,
         "575": 0.03385321109928033,
         "576": 0.04200424388428144,
         "577": 0.05887215177301051,
         "578": 0.019612455064793536,
         "579": 0.009108203719719295,
         "580": 0.008164386511015831,
         "581": 0.007622533585975063,
         "582": 0.005566353447477362,
         "583": 0.008323879107408304,
         "584": 0.008759463456066131,
         "585": 0.011302016152242803,
         "586": 0.021313289046341367,
         "587": 0.014704756002692356,
         "588": 0.011496621624785387,
         "589": 0.01909810738921911,
         "_deepnote_index_column": "1"
        },
        {
         "1": 0.020167142902791882,
         "2": 0.017435077283782404,
         "3": 0.03822200774030181,
         "4": 0.04026433504439736,
         "5": 0.10743080742036094,
         "6": 0.021803398654723066,
         "7": 0.020984521988266742,
         "8": 0.037678876624404015,
         "9": 0.037479180535300034,
         "10": 1,
         "11": 0.01409655621009339,
         "12": 0.016825664259992077,
         "13": 0.05100644815600303,
         "14": 0.03499876748462224,
         "15": 0.025663098602583433,
         "16": 0.03468770652971207,
         "17": 0.13508756835037813,
         "18": 0.02703206656770834,
         "19": 0.06154008971794022,
         "20": 0.05517625773672125,
         "21": 0.015113239911864012,
         "22": 0.04154940417039901,
         "23": 0.08729952229790265,
         "24": 0.07035580091268712,
         "25": 0.015815567978065603,
         "26": 0.02226458211244172,
         "27": 0.016961415975389308,
         "28": 0.07376614874280239,
         "29": 0.015824042510225855,
         "30": 0.016853767090008024,
         "31": 0.02856989225565237,
         "249": 0.01944057871708401,
         "250": 0.036971207564394204,
         "251": 0.019112302715973403,
         "252": 0.014042940475812189,
         "253": 0.028503119154945047,
         "254": 0.011622998502613268,
         "255": 0.0393600315991133,
         "256": 0.017583021453238364,
         "257": 0.02773585268056568,
         "258": 0.040932922241317636,
         "259": 0.054188898051846006,
         "260": 0.011950055258318,
         "261": 0.043371368399171606,
         "262": 0.02648658821025687,
         "263": 0.014507968051211788,
         "264": 0.018930598262500355,
         "265": 0.017531533573996713,
         "266": 0.0321176051657067,
         "267": 0.050279158564031874,
         "268": 0.010841565095548136,
         "269": 0.013735626564904152,
         "270": 0.05801751306627734,
         "271": 0.010835835807024683,
         "272": 0.01611325606298269,
         "273": 0.013371495429787706,
         "274": 0.010342546200775888,
         "275": 0.011304633724109316,
         "276": 0.010430933726807383,
         "277": 0.010972292277330082,
         "278": 0.010035177928607713,
         "279": 0.011258890665179738,
         "559": 0.015651431918983882,
         "560": 0.039695925942537034,
         "561": 0.030434582493417087,
         "562": 0.020541567025955314,
         "563": 0.03051219872404765,
         "564": 0.020047110594087206,
         "565": 0.01522135086795644,
         "566": 0.015731820573881304,
         "567": 0.028630617666169724,
         "568": 0.05859900187562075,
         "569": 0.019800058081511803,
         "570": 0.018853682903830812,
         "571": 0.05512015497478889,
         "572": 0.02021518202010795,
         "573": 0.04159679165744767,
         "574": 0.07363308790978183,
         "575": 0.021714554882401156,
         "576": 0.02131208158562772,
         "577": 0.05447252598512401,
         "578": 0.01239354412586289,
         "579": 0.011422941299424111,
         "580": 0.012078592457905957,
         "581": 0.012893735670675185,
         "582": 0.013388178512228259,
         "583": 0.017391549446203303,
         "584": 0.009131874342215405,
         "585": 0.05698664107561162,
         "586": 0.013348980160724153,
         "587": 0.008966037552280896,
         "588": 0.011827497797344839,
         "589": 0.03365159256039053,
         "_deepnote_index_column": "10"
        },
        {
         "1": 0.07874330203777925,
         "2": 0.06171503187126127,
         "3": 0.01948209655599378,
         "4": 0.01135490616454817,
         "5": 0.00890698039896353,
         "6": 0.026163729511414362,
         "7": 0.02591571007252111,
         "8": 0.044794875608558125,
         "9": 0.012918169651544019,
         "10": 0.01409655621009339,
         "11": 1,
         "12": 0.05668449408723346,
         "13": 0.005831231998125271,
         "14": 0.01854842397207497,
         "15": 0.019202796791420573,
         "16": 0.13101488804818642,
         "17": 0.011617804414768356,
         "18": 0.012455252835417454,
         "19": 0.04687775923877618,
         "20": 0.006310078320859156,
         "21": 0.006046652710172565,
         "22": 0.00975658427708062,
         "23": 0.005251289466286068,
         "24": 0.009667828705454386,
         "25": 0.040511509983353296,
         "26": 0.006957958769271988,
         "27": 0.00874214603516684,
         "28": 0.0299540614083607,
         "29": 0.02060511872050532,
         "30": 0.003464230903806008,
         "31": 0.005301114966230182,
         "249": 0.041993401951665676,
         "250": 0.0053844429519874885,
         "251": 0.02920217219132008,
         "252": 0.01735916170989595,
         "253": 0.006295815434351763,
         "254": 0.03200552079582495,
         "255": 0.029187987805034787,
         "256": 0.025923424228961923,
         "257": 0.013183856672474905,
         "258": 0.036909904697288436,
         "259": 0.08102422162395256,
         "260": 0.04349703344943376,
         "261": 0.023659487887779045,
         "262": 0.029786514761249196,
         "263": 0.01578302116723667,
         "264": 0.019419491622457305,
         "265": 0.007658254218545075,
         "266": 0.04460968955897591,
         "267": 0.006342139623107673,
         "268": 0.02411663091192898,
         "269": 0.00980909388077263,
         "270": 0.02773544485565612,
         "271": 0.004481121774453803,
         "272": 0.005701835452540427,
         "273": 0.03772248565655516,
         "274": 0.005554567023057877,
         "275": 0.03411149254905781,
         "276": 0.006605071084960287,
         "277": 0.007708682559938377,
         "278": 0.006184743658561344,
         "279": 0.00701416593470745,
         "559": 0.06301316085812024,
         "560": 0.023220259016877187,
         "561": 0.08321755204742357,
         "562": 0.01755990489323708,
         "563": 0.035722535498157716,
         "564": 0.031065703053494202,
         "565": 0.01944710961085244,
         "566": 0.025988996068328465,
         "567": 0.022800708541394404,
         "568": 0.015441492867627828,
         "569": 0.04245547036154572,
         "570": 0.02481325798543863,
         "571": 0.03518598547370299,
         "572": 0.030270804772461673,
         "573": 0.07374167550684842,
         "574": 0.010218202820303246,
         "575": 0.016702026286580345,
         "576": 0.006772035018884668,
         "577": 0.022473397839703275,
         "578": 0.005167764223560414,
         "579": 0.00604948576305983,
         "580": 0.014658996615273714,
         "581": 0.005423941647073263,
         "582": 0.0034065422982817186,
         "583": 0.012802860876586504,
         "584": 0.005906682788518947,
         "585": 0.005522758330498419,
         "586": 0.010127185838432725,
         "587": 0.005331892085358222,
         "588": 0.008458754194913489,
         "589": 0.005522589253096976,
         "_deepnote_index_column": "11"
        },
        {
         "1": 0.05611164375374482,
         "2": 0.013727085293908738,
         "3": 0.0071885367633186025,
         "4": 0.016487028631148298,
         "5": 0.0062173771428008055,
         "6": 0.040802304197122836,
         "7": 0.007839874194367616,
         "8": 0.007314844077570816,
         "9": 0.018094635832712536,
         "10": 0.016825664259992077,
         "11": 0.05668449408723346,
         "12": 1,
         "13": 0.012148179875722144,
         "14": 0.04134720276881381,
         "15": 0.018449900389553218,
         "16": 0.08158598368930628,
         "17": 0.009708695924486189,
         "18": 0.037531950212664075,
         "19": 0.032024753392796444,
         "20": 0.008202705798034862,
         "21": 0.013112447499207695,
         "22": 0.006993127422591148,
         "23": 0.006995753717785598,
         "24": 0.012213269456690972,
         "25": 0.022641579277137204,
         "26": 0.008073729828988286,
         "27": 0.00893406592092327,
         "28": 0.020808116096458797,
         "29": 0.007165163276848848,
         "30": 0.008384919672756156,
         "31": 0.010040241809181257,
         "249": 0.031635221722164354,
         "250": 0.02085100474073412,
         "251": 0.010751887594017708,
         "252": 0.009760693685278427,
         "253": 0.007601669039977413,
         "254": 0.023200735909904426,
         "255": 0.04318313722657635,
         "256": 0.009026532421187427,
         "257": 0.009765768725854933,
         "258": 0.03741113792991515,
         "259": 0.07255248086076338,
         "260": 0.052811818570635896,
         "261": 0.01436538498086616,
         "262": 0.009872386937561525,
         "263": 0.011369456312525327,
         "264": 0.0103180721161175,
         "265": 0.008495624233951985,
         "266": 0.028270568959428293,
         "267": 0.018200552857850393,
         "268": 0.04009674377438414,
         "269": 0.02652237024576118,
         "270": 0.007562471989770889,
         "271": 0.007041337153629686,
         "272": 0.006897112629883423,
         "273": 0.010044755359741926,
         "274": 0.01968812557102149,
         "275": 0.009284595215254812,
         "276": 0.009229331258929054,
         "277": 0.0290859858500965,
         "278": 0.007622057526555602,
         "279": 0.056866753459564184,
         "559": 0.028502237216411038,
         "560": 0.00662902863599892,
         "561": 0.01941085675410108,
         "562": 0.014160123878721224,
         "563": 0.004510226683983116,
         "564": 0.004497708971575529,
         "565": 0.017705950452810558,
         "566": 0.0087659073219595,
         "567": 0.009497609926719525,
         "568": 0.008568162795628472,
         "569": 0.025122824386276384,
         "570": 0.04234815290455375,
         "571": 0.00851440125319741,
         "572": 0.011747297634850211,
         "573": 0.027488737823880588,
         "574": 0.014904445137914158,
         "575": 0.005750990737641773,
         "576": 0.007068487854636138,
         "577": 0.012718619483622979,
         "578": 0.0250869250759863,
         "579": 0.007522879282875841,
         "580": 0.008232316059640369,
         "581": 0.008167542823768748,
         "582": 0.006942988076586472,
         "583": 0.0077540392246596545,
         "584": 0.007360521245295559,
         "585": 0.00491908875246372,
         "586": 0.04478488708686786,
         "587": 0.006250100384365694,
         "588": 0.0072432446372370255,
         "589": 0.005550897506685921,
         "_deepnote_index_column": "12"
        },
        {
         "1": 0.024665860653058192,
         "2": 0.0672684231402211,
         "3": 0.08675188666895939,
         "4": 0.04555818553351637,
         "5": 0.10151577036457853,
         "6": 0.05037863524180958,
         "7": 0.07394647871968371,
         "8": 0.04299902009226289,
         "9": 0.04147340028855412,
         "10": 0.05100644815600303,
         "11": 0.005831231998125271,
         "12": 0.012148179875722144,
         "13": 1,
         "14": 0.035213628765670135,
         "15": 0.07916435851318968,
         "16": 0.03060092694307807,
         "17": 0.04013516976074629,
         "18": 0.10284768503242439,
         "19": 0.09977305835472576,
         "20": 0.07590699595611586,
         "21": 0.03347583659682161,
         "22": 0.047317904957122965,
         "23": 0.09272897936386014,
         "24": 0.05046631799166791,
         "25": 0.04291224925801403,
         "26": 0.09499201616007527,
         "27": 0.03034950843207835,
         "28": 0.07221119338057647,
         "29": 0.03213702439444807,
         "30": 0.028123499912895172,
         "31": 0.04212461311042083,
         "249": 0.07795538733210215,
         "250": 0.055318992470901995,
         "251": 0.06877029561069199,
         "252": 0.039574709429349264,
         "253": 0.04661375599703663,
         "254": 0.041899760239748396,
         "255": 0.12351808365805723,
         "256": 0.03182754725631125,
         "257": 0.071430147042902,
         "258": 0.1354616262796756,
         "259": 0.06769357846215347,
         "260": 0.047826937751432125,
         "261": 0.07502876868583573,
         "262": 0.07259455444677708,
         "263": 0.04416571666700956,
         "264": 0.04535234028655601,
         "265": 0.0286052052608329,
         "266": 0.03440735276279995,
         "267": 0.059067708668226235,
         "268": 0.03496033763784271,
         "269": 0.035813410297709826,
         "270": 0.06314318712013696,
         "271": 0.022617586132662203,
         "272": 0.022477166139758326,
         "273": 0.049697711984221564,
         "274": 0.020126108847162816,
         "275": 0.022124206013279607,
         "276": 0.04316331125879607,
         "277": 0.020625538382028893,
         "278": 0.018027595887307138,
         "279": 0.018904149435933663,
         "559": 0.0782587024725815,
         "560": 0.10729035024486962,
         "561": 0.04177493287794494,
         "562": 0.07387849409753804,
         "563": 0.06549562542073366,
         "564": 0.127689883665312,
         "565": 0.06915634363811232,
         "566": 0.05624945411718377,
         "567": 0.13856692409431376,
         "568": 0.08224514718854581,
         "569": 0.045658361151950724,
         "570": 0.08639814972548,
         "571": 0.07962921030967807,
         "572": 0.23054844038300668,
         "573": 0.11179193346171354,
         "574": 0.11688163469736972,
         "575": 0.082246809651982,
         "576": 0.04710735377528898,
         "577": 0.09242858760716595,
         "578": 0.047353792401458296,
         "579": 0.02963899107368216,
         "580": 0.0402219706169082,
         "581": 0.0271480166552267,
         "582": 0.021927757625109966,
         "583": 0.03045798135673724,
         "584": 0.021941639007165434,
         "585": 0.03364349772309684,
         "586": 0.025239681256448293,
         "587": 0.059625729719186366,
         "588": 0.03134703527941804,
         "589": 0.050634530770595786,
         "_deepnote_index_column": "13"
        }
       ],
       "rows_bottom": [
        {
         "1": 0.01909810738921911,
         "2": 0.014584939725661066,
         "3": 0.01682666197224185,
         "4": 0.007477506278117261,
         "5": 0.02106542575497063,
         "6": 0.003705402426677766,
         "7": 0.00866118819712768,
         "8": 0.006184446095317477,
         "9": 0.003750282145347388,
         "10": 0.03365159256039053,
         "11": 0.005522589253096976,
         "12": 0.005550897506685921,
         "13": 0.050634530770595786,
         "14": 0.016554048354207686,
         "15": 0.014714349628930777,
         "16": 0.025558491455969605,
         "17": 0.012384072730663304,
         "18": 0.06164064075073036,
         "19": 0.012839101285592099,
         "20": 0.009953786340330426,
         "21": 0.13700035730504867,
         "22": 0.028563173486560643,
         "23": 0.030068888068206397,
         "24": 0.010642884461959625,
         "25": 0.004709261984533561,
         "26": 0.010154265531974635,
         "27": 0.005613180340969742,
         "28": 0.006854877871067654,
         "29": 0.003449057128043921,
         "30": 0.006845592677106284,
         "31": 0.01277673492986746,
         "249": 0.02119956853839076,
         "250": 0.024226736297600963,
         "251": 0.0402863850340794,
         "252": 0.0117329051846199,
         "253": 0.030579266698974355,
         "254": 0.01151349322047144,
         "255": 0.03162768925877322,
         "256": 0.012737802153179606,
         "257": 0.012553511406659147,
         "258": 0.012652083350245175,
         "259": 0.010505206439325841,
         "260": 0.012747222576212023,
         "261": 0.014658579060455102,
         "262": 0.008157748848904463,
         "263": 0.010197407976101818,
         "264": 0.017594529648528513,
         "265": 0.006935370958388131,
         "266": 0.015981558586086488,
         "267": 0.01129369455137668,
         "268": 0.023761520603413976,
         "269": 0.027598903866764384,
         "270": 0.022924373463966977,
         "271": 0.014334642718053847,
         "272": 0.0059647630789138725,
         "273": 0.008665135278082714,
         "274": 0.010476904056683427,
         "275": 0.010235153722159746,
         "276": 0.009952246010441763,
         "277": 0.015992397437463966,
         "278": 0.054443550660663434,
         "279": 0.012775009851045118,
         "559": 0.02976034564733043,
         "560": 0.0350562906122549,
         "561": 0.05436575091137563,
         "562": 0.014841850738454626,
         "563": 0.015339085129793508,
         "564": 0.009511275462584958,
         "565": 0.020306459741879595,
         "566": 0.010740642948334047,
         "567": 0.015663793136388226,
         "568": 0.04017684720275293,
         "569": 0.018722109095548587,
         "570": 0.012717799130736009,
         "571": 0.017012584538340415,
         "572": 0.017187554360662154,
         "573": 0.025126200738023668,
         "574": 0.02652924485042331,
         "575": 0.007021069446630503,
         "576": 0.024643667499315375,
         "577": 0.00924990818140497,
         "578": 0.028574891316799928,
         "579": 0.04803645202681164,
         "580": 0.020468208365948117,
         "581": 0.013586942228601177,
         "582": 0.03695982431817877,
         "583": 0.012949435910853603,
         "584": 0.007664060814985186,
         "585": 0.003433232345653042,
         "586": 0.06391123361315254,
         "587": 0.0073966481960407535,
         "588": 0.05597014860748377,
         "589": 1,
         "_deepnote_index_column": "589"
        },
        {
         "1": 0.0402572469610615,
         "2": 0.03654378073009328,
         "3": 0.10249555838209448,
         "4": 0.05439214873686729,
         "5": 0.0396965272333984,
         "6": 1,
         "7": 0.023016668475238356,
         "8": 0.019406075393923153,
         "9": 0.02913108112949102,
         "10": 0.021803398654723066,
         "11": 0.026163729511414362,
         "12": 0.040802304197122836,
         "13": 0.05037863524180958,
         "14": 0.017950953969219485,
         "15": 0.0026389261784622517,
         "16": 0.043755954968317454,
         "17": 0.008088802293358621,
         "18": 0.03964535442917633,
         "19": 0.010231554851858188,
         "20": 0.006444728322036758,
         "21": 0.08021515364183965,
         "22": 0.005307218718515318,
         "23": 0.022952107267457868,
         "24": 0.007005544580731062,
         "25": 0.02419308300778514,
         "26": 0.010461940385022331,
         "27": 0.01877329324555764,
         "28": 0.008963049383994871,
         "29": 0.003231628445342936,
         "30": 0.0037372206111523864,
         "31": 0.00487784397713722,
         "249": 0.08683720964921778,
         "250": 0.014277691010978637,
         "251": 0.08657213025912495,
         "252": 0.05493190687912216,
         "253": 0.027031127579053002,
         "254": 0.04952705067868212,
         "255": 0.0573827955944438,
         "256": 0.012595277651274417,
         "257": 0.04200827092451633,
         "258": 0.017002744380814026,
         "259": 0.011307304094463816,
         "260": 0.0438629994396825,
         "261": 0.02336213079406994,
         "262": 0.03209015265185912,
         "263": 0.03207175375758091,
         "264": 0.01924357622989838,
         "265": 0.008342322451951654,
         "266": 0.01767354008045313,
         "267": 0.015413194216208116,
         "268": 0.005378943735719358,
         "269": 0.04458668067110297,
         "270": 0.01895280926599996,
         "271": 0.010587692977366588,
         "272": 0.007166212908022272,
         "273": 0.009705946276633527,
         "274": 0.019895321882216748,
         "275": 0.00732460879709533,
         "276": 0.021307514915269787,
         "277": 0.008411172475867128,
         "278": 0.006057548287948558,
         "279": 0.007458972714851231,
         "559": 0.04200777654153257,
         "560": 0.05015748259204583,
         "561": 0.0389946494062291,
         "562": 0.06056268674758456,
         "563": 0.03812033978675126,
         "564": 0.0394866989807438,
         "565": 0.07243056937552077,
         "566": 0.03267966596401557,
         "567": 0.04416326493892417,
         "568": 0.11163243982155782,
         "569": 0.0617585073349544,
         "570": 0.024094150909839216,
         "571": 0.03304942617992702,
         "572": 0.03001202948294274,
         "573": 0.02231678027769817,
         "574": 0.051149217154837494,
         "575": 0.03259497810765719,
         "576": 0.025803036562138247,
         "577": 0.024498923427959243,
         "578": 0.0065748023190756065,
         "579": 0.048425715847073496,
         "580": 0.006575851336613091,
         "581": 0.0030361880000788293,
         "582": 0.0015690186823112998,
         "583": 0.005258118762731772,
         "584": 0.005727206981406856,
         "585": 0.0029227497250989367,
         "586": 0.0028560036536106003,
         "587": 0.006134709872135439,
         "588": 0.025046718642534115,
         "589": 0.003705402426677766,
         "_deepnote_index_column": "6"
        },
        {
         "1": 0.044758579985952306,
         "2": 0.02143774907096967,
         "3": 0.05134282323437312,
         "4": 0.022315118217207303,
         "5": 0.08093436874465847,
         "6": 0.023016668475238356,
         "7": 1,
         "8": 0.061161525612008445,
         "9": 0.044941325708360035,
         "10": 0.020984521988266742,
         "11": 0.02591571007252111,
         "12": 0.007839874194367616,
         "13": 0.07394647871968371,
         "14": 0.03119761108491634,
         "15": 0.01331217514721038,
         "16": 0.023085960561931792,
         "17": 0.00914498137040461,
         "18": 0.06186367594127657,
         "19": 0.01388544258945836,
         "20": 0.010635811975141409,
         "21": 0.02696207762617843,
         "22": 0.006094955228434757,
         "23": 0.01283448916191009,
         "24": 0.010656660134517876,
         "25": 0.01568425415591975,
         "26": 0.02092005963098537,
         "27": 0.018438689944777722,
         "28": 0.010391593515741558,
         "29": 0.01246609333952062,
         "30": 0.006459293823851268,
         "31": 0.006576420319503759,
         "249": 0.05484864315773078,
         "250": 0.01497647520327686,
         "251": 0.05208797539260078,
         "252": 0.02057431722426223,
         "253": 0.012796881498632555,
         "254": 0.0190374705222327,
         "255": 0.017964019126257853,
         "256": 0.014355732632860416,
         "257": 0.04283972433976931,
         "258": 0.022635542577150364,
         "259": 0.014842751055018743,
         "260": 0.03012324935823679,
         "261": 0.04241756715290922,
         "262": 0.012290729404128788,
         "263": 0.01272461504374414,
         "264": 0.008308552581030521,
         "265": 0.02436914986071675,
         "266": 0.020538926233746174,
         "267": 0.01341993688672717,
         "268": 0.009316660333059893,
         "269": 0.036368271788420926,
         "270": 0.016901475636097812,
         "271": 0.011768712265162204,
         "272": 0.006504305912970156,
         "273": 0.006736415053415349,
         "274": 0.012841799065477881,
         "275": 0.009546670287153987,
         "276": 0.00939505218783079,
         "277": 0.013998976445629774,
         "278": 0.021607791697337904,
         "279": 0.009693096966036126,
         "559": 0.03581248087894212,
         "560": 0.06254183777183452,
         "561": 0.024278970560358718,
         "562": 0.09488988591004116,
         "563": 0.04406160637859479,
         "564": 0.03160660151597037,
         "565": 0.04889642822427402,
         "566": 0.06228733802018769,
         "567": 0.03600481024625208,
         "568": 0.09626702088988837,
         "569": 0.04336175915309756,
         "570": 0.02123027717451155,
         "571": 0.05361015335443753,
         "572": 0.027589322069462675,
         "573": 0.0227699491274732,
         "574": 0.03439884107433322,
         "575": 0.029843149870282686,
         "576": 0.04292105060677692,
         "577": 0.02879552680148557,
         "578": 0.010437014131089608,
         "579": 0.025822196993385848,
         "580": 0.006850524087343933,
         "581": 0.008342794385598295,
         "582": 0.0035466385536497944,
         "583": 0.010789137616209293,
         "584": 0.010657650237463456,
         "585": 0.007441833907019451,
         "586": 0.004405143031644133,
         "587": 0.006778581666492191,
         "588": 0.009910431497143133,
         "589": 0.00866118819712768,
         "_deepnote_index_column": "7"
        },
        {
         "1": 0.06141792013124885,
         "2": 0.03827348859415465,
         "3": 0.10080819304353132,
         "4": 0.022318675474409532,
         "5": 0.07282857796157861,
         "6": 0.019406075393923153,
         "7": 0.061161525612008445,
         "8": 1,
         "9": 0.04430481025618306,
         "10": 0.037678876624404015,
         "11": 0.044794875608558125,
         "12": 0.007314844077570816,
         "13": 0.04299902009226289,
         "14": 0.03501277899897054,
         "15": 0.005253929767283315,
         "16": 0.040654711372005055,
         "17": 0.014810002223220627,
         "18": 0.15025801290355198,
         "19": 0.05881535476619039,
         "20": 0.007288200854594905,
         "21": 0.02724893569310377,
         "22": 0.013313104998697296,
         "23": 0.009430350528799336,
         "24": 0.010524153094324388,
         "25": 0.008309021102533055,
         "26": 0.015535391646726363,
         "27": 0.010201413301723129,
         "28": 0.03964313957283862,
         "29": 0.00887164613244455,
         "30": 0.007636750982021583,
         "31": 0.0078616767270948,
         "249": 0.08195732907596107,
         "250": 0.016685801442687814,
         "251": 0.0844287347053974,
         "252": 0.08090808082180577,
         "253": 0.020126600478510673,
         "254": 0.056218640821182414,
         "255": 0.0315253621039087,
         "256": 0.02003399400354504,
         "257": 0.047497133228779624,
         "258": 0.02655501911242848,
         "259": 0.013611570666715674,
         "260": 0.0636919251461737,
         "261": 0.04651214683530179,
         "262": 0.02818335114712549,
         "263": 0.015505062626939122,
         "264": 0.009098121685065432,
         "265": 0.009461877411937485,
         "266": 0.02298331689258549,
         "267": 0.009412345370695229,
         "268": 0.03684586460164222,
         "269": 0.026840120486645774,
         "270": 0.03898503213230292,
         "271": 0.007867338969337664,
         "272": 0.003566345972055821,
         "273": 0.019841731319258687,
         "274": 0.006207382106701869,
         "275": 0.007121102229865682,
         "276": 0.005543983221265206,
         "277": 0.006463071140738461,
         "278": 0.0053901881695601825,
         "279": 0.006531990587414684,
         "559": 0.06847361725319723,
         "560": 0.037817037925657174,
         "561": 0.04695174836868725,
         "562": 0.05527260121299978,
         "563": 0.09393089231665644,
         "564": 0.023990116401318002,
         "565": 0.05462657050715258,
         "566": 0.12385682826250244,
         "567": 0.04216074915092034,
         "568": 0.1463459204018192,
         "569": 0.11588037680676656,
         "570": 0.022512980018346417,
         "571": 0.06527658272238669,
         "572": 0.026413992875644013,
         "573": 0.040344789741878384,
         "574": 0.05367005021250773,
         "575": 0.05810638448487989,
         "576": 0.08278810865911655,
         "577": 0.039217235528820484,
         "578": 0.008826503377590887,
         "579": 0.02440418276603347,
         "580": 0.006300443654410639,
         "581": 0.004394991576591731,
         "582": 0.00377232157836949,
         "583": 0.006828779659762276,
         "584": 0.005488854851977714,
         "585": 0.002883457927748071,
         "586": 0.0030571349041490486,
         "587": 0.007328250738965968,
         "588": 0.007060698752991258,
         "589": 0.006184446095317477,
         "_deepnote_index_column": "8"
        },
        {
         "1": 0.08031831243255778,
         "2": 0.040311188766938004,
         "3": 0.08960579258907991,
         "4": 0.04615606188172355,
         "5": 0.07213284404661263,
         "6": 0.02913108112949102,
         "7": 0.044941325708360035,
         "8": 0.04430481025618306,
         "9": 1,
         "10": 0.037479180535300034,
         "11": 0.012918169651544019,
         "12": 0.018094635832712536,
         "13": 0.04147340028855412,
         "14": 0.026127716720134107,
         "15": 0.002551121080985793,
         "16": 0.09989333993673756,
         "17": 0.04001152642597397,
         "18": 0.06981867520630763,
         "19": 0.042996488818577,
         "20": 0.007528320811834659,
         "21": 0.03377504486557193,
         "22": 0.0150564129460462,
         "23": 0.018638939790045547,
         "24": 0.0057546743200342235,
         "25": 0.005103789814487065,
         "26": 0.01327144202321682,
         "27": 0.015498826406666144,
         "28": 0.01132662758042867,
         "29": 0.01435370469397306,
         "30": 0.004403312237837033,
         "31": 0.0063207143413175,
         "249": 0.08295232394044262,
         "250": 0.014520780771894455,
         "251": 0.08780217797360211,
         "252": 0.058054102667935516,
         "253": 0.014007734647101085,
         "254": 0.050727645626043295,
         "255": 0.02903373383348461,
         "256": 0.03784511474597537,
         "257": 0.09516361576954674,
         "258": 0.028547007121594484,
         "259": 0.028524224288452894,
         "260": 0.040319879338061436,
         "261": 0.03630676426282341,
         "262": 0.02095841907333991,
         "263": 0.0244383726383015,
         "264": 0.015461253746172786,
         "265": 0.00997059114410274,
         "266": 0.02869793862986243,
         "267": 0.016988298131453087,
         "268": 0.0062348349896541614,
         "269": 0.02448886943268966,
         "270": 0.006962076949860747,
         "271": 0.012879289486097421,
         "272": 0.0060193202281649235,
         "273": 0.01000890619039291,
         "274": 0.04128761412042856,
         "275": 0.008072303879668398,
         "276": 0.007663777303527821,
         "277": 0.008967412104976232,
         "278": 0.006358979329638267,
         "279": 0.008138235058259379,
         "559": 0.043445468661541614,
         "560": 0.08689821665420426,
         "561": 0.03948653389299669,
         "562": 0.04831860143627318,
         "563": 0.040878603009627215,
         "564": 0.048618168596530204,
         "565": 0.07091097518594802,
         "566": 0.04679180749541837,
         "567": 0.07592586672050294,
         "568": 0.08208405985807875,
         "569": 0.0411269417523754,
         "570": 0.06453123085620248,
         "571": 0.05928822333119391,
         "572": 0.02685264375554166,
         "573": 0.051634438902839384,
         "574": 0.039120444771944866,
         "575": 0.056787845055812455,
         "576": 0.030250006690343178,
         "577": 0.04685590887150796,
         "578": 0.013022768534571388,
         "579": 0.019852189350224862,
         "580": 0.005556766615126824,
         "581": 0.008143156296961905,
         "582": 0.001438115541678527,
         "583": 0.006096483322892765,
         "584": 0.003965911589165239,
         "585": 0.0037715133832938383,
         "586": 0.006550546421623812,
         "587": 0.007524439890750725,
         "588": 0.005785396775333277,
         "589": 0.003750282145347388,
         "_deepnote_index_column": "9"
        }
       ]
      },
      "text/plain": "            1        10        11        12        13        14        15  \\\n1    1.000000  0.020167  0.078743  0.056112  0.024666  0.060019  0.012832   \n10   0.020167  1.000000  0.014097  0.016826  0.051006  0.034999  0.025663   \n11   0.078743  0.014097  1.000000  0.056684  0.005831  0.018548  0.019203   \n12   0.056112  0.016826  0.056684  1.000000  0.012148  0.041347  0.018450   \n13   0.024666  0.051006  0.005831  0.012148  1.000000  0.035214  0.079164   \n..        ...       ...       ...       ...       ...       ...       ...   \n589  0.019098  0.033652  0.005523  0.005551  0.050635  0.016554  0.014714   \n6    0.040257  0.021803  0.026164  0.040802  0.050379  0.017951  0.002639   \n7    0.044759  0.020985  0.025916  0.007840  0.073946  0.031198  0.013312   \n8    0.061418  0.037679  0.044795  0.007315  0.042999  0.035013  0.005254   \n9    0.080318  0.037479  0.012918  0.018095  0.041473  0.026128  0.002551   \n\n           16        17        18  ...       584       585       586  \\\n1    0.153507  0.022436  0.041745  ...  0.008759  0.011302  0.021313   \n10   0.034688  0.135088  0.027032  ...  0.009132  0.056987  0.013349   \n11   0.131015  0.011618  0.012455  ...  0.005907  0.005523  0.010127   \n12   0.081586  0.009709  0.037532  ...  0.007361  0.004919  0.044785   \n13   0.030601  0.040135  0.102848  ...  0.021942  0.033643  0.025240   \n..        ...       ...       ...  ...       ...       ...       ...   \n589  0.025558  0.012384  0.061641  ...  0.007664  0.003433  0.063911   \n6    0.043756  0.008089  0.039645  ...  0.005727  0.002923  0.002856   \n7    0.023086  0.009145  0.061864  ...  0.010658  0.007442  0.004405   \n8    0.040655  0.014810  0.150258  ...  0.005489  0.002883  0.003057   \n9    0.099893  0.040012  0.069819  ...  0.003966  0.003772  0.006551   \n\n          587       588       589         6         7         8         9  \n1    0.014705  0.011497  0.019098  0.040257  0.044759  0.061418  0.080318  \n10   0.008966  0.011827  0.033652  0.021803  0.020985  0.037679  0.037479  \n11   0.005332  0.008459  0.005523  0.026164  0.025916  0.044795  0.012918  \n12   0.006250  0.007243  0.005551  0.040802  0.007840  0.007315  0.018095  \n13   0.059626  0.031347  0.050635  0.050379  0.073946  0.042999  0.041473  \n..        ...       ...       ...       ...       ...       ...       ...  \n589  0.007397  0.055970  1.000000  0.003705  0.008661  0.006184  0.003750  \n6    0.006135  0.025047  0.003705  1.000000  0.023017  0.019406  0.029131  \n7    0.006779  0.009910  0.008661  0.023017  1.000000  0.061162  0.044941  \n8    0.007328  0.007061  0.006184  0.019406  0.061162  1.000000  0.044305  \n9    0.007524  0.005785  0.003750  0.029131  0.044941  0.044305  1.000000  \n\n[93 rows x 93 columns]",
      "text/html": "<div>\n<style scoped>\n    .dataframe tbody tr th:only-of-type {\n        vertical-align: middle;\n    }\n\n    .dataframe tbody tr th {\n        vertical-align: top;\n    }\n\n    .dataframe thead th {\n        text-align: right;\n    }\n</style>\n<table border=\"1\" class=\"dataframe\">\n  <thead>\n    <tr style=\"text-align: right;\">\n      <th></th>\n      <th>1</th>\n      <th>10</th>\n      <th>11</th>\n      <th>12</th>\n      <th>13</th>\n      <th>14</th>\n      <th>15</th>\n      <th>16</th>\n      <th>17</th>\n      <th>18</th>\n      <th>...</th>\n      <th>584</th>\n      <th>585</th>\n      <th>586</th>\n      <th>587</th>\n      <th>588</th>\n      <th>589</th>\n      <th>6</th>\n      <th>7</th>\n      <th>8</th>\n      <th>9</th>\n    </tr>\n  </thead>\n  <tbody>\n    <tr>\n      <th>1</th>\n      <td>1.000000</td>\n      <td>0.020167</td>\n      <td>0.078743</td>\n      <td>0.056112</td>\n      <td>0.024666</td>\n      <td>0.060019</td>\n      <td>0.012832</td>\n      <td>0.153507</td>\n      <td>0.022436</td>\n      <td>0.041745</td>\n      <td>...</td>\n      <td>0.008759</td>\n      <td>0.011302</td>\n      <td>0.021313</td>\n      <td>0.014705</td>\n      <td>0.011497</td>\n      <td>0.019098</td>\n      <td>0.040257</td>\n      <td>0.044759</td>\n      <td>0.061418</td>\n      <td>0.080318</td>\n    </tr>\n    <tr>\n      <th>10</th>\n      <td>0.020167</td>\n      <td>1.000000</td>\n      <td>0.014097</td>\n      <td>0.016826</td>\n      <td>0.051006</td>\n      <td>0.034999</td>\n      <td>0.025663</td>\n      <td>0.034688</td>\n      <td>0.135088</td>\n      <td>0.027032</td>\n      <td>...</td>\n      <td>0.009132</td>\n      <td>0.056987</td>\n      <td>0.013349</td>\n      <td>0.008966</td>\n      <td>0.011827</td>\n      <td>0.033652</td>\n      <td>0.021803</td>\n      <td>0.020985</td>\n      <td>0.037679</td>\n      <td>0.037479</td>\n    </tr>\n    <tr>\n      <th>11</th>\n      <td>0.078743</td>\n      <td>0.014097</td>\n      <td>1.000000</td>\n      <td>0.056684</td>\n      <td>0.005831</td>\n      <td>0.018548</td>\n      <td>0.019203</td>\n      <td>0.131015</td>\n      <td>0.011618</td>\n      <td>0.012455</td>\n      <td>...</td>\n      <td>0.005907</td>\n      <td>0.005523</td>\n      <td>0.010127</td>\n      <td>0.005332</td>\n      <td>0.008459</td>\n      <td>0.005523</td>\n      <td>0.026164</td>\n      <td>0.025916</td>\n      <td>0.044795</td>\n      <td>0.012918</td>\n    </tr>\n    <tr>\n      <th>12</th>\n      <td>0.056112</td>\n      <td>0.016826</td>\n      <td>0.056684</td>\n      <td>1.000000</td>\n      <td>0.012148</td>\n      <td>0.041347</td>\n      <td>0.018450</td>\n      <td>0.081586</td>\n      <td>0.009709</td>\n      <td>0.037532</td>\n      <td>...</td>\n      <td>0.007361</td>\n      <td>0.004919</td>\n      <td>0.044785</td>\n      <td>0.006250</td>\n      <td>0.007243</td>\n      <td>0.005551</td>\n      <td>0.040802</td>\n      <td>0.007840</td>\n      <td>0.007315</td>\n      <td>0.018095</td>\n    </tr>\n    <tr>\n      <th>13</th>\n      <td>0.024666</td>\n      <td>0.051006</td>\n      <td>0.005831</td>\n      <td>0.012148</td>\n      <td>1.000000</td>\n      <td>0.035214</td>\n      <td>0.079164</td>\n      <td>0.030601</td>\n      <td>0.040135</td>\n      <td>0.102848</td>\n      <td>...</td>\n      <td>0.021942</td>\n      <td>0.033643</td>\n      <td>0.025240</td>\n      <td>0.059626</td>\n      <td>0.031347</td>\n      <td>0.050635</td>\n      <td>0.050379</td>\n      <td>0.073946</td>\n      <td>0.042999</td>\n      <td>0.041473</td>\n    </tr>\n    <tr>\n      <th>...</th>\n      <td>...</td>\n      <td>...</td>\n      <td>...</td>\n      <td>...</td>\n      <td>...</td>\n      <td>...</td>\n      <td>...</td>\n      <td>...</td>\n      <td>...</td>\n      <td>...</td>\n      <td>...</td>\n      <td>...</td>\n      <td>...</td>\n      <td>...</td>\n      <td>...</td>\n      <td>...</td>\n      <td>...</td>\n      <td>...</td>\n      <td>...</td>\n      <td>...</td>\n      <td>...</td>\n    </tr>\n    <tr>\n      <th>589</th>\n      <td>0.019098</td>\n      <td>0.033652</td>\n      <td>0.005523</td>\n      <td>0.005551</td>\n      <td>0.050635</td>\n      <td>0.016554</td>\n      <td>0.014714</td>\n      <td>0.025558</td>\n      <td>0.012384</td>\n      <td>0.061641</td>\n      <td>...</td>\n      <td>0.007664</td>\n      <td>0.003433</td>\n      <td>0.063911</td>\n      <td>0.007397</td>\n      <td>0.055970</td>\n      <td>1.000000</td>\n      <td>0.003705</td>\n      <td>0.008661</td>\n      <td>0.006184</td>\n      <td>0.003750</td>\n    </tr>\n    <tr>\n      <th>6</th>\n      <td>0.040257</td>\n      <td>0.021803</td>\n      <td>0.026164</td>\n      <td>0.040802</td>\n      <td>0.050379</td>\n      <td>0.017951</td>\n      <td>0.002639</td>\n      <td>0.043756</td>\n      <td>0.008089</td>\n      <td>0.039645</td>\n      <td>...</td>\n      <td>0.005727</td>\n      <td>0.002923</td>\n      <td>0.002856</td>\n      <td>0.006135</td>\n      <td>0.025047</td>\n      <td>0.003705</td>\n      <td>1.000000</td>\n      <td>0.023017</td>\n      <td>0.019406</td>\n      <td>0.029131</td>\n    </tr>\n    <tr>\n      <th>7</th>\n      <td>0.044759</td>\n      <td>0.020985</td>\n      <td>0.025916</td>\n      <td>0.007840</td>\n      <td>0.073946</td>\n      <td>0.031198</td>\n      <td>0.013312</td>\n      <td>0.023086</td>\n      <td>0.009145</td>\n      <td>0.061864</td>\n      <td>...</td>\n      <td>0.010658</td>\n      <td>0.007442</td>\n      <td>0.004405</td>\n      <td>0.006779</td>\n      <td>0.009910</td>\n      <td>0.008661</td>\n      <td>0.023017</td>\n      <td>1.000000</td>\n      <td>0.061162</td>\n      <td>0.044941</td>\n    </tr>\n    <tr>\n      <th>8</th>\n      <td>0.061418</td>\n      <td>0.037679</td>\n      <td>0.044795</td>\n      <td>0.007315</td>\n      <td>0.042999</td>\n      <td>0.035013</td>\n      <td>0.005254</td>\n      <td>0.040655</td>\n      <td>0.014810</td>\n      <td>0.150258</td>\n      <td>...</td>\n      <td>0.005489</td>\n      <td>0.002883</td>\n      <td>0.003057</td>\n      <td>0.007328</td>\n      <td>0.007061</td>\n      <td>0.006184</td>\n      <td>0.019406</td>\n      <td>0.061162</td>\n      <td>1.000000</td>\n      <td>0.044305</td>\n    </tr>\n    <tr>\n      <th>9</th>\n      <td>0.080318</td>\n      <td>0.037479</td>\n      <td>0.012918</td>\n      <td>0.018095</td>\n      <td>0.041473</td>\n      <td>0.026128</td>\n      <td>0.002551</td>\n      <td>0.099893</td>\n      <td>0.040012</td>\n      <td>0.069819</td>\n      <td>...</td>\n      <td>0.003966</td>\n      <td>0.003772</td>\n      <td>0.006551</td>\n      <td>0.007524</td>\n      <td>0.005785</td>\n      <td>0.003750</td>\n      <td>0.029131</td>\n      <td>0.044941</td>\n      <td>0.044305</td>\n      <td>1.000000</td>\n    </tr>\n  </tbody>\n</table>\n<p>93 rows × 93 columns</p>\n</div>"
     },
     "metadata": {}
    }
   ]
  },
  {
   "cell_type": "code",
   "source": "# Faccio svd con 93 componenti (e poi mi prendo solo quelle che servono)\nn_components = 92\nsvd_latent_gestures, svd_variance = generate_gesture_gesture_svd(gestures_sim_matrix_pd, n_components=n_components)",
   "metadata": {
    "tags": [],
    "cell_id": "00043-207c5d4c-78ed-457a-96cc-df9a95da9cb7",
    "deepnote_to_be_reexecuted": false,
    "source_hash": "e96974a3",
    "execution_start": 1638302964232,
    "execution_millis": 133,
    "deepnote_cell_type": "code"
   },
   "outputs": [],
   "execution_count": 32
  },
  {
   "cell_type": "code",
   "metadata": {
    "deepnote_variable_name": "t3_query_top_p",
    "deepnote_variable_value": "5",
    "cell_id": "00041-8c620e05-f0f6-42c6-b128-88970e1c1838",
    "deepnote_to_be_reexecuted": false,
    "source_hash": "ca37bedc",
    "execution_start": 1638302964370,
    "execution_millis": 10,
    "deepnote_cell_type": "input-text"
   },
   "source": "t3_query_top_p = '5'",
   "execution_count": 33,
   "outputs": []
  },
  {
   "cell_type": "code",
   "metadata": {
    "tags": [],
    "cell_id": "00045-15bd40d7-33e0-4c8b-8e79-96acaf28063b",
    "deepnote_to_be_reexecuted": false,
    "source_hash": "8c1b6ce9",
    "execution_start": 1638302964389,
    "execution_millis": 53,
    "deepnote_cell_type": "code"
   },
   "source": "t3_query_top_p = int(t3_query_top_p)\n# Input value check\nif t3_query_top_p < 1:\n    t3_query_top_p = 1\nelif t3_query_top_p > n_components:\n    t3_query_top_p = n_components\n\n# Tiro fuori le top p gestures latenti\ntop_p_gestures = get_top_p_latent_gestures(svd_latent_gestures, t3_query_top_p)",
   "execution_count": 34,
   "outputs": []
  },
  {
   "cell_type": "code",
   "metadata": {
    "tags": [],
    "cell_id": "00046-2640e2e4-32f0-460d-9b08-42795dbb8006",
    "deepnote_to_be_reexecuted": false,
    "source_hash": "bf6ad681",
    "execution_start": 1638302964442,
    "execution_millis": 0,
    "deepnote_cell_type": "code"
   },
   "source": "#top_p_gestures",
   "execution_count": 35,
   "outputs": []
  },
  {
   "cell_type": "markdown",
   "source": "## Task 4",
   "metadata": {
    "tags": [],
    "is_collapsed": false,
    "cell_id": "00044-9cfe662a-8cc0-4eed-8c0c-f9fe6eb8fd34",
    "deepnote_cell_type": "text-cell-h2"
   }
  },
  {
   "cell_type": "code",
   "metadata": {
    "deepnote_variable_name": "t4_p_partitions",
    "deepnote_variable_value": "3",
    "cell_id": "00047-107ad2bf-4161-48cc-944f-5dd10698959d",
    "deepnote_to_be_reexecuted": false,
    "source_hash": "21bab306",
    "execution_start": 1638302964443,
    "execution_millis": 2466813,
    "deepnote_cell_type": "input-text"
   },
   "source": "t4_p_partitions = '3'",
   "execution_count": 36,
   "outputs": []
  },
  {
   "cell_type": "code",
   "metadata": {
    "tags": [],
    "cell_id": "00048-fa675f74-61bc-4d04-9b33-06518fb6e745",
    "deepnote_to_be_reexecuted": false,
    "source_hash": "5f16cad7",
    "execution_start": 1638302964486,
    "execution_millis": 2466778,
    "deepnote_cell_type": "code"
   },
   "source": "t4_p_partitions = int(t4_p_partitions)\n# Input value check\nif t4_p_partitions < 1:\n    t4_p_partitions = 1",
   "execution_count": 37,
   "outputs": []
  },
  {
   "cell_type": "markdown",
   "source": "### Task 4A",
   "metadata": {
    "tags": [],
    "is_collapsed": false,
    "cell_id": "00045-1989ef30-c1fe-4922-8612-930834cd9cd1",
    "deepnote_cell_type": "text-cell-h3"
   }
  },
  {
   "cell_type": "markdown",
   "source": "Partizionamento top_p_gestures in base ai loro gradi di appartenenza alle p semantiche",
   "metadata": {
    "tags": [],
    "is_collapsed": false,
    "cell_id": "00047-a0819029-fabf-499e-9cbd-2e837f0f16ab",
    "deepnote_cell_type": "text-cell-p"
   }
  },
  {
   "cell_type": "code",
   "metadata": {
    "tags": [],
    "cell_id": "00052-c04737e2-8510-42f7-861f-c8625338840c",
    "deepnote_to_be_reexecuted": false,
    "source_hash": "2523e3da",
    "execution_start": 1638302964487,
    "execution_millis": 2466765,
    "deepnote_cell_type": "code"
   },
   "source": "# Preparo i dati\nmax_iterations = 100 # max numero di iterazioni\n\n# Dati reali (le top p gestures appena calcolate)\n# Essendo le top p gestures in un 'formato strano' le traduco in un array numpy (sono una lista di dizionari di liste)\nX_train = top_p_gestures_2_numpy(top_p_gestures, t3_query_top_p, t1_metrics_data['filename'])\nX_test = X_train[:10] # Prendo un dato a caso giusto x testare la predict\n#X_test = [np.array([0.5, 0.2, 0.3, 0.7, 0.1])] # Un esempio a caso deve avere p dimensioni (se non presente fra i dati deve dare None)\n\n# Semplice esempio di test su 2 dimensioni\n#X_train = [np.array([1, 1]), np.array([2, 2]), np.array([3, 3]), np.array([4, 1]), np.array([1, 2]), np.array([-1, -2]), np.array([5, 2])]\n#X_test = [np.array([4, 1]), np.array([4, 2])]",
   "execution_count": 38,
   "outputs": []
  },
  {
   "cell_type": "code",
   "metadata": {
    "tags": [],
    "cell_id": "00050-387b0fc0-e1be-4529-ae1a-41b89849d568",
    "deepnote_to_be_reexecuted": false,
    "source_hash": "c8693f90",
    "execution_start": 1638302964488,
    "execution_millis": 3217,
    "deepnote_output_heights": [
     194,
     155.60000610351562
    ],
    "deepnote_cell_type": "code"
   },
   "source": "# Creo e fitto il partizionatore selezionando t4_p_partitions come numero di gruppi da creare\npartitioner = MyPartitioner(t4_p_partitions, max_iterations=max_iterations)\npartitioner.fit(X_train)\n#partitioner.fit(gesture_sim_matrix)\nprint(\"Dimensione spazio:\", partitioner.groups_space_dimension)\n#print(\"Gruppi:\\n\", partitioner.groups)",
   "execution_count": 39,
   "outputs": [
    {
     "name": "stdout",
     "text": "Dimensione spazio: 5.445993583836909\n",
     "output_type": "stream"
    }
   ]
  },
  {
   "cell_type": "code",
   "metadata": {
    "tags": [],
    "cell_id": "00051-57c18208-c98c-46bf-bf97-9c4d242d0c56",
    "deepnote_to_be_reexecuted": false,
    "source_hash": "13c56718",
    "execution_start": 1638302967702,
    "execution_millis": 10,
    "deepnote_cell_type": "code"
   },
   "source": "print(\"Predizione gruppi:\", partitioner.predict(X_test))",
   "execution_count": 40,
   "outputs": [
    {
     "name": "stdout",
     "text": "Predizione gruppi: [0, 2, 0, 0, 0, 2, 2, 0, 2, 0]\n",
     "output_type": "stream"
    }
   ]
  },
  {
   "cell_type": "markdown",
   "source": "### Task 4B",
   "metadata": {
    "tags": [],
    "is_collapsed": false,
    "cell_id": "00046-aba01dff-15c5-4d34-91d7-d45e7d1d2aa0",
    "deepnote_cell_type": "text-cell-h3"
   }
  },
  {
   "cell_type": "markdown",
   "source": "Clustering matrice similarità gesture-gesture con un algoritmo basato sul k-means (scritto da noi)",
   "metadata": {
    "tags": [],
    "is_collapsed": false,
    "cell_id": "00049-e8f155be-1fbc-4c3e-b02b-696dfd483adc",
    "deepnote_cell_type": "text-cell-p"
   }
  },
  {
   "cell_type": "code",
   "metadata": {
    "tags": [],
    "cell_id": "00053-fc41c804-7678-4cea-b1fc-2dcc84e5b4bc",
    "deepnote_to_be_reexecuted": false,
    "source_hash": "29b2d131",
    "execution_start": 1638302967731,
    "execution_millis": 0,
    "deepnote_cell_type": "code"
   },
   "source": "# Settings del k-means\nk = t4_p_partitions # numero clusters\nmin_tolerance = 0.1 #meno di 10% differenza va bene\nmax_iterations = 5 # max numero di iterazioni\n\n# Preparo i dati x il clustering\nX_train = gestures_sim_matrix_pd.to_numpy()\n# Prendo parte dei dati x vedere poi dopo dove sono andati a finire (dovrebbero essere circa tutti nello stesso se prendo tipo i top 10)\n#(poi dopo a causa dell'ordinamento lessicografico posso avere roba differente)\nX_test = X_train[0:10] # Prendo tot elementi del training data e provo poi a predirli, o sotto predico un elemento nuovo",
   "execution_count": 41,
   "outputs": []
  },
  {
   "cell_type": "code",
   "source": "# Creazione e fit dell'algoritmo\nkmean = SimpleKMeans(k=k, min_tolerance=min_tolerance, max_iterations=max_iterations)\nkmean.fit(X_train)",
   "metadata": {
    "tags": [],
    "cell_id": "00058-4ef383b8-7d8c-4a21-b34c-6a26a85da39b",
    "deepnote_to_be_reexecuted": false,
    "source_hash": "418ea723",
    "execution_start": 1638302967740,
    "execution_millis": 41,
    "deepnote_cell_type": "code"
   },
   "outputs": [],
   "execution_count": 42
  },
  {
   "cell_type": "code",
   "metadata": {
    "tags": [],
    "cell_id": "00054-d6a5bc9f-5bba-42b3-93b6-c5846ecf9aea",
    "deepnote_to_be_reexecuted": false,
    "source_hash": "22b3cb16",
    "execution_start": 1638302967785,
    "execution_millis": 17,
    "deepnote_output_heights": [
     21.199996948242188,
     21.199996948242188
    ],
    "deepnote_cell_type": "code"
   },
   "source": "# Predizione dati\npredictions = kmean.predict(X_test)\nprint(predictions)",
   "execution_count": 43,
   "outputs": [
    {
     "name": "stdout",
     "text": "[0, 2, 0, 1, 0, 2, 2, 0, 2, 0]\n",
     "output_type": "stream"
    }
   ]
  },
  {
   "cell_type": "markdown",
   "source": "### Task 4C",
   "metadata": {
    "tags": [],
    "is_collapsed": false,
    "cell_id": "00048-5cfa9be3-10a5-4401-bf03-b9d304c3196b",
    "deepnote_cell_type": "text-cell-h3"
   }
  },
  {
   "cell_type": "markdown",
   "source": "Clustering matrice similarità gesture-gesture con un algoritmo di clustering spettrale basato sulla matrice laplaciana",
   "metadata": {
    "tags": [],
    "is_collapsed": false,
    "cell_id": "00051-03956622-a0af-4ed6-8b21-e44448b6632d",
    "deepnote_cell_type": "text-cell-p"
   }
  },
  {
   "cell_type": "code",
   "metadata": {
    "tags": [],
    "cell_id": "00052-df70d435-7ebe-4eb7-88c2-2742141056d3",
    "deepnote_to_be_reexecuted": false,
    "source_hash": "4d046c65",
    "execution_start": 1638302967811,
    "execution_millis": 317,
    "deepnote_cell_type": "code"
   },
   "source": "analysys_spectral_results = spectral_clustering_analyze(gestures_sim_matrix_pd, max_clusters=15)\nanalysys_spectral_results = spectral_analisys_results_2_pandas(analysys_spectral_results, gestures_sim_matrix_pd)",
   "execution_count": 44,
   "outputs": []
  },
  {
   "cell_type": "code",
   "metadata": {
    "tags": [],
    "cell_id": "00053-9c0ede94-414f-46f9-a4a6-231b3beb4052",
    "deepnote_to_be_reexecuted": false,
    "source_hash": "6e9152ab",
    "execution_start": 1638302968132,
    "execution_millis": 99,
    "deepnote_output_heights": [
     527
    ],
    "deepnote_cell_type": "code"
   },
   "source": "# Plot clusters sankey\nsource, target, value = spectral_analisys_results_pandas_2_split(analysys_spectral_results)\nfig = go.Figure(data=[go.Sankey(\n    node = dict(\n        pad = 15,\n        thickness = 20,\n        line = dict(color = \"black\", width = 0.5),\n        label = list(set(source).union(set(target))),\n        color = \"blue\"\n    ),\n    link = dict(\n        source = source,\n        target = target,\n        value = value\n    )\n)])\n\nfig.update_layout(title_text=\"Spectral Clustering Evolution\", font_size=10)\nfig.show()",
   "execution_count": 45,
   "outputs": [
    {
     "data": {
      "text/html": "<html>\n<head><meta charset=\"utf-8\" /></head>\n<body>\n    <div>            <script src=\"https://cdnjs.cloudflare.com/ajax/libs/mathjax/2.7.5/MathJax.js?config=TeX-AMS-MML_SVG\"></script><script type=\"text/javascript\">if (window.MathJax) {MathJax.Hub.Config({SVG: {font: \"STIX-Web\"}});}</script>                <script type=\"text/javascript\">window.PlotlyConfig = {MathJaxConfig: 'local'};</script>\n        <script src=\"https://cdn.plot.ly/plotly-2.4.2.min.js\"></script>                <div id=\"5c246b4c-6a4b-4f09-8135-db5097eb7aa5\" class=\"plotly-graph-div\" style=\"height:525px; width:100%;\"></div>            <script type=\"text/javascript\">                                    window.PLOTLYENV=window.PLOTLYENV || {};                                    if (document.getElementById(\"5c246b4c-6a4b-4f09-8135-db5097eb7aa5\")) {                    Plotly.newPlot(                        \"5c246b4c-6a4b-4f09-8135-db5097eb7aa5\",                        [{\"link\":{\"source\":[0,0,1,2,2,1,1,3,3,4,5,5,4,4,4,6,9,6,7,7,8,8,7,14,12,10,10,11,10,12,13,13,19,17,20,15,16,15,15,19,16,16,20,18,18,25,24,21,26,27,22,21,22,26,23,27,34,32,28,35,32,29,28,34,29,29,29,33,33,31,30,43,41,41,40,39,42,40,36,42,36,39,38,36,37,44,38,38,53,50,49,48,49,51,45,45,49,47,47,48,48,46,46,54,52,52,51,56,65,65,59,62,59,63,55,60,55,60,63,61,57,57,64,58,64,64,61,71,74,71,75,74,75,69,68,66,72,74,74,77,68,77,66,76,75,75,67,73,69,70,70,72,75,70,77,79,89,88,78,84,80,85,78,87,81,78,81,82,83,82,90,86,90,90,90,87],\"target\":[1,2,3,4,3,5,4,6,9,9,7,6,8,6,7,14,12,10,11,10,13,10,13,19,17,20,15,16,19,20,20,18,25,24,21,26,27,21,22,21,21,22,26,23,26,34,32,28,35,29,35,29,29,33,31,30,43,41,40,39,40,42,36,36,40,39,38,37,42,44,38,53,50,49,48,49,51,50,45,45,49,47,47,48,46,54,52,51,56,65,65,59,62,63,55,60,55,62,60,60,55,61,62,57,64,58,64,71,74,75,69,68,66,72,77,77,66,76,75,67,73,69,70,70,72,75,77,79,89,88,78,88,88,84,80,84,85,84,80,78,87,81,78,81,80,85,82,83,83,90,86,90,90,87,82,98,102,103,91,92,99,101,104,95,104,98,97,94,93,100,100,96,91,101,96,100],\"value\":[66,27,36,25,2,29,1,27,11,1,26,3,23,1,1,12,12,19,18,8,21,2,1,12,9,7,21,18,1,3,8,14,11,9,7,1,15,10,10,2,1,2,11,12,2,11,9,17,1,7,8,3,4,13,12,8,10,7,3,9,2,9,14,1,1,2,2,12,1,12,8,10,6,1,5,4,8,1,11,2,3,7,1,1,12,12,7,2,10,7,1,4,4,8,10,3,3,3,5,1,1,11,1,12,5,2,2,10,6,2,3,8,1,6,7,2,7,7,2,10,11,1,5,2,1,1,1,9,3,1,1,1,1,3,4,1,6,1,1,7,4,2,7,7,1,1,10,11,1,3,3,1,1,1,1,9,3,3,7,5,6,7,7,4,2,1,7,10,12,1,2,3,1,1,1,1]},\"node\":{\"color\":\"blue\",\"label\":[0,1,2,3,4,5,6,7,8,9,10,11,12,13,14,15,16,17,18,19,20,21,22,23,24,25,26,27,28,29,30,31,32,33,34,35,36,37,38,39,40,41,42,43,44,45,46,47,48,49,50,51,52,53,54,55,56,57,58,59,60,61,62,63,64,65,66,67,68,69,70,71,72,73,74,75,76,77,78,79,80,81,82,83,84,85,86,87,88,89,90,91,92,93,94,95,96,97,98,99,100,101,102,103,104],\"line\":{\"color\":\"black\",\"width\":0.5},\"pad\":15,\"thickness\":20},\"type\":\"sankey\"}],                        {\"font\":{\"size\":10},\"template\":{\"data\":{\"bar\":[{\"error_x\":{\"color\":\"#2a3f5f\"},\"error_y\":{\"color\":\"#2a3f5f\"},\"marker\":{\"line\":{\"color\":\"#E5ECF6\",\"width\":0.5},\"pattern\":{\"fillmode\":\"overlay\",\"size\":10,\"solidity\":0.2}},\"type\":\"bar\"}],\"barpolar\":[{\"marker\":{\"line\":{\"color\":\"#E5ECF6\",\"width\":0.5},\"pattern\":{\"fillmode\":\"overlay\",\"size\":10,\"solidity\":0.2}},\"type\":\"barpolar\"}],\"carpet\":[{\"aaxis\":{\"endlinecolor\":\"#2a3f5f\",\"gridcolor\":\"white\",\"linecolor\":\"white\",\"minorgridcolor\":\"white\",\"startlinecolor\":\"#2a3f5f\"},\"baxis\":{\"endlinecolor\":\"#2a3f5f\",\"gridcolor\":\"white\",\"linecolor\":\"white\",\"minorgridcolor\":\"white\",\"startlinecolor\":\"#2a3f5f\"},\"type\":\"carpet\"}],\"choropleth\":[{\"colorbar\":{\"outlinewidth\":0,\"ticks\":\"\"},\"type\":\"choropleth\"}],\"contour\":[{\"colorbar\":{\"outlinewidth\":0,\"ticks\":\"\"},\"colorscale\":[[0.0,\"#0d0887\"],[0.1111111111111111,\"#46039f\"],[0.2222222222222222,\"#7201a8\"],[0.3333333333333333,\"#9c179e\"],[0.4444444444444444,\"#bd3786\"],[0.5555555555555556,\"#d8576b\"],[0.6666666666666666,\"#ed7953\"],[0.7777777777777778,\"#fb9f3a\"],[0.8888888888888888,\"#fdca26\"],[1.0,\"#f0f921\"]],\"type\":\"contour\"}],\"contourcarpet\":[{\"colorbar\":{\"outlinewidth\":0,\"ticks\":\"\"},\"type\":\"contourcarpet\"}],\"heatmap\":[{\"colorbar\":{\"outlinewidth\":0,\"ticks\":\"\"},\"colorscale\":[[0.0,\"#0d0887\"],[0.1111111111111111,\"#46039f\"],[0.2222222222222222,\"#7201a8\"],[0.3333333333333333,\"#9c179e\"],[0.4444444444444444,\"#bd3786\"],[0.5555555555555556,\"#d8576b\"],[0.6666666666666666,\"#ed7953\"],[0.7777777777777778,\"#fb9f3a\"],[0.8888888888888888,\"#fdca26\"],[1.0,\"#f0f921\"]],\"type\":\"heatmap\"}],\"heatmapgl\":[{\"colorbar\":{\"outlinewidth\":0,\"ticks\":\"\"},\"colorscale\":[[0.0,\"#0d0887\"],[0.1111111111111111,\"#46039f\"],[0.2222222222222222,\"#7201a8\"],[0.3333333333333333,\"#9c179e\"],[0.4444444444444444,\"#bd3786\"],[0.5555555555555556,\"#d8576b\"],[0.6666666666666666,\"#ed7953\"],[0.7777777777777778,\"#fb9f3a\"],[0.8888888888888888,\"#fdca26\"],[1.0,\"#f0f921\"]],\"type\":\"heatmapgl\"}],\"histogram\":[{\"marker\":{\"pattern\":{\"fillmode\":\"overlay\",\"size\":10,\"solidity\":0.2}},\"type\":\"histogram\"}],\"histogram2d\":[{\"colorbar\":{\"outlinewidth\":0,\"ticks\":\"\"},\"colorscale\":[[0.0,\"#0d0887\"],[0.1111111111111111,\"#46039f\"],[0.2222222222222222,\"#7201a8\"],[0.3333333333333333,\"#9c179e\"],[0.4444444444444444,\"#bd3786\"],[0.5555555555555556,\"#d8576b\"],[0.6666666666666666,\"#ed7953\"],[0.7777777777777778,\"#fb9f3a\"],[0.8888888888888888,\"#fdca26\"],[1.0,\"#f0f921\"]],\"type\":\"histogram2d\"}],\"histogram2dcontour\":[{\"colorbar\":{\"outlinewidth\":0,\"ticks\":\"\"},\"colorscale\":[[0.0,\"#0d0887\"],[0.1111111111111111,\"#46039f\"],[0.2222222222222222,\"#7201a8\"],[0.3333333333333333,\"#9c179e\"],[0.4444444444444444,\"#bd3786\"],[0.5555555555555556,\"#d8576b\"],[0.6666666666666666,\"#ed7953\"],[0.7777777777777778,\"#fb9f3a\"],[0.8888888888888888,\"#fdca26\"],[1.0,\"#f0f921\"]],\"type\":\"histogram2dcontour\"}],\"mesh3d\":[{\"colorbar\":{\"outlinewidth\":0,\"ticks\":\"\"},\"type\":\"mesh3d\"}],\"parcoords\":[{\"line\":{\"colorbar\":{\"outlinewidth\":0,\"ticks\":\"\"}},\"type\":\"parcoords\"}],\"pie\":[{\"automargin\":true,\"type\":\"pie\"}],\"scatter\":[{\"marker\":{\"colorbar\":{\"outlinewidth\":0,\"ticks\":\"\"}},\"type\":\"scatter\"}],\"scatter3d\":[{\"line\":{\"colorbar\":{\"outlinewidth\":0,\"ticks\":\"\"}},\"marker\":{\"colorbar\":{\"outlinewidth\":0,\"ticks\":\"\"}},\"type\":\"scatter3d\"}],\"scattercarpet\":[{\"marker\":{\"colorbar\":{\"outlinewidth\":0,\"ticks\":\"\"}},\"type\":\"scattercarpet\"}],\"scattergeo\":[{\"marker\":{\"colorbar\":{\"outlinewidth\":0,\"ticks\":\"\"}},\"type\":\"scattergeo\"}],\"scattergl\":[{\"marker\":{\"colorbar\":{\"outlinewidth\":0,\"ticks\":\"\"}},\"type\":\"scattergl\"}],\"scattermapbox\":[{\"marker\":{\"colorbar\":{\"outlinewidth\":0,\"ticks\":\"\"}},\"type\":\"scattermapbox\"}],\"scatterpolar\":[{\"marker\":{\"colorbar\":{\"outlinewidth\":0,\"ticks\":\"\"}},\"type\":\"scatterpolar\"}],\"scatterpolargl\":[{\"marker\":{\"colorbar\":{\"outlinewidth\":0,\"ticks\":\"\"}},\"type\":\"scatterpolargl\"}],\"scatterternary\":[{\"marker\":{\"colorbar\":{\"outlinewidth\":0,\"ticks\":\"\"}},\"type\":\"scatterternary\"}],\"surface\":[{\"colorbar\":{\"outlinewidth\":0,\"ticks\":\"\"},\"colorscale\":[[0.0,\"#0d0887\"],[0.1111111111111111,\"#46039f\"],[0.2222222222222222,\"#7201a8\"],[0.3333333333333333,\"#9c179e\"],[0.4444444444444444,\"#bd3786\"],[0.5555555555555556,\"#d8576b\"],[0.6666666666666666,\"#ed7953\"],[0.7777777777777778,\"#fb9f3a\"],[0.8888888888888888,\"#fdca26\"],[1.0,\"#f0f921\"]],\"type\":\"surface\"}],\"table\":[{\"cells\":{\"fill\":{\"color\":\"#EBF0F8\"},\"line\":{\"color\":\"white\"}},\"header\":{\"fill\":{\"color\":\"#C8D4E3\"},\"line\":{\"color\":\"white\"}},\"type\":\"table\"}]},\"layout\":{\"annotationdefaults\":{\"arrowcolor\":\"#2a3f5f\",\"arrowhead\":0,\"arrowwidth\":1},\"autotypenumbers\":\"strict\",\"coloraxis\":{\"colorbar\":{\"outlinewidth\":0,\"ticks\":\"\"}},\"colorscale\":{\"diverging\":[[0,\"#8e0152\"],[0.1,\"#c51b7d\"],[0.2,\"#de77ae\"],[0.3,\"#f1b6da\"],[0.4,\"#fde0ef\"],[0.5,\"#f7f7f7\"],[0.6,\"#e6f5d0\"],[0.7,\"#b8e186\"],[0.8,\"#7fbc41\"],[0.9,\"#4d9221\"],[1,\"#276419\"]],\"sequential\":[[0.0,\"#0d0887\"],[0.1111111111111111,\"#46039f\"],[0.2222222222222222,\"#7201a8\"],[0.3333333333333333,\"#9c179e\"],[0.4444444444444444,\"#bd3786\"],[0.5555555555555556,\"#d8576b\"],[0.6666666666666666,\"#ed7953\"],[0.7777777777777778,\"#fb9f3a\"],[0.8888888888888888,\"#fdca26\"],[1.0,\"#f0f921\"]],\"sequentialminus\":[[0.0,\"#0d0887\"],[0.1111111111111111,\"#46039f\"],[0.2222222222222222,\"#7201a8\"],[0.3333333333333333,\"#9c179e\"],[0.4444444444444444,\"#bd3786\"],[0.5555555555555556,\"#d8576b\"],[0.6666666666666666,\"#ed7953\"],[0.7777777777777778,\"#fb9f3a\"],[0.8888888888888888,\"#fdca26\"],[1.0,\"#f0f921\"]]},\"colorway\":[\"#636efa\",\"#EF553B\",\"#00cc96\",\"#ab63fa\",\"#FFA15A\",\"#19d3f3\",\"#FF6692\",\"#B6E880\",\"#FF97FF\",\"#FECB52\"],\"font\":{\"color\":\"#2a3f5f\"},\"geo\":{\"bgcolor\":\"white\",\"lakecolor\":\"white\",\"landcolor\":\"#E5ECF6\",\"showlakes\":true,\"showland\":true,\"subunitcolor\":\"white\"},\"hoverlabel\":{\"align\":\"left\"},\"hovermode\":\"closest\",\"mapbox\":{\"style\":\"light\"},\"paper_bgcolor\":\"white\",\"plot_bgcolor\":\"#E5ECF6\",\"polar\":{\"angularaxis\":{\"gridcolor\":\"white\",\"linecolor\":\"white\",\"ticks\":\"\"},\"bgcolor\":\"#E5ECF6\",\"radialaxis\":{\"gridcolor\":\"white\",\"linecolor\":\"white\",\"ticks\":\"\"}},\"scene\":{\"xaxis\":{\"backgroundcolor\":\"#E5ECF6\",\"gridcolor\":\"white\",\"gridwidth\":2,\"linecolor\":\"white\",\"showbackground\":true,\"ticks\":\"\",\"zerolinecolor\":\"white\"},\"yaxis\":{\"backgroundcolor\":\"#E5ECF6\",\"gridcolor\":\"white\",\"gridwidth\":2,\"linecolor\":\"white\",\"showbackground\":true,\"ticks\":\"\",\"zerolinecolor\":\"white\"},\"zaxis\":{\"backgroundcolor\":\"#E5ECF6\",\"gridcolor\":\"white\",\"gridwidth\":2,\"linecolor\":\"white\",\"showbackground\":true,\"ticks\":\"\",\"zerolinecolor\":\"white\"}},\"shapedefaults\":{\"line\":{\"color\":\"#2a3f5f\"}},\"ternary\":{\"aaxis\":{\"gridcolor\":\"white\",\"linecolor\":\"white\",\"ticks\":\"\"},\"baxis\":{\"gridcolor\":\"white\",\"linecolor\":\"white\",\"ticks\":\"\"},\"bgcolor\":\"#E5ECF6\",\"caxis\":{\"gridcolor\":\"white\",\"linecolor\":\"white\",\"ticks\":\"\"}},\"title\":{\"x\":0.05},\"xaxis\":{\"automargin\":true,\"gridcolor\":\"white\",\"linecolor\":\"white\",\"ticks\":\"\",\"title\":{\"standoff\":15},\"zerolinecolor\":\"white\",\"zerolinewidth\":2},\"yaxis\":{\"automargin\":true,\"gridcolor\":\"white\",\"linecolor\":\"white\",\"ticks\":\"\",\"title\":{\"standoff\":15},\"zerolinecolor\":\"white\",\"zerolinewidth\":2}}},\"title\":{\"text\":\"Spectral Clustering Evolution\"}},                        {\"responsive\": true}                    ).then(function(){\n                            \nvar gd = document.getElementById('5c246b4c-6a4b-4f09-8135-db5097eb7aa5');\nvar x = new MutationObserver(function (mutations, observer) {{\n        var display = window.getComputedStyle(gd).display;\n        if (!display || display === 'none') {{\n            console.log([gd, 'removed!']);\n            Plotly.purge(gd);\n            observer.disconnect();\n        }}\n}});\n\n// Listen for the removal of the full notebook cells\nvar notebookContainer = gd.closest('#notebook-container');\nif (notebookContainer) {{\n    x.observe(notebookContainer, {childList: true});\n}}\n\n// Listen for the clearing of the current output cell\nvar outputEl = gd.closest('.output');\nif (outputEl) {{\n    x.observe(outputEl, {childList: true});\n}}\n\n                        })                };                            </script>        </div>\n</body>\n</html>"
     },
     "metadata": {},
     "output_type": "display_data"
    }
   ]
  },
  {
   "cell_type": "code",
   "metadata": {
    "tags": [],
    "cell_id": "00064-dcc73abb-8745-4437-80f2-3714d5ed2b6e",
    "deepnote_to_be_reexecuted": false,
    "source_hash": "61bc35c5",
    "execution_start": 1638302968237,
    "execution_millis": 26,
    "deepnote_cell_type": "code"
   },
   "source": "generated_cluster_labels = spectral_clustering(gestures_sim_matrix_pd, n_clusters=t4_p_partitions)#, offset=44) # Usare offset se vogliamo mostrare i nomi dei cluster mostrati nel sankey, offset=44 per n_clusters=10\nclustering_labels = [str(elem) for elem in set(generated_cluster_labels)] # All the cluster names\ncluster_labels_full = cluster_labels_2_pandas(generated_cluster_labels, gestures_sim_matrix_pd.columns)",
   "execution_count": 46,
   "outputs": []
  },
  {
   "cell_type": "code",
   "metadata": {
    "tags": [],
    "cell_id": "00065-23d0f2d0-ab55-4cde-8c6c-ed3697cb19d0",
    "deepnote_to_be_reexecuted": false,
    "source_hash": "6c26d295",
    "execution_start": 1638302968270,
    "execution_millis": 29,
    "deepnote_cell_type": "code"
   },
   "source": "print(\"Cluster Names:\", clustering_labels)\nprint(\"\\nClustering Result:\\n\", generated_cluster_labels)\n## In caso si voglia far vedere per bene le accoppiate (Gesture X, Label Y)\nprint(\"\\nClustering Results(full info):\\n\", cluster_labels_full)",
   "execution_count": 47,
   "outputs": [
    {
     "name": "stdout",
     "text": "Cluster Names: ['0', '1', '2']\n\nClustering Result:\n [0 0 0 0 1 0 0 0 0 0 0 0 0 2 0 0 0 0 0 2 0 0 2 0 0 0 0 0 0 0 0 2 0 0 2 0 0\n 2 2 2 0 2 2 0 2 2 2 2 2 2 2 0 0 1 0 0 1 1 0 1 1 1 1 1 1 1 1 1 1 1 1 1 1 1\n 1 1 1 2 2 2 2 2 2 2 2 2 2 2 2 1 1 1 1]\n\nClustering Results(full info):\n [{'Gesture': '1', 'Label': 0}, {'Gesture': '10', 'Label': 0}, {'Gesture': '11', 'Label': 0}, {'Gesture': '12', 'Label': 0}, {'Gesture': '13', 'Label': 1}, {'Gesture': '14', 'Label': 0}, {'Gesture': '15', 'Label': 0}, {'Gesture': '16', 'Label': 0}, {'Gesture': '17', 'Label': 0}, {'Gesture': '18', 'Label': 0}, {'Gesture': '19', 'Label': 0}, {'Gesture': '2', 'Label': 0}, {'Gesture': '20', 'Label': 0}, {'Gesture': '21', 'Label': 2}, {'Gesture': '22', 'Label': 0}, {'Gesture': '23', 'Label': 0}, {'Gesture': '24', 'Label': 0}, {'Gesture': '249', 'Label': 0}, {'Gesture': '25', 'Label': 0}, {'Gesture': '250', 'Label': 2}, {'Gesture': '251', 'Label': 0}, {'Gesture': '252', 'Label': 0}, {'Gesture': '253', 'Label': 2}, {'Gesture': '254', 'Label': 0}, {'Gesture': '255', 'Label': 0}, {'Gesture': '256', 'Label': 0}, {'Gesture': '257', 'Label': 0}, {'Gesture': '258', 'Label': 0}, {'Gesture': '259', 'Label': 0}, {'Gesture': '26', 'Label': 0}, {'Gesture': '260', 'Label': 0}, {'Gesture': '261', 'Label': 2}, {'Gesture': '262', 'Label': 0}, {'Gesture': '263', 'Label': 0}, {'Gesture': '264', 'Label': 2}, {'Gesture': '265', 'Label': 0}, {'Gesture': '266', 'Label': 0}, {'Gesture': '267', 'Label': 2}, {'Gesture': '268', 'Label': 2}, {'Gesture': '269', 'Label': 2}, {'Gesture': '27', 'Label': 0}, {'Gesture': '270', 'Label': 2}, {'Gesture': '271', 'Label': 2}, {'Gesture': '272', 'Label': 0}, {'Gesture': '273', 'Label': 2}, {'Gesture': '274', 'Label': 2}, {'Gesture': '275', 'Label': 2}, {'Gesture': '276', 'Label': 2}, {'Gesture': '277', 'Label': 2}, {'Gesture': '278', 'Label': 2}, {'Gesture': '279', 'Label': 2}, {'Gesture': '28', 'Label': 0}, {'Gesture': '29', 'Label': 0}, {'Gesture': '3', 'Label': 1}, {'Gesture': '30', 'Label': 0}, {'Gesture': '31', 'Label': 0}, {'Gesture': '4', 'Label': 1}, {'Gesture': '5', 'Label': 1}, {'Gesture': '559', 'Label': 0}, {'Gesture': '560', 'Label': 1}, {'Gesture': '561', 'Label': 1}, {'Gesture': '562', 'Label': 1}, {'Gesture': '563', 'Label': 1}, {'Gesture': '564', 'Label': 1}, {'Gesture': '565', 'Label': 1}, {'Gesture': '566', 'Label': 1}, {'Gesture': '567', 'Label': 1}, {'Gesture': '568', 'Label': 1}, {'Gesture': '569', 'Label': 1}, {'Gesture': '570', 'Label': 1}, {'Gesture': '571', 'Label': 1}, {'Gesture': '572', 'Label': 1}, {'Gesture': '573', 'Label': 1}, {'Gesture': '574', 'Label': 1}, {'Gesture': '575', 'Label': 1}, {'Gesture': '576', 'Label': 1}, {'Gesture': '577', 'Label': 1}, {'Gesture': '578', 'Label': 2}, {'Gesture': '579', 'Label': 2}, {'Gesture': '580', 'Label': 2}, {'Gesture': '581', 'Label': 2}, {'Gesture': '582', 'Label': 2}, {'Gesture': '583', 'Label': 2}, {'Gesture': '584', 'Label': 2}, {'Gesture': '585', 'Label': 2}, {'Gesture': '586', 'Label': 2}, {'Gesture': '587', 'Label': 2}, {'Gesture': '588', 'Label': 2}, {'Gesture': '589', 'Label': 2}, {'Gesture': '6', 'Label': 1}, {'Gesture': '7', 'Label': 1}, {'Gesture': '8', 'Label': 1}, {'Gesture': '9', 'Label': 1}]\n",
     "output_type": "stream"
    }
   ]
  },
  {
   "cell_type": "markdown",
   "source": "## Task 5 ",
   "metadata": {
    "tags": [],
    "is_collapsed": false,
    "cell_id": "00047-ca6ba479-67d1-47c0-9e18-3f88843cf02f",
    "deepnote_cell_type": "text-cell-h2"
   }
  },
  {
   "cell_type": "code",
   "source": "# Preparazione dataset\n# In task 1 avevo generato i dati utilizzabili qui che sono in\n#t5_data = { 'data', 'labels' }\n# Posso usare meno feature latenti facendo\nn_features_latenti = 5\ntask_data = t5_data['data'][:,:n_features_latenti]\ntask_target = t5_data['labels']\n# Genero il dataframe pandas a partire dai dati e dalle loro labels\n(X_train_df, y_train_df), (X_test_df, y_test_df), features_names = database_numpy_2_supervised_data(task_data, task_target)\n\nX_train = X_train_df.to_numpy()\ny_train = y_train_df.values.ravel()\n# Normalizzo i dati di test\nX_test = X_test_df.to_numpy()\ny_test = y_test_df.values.ravel()",
   "metadata": {
    "tags": [],
    "cell_id": "00067-76b186c5-5cb0-4b47-b940-e567f47b3667",
    "deepnote_to_be_reexecuted": false,
    "source_hash": "5808808f",
    "execution_start": 1638302968304,
    "execution_millis": 267,
    "deepnote_cell_type": "code"
   },
   "outputs": [],
   "execution_count": 48
  },
  {
   "cell_type": "markdown",
   "source": "### Classificazione con k-nearest neighbor",
   "metadata": {
    "tags": [],
    "is_collapsed": false,
    "cell_id": "00058-be2015dd-a32d-49bd-80ca-c70d45ea5f1d",
    "deepnote_cell_type": "text-cell-h3"
   }
  },
  {
   "cell_type": "code",
   "source": "weight = 'distance'#'uniform', 'distance'\naccuracy_data_df = test_knn_best_K(X_train, y_train, X_test, y_test, max_neighbors=len(X_train)+1, weights=weight)\nfig = px.line(accuracy_data_df, x=\"# Neighbors\", y=\"Accuracy\", title='Life expectancy in Ugoland')\nfig.show()",
   "metadata": {
    "tags": [],
    "cell_id": "00070-72e9d292-d2c4-4fd3-b412-bffa2a35686e",
    "deepnote_to_be_reexecuted": false,
    "source_hash": "6b0ede7e",
    "execution_start": 1638302968576,
    "execution_millis": 559,
    "deepnote_output_heights": [
     527
    ],
    "deepnote_cell_type": "code"
   },
   "outputs": [
    {
     "data": {
      "text/html": "<html>\n<head><meta charset=\"utf-8\" /></head>\n<body>\n    <div>            <script src=\"https://cdnjs.cloudflare.com/ajax/libs/mathjax/2.7.5/MathJax.js?config=TeX-AMS-MML_SVG\"></script><script type=\"text/javascript\">if (window.MathJax) {MathJax.Hub.Config({SVG: {font: \"STIX-Web\"}});}</script>                <script type=\"text/javascript\">window.PlotlyConfig = {MathJaxConfig: 'local'};</script>\n        <script src=\"https://cdn.plot.ly/plotly-2.4.2.min.js\"></script>                <div id=\"d7746be1-f7ef-4c56-a419-693d6425ab9f\" class=\"plotly-graph-div\" style=\"height:525px; width:100%;\"></div>            <script type=\"text/javascript\">                                    window.PLOTLYENV=window.PLOTLYENV || {};                                    if (document.getElementById(\"d7746be1-f7ef-4c56-a419-693d6425ab9f\")) {                    Plotly.newPlot(                        \"d7746be1-f7ef-4c56-a419-693d6425ab9f\",                        [{\"hovertemplate\":\"# Neighbors=%{x}<br>Accuracy=%{y}<extra></extra>\",\"legendgroup\":\"\",\"line\":{\"color\":\"#636efa\",\"dash\":\"solid\"},\"marker\":{\"symbol\":\"circle\"},\"mode\":\"lines\",\"name\":\"\",\"orientation\":\"v\",\"showlegend\":false,\"type\":\"scatter\",\"x\":[1.0,2.0,3.0,4.0,5.0,6.0,7.0,8.0,9.0,10.0,11.0,12.0,13.0,14.0,15.0,16.0,17.0,18.0,19.0,20.0,21.0,22.0,23.0,24.0,25.0,26.0,27.0,28.0,29.0,30.0,31.0,32.0,33.0,34.0,35.0,36.0,37.0,38.0,39.0,40.0,41.0,42.0,43.0,44.0,45.0,46.0,47.0,48.0,49.0,50.0,51.0,52.0,53.0,54.0,55.0,56.0,57.0,58.0,59.0,60.0,61.0,62.0,63.0,64.0,65.0],\"xaxis\":\"x\",\"y\":[0.64286,0.64286,0.64286,0.64286,0.67857,0.71429,0.67857,0.67857,0.67857,0.67857,0.71429,0.67857,0.67857,0.67857,0.71429,0.71429,0.71429,0.71429,0.75,0.71429,0.75,0.71429,0.71429,0.71429,0.71429,0.71429,0.71429,0.71429,0.71429,0.71429,0.71429,0.71429,0.71429,0.71429,0.71429,0.71429,0.71429,0.71429,0.71429,0.71429,0.71429,0.71429,0.71429,0.71429,0.71429,0.71429,0.71429,0.71429,0.71429,0.71429,0.71429,0.71429,0.71429,0.71429,0.71429,0.71429,0.71429,0.67857,0.67857,0.71429,0.67857,0.71429,0.71429,0.67857,0.67857],\"yaxis\":\"y\"}],                        {\"legend\":{\"tracegroupgap\":0},\"template\":{\"data\":{\"bar\":[{\"error_x\":{\"color\":\"#2a3f5f\"},\"error_y\":{\"color\":\"#2a3f5f\"},\"marker\":{\"line\":{\"color\":\"#E5ECF6\",\"width\":0.5},\"pattern\":{\"fillmode\":\"overlay\",\"size\":10,\"solidity\":0.2}},\"type\":\"bar\"}],\"barpolar\":[{\"marker\":{\"line\":{\"color\":\"#E5ECF6\",\"width\":0.5},\"pattern\":{\"fillmode\":\"overlay\",\"size\":10,\"solidity\":0.2}},\"type\":\"barpolar\"}],\"carpet\":[{\"aaxis\":{\"endlinecolor\":\"#2a3f5f\",\"gridcolor\":\"white\",\"linecolor\":\"white\",\"minorgridcolor\":\"white\",\"startlinecolor\":\"#2a3f5f\"},\"baxis\":{\"endlinecolor\":\"#2a3f5f\",\"gridcolor\":\"white\",\"linecolor\":\"white\",\"minorgridcolor\":\"white\",\"startlinecolor\":\"#2a3f5f\"},\"type\":\"carpet\"}],\"choropleth\":[{\"colorbar\":{\"outlinewidth\":0,\"ticks\":\"\"},\"type\":\"choropleth\"}],\"contour\":[{\"colorbar\":{\"outlinewidth\":0,\"ticks\":\"\"},\"colorscale\":[[0.0,\"#0d0887\"],[0.1111111111111111,\"#46039f\"],[0.2222222222222222,\"#7201a8\"],[0.3333333333333333,\"#9c179e\"],[0.4444444444444444,\"#bd3786\"],[0.5555555555555556,\"#d8576b\"],[0.6666666666666666,\"#ed7953\"],[0.7777777777777778,\"#fb9f3a\"],[0.8888888888888888,\"#fdca26\"],[1.0,\"#f0f921\"]],\"type\":\"contour\"}],\"contourcarpet\":[{\"colorbar\":{\"outlinewidth\":0,\"ticks\":\"\"},\"type\":\"contourcarpet\"}],\"heatmap\":[{\"colorbar\":{\"outlinewidth\":0,\"ticks\":\"\"},\"colorscale\":[[0.0,\"#0d0887\"],[0.1111111111111111,\"#46039f\"],[0.2222222222222222,\"#7201a8\"],[0.3333333333333333,\"#9c179e\"],[0.4444444444444444,\"#bd3786\"],[0.5555555555555556,\"#d8576b\"],[0.6666666666666666,\"#ed7953\"],[0.7777777777777778,\"#fb9f3a\"],[0.8888888888888888,\"#fdca26\"],[1.0,\"#f0f921\"]],\"type\":\"heatmap\"}],\"heatmapgl\":[{\"colorbar\":{\"outlinewidth\":0,\"ticks\":\"\"},\"colorscale\":[[0.0,\"#0d0887\"],[0.1111111111111111,\"#46039f\"],[0.2222222222222222,\"#7201a8\"],[0.3333333333333333,\"#9c179e\"],[0.4444444444444444,\"#bd3786\"],[0.5555555555555556,\"#d8576b\"],[0.6666666666666666,\"#ed7953\"],[0.7777777777777778,\"#fb9f3a\"],[0.8888888888888888,\"#fdca26\"],[1.0,\"#f0f921\"]],\"type\":\"heatmapgl\"}],\"histogram\":[{\"marker\":{\"pattern\":{\"fillmode\":\"overlay\",\"size\":10,\"solidity\":0.2}},\"type\":\"histogram\"}],\"histogram2d\":[{\"colorbar\":{\"outlinewidth\":0,\"ticks\":\"\"},\"colorscale\":[[0.0,\"#0d0887\"],[0.1111111111111111,\"#46039f\"],[0.2222222222222222,\"#7201a8\"],[0.3333333333333333,\"#9c179e\"],[0.4444444444444444,\"#bd3786\"],[0.5555555555555556,\"#d8576b\"],[0.6666666666666666,\"#ed7953\"],[0.7777777777777778,\"#fb9f3a\"],[0.8888888888888888,\"#fdca26\"],[1.0,\"#f0f921\"]],\"type\":\"histogram2d\"}],\"histogram2dcontour\":[{\"colorbar\":{\"outlinewidth\":0,\"ticks\":\"\"},\"colorscale\":[[0.0,\"#0d0887\"],[0.1111111111111111,\"#46039f\"],[0.2222222222222222,\"#7201a8\"],[0.3333333333333333,\"#9c179e\"],[0.4444444444444444,\"#bd3786\"],[0.5555555555555556,\"#d8576b\"],[0.6666666666666666,\"#ed7953\"],[0.7777777777777778,\"#fb9f3a\"],[0.8888888888888888,\"#fdca26\"],[1.0,\"#f0f921\"]],\"type\":\"histogram2dcontour\"}],\"mesh3d\":[{\"colorbar\":{\"outlinewidth\":0,\"ticks\":\"\"},\"type\":\"mesh3d\"}],\"parcoords\":[{\"line\":{\"colorbar\":{\"outlinewidth\":0,\"ticks\":\"\"}},\"type\":\"parcoords\"}],\"pie\":[{\"automargin\":true,\"type\":\"pie\"}],\"scatter\":[{\"marker\":{\"colorbar\":{\"outlinewidth\":0,\"ticks\":\"\"}},\"type\":\"scatter\"}],\"scatter3d\":[{\"line\":{\"colorbar\":{\"outlinewidth\":0,\"ticks\":\"\"}},\"marker\":{\"colorbar\":{\"outlinewidth\":0,\"ticks\":\"\"}},\"type\":\"scatter3d\"}],\"scattercarpet\":[{\"marker\":{\"colorbar\":{\"outlinewidth\":0,\"ticks\":\"\"}},\"type\":\"scattercarpet\"}],\"scattergeo\":[{\"marker\":{\"colorbar\":{\"outlinewidth\":0,\"ticks\":\"\"}},\"type\":\"scattergeo\"}],\"scattergl\":[{\"marker\":{\"colorbar\":{\"outlinewidth\":0,\"ticks\":\"\"}},\"type\":\"scattergl\"}],\"scattermapbox\":[{\"marker\":{\"colorbar\":{\"outlinewidth\":0,\"ticks\":\"\"}},\"type\":\"scattermapbox\"}],\"scatterpolar\":[{\"marker\":{\"colorbar\":{\"outlinewidth\":0,\"ticks\":\"\"}},\"type\":\"scatterpolar\"}],\"scatterpolargl\":[{\"marker\":{\"colorbar\":{\"outlinewidth\":0,\"ticks\":\"\"}},\"type\":\"scatterpolargl\"}],\"scatterternary\":[{\"marker\":{\"colorbar\":{\"outlinewidth\":0,\"ticks\":\"\"}},\"type\":\"scatterternary\"}],\"surface\":[{\"colorbar\":{\"outlinewidth\":0,\"ticks\":\"\"},\"colorscale\":[[0.0,\"#0d0887\"],[0.1111111111111111,\"#46039f\"],[0.2222222222222222,\"#7201a8\"],[0.3333333333333333,\"#9c179e\"],[0.4444444444444444,\"#bd3786\"],[0.5555555555555556,\"#d8576b\"],[0.6666666666666666,\"#ed7953\"],[0.7777777777777778,\"#fb9f3a\"],[0.8888888888888888,\"#fdca26\"],[1.0,\"#f0f921\"]],\"type\":\"surface\"}],\"table\":[{\"cells\":{\"fill\":{\"color\":\"#EBF0F8\"},\"line\":{\"color\":\"white\"}},\"header\":{\"fill\":{\"color\":\"#C8D4E3\"},\"line\":{\"color\":\"white\"}},\"type\":\"table\"}]},\"layout\":{\"annotationdefaults\":{\"arrowcolor\":\"#2a3f5f\",\"arrowhead\":0,\"arrowwidth\":1},\"autotypenumbers\":\"strict\",\"coloraxis\":{\"colorbar\":{\"outlinewidth\":0,\"ticks\":\"\"}},\"colorscale\":{\"diverging\":[[0,\"#8e0152\"],[0.1,\"#c51b7d\"],[0.2,\"#de77ae\"],[0.3,\"#f1b6da\"],[0.4,\"#fde0ef\"],[0.5,\"#f7f7f7\"],[0.6,\"#e6f5d0\"],[0.7,\"#b8e186\"],[0.8,\"#7fbc41\"],[0.9,\"#4d9221\"],[1,\"#276419\"]],\"sequential\":[[0.0,\"#0d0887\"],[0.1111111111111111,\"#46039f\"],[0.2222222222222222,\"#7201a8\"],[0.3333333333333333,\"#9c179e\"],[0.4444444444444444,\"#bd3786\"],[0.5555555555555556,\"#d8576b\"],[0.6666666666666666,\"#ed7953\"],[0.7777777777777778,\"#fb9f3a\"],[0.8888888888888888,\"#fdca26\"],[1.0,\"#f0f921\"]],\"sequentialminus\":[[0.0,\"#0d0887\"],[0.1111111111111111,\"#46039f\"],[0.2222222222222222,\"#7201a8\"],[0.3333333333333333,\"#9c179e\"],[0.4444444444444444,\"#bd3786\"],[0.5555555555555556,\"#d8576b\"],[0.6666666666666666,\"#ed7953\"],[0.7777777777777778,\"#fb9f3a\"],[0.8888888888888888,\"#fdca26\"],[1.0,\"#f0f921\"]]},\"colorway\":[\"#636efa\",\"#EF553B\",\"#00cc96\",\"#ab63fa\",\"#FFA15A\",\"#19d3f3\",\"#FF6692\",\"#B6E880\",\"#FF97FF\",\"#FECB52\"],\"font\":{\"color\":\"#2a3f5f\"},\"geo\":{\"bgcolor\":\"white\",\"lakecolor\":\"white\",\"landcolor\":\"#E5ECF6\",\"showlakes\":true,\"showland\":true,\"subunitcolor\":\"white\"},\"hoverlabel\":{\"align\":\"left\"},\"hovermode\":\"closest\",\"mapbox\":{\"style\":\"light\"},\"paper_bgcolor\":\"white\",\"plot_bgcolor\":\"#E5ECF6\",\"polar\":{\"angularaxis\":{\"gridcolor\":\"white\",\"linecolor\":\"white\",\"ticks\":\"\"},\"bgcolor\":\"#E5ECF6\",\"radialaxis\":{\"gridcolor\":\"white\",\"linecolor\":\"white\",\"ticks\":\"\"}},\"scene\":{\"xaxis\":{\"backgroundcolor\":\"#E5ECF6\",\"gridcolor\":\"white\",\"gridwidth\":2,\"linecolor\":\"white\",\"showbackground\":true,\"ticks\":\"\",\"zerolinecolor\":\"white\"},\"yaxis\":{\"backgroundcolor\":\"#E5ECF6\",\"gridcolor\":\"white\",\"gridwidth\":2,\"linecolor\":\"white\",\"showbackground\":true,\"ticks\":\"\",\"zerolinecolor\":\"white\"},\"zaxis\":{\"backgroundcolor\":\"#E5ECF6\",\"gridcolor\":\"white\",\"gridwidth\":2,\"linecolor\":\"white\",\"showbackground\":true,\"ticks\":\"\",\"zerolinecolor\":\"white\"}},\"shapedefaults\":{\"line\":{\"color\":\"#2a3f5f\"}},\"ternary\":{\"aaxis\":{\"gridcolor\":\"white\",\"linecolor\":\"white\",\"ticks\":\"\"},\"baxis\":{\"gridcolor\":\"white\",\"linecolor\":\"white\",\"ticks\":\"\"},\"bgcolor\":\"#E5ECF6\",\"caxis\":{\"gridcolor\":\"white\",\"linecolor\":\"white\",\"ticks\":\"\"}},\"title\":{\"x\":0.05},\"xaxis\":{\"automargin\":true,\"gridcolor\":\"white\",\"linecolor\":\"white\",\"ticks\":\"\",\"title\":{\"standoff\":15},\"zerolinecolor\":\"white\",\"zerolinewidth\":2},\"yaxis\":{\"automargin\":true,\"gridcolor\":\"white\",\"linecolor\":\"white\",\"ticks\":\"\",\"title\":{\"standoff\":15},\"zerolinecolor\":\"white\",\"zerolinewidth\":2}}},\"title\":{\"text\":\"Life expectancy in Ugoland\"},\"xaxis\":{\"anchor\":\"y\",\"domain\":[0.0,1.0],\"title\":{\"text\":\"# Neighbors\"}},\"yaxis\":{\"anchor\":\"x\",\"domain\":[0.0,1.0],\"title\":{\"text\":\"Accuracy\"}}},                        {\"responsive\": true}                    ).then(function(){\n                            \nvar gd = document.getElementById('d7746be1-f7ef-4c56-a419-693d6425ab9f');\nvar x = new MutationObserver(function (mutations, observer) {{\n        var display = window.getComputedStyle(gd).display;\n        if (!display || display === 'none') {{\n            console.log([gd, 'removed!']);\n            Plotly.purge(gd);\n            observer.disconnect();\n        }}\n}});\n\n// Listen for the removal of the full notebook cells\nvar notebookContainer = gd.closest('#notebook-container');\nif (notebookContainer) {{\n    x.observe(notebookContainer, {childList: true});\n}}\n\n// Listen for the clearing of the current output cell\nvar outputEl = gd.closest('.output');\nif (outputEl) {{\n    x.observe(outputEl, {childList: true});\n}}\n\n                        })                };                            </script>        </div>\n</body>\n</html>"
     },
     "metadata": {},
     "output_type": "display_data"
    }
   ],
   "execution_count": 49
  },
  {
   "cell_type": "code",
   "metadata": {
    "tags": [],
    "cell_id": "00058-4219f70d-c44d-464a-a238-6f9f9f157f98",
    "deepnote_to_be_reexecuted": false,
    "source_hash": "b848b6a9",
    "execution_start": 1638303092885,
    "execution_millis": 2,
    "deepnote_output_heights": [
     21.199996948242188
    ],
    "deepnote_cell_type": "code"
   },
   "source": "# Addestro il classificatore\nn_neighbors = 19 # Numero di vicini che uso x decidere la label\nclassifier = KNeighborsClassifier(n_neighbors=n_neighbors, weights=weight)\nclassifier.fit(X_train, y_train)",
   "execution_count": 55,
   "outputs": [
    {
     "output_type": "execute_result",
     "execution_count": 55,
     "data": {
      "text/plain": "KNeighborsClassifier(n_neighbors=19, weights='distance')"
     },
     "metadata": {}
    }
   ]
  },
  {
   "cell_type": "code",
   "metadata": {
    "tags": [],
    "cell_id": "00061-0abd1337-9406-4c02-91b2-ad8ffdeb4137",
    "deepnote_to_be_reexecuted": false,
    "source_hash": "1162bf93",
    "execution_start": 1638303098598,
    "execution_millis": 3,
    "deepnote_output_heights": [
     21.199996948242188
    ],
    "deepnote_cell_type": "code"
   },
   "source": "# Predico\ny_pred = classifier.predict(X_test)\nprint(\"(\"+str(n_neighbors)+\")NN - Predictions:\\n\", y_pred)\nprint(\"Reals:\\n\", y_test)\nprint(\"Accuracy\", format_float(accuracy_score(y_test, y_pred)))",
   "execution_count": 56,
   "outputs": [
    {
     "name": "stdout",
     "text": "(19)NN - Predictions:\n [2. 1. 1. 0. 0. 0. 1. 1. 0. 2. 0. 0. 0. 2. 0. 0. 0. 1. 1. 2. 0. 2. 2. 2.\n 0. 1. 1. 2.]\nReals:\n [2. 1. 1. 0. 0. 1. 0. 1. 2. 2. 0. 0. 2. 2. 2. 0. 0. 1. 1. 0. 0. 2. 2. 2.\n 0. 1. 1. 1.]\nAccuracy 0.75\n",
     "output_type": "stream"
    }
   ]
  },
  {
   "cell_type": "markdown",
   "source": "### Classificazione con decision tree",
   "metadata": {
    "tags": [],
    "is_collapsed": false,
    "cell_id": "00060-635d37c3-f66e-454d-8b84-316306713b7a",
    "deepnote_cell_type": "text-cell-h3"
   }
  },
  {
   "cell_type": "code",
   "source": "accuracy_data_df = test_tree_best_depth(X_train, y_train, X_test, y_test, max_depth=20)\nfig = px.line(accuracy_data_df, x=\"Depth\", y=\"Accuracy\", title='Life expectancy in Ugoland')\nfig.show()",
   "metadata": {
    "tags": [],
    "cell_id": "00073-1dcdc65a-e664-4bf6-88b8-6e29f884d6c9",
    "deepnote_to_be_reexecuted": false,
    "source_hash": "c1bb2b8e",
    "execution_start": 1638303114186,
    "execution_millis": 154,
    "deepnote_output_heights": [
     527
    ],
    "deepnote_cell_type": "code"
   },
   "outputs": [
    {
     "data": {
      "text/html": "<html>\n<head><meta charset=\"utf-8\" /></head>\n<body>\n    <div>            <script src=\"https://cdnjs.cloudflare.com/ajax/libs/mathjax/2.7.5/MathJax.js?config=TeX-AMS-MML_SVG\"></script><script type=\"text/javascript\">if (window.MathJax) {MathJax.Hub.Config({SVG: {font: \"STIX-Web\"}});}</script>                <script type=\"text/javascript\">window.PlotlyConfig = {MathJaxConfig: 'local'};</script>\n        <script src=\"https://cdn.plot.ly/plotly-2.4.2.min.js\"></script>                <div id=\"d2e0030c-78dc-4ed5-9de7-28415c3d1d77\" class=\"plotly-graph-div\" style=\"height:525px; width:100%;\"></div>            <script type=\"text/javascript\">                                    window.PLOTLYENV=window.PLOTLYENV || {};                                    if (document.getElementById(\"d2e0030c-78dc-4ed5-9de7-28415c3d1d77\")) {                    Plotly.newPlot(                        \"d2e0030c-78dc-4ed5-9de7-28415c3d1d77\",                        [{\"hovertemplate\":\"Depth=%{x}<br>Accuracy=%{y}<extra></extra>\",\"legendgroup\":\"\",\"line\":{\"color\":\"#636efa\",\"dash\":\"solid\"},\"marker\":{\"symbol\":\"circle\"},\"mode\":\"lines\",\"name\":\"\",\"orientation\":\"v\",\"showlegend\":false,\"type\":\"scatter\",\"x\":[1.0,2.0,3.0,4.0,5.0,6.0,7.0,8.0,9.0,10.0,11.0,12.0,13.0,14.0,15.0,16.0,17.0,18.0,19.0],\"xaxis\":\"x\",\"y\":[0.42857,0.64286,0.67857,0.64286,0.57143,0.60714,0.60714,0.60714,0.64286,0.60714,0.60714,0.67857,0.60714,0.67857,0.64286,0.60714,0.64286,0.60714,0.64286],\"yaxis\":\"y\"}],                        {\"legend\":{\"tracegroupgap\":0},\"template\":{\"data\":{\"bar\":[{\"error_x\":{\"color\":\"#2a3f5f\"},\"error_y\":{\"color\":\"#2a3f5f\"},\"marker\":{\"line\":{\"color\":\"#E5ECF6\",\"width\":0.5},\"pattern\":{\"fillmode\":\"overlay\",\"size\":10,\"solidity\":0.2}},\"type\":\"bar\"}],\"barpolar\":[{\"marker\":{\"line\":{\"color\":\"#E5ECF6\",\"width\":0.5},\"pattern\":{\"fillmode\":\"overlay\",\"size\":10,\"solidity\":0.2}},\"type\":\"barpolar\"}],\"carpet\":[{\"aaxis\":{\"endlinecolor\":\"#2a3f5f\",\"gridcolor\":\"white\",\"linecolor\":\"white\",\"minorgridcolor\":\"white\",\"startlinecolor\":\"#2a3f5f\"},\"baxis\":{\"endlinecolor\":\"#2a3f5f\",\"gridcolor\":\"white\",\"linecolor\":\"white\",\"minorgridcolor\":\"white\",\"startlinecolor\":\"#2a3f5f\"},\"type\":\"carpet\"}],\"choropleth\":[{\"colorbar\":{\"outlinewidth\":0,\"ticks\":\"\"},\"type\":\"choropleth\"}],\"contour\":[{\"colorbar\":{\"outlinewidth\":0,\"ticks\":\"\"},\"colorscale\":[[0.0,\"#0d0887\"],[0.1111111111111111,\"#46039f\"],[0.2222222222222222,\"#7201a8\"],[0.3333333333333333,\"#9c179e\"],[0.4444444444444444,\"#bd3786\"],[0.5555555555555556,\"#d8576b\"],[0.6666666666666666,\"#ed7953\"],[0.7777777777777778,\"#fb9f3a\"],[0.8888888888888888,\"#fdca26\"],[1.0,\"#f0f921\"]],\"type\":\"contour\"}],\"contourcarpet\":[{\"colorbar\":{\"outlinewidth\":0,\"ticks\":\"\"},\"type\":\"contourcarpet\"}],\"heatmap\":[{\"colorbar\":{\"outlinewidth\":0,\"ticks\":\"\"},\"colorscale\":[[0.0,\"#0d0887\"],[0.1111111111111111,\"#46039f\"],[0.2222222222222222,\"#7201a8\"],[0.3333333333333333,\"#9c179e\"],[0.4444444444444444,\"#bd3786\"],[0.5555555555555556,\"#d8576b\"],[0.6666666666666666,\"#ed7953\"],[0.7777777777777778,\"#fb9f3a\"],[0.8888888888888888,\"#fdca26\"],[1.0,\"#f0f921\"]],\"type\":\"heatmap\"}],\"heatmapgl\":[{\"colorbar\":{\"outlinewidth\":0,\"ticks\":\"\"},\"colorscale\":[[0.0,\"#0d0887\"],[0.1111111111111111,\"#46039f\"],[0.2222222222222222,\"#7201a8\"],[0.3333333333333333,\"#9c179e\"],[0.4444444444444444,\"#bd3786\"],[0.5555555555555556,\"#d8576b\"],[0.6666666666666666,\"#ed7953\"],[0.7777777777777778,\"#fb9f3a\"],[0.8888888888888888,\"#fdca26\"],[1.0,\"#f0f921\"]],\"type\":\"heatmapgl\"}],\"histogram\":[{\"marker\":{\"pattern\":{\"fillmode\":\"overlay\",\"size\":10,\"solidity\":0.2}},\"type\":\"histogram\"}],\"histogram2d\":[{\"colorbar\":{\"outlinewidth\":0,\"ticks\":\"\"},\"colorscale\":[[0.0,\"#0d0887\"],[0.1111111111111111,\"#46039f\"],[0.2222222222222222,\"#7201a8\"],[0.3333333333333333,\"#9c179e\"],[0.4444444444444444,\"#bd3786\"],[0.5555555555555556,\"#d8576b\"],[0.6666666666666666,\"#ed7953\"],[0.7777777777777778,\"#fb9f3a\"],[0.8888888888888888,\"#fdca26\"],[1.0,\"#f0f921\"]],\"type\":\"histogram2d\"}],\"histogram2dcontour\":[{\"colorbar\":{\"outlinewidth\":0,\"ticks\":\"\"},\"colorscale\":[[0.0,\"#0d0887\"],[0.1111111111111111,\"#46039f\"],[0.2222222222222222,\"#7201a8\"],[0.3333333333333333,\"#9c179e\"],[0.4444444444444444,\"#bd3786\"],[0.5555555555555556,\"#d8576b\"],[0.6666666666666666,\"#ed7953\"],[0.7777777777777778,\"#fb9f3a\"],[0.8888888888888888,\"#fdca26\"],[1.0,\"#f0f921\"]],\"type\":\"histogram2dcontour\"}],\"mesh3d\":[{\"colorbar\":{\"outlinewidth\":0,\"ticks\":\"\"},\"type\":\"mesh3d\"}],\"parcoords\":[{\"line\":{\"colorbar\":{\"outlinewidth\":0,\"ticks\":\"\"}},\"type\":\"parcoords\"}],\"pie\":[{\"automargin\":true,\"type\":\"pie\"}],\"scatter\":[{\"marker\":{\"colorbar\":{\"outlinewidth\":0,\"ticks\":\"\"}},\"type\":\"scatter\"}],\"scatter3d\":[{\"line\":{\"colorbar\":{\"outlinewidth\":0,\"ticks\":\"\"}},\"marker\":{\"colorbar\":{\"outlinewidth\":0,\"ticks\":\"\"}},\"type\":\"scatter3d\"}],\"scattercarpet\":[{\"marker\":{\"colorbar\":{\"outlinewidth\":0,\"ticks\":\"\"}},\"type\":\"scattercarpet\"}],\"scattergeo\":[{\"marker\":{\"colorbar\":{\"outlinewidth\":0,\"ticks\":\"\"}},\"type\":\"scattergeo\"}],\"scattergl\":[{\"marker\":{\"colorbar\":{\"outlinewidth\":0,\"ticks\":\"\"}},\"type\":\"scattergl\"}],\"scattermapbox\":[{\"marker\":{\"colorbar\":{\"outlinewidth\":0,\"ticks\":\"\"}},\"type\":\"scattermapbox\"}],\"scatterpolar\":[{\"marker\":{\"colorbar\":{\"outlinewidth\":0,\"ticks\":\"\"}},\"type\":\"scatterpolar\"}],\"scatterpolargl\":[{\"marker\":{\"colorbar\":{\"outlinewidth\":0,\"ticks\":\"\"}},\"type\":\"scatterpolargl\"}],\"scatterternary\":[{\"marker\":{\"colorbar\":{\"outlinewidth\":0,\"ticks\":\"\"}},\"type\":\"scatterternary\"}],\"surface\":[{\"colorbar\":{\"outlinewidth\":0,\"ticks\":\"\"},\"colorscale\":[[0.0,\"#0d0887\"],[0.1111111111111111,\"#46039f\"],[0.2222222222222222,\"#7201a8\"],[0.3333333333333333,\"#9c179e\"],[0.4444444444444444,\"#bd3786\"],[0.5555555555555556,\"#d8576b\"],[0.6666666666666666,\"#ed7953\"],[0.7777777777777778,\"#fb9f3a\"],[0.8888888888888888,\"#fdca26\"],[1.0,\"#f0f921\"]],\"type\":\"surface\"}],\"table\":[{\"cells\":{\"fill\":{\"color\":\"#EBF0F8\"},\"line\":{\"color\":\"white\"}},\"header\":{\"fill\":{\"color\":\"#C8D4E3\"},\"line\":{\"color\":\"white\"}},\"type\":\"table\"}]},\"layout\":{\"annotationdefaults\":{\"arrowcolor\":\"#2a3f5f\",\"arrowhead\":0,\"arrowwidth\":1},\"autotypenumbers\":\"strict\",\"coloraxis\":{\"colorbar\":{\"outlinewidth\":0,\"ticks\":\"\"}},\"colorscale\":{\"diverging\":[[0,\"#8e0152\"],[0.1,\"#c51b7d\"],[0.2,\"#de77ae\"],[0.3,\"#f1b6da\"],[0.4,\"#fde0ef\"],[0.5,\"#f7f7f7\"],[0.6,\"#e6f5d0\"],[0.7,\"#b8e186\"],[0.8,\"#7fbc41\"],[0.9,\"#4d9221\"],[1,\"#276419\"]],\"sequential\":[[0.0,\"#0d0887\"],[0.1111111111111111,\"#46039f\"],[0.2222222222222222,\"#7201a8\"],[0.3333333333333333,\"#9c179e\"],[0.4444444444444444,\"#bd3786\"],[0.5555555555555556,\"#d8576b\"],[0.6666666666666666,\"#ed7953\"],[0.7777777777777778,\"#fb9f3a\"],[0.8888888888888888,\"#fdca26\"],[1.0,\"#f0f921\"]],\"sequentialminus\":[[0.0,\"#0d0887\"],[0.1111111111111111,\"#46039f\"],[0.2222222222222222,\"#7201a8\"],[0.3333333333333333,\"#9c179e\"],[0.4444444444444444,\"#bd3786\"],[0.5555555555555556,\"#d8576b\"],[0.6666666666666666,\"#ed7953\"],[0.7777777777777778,\"#fb9f3a\"],[0.8888888888888888,\"#fdca26\"],[1.0,\"#f0f921\"]]},\"colorway\":[\"#636efa\",\"#EF553B\",\"#00cc96\",\"#ab63fa\",\"#FFA15A\",\"#19d3f3\",\"#FF6692\",\"#B6E880\",\"#FF97FF\",\"#FECB52\"],\"font\":{\"color\":\"#2a3f5f\"},\"geo\":{\"bgcolor\":\"white\",\"lakecolor\":\"white\",\"landcolor\":\"#E5ECF6\",\"showlakes\":true,\"showland\":true,\"subunitcolor\":\"white\"},\"hoverlabel\":{\"align\":\"left\"},\"hovermode\":\"closest\",\"mapbox\":{\"style\":\"light\"},\"paper_bgcolor\":\"white\",\"plot_bgcolor\":\"#E5ECF6\",\"polar\":{\"angularaxis\":{\"gridcolor\":\"white\",\"linecolor\":\"white\",\"ticks\":\"\"},\"bgcolor\":\"#E5ECF6\",\"radialaxis\":{\"gridcolor\":\"white\",\"linecolor\":\"white\",\"ticks\":\"\"}},\"scene\":{\"xaxis\":{\"backgroundcolor\":\"#E5ECF6\",\"gridcolor\":\"white\",\"gridwidth\":2,\"linecolor\":\"white\",\"showbackground\":true,\"ticks\":\"\",\"zerolinecolor\":\"white\"},\"yaxis\":{\"backgroundcolor\":\"#E5ECF6\",\"gridcolor\":\"white\",\"gridwidth\":2,\"linecolor\":\"white\",\"showbackground\":true,\"ticks\":\"\",\"zerolinecolor\":\"white\"},\"zaxis\":{\"backgroundcolor\":\"#E5ECF6\",\"gridcolor\":\"white\",\"gridwidth\":2,\"linecolor\":\"white\",\"showbackground\":true,\"ticks\":\"\",\"zerolinecolor\":\"white\"}},\"shapedefaults\":{\"line\":{\"color\":\"#2a3f5f\"}},\"ternary\":{\"aaxis\":{\"gridcolor\":\"white\",\"linecolor\":\"white\",\"ticks\":\"\"},\"baxis\":{\"gridcolor\":\"white\",\"linecolor\":\"white\",\"ticks\":\"\"},\"bgcolor\":\"#E5ECF6\",\"caxis\":{\"gridcolor\":\"white\",\"linecolor\":\"white\",\"ticks\":\"\"}},\"title\":{\"x\":0.05},\"xaxis\":{\"automargin\":true,\"gridcolor\":\"white\",\"linecolor\":\"white\",\"ticks\":\"\",\"title\":{\"standoff\":15},\"zerolinecolor\":\"white\",\"zerolinewidth\":2},\"yaxis\":{\"automargin\":true,\"gridcolor\":\"white\",\"linecolor\":\"white\",\"ticks\":\"\",\"title\":{\"standoff\":15},\"zerolinecolor\":\"white\",\"zerolinewidth\":2}}},\"title\":{\"text\":\"Life expectancy in Ugoland\"},\"xaxis\":{\"anchor\":\"y\",\"domain\":[0.0,1.0],\"title\":{\"text\":\"Depth\"}},\"yaxis\":{\"anchor\":\"x\",\"domain\":[0.0,1.0],\"title\":{\"text\":\"Accuracy\"}}},                        {\"responsive\": true}                    ).then(function(){\n                            \nvar gd = document.getElementById('d2e0030c-78dc-4ed5-9de7-28415c3d1d77');\nvar x = new MutationObserver(function (mutations, observer) {{\n        var display = window.getComputedStyle(gd).display;\n        if (!display || display === 'none') {{\n            console.log([gd, 'removed!']);\n            Plotly.purge(gd);\n            observer.disconnect();\n        }}\n}});\n\n// Listen for the removal of the full notebook cells\nvar notebookContainer = gd.closest('#notebook-container');\nif (notebookContainer) {{\n    x.observe(notebookContainer, {childList: true});\n}}\n\n// Listen for the clearing of the current output cell\nvar outputEl = gd.closest('.output');\nif (outputEl) {{\n    x.observe(outputEl, {childList: true});\n}}\n\n                        })                };                            </script>        </div>\n</body>\n</html>"
     },
     "metadata": {},
     "output_type": "display_data"
    }
   ],
   "execution_count": 57
  },
  {
   "cell_type": "code",
   "metadata": {
    "tags": [],
    "cell_id": "00061-1a624ecf-e3d8-4eae-811d-fd06915be624",
    "deepnote_to_be_reexecuted": false,
    "source_hash": "5c5c1e18",
    "execution_start": 1638303115734,
    "execution_millis": 78,
    "deepnote_output_heights": [
     611
    ],
    "deepnote_cell_type": "code"
   },
   "source": "# Addestro l'albero di decisione\nclf = tree.DecisionTreeClassifier(max_depth=4)\nclf = clf.fit(X_train, y_train)\n\n# Eseguo il plot dell'albero di decisione creato\ndot_data = tree.export_graphviz(clf, out_file=None,\n    feature_names=features_names,\n    class_names=[str(val) for val in set(t5_data['labels'])], #['Ugo', 'Federico', 'D.Va'],\n    filled=True, rounded=True,\n    special_characters=True)\ngraph = graphviz.Source(dot_data)\ngraph",
   "execution_count": 58,
   "outputs": [
    {
     "output_type": "execute_result",
     "execution_count": 58,
     "data": {
      "text/plain": "<graphviz.sources.Source at 0x7f965ba0fa10>",
      "image/svg+xml": "<?xml version=\"1.0\" encoding=\"UTF-8\" standalone=\"no\"?>\n<!DOCTYPE svg PUBLIC \"-//W3C//DTD SVG 1.1//EN\"\n \"http://www.w3.org/Graphics/SVG/1.1/DTD/svg11.dtd\">\n<!-- Generated by graphviz version 2.40.1 (20161225.0304)\n -->\n<!-- Title: Tree Pages: 1 -->\n<svg width=\"1220pt\" height=\"552pt\"\n viewBox=\"0.00 0.00 1219.50 552.00\" xmlns=\"http://www.w3.org/2000/svg\" xmlns:xlink=\"http://www.w3.org/1999/xlink\">\n<g id=\"graph0\" class=\"graph\" transform=\"scale(1 1) rotate(0) translate(4 548)\">\n<title>Tree</title>\n<polygon fill=\"#ffffff\" stroke=\"transparent\" points=\"-4,4 -4,-548 1215.5,-548 1215.5,4 -4,4\"/>\n<!-- 0 -->\n<g id=\"node1\" class=\"node\">\n<title>0</title>\n<path fill=\"#ffffff\" stroke=\"#000000\" d=\"M971.5,-544C971.5,-544 836.5,-544 836.5,-544 830.5,-544 824.5,-538 824.5,-532 824.5,-532 824.5,-473 824.5,-473 824.5,-467 830.5,-461 836.5,-461 836.5,-461 971.5,-461 971.5,-461 977.5,-461 983.5,-467 983.5,-473 983.5,-473 983.5,-532 983.5,-532 983.5,-538 977.5,-544 971.5,-544\"/>\n<text text-anchor=\"start\" x=\"873.5\" y=\"-528.8\" font-family=\"Helvetica,sans-Serif\" font-size=\"14.00\" fill=\"#000000\">F0 ≤ 0.6</text>\n<text text-anchor=\"start\" x=\"860\" y=\"-513.8\" font-family=\"Helvetica,sans-Serif\" font-size=\"14.00\" fill=\"#000000\">gini = 0.667</text>\n<text text-anchor=\"start\" x=\"854\" y=\"-498.8\" font-family=\"Helvetica,sans-Serif\" font-size=\"14.00\" fill=\"#000000\">samples = 65</text>\n<text text-anchor=\"start\" x=\"832.5\" y=\"-483.8\" font-family=\"Helvetica,sans-Serif\" font-size=\"14.00\" fill=\"#000000\">value = [21, 22, 22]</text>\n<text text-anchor=\"start\" x=\"871\" y=\"-468.8\" font-family=\"Helvetica,sans-Serif\" font-size=\"14.00\" fill=\"#000000\">class = 1</text>\n</g>\n<!-- 1 -->\n<g id=\"node2\" class=\"node\">\n<title>1</title>\n<path fill=\"#f7fefa\" stroke=\"#000000\" d=\"M812,-425C812,-425 686,-425 686,-425 680,-425 674,-419 674,-413 674,-413 674,-354 674,-354 674,-348 680,-342 686,-342 686,-342 812,-342 812,-342 818,-342 824,-348 824,-354 824,-354 824,-413 824,-413 824,-419 818,-425 812,-425\"/>\n<text text-anchor=\"start\" x=\"709.5\" y=\"-409.8\" font-family=\"Helvetica,sans-Serif\" font-size=\"14.00\" fill=\"#000000\">F1 ≤ 0.769</text>\n<text text-anchor=\"start\" x=\"705\" y=\"-394.8\" font-family=\"Helvetica,sans-Serif\" font-size=\"14.00\" fill=\"#000000\">gini = 0.594</text>\n<text text-anchor=\"start\" x=\"699\" y=\"-379.8\" font-family=\"Helvetica,sans-Serif\" font-size=\"14.00\" fill=\"#000000\">samples = 44</text>\n<text text-anchor=\"start\" x=\"682\" y=\"-364.8\" font-family=\"Helvetica,sans-Serif\" font-size=\"14.00\" fill=\"#000000\">value = [19, 20, 5]</text>\n<text text-anchor=\"start\" x=\"716\" y=\"-349.8\" font-family=\"Helvetica,sans-Serif\" font-size=\"14.00\" fill=\"#000000\">class = 1</text>\n</g>\n<!-- 0&#45;&gt;1 -->\n<g id=\"edge1\" class=\"edge\">\n<title>0&#45;&gt;1</title>\n<path fill=\"none\" stroke=\"#000000\" d=\"M849.7885,-460.8796C837.3994,-451.368 824.1351,-441.1843 811.4324,-431.432\"/>\n<polygon fill=\"#000000\" stroke=\"#000000\" points=\"813.2442,-428.4105 803.1809,-425.0969 808.9814,-433.9628 813.2442,-428.4105\"/>\n<text text-anchor=\"middle\" x=\"806.4376\" y=\"-446.1839\" font-family=\"Helvetica,sans-Serif\" font-size=\"14.00\" fill=\"#000000\">True</text>\n</g>\n<!-- 14 -->\n<g id=\"node15\" class=\"node\">\n<title>14</title>\n<path fill=\"#9c63ea\" stroke=\"#000000\" d=\"M1044.5,-425C1044.5,-425 927.5,-425 927.5,-425 921.5,-425 915.5,-419 915.5,-413 915.5,-413 915.5,-354 915.5,-354 915.5,-348 921.5,-342 927.5,-342 927.5,-342 1044.5,-342 1044.5,-342 1050.5,-342 1056.5,-348 1056.5,-354 1056.5,-354 1056.5,-413 1056.5,-413 1056.5,-419 1050.5,-425 1044.5,-425\"/>\n<text text-anchor=\"start\" x=\"946.5\" y=\"-409.8\" font-family=\"Helvetica,sans-Serif\" font-size=\"14.00\" fill=\"#000000\">F1 ≤ 1.565</text>\n<text text-anchor=\"start\" x=\"942\" y=\"-394.8\" font-family=\"Helvetica,sans-Serif\" font-size=\"14.00\" fill=\"#000000\">gini = 0.327</text>\n<text text-anchor=\"start\" x=\"936\" y=\"-379.8\" font-family=\"Helvetica,sans-Serif\" font-size=\"14.00\" fill=\"#000000\">samples = 21</text>\n<text text-anchor=\"start\" x=\"923.5\" y=\"-364.8\" font-family=\"Helvetica,sans-Serif\" font-size=\"14.00\" fill=\"#000000\">value = [2, 2, 17]</text>\n<text text-anchor=\"start\" x=\"953\" y=\"-349.8\" font-family=\"Helvetica,sans-Serif\" font-size=\"14.00\" fill=\"#000000\">class = 2</text>\n</g>\n<!-- 0&#45;&gt;14 -->\n<g id=\"edge14\" class=\"edge\">\n<title>0&#45;&gt;14</title>\n<path fill=\"none\" stroke=\"#000000\" d=\"M932.6796,-460.8796C938.7615,-452.0534 945.2422,-442.6485 951.5141,-433.5466\"/>\n<polygon fill=\"#000000\" stroke=\"#000000\" points=\"954.4059,-435.5184 957.198,-425.2981 948.6418,-431.5465 954.4059,-435.5184\"/>\n<text text-anchor=\"middle\" x=\"961.7239\" y=\"-446.185\" font-family=\"Helvetica,sans-Serif\" font-size=\"14.00\" fill=\"#000000\">False</text>\n</g>\n<!-- 2 -->\n<g id=\"node3\" class=\"node\">\n<title>2</title>\n<path fill=\"#9cf2c0\" stroke=\"#000000\" d=\"M504.5,-306C504.5,-306 387.5,-306 387.5,-306 381.5,-306 375.5,-300 375.5,-294 375.5,-294 375.5,-235 375.5,-235 375.5,-229 381.5,-223 387.5,-223 387.5,-223 504.5,-223 504.5,-223 510.5,-223 516.5,-229 516.5,-235 516.5,-235 516.5,-294 516.5,-294 516.5,-300 510.5,-306 504.5,-306\"/>\n<text text-anchor=\"start\" x=\"403.5\" y=\"-290.8\" font-family=\"Helvetica,sans-Serif\" font-size=\"14.00\" fill=\"#000000\">F0 ≤ &#45;0.514</text>\n<text text-anchor=\"start\" x=\"402\" y=\"-275.8\" font-family=\"Helvetica,sans-Serif\" font-size=\"14.00\" fill=\"#000000\">gini = 0.531</text>\n<text text-anchor=\"start\" x=\"396\" y=\"-260.8\" font-family=\"Helvetica,sans-Serif\" font-size=\"14.00\" fill=\"#000000\">samples = 32</text>\n<text text-anchor=\"start\" x=\"383.5\" y=\"-245.8\" font-family=\"Helvetica,sans-Serif\" font-size=\"14.00\" fill=\"#000000\">value = [8, 20, 4]</text>\n<text text-anchor=\"start\" x=\"413\" y=\"-230.8\" font-family=\"Helvetica,sans-Serif\" font-size=\"14.00\" fill=\"#000000\">class = 1</text>\n</g>\n<!-- 1&#45;&gt;2 -->\n<g id=\"edge2\" class=\"edge\">\n<title>1&#45;&gt;2</title>\n<path fill=\"none\" stroke=\"#000000\" d=\"M673.7118,-353.9314C628.8774,-336.3231 572.0021,-313.986 526.3091,-296.0405\"/>\n<polygon fill=\"#000000\" stroke=\"#000000\" points=\"527.3241,-292.679 516.7368,-292.2811 524.7652,-299.1945 527.3241,-292.679\"/>\n</g>\n<!-- 9 -->\n<g id=\"node10\" class=\"node\">\n<title>9</title>\n<path fill=\"#e78c4b\" stroke=\"#000000\" d=\"M807.5,-306C807.5,-306 690.5,-306 690.5,-306 684.5,-306 678.5,-300 678.5,-294 678.5,-294 678.5,-235 678.5,-235 678.5,-229 684.5,-223 690.5,-223 690.5,-223 807.5,-223 807.5,-223 813.5,-223 819.5,-229 819.5,-235 819.5,-235 819.5,-294 819.5,-294 819.5,-300 813.5,-306 807.5,-306\"/>\n<text text-anchor=\"start\" x=\"706.5\" y=\"-290.8\" font-family=\"Helvetica,sans-Serif\" font-size=\"14.00\" fill=\"#000000\">F0 ≤ &#45;0.904</text>\n<text text-anchor=\"start\" x=\"705\" y=\"-275.8\" font-family=\"Helvetica,sans-Serif\" font-size=\"14.00\" fill=\"#000000\">gini = 0.153</text>\n<text text-anchor=\"start\" x=\"699\" y=\"-260.8\" font-family=\"Helvetica,sans-Serif\" font-size=\"14.00\" fill=\"#000000\">samples = 12</text>\n<text text-anchor=\"start\" x=\"686.5\" y=\"-245.8\" font-family=\"Helvetica,sans-Serif\" font-size=\"14.00\" fill=\"#000000\">value = [11, 0, 1]</text>\n<text text-anchor=\"start\" x=\"716\" y=\"-230.8\" font-family=\"Helvetica,sans-Serif\" font-size=\"14.00\" fill=\"#000000\">class = 0</text>\n</g>\n<!-- 1&#45;&gt;9 -->\n<g id=\"edge9\" class=\"edge\">\n<title>1&#45;&gt;9</title>\n<path fill=\"none\" stroke=\"#000000\" d=\"M749,-341.8796C749,-333.6838 749,-324.9891 749,-316.5013\"/>\n<polygon fill=\"#000000\" stroke=\"#000000\" points=\"752.5001,-316.298 749,-306.2981 745.5001,-316.2981 752.5001,-316.298\"/>\n</g>\n<!-- 3 -->\n<g id=\"node4\" class=\"node\">\n<title>3</title>\n<path fill=\"#52e891\" stroke=\"#000000\" d=\"M279.5,-187C279.5,-187 162.5,-187 162.5,-187 156.5,-187 150.5,-181 150.5,-175 150.5,-175 150.5,-116 150.5,-116 150.5,-110 156.5,-104 162.5,-104 162.5,-104 279.5,-104 279.5,-104 285.5,-104 291.5,-110 291.5,-116 291.5,-116 291.5,-175 291.5,-175 291.5,-181 285.5,-187 279.5,-187\"/>\n<text text-anchor=\"start\" x=\"178.5\" y=\"-171.8\" font-family=\"Helvetica,sans-Serif\" font-size=\"14.00\" fill=\"#000000\">F0 ≤ &#45;3.203</text>\n<text text-anchor=\"start\" x=\"177\" y=\"-156.8\" font-family=\"Helvetica,sans-Serif\" font-size=\"14.00\" fill=\"#000000\">gini = 0.215</text>\n<text text-anchor=\"start\" x=\"171\" y=\"-141.8\" font-family=\"Helvetica,sans-Serif\" font-size=\"14.00\" fill=\"#000000\">samples = 17</text>\n<text text-anchor=\"start\" x=\"158.5\" y=\"-126.8\" font-family=\"Helvetica,sans-Serif\" font-size=\"14.00\" fill=\"#000000\">value = [1, 15, 1]</text>\n<text text-anchor=\"start\" x=\"188\" y=\"-111.8\" font-family=\"Helvetica,sans-Serif\" font-size=\"14.00\" fill=\"#000000\">class = 1</text>\n</g>\n<!-- 2&#45;&gt;3 -->\n<g id=\"edge3\" class=\"edge\">\n<title>2&#45;&gt;3</title>\n<path fill=\"none\" stroke=\"#000000\" d=\"M375.4259,-227.1742C351.6662,-214.6079 324.995,-200.5018 300.5896,-187.594\"/>\n<polygon fill=\"#000000\" stroke=\"#000000\" points=\"302.1864,-184.4792 291.7102,-182.8978 298.9136,-190.6671 302.1864,-184.4792\"/>\n</g>\n<!-- 6 -->\n<g id=\"node7\" class=\"node\">\n<title>6</title>\n<path fill=\"#fae6d7\" stroke=\"#000000\" d=\"M500,-187C500,-187 392,-187 392,-187 386,-187 380,-181 380,-175 380,-175 380,-116 380,-116 380,-110 386,-104 392,-104 392,-104 500,-104 500,-104 506,-104 512,-110 512,-116 512,-116 512,-175 512,-175 512,-181 506,-187 500,-187\"/>\n<text text-anchor=\"start\" x=\"403.5\" y=\"-171.8\" font-family=\"Helvetica,sans-Serif\" font-size=\"14.00\" fill=\"#000000\">F1 ≤ &#45;0.749</text>\n<text text-anchor=\"start\" x=\"402\" y=\"-156.8\" font-family=\"Helvetica,sans-Serif\" font-size=\"14.00\" fill=\"#000000\">gini = 0.631</text>\n<text text-anchor=\"start\" x=\"396\" y=\"-141.8\" font-family=\"Helvetica,sans-Serif\" font-size=\"14.00\" fill=\"#000000\">samples = 15</text>\n<text text-anchor=\"start\" x=\"388\" y=\"-126.8\" font-family=\"Helvetica,sans-Serif\" font-size=\"14.00\" fill=\"#000000\">value = [7, 5, 3]</text>\n<text text-anchor=\"start\" x=\"413\" y=\"-111.8\" font-family=\"Helvetica,sans-Serif\" font-size=\"14.00\" fill=\"#000000\">class = 0</text>\n</g>\n<!-- 2&#45;&gt;6 -->\n<g id=\"edge6\" class=\"edge\">\n<title>2&#45;&gt;6</title>\n<path fill=\"none\" stroke=\"#000000\" d=\"M446,-222.8796C446,-214.6838 446,-205.9891 446,-197.5013\"/>\n<polygon fill=\"#000000\" stroke=\"#000000\" points=\"449.5001,-197.298 446,-187.2981 442.5001,-197.2981 449.5001,-197.298\"/>\n</g>\n<!-- 4 -->\n<g id=\"node5\" class=\"node\">\n<title>4</title>\n<path fill=\"#8139e5\" stroke=\"#000000\" d=\"M120,-68C120,-68 12,-68 12,-68 6,-68 0,-62 0,-56 0,-56 0,-12 0,-12 0,-6 6,0 12,0 12,0 120,0 120,0 126,0 132,-6 132,-12 132,-12 132,-56 132,-56 132,-62 126,-68 120,-68\"/>\n<text text-anchor=\"start\" x=\"31\" y=\"-52.8\" font-family=\"Helvetica,sans-Serif\" font-size=\"14.00\" fill=\"#000000\">gini = 0.0</text>\n<text text-anchor=\"start\" x=\"20.5\" y=\"-37.8\" font-family=\"Helvetica,sans-Serif\" font-size=\"14.00\" fill=\"#000000\">samples = 1</text>\n<text text-anchor=\"start\" x=\"8\" y=\"-22.8\" font-family=\"Helvetica,sans-Serif\" font-size=\"14.00\" fill=\"#000000\">value = [0, 0, 1]</text>\n<text text-anchor=\"start\" x=\"33\" y=\"-7.8\" font-family=\"Helvetica,sans-Serif\" font-size=\"14.00\" fill=\"#000000\">class = 2</text>\n</g>\n<!-- 3&#45;&gt;4 -->\n<g id=\"edge4\" class=\"edge\">\n<title>3&#45;&gt;4</title>\n<path fill=\"none\" stroke=\"#000000\" d=\"M163.2837,-103.9815C149.7409,-94.2394 135.3343,-83.8759 121.8737,-74.193\"/>\n<polygon fill=\"#000000\" stroke=\"#000000\" points=\"123.7928,-71.2621 113.6311,-68.2637 119.7051,-76.9446 123.7928,-71.2621\"/>\n</g>\n<!-- 5 -->\n<g id=\"node6\" class=\"node\">\n<title>5</title>\n<path fill=\"#46e789\" stroke=\"#000000\" d=\"M279.5,-68C279.5,-68 162.5,-68 162.5,-68 156.5,-68 150.5,-62 150.5,-56 150.5,-56 150.5,-12 150.5,-12 150.5,-6 156.5,0 162.5,0 162.5,0 279.5,0 279.5,0 285.5,0 291.5,-6 291.5,-12 291.5,-12 291.5,-56 291.5,-56 291.5,-62 285.5,-68 279.5,-68\"/>\n<text text-anchor=\"start\" x=\"177\" y=\"-52.8\" font-family=\"Helvetica,sans-Serif\" font-size=\"14.00\" fill=\"#000000\">gini = 0.117</text>\n<text text-anchor=\"start\" x=\"171\" y=\"-37.8\" font-family=\"Helvetica,sans-Serif\" font-size=\"14.00\" fill=\"#000000\">samples = 16</text>\n<text text-anchor=\"start\" x=\"158.5\" y=\"-22.8\" font-family=\"Helvetica,sans-Serif\" font-size=\"14.00\" fill=\"#000000\">value = [1, 15, 0]</text>\n<text text-anchor=\"start\" x=\"188\" y=\"-7.8\" font-family=\"Helvetica,sans-Serif\" font-size=\"14.00\" fill=\"#000000\">class = 1</text>\n</g>\n<!-- 3&#45;&gt;5 -->\n<g id=\"edge5\" class=\"edge\">\n<title>3&#45;&gt;5</title>\n<path fill=\"none\" stroke=\"#000000\" d=\"M221,-103.9815C221,-95.618 221,-86.7965 221,-78.3409\"/>\n<polygon fill=\"#000000\" stroke=\"#000000\" points=\"224.5001,-78.2636 221,-68.2637 217.5001,-78.2637 224.5001,-78.2636\"/>\n</g>\n<!-- 7 -->\n<g id=\"node8\" class=\"node\">\n<title>7</title>\n<path fill=\"#c09cf2\" stroke=\"#000000\" d=\"M430,-68C430,-68 322,-68 322,-68 316,-68 310,-62 310,-56 310,-56 310,-12 310,-12 310,-6 316,0 322,0 322,0 430,0 430,0 436,0 442,-6 442,-12 442,-12 442,-56 442,-56 442,-62 436,-68 430,-68\"/>\n<text text-anchor=\"start\" x=\"332\" y=\"-52.8\" font-family=\"Helvetica,sans-Serif\" font-size=\"14.00\" fill=\"#000000\">gini = 0.444</text>\n<text text-anchor=\"start\" x=\"330.5\" y=\"-37.8\" font-family=\"Helvetica,sans-Serif\" font-size=\"14.00\" fill=\"#000000\">samples = 3</text>\n<text text-anchor=\"start\" x=\"318\" y=\"-22.8\" font-family=\"Helvetica,sans-Serif\" font-size=\"14.00\" fill=\"#000000\">value = [1, 0, 2]</text>\n<text text-anchor=\"start\" x=\"343\" y=\"-7.8\" font-family=\"Helvetica,sans-Serif\" font-size=\"14.00\" fill=\"#000000\">class = 2</text>\n</g>\n<!-- 6&#45;&gt;7 -->\n<g id=\"edge7\" class=\"edge\">\n<title>6&#45;&gt;7</title>\n<path fill=\"none\" stroke=\"#000000\" d=\"M419.9346,-103.9815C414.3955,-95.1585 408.5364,-85.8258 402.9645,-76.9506\"/>\n<polygon fill=\"#000000\" stroke=\"#000000\" points=\"405.7922,-74.872 397.5108,-68.2637 399.8637,-78.594 405.7922,-74.872\"/>\n</g>\n<!-- 8 -->\n<g id=\"node9\" class=\"node\">\n<title>8</title>\n<path fill=\"#fbede3\" stroke=\"#000000\" d=\"M580,-68C580,-68 472,-68 472,-68 466,-68 460,-62 460,-56 460,-56 460,-12 460,-12 460,-6 466,0 472,0 472,0 580,0 580,0 586,0 592,-6 592,-12 592,-12 592,-56 592,-56 592,-62 586,-68 580,-68\"/>\n<text text-anchor=\"start\" x=\"482\" y=\"-52.8\" font-family=\"Helvetica,sans-Serif\" font-size=\"14.00\" fill=\"#000000\">gini = 0.569</text>\n<text text-anchor=\"start\" x=\"476\" y=\"-37.8\" font-family=\"Helvetica,sans-Serif\" font-size=\"14.00\" fill=\"#000000\">samples = 12</text>\n<text text-anchor=\"start\" x=\"468\" y=\"-22.8\" font-family=\"Helvetica,sans-Serif\" font-size=\"14.00\" fill=\"#000000\">value = [6, 5, 1]</text>\n<text text-anchor=\"start\" x=\"493\" y=\"-7.8\" font-family=\"Helvetica,sans-Serif\" font-size=\"14.00\" fill=\"#000000\">class = 0</text>\n</g>\n<!-- 6&#45;&gt;8 -->\n<g id=\"edge8\" class=\"edge\">\n<title>6&#45;&gt;8</title>\n<path fill=\"none\" stroke=\"#000000\" d=\"M475.789,-103.9815C482.2514,-94.9747 489.0948,-85.4367 495.581,-76.3965\"/>\n<polygon fill=\"#000000\" stroke=\"#000000\" points=\"498.4303,-78.4291 501.4162,-68.2637 492.7428,-74.3483 498.4303,-78.4291\"/>\n</g>\n<!-- 10 -->\n<g id=\"node11\" class=\"node\">\n<title>10</title>\n<path fill=\"#ffffff\" stroke=\"#000000\" d=\"M730,-187C730,-187 622,-187 622,-187 616,-187 610,-181 610,-175 610,-175 610,-116 610,-116 610,-110 616,-104 622,-104 622,-104 730,-104 730,-104 736,-104 742,-110 742,-116 742,-116 742,-175 742,-175 742,-181 736,-187 730,-187\"/>\n<text text-anchor=\"start\" x=\"633.5\" y=\"-171.8\" font-family=\"Helvetica,sans-Serif\" font-size=\"14.00\" fill=\"#000000\">F0 ≤ &#45;1.038</text>\n<text text-anchor=\"start\" x=\"641\" y=\"-156.8\" font-family=\"Helvetica,sans-Serif\" font-size=\"14.00\" fill=\"#000000\">gini = 0.5</text>\n<text text-anchor=\"start\" x=\"630.5\" y=\"-141.8\" font-family=\"Helvetica,sans-Serif\" font-size=\"14.00\" fill=\"#000000\">samples = 2</text>\n<text text-anchor=\"start\" x=\"618\" y=\"-126.8\" font-family=\"Helvetica,sans-Serif\" font-size=\"14.00\" fill=\"#000000\">value = [1, 0, 1]</text>\n<text text-anchor=\"start\" x=\"643\" y=\"-111.8\" font-family=\"Helvetica,sans-Serif\" font-size=\"14.00\" fill=\"#000000\">class = 0</text>\n</g>\n<!-- 9&#45;&gt;10 -->\n<g id=\"edge10\" class=\"edge\">\n<title>9&#45;&gt;10</title>\n<path fill=\"none\" stroke=\"#000000\" d=\"M723.4681,-222.8796C718.109,-214.1434 712.4021,-204.8404 706.8718,-195.8253\"/>\n<polygon fill=\"#000000\" stroke=\"#000000\" points=\"709.8533,-193.9919 701.6408,-187.2981 703.8865,-197.6522 709.8533,-193.9919\"/>\n</g>\n<!-- 13 -->\n<g id=\"node14\" class=\"node\">\n<title>13</title>\n<path fill=\"#e58139\" stroke=\"#000000\" d=\"M889.5,-179.5C889.5,-179.5 772.5,-179.5 772.5,-179.5 766.5,-179.5 760.5,-173.5 760.5,-167.5 760.5,-167.5 760.5,-123.5 760.5,-123.5 760.5,-117.5 766.5,-111.5 772.5,-111.5 772.5,-111.5 889.5,-111.5 889.5,-111.5 895.5,-111.5 901.5,-117.5 901.5,-123.5 901.5,-123.5 901.5,-167.5 901.5,-167.5 901.5,-173.5 895.5,-179.5 889.5,-179.5\"/>\n<text text-anchor=\"start\" x=\"796\" y=\"-164.3\" font-family=\"Helvetica,sans-Serif\" font-size=\"14.00\" fill=\"#000000\">gini = 0.0</text>\n<text text-anchor=\"start\" x=\"781\" y=\"-149.3\" font-family=\"Helvetica,sans-Serif\" font-size=\"14.00\" fill=\"#000000\">samples = 10</text>\n<text text-anchor=\"start\" x=\"768.5\" y=\"-134.3\" font-family=\"Helvetica,sans-Serif\" font-size=\"14.00\" fill=\"#000000\">value = [10, 0, 0]</text>\n<text text-anchor=\"start\" x=\"798\" y=\"-119.3\" font-family=\"Helvetica,sans-Serif\" font-size=\"14.00\" fill=\"#000000\">class = 0</text>\n</g>\n<!-- 9&#45;&gt;13 -->\n<g id=\"edge13\" class=\"edge\">\n<title>9&#45;&gt;13</title>\n<path fill=\"none\" stroke=\"#000000\" d=\"M777.6796,-222.8796C785.4083,-211.6636 793.7809,-199.5131 801.5508,-188.2372\"/>\n<polygon fill=\"#000000\" stroke=\"#000000\" points=\"804.5623,-190.0353 807.3544,-179.8149 798.7982,-186.0634 804.5623,-190.0353\"/>\n</g>\n<!-- 11 -->\n<g id=\"node12\" class=\"node\">\n<title>11</title>\n<path fill=\"#e58139\" stroke=\"#000000\" d=\"M730,-68C730,-68 622,-68 622,-68 616,-68 610,-62 610,-56 610,-56 610,-12 610,-12 610,-6 616,0 622,0 622,0 730,0 730,0 736,0 742,-6 742,-12 742,-12 742,-56 742,-56 742,-62 736,-68 730,-68\"/>\n<text text-anchor=\"start\" x=\"641\" y=\"-52.8\" font-family=\"Helvetica,sans-Serif\" font-size=\"14.00\" fill=\"#000000\">gini = 0.0</text>\n<text text-anchor=\"start\" x=\"630.5\" y=\"-37.8\" font-family=\"Helvetica,sans-Serif\" font-size=\"14.00\" fill=\"#000000\">samples = 1</text>\n<text text-anchor=\"start\" x=\"618\" y=\"-22.8\" font-family=\"Helvetica,sans-Serif\" font-size=\"14.00\" fill=\"#000000\">value = [1, 0, 0]</text>\n<text text-anchor=\"start\" x=\"643\" y=\"-7.8\" font-family=\"Helvetica,sans-Serif\" font-size=\"14.00\" fill=\"#000000\">class = 0</text>\n</g>\n<!-- 10&#45;&gt;11 -->\n<g id=\"edge11\" class=\"edge\">\n<title>10&#45;&gt;11</title>\n<path fill=\"none\" stroke=\"#000000\" d=\"M676,-103.9815C676,-95.618 676,-86.7965 676,-78.3409\"/>\n<polygon fill=\"#000000\" stroke=\"#000000\" points=\"679.5001,-78.2636 676,-68.2637 672.5001,-78.2637 679.5001,-78.2636\"/>\n</g>\n<!-- 12 -->\n<g id=\"node13\" class=\"node\">\n<title>12</title>\n<path fill=\"#8139e5\" stroke=\"#000000\" d=\"M880,-68C880,-68 772,-68 772,-68 766,-68 760,-62 760,-56 760,-56 760,-12 760,-12 760,-6 766,0 772,0 772,0 880,0 880,0 886,0 892,-6 892,-12 892,-12 892,-56 892,-56 892,-62 886,-68 880,-68\"/>\n<text text-anchor=\"start\" x=\"791\" y=\"-52.8\" font-family=\"Helvetica,sans-Serif\" font-size=\"14.00\" fill=\"#000000\">gini = 0.0</text>\n<text text-anchor=\"start\" x=\"780.5\" y=\"-37.8\" font-family=\"Helvetica,sans-Serif\" font-size=\"14.00\" fill=\"#000000\">samples = 1</text>\n<text text-anchor=\"start\" x=\"768\" y=\"-22.8\" font-family=\"Helvetica,sans-Serif\" font-size=\"14.00\" fill=\"#000000\">value = [0, 0, 1]</text>\n<text text-anchor=\"start\" x=\"793\" y=\"-7.8\" font-family=\"Helvetica,sans-Serif\" font-size=\"14.00\" fill=\"#000000\">class = 2</text>\n</g>\n<!-- 10&#45;&gt;12 -->\n<g id=\"edge12\" class=\"edge\">\n<title>10&#45;&gt;12</title>\n<path fill=\"none\" stroke=\"#000000\" d=\"M731.8545,-103.9815C744.8368,-94.3313 758.6394,-84.0714 771.5597,-74.4673\"/>\n<polygon fill=\"#000000\" stroke=\"#000000\" points=\"773.9678,-77.0384 779.9054,-68.2637 769.7917,-71.4204 773.9678,-77.0384\"/>\n</g>\n<!-- 15 -->\n<g id=\"node16\" class=\"node\">\n<title>15</title>\n<path fill=\"#9050e8\" stroke=\"#000000\" d=\"M1044.5,-306C1044.5,-306 927.5,-306 927.5,-306 921.5,-306 915.5,-300 915.5,-294 915.5,-294 915.5,-235 915.5,-235 915.5,-229 921.5,-223 927.5,-223 927.5,-223 1044.5,-223 1044.5,-223 1050.5,-223 1056.5,-229 1056.5,-235 1056.5,-235 1056.5,-294 1056.5,-294 1056.5,-300 1050.5,-306 1044.5,-306\"/>\n<text text-anchor=\"start\" x=\"943.5\" y=\"-290.8\" font-family=\"Helvetica,sans-Serif\" font-size=\"14.00\" fill=\"#000000\">F1 ≤ &#45;0.213</text>\n<text text-anchor=\"start\" x=\"942\" y=\"-275.8\" font-family=\"Helvetica,sans-Serif\" font-size=\"14.00\" fill=\"#000000\">gini = 0.188</text>\n<text text-anchor=\"start\" x=\"936\" y=\"-260.8\" font-family=\"Helvetica,sans-Serif\" font-size=\"14.00\" fill=\"#000000\">samples = 19</text>\n<text text-anchor=\"start\" x=\"923.5\" y=\"-245.8\" font-family=\"Helvetica,sans-Serif\" font-size=\"14.00\" fill=\"#000000\">value = [2, 0, 17]</text>\n<text text-anchor=\"start\" x=\"953\" y=\"-230.8\" font-family=\"Helvetica,sans-Serif\" font-size=\"14.00\" fill=\"#000000\">class = 2</text>\n</g>\n<!-- 14&#45;&gt;15 -->\n<g id=\"edge15\" class=\"edge\">\n<title>14&#45;&gt;15</title>\n<path fill=\"none\" stroke=\"#000000\" d=\"M986,-341.8796C986,-333.6838 986,-324.9891 986,-316.5013\"/>\n<polygon fill=\"#000000\" stroke=\"#000000\" points=\"989.5001,-316.298 986,-306.2981 982.5001,-316.2981 989.5001,-316.298\"/>\n</g>\n<!-- 20 -->\n<g id=\"node21\" class=\"node\">\n<title>20</title>\n<path fill=\"#39e581\" stroke=\"#000000\" d=\"M1195,-298.5C1195,-298.5 1087,-298.5 1087,-298.5 1081,-298.5 1075,-292.5 1075,-286.5 1075,-286.5 1075,-242.5 1075,-242.5 1075,-236.5 1081,-230.5 1087,-230.5 1087,-230.5 1195,-230.5 1195,-230.5 1201,-230.5 1207,-236.5 1207,-242.5 1207,-242.5 1207,-286.5 1207,-286.5 1207,-292.5 1201,-298.5 1195,-298.5\"/>\n<text text-anchor=\"start\" x=\"1106\" y=\"-283.3\" font-family=\"Helvetica,sans-Serif\" font-size=\"14.00\" fill=\"#000000\">gini = 0.0</text>\n<text text-anchor=\"start\" x=\"1095.5\" y=\"-268.3\" font-family=\"Helvetica,sans-Serif\" font-size=\"14.00\" fill=\"#000000\">samples = 2</text>\n<text text-anchor=\"start\" x=\"1083\" y=\"-253.3\" font-family=\"Helvetica,sans-Serif\" font-size=\"14.00\" fill=\"#000000\">value = [0, 2, 0]</text>\n<text text-anchor=\"start\" x=\"1108\" y=\"-238.3\" font-family=\"Helvetica,sans-Serif\" font-size=\"14.00\" fill=\"#000000\">class = 1</text>\n</g>\n<!-- 14&#45;&gt;20 -->\n<g id=\"edge20\" class=\"edge\">\n<title>14&#45;&gt;20</title>\n<path fill=\"none\" stroke=\"#000000\" d=\"M1040.2115,-341.8796C1055.8231,-329.8938 1072.8247,-316.841 1088.3408,-304.9287\"/>\n<polygon fill=\"#000000\" stroke=\"#000000\" points=\"1090.5035,-307.6808 1096.3041,-298.8149 1086.2407,-302.1285 1090.5035,-307.6808\"/>\n</g>\n<!-- 16 -->\n<g id=\"node17\" class=\"node\">\n<title>16</title>\n<path fill=\"#a572ec\" stroke=\"#000000\" d=\"M1040,-187C1040,-187 932,-187 932,-187 926,-187 920,-181 920,-175 920,-175 920,-116 920,-116 920,-110 926,-104 932,-104 932,-104 1040,-104 1040,-104 1046,-104 1052,-110 1052,-116 1052,-116 1052,-175 1052,-175 1052,-181 1046,-187 1040,-187\"/>\n<text text-anchor=\"start\" x=\"943.5\" y=\"-171.8\" font-family=\"Helvetica,sans-Serif\" font-size=\"14.00\" fill=\"#000000\">F1 ≤ &#45;0.711</text>\n<text text-anchor=\"start\" x=\"942\" y=\"-156.8\" font-family=\"Helvetica,sans-Serif\" font-size=\"14.00\" fill=\"#000000\">gini = 0.346</text>\n<text text-anchor=\"start\" x=\"940.5\" y=\"-141.8\" font-family=\"Helvetica,sans-Serif\" font-size=\"14.00\" fill=\"#000000\">samples = 9</text>\n<text text-anchor=\"start\" x=\"928\" y=\"-126.8\" font-family=\"Helvetica,sans-Serif\" font-size=\"14.00\" fill=\"#000000\">value = [2, 0, 7]</text>\n<text text-anchor=\"start\" x=\"953\" y=\"-111.8\" font-family=\"Helvetica,sans-Serif\" font-size=\"14.00\" fill=\"#000000\">class = 2</text>\n</g>\n<!-- 15&#45;&gt;16 -->\n<g id=\"edge16\" class=\"edge\">\n<title>15&#45;&gt;16</title>\n<path fill=\"none\" stroke=\"#000000\" d=\"M986,-222.8796C986,-214.6838 986,-205.9891 986,-197.5013\"/>\n<polygon fill=\"#000000\" stroke=\"#000000\" points=\"989.5001,-197.298 986,-187.2981 982.5001,-197.2981 989.5001,-197.298\"/>\n</g>\n<!-- 19 -->\n<g id=\"node20\" class=\"node\">\n<title>19</title>\n<path fill=\"#8139e5\" stroke=\"#000000\" d=\"M1199.5,-179.5C1199.5,-179.5 1082.5,-179.5 1082.5,-179.5 1076.5,-179.5 1070.5,-173.5 1070.5,-167.5 1070.5,-167.5 1070.5,-123.5 1070.5,-123.5 1070.5,-117.5 1076.5,-111.5 1082.5,-111.5 1082.5,-111.5 1199.5,-111.5 1199.5,-111.5 1205.5,-111.5 1211.5,-117.5 1211.5,-123.5 1211.5,-123.5 1211.5,-167.5 1211.5,-167.5 1211.5,-173.5 1205.5,-179.5 1199.5,-179.5\"/>\n<text text-anchor=\"start\" x=\"1106\" y=\"-164.3\" font-family=\"Helvetica,sans-Serif\" font-size=\"14.00\" fill=\"#000000\">gini = 0.0</text>\n<text text-anchor=\"start\" x=\"1091\" y=\"-149.3\" font-family=\"Helvetica,sans-Serif\" font-size=\"14.00\" fill=\"#000000\">samples = 10</text>\n<text text-anchor=\"start\" x=\"1078.5\" y=\"-134.3\" font-family=\"Helvetica,sans-Serif\" font-size=\"14.00\" fill=\"#000000\">value = [0, 0, 10]</text>\n<text text-anchor=\"start\" x=\"1108\" y=\"-119.3\" font-family=\"Helvetica,sans-Serif\" font-size=\"14.00\" fill=\"#000000\">class = 2</text>\n</g>\n<!-- 15&#45;&gt;19 -->\n<g id=\"edge19\" class=\"edge\">\n<title>15&#45;&gt;19</title>\n<path fill=\"none\" stroke=\"#000000\" d=\"M1040.2115,-222.8796C1055.8231,-210.8938 1072.8247,-197.841 1088.3408,-185.9287\"/>\n<polygon fill=\"#000000\" stroke=\"#000000\" points=\"1090.5035,-188.6808 1096.3041,-179.8149 1086.2407,-183.1285 1090.5035,-188.6808\"/>\n</g>\n<!-- 17 -->\n<g id=\"node18\" class=\"node\">\n<title>17</title>\n<path fill=\"#8139e5\" stroke=\"#000000\" d=\"M1035,-68C1035,-68 927,-68 927,-68 921,-68 915,-62 915,-56 915,-56 915,-12 915,-12 915,-6 921,0 927,0 927,0 1035,0 1035,0 1041,0 1047,-6 1047,-12 1047,-12 1047,-56 1047,-56 1047,-62 1041,-68 1035,-68\"/>\n<text text-anchor=\"start\" x=\"946\" y=\"-52.8\" font-family=\"Helvetica,sans-Serif\" font-size=\"14.00\" fill=\"#000000\">gini = 0.0</text>\n<text text-anchor=\"start\" x=\"935.5\" y=\"-37.8\" font-family=\"Helvetica,sans-Serif\" font-size=\"14.00\" fill=\"#000000\">samples = 6</text>\n<text text-anchor=\"start\" x=\"923\" y=\"-22.8\" font-family=\"Helvetica,sans-Serif\" font-size=\"14.00\" fill=\"#000000\">value = [0, 0, 6]</text>\n<text text-anchor=\"start\" x=\"948\" y=\"-7.8\" font-family=\"Helvetica,sans-Serif\" font-size=\"14.00\" fill=\"#000000\">class = 2</text>\n</g>\n<!-- 16&#45;&gt;17 -->\n<g id=\"edge17\" class=\"edge\">\n<title>16&#45;&gt;17</title>\n<path fill=\"none\" stroke=\"#000000\" d=\"M984.1382,-103.9815C983.7631,-95.618 983.3676,-86.7965 982.9884,-78.3409\"/>\n<polygon fill=\"#000000\" stroke=\"#000000\" points=\"986.481,-78.0968 982.5365,-68.2637 979.4881,-78.4105 986.481,-78.0968\"/>\n</g>\n<!-- 18 -->\n<g id=\"node19\" class=\"node\">\n<title>18</title>\n<path fill=\"#f2c09c\" stroke=\"#000000\" d=\"M1185,-68C1185,-68 1077,-68 1077,-68 1071,-68 1065,-62 1065,-56 1065,-56 1065,-12 1065,-12 1065,-6 1071,0 1077,0 1077,0 1185,0 1185,0 1191,0 1197,-6 1197,-12 1197,-12 1197,-56 1197,-56 1197,-62 1191,-68 1185,-68\"/>\n<text text-anchor=\"start\" x=\"1087\" y=\"-52.8\" font-family=\"Helvetica,sans-Serif\" font-size=\"14.00\" fill=\"#000000\">gini = 0.444</text>\n<text text-anchor=\"start\" x=\"1085.5\" y=\"-37.8\" font-family=\"Helvetica,sans-Serif\" font-size=\"14.00\" fill=\"#000000\">samples = 3</text>\n<text text-anchor=\"start\" x=\"1073\" y=\"-22.8\" font-family=\"Helvetica,sans-Serif\" font-size=\"14.00\" fill=\"#000000\">value = [2, 0, 1]</text>\n<text text-anchor=\"start\" x=\"1098\" y=\"-7.8\" font-family=\"Helvetica,sans-Serif\" font-size=\"14.00\" fill=\"#000000\">class = 0</text>\n</g>\n<!-- 16&#45;&gt;18 -->\n<g id=\"edge18\" class=\"edge\">\n<title>16&#45;&gt;18</title>\n<path fill=\"none\" stroke=\"#000000\" d=\"M1039.9926,-103.9815C1052.5422,-94.3313 1065.8847,-84.0714 1078.3744,-74.4673\"/>\n<polygon fill=\"#000000\" stroke=\"#000000\" points=\"1080.6481,-77.134 1086.4419,-68.2637 1076.381,-71.585 1080.6481,-77.134\"/>\n</g>\n</g>\n</svg>\n"
     },
     "metadata": {}
    }
   ]
  },
  {
   "cell_type": "code",
   "metadata": {
    "tags": [],
    "cell_id": "00063-1463aafe-6ead-4826-9b72-f408a4ba5066",
    "deepnote_to_be_reexecuted": false,
    "source_hash": "822e6f90",
    "execution_start": 1638303119269,
    "execution_millis": 14,
    "deepnote_output_heights": [
     null,
     21.199996948242188
    ],
    "deepnote_cell_type": "code"
   },
   "source": "# Predico con l'albero di decisione\ny_pred = clf.predict(X_test)\nprint(\"DT - Predictions:\\n\", y_pred)\nprint(\"Reals:\\n\", y_test)\nprint(\"Accuracy\", format_float(accuracy_score(y_test, y_pred)))",
   "execution_count": 59,
   "outputs": [
    {
     "name": "stdout",
     "text": "DT - Predictions:\n [2. 1. 1. 0. 0. 0. 0. 0. 0. 0. 0. 0. 2. 0. 0. 0. 0. 1. 1. 2. 0. 2. 0. 2.\n 1. 1. 1. 2.]\nReals:\n [2. 1. 1. 0. 0. 1. 0. 1. 2. 2. 0. 0. 2. 2. 2. 0. 0. 1. 1. 0. 0. 2. 2. 2.\n 0. 1. 1. 1.]\nAccuracy 0.64286\n",
     "output_type": "stream"
    }
   ]
  },
  {
   "cell_type": "code",
   "metadata": {
    "tags": [],
    "cell_id": "00066-47aa80fa-7c34-46da-8f1b-77ee86f8b4fe",
    "deepnote_to_be_reexecuted": false,
    "source_hash": "b623e53d",
    "execution_start": 1638302969532,
    "execution_millis": 2466148,
    "deepnote_cell_type": "code"
   },
   "source": "",
   "execution_count": 54,
   "outputs": []
  },
  {
   "cell_type": "markdown",
   "source": "<a style='text-decoration:none;line-height:16px;display:flex;color:#5B5B62;padding:10px;justify-content:end;' href='https://deepnote.com?utm_source=created-in-deepnote-cell&projectId=81dda25b-3b1c-4959-acc8-4a8b980be717' target=\"_blank\">\n<img alt='Created in deepnote.com' style='display:inline;max-height:16px;margin:0px;margin-right:7.5px;' src='data:image/svg+xml;base64,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' > </img>\nCreated in <span style='font-weight:600;margin-left:4px;'>Deepnote</span></a>",
   "metadata": {
    "tags": [],
    "created_in_deepnote_cell": true,
    "deepnote_cell_type": "markdown"
   }
  }
 ],
 "nbformat": 4,
 "nbformat_minor": 2,
 "metadata": {
  "orig_nbformat": 2,
  "deepnote": {
   "is_reactive": false
  },
  "deepnote_notebook_id": "e09f2adf-083e-4839-9bb5-7d8776406a70",
  "deepnote_execution_queue": []
 }
}