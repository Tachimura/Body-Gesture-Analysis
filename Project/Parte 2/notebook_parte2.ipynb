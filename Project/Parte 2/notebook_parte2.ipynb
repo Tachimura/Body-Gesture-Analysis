{
 "cells": [
  {
   "cell_type": "markdown",
   "source": "# BDM Exam Project - Part 2",
   "metadata": {
    "tags": [],
    "cell_id": "00000-8372ca05-7983-4b78-9184-019ba314114c",
    "deepnote_cell_type": "markdown"
   }
  },
  {
   "cell_type": "markdown",
   "source": "## Imports",
   "metadata": {
    "tags": [],
    "is_collapsed": false,
    "cell_id": "00001-e7a911cb-1821-422d-8f2f-057c00b923a7",
    "deepnote_cell_type": "text-cell-h2"
   }
  },
  {
   "cell_type": "code",
   "metadata": {
    "tags": [],
    "cell_id": "00002-cb5942af-91be-4d6f-8734-41bb867f669d",
    "deepnote_to_be_reexecuted": false,
    "source_hash": "f929bb9f",
    "execution_start": 1639678583935,
    "execution_millis": 1361,
    "deepnote_output_heights": [
     232.39999389648438
    ],
    "deepnote_cell_type": "code"
   },
   "source": "# General utils\nimport os\nimport shutil\nimport numpy as np\nimport random\n\n# per i plot\nimport plotly.express as px\nimport plotly.graph_objects as go\n# ---------- ---------- ---------- ---------- ----------\n\n# My general utils\nfrom my_utils import get_files_name, format_float\n# ---------- ---------- ---------- ---------- ----------\n\n# Task 0\nfrom my_utils.task0 import task0_stats\n# Parte A\nfrom my_utils.task0 import generate_alphabet, gesture_2_word, write_word_as_json, generate_dizionario_parole_from_gesturewordsdict\n# Parte B\nfrom my_utils.task0 import gesture_words_preprocessing, show_gesture_metrics\n# ---------- ---------- ---------- ---------- ----------\n\n# Task 1\nfrom my_utils.task1 import read_gesture_measures_reduced, metrics_reduced_2_numpy, metrics_numpy_2_pandas\nfrom my_utils.task1 import metrics_numpy_2_PCA, metrics_numpy_2_LDA, metrics_numpy_2_SVD\nfrom my_utils.task1 import get_top_k_latent_features, prepare_alg_variances_to_plot\n# ---------- ---------- ---------- ---------- ----------\n\n# Task 2\nfrom my_utils.task2 import generate_matrix_ed_dtw\nfrom my_utils.task2 import find_k_most_similar_dp, find_k_most_similar_tksem, find_k_most_similar_ed, find_k_most_similar_dtw\n# ---------- ---------- ---------- ---------- ----------\n\n# Task 3\nfrom my_utils.task3 import generate_gestures_similarity_matrix_dp, generate_gestures_similarity_matrix_tksem\nfrom my_utils.task3 import generate_gestures_similarity_matrix_ed, generate_gestures_similarity_matrix_dtw\nfrom my_utils.task3 import gestures_similarity_matrix_2_pandas, generate_gesture_gesture_svd, get_top_p_latent_gestures\n# ---------- ---------- ---------- ---------- ----------\n\n# Task 4\nfrom my_utils.task4 import cluster_labels_2_pandas, top_p_gestures_2_numpy\n# Parte A\nfrom my_utils.task4 import MyPartitioner\n# Parte B\nfrom my_utils.task4 import SimpleKMeans\n# Parte C\nfrom my_utils.task4 import spectral_clustering_analyze, spectral_clustering\nfrom my_utils.task4 import spectral_analisys_results_2_pandas, spectral_analisys_results_pandas_2_split\n# ---------- ---------- ---------- ---------- ----------\n\n# Task 5\nfrom my_utils.task5 import database_numpy_2_supervised_data, test_knn_best_K, test_tree_best_depth\n\nfrom sklearn.metrics import accuracy_score\n# KNN classifier\nfrom sklearn.neighbors import KNeighborsClassifier\n# Decision Tree classifier\nfrom sklearn import tree\nimport graphviz \n# ---------- ---------- ---------- ---------- ----------\n\n# Riproducibilità\nseed=6789\nrandom.seed(seed)\nnp.random.seed(seed)",
   "outputs": [],
   "execution_count": null
  },
  {
   "cell_type": "markdown",
   "source": "## Task 0",
   "metadata": {
    "tags": [],
    "is_collapsed": false,
    "cell_id": "00003-44add2df-f923-4f64-bca8-a523401b6bfc",
    "deepnote_cell_type": "text-cell-h2"
   }
  },
  {
   "cell_type": "code",
   "metadata": {
    "deepnote_variable_name": "path_csv_directory",
    "deepnote_variable_value": "../Dati_2/csv/",
    "cell_id": "00003-654eb8b5-36b7-4241-ab02-b10556446202",
    "deepnote_to_be_reexecuted": false,
    "source_hash": "b7faf05a",
    "execution_start": 1639678585302,
    "execution_millis": 10,
    "deepnote_cell_type": "input-text"
   },
   "source": "path_csv_directory = '../Dati_2/csv/'",
   "outputs": [],
   "execution_count": null
  },
  {
   "cell_type": "code",
   "metadata": {
    "deepnote_variable_name": "path_words_directory",
    "deepnote_variable_value": "../Dati_2/words/",
    "cell_id": "00006-abe6fad0-cc88-44ef-b239-4a3ab59617ca",
    "deepnote_to_be_reexecuted": false,
    "source_hash": "14bb7c6c",
    "execution_start": 1639678585321,
    "execution_millis": 9,
    "deepnote_cell_type": "input-text"
   },
   "source": "path_words_directory = '../Dati_2/words/'",
   "outputs": [],
   "execution_count": null
  },
  {
   "cell_type": "code",
   "metadata": {
    "deepnote_variable_name": "path_vectors_directory",
    "deepnote_variable_value": "../Dati_2/vectors/",
    "cell_id": "00007-a6402a1b-7cac-4925-b172-2db72134598e",
    "deepnote_to_be_reexecuted": false,
    "source_hash": "3edc11a8",
    "execution_start": 1639678585340,
    "execution_millis": 17,
    "deepnote_cell_type": "input-text"
   },
   "source": "path_vectors_directory = '../Dati_2/vectors/'",
   "outputs": [],
   "execution_count": null
  },
  {
   "cell_type": "markdown",
   "source": "Inserire le coordinate che compongono il gesto separate da un trattino:",
   "metadata": {
    "tags": [],
    "is_collapsed": false,
    "cell_id": "00004-960f3675-011c-43a5-9c57-0dbc4c51a806",
    "deepnote_cell_type": "text-cell-p"
   }
  },
  {
   "cell_type": "code",
   "metadata": {
    "deepnote_variable_name": "input_data_components",
    "deepnote_variable_value": "X-Y-Z-W",
    "cell_id": "00005-9d5e77d9-d1b7-44e2-873a-c01b72b5b714",
    "deepnote_to_be_reexecuted": false,
    "source_hash": "a12cce7",
    "execution_start": 1639678585365,
    "execution_millis": 542357,
    "deepnote_cell_type": "input-text"
   },
   "source": "input_data_components = 'X-Y-Z-W'",
   "outputs": [],
   "execution_count": null
  },
  {
   "cell_type": "markdown",
   "source": "Inserire un valore per R (2R è il numero di simboli dell'alfabeto)",
   "metadata": {
    "tags": [],
    "is_collapsed": false,
    "cell_id": "00008-70103ada-8b72-4f87-82a9-c7c2bff33365",
    "deepnote_cell_type": "text-cell-p"
   }
  },
  {
   "cell_type": "code",
   "metadata": {
    "deepnote_variable_name": "input_interval_resolution",
    "deepnote_variable_value": "8",
    "cell_id": "00009-598da1f3-1b47-46f7-9b8a-6c5ff8c1bb73",
    "deepnote_to_be_reexecuted": false,
    "source_hash": "27e095f9",
    "execution_start": 1639678585415,
    "execution_millis": 542361,
    "deepnote_cell_type": "input-text"
   },
   "source": "input_interval_resolution = '8'",
   "outputs": [],
   "execution_count": null
  },
  {
   "cell_type": "code",
   "metadata": {
    "tags": [],
    "cell_id": "00007-74fd2943-5f7b-4279-b9fb-2cd9f8bdf6f5",
    "deepnote_to_be_reexecuted": false,
    "source_hash": "8eda3704",
    "execution_start": 1639678585416,
    "execution_millis": 78,
    "deepnote_cell_type": "code"
   },
   "source": "data_components = input_data_components.strip().split(\"-\")\ntask0_stats[\"r\"] = int(input_interval_resolution.strip())\n\n# Rigenero i vari file path (per words e vectors)\nif os.path.exists(path_words_directory):\n    shutil.rmtree(path_words_directory)\nos.makedirs(path_words_directory)\nif os.path.exists(path_vectors_directory):\n    shutil.rmtree(path_vectors_directory)\nos.makedirs(path_vectors_directory)",
   "outputs": [],
   "execution_count": null
  },
  {
   "cell_type": "code",
   "metadata": {
    "tags": [],
    "cell_id": "00013-049aa084-0991-44a0-ae1f-d75d205f14d8",
    "deepnote_to_be_reexecuted": false,
    "source_hash": "3e0bdde5",
    "execution_start": 1639678585511,
    "execution_millis": 51975,
    "deepnote_cell_type": "code"
   },
   "source": "# Mi prendo il nome di tutti i files\ngesture_files = get_files_name(path_csv_directory + \"X/\", ext_filter=\"csv\")\nalfabeto = generate_alphabet(gesture_files, data_components, path_csv_directory, task0_stats)",
   "outputs": [],
   "execution_count": null
  },
  {
   "cell_type": "code",
   "metadata": {
    "tags": [],
    "cell_id": "00014-f347bd06-7556-4043-916e-abd524841178",
    "deepnote_to_be_reexecuted": false,
    "source_hash": "d1b0c220",
    "execution_start": 1639678637511,
    "execution_millis": 12,
    "deepnote_cell_type": "code"
   },
   "source": "print(alfabeto.simboli)\n#print(alfabeto.parole)\nprint(\"Numero simboli:\", alfabeto.n_simboli)\nprint(\"Numero parole:\", alfabeto.n_parole)",
   "outputs": [
    {
     "name": "stdout",
     "text": "{'0.19148': (0.0, 0.38295), '-0.19148': (0.0, -0.38295), '0.53284': (0.38295, 0.68273), '-0.53284': (-0.38295, -0.68273), '0.77459': (0.68273, 0.86644), '-0.77459': (-0.68273, -0.86644), '0.9105': (0.86644, 0.95456), '-0.9105': (-0.86644, -0.95456), '0.9711': (0.95456, 0.98764), '-0.9711': (-0.95456, -0.98764), '0.9925': (0.98764, 0.99736), '-0.9925': (-0.98764, -0.99736), '0.99848': (0.99736, 0.99959), '-0.99848': (-0.99736, -0.99959), '0.99979': (0.99959, 1.0), '-0.99979': (-0.99959, -1.0)}\nNumero simboli: 16\nNumero parole: 1667\n",
     "output_type": "stream",
     "data": {}
    }
   ],
   "execution_count": null
  },
  {
   "cell_type": "markdown",
   "source": "### Task 0A",
   "metadata": {
    "tags": [],
    "is_collapsed": false,
    "cell_id": "00010-695b39bf-40e0-4e20-ada3-0672059bd901",
    "deepnote_cell_type": "text-cell-h3"
   }
  },
  {
   "cell_type": "code",
   "metadata": {
    "tags": [],
    "cell_id": "00016-320d5da2-7d1e-4619-b75a-c6b34a37c5b2",
    "deepnote_to_be_reexecuted": false,
    "source_hash": "93ffbd30",
    "execution_start": 1639678637552,
    "execution_millis": 50378,
    "deepnote_cell_type": "code"
   },
   "source": "dizionario_gesti_parole = {}\n\nfor gesture_file_name in gesture_files:\n    gesture_words_dict = gesture_2_word(gesture_file_name, data_components, alfabeto, path_csv_directory, task0_stats)\n    # Salvo solo le info necessarie relative alle parole (come richiesto nel testo)\n    dizionario_parole_gesture = generate_dizionario_parole_from_gesturewordsdict(gesture_words_dict)\n    dizionario_gesti_parole[gesture_file_name.split(\".\")[0]] = dizionario_parole_gesture\n    # Salvo su file il dizionario completo\n    write_word_as_json(gesture_words_dict, gesture_file_name, path_words_directory)",
   "outputs": [],
   "execution_count": null
  },
  {
   "cell_type": "code",
   "metadata": {
    "tags": [],
    "cell_id": "00017-df73132d-dd28-422e-bcf9-cee19fde9521",
    "deepnote_to_be_reexecuted": false,
    "source_hash": "b6c4fafc",
    "execution_start": 1639678687981,
    "execution_millis": 1,
    "deepnote_cell_type": "code"
   },
   "source": "#dizionario_gesti_parole['1']",
   "outputs": [],
   "execution_count": null
  },
  {
   "cell_type": "markdown",
   "source": "### Task 0B",
   "metadata": {
    "tags": [],
    "is_collapsed": false,
    "cell_id": "00012-11c64cd4-a6ab-4f60-83e6-e185a99dad47",
    "deepnote_cell_type": "text-cell-h3"
   }
  },
  {
   "cell_type": "code",
   "metadata": {
    "tags": [],
    "cell_id": "00019-339613d5-9030-4622-a83b-40ba07478fdc",
    "deepnote_to_be_reexecuted": false,
    "source_hash": "ad02c073",
    "execution_start": 1639678687982,
    "execution_millis": 26251,
    "deepnote_cell_type": "code"
   },
   "source": "# Mi prendo la lista di tutti i file words\nwords_files = get_files_name(path_words_directory, ext_filter=\"wrd\")\n\n# CALCOLARE IL NUMERO DI SENSORI (anche se so che ce ne sono 20, in questo modo rimane più parametrico)\nn_sensori = 0\nfor (_, sensor, word), cont in dizionario_gesti_parole[next(iter(dizionario_gesti_parole))].items():\n    sensor = int(sensor)\n    if n_sensori > sensor: # ho già ciclato una volta su tutti i sensori, è inutile ricontrollare per le altre coordinate\n        break\n    if n_sensori < sensor:\n        n_sensori = sensor\nn_sensori += 1 # Correzione dato che i sensori partono da 0 e a me serve sapere quanti ce ne sono\n\n# Eseguo x il nostro dataset\nt0b_preprocessing_settings = {\n    'dizionario_gesti_parole': dizionario_gesti_parole,\n    'data_components': data_components,\n    'words_files': words_files,\n    'n_sensori': n_sensori,\n    'alfabeto': alfabeto,\n    'path_words_directory': path_words_directory,\n    'path_vectors_directory': path_vectors_directory # mettere a None o a caso se si mette save=False nel metodo\n}\n# Calcolo TF, IDF, TF-IDF di ogni gesto\ngestures_metrics = gesture_words_preprocessing(t0b_preprocessing_settings)",
   "outputs": [],
   "execution_count": null
  },
  {
   "cell_type": "code",
   "metadata": {
    "tags": [],
    "cell_id": "00020-7c36a3da-d893-4958-8894-7fc35c5aa41e",
    "deepnote_to_be_reexecuted": false,
    "source_hash": "1fe76d2b",
    "execution_start": 1639678714242,
    "execution_millis": 3,
    "deepnote_cell_type": "code"
   },
   "source": "#show_gesture_metrics(gestures_metrics[0])",
   "outputs": [],
   "execution_count": null
  },
  {
   "cell_type": "markdown",
   "source": "## Task 1",
   "metadata": {
    "tags": [],
    "is_collapsed": false,
    "cell_id": "00021-d42fafd2-d117-4556-bc4f-eac7aca3e403",
    "deepnote_cell_type": "text-cell-h2"
   }
  },
  {
   "cell_type": "code",
   "metadata": {
    "deepnote_variable_name": "input_task1_gesti_directory",
    "deepnote_variable_value": "../Dati_2/csv/",
    "cell_id": "00022-8d12824b-1681-44bc-a0f3-975f336eeacb",
    "deepnote_to_be_reexecuted": false,
    "source_hash": "7e508682",
    "execution_start": 1639678714250,
    "execution_millis": 3,
    "deepnote_cell_type": "input-text"
   },
   "source": "input_task1_gesti_directory = '../Dati_2/csv/'",
   "outputs": [],
   "execution_count": null
  },
  {
   "cell_type": "code",
   "metadata": {
    "deepnote_variable_name": "input_task1_data_components",
    "deepnote_variable_value": "X-Y-W-Z",
    "cell_id": "00023-f2b03f2f-8666-4c59-a6c5-e88ff27e8d58",
    "deepnote_to_be_reexecuted": false,
    "source_hash": "e7fe2f0e",
    "execution_start": 1639678714263,
    "execution_millis": 562163,
    "deepnote_cell_type": "input-text"
   },
   "source": "input_task1_data_components = 'X-Y-W-Z'",
   "outputs": [],
   "execution_count": null
  },
  {
   "cell_type": "code",
   "metadata": {
    "deepnote_variable_name": "input_task1_modello_vettoriale",
    "deepnote_variable_value": "Modello TF-IDF",
    "deepnote_variable_options": [
     "Modello TF",
     "Modello TF-IDF"
    ],
    "deepnote_variable_custom_options": [
     "Modello TF",
     "Modello TF-IDF"
    ],
    "deepnote_variable_selected_variable": "",
    "deepnote_variable_select_type": "from-options",
    "cell_id": "00025-8b54665a-704e-4a66-9889-a1db052e9230",
    "deepnote_to_be_reexecuted": false,
    "source_hash": "a561fd25",
    "execution_start": 1639678714311,
    "execution_millis": 562164,
    "deepnote_cell_type": "input-select"
   },
   "source": "input_task1_modello_vettoriale = 'Modello TF-IDF'",
   "outputs": [],
   "execution_count": null
  },
  {
   "cell_type": "code",
   "metadata": {
    "tags": [],
    "cell_id": "00025-5662e148-aefc-4984-a2ed-e2b0891ae86d",
    "deepnote_to_be_reexecuted": false,
    "source_hash": "71d6ce71",
    "execution_start": 1639678714312,
    "execution_millis": 3551,
    "deepnote_cell_type": "code"
   },
   "source": "t1_data_components = input_task1_data_components.strip().split(\"-\")\nt1_gesture_files = get_files_name(input_task1_gesti_directory + t1_data_components[0] + \"/\", ext_filter=\"csv\")\n# Dovremmo eseguire a tutti questi i 2 metodi gesture_2_word e poi word_2_metrics\n# Ma ipotizziamo che siano i dati già calcolati ed evitiamo\nt1_gesture_files = [g_file.split(\".\")[0] for g_file in t1_gesture_files] # mi prendo giusto il nome dei vari files\n\n# 1260 con dimensione dei dati (n_sensori * n_parole)\nt1_metrics_data = {\n    'filename': [],\n    'labels': [],\n    'data': np.zeros((len(t1_gesture_files), n_sensori * alfabeto.n_parole))\n}\nfor index, gesture_file in zip(range(len(t1_gesture_files)), t1_gesture_files):\n    #path_vectors_directory = ../Dati_2/vectors/\n    # Leggo le metrice ridotte\n    gesture_metrics_reduced = read_gesture_measures_reduced(gesture_file, path_vectors_directory, input_task1_modello_vettoriale)\n    # Trasformo la metrica ridotta in un file numpy\n    label = 1 # Label 1 per i file 250, 280\n    if int(gesture_file) < 100:\n        label = 0 # Label 0 per file 1, 30\n    elif int(gesture_file) > 400:\n        label = 2 # label 2 per i file 560, 590\n    metrics_numpy = metrics_reduced_2_numpy(gesture_metrics_reduced, alfabeto)\n    t1_metrics_data['filename'].append(gesture_file)\n    t1_metrics_data['labels'].append(label)\n    t1_metrics_data['data'][index] = metrics_numpy",
   "outputs": [],
   "execution_count": null
  },
  {
   "cell_type": "code",
   "metadata": {
    "tags": [],
    "cell_id": "00026-f5468916-1c32-4695-9695-608bce02ec11",
    "deepnote_to_be_reexecuted": false,
    "source_hash": "2271376f",
    "execution_start": 1639678717871,
    "execution_millis": 9,
    "deepnote_cell_type": "code"
   },
   "source": "#t1_metrics_data",
   "outputs": [],
   "execution_count": null
  },
  {
   "cell_type": "code",
   "metadata": {
    "deepnote_variable_name": "input_task1_option",
    "deepnote_variable_value": "LDA",
    "deepnote_variable_options": [
     "PCA",
     "SVD",
     "LDA"
    ],
    "deepnote_variable_custom_options": [
     "PCA",
     "SVD",
     "LDA"
    ],
    "deepnote_variable_selected_variable": "",
    "deepnote_variable_select_type": "from-options",
    "cell_id": "00028-09fc5a78-a0f0-44a1-b5f4-17b8196b3c27",
    "deepnote_to_be_reexecuted": false,
    "source_hash": "c1987eae",
    "execution_start": 1639679937106,
    "execution_millis": 1,
    "deepnote_cell_type": "input-select"
   },
   "source": "input_task1_option = 'LDA'",
   "outputs": [],
   "execution_count": null
  },
  {
   "cell_type": "code",
   "metadata": {
    "tags": [],
    "cell_id": "00032-45eae3d4-37f2-4c04-9bbb-01c136497b1b",
    "deepnote_to_be_reexecuted": false,
    "source_hash": "479edd52",
    "execution_start": 1639678717927,
    "execution_millis": 12792,
    "deepnote_output_heights": [
     462.79998779296875,
     194,
     194,
     194,
     462.79998779296875
    ],
    "deepnote_cell_type": "code"
   },
   "source": "metrics_pandas = metrics_numpy_2_pandas(t1_metrics_data['data'], alfabeto)\nif input_task1_option == \"PCA\":\n    t1_alg_result, t1_alg_variance = metrics_numpy_2_PCA(metrics_pandas, show_intermediate_data=True)\nelif input_task1_option == \"SVD\":\n    t1_alg_result, t1_alg_variance = metrics_numpy_2_SVD(metrics_pandas, show_intermediate_data=True)\nelif input_task1_option == \"LDA\":\n    t1_alg_result, t1_alg_variance = metrics_numpy_2_LDA(metrics_pandas, show_intermediate_data=True)\n  \n\n# Preparo i dati x il task 5 di classificazione che sarà fatto dai dati con dimensionalità ridotta generati qua\nt5_data = {\n    'data': t1_alg_result['fitted_alg'],\n    'labels': t1_metrics_data['labels']\n}",
   "outputs": [
    {
     "data": {
      "application/vnd.deepnote.dataframe.v2+json": {
       "row_count": 33340,
       "column_count": 93,
       "columns": [
        {
         "name": "PC1",
         "dtype": "float64",
         "stats": {
          "unique_count": 12,
          "nan_count": 0,
          "min": "0.010752688172043012",
          "max": "0.07970268179302377",
          "histogram": [
           {
            "bin_start": 0.010752688172043012,
            "bin_end": 0.017647687534141088,
            "count": 33318
           },
           {
            "bin_start": 0.017647687534141088,
            "bin_end": 0.02454268689623916,
            "count": 0
           },
           {
            "bin_start": 0.02454268689623916,
            "bin_end": 0.03143768625833723,
            "count": 0
           },
           {
            "bin_start": 0.03143768625833723,
            "bin_end": 0.03833268562043531,
            "count": 0
           },
           {
            "bin_start": 0.03833268562043531,
            "bin_end": 0.04522768498253339,
            "count": 1
           },
           {
            "bin_start": 0.04522768498253339,
            "bin_end": 0.052122684344631465,
            "count": 4
           },
           {
            "bin_start": 0.052122684344631465,
            "bin_end": 0.05901768370672954,
            "count": 7
           },
           {
            "bin_start": 0.05901768370672954,
            "bin_end": 0.06591268306882761,
            "count": 2
           },
           {
            "bin_start": 0.06591268306882761,
            "bin_end": 0.07280768243092568,
            "count": 4
           },
           {
            "bin_start": 0.07280768243092568,
            "bin_end": 0.07970268179302377,
            "count": 4
           }
          ]
         }
        },
        {
         "name": "PC2",
         "dtype": "float64",
         "stats": {
          "unique_count": 1,
          "nan_count": 0,
          "min": "0.010752688172043012",
          "max": "0.010752688172043012",
          "histogram": [
           {
            "bin_start": -0.489247311827957,
            "bin_end": -0.389247311827957,
            "count": 0
           },
           {
            "bin_start": -0.389247311827957,
            "bin_end": -0.289247311827957,
            "count": 0
           },
           {
            "bin_start": -0.289247311827957,
            "bin_end": -0.18924731182795695,
            "count": 0
           },
           {
            "bin_start": -0.18924731182795695,
            "bin_end": -0.08924731182795698,
            "count": 0
           },
           {
            "bin_start": -0.08924731182795698,
            "bin_end": 0.010752688172043001,
            "count": 0
           },
           {
            "bin_start": 0.010752688172043001,
            "bin_end": 0.11075268817204309,
            "count": 33340
           },
           {
            "bin_start": 0.11075268817204309,
            "bin_end": 0.21075268817204307,
            "count": 0
           },
           {
            "bin_start": 0.21075268817204307,
            "bin_end": 0.31075268817204305,
            "count": 0
           },
           {
            "bin_start": 0.31075268817204305,
            "bin_end": 0.410752688172043,
            "count": 0
           },
           {
            "bin_start": 0.410752688172043,
            "bin_end": 0.510752688172043,
            "count": 0
           }
          ]
         }
        },
        {
         "name": "PC3",
         "dtype": "float64"
        },
        {
         "name": "PC4",
         "dtype": "float64"
        },
        {
         "name": "PC5",
         "dtype": "float64"
        },
        {
         "name": "PC6",
         "dtype": "float64"
        },
        {
         "name": "PC7",
         "dtype": "float64"
        },
        {
         "name": "PC8",
         "dtype": "float64"
        },
        {
         "name": "PC9",
         "dtype": "float64"
        },
        {
         "name": "PC10",
         "dtype": "float64"
        },
        {
         "name": "PC11",
         "dtype": "float64"
        },
        {
         "name": "PC12",
         "dtype": "float64"
        },
        {
         "name": "PC13",
         "dtype": "float64"
        },
        {
         "name": "PC14",
         "dtype": "float64"
        },
        {
         "name": "PC15",
         "dtype": "float64"
        },
        {
         "name": "PC16",
         "dtype": "float64"
        },
        {
         "name": "PC17",
         "dtype": "float64"
        },
        {
         "name": "PC18",
         "dtype": "float64"
        },
        {
         "name": "PC19",
         "dtype": "float64"
        },
        {
         "name": "PC20",
         "dtype": "float64"
        },
        {
         "name": "PC21",
         "dtype": "float64"
        },
        {
         "name": "PC22",
         "dtype": "float64"
        },
        {
         "name": "PC23",
         "dtype": "float64"
        },
        {
         "name": "PC24",
         "dtype": "float64"
        },
        {
         "name": "PC25",
         "dtype": "float64"
        },
        {
         "name": "PC26",
         "dtype": "float64"
        },
        {
         "name": "PC27",
         "dtype": "float64"
        },
        {
         "name": "PC28",
         "dtype": "float64"
        },
        {
         "name": "PC29",
         "dtype": "float64"
        },
        {
         "name": "PC30",
         "dtype": "float64"
        },
        {
         "name": "PC31",
         "dtype": "float64"
        },
        {
         "name": "PC32",
         "dtype": "float64"
        },
        {
         "name": "PC33",
         "dtype": "float64"
        },
        {
         "name": "PC34",
         "dtype": "float64"
        },
        {
         "name": "PC35",
         "dtype": "float64"
        },
        {
         "name": "PC36",
         "dtype": "float64"
        },
        {
         "name": "PC37",
         "dtype": "float64"
        },
        {
         "name": "PC38",
         "dtype": "float64"
        },
        {
         "name": "PC39",
         "dtype": "float64"
        },
        {
         "name": "PC40",
         "dtype": "float64"
        },
        {
         "name": "PC41",
         "dtype": "float64"
        },
        {
         "name": "PC42",
         "dtype": "float64"
        },
        {
         "name": "PC43",
         "dtype": "float64"
        },
        {
         "name": "PC44",
         "dtype": "float64"
        },
        {
         "name": "PC45",
         "dtype": "float64"
        },
        {
         "name": "PC46",
         "dtype": "float64"
        },
        {
         "name": "PC47",
         "dtype": "float64"
        },
        {
         "name": "PC48",
         "dtype": "float64"
        },
        {
         "name": "PC49",
         "dtype": "float64"
        },
        {
         "name": "PC50",
         "dtype": "float64"
        },
        {
         "name": "PC51",
         "dtype": "float64"
        },
        {
         "name": "PC52",
         "dtype": "float64"
        },
        {
         "name": "PC53",
         "dtype": "float64"
        },
        {
         "name": "PC54",
         "dtype": "float64"
        },
        {
         "name": "PC55",
         "dtype": "float64"
        },
        {
         "name": "PC56",
         "dtype": "float64"
        },
        {
         "name": "PC57",
         "dtype": "float64"
        },
        {
         "name": "PC58",
         "dtype": "float64"
        },
        {
         "name": "PC59",
         "dtype": "float64"
        },
        {
         "name": "PC60",
         "dtype": "float64"
        },
        {
         "name": "PC61",
         "dtype": "float64"
        },
        {
         "name": "PC62",
         "dtype": "float64"
        },
        {
         "name": "PC63",
         "dtype": "float64"
        },
        {
         "name": "PC64",
         "dtype": "float64"
        },
        {
         "name": "PC65",
         "dtype": "float64"
        },
        {
         "name": "PC66",
         "dtype": "float64"
        },
        {
         "name": "PC67",
         "dtype": "float64"
        },
        {
         "name": "PC68",
         "dtype": "float64"
        },
        {
         "name": "PC69",
         "dtype": "float64"
        },
        {
         "name": "PC70",
         "dtype": "float64"
        },
        {
         "name": "PC71",
         "dtype": "float64"
        },
        {
         "name": "PC72",
         "dtype": "float64"
        },
        {
         "name": "PC73",
         "dtype": "float64"
        },
        {
         "name": "PC74",
         "dtype": "float64"
        },
        {
         "name": "PC75",
         "dtype": "float64"
        },
        {
         "name": "PC76",
         "dtype": "float64"
        },
        {
         "name": "PC77",
         "dtype": "float64"
        },
        {
         "name": "PC78",
         "dtype": "float64"
        },
        {
         "name": "PC79",
         "dtype": "float64"
        },
        {
         "name": "PC80",
         "dtype": "float64"
        },
        {
         "name": "PC81",
         "dtype": "float64"
        },
        {
         "name": "PC82",
         "dtype": "float64"
        },
        {
         "name": "PC83",
         "dtype": "float64"
        },
        {
         "name": "PC84",
         "dtype": "float64"
        },
        {
         "name": "PC85",
         "dtype": "float64"
        },
        {
         "name": "PC86",
         "dtype": "float64"
        },
        {
         "name": "PC87",
         "dtype": "float64"
        },
        {
         "name": "PC88",
         "dtype": "float64"
        },
        {
         "name": "PC89",
         "dtype": "float64"
        },
        {
         "name": "PC90",
         "dtype": "float64"
        },
        {
         "name": "PC91",
         "dtype": "float64"
        },
        {
         "name": "PC92",
         "dtype": "float64"
        },
        {
         "name": "PC93",
         "dtype": "float64"
        },
        {
         "name": "_deepnote_index_column",
         "dtype": "object"
        }
       ],
       "rows_top": [
        {
         "PC1": 0.010752688172043012,
         "PC2": 0.010752688172043012,
         "PC3": 0.010752688172043012,
         "PC4": 0.010752688172043012,
         "PC5": 0.010752688172043012,
         "PC6": 0.010752688172043012,
         "PC7": 0.010752688172043012,
         "PC8": 0.010752688172043012,
         "PC9": 0.010752688172043012,
         "PC10": 0.010752688172043012,
         "PC11": 0.010752688172043012,
         "PC12": 0.010752688172043012,
         "PC13": 0.010752688172043012,
         "PC14": 0.010752688172043012,
         "PC15": 0.010752688172043012,
         "PC16": 0.010752688172043012,
         "PC17": 0.010752688172043012,
         "PC18": 0.010752688172043012,
         "PC19": 0.010752688172043012,
         "PC20": 0.010752688172043012,
         "PC21": 0.010752688172043012,
         "PC22": 0.010752688172043012,
         "PC23": 0.010752688172043012,
         "PC24": 0.010752688172043012,
         "PC25": 0.010752688172043012,
         "PC26": 0.010752688172043012,
         "PC27": 0.010752688172043012,
         "PC28": 0.010752688172043012,
         "PC29": 0.010752688172043012,
         "PC30": 0.010752688172043012,
         "PC31": 0.010752688172043012,
         "PC32": 0.010752688172043012,
         "PC33": 0.010752688172043012,
         "PC34": 0.010752688172043012,
         "PC35": 0.010752688172043012,
         "PC36": 0.010752688172043012,
         "PC37": 0.010752688172043012,
         "PC38": 0.010752688172043012,
         "PC39": 0.010752688172043012,
         "PC40": 0.010752688172043012,
         "PC41": 0.010752688172043012,
         "PC42": 0.010752688172043012,
         "PC43": 0.010752688172043012,
         "PC44": 0.010752688172043012,
         "PC45": 0.010752688172043012,
         "PC46": 0.010752688172043012,
         "PC47": 0.010752688172043012,
         "PC48": 0.010752688172043012,
         "PC49": 0.010752688172043012,
         "PC50": 0.010752688172043012,
         "PC51": 0.010752688172043012,
         "PC52": 0.010752688172043012,
         "PC53": 0.010752688172043012,
         "PC54": 0.010752688172043012,
         "PC55": 0.010752688172043012,
         "PC56": 0.010752688172043012,
         "PC57": 0.010752688172043012,
         "PC58": 0.010752688172043012,
         "PC59": 0.010752688172043012,
         "PC60": 0.010752688172043012,
         "PC61": 0.010752688172043012,
         "PC62": 0.010752688172043012,
         "PC63": 0.010752688172043012,
         "PC64": 0.010752688172043012,
         "PC65": 0.010752688172043012,
         "PC66": 0.010752688172043012,
         "PC67": 0.010752688172043012,
         "PC68": 0.010752688172043012,
         "PC69": 0.010752688172043012,
         "PC70": 0.010752688172043012,
         "PC71": 0.010752688172043012,
         "PC72": 0.010752688172043012,
         "PC73": 0.010752688172043012,
         "PC74": 0.010752688172043012,
         "PC75": 0.010752688172043012,
         "PC76": 0.010752688172043012,
         "PC77": 0.010752688172043012,
         "PC78": 0.010752688172043012,
         "PC79": 0.010752688172043012,
         "PC80": 0.010752688172043012,
         "PC81": 0.010752688172043012,
         "PC82": 0.010752688172043012,
         "PC83": 0.010752688172043012,
         "PC84": 0.010752688172043012,
         "PC85": 0.010752688172043012,
         "PC86": 0.010752688172043012,
         "PC87": 0.010752688172043012,
         "PC88": 0.010752688172043012,
         "PC89": 0.010752688172043012,
         "PC90": 0.010752688172043012,
         "PC91": 0.010752688172043012,
         "PC92": 0.010752688172043012,
         "PC93": 0.010752688172043012,
         "_deepnote_index_column": "S0 -0.19148;0.19148;0.19148;0.53284;0.19148"
        },
        {
         "PC1": 0.010752688172043012,
         "PC2": 0.010752688172043012,
         "PC3": 0.010752688172043012,
         "PC4": 0.010752688172043012,
         "PC5": 0.010752688172043012,
         "PC6": 0.010752688172043012,
         "PC7": 0.010752688172043012,
         "PC8": 0.010752688172043012,
         "PC9": 0.010752688172043012,
         "PC10": 0.010752688172043012,
         "PC11": 0.010752688172043012,
         "PC12": 0.010752688172043012,
         "PC13": 0.010752688172043012,
         "PC14": 0.010752688172043012,
         "PC15": 0.010752688172043012,
         "PC16": 0.010752688172043012,
         "PC17": 0.010752688172043012,
         "PC18": 0.010752688172043012,
         "PC19": 0.010752688172043012,
         "PC20": 0.010752688172043012,
         "PC21": 0.010752688172043012,
         "PC22": 0.010752688172043012,
         "PC23": 0.010752688172043012,
         "PC24": 0.010752688172043012,
         "PC25": 0.010752688172043012,
         "PC26": 0.010752688172043012,
         "PC27": 0.010752688172043012,
         "PC28": 0.010752688172043012,
         "PC29": 0.010752688172043012,
         "PC30": 0.010752688172043012,
         "PC31": 0.010752688172043012,
         "PC32": 0.010752688172043012,
         "PC33": 0.010752688172043012,
         "PC34": 0.010752688172043012,
         "PC35": 0.010752688172043012,
         "PC36": 0.010752688172043012,
         "PC37": 0.010752688172043012,
         "PC38": 0.010752688172043012,
         "PC39": 0.010752688172043012,
         "PC40": 0.010752688172043012,
         "PC41": 0.010752688172043012,
         "PC42": 0.010752688172043012,
         "PC43": 0.010752688172043012,
         "PC44": 0.010752688172043012,
         "PC45": 0.010752688172043012,
         "PC46": 0.010752688172043012,
         "PC47": 0.010752688172043012,
         "PC48": 0.010752688172043012,
         "PC49": 0.010752688172043012,
         "PC50": 0.010752688172043012,
         "PC51": 0.010752688172043012,
         "PC52": 0.010752688172043012,
         "PC53": 0.010752688172043012,
         "PC54": 0.010752688172043012,
         "PC55": 0.010752688172043012,
         "PC56": 0.010752688172043012,
         "PC57": 0.010752688172043012,
         "PC58": 0.010752688172043012,
         "PC59": 0.010752688172043012,
         "PC60": 0.010752688172043012,
         "PC61": 0.010752688172043012,
         "PC62": 0.010752688172043012,
         "PC63": 0.010752688172043012,
         "PC64": 0.010752688172043012,
         "PC65": 0.010752688172043012,
         "PC66": 0.010752688172043012,
         "PC67": 0.010752688172043012,
         "PC68": 0.010752688172043012,
         "PC69": 0.010752688172043012,
         "PC70": 0.010752688172043012,
         "PC71": 0.010752688172043012,
         "PC72": 0.010752688172043012,
         "PC73": 0.010752688172043012,
         "PC74": 0.010752688172043012,
         "PC75": 0.010752688172043012,
         "PC76": 0.010752688172043012,
         "PC77": 0.010752688172043012,
         "PC78": 0.010752688172043012,
         "PC79": 0.010752688172043012,
         "PC80": 0.010752688172043012,
         "PC81": 0.010752688172043012,
         "PC82": 0.010752688172043012,
         "PC83": 0.010752688172043012,
         "PC84": 0.010752688172043012,
         "PC85": 0.010752688172043012,
         "PC86": 0.010752688172043012,
         "PC87": 0.010752688172043012,
         "PC88": 0.010752688172043012,
         "PC89": 0.010752688172043012,
         "PC90": 0.010752688172043012,
         "PC91": 0.010752688172043012,
         "PC92": 0.010752688172043012,
         "PC93": 0.010752688172043012,
         "_deepnote_index_column": "S0 -0.19148;-0.19148;-0.19148;0.53284;-0.19148"
        },
        {
         "PC1": 0.010752688172043012,
         "PC2": 0.010752688172043012,
         "PC3": 0.010752688172043012,
         "PC4": 0.010752688172043012,
         "PC5": 0.010752688172043012,
         "PC6": 0.010752688172043012,
         "PC7": 0.010752688172043012,
         "PC8": 0.010752688172043012,
         "PC9": 0.010752688172043012,
         "PC10": 0.010752688172043012,
         "PC11": 0.010752688172043012,
         "PC12": 0.010752688172043012,
         "PC13": 0.010752688172043012,
         "PC14": 0.010752688172043012,
         "PC15": 0.010752688172043012,
         "PC16": 0.010752688172043012,
         "PC17": 0.010752688172043012,
         "PC18": 0.010752688172043012,
         "PC19": 0.010752688172043012,
         "PC20": 0.010752688172043012,
         "PC21": 0.010752688172043012,
         "PC22": 0.010752688172043012,
         "PC23": 0.010752688172043012,
         "PC24": 0.010752688172043012,
         "PC25": 0.010752688172043012,
         "PC26": 0.010752688172043012,
         "PC27": 0.010752688172043012,
         "PC28": 0.010752688172043012,
         "PC29": 0.010752688172043012,
         "PC30": 0.010752688172043012,
         "PC31": 0.010752688172043012,
         "PC32": 0.010752688172043012,
         "PC33": 0.010752688172043012,
         "PC34": 0.010752688172043012,
         "PC35": 0.010752688172043012,
         "PC36": 0.010752688172043012,
         "PC37": 0.010752688172043012,
         "PC38": 0.010752688172043012,
         "PC39": 0.010752688172043012,
         "PC40": 0.010752688172043012,
         "PC41": 0.010752688172043012,
         "PC42": 0.010752688172043012,
         "PC43": 0.010752688172043012,
         "PC44": 0.010752688172043012,
         "PC45": 0.010752688172043012,
         "PC46": 0.010752688172043012,
         "PC47": 0.010752688172043012,
         "PC48": 0.010752688172043012,
         "PC49": 0.010752688172043012,
         "PC50": 0.010752688172043012,
         "PC51": 0.010752688172043012,
         "PC52": 0.010752688172043012,
         "PC53": 0.010752688172043012,
         "PC54": 0.010752688172043012,
         "PC55": 0.010752688172043012,
         "PC56": 0.010752688172043012,
         "PC57": 0.010752688172043012,
         "PC58": 0.010752688172043012,
         "PC59": 0.010752688172043012,
         "PC60": 0.010752688172043012,
         "PC61": 0.010752688172043012,
         "PC62": 0.010752688172043012,
         "PC63": 0.010752688172043012,
         "PC64": 0.010752688172043012,
         "PC65": 0.010752688172043012,
         "PC66": 0.010752688172043012,
         "PC67": 0.010752688172043012,
         "PC68": 0.010752688172043012,
         "PC69": 0.010752688172043012,
         "PC70": 0.010752688172043012,
         "PC71": 0.010752688172043012,
         "PC72": 0.010752688172043012,
         "PC73": 0.010752688172043012,
         "PC74": 0.010752688172043012,
         "PC75": 0.010752688172043012,
         "PC76": 0.010752688172043012,
         "PC77": 0.010752688172043012,
         "PC78": 0.010752688172043012,
         "PC79": 0.010752688172043012,
         "PC80": 0.010752688172043012,
         "PC81": 0.010752688172043012,
         "PC82": 0.010752688172043012,
         "PC83": 0.010752688172043012,
         "PC84": 0.010752688172043012,
         "PC85": 0.010752688172043012,
         "PC86": 0.010752688172043012,
         "PC87": 0.010752688172043012,
         "PC88": 0.010752688172043012,
         "PC89": 0.010752688172043012,
         "PC90": 0.010752688172043012,
         "PC91": 0.010752688172043012,
         "PC92": 0.010752688172043012,
         "PC93": 0.010752688172043012,
         "_deepnote_index_column": "S0 -0.9105;-0.9711;0.53284;0.53284;0.53284"
        },
        {
         "PC1": 0.010752688172043012,
         "PC2": 0.010752688172043012,
         "PC3": 0.010752688172043012,
         "PC4": 0.010752688172043012,
         "PC5": 0.010752688172043012,
         "PC6": 0.010752688172043012,
         "PC7": 0.010752688172043012,
         "PC8": 0.010752688172043012,
         "PC9": 0.010752688172043012,
         "PC10": 0.010752688172043012,
         "PC11": 0.010752688172043012,
         "PC12": 0.010752688172043012,
         "PC13": 0.010752688172043012,
         "PC14": 0.010752688172043012,
         "PC15": 0.010752688172043012,
         "PC16": 0.010752688172043012,
         "PC17": 0.010752688172043012,
         "PC18": 0.010752688172043012,
         "PC19": 0.010752688172043012,
         "PC20": 0.010752688172043012,
         "PC21": 0.010752688172043012,
         "PC22": 0.010752688172043012,
         "PC23": 0.010752688172043012,
         "PC24": 0.010752688172043012,
         "PC25": 0.010752688172043012,
         "PC26": 0.010752688172043012,
         "PC27": 0.010752688172043012,
         "PC28": 0.010752688172043012,
         "PC29": 0.010752688172043012,
         "PC30": 0.010752688172043012,
         "PC31": 0.010752688172043012,
         "PC32": 0.010752688172043012,
         "PC33": 0.010752688172043012,
         "PC34": 0.010752688172043012,
         "PC35": 0.010752688172043012,
         "PC36": 0.010752688172043012,
         "PC37": 0.010752688172043012,
         "PC38": 0.010752688172043012,
         "PC39": 0.010752688172043012,
         "PC40": 0.010752688172043012,
         "PC41": 0.010752688172043012,
         "PC42": 0.010752688172043012,
         "PC43": 0.010752688172043012,
         "PC44": 0.010752688172043012,
         "PC45": 0.010752688172043012,
         "PC46": 0.010752688172043012,
         "PC47": 0.010752688172043012,
         "PC48": 0.010752688172043012,
         "PC49": 0.010752688172043012,
         "PC50": 0.010752688172043012,
         "PC51": 0.010752688172043012,
         "PC52": 0.010752688172043012,
         "PC53": 0.010752688172043012,
         "PC54": 0.010752688172043012,
         "PC55": 0.010752688172043012,
         "PC56": 0.010752688172043012,
         "PC57": 0.010752688172043012,
         "PC58": 0.010752688172043012,
         "PC59": 0.010752688172043012,
         "PC60": 0.010752688172043012,
         "PC61": 0.010752688172043012,
         "PC62": 0.010752688172043012,
         "PC63": 0.010752688172043012,
         "PC64": 0.010752688172043012,
         "PC65": 0.010752688172043012,
         "PC66": 0.010752688172043012,
         "PC67": 0.010752688172043012,
         "PC68": 0.010752688172043012,
         "PC69": 0.010752688172043012,
         "PC70": 0.010752688172043012,
         "PC71": 0.010752688172043012,
         "PC72": 0.010752688172043012,
         "PC73": 0.010752688172043012,
         "PC74": 0.010752688172043012,
         "PC75": 0.010752688172043012,
         "PC76": 0.010752688172043012,
         "PC77": 0.010752688172043012,
         "PC78": 0.010752688172043012,
         "PC79": 0.010752688172043012,
         "PC80": 0.010752688172043012,
         "PC81": 0.010752688172043012,
         "PC82": 0.010752688172043012,
         "PC83": 0.010752688172043012,
         "PC84": 0.010752688172043012,
         "PC85": 0.010752688172043012,
         "PC86": 0.010752688172043012,
         "PC87": 0.010752688172043012,
         "PC88": 0.010752688172043012,
         "PC89": 0.010752688172043012,
         "PC90": 0.010752688172043012,
         "PC91": 0.010752688172043012,
         "PC92": 0.010752688172043012,
         "PC93": 0.010752688172043012,
         "_deepnote_index_column": "S0 -0.99979;-0.99979;-0.99979;-0.9925;-0.9925"
        },
        {
         "PC1": 0.010752688172043012,
         "PC2": 0.010752688172043012,
         "PC3": 0.010752688172043012,
         "PC4": 0.010752688172043012,
         "PC5": 0.010752688172043012,
         "PC6": 0.010752688172043012,
         "PC7": 0.010752688172043012,
         "PC8": 0.010752688172043012,
         "PC9": 0.010752688172043012,
         "PC10": 0.010752688172043012,
         "PC11": 0.010752688172043012,
         "PC12": 0.010752688172043012,
         "PC13": 0.010752688172043012,
         "PC14": 0.010752688172043012,
         "PC15": 0.010752688172043012,
         "PC16": 0.010752688172043012,
         "PC17": 0.010752688172043012,
         "PC18": 0.010752688172043012,
         "PC19": 0.010752688172043012,
         "PC20": 0.010752688172043012,
         "PC21": 0.010752688172043012,
         "PC22": 0.010752688172043012,
         "PC23": 0.010752688172043012,
         "PC24": 0.010752688172043012,
         "PC25": 0.010752688172043012,
         "PC26": 0.010752688172043012,
         "PC27": 0.010752688172043012,
         "PC28": 0.010752688172043012,
         "PC29": 0.010752688172043012,
         "PC30": 0.010752688172043012,
         "PC31": 0.010752688172043012,
         "PC32": 0.010752688172043012,
         "PC33": 0.010752688172043012,
         "PC34": 0.010752688172043012,
         "PC35": 0.010752688172043012,
         "PC36": 0.010752688172043012,
         "PC37": 0.010752688172043012,
         "PC38": 0.010752688172043012,
         "PC39": 0.010752688172043012,
         "PC40": 0.010752688172043012,
         "PC41": 0.010752688172043012,
         "PC42": 0.010752688172043012,
         "PC43": 0.010752688172043012,
         "PC44": 0.010752688172043012,
         "PC45": 0.010752688172043012,
         "PC46": 0.010752688172043012,
         "PC47": 0.010752688172043012,
         "PC48": 0.010752688172043012,
         "PC49": 0.010752688172043012,
         "PC50": 0.010752688172043012,
         "PC51": 0.010752688172043012,
         "PC52": 0.010752688172043012,
         "PC53": 0.010752688172043012,
         "PC54": 0.010752688172043012,
         "PC55": 0.010752688172043012,
         "PC56": 0.010752688172043012,
         "PC57": 0.010752688172043012,
         "PC58": 0.010752688172043012,
         "PC59": 0.010752688172043012,
         "PC60": 0.010752688172043012,
         "PC61": 0.010752688172043012,
         "PC62": 0.010752688172043012,
         "PC63": 0.010752688172043012,
         "PC64": 0.010752688172043012,
         "PC65": 0.010752688172043012,
         "PC66": 0.010752688172043012,
         "PC67": 0.010752688172043012,
         "PC68": 0.010752688172043012,
         "PC69": 0.010752688172043012,
         "PC70": 0.010752688172043012,
         "PC71": 0.010752688172043012,
         "PC72": 0.010752688172043012,
         "PC73": 0.010752688172043012,
         "PC74": 0.010752688172043012,
         "PC75": 0.010752688172043012,
         "PC76": 0.010752688172043012,
         "PC77": 0.010752688172043012,
         "PC78": 0.010752688172043012,
         "PC79": 0.010752688172043012,
         "PC80": 0.010752688172043012,
         "PC81": 0.010752688172043012,
         "PC82": 0.010752688172043012,
         "PC83": 0.010752688172043012,
         "PC84": 0.010752688172043012,
         "PC85": 0.010752688172043012,
         "PC86": 0.010752688172043012,
         "PC87": 0.010752688172043012,
         "PC88": 0.010752688172043012,
         "PC89": 0.010752688172043012,
         "PC90": 0.010752688172043012,
         "PC91": 0.010752688172043012,
         "PC92": 0.010752688172043012,
         "PC93": 0.010752688172043012,
         "_deepnote_index_column": "S0 -0.19148;-0.19148;-0.19148;-0.53284;0.53284"
        }
       ],
       "rows_bottom": [
        {
         "PC1": 0.010752688172043012,
         "PC2": 0.010752688172043012,
         "PC3": 0.010752688172043012,
         "PC4": 0.010752688172043012,
         "PC5": 0.010752688172043012,
         "PC6": 0.010752688172043012,
         "PC7": 0.010752688172043012,
         "PC8": 0.04673791125915165,
         "PC9": 0.010752688172043012,
         "PC10": 0.010752688172043012,
         "PC11": 0.010752688172043012,
         "PC12": 0.010752688172043012,
         "PC13": 0.010752688172043012,
         "PC14": 0.010752688172043012,
         "PC15": 0.010752688172043012,
         "PC16": 0.010752688172043012,
         "PC17": 0.010752688172043012,
         "PC18": 0.010752688172043012,
         "PC19": 0.010752688172043012,
         "PC20": 0.010752688172043012,
         "PC21": 0.010752688172043012,
         "PC22": 0.010752688172043012,
         "PC23": 0.010752688172043012,
         "PC24": 0.010752688172043012,
         "PC25": 0.010752688172043012,
         "PC26": 0.010752688172043012,
         "PC27": 0.010752688172043012,
         "PC28": 0.010752688172043012,
         "PC29": 0.010752688172043012,
         "PC30": 0.010752688172043012,
         "PC31": 0.010752688172043012,
         "PC32": 0.010752688172043012,
         "PC33": 0.010752688172043012,
         "PC34": 0.010752688172043012,
         "PC35": 0.010752688172043012,
         "PC36": 0.010752688172043012,
         "PC37": 0.010752688172043012,
         "PC38": 0.010752688172043012,
         "PC39": 0.010752688172043012,
         "PC40": 0.010752688172043012,
         "PC41": 0.010752688172043012,
         "PC42": 0.010752688172043012,
         "PC43": 0.010752688172043012,
         "PC44": 0.010752688172043012,
         "PC45": 0.010752688172043012,
         "PC46": 0.010752688172043012,
         "PC47": 0.010752688172043012,
         "PC48": 0.010752688172043012,
         "PC49": 0.010752688172043012,
         "PC50": 0.010752688172043012,
         "PC51": 0.010752688172043012,
         "PC52": 0.010752688172043012,
         "PC53": 0.010752688172043012,
         "PC54": 0.010752688172043012,
         "PC55": 0.010752688172043012,
         "PC56": 0.010752688172043012,
         "PC57": 0.010752688172043012,
         "PC58": 0.010752688172043012,
         "PC59": 0.010752688172043012,
         "PC60": 0.010752688172043012,
         "PC61": 0.010752688172043012,
         "PC62": 0.010752688172043012,
         "PC63": 0.010752688172043012,
         "PC64": 0.010752688172043012,
         "PC65": 0.010752688172043012,
         "PC66": 0.010752688172043012,
         "PC67": 0.010752688172043012,
         "PC68": 0.010752688172043012,
         "PC69": 0.010752688172043012,
         "PC70": 0.010752688172043012,
         "PC71": 0.010752688172043012,
         "PC72": 0.010752688172043012,
         "PC73": 0.010752688172043012,
         "PC74": 0.010752688172043012,
         "PC75": 0.010752688172043012,
         "PC76": 0.010752688172043012,
         "PC77": 0.010752688172043012,
         "PC78": 0.010752688172043012,
         "PC79": 0.010752688172043012,
         "PC80": 0.010752688172043012,
         "PC81": 0.010752688172043012,
         "PC82": 0.010752688172043012,
         "PC83": 0.010752688172043012,
         "PC84": 0.010752688172043012,
         "PC85": 0.010752688172043012,
         "PC86": 0.010752688172043012,
         "PC87": 0.010752688172043012,
         "PC88": 0.010752688172043012,
         "PC89": 0.010752688172043012,
         "PC90": 0.010752688172043012,
         "PC91": 0.010752688172043012,
         "PC92": 0.010752688172043012,
         "PC93": 0.010752688172043012,
         "_deepnote_index_column": "S19 -0.9925;-0.9925;-0.9711;-0.9711;-0.9711"
        },
        {
         "PC1": 0.010752688172043012,
         "PC2": 0.010752688172043012,
         "PC3": 0.010752688172043012,
         "PC4": 0.010752688172043012,
         "PC5": 0.010752688172043012,
         "PC6": 0.010752688172043012,
         "PC7": 0.010752688172043012,
         "PC8": 0.010752688172043012,
         "PC9": 0.010752688172043012,
         "PC10": 0.010752688172043012,
         "PC11": 0.010752688172043012,
         "PC12": 0.010752688172043012,
         "PC13": 0.010752688172043012,
         "PC14": 0.010752688172043012,
         "PC15": 0.010752688172043012,
         "PC16": 0.010752688172043012,
         "PC17": 0.010752688172043012,
         "PC18": 0.010752688172043012,
         "PC19": 0.010752688172043012,
         "PC20": 0.010752688172043012,
         "PC21": 0.010752688172043012,
         "PC22": 0.010752688172043012,
         "PC23": 0.010752688172043012,
         "PC24": 0.010752688172043012,
         "PC25": 0.010752688172043012,
         "PC26": 0.010752688172043012,
         "PC27": 0.010752688172043012,
         "PC28": 0.010752688172043012,
         "PC29": 0.010752688172043012,
         "PC30": 0.010752688172043012,
         "PC31": 0.010752688172043012,
         "PC32": 0.010752688172043012,
         "PC33": 0.010752688172043012,
         "PC34": 0.010752688172043012,
         "PC35": 0.010752688172043012,
         "PC36": 0.010752688172043012,
         "PC37": 0.010752688172043012,
         "PC38": 0.010752688172043012,
         "PC39": 0.010752688172043012,
         "PC40": 0.010752688172043012,
         "PC41": 0.010752688172043012,
         "PC42": 0.010752688172043012,
         "PC43": 0.010752688172043012,
         "PC44": 0.010752688172043012,
         "PC45": 0.010752688172043012,
         "PC46": 0.010752688172043012,
         "PC47": 0.010752688172043012,
         "PC48": 0.010752688172043012,
         "PC49": 0.010752688172043012,
         "PC50": 0.010752688172043012,
         "PC51": 0.010752688172043012,
         "PC52": 0.010752688172043012,
         "PC53": 0.010752688172043012,
         "PC54": 0.010752688172043012,
         "PC55": 0.010752688172043012,
         "PC56": 0.010752688172043012,
         "PC57": 0.010752688172043012,
         "PC58": 0.010752688172043012,
         "PC59": 0.010752688172043012,
         "PC60": 0.010752688172043012,
         "PC61": 0.010752688172043012,
         "PC62": 0.010752688172043012,
         "PC63": 0.010752688172043012,
         "PC64": 0.010752688172043012,
         "PC65": 0.010752688172043012,
         "PC66": 0.010752688172043012,
         "PC67": 0.010752688172043012,
         "PC68": 0.010752688172043012,
         "PC69": 0.010752688172043012,
         "PC70": 0.010752688172043012,
         "PC71": 0.010752688172043012,
         "PC72": 0.010752688172043012,
         "PC73": 0.010752688172043012,
         "PC74": 0.010752688172043012,
         "PC75": 0.010752688172043012,
         "PC76": 0.010752688172043012,
         "PC77": 0.010752688172043012,
         "PC78": 0.010752688172043012,
         "PC79": 0.010752688172043012,
         "PC80": 0.010752688172043012,
         "PC81": 0.010752688172043012,
         "PC82": 0.010752688172043012,
         "PC83": 0.010752688172043012,
         "PC84": 0.010752688172043012,
         "PC85": 0.010752688172043012,
         "PC86": 0.010752688172043012,
         "PC87": 0.010752688172043012,
         "PC88": 0.010752688172043012,
         "PC89": 0.010752688172043012,
         "PC90": 0.010752688172043012,
         "PC91": 0.010752688172043012,
         "PC92": 0.010752688172043012,
         "PC93": 0.010752688172043012,
         "_deepnote_index_column": "S19 -0.77459;-0.53284;-0.99979;-0.53284;-0.19148"
        },
        {
         "PC1": 0.010752688172043012,
         "PC2": 0.010752688172043012,
         "PC3": 0.010752688172043012,
         "PC4": 0.010752688172043012,
         "PC5": 0.010752688172043012,
         "PC6": 0.010752688172043012,
         "PC7": 0.010752688172043012,
         "PC8": 0.010752688172043012,
         "PC9": 0.010752688172043012,
         "PC10": 0.010752688172043012,
         "PC11": 0.010752688172043012,
         "PC12": 0.010752688172043012,
         "PC13": 0.010752688172043012,
         "PC14": 0.010752688172043012,
         "PC15": 0.010752688172043012,
         "PC16": 0.010752688172043012,
         "PC17": 0.010752688172043012,
         "PC18": 0.010752688172043012,
         "PC19": 0.010752688172043012,
         "PC20": 0.010752688172043012,
         "PC21": 0.010752688172043012,
         "PC22": 0.010752688172043012,
         "PC23": 0.010752688172043012,
         "PC24": 0.010752688172043012,
         "PC25": 0.010752688172043012,
         "PC26": 0.010752688172043012,
         "PC27": 0.010752688172043012,
         "PC28": 0.010752688172043012,
         "PC29": 0.010752688172043012,
         "PC30": 0.010752688172043012,
         "PC31": 0.010752688172043012,
         "PC32": 0.010752688172043012,
         "PC33": 0.010752688172043012,
         "PC34": 0.010752688172043012,
         "PC35": 0.010752688172043012,
         "PC36": 0.010752688172043012,
         "PC37": 0.010752688172043012,
         "PC38": 0.010752688172043012,
         "PC39": 0.010752688172043012,
         "PC40": 0.010752688172043012,
         "PC41": 0.010752688172043012,
         "PC42": 0.010752688172043012,
         "PC43": 0.010752688172043012,
         "PC44": 0.010752688172043012,
         "PC45": 0.010752688172043012,
         "PC46": 0.010752688172043012,
         "PC47": 0.010752688172043012,
         "PC48": 0.010752688172043012,
         "PC49": 0.010752688172043012,
         "PC50": 0.010752688172043012,
         "PC51": 0.010752688172043012,
         "PC52": 0.010752688172043012,
         "PC53": 0.010752688172043012,
         "PC54": 0.010752688172043012,
         "PC55": 0.010752688172043012,
         "PC56": 0.010752688172043012,
         "PC57": 0.010752688172043012,
         "PC58": 0.010752688172043012,
         "PC59": 0.010752688172043012,
         "PC60": 0.010752688172043012,
         "PC61": 0.010752688172043012,
         "PC62": 0.010752688172043012,
         "PC63": 0.010752688172043012,
         "PC64": 0.010752688172043012,
         "PC65": 0.010752688172043012,
         "PC66": 0.010752688172043012,
         "PC67": 0.010752688172043012,
         "PC68": 0.010752688172043012,
         "PC69": 0.010752688172043012,
         "PC70": 0.010752688172043012,
         "PC71": 0.010752688172043012,
         "PC72": 0.010752688172043012,
         "PC73": 0.010752688172043012,
         "PC74": 0.010752688172043012,
         "PC75": 0.010752688172043012,
         "PC76": 0.010752688172043012,
         "PC77": 0.010752688172043012,
         "PC78": 0.010752688172043012,
         "PC79": 0.010752688172043012,
         "PC80": 0.010752688172043012,
         "PC81": 0.010752688172043012,
         "PC82": 0.010752688172043012,
         "PC83": 0.010752688172043012,
         "PC84": 0.010752688172043012,
         "PC85": 0.010752688172043012,
         "PC86": 0.010752688172043012,
         "PC87": 0.010752688172043012,
         "PC88": 0.010752688172043012,
         "PC89": 0.010752688172043012,
         "PC90": 0.010752688172043012,
         "PC91": 0.010752688172043012,
         "PC92": 0.010752688172043012,
         "PC93": 0.010752688172043012,
         "_deepnote_index_column": "S19 0.9711;0.9105;0.9711;0.77459;0.77459"
        },
        {
         "PC1": 0.010752688172043012,
         "PC2": 0.010752688172043012,
         "PC3": 0.010752688172043012,
         "PC4": 0.010752688172043012,
         "PC5": 0.010752688172043012,
         "PC6": 0.010752688172043012,
         "PC7": 0.010752688172043012,
         "PC8": 0.010752688172043012,
         "PC9": 0.010752688172043012,
         "PC10": 0.010752688172043012,
         "PC11": 0.010752688172043012,
         "PC12": 0.010752688172043012,
         "PC13": 0.010752688172043012,
         "PC14": 0.010752688172043012,
         "PC15": 0.010752688172043012,
         "PC16": 0.010752688172043012,
         "PC17": 0.010752688172043012,
         "PC18": 0.010752688172043012,
         "PC19": 0.010752688172043012,
         "PC20": 0.010752688172043012,
         "PC21": 0.010752688172043012,
         "PC22": 0.010752688172043012,
         "PC23": 0.010752688172043012,
         "PC24": 0.010752688172043012,
         "PC25": 0.010752688172043012,
         "PC26": 0.010752688172043012,
         "PC27": 0.010752688172043012,
         "PC28": 0.010752688172043012,
         "PC29": 0.010752688172043012,
         "PC30": 0.010752688172043012,
         "PC31": 0.010752688172043012,
         "PC32": 0.010752688172043012,
         "PC33": 0.010752688172043012,
         "PC34": 0.010752688172043012,
         "PC35": 0.010752688172043012,
         "PC36": 0.010752688172043012,
         "PC37": 0.010752688172043012,
         "PC38": 0.010752688172043012,
         "PC39": 0.010752688172043012,
         "PC40": 0.010752688172043012,
         "PC41": 0.010752688172043012,
         "PC42": 0.010752688172043012,
         "PC43": 0.010752688172043012,
         "PC44": 0.010752688172043012,
         "PC45": 0.010752688172043012,
         "PC46": 0.010752688172043012,
         "PC47": 0.010752688172043012,
         "PC48": 0.010752688172043012,
         "PC49": 0.010752688172043012,
         "PC50": 0.010752688172043012,
         "PC51": 0.010752688172043012,
         "PC52": 0.010752688172043012,
         "PC53": 0.010752688172043012,
         "PC54": 0.010752688172043012,
         "PC55": 0.010752688172043012,
         "PC56": 0.010752688172043012,
         "PC57": 0.010752688172043012,
         "PC58": 0.010752688172043012,
         "PC59": 0.010752688172043012,
         "PC60": 0.010752688172043012,
         "PC61": 0.010752688172043012,
         "PC62": 0.010752688172043012,
         "PC63": 0.010752688172043012,
         "PC64": 0.010752688172043012,
         "PC65": 0.010752688172043012,
         "PC66": 0.010752688172043012,
         "PC67": 0.010752688172043012,
         "PC68": 0.010752688172043012,
         "PC69": 0.010752688172043012,
         "PC70": 0.010752688172043012,
         "PC71": 0.010752688172043012,
         "PC72": 0.010752688172043012,
         "PC73": 0.010752688172043012,
         "PC74": 0.010752688172043012,
         "PC75": 0.010752688172043012,
         "PC76": 0.010752688172043012,
         "PC77": 0.010752688172043012,
         "PC78": 0.010752688172043012,
         "PC79": 0.010752688172043012,
         "PC80": 0.010752688172043012,
         "PC81": 0.010752688172043012,
         "PC82": 0.010752688172043012,
         "PC83": 0.010752688172043012,
         "PC84": 0.010752688172043012,
         "PC85": 0.010752688172043012,
         "PC86": 0.010752688172043012,
         "PC87": 0.010752688172043012,
         "PC88": 0.010752688172043012,
         "PC89": 0.010752688172043012,
         "PC90": 0.010752688172043012,
         "PC91": 0.010752688172043012,
         "PC92": 0.010752688172043012,
         "PC93": 0.010752688172043012,
         "_deepnote_index_column": "S19 0.9711;0.9711;0.9925;0.99979;-0.99979"
        },
        {
         "PC1": 0.010752688172043012,
         "PC2": 0.010752688172043012,
         "PC3": 0.010752688172043012,
         "PC4": 0.010752688172043012,
         "PC5": 0.010752688172043012,
         "PC6": 0.010752688172043012,
         "PC7": 0.010752688172043012,
         "PC8": 0.010752688172043012,
         "PC9": 0.010752688172043012,
         "PC10": 0.010752688172043012,
         "PC11": 0.010752688172043012,
         "PC12": 0.010752688172043012,
         "PC13": 0.010752688172043012,
         "PC14": 0.010752688172043012,
         "PC15": 0.010752688172043012,
         "PC16": 0.010752688172043012,
         "PC17": 0.010752688172043012,
         "PC18": 0.010752688172043012,
         "PC19": 0.010752688172043012,
         "PC20": 0.010752688172043012,
         "PC21": 0.010752688172043012,
         "PC22": 0.010752688172043012,
         "PC23": 0.010752688172043012,
         "PC24": 0.010752688172043012,
         "PC25": 0.010752688172043012,
         "PC26": 0.010752688172043012,
         "PC27": 0.010752688172043012,
         "PC28": 0.010752688172043012,
         "PC29": 0.010752688172043012,
         "PC30": 0.010752688172043012,
         "PC31": 0.010752688172043012,
         "PC32": 0.010752688172043012,
         "PC33": 0.010752688172043012,
         "PC34": 0.010752688172043012,
         "PC35": 0.010752688172043012,
         "PC36": 0.010752688172043012,
         "PC37": 0.010752688172043012,
         "PC38": 0.010752688172043012,
         "PC39": 0.010752688172043012,
         "PC40": 0.010752688172043012,
         "PC41": 0.010752688172043012,
         "PC42": 0.010752688172043012,
         "PC43": 0.010752688172043012,
         "PC44": 0.010752688172043012,
         "PC45": 0.010752688172043012,
         "PC46": 0.010752688172043012,
         "PC47": 0.010752688172043012,
         "PC48": 0.010752688172043012,
         "PC49": 0.010752688172043012,
         "PC50": 0.010752688172043012,
         "PC51": 0.010752688172043012,
         "PC52": 0.010752688172043012,
         "PC53": 0.010752688172043012,
         "PC54": 0.010752688172043012,
         "PC55": 0.010752688172043012,
         "PC56": 0.010752688172043012,
         "PC57": 0.010752688172043012,
         "PC58": 0.010752688172043012,
         "PC59": 0.010752688172043012,
         "PC60": 0.010752688172043012,
         "PC61": 0.010752688172043012,
         "PC62": 0.010752688172043012,
         "PC63": 0.010752688172043012,
         "PC64": 0.010752688172043012,
         "PC65": 0.010752688172043012,
         "PC66": 0.010752688172043012,
         "PC67": 0.010752688172043012,
         "PC68": 0.010752688172043012,
         "PC69": 0.010752688172043012,
         "PC70": 0.010752688172043012,
         "PC71": 0.010752688172043012,
         "PC72": 0.010752688172043012,
         "PC73": 0.010752688172043012,
         "PC74": 0.010752688172043012,
         "PC75": 0.010752688172043012,
         "PC76": 0.010752688172043012,
         "PC77": 0.010752688172043012,
         "PC78": 0.010752688172043012,
         "PC79": 0.010752688172043012,
         "PC80": 0.010752688172043012,
         "PC81": 0.010752688172043012,
         "PC82": 0.010752688172043012,
         "PC83": 0.010752688172043012,
         "PC84": 0.010752688172043012,
         "PC85": 0.010752688172043012,
         "PC86": 0.010752688172043012,
         "PC87": 0.010752688172043012,
         "PC88": 0.010752688172043012,
         "PC89": 0.010752688172043012,
         "PC90": 0.010752688172043012,
         "PC91": 0.010752688172043012,
         "PC92": 0.010752688172043012,
         "PC93": 0.010752688172043012,
         "_deepnote_index_column": "S19 -0.9105;-0.99979;-0.9105;-0.9105;-0.77459"
        }
       ]
      },
      "text/plain": "                                                       PC1       PC2  \\\nS0 -0.19148;0.19148;0.19148;0.53284;0.19148       0.010753  0.010753   \nS0 -0.19148;-0.19148;-0.19148;0.53284;-0.19148    0.010753  0.010753   \nS0 -0.9105;-0.9711;0.53284;0.53284;0.53284        0.010753  0.010753   \nS0 -0.99979;-0.99979;-0.99979;-0.9925;-0.9925     0.010753  0.010753   \nS0 -0.19148;-0.19148;-0.19148;-0.53284;0.53284    0.010753  0.010753   \n...                                                    ...       ...   \nS19 -0.9925;-0.9925;-0.9711;-0.9711;-0.9711       0.010753  0.010753   \nS19 -0.77459;-0.53284;-0.99979;-0.53284;-0.19148  0.010753  0.010753   \nS19 0.9711;0.9105;0.9711;0.77459;0.77459          0.010753  0.010753   \nS19 0.9711;0.9711;0.9925;0.99979;-0.99979         0.010753  0.010753   \nS19 -0.9105;-0.99979;-0.9105;-0.9105;-0.77459     0.010753  0.010753   \n\n                                                       PC3       PC4  \\\nS0 -0.19148;0.19148;0.19148;0.53284;0.19148       0.010753  0.010753   \nS0 -0.19148;-0.19148;-0.19148;0.53284;-0.19148    0.010753  0.010753   \nS0 -0.9105;-0.9711;0.53284;0.53284;0.53284        0.010753  0.010753   \nS0 -0.99979;-0.99979;-0.99979;-0.9925;-0.9925     0.010753  0.010753   \nS0 -0.19148;-0.19148;-0.19148;-0.53284;0.53284    0.010753  0.010753   \n...                                                    ...       ...   \nS19 -0.9925;-0.9925;-0.9711;-0.9711;-0.9711       0.010753  0.010753   \nS19 -0.77459;-0.53284;-0.99979;-0.53284;-0.19148  0.010753  0.010753   \nS19 0.9711;0.9105;0.9711;0.77459;0.77459          0.010753  0.010753   \nS19 0.9711;0.9711;0.9925;0.99979;-0.99979         0.010753  0.010753   \nS19 -0.9105;-0.99979;-0.9105;-0.9105;-0.77459     0.010753  0.010753   \n\n                                                       PC5       PC6  \\\nS0 -0.19148;0.19148;0.19148;0.53284;0.19148       0.010753  0.010753   \nS0 -0.19148;-0.19148;-0.19148;0.53284;-0.19148    0.010753  0.010753   \nS0 -0.9105;-0.9711;0.53284;0.53284;0.53284        0.010753  0.010753   \nS0 -0.99979;-0.99979;-0.99979;-0.9925;-0.9925     0.010753  0.010753   \nS0 -0.19148;-0.19148;-0.19148;-0.53284;0.53284    0.010753  0.010753   \n...                                                    ...       ...   \nS19 -0.9925;-0.9925;-0.9711;-0.9711;-0.9711       0.010753  0.010753   \nS19 -0.77459;-0.53284;-0.99979;-0.53284;-0.19148  0.010753  0.010753   \nS19 0.9711;0.9105;0.9711;0.77459;0.77459          0.010753  0.010753   \nS19 0.9711;0.9711;0.9925;0.99979;-0.99979         0.010753  0.010753   \nS19 -0.9105;-0.99979;-0.9105;-0.9105;-0.77459     0.010753  0.010753   \n\n                                                       PC7       PC8  \\\nS0 -0.19148;0.19148;0.19148;0.53284;0.19148       0.010753  0.010753   \nS0 -0.19148;-0.19148;-0.19148;0.53284;-0.19148    0.010753  0.010753   \nS0 -0.9105;-0.9711;0.53284;0.53284;0.53284        0.010753  0.010753   \nS0 -0.99979;-0.99979;-0.99979;-0.9925;-0.9925     0.010753  0.010753   \nS0 -0.19148;-0.19148;-0.19148;-0.53284;0.53284    0.010753  0.010753   \n...                                                    ...       ...   \nS19 -0.9925;-0.9925;-0.9711;-0.9711;-0.9711       0.010753  0.046738   \nS19 -0.77459;-0.53284;-0.99979;-0.53284;-0.19148  0.010753  0.010753   \nS19 0.9711;0.9105;0.9711;0.77459;0.77459          0.010753  0.010753   \nS19 0.9711;0.9711;0.9925;0.99979;-0.99979         0.010753  0.010753   \nS19 -0.9105;-0.99979;-0.9105;-0.9105;-0.77459     0.010753  0.010753   \n\n                                                       PC9      PC10  ...  \\\nS0 -0.19148;0.19148;0.19148;0.53284;0.19148       0.010753  0.010753  ...   \nS0 -0.19148;-0.19148;-0.19148;0.53284;-0.19148    0.010753  0.010753  ...   \nS0 -0.9105;-0.9711;0.53284;0.53284;0.53284        0.010753  0.010753  ...   \nS0 -0.99979;-0.99979;-0.99979;-0.9925;-0.9925     0.010753  0.010753  ...   \nS0 -0.19148;-0.19148;-0.19148;-0.53284;0.53284    0.010753  0.010753  ...   \n...                                                    ...       ...  ...   \nS19 -0.9925;-0.9925;-0.9711;-0.9711;-0.9711       0.010753  0.010753  ...   \nS19 -0.77459;-0.53284;-0.99979;-0.53284;-0.19148  0.010753  0.010753  ...   \nS19 0.9711;0.9105;0.9711;0.77459;0.77459          0.010753  0.010753  ...   \nS19 0.9711;0.9711;0.9925;0.99979;-0.99979         0.010753  0.010753  ...   \nS19 -0.9105;-0.99979;-0.9105;-0.9105;-0.77459     0.010753  0.010753  ...   \n\n                                                      PC84      PC85  \\\nS0 -0.19148;0.19148;0.19148;0.53284;0.19148       0.010753  0.010753   \nS0 -0.19148;-0.19148;-0.19148;0.53284;-0.19148    0.010753  0.010753   \nS0 -0.9105;-0.9711;0.53284;0.53284;0.53284        0.010753  0.010753   \nS0 -0.99979;-0.99979;-0.99979;-0.9925;-0.9925     0.010753  0.010753   \nS0 -0.19148;-0.19148;-0.19148;-0.53284;0.53284    0.010753  0.010753   \n...                                                    ...       ...   \nS19 -0.9925;-0.9925;-0.9711;-0.9711;-0.9711       0.010753  0.010753   \nS19 -0.77459;-0.53284;-0.99979;-0.53284;-0.19148  0.010753  0.010753   \nS19 0.9711;0.9105;0.9711;0.77459;0.77459          0.010753  0.010753   \nS19 0.9711;0.9711;0.9925;0.99979;-0.99979         0.010753  0.010753   \nS19 -0.9105;-0.99979;-0.9105;-0.9105;-0.77459     0.010753  0.010753   \n\n                                                      PC86      PC87  \\\nS0 -0.19148;0.19148;0.19148;0.53284;0.19148       0.010753  0.010753   \nS0 -0.19148;-0.19148;-0.19148;0.53284;-0.19148    0.010753  0.010753   \nS0 -0.9105;-0.9711;0.53284;0.53284;0.53284        0.010753  0.010753   \nS0 -0.99979;-0.99979;-0.99979;-0.9925;-0.9925     0.010753  0.010753   \nS0 -0.19148;-0.19148;-0.19148;-0.53284;0.53284    0.010753  0.010753   \n...                                                    ...       ...   \nS19 -0.9925;-0.9925;-0.9711;-0.9711;-0.9711       0.010753  0.010753   \nS19 -0.77459;-0.53284;-0.99979;-0.53284;-0.19148  0.010753  0.010753   \nS19 0.9711;0.9105;0.9711;0.77459;0.77459          0.010753  0.010753   \nS19 0.9711;0.9711;0.9925;0.99979;-0.99979         0.010753  0.010753   \nS19 -0.9105;-0.99979;-0.9105;-0.9105;-0.77459     0.010753  0.010753   \n\n                                                      PC88      PC89  \\\nS0 -0.19148;0.19148;0.19148;0.53284;0.19148       0.010753  0.010753   \nS0 -0.19148;-0.19148;-0.19148;0.53284;-0.19148    0.010753  0.010753   \nS0 -0.9105;-0.9711;0.53284;0.53284;0.53284        0.010753  0.010753   \nS0 -0.99979;-0.99979;-0.99979;-0.9925;-0.9925     0.010753  0.010753   \nS0 -0.19148;-0.19148;-0.19148;-0.53284;0.53284    0.010753  0.010753   \n...                                                    ...       ...   \nS19 -0.9925;-0.9925;-0.9711;-0.9711;-0.9711       0.010753  0.010753   \nS19 -0.77459;-0.53284;-0.99979;-0.53284;-0.19148  0.010753  0.010753   \nS19 0.9711;0.9105;0.9711;0.77459;0.77459          0.010753  0.010753   \nS19 0.9711;0.9711;0.9925;0.99979;-0.99979         0.010753  0.010753   \nS19 -0.9105;-0.99979;-0.9105;-0.9105;-0.77459     0.010753  0.010753   \n\n                                                      PC90      PC91  \\\nS0 -0.19148;0.19148;0.19148;0.53284;0.19148       0.010753  0.010753   \nS0 -0.19148;-0.19148;-0.19148;0.53284;-0.19148    0.010753  0.010753   \nS0 -0.9105;-0.9711;0.53284;0.53284;0.53284        0.010753  0.010753   \nS0 -0.99979;-0.99979;-0.99979;-0.9925;-0.9925     0.010753  0.010753   \nS0 -0.19148;-0.19148;-0.19148;-0.53284;0.53284    0.010753  0.010753   \n...                                                    ...       ...   \nS19 -0.9925;-0.9925;-0.9711;-0.9711;-0.9711       0.010753  0.010753   \nS19 -0.77459;-0.53284;-0.99979;-0.53284;-0.19148  0.010753  0.010753   \nS19 0.9711;0.9105;0.9711;0.77459;0.77459          0.010753  0.010753   \nS19 0.9711;0.9711;0.9925;0.99979;-0.99979         0.010753  0.010753   \nS19 -0.9105;-0.99979;-0.9105;-0.9105;-0.77459     0.010753  0.010753   \n\n                                                      PC92      PC93  \nS0 -0.19148;0.19148;0.19148;0.53284;0.19148       0.010753  0.010753  \nS0 -0.19148;-0.19148;-0.19148;0.53284;-0.19148    0.010753  0.010753  \nS0 -0.9105;-0.9711;0.53284;0.53284;0.53284        0.010753  0.010753  \nS0 -0.99979;-0.99979;-0.99979;-0.9925;-0.9925     0.010753  0.010753  \nS0 -0.19148;-0.19148;-0.19148;-0.53284;0.53284    0.010753  0.010753  \n...                                                    ...       ...  \nS19 -0.9925;-0.9925;-0.9711;-0.9711;-0.9711       0.010753  0.010753  \nS19 -0.77459;-0.53284;-0.99979;-0.53284;-0.19148  0.010753  0.010753  \nS19 0.9711;0.9105;0.9711;0.77459;0.77459          0.010753  0.010753  \nS19 0.9711;0.9711;0.9925;0.99979;-0.99979         0.010753  0.010753  \nS19 -0.9105;-0.99979;-0.9105;-0.9105;-0.77459     0.010753  0.010753  \n\n[33340 rows x 93 columns]",
      "text/html": "<div>\n<style scoped>\n    .dataframe tbody tr th:only-of-type {\n        vertical-align: middle;\n    }\n\n    .dataframe tbody tr th {\n        vertical-align: top;\n    }\n\n    .dataframe thead th {\n        text-align: right;\n    }\n</style>\n<table border=\"1\" class=\"dataframe\">\n  <thead>\n    <tr style=\"text-align: right;\">\n      <th></th>\n      <th>PC1</th>\n      <th>PC2</th>\n      <th>PC3</th>\n      <th>PC4</th>\n      <th>PC5</th>\n      <th>PC6</th>\n      <th>PC7</th>\n      <th>PC8</th>\n      <th>PC9</th>\n      <th>PC10</th>\n      <th>...</th>\n      <th>PC84</th>\n      <th>PC85</th>\n      <th>PC86</th>\n      <th>PC87</th>\n      <th>PC88</th>\n      <th>PC89</th>\n      <th>PC90</th>\n      <th>PC91</th>\n      <th>PC92</th>\n      <th>PC93</th>\n    </tr>\n  </thead>\n  <tbody>\n    <tr>\n      <th>S0 -0.19148;0.19148;0.19148;0.53284;0.19148</th>\n      <td>0.010753</td>\n      <td>0.010753</td>\n      <td>0.010753</td>\n      <td>0.010753</td>\n      <td>0.010753</td>\n      <td>0.010753</td>\n      <td>0.010753</td>\n      <td>0.010753</td>\n      <td>0.010753</td>\n      <td>0.010753</td>\n      <td>...</td>\n      <td>0.010753</td>\n      <td>0.010753</td>\n      <td>0.010753</td>\n      <td>0.010753</td>\n      <td>0.010753</td>\n      <td>0.010753</td>\n      <td>0.010753</td>\n      <td>0.010753</td>\n      <td>0.010753</td>\n      <td>0.010753</td>\n    </tr>\n    <tr>\n      <th>S0 -0.19148;-0.19148;-0.19148;0.53284;-0.19148</th>\n      <td>0.010753</td>\n      <td>0.010753</td>\n      <td>0.010753</td>\n      <td>0.010753</td>\n      <td>0.010753</td>\n      <td>0.010753</td>\n      <td>0.010753</td>\n      <td>0.010753</td>\n      <td>0.010753</td>\n      <td>0.010753</td>\n      <td>...</td>\n      <td>0.010753</td>\n      <td>0.010753</td>\n      <td>0.010753</td>\n      <td>0.010753</td>\n      <td>0.010753</td>\n      <td>0.010753</td>\n      <td>0.010753</td>\n      <td>0.010753</td>\n      <td>0.010753</td>\n      <td>0.010753</td>\n    </tr>\n    <tr>\n      <th>S0 -0.9105;-0.9711;0.53284;0.53284;0.53284</th>\n      <td>0.010753</td>\n      <td>0.010753</td>\n      <td>0.010753</td>\n      <td>0.010753</td>\n      <td>0.010753</td>\n      <td>0.010753</td>\n      <td>0.010753</td>\n      <td>0.010753</td>\n      <td>0.010753</td>\n      <td>0.010753</td>\n      <td>...</td>\n      <td>0.010753</td>\n      <td>0.010753</td>\n      <td>0.010753</td>\n      <td>0.010753</td>\n      <td>0.010753</td>\n      <td>0.010753</td>\n      <td>0.010753</td>\n      <td>0.010753</td>\n      <td>0.010753</td>\n      <td>0.010753</td>\n    </tr>\n    <tr>\n      <th>S0 -0.99979;-0.99979;-0.99979;-0.9925;-0.9925</th>\n      <td>0.010753</td>\n      <td>0.010753</td>\n      <td>0.010753</td>\n      <td>0.010753</td>\n      <td>0.010753</td>\n      <td>0.010753</td>\n      <td>0.010753</td>\n      <td>0.010753</td>\n      <td>0.010753</td>\n      <td>0.010753</td>\n      <td>...</td>\n      <td>0.010753</td>\n      <td>0.010753</td>\n      <td>0.010753</td>\n      <td>0.010753</td>\n      <td>0.010753</td>\n      <td>0.010753</td>\n      <td>0.010753</td>\n      <td>0.010753</td>\n      <td>0.010753</td>\n      <td>0.010753</td>\n    </tr>\n    <tr>\n      <th>S0 -0.19148;-0.19148;-0.19148;-0.53284;0.53284</th>\n      <td>0.010753</td>\n      <td>0.010753</td>\n      <td>0.010753</td>\n      <td>0.010753</td>\n      <td>0.010753</td>\n      <td>0.010753</td>\n      <td>0.010753</td>\n      <td>0.010753</td>\n      <td>0.010753</td>\n      <td>0.010753</td>\n      <td>...</td>\n      <td>0.010753</td>\n      <td>0.010753</td>\n      <td>0.010753</td>\n      <td>0.010753</td>\n      <td>0.010753</td>\n      <td>0.010753</td>\n      <td>0.010753</td>\n      <td>0.010753</td>\n      <td>0.010753</td>\n      <td>0.010753</td>\n    </tr>\n    <tr>\n      <th>...</th>\n      <td>...</td>\n      <td>...</td>\n      <td>...</td>\n      <td>...</td>\n      <td>...</td>\n      <td>...</td>\n      <td>...</td>\n      <td>...</td>\n      <td>...</td>\n      <td>...</td>\n      <td>...</td>\n      <td>...</td>\n      <td>...</td>\n      <td>...</td>\n      <td>...</td>\n      <td>...</td>\n      <td>...</td>\n      <td>...</td>\n      <td>...</td>\n      <td>...</td>\n      <td>...</td>\n    </tr>\n    <tr>\n      <th>S19 -0.9925;-0.9925;-0.9711;-0.9711;-0.9711</th>\n      <td>0.010753</td>\n      <td>0.010753</td>\n      <td>0.010753</td>\n      <td>0.010753</td>\n      <td>0.010753</td>\n      <td>0.010753</td>\n      <td>0.010753</td>\n      <td>0.046738</td>\n      <td>0.010753</td>\n      <td>0.010753</td>\n      <td>...</td>\n      <td>0.010753</td>\n      <td>0.010753</td>\n      <td>0.010753</td>\n      <td>0.010753</td>\n      <td>0.010753</td>\n      <td>0.010753</td>\n      <td>0.010753</td>\n      <td>0.010753</td>\n      <td>0.010753</td>\n      <td>0.010753</td>\n    </tr>\n    <tr>\n      <th>S19 -0.77459;-0.53284;-0.99979;-0.53284;-0.19148</th>\n      <td>0.010753</td>\n      <td>0.010753</td>\n      <td>0.010753</td>\n      <td>0.010753</td>\n      <td>0.010753</td>\n      <td>0.010753</td>\n      <td>0.010753</td>\n      <td>0.010753</td>\n      <td>0.010753</td>\n      <td>0.010753</td>\n      <td>...</td>\n      <td>0.010753</td>\n      <td>0.010753</td>\n      <td>0.010753</td>\n      <td>0.010753</td>\n      <td>0.010753</td>\n      <td>0.010753</td>\n      <td>0.010753</td>\n      <td>0.010753</td>\n      <td>0.010753</td>\n      <td>0.010753</td>\n    </tr>\n    <tr>\n      <th>S19 0.9711;0.9105;0.9711;0.77459;0.77459</th>\n      <td>0.010753</td>\n      <td>0.010753</td>\n      <td>0.010753</td>\n      <td>0.010753</td>\n      <td>0.010753</td>\n      <td>0.010753</td>\n      <td>0.010753</td>\n      <td>0.010753</td>\n      <td>0.010753</td>\n      <td>0.010753</td>\n      <td>...</td>\n      <td>0.010753</td>\n      <td>0.010753</td>\n      <td>0.010753</td>\n      <td>0.010753</td>\n      <td>0.010753</td>\n      <td>0.010753</td>\n      <td>0.010753</td>\n      <td>0.010753</td>\n      <td>0.010753</td>\n      <td>0.010753</td>\n    </tr>\n    <tr>\n      <th>S19 0.9711;0.9711;0.9925;0.99979;-0.99979</th>\n      <td>0.010753</td>\n      <td>0.010753</td>\n      <td>0.010753</td>\n      <td>0.010753</td>\n      <td>0.010753</td>\n      <td>0.010753</td>\n      <td>0.010753</td>\n      <td>0.010753</td>\n      <td>0.010753</td>\n      <td>0.010753</td>\n      <td>...</td>\n      <td>0.010753</td>\n      <td>0.010753</td>\n      <td>0.010753</td>\n      <td>0.010753</td>\n      <td>0.010753</td>\n      <td>0.010753</td>\n      <td>0.010753</td>\n      <td>0.010753</td>\n      <td>0.010753</td>\n      <td>0.010753</td>\n    </tr>\n    <tr>\n      <th>S19 -0.9105;-0.99979;-0.9105;-0.9105;-0.77459</th>\n      <td>0.010753</td>\n      <td>0.010753</td>\n      <td>0.010753</td>\n      <td>0.010753</td>\n      <td>0.010753</td>\n      <td>0.010753</td>\n      <td>0.010753</td>\n      <td>0.010753</td>\n      <td>0.010753</td>\n      <td>0.010753</td>\n      <td>...</td>\n      <td>0.010753</td>\n      <td>0.010753</td>\n      <td>0.010753</td>\n      <td>0.010753</td>\n      <td>0.010753</td>\n      <td>0.010753</td>\n      <td>0.010753</td>\n      <td>0.010753</td>\n      <td>0.010753</td>\n      <td>0.010753</td>\n    </tr>\n  </tbody>\n</table>\n<p>33340 rows × 93 columns</p>\n</div>"
     },
     "metadata": {},
     "output_type": "display_data"
    },
    {
     "data": {
      "text/plain": "['S6 -0.9105;-0.77459;-0.77459;-0.53284;-0.19148:     0.079703',\n 'S7 0.99848;0.99848;0.9925;0.99848;0.99979:     0.079703',\n 'S6 -0.9711;-0.9711;-0.99979;-0.99848;-0.9925:     0.079703',\n 'S9 -0.9711;-0.9925;-0.9925;-0.9711;-0.9925:     0.079703',\n 'S5 -0.99979;-0.9925;-0.9711;-0.9105;-0.9105:     0.072463',\n 'S7 0.99848;0.99979;0.99848;0.99979;0.99979:     0.072463',\n 'S5 -0.77459;-0.77459;-0.77459;-0.9105;-0.77459:     0.067323',\n 'S9 -0.9925;-0.99848;-0.99848;-0.99979;-0.99979:     0.067323',\n 'S5 -0.9105;-0.9711;-0.9925;-0.99979;-0.9925:     0.063343',\n 'S7 0.99979;0.99979;0.99979;0.99848;0.9925:     0.060082']"
     },
     "metadata": {},
     "output_type": "display_data"
    }
   ],
   "execution_count": null
  },
  {
   "cell_type": "code",
   "metadata": {
    "tags": [],
    "cell_id": "00030-52877fd7-b1ec-4027-80af-65ced51be790",
    "deepnote_to_be_reexecuted": false,
    "source_hash": "a41cb39a",
    "execution_start": 1639679098781,
    "execution_millis": 98,
    "deepnote_output_heights": [
     527,
     611
    ],
    "deepnote_cell_type": "code"
   },
   "source": "if t1_alg_variance != None:\n    fig = px.scatter(t1_alg_variance,\n                labels={\"index\": \"# Components\", \"value\": \"Explained Variance\"}, \n                title=\"Explained Variance with increasing number of latent features\")\n    fig.update_traces(showlegend=True)\n    fig.show()",
   "outputs": [
    {
     "data": {
      "text/html": "<html>\n<head><meta charset=\"utf-8\" /></head>\n<body>\n    <div>            <script src=\"https://cdnjs.cloudflare.com/ajax/libs/mathjax/2.7.5/MathJax.js?config=TeX-AMS-MML_SVG\"></script><script type=\"text/javascript\">if (window.MathJax) {MathJax.Hub.Config({SVG: {font: \"STIX-Web\"}});}</script>                <script type=\"text/javascript\">window.PlotlyConfig = {MathJaxConfig: 'local'};</script>\n        <script src=\"https://cdn.plot.ly/plotly-2.6.3.min.js\"></script>                <div id=\"9a7aefd3-dfe7-4b8f-a12a-a3f7c1512ffd\" class=\"plotly-graph-div\" style=\"height:525px; width:100%;\"></div>            <script type=\"text/javascript\">                                    window.PLOTLYENV=window.PLOTLYENV || {};                                    if (document.getElementById(\"9a7aefd3-dfe7-4b8f-a12a-a3f7c1512ffd\")) {                    Plotly.newPlot(                        \"9a7aefd3-dfe7-4b8f-a12a-a3f7c1512ffd\",                        [{\"hovertemplate\":\"variable=0<br># Components=%{x}<br>Explained Variance=%{y}<extra></extra>\",\"legendgroup\":\"0\",\"marker\":{\"color\":\"#636efa\",\"symbol\":\"circle\"},\"mode\":\"markers\",\"name\":\"0\",\"orientation\":\"v\",\"showlegend\":true,\"x\":[0,1,2,3,4,5,6,7,8,9,10,11,12,13,14,15,16,17,18,19,20,21,22,23,24,25,26,27,28,29,30,31,32,33,34,35,36,37,38,39,40,41,42,43,44,45,46,47,48,49,50,51,52,53,54,55,56,57,58,59,60,61,62,63,64,65,66,67,68,69,70,71,72,73,74,75,76,77,78,79,80,81,82,83,84,85,86,87,88,89,90,91,92],\"xaxis\":\"x\",\"y\":[3.0515129908740585e-08,3.0515129908740585e-08,1.2399229114983768e-06,1.2399229114983768e-06,1.2425112531045764e-06,1.2425112531045764e-06,1.2480281679833432e-06,4.702738588238744e-06,5.841603017128278e-06,8.23292033797061e-06,8.23306255476073e-06,8.23306255476073e-06,8.339393653392914e-06,8.339393653392914e-06,9.291159524128844e-06,9.295777512935222e-06,9.295777512935222e-06,9.345320802404318e-06,9.435011515186303e-06,9.435011515186303e-06,9.435011515186303e-06,9.435011515186303e-06,9.530012238447169e-06,9.530012238447169e-06,9.530012238447169e-06,9.530012238447169e-06,9.981686075862066e-06,1.0039358503661246e-05,1.0039358503661246e-05,1.0039358503661246e-05,1.0800217790589218e-05,1.0811603253596924e-05,1.1555217911968947e-05,1.1555217911968947e-05,1.1555217911968947e-05,1.1919283704146026e-05,1.1919283704146026e-05,0.006945252188947952,0.006945252188947952,0.006945252188947952,0.006945252188947952,0.006945323498521304,0.006945382565091804,0.0069482296655929785,0.006948230282602113,0.006948248428829666,0.006948248428829666,0.00694833006043185,0.00694833006043185,0.00694833006043185,0.006970220534828842,0.006970220534828842,0.006971301995451256,0.006971533922136319,0.006976286830636748,0.006977436193393808,0.006977436596615315,0.006977436596615315,0.006977436596615315,0.006983858885674994,0.006985521996294919,0.006985532679158039,0.0069890067038157425,0.0069890067038157425,0.006989078699170948,0.006989082161899554,0.006989082161899554,0.006989082161899554,0.0069890875564297735,0.0069890875564297735,0.0069890875564297735,0.0069890875564297735,0.0069911182377834485,0.00699294824898708,0.00699294824898708,0.00699294824898708,0.00699294824898708,0.006993787662897135,0.006993793802174906,0.006993810752795466,0.007189208663079745,0.007189208663079745,0.007189278578456508,0.007189278578456508,0.007189278578456508,0.007189343230599806,0.007189343279058308,0.007189343519200395,0.007189343964660355,0.007189343964660355,0.007189670806921454,0.007190994697506384,0.007190994697506384],\"yaxis\":\"y\",\"type\":\"scatter\"}],                        {\"template\":{\"data\":{\"bar\":[{\"error_x\":{\"color\":\"#2a3f5f\"},\"error_y\":{\"color\":\"#2a3f5f\"},\"marker\":{\"line\":{\"color\":\"#E5ECF6\",\"width\":0.5},\"pattern\":{\"fillmode\":\"overlay\",\"size\":10,\"solidity\":0.2}},\"type\":\"bar\"}],\"barpolar\":[{\"marker\":{\"line\":{\"color\":\"#E5ECF6\",\"width\":0.5},\"pattern\":{\"fillmode\":\"overlay\",\"size\":10,\"solidity\":0.2}},\"type\":\"barpolar\"}],\"carpet\":[{\"aaxis\":{\"endlinecolor\":\"#2a3f5f\",\"gridcolor\":\"white\",\"linecolor\":\"white\",\"minorgridcolor\":\"white\",\"startlinecolor\":\"#2a3f5f\"},\"baxis\":{\"endlinecolor\":\"#2a3f5f\",\"gridcolor\":\"white\",\"linecolor\":\"white\",\"minorgridcolor\":\"white\",\"startlinecolor\":\"#2a3f5f\"},\"type\":\"carpet\"}],\"choropleth\":[{\"colorbar\":{\"outlinewidth\":0,\"ticks\":\"\"},\"type\":\"choropleth\"}],\"contour\":[{\"colorbar\":{\"outlinewidth\":0,\"ticks\":\"\"},\"colorscale\":[[0.0,\"#0d0887\"],[0.1111111111111111,\"#46039f\"],[0.2222222222222222,\"#7201a8\"],[0.3333333333333333,\"#9c179e\"],[0.4444444444444444,\"#bd3786\"],[0.5555555555555556,\"#d8576b\"],[0.6666666666666666,\"#ed7953\"],[0.7777777777777778,\"#fb9f3a\"],[0.8888888888888888,\"#fdca26\"],[1.0,\"#f0f921\"]],\"type\":\"contour\"}],\"contourcarpet\":[{\"colorbar\":{\"outlinewidth\":0,\"ticks\":\"\"},\"type\":\"contourcarpet\"}],\"heatmap\":[{\"colorbar\":{\"outlinewidth\":0,\"ticks\":\"\"},\"colorscale\":[[0.0,\"#0d0887\"],[0.1111111111111111,\"#46039f\"],[0.2222222222222222,\"#7201a8\"],[0.3333333333333333,\"#9c179e\"],[0.4444444444444444,\"#bd3786\"],[0.5555555555555556,\"#d8576b\"],[0.6666666666666666,\"#ed7953\"],[0.7777777777777778,\"#fb9f3a\"],[0.8888888888888888,\"#fdca26\"],[1.0,\"#f0f921\"]],\"type\":\"heatmap\"}],\"heatmapgl\":[{\"colorbar\":{\"outlinewidth\":0,\"ticks\":\"\"},\"colorscale\":[[0.0,\"#0d0887\"],[0.1111111111111111,\"#46039f\"],[0.2222222222222222,\"#7201a8\"],[0.3333333333333333,\"#9c179e\"],[0.4444444444444444,\"#bd3786\"],[0.5555555555555556,\"#d8576b\"],[0.6666666666666666,\"#ed7953\"],[0.7777777777777778,\"#fb9f3a\"],[0.8888888888888888,\"#fdca26\"],[1.0,\"#f0f921\"]],\"type\":\"heatmapgl\"}],\"histogram\":[{\"marker\":{\"pattern\":{\"fillmode\":\"overlay\",\"size\":10,\"solidity\":0.2}},\"type\":\"histogram\"}],\"histogram2d\":[{\"colorbar\":{\"outlinewidth\":0,\"ticks\":\"\"},\"colorscale\":[[0.0,\"#0d0887\"],[0.1111111111111111,\"#46039f\"],[0.2222222222222222,\"#7201a8\"],[0.3333333333333333,\"#9c179e\"],[0.4444444444444444,\"#bd3786\"],[0.5555555555555556,\"#d8576b\"],[0.6666666666666666,\"#ed7953\"],[0.7777777777777778,\"#fb9f3a\"],[0.8888888888888888,\"#fdca26\"],[1.0,\"#f0f921\"]],\"type\":\"histogram2d\"}],\"histogram2dcontour\":[{\"colorbar\":{\"outlinewidth\":0,\"ticks\":\"\"},\"colorscale\":[[0.0,\"#0d0887\"],[0.1111111111111111,\"#46039f\"],[0.2222222222222222,\"#7201a8\"],[0.3333333333333333,\"#9c179e\"],[0.4444444444444444,\"#bd3786\"],[0.5555555555555556,\"#d8576b\"],[0.6666666666666666,\"#ed7953\"],[0.7777777777777778,\"#fb9f3a\"],[0.8888888888888888,\"#fdca26\"],[1.0,\"#f0f921\"]],\"type\":\"histogram2dcontour\"}],\"mesh3d\":[{\"colorbar\":{\"outlinewidth\":0,\"ticks\":\"\"},\"type\":\"mesh3d\"}],\"parcoords\":[{\"line\":{\"colorbar\":{\"outlinewidth\":0,\"ticks\":\"\"}},\"type\":\"parcoords\"}],\"pie\":[{\"automargin\":true,\"type\":\"pie\"}],\"scatter\":[{\"marker\":{\"colorbar\":{\"outlinewidth\":0,\"ticks\":\"\"}},\"type\":\"scatter\"}],\"scatter3d\":[{\"line\":{\"colorbar\":{\"outlinewidth\":0,\"ticks\":\"\"}},\"marker\":{\"colorbar\":{\"outlinewidth\":0,\"ticks\":\"\"}},\"type\":\"scatter3d\"}],\"scattercarpet\":[{\"marker\":{\"colorbar\":{\"outlinewidth\":0,\"ticks\":\"\"}},\"type\":\"scattercarpet\"}],\"scattergeo\":[{\"marker\":{\"colorbar\":{\"outlinewidth\":0,\"ticks\":\"\"}},\"type\":\"scattergeo\"}],\"scattergl\":[{\"marker\":{\"colorbar\":{\"outlinewidth\":0,\"ticks\":\"\"}},\"type\":\"scattergl\"}],\"scattermapbox\":[{\"marker\":{\"colorbar\":{\"outlinewidth\":0,\"ticks\":\"\"}},\"type\":\"scattermapbox\"}],\"scatterpolar\":[{\"marker\":{\"colorbar\":{\"outlinewidth\":0,\"ticks\":\"\"}},\"type\":\"scatterpolar\"}],\"scatterpolargl\":[{\"marker\":{\"colorbar\":{\"outlinewidth\":0,\"ticks\":\"\"}},\"type\":\"scatterpolargl\"}],\"scatterternary\":[{\"marker\":{\"colorbar\":{\"outlinewidth\":0,\"ticks\":\"\"}},\"type\":\"scatterternary\"}],\"surface\":[{\"colorbar\":{\"outlinewidth\":0,\"ticks\":\"\"},\"colorscale\":[[0.0,\"#0d0887\"],[0.1111111111111111,\"#46039f\"],[0.2222222222222222,\"#7201a8\"],[0.3333333333333333,\"#9c179e\"],[0.4444444444444444,\"#bd3786\"],[0.5555555555555556,\"#d8576b\"],[0.6666666666666666,\"#ed7953\"],[0.7777777777777778,\"#fb9f3a\"],[0.8888888888888888,\"#fdca26\"],[1.0,\"#f0f921\"]],\"type\":\"surface\"}],\"table\":[{\"cells\":{\"fill\":{\"color\":\"#EBF0F8\"},\"line\":{\"color\":\"white\"}},\"header\":{\"fill\":{\"color\":\"#C8D4E3\"},\"line\":{\"color\":\"white\"}},\"type\":\"table\"}]},\"layout\":{\"annotationdefaults\":{\"arrowcolor\":\"#2a3f5f\",\"arrowhead\":0,\"arrowwidth\":1},\"autotypenumbers\":\"strict\",\"coloraxis\":{\"colorbar\":{\"outlinewidth\":0,\"ticks\":\"\"}},\"colorscale\":{\"diverging\":[[0,\"#8e0152\"],[0.1,\"#c51b7d\"],[0.2,\"#de77ae\"],[0.3,\"#f1b6da\"],[0.4,\"#fde0ef\"],[0.5,\"#f7f7f7\"],[0.6,\"#e6f5d0\"],[0.7,\"#b8e186\"],[0.8,\"#7fbc41\"],[0.9,\"#4d9221\"],[1,\"#276419\"]],\"sequential\":[[0.0,\"#0d0887\"],[0.1111111111111111,\"#46039f\"],[0.2222222222222222,\"#7201a8\"],[0.3333333333333333,\"#9c179e\"],[0.4444444444444444,\"#bd3786\"],[0.5555555555555556,\"#d8576b\"],[0.6666666666666666,\"#ed7953\"],[0.7777777777777778,\"#fb9f3a\"],[0.8888888888888888,\"#fdca26\"],[1.0,\"#f0f921\"]],\"sequentialminus\":[[0.0,\"#0d0887\"],[0.1111111111111111,\"#46039f\"],[0.2222222222222222,\"#7201a8\"],[0.3333333333333333,\"#9c179e\"],[0.4444444444444444,\"#bd3786\"],[0.5555555555555556,\"#d8576b\"],[0.6666666666666666,\"#ed7953\"],[0.7777777777777778,\"#fb9f3a\"],[0.8888888888888888,\"#fdca26\"],[1.0,\"#f0f921\"]]},\"colorway\":[\"#636efa\",\"#EF553B\",\"#00cc96\",\"#ab63fa\",\"#FFA15A\",\"#19d3f3\",\"#FF6692\",\"#B6E880\",\"#FF97FF\",\"#FECB52\"],\"font\":{\"color\":\"#2a3f5f\"},\"geo\":{\"bgcolor\":\"white\",\"lakecolor\":\"white\",\"landcolor\":\"#E5ECF6\",\"showlakes\":true,\"showland\":true,\"subunitcolor\":\"white\"},\"hoverlabel\":{\"align\":\"left\"},\"hovermode\":\"closest\",\"mapbox\":{\"style\":\"light\"},\"paper_bgcolor\":\"white\",\"plot_bgcolor\":\"#E5ECF6\",\"polar\":{\"angularaxis\":{\"gridcolor\":\"white\",\"linecolor\":\"white\",\"ticks\":\"\"},\"bgcolor\":\"#E5ECF6\",\"radialaxis\":{\"gridcolor\":\"white\",\"linecolor\":\"white\",\"ticks\":\"\"}},\"scene\":{\"xaxis\":{\"backgroundcolor\":\"#E5ECF6\",\"gridcolor\":\"white\",\"gridwidth\":2,\"linecolor\":\"white\",\"showbackground\":true,\"ticks\":\"\",\"zerolinecolor\":\"white\"},\"yaxis\":{\"backgroundcolor\":\"#E5ECF6\",\"gridcolor\":\"white\",\"gridwidth\":2,\"linecolor\":\"white\",\"showbackground\":true,\"ticks\":\"\",\"zerolinecolor\":\"white\"},\"zaxis\":{\"backgroundcolor\":\"#E5ECF6\",\"gridcolor\":\"white\",\"gridwidth\":2,\"linecolor\":\"white\",\"showbackground\":true,\"ticks\":\"\",\"zerolinecolor\":\"white\"}},\"shapedefaults\":{\"line\":{\"color\":\"#2a3f5f\"}},\"ternary\":{\"aaxis\":{\"gridcolor\":\"white\",\"linecolor\":\"white\",\"ticks\":\"\"},\"baxis\":{\"gridcolor\":\"white\",\"linecolor\":\"white\",\"ticks\":\"\"},\"bgcolor\":\"#E5ECF6\",\"caxis\":{\"gridcolor\":\"white\",\"linecolor\":\"white\",\"ticks\":\"\"}},\"title\":{\"x\":0.05},\"xaxis\":{\"automargin\":true,\"gridcolor\":\"white\",\"linecolor\":\"white\",\"ticks\":\"\",\"title\":{\"standoff\":15},\"zerolinecolor\":\"white\",\"zerolinewidth\":2},\"yaxis\":{\"automargin\":true,\"gridcolor\":\"white\",\"linecolor\":\"white\",\"ticks\":\"\",\"title\":{\"standoff\":15},\"zerolinecolor\":\"white\",\"zerolinewidth\":2}}},\"xaxis\":{\"anchor\":\"y\",\"domain\":[0.0,1.0],\"title\":{\"text\":\"# Components\"}},\"yaxis\":{\"anchor\":\"x\",\"domain\":[0.0,1.0],\"title\":{\"text\":\"Explained Variance\"}},\"legend\":{\"title\":{\"text\":\"variable\"},\"tracegroupgap\":0},\"title\":{\"text\":\"Explained Variance with increasing number of latent features\"}},                        {\"responsive\": true}                    ).then(function(){\n                            \nvar gd = document.getElementById('9a7aefd3-dfe7-4b8f-a12a-a3f7c1512ffd');\nvar x = new MutationObserver(function (mutations, observer) {{\n        var display = window.getComputedStyle(gd).display;\n        if (!display || display === 'none') {{\n            console.log([gd, 'removed!']);\n            Plotly.purge(gd);\n            observer.disconnect();\n        }}\n}});\n\n// Listen for the removal of the full notebook cells\nvar notebookContainer = gd.closest('#notebook-container');\nif (notebookContainer) {{\n    x.observe(notebookContainer, {childList: true});\n}}\n\n// Listen for the clearing of the current output cell\nvar outputEl = gd.closest('.output');\nif (outputEl) {{\n    x.observe(outputEl, {childList: true});\n}}\n\n                        })                };                            </script>        </div>\n</body>\n</html>"
     },
     "metadata": {},
     "output_type": "display_data"
    }
   ],
   "execution_count": null
  },
  {
   "cell_type": "code",
   "metadata": {
    "deepnote_variable_name": "t1_top_k_latent_features",
    "deepnote_variable_value": "2",
    "cell_id": "00029-b576f595-3089-4a57-bed5-f4b6ef3cf661",
    "deepnote_to_be_reexecuted": false,
    "source_hash": "7462d0f7",
    "execution_start": 1639679162530,
    "execution_millis": 1,
    "deepnote_cell_type": "input-text"
   },
   "source": "t1_top_k_latent_features = '2'",
   "outputs": [],
   "execution_count": null
  },
  {
   "cell_type": "code",
   "metadata": {
    "tags": [],
    "cell_id": "00031-9da35401-f766-4424-92c2-b9a4a5c8e6c7",
    "deepnote_to_be_reexecuted": false,
    "source_hash": "300d9714",
    "execution_start": 1639679198842,
    "execution_millis": 736,
    "deepnote_output_heights": [
     611
    ],
    "deepnote_cell_type": "code"
   },
   "source": "t1_top_k_latent_features = int(t1_top_k_latent_features)\ntop_k_features = get_top_k_latent_features(t1_alg_result, t1_top_k_latent_features)\n#top_k_features",
   "outputs": [],
   "execution_count": null
  },
  {
   "cell_type": "markdown",
   "source": "## Task 2",
   "metadata": {
    "tags": [],
    "is_collapsed": false,
    "cell_id": "00032-2fc1a75a-25fe-4978-acdd-6f5588d24955",
    "deepnote_cell_type": "text-cell-h2"
   }
  },
  {
   "cell_type": "markdown",
   "source": " Scrivere un programma che, dato un file di gesti, individui i 10 gesti piu’ simili nel database di gesti, \nutilizzado:",
   "metadata": {
    "tags": [],
    "cell_id": "00036-0ef71ff2-9019-4d7d-bb03-cb9af8f7ad80",
    "deepnote_cell_type": "markdown"
   }
  },
  {
   "cell_type": "code",
   "metadata": {
    "tags": [],
    "cell_id": "00035-a1ac6ce4-c459-45b9-9ac7-6b970a7f33b4",
    "deepnote_to_be_reexecuted": false,
    "source_hash": "3c757692",
    "execution_start": 1639679204161,
    "execution_millis": 1608,
    "deepnote_cell_type": "code"
   },
   "source": "# Preparazione data\nt2_data_dp = {'gestures': t1_metrics_data['filename'], 'data': t1_metrics_data['data']}\nt2_data_tksem = {'gestures': t1_metrics_data['filename'], 'data': t1_alg_result['fitted_alg']}\n\nt2_data_ed_dtw = generate_matrix_ed_dtw([path_words_directory + word_file for word_file in words_files])\nt2_data_ed = {'gestures': t1_metrics_data['filename'], 'data': t2_data_ed_dtw['ed']}\nt2_data_dtw = {'gestures': t1_metrics_data['filename'], 'data': t2_data_ed_dtw['dtw']}",
   "outputs": [],
   "execution_count": null
  },
  {
   "cell_type": "code",
   "metadata": {
    "deepnote_variable_name": "t2_input_file_gestures",
    "deepnote_variable_value": "../Dati_2/words/1.wrd",
    "cell_id": "00036-9cb944e1-67a5-4e98-9ffb-874ae8e5be84",
    "deepnote_to_be_reexecuted": false,
    "source_hash": "17d27e49",
    "execution_start": 1639679205776,
    "execution_millis": 6,
    "deepnote_cell_type": "input-text"
   },
   "source": "t2_input_file_gestures = '../Dati_2/words/1.wrd'",
   "outputs": [],
   "execution_count": null
  },
  {
   "cell_type": "code",
   "metadata": {
    "deepnote_variable_name": "t2_input_k_gestures",
    "deepnote_variable_value": "10",
    "cell_id": "00038-81e5c045-6b78-4d9d-a618-c23b0c976f76",
    "deepnote_to_be_reexecuted": false,
    "source_hash": "537c0a7f",
    "execution_start": 1639679224506,
    "execution_millis": 1,
    "deepnote_cell_type": "input-text"
   },
   "source": "t2_input_k_gestures = '10'",
   "outputs": [],
   "execution_count": null
  },
  {
   "cell_type": "code",
   "metadata": {
    "deepnote_variable_name": "t2_input_k_latent_features",
    "deepnote_variable_value": "5",
    "cell_id": "00034-5d6dbea6-0445-480c-9f12-0742690d9443",
    "deepnote_to_be_reexecuted": false,
    "source_hash": "76c7131f",
    "execution_start": 1639679229159,
    "execution_millis": 4,
    "deepnote_cell_type": "input-text"
   },
   "source": "t2_input_k_latent_features = '5'",
   "outputs": [],
   "execution_count": null
  },
  {
   "cell_type": "code",
   "metadata": {
    "deepnote_variable_name": "t2_input_query_type",
    "deepnote_variable_value": "Top-K Semantiche Latenti",
    "deepnote_variable_options": [
     "Dot Product",
     "Top-K Semantiche Latenti",
     "Edit Distance",
     "Distanza DTW"
    ],
    "deepnote_variable_custom_options": [
     "Dot Product",
     "Top-K Semantiche Latenti",
     "Edit Distance",
     "Distanza DTW"
    ],
    "deepnote_variable_selected_variable": "",
    "deepnote_variable_select_type": "from-options",
    "cell_id": "00036-8977fcab-0985-4f26-b5fe-9d5be8d89d8e",
    "deepnote_to_be_reexecuted": false,
    "source_hash": "b7483e5c",
    "execution_start": 1639679230599,
    "execution_millis": 4,
    "deepnote_cell_type": "input-select"
   },
   "source": "t2_input_query_type = 'Top-K Semantiche Latenti'",
   "outputs": [],
   "execution_count": null
  },
  {
   "cell_type": "code",
   "metadata": {
    "tags": [],
    "cell_id": "00040-1c04c788-26a9-4837-9833-724f5bfd006f",
    "deepnote_to_be_reexecuted": false,
    "source_hash": "104194d2",
    "execution_start": 1639679233846,
    "execution_millis": 7,
    "deepnote_output_heights": [
     194
    ],
    "deepnote_cell_type": "code"
   },
   "source": "# X facilità so che già ho calcolato sto file in input e lo prendo dal database\ngesture_name_id = t2_input_file_gestures.split(\"/\")[-1].split(\".\")[0]\n\nquery_type = t2_input_query_type\nfinder_query_settings = {\n    'k_latent_features': int(t2_input_k_latent_features),\n    'k_gestures_return': int(t2_input_k_gestures),\n}\n\ntop_k = None\nif query_type == 'Dot Product':\n    gesture_numpy = t2_data_dp['data'][t2_data_dp['gestures'].index(gesture_name_id)]\n    top_k = find_k_most_similar_dp(t2_data_dp, gesture_numpy, finder_query_settings)\nelif query_type == 'Top-K Semantiche Latenti':\n    gesture_numpy = t2_data_tksem['data'][t2_data_tksem['gestures'].index(gesture_name_id)]\n    # Preparo la query con gli input scelti dall'utente\n    top_k = find_k_most_similar_tksem(t2_data_tksem, gesture_numpy, finder_query_settings)\nelif query_type == 'Edit Distance':\n    gesture_numpy = t2_data_ed['data'][t2_data_ed['gestures'].index(gesture_name_id)]\n    top_k = find_k_most_similar_ed(t2_data_ed, gesture_numpy, finder_query_settings)\nelse:\n    gesture_numpy = t2_data_dtw['data'][t2_data_dtw['gestures'].index(gesture_name_id)]\n    top_k = find_k_most_similar_dtw(t2_data_dtw, gesture_numpy, finder_query_settings)\n\nif top_k is not None:\n    print(\"Top \" + t2_input_k_gestures + \" gestures più simili a '\" + t2_input_file_gestures + \"', usando '\" + query_type + \"':\")\n    print(top_k)",
   "outputs": [
    {
     "name": "stdout",
     "text": "Top 10 gestures più simili a '../Dati_2/words/1.wrd', usando 'Top-K Semantiche Latenti':\n  gesture  similarity\n0       1    1.000000\n1     567    0.999888\n2     250    0.999835\n3     267    0.999822\n4     574    0.999559\n5     260    0.999483\n6       4    0.999399\n7     271    0.999258\n8     568    0.999254\n9     563    0.999212\n",
     "output_type": "stream",
     "data": {}
    }
   ],
   "execution_count": null
  },
  {
   "cell_type": "markdown",
   "source": "## Task 3",
   "metadata": {
    "tags": [],
    "is_collapsed": false,
    "cell_id": "00036-0bea7e6c-0dab-4f1a-a70d-13a374b82871",
    "deepnote_cell_type": "text-cell-h2"
   }
  },
  {
   "cell_type": "code",
   "metadata": {
    "deepnote_variable_name": "t3_input_query_type",
    "deepnote_variable_value": "Top-K Semantiche Latenti",
    "deepnote_variable_options": [
     "Dot Product",
     "Top-K Semantiche Latenti",
     "Edit Distance",
     "Distanza DTW"
    ],
    "deepnote_variable_custom_options": [
     "Dot Product",
     "Top-K Semantiche Latenti",
     "Edit Distance",
     "Distanza DTW"
    ],
    "deepnote_variable_selected_variable": "",
    "deepnote_variable_select_type": "from-options",
    "cell_id": "00041-16cc6f82-28dc-47f9-b27f-a607fc8583bf",
    "deepnote_to_be_reexecuted": false,
    "source_hash": "543765de",
    "execution_start": 1639679247013,
    "execution_millis": 3,
    "deepnote_cell_type": "input-select"
   },
   "source": "t3_input_query_type = 'Top-K Semantiche Latenti'",
   "outputs": [],
   "execution_count": null
  },
  {
   "cell_type": "code",
   "metadata": {
    "tags": [],
    "cell_id": "00036-9172fc2d-badc-482c-bde5-659ff0baaa6d",
    "deepnote_to_be_reexecuted": false,
    "source_hash": "2a4d7b43",
    "execution_start": 1639679248953,
    "execution_millis": 1093,
    "deepnote_cell_type": "code"
   },
   "source": "query_type = t3_input_query_type\n\n# Creo la matrice di similarità gesture - gesture (in base a come ha scelto l'utente di procedere)\ngesture_sim_matrix = None\nif query_type == 'Dot Product':\n    gesture_sim_matrix = generate_gestures_similarity_matrix_dp(t2_data_dp['data'])\nelif query_type == 'Top-K Semantiche Latenti':\n    gesture_sim_matrix = generate_gestures_similarity_matrix_tksem(t2_data_tksem['data'], int(t2_input_k_latent_features))\nelif query_type == 'Edit Distance':\n    gesture_sim_matrix = generate_gestures_similarity_matrix_ed(t2_data_ed['data'])\nelse:\n    gesture_sim_matrix = generate_gestures_similarity_matrix_dtw(t2_data_dtw['data'])\n# La trasformo in dataframe pandas (così ho anche il nome delle gestures a confronto nelle righe / colonne)\ngestures_sim_matrix_pd = gestures_similarity_matrix_2_pandas(gesture_sim_matrix, t2_data_tksem['gestures'])\nprint(\"Matrice similarità gesture-gesture:\")\ngestures_sim_matrix_pd",
   "outputs": [
    {
     "name": "stdout",
     "text": "Matrice similarità gesture-gesture:\n",
     "output_type": "stream",
     "data": {}
    },
    {
     "output_type": "execute_result",
     "execution_count": 56,
     "data": {
      "application/vnd.deepnote.dataframe.v3+json": {
       "column_count": 93,
       "row_count": 93,
       "columns": [
        {
         "name": "1",
         "dtype": "float64",
         "stats": {
          "unique_count": 93,
          "nan_count": 0,
          "min": "0.0",
          "max": "1.0",
          "histogram": [
           {
            "bin_start": 0,
            "bin_end": 0.1,
            "count": 1
           },
           {
            "bin_start": 0.1,
            "bin_end": 0.2,
            "count": 0
           },
           {
            "bin_start": 0.2,
            "bin_end": 0.30000000000000004,
            "count": 4
           },
           {
            "bin_start": 0.30000000000000004,
            "bin_end": 0.4,
            "count": 0
           },
           {
            "bin_start": 0.4,
            "bin_end": 0.5,
            "count": 0
           },
           {
            "bin_start": 0.5,
            "bin_end": 0.6000000000000001,
            "count": 0
           },
           {
            "bin_start": 0.6000000000000001,
            "bin_end": 0.7000000000000001,
            "count": 0
           },
           {
            "bin_start": 0.7000000000000001,
            "bin_end": 0.8,
            "count": 0
           },
           {
            "bin_start": 0.8,
            "bin_end": 0.9,
            "count": 0
           },
           {
            "bin_start": 0.9,
            "bin_end": 1,
            "count": 88
           }
          ]
         }
        },
        {
         "name": "10",
         "dtype": "float64",
         "stats": {
          "unique_count": 93,
          "nan_count": 0,
          "min": "0.0",
          "max": "1.0",
          "histogram": [
           {
            "bin_start": 0,
            "bin_end": 0.1,
            "count": 1
           },
           {
            "bin_start": 0.1,
            "bin_end": 0.2,
            "count": 0
           },
           {
            "bin_start": 0.2,
            "bin_end": 0.30000000000000004,
            "count": 4
           },
           {
            "bin_start": 0.30000000000000004,
            "bin_end": 0.4,
            "count": 0
           },
           {
            "bin_start": 0.4,
            "bin_end": 0.5,
            "count": 0
           },
           {
            "bin_start": 0.5,
            "bin_end": 0.6000000000000001,
            "count": 0
           },
           {
            "bin_start": 0.6000000000000001,
            "bin_end": 0.7000000000000001,
            "count": 0
           },
           {
            "bin_start": 0.7000000000000001,
            "bin_end": 0.8,
            "count": 0
           },
           {
            "bin_start": 0.8,
            "bin_end": 0.9,
            "count": 0
           },
           {
            "bin_start": 0.9,
            "bin_end": 1,
            "count": 88
           }
          ]
         }
        },
        {
         "name": "11",
         "dtype": "float64",
         "stats": {
          "unique_count": 93,
          "nan_count": 0,
          "min": "0.0",
          "max": "1.0",
          "histogram": [
           {
            "bin_start": 0,
            "bin_end": 0.1,
            "count": 1
           },
           {
            "bin_start": 0.1,
            "bin_end": 0.2,
            "count": 0
           },
           {
            "bin_start": 0.2,
            "bin_end": 0.30000000000000004,
            "count": 4
           },
           {
            "bin_start": 0.30000000000000004,
            "bin_end": 0.4,
            "count": 0
           },
           {
            "bin_start": 0.4,
            "bin_end": 0.5,
            "count": 0
           },
           {
            "bin_start": 0.5,
            "bin_end": 0.6000000000000001,
            "count": 0
           },
           {
            "bin_start": 0.6000000000000001,
            "bin_end": 0.7000000000000001,
            "count": 0
           },
           {
            "bin_start": 0.7000000000000001,
            "bin_end": 0.8,
            "count": 0
           },
           {
            "bin_start": 0.8,
            "bin_end": 0.9,
            "count": 0
           },
           {
            "bin_start": 0.9,
            "bin_end": 1,
            "count": 88
           }
          ]
         }
        },
        {
         "name": "12",
         "dtype": "float64",
         "stats": {
          "unique_count": 93,
          "nan_count": 0,
          "min": "0.0",
          "max": "1.0",
          "histogram": [
           {
            "bin_start": 0,
            "bin_end": 0.1,
            "count": 1
           },
           {
            "bin_start": 0.1,
            "bin_end": 0.2,
            "count": 0
           },
           {
            "bin_start": 0.2,
            "bin_end": 0.30000000000000004,
            "count": 4
           },
           {
            "bin_start": 0.30000000000000004,
            "bin_end": 0.4,
            "count": 0
           },
           {
            "bin_start": 0.4,
            "bin_end": 0.5,
            "count": 0
           },
           {
            "bin_start": 0.5,
            "bin_end": 0.6000000000000001,
            "count": 0
           },
           {
            "bin_start": 0.6000000000000001,
            "bin_end": 0.7000000000000001,
            "count": 0
           },
           {
            "bin_start": 0.7000000000000001,
            "bin_end": 0.8,
            "count": 0
           },
           {
            "bin_start": 0.8,
            "bin_end": 0.9,
            "count": 0
           },
           {
            "bin_start": 0.9,
            "bin_end": 1,
            "count": 88
           }
          ]
         }
        },
        {
         "name": "13",
         "dtype": "float64",
         "stats": {
          "unique_count": 93,
          "nan_count": 0,
          "min": "0.0",
          "max": "1.0",
          "histogram": [
           {
            "bin_start": 0,
            "bin_end": 0.1,
            "count": 1
           },
           {
            "bin_start": 0.1,
            "bin_end": 0.2,
            "count": 0
           },
           {
            "bin_start": 0.2,
            "bin_end": 0.30000000000000004,
            "count": 4
           },
           {
            "bin_start": 0.30000000000000004,
            "bin_end": 0.4,
            "count": 0
           },
           {
            "bin_start": 0.4,
            "bin_end": 0.5,
            "count": 0
           },
           {
            "bin_start": 0.5,
            "bin_end": 0.6000000000000001,
            "count": 0
           },
           {
            "bin_start": 0.6000000000000001,
            "bin_end": 0.7000000000000001,
            "count": 0
           },
           {
            "bin_start": 0.7000000000000001,
            "bin_end": 0.8,
            "count": 0
           },
           {
            "bin_start": 0.8,
            "bin_end": 0.9,
            "count": 0
           },
           {
            "bin_start": 0.9,
            "bin_end": 1,
            "count": 88
           }
          ]
         }
        },
        {
         "name": "14",
         "dtype": "float64",
         "stats": {
          "unique_count": 93,
          "nan_count": 0,
          "min": "0.0",
          "max": "1.0",
          "histogram": [
           {
            "bin_start": 0,
            "bin_end": 0.1,
            "count": 1
           },
           {
            "bin_start": 0.1,
            "bin_end": 0.2,
            "count": 0
           },
           {
            "bin_start": 0.2,
            "bin_end": 0.30000000000000004,
            "count": 4
           },
           {
            "bin_start": 0.30000000000000004,
            "bin_end": 0.4,
            "count": 0
           },
           {
            "bin_start": 0.4,
            "bin_end": 0.5,
            "count": 0
           },
           {
            "bin_start": 0.5,
            "bin_end": 0.6000000000000001,
            "count": 0
           },
           {
            "bin_start": 0.6000000000000001,
            "bin_end": 0.7000000000000001,
            "count": 0
           },
           {
            "bin_start": 0.7000000000000001,
            "bin_end": 0.8,
            "count": 0
           },
           {
            "bin_start": 0.8,
            "bin_end": 0.9,
            "count": 0
           },
           {
            "bin_start": 0.9,
            "bin_end": 1,
            "count": 88
           }
          ]
         }
        },
        {
         "name": "15",
         "dtype": "float64",
         "stats": {
          "unique_count": 93,
          "nan_count": 0,
          "min": "0.0",
          "max": "1.0",
          "histogram": [
           {
            "bin_start": 0,
            "bin_end": 0.1,
            "count": 1
           },
           {
            "bin_start": 0.1,
            "bin_end": 0.2,
            "count": 0
           },
           {
            "bin_start": 0.2,
            "bin_end": 0.30000000000000004,
            "count": 4
           },
           {
            "bin_start": 0.30000000000000004,
            "bin_end": 0.4,
            "count": 0
           },
           {
            "bin_start": 0.4,
            "bin_end": 0.5,
            "count": 0
           },
           {
            "bin_start": 0.5,
            "bin_end": 0.6000000000000001,
            "count": 0
           },
           {
            "bin_start": 0.6000000000000001,
            "bin_end": 0.7000000000000001,
            "count": 0
           },
           {
            "bin_start": 0.7000000000000001,
            "bin_end": 0.8,
            "count": 0
           },
           {
            "bin_start": 0.8,
            "bin_end": 0.9,
            "count": 0
           },
           {
            "bin_start": 0.9,
            "bin_end": 1,
            "count": 88
           }
          ]
         }
        },
        {
         "name": "16",
         "dtype": "float64",
         "stats": {
          "unique_count": 93,
          "nan_count": 0,
          "min": "0.0",
          "max": "1.0",
          "histogram": [
           {
            "bin_start": 0,
            "bin_end": 0.1,
            "count": 1
           },
           {
            "bin_start": 0.1,
            "bin_end": 0.2,
            "count": 0
           },
           {
            "bin_start": 0.2,
            "bin_end": 0.30000000000000004,
            "count": 4
           },
           {
            "bin_start": 0.30000000000000004,
            "bin_end": 0.4,
            "count": 0
           },
           {
            "bin_start": 0.4,
            "bin_end": 0.5,
            "count": 0
           },
           {
            "bin_start": 0.5,
            "bin_end": 0.6000000000000001,
            "count": 0
           },
           {
            "bin_start": 0.6000000000000001,
            "bin_end": 0.7000000000000001,
            "count": 0
           },
           {
            "bin_start": 0.7000000000000001,
            "bin_end": 0.8,
            "count": 0
           },
           {
            "bin_start": 0.8,
            "bin_end": 0.9,
            "count": 0
           },
           {
            "bin_start": 0.9,
            "bin_end": 1,
            "count": 88
           }
          ]
         }
        },
        {
         "name": "17",
         "dtype": "float64",
         "stats": {
          "unique_count": 93,
          "nan_count": 0,
          "min": "0.0",
          "max": "1.0",
          "histogram": [
           {
            "bin_start": 0,
            "bin_end": 0.1,
            "count": 1
           },
           {
            "bin_start": 0.1,
            "bin_end": 0.2,
            "count": 0
           },
           {
            "bin_start": 0.2,
            "bin_end": 0.30000000000000004,
            "count": 4
           },
           {
            "bin_start": 0.30000000000000004,
            "bin_end": 0.4,
            "count": 0
           },
           {
            "bin_start": 0.4,
            "bin_end": 0.5,
            "count": 0
           },
           {
            "bin_start": 0.5,
            "bin_end": 0.6000000000000001,
            "count": 0
           },
           {
            "bin_start": 0.6000000000000001,
            "bin_end": 0.7000000000000001,
            "count": 0
           },
           {
            "bin_start": 0.7000000000000001,
            "bin_end": 0.8,
            "count": 0
           },
           {
            "bin_start": 0.8,
            "bin_end": 0.9,
            "count": 0
           },
           {
            "bin_start": 0.9,
            "bin_end": 1,
            "count": 88
           }
          ]
         }
        },
        {
         "name": "18",
         "dtype": "float64",
         "stats": {
          "unique_count": 93,
          "nan_count": 0,
          "min": "0.0",
          "max": "1.0",
          "histogram": [
           {
            "bin_start": 0,
            "bin_end": 0.1,
            "count": 1
           },
           {
            "bin_start": 0.1,
            "bin_end": 0.2,
            "count": 0
           },
           {
            "bin_start": 0.2,
            "bin_end": 0.30000000000000004,
            "count": 4
           },
           {
            "bin_start": 0.30000000000000004,
            "bin_end": 0.4,
            "count": 0
           },
           {
            "bin_start": 0.4,
            "bin_end": 0.5,
            "count": 0
           },
           {
            "bin_start": 0.5,
            "bin_end": 0.6000000000000001,
            "count": 0
           },
           {
            "bin_start": 0.6000000000000001,
            "bin_end": 0.7000000000000001,
            "count": 0
           },
           {
            "bin_start": 0.7000000000000001,
            "bin_end": 0.8,
            "count": 0
           },
           {
            "bin_start": 0.8,
            "bin_end": 0.9,
            "count": 0
           },
           {
            "bin_start": 0.9,
            "bin_end": 1,
            "count": 88
           }
          ]
         }
        },
        {
         "name": "19",
         "dtype": "float64",
         "stats": {
          "unique_count": 93,
          "nan_count": 0,
          "min": "0.0",
          "max": "1.0",
          "histogram": [
           {
            "bin_start": 0,
            "bin_end": 0.1,
            "count": 1
           },
           {
            "bin_start": 0.1,
            "bin_end": 0.2,
            "count": 0
           },
           {
            "bin_start": 0.2,
            "bin_end": 0.30000000000000004,
            "count": 4
           },
           {
            "bin_start": 0.30000000000000004,
            "bin_end": 0.4,
            "count": 0
           },
           {
            "bin_start": 0.4,
            "bin_end": 0.5,
            "count": 0
           },
           {
            "bin_start": 0.5,
            "bin_end": 0.6000000000000001,
            "count": 0
           },
           {
            "bin_start": 0.6000000000000001,
            "bin_end": 0.7000000000000001,
            "count": 0
           },
           {
            "bin_start": 0.7000000000000001,
            "bin_end": 0.8,
            "count": 0
           },
           {
            "bin_start": 0.8,
            "bin_end": 0.9,
            "count": 0
           },
           {
            "bin_start": 0.9,
            "bin_end": 1,
            "count": 88
           }
          ]
         }
        },
        {
         "name": "2",
         "dtype": "float64",
         "stats": {
          "unique_count": 93,
          "nan_count": 0,
          "min": "0.0",
          "max": "1.0",
          "histogram": [
           {
            "bin_start": 0,
            "bin_end": 0.1,
            "count": 1
           },
           {
            "bin_start": 0.1,
            "bin_end": 0.2,
            "count": 0
           },
           {
            "bin_start": 0.2,
            "bin_end": 0.30000000000000004,
            "count": 4
           },
           {
            "bin_start": 0.30000000000000004,
            "bin_end": 0.4,
            "count": 0
           },
           {
            "bin_start": 0.4,
            "bin_end": 0.5,
            "count": 0
           },
           {
            "bin_start": 0.5,
            "bin_end": 0.6000000000000001,
            "count": 0
           },
           {
            "bin_start": 0.6000000000000001,
            "bin_end": 0.7000000000000001,
            "count": 0
           },
           {
            "bin_start": 0.7000000000000001,
            "bin_end": 0.8,
            "count": 0
           },
           {
            "bin_start": 0.8,
            "bin_end": 0.9,
            "count": 0
           },
           {
            "bin_start": 0.9,
            "bin_end": 1,
            "count": 88
           }
          ]
         }
        },
        {
         "name": "20",
         "dtype": "float64",
         "stats": {
          "unique_count": 93,
          "nan_count": 0,
          "min": "0.0",
          "max": "1.0",
          "histogram": [
           {
            "bin_start": 0,
            "bin_end": 0.1,
            "count": 1
           },
           {
            "bin_start": 0.1,
            "bin_end": 0.2,
            "count": 0
           },
           {
            "bin_start": 0.2,
            "bin_end": 0.30000000000000004,
            "count": 4
           },
           {
            "bin_start": 0.30000000000000004,
            "bin_end": 0.4,
            "count": 0
           },
           {
            "bin_start": 0.4,
            "bin_end": 0.5,
            "count": 0
           },
           {
            "bin_start": 0.5,
            "bin_end": 0.6000000000000001,
            "count": 0
           },
           {
            "bin_start": 0.6000000000000001,
            "bin_end": 0.7000000000000001,
            "count": 0
           },
           {
            "bin_start": 0.7000000000000001,
            "bin_end": 0.8,
            "count": 0
           },
           {
            "bin_start": 0.8,
            "bin_end": 0.9,
            "count": 0
           },
           {
            "bin_start": 0.9,
            "bin_end": 1,
            "count": 88
           }
          ]
         }
        },
        {
         "name": "21",
         "dtype": "float64",
         "stats": {
          "unique_count": 93,
          "nan_count": 0,
          "min": "0.0",
          "max": "1.0",
          "histogram": [
           {
            "bin_start": 0,
            "bin_end": 0.1,
            "count": 1
           },
           {
            "bin_start": 0.1,
            "bin_end": 0.2,
            "count": 0
           },
           {
            "bin_start": 0.2,
            "bin_end": 0.30000000000000004,
            "count": 4
           },
           {
            "bin_start": 0.30000000000000004,
            "bin_end": 0.4,
            "count": 0
           },
           {
            "bin_start": 0.4,
            "bin_end": 0.5,
            "count": 0
           },
           {
            "bin_start": 0.5,
            "bin_end": 0.6000000000000001,
            "count": 0
           },
           {
            "bin_start": 0.6000000000000001,
            "bin_end": 0.7000000000000001,
            "count": 0
           },
           {
            "bin_start": 0.7000000000000001,
            "bin_end": 0.8,
            "count": 0
           },
           {
            "bin_start": 0.8,
            "bin_end": 0.9,
            "count": 0
           },
           {
            "bin_start": 0.9,
            "bin_end": 1,
            "count": 88
           }
          ]
         }
        },
        {
         "name": "22",
         "dtype": "float64",
         "stats": {
          "unique_count": 93,
          "nan_count": 0,
          "min": "0.0",
          "max": "1.0",
          "histogram": [
           {
            "bin_start": 0,
            "bin_end": 0.1,
            "count": 1
           },
           {
            "bin_start": 0.1,
            "bin_end": 0.2,
            "count": 0
           },
           {
            "bin_start": 0.2,
            "bin_end": 0.30000000000000004,
            "count": 4
           },
           {
            "bin_start": 0.30000000000000004,
            "bin_end": 0.4,
            "count": 0
           },
           {
            "bin_start": 0.4,
            "bin_end": 0.5,
            "count": 0
           },
           {
            "bin_start": 0.5,
            "bin_end": 0.6000000000000001,
            "count": 0
           },
           {
            "bin_start": 0.6000000000000001,
            "bin_end": 0.7000000000000001,
            "count": 0
           },
           {
            "bin_start": 0.7000000000000001,
            "bin_end": 0.8,
            "count": 0
           },
           {
            "bin_start": 0.8,
            "bin_end": 0.9,
            "count": 0
           },
           {
            "bin_start": 0.9,
            "bin_end": 1,
            "count": 88
           }
          ]
         }
        },
        {
         "name": "23",
         "dtype": "float64",
         "stats": {
          "unique_count": 93,
          "nan_count": 0,
          "min": "0.0",
          "max": "1.0",
          "histogram": [
           {
            "bin_start": 0,
            "bin_end": 0.1,
            "count": 1
           },
           {
            "bin_start": 0.1,
            "bin_end": 0.2,
            "count": 0
           },
           {
            "bin_start": 0.2,
            "bin_end": 0.30000000000000004,
            "count": 4
           },
           {
            "bin_start": 0.30000000000000004,
            "bin_end": 0.4,
            "count": 0
           },
           {
            "bin_start": 0.4,
            "bin_end": 0.5,
            "count": 0
           },
           {
            "bin_start": 0.5,
            "bin_end": 0.6000000000000001,
            "count": 0
           },
           {
            "bin_start": 0.6000000000000001,
            "bin_end": 0.7000000000000001,
            "count": 0
           },
           {
            "bin_start": 0.7000000000000001,
            "bin_end": 0.8,
            "count": 0
           },
           {
            "bin_start": 0.8,
            "bin_end": 0.9,
            "count": 0
           },
           {
            "bin_start": 0.9,
            "bin_end": 1,
            "count": 88
           }
          ]
         }
        },
        {
         "name": "24",
         "dtype": "float64",
         "stats": {
          "unique_count": 93,
          "nan_count": 0,
          "min": "0.0",
          "max": "1.0",
          "histogram": [
           {
            "bin_start": 0,
            "bin_end": 0.1,
            "count": 1
           },
           {
            "bin_start": 0.1,
            "bin_end": 0.2,
            "count": 0
           },
           {
            "bin_start": 0.2,
            "bin_end": 0.30000000000000004,
            "count": 4
           },
           {
            "bin_start": 0.30000000000000004,
            "bin_end": 0.4,
            "count": 0
           },
           {
            "bin_start": 0.4,
            "bin_end": 0.5,
            "count": 0
           },
           {
            "bin_start": 0.5,
            "bin_end": 0.6000000000000001,
            "count": 0
           },
           {
            "bin_start": 0.6000000000000001,
            "bin_end": 0.7000000000000001,
            "count": 0
           },
           {
            "bin_start": 0.7000000000000001,
            "bin_end": 0.8,
            "count": 0
           },
           {
            "bin_start": 0.8,
            "bin_end": 0.9,
            "count": 0
           },
           {
            "bin_start": 0.9,
            "bin_end": 1,
            "count": 88
           }
          ]
         }
        },
        {
         "name": "249",
         "dtype": "float64",
         "stats": {
          "unique_count": 93,
          "nan_count": 0,
          "min": "0.0",
          "max": "1.0",
          "histogram": [
           {
            "bin_start": 0,
            "bin_end": 0.1,
            "count": 1
           },
           {
            "bin_start": 0.1,
            "bin_end": 0.2,
            "count": 0
           },
           {
            "bin_start": 0.2,
            "bin_end": 0.30000000000000004,
            "count": 4
           },
           {
            "bin_start": 0.30000000000000004,
            "bin_end": 0.4,
            "count": 0
           },
           {
            "bin_start": 0.4,
            "bin_end": 0.5,
            "count": 0
           },
           {
            "bin_start": 0.5,
            "bin_end": 0.6000000000000001,
            "count": 0
           },
           {
            "bin_start": 0.6000000000000001,
            "bin_end": 0.7000000000000001,
            "count": 0
           },
           {
            "bin_start": 0.7000000000000001,
            "bin_end": 0.8,
            "count": 0
           },
           {
            "bin_start": 0.8,
            "bin_end": 0.9,
            "count": 0
           },
           {
            "bin_start": 0.9,
            "bin_end": 1,
            "count": 88
           }
          ]
         }
        },
        {
         "name": "25",
         "dtype": "float64",
         "stats": {
          "unique_count": 93,
          "nan_count": 0,
          "min": "0.0",
          "max": "1.0",
          "histogram": [
           {
            "bin_start": 0,
            "bin_end": 0.1,
            "count": 1
           },
           {
            "bin_start": 0.1,
            "bin_end": 0.2,
            "count": 0
           },
           {
            "bin_start": 0.2,
            "bin_end": 0.30000000000000004,
            "count": 4
           },
           {
            "bin_start": 0.30000000000000004,
            "bin_end": 0.4,
            "count": 0
           },
           {
            "bin_start": 0.4,
            "bin_end": 0.5,
            "count": 0
           },
           {
            "bin_start": 0.5,
            "bin_end": 0.6000000000000001,
            "count": 0
           },
           {
            "bin_start": 0.6000000000000001,
            "bin_end": 0.7000000000000001,
            "count": 0
           },
           {
            "bin_start": 0.7000000000000001,
            "bin_end": 0.8,
            "count": 0
           },
           {
            "bin_start": 0.8,
            "bin_end": 0.9,
            "count": 0
           },
           {
            "bin_start": 0.9,
            "bin_end": 1,
            "count": 88
           }
          ]
         }
        },
        {
         "name": "250",
         "dtype": "float64",
         "stats": {
          "unique_count": 93,
          "nan_count": 0,
          "min": "0.0",
          "max": "1.0",
          "histogram": [
           {
            "bin_start": 0,
            "bin_end": 0.1,
            "count": 1
           },
           {
            "bin_start": 0.1,
            "bin_end": 0.2,
            "count": 0
           },
           {
            "bin_start": 0.2,
            "bin_end": 0.30000000000000004,
            "count": 4
           },
           {
            "bin_start": 0.30000000000000004,
            "bin_end": 0.4,
            "count": 0
           },
           {
            "bin_start": 0.4,
            "bin_end": 0.5,
            "count": 0
           },
           {
            "bin_start": 0.5,
            "bin_end": 0.6000000000000001,
            "count": 0
           },
           {
            "bin_start": 0.6000000000000001,
            "bin_end": 0.7000000000000001,
            "count": 0
           },
           {
            "bin_start": 0.7000000000000001,
            "bin_end": 0.8,
            "count": 0
           },
           {
            "bin_start": 0.8,
            "bin_end": 0.9,
            "count": 0
           },
           {
            "bin_start": 0.9,
            "bin_end": 1,
            "count": 88
           }
          ]
         }
        },
        {
         "name": "251",
         "dtype": "float64",
         "stats": {
          "unique_count": 93,
          "nan_count": 0,
          "min": "0.0",
          "max": "1.0",
          "histogram": [
           {
            "bin_start": 0,
            "bin_end": 0.1,
            "count": 1
           },
           {
            "bin_start": 0.1,
            "bin_end": 0.2,
            "count": 0
           },
           {
            "bin_start": 0.2,
            "bin_end": 0.30000000000000004,
            "count": 4
           },
           {
            "bin_start": 0.30000000000000004,
            "bin_end": 0.4,
            "count": 0
           },
           {
            "bin_start": 0.4,
            "bin_end": 0.5,
            "count": 0
           },
           {
            "bin_start": 0.5,
            "bin_end": 0.6000000000000001,
            "count": 0
           },
           {
            "bin_start": 0.6000000000000001,
            "bin_end": 0.7000000000000001,
            "count": 0
           },
           {
            "bin_start": 0.7000000000000001,
            "bin_end": 0.8,
            "count": 0
           },
           {
            "bin_start": 0.8,
            "bin_end": 0.9,
            "count": 0
           },
           {
            "bin_start": 0.9,
            "bin_end": 1,
            "count": 88
           }
          ]
         }
        },
        {
         "name": "252",
         "dtype": "float64",
         "stats": {
          "unique_count": 93,
          "nan_count": 0,
          "min": "0.0",
          "max": "1.0",
          "histogram": [
           {
            "bin_start": 0,
            "bin_end": 0.1,
            "count": 1
           },
           {
            "bin_start": 0.1,
            "bin_end": 0.2,
            "count": 0
           },
           {
            "bin_start": 0.2,
            "bin_end": 0.30000000000000004,
            "count": 4
           },
           {
            "bin_start": 0.30000000000000004,
            "bin_end": 0.4,
            "count": 0
           },
           {
            "bin_start": 0.4,
            "bin_end": 0.5,
            "count": 0
           },
           {
            "bin_start": 0.5,
            "bin_end": 0.6000000000000001,
            "count": 0
           },
           {
            "bin_start": 0.6000000000000001,
            "bin_end": 0.7000000000000001,
            "count": 0
           },
           {
            "bin_start": 0.7000000000000001,
            "bin_end": 0.8,
            "count": 0
           },
           {
            "bin_start": 0.8,
            "bin_end": 0.9,
            "count": 0
           },
           {
            "bin_start": 0.9,
            "bin_end": 1,
            "count": 88
           }
          ]
         }
        },
        {
         "name": "253",
         "dtype": "float64",
         "stats": {
          "unique_count": 93,
          "nan_count": 0,
          "min": "0.0",
          "max": "1.0",
          "histogram": [
           {
            "bin_start": 0,
            "bin_end": 0.1,
            "count": 1
           },
           {
            "bin_start": 0.1,
            "bin_end": 0.2,
            "count": 0
           },
           {
            "bin_start": 0.2,
            "bin_end": 0.30000000000000004,
            "count": 4
           },
           {
            "bin_start": 0.30000000000000004,
            "bin_end": 0.4,
            "count": 0
           },
           {
            "bin_start": 0.4,
            "bin_end": 0.5,
            "count": 0
           },
           {
            "bin_start": 0.5,
            "bin_end": 0.6000000000000001,
            "count": 0
           },
           {
            "bin_start": 0.6000000000000001,
            "bin_end": 0.7000000000000001,
            "count": 0
           },
           {
            "bin_start": 0.7000000000000001,
            "bin_end": 0.8,
            "count": 0
           },
           {
            "bin_start": 0.8,
            "bin_end": 0.9,
            "count": 0
           },
           {
            "bin_start": 0.9,
            "bin_end": 1,
            "count": 88
           }
          ]
         }
        },
        {
         "name": "254",
         "dtype": "float64",
         "stats": {
          "unique_count": 93,
          "nan_count": 0,
          "min": "0.0",
          "max": "1.0",
          "histogram": [
           {
            "bin_start": 0,
            "bin_end": 0.1,
            "count": 1
           },
           {
            "bin_start": 0.1,
            "bin_end": 0.2,
            "count": 0
           },
           {
            "bin_start": 0.2,
            "bin_end": 0.30000000000000004,
            "count": 4
           },
           {
            "bin_start": 0.30000000000000004,
            "bin_end": 0.4,
            "count": 0
           },
           {
            "bin_start": 0.4,
            "bin_end": 0.5,
            "count": 0
           },
           {
            "bin_start": 0.5,
            "bin_end": 0.6000000000000001,
            "count": 0
           },
           {
            "bin_start": 0.6000000000000001,
            "bin_end": 0.7000000000000001,
            "count": 0
           },
           {
            "bin_start": 0.7000000000000001,
            "bin_end": 0.8,
            "count": 0
           },
           {
            "bin_start": 0.8,
            "bin_end": 0.9,
            "count": 0
           },
           {
            "bin_start": 0.9,
            "bin_end": 1,
            "count": 88
           }
          ]
         }
        },
        {
         "name": "255",
         "dtype": "float64",
         "stats": {
          "unique_count": 93,
          "nan_count": 0,
          "min": "0.0",
          "max": "1.0",
          "histogram": [
           {
            "bin_start": 0,
            "bin_end": 0.1,
            "count": 1
           },
           {
            "bin_start": 0.1,
            "bin_end": 0.2,
            "count": 0
           },
           {
            "bin_start": 0.2,
            "bin_end": 0.30000000000000004,
            "count": 4
           },
           {
            "bin_start": 0.30000000000000004,
            "bin_end": 0.4,
            "count": 0
           },
           {
            "bin_start": 0.4,
            "bin_end": 0.5,
            "count": 0
           },
           {
            "bin_start": 0.5,
            "bin_end": 0.6000000000000001,
            "count": 0
           },
           {
            "bin_start": 0.6000000000000001,
            "bin_end": 0.7000000000000001,
            "count": 0
           },
           {
            "bin_start": 0.7000000000000001,
            "bin_end": 0.8,
            "count": 0
           },
           {
            "bin_start": 0.8,
            "bin_end": 0.9,
            "count": 0
           },
           {
            "bin_start": 0.9,
            "bin_end": 1,
            "count": 88
           }
          ]
         }
        },
        {
         "name": "256",
         "dtype": "float64",
         "stats": {
          "unique_count": 93,
          "nan_count": 0,
          "min": "0.0",
          "max": "1.0",
          "histogram": [
           {
            "bin_start": 0,
            "bin_end": 0.1,
            "count": 1
           },
           {
            "bin_start": 0.1,
            "bin_end": 0.2,
            "count": 0
           },
           {
            "bin_start": 0.2,
            "bin_end": 0.30000000000000004,
            "count": 4
           },
           {
            "bin_start": 0.30000000000000004,
            "bin_end": 0.4,
            "count": 0
           },
           {
            "bin_start": 0.4,
            "bin_end": 0.5,
            "count": 0
           },
           {
            "bin_start": 0.5,
            "bin_end": 0.6000000000000001,
            "count": 0
           },
           {
            "bin_start": 0.6000000000000001,
            "bin_end": 0.7000000000000001,
            "count": 0
           },
           {
            "bin_start": 0.7000000000000001,
            "bin_end": 0.8,
            "count": 0
           },
           {
            "bin_start": 0.8,
            "bin_end": 0.9,
            "count": 0
           },
           {
            "bin_start": 0.9,
            "bin_end": 1,
            "count": 88
           }
          ]
         }
        },
        {
         "name": "257",
         "dtype": "float64",
         "stats": {
          "unique_count": 93,
          "nan_count": 0,
          "min": "0.0",
          "max": "1.0",
          "histogram": [
           {
            "bin_start": 0,
            "bin_end": 0.1,
            "count": 1
           },
           {
            "bin_start": 0.1,
            "bin_end": 0.2,
            "count": 0
           },
           {
            "bin_start": 0.2,
            "bin_end": 0.30000000000000004,
            "count": 4
           },
           {
            "bin_start": 0.30000000000000004,
            "bin_end": 0.4,
            "count": 0
           },
           {
            "bin_start": 0.4,
            "bin_end": 0.5,
            "count": 0
           },
           {
            "bin_start": 0.5,
            "bin_end": 0.6000000000000001,
            "count": 0
           },
           {
            "bin_start": 0.6000000000000001,
            "bin_end": 0.7000000000000001,
            "count": 0
           },
           {
            "bin_start": 0.7000000000000001,
            "bin_end": 0.8,
            "count": 0
           },
           {
            "bin_start": 0.8,
            "bin_end": 0.9,
            "count": 0
           },
           {
            "bin_start": 0.9,
            "bin_end": 1,
            "count": 88
           }
          ]
         }
        },
        {
         "name": "258",
         "dtype": "float64",
         "stats": {
          "unique_count": 93,
          "nan_count": 0,
          "min": "0.0",
          "max": "1.0",
          "histogram": [
           {
            "bin_start": 0,
            "bin_end": 0.1,
            "count": 1
           },
           {
            "bin_start": 0.1,
            "bin_end": 0.2,
            "count": 0
           },
           {
            "bin_start": 0.2,
            "bin_end": 0.30000000000000004,
            "count": 4
           },
           {
            "bin_start": 0.30000000000000004,
            "bin_end": 0.4,
            "count": 0
           },
           {
            "bin_start": 0.4,
            "bin_end": 0.5,
            "count": 0
           },
           {
            "bin_start": 0.5,
            "bin_end": 0.6000000000000001,
            "count": 0
           },
           {
            "bin_start": 0.6000000000000001,
            "bin_end": 0.7000000000000001,
            "count": 0
           },
           {
            "bin_start": 0.7000000000000001,
            "bin_end": 0.8,
            "count": 0
           },
           {
            "bin_start": 0.8,
            "bin_end": 0.9,
            "count": 0
           },
           {
            "bin_start": 0.9,
            "bin_end": 1,
            "count": 88
           }
          ]
         }
        },
        {
         "name": "259",
         "dtype": "float64",
         "stats": {
          "unique_count": 93,
          "nan_count": 0,
          "min": "0.0",
          "max": "1.0",
          "histogram": [
           {
            "bin_start": 0,
            "bin_end": 0.1,
            "count": 1
           },
           {
            "bin_start": 0.1,
            "bin_end": 0.2,
            "count": 0
           },
           {
            "bin_start": 0.2,
            "bin_end": 0.30000000000000004,
            "count": 4
           },
           {
            "bin_start": 0.30000000000000004,
            "bin_end": 0.4,
            "count": 0
           },
           {
            "bin_start": 0.4,
            "bin_end": 0.5,
            "count": 0
           },
           {
            "bin_start": 0.5,
            "bin_end": 0.6000000000000001,
            "count": 0
           },
           {
            "bin_start": 0.6000000000000001,
            "bin_end": 0.7000000000000001,
            "count": 0
           },
           {
            "bin_start": 0.7000000000000001,
            "bin_end": 0.8,
            "count": 0
           },
           {
            "bin_start": 0.8,
            "bin_end": 0.9,
            "count": 0
           },
           {
            "bin_start": 0.9,
            "bin_end": 1,
            "count": 88
           }
          ]
         }
        },
        {
         "name": "26",
         "dtype": "float64",
         "stats": {
          "unique_count": 93,
          "nan_count": 0,
          "min": "0.0",
          "max": "1.0",
          "histogram": [
           {
            "bin_start": 0,
            "bin_end": 0.1,
            "count": 1
           },
           {
            "bin_start": 0.1,
            "bin_end": 0.2,
            "count": 0
           },
           {
            "bin_start": 0.2,
            "bin_end": 0.30000000000000004,
            "count": 4
           },
           {
            "bin_start": 0.30000000000000004,
            "bin_end": 0.4,
            "count": 0
           },
           {
            "bin_start": 0.4,
            "bin_end": 0.5,
            "count": 0
           },
           {
            "bin_start": 0.5,
            "bin_end": 0.6000000000000001,
            "count": 0
           },
           {
            "bin_start": 0.6000000000000001,
            "bin_end": 0.7000000000000001,
            "count": 0
           },
           {
            "bin_start": 0.7000000000000001,
            "bin_end": 0.8,
            "count": 0
           },
           {
            "bin_start": 0.8,
            "bin_end": 0.9,
            "count": 0
           },
           {
            "bin_start": 0.9,
            "bin_end": 1,
            "count": 88
           }
          ]
         }
        },
        {
         "name": "260",
         "dtype": "float64",
         "stats": {
          "unique_count": 93,
          "nan_count": 0,
          "min": "0.0",
          "max": "1.0",
          "histogram": [
           {
            "bin_start": 0,
            "bin_end": 0.1,
            "count": 1
           },
           {
            "bin_start": 0.1,
            "bin_end": 0.2,
            "count": 0
           },
           {
            "bin_start": 0.2,
            "bin_end": 0.30000000000000004,
            "count": 4
           },
           {
            "bin_start": 0.30000000000000004,
            "bin_end": 0.4,
            "count": 0
           },
           {
            "bin_start": 0.4,
            "bin_end": 0.5,
            "count": 0
           },
           {
            "bin_start": 0.5,
            "bin_end": 0.6000000000000001,
            "count": 0
           },
           {
            "bin_start": 0.6000000000000001,
            "bin_end": 0.7000000000000001,
            "count": 0
           },
           {
            "bin_start": 0.7000000000000001,
            "bin_end": 0.8,
            "count": 0
           },
           {
            "bin_start": 0.8,
            "bin_end": 0.9,
            "count": 0
           },
           {
            "bin_start": 0.9,
            "bin_end": 1,
            "count": 88
           }
          ]
         }
        },
        {
         "name": "261",
         "dtype": "float64",
         "stats": {
          "unique_count": 93,
          "nan_count": 0,
          "min": "0.0",
          "max": "1.0",
          "histogram": [
           {
            "bin_start": 0,
            "bin_end": 0.1,
            "count": 1
           },
           {
            "bin_start": 0.1,
            "bin_end": 0.2,
            "count": 0
           },
           {
            "bin_start": 0.2,
            "bin_end": 0.30000000000000004,
            "count": 4
           },
           {
            "bin_start": 0.30000000000000004,
            "bin_end": 0.4,
            "count": 0
           },
           {
            "bin_start": 0.4,
            "bin_end": 0.5,
            "count": 0
           },
           {
            "bin_start": 0.5,
            "bin_end": 0.6000000000000001,
            "count": 0
           },
           {
            "bin_start": 0.6000000000000001,
            "bin_end": 0.7000000000000001,
            "count": 0
           },
           {
            "bin_start": 0.7000000000000001,
            "bin_end": 0.8,
            "count": 0
           },
           {
            "bin_start": 0.8,
            "bin_end": 0.9,
            "count": 0
           },
           {
            "bin_start": 0.9,
            "bin_end": 1,
            "count": 88
           }
          ]
         }
        },
        {
         "name": "262",
         "dtype": "float64",
         "stats": {
          "unique_count": 93,
          "nan_count": 0,
          "min": "0.0",
          "max": "1.0",
          "histogram": [
           {
            "bin_start": 0,
            "bin_end": 0.1,
            "count": 1
           },
           {
            "bin_start": 0.1,
            "bin_end": 0.2,
            "count": 0
           },
           {
            "bin_start": 0.2,
            "bin_end": 0.30000000000000004,
            "count": 4
           },
           {
            "bin_start": 0.30000000000000004,
            "bin_end": 0.4,
            "count": 0
           },
           {
            "bin_start": 0.4,
            "bin_end": 0.5,
            "count": 0
           },
           {
            "bin_start": 0.5,
            "bin_end": 0.6000000000000001,
            "count": 0
           },
           {
            "bin_start": 0.6000000000000001,
            "bin_end": 0.7000000000000001,
            "count": 0
           },
           {
            "bin_start": 0.7000000000000001,
            "bin_end": 0.8,
            "count": 0
           },
           {
            "bin_start": 0.8,
            "bin_end": 0.9,
            "count": 0
           },
           {
            "bin_start": 0.9,
            "bin_end": 1,
            "count": 88
           }
          ]
         }
        },
        {
         "name": "263",
         "dtype": "float64",
         "stats": {
          "unique_count": 93,
          "nan_count": 0,
          "min": "0.0",
          "max": "1.0",
          "histogram": [
           {
            "bin_start": 0,
            "bin_end": 0.1,
            "count": 1
           },
           {
            "bin_start": 0.1,
            "bin_end": 0.2,
            "count": 0
           },
           {
            "bin_start": 0.2,
            "bin_end": 0.30000000000000004,
            "count": 4
           },
           {
            "bin_start": 0.30000000000000004,
            "bin_end": 0.4,
            "count": 0
           },
           {
            "bin_start": 0.4,
            "bin_end": 0.5,
            "count": 0
           },
           {
            "bin_start": 0.5,
            "bin_end": 0.6000000000000001,
            "count": 0
           },
           {
            "bin_start": 0.6000000000000001,
            "bin_end": 0.7000000000000001,
            "count": 0
           },
           {
            "bin_start": 0.7000000000000001,
            "bin_end": 0.8,
            "count": 0
           },
           {
            "bin_start": 0.8,
            "bin_end": 0.9,
            "count": 0
           },
           {
            "bin_start": 0.9,
            "bin_end": 1,
            "count": 88
           }
          ]
         }
        },
        {
         "name": "264",
         "dtype": "float64",
         "stats": {
          "unique_count": 93,
          "nan_count": 0,
          "min": "0.0",
          "max": "1.0",
          "histogram": [
           {
            "bin_start": 0,
            "bin_end": 0.1,
            "count": 1
           },
           {
            "bin_start": 0.1,
            "bin_end": 0.2,
            "count": 0
           },
           {
            "bin_start": 0.2,
            "bin_end": 0.30000000000000004,
            "count": 4
           },
           {
            "bin_start": 0.30000000000000004,
            "bin_end": 0.4,
            "count": 0
           },
           {
            "bin_start": 0.4,
            "bin_end": 0.5,
            "count": 0
           },
           {
            "bin_start": 0.5,
            "bin_end": 0.6000000000000001,
            "count": 0
           },
           {
            "bin_start": 0.6000000000000001,
            "bin_end": 0.7000000000000001,
            "count": 0
           },
           {
            "bin_start": 0.7000000000000001,
            "bin_end": 0.8,
            "count": 0
           },
           {
            "bin_start": 0.8,
            "bin_end": 0.9,
            "count": 0
           },
           {
            "bin_start": 0.9,
            "bin_end": 1,
            "count": 88
           }
          ]
         }
        },
        {
         "name": "265",
         "dtype": "float64",
         "stats": {
          "unique_count": 93,
          "nan_count": 0,
          "min": "0.0",
          "max": "1.0",
          "histogram": [
           {
            "bin_start": 0,
            "bin_end": 0.1,
            "count": 1
           },
           {
            "bin_start": 0.1,
            "bin_end": 0.2,
            "count": 0
           },
           {
            "bin_start": 0.2,
            "bin_end": 0.30000000000000004,
            "count": 4
           },
           {
            "bin_start": 0.30000000000000004,
            "bin_end": 0.4,
            "count": 0
           },
           {
            "bin_start": 0.4,
            "bin_end": 0.5,
            "count": 0
           },
           {
            "bin_start": 0.5,
            "bin_end": 0.6000000000000001,
            "count": 0
           },
           {
            "bin_start": 0.6000000000000001,
            "bin_end": 0.7000000000000001,
            "count": 0
           },
           {
            "bin_start": 0.7000000000000001,
            "bin_end": 0.8,
            "count": 0
           },
           {
            "bin_start": 0.8,
            "bin_end": 0.9,
            "count": 0
           },
           {
            "bin_start": 0.9,
            "bin_end": 1,
            "count": 88
           }
          ]
         }
        },
        {
         "name": "266",
         "dtype": "float64",
         "stats": {
          "unique_count": 93,
          "nan_count": 0,
          "min": "0.0",
          "max": "1.0",
          "histogram": [
           {
            "bin_start": 0,
            "bin_end": 0.1,
            "count": 1
           },
           {
            "bin_start": 0.1,
            "bin_end": 0.2,
            "count": 0
           },
           {
            "bin_start": 0.2,
            "bin_end": 0.30000000000000004,
            "count": 4
           },
           {
            "bin_start": 0.30000000000000004,
            "bin_end": 0.4,
            "count": 0
           },
           {
            "bin_start": 0.4,
            "bin_end": 0.5,
            "count": 0
           },
           {
            "bin_start": 0.5,
            "bin_end": 0.6000000000000001,
            "count": 0
           },
           {
            "bin_start": 0.6000000000000001,
            "bin_end": 0.7000000000000001,
            "count": 0
           },
           {
            "bin_start": 0.7000000000000001,
            "bin_end": 0.8,
            "count": 0
           },
           {
            "bin_start": 0.8,
            "bin_end": 0.9,
            "count": 0
           },
           {
            "bin_start": 0.9,
            "bin_end": 1,
            "count": 88
           }
          ]
         }
        },
        {
         "name": "267",
         "dtype": "float64",
         "stats": {
          "unique_count": 93,
          "nan_count": 0,
          "min": "0.0",
          "max": "1.0",
          "histogram": [
           {
            "bin_start": 0,
            "bin_end": 0.1,
            "count": 1
           },
           {
            "bin_start": 0.1,
            "bin_end": 0.2,
            "count": 0
           },
           {
            "bin_start": 0.2,
            "bin_end": 0.30000000000000004,
            "count": 4
           },
           {
            "bin_start": 0.30000000000000004,
            "bin_end": 0.4,
            "count": 0
           },
           {
            "bin_start": 0.4,
            "bin_end": 0.5,
            "count": 0
           },
           {
            "bin_start": 0.5,
            "bin_end": 0.6000000000000001,
            "count": 0
           },
           {
            "bin_start": 0.6000000000000001,
            "bin_end": 0.7000000000000001,
            "count": 0
           },
           {
            "bin_start": 0.7000000000000001,
            "bin_end": 0.8,
            "count": 0
           },
           {
            "bin_start": 0.8,
            "bin_end": 0.9,
            "count": 0
           },
           {
            "bin_start": 0.9,
            "bin_end": 1,
            "count": 88
           }
          ]
         }
        },
        {
         "name": "268",
         "dtype": "float64",
         "stats": {
          "unique_count": 93,
          "nan_count": 0,
          "min": "0.0",
          "max": "1.0",
          "histogram": [
           {
            "bin_start": 0,
            "bin_end": 0.1,
            "count": 1
           },
           {
            "bin_start": 0.1,
            "bin_end": 0.2,
            "count": 0
           },
           {
            "bin_start": 0.2,
            "bin_end": 0.30000000000000004,
            "count": 4
           },
           {
            "bin_start": 0.30000000000000004,
            "bin_end": 0.4,
            "count": 0
           },
           {
            "bin_start": 0.4,
            "bin_end": 0.5,
            "count": 0
           },
           {
            "bin_start": 0.5,
            "bin_end": 0.6000000000000001,
            "count": 0
           },
           {
            "bin_start": 0.6000000000000001,
            "bin_end": 0.7000000000000001,
            "count": 0
           },
           {
            "bin_start": 0.7000000000000001,
            "bin_end": 0.8,
            "count": 0
           },
           {
            "bin_start": 0.8,
            "bin_end": 0.9,
            "count": 0
           },
           {
            "bin_start": 0.9,
            "bin_end": 1,
            "count": 88
           }
          ]
         }
        },
        {
         "name": "269",
         "dtype": "float64",
         "stats": {
          "unique_count": 93,
          "nan_count": 0,
          "min": "0.0",
          "max": "1.0",
          "histogram": [
           {
            "bin_start": 0,
            "bin_end": 0.1,
            "count": 2
           },
           {
            "bin_start": 0.1,
            "bin_end": 0.2,
            "count": 0
           },
           {
            "bin_start": 0.2,
            "bin_end": 0.30000000000000004,
            "count": 39
           },
           {
            "bin_start": 0.30000000000000004,
            "bin_end": 0.4,
            "count": 49
           },
           {
            "bin_start": 0.4,
            "bin_end": 0.5,
            "count": 0
           },
           {
            "bin_start": 0.5,
            "bin_end": 0.6000000000000001,
            "count": 0
           },
           {
            "bin_start": 0.6000000000000001,
            "bin_end": 0.7000000000000001,
            "count": 0
           },
           {
            "bin_start": 0.7000000000000001,
            "bin_end": 0.8,
            "count": 1
           },
           {
            "bin_start": 0.8,
            "bin_end": 0.9,
            "count": 0
           },
           {
            "bin_start": 0.9,
            "bin_end": 1,
            "count": 2
           }
          ]
         }
        },
        {
         "name": "27",
         "dtype": "float64",
         "stats": {
          "unique_count": 93,
          "nan_count": 0,
          "min": "0.0",
          "max": "1.0",
          "histogram": [
           {
            "bin_start": 0,
            "bin_end": 0.1,
            "count": 1
           },
           {
            "bin_start": 0.1,
            "bin_end": 0.2,
            "count": 0
           },
           {
            "bin_start": 0.2,
            "bin_end": 0.30000000000000004,
            "count": 3
           },
           {
            "bin_start": 0.30000000000000004,
            "bin_end": 0.4,
            "count": 1
           },
           {
            "bin_start": 0.4,
            "bin_end": 0.5,
            "count": 0
           },
           {
            "bin_start": 0.5,
            "bin_end": 0.6000000000000001,
            "count": 0
           },
           {
            "bin_start": 0.6000000000000001,
            "bin_end": 0.7000000000000001,
            "count": 0
           },
           {
            "bin_start": 0.7000000000000001,
            "bin_end": 0.8,
            "count": 0
           },
           {
            "bin_start": 0.8,
            "bin_end": 0.9,
            "count": 0
           },
           {
            "bin_start": 0.9,
            "bin_end": 1,
            "count": 88
           }
          ]
         }
        },
        {
         "name": "270",
         "dtype": "float64",
         "stats": {
          "unique_count": 93,
          "nan_count": 0,
          "min": "0.0",
          "max": "1.0",
          "histogram": [
           {
            "bin_start": 0,
            "bin_end": 0.1,
            "count": 1
           },
           {
            "bin_start": 0.1,
            "bin_end": 0.2,
            "count": 0
           },
           {
            "bin_start": 0.2,
            "bin_end": 0.30000000000000004,
            "count": 3
           },
           {
            "bin_start": 0.30000000000000004,
            "bin_end": 0.4,
            "count": 1
           },
           {
            "bin_start": 0.4,
            "bin_end": 0.5,
            "count": 0
           },
           {
            "bin_start": 0.5,
            "bin_end": 0.6000000000000001,
            "count": 0
           },
           {
            "bin_start": 0.6000000000000001,
            "bin_end": 0.7000000000000001,
            "count": 0
           },
           {
            "bin_start": 0.7000000000000001,
            "bin_end": 0.8,
            "count": 0
           },
           {
            "bin_start": 0.8,
            "bin_end": 0.9,
            "count": 0
           },
           {
            "bin_start": 0.9,
            "bin_end": 1,
            "count": 88
           }
          ]
         }
        },
        {
         "name": "271",
         "dtype": "float64",
         "stats": {
          "unique_count": 93,
          "nan_count": 0,
          "min": "0.0",
          "max": "1.0",
          "histogram": [
           {
            "bin_start": 0,
            "bin_end": 0.1,
            "count": 1
           },
           {
            "bin_start": 0.1,
            "bin_end": 0.2,
            "count": 0
           },
           {
            "bin_start": 0.2,
            "bin_end": 0.30000000000000004,
            "count": 3
           },
           {
            "bin_start": 0.30000000000000004,
            "bin_end": 0.4,
            "count": 1
           },
           {
            "bin_start": 0.4,
            "bin_end": 0.5,
            "count": 0
           },
           {
            "bin_start": 0.5,
            "bin_end": 0.6000000000000001,
            "count": 0
           },
           {
            "bin_start": 0.6000000000000001,
            "bin_end": 0.7000000000000001,
            "count": 0
           },
           {
            "bin_start": 0.7000000000000001,
            "bin_end": 0.8,
            "count": 0
           },
           {
            "bin_start": 0.8,
            "bin_end": 0.9,
            "count": 0
           },
           {
            "bin_start": 0.9,
            "bin_end": 1,
            "count": 88
           }
          ]
         }
        },
        {
         "name": "272",
         "dtype": "float64",
         "stats": {
          "unique_count": 51,
          "nan_count": 0,
          "min": "0.0",
          "max": "1.0",
          "histogram": [
           {
            "bin_start": 0,
            "bin_end": 0.1,
            "count": 44
           },
           {
            "bin_start": 0.1,
            "bin_end": 0.2,
            "count": 0
           },
           {
            "bin_start": 0.2,
            "bin_end": 0.30000000000000004,
            "count": 46
           },
           {
            "bin_start": 0.30000000000000004,
            "bin_end": 0.4,
            "count": 0
           },
           {
            "bin_start": 0.4,
            "bin_end": 0.5,
            "count": 0
           },
           {
            "bin_start": 0.5,
            "bin_end": 0.6000000000000001,
            "count": 0
           },
           {
            "bin_start": 0.6000000000000001,
            "bin_end": 0.7000000000000001,
            "count": 0
           },
           {
            "bin_start": 0.7000000000000001,
            "bin_end": 0.8,
            "count": 1
           },
           {
            "bin_start": 0.8,
            "bin_end": 0.9,
            "count": 1
           },
           {
            "bin_start": 0.9,
            "bin_end": 1,
            "count": 1
           }
          ]
         }
        },
        {
         "name": "273",
         "dtype": "float64",
         "stats": {
          "unique_count": 93,
          "nan_count": 0,
          "min": "0.20241122895272068",
          "max": "1.0",
          "histogram": [
           {
            "bin_start": 0.20241122895272068,
            "bin_end": 0.28217010605744863,
            "count": 4
           },
           {
            "bin_start": 0.28217010605744863,
            "bin_end": 0.36192898316217653,
            "count": 1
           },
           {
            "bin_start": 0.36192898316217653,
            "bin_end": 0.44168786026690443,
            "count": 0
           },
           {
            "bin_start": 0.44168786026690443,
            "bin_end": 0.5214467373716324,
            "count": 0
           },
           {
            "bin_start": 0.5214467373716324,
            "bin_end": 0.6012056144763603,
            "count": 0
           },
           {
            "bin_start": 0.6012056144763603,
            "bin_end": 0.6809644915810882,
            "count": 0
           },
           {
            "bin_start": 0.6809644915810882,
            "bin_end": 0.7607233686858161,
            "count": 0
           },
           {
            "bin_start": 0.7607233686858161,
            "bin_end": 0.8404822457905441,
            "count": 0
           },
           {
            "bin_start": 0.8404822457905441,
            "bin_end": 0.920241122895272,
            "count": 0
           },
           {
            "bin_start": 0.920241122895272,
            "bin_end": 1,
            "count": 88
           }
          ]
         }
        },
        {
         "name": "274",
         "dtype": "float64",
         "stats": {
          "unique_count": 93,
          "nan_count": 0,
          "min": "0.20260269661670827",
          "max": "1.0",
          "histogram": [
           {
            "bin_start": 0.20260269661670827,
            "bin_end": 0.2823424269550374,
            "count": 4
           },
           {
            "bin_start": 0.2823424269550374,
            "bin_end": 0.3620821572933666,
            "count": 1
           },
           {
            "bin_start": 0.3620821572933666,
            "bin_end": 0.44182188763169583,
            "count": 0
           },
           {
            "bin_start": 0.44182188763169583,
            "bin_end": 0.521561617970025,
            "count": 0
           },
           {
            "bin_start": 0.521561617970025,
            "bin_end": 0.6013013483083541,
            "count": 0
           },
           {
            "bin_start": 0.6013013483083541,
            "bin_end": 0.6810410786466834,
            "count": 0
           },
           {
            "bin_start": 0.6810410786466834,
            "bin_end": 0.7607808089850125,
            "count": 0
           },
           {
            "bin_start": 0.7607808089850125,
            "bin_end": 0.8405205393233417,
            "count": 0
           },
           {
            "bin_start": 0.8405205393233417,
            "bin_end": 0.9202602696616708,
            "count": 0
           },
           {
            "bin_start": 0.9202602696616708,
            "bin_end": 1,
            "count": 88
           }
          ]
         }
        },
        {
         "name": "275",
         "dtype": "float64",
         "stats": {
          "unique_count": 93,
          "nan_count": 0,
          "min": "0.2026285702972529",
          "max": "1.0",
          "histogram": [
           {
            "bin_start": 0.2026285702972529,
            "bin_end": 0.2823657132675276,
            "count": 4
           },
           {
            "bin_start": 0.2823657132675276,
            "bin_end": 0.3621028562378023,
            "count": 1
           },
           {
            "bin_start": 0.3621028562378023,
            "bin_end": 0.44183999920807704,
            "count": 0
           },
           {
            "bin_start": 0.44183999920807704,
            "bin_end": 0.5215771421783517,
            "count": 0
           },
           {
            "bin_start": 0.5215771421783517,
            "bin_end": 0.6013142851486264,
            "count": 0
           },
           {
            "bin_start": 0.6013142851486264,
            "bin_end": 0.6810514281189011,
            "count": 0
           },
           {
            "bin_start": 0.6810514281189011,
            "bin_end": 0.7607885710891759,
            "count": 0
           },
           {
            "bin_start": 0.7607885710891759,
            "bin_end": 0.8405257140594505,
            "count": 0
           },
           {
            "bin_start": 0.8405257140594505,
            "bin_end": 0.9202628570297252,
            "count": 0
           },
           {
            "bin_start": 0.9202628570297252,
            "bin_end": 1,
            "count": 88
           }
          ]
         }
        },
        {
         "name": "276",
         "dtype": "float64",
         "stats": {
          "unique_count": 93,
          "nan_count": 0,
          "min": "0.2025594597464827",
          "max": "1.0",
          "histogram": [
           {
            "bin_start": 0.2025594597464827,
            "bin_end": 0.28230351377183444,
            "count": 4
           },
           {
            "bin_start": 0.28230351377183444,
            "bin_end": 0.36204756779718616,
            "count": 1
           },
           {
            "bin_start": 0.36204756779718616,
            "bin_end": 0.4417916218225379,
            "count": 0
           },
           {
            "bin_start": 0.4417916218225379,
            "bin_end": 0.5215356758478896,
            "count": 0
           },
           {
            "bin_start": 0.5215356758478896,
            "bin_end": 0.6012797298732413,
            "count": 0
           },
           {
            "bin_start": 0.6012797298732413,
            "bin_end": 0.6810237838985931,
            "count": 0
           },
           {
            "bin_start": 0.6810237838985931,
            "bin_end": 0.7607678379239448,
            "count": 0
           },
           {
            "bin_start": 0.7607678379239448,
            "bin_end": 0.8405118919492965,
            "count": 0
           },
           {
            "bin_start": 0.8405118919492965,
            "bin_end": 0.9202559459746483,
            "count": 0
           },
           {
            "bin_start": 0.9202559459746483,
            "bin_end": 1,
            "count": 88
           }
          ]
         }
        },
        {
         "name": "277",
         "dtype": "float64",
         "stats": {
          "unique_count": 93,
          "nan_count": 0,
          "min": "0.20277099839875556",
          "max": "1.0",
          "histogram": [
           {
            "bin_start": 0.20277099839875556,
            "bin_end": 0.28249389855888,
            "count": 4
           },
           {
            "bin_start": 0.28249389855888,
            "bin_end": 0.3622167987190045,
            "count": 1
           },
           {
            "bin_start": 0.3622167987190045,
            "bin_end": 0.4419396988791289,
            "count": 0
           },
           {
            "bin_start": 0.4419396988791289,
            "bin_end": 0.5216625990392534,
            "count": 0
           },
           {
            "bin_start": 0.5216625990392534,
            "bin_end": 0.6013854991993778,
            "count": 0
           },
           {
            "bin_start": 0.6013854991993778,
            "bin_end": 0.6811083993595022,
            "count": 0
           },
           {
            "bin_start": 0.6811083993595022,
            "bin_end": 0.7608312995196267,
            "count": 0
           },
           {
            "bin_start": 0.7608312995196267,
            "bin_end": 0.8405541996797511,
            "count": 0
           },
           {
            "bin_start": 0.8405541996797511,
            "bin_end": 0.9202770998398755,
            "count": 0
           },
           {
            "bin_start": 0.9202770998398755,
            "bin_end": 1,
            "count": 88
           }
          ]
         }
        },
        {
         "name": "278",
         "dtype": "float64",
         "stats": {
          "unique_count": 93,
          "nan_count": 0,
          "min": "0.20268516017762372",
          "max": "1.0",
          "histogram": [
           {
            "bin_start": 0.20268516017762372,
            "bin_end": 0.28241664415986134,
            "count": 4
           },
           {
            "bin_start": 0.28241664415986134,
            "bin_end": 0.36214812814209896,
            "count": 1
           },
           {
            "bin_start": 0.36214812814209896,
            "bin_end": 0.44187961212433663,
            "count": 0
           },
           {
            "bin_start": 0.44187961212433663,
            "bin_end": 0.5216110961065743,
            "count": 0
           },
           {
            "bin_start": 0.5216110961065743,
            "bin_end": 0.6013425800888119,
            "count": 0
           },
           {
            "bin_start": 0.6013425800888119,
            "bin_end": 0.6810740640710495,
            "count": 0
           },
           {
            "bin_start": 0.6810740640710495,
            "bin_end": 0.7608055480532872,
            "count": 0
           },
           {
            "bin_start": 0.7608055480532872,
            "bin_end": 0.8405370320355248,
            "count": 0
           },
           {
            "bin_start": 0.8405370320355248,
            "bin_end": 0.9202685160177624,
            "count": 0
           },
           {
            "bin_start": 0.9202685160177624,
            "bin_end": 1,
            "count": 88
           }
          ]
         }
        },
        {
         "name": "279",
         "dtype": "float64",
         "stats": {
          "unique_count": 93,
          "nan_count": 0,
          "min": "0.20276644576092995",
          "max": "1.0",
          "histogram": [
           {
            "bin_start": 0.20276644576092995,
            "bin_end": 0.28248980118483696,
            "count": 4
           },
           {
            "bin_start": 0.28248980118483696,
            "bin_end": 0.362213156608744,
            "count": 1
           },
           {
            "bin_start": 0.362213156608744,
            "bin_end": 0.44193651203265094,
            "count": 0
           },
           {
            "bin_start": 0.44193651203265094,
            "bin_end": 0.521659867456558,
            "count": 0
           },
           {
            "bin_start": 0.521659867456558,
            "bin_end": 0.601383222880465,
            "count": 0
           },
           {
            "bin_start": 0.601383222880465,
            "bin_end": 0.6811065783043719,
            "count": 0
           },
           {
            "bin_start": 0.6811065783043719,
            "bin_end": 0.760829933728279,
            "count": 0
           },
           {
            "bin_start": 0.760829933728279,
            "bin_end": 0.840553289152186,
            "count": 0
           },
           {
            "bin_start": 0.840553289152186,
            "bin_end": 0.9202766445760929,
            "count": 0
           },
           {
            "bin_start": 0.9202766445760929,
            "bin_end": 1,
            "count": 88
           }
          ]
         }
        },
        {
         "name": "28",
         "dtype": "float64",
         "stats": {
          "unique_count": 93,
          "nan_count": 0,
          "min": "0.20238560643493386",
          "max": "1.0",
          "histogram": [
           {
            "bin_start": 0.20238560643493386,
            "bin_end": 0.28214704579144045,
            "count": 4
           },
           {
            "bin_start": 0.28214704579144045,
            "bin_end": 0.3619084851479471,
            "count": 1
           },
           {
            "bin_start": 0.3619084851479471,
            "bin_end": 0.44166992450445375,
            "count": 0
           },
           {
            "bin_start": 0.44166992450445375,
            "bin_end": 0.5214313638609603,
            "count": 0
           },
           {
            "bin_start": 0.5214313638609603,
            "bin_end": 0.6011928032174669,
            "count": 0
           },
           {
            "bin_start": 0.6011928032174669,
            "bin_end": 0.6809542425739736,
            "count": 0
           },
           {
            "bin_start": 0.6809542425739736,
            "bin_end": 0.7607156819304802,
            "count": 0
           },
           {
            "bin_start": 0.7607156819304802,
            "bin_end": 0.8404771212869868,
            "count": 0
           },
           {
            "bin_start": 0.8404771212869868,
            "bin_end": 0.9202385606434934,
            "count": 0
           },
           {
            "bin_start": 0.9202385606434934,
            "bin_end": 1,
            "count": 88
           }
          ]
         }
        },
        {
         "name": "29",
         "dtype": "float64",
         "stats": {
          "unique_count": 93,
          "nan_count": 0,
          "min": "0.2026262788419193",
          "max": "1.0",
          "histogram": [
           {
            "bin_start": 0.2026262788419193,
            "bin_end": 0.28236365095772736,
            "count": 4
           },
           {
            "bin_start": 0.28236365095772736,
            "bin_end": 0.3621010230735354,
            "count": 1
           },
           {
            "bin_start": 0.3621010230735354,
            "bin_end": 0.44183839518934354,
            "count": 0
           },
           {
            "bin_start": 0.44183839518934354,
            "bin_end": 0.5215757673051515,
            "count": 0
           },
           {
            "bin_start": 0.5215757673051515,
            "bin_end": 0.6013131394209597,
            "count": 0
           },
           {
            "bin_start": 0.6013131394209597,
            "bin_end": 0.6810505115367678,
            "count": 0
           },
           {
            "bin_start": 0.6810505115367678,
            "bin_end": 0.7607878836525758,
            "count": 0
           },
           {
            "bin_start": 0.7607878836525758,
            "bin_end": 0.8405252557683839,
            "count": 0
           },
           {
            "bin_start": 0.8405252557683839,
            "bin_end": 0.920262627884192,
            "count": 0
           },
           {
            "bin_start": 0.920262627884192,
            "bin_end": 1,
            "count": 88
           }
          ]
         }
        },
        {
         "name": "3",
         "dtype": "float64",
         "stats": {
          "unique_count": 93,
          "nan_count": 0,
          "min": "0.2033432794652532",
          "max": "1.0",
          "histogram": [
           {
            "bin_start": 0.2033432794652532,
            "bin_end": 0.2830089515187279,
            "count": 4
           },
           {
            "bin_start": 0.2830089515187279,
            "bin_end": 0.3626746235722026,
            "count": 1
           },
           {
            "bin_start": 0.3626746235722026,
            "bin_end": 0.4423402956256772,
            "count": 0
           },
           {
            "bin_start": 0.4423402956256772,
            "bin_end": 0.522005967679152,
            "count": 0
           },
           {
            "bin_start": 0.522005967679152,
            "bin_end": 0.6016716397326266,
            "count": 0
           },
           {
            "bin_start": 0.6016716397326266,
            "bin_end": 0.6813373117861012,
            "count": 0
           },
           {
            "bin_start": 0.6813373117861012,
            "bin_end": 0.761002983839576,
            "count": 0
           },
           {
            "bin_start": 0.761002983839576,
            "bin_end": 0.8406686558930506,
            "count": 0
           },
           {
            "bin_start": 0.8406686558930506,
            "bin_end": 0.9203343279465253,
            "count": 0
           },
           {
            "bin_start": 0.9203343279465253,
            "bin_end": 1,
            "count": 88
           }
          ]
         }
        },
        {
         "name": "30",
         "dtype": "float64",
         "stats": {
          "unique_count": 93,
          "nan_count": 0,
          "min": "0.20273666994265316",
          "max": "1.0",
          "histogram": [
           {
            "bin_start": 0.20273666994265316,
            "bin_end": 0.28246300294838783,
            "count": 4
           },
           {
            "bin_start": 0.28246300294838783,
            "bin_end": 0.3621893359541225,
            "count": 1
           },
           {
            "bin_start": 0.3621893359541225,
            "bin_end": 0.44191566895985723,
            "count": 0
           },
           {
            "bin_start": 0.44191566895985723,
            "bin_end": 0.5216420019655919,
            "count": 0
           },
           {
            "bin_start": 0.5216420019655919,
            "bin_end": 0.6013683349713266,
            "count": 0
           },
           {
            "bin_start": 0.6013683349713266,
            "bin_end": 0.6810946679770613,
            "count": 0
           },
           {
            "bin_start": 0.6810946679770613,
            "bin_end": 0.7608210009827959,
            "count": 0
           },
           {
            "bin_start": 0.7608210009827959,
            "bin_end": 0.8405473339885307,
            "count": 0
           },
           {
            "bin_start": 0.8405473339885307,
            "bin_end": 0.9202736669942654,
            "count": 0
           },
           {
            "bin_start": 0.9202736669942654,
            "bin_end": 1,
            "count": 88
           }
          ]
         }
        },
        {
         "name": "31",
         "dtype": "float64",
         "stats": {
          "unique_count": 93,
          "nan_count": 0,
          "min": "0.20252189858368708",
          "max": "1.0",
          "histogram": [
           {
            "bin_start": 0.20252189858368708,
            "bin_end": 0.28226970872531837,
            "count": 4
           },
           {
            "bin_start": 0.28226970872531837,
            "bin_end": 0.36201751886694966,
            "count": 1
           },
           {
            "bin_start": 0.36201751886694966,
            "bin_end": 0.44176532900858095,
            "count": 0
           },
           {
            "bin_start": 0.44176532900858095,
            "bin_end": 0.5215131391502122,
            "count": 0
           },
           {
            "bin_start": 0.5215131391502122,
            "bin_end": 0.6012609492918435,
            "count": 0
           },
           {
            "bin_start": 0.6012609492918435,
            "bin_end": 0.6810087594334748,
            "count": 0
           },
           {
            "bin_start": 0.6810087594334748,
            "bin_end": 0.7607565695751061,
            "count": 0
           },
           {
            "bin_start": 0.7607565695751061,
            "bin_end": 0.8405043797167374,
            "count": 0
           },
           {
            "bin_start": 0.8405043797167374,
            "bin_end": 0.9202521898583688,
            "count": 0
           },
           {
            "bin_start": 0.9202521898583688,
            "bin_end": 1,
            "count": 88
           }
          ]
         }
        },
        {
         "name": "4",
         "dtype": "float64",
         "stats": {
          "unique_count": 93,
          "nan_count": 0,
          "min": "0.20281977004152796",
          "max": "1.0",
          "histogram": [
           {
            "bin_start": 0.20281977004152796,
            "bin_end": 0.28253779303737514,
            "count": 4
           },
           {
            "bin_start": 0.28253779303737514,
            "bin_end": 0.3622558160332224,
            "count": 1
           },
           {
            "bin_start": 0.3622558160332224,
            "bin_end": 0.4419738390290696,
            "count": 0
           },
           {
            "bin_start": 0.4419738390290696,
            "bin_end": 0.5216918620249168,
            "count": 0
           },
           {
            "bin_start": 0.5216918620249168,
            "bin_end": 0.601409885020764,
            "count": 0
           },
           {
            "bin_start": 0.601409885020764,
            "bin_end": 0.6811279080166113,
            "count": 0
           },
           {
            "bin_start": 0.6811279080166113,
            "bin_end": 0.7608459310124585,
            "count": 0
           },
           {
            "bin_start": 0.7608459310124585,
            "bin_end": 0.8405639540083056,
            "count": 0
           },
           {
            "bin_start": 0.8405639540083056,
            "bin_end": 0.9202819770041528,
            "count": 0
           },
           {
            "bin_start": 0.9202819770041528,
            "bin_end": 1,
            "count": 88
           }
          ]
         }
        },
        {
         "name": "5",
         "dtype": "float64",
         "stats": {
          "unique_count": 93,
          "nan_count": 0,
          "min": "0.20336861716640187",
          "max": "1.0",
          "histogram": [
           {
            "bin_start": 0.20336861716640187,
            "bin_end": 0.28303175544976167,
            "count": 4
           },
           {
            "bin_start": 0.28303175544976167,
            "bin_end": 0.36269489373312147,
            "count": 1
           },
           {
            "bin_start": 0.36269489373312147,
            "bin_end": 0.44235803201648133,
            "count": 0
           },
           {
            "bin_start": 0.44235803201648133,
            "bin_end": 0.5220211702998412,
            "count": 0
           },
           {
            "bin_start": 0.5220211702998412,
            "bin_end": 0.6016843085832009,
            "count": 0
           },
           {
            "bin_start": 0.6016843085832009,
            "bin_end": 0.6813474468665608,
            "count": 0
           },
           {
            "bin_start": 0.6813474468665608,
            "bin_end": 0.7610105851499206,
            "count": 0
           },
           {
            "bin_start": 0.7610105851499206,
            "bin_end": 0.8406737234332804,
            "count": 0
           },
           {
            "bin_start": 0.8406737234332804,
            "bin_end": 0.9203368617166402,
            "count": 0
           },
           {
            "bin_start": 0.9203368617166402,
            "bin_end": 1,
            "count": 88
           }
          ]
         }
        },
        {
         "name": "559",
         "dtype": "float64",
         "stats": {
          "unique_count": 93,
          "nan_count": 0,
          "min": "0.017212012855926218",
          "max": "1.0",
          "histogram": [
           {
            "bin_start": 0.017212012855926218,
            "bin_end": 0.1154908115703336,
            "count": 2
           },
           {
            "bin_start": 0.1154908115703336,
            "bin_end": 0.21376961028474098,
            "count": 2
           },
           {
            "bin_start": 0.21376961028474098,
            "bin_end": 0.3120484089991484,
            "count": 56
           },
           {
            "bin_start": 0.3120484089991484,
            "bin_end": 0.41032720771355574,
            "count": 32
           },
           {
            "bin_start": 0.41032720771355574,
            "bin_end": 0.5086060064279632,
            "count": 0
           },
           {
            "bin_start": 0.5086060064279632,
            "bin_end": 0.6068848051423705,
            "count": 0
           },
           {
            "bin_start": 0.6068848051423705,
            "bin_end": 0.7051636038567779,
            "count": 0
           },
           {
            "bin_start": 0.7051636038567779,
            "bin_end": 0.8034424025711853,
            "count": 0
           },
           {
            "bin_start": 0.8034424025711853,
            "bin_end": 0.9017212012855926,
            "count": 0
           },
           {
            "bin_start": 0.9017212012855926,
            "bin_end": 1,
            "count": 1
           }
          ]
         }
        },
        {
         "name": "560",
         "dtype": "float64",
         "stats": {
          "unique_count": 93,
          "nan_count": 0,
          "min": "0.2032141589057741",
          "max": "1.0",
          "histogram": [
           {
            "bin_start": 0.2032141589057741,
            "bin_end": 0.2828927430151967,
            "count": 3
           },
           {
            "bin_start": 0.2828927430151967,
            "bin_end": 0.36257132712461926,
            "count": 1
           },
           {
            "bin_start": 0.36257132712461926,
            "bin_end": 0.4422499112340419,
            "count": 1
           },
           {
            "bin_start": 0.4422499112340419,
            "bin_end": 0.5219284953434644,
            "count": 0
           },
           {
            "bin_start": 0.5219284953434644,
            "bin_end": 0.601607079452887,
            "count": 0
           },
           {
            "bin_start": 0.601607079452887,
            "bin_end": 0.6812856635623097,
            "count": 0
           },
           {
            "bin_start": 0.6812856635623097,
            "bin_end": 0.7609642476717322,
            "count": 0
           },
           {
            "bin_start": 0.7609642476717322,
            "bin_end": 0.8406428317811548,
            "count": 0
           },
           {
            "bin_start": 0.8406428317811548,
            "bin_end": 0.9203214158905775,
            "count": 0
           },
           {
            "bin_start": 0.9203214158905775,
            "bin_end": 1,
            "count": 88
           }
          ]
         }
        },
        {
         "name": "561",
         "dtype": "float64",
         "stats": {
          "unique_count": 93,
          "nan_count": 0,
          "min": "0.20400697985078864",
          "max": "1.0",
          "histogram": [
           {
            "bin_start": 0.20400697985078864,
            "bin_end": 0.2836062818657098,
            "count": 3
           },
           {
            "bin_start": 0.2836062818657098,
            "bin_end": 0.3632055838806309,
            "count": 1
           },
           {
            "bin_start": 0.3632055838806309,
            "bin_end": 0.442804885895552,
            "count": 1
           },
           {
            "bin_start": 0.442804885895552,
            "bin_end": 0.5224041879104732,
            "count": 0
           },
           {
            "bin_start": 0.5224041879104732,
            "bin_end": 0.6020034899253943,
            "count": 0
           },
           {
            "bin_start": 0.6020034899253943,
            "bin_end": 0.6816027919403154,
            "count": 0
           },
           {
            "bin_start": 0.6816027919403154,
            "bin_end": 0.7612020939552365,
            "count": 0
           },
           {
            "bin_start": 0.7612020939552365,
            "bin_end": 0.8408013959701577,
            "count": 0
           },
           {
            "bin_start": 0.8408013959701577,
            "bin_end": 0.9204006979850788,
            "count": 0
           },
           {
            "bin_start": 0.9204006979850788,
            "bin_end": 1,
            "count": 88
           }
          ]
         }
        },
        {
         "name": "562",
         "dtype": "float64",
         "stats": {
          "unique_count": 93,
          "nan_count": 0,
          "min": "0.20313489922420747",
          "max": "1.0",
          "histogram": [
           {
            "bin_start": 0.20313489922420747,
            "bin_end": 0.28282140930178673,
            "count": 3
           },
           {
            "bin_start": 0.28282140930178673,
            "bin_end": 0.362507919379366,
            "count": 1
           },
           {
            "bin_start": 0.362507919379366,
            "bin_end": 0.4421944294569452,
            "count": 1
           },
           {
            "bin_start": 0.4421944294569452,
            "bin_end": 0.5218809395345245,
            "count": 0
           },
           {
            "bin_start": 0.5218809395345245,
            "bin_end": 0.6015674496121037,
            "count": 0
           },
           {
            "bin_start": 0.6015674496121037,
            "bin_end": 0.6812539596896829,
            "count": 0
           },
           {
            "bin_start": 0.6812539596896829,
            "bin_end": 0.7609404697672623,
            "count": 0
           },
           {
            "bin_start": 0.7609404697672623,
            "bin_end": 0.8406269798448415,
            "count": 0
           },
           {
            "bin_start": 0.8406269798448415,
            "bin_end": 0.9203134899224207,
            "count": 0
           },
           {
            "bin_start": 0.9203134899224207,
            "bin_end": 1,
            "count": 88
           }
          ]
         }
        },
        {
         "name": "563",
         "dtype": "float64",
         "stats": {
          "unique_count": 93,
          "nan_count": 0,
          "min": "0.20295007111236807",
          "max": "1.0",
          "histogram": [
           {
            "bin_start": 0.20295007111236807,
            "bin_end": 0.2826550640011313,
            "count": 3
           },
           {
            "bin_start": 0.2826550640011313,
            "bin_end": 0.3623600568898945,
            "count": 1
           },
           {
            "bin_start": 0.3623600568898945,
            "bin_end": 0.4420650497786576,
            "count": 1
           },
           {
            "bin_start": 0.4420650497786576,
            "bin_end": 0.5217700426674208,
            "count": 0
           },
           {
            "bin_start": 0.5217700426674208,
            "bin_end": 0.601475035556184,
            "count": 0
           },
           {
            "bin_start": 0.601475035556184,
            "bin_end": 0.6811800284449472,
            "count": 0
           },
           {
            "bin_start": 0.6811800284449472,
            "bin_end": 0.7608850213337104,
            "count": 0
           },
           {
            "bin_start": 0.7608850213337104,
            "bin_end": 0.8405900142224736,
            "count": 0
           },
           {
            "bin_start": 0.8405900142224736,
            "bin_end": 0.9202950071112368,
            "count": 0
           },
           {
            "bin_start": 0.9202950071112368,
            "bin_end": 1,
            "count": 88
           }
          ]
         }
        },
        {
         "name": "564",
         "dtype": "float64",
         "stats": {
          "unique_count": 93,
          "nan_count": 0,
          "min": "0.2027974972783404",
          "max": "1.0",
          "histogram": [
           {
            "bin_start": 0.2027974972783404,
            "bin_end": 0.28251774755050635,
            "count": 3
           },
           {
            "bin_start": 0.28251774755050635,
            "bin_end": 0.3622379978226723,
            "count": 1
           },
           {
            "bin_start": 0.3622379978226723,
            "bin_end": 0.4419582480948383,
            "count": 1
           },
           {
            "bin_start": 0.4419582480948383,
            "bin_end": 0.5216784983670042,
            "count": 0
           },
           {
            "bin_start": 0.5216784983670042,
            "bin_end": 0.6013987486391702,
            "count": 0
           },
           {
            "bin_start": 0.6013987486391702,
            "bin_end": 0.6811189989113362,
            "count": 0
           },
           {
            "bin_start": 0.6811189989113362,
            "bin_end": 0.7608392491835021,
            "count": 0
           },
           {
            "bin_start": 0.7608392491835021,
            "bin_end": 0.8405594994556681,
            "count": 0
           },
           {
            "bin_start": 0.8405594994556681,
            "bin_end": 0.9202797497278341,
            "count": 0
           },
           {
            "bin_start": 0.9202797497278341,
            "bin_end": 1,
            "count": 88
           }
          ]
         }
        },
        {
         "name": "565",
         "dtype": "float64",
         "stats": {
          "unique_count": 93,
          "nan_count": 0,
          "min": "0.20355667329462312",
          "max": "1.0",
          "histogram": [
           {
            "bin_start": 0.20355667329462312,
            "bin_end": 0.28320100596516085,
            "count": 3
           },
           {
            "bin_start": 0.28320100596516085,
            "bin_end": 0.3628453386356985,
            "count": 1
           },
           {
            "bin_start": 0.3628453386356985,
            "bin_end": 0.4424896713062362,
            "count": 1
           },
           {
            "bin_start": 0.4424896713062362,
            "bin_end": 0.5221340039767739,
            "count": 0
           },
           {
            "bin_start": 0.5221340039767739,
            "bin_end": 0.6017783366473116,
            "count": 0
           },
           {
            "bin_start": 0.6017783366473116,
            "bin_end": 0.6814226693178493,
            "count": 0
           },
           {
            "bin_start": 0.6814226693178493,
            "bin_end": 0.761067001988387,
            "count": 0
           },
           {
            "bin_start": 0.761067001988387,
            "bin_end": 0.8407113346589247,
            "count": 0
           },
           {
            "bin_start": 0.8407113346589247,
            "bin_end": 0.9203556673294624,
            "count": 0
           },
           {
            "bin_start": 0.9203556673294624,
            "bin_end": 1,
            "count": 88
           }
          ]
         }
        },
        {
         "name": "566",
         "dtype": "float64",
         "stats": {
          "unique_count": 93,
          "nan_count": 0,
          "min": "0.20316884617412145",
          "max": "1.0",
          "histogram": [
           {
            "bin_start": 0.20316884617412145,
            "bin_end": 0.28285196155670933,
            "count": 3
           },
           {
            "bin_start": 0.28285196155670933,
            "bin_end": 0.36253507693929715,
            "count": 1
           },
           {
            "bin_start": 0.36253507693929715,
            "bin_end": 0.442218192321885,
            "count": 1
           },
           {
            "bin_start": 0.442218192321885,
            "bin_end": 0.5219013077044728,
            "count": 0
           },
           {
            "bin_start": 0.5219013077044728,
            "bin_end": 0.6015844230870607,
            "count": 0
           },
           {
            "bin_start": 0.6015844230870607,
            "bin_end": 0.6812675384696485,
            "count": 0
           },
           {
            "bin_start": 0.6812675384696485,
            "bin_end": 0.7609506538522364,
            "count": 0
           },
           {
            "bin_start": 0.7609506538522364,
            "bin_end": 0.8406337692348242,
            "count": 0
           },
           {
            "bin_start": 0.8406337692348242,
            "bin_end": 0.9203168846174121,
            "count": 0
           },
           {
            "bin_start": 0.9203168846174121,
            "bin_end": 1,
            "count": 88
           }
          ]
         }
        },
        {
         "name": "567",
         "dtype": "float64",
         "stats": {
          "unique_count": 93,
          "nan_count": 0,
          "min": "0.20286566129017358",
          "max": "1.0",
          "histogram": [
           {
            "bin_start": 0.20286566129017358,
            "bin_end": 0.2825790951611562,
            "count": 3
           },
           {
            "bin_start": 0.2825790951611562,
            "bin_end": 0.3622925290321389,
            "count": 1
           },
           {
            "bin_start": 0.3622925290321389,
            "bin_end": 0.44200596290312155,
            "count": 1
           },
           {
            "bin_start": 0.44200596290312155,
            "bin_end": 0.5217193967741042,
            "count": 0
           },
           {
            "bin_start": 0.5217193967741042,
            "bin_end": 0.6014328306450868,
            "count": 0
           },
           {
            "bin_start": 0.6014328306450868,
            "bin_end": 0.6811462645160695,
            "count": 0
           },
           {
            "bin_start": 0.6811462645160695,
            "bin_end": 0.7608596983870521,
            "count": 0
           },
           {
            "bin_start": 0.7608596983870521,
            "bin_end": 0.8405731322580348,
            "count": 0
           },
           {
            "bin_start": 0.8405731322580348,
            "bin_end": 0.9202865661290174,
            "count": 0
           },
           {
            "bin_start": 0.9202865661290174,
            "bin_end": 1,
            "count": 88
           }
          ]
         }
        },
        {
         "name": "568",
         "dtype": "float64",
         "stats": {
          "unique_count": 93,
          "nan_count": 0,
          "min": "0.20294611266108342",
          "max": "1.0",
          "histogram": [
           {
            "bin_start": 0.20294611266108342,
            "bin_end": 0.2826515013949751,
            "count": 3
           },
           {
            "bin_start": 0.2826515013949751,
            "bin_end": 0.36235689012886674,
            "count": 1
           },
           {
            "bin_start": 0.36235689012886674,
            "bin_end": 0.4420622788627584,
            "count": 1
           },
           {
            "bin_start": 0.4420622788627584,
            "bin_end": 0.52176766759665,
            "count": 0
           },
           {
            "bin_start": 0.52176766759665,
            "bin_end": 0.6014730563305417,
            "count": 0
           },
           {
            "bin_start": 0.6014730563305417,
            "bin_end": 0.6811784450644334,
            "count": 0
           },
           {
            "bin_start": 0.6811784450644334,
            "bin_end": 0.760883833798325,
            "count": 0
           },
           {
            "bin_start": 0.760883833798325,
            "bin_end": 0.8405892225322167,
            "count": 0
           },
           {
            "bin_start": 0.8405892225322167,
            "bin_end": 0.9202946112661083,
            "count": 0
           },
           {
            "bin_start": 0.9202946112661083,
            "bin_end": 1,
            "count": 88
           }
          ]
         }
        },
        {
         "name": "569",
         "dtype": "float64",
         "stats": {
          "unique_count": 93,
          "nan_count": 0,
          "min": "0.20303681658091455",
          "max": "1.0",
          "histogram": [
           {
            "bin_start": 0.20303681658091455,
            "bin_end": 0.2827331349228231,
            "count": 3
           },
           {
            "bin_start": 0.2827331349228231,
            "bin_end": 0.36242945326473164,
            "count": 1
           },
           {
            "bin_start": 0.36242945326473164,
            "bin_end": 0.4421257716066402,
            "count": 1
           },
           {
            "bin_start": 0.4421257716066402,
            "bin_end": 0.5218220899485487,
            "count": 0
           },
           {
            "bin_start": 0.5218220899485487,
            "bin_end": 0.6015184082904572,
            "count": 0
           },
           {
            "bin_start": 0.6015184082904572,
            "bin_end": 0.6812147266323658,
            "count": 0
           },
           {
            "bin_start": 0.6812147266323658,
            "bin_end": 0.7609110449742743,
            "count": 0
           },
           {
            "bin_start": 0.7609110449742743,
            "bin_end": 0.8406073633161829,
            "count": 0
           },
           {
            "bin_start": 0.8406073633161829,
            "bin_end": 0.9203036816580915,
            "count": 0
           },
           {
            "bin_start": 0.9203036816580915,
            "bin_end": 1,
            "count": 88
           }
          ]
         }
        },
        {
         "name": "570",
         "dtype": "float64",
         "stats": {
          "unique_count": 93,
          "nan_count": 0,
          "min": "0.2024929441620753",
          "max": "1.0",
          "histogram": [
           {
            "bin_start": 0.2024929441620753,
            "bin_end": 0.2822436497458678,
            "count": 3
           },
           {
            "bin_start": 0.2822436497458678,
            "bin_end": 0.36199435532966023,
            "count": 1
           },
           {
            "bin_start": 0.36199435532966023,
            "bin_end": 0.44174506091345267,
            "count": 1
           },
           {
            "bin_start": 0.44174506091345267,
            "bin_end": 0.5214957664972452,
            "count": 0
           },
           {
            "bin_start": 0.5214957664972452,
            "bin_end": 0.6012464720810377,
            "count": 0
           },
           {
            "bin_start": 0.6012464720810377,
            "bin_end": 0.68099717766483,
            "count": 0
           },
           {
            "bin_start": 0.68099717766483,
            "bin_end": 0.7607478832486225,
            "count": 0
           },
           {
            "bin_start": 0.7607478832486225,
            "bin_end": 0.840498588832415,
            "count": 0
           },
           {
            "bin_start": 0.840498588832415,
            "bin_end": 0.9202492944162075,
            "count": 0
           },
           {
            "bin_start": 0.9202492944162075,
            "bin_end": 1,
            "count": 88
           }
          ]
         }
        },
        {
         "name": "571",
         "dtype": "float64",
         "stats": {
          "unique_count": 93,
          "nan_count": 0,
          "min": "0.20320462114553894",
          "max": "1.0",
          "histogram": [
           {
            "bin_start": 0.20320462114553894,
            "bin_end": 0.28288415903098507,
            "count": 3
           },
           {
            "bin_start": 0.28288415903098507,
            "bin_end": 0.36256369691643114,
            "count": 1
           },
           {
            "bin_start": 0.36256369691643114,
            "bin_end": 0.4422432348018772,
            "count": 1
           },
           {
            "bin_start": 0.4422432348018772,
            "bin_end": 0.5219227726873233,
            "count": 0
           },
           {
            "bin_start": 0.5219227726873233,
            "bin_end": 0.6016023105727695,
            "count": 0
           },
           {
            "bin_start": 0.6016023105727695,
            "bin_end": 0.6812818484582155,
            "count": 0
           },
           {
            "bin_start": 0.6812818484582155,
            "bin_end": 0.7609613863436616,
            "count": 0
           },
           {
            "bin_start": 0.7609613863436616,
            "bin_end": 0.8406409242291077,
            "count": 0
           },
           {
            "bin_start": 0.8406409242291077,
            "bin_end": 0.9203204621145539,
            "count": 0
           },
           {
            "bin_start": 0.9203204621145539,
            "bin_end": 1,
            "count": 88
           }
          ]
         }
        },
        {
         "name": "572",
         "dtype": "float64",
         "stats": {
          "unique_count": 93,
          "nan_count": 0,
          "min": "0.20266700959018058",
          "max": "1.0",
          "histogram": [
           {
            "bin_start": 0.20266700959018058,
            "bin_end": 0.2824003086311625,
            "count": 3
           },
           {
            "bin_start": 0.2824003086311625,
            "bin_end": 0.3621336076721445,
            "count": 1
           },
           {
            "bin_start": 0.3621336076721445,
            "bin_end": 0.44186690671312645,
            "count": 1
           },
           {
            "bin_start": 0.44186690671312645,
            "bin_end": 0.5216002057541084,
            "count": 0
           },
           {
            "bin_start": 0.5216002057541084,
            "bin_end": 0.6013335047950903,
            "count": 0
           },
           {
            "bin_start": 0.6013335047950903,
            "bin_end": 0.6810668038360723,
            "count": 0
           },
           {
            "bin_start": 0.6810668038360723,
            "bin_end": 0.7608001028770542,
            "count": 0
           },
           {
            "bin_start": 0.7608001028770542,
            "bin_end": 0.8405334019180362,
            "count": 0
           },
           {
            "bin_start": 0.8405334019180362,
            "bin_end": 0.9202667009590181,
            "count": 0
           },
           {
            "bin_start": 0.9202667009590181,
            "bin_end": 1,
            "count": 88
           }
          ]
         }
        },
        {
         "name": "573",
         "dtype": "float64",
         "stats": {
          "unique_count": 93,
          "nan_count": 0,
          "min": "0.2026165389000938",
          "max": "1.0",
          "histogram": [
           {
            "bin_start": 0.2026165389000938,
            "bin_end": 0.28235488501008443,
            "count": 3
           },
           {
            "bin_start": 0.28235488501008443,
            "bin_end": 0.362093231120075,
            "count": 1
           },
           {
            "bin_start": 0.362093231120075,
            "bin_end": 0.4418315772300656,
            "count": 1
           },
           {
            "bin_start": 0.4418315772300656,
            "bin_end": 0.5215699233400563,
            "count": 0
           },
           {
            "bin_start": 0.5215699233400563,
            "bin_end": 0.6013082694500469,
            "count": 0
           },
           {
            "bin_start": 0.6013082694500469,
            "bin_end": 0.6810466155600374,
            "count": 0
           },
           {
            "bin_start": 0.6810466155600374,
            "bin_end": 0.7607849616700281,
            "count": 0
           },
           {
            "bin_start": 0.7607849616700281,
            "bin_end": 0.8405233077800187,
            "count": 0
           },
           {
            "bin_start": 0.8405233077800187,
            "bin_end": 0.9202616538900094,
            "count": 0
           },
           {
            "bin_start": 0.9202616538900094,
            "bin_end": 1,
            "count": 88
           }
          ]
         }
        },
        {
         "name": "574",
         "dtype": "float64",
         "stats": {
          "unique_count": 93,
          "nan_count": 0,
          "min": "0.20283476735337735",
          "max": "1.0",
          "histogram": [
           {
            "bin_start": 0.20283476735337735,
            "bin_end": 0.28255129061803963,
            "count": 3
           },
           {
            "bin_start": 0.28255129061803963,
            "bin_end": 0.3622678138827019,
            "count": 1
           },
           {
            "bin_start": 0.3622678138827019,
            "bin_end": 0.4419843371473641,
            "count": 1
           },
           {
            "bin_start": 0.4419843371473641,
            "bin_end": 0.5217008604120263,
            "count": 0
           },
           {
            "bin_start": 0.5217008604120263,
            "bin_end": 0.6014173836766887,
            "count": 0
           },
           {
            "bin_start": 0.6014173836766887,
            "bin_end": 0.6811339069413509,
            "count": 0
           },
           {
            "bin_start": 0.6811339069413509,
            "bin_end": 0.7608504302060132,
            "count": 0
           },
           {
            "bin_start": 0.7608504302060132,
            "bin_end": 0.8405669534706754,
            "count": 0
           },
           {
            "bin_start": 0.8405669534706754,
            "bin_end": 0.9202834767353377,
            "count": 0
           },
           {
            "bin_start": 0.9202834767353377,
            "bin_end": 1,
            "count": 88
           }
          ]
         }
        },
        {
         "name": "575",
         "dtype": "float64",
         "stats": {
          "unique_count": 93,
          "nan_count": 0,
          "min": "0.20277629842212563",
          "max": "1.0",
          "histogram": [
           {
            "bin_start": 0.20277629842212563,
            "bin_end": 0.28249866857991307,
            "count": 3
           },
           {
            "bin_start": 0.28249866857991307,
            "bin_end": 0.3622210387377005,
            "count": 1
           },
           {
            "bin_start": 0.3622210387377005,
            "bin_end": 0.44194340889548794,
            "count": 1
           },
           {
            "bin_start": 0.44194340889548794,
            "bin_end": 0.5216657790532754,
            "count": 0
           },
           {
            "bin_start": 0.5216657790532754,
            "bin_end": 0.6013881492110629,
            "count": 0
           },
           {
            "bin_start": 0.6013881492110629,
            "bin_end": 0.6811105193688503,
            "count": 0
           },
           {
            "bin_start": 0.6811105193688503,
            "bin_end": 0.7608328895266377,
            "count": 0
           },
           {
            "bin_start": 0.7608328895266377,
            "bin_end": 0.8405552596844251,
            "count": 0
           },
           {
            "bin_start": 0.8405552596844251,
            "bin_end": 0.9202776298422125,
            "count": 0
           },
           {
            "bin_start": 0.9202776298422125,
            "bin_end": 1,
            "count": 88
           }
          ]
         }
        },
        {
         "name": "576",
         "dtype": "float64",
         "stats": {
          "unique_count": 92,
          "nan_count": 0,
          "min": "0.0",
          "max": "1.0",
          "histogram": [
           {
            "bin_start": 0,
            "bin_end": 0.1,
            "count": 2
           },
           {
            "bin_start": 0.1,
            "bin_end": 0.2,
            "count": 2
           },
           {
            "bin_start": 0.2,
            "bin_end": 0.30000000000000004,
            "count": 72
           },
           {
            "bin_start": 0.30000000000000004,
            "bin_end": 0.4,
            "count": 16
           },
           {
            "bin_start": 0.4,
            "bin_end": 0.5,
            "count": 0
           },
           {
            "bin_start": 0.5,
            "bin_end": 0.6000000000000001,
            "count": 0
           },
           {
            "bin_start": 0.6000000000000001,
            "bin_end": 0.7000000000000001,
            "count": 0
           },
           {
            "bin_start": 0.7000000000000001,
            "bin_end": 0.8,
            "count": 0
           },
           {
            "bin_start": 0.8,
            "bin_end": 0.9,
            "count": 0
           },
           {
            "bin_start": 0.9,
            "bin_end": 1,
            "count": 1
           }
          ]
         }
        },
        {
         "name": "577",
         "dtype": "float64",
         "stats": {
          "unique_count": 93,
          "nan_count": 0,
          "min": "0.21761714738617077",
          "max": "1.0",
          "histogram": [
           {
            "bin_start": 0.21761714738617077,
            "bin_end": 0.2958554326475537,
            "count": 2
           },
           {
            "bin_start": 0.2958554326475537,
            "bin_end": 0.37409371790893664,
            "count": 1
           },
           {
            "bin_start": 0.37409371790893664,
            "bin_end": 0.4523320031703195,
            "count": 2
           },
           {
            "bin_start": 0.4523320031703195,
            "bin_end": 0.5305702884317025,
            "count": 0
           },
           {
            "bin_start": 0.5305702884317025,
            "bin_end": 0.6088085736930854,
            "count": 0
           },
           {
            "bin_start": 0.6088085736930854,
            "bin_end": 0.6870468589544683,
            "count": 0
           },
           {
            "bin_start": 0.6870468589544683,
            "bin_end": 0.7652851442158513,
            "count": 0
           },
           {
            "bin_start": 0.7652851442158513,
            "bin_end": 0.8435234294772341,
            "count": 0
           },
           {
            "bin_start": 0.8435234294772341,
            "bin_end": 0.921761714738617,
            "count": 0
           },
           {
            "bin_start": 0.921761714738617,
            "bin_end": 1,
            "count": 88
           }
          ]
         }
        },
        {
         "name": "578",
         "dtype": "float64",
         "stats": {
          "unique_count": 93,
          "nan_count": 0,
          "min": "0.21683391942276842",
          "max": "1.0",
          "histogram": [
           {
            "bin_start": 0.21683391942276842,
            "bin_end": 0.2951505274804916,
            "count": 2
           },
           {
            "bin_start": 0.2951505274804916,
            "bin_end": 0.37346713553821476,
            "count": 1
           },
           {
            "bin_start": 0.37346713553821476,
            "bin_end": 0.45178374359593787,
            "count": 2
           },
           {
            "bin_start": 0.45178374359593787,
            "bin_end": 0.5301003516536611,
            "count": 0
           },
           {
            "bin_start": 0.5301003516536611,
            "bin_end": 0.6084169597113842,
            "count": 0
           },
           {
            "bin_start": 0.6084169597113842,
            "bin_end": 0.6867335677691073,
            "count": 0
           },
           {
            "bin_start": 0.6867335677691073,
            "bin_end": 0.7650501758268305,
            "count": 0
           },
           {
            "bin_start": 0.7650501758268305,
            "bin_end": 0.8433667838845537,
            "count": 0
           },
           {
            "bin_start": 0.8433667838845537,
            "bin_end": 0.9216833919422768,
            "count": 0
           },
           {
            "bin_start": 0.9216833919422768,
            "bin_end": 1,
            "count": 88
           }
          ]
         }
        },
        {
         "name": "579",
         "dtype": "float64",
         "stats": {
          "unique_count": 93,
          "nan_count": 0,
          "min": "0.22396025963891364",
          "max": "1.0",
          "histogram": [
           {
            "bin_start": 0.22396025963891364,
            "bin_end": 0.3015642336750223,
            "count": 2
           },
           {
            "bin_start": 0.3015642336750223,
            "bin_end": 0.3791682077111309,
            "count": 1
           },
           {
            "bin_start": 0.3791682077111309,
            "bin_end": 0.45677218174723955,
            "count": 2
           },
           {
            "bin_start": 0.45677218174723955,
            "bin_end": 0.5343761557833482,
            "count": 0
           },
           {
            "bin_start": 0.5343761557833482,
            "bin_end": 0.6119801298194568,
            "count": 0
           },
           {
            "bin_start": 0.6119801298194568,
            "bin_end": 0.6895841038555655,
            "count": 0
           },
           {
            "bin_start": 0.6895841038555655,
            "bin_end": 0.7671880778916741,
            "count": 0
           },
           {
            "bin_start": 0.7671880778916741,
            "bin_end": 0.8447920519277827,
            "count": 0
           },
           {
            "bin_start": 0.8447920519277827,
            "bin_end": 0.9223960259638914,
            "count": 0
           },
           {
            "bin_start": 0.9223960259638914,
            "bin_end": 1,
            "count": 88
           }
          ]
         }
        },
        {
         "name": "580",
         "dtype": "float64",
         "stats": {
          "unique_count": 93,
          "nan_count": 0,
          "min": "0.2164877854685946",
          "max": "1.0",
          "histogram": [
           {
            "bin_start": 0.2164877854685946,
            "bin_end": 0.29483900692173515,
            "count": 2
           },
           {
            "bin_start": 0.29483900692173515,
            "bin_end": 0.3731902283748757,
            "count": 1
           },
           {
            "bin_start": 0.3731902283748757,
            "bin_end": 0.4515414498280162,
            "count": 2
           },
           {
            "bin_start": 0.4515414498280162,
            "bin_end": 0.5298926712811567,
            "count": 0
           },
           {
            "bin_start": 0.5298926712811567,
            "bin_end": 0.6082438927342972,
            "count": 0
           },
           {
            "bin_start": 0.6082438927342972,
            "bin_end": 0.6865951141874378,
            "count": 0
           },
           {
            "bin_start": 0.6865951141874378,
            "bin_end": 0.7649463356405783,
            "count": 0
           },
           {
            "bin_start": 0.7649463356405783,
            "bin_end": 0.8432975570937189,
            "count": 0
           },
           {
            "bin_start": 0.8432975570937189,
            "bin_end": 0.9216487785468594,
            "count": 0
           },
           {
            "bin_start": 0.9216487785468594,
            "bin_end": 1,
            "count": 88
           }
          ]
         }
        },
        {
         "name": "581",
         "dtype": "float64",
         "stats": {
          "unique_count": 93,
          "nan_count": 0,
          "min": "0.2160885682386715",
          "max": "1.0",
          "histogram": [
           {
            "bin_start": 0.2160885682386715,
            "bin_end": 0.29447971141480433,
            "count": 2
           },
           {
            "bin_start": 0.29447971141480433,
            "bin_end": 0.3728708545909372,
            "count": 1
           },
           {
            "bin_start": 0.3728708545909372,
            "bin_end": 0.4512619977670701,
            "count": 2
           },
           {
            "bin_start": 0.4512619977670701,
            "bin_end": 0.5296531409432029,
            "count": 0
           },
           {
            "bin_start": 0.5296531409432029,
            "bin_end": 0.6080442841193358,
            "count": 0
           },
           {
            "bin_start": 0.6080442841193358,
            "bin_end": 0.6864354272954687,
            "count": 0
           },
           {
            "bin_start": 0.6864354272954687,
            "bin_end": 0.7648265704716015,
            "count": 0
           },
           {
            "bin_start": 0.7648265704716015,
            "bin_end": 0.8432177136477343,
            "count": 0
           },
           {
            "bin_start": 0.8432177136477343,
            "bin_end": 0.9216088568238672,
            "count": 0
           },
           {
            "bin_start": 0.9216088568238672,
            "bin_end": 1,
            "count": 88
           }
          ]
         }
        },
        {
         "name": "582",
         "dtype": "float64",
         "stats": {
          "unique_count": 93,
          "nan_count": 0,
          "min": "0.21537036698609224",
          "max": "1.0",
          "histogram": [
           {
            "bin_start": 0.21537036698609224,
            "bin_end": 0.29383333028748304,
            "count": 2
           },
           {
            "bin_start": 0.29383333028748304,
            "bin_end": 0.3722962935888738,
            "count": 1
           },
           {
            "bin_start": 0.3722962935888738,
            "bin_end": 0.4507592568902645,
            "count": 2
           },
           {
            "bin_start": 0.4507592568902645,
            "bin_end": 0.5292222201916553,
            "count": 0
           },
           {
            "bin_start": 0.5292222201916553,
            "bin_end": 0.6076851834930461,
            "count": 0
           },
           {
            "bin_start": 0.6076851834930461,
            "bin_end": 0.6861481467944368,
            "count": 0
           },
           {
            "bin_start": 0.6861481467944368,
            "bin_end": 0.7646111100958276,
            "count": 0
           },
           {
            "bin_start": 0.7646111100958276,
            "bin_end": 0.8430740733972184,
            "count": 0
           },
           {
            "bin_start": 0.8430740733972184,
            "bin_end": 0.9215370366986092,
            "count": 0
           },
           {
            "bin_start": 0.9215370366986092,
            "bin_end": 1,
            "count": 88
           }
          ]
         }
        },
        {
         "name": "583",
         "dtype": "float64",
         "stats": {
          "unique_count": 93,
          "nan_count": 0,
          "min": "0.21654011177163346",
          "max": "1.0",
          "histogram": [
           {
            "bin_start": 0.21654011177163346,
            "bin_end": 0.2948861005944701,
            "count": 2
           },
           {
            "bin_start": 0.2948861005944701,
            "bin_end": 0.3732320894173068,
            "count": 1
           },
           {
            "bin_start": 0.3732320894173068,
            "bin_end": 0.4515780782401434,
            "count": 2
           },
           {
            "bin_start": 0.4515780782401434,
            "bin_end": 0.5299240670629801,
            "count": 0
           },
           {
            "bin_start": 0.5299240670629801,
            "bin_end": 0.6082700558858167,
            "count": 0
           },
           {
            "bin_start": 0.6082700558858167,
            "bin_end": 0.6866160447086533,
            "count": 0
           },
           {
            "bin_start": 0.6866160447086533,
            "bin_end": 0.7649620335314901,
            "count": 0
           },
           {
            "bin_start": 0.7649620335314901,
            "bin_end": 0.8433080223543267,
            "count": 0
           },
           {
            "bin_start": 0.8433080223543267,
            "bin_end": 0.9216540111771633,
            "count": 0
           },
           {
            "bin_start": 0.9216540111771633,
            "bin_end": 1,
            "count": 88
           }
          ]
         }
        },
        {
         "name": "584",
         "dtype": "float64",
         "stats": {
          "unique_count": 93,
          "nan_count": 0,
          "min": "0.2169200460381253",
          "max": "1.0",
          "histogram": [
           {
            "bin_start": 0.2169200460381253,
            "bin_end": 0.2952280414343128,
            "count": 2
           },
           {
            "bin_start": 0.2952280414343128,
            "bin_end": 0.37353603683050024,
            "count": 1
           },
           {
            "bin_start": 0.37353603683050024,
            "bin_end": 0.4518440322266877,
            "count": 2
           },
           {
            "bin_start": 0.4518440322266877,
            "bin_end": 0.5301520276228752,
            "count": 0
           },
           {
            "bin_start": 0.5301520276228752,
            "bin_end": 0.6084600230190627,
            "count": 0
           },
           {
            "bin_start": 0.6084600230190627,
            "bin_end": 0.68676801841525,
            "count": 0
           },
           {
            "bin_start": 0.68676801841525,
            "bin_end": 0.7650760138114375,
            "count": 0
           },
           {
            "bin_start": 0.7650760138114375,
            "bin_end": 0.843384009207625,
            "count": 0
           },
           {
            "bin_start": 0.843384009207625,
            "bin_end": 0.9216920046038125,
            "count": 0
           },
           {
            "bin_start": 0.9216920046038125,
            "bin_end": 1,
            "count": 88
           }
          ]
         }
        },
        {
         "name": "585",
         "dtype": "float64",
         "stats": {
          "unique_count": 93,
          "nan_count": 0,
          "min": "0.21520146735865653",
          "max": "1.0",
          "histogram": [
           {
            "bin_start": 0.21520146735865653,
            "bin_end": 0.29368132062279084,
            "count": 2
           },
           {
            "bin_start": 0.29368132062279084,
            "bin_end": 0.3721611738869252,
            "count": 1
           },
           {
            "bin_start": 0.3721611738869252,
            "bin_end": 0.4506410271510596,
            "count": 2
           },
           {
            "bin_start": 0.4506410271510596,
            "bin_end": 0.5291208804151939,
            "count": 0
           },
           {
            "bin_start": 0.5291208804151939,
            "bin_end": 0.6076007336793282,
            "count": 0
           },
           {
            "bin_start": 0.6076007336793282,
            "bin_end": 0.6860805869434625,
            "count": 0
           },
           {
            "bin_start": 0.6860805869434625,
            "bin_end": 0.764560440207597,
            "count": 0
           },
           {
            "bin_start": 0.764560440207597,
            "bin_end": 0.8430402934717313,
            "count": 0
           },
           {
            "bin_start": 0.8430402934717313,
            "bin_end": 0.9215201467358656,
            "count": 0
           },
           {
            "bin_start": 0.9215201467358656,
            "bin_end": 1,
            "count": 88
           }
          ]
         }
        },
        {
         "name": "586",
         "dtype": "float64",
         "stats": {
          "unique_count": 93,
          "nan_count": 0,
          "min": "0.2156510920813658",
          "max": "1.0",
          "histogram": [
           {
            "bin_start": 0.2156510920813658,
            "bin_end": 0.2940859828732292,
            "count": 2
           },
           {
            "bin_start": 0.2940859828732292,
            "bin_end": 0.3725208736650926,
            "count": 1
           },
           {
            "bin_start": 0.3725208736650926,
            "bin_end": 0.45095576445695607,
            "count": 2
           },
           {
            "bin_start": 0.45095576445695607,
            "bin_end": 0.5293906552488195,
            "count": 0
           },
           {
            "bin_start": 0.5293906552488195,
            "bin_end": 0.6078255460406828,
            "count": 0
           },
           {
            "bin_start": 0.6078255460406828,
            "bin_end": 0.6862604368325462,
            "count": 0
           },
           {
            "bin_start": 0.6862604368325462,
            "bin_end": 0.7646953276244097,
            "count": 0
           },
           {
            "bin_start": 0.7646953276244097,
            "bin_end": 0.8431302184162731,
            "count": 0
           },
           {
            "bin_start": 0.8431302184162731,
            "bin_end": 0.9215651092081365,
            "count": 0
           },
           {
            "bin_start": 0.9215651092081365,
            "bin_end": 1,
            "count": 88
           }
          ]
         }
        },
        {
         "name": "587",
         "dtype": "float64",
         "stats": {
          "unique_count": 93,
          "nan_count": 0,
          "min": "0.21619430243603655",
          "max": "1.0",
          "histogram": [
           {
            "bin_start": 0.21619430243603655,
            "bin_end": 0.2945748721924329,
            "count": 2
           },
           {
            "bin_start": 0.2945748721924329,
            "bin_end": 0.37295544194882924,
            "count": 1
           },
           {
            "bin_start": 0.37295544194882924,
            "bin_end": 0.4513360117052256,
            "count": 2
           },
           {
            "bin_start": 0.4513360117052256,
            "bin_end": 0.5297165814616219,
            "count": 0
           },
           {
            "bin_start": 0.5297165814616219,
            "bin_end": 0.6080971512180182,
            "count": 0
           },
           {
            "bin_start": 0.6080971512180182,
            "bin_end": 0.6864777209744146,
            "count": 0
           },
           {
            "bin_start": 0.6864777209744146,
            "bin_end": 0.7648582907308109,
            "count": 0
           },
           {
            "bin_start": 0.7648582907308109,
            "bin_end": 0.8432388604872073,
            "count": 0
           },
           {
            "bin_start": 0.8432388604872073,
            "bin_end": 0.9216194302436037,
            "count": 0
           },
           {
            "bin_start": 0.9216194302436037,
            "bin_end": 1,
            "count": 88
           }
          ]
         }
        },
        {
         "name": "588",
         "dtype": "float64",
         "stats": {
          "unique_count": 93,
          "nan_count": 0,
          "min": "0.216161703847918",
          "max": "1.0",
          "histogram": [
           {
            "bin_start": 0.216161703847918,
            "bin_end": 0.2945455334631262,
            "count": 2
           },
           {
            "bin_start": 0.2945455334631262,
            "bin_end": 0.3729293630783344,
            "count": 1
           },
           {
            "bin_start": 0.3729293630783344,
            "bin_end": 0.45131319269354264,
            "count": 2
           },
           {
            "bin_start": 0.45131319269354264,
            "bin_end": 0.5296970223087508,
            "count": 0
           },
           {
            "bin_start": 0.5296970223087508,
            "bin_end": 0.608080851923959,
            "count": 0
           },
           {
            "bin_start": 0.608080851923959,
            "bin_end": 0.6864646815391673,
            "count": 0
           },
           {
            "bin_start": 0.6864646815391673,
            "bin_end": 0.7648485111543755,
            "count": 0
           },
           {
            "bin_start": 0.7648485111543755,
            "bin_end": 0.8432323407695836,
            "count": 0
           },
           {
            "bin_start": 0.8432323407695836,
            "bin_end": 0.9216161703847918,
            "count": 0
           },
           {
            "bin_start": 0.9216161703847918,
            "bin_end": 1,
            "count": 88
           }
          ]
         }
        },
        {
         "name": "589",
         "dtype": "float64",
         "stats": {
          "unique_count": 93,
          "nan_count": 0,
          "min": "0.216142077238338",
          "max": "1.0",
          "histogram": [
           {
            "bin_start": 0.216142077238338,
            "bin_end": 0.2945278695145042,
            "count": 2
           },
           {
            "bin_start": 0.2945278695145042,
            "bin_end": 0.3729136617906704,
            "count": 1
           },
           {
            "bin_start": 0.3729136617906704,
            "bin_end": 0.4512994540668366,
            "count": 2
           },
           {
            "bin_start": 0.4512994540668366,
            "bin_end": 0.5296852463430028,
            "count": 0
           },
           {
            "bin_start": 0.5296852463430028,
            "bin_end": 0.608071038619169,
            "count": 0
           },
           {
            "bin_start": 0.608071038619169,
            "bin_end": 0.6864568308953352,
            "count": 0
           },
           {
            "bin_start": 0.6864568308953352,
            "bin_end": 0.7648426231715014,
            "count": 0
           },
           {
            "bin_start": 0.7648426231715014,
            "bin_end": 0.8432284154476676,
            "count": 0
           },
           {
            "bin_start": 0.8432284154476676,
            "bin_end": 0.9216142077238337,
            "count": 0
           },
           {
            "bin_start": 0.9216142077238337,
            "bin_end": 1,
            "count": 88
           }
          ]
         }
        },
        {
         "name": "6",
         "dtype": "float64",
         "stats": {
          "unique_count": 93,
          "nan_count": 0,
          "min": "0.21734326735428156",
          "max": "1.0",
          "histogram": [
           {
            "bin_start": 0.21734326735428156,
            "bin_end": 0.2956089406188534,
            "count": 2
           },
           {
            "bin_start": 0.2956089406188534,
            "bin_end": 0.37387461388342524,
            "count": 1
           },
           {
            "bin_start": 0.37387461388342524,
            "bin_end": 0.4521402871479971,
            "count": 2
           },
           {
            "bin_start": 0.4521402871479971,
            "bin_end": 0.5304059604125689,
            "count": 0
           },
           {
            "bin_start": 0.5304059604125689,
            "bin_end": 0.6086716336771407,
            "count": 0
           },
           {
            "bin_start": 0.6086716336771407,
            "bin_end": 0.6869373069417126,
            "count": 0
           },
           {
            "bin_start": 0.6869373069417126,
            "bin_end": 0.7652029802062844,
            "count": 0
           },
           {
            "bin_start": 0.7652029802062844,
            "bin_end": 0.8434686534708563,
            "count": 0
           },
           {
            "bin_start": 0.8434686534708563,
            "bin_end": 0.9217343267354282,
            "count": 0
           },
           {
            "bin_start": 0.9217343267354282,
            "bin_end": 1,
            "count": 88
           }
          ]
         }
        },
        {
         "name": "7",
         "dtype": "float64",
         "stats": {
          "unique_count": 93,
          "nan_count": 0,
          "min": "0.21979024586256424",
          "max": "1.0",
          "histogram": [
           {
            "bin_start": 0.21979024586256424,
            "bin_end": 0.2978112212763078,
            "count": 2
           },
           {
            "bin_start": 0.2978112212763078,
            "bin_end": 0.3758321966900514,
            "count": 1
           },
           {
            "bin_start": 0.3758321966900514,
            "bin_end": 0.45385317210379494,
            "count": 2
           },
           {
            "bin_start": 0.45385317210379494,
            "bin_end": 0.5318741475175386,
            "count": 0
           },
           {
            "bin_start": 0.5318741475175386,
            "bin_end": 0.6098951229312821,
            "count": 0
           },
           {
            "bin_start": 0.6098951229312821,
            "bin_end": 0.6879160983450257,
            "count": 0
           },
           {
            "bin_start": 0.6879160983450257,
            "bin_end": 0.7659370737587693,
            "count": 0
           },
           {
            "bin_start": 0.7659370737587693,
            "bin_end": 0.8439580491725128,
            "count": 0
           },
           {
            "bin_start": 0.8439580491725128,
            "bin_end": 0.9219790245862564,
            "count": 0
           },
           {
            "bin_start": 0.9219790245862564,
            "bin_end": 1,
            "count": 88
           }
          ]
         }
        },
        {
         "name": "8",
         "dtype": "float64",
         "stats": {
          "unique_count": 93,
          "nan_count": 0,
          "min": "0.21943025898721857",
          "max": "1.0",
          "histogram": [
           {
            "bin_start": 0.21943025898721857,
            "bin_end": 0.2974872330884967,
            "count": 2
           },
           {
            "bin_start": 0.2974872330884967,
            "bin_end": 0.3755442071897749,
            "count": 1
           },
           {
            "bin_start": 0.3755442071897749,
            "bin_end": 0.453601181291053,
            "count": 2
           },
           {
            "bin_start": 0.453601181291053,
            "bin_end": 0.5316581553923312,
            "count": 0
           },
           {
            "bin_start": 0.5316581553923312,
            "bin_end": 0.6097151294936093,
            "count": 0
           },
           {
            "bin_start": 0.6097151294936093,
            "bin_end": 0.6877721035948874,
            "count": 0
           },
           {
            "bin_start": 0.6877721035948874,
            "bin_end": 0.7658290776961656,
            "count": 0
           },
           {
            "bin_start": 0.7658290776961656,
            "bin_end": 0.8438860517974437,
            "count": 0
           },
           {
            "bin_start": 0.8438860517974437,
            "bin_end": 0.9219430258987218,
            "count": 0
           },
           {
            "bin_start": 0.9219430258987218,
            "bin_end": 1,
            "count": 88
           }
          ]
         }
        },
        {
         "name": "9",
         "dtype": "float64",
         "stats": {
          "unique_count": 93,
          "nan_count": 0,
          "min": "0.1298835322948545",
          "max": "1.0",
          "histogram": [
           {
            "bin_start": 0.1298835322948545,
            "bin_end": 0.21689517906536904,
            "count": 2
           },
           {
            "bin_start": 0.21689517906536904,
            "bin_end": 0.3039068258358836,
            "count": 88
           },
           {
            "bin_start": 0.3039068258358836,
            "bin_end": 0.39091847260639817,
            "count": 0
           },
           {
            "bin_start": 0.39091847260639817,
            "bin_end": 0.4779301193769127,
            "count": 0
           },
           {
            "bin_start": 0.4779301193769127,
            "bin_end": 0.5649417661474272,
            "count": 0
           },
           {
            "bin_start": 0.5649417661474272,
            "bin_end": 0.6519534129179418,
            "count": 0
           },
           {
            "bin_start": 0.6519534129179418,
            "bin_end": 0.7389650596884564,
            "count": 0
           },
           {
            "bin_start": 0.7389650596884564,
            "bin_end": 0.8259767064589709,
            "count": 0
           },
           {
            "bin_start": 0.8259767064589709,
            "bin_end": 0.9129883532294855,
            "count": 1
           },
           {
            "bin_start": 0.9129883532294855,
            "bin_end": 1,
            "count": 2
           }
          ]
         }
        },
        {
         "name": "_deepnote_index_column",
         "dtype": "object"
        }
       ],
       "rows": [
        {
         "1": 1,
         "2": 0.9989670036213287,
         "3": 0.9949851831924079,
         "4": 0.9993991530132531,
         "5": 0.9947109284409431,
         "6": 0.9981106128786932,
         "7": 0.9948458209618629,
         "8": 0.995887693121832,
         "9": 0.2219383611425204,
         "10": 0.9932025232795312,
         "11": 0.995485064175082,
         "12": 0.9959290692958334,
         "13": 0.9920432869635487,
         "14": 0.9977805886136285,
         "15": 0.9913729661649527,
         "16": 0.9935335378618967,
         "17": 0.9968729811077189,
         "18": 0.9819597479412485,
         "19": 0.9974616893222362,
         "20": 0.9967579605025242,
         "21": 0.9945768274784549,
         "22": 0.9950495034289266,
         "23": 0.9953906961335294,
         "24": 0.9968427780168003,
         "25": 0.999081336614817,
         "26": 0.9964274414509374,
         "27": 0.9967809471010963,
         "28": 0.9948118644419837,
         "29": 0.9973472032034686,
         "30": 0.9985163719871973,
         "31": 0.9962453443726383,
         "249": 0.9839364494712847,
         "250": 0.9998349437337688,
         "251": 0.9924231030145064,
         "252": 0.9989071525409269,
         "253": 0.999127956298653,
         "254": 0.9989973507957333,
         "255": 0.9969684116895465,
         "256": 0.9983184888578363,
         "257": 0.9899073166777363,
         "258": 0.9981463586277731,
         "259": 0.9986098310913072,
         "260": 0.9994825653893121,
         "261": 0.9861457357052005,
         "262": 0.9937949154487897,
         "263": 0.996225535235517,
         "264": 0.9984385118652996,
         "265": 0.9943911701101696,
         "266": 0.9978689792087692,
         "267": 0.999821595083258,
         "268": 0.9969912304535031,
         "269": 0.26868675903795736,
         "270": 0.9983395469720895,
         "271": 0.9992579805618734,
         "272": 0,
         "273": 0.9950809055188028,
         "274": 0.9970979564889886,
         "275": 0.9973714318302028,
         "276": 0.9966414426061899,
         "277": 0.9988807682850199,
         "278": 0.9979703267579882,
         "279": 0.9988324195819566,
         "559": 0.23884756943582952,
         "560": 0.996379184769637,
         "561": 0.9877216403512072,
         "562": 0.9972319391367157,
         "563": 0.9992119786289888,
         "564": 0.9991623214881371,
         "565": 0.9926680459856311,
         "566": 0.9968669757879511,
         "567": 0.9998876497772525,
         "568": 0.9992542562464038,
         "569": 0.9982841583569765,
         "570": 0.9959403165199862,
         "571": 0.9964819191184853,
         "572": 0.9977781236621514,
         "573": 0.9972442373097414,
         "574": 0.9995587165008117,
         "575": 0.9989370628511572,
         "576": 0.2028762064902483,
         "577": 0.99889453902263,
         "578": 0.9966556212610949,
         "579": 0.979653323425186,
         "580": 0.9956690101581733,
         "581": 0.9945332324676106,
         "582": 0.9924956617632861,
         "583": 0.9958180487600025,
         "584": 0.9969013835315147,
         "585": 0.9920175449493449,
         "586": 0.9932912212831193,
         "587": 0.9948338251641456,
         "588": 0.9947411332994857,
         "589": 0.9946853337034399,
         "_deepnote_index_column": "1"
        },
        {
         "1": 0.9932025232795312,
         "2": 0.9921458847683956,
         "3": 0.9982119577965176,
         "4": 0.9925793389260779,
         "5": 0.9984870405908198,
         "6": 0.9912869083705739,
         "7": 0.99835174079606,
         "8": 0.9973067229666908,
         "9": 0.22262882377577464,
         "10": 1,
         "11": 0.9886534324868989,
         "12": 0.9890987781687819,
         "13": 0.9988372636632407,
         "14": 0.990955887680735,
         "15": 0.984528919037162,
         "16": 0.9996679860028476,
         "17": 0.99004553988358,
         "18": 0.9887232799459321,
         "19": 0.9906360255536116,
         "20": 0.9899301720027672,
         "21": 0.9986215464372377,
         "22": 0.9882165566752645,
         "23": 0.9885587795249193,
         "24": 0.9900152456020695,
         "25": 0.9922605629614322,
         "26": 0.9895986550325234,
         "27": 0.9899532280035583,
         "28": 0.9879782001975216,
         "29": 0.9905211937729727,
         "30": 0.9916938925660518,
         "31": 0.9894160081581658,
         "249": 0.9907059496261457,
         "250": 0.993016445406422,
         "251": 0.9992182264726733,
         "252": 0.9942781470537835,
         "253": 0.9923073234016091,
         "254": 0.9921763235684157,
         "255": 0.9901412585939061,
         "256": 0.9914954119786448,
         "257": 0.9966948443555368,
         "258": 0.9913227620448998,
         "259": 0.991787633846282,
         "260": 0.9937009968918782,
         "261": 0.9929219062409098,
         "262": 0.9869581807841241,
         "263": 0.9893961392123665,
         "264": 0.9916157973652142,
         "265": 0.9875562356856056,
         "266": 0.9910445451489153,
         "267": 0.993003056453038,
         "268": 0.9901641462533475,
         "269": 0.26952884067290694,
         "270": 0.9915165336725464,
         "271": 0.9939262597963848,
         "272": 0,
         "273": 0.9882480535758065,
         "274": 0.990271194521096,
         "275": 0.9905454955519156,
         "276": 0.9898133023101233,
         "277": 0.9920593890663058,
         "278": 0.9911461986914191,
         "279": 0.9920108943865654,
         "559": 0.23958452618747406,
         "560": 0.9968137473841994,
         "561": 0.9945025689323016,
         "562": 0.9959584183410506,
         "563": 0.9939724006204677,
         "564": 0.9923417923480886,
         "565": 0.9994639089871302,
         "566": 0.9963244836043134,
         "567": 0.9930693105824697,
         "568": 0.9939299953564827,
         "569": 0.9949030222110589,
         "570": 0.9891100593510825,
         "571": 0.996710702854976,
         "572": 0.9909534152869603,
         "573": 0.9904179169997791,
         "574": 0.9927393841752187,
         "575": 0.9921158535996434,
         "576": 0.203507588621047,
         "577": 0.9920732013811742,
         "578": 0.9898275237738896,
         "579": 0.9864098917645536,
         "580": 0.9888379338483491,
         "581": 0.987698726964394,
         "582": 0.9856550043308198,
         "583": 0.9889874224345305,
         "584": 0.9900740280613088,
         "585": 0.9851754439641194,
         "586": 0.9864529658413519,
         "587": 0.9880002272245282,
         "588": 0.9879072555002334,
         "589": 0.9878512874314243,
         "_deepnote_index_column": "10"
        },
        {
         "1": 0.995485064175082,
         "2": 0.9965250794018503,
         "3": 0.9904894573184848,
         "4": 0.9960938011310307,
         "5": 0.990215755406169,
         "6": 0.9973797438432026,
         "7": 0.9903503760125055,
         "8": 0.9913901479801708,
         "9": 0.22147178473862095,
         "10": 0.9886534324868989,
         "11": 1,
         "12": 0.999556889898977,
         "13": 0.9875534913256524,
         "14": 0.9977091028496604,
         "15": 0.9958961911033773,
         "16": 0.989040738195687,
         "17": 0.9986148808122038,
         "18": 0.9774902785697248,
         "19": 0.9980273593080228,
         "20": 0.9987296695603637,
         "21": 0.9900819247626509,
         "22": 0.9995653172515128,
         "23": 0.999905822184314,
         "24": 0.9986450230201259,
         "25": 0.9964109768793182,
         "26": 0.9990595223559594,
         "27": 0.998706729297877,
         "28": 0.9993281572941385,
         "29": 0.9981416146471662,
         "30": 0.9969748026586143,
         "31": 0.9992412523653443,
         "249": 0.9794629954906123,
         "250": 0.9956588888717623,
         "251": 0.9879325417483712,
         "252": 0.994403520812372,
         "253": 0.9963644511708325,
         "254": 0.9964947934008839,
         "255": 0.9985196425980977,
         "256": 0.9971722868977455,
         "257": 0.9854218267008682,
         "258": 0.9973440701499372,
         "259": 0.9968815319481469,
         "260": 0.9949777737510466,
         "261": 0.9816678282741687,
         "262": 0.998313258253454,
         "263": 0.9992610215714656,
         "264": 0.9970525058310943,
         "265": 0.9989083109924686,
         "266": 0.9976208904311281,
         "267": 0.9956722106142377,
         "268": 0.9984968698319077,
         "269": 0.2681174050725271,
         "270": 0.9971512712321642,
         "271": 0.9947536416387722,
         "272": 0,
         "273": 0.9995966560414659,
         "274": 0.9983903589333718,
         "275": 0.9981174348601816,
         "276": 0.998845952581443,
         "277": 0.9966111409060935,
         "278": 0.9975197471769761,
         "279": 0.9966593921484722,
         "559": 0.2383493205875188,
         "560": 0.9918806488855261,
         "561": 0.9832405562321553,
         "562": 0.9927316842814798,
         "563": 0.9947077324359835,
         "564": 0.996330155254249,
         "565": 0.9881769909666511,
         "566": 0.9923674566210711,
         "567": 0.9956062890724333,
         "568": 0.9947499248307292,
         "569": 0.9937817824519677,
         "570": 0.9995456653468318,
         "571": 0.9919831761438145,
         "572": 0.9977115628323207,
         "573": 0.9982443729835885,
         "574": 0.9959345592894681,
         "575": 0.996554959817808,
         "576": 0.20244968257339568,
         "577": 0.9965973979273566,
         "578": 0.9988318025076856,
         "579": 0.9751885033141032,
         "580": 0.9998164248128208,
         "581": 0.9990500869824633,
         "582": 0.9970166235865745,
         "583": 0.9996676866410604,
         "584": 0.9985865356416432,
         "585": 0.9965394705542675,
         "586": 0.9978105794279096,
         "587": 0.9993500737481633,
         "588": 0.9992575687305545,
         "589": 0.9992018816146063,
         "_deepnote_index_column": "11"
        },
        {
         "1": 0.9959290692958334,
         "2": 0.9969675861876967,
         "3": 0.9909307630456214,
         "4": 0.996536222094651,
         "5": 0.9906570066679894,
         "6": 0.9978224207030126,
         "7": 0.9907916540631555,
         "8": 0.9918316329402596,
         "9": 0.22151794517045664,
         "10": 0.9890987781687819,
         "11": 0.999556889898977,
         "12": 1,
         "13": 0.9879942128101911,
         "14": 0.9981518452502711,
         "15": 0.9954521761881381,
         "16": 0.9894817556349396,
         "17": 0.9990578034581141,
         "18": 0.9779289975250856,
         "19": 0.9984701650400822,
         "20": 0.9991726150486626,
         "21": 0.9905231493928404,
         "22": 0.999122032474088,
         "23": 0.9994626051656736,
         "24": 0.9990879516641853,
         "25": 0.9968534609593314,
         "26": 0.9995025334833206,
         "27": 0.9991496702211781,
         "28": 0.9988848253230644,
         "29": 0.9985844431154687,
         "30": 0.9974173989371471,
         "31": 0.9996842996560715,
         "249": 0.9799021070068072,
         "250": 0.9961012232900108,
         "251": 0.9883733386620546,
         "252": 0.9948456054186342,
         "253": 0.9968069259924616,
         "254": 0.996937294159967,
         "255": 0.9989625462920781,
         "256": 0.9976149224746576,
         "257": 0.9858621239947718,
         "258": 0.9977867399108601,
         "259": 0.9973241096662732,
         "260": 0.9954199726307811,
         "261": 0.9821073785410974,
         "262": 0.9978697243225296,
         "263": 0.9997040727961662,
         "264": 0.9974951175721711,
         "265": 0.9984648954740731,
         "266": 0.9980636152779072,
         "267": 0.9961145476834465,
         "268": 0.9989397689942212,
         "269": 0.26817374461338195,
         "270": 0.9975939026270635,
         "271": 0.9951957959173336,
         "272": 0,
         "273": 0.9991533775003041,
         "274": 0.9988332369005474,
         "275": 0.9985602585168271,
         "276": 0.9992889212094835,
         "277": 0.9970536648177503,
         "278": 0.9979624518967517,
         "279": 0.9971019256618857,
         "559": 0.23839862320815253,
         "560": 0.9923222314528501,
         "561": 0.9836804194641084,
         "562": 0.9931734362006056,
         "563": 0.9951498775788424,
         "564": 0.9967726232511616,
         "565": 0.9886178365245104,
         "566": 0.992809136060708,
         "567": 0.9960486130235839,
         "568": 0.9951920783696643,
         "569": 0.9942237433353952,
         "570": 0.999988773214225,
         "571": 0.9924247791135519,
         "572": 0.9981543057224556,
         "573": 0.9986872219002877,
         "574": 0.9963769485647556,
         "575": 0.9969974725497082,
         "576": 0.20249187604585395,
         "577": 0.9970399191042291,
         "578": 0.999274768319932,
         "579": 0.9756267642276615,
         "580": 0.9997404134400019,
         "581": 0.9986066996767832,
         "582": 0.9965728316318145,
         "583": 0.9998891812099171,
         "584": 0.9990294526470059,
         "585": 0.9960955836484325,
         "586": 0.9973669454664046,
         "587": 0.9989067461383543,
         "588": 0.9988142227127081,
         "589": 0.9987585245153013,
         "_deepnote_index_column": "12"
        },
        {
         "1": 0.9920432869635487,
         "2": 0.9909785369465378,
         "3": 0.997047712344169,
         "4": 0.9914122127855213,
         "5": 0.9973229358239641,
         "6": 0.9901191212427312,
         "7": 0.9971875668328798,
         "8": 0.9961420145504244,
         "9": 0.22274510528309033,
         "10": 0.9988372636632407,
         "11": 0.9875534913256524,
         "12": 0.9879942128101911,
         "13": 1,
         "14": 0.9897879312591019,
         "15": 0.9833576756733071,
         "16": 0.9985044852064718,
         "17": 0.9888771178831062,
         "18": 0.9898808436916995,
         "19": 0.9894679055450081,
         "20": 0.9887616909997403,
         "21": 0.9974575104606578,
         "22": 0.9870471992785776,
         "23": 0.9873895971511393,
         "24": 0.9888468081082024,
         "25": 0.9910932737894007,
         "26": 0.9884300044818938,
         "27": 0.9887847587920535,
         "28": 0.9868087208982685,
         "29": 0.9893530150359935,
         "30": 0.9905263135819873,
         "31": 0.988247264196512,
         "249": 0.9918645273679421,
         "250": 0.9918495428150728,
         "251": 0.9996188423548971,
         "252": 0.9931118897340461,
         "253": 0.9911400581442524,
         "254": 0.9910089913138621,
         "255": 0.9889728855468173,
         "256": 0.9903277314857261,
         "257": 0.9978564849955736,
         "258": 0.9901549932536886,
         "259": 0.9906201028042861,
         "260": 0.9925344444004447,
         "261": 0.9940816172885869,
         "262": 0.9857881798167156,
         "263": 0.988227385089145,
         "264": 0.9904481784409497,
         "265": 0.9863865405811966,
         "266": 0.9898766340693388,
         "267": 0.9918361470141812,
         "268": 0.9889957849116859,
         "269": 0.2696705964802457,
         "270": 0.9903488639818879,
         "271": 0.9927598225110762,
         "272": 0,
         "273": 0.9870787122875679,
         "274": 0.9891028879270909,
         "275": 0.9893773292435863,
         "276": 0.9886447615364723,
         "277": 0.9908919970079827,
         "278": 0.9899783396004765,
         "279": 0.9908434775266259,
         "559": 0.23970859099913888,
         "560": 0.9956487868456112,
         "561": 0.9956630883777208,
         "562": 0.9947930203618429,
         "563": 0.9928059869329438,
         "564": 0.9911745447191727,
         "565": 0.9993730341911217,
         "566": 0.9951592728417293,
         "567": 0.9919024350279381,
         "568": 0.9927635599816502,
         "569": 0.9937370844709945,
         "570": 0.9879411589181423,
         "571": 0.9955456896163619,
         "572": 0.9897854576008719,
         "573": 0.9892496854439976,
         "574": 0.9915723398865453,
         "575": 0.9909484904189559,
         "576": 0.2036139442420556,
         "577": 0.9909058163868782,
         "578": 0.9886589902735166,
         "579": 0.9875662723750498,
         "580": 0.9876688942423625,
         "581": 0.9865291047342476,
         "582": 0.9844843368803546,
         "583": 0.987818459281437,
         "584": 0.9889056206305333,
         "585": 0.9840045312522714,
         "586": 0.9852827064920501,
         "587": 0.9868307591905495,
         "588": 0.9867377399177597,
         "589": 0.9866817432252216,
         "_deepnote_index_column": "13"
        },
        {
         "1": 0.9977805886136285,
         "2": 0.9988147594096601,
         "3": 0.992772932877942,
         "4": 0.9983830377970078,
         "5": 0.9924989496078216,
         "6": 0.999670302421823,
         "7": 0.992633708600324,
         "8": 0.9936745494240877,
         "9": 0.22170978802804808,
         "10": 0.990955887680735,
         "11": 0.9977091028496604,
         "12": 0.9981518452502711,
         "13": 0.9897879312591019,
         "14": 1,
         "15": 0.9935987203765528,
         "16": 0.9913227245129665,
         "17": 0.9990932909233958,
         "18": 0.9797603913420392,
         "19": 0.9996814163830231,
         "20": 0.9989783841756579,
         "21": 0.9923649813901969,
         "22": 0.997271618282325,
         "23": 0.9976124732445417,
         "24": 0.9990631177301387,
         "25": 0.9987005395929706,
         "26": 0.9986481923007418,
         "27": 0.9990013480200839,
         "28": 0.9970342145312396,
         "29": 0.9995670435926309,
         "30": 0.9992649449691795,
         "31": 0.9984662754780603,
         "249": 0.9817351361599821,
         "250": 0.9979476784602695,
         "251": 0.9902133888711274,
         "252": 0.9966910199181119,
         "253": 0.9986539660573758,
         "254": 0.9987844422755435,
         "255": 0.9991886270396854,
         "256": 0.9994626322165087,
         "257": 0.9877000928797506,
         "258": 0.9996345920570124,
         "259": 0.9991715783790666,
         "260": 0.9972658631725236,
         "261": 0.9839422354491186,
         "262": 0.9960182722031202,
         "263": 0.9984464859497558,
         "264": 0.9993427280183175,
         "265": 0.996613936639477,
         "266": 0.9999116969016028,
         "267": 0.9979610138971183,
         "268": 0.9992114232156333,
         "269": 0.26840786659633464,
         "270": 0.999441594947419,
         "271": 0.9970415006587935,
         "272": 0,
         "273": 0.9973029892876656,
         "274": 0.9993180436043526,
         "275": 0.9995912482357509,
         "276": 0.9988619816189303,
         "277": 0.9989009093826894,
         "278": 0.9998104496750535,
         "279": 0.998949210225977,
         "559": 0.23860350475487613,
         "560": 0.9941655545504648,
         "561": 0.9855165801268491,
         "562": 0.9950174647866733,
         "563": 0.9969955442626461,
         "564": 0.9986196348855625,
         "565": 0.990458089376272,
         "566": 0.9946528627105579,
         "567": 0.9978950245898383,
         "568": 0.9970377800299771,
         "569": 0.9960686424283034,
         "570": 0.99816154956866,
         "571": 0.9942681872038676,
         "572": 0.9999975374885475,
         "573": 0.9994641796235527,
         "574": 0.9982236322593475,
         "575": 0.9988446705418382,
         "576": 0.20266724243097678,
         "577": 0.99888715227656,
         "578": 0.9988761462385622,
         "579": 0.9774562499267251,
         "580": 0.9978905117696176,
         "581": 0.9967558583711691,
         "582": 0.9947203046325712,
         "583": 0.998039402840001,
         "584": 0.999121665231988,
         "585": 0.9942426611004774,
         "586": 0.9955150766379974,
         "587": 0.9970561535147577,
         "588": 0.996963553404614,
         "589": 0.9969078090438896,
         "_deepnote_index_column": "14"
        },
        {
         "1": 0.9913729661649527,
         "2": 0.992435265536767,
         "3": 0.9864107889523239,
         "4": 0.9920047836729187,
         "5": 0.9861375924633641,
         "6": 0.9932883517378852,
         "7": 0.9862719644766306,
         "8": 0.9873098163808484,
         "9": 0.22104145113174167,
         "10": 0.984528919037162,
         "11": 0.9958961911033773,
         "12": 0.9954521761881381,
         "13": 0.9833576756733071,
         "14": 0.9935987203765528,
         "15": 1,
         "16": 0.9849647450628657,
         "17": 0.9945212078785697,
         "18": 0.9734356147437314,
         "19": 0.9939347713031998,
         "20": 0.9946357846555605,
         "21": 0.9860040089541551,
         "22": 0.9963376493326626,
         "23": 0.995997773182994,
         "24": 0.9945512944252954,
         "25": 0.9923213737182063,
         "26": 0.9949650283384703,
         "27": 0.9946128867550155,
         "28": 0.9965743713457764,
         "29": 0.9940488156561779,
         "30": 0.9928841583256846,
         "31": 0.9951464227616315,
         "249": 0.9754046888065983,
         "250": 0.9915706745312164,
         "251": 0.9838585950329926,
         "252": 0.9903176246592738,
         "253": 0.9922749339250125,
         "254": 0.992405035462528,
         "255": 0.9944261455332304,
         "256": 0.9930812778865202,
         "257": 0.9813525163214744,
         "258": 0.9932527439203662,
         "259": 0.9927910598507529,
         "260": 0.9908908171711323,
         "261": 0.9776054501023985,
         "262": 0.9975873962538516,
         "263": 0.9951661554615463,
         "264": 0.9929617180099519,
         "265": 0.9969934423509752,
         "266": 0.9935290530197596,
         "267": 0.991583971673499,
         "268": 0.9944034148196801,
         "269": 0.2675920665695244,
         "270": 0.9930603010288819,
         "271": 0.9906670989456422,
         "272": 0,
         "273": 0.9963063684135378,
         "274": 0.9942971006062727,
         "275": 0.9940246805200653,
         "276": 0.9947518529461169,
         "277": 0.9925211681181371,
         "278": 0.993428096538738,
         "279": 0.9925693302588189,
         "559": 0.23788960534537817,
         "560": 0.9877994115175461,
         "561": 0.9791752738298819,
         "562": 0.9886488753747327,
         "563": 0.990621274519694,
         "564": 0.9922407013399457,
         "565": 0.9841025928465189,
         "566": 0.9882853203043138,
         "567": 0.9915181718637154,
         "568": 0.9906633890011303,
         "569": 0.989697034413203,
         "570": 0.9954502736080961,
         "571": 0.9879017494469748,
         "572": 0.9936195579835057,
         "573": 0.994151384237027,
         "574": 0.991845835890485,
         "575": 0.9924650907749586,
         "576": 0.20205637564502743,
         "577": 0.992507450517456,
         "578": 0.9947377290021651,
         "579": 0.9711380899917491,
         "580": 0.9957205330843087,
         "581": 0.9968519281673232,
         "582": 0.9988816365295511,
         "583": 0.9955720695753933,
         "584": 0.9944929150507608,
         "585": 0.9993579084416464,
         "586": 0.9980891468227505,
         "587": 0.9965524953631084,
         "588": 0.996644829559125,
         "589": 0.9967004138421454,
         "_deepnote_index_column": "15"
        },
        {
         "1": 0.9935335378618967,
         "2": 0.9924789980492986,
         "3": 0.9985441845783825,
         "4": 0.9929123888617669,
         "5": 0.9988192271719434,
         "6": 0.9916201471827303,
         "7": 0.9986839471499652,
         "8": 0.99763908204004,
         "9": 0.22259554068144793,
         "10": 0.9996679860028476,
         "11": 0.989040738195687,
         "12": 0.9894817556349396,
         "13": 0.9985044852064718,
         "14": 0.9913227245129665,
         "15": 0.9849647450628657,
         "16": 1,
         "17": 0.9903789601099667,
         "18": 0.988392962455156,
         "19": 0.9909693594861183,
         "20": 0.9902636090890755,
         "21": 0.9989537133616074,
         "22": 0.9885502441901999,
         "23": 0.988892417027231,
         "24": 0.9903486702556782,
         "25": 0.992593659483205,
         "26": 0.9899321405668926,
         "27": 0.9902866617204508,
         "28": 0.9883119225459954,
         "29": 0.9908545444870549,
         "30": 0.9920270719013282,
         "31": 0.9897495203846434,
         "249": 0.9903753423870006,
         "250": 0.9933494314631447,
         "251": 0.9988863752450036,
         "252": 0.9946109487247773,
         "253": 0.9926404130897871,
         "254": 0.9925094324009768,
         "255": 0.9904746648319112,
         "256": 0.9918286203199764,
         "257": 0.99636336189623,
         "258": 0.9916559956173817,
         "259": 0.9921207994821594,
         "260": 0.9940338829078941,
         "261": 0.9925909751607233,
         "262": 0.9872920521987606,
         "263": 0.989729654342502,
         "264": 0.9919489881133634,
         "265": 0.9878900197001905,
         "266": 0.9913778193801578,
         "267": 0.9933360444664293,
         "268": 0.9904975491465382,
         "269": 0.26948826280218596,
         "270": 0.9918497389271429,
         "271": 0.9942591128923638,
         "272": 0,
         "273": 0.9885817364877685,
         "274": 0.9906045817701978,
         "275": 0.9908788427145234,
         "276": 0.9901467564758287,
         "277": 0.9923925149877353,
         "278": 0.9914794580669605,
         "279": 0.9923440273950324,
         "559": 0.23954901272814955,
         "560": 0.9971461785012543,
         "561": 0.9941714068532549,
         "562": 0.9962909744563326,
         "563": 0.9943052469734028,
         "564": 0.992674876998957,
         "565": 0.9991320218552913,
         "566": 0.9966569862226292,
         "567": 0.9934022889134484,
         "568": 0.9942628479065451,
         "569": 0.9952357325624752,
         "570": 0.9894436162890764,
         "571": 0.9970431490310115,
         "572": 0.9912867028359679,
         "573": 0.9907512828067823,
         "574": 0.9930724107218125,
         "575": 0.9924489712693169,
         "576": 0.20347714791159055,
         "577": 0.9924063252840649,
         "578": 0.9901609758612631,
         "579": 0.9860799123535183,
         "580": 0.989171530554904,
         "581": 0.9880324901552301,
         "582": 0.9859890661923347,
         "583": 0.9893209972947465,
         "584": 0.9904074441244186,
         "585": 0.9855095759088334,
         "586": 0.9867869110883604,
         "587": 0.9883339463539609,
         "588": 0.9882409882166018,
         "589": 0.9881850283269951,
         "_deepnote_index_column": "16"
        },
        {
         "1": 0.9968729811077189,
         "2": 0.9979088991918245,
         "3": 0.9918695242761801,
         "4": 0.9974773527605745,
         "5": 0.991595652181345,
         "6": 0.9987640950468835,
         "7": 0.9917303564921531,
         "8": 0.9927707749697803,
         "9": 0.22161587834630803,
         "10": 0.99004553988358,
         "11": 0.9986148808122038,
         "12": 0.9990578034581141,
         "13": 0.9888771178831062,
         "14": 0.9990932909233958,
         "15": 0.9945212078785697,
         "16": 0.9903789601099667,
         "17": 1,
         "18": 0.978862262891209,
         "19": 0.9994121131863886,
         "20": 0.9998851398784319,
         "21": 0.991461738324539,
         "22": 0.9981790665463098,
         "23": 0.9985197831984477,
         "24": 0.99996983905024,
         "25": 0.9977947257225659,
         "26": 0.9995550819867911,
         "27": 0.999908094404727,
         "28": 0.9979417591274924,
         "29": 0.9995264395672769,
         "30": 0.998358902077752,
         "31": 0.9993732389812251,
         "249": 0.9808362064090629,
         "250": 0.9970421700813324,
         "251": 0.9893110188657562,
         "252": 0.9957860214585288,
         "253": 0.9977481710853006,
         "254": 0.9978785943596125,
         "255": 0.999904702568627,
         "256": 0.9985565091087375,
         "257": 0.9867987427045282,
         "258": 0.9987283991724103,
         "259": 0.9982655733733731,
         "260": 0.9963606314564981,
         "261": 0.983042410114709,
         "262": 0.9969262290423476,
         "263": 0.9993534574829965,
         "264": 0.9984366535645516,
         "265": 0.9975216517735677,
         "266": 0.9990053915750614,
         "267": 0.9970555001070078,
         "268": 0.9998819156427744,
         "269": 0.2682932658398417,
         "270": 0.9985354803760246,
         "271": 0.9961363599832409,
         "272": 0,
         "273": 0.9982104248221123,
         "274": 0.999775338517836,
         "275": 0.9995022447457717,
         "276": 0.9997687845548344,
         "277": 0.9979950142074352,
         "278": 0.9989041854320035,
         "279": 0.9980432954514968,
         "559": 0.23850321656333773,
         "560": 0.9932615808590469,
         "561": 0.9846161159643141,
         "562": 0.9941131454122375,
         "563": 0.9960904222350039,
         "564": 0.997713853844184,
         "565": 0.9895556200777998,
         "566": 0.9937486912821621,
         "567": 0.9969895375764725,
         "568": 0.9961326408641589,
         "569": 0.9951638965133192,
         "570": 0.9990686367216737,
         "571": 0.9933641718667879,
         "572": 0.9990961203545874,
         "573": 0.9996292617968318,
         "574": 0.9973180119055356,
         "575": 0.997938798186843,
         "576": 0.2025813961331666,
         "577": 0.9979812626835817,
         "578": 0.9997829434268322,
         "579": 0.9765590564365563,
         "580": 0.9987977089027211,
         "581": 0.9976635159171122,
         "582": 0.9956287881532818,
         "583": 0.9989465395569804,
         "584": 0.9999716372049644,
         "585": 0.995151338436511,
         "586": 0.9964232376608982,
         "587": 0.9979636892087415,
         "588": 0.9978711266733141,
         "589": 0.9978154049322016,
         "_deepnote_index_column": "17"
        },
        {
         "1": 0.9819597479412485,
         "2": 0.9807747437612553,
         "3": 0.9868707561196872,
         "4": 0.9812103372481445,
         "5": 0.9871471965954092,
         "6": 0.9799115278532952,
         "7": 0.987011229023452,
         "8": 0.9859610534695007,
         "9": 0.2237379593004989,
         "10": 0.9887232799459321,
         "11": 0.9774902785697248,
         "12": 0.9779289975250856,
         "13": 0.9898808436916995,
         "14": 0.9797603913420392,
         "15": 0.9734356147437314,
         "16": 0.988392962455156,
         "17": 0.978862262891209,
         "18": 1,
         "19": 0.9792574325798459,
         "20": 0.9785480952624014,
         "21": 0.9872823663004627,
         "22": 0.9768260223223582,
         "23": 0.977169934225687,
         "24": 0.9786335887456349,
         "25": 0.9808899879528027,
         "26": 0.9782149420777517,
         "27": 0.9785712650569467,
         "28": 0.9765864894273044,
         "29": 0.9791420340426586,
         "30": 0.9803205207344916,
         "31": 0.9780313937429145,
         "249": 0.9980075447794252,
         "250": 0.9816496010838708,
         "251": 0.9894532552721504,
         "252": 0.9829175299069023,
         "253": 0.9809369791808811,
         "254": 0.9808053327931112,
         "255": 0.9787602236793057,
         "256": 0.980121060538722,
         "257": 0.991989091636104,
         "258": 0.9799475584847717,
         "259": 0.9804147246783165,
         "260": 0.9823375311987866,
         "261": 0.995780651227909,
         "262": 0.975561435669942,
         "263": 0.9780114267331901,
         "264": 0.9802420400918694,
         "265": 0.9761624422937578,
         "266": 0.9796679684388914,
         "267": 0.9816361460488067,
         "268": 0.9787832243016463,
         "269": 0.2708801784064444,
         "270": 0.9801422864795339,
         "271": 0.9825639058967837,
         "272": 0,
         "273": 0.9768576746770308,
         "274": 0.9788908009101241,
         "275": 0.9791664557639406,
         "276": 0.9784306487550183,
         "277": 0.9806878211563927,
         "278": 0.9797701236962562,
         "279": 0.9806390871293467,
         "559": 0.24076730289918646,
         "560": 0.9854656447875839,
         "561": 0.9941921871166848,
         "562": 0.9846060942359521,
         "563": 0.9826102744506294,
         "564": 0.9809716182501351,
         "565": 0.9892063601824544,
         "566": 0.9849739662280131,
         "567": 0.9817027271779721,
         "568": 0.9825676598938782,
         "569": 0.9835454891588875,
         "570": 0.977723934914051,
         "571": 0.9853620916782325,
         "572": 0.9795763888020944,
         "573": 0.9790382475430883,
         "574": 0.9813711724065984,
         "575": 0.9807445643725464,
         "576": 0.20452235589924528,
         "577": 0.9807017016424577,
         "578": 0.9784449404093509,
         "579": 0.9976751940047284,
         "580": 0.9774504663257209,
         "581": 0.9763056368435821,
         "582": 0.9742518273405117,
         "583": 0.9776006927184105,
         "584": 0.9786926613279003,
         "585": 0.9737699000856852,
         "586": 0.9750537272199239,
         "587": 0.9766086251695267,
         "588": 0.9765151945798093,
         "589": 0.9764589502785033,
         "_deepnote_index_column": "18"
        }
       ]
      },
      "text/plain": "            1        10        11        12        13        14        15  \\\n1    1.000000  0.993203  0.995485  0.995929  0.992043  0.997781  0.991373   \n10   0.993203  1.000000  0.988653  0.989099  0.998837  0.990956  0.984529   \n11   0.995485  0.988653  1.000000  0.999557  0.987553  0.997709  0.995896   \n12   0.995929  0.989099  0.999557  1.000000  0.987994  0.998152  0.995452   \n13   0.992043  0.998837  0.987553  0.987994  1.000000  0.989788  0.983358   \n..        ...       ...       ...       ...       ...       ...       ...   \n589  0.994685  0.987851  0.999202  0.998759  0.986682  0.996908  0.996700   \n6    0.998111  0.991287  0.997380  0.997822  0.990119  0.999670  0.993288   \n7    0.994846  0.998352  0.990350  0.990792  0.997188  0.992634  0.986272   \n8    0.995888  0.997307  0.991390  0.991832  0.996142  0.993675  0.987310   \n9    0.221938  0.222629  0.221472  0.221518  0.222745  0.221710  0.221041   \n\n           16        17        18  ...       584       585       586  \\\n1    0.993534  0.996873  0.981960  ...  0.996901  0.992018  0.993291   \n10   0.999668  0.990046  0.988723  ...  0.990074  0.985175  0.986453   \n11   0.989041  0.998615  0.977490  ...  0.998587  0.996539  0.997811   \n12   0.989482  0.999058  0.977929  ...  0.999029  0.996096  0.997367   \n13   0.998504  0.988877  0.989881  ...  0.988906  0.984005  0.985283   \n..        ...       ...       ...  ...       ...       ...       ...   \n589  0.988185  0.997815  0.976459  ...  0.997787  0.997342  0.998610   \n6    0.991620  0.998764  0.979912  ...  0.998792  0.993929  0.995195   \n7    0.998684  0.991730  0.987011  ...  0.991759  0.986910  0.988173   \n8    0.997639  0.992771  0.985961  ...  0.992799  0.987948  0.989211   \n9    0.222596  0.221616  0.223738  ...  0.221619  0.221109  0.221243   \n\n          587       588       589         6         7         8         9  \n1    0.994834  0.994741  0.994685  0.998111  0.994846  0.995888  0.221938  \n10   0.988000  0.987907  0.987851  0.991287  0.998352  0.997307  0.222629  \n11   0.999350  0.999258  0.999202  0.997380  0.990350  0.991390  0.221472  \n12   0.998907  0.998814  0.998759  0.997822  0.990792  0.991832  0.221518  \n13   0.986831  0.986738  0.986682  0.990119  0.997188  0.996142  0.222745  \n..        ...       ...       ...       ...       ...       ...       ...  \n589  0.999852  0.999944  1.000000  0.996583  0.989556  0.990595  0.221388  \n6    0.996731  0.996638  0.996583  1.000000  0.992962  0.994003  0.221744  \n7    0.989703  0.989611  0.989556  0.992962  1.000000  0.998956  0.222463  \n8    0.990743  0.990651  0.990595  0.994003  0.998956  1.000000  0.222358  \n9    0.221404  0.221394  0.221388  0.221744  0.222463  0.222358  1.000000  \n\n[93 rows x 93 columns]",
      "text/html": "<div>\n<style scoped>\n    .dataframe tbody tr th:only-of-type {\n        vertical-align: middle;\n    }\n\n    .dataframe tbody tr th {\n        vertical-align: top;\n    }\n\n    .dataframe thead th {\n        text-align: right;\n    }\n</style>\n<table border=\"1\" class=\"dataframe\">\n  <thead>\n    <tr style=\"text-align: right;\">\n      <th></th>\n      <th>1</th>\n      <th>10</th>\n      <th>11</th>\n      <th>12</th>\n      <th>13</th>\n      <th>14</th>\n      <th>15</th>\n      <th>16</th>\n      <th>17</th>\n      <th>18</th>\n      <th>...</th>\n      <th>584</th>\n      <th>585</th>\n      <th>586</th>\n      <th>587</th>\n      <th>588</th>\n      <th>589</th>\n      <th>6</th>\n      <th>7</th>\n      <th>8</th>\n      <th>9</th>\n    </tr>\n  </thead>\n  <tbody>\n    <tr>\n      <th>1</th>\n      <td>1.000000</td>\n      <td>0.993203</td>\n      <td>0.995485</td>\n      <td>0.995929</td>\n      <td>0.992043</td>\n      <td>0.997781</td>\n      <td>0.991373</td>\n      <td>0.993534</td>\n      <td>0.996873</td>\n      <td>0.981960</td>\n      <td>...</td>\n      <td>0.996901</td>\n      <td>0.992018</td>\n      <td>0.993291</td>\n      <td>0.994834</td>\n      <td>0.994741</td>\n      <td>0.994685</td>\n      <td>0.998111</td>\n      <td>0.994846</td>\n      <td>0.995888</td>\n      <td>0.221938</td>\n    </tr>\n    <tr>\n      <th>10</th>\n      <td>0.993203</td>\n      <td>1.000000</td>\n      <td>0.988653</td>\n      <td>0.989099</td>\n      <td>0.998837</td>\n      <td>0.990956</td>\n      <td>0.984529</td>\n      <td>0.999668</td>\n      <td>0.990046</td>\n      <td>0.988723</td>\n      <td>...</td>\n      <td>0.990074</td>\n      <td>0.985175</td>\n      <td>0.986453</td>\n      <td>0.988000</td>\n      <td>0.987907</td>\n      <td>0.987851</td>\n      <td>0.991287</td>\n      <td>0.998352</td>\n      <td>0.997307</td>\n      <td>0.222629</td>\n    </tr>\n    <tr>\n      <th>11</th>\n      <td>0.995485</td>\n      <td>0.988653</td>\n      <td>1.000000</td>\n      <td>0.999557</td>\n      <td>0.987553</td>\n      <td>0.997709</td>\n      <td>0.995896</td>\n      <td>0.989041</td>\n      <td>0.998615</td>\n      <td>0.977490</td>\n      <td>...</td>\n      <td>0.998587</td>\n      <td>0.996539</td>\n      <td>0.997811</td>\n      <td>0.999350</td>\n      <td>0.999258</td>\n      <td>0.999202</td>\n      <td>0.997380</td>\n      <td>0.990350</td>\n      <td>0.991390</td>\n      <td>0.221472</td>\n    </tr>\n    <tr>\n      <th>12</th>\n      <td>0.995929</td>\n      <td>0.989099</td>\n      <td>0.999557</td>\n      <td>1.000000</td>\n      <td>0.987994</td>\n      <td>0.998152</td>\n      <td>0.995452</td>\n      <td>0.989482</td>\n      <td>0.999058</td>\n      <td>0.977929</td>\n      <td>...</td>\n      <td>0.999029</td>\n      <td>0.996096</td>\n      <td>0.997367</td>\n      <td>0.998907</td>\n      <td>0.998814</td>\n      <td>0.998759</td>\n      <td>0.997822</td>\n      <td>0.990792</td>\n      <td>0.991832</td>\n      <td>0.221518</td>\n    </tr>\n    <tr>\n      <th>13</th>\n      <td>0.992043</td>\n      <td>0.998837</td>\n      <td>0.987553</td>\n      <td>0.987994</td>\n      <td>1.000000</td>\n      <td>0.989788</td>\n      <td>0.983358</td>\n      <td>0.998504</td>\n      <td>0.988877</td>\n      <td>0.989881</td>\n      <td>...</td>\n      <td>0.988906</td>\n      <td>0.984005</td>\n      <td>0.985283</td>\n      <td>0.986831</td>\n      <td>0.986738</td>\n      <td>0.986682</td>\n      <td>0.990119</td>\n      <td>0.997188</td>\n      <td>0.996142</td>\n      <td>0.222745</td>\n    </tr>\n    <tr>\n      <th>...</th>\n      <td>...</td>\n      <td>...</td>\n      <td>...</td>\n      <td>...</td>\n      <td>...</td>\n      <td>...</td>\n      <td>...</td>\n      <td>...</td>\n      <td>...</td>\n      <td>...</td>\n      <td>...</td>\n      <td>...</td>\n      <td>...</td>\n      <td>...</td>\n      <td>...</td>\n      <td>...</td>\n      <td>...</td>\n      <td>...</td>\n      <td>...</td>\n      <td>...</td>\n      <td>...</td>\n    </tr>\n    <tr>\n      <th>589</th>\n      <td>0.994685</td>\n      <td>0.987851</td>\n      <td>0.999202</td>\n      <td>0.998759</td>\n      <td>0.986682</td>\n      <td>0.996908</td>\n      <td>0.996700</td>\n      <td>0.988185</td>\n      <td>0.997815</td>\n      <td>0.976459</td>\n      <td>...</td>\n      <td>0.997787</td>\n      <td>0.997342</td>\n      <td>0.998610</td>\n      <td>0.999852</td>\n      <td>0.999944</td>\n      <td>1.000000</td>\n      <td>0.996583</td>\n      <td>0.989556</td>\n      <td>0.990595</td>\n      <td>0.221388</td>\n    </tr>\n    <tr>\n      <th>6</th>\n      <td>0.998111</td>\n      <td>0.991287</td>\n      <td>0.997380</td>\n      <td>0.997822</td>\n      <td>0.990119</td>\n      <td>0.999670</td>\n      <td>0.993288</td>\n      <td>0.991620</td>\n      <td>0.998764</td>\n      <td>0.979912</td>\n      <td>...</td>\n      <td>0.998792</td>\n      <td>0.993929</td>\n      <td>0.995195</td>\n      <td>0.996731</td>\n      <td>0.996638</td>\n      <td>0.996583</td>\n      <td>1.000000</td>\n      <td>0.992962</td>\n      <td>0.994003</td>\n      <td>0.221744</td>\n    </tr>\n    <tr>\n      <th>7</th>\n      <td>0.994846</td>\n      <td>0.998352</td>\n      <td>0.990350</td>\n      <td>0.990792</td>\n      <td>0.997188</td>\n      <td>0.992634</td>\n      <td>0.986272</td>\n      <td>0.998684</td>\n      <td>0.991730</td>\n      <td>0.987011</td>\n      <td>...</td>\n      <td>0.991759</td>\n      <td>0.986910</td>\n      <td>0.988173</td>\n      <td>0.989703</td>\n      <td>0.989611</td>\n      <td>0.989556</td>\n      <td>0.992962</td>\n      <td>1.000000</td>\n      <td>0.998956</td>\n      <td>0.222463</td>\n    </tr>\n    <tr>\n      <th>8</th>\n      <td>0.995888</td>\n      <td>0.997307</td>\n      <td>0.991390</td>\n      <td>0.991832</td>\n      <td>0.996142</td>\n      <td>0.993675</td>\n      <td>0.987310</td>\n      <td>0.997639</td>\n      <td>0.992771</td>\n      <td>0.985961</td>\n      <td>...</td>\n      <td>0.992799</td>\n      <td>0.987948</td>\n      <td>0.989211</td>\n      <td>0.990743</td>\n      <td>0.990651</td>\n      <td>0.990595</td>\n      <td>0.994003</td>\n      <td>0.998956</td>\n      <td>1.000000</td>\n      <td>0.222358</td>\n    </tr>\n    <tr>\n      <th>9</th>\n      <td>0.221938</td>\n      <td>0.222629</td>\n      <td>0.221472</td>\n      <td>0.221518</td>\n      <td>0.222745</td>\n      <td>0.221710</td>\n      <td>0.221041</td>\n      <td>0.222596</td>\n      <td>0.221616</td>\n      <td>0.223738</td>\n      <td>...</td>\n      <td>0.221619</td>\n      <td>0.221109</td>\n      <td>0.221243</td>\n      <td>0.221404</td>\n      <td>0.221394</td>\n      <td>0.221388</td>\n      <td>0.221744</td>\n      <td>0.222463</td>\n      <td>0.222358</td>\n      <td>1.000000</td>\n    </tr>\n  </tbody>\n</table>\n<p>93 rows × 93 columns</p>\n</div>"
     },
     "metadata": {}
    }
   ],
   "execution_count": null
  },
  {
   "cell_type": "code",
   "metadata": {
    "tags": [],
    "cell_id": "00043-207c5d4c-78ed-457a-96cc-df9a95da9cb7",
    "deepnote_to_be_reexecuted": false,
    "source_hash": "e96974a3",
    "execution_start": 1639679263282,
    "execution_millis": 237,
    "deepnote_cell_type": "code"
   },
   "source": "# Faccio svd con 93 componenti (e poi mi prendo solo quelle che servono)\nn_components = 92\nsvd_latent_gestures, svd_variance = generate_gesture_gesture_svd(gestures_sim_matrix_pd, n_components=n_components)",
   "outputs": [],
   "execution_count": null
  },
  {
   "cell_type": "code",
   "metadata": {
    "deepnote_variable_name": "t3_query_top_p",
    "deepnote_variable_value": "5",
    "cell_id": "00041-8c620e05-f0f6-42c6-b128-88970e1c1838",
    "deepnote_to_be_reexecuted": false,
    "source_hash": "ca37bedc",
    "execution_start": 1639679266631,
    "execution_millis": 4,
    "deepnote_cell_type": "input-text"
   },
   "source": "t3_query_top_p = '5'",
   "outputs": [],
   "execution_count": null
  },
  {
   "cell_type": "code",
   "metadata": {
    "tags": [],
    "cell_id": "00045-15bd40d7-33e0-4c8b-8e79-96acaf28063b",
    "deepnote_to_be_reexecuted": false,
    "source_hash": "8c1b6ce9",
    "execution_start": 1639679270734,
    "execution_millis": 2,
    "deepnote_cell_type": "code"
   },
   "source": "t3_query_top_p = int(t3_query_top_p)\n# Input value check\nif t3_query_top_p < 1:\n    t3_query_top_p = 1\nelif t3_query_top_p > n_components:\n    t3_query_top_p = n_components\n\n# Tiro fuori le top p gestures latenti\ntop_p_gestures = get_top_p_latent_gestures(svd_latent_gestures, t3_query_top_p)",
   "outputs": [],
   "execution_count": null
  },
  {
   "cell_type": "code",
   "metadata": {
    "tags": [],
    "cell_id": "00046-2640e2e4-32f0-460d-9b08-42795dbb8006",
    "deepnote_to_be_reexecuted": false,
    "source_hash": "bf6ad681",
    "execution_start": 1639679291946,
    "execution_millis": 5,
    "deepnote_output_heights": [
     611
    ],
    "deepnote_cell_type": "code"
   },
   "source": "#top_p_gestures",
   "outputs": [],
   "execution_count": null
  },
  {
   "cell_type": "markdown",
   "source": "## Task 4",
   "metadata": {
    "tags": [],
    "is_collapsed": false,
    "cell_id": "00044-9cfe662a-8cc0-4eed-8c0c-f9fe6eb8fd34",
    "deepnote_cell_type": "text-cell-h2"
   }
  },
  {
   "cell_type": "code",
   "metadata": {
    "deepnote_variable_name": "t4_p_partitions",
    "deepnote_variable_value": "3",
    "cell_id": "00047-107ad2bf-4161-48cc-944f-5dd10698959d",
    "deepnote_to_be_reexecuted": false,
    "source_hash": "21bab306",
    "execution_start": 1639679308010,
    "execution_millis": 7,
    "deepnote_cell_type": "input-text"
   },
   "source": "t4_p_partitions = '3'",
   "outputs": [],
   "execution_count": null
  },
  {
   "cell_type": "code",
   "metadata": {
    "tags": [],
    "cell_id": "00048-fa675f74-61bc-4d04-9b33-06518fb6e745",
    "deepnote_to_be_reexecuted": false,
    "source_hash": "5f16cad7",
    "execution_start": 1639679353093,
    "execution_millis": 3,
    "deepnote_cell_type": "code"
   },
   "source": "t4_p_partitions = int(t4_p_partitions)\n# Input value check\nif t4_p_partitions < 1:\n    t4_p_partitions = 1",
   "outputs": [],
   "execution_count": null
  },
  {
   "cell_type": "markdown",
   "source": "### Task 4A",
   "metadata": {
    "tags": [],
    "is_collapsed": false,
    "cell_id": "00045-1989ef30-c1fe-4922-8612-930834cd9cd1",
    "deepnote_cell_type": "text-cell-h3"
   }
  },
  {
   "cell_type": "markdown",
   "source": "Partizionamento top_p_gestures in base ai loro gradi di appartenenza alle p semantiche",
   "metadata": {
    "tags": [],
    "is_collapsed": false,
    "cell_id": "00047-a0819029-fabf-499e-9cbd-2e837f0f16ab",
    "deepnote_cell_type": "text-cell-p"
   }
  },
  {
   "cell_type": "code",
   "metadata": {
    "tags": [],
    "cell_id": "00052-c04737e2-8510-42f7-861f-c8625338840c",
    "deepnote_to_be_reexecuted": false,
    "source_hash": "2523e3da",
    "execution_start": 1639679358122,
    "execution_millis": 6,
    "deepnote_cell_type": "code"
   },
   "source": "# Preparo i dati\nmax_iterations = 100 # max numero di iterazioni\n\n# Dati reali (le top p gestures appena calcolate)\n# Essendo le top p gestures in un 'formato strano' le traduco in un array numpy (sono una lista di dizionari di liste)\nX_train = top_p_gestures_2_numpy(top_p_gestures, t3_query_top_p, t1_metrics_data['filename'])\nX_test = X_train[:10] # Prendo un dato a caso giusto x testare la predict\n#X_test = [np.array([0.5, 0.2, 0.3, 0.7, 0.1])] # Un esempio a caso deve avere p dimensioni (se non presente fra i dati deve dare None)\n\n# Semplice esempio di test su 2 dimensioni\n#X_train = [np.array([1, 1]), np.array([2, 2]), np.array([3, 3]), np.array([4, 1]), np.array([1, 2]), np.array([-1, -2]), np.array([5, 2])]\n#X_test = [np.array([4, 1]), np.array([4, 2])]",
   "outputs": [],
   "execution_count": null
  },
  {
   "cell_type": "code",
   "metadata": {
    "tags": [],
    "cell_id": "00050-387b0fc0-e1be-4529-ae1a-41b89849d568",
    "deepnote_to_be_reexecuted": false,
    "source_hash": "c8693f90",
    "execution_start": 1639679366237,
    "execution_millis": 1617,
    "deepnote_output_heights": [
     194,
     155.60000610351562
    ],
    "deepnote_cell_type": "code"
   },
   "source": "# Creo e fitto il partizionatore selezionando t4_p_partitions come numero di gruppi da creare\npartitioner = MyPartitioner(t4_p_partitions, max_iterations=max_iterations)\npartitioner.fit(X_train)\n#partitioner.fit(gesture_sim_matrix)\nprint(\"Dimensione spazio:\", partitioner.groups_space_dimension)\n#print(\"Gruppi:\\n\", partitioner.groups)",
   "outputs": [
    {
     "name": "stdout",
     "text": "Dimensione spazio: 9.022009682084105\n",
     "output_type": "stream",
     "data": {}
    }
   ],
   "execution_count": null
  },
  {
   "cell_type": "code",
   "metadata": {
    "tags": [],
    "cell_id": "00051-57c18208-c98c-46bf-bf97-9c4d242d0c56",
    "deepnote_to_be_reexecuted": false,
    "source_hash": "13c56718",
    "execution_start": 1639679369797,
    "execution_millis": 12,
    "deepnote_cell_type": "code"
   },
   "source": "print(\"Predizione gruppi:\", partitioner.predict(X_test))",
   "outputs": [
    {
     "name": "stdout",
     "text": "Predizione gruppi: [0, 2, 0, 0, 0, 0, 0, 2, 2, 2]\n",
     "output_type": "stream",
     "data": {}
    }
   ],
   "execution_count": null
  },
  {
   "cell_type": "markdown",
   "source": "### Task 4B",
   "metadata": {
    "tags": [],
    "is_collapsed": false,
    "cell_id": "00046-aba01dff-15c5-4d34-91d7-d45e7d1d2aa0",
    "deepnote_cell_type": "text-cell-h3"
   }
  },
  {
   "cell_type": "markdown",
   "source": "Clustering matrice similarità gesture-gesture con un algoritmo basato sul k-means (scritto da noi)",
   "metadata": {
    "tags": [],
    "is_collapsed": false,
    "cell_id": "00049-e8f155be-1fbc-4c3e-b02b-696dfd483adc",
    "deepnote_cell_type": "text-cell-p"
   }
  },
  {
   "cell_type": "code",
   "metadata": {
    "tags": [],
    "cell_id": "00053-fc41c804-7678-4cea-b1fc-2dcc84e5b4bc",
    "deepnote_to_be_reexecuted": false,
    "source_hash": "29b2d131",
    "execution_start": 1639679374956,
    "execution_millis": 9,
    "deepnote_cell_type": "code"
   },
   "source": "# Settings del k-means\nk = t4_p_partitions # numero clusters\nmin_tolerance = 0.1 #meno di 10% differenza va bene\nmax_iterations = 5 # max numero di iterazioni\n\n# Preparo i dati x il clustering\nX_train = gestures_sim_matrix_pd.to_numpy()\n# Prendo parte dei dati x vedere poi dopo dove sono andati a finire (dovrebbero essere circa tutti nello stesso se prendo tipo i top 10)\n#(poi dopo a causa dell'ordinamento lessicografico posso avere roba differente)\nX_test = X_train[0:10] # Prendo tot elementi del training data e provo poi a predirli, o sotto predico un elemento nuovo",
   "outputs": [],
   "execution_count": null
  },
  {
   "cell_type": "code",
   "metadata": {
    "tags": [],
    "cell_id": "00058-4ef383b8-7d8c-4a21-b34c-6a26a85da39b",
    "deepnote_to_be_reexecuted": false,
    "source_hash": "418ea723",
    "execution_start": 1639679378069,
    "execution_millis": 10,
    "deepnote_cell_type": "code"
   },
   "source": "# Creazione e fit dell'algoritmo\nkmean = SimpleKMeans(k=k, min_tolerance=min_tolerance, max_iterations=max_iterations)\nkmean.fit(X_train)",
   "outputs": [],
   "execution_count": null
  },
  {
   "cell_type": "code",
   "metadata": {
    "tags": [],
    "cell_id": "00054-d6a5bc9f-5bba-42b3-93b6-c5846ecf9aea",
    "deepnote_to_be_reexecuted": false,
    "source_hash": "22b3cb16",
    "execution_start": 1639679387758,
    "execution_millis": 4,
    "deepnote_output_heights": [
     21.199996948242188,
     21.199996948242188
    ],
    "deepnote_cell_type": "code"
   },
   "source": "# Predizione dati\npredictions = kmean.predict(X_test)\nprint(predictions)",
   "outputs": [
    {
     "name": "stdout",
     "text": "[1, 1, 1, 1, 1, 1, 1, 1, 1, 1]\n",
     "output_type": "stream",
     "data": {}
    }
   ],
   "execution_count": null
  },
  {
   "cell_type": "markdown",
   "source": "### Task 4C",
   "metadata": {
    "tags": [],
    "is_collapsed": false,
    "cell_id": "00048-5cfa9be3-10a5-4401-bf03-b9d304c3196b",
    "deepnote_cell_type": "text-cell-h3"
   }
  },
  {
   "cell_type": "markdown",
   "source": "Clustering matrice similarità gesture-gesture con un algoritmo di clustering spettrale basato sulla matrice laplaciana",
   "metadata": {
    "tags": [],
    "is_collapsed": false,
    "cell_id": "00051-03956622-a0af-4ed6-8b21-e44448b6632d",
    "deepnote_cell_type": "text-cell-p"
   }
  },
  {
   "cell_type": "code",
   "metadata": {
    "tags": [],
    "cell_id": "00052-df70d435-7ebe-4eb7-88c2-2742141056d3",
    "deepnote_to_be_reexecuted": false,
    "source_hash": "4d046c65",
    "execution_start": 1639679391083,
    "execution_millis": 231,
    "deepnote_cell_type": "code"
   },
   "source": "analysys_spectral_results = spectral_clustering_analyze(gestures_sim_matrix_pd, max_clusters=15)\nanalysys_spectral_results = spectral_analisys_results_2_pandas(analysys_spectral_results, gestures_sim_matrix_pd)",
   "outputs": [],
   "execution_count": null
  },
  {
   "cell_type": "code",
   "metadata": {
    "tags": [],
    "cell_id": "00053-9c0ede94-414f-46f9-a4a6-231b3beb4052",
    "deepnote_to_be_reexecuted": false,
    "source_hash": "6e9152ab",
    "execution_start": 1639679394088,
    "execution_millis": 92,
    "deepnote_output_heights": [
     527
    ],
    "deepnote_cell_type": "code"
   },
   "source": "# Plot clusters sankey\nsource, target, value = spectral_analisys_results_pandas_2_split(analysys_spectral_results)\nfig = go.Figure(data=[go.Sankey(\n    node = dict(\n        pad = 15,\n        thickness = 20,\n        line = dict(color = \"black\", width = 0.5),\n        label = list(set(source).union(set(target))),\n        color = \"blue\"\n    ),\n    link = dict(\n        source = source,\n        target = target,\n        value = value\n    )\n)])\n\nfig.update_layout(title_text=\"Spectral Clustering Evolution\", font_size=10)\nfig.show()",
   "outputs": [
    {
     "data": {
      "text/html": "<html>\n<head><meta charset=\"utf-8\" /></head>\n<body>\n    <div>            <script src=\"https://cdnjs.cloudflare.com/ajax/libs/mathjax/2.7.5/MathJax.js?config=TeX-AMS-MML_SVG\"></script><script type=\"text/javascript\">if (window.MathJax) {MathJax.Hub.Config({SVG: {font: \"STIX-Web\"}});}</script>                <script type=\"text/javascript\">window.PlotlyConfig = {MathJaxConfig: 'local'};</script>\n        <script src=\"https://cdn.plot.ly/plotly-2.6.3.min.js\"></script>                <div id=\"aa0e7e2c-f26e-4053-9555-ab3c19425113\" class=\"plotly-graph-div\" style=\"height:525px; width:100%;\"></div>            <script type=\"text/javascript\">                                    window.PLOTLYENV=window.PLOTLYENV || {};                                    if (document.getElementById(\"aa0e7e2c-f26e-4053-9555-ab3c19425113\")) {                    Plotly.newPlot(                        \"aa0e7e2c-f26e-4053-9555-ab3c19425113\",                        [{\"link\":{\"source\":[0,0,1,2,1,3,4,5,3,5,5,6,8,6,9,9,7,6,10,10,14,13,13,12,11,11,11,15,16,15,18,20,16,19,16,17,17,23,22,21,22,21,27,25,25,25,26,23,24,32,29,28,28,32,30,35,34,34,33,32,29,31,44,41,36,39,39,38,44,42,42,39,37,37,37,43,41,40,51,49,45,47,48,45,47,54,48,51,54,53,52,52,52,46,49,50,58,59,62,57,55,57,56,58,61,62,60,64,65,61,63,67,69,76,76,74,66,70,68,74,70,73,77,67,71,75,72,79,80,78,85,83,89,83,81,82,85,89,82,88,90,78,86,87,84],\"target\":[1,2,3,4,5,6,8,9,9,7,6,10,14,13,12,10,11,11,15,16,18,20,16,19,17,15,16,23,22,21,27,25,25,26,23,24,23,32,29,28,30,32,35,28,34,29,33,29,31,44,41,36,39,39,38,42,39,37,43,37,37,40,51,49,45,47,48,54,48,53,52,52,48,52,51,46,51,50,58,59,62,62,57,55,57,56,58,61,59,60,64,57,62,65,61,63,67,69,76,74,66,70,68,74,67,70,73,77,71,75,72,79,80,78,85,83,89,83,81,82,85,88,90,82,86,87,84,92,103,91,93,94,104,96,98,99,96,91,94,101,101,100,97,102,95],\"value\":[90,3,72,3,18,56,3,1,16,1,16,42,3,14,1,16,1,16,42,16,3,12,2,1,2,12,3,26,12,28,3,12,2,1,7,1,1,27,6,26,6,2,3,2,10,2,1,7,1,16,14,15,13,7,6,3,5,5,1,6,1,1,6,13,15,16,4,6,10,2,1,5,6,1,5,1,1,1,5,9,10,5,5,5,11,5,15,7,1,2,1,5,1,1,4,1,6,10,14,6,5,15,5,14,6,2,2,1,1,5,1,10,10,10,4,8,5,12,5,12,5,2,1,2,1,5,1,10,10,4,6,8,4,12,5,13,3,1,1,2,1,6,1,5,1]},\"node\":{\"color\":\"blue\",\"label\":[0,1,2,3,4,5,6,7,8,9,10,11,12,13,14,15,16,17,18,19,20,21,22,23,24,25,26,27,28,29,30,31,32,33,34,35,36,37,38,39,40,41,42,43,44,45,46,47,48,49,50,51,52,53,54,55,56,57,58,59,60,61,62,63,64,65,66,67,68,69,70,71,72,73,74,75,76,77,78,79,80,81,82,83,84,85,86,87,88,89,90,91,92,93,94,95,96,97,98,99,100,101,102,103,104],\"line\":{\"color\":\"black\",\"width\":0.5},\"pad\":15,\"thickness\":20},\"type\":\"sankey\"}],                        {\"template\":{\"data\":{\"bar\":[{\"error_x\":{\"color\":\"#2a3f5f\"},\"error_y\":{\"color\":\"#2a3f5f\"},\"marker\":{\"line\":{\"color\":\"#E5ECF6\",\"width\":0.5},\"pattern\":{\"fillmode\":\"overlay\",\"size\":10,\"solidity\":0.2}},\"type\":\"bar\"}],\"barpolar\":[{\"marker\":{\"line\":{\"color\":\"#E5ECF6\",\"width\":0.5},\"pattern\":{\"fillmode\":\"overlay\",\"size\":10,\"solidity\":0.2}},\"type\":\"barpolar\"}],\"carpet\":[{\"aaxis\":{\"endlinecolor\":\"#2a3f5f\",\"gridcolor\":\"white\",\"linecolor\":\"white\",\"minorgridcolor\":\"white\",\"startlinecolor\":\"#2a3f5f\"},\"baxis\":{\"endlinecolor\":\"#2a3f5f\",\"gridcolor\":\"white\",\"linecolor\":\"white\",\"minorgridcolor\":\"white\",\"startlinecolor\":\"#2a3f5f\"},\"type\":\"carpet\"}],\"choropleth\":[{\"colorbar\":{\"outlinewidth\":0,\"ticks\":\"\"},\"type\":\"choropleth\"}],\"contour\":[{\"colorbar\":{\"outlinewidth\":0,\"ticks\":\"\"},\"colorscale\":[[0.0,\"#0d0887\"],[0.1111111111111111,\"#46039f\"],[0.2222222222222222,\"#7201a8\"],[0.3333333333333333,\"#9c179e\"],[0.4444444444444444,\"#bd3786\"],[0.5555555555555556,\"#d8576b\"],[0.6666666666666666,\"#ed7953\"],[0.7777777777777778,\"#fb9f3a\"],[0.8888888888888888,\"#fdca26\"],[1.0,\"#f0f921\"]],\"type\":\"contour\"}],\"contourcarpet\":[{\"colorbar\":{\"outlinewidth\":0,\"ticks\":\"\"},\"type\":\"contourcarpet\"}],\"heatmap\":[{\"colorbar\":{\"outlinewidth\":0,\"ticks\":\"\"},\"colorscale\":[[0.0,\"#0d0887\"],[0.1111111111111111,\"#46039f\"],[0.2222222222222222,\"#7201a8\"],[0.3333333333333333,\"#9c179e\"],[0.4444444444444444,\"#bd3786\"],[0.5555555555555556,\"#d8576b\"],[0.6666666666666666,\"#ed7953\"],[0.7777777777777778,\"#fb9f3a\"],[0.8888888888888888,\"#fdca26\"],[1.0,\"#f0f921\"]],\"type\":\"heatmap\"}],\"heatmapgl\":[{\"colorbar\":{\"outlinewidth\":0,\"ticks\":\"\"},\"colorscale\":[[0.0,\"#0d0887\"],[0.1111111111111111,\"#46039f\"],[0.2222222222222222,\"#7201a8\"],[0.3333333333333333,\"#9c179e\"],[0.4444444444444444,\"#bd3786\"],[0.5555555555555556,\"#d8576b\"],[0.6666666666666666,\"#ed7953\"],[0.7777777777777778,\"#fb9f3a\"],[0.8888888888888888,\"#fdca26\"],[1.0,\"#f0f921\"]],\"type\":\"heatmapgl\"}],\"histogram\":[{\"marker\":{\"pattern\":{\"fillmode\":\"overlay\",\"size\":10,\"solidity\":0.2}},\"type\":\"histogram\"}],\"histogram2d\":[{\"colorbar\":{\"outlinewidth\":0,\"ticks\":\"\"},\"colorscale\":[[0.0,\"#0d0887\"],[0.1111111111111111,\"#46039f\"],[0.2222222222222222,\"#7201a8\"],[0.3333333333333333,\"#9c179e\"],[0.4444444444444444,\"#bd3786\"],[0.5555555555555556,\"#d8576b\"],[0.6666666666666666,\"#ed7953\"],[0.7777777777777778,\"#fb9f3a\"],[0.8888888888888888,\"#fdca26\"],[1.0,\"#f0f921\"]],\"type\":\"histogram2d\"}],\"histogram2dcontour\":[{\"colorbar\":{\"outlinewidth\":0,\"ticks\":\"\"},\"colorscale\":[[0.0,\"#0d0887\"],[0.1111111111111111,\"#46039f\"],[0.2222222222222222,\"#7201a8\"],[0.3333333333333333,\"#9c179e\"],[0.4444444444444444,\"#bd3786\"],[0.5555555555555556,\"#d8576b\"],[0.6666666666666666,\"#ed7953\"],[0.7777777777777778,\"#fb9f3a\"],[0.8888888888888888,\"#fdca26\"],[1.0,\"#f0f921\"]],\"type\":\"histogram2dcontour\"}],\"mesh3d\":[{\"colorbar\":{\"outlinewidth\":0,\"ticks\":\"\"},\"type\":\"mesh3d\"}],\"parcoords\":[{\"line\":{\"colorbar\":{\"outlinewidth\":0,\"ticks\":\"\"}},\"type\":\"parcoords\"}],\"pie\":[{\"automargin\":true,\"type\":\"pie\"}],\"scatter\":[{\"marker\":{\"colorbar\":{\"outlinewidth\":0,\"ticks\":\"\"}},\"type\":\"scatter\"}],\"scatter3d\":[{\"line\":{\"colorbar\":{\"outlinewidth\":0,\"ticks\":\"\"}},\"marker\":{\"colorbar\":{\"outlinewidth\":0,\"ticks\":\"\"}},\"type\":\"scatter3d\"}],\"scattercarpet\":[{\"marker\":{\"colorbar\":{\"outlinewidth\":0,\"ticks\":\"\"}},\"type\":\"scattercarpet\"}],\"scattergeo\":[{\"marker\":{\"colorbar\":{\"outlinewidth\":0,\"ticks\":\"\"}},\"type\":\"scattergeo\"}],\"scattergl\":[{\"marker\":{\"colorbar\":{\"outlinewidth\":0,\"ticks\":\"\"}},\"type\":\"scattergl\"}],\"scattermapbox\":[{\"marker\":{\"colorbar\":{\"outlinewidth\":0,\"ticks\":\"\"}},\"type\":\"scattermapbox\"}],\"scatterpolar\":[{\"marker\":{\"colorbar\":{\"outlinewidth\":0,\"ticks\":\"\"}},\"type\":\"scatterpolar\"}],\"scatterpolargl\":[{\"marker\":{\"colorbar\":{\"outlinewidth\":0,\"ticks\":\"\"}},\"type\":\"scatterpolargl\"}],\"scatterternary\":[{\"marker\":{\"colorbar\":{\"outlinewidth\":0,\"ticks\":\"\"}},\"type\":\"scatterternary\"}],\"surface\":[{\"colorbar\":{\"outlinewidth\":0,\"ticks\":\"\"},\"colorscale\":[[0.0,\"#0d0887\"],[0.1111111111111111,\"#46039f\"],[0.2222222222222222,\"#7201a8\"],[0.3333333333333333,\"#9c179e\"],[0.4444444444444444,\"#bd3786\"],[0.5555555555555556,\"#d8576b\"],[0.6666666666666666,\"#ed7953\"],[0.7777777777777778,\"#fb9f3a\"],[0.8888888888888888,\"#fdca26\"],[1.0,\"#f0f921\"]],\"type\":\"surface\"}],\"table\":[{\"cells\":{\"fill\":{\"color\":\"#EBF0F8\"},\"line\":{\"color\":\"white\"}},\"header\":{\"fill\":{\"color\":\"#C8D4E3\"},\"line\":{\"color\":\"white\"}},\"type\":\"table\"}]},\"layout\":{\"annotationdefaults\":{\"arrowcolor\":\"#2a3f5f\",\"arrowhead\":0,\"arrowwidth\":1},\"autotypenumbers\":\"strict\",\"coloraxis\":{\"colorbar\":{\"outlinewidth\":0,\"ticks\":\"\"}},\"colorscale\":{\"diverging\":[[0,\"#8e0152\"],[0.1,\"#c51b7d\"],[0.2,\"#de77ae\"],[0.3,\"#f1b6da\"],[0.4,\"#fde0ef\"],[0.5,\"#f7f7f7\"],[0.6,\"#e6f5d0\"],[0.7,\"#b8e186\"],[0.8,\"#7fbc41\"],[0.9,\"#4d9221\"],[1,\"#276419\"]],\"sequential\":[[0.0,\"#0d0887\"],[0.1111111111111111,\"#46039f\"],[0.2222222222222222,\"#7201a8\"],[0.3333333333333333,\"#9c179e\"],[0.4444444444444444,\"#bd3786\"],[0.5555555555555556,\"#d8576b\"],[0.6666666666666666,\"#ed7953\"],[0.7777777777777778,\"#fb9f3a\"],[0.8888888888888888,\"#fdca26\"],[1.0,\"#f0f921\"]],\"sequentialminus\":[[0.0,\"#0d0887\"],[0.1111111111111111,\"#46039f\"],[0.2222222222222222,\"#7201a8\"],[0.3333333333333333,\"#9c179e\"],[0.4444444444444444,\"#bd3786\"],[0.5555555555555556,\"#d8576b\"],[0.6666666666666666,\"#ed7953\"],[0.7777777777777778,\"#fb9f3a\"],[0.8888888888888888,\"#fdca26\"],[1.0,\"#f0f921\"]]},\"colorway\":[\"#636efa\",\"#EF553B\",\"#00cc96\",\"#ab63fa\",\"#FFA15A\",\"#19d3f3\",\"#FF6692\",\"#B6E880\",\"#FF97FF\",\"#FECB52\"],\"font\":{\"color\":\"#2a3f5f\"},\"geo\":{\"bgcolor\":\"white\",\"lakecolor\":\"white\",\"landcolor\":\"#E5ECF6\",\"showlakes\":true,\"showland\":true,\"subunitcolor\":\"white\"},\"hoverlabel\":{\"align\":\"left\"},\"hovermode\":\"closest\",\"mapbox\":{\"style\":\"light\"},\"paper_bgcolor\":\"white\",\"plot_bgcolor\":\"#E5ECF6\",\"polar\":{\"angularaxis\":{\"gridcolor\":\"white\",\"linecolor\":\"white\",\"ticks\":\"\"},\"bgcolor\":\"#E5ECF6\",\"radialaxis\":{\"gridcolor\":\"white\",\"linecolor\":\"white\",\"ticks\":\"\"}},\"scene\":{\"xaxis\":{\"backgroundcolor\":\"#E5ECF6\",\"gridcolor\":\"white\",\"gridwidth\":2,\"linecolor\":\"white\",\"showbackground\":true,\"ticks\":\"\",\"zerolinecolor\":\"white\"},\"yaxis\":{\"backgroundcolor\":\"#E5ECF6\",\"gridcolor\":\"white\",\"gridwidth\":2,\"linecolor\":\"white\",\"showbackground\":true,\"ticks\":\"\",\"zerolinecolor\":\"white\"},\"zaxis\":{\"backgroundcolor\":\"#E5ECF6\",\"gridcolor\":\"white\",\"gridwidth\":2,\"linecolor\":\"white\",\"showbackground\":true,\"ticks\":\"\",\"zerolinecolor\":\"white\"}},\"shapedefaults\":{\"line\":{\"color\":\"#2a3f5f\"}},\"ternary\":{\"aaxis\":{\"gridcolor\":\"white\",\"linecolor\":\"white\",\"ticks\":\"\"},\"baxis\":{\"gridcolor\":\"white\",\"linecolor\":\"white\",\"ticks\":\"\"},\"bgcolor\":\"#E5ECF6\",\"caxis\":{\"gridcolor\":\"white\",\"linecolor\":\"white\",\"ticks\":\"\"}},\"title\":{\"x\":0.05},\"xaxis\":{\"automargin\":true,\"gridcolor\":\"white\",\"linecolor\":\"white\",\"ticks\":\"\",\"title\":{\"standoff\":15},\"zerolinecolor\":\"white\",\"zerolinewidth\":2},\"yaxis\":{\"automargin\":true,\"gridcolor\":\"white\",\"linecolor\":\"white\",\"ticks\":\"\",\"title\":{\"standoff\":15},\"zerolinecolor\":\"white\",\"zerolinewidth\":2}}},\"title\":{\"text\":\"Spectral Clustering Evolution\"},\"font\":{\"size\":10}},                        {\"responsive\": true}                    ).then(function(){\n                            \nvar gd = document.getElementById('aa0e7e2c-f26e-4053-9555-ab3c19425113');\nvar x = new MutationObserver(function (mutations, observer) {{\n        var display = window.getComputedStyle(gd).display;\n        if (!display || display === 'none') {{\n            console.log([gd, 'removed!']);\n            Plotly.purge(gd);\n            observer.disconnect();\n        }}\n}});\n\n// Listen for the removal of the full notebook cells\nvar notebookContainer = gd.closest('#notebook-container');\nif (notebookContainer) {{\n    x.observe(notebookContainer, {childList: true});\n}}\n\n// Listen for the clearing of the current output cell\nvar outputEl = gd.closest('.output');\nif (outputEl) {{\n    x.observe(outputEl, {childList: true});\n}}\n\n                        })                };                            </script>        </div>\n</body>\n</html>"
     },
     "metadata": {},
     "output_type": "display_data"
    }
   ],
   "execution_count": null
  },
  {
   "cell_type": "code",
   "metadata": {
    "tags": [],
    "cell_id": "00064-dcc73abb-8745-4437-80f2-3714d5ed2b6e",
    "deepnote_to_be_reexecuted": false,
    "source_hash": "61bc35c5",
    "execution_start": 1639679564459,
    "execution_millis": 0,
    "deepnote_cell_type": "code"
   },
   "source": "generated_cluster_labels = spectral_clustering(gestures_sim_matrix_pd, n_clusters=t4_p_partitions)#, offset=44) # Usare offset se vogliamo mostrare i nomi dei cluster mostrati nel sankey, offset=44 per n_clusters=10\nclustering_labels = [str(elem) for elem in set(generated_cluster_labels)] # All the cluster names\ncluster_labels_full = cluster_labels_2_pandas(generated_cluster_labels, gestures_sim_matrix_pd.columns)",
   "outputs": [],
   "execution_count": null
  },
  {
   "cell_type": "code",
   "metadata": {
    "tags": [],
    "cell_id": "00065-23d0f2d0-ab55-4cde-8c6c-ed3697cb19d0",
    "deepnote_to_be_reexecuted": false,
    "source_hash": "6c26d295",
    "execution_start": 1639679565817,
    "execution_millis": 7,
    "deepnote_cell_type": "code"
   },
   "source": "print(\"Cluster Names:\", clustering_labels)\nprint(\"\\nClustering Result:\\n\", generated_cluster_labels)\n## In caso si voglia far vedere per bene le accoppiate (Gesture X, Label Y)\nprint(\"\\nClustering Results(full info):\\n\", cluster_labels_full)",
   "outputs": [
    {
     "name": "stdout",
     "text": "Cluster Names: ['0', '1', '2']\n\nClustering Result:\n [0 0 0 0 0 0 0 0 0 0 0 0 0 0 0 0 0 0 0 0 0 0 0 0 0 0 0 0 0 0 0 0 0 0 0 0 0\n 0 0 1 0 0 0 1 0 0 0 0 0 0 0 0 0 0 0 0 0 0 2 0 0 0 0 0 0 0 0 0 0 0 0 0 0 0\n 0 2 2 2 2 2 2 2 2 2 2 2 2 2 2 2 2 2 1]\n\nClustering Results(full info):\n [{'Gesture': '1', 'Label': 0}, {'Gesture': '10', 'Label': 0}, {'Gesture': '11', 'Label': 0}, {'Gesture': '12', 'Label': 0}, {'Gesture': '13', 'Label': 0}, {'Gesture': '14', 'Label': 0}, {'Gesture': '15', 'Label': 0}, {'Gesture': '16', 'Label': 0}, {'Gesture': '17', 'Label': 0}, {'Gesture': '18', 'Label': 0}, {'Gesture': '19', 'Label': 0}, {'Gesture': '2', 'Label': 0}, {'Gesture': '20', 'Label': 0}, {'Gesture': '21', 'Label': 0}, {'Gesture': '22', 'Label': 0}, {'Gesture': '23', 'Label': 0}, {'Gesture': '24', 'Label': 0}, {'Gesture': '249', 'Label': 0}, {'Gesture': '25', 'Label': 0}, {'Gesture': '250', 'Label': 0}, {'Gesture': '251', 'Label': 0}, {'Gesture': '252', 'Label': 0}, {'Gesture': '253', 'Label': 0}, {'Gesture': '254', 'Label': 0}, {'Gesture': '255', 'Label': 0}, {'Gesture': '256', 'Label': 0}, {'Gesture': '257', 'Label': 0}, {'Gesture': '258', 'Label': 0}, {'Gesture': '259', 'Label': 0}, {'Gesture': '26', 'Label': 0}, {'Gesture': '260', 'Label': 0}, {'Gesture': '261', 'Label': 0}, {'Gesture': '262', 'Label': 0}, {'Gesture': '263', 'Label': 0}, {'Gesture': '264', 'Label': 0}, {'Gesture': '265', 'Label': 0}, {'Gesture': '266', 'Label': 0}, {'Gesture': '267', 'Label': 0}, {'Gesture': '268', 'Label': 0}, {'Gesture': '269', 'Label': 1}, {'Gesture': '27', 'Label': 0}, {'Gesture': '270', 'Label': 0}, {'Gesture': '271', 'Label': 0}, {'Gesture': '272', 'Label': 1}, {'Gesture': '273', 'Label': 0}, {'Gesture': '274', 'Label': 0}, {'Gesture': '275', 'Label': 0}, {'Gesture': '276', 'Label': 0}, {'Gesture': '277', 'Label': 0}, {'Gesture': '278', 'Label': 0}, {'Gesture': '279', 'Label': 0}, {'Gesture': '28', 'Label': 0}, {'Gesture': '29', 'Label': 0}, {'Gesture': '3', 'Label': 0}, {'Gesture': '30', 'Label': 0}, {'Gesture': '31', 'Label': 0}, {'Gesture': '4', 'Label': 0}, {'Gesture': '5', 'Label': 0}, {'Gesture': '559', 'Label': 2}, {'Gesture': '560', 'Label': 0}, {'Gesture': '561', 'Label': 0}, {'Gesture': '562', 'Label': 0}, {'Gesture': '563', 'Label': 0}, {'Gesture': '564', 'Label': 0}, {'Gesture': '565', 'Label': 0}, {'Gesture': '566', 'Label': 0}, {'Gesture': '567', 'Label': 0}, {'Gesture': '568', 'Label': 0}, {'Gesture': '569', 'Label': 0}, {'Gesture': '570', 'Label': 0}, {'Gesture': '571', 'Label': 0}, {'Gesture': '572', 'Label': 0}, {'Gesture': '573', 'Label': 0}, {'Gesture': '574', 'Label': 0}, {'Gesture': '575', 'Label': 0}, {'Gesture': '576', 'Label': 2}, {'Gesture': '577', 'Label': 2}, {'Gesture': '578', 'Label': 2}, {'Gesture': '579', 'Label': 2}, {'Gesture': '580', 'Label': 2}, {'Gesture': '581', 'Label': 2}, {'Gesture': '582', 'Label': 2}, {'Gesture': '583', 'Label': 2}, {'Gesture': '584', 'Label': 2}, {'Gesture': '585', 'Label': 2}, {'Gesture': '586', 'Label': 2}, {'Gesture': '587', 'Label': 2}, {'Gesture': '588', 'Label': 2}, {'Gesture': '589', 'Label': 2}, {'Gesture': '6', 'Label': 2}, {'Gesture': '7', 'Label': 2}, {'Gesture': '8', 'Label': 2}, {'Gesture': '9', 'Label': 1}]\n",
     "output_type": "stream",
     "data": {}
    }
   ],
   "execution_count": null
  },
  {
   "cell_type": "markdown",
   "source": "## Task 5 ",
   "metadata": {
    "tags": [],
    "is_collapsed": false,
    "cell_id": "00047-ca6ba479-67d1-47c0-9e18-3f88843cf02f",
    "deepnote_cell_type": "text-cell-h2"
   }
  },
  {
   "cell_type": "code",
   "metadata": {
    "tags": [],
    "cell_id": "00067-76b186c5-5cb0-4b47-b940-e567f47b3667",
    "deepnote_to_be_reexecuted": false,
    "source_hash": "bb23882f",
    "execution_start": 1639679737851,
    "execution_millis": 235,
    "deepnote_cell_type": "code"
   },
   "source": "# Preparazione dataset\n# In task 1 avevo generato i dati utilizzabili qui che sono in\n#t5_data = { 'data', 'labels' }\n# Posso usare meno feature latenti facendo\nn_features_latenti = 15\ntask_data = t5_data['data'][:,:n_features_latenti]\ntask_target = t5_data['labels']\n# Genero il dataframe pandas a partire dai dati e dalle loro labels\n(X_train_df, y_train_df), (X_test_df, y_test_df), features_names = database_numpy_2_supervised_data(task_data, task_target)\n\nX_train = X_train_df.to_numpy()\ny_train = y_train_df.values.ravel()\n# Normalizzo i dati di test\nX_test = X_test_df.to_numpy()\ny_test = y_test_df.values.ravel()",
   "outputs": [],
   "execution_count": null
  },
  {
   "cell_type": "markdown",
   "source": "### Classificazione con k-nearest neighbor",
   "metadata": {
    "tags": [],
    "is_collapsed": false,
    "cell_id": "00058-be2015dd-a32d-49bd-80ca-c70d45ea5f1d",
    "deepnote_cell_type": "text-cell-h3"
   }
  },
  {
   "cell_type": "code",
   "metadata": {
    "tags": [],
    "cell_id": "00070-72e9d292-d2c4-4fd3-b412-bffa2a35686e",
    "deepnote_to_be_reexecuted": false,
    "source_hash": "2a37737e",
    "execution_start": 1639679813655,
    "execution_millis": 426,
    "deepnote_output_heights": [
     527
    ],
    "deepnote_cell_type": "code"
   },
   "source": "weight = 'uniform'#'uniform', 'distance'\naccuracy_data_df = test_knn_best_K(X_train, y_train, X_test, y_test, max_neighbors=len(X_train)+1, weights=weight)\nfig = px.line(accuracy_data_df, x=\"# Neighbors\", y=\"Accuracy\", title='KNN accuracy based on # of neighbors used')\nfig.show()",
   "outputs": [
    {
     "data": {
      "text/html": "<html>\n<head><meta charset=\"utf-8\" /></head>\n<body>\n    <div>            <script src=\"https://cdnjs.cloudflare.com/ajax/libs/mathjax/2.7.5/MathJax.js?config=TeX-AMS-MML_SVG\"></script><script type=\"text/javascript\">if (window.MathJax) {MathJax.Hub.Config({SVG: {font: \"STIX-Web\"}});}</script>                <script type=\"text/javascript\">window.PlotlyConfig = {MathJaxConfig: 'local'};</script>\n        <script src=\"https://cdn.plot.ly/plotly-2.6.3.min.js\"></script>                <div id=\"63c77f51-f785-48a2-a5b5-66c58c5a6295\" class=\"plotly-graph-div\" style=\"height:525px; width:100%;\"></div>            <script type=\"text/javascript\">                                    window.PLOTLYENV=window.PLOTLYENV || {};                                    if (document.getElementById(\"63c77f51-f785-48a2-a5b5-66c58c5a6295\")) {                    Plotly.newPlot(                        \"63c77f51-f785-48a2-a5b5-66c58c5a6295\",                        [{\"hovertemplate\":\"# Neighbors=%{x}<br>Accuracy=%{y}<extra></extra>\",\"legendgroup\":\"\",\"line\":{\"color\":\"#636efa\",\"dash\":\"solid\"},\"marker\":{\"symbol\":\"circle\"},\"mode\":\"lines\",\"name\":\"\",\"orientation\":\"v\",\"showlegend\":false,\"x\":[1.0,2.0,3.0,4.0,5.0,6.0,7.0,8.0,9.0,10.0,11.0,12.0,13.0,14.0,15.0,16.0,17.0,18.0,19.0,20.0,21.0,22.0,23.0,24.0,25.0,26.0,27.0,28.0,29.0,30.0,31.0,32.0,33.0,34.0,35.0,36.0,37.0,38.0,39.0,40.0,41.0,42.0,43.0,44.0,45.0,46.0,47.0,48.0,49.0,50.0,51.0,52.0,53.0,54.0,55.0,56.0,57.0,58.0,59.0,60.0,61.0,62.0,63.0,64.0,65.0],\"xaxis\":\"x\",\"y\":[0.53571,0.32143,0.32143,0.32143,0.28571,0.35714,0.42857,0.42857,0.39286,0.42857,0.42857,0.42857,0.57143,0.5,0.57143,0.57143,0.5,0.46429,0.42857,0.39286,0.46429,0.42857,0.32143,0.5,0.42857,0.46429,0.5,0.35714,0.35714,0.42857,0.35714,0.32143,0.32143,0.35714,0.32143,0.32143,0.32143,0.32143,0.32143,0.32143,0.35714,0.32143,0.35714,0.35714,0.32143,0.39286,0.39286,0.32143,0.35714,0.25,0.25,0.17857,0.32143,0.32143,0.32143,0.32143,0.32143,0.32143,0.32143,0.35714,0.32143,0.32143,0.32143,0.32143,0.32143],\"yaxis\":\"y\",\"type\":\"scatter\"}],                        {\"template\":{\"data\":{\"bar\":[{\"error_x\":{\"color\":\"#2a3f5f\"},\"error_y\":{\"color\":\"#2a3f5f\"},\"marker\":{\"line\":{\"color\":\"#E5ECF6\",\"width\":0.5},\"pattern\":{\"fillmode\":\"overlay\",\"size\":10,\"solidity\":0.2}},\"type\":\"bar\"}],\"barpolar\":[{\"marker\":{\"line\":{\"color\":\"#E5ECF6\",\"width\":0.5},\"pattern\":{\"fillmode\":\"overlay\",\"size\":10,\"solidity\":0.2}},\"type\":\"barpolar\"}],\"carpet\":[{\"aaxis\":{\"endlinecolor\":\"#2a3f5f\",\"gridcolor\":\"white\",\"linecolor\":\"white\",\"minorgridcolor\":\"white\",\"startlinecolor\":\"#2a3f5f\"},\"baxis\":{\"endlinecolor\":\"#2a3f5f\",\"gridcolor\":\"white\",\"linecolor\":\"white\",\"minorgridcolor\":\"white\",\"startlinecolor\":\"#2a3f5f\"},\"type\":\"carpet\"}],\"choropleth\":[{\"colorbar\":{\"outlinewidth\":0,\"ticks\":\"\"},\"type\":\"choropleth\"}],\"contour\":[{\"colorbar\":{\"outlinewidth\":0,\"ticks\":\"\"},\"colorscale\":[[0.0,\"#0d0887\"],[0.1111111111111111,\"#46039f\"],[0.2222222222222222,\"#7201a8\"],[0.3333333333333333,\"#9c179e\"],[0.4444444444444444,\"#bd3786\"],[0.5555555555555556,\"#d8576b\"],[0.6666666666666666,\"#ed7953\"],[0.7777777777777778,\"#fb9f3a\"],[0.8888888888888888,\"#fdca26\"],[1.0,\"#f0f921\"]],\"type\":\"contour\"}],\"contourcarpet\":[{\"colorbar\":{\"outlinewidth\":0,\"ticks\":\"\"},\"type\":\"contourcarpet\"}],\"heatmap\":[{\"colorbar\":{\"outlinewidth\":0,\"ticks\":\"\"},\"colorscale\":[[0.0,\"#0d0887\"],[0.1111111111111111,\"#46039f\"],[0.2222222222222222,\"#7201a8\"],[0.3333333333333333,\"#9c179e\"],[0.4444444444444444,\"#bd3786\"],[0.5555555555555556,\"#d8576b\"],[0.6666666666666666,\"#ed7953\"],[0.7777777777777778,\"#fb9f3a\"],[0.8888888888888888,\"#fdca26\"],[1.0,\"#f0f921\"]],\"type\":\"heatmap\"}],\"heatmapgl\":[{\"colorbar\":{\"outlinewidth\":0,\"ticks\":\"\"},\"colorscale\":[[0.0,\"#0d0887\"],[0.1111111111111111,\"#46039f\"],[0.2222222222222222,\"#7201a8\"],[0.3333333333333333,\"#9c179e\"],[0.4444444444444444,\"#bd3786\"],[0.5555555555555556,\"#d8576b\"],[0.6666666666666666,\"#ed7953\"],[0.7777777777777778,\"#fb9f3a\"],[0.8888888888888888,\"#fdca26\"],[1.0,\"#f0f921\"]],\"type\":\"heatmapgl\"}],\"histogram\":[{\"marker\":{\"pattern\":{\"fillmode\":\"overlay\",\"size\":10,\"solidity\":0.2}},\"type\":\"histogram\"}],\"histogram2d\":[{\"colorbar\":{\"outlinewidth\":0,\"ticks\":\"\"},\"colorscale\":[[0.0,\"#0d0887\"],[0.1111111111111111,\"#46039f\"],[0.2222222222222222,\"#7201a8\"],[0.3333333333333333,\"#9c179e\"],[0.4444444444444444,\"#bd3786\"],[0.5555555555555556,\"#d8576b\"],[0.6666666666666666,\"#ed7953\"],[0.7777777777777778,\"#fb9f3a\"],[0.8888888888888888,\"#fdca26\"],[1.0,\"#f0f921\"]],\"type\":\"histogram2d\"}],\"histogram2dcontour\":[{\"colorbar\":{\"outlinewidth\":0,\"ticks\":\"\"},\"colorscale\":[[0.0,\"#0d0887\"],[0.1111111111111111,\"#46039f\"],[0.2222222222222222,\"#7201a8\"],[0.3333333333333333,\"#9c179e\"],[0.4444444444444444,\"#bd3786\"],[0.5555555555555556,\"#d8576b\"],[0.6666666666666666,\"#ed7953\"],[0.7777777777777778,\"#fb9f3a\"],[0.8888888888888888,\"#fdca26\"],[1.0,\"#f0f921\"]],\"type\":\"histogram2dcontour\"}],\"mesh3d\":[{\"colorbar\":{\"outlinewidth\":0,\"ticks\":\"\"},\"type\":\"mesh3d\"}],\"parcoords\":[{\"line\":{\"colorbar\":{\"outlinewidth\":0,\"ticks\":\"\"}},\"type\":\"parcoords\"}],\"pie\":[{\"automargin\":true,\"type\":\"pie\"}],\"scatter\":[{\"marker\":{\"colorbar\":{\"outlinewidth\":0,\"ticks\":\"\"}},\"type\":\"scatter\"}],\"scatter3d\":[{\"line\":{\"colorbar\":{\"outlinewidth\":0,\"ticks\":\"\"}},\"marker\":{\"colorbar\":{\"outlinewidth\":0,\"ticks\":\"\"}},\"type\":\"scatter3d\"}],\"scattercarpet\":[{\"marker\":{\"colorbar\":{\"outlinewidth\":0,\"ticks\":\"\"}},\"type\":\"scattercarpet\"}],\"scattergeo\":[{\"marker\":{\"colorbar\":{\"outlinewidth\":0,\"ticks\":\"\"}},\"type\":\"scattergeo\"}],\"scattergl\":[{\"marker\":{\"colorbar\":{\"outlinewidth\":0,\"ticks\":\"\"}},\"type\":\"scattergl\"}],\"scattermapbox\":[{\"marker\":{\"colorbar\":{\"outlinewidth\":0,\"ticks\":\"\"}},\"type\":\"scattermapbox\"}],\"scatterpolar\":[{\"marker\":{\"colorbar\":{\"outlinewidth\":0,\"ticks\":\"\"}},\"type\":\"scatterpolar\"}],\"scatterpolargl\":[{\"marker\":{\"colorbar\":{\"outlinewidth\":0,\"ticks\":\"\"}},\"type\":\"scatterpolargl\"}],\"scatterternary\":[{\"marker\":{\"colorbar\":{\"outlinewidth\":0,\"ticks\":\"\"}},\"type\":\"scatterternary\"}],\"surface\":[{\"colorbar\":{\"outlinewidth\":0,\"ticks\":\"\"},\"colorscale\":[[0.0,\"#0d0887\"],[0.1111111111111111,\"#46039f\"],[0.2222222222222222,\"#7201a8\"],[0.3333333333333333,\"#9c179e\"],[0.4444444444444444,\"#bd3786\"],[0.5555555555555556,\"#d8576b\"],[0.6666666666666666,\"#ed7953\"],[0.7777777777777778,\"#fb9f3a\"],[0.8888888888888888,\"#fdca26\"],[1.0,\"#f0f921\"]],\"type\":\"surface\"}],\"table\":[{\"cells\":{\"fill\":{\"color\":\"#EBF0F8\"},\"line\":{\"color\":\"white\"}},\"header\":{\"fill\":{\"color\":\"#C8D4E3\"},\"line\":{\"color\":\"white\"}},\"type\":\"table\"}]},\"layout\":{\"annotationdefaults\":{\"arrowcolor\":\"#2a3f5f\",\"arrowhead\":0,\"arrowwidth\":1},\"autotypenumbers\":\"strict\",\"coloraxis\":{\"colorbar\":{\"outlinewidth\":0,\"ticks\":\"\"}},\"colorscale\":{\"diverging\":[[0,\"#8e0152\"],[0.1,\"#c51b7d\"],[0.2,\"#de77ae\"],[0.3,\"#f1b6da\"],[0.4,\"#fde0ef\"],[0.5,\"#f7f7f7\"],[0.6,\"#e6f5d0\"],[0.7,\"#b8e186\"],[0.8,\"#7fbc41\"],[0.9,\"#4d9221\"],[1,\"#276419\"]],\"sequential\":[[0.0,\"#0d0887\"],[0.1111111111111111,\"#46039f\"],[0.2222222222222222,\"#7201a8\"],[0.3333333333333333,\"#9c179e\"],[0.4444444444444444,\"#bd3786\"],[0.5555555555555556,\"#d8576b\"],[0.6666666666666666,\"#ed7953\"],[0.7777777777777778,\"#fb9f3a\"],[0.8888888888888888,\"#fdca26\"],[1.0,\"#f0f921\"]],\"sequentialminus\":[[0.0,\"#0d0887\"],[0.1111111111111111,\"#46039f\"],[0.2222222222222222,\"#7201a8\"],[0.3333333333333333,\"#9c179e\"],[0.4444444444444444,\"#bd3786\"],[0.5555555555555556,\"#d8576b\"],[0.6666666666666666,\"#ed7953\"],[0.7777777777777778,\"#fb9f3a\"],[0.8888888888888888,\"#fdca26\"],[1.0,\"#f0f921\"]]},\"colorway\":[\"#636efa\",\"#EF553B\",\"#00cc96\",\"#ab63fa\",\"#FFA15A\",\"#19d3f3\",\"#FF6692\",\"#B6E880\",\"#FF97FF\",\"#FECB52\"],\"font\":{\"color\":\"#2a3f5f\"},\"geo\":{\"bgcolor\":\"white\",\"lakecolor\":\"white\",\"landcolor\":\"#E5ECF6\",\"showlakes\":true,\"showland\":true,\"subunitcolor\":\"white\"},\"hoverlabel\":{\"align\":\"left\"},\"hovermode\":\"closest\",\"mapbox\":{\"style\":\"light\"},\"paper_bgcolor\":\"white\",\"plot_bgcolor\":\"#E5ECF6\",\"polar\":{\"angularaxis\":{\"gridcolor\":\"white\",\"linecolor\":\"white\",\"ticks\":\"\"},\"bgcolor\":\"#E5ECF6\",\"radialaxis\":{\"gridcolor\":\"white\",\"linecolor\":\"white\",\"ticks\":\"\"}},\"scene\":{\"xaxis\":{\"backgroundcolor\":\"#E5ECF6\",\"gridcolor\":\"white\",\"gridwidth\":2,\"linecolor\":\"white\",\"showbackground\":true,\"ticks\":\"\",\"zerolinecolor\":\"white\"},\"yaxis\":{\"backgroundcolor\":\"#E5ECF6\",\"gridcolor\":\"white\",\"gridwidth\":2,\"linecolor\":\"white\",\"showbackground\":true,\"ticks\":\"\",\"zerolinecolor\":\"white\"},\"zaxis\":{\"backgroundcolor\":\"#E5ECF6\",\"gridcolor\":\"white\",\"gridwidth\":2,\"linecolor\":\"white\",\"showbackground\":true,\"ticks\":\"\",\"zerolinecolor\":\"white\"}},\"shapedefaults\":{\"line\":{\"color\":\"#2a3f5f\"}},\"ternary\":{\"aaxis\":{\"gridcolor\":\"white\",\"linecolor\":\"white\",\"ticks\":\"\"},\"baxis\":{\"gridcolor\":\"white\",\"linecolor\":\"white\",\"ticks\":\"\"},\"bgcolor\":\"#E5ECF6\",\"caxis\":{\"gridcolor\":\"white\",\"linecolor\":\"white\",\"ticks\":\"\"}},\"title\":{\"x\":0.05},\"xaxis\":{\"automargin\":true,\"gridcolor\":\"white\",\"linecolor\":\"white\",\"ticks\":\"\",\"title\":{\"standoff\":15},\"zerolinecolor\":\"white\",\"zerolinewidth\":2},\"yaxis\":{\"automargin\":true,\"gridcolor\":\"white\",\"linecolor\":\"white\",\"ticks\":\"\",\"title\":{\"standoff\":15},\"zerolinecolor\":\"white\",\"zerolinewidth\":2}}},\"xaxis\":{\"anchor\":\"y\",\"domain\":[0.0,1.0],\"title\":{\"text\":\"# Neighbors\"}},\"yaxis\":{\"anchor\":\"x\",\"domain\":[0.0,1.0],\"title\":{\"text\":\"Accuracy\"}},\"legend\":{\"tracegroupgap\":0},\"title\":{\"text\":\"KNN accuracy based on # of neighbors used\"}},                        {\"responsive\": true}                    ).then(function(){\n                            \nvar gd = document.getElementById('63c77f51-f785-48a2-a5b5-66c58c5a6295');\nvar x = new MutationObserver(function (mutations, observer) {{\n        var display = window.getComputedStyle(gd).display;\n        if (!display || display === 'none') {{\n            console.log([gd, 'removed!']);\n            Plotly.purge(gd);\n            observer.disconnect();\n        }}\n}});\n\n// Listen for the removal of the full notebook cells\nvar notebookContainer = gd.closest('#notebook-container');\nif (notebookContainer) {{\n    x.observe(notebookContainer, {childList: true});\n}}\n\n// Listen for the clearing of the current output cell\nvar outputEl = gd.closest('.output');\nif (outputEl) {{\n    x.observe(outputEl, {childList: true});\n}}\n\n                        })                };                            </script>        </div>\n</body>\n</html>"
     },
     "metadata": {},
     "output_type": "display_data"
    }
   ],
   "execution_count": null
  },
  {
   "cell_type": "code",
   "metadata": {
    "tags": [],
    "cell_id": "00058-4219f70d-c44d-464a-a238-6f9f9f157f98",
    "deepnote_to_be_reexecuted": false,
    "source_hash": "b848b6a9",
    "execution_start": 1639679749493,
    "execution_millis": 12,
    "deepnote_output_heights": [
     21.199996948242188
    ],
    "deepnote_cell_type": "code"
   },
   "source": "# Addestro il classificatore\nn_neighbors = 19 # Numero di vicini che uso x decidere la label\nclassifier = KNeighborsClassifier(n_neighbors=n_neighbors, weights=weight)\nclassifier.fit(X_train, y_train)",
   "outputs": [
    {
     "output_type": "execute_result",
     "execution_count": 78,
     "data": {
      "text/plain": "KNeighborsClassifier(n_neighbors=19)"
     },
     "metadata": {}
    }
   ],
   "execution_count": null
  },
  {
   "cell_type": "code",
   "metadata": {
    "tags": [],
    "cell_id": "00061-0abd1337-9406-4c02-91b2-ad8ffdeb4137",
    "deepnote_to_be_reexecuted": false,
    "source_hash": "1162bf93",
    "execution_start": 1639679751440,
    "execution_millis": 12,
    "deepnote_output_heights": [
     21.199996948242188
    ],
    "deepnote_cell_type": "code"
   },
   "source": "# Predico\ny_pred = classifier.predict(X_test)\nprint(\"(\"+str(n_neighbors)+\")NN - Predictions:\\n\", y_pred)\nprint(\"Reals:\\n\", y_test)\nprint(\"Accuracy\", format_float(accuracy_score(y_test, y_pred)))",
   "outputs": [
    {
     "name": "stdout",
     "text": "(19)NN - Predictions:\n [2. 1. 1. 1. 1. 1. 0. 1. 1. 0. 1. 1. 0. 0. 0. 0. 0. 0. 1. 1. 1. 0. 1. 1.\n 1. 1. 1. 1.]\nReals:\n [2. 1. 1. 0. 0. 1. 0. 1. 2. 2. 0. 0. 2. 2. 2. 0. 0. 1. 1. 0. 0. 2. 2. 2.\n 0. 1. 1. 1.]\nAccuracy 0.42857\n",
     "output_type": "stream",
     "data": {}
    }
   ],
   "execution_count": null
  },
  {
   "cell_type": "markdown",
   "source": "### Classificazione con decision tree",
   "metadata": {
    "tags": [],
    "is_collapsed": false,
    "cell_id": "00060-635d37c3-f66e-454d-8b84-316306713b7a",
    "deepnote_cell_type": "text-cell-h3"
   }
  },
  {
   "cell_type": "code",
   "metadata": {
    "tags": [],
    "cell_id": "00073-1dcdc65a-e664-4bf6-88b8-6e29f884d6c9",
    "deepnote_to_be_reexecuted": false,
    "source_hash": "35554668",
    "execution_start": 1639679762073,
    "execution_millis": 177,
    "deepnote_output_heights": [
     527
    ],
    "deepnote_cell_type": "code"
   },
   "source": "m_criterion = 'entropy' # 'gini', 'entropy'\naccuracy_data_df = test_tree_best_depth(X_train, y_train, X_test, y_test, m_criterion, max_depth=20)\nfig = px.line(accuracy_data_df, x=\"Depth\", y=\"Accuracy\", title='Decision Tree accuracy based on his depth')\nfig.show()",
   "outputs": [
    {
     "data": {
      "text/html": "<html>\n<head><meta charset=\"utf-8\" /></head>\n<body>\n    <div>            <script src=\"https://cdnjs.cloudflare.com/ajax/libs/mathjax/2.7.5/MathJax.js?config=TeX-AMS-MML_SVG\"></script><script type=\"text/javascript\">if (window.MathJax) {MathJax.Hub.Config({SVG: {font: \"STIX-Web\"}});}</script>                <script type=\"text/javascript\">window.PlotlyConfig = {MathJaxConfig: 'local'};</script>\n        <script src=\"https://cdn.plot.ly/plotly-2.6.3.min.js\"></script>                <div id=\"5818dcbb-158c-4ad7-bf57-c301aee7a071\" class=\"plotly-graph-div\" style=\"height:525px; width:100%;\"></div>            <script type=\"text/javascript\">                                    window.PLOTLYENV=window.PLOTLYENV || {};                                    if (document.getElementById(\"5818dcbb-158c-4ad7-bf57-c301aee7a071\")) {                    Plotly.newPlot(                        \"5818dcbb-158c-4ad7-bf57-c301aee7a071\",                        [{\"hovertemplate\":\"Depth=%{x}<br>Accuracy=%{y}<extra></extra>\",\"legendgroup\":\"\",\"line\":{\"color\":\"#636efa\",\"dash\":\"solid\"},\"marker\":{\"symbol\":\"circle\"},\"mode\":\"lines\",\"name\":\"\",\"orientation\":\"v\",\"showlegend\":false,\"x\":[1.0,2.0,3.0,4.0,5.0,6.0,7.0,8.0,9.0,10.0,11.0,12.0,13.0,14.0,15.0,16.0,17.0,18.0,19.0],\"xaxis\":\"x\",\"y\":[0.39286,0.5,0.57143,0.46429,0.46429,0.5,0.46429,0.46429,0.5,0.5,0.5,0.5,0.57143,0.5,0.5,0.5,0.5,0.5,0.5],\"yaxis\":\"y\",\"type\":\"scatter\"}],                        {\"template\":{\"data\":{\"bar\":[{\"error_x\":{\"color\":\"#2a3f5f\"},\"error_y\":{\"color\":\"#2a3f5f\"},\"marker\":{\"line\":{\"color\":\"#E5ECF6\",\"width\":0.5},\"pattern\":{\"fillmode\":\"overlay\",\"size\":10,\"solidity\":0.2}},\"type\":\"bar\"}],\"barpolar\":[{\"marker\":{\"line\":{\"color\":\"#E5ECF6\",\"width\":0.5},\"pattern\":{\"fillmode\":\"overlay\",\"size\":10,\"solidity\":0.2}},\"type\":\"barpolar\"}],\"carpet\":[{\"aaxis\":{\"endlinecolor\":\"#2a3f5f\",\"gridcolor\":\"white\",\"linecolor\":\"white\",\"minorgridcolor\":\"white\",\"startlinecolor\":\"#2a3f5f\"},\"baxis\":{\"endlinecolor\":\"#2a3f5f\",\"gridcolor\":\"white\",\"linecolor\":\"white\",\"minorgridcolor\":\"white\",\"startlinecolor\":\"#2a3f5f\"},\"type\":\"carpet\"}],\"choropleth\":[{\"colorbar\":{\"outlinewidth\":0,\"ticks\":\"\"},\"type\":\"choropleth\"}],\"contour\":[{\"colorbar\":{\"outlinewidth\":0,\"ticks\":\"\"},\"colorscale\":[[0.0,\"#0d0887\"],[0.1111111111111111,\"#46039f\"],[0.2222222222222222,\"#7201a8\"],[0.3333333333333333,\"#9c179e\"],[0.4444444444444444,\"#bd3786\"],[0.5555555555555556,\"#d8576b\"],[0.6666666666666666,\"#ed7953\"],[0.7777777777777778,\"#fb9f3a\"],[0.8888888888888888,\"#fdca26\"],[1.0,\"#f0f921\"]],\"type\":\"contour\"}],\"contourcarpet\":[{\"colorbar\":{\"outlinewidth\":0,\"ticks\":\"\"},\"type\":\"contourcarpet\"}],\"heatmap\":[{\"colorbar\":{\"outlinewidth\":0,\"ticks\":\"\"},\"colorscale\":[[0.0,\"#0d0887\"],[0.1111111111111111,\"#46039f\"],[0.2222222222222222,\"#7201a8\"],[0.3333333333333333,\"#9c179e\"],[0.4444444444444444,\"#bd3786\"],[0.5555555555555556,\"#d8576b\"],[0.6666666666666666,\"#ed7953\"],[0.7777777777777778,\"#fb9f3a\"],[0.8888888888888888,\"#fdca26\"],[1.0,\"#f0f921\"]],\"type\":\"heatmap\"}],\"heatmapgl\":[{\"colorbar\":{\"outlinewidth\":0,\"ticks\":\"\"},\"colorscale\":[[0.0,\"#0d0887\"],[0.1111111111111111,\"#46039f\"],[0.2222222222222222,\"#7201a8\"],[0.3333333333333333,\"#9c179e\"],[0.4444444444444444,\"#bd3786\"],[0.5555555555555556,\"#d8576b\"],[0.6666666666666666,\"#ed7953\"],[0.7777777777777778,\"#fb9f3a\"],[0.8888888888888888,\"#fdca26\"],[1.0,\"#f0f921\"]],\"type\":\"heatmapgl\"}],\"histogram\":[{\"marker\":{\"pattern\":{\"fillmode\":\"overlay\",\"size\":10,\"solidity\":0.2}},\"type\":\"histogram\"}],\"histogram2d\":[{\"colorbar\":{\"outlinewidth\":0,\"ticks\":\"\"},\"colorscale\":[[0.0,\"#0d0887\"],[0.1111111111111111,\"#46039f\"],[0.2222222222222222,\"#7201a8\"],[0.3333333333333333,\"#9c179e\"],[0.4444444444444444,\"#bd3786\"],[0.5555555555555556,\"#d8576b\"],[0.6666666666666666,\"#ed7953\"],[0.7777777777777778,\"#fb9f3a\"],[0.8888888888888888,\"#fdca26\"],[1.0,\"#f0f921\"]],\"type\":\"histogram2d\"}],\"histogram2dcontour\":[{\"colorbar\":{\"outlinewidth\":0,\"ticks\":\"\"},\"colorscale\":[[0.0,\"#0d0887\"],[0.1111111111111111,\"#46039f\"],[0.2222222222222222,\"#7201a8\"],[0.3333333333333333,\"#9c179e\"],[0.4444444444444444,\"#bd3786\"],[0.5555555555555556,\"#d8576b\"],[0.6666666666666666,\"#ed7953\"],[0.7777777777777778,\"#fb9f3a\"],[0.8888888888888888,\"#fdca26\"],[1.0,\"#f0f921\"]],\"type\":\"histogram2dcontour\"}],\"mesh3d\":[{\"colorbar\":{\"outlinewidth\":0,\"ticks\":\"\"},\"type\":\"mesh3d\"}],\"parcoords\":[{\"line\":{\"colorbar\":{\"outlinewidth\":0,\"ticks\":\"\"}},\"type\":\"parcoords\"}],\"pie\":[{\"automargin\":true,\"type\":\"pie\"}],\"scatter\":[{\"marker\":{\"colorbar\":{\"outlinewidth\":0,\"ticks\":\"\"}},\"type\":\"scatter\"}],\"scatter3d\":[{\"line\":{\"colorbar\":{\"outlinewidth\":0,\"ticks\":\"\"}},\"marker\":{\"colorbar\":{\"outlinewidth\":0,\"ticks\":\"\"}},\"type\":\"scatter3d\"}],\"scattercarpet\":[{\"marker\":{\"colorbar\":{\"outlinewidth\":0,\"ticks\":\"\"}},\"type\":\"scattercarpet\"}],\"scattergeo\":[{\"marker\":{\"colorbar\":{\"outlinewidth\":0,\"ticks\":\"\"}},\"type\":\"scattergeo\"}],\"scattergl\":[{\"marker\":{\"colorbar\":{\"outlinewidth\":0,\"ticks\":\"\"}},\"type\":\"scattergl\"}],\"scattermapbox\":[{\"marker\":{\"colorbar\":{\"outlinewidth\":0,\"ticks\":\"\"}},\"type\":\"scattermapbox\"}],\"scatterpolar\":[{\"marker\":{\"colorbar\":{\"outlinewidth\":0,\"ticks\":\"\"}},\"type\":\"scatterpolar\"}],\"scatterpolargl\":[{\"marker\":{\"colorbar\":{\"outlinewidth\":0,\"ticks\":\"\"}},\"type\":\"scatterpolargl\"}],\"scatterternary\":[{\"marker\":{\"colorbar\":{\"outlinewidth\":0,\"ticks\":\"\"}},\"type\":\"scatterternary\"}],\"surface\":[{\"colorbar\":{\"outlinewidth\":0,\"ticks\":\"\"},\"colorscale\":[[0.0,\"#0d0887\"],[0.1111111111111111,\"#46039f\"],[0.2222222222222222,\"#7201a8\"],[0.3333333333333333,\"#9c179e\"],[0.4444444444444444,\"#bd3786\"],[0.5555555555555556,\"#d8576b\"],[0.6666666666666666,\"#ed7953\"],[0.7777777777777778,\"#fb9f3a\"],[0.8888888888888888,\"#fdca26\"],[1.0,\"#f0f921\"]],\"type\":\"surface\"}],\"table\":[{\"cells\":{\"fill\":{\"color\":\"#EBF0F8\"},\"line\":{\"color\":\"white\"}},\"header\":{\"fill\":{\"color\":\"#C8D4E3\"},\"line\":{\"color\":\"white\"}},\"type\":\"table\"}]},\"layout\":{\"annotationdefaults\":{\"arrowcolor\":\"#2a3f5f\",\"arrowhead\":0,\"arrowwidth\":1},\"autotypenumbers\":\"strict\",\"coloraxis\":{\"colorbar\":{\"outlinewidth\":0,\"ticks\":\"\"}},\"colorscale\":{\"diverging\":[[0,\"#8e0152\"],[0.1,\"#c51b7d\"],[0.2,\"#de77ae\"],[0.3,\"#f1b6da\"],[0.4,\"#fde0ef\"],[0.5,\"#f7f7f7\"],[0.6,\"#e6f5d0\"],[0.7,\"#b8e186\"],[0.8,\"#7fbc41\"],[0.9,\"#4d9221\"],[1,\"#276419\"]],\"sequential\":[[0.0,\"#0d0887\"],[0.1111111111111111,\"#46039f\"],[0.2222222222222222,\"#7201a8\"],[0.3333333333333333,\"#9c179e\"],[0.4444444444444444,\"#bd3786\"],[0.5555555555555556,\"#d8576b\"],[0.6666666666666666,\"#ed7953\"],[0.7777777777777778,\"#fb9f3a\"],[0.8888888888888888,\"#fdca26\"],[1.0,\"#f0f921\"]],\"sequentialminus\":[[0.0,\"#0d0887\"],[0.1111111111111111,\"#46039f\"],[0.2222222222222222,\"#7201a8\"],[0.3333333333333333,\"#9c179e\"],[0.4444444444444444,\"#bd3786\"],[0.5555555555555556,\"#d8576b\"],[0.6666666666666666,\"#ed7953\"],[0.7777777777777778,\"#fb9f3a\"],[0.8888888888888888,\"#fdca26\"],[1.0,\"#f0f921\"]]},\"colorway\":[\"#636efa\",\"#EF553B\",\"#00cc96\",\"#ab63fa\",\"#FFA15A\",\"#19d3f3\",\"#FF6692\",\"#B6E880\",\"#FF97FF\",\"#FECB52\"],\"font\":{\"color\":\"#2a3f5f\"},\"geo\":{\"bgcolor\":\"white\",\"lakecolor\":\"white\",\"landcolor\":\"#E5ECF6\",\"showlakes\":true,\"showland\":true,\"subunitcolor\":\"white\"},\"hoverlabel\":{\"align\":\"left\"},\"hovermode\":\"closest\",\"mapbox\":{\"style\":\"light\"},\"paper_bgcolor\":\"white\",\"plot_bgcolor\":\"#E5ECF6\",\"polar\":{\"angularaxis\":{\"gridcolor\":\"white\",\"linecolor\":\"white\",\"ticks\":\"\"},\"bgcolor\":\"#E5ECF6\",\"radialaxis\":{\"gridcolor\":\"white\",\"linecolor\":\"white\",\"ticks\":\"\"}},\"scene\":{\"xaxis\":{\"backgroundcolor\":\"#E5ECF6\",\"gridcolor\":\"white\",\"gridwidth\":2,\"linecolor\":\"white\",\"showbackground\":true,\"ticks\":\"\",\"zerolinecolor\":\"white\"},\"yaxis\":{\"backgroundcolor\":\"#E5ECF6\",\"gridcolor\":\"white\",\"gridwidth\":2,\"linecolor\":\"white\",\"showbackground\":true,\"ticks\":\"\",\"zerolinecolor\":\"white\"},\"zaxis\":{\"backgroundcolor\":\"#E5ECF6\",\"gridcolor\":\"white\",\"gridwidth\":2,\"linecolor\":\"white\",\"showbackground\":true,\"ticks\":\"\",\"zerolinecolor\":\"white\"}},\"shapedefaults\":{\"line\":{\"color\":\"#2a3f5f\"}},\"ternary\":{\"aaxis\":{\"gridcolor\":\"white\",\"linecolor\":\"white\",\"ticks\":\"\"},\"baxis\":{\"gridcolor\":\"white\",\"linecolor\":\"white\",\"ticks\":\"\"},\"bgcolor\":\"#E5ECF6\",\"caxis\":{\"gridcolor\":\"white\",\"linecolor\":\"white\",\"ticks\":\"\"}},\"title\":{\"x\":0.05},\"xaxis\":{\"automargin\":true,\"gridcolor\":\"white\",\"linecolor\":\"white\",\"ticks\":\"\",\"title\":{\"standoff\":15},\"zerolinecolor\":\"white\",\"zerolinewidth\":2},\"yaxis\":{\"automargin\":true,\"gridcolor\":\"white\",\"linecolor\":\"white\",\"ticks\":\"\",\"title\":{\"standoff\":15},\"zerolinecolor\":\"white\",\"zerolinewidth\":2}}},\"xaxis\":{\"anchor\":\"y\",\"domain\":[0.0,1.0],\"title\":{\"text\":\"Depth\"}},\"yaxis\":{\"anchor\":\"x\",\"domain\":[0.0,1.0],\"title\":{\"text\":\"Accuracy\"}},\"legend\":{\"tracegroupgap\":0},\"title\":{\"text\":\"Decision Tree accuracy based on his depth\"}},                        {\"responsive\": true}                    ).then(function(){\n                            \nvar gd = document.getElementById('5818dcbb-158c-4ad7-bf57-c301aee7a071');\nvar x = new MutationObserver(function (mutations, observer) {{\n        var display = window.getComputedStyle(gd).display;\n        if (!display || display === 'none') {{\n            console.log([gd, 'removed!']);\n            Plotly.purge(gd);\n            observer.disconnect();\n        }}\n}});\n\n// Listen for the removal of the full notebook cells\nvar notebookContainer = gd.closest('#notebook-container');\nif (notebookContainer) {{\n    x.observe(notebookContainer, {childList: true});\n}}\n\n// Listen for the clearing of the current output cell\nvar outputEl = gd.closest('.output');\nif (outputEl) {{\n    x.observe(outputEl, {childList: true});\n}}\n\n                        })                };                            </script>        </div>\n</body>\n</html>"
     },
     "metadata": {},
     "output_type": "display_data"
    }
   ],
   "execution_count": null
  },
  {
   "cell_type": "code",
   "metadata": {
    "tags": [],
    "cell_id": "00061-1a624ecf-e3d8-4eae-811d-fd06915be624",
    "deepnote_to_be_reexecuted": false,
    "source_hash": "e73917a8",
    "execution_start": 1639679768656,
    "execution_millis": 633,
    "deepnote_output_heights": [
     420.66668701171875
    ],
    "deepnote_cell_type": "code"
   },
   "source": "# Addestro l'albero di decisione\nclf = tree.DecisionTreeClassifier(criterion=m_criterion, max_depth=2)\nclf = clf.fit(X_train, y_train)\n\n# Eseguo il plot dell'albero di decisione creato\ndot_data = tree.export_graphviz(clf, out_file=None,\n    feature_names=features_names,\n    class_names=[str(val) for val in set(t5_data['labels'])], #['Ugo', 'Federico', 'D.Va'],\n    filled=True, rounded=True,\n    special_characters=True)\ngraph = graphviz.Source(dot_data)\ngraph",
   "outputs": [
    {
     "output_type": "execute_result",
     "execution_count": 81,
     "data": {
      "text/plain": "<graphviz.sources.Source at 0x7fa5efd5f0d0>",
      "image/svg+xml": "<?xml version=\"1.0\" encoding=\"UTF-8\" standalone=\"no\"?>\n<!DOCTYPE svg PUBLIC \"-//W3C//DTD SVG 1.1//EN\"\n \"http://www.w3.org/Graphics/SVG/1.1/DTD/svg11.dtd\">\n<!-- Generated by graphviz version 2.40.1 (20161225.0304)\n -->\n<!-- Title: Tree Pages: 1 -->\n<svg width=\"628pt\" height=\"314pt\"\n viewBox=\"0.00 0.00 627.50 314.00\" xmlns=\"http://www.w3.org/2000/svg\" xmlns:xlink=\"http://www.w3.org/1999/xlink\">\n<g id=\"graph0\" class=\"graph\" transform=\"scale(1 1) rotate(0) translate(4 310)\">\n<title>Tree</title>\n<polygon fill=\"#ffffff\" stroke=\"transparent\" points=\"-4,4 -4,-310 623.5,-310 623.5,4 -4,4\"/>\n<!-- 0 -->\n<g id=\"node1\" class=\"node\">\n<title>0</title>\n<path fill=\"#ffffff\" stroke=\"#000000\" d=\"M390,-306C390,-306 255,-306 255,-306 249,-306 243,-300 243,-294 243,-294 243,-235 243,-235 243,-229 249,-223 255,-223 255,-223 390,-223 390,-223 396,-223 402,-229 402,-235 402,-235 402,-294 402,-294 402,-300 396,-306 390,-306\"/>\n<text text-anchor=\"start\" x=\"278.5\" y=\"-290.8\" font-family=\"Helvetica,sans-Serif\" font-size=\"14.00\" fill=\"#000000\">F14 ≤ 0.005</text>\n<text text-anchor=\"start\" x=\"263.5\" y=\"-275.8\" font-family=\"Helvetica,sans-Serif\" font-size=\"14.00\" fill=\"#000000\">entropy = 1.585</text>\n<text text-anchor=\"start\" x=\"272.5\" y=\"-260.8\" font-family=\"Helvetica,sans-Serif\" font-size=\"14.00\" fill=\"#000000\">samples = 65</text>\n<text text-anchor=\"start\" x=\"251\" y=\"-245.8\" font-family=\"Helvetica,sans-Serif\" font-size=\"14.00\" fill=\"#000000\">value = [21, 22, 22]</text>\n<text text-anchor=\"start\" x=\"289.5\" y=\"-230.8\" font-family=\"Helvetica,sans-Serif\" font-size=\"14.00\" fill=\"#000000\">class = 1</text>\n</g>\n<!-- 1 -->\n<g id=\"node2\" class=\"node\">\n<title>1</title>\n<path fill=\"#fbf9fe\" stroke=\"#000000\" d=\"M308,-187C308,-187 173,-187 173,-187 167,-187 161,-181 161,-175 161,-175 161,-116 161,-116 161,-110 167,-104 173,-104 173,-104 308,-104 308,-104 314,-104 320,-110 320,-116 320,-116 320,-175 320,-175 320,-181 314,-187 308,-187\"/>\n<text text-anchor=\"start\" x=\"201\" y=\"-171.8\" font-family=\"Helvetica,sans-Serif\" font-size=\"14.00\" fill=\"#000000\">F6 ≤ 0.004</text>\n<text text-anchor=\"start\" x=\"181.5\" y=\"-156.8\" font-family=\"Helvetica,sans-Serif\" font-size=\"14.00\" fill=\"#000000\">entropy = 1.561</text>\n<text text-anchor=\"start\" x=\"190.5\" y=\"-141.8\" font-family=\"Helvetica,sans-Serif\" font-size=\"14.00\" fill=\"#000000\">samples = 52</text>\n<text text-anchor=\"start\" x=\"169\" y=\"-126.8\" font-family=\"Helvetica,sans-Serif\" font-size=\"14.00\" fill=\"#000000\">value = [13, 19, 20]</text>\n<text text-anchor=\"start\" x=\"207.5\" y=\"-111.8\" font-family=\"Helvetica,sans-Serif\" font-size=\"14.00\" fill=\"#000000\">class = 2</text>\n</g>\n<!-- 0&#45;&gt;1 -->\n<g id=\"edge1\" class=\"edge\">\n<title>0&#45;&gt;1</title>\n<path fill=\"none\" stroke=\"#000000\" d=\"M293.8204,-222.8796C287.7385,-214.0534 281.2578,-204.6485 274.9859,-195.5466\"/>\n<polygon fill=\"#000000\" stroke=\"#000000\" points=\"277.8582,-193.5465 269.302,-187.2981 272.0941,-197.5184 277.8582,-193.5465\"/>\n<text text-anchor=\"middle\" x=\"264.7761\" y=\"-208.185\" font-family=\"Helvetica,sans-Serif\" font-size=\"14.00\" fill=\"#000000\">True</text>\n</g>\n<!-- 4 -->\n<g id=\"node5\" class=\"node\">\n<title>4</title>\n<path fill=\"#f2c09c\" stroke=\"#000000\" d=\"M460.5,-187C460.5,-187 350.5,-187 350.5,-187 344.5,-187 338.5,-181 338.5,-175 338.5,-175 338.5,-116 338.5,-116 338.5,-110 344.5,-104 350.5,-104 350.5,-104 460.5,-104 460.5,-104 466.5,-104 472.5,-110 472.5,-116 472.5,-116 472.5,-175 472.5,-175 472.5,-181 466.5,-187 460.5,-187\"/>\n<text text-anchor=\"start\" x=\"366\" y=\"-171.8\" font-family=\"Helvetica,sans-Serif\" font-size=\"14.00\" fill=\"#000000\">F8 ≤ 0.007</text>\n<text text-anchor=\"start\" x=\"346.5\" y=\"-156.8\" font-family=\"Helvetica,sans-Serif\" font-size=\"14.00\" fill=\"#000000\">entropy = 1.335</text>\n<text text-anchor=\"start\" x=\"355.5\" y=\"-141.8\" font-family=\"Helvetica,sans-Serif\" font-size=\"14.00\" fill=\"#000000\">samples = 13</text>\n<text text-anchor=\"start\" x=\"347.5\" y=\"-126.8\" font-family=\"Helvetica,sans-Serif\" font-size=\"14.00\" fill=\"#000000\">value = [8, 3, 2]</text>\n<text text-anchor=\"start\" x=\"372.5\" y=\"-111.8\" font-family=\"Helvetica,sans-Serif\" font-size=\"14.00\" fill=\"#000000\">class = 0</text>\n</g>\n<!-- 0&#45;&gt;4 -->\n<g id=\"edge4\" class=\"edge\">\n<title>0&#45;&gt;4</title>\n<path fill=\"none\" stroke=\"#000000\" d=\"M351.5294,-222.8796C357.6855,-214.0534 364.2451,-204.6485 370.5936,-195.5466\"/>\n<polygon fill=\"#000000\" stroke=\"#000000\" points=\"373.4967,-197.5024 376.3467,-187.2981 367.7552,-193.4978 373.4967,-197.5024\"/>\n<text text-anchor=\"middle\" x=\"380.7331\" y=\"-208.2103\" font-family=\"Helvetica,sans-Serif\" font-size=\"14.00\" fill=\"#000000\">False</text>\n</g>\n<!-- 2 -->\n<g id=\"node3\" class=\"node\">\n<title>2</title>\n<path fill=\"#f7fefa\" stroke=\"#000000\" d=\"M147,-68C147,-68 12,-68 12,-68 6,-68 0,-62 0,-56 0,-56 0,-12 0,-12 0,-6 6,0 12,0 12,0 147,0 147,0 153,0 159,-6 159,-12 159,-12 159,-56 159,-56 159,-62 153,-68 147,-68\"/>\n<text text-anchor=\"start\" x=\"20.5\" y=\"-52.8\" font-family=\"Helvetica,sans-Serif\" font-size=\"14.00\" fill=\"#000000\">entropy = 1.582</text>\n<text text-anchor=\"start\" x=\"29.5\" y=\"-37.8\" font-family=\"Helvetica,sans-Serif\" font-size=\"14.00\" fill=\"#000000\">samples = 39</text>\n<text text-anchor=\"start\" x=\"8\" y=\"-22.8\" font-family=\"Helvetica,sans-Serif\" font-size=\"14.00\" fill=\"#000000\">value = [13, 14, 12]</text>\n<text text-anchor=\"start\" x=\"46.5\" y=\"-7.8\" font-family=\"Helvetica,sans-Serif\" font-size=\"14.00\" fill=\"#000000\">class = 1</text>\n</g>\n<!-- 1&#45;&gt;2 -->\n<g id=\"edge2\" class=\"edge\">\n<title>1&#45;&gt;2</title>\n<path fill=\"none\" stroke=\"#000000\" d=\"M180.5495,-103.9815C166.4084,-94.1881 151.3606,-83.7668 137.3159,-74.0402\"/>\n<polygon fill=\"#000000\" stroke=\"#000000\" points=\"138.9315,-70.9017 128.7178,-68.0856 134.9461,-76.6565 138.9315,-70.9017\"/>\n</g>\n<!-- 3 -->\n<g id=\"node4\" class=\"node\">\n<title>3</title>\n<path fill=\"#d0b5f5\" stroke=\"#000000\" d=\"M299.5,-68C299.5,-68 189.5,-68 189.5,-68 183.5,-68 177.5,-62 177.5,-56 177.5,-56 177.5,-12 177.5,-12 177.5,-6 183.5,0 189.5,0 189.5,0 299.5,0 299.5,0 305.5,0 311.5,-6 311.5,-12 311.5,-12 311.5,-56 311.5,-56 311.5,-62 305.5,-68 299.5,-68\"/>\n<text text-anchor=\"start\" x=\"185.5\" y=\"-52.8\" font-family=\"Helvetica,sans-Serif\" font-size=\"14.00\" fill=\"#000000\">entropy = 0.961</text>\n<text text-anchor=\"start\" x=\"194.5\" y=\"-37.8\" font-family=\"Helvetica,sans-Serif\" font-size=\"14.00\" fill=\"#000000\">samples = 13</text>\n<text text-anchor=\"start\" x=\"186.5\" y=\"-22.8\" font-family=\"Helvetica,sans-Serif\" font-size=\"14.00\" fill=\"#000000\">value = [0, 5, 8]</text>\n<text text-anchor=\"start\" x=\"211.5\" y=\"-7.8\" font-family=\"Helvetica,sans-Serif\" font-size=\"14.00\" fill=\"#000000\">class = 2</text>\n</g>\n<!-- 1&#45;&gt;3 -->\n<g id=\"edge3\" class=\"edge\">\n<title>1&#45;&gt;3</title>\n<path fill=\"none\" stroke=\"#000000\" d=\"M241.9895,-103.9815C242.2895,-95.618 242.606,-86.7965 242.9093,-78.3409\"/>\n<polygon fill=\"#000000\" stroke=\"#000000\" points=\"246.41,-78.3828 243.2708,-68.2637 239.4145,-78.1317 246.41,-78.3828\"/>\n</g>\n<!-- 5 -->\n<g id=\"node6\" class=\"node\">\n<title>5</title>\n<path fill=\"#e89152\" stroke=\"#000000\" d=\"M457.5,-68C457.5,-68 347.5,-68 347.5,-68 341.5,-68 335.5,-62 335.5,-56 335.5,-56 335.5,-12 335.5,-12 335.5,-6 341.5,0 347.5,0 347.5,0 457.5,0 457.5,0 463.5,0 469.5,-6 469.5,-12 469.5,-12 469.5,-56 469.5,-56 469.5,-62 463.5,-68 457.5,-68\"/>\n<text text-anchor=\"start\" x=\"343.5\" y=\"-52.8\" font-family=\"Helvetica,sans-Serif\" font-size=\"14.00\" fill=\"#000000\">entropy = 0.503</text>\n<text text-anchor=\"start\" x=\"357\" y=\"-37.8\" font-family=\"Helvetica,sans-Serif\" font-size=\"14.00\" fill=\"#000000\">samples = 9</text>\n<text text-anchor=\"start\" x=\"344.5\" y=\"-22.8\" font-family=\"Helvetica,sans-Serif\" font-size=\"14.00\" fill=\"#000000\">value = [8, 1, 0]</text>\n<text text-anchor=\"start\" x=\"369.5\" y=\"-7.8\" font-family=\"Helvetica,sans-Serif\" font-size=\"14.00\" fill=\"#000000\">class = 0</text>\n</g>\n<!-- 4&#45;&gt;5 -->\n<g id=\"edge5\" class=\"edge\">\n<title>4&#45;&gt;5</title>\n<path fill=\"none\" stroke=\"#000000\" d=\"M404.3829,-103.9815C404.1579,-95.618 403.9205,-86.7965 403.693,-78.3409\"/>\n<polygon fill=\"#000000\" stroke=\"#000000\" points=\"407.1897,-78.1659 403.4219,-68.2637 400.1922,-78.3542 407.1897,-78.1659\"/>\n</g>\n<!-- 6 -->\n<g id=\"node7\" class=\"node\">\n<title>6</title>\n<path fill=\"#ffffff\" stroke=\"#000000\" d=\"M607.5,-68C607.5,-68 499.5,-68 499.5,-68 493.5,-68 487.5,-62 487.5,-56 487.5,-56 487.5,-12 487.5,-12 487.5,-6 493.5,0 499.5,0 499.5,0 607.5,0 607.5,0 613.5,0 619.5,-6 619.5,-12 619.5,-12 619.5,-56 619.5,-56 619.5,-62 613.5,-68 607.5,-68\"/>\n<text text-anchor=\"start\" x=\"503.5\" y=\"-52.8\" font-family=\"Helvetica,sans-Serif\" font-size=\"14.00\" fill=\"#000000\">entropy = 1.0</text>\n<text text-anchor=\"start\" x=\"508\" y=\"-37.8\" font-family=\"Helvetica,sans-Serif\" font-size=\"14.00\" fill=\"#000000\">samples = 4</text>\n<text text-anchor=\"start\" x=\"495.5\" y=\"-22.8\" font-family=\"Helvetica,sans-Serif\" font-size=\"14.00\" fill=\"#000000\">value = [0, 2, 2]</text>\n<text text-anchor=\"start\" x=\"520.5\" y=\"-7.8\" font-family=\"Helvetica,sans-Serif\" font-size=\"14.00\" fill=\"#000000\">class = 1</text>\n</g>\n<!-- 4&#45;&gt;6 -->\n<g id=\"edge6\" class=\"edge\">\n<title>4&#45;&gt;6</title>\n<path fill=\"none\" stroke=\"#000000\" d=\"M460.6097,-103.9815C473.419,-94.3313 487.0375,-84.0714 499.7856,-74.4673\"/>\n<polygon fill=\"#000000\" stroke=\"#000000\" points=\"502.139,-77.0764 508.02,-68.2637 497.9269,-71.4855 502.139,-77.0764\"/>\n</g>\n</g>\n</svg>\n"
     },
     "metadata": {}
    }
   ],
   "execution_count": null
  },
  {
   "cell_type": "code",
   "metadata": {
    "tags": [],
    "cell_id": "00063-1463aafe-6ead-4826-9b72-f408a4ba5066",
    "deepnote_to_be_reexecuted": false,
    "source_hash": "822e6f90",
    "execution_start": 1639679773289,
    "execution_millis": 8,
    "deepnote_output_heights": [
     null,
     21.199996948242188
    ],
    "deepnote_cell_type": "code"
   },
   "source": "# Predico con l'albero di decisione\ny_pred = clf.predict(X_test)\nprint(\"DT - Predictions:\\n\", y_pred)\nprint(\"Reals:\\n\", y_test)\nprint(\"Accuracy\", format_float(accuracy_score(y_test, y_pred)))",
   "outputs": [
    {
     "name": "stdout",
     "text": "DT - Predictions:\n [1. 1. 1. 1. 2. 1. 0. 1. 2. 1. 1. 1. 2. 2. 0. 0. 1. 1. 1. 1. 1. 2. 1. 1.\n 2. 1. 1. 2.]\nReals:\n [2. 1. 1. 0. 0. 1. 0. 1. 2. 2. 0. 0. 2. 2. 2. 0. 0. 1. 1. 0. 0. 2. 2. 2.\n 0. 1. 1. 1.]\nAccuracy 0.5\n",
     "output_type": "stream",
     "data": {}
    }
   ],
   "execution_count": null
  },
  {
   "cell_type": "code",
   "metadata": {
    "tags": [],
    "cell_id": "00066-47aa80fa-7c34-46da-8f1b-77ee86f8b4fe",
    "deepnote_to_be_reexecuted": true,
    "source_hash": "b623e53d",
    "execution_start": 1639416214710,
    "execution_millis": 6,
    "deepnote_cell_type": "code"
   },
   "source": "",
   "execution_count": null,
   "outputs": []
  },
  {
   "cell_type": "markdown",
   "source": "<a style='text-decoration:none;line-height:16px;display:flex;color:#5B5B62;padding:10px;justify-content:end;' href='https://deepnote.com?utm_source=created-in-deepnote-cell&projectId=81dda25b-3b1c-4959-acc8-4a8b980be717' target=\"_blank\">\n<img alt='Created in deepnote.com' style='display:inline;max-height:16px;margin:0px;margin-right:7.5px;' src='data:image/svg+xml;base64,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' > </img>\nCreated in <span style='font-weight:600;margin-left:4px;'>Deepnote</span></a>",
   "metadata": {
    "tags": [],
    "created_in_deepnote_cell": true,
    "deepnote_cell_type": "markdown"
   }
  }
 ],
 "nbformat": 4,
 "nbformat_minor": 2,
 "metadata": {
  "orig_nbformat": 2,
  "deepnote": {
   "is_reactive": false
  },
  "deepnote_notebook_id": "e09f2adf-083e-4839-9bb5-7d8776406a70",
  "deepnote_execution_queue": []
 }
}