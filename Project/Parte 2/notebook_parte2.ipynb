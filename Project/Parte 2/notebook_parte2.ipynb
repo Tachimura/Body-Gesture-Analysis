{
 "cells": [
  {
   "cell_type": "markdown",
   "source": "# BDM Exam Project - Part 2",
   "metadata": {
    "tags": [],
    "cell_id": "00000-8372ca05-7983-4b78-9184-019ba314114c",
    "deepnote_cell_type": "markdown"
   }
  },
  {
   "cell_type": "markdown",
   "source": "## TODO:\nTASK 0\n- [x] DONE\n\nTASK1\n- [x] DONE\n\nTASK2\n- [X] Implementare Opzione #1\n- [X] Implementare Opzione (#2,#3 QUESTE DUE CONTROLLARE SE GIà FUNZIONA), (#4 ANCORA DA IMPLEMENTARE LDA)\n- Implementare Opzione #5\n- Implementare Opzione #6\n\n\nTASK3\n- Implementare Opzione #1\n- [X] Implementare Opzione (#2,#3 QUESTE DUE CONTROLLARE SE GIà FUNZIONA), (#4 ANCORA DA IMPLEMENTARE LDA)\n- Implementare Opzione #5\n- Implementare Opzione #6\n- NOTA BENE: le 3 parti devono funzionare senza cambiare codice (indifferentemente da cosa abbiamo scelto prima, l'input per la parte 4 DEVE essere sempre lo stesso)\n\nTASK4\n- MOSTRARE COME GRUPPI IL NOME DEI MEMBRI E NON IL LORO VETTORE\n- [x] DONE\n\nTASK 5\n- Suddividere i dati in train (+label) e test\n- [x] DONE\n",
   "metadata": {
    "tags": [],
    "cell_id": "00001-36d412ad-00a8-4bff-a4a6-6e2b48a48bc2",
    "deepnote_cell_type": "markdown"
   }
  },
  {
   "cell_type": "markdown",
   "source": "## Imports",
   "metadata": {
    "tags": [],
    "is_collapsed": false,
    "cell_id": "00001-e7a911cb-1821-422d-8f2f-057c00b923a7",
    "deepnote_cell_type": "text-cell-h2"
   }
  },
  {
   "cell_type": "code",
   "metadata": {
    "tags": [],
    "cell_id": "00002-cb5942af-91be-4d6f-8734-41bb867f669d",
    "deepnote_to_be_reexecuted": false,
    "source_hash": "2c32d944",
    "execution_start": 1638215693487,
    "execution_millis": 2225,
    "deepnote_output_heights": [
     193.921875
    ],
    "deepnote_cell_type": "code"
   },
   "source": "# General utils\nimport os\nimport shutil\nimport numpy as np\n\n# per i plot\nimport plotly.express as px\nimport plotly.graph_objects as go\n# ---------- ---------- ---------- ---------- ----------\n\n# My general utils\nfrom my_utils import get_files_name\n# ---------- ---------- ---------- ---------- ----------\n\n# Task 0\nfrom task0_utils import task0_stats\n# Parte A\nfrom task0_utils import generate_alphabet\nfrom task0_utils import update_alphabet\nfrom task0_utils import gesture_2_word\nfrom task0_utils import write_word_as_json\nfrom task0_utils import generate_dizionario_parole_from_gesturewordsdict\n# Parte B\nfrom task0_utils import gesture_words_preprocessing\nfrom task0_utils import show_gesture_metrics\n# ---------- ---------- ---------- ---------- ----------\n\n# Task 1\nfrom task1_utils import read_gesture_measures_reduced\nfrom task1_utils import metrics_reduced_2_numpy\nfrom task1_utils import metrics_numpy_2_pandas\nfrom task1_utils import metrics_numpy_2_PCA\nfrom task1_utils import metrics_numpy_2_LDA\nfrom task1_utils import metrics_numpy_2_SVD\nfrom task1_utils import get_top_k_latent_features\nfrom task1_utils import prepare_alg_variances_to_plot\n# ---------- ---------- ---------- ---------- ----------\n\n# Task 2\nfrom task2_utils import read_words_data_ed_dtw\nfrom task2_utils import find_k_most_similar_dp\nfrom task2_utils import find_k_most_similar_tksem\nfrom task2_utils import find_k_most_similar_ed\nfrom task2_utils import find_k_most_similar_dtw\n# ---------- ---------- ---------- ---------- ----------\n\n# Task 3\nfrom task3_utils import generate_gestures_similarity_matrix\nfrom task3_utils import gestures_similarity_matrix_2_pandas\nfrom task3_utils import generate_gesture_gesture_svd\nfrom task3_utils import get_top_p_latent_gestures\n# ---------- ---------- ---------- ---------- ----------\n\n# Task 4\nfrom task4_utils import cluster_labels_2_pandas\nfrom task4_utils import top_p_gestures_2_numpy\n# Parte A\nfrom task4_utils import MyPartitioner\n# Parte B\nfrom task4_utils import SimpleKMeans\n# Parte C\nfrom task4_utils import spectral_clustering_analyze\nfrom task4_utils import spectral_analisys_results_2_pandas\nfrom task4_utils import spectral_analisys_results_pandas_2_split\nfrom task4_utils import spectral_clustering\n# ---------- ---------- ---------- ---------- ----------\n\n# Task 5\nfrom task5_utils import database_numpy_2_supervised_data\nfrom task5_utils import prepare_test_dataframe\n\nfrom sklearn.preprocessing import StandardScaler\n# KNN classifier\nfrom sklearn.neighbors import KNeighborsClassifier\n# Decision Tree classifier\nfrom sklearn import tree\nimport graphviz \n# ---------- ---------- ---------- ---------- ----------",
   "outputs": [],
   "execution_count": null
  },
  {
   "cell_type": "markdown",
   "source": "## Task 0",
   "metadata": {
    "tags": [],
    "is_collapsed": false,
    "cell_id": "00003-44add2df-f923-4f64-bca8-a523401b6bfc",
    "deepnote_cell_type": "text-cell-h2"
   }
  },
  {
   "cell_type": "code",
   "metadata": {
    "deepnote_variable_name": "path_csv_directory",
    "deepnote_variable_value": "../Dati_2/csv/",
    "cell_id": "00003-654eb8b5-36b7-4241-ab02-b10556446202",
    "deepnote_to_be_reexecuted": false,
    "source_hash": "b7faf05a",
    "execution_start": 1638215695721,
    "execution_millis": 11,
    "deepnote_cell_type": "input-text"
   },
   "source": "path_csv_directory = '../Dati_2/csv/'",
   "outputs": [],
   "execution_count": null
  },
  {
   "cell_type": "code",
   "metadata": {
    "deepnote_variable_name": "path_words_directory",
    "deepnote_variable_value": "../Dati_2/words/",
    "cell_id": "00006-abe6fad0-cc88-44ef-b239-4a3ab59617ca",
    "deepnote_to_be_reexecuted": false,
    "source_hash": "14bb7c6c",
    "execution_start": 1638215695789,
    "execution_millis": 1,
    "deepnote_cell_type": "input-text"
   },
   "source": "path_words_directory = '../Dati_2/words/'",
   "outputs": [],
   "execution_count": null
  },
  {
   "cell_type": "code",
   "metadata": {
    "deepnote_variable_name": "path_vectors_directory",
    "deepnote_variable_value": "../Dati_2/vectors/",
    "cell_id": "00007-a6402a1b-7cac-4925-b172-2db72134598e",
    "deepnote_to_be_reexecuted": false,
    "source_hash": "3edc11a8",
    "execution_start": 1638215695790,
    "execution_millis": 0,
    "deepnote_cell_type": "input-text"
   },
   "source": "path_vectors_directory = '../Dati_2/vectors/'",
   "outputs": [],
   "execution_count": null
  },
  {
   "cell_type": "markdown",
   "source": "Inserire le coordinate che compongono il gesto separate da un trattino:",
   "metadata": {
    "tags": [],
    "is_collapsed": false,
    "cell_id": "00004-960f3675-011c-43a5-9c57-0dbc4c51a806",
    "deepnote_cell_type": "text-cell-p"
   }
  },
  {
   "cell_type": "code",
   "metadata": {
    "deepnote_variable_name": "input_data_components",
    "deepnote_variable_value": "X-Y-Z-W",
    "cell_id": "00005-9d5e77d9-d1b7-44e2-873a-c01b72b5b714",
    "deepnote_to_be_reexecuted": false,
    "source_hash": "a12cce7",
    "execution_start": 1638215695834,
    "execution_millis": 0,
    "deepnote_cell_type": "input-text"
   },
   "source": "input_data_components = 'X-Y-Z-W'",
   "outputs": [],
   "execution_count": null
  },
  {
   "cell_type": "markdown",
   "source": "Inserire un valore per R (2R è il numero di simboli dell'alfabeto)",
   "metadata": {
    "tags": [],
    "is_collapsed": false,
    "cell_id": "00008-70103ada-8b72-4f87-82a9-c7c2bff33365",
    "deepnote_cell_type": "text-cell-p"
   }
  },
  {
   "cell_type": "code",
   "metadata": {
    "deepnote_variable_name": "input_interval_resolution",
    "deepnote_variable_value": "5",
    "cell_id": "00009-598da1f3-1b47-46f7-9b8a-6c5ff8c1bb73",
    "deepnote_to_be_reexecuted": false,
    "source_hash": "b000374b",
    "execution_start": 1638215695846,
    "execution_millis": 168245,
    "deepnote_cell_type": "input-text"
   },
   "source": "input_interval_resolution = '5'",
   "outputs": [],
   "execution_count": null
  },
  {
   "cell_type": "code",
   "metadata": {
    "tags": [],
    "cell_id": "00007-74fd2943-5f7b-4279-b9fb-2cd9f8bdf6f5",
    "deepnote_to_be_reexecuted": false,
    "source_hash": "8eda3704",
    "execution_start": 1638215695912,
    "execution_millis": 91,
    "deepnote_cell_type": "code"
   },
   "source": "data_components = input_data_components.strip().split(\"-\")\ntask0_stats[\"r\"] = int(input_interval_resolution.strip())\n\n# Rigenero i vari file path (per words e vectors)\nif os.path.exists(path_words_directory):\n    shutil.rmtree(path_words_directory)\nos.makedirs(path_words_directory)\nif os.path.exists(path_vectors_directory):\n    shutil.rmtree(path_vectors_directory)\nos.makedirs(path_vectors_directory)",
   "outputs": [],
   "execution_count": null
  },
  {
   "cell_type": "code",
   "source": "# Mi prendo il nome di tutti i files\ngesture_files = get_files_name(path_csv_directory + \"X/\", ext_filter=\"csv\")\nalfabeto = generate_alphabet(gesture_files, data_components, path_csv_directory, task0_stats)",
   "metadata": {
    "tags": [],
    "cell_id": "00013-049aa084-0991-44a0-ae1f-d75d205f14d8",
    "deepnote_to_be_reexecuted": false,
    "source_hash": "3e0bdde5",
    "execution_start": 1638215696129,
    "execution_millis": 37203,
    "deepnote_cell_type": "code"
   },
   "outputs": [],
   "execution_count": null
  },
  {
   "cell_type": "code",
   "metadata": {
    "tags": [],
    "cell_id": "00012-9814337b-f285-4a25-85bf-fd97c925ad36",
    "deepnote_to_be_reexecuted": false,
    "source_hash": "72457a75",
    "execution_start": 1638215733348,
    "execution_millis": 32,
    "deepnote_cell_type": "code"
   },
   "source": "#print(alfabeto.simboli)\n#print(alfabeto.parole)\nprint(\"Numero simboli:\", alfabeto.n_simboli)\nprint(\"Numero parole:\", alfabeto.n_parole)",
   "outputs": [
    {
     "name": "stdout",
     "text": "Numero simboli: 10\nNumero parole: 63\n",
     "output_type": "stream"
    }
   ],
   "execution_count": null
  },
  {
   "cell_type": "markdown",
   "source": "### Task 0A",
   "metadata": {
    "tags": [],
    "is_collapsed": false,
    "cell_id": "00010-695b39bf-40e0-4e20-ada3-0672059bd901",
    "deepnote_cell_type": "text-cell-h3"
   }
  },
  {
   "cell_type": "code",
   "source": "dizionario_gesti_parole = {}\n\nfor gesture_file_name in gesture_files:\n    gesture_words_dict = gesture_2_word(gesture_file_name, data_components, alfabeto, path_csv_directory)\n    # Salvo solo le info necessarie relative alle parole (come richiesto nel testo)\n    dizionario_parole_gesture = generate_dizionario_parole_from_gesturewordsdict(gesture_words_dict)\n\n    dizionario_gesti_parole[gesture_file_name.split(\".\")[0]] = dizionario_parole_gesture\n    # Salvo su file il dizionario completo\n    write_word_as_json(gesture_words_dict, gesture_file_name, path_words_directory)",
   "metadata": {
    "tags": [],
    "cell_id": "00016-320d5da2-7d1e-4619-b75a-c6b34a37c5b2",
    "deepnote_to_be_reexecuted": false,
    "source_hash": "5d4a56b3",
    "execution_start": 1638215733392,
    "execution_millis": 41701,
    "deepnote_cell_type": "code"
   },
   "outputs": [],
   "execution_count": null
  },
  {
   "cell_type": "code",
   "source": "#dizionario_gesti_parole['1']",
   "metadata": {
    "tags": [],
    "cell_id": "00017-df73132d-dd28-422e-bcf9-cee19fde9521",
    "deepnote_to_be_reexecuted": false,
    "source_hash": "b6c4fafc",
    "execution_start": 1638215775094,
    "execution_millis": 0,
    "deepnote_cell_type": "code"
   },
   "outputs": [],
   "execution_count": null
  },
  {
   "cell_type": "markdown",
   "source": "### Task 0B",
   "metadata": {
    "tags": [],
    "is_collapsed": false,
    "cell_id": "00012-11c64cd4-a6ab-4f60-83e6-e185a99dad47",
    "deepnote_cell_type": "text-cell-h3"
   }
  },
  {
   "cell_type": "code",
   "source": "# Mi prendo la lista di tutti i file words\nwords_files = get_files_name(path_words_directory, ext_filter=\"wrd\")\n\n# CALCOLARE IL NUMERO DI SENSORI (anche se so che ce ne sono 20, in questo modo rimane più parametrico)\nn_sensori = 0\nfor (_, sensor, word), cont in dizionario_gesti_parole[next(iter(dizionario_gesti_parole))].items():\n    sensor = int(sensor)\n    if n_sensori > sensor: # ho già ciclato una volta su tutti i sensori, è inutile ricontrollare per le altre coordinate\n        break\n    if n_sensori < sensor:\n        n_sensori = sensor\nn_sensori += 1 # Correzione dato che i sensori partono da 0 e a me serve sapere quanti ce ne sono\n\n# Eseguo x il nostro dataset\nt0b_preprocessing_settings = {\n    'dizionario_gesti_parole': dizionario_gesti_parole,\n    'data_components': data_components,\n    'words_files': words_files,\n    'n_sensori': n_sensori,\n    'alfabeto': alfabeto,\n    'path_words_directory': path_words_directory,\n    'path_vectors_directory': path_vectors_directory # mettere a None o a caso se si mette save=False nel metodo\n}\n# Calcolo TF, IDF, TF-IDF di ogni gesto\ngestures_metrics = gesture_words_preprocessing(t0b_preprocessing_settings)",
   "metadata": {
    "tags": [],
    "cell_id": "00019-339613d5-9030-4622-a83b-40ba07478fdc",
    "deepnote_to_be_reexecuted": false,
    "source_hash": "ad02c073",
    "execution_start": 1638215775095,
    "execution_millis": 1318,
    "deepnote_cell_type": "code"
   },
   "outputs": [],
   "execution_count": null
  },
  {
   "cell_type": "code",
   "source": "#show_gesture_metrics(gestures_metrics[0])",
   "metadata": {
    "tags": [],
    "cell_id": "00020-7c36a3da-d893-4958-8894-7fc35c5aa41e",
    "deepnote_to_be_reexecuted": false,
    "source_hash": "1fe76d2b",
    "execution_start": 1638215776424,
    "execution_millis": 4,
    "deepnote_cell_type": "code"
   },
   "outputs": [],
   "execution_count": null
  },
  {
   "cell_type": "markdown",
   "source": "## Task 1",
   "metadata": {
    "tags": [],
    "is_collapsed": false,
    "cell_id": "00021-d42fafd2-d117-4556-bc4f-eac7aca3e403",
    "deepnote_cell_type": "text-cell-h2"
   }
  },
  {
   "cell_type": "code",
   "metadata": {
    "deepnote_variable_name": "input_task1_gesti_directory",
    "deepnote_variable_value": "../Dati_2/csv/",
    "cell_id": "00022-8d12824b-1681-44bc-a0f3-975f336eeacb",
    "deepnote_to_be_reexecuted": false,
    "source_hash": "7e508682",
    "execution_start": 1638215776439,
    "execution_millis": 1,
    "deepnote_cell_type": "input-text"
   },
   "source": "input_task1_gesti_directory = '../Dati_2/csv/'",
   "outputs": [],
   "execution_count": null
  },
  {
   "cell_type": "code",
   "metadata": {
    "deepnote_variable_name": "input_task1_data_components",
    "deepnote_variable_value": "X-Y-W-Z",
    "cell_id": "00023-f2b03f2f-8666-4c59-a6c5-e88ff27e8d58",
    "deepnote_to_be_reexecuted": false,
    "source_hash": "e7fe2f0e",
    "execution_start": 1638215776449,
    "execution_millis": 5,
    "deepnote_cell_type": "input-text"
   },
   "source": "input_task1_data_components = 'X-Y-W-Z'",
   "outputs": [],
   "execution_count": null
  },
  {
   "cell_type": "code",
   "metadata": {
    "deepnote_variable_name": "input_task1_modello_vettoriale",
    "deepnote_variable_value": "Modello TF-IDF",
    "deepnote_variable_options": [
     "Modello TF",
     "Modello TF-IDF"
    ],
    "deepnote_variable_custom_options": [
     "Modello TF",
     "Modello TF-IDF"
    ],
    "deepnote_variable_selected_variable": "",
    "deepnote_variable_select_type": "from-options",
    "cell_id": "00025-8b54665a-704e-4a66-9889-a1db052e9230",
    "deepnote_to_be_reexecuted": false,
    "source_hash": "a561fd25",
    "execution_start": 1638215776504,
    "execution_millis": 165338,
    "deepnote_cell_type": "input-select"
   },
   "source": "input_task1_modello_vettoriale = 'Modello TF-IDF'",
   "outputs": [],
   "execution_count": null
  },
  {
   "cell_type": "code",
   "source": "t1_data_components = input_task1_data_components.strip().split(\"-\")\nt1_gesture_files = get_files_name(input_task1_gesti_directory + t1_data_components[0] + \"/\", ext_filter=\"csv\")\n# Dovremmo eseguire a tutti questi i 2 metodi gesture_2_word e poi word_2_metrics\n# Ma ipotizziamo che siano i dati già calcolati ed evitiamo\nt1_gesture_files = [g_file.split(\".\")[0] for g_file in t1_gesture_files] # mi prendo giusto il nome dei vari files\n\n# 1260 con dimensione dei dati (n_sensori * n_parole)\nt1_metrics_data = {\n    'filename': [],\n    'labels': [],\n    'data': np.zeros((len(t1_gesture_files), n_sensori * alfabeto.n_parole))\n}\nfor index, gesture_file in zip(range(len(t1_gesture_files)), t1_gesture_files):\n    #path_vectors_directory = ../Dati_2/vectors/\n    # Leggo le metrice ridotte\n    gesture_metrics_reduced = read_gesture_measures_reduced(gesture_file, path_vectors_directory, input_task1_modello_vettoriale)\n    # Trasformo la metrica ridotta in un file numpy\n    label = 1 # Label 1 per i file 250, 280\n    if int(gesture_file) < 100:\n        label = 0 # Label 0 per file 1, 30\n    elif int(gesture_file) > 400:\n        label = 2 # label 2 per i file 560, 590\n    metrics_numpy = metrics_reduced_2_numpy(gesture_metrics_reduced, alfabeto)\n    t1_metrics_data['filename'].append(gesture_file)\n    t1_metrics_data['labels'].append(label)\n    t1_metrics_data['data'][index] = metrics_numpy",
   "metadata": {
    "tags": [],
    "cell_id": "00025-5662e148-aefc-4984-a2ed-e2b0891ae86d",
    "deepnote_to_be_reexecuted": false,
    "source_hash": "71d6ce71",
    "execution_start": 1638215776504,
    "execution_millis": 216,
    "deepnote_cell_type": "code"
   },
   "outputs": [],
   "execution_count": null
  },
  {
   "cell_type": "code",
   "source": "#t1_metrics_data",
   "metadata": {
    "tags": [],
    "cell_id": "00026-f5468916-1c32-4695-9695-608bce02ec11",
    "deepnote_to_be_reexecuted": false,
    "source_hash": "2271376f",
    "execution_start": 1638215776726,
    "execution_millis": 0,
    "deepnote_cell_type": "code"
   },
   "outputs": [],
   "execution_count": null
  },
  {
   "cell_type": "code",
   "metadata": {
    "deepnote_variable_name": "input_task1_option",
    "deepnote_variable_value": "PCA",
    "deepnote_variable_options": [
     "PCA",
     "SVD",
     "LDA"
    ],
    "deepnote_variable_custom_options": [
     "PCA",
     "SVD",
     "LDA"
    ],
    "deepnote_variable_selected_variable": "",
    "deepnote_variable_select_type": "from-options",
    "cell_id": "00028-09fc5a78-a0f0-44a1-b5f4-17b8196b3c27",
    "deepnote_to_be_reexecuted": false,
    "source_hash": "8b62f10f",
    "execution_start": 1638215776727,
    "execution_millis": 0,
    "deepnote_cell_type": "input-select"
   },
   "source": "input_task1_option = 'PCA'",
   "outputs": [],
   "execution_count": null
  },
  {
   "cell_type": "code",
   "metadata": {
    "tags": [],
    "cell_id": "00032-45eae3d4-37f2-4c04-9bbb-01c136497b1b",
    "deepnote_to_be_reexecuted": false,
    "source_hash": "e3583d17",
    "execution_start": 1638215776728,
    "execution_millis": 779,
    "deepnote_output_heights": [
     424.3999938964844,
     194,
     194
    ],
    "deepnote_cell_type": "code"
   },
   "source": "metrics_pandas = metrics_numpy_2_pandas(t1_metrics_data['data'], alfabeto)\nif input_task1_option == \"PCA\":\n    t1_alg_result, t1_alg_variance = metrics_numpy_2_PCA(metrics_pandas, show_intermediate_data=True)\nelif input_task1_option == \"SVD\":\n    t1_alg_result, t1_alg_variance = metrics_numpy_2_SVD(metrics_pandas, show_intermediate_data=True)\nelse:\n    t1_alg_result, t1_alg_variance = metrics_numpy_2_LDA(metrics_pandas, t1_metrics_data['labels'], show_intermediate_data=True)",
   "outputs": [
    {
     "data": {
      "application/vnd.deepnote.dataframe.v2+json": {
       "row_count": 1260,
       "column_count": 93,
       "columns": [
        {
         "name": "PC1",
         "dtype": "float64",
         "stats": {
          "unique_count": 454,
          "nan_count": 0,
          "min": "0.0",
          "max": "0.50857437571978",
          "histogram": [
           {
            "bin_start": 0,
            "bin_end": 0.050857437571978005,
            "count": 1237
           },
           {
            "bin_start": 0.050857437571978005,
            "bin_end": 0.10171487514395601,
            "count": 8
           },
           {
            "bin_start": 0.10171487514395601,
            "bin_end": 0.15257231271593402,
            "count": 6
           },
           {
            "bin_start": 0.15257231271593402,
            "bin_end": 0.20342975028791202,
            "count": 3
           },
           {
            "bin_start": 0.20342975028791202,
            "bin_end": 0.25428718785989,
            "count": 1
           },
           {
            "bin_start": 0.25428718785989,
            "bin_end": 0.30514462543186804,
            "count": 2
           },
           {
            "bin_start": 0.30514462543186804,
            "bin_end": 0.356002063003846,
            "count": 1
           },
           {
            "bin_start": 0.356002063003846,
            "bin_end": 0.40685950057582404,
            "count": 1
           },
           {
            "bin_start": 0.40685950057582404,
            "bin_end": 0.45771693814780207,
            "count": 0
           },
           {
            "bin_start": 0.45771693814780207,
            "bin_end": 0.50857437571978,
            "count": 1
           }
          ]
         }
        },
        {
         "name": "PC2",
         "dtype": "float64",
         "stats": {
          "unique_count": 454,
          "nan_count": 0,
          "min": "0.0",
          "max": "0.45360025622340955",
          "histogram": [
           {
            "bin_start": 0,
            "bin_end": 0.045360025622340955,
            "count": 1221
           },
           {
            "bin_start": 0.045360025622340955,
            "bin_end": 0.09072005124468191,
            "count": 19
           },
           {
            "bin_start": 0.09072005124468191,
            "bin_end": 0.13608007686702286,
            "count": 5
           },
           {
            "bin_start": 0.13608007686702286,
            "bin_end": 0.18144010248936382,
            "count": 4
           },
           {
            "bin_start": 0.18144010248936382,
            "bin_end": 0.22680012811170477,
            "count": 6
           },
           {
            "bin_start": 0.22680012811170477,
            "bin_end": 0.27216015373404573,
            "count": 3
           },
           {
            "bin_start": 0.27216015373404573,
            "bin_end": 0.31752017935638666,
            "count": 1
           },
           {
            "bin_start": 0.31752017935638666,
            "bin_end": 0.36288020497872764,
            "count": 0
           },
           {
            "bin_start": 0.36288020497872764,
            "bin_end": 0.4082402306010686,
            "count": 0
           },
           {
            "bin_start": 0.4082402306010686,
            "bin_end": 0.45360025622340955,
            "count": 1
           }
          ]
         }
        },
        {
         "name": "PC3",
         "dtype": "float64",
         "stats": {
          "unique_count": 454,
          "nan_count": 0,
          "min": "0.0",
          "max": "0.43399196625118874",
          "histogram": [
           {
            "bin_start": 0,
            "bin_end": 0.043399196625118874,
            "count": 1223
           },
           {
            "bin_start": 0.043399196625118874,
            "bin_end": 0.08679839325023775,
            "count": 10
           },
           {
            "bin_start": 0.08679839325023775,
            "bin_end": 0.13019758987535662,
            "count": 11
           },
           {
            "bin_start": 0.13019758987535662,
            "bin_end": 0.1735967865004755,
            "count": 9
           },
           {
            "bin_start": 0.1735967865004755,
            "bin_end": 0.21699598312559437,
            "count": 3
           },
           {
            "bin_start": 0.21699598312559437,
            "bin_end": 0.26039517975071325,
            "count": 0
           },
           {
            "bin_start": 0.26039517975071325,
            "bin_end": 0.3037943763758321,
            "count": 2
           },
           {
            "bin_start": 0.3037943763758321,
            "bin_end": 0.347193573000951,
            "count": 1
           },
           {
            "bin_start": 0.347193573000951,
            "bin_end": 0.39059276962606987,
            "count": 0
           },
           {
            "bin_start": 0.39059276962606987,
            "bin_end": 0.43399196625118874,
            "count": 1
           }
          ]
         }
        },
        {
         "name": "PC4",
         "dtype": "float64",
         "stats": {
          "unique_count": 454,
          "nan_count": 0,
          "min": "0.0",
          "max": "0.41400821148726197",
          "histogram": [
           {
            "bin_start": 0,
            "bin_end": 0.041400821148726195,
            "count": 1205
           },
           {
            "bin_start": 0.041400821148726195,
            "bin_end": 0.08280164229745239,
            "count": 30
           },
           {
            "bin_start": 0.08280164229745239,
            "bin_end": 0.12420246344617858,
            "count": 12
           },
           {
            "bin_start": 0.12420246344617858,
            "bin_end": 0.16560328459490478,
            "count": 2
           },
           {
            "bin_start": 0.16560328459490478,
            "bin_end": 0.20700410574363098,
            "count": 6
           },
           {
            "bin_start": 0.20700410574363098,
            "bin_end": 0.24840492689235716,
            "count": 2
           },
           {
            "bin_start": 0.24840492689235716,
            "bin_end": 0.2898057480410834,
            "count": 0
           },
           {
            "bin_start": 0.2898057480410834,
            "bin_end": 0.33120656918980956,
            "count": 1
           },
           {
            "bin_start": 0.33120656918980956,
            "bin_end": 0.37260739033853574,
            "count": 1
           },
           {
            "bin_start": 0.37260739033853574,
            "bin_end": 0.41400821148726197,
            "count": 1
           }
          ]
         }
        },
        {
         "name": "PC5",
         "dtype": "float64",
         "stats": {
          "unique_count": 454,
          "nan_count": 0,
          "min": "0.0",
          "max": "0.46117935618768824",
          "histogram": [
           {
            "bin_start": 0,
            "bin_end": 0.04611793561876883,
            "count": 1218
           },
           {
            "bin_start": 0.04611793561876883,
            "bin_end": 0.09223587123753765,
            "count": 21
           },
           {
            "bin_start": 0.09223587123753765,
            "bin_end": 0.1383538068563065,
            "count": 8
           },
           {
            "bin_start": 0.1383538068563065,
            "bin_end": 0.1844717424750753,
            "count": 5
           },
           {
            "bin_start": 0.1844717424750753,
            "bin_end": 0.23058967809384412,
            "count": 5
           },
           {
            "bin_start": 0.23058967809384412,
            "bin_end": 0.276707613712613,
            "count": 0
           },
           {
            "bin_start": 0.276707613712613,
            "bin_end": 0.3228255493313818,
            "count": 1
           },
           {
            "bin_start": 0.3228255493313818,
            "bin_end": 0.3689434849501506,
            "count": 0
           },
           {
            "bin_start": 0.3689434849501506,
            "bin_end": 0.4150614205689194,
            "count": 1
           },
           {
            "bin_start": 0.4150614205689194,
            "bin_end": 0.46117935618768824,
            "count": 1
           }
          ]
         }
        },
        {
         "name": "PC6",
         "dtype": "float64",
         "stats": {
          "unique_count": 454,
          "nan_count": 0,
          "min": "0.0",
          "max": "0.3457109224275179",
          "histogram": [
           {
            "bin_start": 0,
            "bin_end": 0.03457109224275179,
            "count": 1192
           },
           {
            "bin_start": 0.03457109224275179,
            "bin_end": 0.06914218448550358,
            "count": 28
           },
           {
            "bin_start": 0.06914218448550358,
            "bin_end": 0.10371327672825537,
            "count": 16
           },
           {
            "bin_start": 0.10371327672825537,
            "bin_end": 0.13828436897100715,
            "count": 13
           },
           {
            "bin_start": 0.13828436897100715,
            "bin_end": 0.17285546121375894,
            "count": 5
           },
           {
            "bin_start": 0.17285546121375894,
            "bin_end": 0.20742655345651073,
            "count": 1
           },
           {
            "bin_start": 0.20742655345651073,
            "bin_end": 0.24199764569926252,
            "count": 1
           },
           {
            "bin_start": 0.24199764569926252,
            "bin_end": 0.2765687379420143,
            "count": 1
           },
           {
            "bin_start": 0.2765687379420143,
            "bin_end": 0.3111398301847661,
            "count": 2
           },
           {
            "bin_start": 0.3111398301847661,
            "bin_end": 0.3457109224275179,
            "count": 1
           }
          ]
         }
        },
        {
         "name": "PC7",
         "dtype": "float64",
         "stats": {
          "unique_count": 454,
          "nan_count": 0,
          "min": "0.0",
          "max": "0.27783200384226225",
          "histogram": [
           {
            "bin_start": 0,
            "bin_end": 0.027783200384226225,
            "count": 1171
           },
           {
            "bin_start": 0.027783200384226225,
            "bin_end": 0.05556640076845245,
            "count": 36
           },
           {
            "bin_start": 0.05556640076845245,
            "bin_end": 0.08334960115267867,
            "count": 21
           },
           {
            "bin_start": 0.08334960115267867,
            "bin_end": 0.1111328015369049,
            "count": 11
           },
           {
            "bin_start": 0.1111328015369049,
            "bin_end": 0.13891600192113113,
            "count": 10
           },
           {
            "bin_start": 0.13891600192113113,
            "bin_end": 0.16669920230535734,
            "count": 3
           },
           {
            "bin_start": 0.16669920230535734,
            "bin_end": 0.19448240268958358,
            "count": 1
           },
           {
            "bin_start": 0.19448240268958358,
            "bin_end": 0.2222656030738098,
            "count": 1
           },
           {
            "bin_start": 0.2222656030738098,
            "bin_end": 0.25004880345803604,
            "count": 2
           },
           {
            "bin_start": 0.25004880345803604,
            "bin_end": 0.27783200384226225,
            "count": 4
           }
          ]
         }
        },
        {
         "name": "PC8",
         "dtype": "float64",
         "stats": {
          "unique_count": 454,
          "nan_count": 0,
          "min": "0.0",
          "max": "0.2745373556833369",
          "histogram": [
           {
            "bin_start": 0,
            "bin_end": 0.027453735568333693,
            "count": 1158
           },
           {
            "bin_start": 0.027453735568333693,
            "bin_end": 0.054907471136667385,
            "count": 50
           },
           {
            "bin_start": 0.054907471136667385,
            "bin_end": 0.08236120670500108,
            "count": 12
           },
           {
            "bin_start": 0.08236120670500108,
            "bin_end": 0.10981494227333477,
            "count": 21
           },
           {
            "bin_start": 0.10981494227333477,
            "bin_end": 0.13726867784166846,
            "count": 6
           },
           {
            "bin_start": 0.13726867784166846,
            "bin_end": 0.16472241341000216,
            "count": 3
           },
           {
            "bin_start": 0.16472241341000216,
            "bin_end": 0.19217614897833585,
            "count": 3
           },
           {
            "bin_start": 0.19217614897833585,
            "bin_end": 0.21962988454666954,
            "count": 1
           },
           {
            "bin_start": 0.21962988454666954,
            "bin_end": 0.24708362011500323,
            "count": 4
           },
           {
            "bin_start": 0.24708362011500323,
            "bin_end": 0.2745373556833369,
            "count": 2
           }
          ]
         }
        },
        {
         "name": "PC9",
         "dtype": "float64",
         "stats": {
          "unique_count": 454,
          "nan_count": 0,
          "min": "0.0",
          "max": "0.422833546762397",
          "histogram": [
           {
            "bin_start": 0,
            "bin_end": 0.0422833546762397,
            "count": 1192
           },
           {
            "bin_start": 0.0422833546762397,
            "bin_end": 0.0845667093524794,
            "count": 35
           },
           {
            "bin_start": 0.0845667093524794,
            "bin_end": 0.1268500640287191,
            "count": 17
           },
           {
            "bin_start": 0.1268500640287191,
            "bin_end": 0.1691334187049588,
            "count": 11
           },
           {
            "bin_start": 0.1691334187049588,
            "bin_end": 0.2114167733811985,
            "count": 2
           },
           {
            "bin_start": 0.2114167733811985,
            "bin_end": 0.2537001280574382,
            "count": 1
           },
           {
            "bin_start": 0.2537001280574382,
            "bin_end": 0.2959834827336779,
            "count": 1
           },
           {
            "bin_start": 0.2959834827336779,
            "bin_end": 0.3382668374099176,
            "count": 0
           },
           {
            "bin_start": 0.3382668374099176,
            "bin_end": 0.38055019208615726,
            "count": 0
           },
           {
            "bin_start": 0.38055019208615726,
            "bin_end": 0.422833546762397,
            "count": 1
           }
          ]
         }
        },
        {
         "name": "PC10",
         "dtype": "float64",
         "stats": {
          "unique_count": 454,
          "nan_count": 0,
          "min": "0.0",
          "max": "0.2615042857648569",
          "histogram": [
           {
            "bin_start": 0,
            "bin_end": 0.02615042857648569,
            "count": 1148
           },
           {
            "bin_start": 0.02615042857648569,
            "bin_end": 0.05230085715297138,
            "count": 47
           },
           {
            "bin_start": 0.05230085715297138,
            "bin_end": 0.07845128572945706,
            "count": 28
           },
           {
            "bin_start": 0.07845128572945706,
            "bin_end": 0.10460171430594276,
            "count": 11
           },
           {
            "bin_start": 0.10460171430594276,
            "bin_end": 0.13075214288242845,
            "count": 10
           },
           {
            "bin_start": 0.13075214288242845,
            "bin_end": 0.15690257145891412,
            "count": 7
           },
           {
            "bin_start": 0.15690257145891412,
            "bin_end": 0.18305300003539982,
            "count": 4
           },
           {
            "bin_start": 0.18305300003539982,
            "bin_end": 0.2092034286118855,
            "count": 0
           },
           {
            "bin_start": 0.2092034286118855,
            "bin_end": 0.2353538571883712,
            "count": 2
           },
           {
            "bin_start": 0.2353538571883712,
            "bin_end": 0.2615042857648569,
            "count": 3
           }
          ]
         }
        },
        {
         "name": "PC11",
         "dtype": "float64",
         "stats": {
          "unique_count": 454,
          "nan_count": 0,
          "min": "0.0",
          "max": "0.29865168968535144",
          "histogram": [
           {
            "bin_start": 0,
            "bin_end": 0.029865168968535145,
            "count": 1147
           },
           {
            "bin_start": 0.029865168968535145,
            "bin_end": 0.05973033793707029,
            "count": 54
           },
           {
            "bin_start": 0.05973033793707029,
            "bin_end": 0.08959550690560544,
            "count": 26
           },
           {
            "bin_start": 0.08959550690560544,
            "bin_end": 0.11946067587414058,
            "count": 12
           },
           {
            "bin_start": 0.11946067587414058,
            "bin_end": 0.14932584484267572,
            "count": 9
           },
           {
            "bin_start": 0.14932584484267572,
            "bin_end": 0.1791910138112109,
            "count": 6
           },
           {
            "bin_start": 0.1791910138112109,
            "bin_end": 0.20905618277974602,
            "count": 4
           },
           {
            "bin_start": 0.20905618277974602,
            "bin_end": 0.23892135174828116,
            "count": 0
           },
           {
            "bin_start": 0.23892135174828116,
            "bin_end": 0.2687865207168163,
            "count": 1
           },
           {
            "bin_start": 0.2687865207168163,
            "bin_end": 0.29865168968535144,
            "count": 1
           }
          ]
         }
        },
        {
         "name": "PC12",
         "dtype": "float64",
         "stats": {
          "unique_count": 454,
          "nan_count": 0,
          "min": "0.0",
          "max": "0.37197760623961473",
          "histogram": [
           {
            "bin_start": 0,
            "bin_end": 0.037197760623961476,
            "count": 1185
           },
           {
            "bin_start": 0.037197760623961476,
            "bin_end": 0.07439552124792295,
            "count": 47
           },
           {
            "bin_start": 0.07439552124792295,
            "bin_end": 0.11159328187188443,
            "count": 11
           },
           {
            "bin_start": 0.11159328187188443,
            "bin_end": 0.1487910424958459,
            "count": 3
           },
           {
            "bin_start": 0.1487910424958459,
            "bin_end": 0.18598880311980737,
            "count": 4
           },
           {
            "bin_start": 0.18598880311980737,
            "bin_end": 0.22318656374376886,
            "count": 7
           },
           {
            "bin_start": 0.22318656374376886,
            "bin_end": 0.26038432436773035,
            "count": 2
           },
           {
            "bin_start": 0.26038432436773035,
            "bin_end": 0.2975820849916918,
            "count": 0
           },
           {
            "bin_start": 0.2975820849916918,
            "bin_end": 0.33477984561565327,
            "count": 0
           },
           {
            "bin_start": 0.33477984561565327,
            "bin_end": 0.37197760623961473,
            "count": 1
           }
          ]
         }
        },
        {
         "name": "PC13",
         "dtype": "float64",
         "stats": {
          "unique_count": 454,
          "nan_count": 0,
          "min": "0.0",
          "max": "0.2629618390664811",
          "histogram": [
           {
            "bin_start": 0,
            "bin_end": 0.026296183906648108,
            "count": 1152
           },
           {
            "bin_start": 0.026296183906648108,
            "bin_end": 0.052592367813296216,
            "count": 54
           },
           {
            "bin_start": 0.052592367813296216,
            "bin_end": 0.07888855171994433,
            "count": 21
           },
           {
            "bin_start": 0.07888855171994433,
            "bin_end": 0.10518473562659243,
            "count": 12
           },
           {
            "bin_start": 0.10518473562659243,
            "bin_end": 0.13148091953324054,
            "count": 4
           },
           {
            "bin_start": 0.13148091953324054,
            "bin_end": 0.15777710343988866,
            "count": 4
           },
           {
            "bin_start": 0.15777710343988866,
            "bin_end": 0.18407328734653675,
            "count": 3
           },
           {
            "bin_start": 0.18407328734653675,
            "bin_end": 0.21036947125318486,
            "count": 4
           },
           {
            "bin_start": 0.21036947125318486,
            "bin_end": 0.23666565515983298,
            "count": 2
           },
           {
            "bin_start": 0.23666565515983298,
            "bin_end": 0.2629618390664811,
            "count": 4
           }
          ]
         }
        },
        {
         "name": "PC14",
         "dtype": "float64",
         "stats": {
          "unique_count": 454,
          "nan_count": 0,
          "min": "0.0",
          "max": "0.38489504259348073",
          "histogram": [
           {
            "bin_start": 0,
            "bin_end": 0.03848950425934807,
            "count": 1193
           },
           {
            "bin_start": 0.03848950425934807,
            "bin_end": 0.07697900851869614,
            "count": 34
           },
           {
            "bin_start": 0.07697900851869614,
            "bin_end": 0.11546851277804421,
            "count": 15
           },
           {
            "bin_start": 0.11546851277804421,
            "bin_end": 0.1539580170373923,
            "count": 9
           },
           {
            "bin_start": 0.1539580170373923,
            "bin_end": 0.19244752129674036,
            "count": 4
           },
           {
            "bin_start": 0.19244752129674036,
            "bin_end": 0.23093702555608842,
            "count": 2
           },
           {
            "bin_start": 0.23093702555608842,
            "bin_end": 0.2694265298154365,
            "count": 0
           },
           {
            "bin_start": 0.2694265298154365,
            "bin_end": 0.3079160340747846,
            "count": 1
           },
           {
            "bin_start": 0.3079160340747846,
            "bin_end": 0.3464055383341326,
            "count": 1
           },
           {
            "bin_start": 0.3464055383341326,
            "bin_end": 0.38489504259348073,
            "count": 1
           }
          ]
         }
        },
        {
         "name": "PC15",
         "dtype": "float64",
         "stats": {
          "unique_count": 454,
          "nan_count": 0,
          "min": "0.0",
          "max": "0.48391002744666006",
          "histogram": [
           {
            "bin_start": 0,
            "bin_end": 0.048391002744666005,
            "count": 1205
           },
           {
            "bin_start": 0.048391002744666005,
            "bin_end": 0.09678200548933201,
            "count": 34
           },
           {
            "bin_start": 0.09678200548933201,
            "bin_end": 0.145173008233998,
            "count": 13
           },
           {
            "bin_start": 0.145173008233998,
            "bin_end": 0.19356401097866402,
            "count": 5
           },
           {
            "bin_start": 0.19356401097866402,
            "bin_end": 0.24195501372333003,
            "count": 0
           },
           {
            "bin_start": 0.24195501372333003,
            "bin_end": 0.290346016467996,
            "count": 0
           },
           {
            "bin_start": 0.290346016467996,
            "bin_end": 0.338737019212662,
            "count": 2
           },
           {
            "bin_start": 0.338737019212662,
            "bin_end": 0.38712802195732804,
            "count": 0
           },
           {
            "bin_start": 0.38712802195732804,
            "bin_end": 0.43551902470199405,
            "count": 0
           },
           {
            "bin_start": 0.43551902470199405,
            "bin_end": 0.48391002744666006,
            "count": 1
           }
          ]
         }
        },
        {
         "name": "PC16",
         "dtype": "float64",
         "stats": {
          "unique_count": 454,
          "nan_count": 0,
          "min": "0.0",
          "max": "0.37051379831400005",
          "histogram": [
           {
            "bin_start": 0,
            "bin_end": 0.03705137983140001,
            "count": 1203
           },
           {
            "bin_start": 0.03705137983140001,
            "bin_end": 0.07410275966280001,
            "count": 34
           },
           {
            "bin_start": 0.07410275966280001,
            "bin_end": 0.11115413949420003,
            "count": 10
           },
           {
            "bin_start": 0.11115413949420003,
            "bin_end": 0.14820551932560003,
            "count": 6
           },
           {
            "bin_start": 0.14820551932560003,
            "bin_end": 0.18525689915700003,
            "count": 0
           },
           {
            "bin_start": 0.18525689915700003,
            "bin_end": 0.22230827898840005,
            "count": 2
           },
           {
            "bin_start": 0.22230827898840005,
            "bin_end": 0.25935965881980005,
            "count": 1
           },
           {
            "bin_start": 0.25935965881980005,
            "bin_end": 0.29641103865120005,
            "count": 0
           },
           {
            "bin_start": 0.29641103865120005,
            "bin_end": 0.33346241848260005,
            "count": 0
           },
           {
            "bin_start": 0.33346241848260005,
            "bin_end": 0.37051379831400005,
            "count": 4
           }
          ]
         }
        },
        {
         "name": "PC17",
         "dtype": "float64",
         "stats": {
          "unique_count": 454,
          "nan_count": 0,
          "min": "0.0",
          "max": "0.4082071766993089",
          "histogram": [
           {
            "bin_start": 0,
            "bin_end": 0.04082071766993089,
            "count": 1164
           },
           {
            "bin_start": 0.04082071766993089,
            "bin_end": 0.08164143533986178,
            "count": 58
           },
           {
            "bin_start": 0.08164143533986178,
            "bin_end": 0.12246215300979266,
            "count": 25
           },
           {
            "bin_start": 0.12246215300979266,
            "bin_end": 0.16328287067972355,
            "count": 6
           },
           {
            "bin_start": 0.16328287067972355,
            "bin_end": 0.20410358834965445,
            "count": 3
           },
           {
            "bin_start": 0.20410358834965445,
            "bin_end": 0.24492430601958531,
            "count": 3
           },
           {
            "bin_start": 0.24492430601958531,
            "bin_end": 0.2857450236895162,
            "count": 0
           },
           {
            "bin_start": 0.2857450236895162,
            "bin_end": 0.3265657413594471,
            "count": 0
           },
           {
            "bin_start": 0.3265657413594471,
            "bin_end": 0.367386459029378,
            "count": 0
           },
           {
            "bin_start": 0.367386459029378,
            "bin_end": 0.4082071766993089,
            "count": 1
           }
          ]
         }
        },
        {
         "name": "PC18",
         "dtype": "float64",
         "stats": {
          "unique_count": 454,
          "nan_count": 0,
          "min": "0.0",
          "max": "0.28024125093074437",
          "histogram": [
           {
            "bin_start": 0,
            "bin_end": 0.028024125093074437,
            "count": 1146
           },
           {
            "bin_start": 0.028024125093074437,
            "bin_end": 0.056048250186148875,
            "count": 52
           },
           {
            "bin_start": 0.056048250186148875,
            "bin_end": 0.08407237527922332,
            "count": 25
           },
           {
            "bin_start": 0.08407237527922332,
            "bin_end": 0.11209650037229775,
            "count": 12
           },
           {
            "bin_start": 0.11209650037229775,
            "bin_end": 0.14012062546537218,
            "count": 13
           },
           {
            "bin_start": 0.14012062546537218,
            "bin_end": 0.16814475055844663,
            "count": 7
           },
           {
            "bin_start": 0.16814475055844663,
            "bin_end": 0.19616887565152105,
            "count": 1
           },
           {
            "bin_start": 0.19616887565152105,
            "bin_end": 0.2241930007445955,
            "count": 0
           },
           {
            "bin_start": 0.2241930007445955,
            "bin_end": 0.2522171258376699,
            "count": 1
           },
           {
            "bin_start": 0.2522171258376699,
            "bin_end": 0.28024125093074437,
            "count": 3
           }
          ]
         }
        },
        {
         "name": "PC19",
         "dtype": "float64",
         "stats": {
          "unique_count": 454,
          "nan_count": 0,
          "min": "0.0",
          "max": "0.41218288356962746",
          "histogram": [
           {
            "bin_start": 0,
            "bin_end": 0.04121828835696274,
            "count": 1164
           },
           {
            "bin_start": 0.04121828835696274,
            "bin_end": 0.08243657671392549,
            "count": 62
           },
           {
            "bin_start": 0.08243657671392549,
            "bin_end": 0.12365486507088823,
            "count": 19
           },
           {
            "bin_start": 0.12365486507088823,
            "bin_end": 0.16487315342785097,
            "count": 10
           },
           {
            "bin_start": 0.16487315342785097,
            "bin_end": 0.2060914417848137,
            "count": 3
           },
           {
            "bin_start": 0.2060914417848137,
            "bin_end": 0.24730973014177646,
            "count": 1
           },
           {
            "bin_start": 0.24730973014177646,
            "bin_end": 0.2885280184987392,
            "count": 0
           },
           {
            "bin_start": 0.2885280184987392,
            "bin_end": 0.32974630685570194,
            "count": 0
           },
           {
            "bin_start": 0.32974630685570194,
            "bin_end": 0.37096459521266467,
            "count": 0
           },
           {
            "bin_start": 0.37096459521266467,
            "bin_end": 0.41218288356962746,
            "count": 1
           }
          ]
         }
        },
        {
         "name": "PC20",
         "dtype": "float64",
         "stats": {
          "unique_count": 454,
          "nan_count": 0,
          "min": "0.0",
          "max": "0.36878079279426673",
          "histogram": [
           {
            "bin_start": 0,
            "bin_end": 0.03687807927942667,
            "count": 1171
           },
           {
            "bin_start": 0.03687807927942667,
            "bin_end": 0.07375615855885334,
            "count": 59
           },
           {
            "bin_start": 0.07375615855885334,
            "bin_end": 0.11063423783828001,
            "count": 16
           },
           {
            "bin_start": 0.11063423783828001,
            "bin_end": 0.14751231711770668,
            "count": 3
           },
           {
            "bin_start": 0.14751231711770668,
            "bin_end": 0.18439039639713334,
            "count": 4
           },
           {
            "bin_start": 0.18439039639713334,
            "bin_end": 0.22126847567656002,
            "count": 2
           },
           {
            "bin_start": 0.22126847567656002,
            "bin_end": 0.2581465549559867,
            "count": 3
           },
           {
            "bin_start": 0.2581465549559867,
            "bin_end": 0.29502463423541336,
            "count": 0
           },
           {
            "bin_start": 0.29502463423541336,
            "bin_end": 0.33190271351484,
            "count": 0
           },
           {
            "bin_start": 0.33190271351484,
            "bin_end": 0.36878079279426673,
            "count": 2
           }
          ]
         }
        },
        {
         "name": "PC21",
         "dtype": "float64",
         "stats": {
          "unique_count": 454,
          "nan_count": 0,
          "min": "0.0",
          "max": "0.41267624162512623",
          "histogram": [
           {
            "bin_start": 0,
            "bin_end": 0.041267624162512624,
            "count": 1177
           },
           {
            "bin_start": 0.041267624162512624,
            "bin_end": 0.08253524832502525,
            "count": 45
           },
           {
            "bin_start": 0.08253524832502525,
            "bin_end": 0.12380287248753788,
            "count": 26
           },
           {
            "bin_start": 0.12380287248753788,
            "bin_end": 0.1650704966500505,
            "count": 6
           },
           {
            "bin_start": 0.1650704966500505,
            "bin_end": 0.20633812081256311,
            "count": 3
           },
           {
            "bin_start": 0.20633812081256311,
            "bin_end": 0.24760574497507576,
            "count": 1
           },
           {
            "bin_start": 0.24760574497507576,
            "bin_end": 0.2888733691375884,
            "count": 1
           },
           {
            "bin_start": 0.2888733691375884,
            "bin_end": 0.330140993300101,
            "count": 0
           },
           {
            "bin_start": 0.330140993300101,
            "bin_end": 0.3714086174626136,
            "count": 0
           },
           {
            "bin_start": 0.3714086174626136,
            "bin_end": 0.41267624162512623,
            "count": 1
           }
          ]
         }
        },
        {
         "name": "PC22",
         "dtype": "float64",
         "stats": {
          "unique_count": 454,
          "nan_count": 0,
          "min": "0.0",
          "max": "0.3388034559886531",
          "histogram": [
           {
            "bin_start": 0,
            "bin_end": 0.03388034559886531,
            "count": 1163
           },
           {
            "bin_start": 0.03388034559886531,
            "bin_end": 0.06776069119773062,
            "count": 43
           },
           {
            "bin_start": 0.06776069119773062,
            "bin_end": 0.10164103679659593,
            "count": 29
           },
           {
            "bin_start": 0.10164103679659593,
            "bin_end": 0.13552138239546124,
            "count": 9
           },
           {
            "bin_start": 0.13552138239546124,
            "bin_end": 0.16940172799432657,
            "count": 10
           },
           {
            "bin_start": 0.16940172799432657,
            "bin_end": 0.20328207359319186,
            "count": 3
           },
           {
            "bin_start": 0.20328207359319186,
            "bin_end": 0.23716241919205716,
            "count": 2
           },
           {
            "bin_start": 0.23716241919205716,
            "bin_end": 0.2710427647909225,
            "count": 0
           },
           {
            "bin_start": 0.2710427647909225,
            "bin_end": 0.3049231103897878,
            "count": 0
           },
           {
            "bin_start": 0.3049231103897878,
            "bin_end": 0.3388034559886531,
            "count": 1
           }
          ]
         }
        },
        {
         "name": "PC23",
         "dtype": "float64",
         "stats": {
          "unique_count": 454,
          "nan_count": 0,
          "min": "0.0",
          "max": "0.30427166144761186",
          "histogram": [
           {
            "bin_start": 0,
            "bin_end": 0.030427166144761188,
            "count": 1153
           },
           {
            "bin_start": 0.030427166144761188,
            "bin_end": 0.060854332289522375,
            "count": 51
           },
           {
            "bin_start": 0.060854332289522375,
            "bin_end": 0.09128149843428357,
            "count": 28
           },
           {
            "bin_start": 0.09128149843428357,
            "bin_end": 0.12170866457904475,
            "count": 15
           },
           {
            "bin_start": 0.12170866457904475,
            "bin_end": 0.15213583072380593,
            "count": 4
           },
           {
            "bin_start": 0.15213583072380593,
            "bin_end": 0.18256299686856714,
            "count": 3
           },
           {
            "bin_start": 0.18256299686856714,
            "bin_end": 0.21299016301332832,
            "count": 2
           },
           {
            "bin_start": 0.21299016301332832,
            "bin_end": 0.2434173291580895,
            "count": 1
           },
           {
            "bin_start": 0.2434173291580895,
            "bin_end": 0.2738444953028507,
            "count": 1
           },
           {
            "bin_start": 0.2738444953028507,
            "bin_end": 0.30427166144761186,
            "count": 2
           }
          ]
         }
        },
        {
         "name": "PC24",
         "dtype": "float64",
         "stats": {
          "unique_count": 454,
          "nan_count": 0,
          "min": "0.0",
          "max": "0.35203063039281907",
          "histogram": [
           {
            "bin_start": 0,
            "bin_end": 0.035203063039281904,
            "count": 1181
           },
           {
            "bin_start": 0.035203063039281904,
            "bin_end": 0.07040612607856381,
            "count": 45
           },
           {
            "bin_start": 0.07040612607856381,
            "bin_end": 0.10560918911784571,
            "count": 14
           },
           {
            "bin_start": 0.10560918911784571,
            "bin_end": 0.14081225215712762,
            "count": 10
           },
           {
            "bin_start": 0.14081225215712762,
            "bin_end": 0.1760153151964095,
            "count": 4
           },
           {
            "bin_start": 0.1760153151964095,
            "bin_end": 0.21121837823569142,
            "count": 1
           },
           {
            "bin_start": 0.21121837823569142,
            "bin_end": 0.24642144127497334,
            "count": 0
           },
           {
            "bin_start": 0.24642144127497334,
            "bin_end": 0.28162450431425523,
            "count": 2
           },
           {
            "bin_start": 0.28162450431425523,
            "bin_end": 0.3168275673535371,
            "count": 2
           },
           {
            "bin_start": 0.3168275673535371,
            "bin_end": 0.35203063039281907,
            "count": 1
           }
          ]
         }
        },
        {
         "name": "PC25",
         "dtype": "float64",
         "stats": {
          "unique_count": 454,
          "nan_count": 0,
          "min": "0.0",
          "max": "0.35209146416809756",
          "histogram": [
           {
            "bin_start": 0,
            "bin_end": 0.03520914641680976,
            "count": 1172
           },
           {
            "bin_start": 0.03520914641680976,
            "bin_end": 0.07041829283361951,
            "count": 49
           },
           {
            "bin_start": 0.07041829283361951,
            "bin_end": 0.10562743925042928,
            "count": 19
           },
           {
            "bin_start": 0.10562743925042928,
            "bin_end": 0.14083658566723903,
            "count": 10
           },
           {
            "bin_start": 0.14083658566723903,
            "bin_end": 0.17604573208404878,
            "count": 4
           },
           {
            "bin_start": 0.17604573208404878,
            "bin_end": 0.21125487850085856,
            "count": 1
           },
           {
            "bin_start": 0.21125487850085856,
            "bin_end": 0.2464640249176683,
            "count": 2
           },
           {
            "bin_start": 0.2464640249176683,
            "bin_end": 0.28167317133447806,
            "count": 1
           },
           {
            "bin_start": 0.28167317133447806,
            "bin_end": 0.31688231775128783,
            "count": 1
           },
           {
            "bin_start": 0.31688231775128783,
            "bin_end": 0.35209146416809756,
            "count": 1
           }
          ]
         }
        },
        {
         "name": "PC26",
         "dtype": "float64",
         "stats": {
          "unique_count": 454,
          "nan_count": 0,
          "min": "0.0",
          "max": "0.33754013954587375",
          "histogram": [
           {
            "bin_start": 0,
            "bin_end": 0.033754013954587374,
            "count": 1172
           },
           {
            "bin_start": 0.033754013954587374,
            "bin_end": 0.06750802790917475,
            "count": 39
           },
           {
            "bin_start": 0.06750802790917475,
            "bin_end": 0.10126204186376211,
            "count": 24
           },
           {
            "bin_start": 0.10126204186376211,
            "bin_end": 0.1350160558183495,
            "count": 11
           },
           {
            "bin_start": 0.1350160558183495,
            "bin_end": 0.16877006977293688,
            "count": 8
           },
           {
            "bin_start": 0.16877006977293688,
            "bin_end": 0.20252408372752423,
            "count": 2
           },
           {
            "bin_start": 0.20252408372752423,
            "bin_end": 0.2362780976821116,
            "count": 1
           },
           {
            "bin_start": 0.2362780976821116,
            "bin_end": 0.270032111636699,
            "count": 1
           },
           {
            "bin_start": 0.270032111636699,
            "bin_end": 0.30378612559128637,
            "count": 1
           },
           {
            "bin_start": 0.30378612559128637,
            "bin_end": 0.33754013954587375,
            "count": 1
           }
          ]
         }
        },
        {
         "name": "PC27",
         "dtype": "float64",
         "stats": {
          "unique_count": 454,
          "nan_count": 0,
          "min": "0.0",
          "max": "0.3652651508556884",
          "histogram": [
           {
            "bin_start": 0,
            "bin_end": 0.03652651508556884,
            "count": 1176
           },
           {
            "bin_start": 0.03652651508556884,
            "bin_end": 0.07305303017113768,
            "count": 39
           },
           {
            "bin_start": 0.07305303017113768,
            "bin_end": 0.10957954525670652,
            "count": 23
           },
           {
            "bin_start": 0.10957954525670652,
            "bin_end": 0.14610606034227536,
            "count": 14
           },
           {
            "bin_start": 0.14610606034227536,
            "bin_end": 0.1826325754278442,
            "count": 2
           },
           {
            "bin_start": 0.1826325754278442,
            "bin_end": 0.21915909051341304,
            "count": 3
           },
           {
            "bin_start": 0.21915909051341304,
            "bin_end": 0.2556856055989819,
            "count": 2
           },
           {
            "bin_start": 0.2556856055989819,
            "bin_end": 0.2922121206845507,
            "count": 0
           },
           {
            "bin_start": 0.2922121206845507,
            "bin_end": 0.3287386357701195,
            "count": 0
           },
           {
            "bin_start": 0.3287386357701195,
            "bin_end": 0.3652651508556884,
            "count": 1
           }
          ]
         }
        },
        {
         "name": "PC28",
         "dtype": "float64",
         "stats": {
          "unique_count": 454,
          "nan_count": 0,
          "min": "0.0",
          "max": "0.40586755805125596",
          "histogram": [
           {
            "bin_start": 0,
            "bin_end": 0.04058675580512559,
            "count": 1192
           },
           {
            "bin_start": 0.04058675580512559,
            "bin_end": 0.08117351161025119,
            "count": 40
           },
           {
            "bin_start": 0.08117351161025119,
            "bin_end": 0.12176026741537678,
            "count": 14
           },
           {
            "bin_start": 0.12176026741537678,
            "bin_end": 0.16234702322050237,
            "count": 6
           },
           {
            "bin_start": 0.16234702322050237,
            "bin_end": 0.20293377902562798,
            "count": 2
           },
           {
            "bin_start": 0.20293377902562798,
            "bin_end": 0.24352053483075356,
            "count": 3
           },
           {
            "bin_start": 0.24352053483075356,
            "bin_end": 0.28410729063587914,
            "count": 1
           },
           {
            "bin_start": 0.28410729063587914,
            "bin_end": 0.32469404644100475,
            "count": 0
           },
           {
            "bin_start": 0.32469404644100475,
            "bin_end": 0.36528080224613035,
            "count": 1
           },
           {
            "bin_start": 0.36528080224613035,
            "bin_end": 0.40586755805125596,
            "count": 1
           }
          ]
         }
        },
        {
         "name": "PC29",
         "dtype": "float64",
         "stats": {
          "unique_count": 454,
          "nan_count": 0,
          "min": "0.0",
          "max": "0.22534682534169753",
          "histogram": [
           {
            "bin_start": 0,
            "bin_end": 0.022534682534169754,
            "count": 1112
           },
           {
            "bin_start": 0.022534682534169754,
            "bin_end": 0.04506936506833951,
            "count": 61
           },
           {
            "bin_start": 0.04506936506833951,
            "bin_end": 0.06760404760250927,
            "count": 32
           },
           {
            "bin_start": 0.06760404760250927,
            "bin_end": 0.09013873013667902,
            "count": 18
           },
           {
            "bin_start": 0.09013873013667902,
            "bin_end": 0.11267341267084877,
            "count": 13
           },
           {
            "bin_start": 0.11267341267084877,
            "bin_end": 0.13520809520501853,
            "count": 9
           },
           {
            "bin_start": 0.13520809520501853,
            "bin_end": 0.15774277773918827,
            "count": 6
           },
           {
            "bin_start": 0.15774277773918827,
            "bin_end": 0.18027746027335803,
            "count": 4
           },
           {
            "bin_start": 0.18027746027335803,
            "bin_end": 0.2028121428075278,
            "count": 3
           },
           {
            "bin_start": 0.2028121428075278,
            "bin_end": 0.22534682534169753,
            "count": 2
           }
          ]
         }
        },
        {
         "name": "PC30",
         "dtype": "float64",
         "stats": {
          "unique_count": 454,
          "nan_count": 0,
          "min": "0.0",
          "max": "0.31426936523642274",
          "histogram": [
           {
            "bin_start": 0,
            "bin_end": 0.03142693652364227,
            "count": 1148
           },
           {
            "bin_start": 0.03142693652364227,
            "bin_end": 0.06285387304728454,
            "count": 59
           },
           {
            "bin_start": 0.06285387304728454,
            "bin_end": 0.09428080957092681,
            "count": 22
           },
           {
            "bin_start": 0.09428080957092681,
            "bin_end": 0.12570774609456908,
            "count": 13
           },
           {
            "bin_start": 0.12570774609456908,
            "bin_end": 0.15713468261821134,
            "count": 8
           },
           {
            "bin_start": 0.15713468261821134,
            "bin_end": 0.18856161914185363,
            "count": 7
           },
           {
            "bin_start": 0.18856161914185363,
            "bin_end": 0.2199885556654959,
            "count": 2
           },
           {
            "bin_start": 0.2199885556654959,
            "bin_end": 0.25141549218913817,
            "count": 0
           },
           {
            "bin_start": 0.25141549218913817,
            "bin_end": 0.2828424287127804,
            "count": 0
           },
           {
            "bin_start": 0.2828424287127804,
            "bin_end": 0.31426936523642274,
            "count": 1
           }
          ]
         }
        },
        {
         "name": "PC31",
         "dtype": "float64",
         "stats": {
          "unique_count": 454,
          "nan_count": 0,
          "min": "0.0",
          "max": "0.29035450054412915",
          "histogram": [
           {
            "bin_start": 0,
            "bin_end": 0.029035450054412916,
            "count": 1141
           },
           {
            "bin_start": 0.029035450054412916,
            "bin_end": 0.05807090010882583,
            "count": 66
           },
           {
            "bin_start": 0.05807090010882583,
            "bin_end": 0.08710635016323875,
            "count": 16
           },
           {
            "bin_start": 0.08710635016323875,
            "bin_end": 0.11614180021765166,
            "count": 16
           },
           {
            "bin_start": 0.11614180021765166,
            "bin_end": 0.14517725027206457,
            "count": 11
           },
           {
            "bin_start": 0.14517725027206457,
            "bin_end": 0.1742127003264775,
            "count": 4
           },
           {
            "bin_start": 0.1742127003264775,
            "bin_end": 0.20324815038089042,
            "count": 2
           },
           {
            "bin_start": 0.20324815038089042,
            "bin_end": 0.23228360043530333,
            "count": 2
           },
           {
            "bin_start": 0.23228360043530333,
            "bin_end": 0.26131905048971626,
            "count": 0
           },
           {
            "bin_start": 0.26131905048971626,
            "bin_end": 0.29035450054412915,
            "count": 2
           }
          ]
         }
        },
        {
         "name": "PC32",
         "dtype": "float64",
         "stats": {
          "unique_count": 454,
          "nan_count": 0,
          "min": "0.0",
          "max": "0.38906731736353467",
          "histogram": [
           {
            "bin_start": 0,
            "bin_end": 0.038906731736353464,
            "count": 1160
           },
           {
            "bin_start": 0.038906731736353464,
            "bin_end": 0.07781346347270693,
            "count": 64
           },
           {
            "bin_start": 0.07781346347270693,
            "bin_end": 0.11672019520906039,
            "count": 22
           },
           {
            "bin_start": 0.11672019520906039,
            "bin_end": 0.15562692694541386,
            "count": 8
           },
           {
            "bin_start": 0.15562692694541386,
            "bin_end": 0.1945336586817673,
            "count": 1
           },
           {
            "bin_start": 0.1945336586817673,
            "bin_end": 0.23344039041812079,
            "count": 3
           },
           {
            "bin_start": 0.23344039041812079,
            "bin_end": 0.27234712215447426,
            "count": 0
           },
           {
            "bin_start": 0.27234712215447426,
            "bin_end": 0.3112538538908277,
            "count": 1
           },
           {
            "bin_start": 0.3112538538908277,
            "bin_end": 0.35016058562718116,
            "count": 0
           },
           {
            "bin_start": 0.35016058562718116,
            "bin_end": 0.38906731736353467,
            "count": 1
           }
          ]
         }
        },
        {
         "name": "PC33",
         "dtype": "float64",
         "stats": {
          "unique_count": 454,
          "nan_count": 0,
          "min": "0.0",
          "max": "0.244172519978458",
          "histogram": [
           {
            "bin_start": 0,
            "bin_end": 0.0244172519978458,
            "count": 1112
           },
           {
            "bin_start": 0.0244172519978458,
            "bin_end": 0.0488345039956916,
            "count": 60
           },
           {
            "bin_start": 0.0488345039956916,
            "bin_end": 0.07325175599353739,
            "count": 40
           },
           {
            "bin_start": 0.07325175599353739,
            "bin_end": 0.0976690079913832,
            "count": 20
           },
           {
            "bin_start": 0.0976690079913832,
            "bin_end": 0.122086259989229,
            "count": 9
           },
           {
            "bin_start": 0.122086259989229,
            "bin_end": 0.14650351198707479,
            "count": 7
           },
           {
            "bin_start": 0.14650351198707479,
            "bin_end": 0.1709207639849206,
            "count": 7
           },
           {
            "bin_start": 0.1709207639849206,
            "bin_end": 0.1953380159827664,
            "count": 3
           },
           {
            "bin_start": 0.1953380159827664,
            "bin_end": 0.2197552679806122,
            "count": 1
           },
           {
            "bin_start": 0.2197552679806122,
            "bin_end": 0.244172519978458,
            "count": 1
           }
          ]
         }
        },
        {
         "name": "PC34",
         "dtype": "float64",
         "stats": {
          "unique_count": 454,
          "nan_count": 0,
          "min": "0.0",
          "max": "0.2555152564690434",
          "histogram": [
           {
            "bin_start": 0,
            "bin_end": 0.025551525646904338,
            "count": 1138
           },
           {
            "bin_start": 0.025551525646904338,
            "bin_end": 0.051103051293808675,
            "count": 49
           },
           {
            "bin_start": 0.051103051293808675,
            "bin_end": 0.07665457694071301,
            "count": 29
           },
           {
            "bin_start": 0.07665457694071301,
            "bin_end": 0.10220610258761735,
            "count": 19
           },
           {
            "bin_start": 0.10220610258761735,
            "bin_end": 0.1277576282345217,
            "count": 13
           },
           {
            "bin_start": 0.1277576282345217,
            "bin_end": 0.15330915388142602,
            "count": 3
           },
           {
            "bin_start": 0.15330915388142602,
            "bin_end": 0.17886067952833037,
            "count": 2
           },
           {
            "bin_start": 0.17886067952833037,
            "bin_end": 0.2044122051752347,
            "count": 1
           },
           {
            "bin_start": 0.2044122051752347,
            "bin_end": 0.22996373082213903,
            "count": 4
           },
           {
            "bin_start": 0.22996373082213903,
            "bin_end": 0.2555152564690434,
            "count": 2
           }
          ]
         }
        },
        {
         "name": "PC35",
         "dtype": "float64",
         "stats": {
          "unique_count": 454,
          "nan_count": 0,
          "min": "0.0",
          "max": "0.32257343618730727",
          "histogram": [
           {
            "bin_start": 0,
            "bin_end": 0.03225734361873073,
            "count": 1143
           },
           {
            "bin_start": 0.03225734361873073,
            "bin_end": 0.06451468723746145,
            "count": 68
           },
           {
            "bin_start": 0.06451468723746145,
            "bin_end": 0.09677203085619218,
            "count": 26
           },
           {
            "bin_start": 0.09677203085619218,
            "bin_end": 0.1290293744749229,
            "count": 11
           },
           {
            "bin_start": 0.1290293744749229,
            "bin_end": 0.16128671809365364,
            "count": 4
           },
           {
            "bin_start": 0.16128671809365364,
            "bin_end": 0.19354406171238436,
            "count": 2
           },
           {
            "bin_start": 0.19354406171238436,
            "bin_end": 0.2258014053311151,
            "count": 3
           },
           {
            "bin_start": 0.2258014053311151,
            "bin_end": 0.2580587489498458,
            "count": 1
           },
           {
            "bin_start": 0.2580587489498458,
            "bin_end": 0.29031609256857654,
            "count": 1
           },
           {
            "bin_start": 0.29031609256857654,
            "bin_end": 0.32257343618730727,
            "count": 1
           }
          ]
         }
        },
        {
         "name": "PC36",
         "dtype": "float64",
         "stats": {
          "unique_count": 454,
          "nan_count": 0,
          "min": "0.0",
          "max": "0.23989726721032542",
          "histogram": [
           {
            "bin_start": 0,
            "bin_end": 0.023989726721032542,
            "count": 1099
           },
           {
            "bin_start": 0.023989726721032542,
            "bin_end": 0.047979453442065084,
            "count": 68
           },
           {
            "bin_start": 0.047979453442065084,
            "bin_end": 0.07196918016309763,
            "count": 31
           },
           {
            "bin_start": 0.07196918016309763,
            "bin_end": 0.09595890688413017,
            "count": 32
           },
           {
            "bin_start": 0.09595890688413017,
            "bin_end": 0.11994863360516271,
            "count": 15
           },
           {
            "bin_start": 0.11994863360516271,
            "bin_end": 0.14393836032619525,
            "count": 6
           },
           {
            "bin_start": 0.14393836032619525,
            "bin_end": 0.16792808704722778,
            "count": 4
           },
           {
            "bin_start": 0.16792808704722778,
            "bin_end": 0.19191781376826034,
            "count": 3
           },
           {
            "bin_start": 0.19191781376826034,
            "bin_end": 0.2159075404892929,
            "count": 0
           },
           {
            "bin_start": 0.2159075404892929,
            "bin_end": 0.23989726721032542,
            "count": 2
           }
          ]
         }
        },
        {
         "name": "PC37",
         "dtype": "float64",
         "stats": {
          "unique_count": 454,
          "nan_count": 0,
          "min": "0.0",
          "max": "0.212994403868354",
          "histogram": [
           {
            "bin_start": 0,
            "bin_end": 0.0212994403868354,
            "count": 1095
           },
           {
            "bin_start": 0.0212994403868354,
            "bin_end": 0.0425988807736708,
            "count": 64
           },
           {
            "bin_start": 0.0425988807736708,
            "bin_end": 0.0638983211605062,
            "count": 34
           },
           {
            "bin_start": 0.0638983211605062,
            "bin_end": 0.0851977615473416,
            "count": 28
           },
           {
            "bin_start": 0.0851977615473416,
            "bin_end": 0.106497201934177,
            "count": 15
           },
           {
            "bin_start": 0.106497201934177,
            "bin_end": 0.1277966423210124,
            "count": 12
           },
           {
            "bin_start": 0.1277966423210124,
            "bin_end": 0.1490960827078478,
            "count": 5
           },
           {
            "bin_start": 0.1490960827078478,
            "bin_end": 0.1703955230946832,
            "count": 0
           },
           {
            "bin_start": 0.1703955230946832,
            "bin_end": 0.1916949634815186,
            "count": 2
           },
           {
            "bin_start": 0.1916949634815186,
            "bin_end": 0.212994403868354,
            "count": 5
           }
          ]
         }
        },
        {
         "name": "PC38",
         "dtype": "float64",
         "stats": {
          "unique_count": 454,
          "nan_count": 0,
          "min": "0.0",
          "max": "0.30475417374473446",
          "histogram": [
           {
            "bin_start": 0,
            "bin_end": 0.030475417374473446,
            "count": 1127
           },
           {
            "bin_start": 0.030475417374473446,
            "bin_end": 0.06095083474894689,
            "count": 67
           },
           {
            "bin_start": 0.06095083474894689,
            "bin_end": 0.09142625212342034,
            "count": 34
           },
           {
            "bin_start": 0.09142625212342034,
            "bin_end": 0.12190166949789379,
            "count": 19
           },
           {
            "bin_start": 0.12190166949789379,
            "bin_end": 0.15237708687236723,
            "count": 7
           },
           {
            "bin_start": 0.15237708687236723,
            "bin_end": 0.18285250424684069,
            "count": 2
           },
           {
            "bin_start": 0.18285250424684069,
            "bin_end": 0.21332792162131411,
            "count": 2
           },
           {
            "bin_start": 0.21332792162131411,
            "bin_end": 0.24380333899578757,
            "count": 0
           },
           {
            "bin_start": 0.24380333899578757,
            "bin_end": 0.274278756370261,
            "count": 1
           },
           {
            "bin_start": 0.274278756370261,
            "bin_end": 0.30475417374473446,
            "count": 1
           }
          ]
         }
        },
        {
         "name": "PC39",
         "dtype": "float64",
         "stats": {
          "unique_count": 454,
          "nan_count": 0,
          "min": "0.0",
          "max": "0.2581188554724862",
          "histogram": [
           {
            "bin_start": 0,
            "bin_end": 0.02581188554724862,
            "count": 1112
           },
           {
            "bin_start": 0.02581188554724862,
            "bin_end": 0.05162377109449724,
            "count": 64
           },
           {
            "bin_start": 0.05162377109449724,
            "bin_end": 0.07743565664174587,
            "count": 42
           },
           {
            "bin_start": 0.07743565664174587,
            "bin_end": 0.10324754218899448,
            "count": 21
           },
           {
            "bin_start": 0.10324754218899448,
            "bin_end": 0.1290594277362431,
            "count": 8
           },
           {
            "bin_start": 0.1290594277362431,
            "bin_end": 0.15487131328349174,
            "count": 3
           },
           {
            "bin_start": 0.15487131328349174,
            "bin_end": 0.18068319883074035,
            "count": 4
           },
           {
            "bin_start": 0.18068319883074035,
            "bin_end": 0.20649508437798897,
            "count": 4
           },
           {
            "bin_start": 0.20649508437798897,
            "bin_end": 0.23230696992523758,
            "count": 1
           },
           {
            "bin_start": 0.23230696992523758,
            "bin_end": 0.2581188554724862,
            "count": 1
           }
          ]
         }
        },
        {
         "name": "PC40",
         "dtype": "float64",
         "stats": {
          "unique_count": 454,
          "nan_count": 0,
          "min": "0.0",
          "max": "0.31769996143144036",
          "histogram": [
           {
            "bin_start": 0,
            "bin_end": 0.03176999614314403,
            "count": 1139
           },
           {
            "bin_start": 0.03176999614314403,
            "bin_end": 0.06353999228628807,
            "count": 66
           },
           {
            "bin_start": 0.06353999228628807,
            "bin_end": 0.0953099884294321,
            "count": 29
           },
           {
            "bin_start": 0.0953099884294321,
            "bin_end": 0.12707998457257613,
            "count": 14
           },
           {
            "bin_start": 0.12707998457257613,
            "bin_end": 0.15884998071572015,
            "count": 5
           },
           {
            "bin_start": 0.15884998071572015,
            "bin_end": 0.1906199768588642,
            "count": 4
           },
           {
            "bin_start": 0.1906199768588642,
            "bin_end": 0.22238997300200825,
            "count": 1
           },
           {
            "bin_start": 0.22238997300200825,
            "bin_end": 0.25415996914515226,
            "count": 0
           },
           {
            "bin_start": 0.25415996914515226,
            "bin_end": 0.2859299652882963,
            "count": 0
           },
           {
            "bin_start": 0.2859299652882963,
            "bin_end": 0.31769996143144036,
            "count": 2
           }
          ]
         }
        },
        {
         "name": "PC41",
         "dtype": "float64",
         "stats": {
          "unique_count": 454,
          "nan_count": 0,
          "min": "0.0",
          "max": "0.2219958811708718",
          "histogram": [
           {
            "bin_start": 0,
            "bin_end": 0.02219958811708718,
            "count": 1099
           },
           {
            "bin_start": 0.02219958811708718,
            "bin_end": 0.04439917623417436,
            "count": 66
           },
           {
            "bin_start": 0.04439917623417436,
            "bin_end": 0.06659876435126154,
            "count": 41
           },
           {
            "bin_start": 0.06659876435126154,
            "bin_end": 0.08879835246834872,
            "count": 18
           },
           {
            "bin_start": 0.08879835246834872,
            "bin_end": 0.1109979405854359,
            "count": 15
           },
           {
            "bin_start": 0.1109979405854359,
            "bin_end": 0.13319752870252308,
            "count": 8
           },
           {
            "bin_start": 0.13319752870252308,
            "bin_end": 0.15539711681961027,
            "count": 6
           },
           {
            "bin_start": 0.15539711681961027,
            "bin_end": 0.17759670493669744,
            "count": 1
           },
           {
            "bin_start": 0.17759670493669744,
            "bin_end": 0.1997962930537846,
            "count": 2
           },
           {
            "bin_start": 0.1997962930537846,
            "bin_end": 0.2219958811708718,
            "count": 4
           }
          ]
         }
        },
        {
         "name": "PC42",
         "dtype": "float64",
         "stats": {
          "unique_count": 454,
          "nan_count": 0,
          "min": "0.0",
          "max": "0.22460832324036512",
          "histogram": [
           {
            "bin_start": 0,
            "bin_end": 0.022460832324036513,
            "count": 1090
           },
           {
            "bin_start": 0.022460832324036513,
            "bin_end": 0.044921664648073026,
            "count": 75
           },
           {
            "bin_start": 0.044921664648073026,
            "bin_end": 0.06738249697210955,
            "count": 37
           },
           {
            "bin_start": 0.06738249697210955,
            "bin_end": 0.08984332929614605,
            "count": 21
           },
           {
            "bin_start": 0.08984332929614605,
            "bin_end": 0.11230416162018256,
            "count": 15
           },
           {
            "bin_start": 0.11230416162018256,
            "bin_end": 0.1347649939442191,
            "count": 11
           },
           {
            "bin_start": 0.1347649939442191,
            "bin_end": 0.1572258262682556,
            "count": 5
           },
           {
            "bin_start": 0.1572258262682556,
            "bin_end": 0.1796866585922921,
            "count": 1
           },
           {
            "bin_start": 0.1796866585922921,
            "bin_end": 0.2021474909163286,
            "count": 2
           },
           {
            "bin_start": 0.2021474909163286,
            "bin_end": 0.22460832324036512,
            "count": 3
           }
          ]
         }
        },
        {
         "name": "PC43",
         "dtype": "float64",
         "stats": {
          "unique_count": 454,
          "nan_count": 0,
          "min": "0.0",
          "max": "0.29922902147753105",
          "histogram": [
           {
            "bin_start": 0,
            "bin_end": 0.029922902147753106,
            "count": 1124
           },
           {
            "bin_start": 0.029922902147753106,
            "bin_end": 0.05984580429550621,
            "count": 77
           },
           {
            "bin_start": 0.05984580429550621,
            "bin_end": 0.08976870644325932,
            "count": 31
           },
           {
            "bin_start": 0.08976870644325932,
            "bin_end": 0.11969160859101242,
            "count": 13
           },
           {
            "bin_start": 0.11969160859101242,
            "bin_end": 0.14961451073876553,
            "count": 7
           },
           {
            "bin_start": 0.14961451073876553,
            "bin_end": 0.17953741288651864,
            "count": 3
           },
           {
            "bin_start": 0.17953741288651864,
            "bin_end": 0.20946031503427173,
            "count": 2
           },
           {
            "bin_start": 0.20946031503427173,
            "bin_end": 0.23938321718202485,
            "count": 1
           },
           {
            "bin_start": 0.23938321718202485,
            "bin_end": 0.26930611932977794,
            "count": 1
           },
           {
            "bin_start": 0.26930611932977794,
            "bin_end": 0.29922902147753105,
            "count": 1
           }
          ]
         }
        },
        {
         "name": "PC44",
         "dtype": "float64",
         "stats": {
          "unique_count": 454,
          "nan_count": 0,
          "min": "0.0",
          "max": "0.22414236865242737",
          "histogram": [
           {
            "bin_start": 0,
            "bin_end": 0.022414236865242736,
            "count": 1100
           },
           {
            "bin_start": 0.022414236865242736,
            "bin_end": 0.04482847373048547,
            "count": 64
           },
           {
            "bin_start": 0.04482847373048547,
            "bin_end": 0.0672427105957282,
            "count": 34
           },
           {
            "bin_start": 0.0672427105957282,
            "bin_end": 0.08965694746097094,
            "count": 25
           },
           {
            "bin_start": 0.08965694746097094,
            "bin_end": 0.11207118432621369,
            "count": 11
           },
           {
            "bin_start": 0.11207118432621369,
            "bin_end": 0.1344854211914564,
            "count": 14
           },
           {
            "bin_start": 0.1344854211914564,
            "bin_end": 0.15689965805669914,
            "count": 7
           },
           {
            "bin_start": 0.15689965805669914,
            "bin_end": 0.17931389492194189,
            "count": 2
           },
           {
            "bin_start": 0.17931389492194189,
            "bin_end": 0.20172813178718463,
            "count": 2
           },
           {
            "bin_start": 0.20172813178718463,
            "bin_end": 0.22414236865242737,
            "count": 1
           }
          ]
         }
        },
        {
         "name": "PC45",
         "dtype": "float64",
         "stats": {
          "unique_count": 454,
          "nan_count": 0,
          "min": "0.0",
          "max": "0.21556490699485373",
          "histogram": [
           {
            "bin_start": 0,
            "bin_end": 0.021556490699485373,
            "count": 1083
           },
           {
            "bin_start": 0.021556490699485373,
            "bin_end": 0.04311298139897075,
            "count": 70
           },
           {
            "bin_start": 0.04311298139897075,
            "bin_end": 0.06466947209845612,
            "count": 41
           },
           {
            "bin_start": 0.06466947209845612,
            "bin_end": 0.0862259627979415,
            "count": 32
           },
           {
            "bin_start": 0.0862259627979415,
            "bin_end": 0.10778245349742686,
            "count": 11
           },
           {
            "bin_start": 0.10778245349742686,
            "bin_end": 0.12933894419691225,
            "count": 6
           },
           {
            "bin_start": 0.12933894419691225,
            "bin_end": 0.15089543489639762,
            "count": 9
           },
           {
            "bin_start": 0.15089543489639762,
            "bin_end": 0.172451925595883,
            "count": 4
           },
           {
            "bin_start": 0.172451925595883,
            "bin_end": 0.19400841629536836,
            "count": 1
           },
           {
            "bin_start": 0.19400841629536836,
            "bin_end": 0.21556490699485373,
            "count": 3
           }
          ]
         }
        },
        {
         "name": "PC46",
         "dtype": "float64",
         "stats": {
          "unique_count": 454,
          "nan_count": 0,
          "min": "0.0",
          "max": "0.23574075640285902",
          "histogram": [
           {
            "bin_start": 0,
            "bin_end": 0.0235740756402859,
            "count": 1093
           },
           {
            "bin_start": 0.0235740756402859,
            "bin_end": 0.0471481512805718,
            "count": 84
           },
           {
            "bin_start": 0.0471481512805718,
            "bin_end": 0.0707222269208577,
            "count": 34
           },
           {
            "bin_start": 0.0707222269208577,
            "bin_end": 0.0942963025611436,
            "count": 18
           },
           {
            "bin_start": 0.0942963025611436,
            "bin_end": 0.11787037820142951,
            "count": 14
           },
           {
            "bin_start": 0.11787037820142951,
            "bin_end": 0.1414444538417154,
            "count": 7
           },
           {
            "bin_start": 0.1414444538417154,
            "bin_end": 0.1650185294820013,
            "count": 2
           },
           {
            "bin_start": 0.1650185294820013,
            "bin_end": 0.1885926051222872,
            "count": 2
           },
           {
            "bin_start": 0.1885926051222872,
            "bin_end": 0.2121666807625731,
            "count": 4
           },
           {
            "bin_start": 0.2121666807625731,
            "bin_end": 0.23574075640285902,
            "count": 2
           }
          ]
         }
        },
        {
         "name": "PC47",
         "dtype": "float64",
         "stats": {
          "unique_count": 454,
          "nan_count": 0,
          "min": "0.0",
          "max": "0.23150017971052403",
          "histogram": [
           {
            "bin_start": 0,
            "bin_end": 0.023150017971052404,
            "count": 1115
           },
           {
            "bin_start": 0.023150017971052404,
            "bin_end": 0.04630003594210481,
            "count": 57
           },
           {
            "bin_start": 0.04630003594210481,
            "bin_end": 0.06945005391315721,
            "count": 25
           },
           {
            "bin_start": 0.06945005391315721,
            "bin_end": 0.09260007188420961,
            "count": 31
           },
           {
            "bin_start": 0.09260007188420961,
            "bin_end": 0.11575008985526201,
            "count": 13
           },
           {
            "bin_start": 0.11575008985526201,
            "bin_end": 0.13890010782631443,
            "count": 6
           },
           {
            "bin_start": 0.13890010782631443,
            "bin_end": 0.16205012579736683,
            "count": 4
           },
           {
            "bin_start": 0.16205012579736683,
            "bin_end": 0.18520014376841923,
            "count": 4
           },
           {
            "bin_start": 0.18520014376841923,
            "bin_end": 0.20835016173947163,
            "count": 4
           },
           {
            "bin_start": 0.20835016173947163,
            "bin_end": 0.23150017971052403,
            "count": 1
           }
          ]
         }
        },
        {
         "name": "PC48",
         "dtype": "float64",
         "stats": {
          "unique_count": 454,
          "nan_count": 0,
          "min": "0.0",
          "max": "0.3022642152786584",
          "histogram": [
           {
            "bin_start": 0,
            "bin_end": 0.030226421527865838,
            "count": 1133
           },
           {
            "bin_start": 0.030226421527865838,
            "bin_end": 0.060452843055731675,
            "count": 61
           },
           {
            "bin_start": 0.060452843055731675,
            "bin_end": 0.09067926458359751,
            "count": 36
           },
           {
            "bin_start": 0.09067926458359751,
            "bin_end": 0.12090568611146335,
            "count": 14
           },
           {
            "bin_start": 0.12090568611146335,
            "bin_end": 0.1511321076393292,
            "count": 8
           },
           {
            "bin_start": 0.1511321076393292,
            "bin_end": 0.18135852916719503,
            "count": 5
           },
           {
            "bin_start": 0.18135852916719503,
            "bin_end": 0.21158495069506086,
            "count": 0
           },
           {
            "bin_start": 0.21158495069506086,
            "bin_end": 0.2418113722229267,
            "count": 1
           },
           {
            "bin_start": 0.2418113722229267,
            "bin_end": 0.2720377937507925,
            "count": 1
           },
           {
            "bin_start": 0.2720377937507925,
            "bin_end": 0.3022642152786584,
            "count": 1
           }
          ]
         }
        },
        {
         "name": "PC49",
         "dtype": "float64",
         "stats": {
          "unique_count": 454,
          "nan_count": 0,
          "min": "0.0",
          "max": "0.26576405176801926",
          "histogram": [
           {
            "bin_start": 0,
            "bin_end": 0.026576405176801925,
            "count": 1115
           },
           {
            "bin_start": 0.026576405176801925,
            "bin_end": 0.05315281035360385,
            "count": 65
           },
           {
            "bin_start": 0.05315281035360385,
            "bin_end": 0.07972921553040577,
            "count": 35
           },
           {
            "bin_start": 0.07972921553040577,
            "bin_end": 0.1063056207072077,
            "count": 22
           },
           {
            "bin_start": 0.1063056207072077,
            "bin_end": 0.13288202588400963,
            "count": 14
           },
           {
            "bin_start": 0.13288202588400963,
            "bin_end": 0.15945843106081153,
            "count": 5
           },
           {
            "bin_start": 0.15945843106081153,
            "bin_end": 0.18603483623761347,
            "count": 1
           },
           {
            "bin_start": 0.18603483623761347,
            "bin_end": 0.2126112414144154,
            "count": 1
           },
           {
            "bin_start": 0.2126112414144154,
            "bin_end": 0.23918764659121733,
            "count": 0
           },
           {
            "bin_start": 0.23918764659121733,
            "bin_end": 0.26576405176801926,
            "count": 2
           }
          ]
         }
        },
        {
         "name": "PC50",
         "dtype": "float64",
         "stats": {
          "unique_count": 454,
          "nan_count": 0,
          "min": "0.0",
          "max": "0.2832102233935833",
          "histogram": [
           {
            "bin_start": 0,
            "bin_end": 0.02832102233935833,
            "count": 1121
           },
           {
            "bin_start": 0.02832102233935833,
            "bin_end": 0.05664204467871666,
            "count": 59
           },
           {
            "bin_start": 0.05664204467871666,
            "bin_end": 0.08496306701807499,
            "count": 44
           },
           {
            "bin_start": 0.08496306701807499,
            "bin_end": 0.11328408935743332,
            "count": 11
           },
           {
            "bin_start": 0.11328408935743332,
            "bin_end": 0.14160511169679166,
            "count": 15
           },
           {
            "bin_start": 0.14160511169679166,
            "bin_end": 0.16992613403614998,
            "count": 7
           },
           {
            "bin_start": 0.16992613403614998,
            "bin_end": 0.19824715637550833,
            "count": 2
           },
           {
            "bin_start": 0.19824715637550833,
            "bin_end": 0.22656817871486665,
            "count": 0
           },
           {
            "bin_start": 0.22656817871486665,
            "bin_end": 0.25488920105422497,
            "count": 0
           },
           {
            "bin_start": 0.25488920105422497,
            "bin_end": 0.2832102233935833,
            "count": 1
           }
          ]
         }
        },
        {
         "name": "PC51",
         "dtype": "float64",
         "stats": {
          "unique_count": 454,
          "nan_count": 0,
          "min": "0.0",
          "max": "0.2733025383613877",
          "histogram": [
           {
            "bin_start": 0,
            "bin_end": 0.027330253836138768,
            "count": 1115
           },
           {
            "bin_start": 0.027330253836138768,
            "bin_end": 0.054660507672277536,
            "count": 71
           },
           {
            "bin_start": 0.054660507672277536,
            "bin_end": 0.0819907615084163,
            "count": 36
           },
           {
            "bin_start": 0.0819907615084163,
            "bin_end": 0.10932101534455507,
            "count": 18
           },
           {
            "bin_start": 0.10932101534455507,
            "bin_end": 0.13665126918069384,
            "count": 9
           },
           {
            "bin_start": 0.13665126918069384,
            "bin_end": 0.1639815230168326,
            "count": 4
           },
           {
            "bin_start": 0.1639815230168326,
            "bin_end": 0.19131177685297138,
            "count": 3
           },
           {
            "bin_start": 0.19131177685297138,
            "bin_end": 0.21864203068911015,
            "count": 1
           },
           {
            "bin_start": 0.21864203068911015,
            "bin_end": 0.2459722845252489,
            "count": 2
           },
           {
            "bin_start": 0.2459722845252489,
            "bin_end": 0.2733025383613877,
            "count": 1
           }
          ]
         }
        },
        {
         "name": "PC52",
         "dtype": "float64",
         "stats": {
          "unique_count": 454,
          "nan_count": 0,
          "min": "0.0",
          "max": "0.2367988928216621",
          "histogram": [
           {
            "bin_start": 0,
            "bin_end": 0.02367988928216621,
            "count": 1103
           },
           {
            "bin_start": 0.02367988928216621,
            "bin_end": 0.04735977856433242,
            "count": 71
           },
           {
            "bin_start": 0.04735977856433242,
            "bin_end": 0.07103966784649862,
            "count": 31
           },
           {
            "bin_start": 0.07103966784649862,
            "bin_end": 0.09471955712866484,
            "count": 26
           },
           {
            "bin_start": 0.09471955712866484,
            "bin_end": 0.11839944641083106,
            "count": 12
           },
           {
            "bin_start": 0.11839944641083106,
            "bin_end": 0.14207933569299724,
            "count": 3
           },
           {
            "bin_start": 0.14207933569299724,
            "bin_end": 0.16575922497516346,
            "count": 6
           },
           {
            "bin_start": 0.16575922497516346,
            "bin_end": 0.18943911425732968,
            "count": 5
           },
           {
            "bin_start": 0.18943911425732968,
            "bin_end": 0.2131190035394959,
            "count": 2
           },
           {
            "bin_start": 0.2131190035394959,
            "bin_end": 0.2367988928216621,
            "count": 1
           }
          ]
         }
        },
        {
         "name": "PC53",
         "dtype": "float64",
         "stats": {
          "unique_count": 454,
          "nan_count": 0,
          "min": "0.0",
          "max": "0.4139453917736661",
          "histogram": [
           {
            "bin_start": 0,
            "bin_end": 0.041394539177366615,
            "count": 1166
           },
           {
            "bin_start": 0.041394539177366615,
            "bin_end": 0.08278907835473323,
            "count": 64
           },
           {
            "bin_start": 0.08278907835473323,
            "bin_end": 0.12418361753209985,
            "count": 20
           },
           {
            "bin_start": 0.12418361753209985,
            "bin_end": 0.16557815670946646,
            "count": 5
           },
           {
            "bin_start": 0.16557815670946646,
            "bin_end": 0.2069726958868331,
            "count": 2
           },
           {
            "bin_start": 0.2069726958868331,
            "bin_end": 0.2483672350641997,
            "count": 1
           },
           {
            "bin_start": 0.2483672350641997,
            "bin_end": 0.2897617742415663,
            "count": 1
           },
           {
            "bin_start": 0.2897617742415663,
            "bin_end": 0.3311563134189329,
            "count": 0
           },
           {
            "bin_start": 0.3311563134189329,
            "bin_end": 0.37255085259629955,
            "count": 0
           },
           {
            "bin_start": 0.37255085259629955,
            "bin_end": 0.4139453917736661,
            "count": 1
           }
          ]
         }
        },
        {
         "name": "PC54",
         "dtype": "float64",
         "stats": {
          "unique_count": 454,
          "nan_count": 0,
          "min": "0.0",
          "max": "0.32053303766520524",
          "histogram": [
           {
            "bin_start": 0,
            "bin_end": 0.032053303766520526,
            "count": 1137
           },
           {
            "bin_start": 0.032053303766520526,
            "bin_end": 0.06410660753304105,
            "count": 75
           },
           {
            "bin_start": 0.06410660753304105,
            "bin_end": 0.09615991129956158,
            "count": 25
           },
           {
            "bin_start": 0.09615991129956158,
            "bin_end": 0.1282132150660821,
            "count": 9
           },
           {
            "bin_start": 0.1282132150660821,
            "bin_end": 0.16026651883260262,
            "count": 5
           },
           {
            "bin_start": 0.16026651883260262,
            "bin_end": 0.19231982259912317,
            "count": 5
           },
           {
            "bin_start": 0.19231982259912317,
            "bin_end": 0.2243731263656437,
            "count": 2
           },
           {
            "bin_start": 0.2243731263656437,
            "bin_end": 0.2564264301321642,
            "count": 0
           },
           {
            "bin_start": 0.2564264301321642,
            "bin_end": 0.28847973389868475,
            "count": 1
           },
           {
            "bin_start": 0.28847973389868475,
            "bin_end": 0.32053303766520524,
            "count": 1
           }
          ]
         }
        },
        {
         "name": "PC55",
         "dtype": "float64",
         "stats": {
          "unique_count": 454,
          "nan_count": 0,
          "min": "0.0",
          "max": "0.21485354157850534",
          "histogram": [
           {
            "bin_start": 0,
            "bin_end": 0.021485354157850533,
            "count": 1096
           },
           {
            "bin_start": 0.021485354157850533,
            "bin_end": 0.042970708315701066,
            "count": 68
           },
           {
            "bin_start": 0.042970708315701066,
            "bin_end": 0.0644560624735516,
            "count": 28
           },
           {
            "bin_start": 0.0644560624735516,
            "bin_end": 0.08594141663140213,
            "count": 25
           },
           {
            "bin_start": 0.08594141663140213,
            "bin_end": 0.10742677078925267,
            "count": 16
           },
           {
            "bin_start": 0.10742677078925267,
            "bin_end": 0.1289121249471032,
            "count": 15
           },
           {
            "bin_start": 0.1289121249471032,
            "bin_end": 0.15039747910495374,
            "count": 4
           },
           {
            "bin_start": 0.15039747910495374,
            "bin_end": 0.17188283326280426,
            "count": 3
           },
           {
            "bin_start": 0.17188283326280426,
            "bin_end": 0.19336818742065479,
            "count": 3
           },
           {
            "bin_start": 0.19336818742065479,
            "bin_end": 0.21485354157850534,
            "count": 2
           }
          ]
         }
        },
        {
         "name": "PC56",
         "dtype": "float64",
         "stats": {
          "unique_count": 454,
          "nan_count": 0,
          "min": "0.0",
          "max": "0.18125482868138992",
          "histogram": [
           {
            "bin_start": 0,
            "bin_end": 0.018125482868138993,
            "count": 1078
           },
           {
            "bin_start": 0.018125482868138993,
            "bin_end": 0.036250965736277986,
            "count": 57
           },
           {
            "bin_start": 0.036250965736277986,
            "bin_end": 0.05437644860441698,
            "count": 34
           },
           {
            "bin_start": 0.05437644860441698,
            "bin_end": 0.07250193147255597,
            "count": 34
           },
           {
            "bin_start": 0.07250193147255597,
            "bin_end": 0.09062741434069496,
            "count": 17
           },
           {
            "bin_start": 0.09062741434069496,
            "bin_end": 0.10875289720883397,
            "count": 16
           },
           {
            "bin_start": 0.10875289720883397,
            "bin_end": 0.12687838007697294,
            "count": 8
           },
           {
            "bin_start": 0.12687838007697294,
            "bin_end": 0.14500386294511194,
            "count": 6
           },
           {
            "bin_start": 0.14500386294511194,
            "bin_end": 0.16312934581325095,
            "count": 7
           },
           {
            "bin_start": 0.16312934581325095,
            "bin_end": 0.18125482868138992,
            "count": 3
           }
          ]
         }
        },
        {
         "name": "PC57",
         "dtype": "float64",
         "stats": {
          "unique_count": 454,
          "nan_count": 0,
          "min": "0.0",
          "max": "0.19020752039970473",
          "histogram": [
           {
            "bin_start": 0,
            "bin_end": 0.019020752039970473,
            "count": 1081
           },
           {
            "bin_start": 0.019020752039970473,
            "bin_end": 0.038041504079940947,
            "count": 67
           },
           {
            "bin_start": 0.038041504079940947,
            "bin_end": 0.05706225611991142,
            "count": 38
           },
           {
            "bin_start": 0.05706225611991142,
            "bin_end": 0.07608300815988189,
            "count": 20
           },
           {
            "bin_start": 0.07608300815988189,
            "bin_end": 0.09510376019985237,
            "count": 17
           },
           {
            "bin_start": 0.09510376019985237,
            "bin_end": 0.11412451223982284,
            "count": 12
           },
           {
            "bin_start": 0.11412451223982284,
            "bin_end": 0.1331452642797933,
            "count": 12
           },
           {
            "bin_start": 0.1331452642797933,
            "bin_end": 0.15216601631976379,
            "count": 6
           },
           {
            "bin_start": 0.15216601631976379,
            "bin_end": 0.17118676835973426,
            "count": 2
           },
           {
            "bin_start": 0.17118676835973426,
            "bin_end": 0.19020752039970473,
            "count": 5
           }
          ]
         }
        },
        {
         "name": "PC58",
         "dtype": "float64",
         "stats": {
          "unique_count": 454,
          "nan_count": 0,
          "min": "0.0",
          "max": "0.31442778022003876",
          "histogram": [
           {
            "bin_start": 0,
            "bin_end": 0.031442778022003876,
            "count": 1116
           },
           {
            "bin_start": 0.031442778022003876,
            "bin_end": 0.06288555604400775,
            "count": 83
           },
           {
            "bin_start": 0.06288555604400775,
            "bin_end": 0.09432833406601163,
            "count": 36
           },
           {
            "bin_start": 0.09432833406601163,
            "bin_end": 0.1257711120880155,
            "count": 12
           },
           {
            "bin_start": 0.1257711120880155,
            "bin_end": 0.15721389011001938,
            "count": 7
           },
           {
            "bin_start": 0.15721389011001938,
            "bin_end": 0.18865666813202325,
            "count": 2
           },
           {
            "bin_start": 0.18865666813202325,
            "bin_end": 0.22009944615402713,
            "count": 2
           },
           {
            "bin_start": 0.22009944615402713,
            "bin_end": 0.251542224176031,
            "count": 1
           },
           {
            "bin_start": 0.251542224176031,
            "bin_end": 0.2829850021980349,
            "count": 0
           },
           {
            "bin_start": 0.2829850021980349,
            "bin_end": 0.31442778022003876,
            "count": 1
           }
          ]
         }
        },
        {
         "name": "PC59",
         "dtype": "float64",
         "stats": {
          "unique_count": 454,
          "nan_count": 0,
          "min": "0.0",
          "max": "0.2176368691961109",
          "histogram": [
           {
            "bin_start": 0,
            "bin_end": 0.02176368691961109,
            "count": 1080
           },
           {
            "bin_start": 0.02176368691961109,
            "bin_end": 0.04352737383922218,
            "count": 70
           },
           {
            "bin_start": 0.04352737383922218,
            "bin_end": 0.06529106075883327,
            "count": 36
           },
           {
            "bin_start": 0.06529106075883327,
            "bin_end": 0.08705474767844436,
            "count": 32
           },
           {
            "bin_start": 0.08705474767844436,
            "bin_end": 0.10881843459805544,
            "count": 19
           },
           {
            "bin_start": 0.10881843459805544,
            "bin_end": 0.13058212151766654,
            "count": 11
           },
           {
            "bin_start": 0.13058212151766654,
            "bin_end": 0.15234580843727763,
            "count": 8
           },
           {
            "bin_start": 0.15234580843727763,
            "bin_end": 0.17410949535688872,
            "count": 3
           },
           {
            "bin_start": 0.17410949535688872,
            "bin_end": 0.1958731822764998,
            "count": 0
           },
           {
            "bin_start": 0.1958731822764998,
            "bin_end": 0.2176368691961109,
            "count": 1
           }
          ]
         }
        },
        {
         "name": "PC60",
         "dtype": "float64",
         "stats": {
          "unique_count": 454,
          "nan_count": 0,
          "min": "0.0",
          "max": "0.19471644201873425",
          "histogram": [
           {
            "bin_start": 0,
            "bin_end": 0.019471644201873424,
            "count": 1073
           },
           {
            "bin_start": 0.019471644201873424,
            "bin_end": 0.03894328840374685,
            "count": 66
           },
           {
            "bin_start": 0.03894328840374685,
            "bin_end": 0.05841493260562027,
            "count": 39
           },
           {
            "bin_start": 0.05841493260562027,
            "bin_end": 0.0778865768074937,
            "count": 28
           },
           {
            "bin_start": 0.0778865768074937,
            "bin_end": 0.09735822100936711,
            "count": 24
           },
           {
            "bin_start": 0.09735822100936711,
            "bin_end": 0.11682986521124054,
            "count": 12
           },
           {
            "bin_start": 0.11682986521124054,
            "bin_end": 0.13630150941311397,
            "count": 10
           },
           {
            "bin_start": 0.13630150941311397,
            "bin_end": 0.1557731536149874,
            "count": 3
           },
           {
            "bin_start": 0.1557731536149874,
            "bin_end": 0.1752447978168608,
            "count": 2
           },
           {
            "bin_start": 0.1752447978168608,
            "bin_end": 0.19471644201873425,
            "count": 3
           }
          ]
         }
        },
        {
         "name": "PC61",
         "dtype": "float64",
         "stats": {
          "unique_count": 454,
          "nan_count": 0,
          "min": "0.0",
          "max": "0.3143063488017935",
          "histogram": [
           {
            "bin_start": 0,
            "bin_end": 0.031430634880179345,
            "count": 1138
           },
           {
            "bin_start": 0.031430634880179345,
            "bin_end": 0.06286126976035869,
            "count": 66
           },
           {
            "bin_start": 0.06286126976035869,
            "bin_end": 0.09429190464053804,
            "count": 23
           },
           {
            "bin_start": 0.09429190464053804,
            "bin_end": 0.12572253952071738,
            "count": 18
           },
           {
            "bin_start": 0.12572253952071738,
            "bin_end": 0.1571531744008967,
            "count": 9
           },
           {
            "bin_start": 0.1571531744008967,
            "bin_end": 0.18858380928107607,
            "count": 2
           },
           {
            "bin_start": 0.18858380928107607,
            "bin_end": 0.22001444416125543,
            "count": 1
           },
           {
            "bin_start": 0.22001444416125543,
            "bin_end": 0.25144507904143476,
            "count": 2
           },
           {
            "bin_start": 0.25144507904143476,
            "bin_end": 0.2828757139216141,
            "count": 0
           },
           {
            "bin_start": 0.2828757139216141,
            "bin_end": 0.3143063488017935,
            "count": 1
           }
          ]
         }
        },
        {
         "name": "PC62",
         "dtype": "float64",
         "stats": {
          "unique_count": 454,
          "nan_count": 0,
          "min": "0.0",
          "max": "0.2775975766034524",
          "histogram": [
           {
            "bin_start": 0,
            "bin_end": 0.02775975766034524,
            "count": 1116
           },
           {
            "bin_start": 0.02775975766034524,
            "bin_end": 0.05551951532069048,
            "count": 68
           },
           {
            "bin_start": 0.05551951532069048,
            "bin_end": 0.08327927298103571,
            "count": 36
           },
           {
            "bin_start": 0.08327927298103571,
            "bin_end": 0.11103903064138096,
            "count": 21
           },
           {
            "bin_start": 0.11103903064138096,
            "bin_end": 0.1387987883017262,
            "count": 8
           },
           {
            "bin_start": 0.1387987883017262,
            "bin_end": 0.16655854596207142,
            "count": 7
           },
           {
            "bin_start": 0.16655854596207142,
            "bin_end": 0.19431830362241667,
            "count": 1
           },
           {
            "bin_start": 0.19431830362241667,
            "bin_end": 0.22207806128276192,
            "count": 0
           },
           {
            "bin_start": 0.22207806128276192,
            "bin_end": 0.24983781894310716,
            "count": 1
           },
           {
            "bin_start": 0.24983781894310716,
            "bin_end": 0.2775975766034524,
            "count": 2
           }
          ]
         }
        },
        {
         "name": "PC63",
         "dtype": "float64",
         "stats": {
          "unique_count": 454,
          "nan_count": 0,
          "min": "0.0",
          "max": "0.22400963820747088",
          "histogram": [
           {
            "bin_start": 0,
            "bin_end": 0.022400963820747088,
            "count": 1097
           },
           {
            "bin_start": 0.022400963820747088,
            "bin_end": 0.044801927641494176,
            "count": 61
           },
           {
            "bin_start": 0.044801927641494176,
            "bin_end": 0.06720289146224126,
            "count": 36
           },
           {
            "bin_start": 0.06720289146224126,
            "bin_end": 0.08960385528298835,
            "count": 30
           },
           {
            "bin_start": 0.08960385528298835,
            "bin_end": 0.11200481910373544,
            "count": 17
           },
           {
            "bin_start": 0.11200481910373544,
            "bin_end": 0.13440578292448252,
            "count": 7
           },
           {
            "bin_start": 0.13440578292448252,
            "bin_end": 0.15680674674522962,
            "count": 5
           },
           {
            "bin_start": 0.15680674674522962,
            "bin_end": 0.1792077105659767,
            "count": 4
           },
           {
            "bin_start": 0.1792077105659767,
            "bin_end": 0.20160867438672378,
            "count": 2
           },
           {
            "bin_start": 0.20160867438672378,
            "bin_end": 0.22400963820747088,
            "count": 1
           }
          ]
         }
        },
        {
         "name": "PC64",
         "dtype": "float64",
         "stats": {
          "unique_count": 454,
          "nan_count": 0,
          "min": "0.0",
          "max": "0.24876025710697808",
          "histogram": [
           {
            "bin_start": 0,
            "bin_end": 0.02487602571069781,
            "count": 1106
           },
           {
            "bin_start": 0.02487602571069781,
            "bin_end": 0.04975205142139562,
            "count": 69
           },
           {
            "bin_start": 0.04975205142139562,
            "bin_end": 0.07462807713209343,
            "count": 38
           },
           {
            "bin_start": 0.07462807713209343,
            "bin_end": 0.09950410284279124,
            "count": 20
           },
           {
            "bin_start": 0.09950410284279124,
            "bin_end": 0.12438012855348904,
            "count": 9
           },
           {
            "bin_start": 0.12438012855348904,
            "bin_end": 0.14925615426418687,
            "count": 9
           },
           {
            "bin_start": 0.14925615426418687,
            "bin_end": 0.17413217997488467,
            "count": 5
           },
           {
            "bin_start": 0.17413217997488467,
            "bin_end": 0.19900820568558247,
            "count": 2
           },
           {
            "bin_start": 0.19900820568558247,
            "bin_end": 0.22388423139628028,
            "count": 0
           },
           {
            "bin_start": 0.22388423139628028,
            "bin_end": 0.24876025710697808,
            "count": 2
           }
          ]
         }
        },
        {
         "name": "PC65",
         "dtype": "float64",
         "stats": {
          "unique_count": 454,
          "nan_count": 0,
          "min": "0.0",
          "max": "0.25109387903360175",
          "histogram": [
           {
            "bin_start": 0,
            "bin_end": 0.025109387903360175,
            "count": 1092
           },
           {
            "bin_start": 0.025109387903360175,
            "bin_end": 0.05021877580672035,
            "count": 80
           },
           {
            "bin_start": 0.05021877580672035,
            "bin_end": 0.07532816371008053,
            "count": 42
           },
           {
            "bin_start": 0.07532816371008053,
            "bin_end": 0.1004375516134407,
            "count": 22
           },
           {
            "bin_start": 0.1004375516134407,
            "bin_end": 0.12554693951680088,
            "count": 13
           },
           {
            "bin_start": 0.12554693951680088,
            "bin_end": 0.15065632742016105,
            "count": 5
           },
           {
            "bin_start": 0.15065632742016105,
            "bin_end": 0.17576571532352123,
            "count": 0
           },
           {
            "bin_start": 0.17576571532352123,
            "bin_end": 0.2008751032268814,
            "count": 3
           },
           {
            "bin_start": 0.2008751032268814,
            "bin_end": 0.22598449113024158,
            "count": 1
           },
           {
            "bin_start": 0.22598449113024158,
            "bin_end": 0.25109387903360175,
            "count": 2
           }
          ]
         }
        },
        {
         "name": "PC66",
         "dtype": "float64",
         "stats": {
          "unique_count": 454,
          "nan_count": 0,
          "min": "0.0",
          "max": "0.21532975245712624",
          "histogram": [
           {
            "bin_start": 0,
            "bin_end": 0.021532975245712623,
            "count": 1099
           },
           {
            "bin_start": 0.021532975245712623,
            "bin_end": 0.043065950491425246,
            "count": 70
           },
           {
            "bin_start": 0.043065950491425246,
            "bin_end": 0.06459892573713787,
            "count": 27
           },
           {
            "bin_start": 0.06459892573713787,
            "bin_end": 0.08613190098285049,
            "count": 22
           },
           {
            "bin_start": 0.08613190098285049,
            "bin_end": 0.10766487622856312,
            "count": 15
           },
           {
            "bin_start": 0.10766487622856312,
            "bin_end": 0.12919785147427573,
            "count": 9
           },
           {
            "bin_start": 0.12919785147427573,
            "bin_end": 0.15073082671998836,
            "count": 9
           },
           {
            "bin_start": 0.15073082671998836,
            "bin_end": 0.17226380196570099,
            "count": 6
           },
           {
            "bin_start": 0.17226380196570099,
            "bin_end": 0.1937967772114136,
            "count": 2
           },
           {
            "bin_start": 0.1937967772114136,
            "bin_end": 0.21532975245712624,
            "count": 1
           }
          ]
         }
        },
        {
         "name": "PC67",
         "dtype": "float64",
         "stats": {
          "unique_count": 454,
          "nan_count": 0,
          "min": "0.0",
          "max": "0.2806790089490512",
          "histogram": [
           {
            "bin_start": 0,
            "bin_end": 0.02806790089490512,
            "count": 1115
           },
           {
            "bin_start": 0.02806790089490512,
            "bin_end": 0.05613580178981024,
            "count": 77
           },
           {
            "bin_start": 0.05613580178981024,
            "bin_end": 0.08420370268471536,
            "count": 36
           },
           {
            "bin_start": 0.08420370268471536,
            "bin_end": 0.11227160357962047,
            "count": 13
           },
           {
            "bin_start": 0.11227160357962047,
            "bin_end": 0.1403395044745256,
            "count": 8
           },
           {
            "bin_start": 0.1403395044745256,
            "bin_end": 0.16840740536943072,
            "count": 5
           },
           {
            "bin_start": 0.16840740536943072,
            "bin_end": 0.19647530626433582,
            "count": 2
           },
           {
            "bin_start": 0.19647530626433582,
            "bin_end": 0.22454320715924095,
            "count": 1
           },
           {
            "bin_start": 0.22454320715924095,
            "bin_end": 0.25261110805414605,
            "count": 2
           },
           {
            "bin_start": 0.25261110805414605,
            "bin_end": 0.2806790089490512,
            "count": 1
           }
          ]
         }
        },
        {
         "name": "PC68",
         "dtype": "float64",
         "stats": {
          "unique_count": 454,
          "nan_count": 0,
          "min": "0.0",
          "max": "0.28546358104896574",
          "histogram": [
           {
            "bin_start": 0,
            "bin_end": 0.028546358104896575,
            "count": 1120
           },
           {
            "bin_start": 0.028546358104896575,
            "bin_end": 0.05709271620979315,
            "count": 72
           },
           {
            "bin_start": 0.05709271620979315,
            "bin_end": 0.08563907431468973,
            "count": 31
           },
           {
            "bin_start": 0.08563907431468973,
            "bin_end": 0.1141854324195863,
            "count": 16
           },
           {
            "bin_start": 0.1141854324195863,
            "bin_end": 0.14273179052448287,
            "count": 13
           },
           {
            "bin_start": 0.14273179052448287,
            "bin_end": 0.17127814862937946,
            "count": 4
           },
           {
            "bin_start": 0.17127814862937946,
            "bin_end": 0.19982450673427601,
            "count": 0
           },
           {
            "bin_start": 0.19982450673427601,
            "bin_end": 0.2283708648391726,
            "count": 3
           },
           {
            "bin_start": 0.2283708648391726,
            "bin_end": 0.25691722294406916,
            "count": 0
           },
           {
            "bin_start": 0.25691722294406916,
            "bin_end": 0.28546358104896574,
            "count": 1
           }
          ]
         }
        },
        {
         "name": "PC69",
         "dtype": "float64",
         "stats": {
          "unique_count": 454,
          "nan_count": 0,
          "min": "0.0",
          "max": "0.28575266464634375",
          "histogram": [
           {
            "bin_start": 0,
            "bin_end": 0.028575266464634375,
            "count": 1121
           },
           {
            "bin_start": 0.028575266464634375,
            "bin_end": 0.05715053292926875,
            "count": 79
           },
           {
            "bin_start": 0.05715053292926875,
            "bin_end": 0.08572579939390312,
            "count": 24
           },
           {
            "bin_start": 0.08572579939390312,
            "bin_end": 0.1143010658585375,
            "count": 20
           },
           {
            "bin_start": 0.1143010658585375,
            "bin_end": 0.14287633232317187,
            "count": 5
           },
           {
            "bin_start": 0.14287633232317187,
            "bin_end": 0.17145159878780625,
            "count": 7
           },
           {
            "bin_start": 0.17145159878780625,
            "bin_end": 0.20002686525244062,
            "count": 1
           },
           {
            "bin_start": 0.20002686525244062,
            "bin_end": 0.228602131717075,
            "count": 1
           },
           {
            "bin_start": 0.228602131717075,
            "bin_end": 0.25717739818170937,
            "count": 0
           },
           {
            "bin_start": 0.25717739818170937,
            "bin_end": 0.28575266464634375,
            "count": 2
           }
          ]
         }
        },
        {
         "name": "PC70",
         "dtype": "float64",
         "stats": {
          "unique_count": 454,
          "nan_count": 0,
          "min": "0.0",
          "max": "0.3956092537253608",
          "histogram": [
           {
            "bin_start": 0,
            "bin_end": 0.03956092537253608,
            "count": 1170
           },
           {
            "bin_start": 0.03956092537253608,
            "bin_end": 0.07912185074507216,
            "count": 60
           },
           {
            "bin_start": 0.07912185074507216,
            "bin_end": 0.11868277611760825,
            "count": 12
           },
           {
            "bin_start": 0.11868277611760825,
            "bin_end": 0.15824370149014433,
            "count": 9
           },
           {
            "bin_start": 0.15824370149014433,
            "bin_end": 0.1978046268626804,
            "count": 6
           },
           {
            "bin_start": 0.1978046268626804,
            "bin_end": 0.2373655522352165,
            "count": 2
           },
           {
            "bin_start": 0.2373655522352165,
            "bin_end": 0.2769264776077526,
            "count": 0
           },
           {
            "bin_start": 0.2769264776077526,
            "bin_end": 0.31648740298028866,
            "count": 0
           },
           {
            "bin_start": 0.31648740298028866,
            "bin_end": 0.35604832835282474,
            "count": 0
           },
           {
            "bin_start": 0.35604832835282474,
            "bin_end": 0.3956092537253608,
            "count": 1
           }
          ]
         }
        },
        {
         "name": "PC71",
         "dtype": "float64",
         "stats": {
          "unique_count": 454,
          "nan_count": 0,
          "min": "0.0",
          "max": "0.26791141507277455",
          "histogram": [
           {
            "bin_start": 0,
            "bin_end": 0.026791141507277454,
            "count": 1128
           },
           {
            "bin_start": 0.026791141507277454,
            "bin_end": 0.05358228301455491,
            "count": 64
           },
           {
            "bin_start": 0.05358228301455491,
            "bin_end": 0.08037342452183235,
            "count": 25
           },
           {
            "bin_start": 0.08037342452183235,
            "bin_end": 0.10716456602910981,
            "count": 19
           },
           {
            "bin_start": 0.10716456602910981,
            "bin_end": 0.13395570753638728,
            "count": 10
           },
           {
            "bin_start": 0.13395570753638728,
            "bin_end": 0.1607468490436647,
            "count": 8
           },
           {
            "bin_start": 0.1607468490436647,
            "bin_end": 0.18753799055094217,
            "count": 4
           },
           {
            "bin_start": 0.18753799055094217,
            "bin_end": 0.21432913205821963,
            "count": 0
           },
           {
            "bin_start": 0.21432913205821963,
            "bin_end": 0.2411202735654971,
            "count": 0
           },
           {
            "bin_start": 0.2411202735654971,
            "bin_end": 0.26791141507277455,
            "count": 2
           }
          ]
         }
        },
        {
         "name": "PC72",
         "dtype": "float64",
         "stats": {
          "unique_count": 454,
          "nan_count": 0,
          "min": "0.0",
          "max": "0.23583643575619867",
          "histogram": [
           {
            "bin_start": 0,
            "bin_end": 0.023583643575619866,
            "count": 1115
           },
           {
            "bin_start": 0.023583643575619866,
            "bin_end": 0.04716728715123973,
            "count": 67
           },
           {
            "bin_start": 0.04716728715123973,
            "bin_end": 0.07075093072685959,
            "count": 29
           },
           {
            "bin_start": 0.07075093072685959,
            "bin_end": 0.09433457430247946,
            "count": 13
           },
           {
            "bin_start": 0.09433457430247946,
            "bin_end": 0.11791821787809934,
            "count": 16
           },
           {
            "bin_start": 0.11791821787809934,
            "bin_end": 0.14150186145371918,
            "count": 7
           },
           {
            "bin_start": 0.14150186145371918,
            "bin_end": 0.16508550502933905,
            "count": 6
           },
           {
            "bin_start": 0.16508550502933905,
            "bin_end": 0.18866914860495893,
            "count": 4
           },
           {
            "bin_start": 0.18866914860495893,
            "bin_end": 0.2122527921805788,
            "count": 1
           },
           {
            "bin_start": 0.2122527921805788,
            "bin_end": 0.23583643575619867,
            "count": 2
           }
          ]
         }
        },
        {
         "name": "PC73",
         "dtype": "float64",
         "stats": {
          "unique_count": 454,
          "nan_count": 0,
          "min": "0.0",
          "max": "0.2759338257183808",
          "histogram": [
           {
            "bin_start": 0,
            "bin_end": 0.027593382571838083,
            "count": 1129
           },
           {
            "bin_start": 0.027593382571838083,
            "bin_end": 0.05518676514367617,
            "count": 67
           },
           {
            "bin_start": 0.05518676514367617,
            "bin_end": 0.08278014771551426,
            "count": 33
           },
           {
            "bin_start": 0.08278014771551426,
            "bin_end": 0.11037353028735233,
            "count": 8
           },
           {
            "bin_start": 0.11037353028735233,
            "bin_end": 0.1379669128591904,
            "count": 11
           },
           {
            "bin_start": 0.1379669128591904,
            "bin_end": 0.16556029543102851,
            "count": 4
           },
           {
            "bin_start": 0.16556029543102851,
            "bin_end": 0.1931536780028666,
            "count": 1
           },
           {
            "bin_start": 0.1931536780028666,
            "bin_end": 0.22074706057470467,
            "count": 5
           },
           {
            "bin_start": 0.22074706057470467,
            "bin_end": 0.24834044314654274,
            "count": 1
           },
           {
            "bin_start": 0.24834044314654274,
            "bin_end": 0.2759338257183808,
            "count": 1
           }
          ]
         }
        },
        {
         "name": "PC74",
         "dtype": "float64",
         "stats": {
          "unique_count": 454,
          "nan_count": 0,
          "min": "0.0",
          "max": "0.3965868183510676",
          "histogram": [
           {
            "bin_start": 0,
            "bin_end": 0.03965868183510676,
            "count": 1163
           },
           {
            "bin_start": 0.03965868183510676,
            "bin_end": 0.07931736367021353,
            "count": 60
           },
           {
            "bin_start": 0.07931736367021353,
            "bin_end": 0.11897604550532029,
            "count": 23
           },
           {
            "bin_start": 0.11897604550532029,
            "bin_end": 0.15863472734042705,
            "count": 9
           },
           {
            "bin_start": 0.15863472734042705,
            "bin_end": 0.1982934091755338,
            "count": 2
           },
           {
            "bin_start": 0.1982934091755338,
            "bin_end": 0.23795209101064058,
            "count": 2
           },
           {
            "bin_start": 0.23795209101064058,
            "bin_end": 0.2776107728457473,
            "count": 0
           },
           {
            "bin_start": 0.2776107728457473,
            "bin_end": 0.3172694546808541,
            "count": 0
           },
           {
            "bin_start": 0.3172694546808541,
            "bin_end": 0.3569281365159609,
            "count": 0
           },
           {
            "bin_start": 0.3569281365159609,
            "bin_end": 0.3965868183510676,
            "count": 1
           }
          ]
         }
        },
        {
         "name": "PC75",
         "dtype": "float64",
         "stats": {
          "unique_count": 454,
          "nan_count": 0,
          "min": "0.0",
          "max": "0.31845509279053225",
          "histogram": [
           {
            "bin_start": 0,
            "bin_end": 0.031845509279053226,
            "count": 1147
           },
           {
            "bin_start": 0.031845509279053226,
            "bin_end": 0.06369101855810645,
            "count": 56
           },
           {
            "bin_start": 0.06369101855810645,
            "bin_end": 0.09553652783715968,
            "count": 26
           },
           {
            "bin_start": 0.09553652783715968,
            "bin_end": 0.1273820371162129,
            "count": 18
           },
           {
            "bin_start": 0.1273820371162129,
            "bin_end": 0.15922754639526612,
            "count": 5
           },
           {
            "bin_start": 0.15922754639526612,
            "bin_end": 0.19107305567431937,
            "count": 6
           },
           {
            "bin_start": 0.19107305567431937,
            "bin_end": 0.2229185649533726,
            "count": 1
           },
           {
            "bin_start": 0.2229185649533726,
            "bin_end": 0.2547640742324258,
            "count": 0
           },
           {
            "bin_start": 0.2547640742324258,
            "bin_end": 0.286609583511479,
            "count": 0
           },
           {
            "bin_start": 0.286609583511479,
            "bin_end": 0.31845509279053225,
            "count": 1
           }
          ]
         }
        },
        {
         "name": "PC76",
         "dtype": "float64",
         "stats": {
          "unique_count": 454,
          "nan_count": 0,
          "min": "0.0",
          "max": "0.18626961078735896",
          "histogram": [
           {
            "bin_start": 0,
            "bin_end": 0.018626961078735897,
            "count": 1071
           },
           {
            "bin_start": 0.018626961078735897,
            "bin_end": 0.037253922157471794,
            "count": 70
           },
           {
            "bin_start": 0.037253922157471794,
            "bin_end": 0.05588088323620769,
            "count": 38
           },
           {
            "bin_start": 0.05588088323620769,
            "bin_end": 0.07450784431494359,
            "count": 27
           },
           {
            "bin_start": 0.07450784431494359,
            "bin_end": 0.09313480539367949,
            "count": 18
           },
           {
            "bin_start": 0.09313480539367949,
            "bin_end": 0.11176176647241538,
            "count": 14
           },
           {
            "bin_start": 0.11176176647241538,
            "bin_end": 0.13038872755115127,
            "count": 5
           },
           {
            "bin_start": 0.13038872755115127,
            "bin_end": 0.14901568862988718,
            "count": 9
           },
           {
            "bin_start": 0.14901568862988718,
            "bin_end": 0.16764264970862308,
            "count": 4
           },
           {
            "bin_start": 0.16764264970862308,
            "bin_end": 0.18626961078735896,
            "count": 4
           }
          ]
         }
        },
        {
         "name": "PC77",
         "dtype": "float64",
         "stats": {
          "unique_count": 454,
          "nan_count": 0,
          "min": "0.0",
          "max": "0.24837842432102109",
          "histogram": [
           {
            "bin_start": 0,
            "bin_end": 0.02483784243210211,
            "count": 1113
           },
           {
            "bin_start": 0.02483784243210211,
            "bin_end": 0.04967568486420422,
            "count": 53
           },
           {
            "bin_start": 0.04967568486420422,
            "bin_end": 0.07451352729630634,
            "count": 45
           },
           {
            "bin_start": 0.07451352729630634,
            "bin_end": 0.09935136972840844,
            "count": 22
           },
           {
            "bin_start": 0.09935136972840844,
            "bin_end": 0.12418921216051054,
            "count": 14
           },
           {
            "bin_start": 0.12418921216051054,
            "bin_end": 0.14902705459261267,
            "count": 7
           },
           {
            "bin_start": 0.14902705459261267,
            "bin_end": 0.17386489702471478,
            "count": 0
           },
           {
            "bin_start": 0.17386489702471478,
            "bin_end": 0.19870273945681688,
            "count": 2
           },
           {
            "bin_start": 0.19870273945681688,
            "bin_end": 0.22354058188891898,
            "count": 2
           },
           {
            "bin_start": 0.22354058188891898,
            "bin_end": 0.24837842432102109,
            "count": 2
           }
          ]
         }
        },
        {
         "name": "PC78",
         "dtype": "float64",
         "stats": {
          "unique_count": 454,
          "nan_count": 0,
          "min": "0.0",
          "max": "0.2154253125912284",
          "histogram": [
           {
            "bin_start": 0,
            "bin_end": 0.02154253125912284,
            "count": 1115
           },
           {
            "bin_start": 0.02154253125912284,
            "bin_end": 0.04308506251824568,
            "count": 60
           },
           {
            "bin_start": 0.04308506251824568,
            "bin_end": 0.06462759377736853,
            "count": 29
           },
           {
            "bin_start": 0.06462759377736853,
            "bin_end": 0.08617012503649137,
            "count": 18
           },
           {
            "bin_start": 0.08617012503649137,
            "bin_end": 0.1077126562956142,
            "count": 12
           },
           {
            "bin_start": 0.1077126562956142,
            "bin_end": 0.12925518755473706,
            "count": 8
           },
           {
            "bin_start": 0.12925518755473706,
            "bin_end": 0.1507977188138599,
            "count": 6
           },
           {
            "bin_start": 0.1507977188138599,
            "bin_end": 0.17234025007298273,
            "count": 5
           },
           {
            "bin_start": 0.17234025007298273,
            "bin_end": 0.19388278133210557,
            "count": 3
           },
           {
            "bin_start": 0.19388278133210557,
            "bin_end": 0.2154253125912284,
            "count": 4
           }
          ]
         }
        },
        {
         "name": "PC79",
         "dtype": "float64",
         "stats": {
          "unique_count": 454,
          "nan_count": 0,
          "min": "0.0",
          "max": "0.2633177894498199",
          "histogram": [
           {
            "bin_start": 0,
            "bin_end": 0.02633177894498199,
            "count": 1123
           },
           {
            "bin_start": 0.02633177894498199,
            "bin_end": 0.05266355788996398,
            "count": 63
           },
           {
            "bin_start": 0.05266355788996398,
            "bin_end": 0.07899533683494597,
            "count": 41
           },
           {
            "bin_start": 0.07899533683494597,
            "bin_end": 0.10532711577992795,
            "count": 11
           },
           {
            "bin_start": 0.10532711577992795,
            "bin_end": 0.13165889472490994,
            "count": 9
           },
           {
            "bin_start": 0.13165889472490994,
            "bin_end": 0.15799067366989195,
            "count": 3
           },
           {
            "bin_start": 0.15799067366989195,
            "bin_end": 0.18432245261487393,
            "count": 4
           },
           {
            "bin_start": 0.18432245261487393,
            "bin_end": 0.2106542315598559,
            "count": 1
           },
           {
            "bin_start": 0.2106542315598559,
            "bin_end": 0.2369860105048379,
            "count": 4
           },
           {
            "bin_start": 0.2369860105048379,
            "bin_end": 0.2633177894498199,
            "count": 1
           }
          ]
         }
        },
        {
         "name": "PC80",
         "dtype": "float64"
        },
        {
         "name": "PC81",
         "dtype": "float64"
        },
        {
         "name": "PC82",
         "dtype": "float64"
        },
        {
         "name": "PC83",
         "dtype": "float64"
        },
        {
         "name": "PC84",
         "dtype": "float64"
        },
        {
         "name": "PC85",
         "dtype": "float64"
        },
        {
         "name": "PC86",
         "dtype": "float64"
        },
        {
         "name": "PC87",
         "dtype": "float64"
        },
        {
         "name": "PC88",
         "dtype": "float64"
        },
        {
         "name": "PC89",
         "dtype": "float64"
        },
        {
         "name": "PC90",
         "dtype": "float64"
        },
        {
         "name": "PC91",
         "dtype": "float64"
        },
        {
         "name": "PC92",
         "dtype": "float64"
        },
        {
         "name": "PC93",
         "dtype": "float64"
        },
        {
         "name": "_deepnote_index_column",
         "dtype": "object"
        }
       ],
       "rows_top": [
        {
         "PC1": 4.610385487549691e-18,
         "PC2": 1.0438995193241497e-17,
         "PC3": 1.2456269855317483e-17,
         "PC4": 2.8256643749744134e-17,
         "PC5": 2.980386053597212e-17,
         "PC6": 3.35295845149095e-17,
         "PC7": 1.857226001595429e-17,
         "PC8": 1.897613964912336e-17,
         "PC9": 5.5100348903642935e-17,
         "PC10": 1.843742607308131e-17,
         "PC11": 5.0017038889540417e-17,
         "PC12": 6.0167042676964e-18,
         "PC13": 6.672202208042142e-18,
         "PC14": 3.463407779576664e-17,
         "PC15": 2.921680607478786e-17,
         "PC16": 3.6273270499951364e-17,
         "PC17": 2.937935453048628e-17,
         "PC18": 4.08851271847421e-17,
         "PC19": 1.9042763917962432e-17,
         "PC20": 7.04743352492002e-17,
         "PC21": 1.2838977774503643e-17,
         "PC22": 6.648292201088287e-17,
         "PC23": 1.8416157915580477e-17,
         "PC24": 4.647940381108105e-17,
         "PC25": 3.1352789198134134e-18,
         "PC26": 3.8116809339782536e-17,
         "PC27": 7.29090929801335e-18,
         "PC28": 1.4905779627320316e-17,
         "PC29": 2.3796016312955743e-17,
         "PC30": 4.7367212457471654e-17,
         "PC31": 6.346082063596731e-17,
         "PC32": 4.515066628446151e-17,
         "PC33": 2.5896327281012793e-17,
         "PC34": 1.8793395185333553e-17,
         "PC35": 2.988668055204513e-17,
         "PC36": 8.229167683537115e-17,
         "PC37": 1.2945241884005315e-17,
         "PC38": 3.666051470750231e-17,
         "PC39": 7.994371916522793e-17,
         "PC40": 9.887937767587313e-18,
         "PC41": 6.13211531214913e-17,
         "PC42": 4.638694921811244e-17,
         "PC43": 5.3050749043191256e-17,
         "PC44": 2.5707138358269704e-17,
         "PC45": 5.188193387811911e-17,
         "PC46": 2.367358106147651e-18,
         "PC47": 3.012141745756321e-17,
         "PC48": 1.1583056722042298e-17,
         "PC49": 8.784094486738388e-17,
         "PC50": 5.489250677139047e-17,
         "PC51": 1.5352869212187094e-17,
         "PC52": 7.0253569422051e-17,
         "PC53": 3.589695858219946e-17,
         "PC54": 8.72578000679858e-17,
         "PC55": 8.095895398095115e-17,
         "PC56": 1.3586049444104844e-17,
         "PC57": 3.684135831144338e-17,
         "PC58": 2.2389580700974793e-17,
         "PC59": 1.8418776494648672e-17,
         "PC60": 1.947254331892857e-17,
         "PC61": 4.052167461980307e-17,
         "PC62": 7.662710148838231e-17,
         "PC63": 3.962393911460091e-17,
         "PC64": 3.457745647496746e-17,
         "PC65": 1.6501308678095663e-17,
         "PC66": 4.259869937949596e-17,
         "PC67": 7.266175077098164e-17,
         "PC68": 1.1121394807752486e-16,
         "PC69": 8.847513164957726e-17,
         "PC70": 2.277856435828638e-17,
         "PC71": 7.592767179379375e-18,
         "PC72": 2.854322238844877e-17,
         "PC73": 5.158627859666828e-17,
         "PC74": 6.618417115109916e-17,
         "PC75": 1.7410045436003272e-16,
         "PC76": 3.947340955617829e-17,
         "PC77": 2.0980980589602776e-17,
         "PC78": 1.0917956419505535e-17,
         "PC79": 1.4054503053053494e-16,
         "PC80": 1.0396899368587438e-16,
         "PC81": 5.9207456593414054e-18,
         "PC82": 4.990119770047111e-17,
         "PC83": 1.0276205026359348e-16,
         "PC84": 3.92751761106188e-17,
         "PC85": 1.3861951949773644e-16,
         "PC86": 6.823295487386868e-17,
         "PC87": 8.140478617842591e-17,
         "PC88": 1.7081792015785998e-16,
         "PC89": 2.862053367288213e-17,
         "PC90": 9.181635087579927e-17,
         "PC91": 4.361283493749155e-17,
         "PC92": 9.083483165360148e-17,
         "PC93": 0.057599818713051004,
         "_deepnote_index_column": "S0 -0.937;0.2882"
        },
        {
         "PC1": 1.1893180159396188e-17,
         "PC2": 1.2320314838369308e-18,
         "PC3": 7.741144944199282e-18,
         "PC4": 6.136546021386947e-18,
         "PC5": 1.1512136654003163e-17,
         "PC6": 1.6340078115684495e-17,
         "PC7": 1.5488821979308408e-17,
         "PC8": 1.1225180197856384e-17,
         "PC9": 5.392665416546364e-18,
         "PC10": 3.0652281201763065e-17,
         "PC11": 6.138662164853019e-17,
         "PC12": 4.968401902600825e-18,
         "PC13": 1.843445167273897e-17,
         "PC14": 1.8509057111329114e-17,
         "PC15": 3.060594108505517e-17,
         "PC16": 1.0965164689076413e-17,
         "PC17": 2.141657567177911e-18,
         "PC18": 5.583394222711132e-18,
         "PC19": 3.4709162236853046e-17,
         "PC20": 3.342705217478298e-17,
         "PC21": 5.2423103208052643e-17,
         "PC22": 5.746091865486426e-18,
         "PC23": 2.6721899031650004e-17,
         "PC24": 4.176797968239907e-19,
         "PC25": 3.463522693328492e-18,
         "PC26": 4.468584449266662e-17,
         "PC27": 9.668803838508788e-18,
         "PC28": 3.920621223694663e-18,
         "PC29": 5.728057973612921e-18,
         "PC30": 2.1701359771278854e-17,
         "PC31": 1.1669567786349113e-17,
         "PC32": 2.996188634899428e-17,
         "PC33": 2.5253990679400812e-17,
         "PC34": 2.1178123412362573e-17,
         "PC35": 1.4191579604897516e-17,
         "PC36": 5.625117468755967e-17,
         "PC37": 2.489469290903081e-17,
         "PC38": 4.127022324192938e-17,
         "PC39": 7.018193182565713e-18,
         "PC40": 2.718291714296529e-17,
         "PC41": 6.9492174092833e-17,
         "PC42": 4.7033140742579655e-17,
         "PC43": 1.3815091110136225e-17,
         "PC44": 4.128166812859713e-17,
         "PC45": 3.948408898419456e-18,
         "PC46": 1.1021345179430352e-17,
         "PC47": 2.0531439730374122e-17,
         "PC48": 9.549729719448557e-18,
         "PC49": 1.390814054915011e-17,
         "PC50": 1.660087219068626e-17,
         "PC51": 3.582466769776245e-17,
         "PC52": 3.293826838089007e-17,
         "PC53": 1.3822079047402445e-18,
         "PC54": 4.703470888147739e-17,
         "PC55": 4.5587831597633924e-17,
         "PC56": 4.431562710074299e-18,
         "PC57": 1.5352438366343188e-17,
         "PC58": 8.387329940926466e-18,
         "PC59": 1.0022632803733481e-16,
         "PC60": 2.2480137268268763e-17,
         "PC61": 1.2746304953832446e-17,
         "PC62": 1.45418084405149e-19,
         "PC63": 1.2541387125638387e-17,
         "PC64": 5.090513241314595e-17,
         "PC65": 9.753479009399165e-17,
         "PC66": 4.23132282183554e-17,
         "PC67": 2.1386168709713284e-17,
         "PC68": 2.2443433333599104e-17,
         "PC69": 8.243556866351512e-17,
         "PC70": 1.61930787183336e-17,
         "PC71": 6.574344599302529e-17,
         "PC72": 4.5565498351511613e-17,
         "PC73": 2.2785180973318483e-17,
         "PC74": 2.4490985660669224e-17,
         "PC75": 5.2282373828318487e-17,
         "PC76": 7.744267995922208e-17,
         "PC77": 4.440804104706025e-18,
         "PC78": 6.663814673352737e-18,
         "PC79": 3.22650868883241e-19,
         "PC80": 5.1634369883972455e-17,
         "PC81": 6.98977723471854e-17,
         "PC82": 5.343475224547033e-17,
         "PC83": 2.722412156326478e-21,
         "PC84": 6.511243264993299e-17,
         "PC85": 2.6653484779954403e-17,
         "PC86": 9.582292970899438e-17,
         "PC87": 1.0606706467441122e-17,
         "PC88": 4.1743408966633713e-17,
         "PC89": 2.877368938004881e-17,
         "PC90": 4.104125703760954e-17,
         "PC91": 6.875763646356671e-18,
         "PC92": 1.7560704035460218e-18,
         "PC93": 0.06420489640802665,
         "_deepnote_index_column": "S0 -0.7334;-0.937"
        },
        {
         "PC1": 6.3754411898748895e-18,
         "PC2": 3.652154208421511e-17,
         "PC3": 2.3271735304029124e-17,
         "PC4": 3.593857797338931e-17,
         "PC5": 1.0825199571534031e-17,
         "PC6": 3.3706867324238247e-17,
         "PC7": 1.1970984635891154e-17,
         "PC8": 5.724504925212385e-17,
         "PC9": 5.580349624517363e-17,
         "PC10": 1.154491480353941e-17,
         "PC11": 2.188664155376136e-17,
         "PC12": 1.955091165665898e-17,
         "PC13": 5.081014582008288e-17,
         "PC14": 6.450236584201711e-17,
         "PC15": 4.0785201882995106e-17,
         "PC16": 1.591713535001494e-17,
         "PC17": 5.0813301372357716e-17,
         "PC18": 2.261515736265377e-17,
         "PC19": 3.009948220907938e-17,
         "PC20": 3.6024658282993096e-17,
         "PC21": 5.309045834750342e-17,
         "PC22": 5.747605532664442e-17,
         "PC23": 4.2967767047820553e-17,
         "PC24": 5.645365995951787e-18,
         "PC25": 3.0748682711132616e-19,
         "PC26": 3.9705107810322915e-18,
         "PC27": 1.4629721734146168e-17,
         "PC28": 3.869436800051629e-18,
         "PC29": 4.418973658877115e-17,
         "PC30": 1.151288521010333e-16,
         "PC31": 3.901080641695995e-17,
         "PC32": 1.1487593726513562e-16,
         "PC33": 1.5378917977220265e-17,
         "PC34": 7.651933222562716e-17,
         "PC35": 2.9141768449979496e-17,
         "PC36": 8.536616040992676e-17,
         "PC37": 5.754388141067587e-18,
         "PC38": 1.0953108760597147e-17,
         "PC39": 5.740577639610352e-17,
         "PC40": 3.335465665660276e-17,
         "PC41": 2.184501851246316e-17,
         "PC42": 1.6111075689666697e-18,
         "PC43": 2.0370061396507697e-17,
         "PC44": 1.2053802469668731e-18,
         "PC45": 1.746728002625589e-18,
         "PC46": 5.784191215599485e-17,
         "PC47": 4.2011177882331386e-17,
         "PC48": 1.3056552032611654e-17,
         "PC49": 5.648012100195171e-17,
         "PC50": 1.392125338306533e-17,
         "PC51": 6.550639886001878e-17,
         "PC52": 1.276037933591429e-17,
         "PC53": 2.4279416017388062e-17,
         "PC54": 3.4765767310339485e-17,
         "PC55": 6.644812251889031e-17,
         "PC56": 2.88949244945604e-18,
         "PC57": 5.171730051845612e-17,
         "PC58": 7.530973680610061e-18,
         "PC59": 9.503630773197814e-17,
         "PC60": 3.509971841845594e-18,
         "PC61": 2.1625388007605648e-18,
         "PC62": 7.124670634523064e-18,
         "PC63": 2.794127283261528e-17,
         "PC64": 1.0002534934441504e-16,
         "PC65": 6.788403433435708e-17,
         "PC66": 3.871763539360092e-17,
         "PC67": 5.259318986684553e-17,
         "PC68": 2.860982742914621e-17,
         "PC69": 2.0545939896079633e-18,
         "PC70": 1.2059805648448091e-17,
         "PC71": 3.014858789731824e-18,
         "PC72": 3.8843830729608867e-17,
         "PC73": 6.861168219727288e-17,
         "PC74": 8.477438742753726e-18,
         "PC75": 5.607599260341942e-17,
         "PC76": 1.132941853132133e-16,
         "PC77": 3.423697701724143e-17,
         "PC78": 5.029067600577731e-19,
         "PC79": 1.4356076638415476e-17,
         "PC80": 5.48256590785598e-17,
         "PC81": 4.3099260018260704e-17,
         "PC82": 2.79808890853218e-17,
         "PC83": 8.044312804592229e-17,
         "PC84": 3.5421678380930856e-17,
         "PC85": 4.8461946696978083e-17,
         "PC86": 6.007392762942717e-17,
         "PC87": 7.332657644882081e-18,
         "PC88": 2.7635768335245712e-17,
         "PC89": 1.3013081920027343e-16,
         "PC90": 1.4151424872009708e-17,
         "PC91": 5.822984058740963e-17,
         "PC92": 2.499786496989692e-17,
         "PC93": 0.021465754094866046,
         "_deepnote_index_column": "S0 0.7334;0.937"
        },
        {
         "PC1": 3.417195776896653e-17,
         "PC2": 1.251487194040626e-17,
         "PC3": 4.2257713545468225e-17,
         "PC4": 6.193276655064674e-18,
         "PC5": 4.084925392883137e-17,
         "PC6": 1.1760421403924339e-18,
         "PC7": 2.0131762766595947e-17,
         "PC8": 4.8785755709167625e-17,
         "PC9": 1.1256426818370912e-16,
         "PC10": 2.1792814995936304e-17,
         "PC11": 3.137758109857906e-17,
         "PC12": 6.7326036750041655e-18,
         "PC13": 5.156372818760224e-17,
         "PC14": 1.436207352721088e-17,
         "PC15": 1.436332357053299e-17,
         "PC16": 1.946966536144073e-17,
         "PC17": 2.0083016029723146e-17,
         "PC18": 5.636463494875278e-17,
         "PC19": 5.032784934010187e-17,
         "PC20": 5.222803083907345e-17,
         "PC21": 3.1496217086520686e-17,
         "PC22": 4.1521248848581345e-17,
         "PC23": 1.74041458973185e-17,
         "PC24": 5.2252484256683316e-18,
         "PC25": 1.8953871201453433e-17,
         "PC26": 3.0166427966189833e-17,
         "PC27": 3.9608045603508365e-17,
         "PC28": 4.083622588414858e-17,
         "PC29": 1.5990636195606027e-17,
         "PC30": 6.1593714887200546e-18,
         "PC31": 2.0627494766889338e-17,
         "PC32": 7.276265066106487e-18,
         "PC33": 1.70833349904926e-17,
         "PC34": 1.6038565030343218e-17,
         "PC35": 3.032904559167368e-17,
         "PC36": 6.458154784328029e-17,
         "PC37": 1.4699217971345378e-18,
         "PC38": 2.2871698694122882e-17,
         "PC39": 4.469266319036622e-17,
         "PC40": 4.096428450978e-17,
         "PC41": 8.323681295538034e-18,
         "PC42": 6.528295921337043e-17,
         "PC43": 1.7552037009504192e-17,
         "PC44": 5.578799233099028e-17,
         "PC45": 9.221006625034932e-17,
         "PC46": 1.325098043422045e-17,
         "PC47": 4.322206855953829e-17,
         "PC48": 1.3355793677933348e-17,
         "PC49": 5.3787491059255285e-17,
         "PC50": 2.5934057312664313e-17,
         "PC51": 1.7790350747212603e-17,
         "PC52": 2.1247795125771582e-17,
         "PC53": 3.8250032098770287e-17,
         "PC54": 4.129418576282411e-17,
         "PC55": 1.9470784808132734e-18,
         "PC56": 4.033735695187219e-18,
         "PC57": 8.587314989837205e-17,
         "PC58": 7.949962654581153e-18,
         "PC59": 8.854167913769786e-17,
         "PC60": 4.3576705003783684e-17,
         "PC61": 5.883145502938294e-17,
         "PC62": 5.335199468629279e-17,
         "PC63": 1.8868842992226036e-17,
         "PC64": 1.5843165328508825e-17,
         "PC65": 2.5401364474323928e-17,
         "PC66": 1.841662854033248e-17,
         "PC67": 3.85879094075645e-17,
         "PC68": 9.949376251515914e-17,
         "PC69": 5.4667184969358724e-17,
         "PC70": 4.408019811149071e-18,
         "PC71": 3.3938712414304894e-17,
         "PC72": 1.0196742817715914e-16,
         "PC73": 1.1733139246359737e-16,
         "PC74": 3.5666818095400184e-17,
         "PC75": 7.504534892004967e-17,
         "PC76": 1.457781361916778e-17,
         "PC77": 1.7151831188604044e-16,
         "PC78": 2.1151047221042176e-17,
         "PC79": 2.698557103392983e-17,
         "PC80": 5.590861398790933e-17,
         "PC81": 1.0232600702274007e-18,
         "PC82": 1.815288849991222e-17,
         "PC83": 2.2067123535955462e-17,
         "PC84": 5.802098372653319e-17,
         "PC85": 9.205336103663333e-18,
         "PC86": 1.258645447235016e-16,
         "PC87": 1.162510280192295e-16,
         "PC88": 1.4451799406532289e-16,
         "PC89": 1.064303169812948e-16,
         "PC90": 2.172564184334418e-16,
         "PC91": 1.2299192588350114e-16,
         "PC92": 3.992355133050189e-17,
         "PC93": 0.027780529728217755,
         "_deepnote_index_column": "S0 0.7334;-0.2882"
        },
        {
         "PC1": 4.6634450627009394e-17,
         "PC2": 1.5530508035146192e-17,
         "PC3": 2.613338157397555e-17,
         "PC4": 2.1882665271738145e-18,
         "PC5": 1.6184313717021924e-17,
         "PC6": 1.6677184369474198e-17,
         "PC7": 5.4308099236888924e-17,
         "PC8": 1.56808366142796e-17,
         "PC9": 5.635739431609542e-17,
         "PC10": 3.3981549731425036e-17,
         "PC11": 2.357024192911804e-17,
         "PC12": 4.069558972805179e-17,
         "PC13": 2.2577275318683664e-17,
         "PC14": 2.1012657406264778e-17,
         "PC15": 2.1453371473164234e-18,
         "PC16": 1.683621558906382e-17,
         "PC17": 6.683735729326996e-17,
         "PC18": 1.3392729112093772e-17,
         "PC19": 7.267224275930826e-17,
         "PC20": 3.4227804890400514e-17,
         "PC21": 2.6121946844094082e-17,
         "PC22": 2.5135499935727478e-17,
         "PC23": 9.997192649684002e-18,
         "PC24": 3.838323223124319e-18,
         "PC25": 2.104221087426657e-17,
         "PC26": 6.54444582546836e-18,
         "PC27": 1.2512232324080965e-17,
         "PC28": 2.6222284349439254e-17,
         "PC29": 2.5536070201247963e-17,
         "PC30": 6.330740403852622e-18,
         "PC31": 2.128204555598542e-17,
         "PC32": 7.818353672359474e-18,
         "PC33": 3.070545032654488e-18,
         "PC34": 1.522820302239834e-17,
         "PC35": 8.321642256318617e-18,
         "PC36": 7.43259633431698e-18,
         "PC37": 1.8560621834912338e-18,
         "PC38": 4.8675792737418995e-17,
         "PC39": 1.1362248413792141e-17,
         "PC40": 1.4427149806797515e-17,
         "PC41": 3.466023591603969e-17,
         "PC42": 2.1328789232390017e-17,
         "PC43": 5.0747000569445256e-17,
         "PC44": 1.4411930880602206e-17,
         "PC45": 3.724008340484137e-17,
         "PC46": 2.924076255170055e-17,
         "PC47": 2.802553519018841e-17,
         "PC48": 2.4887297065916412e-18,
         "PC49": 3.805743595861129e-17,
         "PC50": 6.940262686911522e-17,
         "PC51": 3.806688634444931e-17,
         "PC52": 8.882290484917993e-17,
         "PC53": 4.624016403259376e-18,
         "PC54": 2.3939442599583125e-17,
         "PC55": 5.578509140761486e-17,
         "PC56": 2.6704727948724508e-17,
         "PC57": 1.6494878433740943e-17,
         "PC58": 2.0056469073947106e-17,
         "PC59": 5.00212631822175e-17,
         "PC60": 1.4857635259594276e-18,
         "PC61": 7.666194898298338e-17,
         "PC62": 1.98136325999206e-17,
         "PC63": 4.1427296056190056e-18,
         "PC64": 1.1375723003042371e-17,
         "PC65": 1.6921506614877217e-17,
         "PC66": 1.5925595041442856e-17,
         "PC67": 3.139046106284365e-17,
         "PC68": 3.690954068223574e-18,
         "PC69": 2.6013352609438417e-17,
         "PC70": 1.1415224239831384e-17,
         "PC71": 2.095353195885924e-17,
         "PC72": 1.9108201071506746e-17,
         "PC73": 3.502016689984601e-17,
         "PC74": 3.3871171442886724e-19,
         "PC75": 2.0931941036636376e-17,
         "PC76": 4.83916969495158e-17,
         "PC77": 3.741820567345948e-17,
         "PC78": 1.0447447003720521e-18,
         "PC79": 1.5021584165704823e-17,
         "PC80": 9.000552278374016e-17,
         "PC81": 1.556780215357362e-16,
         "PC82": 1.8053800799433257e-16,
         "PC83": 1.5460083329387884e-16,
         "PC84": 6.318808349271787e-17,
         "PC85": 1.1203802817479276e-17,
         "PC86": 2.475046664462079e-18,
         "PC87": 1.2236724250408616e-17,
         "PC88": 9.785849296622257e-18,
         "PC89": 1.5843159167178314e-17,
         "PC90": 1.8032163978650797e-16,
         "PC91": 9.84483935109264e-17,
         "PC92": 1.4049019982486928e-16,
         "PC93": 0.024379388547372517,
         "_deepnote_index_column": "S0 0.2882;-0.7334"
        }
       ],
       "rows_bottom": [
        {
         "PC1": 0,
         "PC2": 0,
         "PC3": 0,
         "PC4": 0,
         "PC5": 0,
         "PC6": 0,
         "PC7": 0,
         "PC8": 0,
         "PC9": 0,
         "PC10": 0,
         "PC11": 0,
         "PC12": 0,
         "PC13": 0,
         "PC14": 0,
         "PC15": 0,
         "PC16": 0,
         "PC17": 0,
         "PC18": 0,
         "PC19": 0,
         "PC20": 0,
         "PC21": 0,
         "PC22": 0,
         "PC23": 0,
         "PC24": 0,
         "PC25": 0,
         "PC26": 0,
         "PC27": 0,
         "PC28": 0,
         "PC29": 0,
         "PC30": 0,
         "PC31": 0,
         "PC32": 0,
         "PC33": 0,
         "PC34": 0,
         "PC35": 0,
         "PC36": 0,
         "PC37": 0,
         "PC38": 0,
         "PC39": 0,
         "PC40": 0,
         "PC41": 0,
         "PC42": 0,
         "PC43": 0,
         "PC44": 0,
         "PC45": 0,
         "PC46": 0,
         "PC47": 0,
         "PC48": 0,
         "PC49": 0,
         "PC50": 0,
         "PC51": 0,
         "PC52": 0,
         "PC53": 0,
         "PC54": 0,
         "PC55": 0,
         "PC56": 0,
         "PC57": 0,
         "PC58": 0,
         "PC59": 0,
         "PC60": 0,
         "PC61": 0,
         "PC62": 0,
         "PC63": 0,
         "PC64": 0,
         "PC65": 0,
         "PC66": 0,
         "PC67": 0,
         "PC68": 0,
         "PC69": 0,
         "PC70": 0,
         "PC71": 0,
         "PC72": 0,
         "PC73": 0,
         "PC74": 0,
         "PC75": 0,
         "PC76": 0,
         "PC77": 0,
         "PC78": 0,
         "PC79": 0,
         "PC80": 0,
         "PC81": 0,
         "PC82": 0,
         "PC83": 0,
         "PC84": 0,
         "PC85": 0,
         "PC86": 0,
         "PC87": 0,
         "PC88": 0,
         "PC89": 0,
         "PC90": 0,
         "PC91": 0,
         "PC92": 0,
         "PC93": 0,
         "_deepnote_index_column": "S19 0.937;0.9911"
        },
        {
         "PC1": 0,
         "PC2": 0,
         "PC3": 0,
         "PC4": 0,
         "PC5": 0,
         "PC6": 0,
         "PC7": 0,
         "PC8": 0,
         "PC9": 0,
         "PC10": 0,
         "PC11": 0,
         "PC12": 0,
         "PC13": 0,
         "PC14": 0,
         "PC15": 0,
         "PC16": 0,
         "PC17": 0,
         "PC18": 0,
         "PC19": 0,
         "PC20": 0,
         "PC21": 0,
         "PC22": 0,
         "PC23": 0,
         "PC24": 0,
         "PC25": 0,
         "PC26": 0,
         "PC27": 0,
         "PC28": 0,
         "PC29": 0,
         "PC30": 0,
         "PC31": 0,
         "PC32": 0,
         "PC33": 0,
         "PC34": 0,
         "PC35": 0,
         "PC36": 0,
         "PC37": 0,
         "PC38": 0,
         "PC39": 0,
         "PC40": 0,
         "PC41": 0,
         "PC42": 0,
         "PC43": 0,
         "PC44": 0,
         "PC45": 0,
         "PC46": 0,
         "PC47": 0,
         "PC48": 0,
         "PC49": 0,
         "PC50": 0,
         "PC51": 0,
         "PC52": 0,
         "PC53": 0,
         "PC54": 0,
         "PC55": 0,
         "PC56": 0,
         "PC57": 0,
         "PC58": 0,
         "PC59": 0,
         "PC60": 0,
         "PC61": 0,
         "PC62": 0,
         "PC63": 0,
         "PC64": 0,
         "PC65": 0,
         "PC66": 0,
         "PC67": 0,
         "PC68": 0,
         "PC69": 0,
         "PC70": 0,
         "PC71": 0,
         "PC72": 0,
         "PC73": 0,
         "PC74": 0,
         "PC75": 0,
         "PC76": 0,
         "PC77": 0,
         "PC78": 0,
         "PC79": 0,
         "PC80": 0,
         "PC81": 0,
         "PC82": 0,
         "PC83": 0,
         "PC84": 0,
         "PC85": 0,
         "PC86": 0,
         "PC87": 0,
         "PC88": 0,
         "PC89": 0,
         "PC90": 0,
         "PC91": 0,
         "PC92": 0,
         "PC93": 0,
         "_deepnote_index_column": "S19 0.9911;-0.9911"
        },
        {
         "PC1": 0.0015174137882820004,
         "PC2": 0.0007557300831382824,
         "PC3": 0.00029376581700948023,
         "PC4": 0.0005038444545044869,
         "PC5": 0.002061130811048327,
         "PC6": 0.0005647359945640075,
         "PC7": 0.0013842694135522032,
         "PC8": 0.00017088885037423043,
         "PC9": 0.0037047353534497714,
         "PC10": 0.000010189106859704062,
         "PC11": 0.0008766696122889074,
         "PC12": 0.0002716281608267705,
         "PC13": 0.0016377341594594928,
         "PC14": 0.0013202791297044628,
         "PC15": 0.0011397857582683925,
         "PC16": 0.003151967840905911,
         "PC17": 0.0024870795560303365,
         "PC18": 0.0014701549221556773,
         "PC19": 0.0003073929407177022,
         "PC20": 0.0018091059960188426,
         "PC21": 0.002332404664380449,
         "PC22": 0.003542026182716324,
         "PC23": 0.002184294007964739,
         "PC24": 0.00008713704598758504,
         "PC25": 0.00031181484057661335,
         "PC26": 0.002412712595158123,
         "PC27": 0.0012461122236655444,
         "PC28": 0.0003252679711276522,
         "PC29": 0.00032023209854016663,
         "PC30": 0.002055939112006297,
         "PC31": 0.0022522898525563126,
         "PC32": 0.0012407008036742937,
         "PC33": 0.00039536849845040904,
         "PC34": 0.0021112199514454707,
         "PC35": 0.0023272272297275203,
         "PC36": 0.0018997121687374097,
         "PC37": 0.0037061202991467064,
         "PC38": 0.001780175101424927,
         "PC39": 0.0037369422551734722,
         "PC40": 0.002902849724696607,
         "PC41": 0.002501970089563057,
         "PC42": 0.004210105010722955,
         "PC43": 0.003031306869472475,
         "PC44": 0.005433381133403832,
         "PC45": 0.0012613808200435549,
         "PC46": 0.0019316714183173138,
         "PC47": 0.0016099615891838233,
         "PC48": 0.0008765590300136361,
         "PC49": 0.0032791962437832035,
         "PC50": 0.004079770286914816,
         "PC51": 0.006664302646381392,
         "PC52": 0.0012556689570763972,
         "PC53": 0.0011995527947211307,
         "PC54": 0.0013734412741447375,
         "PC55": 0.0010604855980501898,
         "PC56": 0.0038926188316323568,
         "PC57": 0.000647551053863749,
         "PC58": 0.0015741697309927416,
         "PC59": 0.0038106143210817458,
         "PC60": 0.0016313996712972844,
         "PC61": 0.00019837613935980722,
         "PC62": 0.004098079957800633,
         "PC63": 0.00708076975604451,
         "PC64": 0.002209531205776172,
         "PC65": 0.002692270566289053,
         "PC66": 0.0027541507958123265,
         "PC67": 0.004378297670641102,
         "PC68": 0.002769786577172253,
         "PC69": 0.0024031080373452273,
         "PC70": 0.0013755861630261952,
         "PC71": 0.0002578065294387711,
         "PC72": 0.0015997989071888014,
         "PC73": 0.005930249699927103,
         "PC74": 0.006325955070977078,
         "PC75": 0.0038398180096693877,
         "PC76": 0.0031586043259148487,
         "PC77": 0.004878532368592378,
         "PC78": 0.0013194639661628,
         "PC79": 0.004370053742936984,
         "PC80": 0.0030028799076038323,
         "PC81": 0.01021680591265819,
         "PC82": 0.00343236266895325,
         "PC83": 0.002344084518283136,
         "PC84": 0.006119156265065356,
         "PC85": 0.0022481862748286764,
         "PC86": 0.006642595672715616,
         "PC87": 0.00804238273216701,
         "PC88": 0.000028557523460257302,
         "PC89": 0.0049271757206326705,
         "PC90": 0.00037334731546701514,
         "PC91": 0.015649518220746197,
         "PC92": 0.008051911510803495,
         "PC93": 0.0017747843251058376,
         "_deepnote_index_column": "S19 0.937;0.937"
        },
        {
         "PC1": 0.043847212783826486,
         "PC2": 0.0537024276179926,
         "PC3": 0.02842663205332306,
         "PC4": 0.019502906882695452,
         "PC5": 0.04974445345864126,
         "PC6": 0.046215380479784685,
         "PC7": 0.03783454870618771,
         "PC8": 0.005729261500874707,
         "PC9": 0.009263475021648702,
         "PC10": 0.012410313851228988,
         "PC11": 0.04846898696356479,
         "PC12": 0.05125663732949924,
         "PC13": 0.05245969942732433,
         "PC14": 0.05098010293708246,
         "PC15": 0.009578845952807585,
         "PC16": 0.033818671257501785,
         "PC17": 0.04852308242838667,
         "PC18": 0.010319570793450325,
         "PC19": 0.024659433286058564,
         "PC20": 0.036922973904135896,
         "PC21": 0.044310969754724934,
         "PC22": 0.07621424166737627,
         "PC23": 0.07258432885504139,
         "PC24": 0.021959311070926066,
         "PC25": 0.03237417457523994,
         "PC26": 0.05560247165822156,
         "PC27": 0.02720369424876014,
         "PC28": 0.033913202345379194,
         "PC29": 0.014532317404233353,
         "PC30": 0.019584732723262423,
         "PC31": 0.025294495237593934,
         "PC32": 0.038566107933455586,
         "PC33": 0.012174472387500692,
         "PC34": 0.058881987922731055,
         "PC35": 0.022697187274039646,
         "PC36": 0.02465461503649126,
         "PC37": 0.019833954883961398,
         "PC38": 0.026500565998141837,
         "PC39": 0.03690533687796015,
         "PC40": 0.020803229311057728,
         "PC41": 0.025041504028096594,
         "PC42": 0.06413596382526214,
         "PC43": 0.028352776294920848,
         "PC44": 0.055121311212877035,
         "PC45": 0.014813973900488598,
         "PC46": 0.04602699541820235,
         "PC47": 0.07166490248746277,
         "PC48": 0.0036340303793633327,
         "PC49": 0.10632602465164329,
         "PC50": 0.009954865455549489,
         "PC51": 0.035675866953169676,
         "PC52": 0.029152829015505973,
         "PC53": 0.009409589474246478,
         "PC54": 0.06259721723436744,
         "PC55": 0.016591982877763197,
         "PC56": 0.016752750391097533,
         "PC57": 0.04301535726932853,
         "PC58": 0.006641420818047416,
         "PC59": 0.02460841906991606,
         "PC60": 0.008536478668312433,
         "PC61": 0.02986505575461479,
         "PC62": 0.006116946370791635,
         "PC63": 0.03014207019622526,
         "PC64": 0.012466911792506339,
         "PC65": 0.0188787931430597,
         "PC66": 0.017646075585968618,
         "PC67": 0.012440675282830781,
         "PC68": 0.007936783837008993,
         "PC69": 0.011567162138907964,
         "PC70": 0.0026060630592053403,
         "PC71": 0.011458834017665646,
         "PC72": 0.03255568176102588,
         "PC73": 0.017408231651112153,
         "PC74": 0.055096165664610834,
         "PC75": 0.06181739880483243,
         "PC76": 0.008926187696063757,
         "PC77": 0.022533908961990774,
         "PC78": 0.003666467909332612,
         "PC79": 0.035705902461626034,
         "PC80": 0.021323122446574753,
         "PC81": 0.038255332829318534,
         "PC82": 0.0016975051131330045,
         "PC83": 0.012987741549897201,
         "PC84": 0.05214824474136777,
         "PC85": 0.031682355341659064,
         "PC86": 0.015702416179521405,
         "PC87": 0.030534115678577375,
         "PC88": 0.04236152458348876,
         "PC89": 0.0025091805232425484,
         "PC90": 0.016150916760739306,
         "PC91": 0.021132848141463084,
         "PC92": 0.04512338198058471,
         "PC93": 0.02562742937110945,
         "_deepnote_index_column": "S19 -0.9911;-0.9911"
        },
        {
         "PC1": 0,
         "PC2": 0,
         "PC3": 0,
         "PC4": 0,
         "PC5": 0,
         "PC6": 0,
         "PC7": 0,
         "PC8": 0,
         "PC9": 0,
         "PC10": 0,
         "PC11": 0,
         "PC12": 0,
         "PC13": 0,
         "PC14": 0,
         "PC15": 0,
         "PC16": 0,
         "PC17": 0,
         "PC18": 0,
         "PC19": 0,
         "PC20": 0,
         "PC21": 0,
         "PC22": 0,
         "PC23": 0,
         "PC24": 0,
         "PC25": 0,
         "PC26": 0,
         "PC27": 0,
         "PC28": 0,
         "PC29": 0,
         "PC30": 0,
         "PC31": 0,
         "PC32": 0,
         "PC33": 0,
         "PC34": 0,
         "PC35": 0,
         "PC36": 0,
         "PC37": 0,
         "PC38": 0,
         "PC39": 0,
         "PC40": 0,
         "PC41": 0,
         "PC42": 0,
         "PC43": 0,
         "PC44": 0,
         "PC45": 0,
         "PC46": 0,
         "PC47": 0,
         "PC48": 0,
         "PC49": 0,
         "PC50": 0,
         "PC51": 0,
         "PC52": 0,
         "PC53": 0,
         "PC54": 0,
         "PC55": 0,
         "PC56": 0,
         "PC57": 0,
         "PC58": 0,
         "PC59": 0,
         "PC60": 0,
         "PC61": 0,
         "PC62": 0,
         "PC63": 0,
         "PC64": 0,
         "PC65": 0,
         "PC66": 0,
         "PC67": 0,
         "PC68": 0,
         "PC69": 0,
         "PC70": 0,
         "PC71": 0,
         "PC72": 0,
         "PC73": 0,
         "PC74": 0,
         "PC75": 0,
         "PC76": 0,
         "PC77": 0,
         "PC78": 0,
         "PC79": 0,
         "PC80": 0,
         "PC81": 0,
         "PC82": 0,
         "PC83": 0,
         "PC84": 0,
         "PC85": 0,
         "PC86": 0,
         "PC87": 0,
         "PC88": 0,
         "PC89": 0,
         "PC90": 0,
         "PC91": 0,
         "PC92": 0,
         "PC93": 0,
         "_deepnote_index_column": "S19 -0.937;-0.2882"
        }
       ]
      },
      "text/plain": "                              PC1           PC2           PC3           PC4  \\\nS0 -0.937;0.2882     4.610385e-18  1.043900e-17  1.245627e-17  2.825664e-17   \nS0 -0.7334;-0.937    1.189318e-17  1.232031e-18  7.741145e-18  6.136546e-18   \nS0 0.7334;0.937      6.375441e-18  3.652154e-17  2.327174e-17  3.593858e-17   \nS0 0.7334;-0.2882    3.417196e-17  1.251487e-17  4.225771e-17  6.193277e-18   \nS0 0.2882;-0.7334    4.663445e-17  1.553051e-17  2.613338e-17  2.188267e-18   \n...                           ...           ...           ...           ...   \nS19 0.937;0.9911     0.000000e+00  0.000000e+00  0.000000e+00  0.000000e+00   \nS19 0.9911;-0.9911   0.000000e+00  0.000000e+00  0.000000e+00  0.000000e+00   \nS19 0.937;0.937      1.517414e-03  7.557301e-04  2.937658e-04  5.038445e-04   \nS19 -0.9911;-0.9911  4.384721e-02  5.370243e-02  2.842663e-02  1.950291e-02   \nS19 -0.937;-0.2882   0.000000e+00  0.000000e+00  0.000000e+00  0.000000e+00   \n\n                              PC5           PC6           PC7           PC8  \\\nS0 -0.937;0.2882     2.980386e-17  3.352958e-17  1.857226e-17  1.897614e-17   \nS0 -0.7334;-0.937    1.151214e-17  1.634008e-17  1.548882e-17  1.122518e-17   \nS0 0.7334;0.937      1.082520e-17  3.370687e-17  1.197098e-17  5.724505e-17   \nS0 0.7334;-0.2882    4.084925e-17  1.176042e-18  2.013176e-17  4.878576e-17   \nS0 0.2882;-0.7334    1.618431e-17  1.667718e-17  5.430810e-17  1.568084e-17   \n...                           ...           ...           ...           ...   \nS19 0.937;0.9911     0.000000e+00  0.000000e+00  0.000000e+00  0.000000e+00   \nS19 0.9911;-0.9911   0.000000e+00  0.000000e+00  0.000000e+00  0.000000e+00   \nS19 0.937;0.937      2.061131e-03  5.647360e-04  1.384269e-03  1.708889e-04   \nS19 -0.9911;-0.9911  4.974445e-02  4.621538e-02  3.783455e-02  5.729262e-03   \nS19 -0.937;-0.2882   0.000000e+00  0.000000e+00  0.000000e+00  0.000000e+00   \n\n                              PC9          PC10  ...          PC84  \\\nS0 -0.937;0.2882     5.510035e-17  1.843743e-17  ...  3.927518e-17   \nS0 -0.7334;-0.937    5.392665e-18  3.065228e-17  ...  6.511243e-17   \nS0 0.7334;0.937      5.580350e-17  1.154491e-17  ...  3.542168e-17   \nS0 0.7334;-0.2882    1.125643e-16  2.179281e-17  ...  5.802098e-17   \nS0 0.2882;-0.7334    5.635739e-17  3.398155e-17  ...  6.318808e-17   \n...                           ...           ...  ...           ...   \nS19 0.937;0.9911     0.000000e+00  0.000000e+00  ...  0.000000e+00   \nS19 0.9911;-0.9911   0.000000e+00  0.000000e+00  ...  0.000000e+00   \nS19 0.937;0.937      3.704735e-03  1.018911e-05  ...  6.119156e-03   \nS19 -0.9911;-0.9911  9.263475e-03  1.241031e-02  ...  5.214824e-02   \nS19 -0.937;-0.2882   0.000000e+00  0.000000e+00  ...  0.000000e+00   \n\n                             PC85          PC86          PC87          PC88  \\\nS0 -0.937;0.2882     1.386195e-16  6.823295e-17  8.140479e-17  1.708179e-16   \nS0 -0.7334;-0.937    2.665348e-17  9.582293e-17  1.060671e-17  4.174341e-17   \nS0 0.7334;0.937      4.846195e-17  6.007393e-17  7.332658e-18  2.763577e-17   \nS0 0.7334;-0.2882    9.205336e-18  1.258645e-16  1.162510e-16  1.445180e-16   \nS0 0.2882;-0.7334    1.120380e-17  2.475047e-18  1.223672e-17  9.785849e-18   \n...                           ...           ...           ...           ...   \nS19 0.937;0.9911     0.000000e+00  0.000000e+00  0.000000e+00  0.000000e+00   \nS19 0.9911;-0.9911   0.000000e+00  0.000000e+00  0.000000e+00  0.000000e+00   \nS19 0.937;0.937      2.248186e-03  6.642596e-03  8.042383e-03  2.855752e-05   \nS19 -0.9911;-0.9911  3.168236e-02  1.570242e-02  3.053412e-02  4.236152e-02   \nS19 -0.937;-0.2882   0.000000e+00  0.000000e+00  0.000000e+00  0.000000e+00   \n\n                             PC89          PC90          PC91          PC92  \\\nS0 -0.937;0.2882     2.862053e-17  9.181635e-17  4.361283e-17  9.083483e-17   \nS0 -0.7334;-0.937    2.877369e-17  4.104126e-17  6.875764e-18  1.756070e-18   \nS0 0.7334;0.937      1.301308e-16  1.415142e-17  5.822984e-17  2.499786e-17   \nS0 0.7334;-0.2882    1.064303e-16  2.172564e-16  1.229919e-16  3.992355e-17   \nS0 0.2882;-0.7334    1.584316e-17  1.803216e-16  9.844839e-17  1.404902e-16   \n...                           ...           ...           ...           ...   \nS19 0.937;0.9911     0.000000e+00  0.000000e+00  0.000000e+00  0.000000e+00   \nS19 0.9911;-0.9911   0.000000e+00  0.000000e+00  0.000000e+00  0.000000e+00   \nS19 0.937;0.937      4.927176e-03  3.733473e-04  1.564952e-02  8.051912e-03   \nS19 -0.9911;-0.9911  2.509181e-03  1.615092e-02  2.113285e-02  4.512338e-02   \nS19 -0.937;-0.2882   0.000000e+00  0.000000e+00  0.000000e+00  0.000000e+00   \n\n                         PC93  \nS0 -0.937;0.2882     0.057600  \nS0 -0.7334;-0.937    0.064205  \nS0 0.7334;0.937      0.021466  \nS0 0.7334;-0.2882    0.027781  \nS0 0.2882;-0.7334    0.024379  \n...                       ...  \nS19 0.937;0.9911     0.000000  \nS19 0.9911;-0.9911   0.000000  \nS19 0.937;0.937      0.001775  \nS19 -0.9911;-0.9911  0.025627  \nS19 -0.937;-0.2882   0.000000  \n\n[1260 rows x 93 columns]",
      "text/html": "<div>\n<style scoped>\n    .dataframe tbody tr th:only-of-type {\n        vertical-align: middle;\n    }\n\n    .dataframe tbody tr th {\n        vertical-align: top;\n    }\n\n    .dataframe thead th {\n        text-align: right;\n    }\n</style>\n<table border=\"1\" class=\"dataframe\">\n  <thead>\n    <tr style=\"text-align: right;\">\n      <th></th>\n      <th>PC1</th>\n      <th>PC2</th>\n      <th>PC3</th>\n      <th>PC4</th>\n      <th>PC5</th>\n      <th>PC6</th>\n      <th>PC7</th>\n      <th>PC8</th>\n      <th>PC9</th>\n      <th>PC10</th>\n      <th>...</th>\n      <th>PC84</th>\n      <th>PC85</th>\n      <th>PC86</th>\n      <th>PC87</th>\n      <th>PC88</th>\n      <th>PC89</th>\n      <th>PC90</th>\n      <th>PC91</th>\n      <th>PC92</th>\n      <th>PC93</th>\n    </tr>\n  </thead>\n  <tbody>\n    <tr>\n      <th>S0 -0.937;0.2882</th>\n      <td>4.610385e-18</td>\n      <td>1.043900e-17</td>\n      <td>1.245627e-17</td>\n      <td>2.825664e-17</td>\n      <td>2.980386e-17</td>\n      <td>3.352958e-17</td>\n      <td>1.857226e-17</td>\n      <td>1.897614e-17</td>\n      <td>5.510035e-17</td>\n      <td>1.843743e-17</td>\n      <td>...</td>\n      <td>3.927518e-17</td>\n      <td>1.386195e-16</td>\n      <td>6.823295e-17</td>\n      <td>8.140479e-17</td>\n      <td>1.708179e-16</td>\n      <td>2.862053e-17</td>\n      <td>9.181635e-17</td>\n      <td>4.361283e-17</td>\n      <td>9.083483e-17</td>\n      <td>0.057600</td>\n    </tr>\n    <tr>\n      <th>S0 -0.7334;-0.937</th>\n      <td>1.189318e-17</td>\n      <td>1.232031e-18</td>\n      <td>7.741145e-18</td>\n      <td>6.136546e-18</td>\n      <td>1.151214e-17</td>\n      <td>1.634008e-17</td>\n      <td>1.548882e-17</td>\n      <td>1.122518e-17</td>\n      <td>5.392665e-18</td>\n      <td>3.065228e-17</td>\n      <td>...</td>\n      <td>6.511243e-17</td>\n      <td>2.665348e-17</td>\n      <td>9.582293e-17</td>\n      <td>1.060671e-17</td>\n      <td>4.174341e-17</td>\n      <td>2.877369e-17</td>\n      <td>4.104126e-17</td>\n      <td>6.875764e-18</td>\n      <td>1.756070e-18</td>\n      <td>0.064205</td>\n    </tr>\n    <tr>\n      <th>S0 0.7334;0.937</th>\n      <td>6.375441e-18</td>\n      <td>3.652154e-17</td>\n      <td>2.327174e-17</td>\n      <td>3.593858e-17</td>\n      <td>1.082520e-17</td>\n      <td>3.370687e-17</td>\n      <td>1.197098e-17</td>\n      <td>5.724505e-17</td>\n      <td>5.580350e-17</td>\n      <td>1.154491e-17</td>\n      <td>...</td>\n      <td>3.542168e-17</td>\n      <td>4.846195e-17</td>\n      <td>6.007393e-17</td>\n      <td>7.332658e-18</td>\n      <td>2.763577e-17</td>\n      <td>1.301308e-16</td>\n      <td>1.415142e-17</td>\n      <td>5.822984e-17</td>\n      <td>2.499786e-17</td>\n      <td>0.021466</td>\n    </tr>\n    <tr>\n      <th>S0 0.7334;-0.2882</th>\n      <td>3.417196e-17</td>\n      <td>1.251487e-17</td>\n      <td>4.225771e-17</td>\n      <td>6.193277e-18</td>\n      <td>4.084925e-17</td>\n      <td>1.176042e-18</td>\n      <td>2.013176e-17</td>\n      <td>4.878576e-17</td>\n      <td>1.125643e-16</td>\n      <td>2.179281e-17</td>\n      <td>...</td>\n      <td>5.802098e-17</td>\n      <td>9.205336e-18</td>\n      <td>1.258645e-16</td>\n      <td>1.162510e-16</td>\n      <td>1.445180e-16</td>\n      <td>1.064303e-16</td>\n      <td>2.172564e-16</td>\n      <td>1.229919e-16</td>\n      <td>3.992355e-17</td>\n      <td>0.027781</td>\n    </tr>\n    <tr>\n      <th>S0 0.2882;-0.7334</th>\n      <td>4.663445e-17</td>\n      <td>1.553051e-17</td>\n      <td>2.613338e-17</td>\n      <td>2.188267e-18</td>\n      <td>1.618431e-17</td>\n      <td>1.667718e-17</td>\n      <td>5.430810e-17</td>\n      <td>1.568084e-17</td>\n      <td>5.635739e-17</td>\n      <td>3.398155e-17</td>\n      <td>...</td>\n      <td>6.318808e-17</td>\n      <td>1.120380e-17</td>\n      <td>2.475047e-18</td>\n      <td>1.223672e-17</td>\n      <td>9.785849e-18</td>\n      <td>1.584316e-17</td>\n      <td>1.803216e-16</td>\n      <td>9.844839e-17</td>\n      <td>1.404902e-16</td>\n      <td>0.024379</td>\n    </tr>\n    <tr>\n      <th>...</th>\n      <td>...</td>\n      <td>...</td>\n      <td>...</td>\n      <td>...</td>\n      <td>...</td>\n      <td>...</td>\n      <td>...</td>\n      <td>...</td>\n      <td>...</td>\n      <td>...</td>\n      <td>...</td>\n      <td>...</td>\n      <td>...</td>\n      <td>...</td>\n      <td>...</td>\n      <td>...</td>\n      <td>...</td>\n      <td>...</td>\n      <td>...</td>\n      <td>...</td>\n      <td>...</td>\n    </tr>\n    <tr>\n      <th>S19 0.937;0.9911</th>\n      <td>0.000000e+00</td>\n      <td>0.000000e+00</td>\n      <td>0.000000e+00</td>\n      <td>0.000000e+00</td>\n      <td>0.000000e+00</td>\n      <td>0.000000e+00</td>\n      <td>0.000000e+00</td>\n      <td>0.000000e+00</td>\n      <td>0.000000e+00</td>\n      <td>0.000000e+00</td>\n      <td>...</td>\n      <td>0.000000e+00</td>\n      <td>0.000000e+00</td>\n      <td>0.000000e+00</td>\n      <td>0.000000e+00</td>\n      <td>0.000000e+00</td>\n      <td>0.000000e+00</td>\n      <td>0.000000e+00</td>\n      <td>0.000000e+00</td>\n      <td>0.000000e+00</td>\n      <td>0.000000</td>\n    </tr>\n    <tr>\n      <th>S19 0.9911;-0.9911</th>\n      <td>0.000000e+00</td>\n      <td>0.000000e+00</td>\n      <td>0.000000e+00</td>\n      <td>0.000000e+00</td>\n      <td>0.000000e+00</td>\n      <td>0.000000e+00</td>\n      <td>0.000000e+00</td>\n      <td>0.000000e+00</td>\n      <td>0.000000e+00</td>\n      <td>0.000000e+00</td>\n      <td>...</td>\n      <td>0.000000e+00</td>\n      <td>0.000000e+00</td>\n      <td>0.000000e+00</td>\n      <td>0.000000e+00</td>\n      <td>0.000000e+00</td>\n      <td>0.000000e+00</td>\n      <td>0.000000e+00</td>\n      <td>0.000000e+00</td>\n      <td>0.000000e+00</td>\n      <td>0.000000</td>\n    </tr>\n    <tr>\n      <th>S19 0.937;0.937</th>\n      <td>1.517414e-03</td>\n      <td>7.557301e-04</td>\n      <td>2.937658e-04</td>\n      <td>5.038445e-04</td>\n      <td>2.061131e-03</td>\n      <td>5.647360e-04</td>\n      <td>1.384269e-03</td>\n      <td>1.708889e-04</td>\n      <td>3.704735e-03</td>\n      <td>1.018911e-05</td>\n      <td>...</td>\n      <td>6.119156e-03</td>\n      <td>2.248186e-03</td>\n      <td>6.642596e-03</td>\n      <td>8.042383e-03</td>\n      <td>2.855752e-05</td>\n      <td>4.927176e-03</td>\n      <td>3.733473e-04</td>\n      <td>1.564952e-02</td>\n      <td>8.051912e-03</td>\n      <td>0.001775</td>\n    </tr>\n    <tr>\n      <th>S19 -0.9911;-0.9911</th>\n      <td>4.384721e-02</td>\n      <td>5.370243e-02</td>\n      <td>2.842663e-02</td>\n      <td>1.950291e-02</td>\n      <td>4.974445e-02</td>\n      <td>4.621538e-02</td>\n      <td>3.783455e-02</td>\n      <td>5.729262e-03</td>\n      <td>9.263475e-03</td>\n      <td>1.241031e-02</td>\n      <td>...</td>\n      <td>5.214824e-02</td>\n      <td>3.168236e-02</td>\n      <td>1.570242e-02</td>\n      <td>3.053412e-02</td>\n      <td>4.236152e-02</td>\n      <td>2.509181e-03</td>\n      <td>1.615092e-02</td>\n      <td>2.113285e-02</td>\n      <td>4.512338e-02</td>\n      <td>0.025627</td>\n    </tr>\n    <tr>\n      <th>S19 -0.937;-0.2882</th>\n      <td>0.000000e+00</td>\n      <td>0.000000e+00</td>\n      <td>0.000000e+00</td>\n      <td>0.000000e+00</td>\n      <td>0.000000e+00</td>\n      <td>0.000000e+00</td>\n      <td>0.000000e+00</td>\n      <td>0.000000e+00</td>\n      <td>0.000000e+00</td>\n      <td>0.000000e+00</td>\n      <td>...</td>\n      <td>0.000000e+00</td>\n      <td>0.000000e+00</td>\n      <td>0.000000e+00</td>\n      <td>0.000000e+00</td>\n      <td>0.000000e+00</td>\n      <td>0.000000e+00</td>\n      <td>0.000000e+00</td>\n      <td>0.000000e+00</td>\n      <td>0.000000e+00</td>\n      <td>0.000000</td>\n    </tr>\n  </tbody>\n</table>\n<p>1260 rows × 93 columns</p>\n</div>"
     },
     "metadata": {},
     "output_type": "display_data"
    },
    {
     "data": {
      "text/plain": "['S11 0.7334;0:     0.508574',\n 'S11 0;0.7334:     0.365592',\n 'S11 0.2882;0.9911:     0.331333',\n 'S11 -0.7334;0.2882:     0.296525',\n 'S11 -0.7334;0.7334:     0.28136',\n 'S10 0.7334;0.2882:     0.22691',\n 'S17 0;0.9911:     0.178334',\n 'S11 0.7334;-0.2882:     0.176133',\n 'S9 -0.937;-0.7334:     0.165609',\n 'S5 0;-0.9911:     0.145117']"
     },
     "metadata": {},
     "output_type": "display_data"
    },
    {
     "name": "stdout",
     "text": "\nPC1 top 10 features are: \n\n",
     "output_type": "stream"
    }
   ],
   "execution_count": null
  },
  {
   "cell_type": "code",
   "metadata": {
    "tags": [],
    "cell_id": "00030-52877fd7-b1ec-4027-80af-65ced51be790",
    "deepnote_to_be_reexecuted": false,
    "source_hash": "ac033c5f",
    "execution_start": 1638215777505,
    "execution_millis": 1366,
    "deepnote_output_heights": [
     527
    ],
    "deepnote_cell_type": "code"
   },
   "source": "fig = px.scatter(t1_alg_variance,\n            labels={\"index\": \"# Components\", \"value\": \"Explained Variance\"}, \n            title=\"Explained Variance with increasing number of latent features\")\nfig.update_traces(showlegend=True)\nfig.show()",
   "outputs": [
    {
     "data": {
      "text/html": "<html>\n<head><meta charset=\"utf-8\" /></head>\n<body>\n    <div>            <script src=\"https://cdnjs.cloudflare.com/ajax/libs/mathjax/2.7.5/MathJax.js?config=TeX-AMS-MML_SVG\"></script><script type=\"text/javascript\">if (window.MathJax) {MathJax.Hub.Config({SVG: {font: \"STIX-Web\"}});}</script>                <script type=\"text/javascript\">window.PlotlyConfig = {MathJaxConfig: 'local'};</script>\n        <script src=\"https://cdn.plot.ly/plotly-2.4.2.min.js\"></script>                <div id=\"bf548199-8c02-4c4d-a117-d9c1c4be579a\" class=\"plotly-graph-div\" style=\"height:525px; width:100%;\"></div>            <script type=\"text/javascript\">                                    window.PLOTLYENV=window.PLOTLYENV || {};                                    if (document.getElementById(\"bf548199-8c02-4c4d-a117-d9c1c4be579a\")) {                    Plotly.newPlot(                        \"bf548199-8c02-4c4d-a117-d9c1c4be579a\",                        [{\"hovertemplate\":\"variable=0<br># Components=%{x}<br>Explained Variance=%{y}<extra></extra>\",\"legendgroup\":\"0\",\"marker\":{\"color\":\"#636efa\",\"symbol\":\"circle\"},\"mode\":\"markers\",\"name\":\"0\",\"orientation\":\"v\",\"showlegend\":true,\"type\":\"scatter\",\"x\":[0,1,2,3,4,5,6,7,8,9,10,11,12,13,14,15,16,17,18,19,20,21,22,23,24,25,26,27,28,29,30,31,32,33,34,35,36,37,38,39,40,41,42,43,44,45,46,47,48,49,50,51,52,53,54,55,56,57,58,59,60,61,62,63,64,65,66,67,68,69,70,71,72,73,74,75,76,77,78,79,80,81,82,83,84,85,86,87,88,89,90,91,92],\"xaxis\":\"x\",\"y\":[0.0582742676938345,0.10686512696186196,0.15382761773960052,0.19447781272908113,0.22947327945787338,0.2640949306073223,0.2972671664696475,0.32782656232841656,0.35535830519829736,0.38136335448651215,0.4058086331442594,0.4293355272418014,0.45146054950081116,0.4732650292440467,0.4940008312825737,0.5136558492742216,0.532181882657326,0.550582961974802,0.5678410469259572,0.5843350434534361,0.6005176569569137,0.6157627987029352,0.630745245201034,0.6453827056813772,0.6594669552725959,0.6732567786155367,0.6863144724469538,0.6991382904797924,0.7114480163436779,0.7236503901942704,0.7354677626839409,0.7469428253946493,0.7579861947736766,0.7683930744724877,0.7783478098166647,0.7878975241557216,0.796776910024406,0.8054994033064998,0.814134962149188,0.8221825626666859,0.8301931140064441,0.8378766080399305,0.8455087684570338,0.8529963401244541,0.8599264752065697,0.8666199572159654,0.8731063458712247,0.8794062459118527,0.8854312132306621,0.8913269499677668,0.8969051179195954,0.902238289509342,0.9073276807642835,0.912310286622051,0.9172025242313501,0.9218266787373396,0.9262614261051405,0.9305387986628108,0.9346998423363033,0.9387399206303128,0.94272011657461,0.9464342177631802,0.949940096379233,0.9532301016735278,0.9564411123847721,0.9594639443716789,0.9624640836862923,0.9652050025044774,0.9677148044984958,0.9701275408405915,0.9724884606431152,0.9747346631571951,0.9768646688197149,0.9789457324134203,0.9809299531789685,0.9828180732930442,0.9845253931688206,0.986193881649533,0.9877279362180147,0.9892204581895299,0.990614814923426,0.9918698196951206,0.9930632587423719,0.994223093804155,0.9951554762970537,0.996054827813081,0.9968804974155914,0.9976203439945567,0.998311815342786,0.9989147361151469,0.999475636558353,1.0000000000000002,1.0000000000000002],\"yaxis\":\"y\"}],                        {\"legend\":{\"title\":{\"text\":\"variable\"},\"tracegroupgap\":0},\"template\":{\"data\":{\"bar\":[{\"error_x\":{\"color\":\"#2a3f5f\"},\"error_y\":{\"color\":\"#2a3f5f\"},\"marker\":{\"line\":{\"color\":\"#E5ECF6\",\"width\":0.5},\"pattern\":{\"fillmode\":\"overlay\",\"size\":10,\"solidity\":0.2}},\"type\":\"bar\"}],\"barpolar\":[{\"marker\":{\"line\":{\"color\":\"#E5ECF6\",\"width\":0.5},\"pattern\":{\"fillmode\":\"overlay\",\"size\":10,\"solidity\":0.2}},\"type\":\"barpolar\"}],\"carpet\":[{\"aaxis\":{\"endlinecolor\":\"#2a3f5f\",\"gridcolor\":\"white\",\"linecolor\":\"white\",\"minorgridcolor\":\"white\",\"startlinecolor\":\"#2a3f5f\"},\"baxis\":{\"endlinecolor\":\"#2a3f5f\",\"gridcolor\":\"white\",\"linecolor\":\"white\",\"minorgridcolor\":\"white\",\"startlinecolor\":\"#2a3f5f\"},\"type\":\"carpet\"}],\"choropleth\":[{\"colorbar\":{\"outlinewidth\":0,\"ticks\":\"\"},\"type\":\"choropleth\"}],\"contour\":[{\"colorbar\":{\"outlinewidth\":0,\"ticks\":\"\"},\"colorscale\":[[0.0,\"#0d0887\"],[0.1111111111111111,\"#46039f\"],[0.2222222222222222,\"#7201a8\"],[0.3333333333333333,\"#9c179e\"],[0.4444444444444444,\"#bd3786\"],[0.5555555555555556,\"#d8576b\"],[0.6666666666666666,\"#ed7953\"],[0.7777777777777778,\"#fb9f3a\"],[0.8888888888888888,\"#fdca26\"],[1.0,\"#f0f921\"]],\"type\":\"contour\"}],\"contourcarpet\":[{\"colorbar\":{\"outlinewidth\":0,\"ticks\":\"\"},\"type\":\"contourcarpet\"}],\"heatmap\":[{\"colorbar\":{\"outlinewidth\":0,\"ticks\":\"\"},\"colorscale\":[[0.0,\"#0d0887\"],[0.1111111111111111,\"#46039f\"],[0.2222222222222222,\"#7201a8\"],[0.3333333333333333,\"#9c179e\"],[0.4444444444444444,\"#bd3786\"],[0.5555555555555556,\"#d8576b\"],[0.6666666666666666,\"#ed7953\"],[0.7777777777777778,\"#fb9f3a\"],[0.8888888888888888,\"#fdca26\"],[1.0,\"#f0f921\"]],\"type\":\"heatmap\"}],\"heatmapgl\":[{\"colorbar\":{\"outlinewidth\":0,\"ticks\":\"\"},\"colorscale\":[[0.0,\"#0d0887\"],[0.1111111111111111,\"#46039f\"],[0.2222222222222222,\"#7201a8\"],[0.3333333333333333,\"#9c179e\"],[0.4444444444444444,\"#bd3786\"],[0.5555555555555556,\"#d8576b\"],[0.6666666666666666,\"#ed7953\"],[0.7777777777777778,\"#fb9f3a\"],[0.8888888888888888,\"#fdca26\"],[1.0,\"#f0f921\"]],\"type\":\"heatmapgl\"}],\"histogram\":[{\"marker\":{\"pattern\":{\"fillmode\":\"overlay\",\"size\":10,\"solidity\":0.2}},\"type\":\"histogram\"}],\"histogram2d\":[{\"colorbar\":{\"outlinewidth\":0,\"ticks\":\"\"},\"colorscale\":[[0.0,\"#0d0887\"],[0.1111111111111111,\"#46039f\"],[0.2222222222222222,\"#7201a8\"],[0.3333333333333333,\"#9c179e\"],[0.4444444444444444,\"#bd3786\"],[0.5555555555555556,\"#d8576b\"],[0.6666666666666666,\"#ed7953\"],[0.7777777777777778,\"#fb9f3a\"],[0.8888888888888888,\"#fdca26\"],[1.0,\"#f0f921\"]],\"type\":\"histogram2d\"}],\"histogram2dcontour\":[{\"colorbar\":{\"outlinewidth\":0,\"ticks\":\"\"},\"colorscale\":[[0.0,\"#0d0887\"],[0.1111111111111111,\"#46039f\"],[0.2222222222222222,\"#7201a8\"],[0.3333333333333333,\"#9c179e\"],[0.4444444444444444,\"#bd3786\"],[0.5555555555555556,\"#d8576b\"],[0.6666666666666666,\"#ed7953\"],[0.7777777777777778,\"#fb9f3a\"],[0.8888888888888888,\"#fdca26\"],[1.0,\"#f0f921\"]],\"type\":\"histogram2dcontour\"}],\"mesh3d\":[{\"colorbar\":{\"outlinewidth\":0,\"ticks\":\"\"},\"type\":\"mesh3d\"}],\"parcoords\":[{\"line\":{\"colorbar\":{\"outlinewidth\":0,\"ticks\":\"\"}},\"type\":\"parcoords\"}],\"pie\":[{\"automargin\":true,\"type\":\"pie\"}],\"scatter\":[{\"marker\":{\"colorbar\":{\"outlinewidth\":0,\"ticks\":\"\"}},\"type\":\"scatter\"}],\"scatter3d\":[{\"line\":{\"colorbar\":{\"outlinewidth\":0,\"ticks\":\"\"}},\"marker\":{\"colorbar\":{\"outlinewidth\":0,\"ticks\":\"\"}},\"type\":\"scatter3d\"}],\"scattercarpet\":[{\"marker\":{\"colorbar\":{\"outlinewidth\":0,\"ticks\":\"\"}},\"type\":\"scattercarpet\"}],\"scattergeo\":[{\"marker\":{\"colorbar\":{\"outlinewidth\":0,\"ticks\":\"\"}},\"type\":\"scattergeo\"}],\"scattergl\":[{\"marker\":{\"colorbar\":{\"outlinewidth\":0,\"ticks\":\"\"}},\"type\":\"scattergl\"}],\"scattermapbox\":[{\"marker\":{\"colorbar\":{\"outlinewidth\":0,\"ticks\":\"\"}},\"type\":\"scattermapbox\"}],\"scatterpolar\":[{\"marker\":{\"colorbar\":{\"outlinewidth\":0,\"ticks\":\"\"}},\"type\":\"scatterpolar\"}],\"scatterpolargl\":[{\"marker\":{\"colorbar\":{\"outlinewidth\":0,\"ticks\":\"\"}},\"type\":\"scatterpolargl\"}],\"scatterternary\":[{\"marker\":{\"colorbar\":{\"outlinewidth\":0,\"ticks\":\"\"}},\"type\":\"scatterternary\"}],\"surface\":[{\"colorbar\":{\"outlinewidth\":0,\"ticks\":\"\"},\"colorscale\":[[0.0,\"#0d0887\"],[0.1111111111111111,\"#46039f\"],[0.2222222222222222,\"#7201a8\"],[0.3333333333333333,\"#9c179e\"],[0.4444444444444444,\"#bd3786\"],[0.5555555555555556,\"#d8576b\"],[0.6666666666666666,\"#ed7953\"],[0.7777777777777778,\"#fb9f3a\"],[0.8888888888888888,\"#fdca26\"],[1.0,\"#f0f921\"]],\"type\":\"surface\"}],\"table\":[{\"cells\":{\"fill\":{\"color\":\"#EBF0F8\"},\"line\":{\"color\":\"white\"}},\"header\":{\"fill\":{\"color\":\"#C8D4E3\"},\"line\":{\"color\":\"white\"}},\"type\":\"table\"}]},\"layout\":{\"annotationdefaults\":{\"arrowcolor\":\"#2a3f5f\",\"arrowhead\":0,\"arrowwidth\":1},\"autotypenumbers\":\"strict\",\"coloraxis\":{\"colorbar\":{\"outlinewidth\":0,\"ticks\":\"\"}},\"colorscale\":{\"diverging\":[[0,\"#8e0152\"],[0.1,\"#c51b7d\"],[0.2,\"#de77ae\"],[0.3,\"#f1b6da\"],[0.4,\"#fde0ef\"],[0.5,\"#f7f7f7\"],[0.6,\"#e6f5d0\"],[0.7,\"#b8e186\"],[0.8,\"#7fbc41\"],[0.9,\"#4d9221\"],[1,\"#276419\"]],\"sequential\":[[0.0,\"#0d0887\"],[0.1111111111111111,\"#46039f\"],[0.2222222222222222,\"#7201a8\"],[0.3333333333333333,\"#9c179e\"],[0.4444444444444444,\"#bd3786\"],[0.5555555555555556,\"#d8576b\"],[0.6666666666666666,\"#ed7953\"],[0.7777777777777778,\"#fb9f3a\"],[0.8888888888888888,\"#fdca26\"],[1.0,\"#f0f921\"]],\"sequentialminus\":[[0.0,\"#0d0887\"],[0.1111111111111111,\"#46039f\"],[0.2222222222222222,\"#7201a8\"],[0.3333333333333333,\"#9c179e\"],[0.4444444444444444,\"#bd3786\"],[0.5555555555555556,\"#d8576b\"],[0.6666666666666666,\"#ed7953\"],[0.7777777777777778,\"#fb9f3a\"],[0.8888888888888888,\"#fdca26\"],[1.0,\"#f0f921\"]]},\"colorway\":[\"#636efa\",\"#EF553B\",\"#00cc96\",\"#ab63fa\",\"#FFA15A\",\"#19d3f3\",\"#FF6692\",\"#B6E880\",\"#FF97FF\",\"#FECB52\"],\"font\":{\"color\":\"#2a3f5f\"},\"geo\":{\"bgcolor\":\"white\",\"lakecolor\":\"white\",\"landcolor\":\"#E5ECF6\",\"showlakes\":true,\"showland\":true,\"subunitcolor\":\"white\"},\"hoverlabel\":{\"align\":\"left\"},\"hovermode\":\"closest\",\"mapbox\":{\"style\":\"light\"},\"paper_bgcolor\":\"white\",\"plot_bgcolor\":\"#E5ECF6\",\"polar\":{\"angularaxis\":{\"gridcolor\":\"white\",\"linecolor\":\"white\",\"ticks\":\"\"},\"bgcolor\":\"#E5ECF6\",\"radialaxis\":{\"gridcolor\":\"white\",\"linecolor\":\"white\",\"ticks\":\"\"}},\"scene\":{\"xaxis\":{\"backgroundcolor\":\"#E5ECF6\",\"gridcolor\":\"white\",\"gridwidth\":2,\"linecolor\":\"white\",\"showbackground\":true,\"ticks\":\"\",\"zerolinecolor\":\"white\"},\"yaxis\":{\"backgroundcolor\":\"#E5ECF6\",\"gridcolor\":\"white\",\"gridwidth\":2,\"linecolor\":\"white\",\"showbackground\":true,\"ticks\":\"\",\"zerolinecolor\":\"white\"},\"zaxis\":{\"backgroundcolor\":\"#E5ECF6\",\"gridcolor\":\"white\",\"gridwidth\":2,\"linecolor\":\"white\",\"showbackground\":true,\"ticks\":\"\",\"zerolinecolor\":\"white\"}},\"shapedefaults\":{\"line\":{\"color\":\"#2a3f5f\"}},\"ternary\":{\"aaxis\":{\"gridcolor\":\"white\",\"linecolor\":\"white\",\"ticks\":\"\"},\"baxis\":{\"gridcolor\":\"white\",\"linecolor\":\"white\",\"ticks\":\"\"},\"bgcolor\":\"#E5ECF6\",\"caxis\":{\"gridcolor\":\"white\",\"linecolor\":\"white\",\"ticks\":\"\"}},\"title\":{\"x\":0.05},\"xaxis\":{\"automargin\":true,\"gridcolor\":\"white\",\"linecolor\":\"white\",\"ticks\":\"\",\"title\":{\"standoff\":15},\"zerolinecolor\":\"white\",\"zerolinewidth\":2},\"yaxis\":{\"automargin\":true,\"gridcolor\":\"white\",\"linecolor\":\"white\",\"ticks\":\"\",\"title\":{\"standoff\":15},\"zerolinecolor\":\"white\",\"zerolinewidth\":2}}},\"title\":{\"text\":\"Explained Variance with increasing number of latent features\"},\"xaxis\":{\"anchor\":\"y\",\"domain\":[0.0,1.0],\"title\":{\"text\":\"# Components\"}},\"yaxis\":{\"anchor\":\"x\",\"domain\":[0.0,1.0],\"title\":{\"text\":\"Explained Variance\"}}},                        {\"responsive\": true}                    ).then(function(){\n                            \nvar gd = document.getElementById('bf548199-8c02-4c4d-a117-d9c1c4be579a');\nvar x = new MutationObserver(function (mutations, observer) {{\n        var display = window.getComputedStyle(gd).display;\n        if (!display || display === 'none') {{\n            console.log([gd, 'removed!']);\n            Plotly.purge(gd);\n            observer.disconnect();\n        }}\n}});\n\n// Listen for the removal of the full notebook cells\nvar notebookContainer = gd.closest('#notebook-container');\nif (notebookContainer) {{\n    x.observe(notebookContainer, {childList: true});\n}}\n\n// Listen for the clearing of the current output cell\nvar outputEl = gd.closest('.output');\nif (outputEl) {{\n    x.observe(outputEl, {childList: true});\n}}\n\n                        })                };                            </script>        </div>\n</body>\n</html>"
     },
     "metadata": {},
     "output_type": "display_data"
    }
   ],
   "execution_count": null
  },
  {
   "cell_type": "code",
   "metadata": {
    "deepnote_variable_name": "t1_top_k_latent_features",
    "deepnote_variable_value": "2",
    "cell_id": "00029-b576f595-3089-4a57-bed5-f4b6ef3cf661",
    "deepnote_to_be_reexecuted": false,
    "source_hash": "7462d0f7",
    "execution_start": 1638215778877,
    "execution_millis": 5,
    "deepnote_cell_type": "input-text"
   },
   "source": "t1_top_k_latent_features = '2'",
   "outputs": [],
   "execution_count": null
  },
  {
   "cell_type": "code",
   "source": "t1_top_k_latent_features = int(t1_top_k_latent_features)\ntop_k_features = get_top_k_latent_features(t1_alg_result, t1_top_k_latent_features)\n#top_k_features",
   "metadata": {
    "tags": [],
    "cell_id": "00031-9da35401-f766-4424-92c2-b9a4a5c8e6c7",
    "deepnote_to_be_reexecuted": false,
    "source_hash": "300d9714",
    "execution_start": 1638215778892,
    "execution_millis": 0,
    "deepnote_cell_type": "code"
   },
   "outputs": [],
   "execution_count": null
  },
  {
   "cell_type": "markdown",
   "source": "## Task 2",
   "metadata": {
    "tags": [],
    "is_collapsed": false,
    "cell_id": "00032-2fc1a75a-25fe-4978-acdd-6f5588d24955",
    "deepnote_cell_type": "text-cell-h2"
   }
  },
  {
   "cell_type": "markdown",
   "source": " Scrivere un programma che, dato un file di gesti, individui i 10 gesti piu’ simili nel database di gesti, \nutilizzado:",
   "metadata": {
    "tags": [],
    "cell_id": "00036-0ef71ff2-9019-4d7d-bb03-cb9af8f7ad80",
    "deepnote_cell_type": "markdown"
   }
  },
  {
   "cell_type": "code",
   "source": "# Preparazione data\nt2_data_dp = {'gestures': t1_metrics_data['filename'], 'data': t1_metrics_data['data']}\nt2_data_tksem = {'gestures': t1_metrics_data['filename'], 'data': t1_alg_result['fitted_alg']}\n# Still TODO\nt2_data_ed_dtw = read_words_data_ed_dtw(gesture_files, data_components, alfabeto, path_words_directory)\nt2_data_ed = {'gestures': t1_metrics_data['filename'], 'data': t2_data_ed_dtw['ed']}\nt2_data_dtw = {'gestures': t1_metrics_data['filename'], 'data': t2_data_ed_dtw['dtw']}",
   "metadata": {
    "tags": [],
    "cell_id": "00035-a1ac6ce4-c459-45b9-9ac7-6b970a7f33b4",
    "deepnote_to_be_reexecuted": false,
    "source_hash": "fbd7baa2",
    "execution_start": 1638215778904,
    "execution_millis": 2,
    "deepnote_cell_type": "code"
   },
   "outputs": [],
   "execution_count": null
  },
  {
   "cell_type": "code",
   "metadata": {
    "deepnote_variable_name": "t2_input_file_gestures",
    "deepnote_variable_value": "../Dati_2/words/1.wrd",
    "cell_id": "00036-9cb944e1-67a5-4e98-9ffb-874ae8e5be84",
    "deepnote_to_be_reexecuted": false,
    "source_hash": "17d27e49",
    "execution_start": 1638215778918,
    "execution_millis": 164336,
    "deepnote_cell_type": "input-text"
   },
   "source": "t2_input_file_gestures = '../Dati_2/words/1.wrd'",
   "outputs": [],
   "execution_count": null
  },
  {
   "cell_type": "code",
   "metadata": {
    "deepnote_variable_name": "t2_input_k_gestures",
    "deepnote_variable_value": "93",
    "cell_id": "00038-81e5c045-6b78-4d9d-a618-c23b0c976f76",
    "deepnote_to_be_reexecuted": false,
    "source_hash": "bcb1e1fe",
    "execution_start": 1638215778933,
    "execution_millis": 164318,
    "deepnote_cell_type": "input-text"
   },
   "source": "t2_input_k_gestures = '93'",
   "outputs": [],
   "execution_count": null
  },
  {
   "cell_type": "code",
   "metadata": {
    "deepnote_variable_name": "t2_input_k_latent_features",
    "deepnote_variable_value": "60",
    "cell_id": "00034-5d6dbea6-0445-480c-9f12-0742690d9443",
    "deepnote_to_be_reexecuted": false,
    "source_hash": "cc166617",
    "execution_start": 1638215778938,
    "execution_millis": 164314,
    "deepnote_cell_type": "input-text"
   },
   "source": "t2_input_k_latent_features = '60'",
   "outputs": [],
   "execution_count": null
  },
  {
   "cell_type": "code",
   "metadata": {
    "deepnote_variable_name": "t2_input_query_type",
    "deepnote_variable_value": "Dot Product",
    "deepnote_variable_options": [
     "Dot Product",
     "Top-K Semantiche Latenti",
     "Edit Distance",
     "Distanza DTW"
    ],
    "deepnote_variable_custom_options": [
     "Dot Product",
     "Top-K Semantiche Latenti",
     "Edit Distance",
     "Distanza DTW"
    ],
    "deepnote_variable_selected_variable": "",
    "deepnote_variable_select_type": "from-options",
    "cell_id": "00036-8977fcab-0985-4f26-b5fe-9d5be8d89d8e",
    "deepnote_to_be_reexecuted": false,
    "source_hash": "76fe8482",
    "execution_start": 1638215778957,
    "execution_millis": 164273,
    "deepnote_cell_type": "input-select"
   },
   "source": "t2_input_query_type = 'Dot Product'",
   "outputs": [],
   "execution_count": null
  },
  {
   "cell_type": "code",
   "metadata": {
    "tags": [],
    "cell_id": "00040-1c04c788-26a9-4837-9833-724f5bfd006f",
    "deepnote_to_be_reexecuted": false,
    "source_hash": "467f8056",
    "execution_start": 1638215778974,
    "execution_millis": 354,
    "deepnote_output_heights": [
     597.2000122070312,
     328.3999938964844
    ],
    "deepnote_cell_type": "code"
   },
   "source": "# X facilità so che già ho calcolato sto file in input e lo prendo dal database\ngesture_name_id = t2_input_file_gestures.split(\"/\")[-1].split(\".\")[0]\n\nquery_type = t2_input_query_type\nfinder_query_settings = {\n    'k_latent_features': int(t2_input_k_latent_features),\n    'k_gestures_return': int(t2_input_k_gestures),\n}\n\ntop_k = None\nif query_type == 'Dot Product':\n    gesture_numpy = t2_data_dp['data'][t2_data_dp['gestures'].index(gesture_name_id)]\n    top_k = find_k_most_similar_dp(t2_data_dp, gesture_numpy, finder_query_settings)\nelif query_type == 'Top-K Semantiche Latenti':\n    gesture_numpy = t2_data_tksem['data'][t2_data_tksem['gestures'].index(gesture_name_id)]\n    # Preparo la query con gli input scelti dall'utente\n    top_k = find_k_most_similar_tksem(t2_data_tksem, gesture_numpy, finder_query_settings)\nelif query_type == 'Edit Distance':\n    #gesture_numpy = t2_data_ed['data'][t2_data_ed['gestures'].index(gesture_name_id)]\n    #top_k = find_k_most_similar_ed(t2_data_ed, gesture_numpy, finder_query_settings)\n    print(\"Edit Distance not implemented yet!\")\nelse:\n    #gesture_numpy = t2_data_dtw['data'][t2_data_dtw['gestures'].index(gesture_name_id)]\n    #top_k = find_k_most_similar_dtw(t2_data_dtw, gesture_numpy, finder_query_settings)\n    print(\"Distanza DTW not implemented yet!\")\n\nif top_k is not None:\n    print(\"Top \" + t2_input_k_gestures + \" gestures più simili a '\" + t2_input_file_gestures + \"', usando '\" + query_type + \"':\")\n    print(top_k)",
   "outputs": [
    {
     "name": "stdout",
     "text": "Top 93 gestures più simili a '../Dati_2/words/1.wrd', usando 'Dot Product':\n   gesture  similarity\n0        1    1.000000\n1      559    0.968143\n2      569    0.680727\n3      249    0.565666\n4      262    0.299952\n..     ...         ...\n88     268    0.021317\n89      30    0.020417\n90     587    0.019296\n91     582    0.017035\n92      24    0.014780\n\n[93 rows x 2 columns]\n",
     "output_type": "stream"
    }
   ],
   "execution_count": null
  },
  {
   "cell_type": "markdown",
   "source": "## Task 3",
   "metadata": {
    "tags": [],
    "is_collapsed": false,
    "cell_id": "00036-0bea7e6c-0dab-4f1a-a70d-13a374b82871",
    "deepnote_cell_type": "text-cell-h2"
   }
  },
  {
   "cell_type": "code",
   "metadata": {
    "deepnote_variable_name": "t3_input_query_type",
    "deepnote_variable_value": "Top-K Semantiche Latenti",
    "deepnote_variable_options": [
     "Dot Product",
     "Top-K Semantiche Latenti",
     "Edit Distance",
     "Distanza DTW"
    ],
    "deepnote_variable_custom_options": [
     "Dot Product",
     "Top-K Semantiche Latenti",
     "Edit Distance",
     "Distanza DTW"
    ],
    "deepnote_variable_selected_variable": "",
    "deepnote_variable_select_type": "from-options",
    "cell_id": "00041-16cc6f82-28dc-47f9-b27f-a607fc8583bf",
    "deepnote_to_be_reexecuted": false,
    "source_hash": "543765de",
    "execution_start": 1638215779346,
    "execution_millis": 6468638,
    "deepnote_cell_type": "input-select"
   },
   "source": "t3_input_query_type = 'Top-K Semantiche Latenti'",
   "outputs": [],
   "execution_count": null
  },
  {
   "cell_type": "code",
   "metadata": {
    "tags": [],
    "cell_id": "00036-9172fc2d-badc-482c-bde5-659ff0baaa6d",
    "deepnote_to_be_reexecuted": false,
    "source_hash": "c606615f",
    "execution_start": 1638215779354,
    "execution_millis": 386,
    "deepnote_cell_type": "code"
   },
   "source": "query_type = t3_input_query_type\n\n# Creo la matrice di similarità gesture - gesture (in base a come ha scelto l'utente di procedere)\ngesture_sim_matrix = None\nif query_type == 'Dot Product':\n    #gesture_sim_matrix = generate_gestures_similarity_matrix(alg_database['data'], int(t2_input_k_latent_features))\n    print(\"Distanza DTW not implemented yet!\")\nelif query_type == 'Top-K Semantiche Latenti':\n    gesture_sim_matrix = generate_gestures_similarity_matrix(t2_data_tksem['data'], int(t2_input_k_latent_features))\nelif query_type == 'Edit Distance':\n    #gesture_sim_matrix = generate_gestures_similarity_matrix(alg_database['data'], int(t2_input_k_latent_features))\n    print(\"Edit Distance not implemented yet!\")\nelse:\n    #gesture_sim_matrix = generate_gestures_similarity_matrix(alg_database['data'], int(t2_input_k_latent_features))\n    print(\"Distanza DTW not implemented yet!\")\n\n# La trasformo in dataframe pandas (così ho anche il nome delle gestures a confronto nelle righe / colonne)\ngestures_sim_matrix_pd = gestures_similarity_matrix_2_pandas(gesture_sim_matrix, t2_data_tksem['gestures'])\nprint(\"Matrice similarità gesture-gesture:\")\ngestures_sim_matrix_pd",
   "outputs": [
    {
     "name": "stdout",
     "text": "Matrice similarità gesture-gesture:\n",
     "output_type": "stream"
    },
    {
     "output_type": "execute_result",
     "execution_count": 31,
     "data": {
      "application/vnd.deepnote.dataframe.v2+json": {
       "row_count": 93,
       "column_count": 93,
       "columns": [
        {
         "name": "1",
         "dtype": "float64",
         "stats": {
          "unique_count": 93,
          "nan_count": 0,
          "min": "0.0",
          "max": "1.0",
          "histogram": [
           {
            "bin_start": 0,
            "bin_end": 0.1,
            "count": 2
           },
           {
            "bin_start": 0.1,
            "bin_end": 0.2,
            "count": 13
           },
           {
            "bin_start": 0.2,
            "bin_end": 0.30000000000000004,
            "count": 17
           },
           {
            "bin_start": 0.30000000000000004,
            "bin_end": 0.4,
            "count": 14
           },
           {
            "bin_start": 0.4,
            "bin_end": 0.5,
            "count": 14
           },
           {
            "bin_start": 0.5,
            "bin_end": 0.6000000000000001,
            "count": 6
           },
           {
            "bin_start": 0.6000000000000001,
            "bin_end": 0.7000000000000001,
            "count": 10
           },
           {
            "bin_start": 0.7000000000000001,
            "bin_end": 0.8,
            "count": 14
           },
           {
            "bin_start": 0.8,
            "bin_end": 0.9,
            "count": 2
           },
           {
            "bin_start": 0.9,
            "bin_end": 1,
            "count": 1
           }
          ]
         }
        },
        {
         "name": "10",
         "dtype": "float64",
         "stats": {
          "unique_count": 93,
          "nan_count": 0,
          "min": "0.0",
          "max": "1.0",
          "histogram": [
           {
            "bin_start": 0,
            "bin_end": 0.1,
            "count": 6
           },
           {
            "bin_start": 0.1,
            "bin_end": 0.2,
            "count": 24
           },
           {
            "bin_start": 0.2,
            "bin_end": 0.30000000000000004,
            "count": 30
           },
           {
            "bin_start": 0.30000000000000004,
            "bin_end": 0.4,
            "count": 20
           },
           {
            "bin_start": 0.4,
            "bin_end": 0.5,
            "count": 12
           },
           {
            "bin_start": 0.5,
            "bin_end": 0.6000000000000001,
            "count": 0
           },
           {
            "bin_start": 0.6000000000000001,
            "bin_end": 0.7000000000000001,
            "count": 0
           },
           {
            "bin_start": 0.7000000000000001,
            "bin_end": 0.8,
            "count": 0
           },
           {
            "bin_start": 0.8,
            "bin_end": 0.9,
            "count": 0
           },
           {
            "bin_start": 0.9,
            "bin_end": 1,
            "count": 1
           }
          ]
         }
        },
        {
         "name": "11",
         "dtype": "float64",
         "stats": {
          "unique_count": 93,
          "nan_count": 0,
          "min": "0.0",
          "max": "1.0",
          "histogram": [
           {
            "bin_start": 0,
            "bin_end": 0.1,
            "count": 8
           },
           {
            "bin_start": 0.1,
            "bin_end": 0.2,
            "count": 14
           },
           {
            "bin_start": 0.2,
            "bin_end": 0.30000000000000004,
            "count": 32
           },
           {
            "bin_start": 0.30000000000000004,
            "bin_end": 0.4,
            "count": 20
           },
           {
            "bin_start": 0.4,
            "bin_end": 0.5,
            "count": 18
           },
           {
            "bin_start": 0.5,
            "bin_end": 0.6000000000000001,
            "count": 0
           },
           {
            "bin_start": 0.6000000000000001,
            "bin_end": 0.7000000000000001,
            "count": 0
           },
           {
            "bin_start": 0.7000000000000001,
            "bin_end": 0.8,
            "count": 0
           },
           {
            "bin_start": 0.8,
            "bin_end": 0.9,
            "count": 0
           },
           {
            "bin_start": 0.9,
            "bin_end": 1,
            "count": 1
           }
          ]
         }
        },
        {
         "name": "12",
         "dtype": "float64",
         "stats": {
          "unique_count": 93,
          "nan_count": 0,
          "min": "0.0",
          "max": "1.0",
          "histogram": [
           {
            "bin_start": 0,
            "bin_end": 0.1,
            "count": 11
           },
           {
            "bin_start": 0.1,
            "bin_end": 0.2,
            "count": 23
           },
           {
            "bin_start": 0.2,
            "bin_end": 0.30000000000000004,
            "count": 28
           },
           {
            "bin_start": 0.30000000000000004,
            "bin_end": 0.4,
            "count": 28
           },
           {
            "bin_start": 0.4,
            "bin_end": 0.5,
            "count": 2
           },
           {
            "bin_start": 0.5,
            "bin_end": 0.6000000000000001,
            "count": 0
           },
           {
            "bin_start": 0.6000000000000001,
            "bin_end": 0.7000000000000001,
            "count": 0
           },
           {
            "bin_start": 0.7000000000000001,
            "bin_end": 0.8,
            "count": 0
           },
           {
            "bin_start": 0.8,
            "bin_end": 0.9,
            "count": 0
           },
           {
            "bin_start": 0.9,
            "bin_end": 1,
            "count": 1
           }
          ]
         }
        },
        {
         "name": "13",
         "dtype": "float64",
         "stats": {
          "unique_count": 93,
          "nan_count": 0,
          "min": "0.0",
          "max": "1.0",
          "histogram": [
           {
            "bin_start": 0,
            "bin_end": 0.1,
            "count": 5
           },
           {
            "bin_start": 0.1,
            "bin_end": 0.2,
            "count": 12
           },
           {
            "bin_start": 0.2,
            "bin_end": 0.30000000000000004,
            "count": 11
           },
           {
            "bin_start": 0.30000000000000004,
            "bin_end": 0.4,
            "count": 18
           },
           {
            "bin_start": 0.4,
            "bin_end": 0.5,
            "count": 15
           },
           {
            "bin_start": 0.5,
            "bin_end": 0.6000000000000001,
            "count": 6
           },
           {
            "bin_start": 0.6000000000000001,
            "bin_end": 0.7000000000000001,
            "count": 9
           },
           {
            "bin_start": 0.7000000000000001,
            "bin_end": 0.8,
            "count": 12
           },
           {
            "bin_start": 0.8,
            "bin_end": 0.9,
            "count": 4
           },
           {
            "bin_start": 0.9,
            "bin_end": 1,
            "count": 1
           }
          ]
         }
        },
        {
         "name": "14",
         "dtype": "float64",
         "stats": {
          "unique_count": 93,
          "nan_count": 0,
          "min": "0.0",
          "max": "1.0",
          "histogram": [
           {
            "bin_start": 0,
            "bin_end": 0.1,
            "count": 33
           },
           {
            "bin_start": 0.1,
            "bin_end": 0.2,
            "count": 30
           },
           {
            "bin_start": 0.2,
            "bin_end": 0.30000000000000004,
            "count": 17
           },
           {
            "bin_start": 0.30000000000000004,
            "bin_end": 0.4,
            "count": 12
           },
           {
            "bin_start": 0.4,
            "bin_end": 0.5,
            "count": 0
           },
           {
            "bin_start": 0.5,
            "bin_end": 0.6000000000000001,
            "count": 0
           },
           {
            "bin_start": 0.6000000000000001,
            "bin_end": 0.7000000000000001,
            "count": 0
           },
           {
            "bin_start": 0.7000000000000001,
            "bin_end": 0.8,
            "count": 0
           },
           {
            "bin_start": 0.8,
            "bin_end": 0.9,
            "count": 0
           },
           {
            "bin_start": 0.9,
            "bin_end": 1,
            "count": 1
           }
          ]
         }
        },
        {
         "name": "15",
         "dtype": "float64",
         "stats": {
          "unique_count": 93,
          "nan_count": 0,
          "min": "0.0",
          "max": "1.0",
          "histogram": [
           {
            "bin_start": 0,
            "bin_end": 0.1,
            "count": 17
           },
           {
            "bin_start": 0.1,
            "bin_end": 0.2,
            "count": 34
           },
           {
            "bin_start": 0.2,
            "bin_end": 0.30000000000000004,
            "count": 18
           },
           {
            "bin_start": 0.30000000000000004,
            "bin_end": 0.4,
            "count": 17
           },
           {
            "bin_start": 0.4,
            "bin_end": 0.5,
            "count": 6
           },
           {
            "bin_start": 0.5,
            "bin_end": 0.6000000000000001,
            "count": 0
           },
           {
            "bin_start": 0.6000000000000001,
            "bin_end": 0.7000000000000001,
            "count": 0
           },
           {
            "bin_start": 0.7000000000000001,
            "bin_end": 0.8,
            "count": 0
           },
           {
            "bin_start": 0.8,
            "bin_end": 0.9,
            "count": 0
           },
           {
            "bin_start": 0.9,
            "bin_end": 1,
            "count": 1
           }
          ]
         }
        },
        {
         "name": "16",
         "dtype": "float64",
         "stats": {
          "unique_count": 93,
          "nan_count": 0,
          "min": "0.0",
          "max": "1.0",
          "histogram": [
           {
            "bin_start": 0,
            "bin_end": 0.1,
            "count": 4
           },
           {
            "bin_start": 0.1,
            "bin_end": 0.2,
            "count": 8
           },
           {
            "bin_start": 0.2,
            "bin_end": 0.30000000000000004,
            "count": 18
           },
           {
            "bin_start": 0.30000000000000004,
            "bin_end": 0.4,
            "count": 21
           },
           {
            "bin_start": 0.4,
            "bin_end": 0.5,
            "count": 12
           },
           {
            "bin_start": 0.5,
            "bin_end": 0.6000000000000001,
            "count": 16
           },
           {
            "bin_start": 0.6000000000000001,
            "bin_end": 0.7000000000000001,
            "count": 13
           },
           {
            "bin_start": 0.7000000000000001,
            "bin_end": 0.8,
            "count": 0
           },
           {
            "bin_start": 0.8,
            "bin_end": 0.9,
            "count": 0
           },
           {
            "bin_start": 0.9,
            "bin_end": 1,
            "count": 1
           }
          ]
         }
        },
        {
         "name": "17",
         "dtype": "float64",
         "stats": {
          "unique_count": 91,
          "nan_count": 0,
          "min": "0.0",
          "max": "1.0",
          "histogram": [
           {
            "bin_start": 0,
            "bin_end": 0.1,
            "count": 20
           },
           {
            "bin_start": 0.1,
            "bin_end": 0.2,
            "count": 42
           },
           {
            "bin_start": 0.2,
            "bin_end": 0.30000000000000004,
            "count": 27
           },
           {
            "bin_start": 0.30000000000000004,
            "bin_end": 0.4,
            "count": 3
           },
           {
            "bin_start": 0.4,
            "bin_end": 0.5,
            "count": 0
           },
           {
            "bin_start": 0.5,
            "bin_end": 0.6000000000000001,
            "count": 0
           },
           {
            "bin_start": 0.6000000000000001,
            "bin_end": 0.7000000000000001,
            "count": 0
           },
           {
            "bin_start": 0.7000000000000001,
            "bin_end": 0.8,
            "count": 0
           },
           {
            "bin_start": 0.8,
            "bin_end": 0.9,
            "count": 0
           },
           {
            "bin_start": 0.9,
            "bin_end": 1,
            "count": 1
           }
          ]
         }
        },
        {
         "name": "18",
         "dtype": "float64",
         "stats": {
          "unique_count": 93,
          "nan_count": 0,
          "min": "0.025810129693573325",
          "max": "1.0",
          "histogram": [
           {
            "bin_start": 0.025810129693573325,
            "bin_end": 0.12322911672421599,
            "count": 6
           },
           {
            "bin_start": 0.12322911672421599,
            "bin_end": 0.22064810375485866,
            "count": 17
           },
           {
            "bin_start": 0.22064810375485866,
            "bin_end": 0.3180670907855013,
            "count": 13
           },
           {
            "bin_start": 0.3180670907855013,
            "bin_end": 0.415486077816144,
            "count": 18
           },
           {
            "bin_start": 0.415486077816144,
            "bin_end": 0.5129050648467867,
            "count": 11
           },
           {
            "bin_start": 0.5129050648467867,
            "bin_end": 0.6103240518774293,
            "count": 9
           },
           {
            "bin_start": 0.6103240518774293,
            "bin_end": 0.707743038908072,
            "count": 15
           },
           {
            "bin_start": 0.707743038908072,
            "bin_end": 0.8051620259387147,
            "count": 3
           },
           {
            "bin_start": 0.8051620259387147,
            "bin_end": 0.9025810129693573,
            "count": 0
           },
           {
            "bin_start": 0.9025810129693573,
            "bin_end": 1,
            "count": 1
           }
          ]
         }
        },
        {
         "name": "19",
         "dtype": "float64",
         "stats": {
          "unique_count": 93,
          "nan_count": 0,
          "min": "0.0",
          "max": "1.0",
          "histogram": [
           {
            "bin_start": 0,
            "bin_end": 0.1,
            "count": 7
           },
           {
            "bin_start": 0.1,
            "bin_end": 0.2,
            "count": 14
           },
           {
            "bin_start": 0.2,
            "bin_end": 0.30000000000000004,
            "count": 23
           },
           {
            "bin_start": 0.30000000000000004,
            "bin_end": 0.4,
            "count": 21
           },
           {
            "bin_start": 0.4,
            "bin_end": 0.5,
            "count": 15
           },
           {
            "bin_start": 0.5,
            "bin_end": 0.6000000000000001,
            "count": 11
           },
           {
            "bin_start": 0.6000000000000001,
            "bin_end": 0.7000000000000001,
            "count": 1
           },
           {
            "bin_start": 0.7000000000000001,
            "bin_end": 0.8,
            "count": 0
           },
           {
            "bin_start": 0.8,
            "bin_end": 0.9,
            "count": 0
           },
           {
            "bin_start": 0.9,
            "bin_end": 1,
            "count": 1
           }
          ]
         }
        },
        {
         "name": "2",
         "dtype": "float64",
         "stats": {
          "unique_count": 93,
          "nan_count": 0,
          "min": "0.0",
          "max": "1.0",
          "histogram": [
           {
            "bin_start": 0,
            "bin_end": 0.1,
            "count": 6
           },
           {
            "bin_start": 0.1,
            "bin_end": 0.2,
            "count": 19
           },
           {
            "bin_start": 0.2,
            "bin_end": 0.30000000000000004,
            "count": 18
           },
           {
            "bin_start": 0.30000000000000004,
            "bin_end": 0.4,
            "count": 16
           },
           {
            "bin_start": 0.4,
            "bin_end": 0.5,
            "count": 18
           },
           {
            "bin_start": 0.5,
            "bin_end": 0.6000000000000001,
            "count": 15
           },
           {
            "bin_start": 0.6000000000000001,
            "bin_end": 0.7000000000000001,
            "count": 0
           },
           {
            "bin_start": 0.7000000000000001,
            "bin_end": 0.8,
            "count": 0
           },
           {
            "bin_start": 0.8,
            "bin_end": 0.9,
            "count": 0
           },
           {
            "bin_start": 0.9,
            "bin_end": 1,
            "count": 1
           }
          ]
         }
        },
        {
         "name": "20",
         "dtype": "float64",
         "stats": {
          "unique_count": 93,
          "nan_count": 0,
          "min": "0.0",
          "max": "1.0",
          "histogram": [
           {
            "bin_start": 0,
            "bin_end": 0.1,
            "count": 14
           },
           {
            "bin_start": 0.1,
            "bin_end": 0.2,
            "count": 30
           },
           {
            "bin_start": 0.2,
            "bin_end": 0.30000000000000004,
            "count": 19
           },
           {
            "bin_start": 0.30000000000000004,
            "bin_end": 0.4,
            "count": 13
           },
           {
            "bin_start": 0.4,
            "bin_end": 0.5,
            "count": 15
           },
           {
            "bin_start": 0.5,
            "bin_end": 0.6000000000000001,
            "count": 1
           },
           {
            "bin_start": 0.6000000000000001,
            "bin_end": 0.7000000000000001,
            "count": 0
           },
           {
            "bin_start": 0.7000000000000001,
            "bin_end": 0.8,
            "count": 0
           },
           {
            "bin_start": 0.8,
            "bin_end": 0.9,
            "count": 0
           },
           {
            "bin_start": 0.9,
            "bin_end": 1,
            "count": 1
           }
          ]
         }
        },
        {
         "name": "21",
         "dtype": "float64",
         "stats": {
          "unique_count": 93,
          "nan_count": 0,
          "min": "0.028763925011147995",
          "max": "1.0",
          "histogram": [
           {
            "bin_start": 0.028763925011147995,
            "bin_end": 0.1258875325100332,
            "count": 9
           },
           {
            "bin_start": 0.1258875325100332,
            "bin_end": 0.2230111400089184,
            "count": 13
           },
           {
            "bin_start": 0.2230111400089184,
            "bin_end": 0.3201347475078036,
            "count": 15
           },
           {
            "bin_start": 0.3201347475078036,
            "bin_end": 0.4172583550066888,
            "count": 15
           },
           {
            "bin_start": 0.4172583550066888,
            "bin_end": 0.514381962505574,
            "count": 9
           },
           {
            "bin_start": 0.514381962505574,
            "bin_end": 0.6115055700044592,
            "count": 7
           },
           {
            "bin_start": 0.6115055700044592,
            "bin_end": 0.7086291775033444,
            "count": 13
           },
           {
            "bin_start": 0.7086291775033444,
            "bin_end": 0.8057527850022296,
            "count": 11
           },
           {
            "bin_start": 0.8057527850022296,
            "bin_end": 0.9028763925011147,
            "count": 0
           },
           {
            "bin_start": 0.9028763925011147,
            "bin_end": 1,
            "count": 1
           }
          ]
         }
        },
        {
         "name": "22",
         "dtype": "float64",
         "stats": {
          "unique_count": 93,
          "nan_count": 0,
          "min": "0.0",
          "max": "1.0",
          "histogram": [
           {
            "bin_start": 0,
            "bin_end": 0.1,
            "count": 6
           },
           {
            "bin_start": 0.1,
            "bin_end": 0.2,
            "count": 15
           },
           {
            "bin_start": 0.2,
            "bin_end": 0.30000000000000004,
            "count": 41
           },
           {
            "bin_start": 0.30000000000000004,
            "bin_end": 0.4,
            "count": 14
           },
           {
            "bin_start": 0.4,
            "bin_end": 0.5,
            "count": 16
           },
           {
            "bin_start": 0.5,
            "bin_end": 0.6000000000000001,
            "count": 0
           },
           {
            "bin_start": 0.6000000000000001,
            "bin_end": 0.7000000000000001,
            "count": 0
           },
           {
            "bin_start": 0.7000000000000001,
            "bin_end": 0.8,
            "count": 0
           },
           {
            "bin_start": 0.8,
            "bin_end": 0.9,
            "count": 0
           },
           {
            "bin_start": 0.9,
            "bin_end": 1,
            "count": 1
           }
          ]
         }
        },
        {
         "name": "23",
         "dtype": "float64",
         "stats": {
          "unique_count": 90,
          "nan_count": 0,
          "min": "0.0",
          "max": "1.0",
          "histogram": [
           {
            "bin_start": 0,
            "bin_end": 0.1,
            "count": 39
           },
           {
            "bin_start": 0.1,
            "bin_end": 0.2,
            "count": 27
           },
           {
            "bin_start": 0.2,
            "bin_end": 0.30000000000000004,
            "count": 14
           },
           {
            "bin_start": 0.30000000000000004,
            "bin_end": 0.4,
            "count": 12
           },
           {
            "bin_start": 0.4,
            "bin_end": 0.5,
            "count": 0
           },
           {
            "bin_start": 0.5,
            "bin_end": 0.6000000000000001,
            "count": 0
           },
           {
            "bin_start": 0.6000000000000001,
            "bin_end": 0.7000000000000001,
            "count": 0
           },
           {
            "bin_start": 0.7000000000000001,
            "bin_end": 0.8,
            "count": 0
           },
           {
            "bin_start": 0.8,
            "bin_end": 0.9,
            "count": 0
           },
           {
            "bin_start": 0.9,
            "bin_end": 1,
            "count": 1
           }
          ]
         }
        },
        {
         "name": "24",
         "dtype": "float64",
         "stats": {
          "unique_count": 93,
          "nan_count": 0,
          "min": "0.0",
          "max": "1.0",
          "histogram": [
           {
            "bin_start": 0,
            "bin_end": 0.1,
            "count": 25
           },
           {
            "bin_start": 0.1,
            "bin_end": 0.2,
            "count": 36
           },
           {
            "bin_start": 0.2,
            "bin_end": 0.30000000000000004,
            "count": 16
           },
           {
            "bin_start": 0.30000000000000004,
            "bin_end": 0.4,
            "count": 15
           },
           {
            "bin_start": 0.4,
            "bin_end": 0.5,
            "count": 0
           },
           {
            "bin_start": 0.5,
            "bin_end": 0.6000000000000001,
            "count": 0
           },
           {
            "bin_start": 0.6000000000000001,
            "bin_end": 0.7000000000000001,
            "count": 0
           },
           {
            "bin_start": 0.7000000000000001,
            "bin_end": 0.8,
            "count": 0
           },
           {
            "bin_start": 0.8,
            "bin_end": 0.9,
            "count": 0
           },
           {
            "bin_start": 0.9,
            "bin_end": 1,
            "count": 1
           }
          ]
         }
        },
        {
         "name": "249",
         "dtype": "float64",
         "stats": {
          "unique_count": 93,
          "nan_count": 0,
          "min": "0.05082707609182324",
          "max": "1.0",
          "histogram": [
           {
            "bin_start": 0.05082707609182324,
            "bin_end": 0.1457443684826409,
            "count": 4
           },
           {
            "bin_start": 0.1457443684826409,
            "bin_end": 0.24066166087345858,
            "count": 15
           },
           {
            "bin_start": 0.24066166087345858,
            "bin_end": 0.3355789532642762,
            "count": 18
           },
           {
            "bin_start": 0.3355789532642762,
            "bin_end": 0.4304962456550939,
            "count": 19
           },
           {
            "bin_start": 0.4304962456550939,
            "bin_end": 0.5254135380459116,
            "count": 8
           },
           {
            "bin_start": 0.5254135380459116,
            "bin_end": 0.6203308304367292,
            "count": 11
           },
           {
            "bin_start": 0.6203308304367292,
            "bin_end": 0.7152481228275469,
            "count": 14
           },
           {
            "bin_start": 0.7152481228275469,
            "bin_end": 0.8101654152183646,
            "count": 3
           },
           {
            "bin_start": 0.8101654152183646,
            "bin_end": 0.9050827076091823,
            "count": 0
           },
           {
            "bin_start": 0.9050827076091823,
            "bin_end": 1,
            "count": 1
           }
          ]
         }
        },
        {
         "name": "25",
         "dtype": "float64",
         "stats": {
          "unique_count": 93,
          "nan_count": 0,
          "min": "0.004879704482851244",
          "max": "1.0",
          "histogram": [
           {
            "bin_start": 0.004879704482851244,
            "bin_end": 0.10439173403456611,
            "count": 15
           },
           {
            "bin_start": 0.10439173403456611,
            "bin_end": 0.20390376358628098,
            "count": 30
           },
           {
            "bin_start": 0.20390376358628098,
            "bin_end": 0.3034157931379958,
            "count": 25
           },
           {
            "bin_start": 0.3034157931379958,
            "bin_end": 0.4029278226897107,
            "count": 21
           },
           {
            "bin_start": 0.4029278226897107,
            "bin_end": 0.5024398522414256,
            "count": 1
           },
           {
            "bin_start": 0.5024398522414256,
            "bin_end": 0.6019518817931404,
            "count": 0
           },
           {
            "bin_start": 0.6019518817931404,
            "bin_end": 0.7014639113448553,
            "count": 0
           },
           {
            "bin_start": 0.7014639113448553,
            "bin_end": 0.8009759408965702,
            "count": 0
           },
           {
            "bin_start": 0.8009759408965702,
            "bin_end": 0.9004879704482851,
            "count": 0
           },
           {
            "bin_start": 0.9004879704482851,
            "bin_end": 1,
            "count": 1
           }
          ]
         }
        },
        {
         "name": "250",
         "dtype": "float64",
         "stats": {
          "unique_count": 93,
          "nan_count": 0,
          "min": "0.04613520928430759",
          "max": "1.0",
          "histogram": [
           {
            "bin_start": 0.04613520928430759,
            "bin_end": 0.14152168835587683,
            "count": 7
           },
           {
            "bin_start": 0.14152168835587683,
            "bin_end": 0.23690816742744608,
            "count": 21
           },
           {
            "bin_start": 0.23690816742744608,
            "bin_end": 0.3322946464990153,
            "count": 14
           },
           {
            "bin_start": 0.3322946464990153,
            "bin_end": 0.4276811255705846,
            "count": 16
           },
           {
            "bin_start": 0.4276811255705846,
            "bin_end": 0.5230676046421538,
            "count": 11
           },
           {
            "bin_start": 0.5230676046421538,
            "bin_end": 0.618454083713723,
            "count": 17
           },
           {
            "bin_start": 0.618454083713723,
            "bin_end": 0.7138405627852923,
            "count": 6
           },
           {
            "bin_start": 0.7138405627852923,
            "bin_end": 0.8092270418568616,
            "count": 0
           },
           {
            "bin_start": 0.8092270418568616,
            "bin_end": 0.9046135209284308,
            "count": 0
           },
           {
            "bin_start": 0.9046135209284308,
            "bin_end": 1,
            "count": 1
           }
          ]
         }
        },
        {
         "name": "251",
         "dtype": "float64",
         "stats": {
          "unique_count": 93,
          "nan_count": 0,
          "min": "0.03638291800390514",
          "max": "1.0",
          "histogram": [
           {
            "bin_start": 0.03638291800390514,
            "bin_end": 0.13274462620351463,
            "count": 7
           },
           {
            "bin_start": 0.13274462620351463,
            "bin_end": 0.2291063344031241,
            "count": 11
           },
           {
            "bin_start": 0.2291063344031241,
            "bin_end": 0.3254680426027336,
            "count": 15
           },
           {
            "bin_start": 0.3254680426027336,
            "bin_end": 0.4218297508023431,
            "count": 20
           },
           {
            "bin_start": 0.4218297508023431,
            "bin_end": 0.5181914590019525,
            "count": 6
           },
           {
            "bin_start": 0.5181914590019525,
            "bin_end": 0.6145531672015621,
            "count": 8
           },
           {
            "bin_start": 0.6145531672015621,
            "bin_end": 0.7109148754011715,
            "count": 9
           },
           {
            "bin_start": 0.7109148754011715,
            "bin_end": 0.807276583600781,
            "count": 13
           },
           {
            "bin_start": 0.807276583600781,
            "bin_end": 0.9036382918003906,
            "count": 3
           },
           {
            "bin_start": 0.9036382918003906,
            "bin_end": 1,
            "count": 1
           }
          ]
         }
        },
        {
         "name": "252",
         "dtype": "float64",
         "stats": {
          "unique_count": 93,
          "nan_count": 0,
          "min": "0.0",
          "max": "1.0",
          "histogram": [
           {
            "bin_start": 0,
            "bin_end": 0.1,
            "count": 7
           },
           {
            "bin_start": 0.1,
            "bin_end": 0.2,
            "count": 22
           },
           {
            "bin_start": 0.2,
            "bin_end": 0.30000000000000004,
            "count": 31
           },
           {
            "bin_start": 0.30000000000000004,
            "bin_end": 0.4,
            "count": 14
           },
           {
            "bin_start": 0.4,
            "bin_end": 0.5,
            "count": 18
           },
           {
            "bin_start": 0.5,
            "bin_end": 0.6000000000000001,
            "count": 0
           },
           {
            "bin_start": 0.6000000000000001,
            "bin_end": 0.7000000000000001,
            "count": 0
           },
           {
            "bin_start": 0.7000000000000001,
            "bin_end": 0.8,
            "count": 0
           },
           {
            "bin_start": 0.8,
            "bin_end": 0.9,
            "count": 0
           },
           {
            "bin_start": 0.9,
            "bin_end": 1,
            "count": 1
           }
          ]
         }
        },
        {
         "name": "253",
         "dtype": "float64",
         "stats": {
          "unique_count": 93,
          "nan_count": 0,
          "min": "0.02655604554028257",
          "max": "1.0",
          "histogram": [
           {
            "bin_start": 0.02655604554028257,
            "bin_end": 0.12390044098625431,
            "count": 5
           },
           {
            "bin_start": 0.12390044098625431,
            "bin_end": 0.22124483643222606,
            "count": 17
           },
           {
            "bin_start": 0.22124483643222606,
            "bin_end": 0.3185892318781978,
            "count": 23
           },
           {
            "bin_start": 0.3185892318781978,
            "bin_end": 0.41593362732416955,
            "count": 17
           },
           {
            "bin_start": 0.41593362732416955,
            "bin_end": 0.5132780227701412,
            "count": 24
           },
           {
            "bin_start": 0.5132780227701412,
            "bin_end": 0.6106224182161131,
            "count": 6
           },
           {
            "bin_start": 0.6106224182161131,
            "bin_end": 0.7079668136620848,
            "count": 0
           },
           {
            "bin_start": 0.7079668136620848,
            "bin_end": 0.8053112091080565,
            "count": 0
           },
           {
            "bin_start": 0.8053112091080565,
            "bin_end": 0.9026556045540283,
            "count": 0
           },
           {
            "bin_start": 0.9026556045540283,
            "bin_end": 1,
            "count": 1
           }
          ]
         }
        },
        {
         "name": "254",
         "dtype": "float64",
         "stats": {
          "unique_count": 93,
          "nan_count": 0,
          "min": "0.05447913999851861",
          "max": "1.0",
          "histogram": [
           {
            "bin_start": 0.05447913999851861,
            "bin_end": 0.14903122599866675,
            "count": 5
           },
           {
            "bin_start": 0.14903122599866675,
            "bin_end": 0.2435833119988149,
            "count": 13
           },
           {
            "bin_start": 0.2435833119988149,
            "bin_end": 0.338135397998963,
            "count": 18
           },
           {
            "bin_start": 0.338135397998963,
            "bin_end": 0.43268748399911117,
            "count": 14
           },
           {
            "bin_start": 0.43268748399911117,
            "bin_end": 0.5272395699992594,
            "count": 10
           },
           {
            "bin_start": 0.5272395699992594,
            "bin_end": 0.6217916559994074,
            "count": 14
           },
           {
            "bin_start": 0.6217916559994074,
            "bin_end": 0.7163437419995556,
            "count": 14
           },
           {
            "bin_start": 0.7163437419995556,
            "bin_end": 0.8108958279997037,
            "count": 4
           },
           {
            "bin_start": 0.8108958279997037,
            "bin_end": 0.9054479139998518,
            "count": 0
           },
           {
            "bin_start": 0.9054479139998518,
            "bin_end": 1,
            "count": 1
           }
          ]
         }
        },
        {
         "name": "255",
         "dtype": "float64",
         "stats": {
          "unique_count": 93,
          "nan_count": 0,
          "min": "0.0",
          "max": "1.0",
          "histogram": [
           {
            "bin_start": 0,
            "bin_end": 0.1,
            "count": 5
           },
           {
            "bin_start": 0.1,
            "bin_end": 0.2,
            "count": 15
           },
           {
            "bin_start": 0.2,
            "bin_end": 0.30000000000000004,
            "count": 20
           },
           {
            "bin_start": 0.30000000000000004,
            "bin_end": 0.4,
            "count": 25
           },
           {
            "bin_start": 0.4,
            "bin_end": 0.5,
            "count": 20
           },
           {
            "bin_start": 0.5,
            "bin_end": 0.6000000000000001,
            "count": 7
           },
           {
            "bin_start": 0.6000000000000001,
            "bin_end": 0.7000000000000001,
            "count": 0
           },
           {
            "bin_start": 0.7000000000000001,
            "bin_end": 0.8,
            "count": 0
           },
           {
            "bin_start": 0.8,
            "bin_end": 0.9,
            "count": 0
           },
           {
            "bin_start": 0.9,
            "bin_end": 1,
            "count": 1
           }
          ]
         }
        },
        {
         "name": "256",
         "dtype": "float64",
         "stats": {
          "unique_count": 93,
          "nan_count": 0,
          "min": "0.0024540419553862325",
          "max": "1.0",
          "histogram": [
           {
            "bin_start": 0.0024540419553862325,
            "bin_end": 0.1022086377598476,
            "count": 13
           },
           {
            "bin_start": 0.1022086377598476,
            "bin_end": 0.20196323356430898,
            "count": 34
           },
           {
            "bin_start": 0.20196323356430898,
            "bin_end": 0.30171782936877034,
            "count": 25
           },
           {
            "bin_start": 0.30171782936877034,
            "bin_end": 0.40147242517323173,
            "count": 17
           },
           {
            "bin_start": 0.40147242517323173,
            "bin_end": 0.5012270209776931,
            "count": 3
           },
           {
            "bin_start": 0.5012270209776931,
            "bin_end": 0.6009816167821544,
            "count": 0
           },
           {
            "bin_start": 0.6009816167821544,
            "bin_end": 0.7007362125866159,
            "count": 0
           },
           {
            "bin_start": 0.7007362125866159,
            "bin_end": 0.8004908083910772,
            "count": 0
           },
           {
            "bin_start": 0.8004908083910772,
            "bin_end": 0.9002454041955386,
            "count": 0
           },
           {
            "bin_start": 0.9002454041955386,
            "bin_end": 1,
            "count": 1
           }
          ]
         }
        },
        {
         "name": "257",
         "dtype": "float64",
         "stats": {
          "unique_count": 93,
          "nan_count": 0,
          "min": "0.0",
          "max": "1.0",
          "histogram": [
           {
            "bin_start": 0,
            "bin_end": 0.1,
            "count": 3
           },
           {
            "bin_start": 0.1,
            "bin_end": 0.2,
            "count": 12
           },
           {
            "bin_start": 0.2,
            "bin_end": 0.30000000000000004,
            "count": 26
           },
           {
            "bin_start": 0.30000000000000004,
            "bin_end": 0.4,
            "count": 21
           },
           {
            "bin_start": 0.4,
            "bin_end": 0.5,
            "count": 16
           },
           {
            "bin_start": 0.5,
            "bin_end": 0.6000000000000001,
            "count": 14
           },
           {
            "bin_start": 0.6000000000000001,
            "bin_end": 0.7000000000000001,
            "count": 0
           },
           {
            "bin_start": 0.7000000000000001,
            "bin_end": 0.8,
            "count": 0
           },
           {
            "bin_start": 0.8,
            "bin_end": 0.9,
            "count": 0
           },
           {
            "bin_start": 0.9,
            "bin_end": 1,
            "count": 1
           }
          ]
         }
        },
        {
         "name": "258",
         "dtype": "float64",
         "stats": {
          "unique_count": 93,
          "nan_count": 0,
          "min": "0.030759184248634552",
          "max": "1.0",
          "histogram": [
           {
            "bin_start": 0.030759184248634552,
            "bin_end": 0.1276832658237711,
            "count": 6
           },
           {
            "bin_start": 0.1276832658237711,
            "bin_end": 0.22460734739890764,
            "count": 17
           },
           {
            "bin_start": 0.22460734739890764,
            "bin_end": 0.3215314289740442,
            "count": 22
           },
           {
            "bin_start": 0.3215314289740442,
            "bin_end": 0.41845551054918073,
            "count": 20
           },
           {
            "bin_start": 0.41845551054918073,
            "bin_end": 0.5153795921243173,
            "count": 15
           },
           {
            "bin_start": 0.5153795921243173,
            "bin_end": 0.6123036736994538,
            "count": 11
           },
           {
            "bin_start": 0.6123036736994538,
            "bin_end": 0.7092277552745904,
            "count": 1
           },
           {
            "bin_start": 0.7092277552745904,
            "bin_end": 0.8061518368497269,
            "count": 0
           },
           {
            "bin_start": 0.8061518368497269,
            "bin_end": 0.9030759184248635,
            "count": 0
           },
           {
            "bin_start": 0.9030759184248635,
            "bin_end": 1,
            "count": 1
           }
          ]
         }
        },
        {
         "name": "259",
         "dtype": "float64",
         "stats": {
          "unique_count": 93,
          "nan_count": 0,
          "min": "0.0",
          "max": "1.0",
          "histogram": [
           {
            "bin_start": 0,
            "bin_end": 0.1,
            "count": 6
           },
           {
            "bin_start": 0.1,
            "bin_end": 0.2,
            "count": 16
           },
           {
            "bin_start": 0.2,
            "bin_end": 0.30000000000000004,
            "count": 24
           },
           {
            "bin_start": 0.30000000000000004,
            "bin_end": 0.4,
            "count": 26
           },
           {
            "bin_start": 0.4,
            "bin_end": 0.5,
            "count": 15
           },
           {
            "bin_start": 0.5,
            "bin_end": 0.6000000000000001,
            "count": 5
           },
           {
            "bin_start": 0.6000000000000001,
            "bin_end": 0.7000000000000001,
            "count": 0
           },
           {
            "bin_start": 0.7000000000000001,
            "bin_end": 0.8,
            "count": 0
           },
           {
            "bin_start": 0.8,
            "bin_end": 0.9,
            "count": 0
           },
           {
            "bin_start": 0.9,
            "bin_end": 1,
            "count": 1
           }
          ]
         }
        },
        {
         "name": "26",
         "dtype": "float64",
         "stats": {
          "unique_count": 93,
          "nan_count": 0,
          "min": "0.0",
          "max": "1.0",
          "histogram": [
           {
            "bin_start": 0,
            "bin_end": 0.1,
            "count": 9
           },
           {
            "bin_start": 0.1,
            "bin_end": 0.2,
            "count": 33
           },
           {
            "bin_start": 0.2,
            "bin_end": 0.30000000000000004,
            "count": 27
           },
           {
            "bin_start": 0.30000000000000004,
            "bin_end": 0.4,
            "count": 15
           },
           {
            "bin_start": 0.4,
            "bin_end": 0.5,
            "count": 8
           },
           {
            "bin_start": 0.5,
            "bin_end": 0.6000000000000001,
            "count": 0
           },
           {
            "bin_start": 0.6000000000000001,
            "bin_end": 0.7000000000000001,
            "count": 0
           },
           {
            "bin_start": 0.7000000000000001,
            "bin_end": 0.8,
            "count": 0
           },
           {
            "bin_start": 0.8,
            "bin_end": 0.9,
            "count": 0
           },
           {
            "bin_start": 0.9,
            "bin_end": 1,
            "count": 1
           }
          ]
         }
        },
        {
         "name": "260",
         "dtype": "float64",
         "stats": {
          "unique_count": 93,
          "nan_count": 0,
          "min": "0.0",
          "max": "1.0",
          "histogram": [
           {
            "bin_start": 0,
            "bin_end": 0.1,
            "count": 5
           },
           {
            "bin_start": 0.1,
            "bin_end": 0.2,
            "count": 17
           },
           {
            "bin_start": 0.2,
            "bin_end": 0.30000000000000004,
            "count": 21
           },
           {
            "bin_start": 0.30000000000000004,
            "bin_end": 0.4,
            "count": 28
           },
           {
            "bin_start": 0.4,
            "bin_end": 0.5,
            "count": 16
           },
           {
            "bin_start": 0.5,
            "bin_end": 0.6000000000000001,
            "count": 5
           },
           {
            "bin_start": 0.6000000000000001,
            "bin_end": 0.7000000000000001,
            "count": 0
           },
           {
            "bin_start": 0.7000000000000001,
            "bin_end": 0.8,
            "count": 0
           },
           {
            "bin_start": 0.8,
            "bin_end": 0.9,
            "count": 0
           },
           {
            "bin_start": 0.9,
            "bin_end": 1,
            "count": 1
           }
          ]
         }
        },
        {
         "name": "261",
         "dtype": "float64",
         "stats": {
          "unique_count": 93,
          "nan_count": 0,
          "min": "0.0",
          "max": "1.0",
          "histogram": [
           {
            "bin_start": 0,
            "bin_end": 0.1,
            "count": 3
           },
           {
            "bin_start": 0.1,
            "bin_end": 0.2,
            "count": 18
           },
           {
            "bin_start": 0.2,
            "bin_end": 0.30000000000000004,
            "count": 20
           },
           {
            "bin_start": 0.30000000000000004,
            "bin_end": 0.4,
            "count": 24
           },
           {
            "bin_start": 0.4,
            "bin_end": 0.5,
            "count": 16
           },
           {
            "bin_start": 0.5,
            "bin_end": 0.6000000000000001,
            "count": 11
           },
           {
            "bin_start": 0.6000000000000001,
            "bin_end": 0.7000000000000001,
            "count": 0
           },
           {
            "bin_start": 0.7000000000000001,
            "bin_end": 0.8,
            "count": 0
           },
           {
            "bin_start": 0.8,
            "bin_end": 0.9,
            "count": 0
           },
           {
            "bin_start": 0.9,
            "bin_end": 1,
            "count": 1
           }
          ]
         }
        },
        {
         "name": "262",
         "dtype": "float64",
         "stats": {
          "unique_count": 93,
          "nan_count": 0,
          "min": "0.010187056054007382",
          "max": "1.0",
          "histogram": [
           {
            "bin_start": 0.010187056054007382,
            "bin_end": 0.10916835044860665,
            "count": 7
           },
           {
            "bin_start": 0.10916835044860665,
            "bin_end": 0.20814964484320592,
            "count": 17
           },
           {
            "bin_start": 0.20814964484320592,
            "bin_end": 0.3071309392378052,
            "count": 24
           },
           {
            "bin_start": 0.3071309392378052,
            "bin_end": 0.40611223363240445,
            "count": 20
           },
           {
            "bin_start": 0.40611223363240445,
            "bin_end": 0.5050935280270037,
            "count": 22
           },
           {
            "bin_start": 0.5050935280270037,
            "bin_end": 0.604074822421603,
            "count": 2
           },
           {
            "bin_start": 0.604074822421603,
            "bin_end": 0.7030561168162023,
            "count": 0
           },
           {
            "bin_start": 0.7030561168162023,
            "bin_end": 0.8020374112108015,
            "count": 0
           },
           {
            "bin_start": 0.8020374112108015,
            "bin_end": 0.9010187056054008,
            "count": 0
           },
           {
            "bin_start": 0.9010187056054008,
            "bin_end": 1,
            "count": 1
           }
          ]
         }
        },
        {
         "name": "263",
         "dtype": "float64",
         "stats": {
          "unique_count": 93,
          "nan_count": 0,
          "min": "0.03889673135000882",
          "max": "1.0",
          "histogram": [
           {
            "bin_start": 0.03889673135000882,
            "bin_end": 0.13500705821500794,
            "count": 4
           },
           {
            "bin_start": 0.13500705821500794,
            "bin_end": 0.23111738508000707,
            "count": 11
           },
           {
            "bin_start": 0.23111738508000707,
            "bin_end": 0.3272277119450062,
            "count": 15
           },
           {
            "bin_start": 0.3272277119450062,
            "bin_end": 0.4233380388100053,
            "count": 17
           },
           {
            "bin_start": 0.4233380388100053,
            "bin_end": 0.5194483656750044,
            "count": 17
           },
           {
            "bin_start": 0.5194483656750044,
            "bin_end": 0.6155586925400036,
            "count": 11
           },
           {
            "bin_start": 0.6155586925400036,
            "bin_end": 0.7116690194050027,
            "count": 15
           },
           {
            "bin_start": 0.7116690194050027,
            "bin_end": 0.8077793462700018,
            "count": 2
           },
           {
            "bin_start": 0.8077793462700018,
            "bin_end": 0.9038896731350009,
            "count": 0
           },
           {
            "bin_start": 0.9038896731350009,
            "bin_end": 1,
            "count": 1
           }
          ]
         }
        },
        {
         "name": "264",
         "dtype": "float64",
         "stats": {
          "unique_count": 93,
          "nan_count": 0,
          "min": "0.07990052009132931",
          "max": "1.0",
          "histogram": [
           {
            "bin_start": 0.07990052009132931,
            "bin_end": 0.17191046808219637,
            "count": 5
           },
           {
            "bin_start": 0.17191046808219637,
            "bin_end": 0.26392041607306344,
            "count": 11
           },
           {
            "bin_start": 0.26392041607306344,
            "bin_end": 0.3559303640639305,
            "count": 14
           },
           {
            "bin_start": 0.3559303640639305,
            "bin_end": 0.44794031205479756,
            "count": 19
           },
           {
            "bin_start": 0.44794031205479756,
            "bin_end": 0.5399502600456646,
            "count": 11
           },
           {
            "bin_start": 0.5399502600456646,
            "bin_end": 0.6319602080365317,
            "count": 9
           },
           {
            "bin_start": 0.6319602080365317,
            "bin_end": 0.7239701560273988,
            "count": 10
           },
           {
            "bin_start": 0.7239701560273988,
            "bin_end": 0.8159801040182658,
            "count": 11
           },
           {
            "bin_start": 0.8159801040182658,
            "bin_end": 0.9079900520091329,
            "count": 2
           },
           {
            "bin_start": 0.9079900520091329,
            "bin_end": 1,
            "count": 1
           }
          ]
         }
        },
        {
         "name": "265",
         "dtype": "float64",
         "stats": {
          "unique_count": 93,
          "nan_count": 0,
          "min": "0.017814307005896812",
          "max": "1.0",
          "histogram": [
           {
            "bin_start": 0.017814307005896812,
            "bin_end": 0.11603287630530713,
            "count": 7
           },
           {
            "bin_start": 0.11603287630530713,
            "bin_end": 0.21425144560471746,
            "count": 21
           },
           {
            "bin_start": 0.21425144560471746,
            "bin_end": 0.3124700149041278,
            "count": 35
           },
           {
            "bin_start": 0.3124700149041278,
            "bin_end": 0.4106885842035381,
            "count": 15
           },
           {
            "bin_start": 0.4106885842035381,
            "bin_end": 0.5089071535029484,
            "count": 13
           },
           {
            "bin_start": 0.5089071535029484,
            "bin_end": 0.6071257228023588,
            "count": 1
           },
           {
            "bin_start": 0.6071257228023588,
            "bin_end": 0.7053442921017691,
            "count": 0
           },
           {
            "bin_start": 0.7053442921017691,
            "bin_end": 0.8035628614011794,
            "count": 0
           },
           {
            "bin_start": 0.8035628614011794,
            "bin_end": 0.9017814307005897,
            "count": 0
           },
           {
            "bin_start": 0.9017814307005897,
            "bin_end": 1,
            "count": 1
           }
          ]
         }
        },
        {
         "name": "266",
         "dtype": "float64",
         "stats": {
          "unique_count": 93,
          "nan_count": 0,
          "min": "0.035512367320085114",
          "max": "1.0",
          "histogram": [
           {
            "bin_start": 0.035512367320085114,
            "bin_end": 0.1319611305880766,
            "count": 4
           },
           {
            "bin_start": 0.1319611305880766,
            "bin_end": 0.22840989385606808,
            "count": 16
           },
           {
            "bin_start": 0.22840989385606808,
            "bin_end": 0.3248586571240596,
            "count": 23
           },
           {
            "bin_start": 0.3248586571240596,
            "bin_end": 0.42130742039205105,
            "count": 22
           },
           {
            "bin_start": 0.42130742039205105,
            "bin_end": 0.5177561836600425,
            "count": 17
           },
           {
            "bin_start": 0.5177561836600425,
            "bin_end": 0.6142049469280341,
            "count": 9
           },
           {
            "bin_start": 0.6142049469280341,
            "bin_end": 0.7106537101960255,
            "count": 1
           },
           {
            "bin_start": 0.7106537101960255,
            "bin_end": 0.807102473464017,
            "count": 0
           },
           {
            "bin_start": 0.807102473464017,
            "bin_end": 0.9035512367320084,
            "count": 0
           },
           {
            "bin_start": 0.9035512367320084,
            "bin_end": 1,
            "count": 1
           }
          ]
         }
        },
        {
         "name": "267",
         "dtype": "float64",
         "stats": {
          "unique_count": 93,
          "nan_count": 0,
          "min": "0.014943323893833793",
          "max": "1.0",
          "histogram": [
           {
            "bin_start": 0.014943323893833793,
            "bin_end": 0.11344899150445041,
            "count": 9
           },
           {
            "bin_start": 0.11344899150445041,
            "bin_end": 0.21195465911506703,
            "count": 21
           },
           {
            "bin_start": 0.21195465911506703,
            "bin_end": 0.31046032672568363,
            "count": 41
           },
           {
            "bin_start": 0.31046032672568363,
            "bin_end": 0.40896599433630026,
            "count": 10
           },
           {
            "bin_start": 0.40896599433630026,
            "bin_end": 0.5074716619469168,
            "count": 11
           },
           {
            "bin_start": 0.5074716619469168,
            "bin_end": 0.6059773295575335,
            "count": 0
           },
           {
            "bin_start": 0.6059773295575335,
            "bin_end": 0.7044829971681501,
            "count": 0
           },
           {
            "bin_start": 0.7044829971681501,
            "bin_end": 0.8029886647787667,
            "count": 0
           },
           {
            "bin_start": 0.8029886647787667,
            "bin_end": 0.9014943323893834,
            "count": 0
           },
           {
            "bin_start": 0.9014943323893834,
            "bin_end": 1,
            "count": 1
           }
          ]
         }
        },
        {
         "name": "268",
         "dtype": "float64",
         "stats": {
          "unique_count": 93,
          "nan_count": 0,
          "min": "0.0",
          "max": "1.0",
          "histogram": [
           {
            "bin_start": 0,
            "bin_end": 0.1,
            "count": 10
           },
           {
            "bin_start": 0.1,
            "bin_end": 0.2,
            "count": 22
           },
           {
            "bin_start": 0.2,
            "bin_end": 0.30000000000000004,
            "count": 38
           },
           {
            "bin_start": 0.30000000000000004,
            "bin_end": 0.4,
            "count": 13
           },
           {
            "bin_start": 0.4,
            "bin_end": 0.5,
            "count": 9
           },
           {
            "bin_start": 0.5,
            "bin_end": 0.6000000000000001,
            "count": 0
           },
           {
            "bin_start": 0.6000000000000001,
            "bin_end": 0.7000000000000001,
            "count": 0
           },
           {
            "bin_start": 0.7000000000000001,
            "bin_end": 0.8,
            "count": 0
           },
           {
            "bin_start": 0.8,
            "bin_end": 0.9,
            "count": 0
           },
           {
            "bin_start": 0.9,
            "bin_end": 1,
            "count": 1
           }
          ]
         }
        },
        {
         "name": "269",
         "dtype": "float64",
         "stats": {
          "unique_count": 93,
          "nan_count": 0,
          "min": "0.0",
          "max": "1.0",
          "histogram": [
           {
            "bin_start": 0,
            "bin_end": 0.1,
            "count": 5
           },
           {
            "bin_start": 0.1,
            "bin_end": 0.2,
            "count": 9
           },
           {
            "bin_start": 0.2,
            "bin_end": 0.30000000000000004,
            "count": 6
           },
           {
            "bin_start": 0.30000000000000004,
            "bin_end": 0.4,
            "count": 18
           },
           {
            "bin_start": 0.4,
            "bin_end": 0.5,
            "count": 19
           },
           {
            "bin_start": 0.5,
            "bin_end": 0.6000000000000001,
            "count": 12
           },
           {
            "bin_start": 0.6000000000000001,
            "bin_end": 0.7000000000000001,
            "count": 14
           },
           {
            "bin_start": 0.7000000000000001,
            "bin_end": 0.8,
            "count": 9
           },
           {
            "bin_start": 0.8,
            "bin_end": 0.9,
            "count": 0
           },
           {
            "bin_start": 0.9,
            "bin_end": 1,
            "count": 1
           }
          ]
         }
        },
        {
         "name": "27",
         "dtype": "float64",
         "stats": {
          "unique_count": 93,
          "nan_count": 0,
          "min": "0.008812735305494979",
          "max": "1.0",
          "histogram": [
           {
            "bin_start": 0.008812735305494979,
            "bin_end": 0.10793146177494548,
            "count": 9
           },
           {
            "bin_start": 0.10793146177494548,
            "bin_end": 0.20705018824439597,
            "count": 23
           },
           {
            "bin_start": 0.20705018824439597,
            "bin_end": 0.30616891471384644,
            "count": 35
           },
           {
            "bin_start": 0.30616891471384644,
            "bin_end": 0.40528764118329696,
            "count": 15
           },
           {
            "bin_start": 0.40528764118329696,
            "bin_end": 0.5044063676527475,
            "count": 10
           },
           {
            "bin_start": 0.5044063676527475,
            "bin_end": 0.6035250941221979,
            "count": 0
           },
           {
            "bin_start": 0.6035250941221979,
            "bin_end": 0.7026438205916484,
            "count": 0
           },
           {
            "bin_start": 0.7026438205916484,
            "bin_end": 0.801762547061099,
            "count": 0
           },
           {
            "bin_start": 0.801762547061099,
            "bin_end": 0.9008812735305495,
            "count": 0
           },
           {
            "bin_start": 0.9008812735305495,
            "bin_end": 1,
            "count": 1
           }
          ]
         }
        },
        {
         "name": "270",
         "dtype": "float64",
         "stats": {
          "unique_count": 93,
          "nan_count": 0,
          "min": "0.042200667779618395",
          "max": "1.0",
          "histogram": [
           {
            "bin_start": 0.042200667779618395,
            "bin_end": 0.13798060100165654,
            "count": 11
           },
           {
            "bin_start": 0.13798060100165654,
            "bin_end": 0.23376053422369472,
            "count": 19
           },
           {
            "bin_start": 0.23376053422369472,
            "bin_end": 0.3295404674457329,
            "count": 34
           },
           {
            "bin_start": 0.3295404674457329,
            "bin_end": 0.42532040066777105,
            "count": 15
           },
           {
            "bin_start": 0.42532040066777105,
            "bin_end": 0.5211003338898093,
            "count": 13
           },
           {
            "bin_start": 0.5211003338898093,
            "bin_end": 0.6168802671118474,
            "count": 0
           },
           {
            "bin_start": 0.6168802671118474,
            "bin_end": 0.7126602003338856,
            "count": 0
           },
           {
            "bin_start": 0.7126602003338856,
            "bin_end": 0.8084401335559237,
            "count": 0
           },
           {
            "bin_start": 0.8084401335559237,
            "bin_end": 0.9042200667779619,
            "count": 0
           },
           {
            "bin_start": 0.9042200667779619,
            "bin_end": 1,
            "count": 1
           }
          ]
         }
        },
        {
         "name": "271",
         "dtype": "float64",
         "stats": {
          "unique_count": 93,
          "nan_count": 0,
          "min": "0.0005857730278480133",
          "max": "1.0",
          "histogram": [
           {
            "bin_start": 0.0005857730278480133,
            "bin_end": 0.10052719572506322,
            "count": 8
           },
           {
            "bin_start": 0.10052719572506322,
            "bin_end": 0.20046861842227842,
            "count": 14
           },
           {
            "bin_start": 0.20046861842227842,
            "bin_end": 0.30041004111949365,
            "count": 29
           },
           {
            "bin_start": 0.30041004111949365,
            "bin_end": 0.40035146381670883,
            "count": 27
           },
           {
            "bin_start": 0.40035146381670883,
            "bin_end": 0.500292886513924,
            "count": 10
           },
           {
            "bin_start": 0.500292886513924,
            "bin_end": 0.6002343092111393,
            "count": 4
           },
           {
            "bin_start": 0.6002343092111393,
            "bin_end": 0.7001757319083545,
            "count": 0
           },
           {
            "bin_start": 0.7001757319083545,
            "bin_end": 0.8001171546055696,
            "count": 0
           },
           {
            "bin_start": 0.8001171546055696,
            "bin_end": 0.9000585773027848,
            "count": 0
           },
           {
            "bin_start": 0.9000585773027848,
            "bin_end": 1,
            "count": 1
           }
          ]
         }
        },
        {
         "name": "272",
         "dtype": "float64",
         "stats": {
          "unique_count": 90,
          "nan_count": 0,
          "min": "0.0",
          "max": "1.0",
          "histogram": [
           {
            "bin_start": 0,
            "bin_end": 0.1,
            "count": 20
           },
           {
            "bin_start": 0.1,
            "bin_end": 0.2,
            "count": 39
           },
           {
            "bin_start": 0.2,
            "bin_end": 0.30000000000000004,
            "count": 16
           },
           {
            "bin_start": 0.30000000000000004,
            "bin_end": 0.4,
            "count": 17
           },
           {
            "bin_start": 0.4,
            "bin_end": 0.5,
            "count": 0
           },
           {
            "bin_start": 0.5,
            "bin_end": 0.6000000000000001,
            "count": 0
           },
           {
            "bin_start": 0.6000000000000001,
            "bin_end": 0.7000000000000001,
            "count": 0
           },
           {
            "bin_start": 0.7000000000000001,
            "bin_end": 0.8,
            "count": 0
           },
           {
            "bin_start": 0.8,
            "bin_end": 0.9,
            "count": 0
           },
           {
            "bin_start": 0.9,
            "bin_end": 1,
            "count": 1
           }
          ]
         }
        },
        {
         "name": "273",
         "dtype": "float64",
         "stats": {
          "unique_count": 93,
          "nan_count": 0,
          "min": "0.0",
          "max": "1.0",
          "histogram": [
           {
            "bin_start": 0,
            "bin_end": 0.1,
            "count": 2
           },
           {
            "bin_start": 0.1,
            "bin_end": 0.2,
            "count": 18
           },
           {
            "bin_start": 0.2,
            "bin_end": 0.30000000000000004,
            "count": 21
           },
           {
            "bin_start": 0.30000000000000004,
            "bin_end": 0.4,
            "count": 24
           },
           {
            "bin_start": 0.4,
            "bin_end": 0.5,
            "count": 19
           },
           {
            "bin_start": 0.5,
            "bin_end": 0.6000000000000001,
            "count": 8
           },
           {
            "bin_start": 0.6000000000000001,
            "bin_end": 0.7000000000000001,
            "count": 0
           },
           {
            "bin_start": 0.7000000000000001,
            "bin_end": 0.8,
            "count": 0
           },
           {
            "bin_start": 0.8,
            "bin_end": 0.9,
            "count": 0
           },
           {
            "bin_start": 0.9,
            "bin_end": 1,
            "count": 1
           }
          ]
         }
        },
        {
         "name": "274",
         "dtype": "float64",
         "stats": {
          "unique_count": 93,
          "nan_count": 0,
          "min": "0.0007429357525249314",
          "max": "1.0",
          "histogram": [
           {
            "bin_start": 0.0007429357525249314,
            "bin_end": 0.10066864217727244,
            "count": 3
           },
           {
            "bin_start": 0.10066864217727244,
            "bin_end": 0.20059434860201994,
            "count": 9
           },
           {
            "bin_start": 0.20059434860201994,
            "bin_end": 0.30052005502676743,
            "count": 15
           },
           {
            "bin_start": 0.30052005502676743,
            "bin_end": 0.40044576145151495,
            "count": 23
           },
           {
            "bin_start": 0.40044576145151495,
            "bin_end": 0.5003714678762625,
            "count": 20
           },
           {
            "bin_start": 0.5003714678762625,
            "bin_end": 0.6002971743010099,
            "count": 18
           },
           {
            "bin_start": 0.6002971743010099,
            "bin_end": 0.7002228807257574,
            "count": 4
           },
           {
            "bin_start": 0.7002228807257574,
            "bin_end": 0.800148587150505,
            "count": 0
           },
           {
            "bin_start": 0.800148587150505,
            "bin_end": 0.9000742935752525,
            "count": 0
           },
           {
            "bin_start": 0.9000742935752525,
            "bin_end": 1,
            "count": 1
           }
          ]
         }
        },
        {
         "name": "275",
         "dtype": "float64",
         "stats": {
          "unique_count": 93,
          "nan_count": 0,
          "min": "0.03577932054097366",
          "max": "1.0",
          "histogram": [
           {
            "bin_start": 0.03577932054097366,
            "bin_end": 0.1322013884868763,
            "count": 33
           },
           {
            "bin_start": 0.1322013884868763,
            "bin_end": 0.22862345643277893,
            "count": 33
           },
           {
            "bin_start": 0.22862345643277893,
            "bin_end": 0.32504552437868156,
            "count": 14
           },
           {
            "bin_start": 0.32504552437868156,
            "bin_end": 0.4214675923245842,
            "count": 9
           },
           {
            "bin_start": 0.4214675923245842,
            "bin_end": 0.5178896602704868,
            "count": 3
           },
           {
            "bin_start": 0.5178896602704868,
            "bin_end": 0.6143117282163895,
            "count": 0
           },
           {
            "bin_start": 0.6143117282163895,
            "bin_end": 0.710733796162292,
            "count": 0
           },
           {
            "bin_start": 0.710733796162292,
            "bin_end": 0.8071558641081947,
            "count": 0
           },
           {
            "bin_start": 0.8071558641081947,
            "bin_end": 0.9035779320540974,
            "count": 0
           },
           {
            "bin_start": 0.9035779320540974,
            "bin_end": 1,
            "count": 1
           }
          ]
         }
        },
        {
         "name": "276",
         "dtype": "float64",
         "stats": {
          "unique_count": 93,
          "nan_count": 0,
          "min": "0.0",
          "max": "1.0",
          "histogram": [
           {
            "bin_start": 0,
            "bin_end": 0.1,
            "count": 13
           },
           {
            "bin_start": 0.1,
            "bin_end": 0.2,
            "count": 43
           },
           {
            "bin_start": 0.2,
            "bin_end": 0.30000000000000004,
            "count": 21
           },
           {
            "bin_start": 0.30000000000000004,
            "bin_end": 0.4,
            "count": 15
           },
           {
            "bin_start": 0.4,
            "bin_end": 0.5,
            "count": 0
           },
           {
            "bin_start": 0.5,
            "bin_end": 0.6000000000000001,
            "count": 0
           },
           {
            "bin_start": 0.6000000000000001,
            "bin_end": 0.7000000000000001,
            "count": 0
           },
           {
            "bin_start": 0.7000000000000001,
            "bin_end": 0.8,
            "count": 0
           },
           {
            "bin_start": 0.8,
            "bin_end": 0.9,
            "count": 0
           },
           {
            "bin_start": 0.9,
            "bin_end": 1,
            "count": 1
           }
          ]
         }
        },
        {
         "name": "277",
         "dtype": "float64",
         "stats": {
          "unique_count": 93,
          "nan_count": 0,
          "min": "0.0",
          "max": "1.0",
          "histogram": [
           {
            "bin_start": 0,
            "bin_end": 0.1,
            "count": 4
           },
           {
            "bin_start": 0.1,
            "bin_end": 0.2,
            "count": 13
           },
           {
            "bin_start": 0.2,
            "bin_end": 0.30000000000000004,
            "count": 34
           },
           {
            "bin_start": 0.30000000000000004,
            "bin_end": 0.4,
            "count": 25
           },
           {
            "bin_start": 0.4,
            "bin_end": 0.5,
            "count": 15
           },
           {
            "bin_start": 0.5,
            "bin_end": 0.6000000000000001,
            "count": 1
           },
           {
            "bin_start": 0.6000000000000001,
            "bin_end": 0.7000000000000001,
            "count": 0
           },
           {
            "bin_start": 0.7000000000000001,
            "bin_end": 0.8,
            "count": 0
           },
           {
            "bin_start": 0.8,
            "bin_end": 0.9,
            "count": 0
           },
           {
            "bin_start": 0.9,
            "bin_end": 1,
            "count": 1
           }
          ]
         }
        },
        {
         "name": "278",
         "dtype": "float64",
         "stats": {
          "unique_count": 93,
          "nan_count": 0,
          "min": "0.0",
          "max": "1.0",
          "histogram": [
           {
            "bin_start": 0,
            "bin_end": 0.1,
            "count": 4
           },
           {
            "bin_start": 0.1,
            "bin_end": 0.2,
            "count": 12
           },
           {
            "bin_start": 0.2,
            "bin_end": 0.30000000000000004,
            "count": 29
           },
           {
            "bin_start": 0.30000000000000004,
            "bin_end": 0.4,
            "count": 29
           },
           {
            "bin_start": 0.4,
            "bin_end": 0.5,
            "count": 13
           },
           {
            "bin_start": 0.5,
            "bin_end": 0.6000000000000001,
            "count": 5
           },
           {
            "bin_start": 0.6000000000000001,
            "bin_end": 0.7000000000000001,
            "count": 0
           },
           {
            "bin_start": 0.7000000000000001,
            "bin_end": 0.8,
            "count": 0
           },
           {
            "bin_start": 0.8,
            "bin_end": 0.9,
            "count": 0
           },
           {
            "bin_start": 0.9,
            "bin_end": 1,
            "count": 1
           }
          ]
         }
        },
        {
         "name": "279",
         "dtype": "float64",
         "stats": {
          "unique_count": 93,
          "nan_count": 0,
          "min": "0.03675913519823193",
          "max": "1.0",
          "histogram": [
           {
            "bin_start": 0.03675913519823193,
            "bin_end": 0.13308322167840875,
            "count": 3
           },
           {
            "bin_start": 0.13308322167840875,
            "bin_end": 0.22940730815858554,
            "count": 10
           },
           {
            "bin_start": 0.22940730815858554,
            "bin_end": 0.32573139463876233,
            "count": 8
           },
           {
            "bin_start": 0.32573139463876233,
            "bin_end": 0.42205548111893915,
            "count": 26
           },
           {
            "bin_start": 0.42205548111893915,
            "bin_end": 0.518379567599116,
            "count": 15
           },
           {
            "bin_start": 0.518379567599116,
            "bin_end": 0.6147036540792927,
            "count": 13
           },
           {
            "bin_start": 0.6147036540792927,
            "bin_end": 0.7110277405594696,
            "count": 14
           },
           {
            "bin_start": 0.7110277405594696,
            "bin_end": 0.8073518270396464,
            "count": 3
           },
           {
            "bin_start": 0.8073518270396464,
            "bin_end": 0.9036759135198231,
            "count": 0
           },
           {
            "bin_start": 0.9036759135198231,
            "bin_end": 1,
            "count": 1
           }
          ]
         }
        },
        {
         "name": "28",
         "dtype": "float64",
         "stats": {
          "unique_count": 93,
          "nan_count": 0,
          "min": "0.0",
          "max": "1.0",
          "histogram": [
           {
            "bin_start": 0,
            "bin_end": 0.1,
            "count": 6
           },
           {
            "bin_start": 0.1,
            "bin_end": 0.2,
            "count": 30
           },
           {
            "bin_start": 0.2,
            "bin_end": 0.30000000000000004,
            "count": 38
           },
           {
            "bin_start": 0.30000000000000004,
            "bin_end": 0.4,
            "count": 8
           },
           {
            "bin_start": 0.4,
            "bin_end": 0.5,
            "count": 10
           },
           {
            "bin_start": 0.5,
            "bin_end": 0.6000000000000001,
            "count": 0
           },
           {
            "bin_start": 0.6000000000000001,
            "bin_end": 0.7000000000000001,
            "count": 0
           },
           {
            "bin_start": 0.7000000000000001,
            "bin_end": 0.8,
            "count": 0
           },
           {
            "bin_start": 0.8,
            "bin_end": 0.9,
            "count": 0
           },
           {
            "bin_start": 0.9,
            "bin_end": 1,
            "count": 1
           }
          ]
         }
        },
        {
         "name": "29",
         "dtype": "float64",
         "stats": {
          "unique_count": 76,
          "nan_count": 0,
          "min": "0.0",
          "max": "1.0",
          "histogram": [
           {
            "bin_start": 0,
            "bin_end": 0.1,
            "count": 61
           },
           {
            "bin_start": 0.1,
            "bin_end": 0.2,
            "count": 13
           },
           {
            "bin_start": 0.2,
            "bin_end": 0.30000000000000004,
            "count": 7
           },
           {
            "bin_start": 0.30000000000000004,
            "bin_end": 0.4,
            "count": 11
           },
           {
            "bin_start": 0.4,
            "bin_end": 0.5,
            "count": 0
           },
           {
            "bin_start": 0.5,
            "bin_end": 0.6000000000000001,
            "count": 0
           },
           {
            "bin_start": 0.6000000000000001,
            "bin_end": 0.7000000000000001,
            "count": 0
           },
           {
            "bin_start": 0.7000000000000001,
            "bin_end": 0.8,
            "count": 0
           },
           {
            "bin_start": 0.8,
            "bin_end": 0.9,
            "count": 0
           },
           {
            "bin_start": 0.9,
            "bin_end": 1,
            "count": 1
           }
          ]
         }
        },
        {
         "name": "3",
         "dtype": "float64",
         "stats": {
          "unique_count": 93,
          "nan_count": 0,
          "min": "0.09272692884097289",
          "max": "1.0",
          "histogram": [
           {
            "bin_start": 0.09272692884097289,
            "bin_end": 0.1834542359568756,
            "count": 4
           },
           {
            "bin_start": 0.1834542359568756,
            "bin_end": 0.2741815430727783,
            "count": 6
           },
           {
            "bin_start": 0.2741815430727783,
            "bin_end": 0.364908850188681,
            "count": 12
           },
           {
            "bin_start": 0.364908850188681,
            "bin_end": 0.45563615730458373,
            "count": 17
           },
           {
            "bin_start": 0.45563615730458373,
            "bin_end": 0.5463634644204864,
            "count": 24
           },
           {
            "bin_start": 0.5463634644204864,
            "bin_end": 0.6370907715363892,
            "count": 9
           },
           {
            "bin_start": 0.6370907715363892,
            "bin_end": 0.7278180786522919,
            "count": 10
           },
           {
            "bin_start": 0.7278180786522919,
            "bin_end": 0.8185453857681946,
            "count": 10
           },
           {
            "bin_start": 0.8185453857681946,
            "bin_end": 0.9092726928840973,
            "count": 0
           },
           {
            "bin_start": 0.9092726928840973,
            "bin_end": 1,
            "count": 1
           }
          ]
         }
        },
        {
         "name": "30",
         "dtype": "float64",
         "stats": {
          "unique_count": 93,
          "nan_count": 0,
          "min": "0.0",
          "max": "1.0",
          "histogram": [
           {
            "bin_start": 0,
            "bin_end": 0.1,
            "count": 41
           },
           {
            "bin_start": 0.1,
            "bin_end": 0.2,
            "count": 33
           },
           {
            "bin_start": 0.2,
            "bin_end": 0.30000000000000004,
            "count": 8
           },
           {
            "bin_start": 0.30000000000000004,
            "bin_end": 0.4,
            "count": 10
           },
           {
            "bin_start": 0.4,
            "bin_end": 0.5,
            "count": 0
           },
           {
            "bin_start": 0.5,
            "bin_end": 0.6000000000000001,
            "count": 0
           },
           {
            "bin_start": 0.6000000000000001,
            "bin_end": 0.7000000000000001,
            "count": 0
           },
           {
            "bin_start": 0.7000000000000001,
            "bin_end": 0.8,
            "count": 0
           },
           {
            "bin_start": 0.8,
            "bin_end": 0.9,
            "count": 0
           },
           {
            "bin_start": 0.9,
            "bin_end": 1,
            "count": 1
           }
          ]
         }
        },
        {
         "name": "31",
         "dtype": "float64",
         "stats": {
          "unique_count": 93,
          "nan_count": 0,
          "min": "0.0",
          "max": "1.0",
          "histogram": [
           {
            "bin_start": 0,
            "bin_end": 0.1,
            "count": 10
           },
           {
            "bin_start": 0.1,
            "bin_end": 0.2,
            "count": 25
           },
           {
            "bin_start": 0.2,
            "bin_end": 0.30000000000000004,
            "count": 35
           },
           {
            "bin_start": 0.30000000000000004,
            "bin_end": 0.4,
            "count": 12
           },
           {
            "bin_start": 0.4,
            "bin_end": 0.5,
            "count": 10
           },
           {
            "bin_start": 0.5,
            "bin_end": 0.6000000000000001,
            "count": 0
           },
           {
            "bin_start": 0.6000000000000001,
            "bin_end": 0.7000000000000001,
            "count": 0
           },
           {
            "bin_start": 0.7000000000000001,
            "bin_end": 0.8,
            "count": 0
           },
           {
            "bin_start": 0.8,
            "bin_end": 0.9,
            "count": 0
           },
           {
            "bin_start": 0.9,
            "bin_end": 1,
            "count": 1
           }
          ]
         }
        },
        {
         "name": "4",
         "dtype": "float64",
         "stats": {
          "unique_count": 93,
          "nan_count": 0,
          "min": "0.06050956345706204",
          "max": "1.0",
          "histogram": [
           {
            "bin_start": 0.06050956345706204,
            "bin_end": 0.15445860711135584,
            "count": 3
           },
           {
            "bin_start": 0.15445860711135584,
            "bin_end": 0.24840765076564963,
            "count": 7
           },
           {
            "bin_start": 0.24840765076564963,
            "bin_end": 0.34235669441994343,
            "count": 15
           },
           {
            "bin_start": 0.34235669441994343,
            "bin_end": 0.4363057380742372,
            "count": 28
           },
           {
            "bin_start": 0.4363057380742372,
            "bin_end": 0.530254781728531,
            "count": 11
           },
           {
            "bin_start": 0.530254781728531,
            "bin_end": 0.6242038253828248,
            "count": 19
           },
           {
            "bin_start": 0.6242038253828248,
            "bin_end": 0.7181528690371186,
            "count": 9
           },
           {
            "bin_start": 0.7181528690371186,
            "bin_end": 0.8121019126914124,
            "count": 0
           },
           {
            "bin_start": 0.8121019126914124,
            "bin_end": 0.9060509563457062,
            "count": 0
           },
           {
            "bin_start": 0.9060509563457062,
            "bin_end": 1,
            "count": 1
           }
          ]
         }
        },
        {
         "name": "5",
         "dtype": "float64",
         "stats": {
          "unique_count": 93,
          "nan_count": 0,
          "min": "0.0928943335982747",
          "max": "1.0",
          "histogram": [
           {
            "bin_start": 0.0928943335982747,
            "bin_end": 0.18360490023844722,
            "count": 7
           },
           {
            "bin_start": 0.18360490023844722,
            "bin_end": 0.27431546687861974,
            "count": 1
           },
           {
            "bin_start": 0.27431546687861974,
            "bin_end": 0.3650260335187923,
            "count": 13
           },
           {
            "bin_start": 0.3650260335187923,
            "bin_end": 0.45573660015896483,
            "count": 20
           },
           {
            "bin_start": 0.45573660015896483,
            "bin_end": 0.5464471667991373,
            "count": 18
           },
           {
            "bin_start": 0.5464471667991373,
            "bin_end": 0.6371577334393099,
            "count": 9
           },
           {
            "bin_start": 0.6371577334393099,
            "bin_end": 0.7278683000794824,
            "count": 13
           },
           {
            "bin_start": 0.7278683000794824,
            "bin_end": 0.818578866719655,
            "count": 10
           },
           {
            "bin_start": 0.818578866719655,
            "bin_end": 0.9092894333598275,
            "count": 1
           },
           {
            "bin_start": 0.9092894333598275,
            "bin_end": 1,
            "count": 1
           }
          ]
         }
        },
        {
         "name": "559",
         "dtype": "float64",
         "stats": {
          "unique_count": 93,
          "nan_count": 0,
          "min": "0.0740348334470794",
          "max": "1.0",
          "histogram": [
           {
            "bin_start": 0.0740348334470794,
            "bin_end": 0.16663135010237146,
            "count": 6
           },
           {
            "bin_start": 0.16663135010237146,
            "bin_end": 0.2592278667576635,
            "count": 12
           },
           {
            "bin_start": 0.2592278667576635,
            "bin_end": 0.3518243834129556,
            "count": 23
           },
           {
            "bin_start": 0.3518243834129556,
            "bin_end": 0.44442090006824764,
            "count": 20
           },
           {
            "bin_start": 0.44442090006824764,
            "bin_end": 0.5370174167235398,
            "count": 14
           },
           {
            "bin_start": 0.5370174167235398,
            "bin_end": 0.6296139333788318,
            "count": 14
           },
           {
            "bin_start": 0.6296139333788318,
            "bin_end": 0.7222104500341239,
            "count": 3
           },
           {
            "bin_start": 0.7222104500341239,
            "bin_end": 0.8148069666894159,
            "count": 0
           },
           {
            "bin_start": 0.8148069666894159,
            "bin_end": 0.9074034833447079,
            "count": 0
           },
           {
            "bin_start": 0.9074034833447079,
            "bin_end": 1,
            "count": 1
           }
          ]
         }
        },
        {
         "name": "560",
         "dtype": "float64",
         "stats": {
          "unique_count": 93,
          "nan_count": 0,
          "min": "0.07691170520698098",
          "max": "1.0",
          "histogram": [
           {
            "bin_start": 0.07691170520698098,
            "bin_end": 0.1692205346862829,
            "count": 4
           },
           {
            "bin_start": 0.1692205346862829,
            "bin_end": 0.2615293641655848,
            "count": 4
           },
           {
            "bin_start": 0.2615293641655848,
            "bin_end": 0.35383819364488667,
            "count": 10
           },
           {
            "bin_start": 0.35383819364488667,
            "bin_end": 0.4461470231241886,
            "count": 19
           },
           {
            "bin_start": 0.4461470231241886,
            "bin_end": 0.5384558526034905,
            "count": 21
           },
           {
            "bin_start": 0.5384558526034905,
            "bin_end": 0.6307646820827923,
            "count": 10
           },
           {
            "bin_start": 0.6307646820827923,
            "bin_end": 0.7230735115620943,
            "count": 9
           },
           {
            "bin_start": 0.7230735115620943,
            "bin_end": 0.8153823410413962,
            "count": 14
           },
           {
            "bin_start": 0.8153823410413962,
            "bin_end": 0.907691170520698,
            "count": 1
           },
           {
            "bin_start": 0.907691170520698,
            "bin_end": 1,
            "count": 1
           }
          ]
         }
        },
        {
         "name": "561",
         "dtype": "float64",
         "stats": {
          "unique_count": 93,
          "nan_count": 0,
          "min": "0.09057496699005119",
          "max": "1.0",
          "histogram": [
           {
            "bin_start": 0.09057496699005119,
            "bin_end": 0.18151747029104606,
            "count": 4
           },
           {
            "bin_start": 0.18151747029104606,
            "bin_end": 0.27245997359204094,
            "count": 13
           },
           {
            "bin_start": 0.27245997359204094,
            "bin_end": 0.36340247689303584,
            "count": 20
           },
           {
            "bin_start": 0.36340247689303584,
            "bin_end": 0.4543449801940307,
            "count": 25
           },
           {
            "bin_start": 0.4543449801940307,
            "bin_end": 0.5452874834950255,
            "count": 15
           },
           {
            "bin_start": 0.5452874834950255,
            "bin_end": 0.6362299867960205,
            "count": 14
           },
           {
            "bin_start": 0.6362299867960205,
            "bin_end": 0.7271724900970153,
            "count": 1
           },
           {
            "bin_start": 0.7271724900970153,
            "bin_end": 0.8181149933980102,
            "count": 0
           },
           {
            "bin_start": 0.8181149933980102,
            "bin_end": 0.909057496699005,
            "count": 0
           },
           {
            "bin_start": 0.909057496699005,
            "bin_end": 1,
            "count": 1
           }
          ]
         }
        },
        {
         "name": "562",
         "dtype": "float64",
         "stats": {
          "unique_count": 93,
          "nan_count": 0,
          "min": "0.07825510760388765",
          "max": "1.0",
          "histogram": [
           {
            "bin_start": 0.07825510760388765,
            "bin_end": 0.1704295968434989,
            "count": 7
           },
           {
            "bin_start": 0.1704295968434989,
            "bin_end": 0.26260408608311014,
            "count": 17
           },
           {
            "bin_start": 0.26260408608311014,
            "bin_end": 0.35477857532272133,
            "count": 30
           },
           {
            "bin_start": 0.35477857532272133,
            "bin_end": 0.4469530645623326,
            "count": 27
           },
           {
            "bin_start": 0.4469530645623326,
            "bin_end": 0.5391275538019438,
            "count": 9
           },
           {
            "bin_start": 0.5391275538019438,
            "bin_end": 0.631302043041555,
            "count": 1
           },
           {
            "bin_start": 0.631302043041555,
            "bin_end": 0.7234765322811663,
            "count": 1
           },
           {
            "bin_start": 0.7234765322811663,
            "bin_end": 0.8156510215207775,
            "count": 0
           },
           {
            "bin_start": 0.8156510215207775,
            "bin_end": 0.9078255107603888,
            "count": 0
           },
           {
            "bin_start": 0.9078255107603888,
            "bin_end": 1,
            "count": 1
           }
          ]
         }
        },
        {
         "name": "563",
         "dtype": "float64",
         "stats": {
          "unique_count": 93,
          "nan_count": 0,
          "min": "0.09452908398536253",
          "max": "1.0",
          "histogram": [
           {
            "bin_start": 0.09452908398536253,
            "bin_end": 0.18507617558682626,
            "count": 12
           },
           {
            "bin_start": 0.18507617558682626,
            "bin_end": 0.27562326718829,
            "count": 16
           },
           {
            "bin_start": 0.27562326718829,
            "bin_end": 0.3661703587897538,
            "count": 24
           },
           {
            "bin_start": 0.3661703587897538,
            "bin_end": 0.4567174503912175,
            "count": 23
           },
           {
            "bin_start": 0.4567174503912175,
            "bin_end": 0.5472645419926813,
            "count": 14
           },
           {
            "bin_start": 0.5472645419926813,
            "bin_end": 0.637811633594145,
            "count": 3
           },
           {
            "bin_start": 0.637811633594145,
            "bin_end": 0.7283587251956087,
            "count": 0
           },
           {
            "bin_start": 0.7283587251956087,
            "bin_end": 0.8189058167970725,
            "count": 0
           },
           {
            "bin_start": 0.8189058167970725,
            "bin_end": 0.9094529083985363,
            "count": 0
           },
           {
            "bin_start": 0.9094529083985363,
            "bin_end": 1,
            "count": 1
           }
          ]
         }
        },
        {
         "name": "564",
         "dtype": "float64",
         "stats": {
          "unique_count": 93,
          "nan_count": 0,
          "min": "0.06648267523334639",
          "max": "1.0",
          "histogram": [
           {
            "bin_start": 0.06648267523334639,
            "bin_end": 0.15983440771001176,
            "count": 17
           },
           {
            "bin_start": 0.15983440771001176,
            "bin_end": 0.2531861401866771,
            "count": 36
           },
           {
            "bin_start": 0.2531861401866771,
            "bin_end": 0.34653787266334246,
            "count": 25
           },
           {
            "bin_start": 0.34653787266334246,
            "bin_end": 0.43988960514000786,
            "count": 10
           },
           {
            "bin_start": 0.43988960514000786,
            "bin_end": 0.5332413376166732,
            "count": 4
           },
           {
            "bin_start": 0.5332413376166732,
            "bin_end": 0.6265930700933385,
            "count": 0
           },
           {
            "bin_start": 0.6265930700933385,
            "bin_end": 0.7199448025700039,
            "count": 0
           },
           {
            "bin_start": 0.7199448025700039,
            "bin_end": 0.8132965350466693,
            "count": 0
           },
           {
            "bin_start": 0.8132965350466693,
            "bin_end": 0.9066482675233347,
            "count": 0
           },
           {
            "bin_start": 0.9066482675233347,
            "bin_end": 1,
            "count": 1
           }
          ]
         }
        },
        {
         "name": "565",
         "dtype": "float64",
         "stats": {
          "unique_count": 93,
          "nan_count": 0,
          "min": "0.02594260699591311",
          "max": "1.0",
          "histogram": [
           {
            "bin_start": 0.02594260699591311,
            "bin_end": 0.1233483462963218,
            "count": 3
           },
           {
            "bin_start": 0.1233483462963218,
            "bin_end": 0.2207540855967305,
            "count": 5
           },
           {
            "bin_start": 0.2207540855967305,
            "bin_end": 0.3181598248971392,
            "count": 15
           },
           {
            "bin_start": 0.3181598248971392,
            "bin_end": 0.41556556419754787,
            "count": 22
           },
           {
            "bin_start": 0.41556556419754787,
            "bin_end": 0.5129713034979566,
            "count": 18
           },
           {
            "bin_start": 0.5129713034979566,
            "bin_end": 0.6103770427983652,
            "count": 19
           },
           {
            "bin_start": 0.6103770427983652,
            "bin_end": 0.707782782098774,
            "count": 10
           },
           {
            "bin_start": 0.707782782098774,
            "bin_end": 0.8051885213991826,
            "count": 0
           },
           {
            "bin_start": 0.8051885213991826,
            "bin_end": 0.9025942606995913,
            "count": 0
           },
           {
            "bin_start": 0.9025942606995913,
            "bin_end": 1,
            "count": 1
           }
          ]
         }
        },
        {
         "name": "566",
         "dtype": "float64",
         "stats": {
          "unique_count": 93,
          "nan_count": 0,
          "min": "0.09735226486078308",
          "max": "1.0",
          "histogram": [
           {
            "bin_start": 0.09735226486078308,
            "bin_end": 0.18761703837470478,
            "count": 4
           },
           {
            "bin_start": 0.18761703837470478,
            "bin_end": 0.2778818118886265,
            "count": 3
           },
           {
            "bin_start": 0.2778818118886265,
            "bin_end": 0.36814658540254813,
            "count": 11
           },
           {
            "bin_start": 0.36814658540254813,
            "bin_end": 0.45841135891646984,
            "count": 21
           },
           {
            "bin_start": 0.45841135891646984,
            "bin_end": 0.5486761324303915,
            "count": 16
           },
           {
            "bin_start": 0.5486761324303915,
            "bin_end": 0.6389409059443132,
            "count": 11
           },
           {
            "bin_start": 0.6389409059443132,
            "bin_end": 0.7292056794582349,
            "count": 13
           },
           {
            "bin_start": 0.7292056794582349,
            "bin_end": 0.8194704529721566,
            "count": 8
           },
           {
            "bin_start": 0.8194704529721566,
            "bin_end": 0.9097352264860783,
            "count": 5
           },
           {
            "bin_start": 0.9097352264860783,
            "bin_end": 1,
            "count": 1
           }
          ]
         }
        },
        {
         "name": "567",
         "dtype": "float64",
         "stats": {
          "unique_count": 93,
          "nan_count": 0,
          "min": "0.11059359061708718",
          "max": "1.0",
          "histogram": [
           {
            "bin_start": 0.11059359061708718,
            "bin_end": 0.19953423155537847,
            "count": 8
           },
           {
            "bin_start": 0.19953423155537847,
            "bin_end": 0.28847487249366977,
            "count": 14
           },
           {
            "bin_start": 0.28847487249366977,
            "bin_end": 0.377415513431961,
            "count": 17
           },
           {
            "bin_start": 0.377415513431961,
            "bin_end": 0.4663561543702523,
            "count": 23
           },
           {
            "bin_start": 0.4663561543702523,
            "bin_end": 0.5552967953085436,
            "count": 17
           },
           {
            "bin_start": 0.5552967953085436,
            "bin_end": 0.6442374362468348,
            "count": 13
           },
           {
            "bin_start": 0.6442374362468348,
            "bin_end": 0.7331780771851262,
            "count": 0
           },
           {
            "bin_start": 0.7331780771851262,
            "bin_end": 0.8221187181234174,
            "count": 0
           },
           {
            "bin_start": 0.8221187181234174,
            "bin_end": 0.9110593590617087,
            "count": 0
           },
           {
            "bin_start": 0.9110593590617087,
            "bin_end": 1,
            "count": 1
           }
          ]
         }
        },
        {
         "name": "568",
         "dtype": "float64",
         "stats": {
          "unique_count": 93,
          "nan_count": 0,
          "min": "0.08147040143978201",
          "max": "1.0",
          "histogram": [
           {
            "bin_start": 0.08147040143978201,
            "bin_end": 0.1733233612958038,
            "count": 12
           },
           {
            "bin_start": 0.1733233612958038,
            "bin_end": 0.2651763211518256,
            "count": 28
           },
           {
            "bin_start": 0.2651763211518256,
            "bin_end": 0.35702928100784737,
            "count": 40
           },
           {
            "bin_start": 0.35702928100784737,
            "bin_end": 0.4488822408638692,
            "count": 10
           },
           {
            "bin_start": 0.4488822408638692,
            "bin_end": 0.540735200719891,
            "count": 1
           },
           {
            "bin_start": 0.540735200719891,
            "bin_end": 0.6325881605759127,
            "count": 1
           },
           {
            "bin_start": 0.6325881605759127,
            "bin_end": 0.7244411204319345,
            "count": 0
           },
           {
            "bin_start": 0.7244411204319345,
            "bin_end": 0.8162940802879564,
            "count": 0
           },
           {
            "bin_start": 0.8162940802879564,
            "bin_end": 0.9081470401439782,
            "count": 0
           },
           {
            "bin_start": 0.9081470401439782,
            "bin_end": 1,
            "count": 1
           }
          ]
         }
        },
        {
         "name": "569",
         "dtype": "float64",
         "stats": {
          "unique_count": 93,
          "nan_count": 0,
          "min": "0.054927685167179496",
          "max": "1.0",
          "histogram": [
           {
            "bin_start": 0.054927685167179496,
            "bin_end": 0.14943491665046155,
            "count": 5
           },
           {
            "bin_start": 0.14943491665046155,
            "bin_end": 0.2439421481337436,
            "count": 11
           },
           {
            "bin_start": 0.2439421481337436,
            "bin_end": 0.33844937961702565,
            "count": 25
           },
           {
            "bin_start": 0.33844937961702565,
            "bin_end": 0.4329566111003077,
            "count": 22
           },
           {
            "bin_start": 0.4329566111003077,
            "bin_end": 0.5274638425835898,
            "count": 18
           },
           {
            "bin_start": 0.5274638425835898,
            "bin_end": 0.6219710740668718,
            "count": 10
           },
           {
            "bin_start": 0.6219710740668718,
            "bin_end": 0.7164783055501539,
            "count": 1
           },
           {
            "bin_start": 0.7164783055501539,
            "bin_end": 0.8109855370334359,
            "count": 0
           },
           {
            "bin_start": 0.8109855370334359,
            "bin_end": 0.9054927685167179,
            "count": 0
           },
           {
            "bin_start": 0.9054927685167179,
            "bin_end": 1,
            "count": 1
           }
          ]
         }
        },
        {
         "name": "570",
         "dtype": "float64",
         "stats": {
          "unique_count": 93,
          "nan_count": 0,
          "min": "0.0",
          "max": "1.0",
          "histogram": [
           {
            "bin_start": 0,
            "bin_end": 0.1,
            "count": 43
           },
           {
            "bin_start": 0.1,
            "bin_end": 0.2,
            "count": 35
           },
           {
            "bin_start": 0.2,
            "bin_end": 0.30000000000000004,
            "count": 7
           },
           {
            "bin_start": 0.30000000000000004,
            "bin_end": 0.4,
            "count": 7
           },
           {
            "bin_start": 0.4,
            "bin_end": 0.5,
            "count": 0
           },
           {
            "bin_start": 0.5,
            "bin_end": 0.6000000000000001,
            "count": 0
           },
           {
            "bin_start": 0.6000000000000001,
            "bin_end": 0.7000000000000001,
            "count": 0
           },
           {
            "bin_start": 0.7000000000000001,
            "bin_end": 0.8,
            "count": 0
           },
           {
            "bin_start": 0.8,
            "bin_end": 0.9,
            "count": 0
           },
           {
            "bin_start": 0.9,
            "bin_end": 1,
            "count": 1
           }
          ]
         }
        },
        {
         "name": "571",
         "dtype": "float64",
         "stats": {
          "unique_count": 93,
          "nan_count": 0,
          "min": "0.0372806530570825",
          "max": "1.0",
          "histogram": [
           {
            "bin_start": 0.0372806530570825,
            "bin_end": 0.13355258775137424,
            "count": 5
           },
           {
            "bin_start": 0.13355258775137424,
            "bin_end": 0.229824522445666,
            "count": 2
           },
           {
            "bin_start": 0.229824522445666,
            "bin_end": 0.3260964571399578,
            "count": 20
           },
           {
            "bin_start": 0.3260964571399578,
            "bin_end": 0.4223683918342495,
            "count": 20
           },
           {
            "bin_start": 0.4223683918342495,
            "bin_end": 0.5186403265285413,
            "count": 15
           },
           {
            "bin_start": 0.5186403265285413,
            "bin_end": 0.614912261222833,
            "count": 15
           },
           {
            "bin_start": 0.614912261222833,
            "bin_end": 0.7111841959171248,
            "count": 13
           },
           {
            "bin_start": 0.7111841959171248,
            "bin_end": 0.8074561306114165,
            "count": 2
           },
           {
            "bin_start": 0.8074561306114165,
            "bin_end": 0.9037280653057083,
            "count": 0
           },
           {
            "bin_start": 0.9037280653057083,
            "bin_end": 1,
            "count": 1
           }
          ]
         }
        },
        {
         "name": "572",
         "dtype": "float64",
         "stats": {
          "unique_count": 93,
          "nan_count": 0,
          "min": "0.01437207242539651",
          "max": "1.0",
          "histogram": [
           {
            "bin_start": 0.01437207242539651,
            "bin_end": 0.11293486518285686,
            "count": 15
           },
           {
            "bin_start": 0.11293486518285686,
            "bin_end": 0.21149765794031722,
            "count": 57
           },
           {
            "bin_start": 0.21149765794031722,
            "bin_end": 0.31006045069777755,
            "count": 12
           },
           {
            "bin_start": 0.31006045069777755,
            "bin_end": 0.40862324345523793,
            "count": 7
           },
           {
            "bin_start": 0.40862324345523793,
            "bin_end": 0.5071860362126983,
            "count": 1
           },
           {
            "bin_start": 0.5071860362126983,
            "bin_end": 0.6057488289701586,
            "count": 0
           },
           {
            "bin_start": 0.6057488289701586,
            "bin_end": 0.704311621727619,
            "count": 0
           },
           {
            "bin_start": 0.704311621727619,
            "bin_end": 0.8028744144850793,
            "count": 0
           },
           {
            "bin_start": 0.8028744144850793,
            "bin_end": 0.9014372072425397,
            "count": 0
           },
           {
            "bin_start": 0.9014372072425397,
            "bin_end": 1,
            "count": 1
           }
          ]
         }
        },
        {
         "name": "573",
         "dtype": "float64",
         "stats": {
          "unique_count": 93,
          "nan_count": 0,
          "min": "0.0",
          "max": "1.0",
          "histogram": [
           {
            "bin_start": 0,
            "bin_end": 0.1,
            "count": 6
           },
           {
            "bin_start": 0.1,
            "bin_end": 0.2,
            "count": 38
           },
           {
            "bin_start": 0.2,
            "bin_end": 0.30000000000000004,
            "count": 37
           },
           {
            "bin_start": 0.30000000000000004,
            "bin_end": 0.4,
            "count": 6
           },
           {
            "bin_start": 0.4,
            "bin_end": 0.5,
            "count": 5
           },
           {
            "bin_start": 0.5,
            "bin_end": 0.6000000000000001,
            "count": 0
           },
           {
            "bin_start": 0.6000000000000001,
            "bin_end": 0.7000000000000001,
            "count": 0
           },
           {
            "bin_start": 0.7000000000000001,
            "bin_end": 0.8,
            "count": 0
           },
           {
            "bin_start": 0.8,
            "bin_end": 0.9,
            "count": 0
           },
           {
            "bin_start": 0.9,
            "bin_end": 1,
            "count": 1
           }
          ]
         }
        },
        {
         "name": "574",
         "dtype": "float64",
         "stats": {
          "unique_count": 93,
          "nan_count": 0,
          "min": "0.045668968811506394",
          "max": "1.0",
          "histogram": [
           {
            "bin_start": 0.045668968811506394,
            "bin_end": 0.14110207193035576,
            "count": 17
           },
           {
            "bin_start": 0.14110207193035576,
            "bin_end": 0.23653517504920513,
            "count": 44
           },
           {
            "bin_start": 0.23653517504920513,
            "bin_end": 0.3319682781680545,
            "count": 23
           },
           {
            "bin_start": 0.3319682781680545,
            "bin_end": 0.42740138128690386,
            "count": 6
           },
           {
            "bin_start": 0.42740138128690386,
            "bin_end": 0.5228344844057532,
            "count": 2
           },
           {
            "bin_start": 0.5228344844057532,
            "bin_end": 0.6182675875246026,
            "count": 0
           },
           {
            "bin_start": 0.6182675875246026,
            "bin_end": 0.713700690643452,
            "count": 0
           },
           {
            "bin_start": 0.713700690643452,
            "bin_end": 0.8091337937623013,
            "count": 0
           },
           {
            "bin_start": 0.8091337937623013,
            "bin_end": 0.9045668968811507,
            "count": 0
           },
           {
            "bin_start": 0.9045668968811507,
            "bin_end": 1,
            "count": 1
           }
          ]
         }
        },
        {
         "name": "575",
         "dtype": "float64",
         "stats": {
          "unique_count": 93,
          "nan_count": 0,
          "min": "0.09359861406096825",
          "max": "1.0",
          "histogram": [
           {
            "bin_start": 0.09359861406096825,
            "bin_end": 0.18423875265487144,
            "count": 12
           },
           {
            "bin_start": 0.18423875265487144,
            "bin_end": 0.2748788912487746,
            "count": 16
           },
           {
            "bin_start": 0.2748788912487746,
            "bin_end": 0.36551902984267776,
            "count": 28
           },
           {
            "bin_start": 0.36551902984267776,
            "bin_end": 0.45615916843658094,
            "count": 27
           },
           {
            "bin_start": 0.45615916843658094,
            "bin_end": 0.5467993070304842,
            "count": 6
           },
           {
            "bin_start": 0.5467993070304842,
            "bin_end": 0.6374394456243873,
            "count": 3
           },
           {
            "bin_start": 0.6374394456243873,
            "bin_end": 0.7280795842182904,
            "count": 0
           },
           {
            "bin_start": 0.7280795842182904,
            "bin_end": 0.8187197228121936,
            "count": 0
           },
           {
            "bin_start": 0.8187197228121936,
            "bin_end": 0.9093598614060968,
            "count": 0
           },
           {
            "bin_start": 0.9093598614060968,
            "bin_end": 1,
            "count": 1
           }
          ]
         }
        },
        {
         "name": "576",
         "dtype": "float64",
         "stats": {
          "unique_count": 93,
          "nan_count": 0,
          "min": "0.12698023062806463",
          "max": "1.0",
          "histogram": [
           {
            "bin_start": 0.12698023062806463,
            "bin_end": 0.21428220756525818,
            "count": 16
           },
           {
            "bin_start": 0.21428220756525818,
            "bin_end": 0.3015841845024517,
            "count": 31
           },
           {
            "bin_start": 0.3015841845024517,
            "bin_end": 0.3888861614396452,
            "count": 36
           },
           {
            "bin_start": 0.3888861614396452,
            "bin_end": 0.47618813837683877,
            "count": 7
           },
           {
            "bin_start": 0.47618813837683877,
            "bin_end": 0.5634901153140324,
            "count": 2
           },
           {
            "bin_start": 0.5634901153140324,
            "bin_end": 0.6507920922512258,
            "count": 0
           },
           {
            "bin_start": 0.6507920922512258,
            "bin_end": 0.7380940691884194,
            "count": 0
           },
           {
            "bin_start": 0.7380940691884194,
            "bin_end": 0.8253960461256129,
            "count": 0
           },
           {
            "bin_start": 0.8253960461256129,
            "bin_end": 0.9126980230628065,
            "count": 0
           },
           {
            "bin_start": 0.9126980230628065,
            "bin_end": 1,
            "count": 1
           }
          ]
         }
        },
        {
         "name": "577",
         "dtype": "float64",
         "stats": {
          "unique_count": 93,
          "nan_count": 0,
          "min": "0.09519212054873682",
          "max": "1.0",
          "histogram": [
           {
            "bin_start": 0.09519212054873682,
            "bin_end": 0.18567290849386314,
            "count": 15
           },
           {
            "bin_start": 0.18567290849386314,
            "bin_end": 0.27615369643898946,
            "count": 25
           },
           {
            "bin_start": 0.27615369643898946,
            "bin_end": 0.3666344843841158,
            "count": 38
           },
           {
            "bin_start": 0.3666344843841158,
            "bin_end": 0.4571152723292421,
            "count": 11
           },
           {
            "bin_start": 0.4571152723292421,
            "bin_end": 0.5475960602743684,
            "count": 3
           },
           {
            "bin_start": 0.5475960602743684,
            "bin_end": 0.6380768482194947,
            "count": 0
           },
           {
            "bin_start": 0.6380768482194947,
            "bin_end": 0.728557636164621,
            "count": 0
           },
           {
            "bin_start": 0.728557636164621,
            "bin_end": 0.8190384241097474,
            "count": 0
           },
           {
            "bin_start": 0.8190384241097474,
            "bin_end": 0.9095192120548737,
            "count": 0
           },
           {
            "bin_start": 0.9095192120548737,
            "bin_end": 1,
            "count": 1
           }
          ]
         }
        },
        {
         "name": "578",
         "dtype": "float64",
         "stats": {
          "unique_count": 93,
          "nan_count": 0,
          "min": "0.09923022128025094",
          "max": "1.0",
          "histogram": [
           {
            "bin_start": 0.09923022128025094,
            "bin_end": 0.18930719915222585,
            "count": 4
           },
           {
            "bin_start": 0.18930719915222585,
            "bin_end": 0.27938417702420076,
            "count": 0
           },
           {
            "bin_start": 0.27938417702420076,
            "bin_end": 0.3694611548961757,
            "count": 14
           },
           {
            "bin_start": 0.3694611548961757,
            "bin_end": 0.4595381327681506,
            "count": 20
           },
           {
            "bin_start": 0.4595381327681506,
            "bin_end": 0.5496151106401255,
            "count": 24
           },
           {
            "bin_start": 0.5496151106401255,
            "bin_end": 0.6396920885121005,
            "count": 11
           },
           {
            "bin_start": 0.6396920885121005,
            "bin_end": 0.7297690663840753,
            "count": 18
           },
           {
            "bin_start": 0.7297690663840753,
            "bin_end": 0.8198460442560502,
            "count": 1
           },
           {
            "bin_start": 0.8198460442560502,
            "bin_end": 0.9099230221280251,
            "count": 0
           },
           {
            "bin_start": 0.9099230221280251,
            "bin_end": 1,
            "count": 1
           }
          ]
         }
        },
        {
         "name": "579",
         "dtype": "float64",
         "stats": {
          "unique_count": 93,
          "nan_count": 0,
          "min": "0.14674974793797302",
          "max": "1.0",
          "histogram": [
           {
            "bin_start": 0.14674974793797302,
            "bin_end": 0.2320747731441757,
            "count": 4
           },
           {
            "bin_start": 0.2320747731441757,
            "bin_end": 0.3173997983503784,
            "count": 5
           },
           {
            "bin_start": 0.3173997983503784,
            "bin_end": 0.4027248235565811,
            "count": 14
           },
           {
            "bin_start": 0.4027248235565811,
            "bin_end": 0.4880498487627838,
            "count": 21
           },
           {
            "bin_start": 0.4880498487627838,
            "bin_end": 0.5733748739689865,
            "count": 16
           },
           {
            "bin_start": 0.5733748739689865,
            "bin_end": 0.6586998991751892,
            "count": 13
           },
           {
            "bin_start": 0.6586998991751892,
            "bin_end": 0.7440249243813919,
            "count": 11
           },
           {
            "bin_start": 0.7440249243813919,
            "bin_end": 0.8293499495875946,
            "count": 8
           },
           {
            "bin_start": 0.8293499495875946,
            "bin_end": 0.9146749747937972,
            "count": 0
           },
           {
            "bin_start": 0.9146749747937972,
            "bin_end": 1,
            "count": 1
           }
          ]
         }
        },
        {
         "name": "580",
         "dtype": "float64",
         "stats": {
          "unique_count": 93,
          "nan_count": 0,
          "min": "0.07510890551746763",
          "max": "1.0",
          "histogram": [
           {
            "bin_start": 0.07510890551746763,
            "bin_end": 0.16759801496572085,
            "count": 12
           },
           {
            "bin_start": 0.16759801496572085,
            "bin_end": 0.2600871244139741,
            "count": 23
           },
           {
            "bin_start": 0.2600871244139741,
            "bin_end": 0.35257623386222736,
            "count": 44
           },
           {
            "bin_start": 0.35257623386222736,
            "bin_end": 0.4450653433104806,
            "count": 9
           },
           {
            "bin_start": 0.4450653433104806,
            "bin_end": 0.5375544527587338,
            "count": 4
           },
           {
            "bin_start": 0.5375544527587338,
            "bin_end": 0.6300435622069871,
            "count": 0
           },
           {
            "bin_start": 0.6300435622069871,
            "bin_end": 0.7225326716552403,
            "count": 0
           },
           {
            "bin_start": 0.7225326716552403,
            "bin_end": 0.8150217811034935,
            "count": 0
           },
           {
            "bin_start": 0.8150217811034935,
            "bin_end": 0.9075108905517468,
            "count": 0
           },
           {
            "bin_start": 0.9075108905517468,
            "bin_end": 1,
            "count": 1
           }
          ]
         }
        },
        {
         "name": "581",
         "dtype": "float64",
         "stats": {
          "unique_count": 93,
          "nan_count": 0,
          "min": "0.05512469824962485",
          "max": "1.0",
          "histogram": [
           {
            "bin_start": 0.05512469824962485,
            "bin_end": 0.14961222842466237,
            "count": 1
           },
           {
            "bin_start": 0.14961222842466237,
            "bin_end": 0.24409975859969987,
            "count": 2
           },
           {
            "bin_start": 0.24409975859969987,
            "bin_end": 0.33858728877473737,
            "count": 9
           },
           {
            "bin_start": 0.33858728877473737,
            "bin_end": 0.4330748189497749,
            "count": 27
           },
           {
            "bin_start": 0.4330748189497749,
            "bin_end": 0.5275623491248125,
            "count": 22
           },
           {
            "bin_start": 0.5275623491248125,
            "bin_end": 0.6220498792998499,
            "count": 13
           },
           {
            "bin_start": 0.6220498792998499,
            "bin_end": 0.7165374094748874,
            "count": 16
           },
           {
            "bin_start": 0.7165374094748874,
            "bin_end": 0.811024939649925,
            "count": 2
           },
           {
            "bin_start": 0.811024939649925,
            "bin_end": 0.9055124698249625,
            "count": 0
           },
           {
            "bin_start": 0.9055124698249625,
            "bin_end": 1,
            "count": 1
           }
          ]
         }
        },
        {
         "name": "582",
         "dtype": "float64",
         "stats": {
          "unique_count": 93,
          "nan_count": 0,
          "min": "0.002062498890705644",
          "max": "1.0",
          "histogram": [
           {
            "bin_start": 0.002062498890705644,
            "bin_end": 0.10185624900163508,
            "count": 12
           },
           {
            "bin_start": 0.10185624900163508,
            "bin_end": 0.2016499991125645,
            "count": 56
           },
           {
            "bin_start": 0.2016499991125645,
            "bin_end": 0.30144374922349393,
            "count": 18
           },
           {
            "bin_start": 0.30144374922349393,
            "bin_end": 0.4012374993344234,
            "count": 4
           },
           {
            "bin_start": 0.4012374993344234,
            "bin_end": 0.5010312494453528,
            "count": 2
           },
           {
            "bin_start": 0.5010312494453528,
            "bin_end": 0.6008249995562822,
            "count": 0
           },
           {
            "bin_start": 0.6008249995562822,
            "bin_end": 0.7006187496672117,
            "count": 0
           },
           {
            "bin_start": 0.7006187496672117,
            "bin_end": 0.8004124997781411,
            "count": 0
           },
           {
            "bin_start": 0.8004124997781411,
            "bin_end": 0.9002062498890705,
            "count": 0
           },
           {
            "bin_start": 0.9002062498890705,
            "bin_end": 1,
            "count": 1
           }
          ]
         }
        },
        {
         "name": "583",
         "dtype": "float64",
         "stats": {
          "unique_count": 93,
          "nan_count": 0,
          "min": "0.18494991869124322",
          "max": "1.0",
          "histogram": [
           {
            "bin_start": 0.18494991869124322,
            "bin_end": 0.2664549268221189,
            "count": 3
           },
           {
            "bin_start": 0.2664549268221189,
            "bin_end": 0.3479599349529946,
            "count": 7
           },
           {
            "bin_start": 0.3479599349529946,
            "bin_end": 0.42946494308387023,
            "count": 23
           },
           {
            "bin_start": 0.42946494308387023,
            "bin_end": 0.5109699512147459,
            "count": 21
           },
           {
            "bin_start": 0.5109699512147459,
            "bin_end": 0.5924749593456216,
            "count": 10
           },
           {
            "bin_start": 0.5924749593456216,
            "bin_end": 0.6739799674764972,
            "count": 11
           },
           {
            "bin_start": 0.6739799674764972,
            "bin_end": 0.7554849756073729,
            "count": 17
           },
           {
            "bin_start": 0.7554849756073729,
            "bin_end": 0.8369899837382486,
            "count": 0
           },
           {
            "bin_start": 0.8369899837382486,
            "bin_end": 0.9184949918691243,
            "count": 0
           },
           {
            "bin_start": 0.9184949918691243,
            "bin_end": 1,
            "count": 1
           }
          ]
         }
        },
        {
         "name": "584",
         "dtype": "float64",
         "stats": {
          "unique_count": 93,
          "nan_count": 0,
          "min": "0.07766687357800872",
          "max": "1.0",
          "histogram": [
           {
            "bin_start": 0.07766687357800872,
            "bin_end": 0.16990018622020786,
            "count": 11
           },
           {
            "bin_start": 0.16990018622020786,
            "bin_end": 0.262133498862407,
            "count": 24
           },
           {
            "bin_start": 0.262133498862407,
            "bin_end": 0.3543668115046061,
            "count": 34
           },
           {
            "bin_start": 0.3543668115046061,
            "bin_end": 0.4466001241468052,
            "count": 20
           },
           {
            "bin_start": 0.4466001241468052,
            "bin_end": 0.5388334367890044,
            "count": 3
           },
           {
            "bin_start": 0.5388334367890044,
            "bin_end": 0.6310667494312034,
            "count": 0
           },
           {
            "bin_start": 0.6310667494312034,
            "bin_end": 0.7233000620734026,
            "count": 0
           },
           {
            "bin_start": 0.7233000620734026,
            "bin_end": 0.8155333747156017,
            "count": 0
           },
           {
            "bin_start": 0.8155333747156017,
            "bin_end": 0.9077666873578009,
            "count": 0
           },
           {
            "bin_start": 0.9077666873578009,
            "bin_end": 1,
            "count": 1
           }
          ]
         }
        },
        {
         "name": "585",
         "dtype": "float64",
         "stats": {
          "unique_count": 93,
          "nan_count": 0,
          "min": "0.04031368105692601",
          "max": "1.0",
          "histogram": [
           {
            "bin_start": 0.04031368105692601,
            "bin_end": 0.13628231295123341,
            "count": 22
           },
           {
            "bin_start": 0.13628231295123341,
            "bin_end": 0.23225094484554082,
            "count": 59
           },
           {
            "bin_start": 0.23225094484554082,
            "bin_end": 0.32821957673984825,
            "count": 7
           },
           {
            "bin_start": 0.32821957673984825,
            "bin_end": 0.42418820863415563,
            "count": 4
           },
           {
            "bin_start": 0.42418820863415563,
            "bin_end": 0.520156840528463,
            "count": 0
           },
           {
            "bin_start": 0.520156840528463,
            "bin_end": 0.6161254724227705,
            "count": 0
           },
           {
            "bin_start": 0.6161254724227705,
            "bin_end": 0.7120941043170779,
            "count": 0
           },
           {
            "bin_start": 0.7120941043170779,
            "bin_end": 0.8080627362113852,
            "count": 0
           },
           {
            "bin_start": 0.8080627362113852,
            "bin_end": 0.9040313681056926,
            "count": 0
           },
           {
            "bin_start": 0.9040313681056926,
            "bin_end": 1,
            "count": 1
           }
          ]
         }
        },
        {
         "name": "586",
         "dtype": "float64",
         "stats": {
          "unique_count": 93,
          "nan_count": 0,
          "min": "0.12344828137164088",
          "max": "1.0",
          "histogram": [
           {
            "bin_start": 0.12344828137164088,
            "bin_end": 0.2111034532344768,
            "count": 2
           },
           {
            "bin_start": 0.2111034532344768,
            "bin_end": 0.2987586250973127,
            "count": 1
           },
           {
            "bin_start": 0.2987586250973127,
            "bin_end": 0.38641379696014866,
            "count": 14
           },
           {
            "bin_start": 0.38641379696014866,
            "bin_end": 0.47406896882298455,
            "count": 22
           },
           {
            "bin_start": 0.47406896882298455,
            "bin_end": 0.5617241406858204,
            "count": 20
           },
           {
            "bin_start": 0.5617241406858204,
            "bin_end": 0.6493793125486564,
            "count": 12
           },
           {
            "bin_start": 0.6493793125486564,
            "bin_end": 0.7370344844114923,
            "count": 9
           },
           {
            "bin_start": 0.7370344844114923,
            "bin_end": 0.8246896562743282,
            "count": 11
           },
           {
            "bin_start": 0.8246896562743282,
            "bin_end": 0.9123448281371641,
            "count": 1
           },
           {
            "bin_start": 0.9123448281371641,
            "bin_end": 1,
            "count": 1
           }
          ]
         }
        },
        {
         "name": "587",
         "dtype": "float64",
         "stats": {
          "unique_count": 93,
          "nan_count": 0,
          "min": "0.07427686572729508",
          "max": "1.0",
          "histogram": [
           {
            "bin_start": 0.07427686572729508,
            "bin_end": 0.16684917915456557,
            "count": 1
           },
           {
            "bin_start": 0.16684917915456557,
            "bin_end": 0.25942149258183606,
            "count": 1
           },
           {
            "bin_start": 0.25942149258183606,
            "bin_end": 0.35199380600910657,
            "count": 5
           },
           {
            "bin_start": 0.35199380600910657,
            "bin_end": 0.444566119436377,
            "count": 27
           },
           {
            "bin_start": 0.444566119436377,
            "bin_end": 0.5371384328636475,
            "count": 24
           },
           {
            "bin_start": 0.5371384328636475,
            "bin_end": 0.629710746290918,
            "count": 9
           },
           {
            "bin_start": 0.629710746290918,
            "bin_end": 0.7222830597181885,
            "count": 11
           },
           {
            "bin_start": 0.7222830597181885,
            "bin_end": 0.814855373145459,
            "count": 13
           },
           {
            "bin_start": 0.814855373145459,
            "bin_end": 0.9074276865727294,
            "count": 1
           },
           {
            "bin_start": 0.9074276865727294,
            "bin_end": 1,
            "count": 1
           }
          ]
         }
        },
        {
         "name": "588",
         "dtype": "float64",
         "stats": {
          "unique_count": 93,
          "nan_count": 0,
          "min": "0.03398723149527827",
          "max": "1.0",
          "histogram": [
           {
            "bin_start": 0.03398723149527827,
            "bin_end": 0.13058850834575045,
            "count": 21
           },
           {
            "bin_start": 0.13058850834575045,
            "bin_end": 0.22718978519622263,
            "count": 66
           },
           {
            "bin_start": 0.22718978519622263,
            "bin_end": 0.32379106204669483,
            "count": 4
           },
           {
            "bin_start": 0.32379106204669483,
            "bin_end": 0.420392338897167,
            "count": 1
           },
           {
            "bin_start": 0.420392338897167,
            "bin_end": 0.5169936157476391,
            "count": 0
           },
           {
            "bin_start": 0.5169936157476391,
            "bin_end": 0.6135948925981114,
            "count": 0
           },
           {
            "bin_start": 0.6135948925981114,
            "bin_end": 0.7101961694485835,
            "count": 0
           },
           {
            "bin_start": 0.7101961694485835,
            "bin_end": 0.8067974462990557,
            "count": 0
           },
           {
            "bin_start": 0.8067974462990557,
            "bin_end": 0.9033987231495278,
            "count": 0
           },
           {
            "bin_start": 0.9033987231495278,
            "bin_end": 1,
            "count": 1
           }
          ]
         }
        },
        {
         "name": "589",
         "dtype": "float64",
         "stats": {
          "unique_count": 93,
          "nan_count": 0,
          "min": "0.11416332397311735",
          "max": "1.0",
          "histogram": [
           {
            "bin_start": 0.11416332397311735,
            "bin_end": 0.2027469915758056,
            "count": 1
           },
           {
            "bin_start": 0.2027469915758056,
            "bin_end": 0.2913306591784939,
            "count": 11
           },
           {
            "bin_start": 0.2913306591784939,
            "bin_end": 0.37991432678118214,
            "count": 24
           },
           {
            "bin_start": 0.37991432678118214,
            "bin_end": 0.4684979943838704,
            "count": 22
           },
           {
            "bin_start": 0.4684979943838704,
            "bin_end": 0.5570816619865586,
            "count": 26
           },
           {
            "bin_start": 0.5570816619865586,
            "bin_end": 0.6456653295892469,
            "count": 6
           },
           {
            "bin_start": 0.6456653295892469,
            "bin_end": 0.7342489971919351,
            "count": 2
           },
           {
            "bin_start": 0.7342489971919351,
            "bin_end": 0.8228326647946235,
            "count": 0
           },
           {
            "bin_start": 0.8228326647946235,
            "bin_end": 0.9114163323973118,
            "count": 0
           },
           {
            "bin_start": 0.9114163323973118,
            "bin_end": 1,
            "count": 1
           }
          ]
         }
        },
        {
         "name": "6",
         "dtype": "float64",
         "stats": {
          "unique_count": 93,
          "nan_count": 0,
          "min": "0.11921071551642592",
          "max": "1.0",
          "histogram": [
           {
            "bin_start": 0.11921071551642592,
            "bin_end": 0.20728964396478333,
            "count": 11
           },
           {
            "bin_start": 0.20728964396478333,
            "bin_end": 0.29536857241314074,
            "count": 19
           },
           {
            "bin_start": 0.29536857241314074,
            "bin_end": 0.38344750086149815,
            "count": 36
           },
           {
            "bin_start": 0.38344750086149815,
            "bin_end": 0.47152642930985555,
            "count": 23
           },
           {
            "bin_start": 0.47152642930985555,
            "bin_end": 0.559605357758213,
            "count": 2
           },
           {
            "bin_start": 0.559605357758213,
            "bin_end": 0.6476842862065704,
            "count": 1
           },
           {
            "bin_start": 0.6476842862065704,
            "bin_end": 0.7357632146549278,
            "count": 0
           },
           {
            "bin_start": 0.7357632146549278,
            "bin_end": 0.8238421431032852,
            "count": 0
           },
           {
            "bin_start": 0.8238421431032852,
            "bin_end": 0.9119210715516426,
            "count": 0
           },
           {
            "bin_start": 0.9119210715516426,
            "bin_end": 1,
            "count": 1
           }
          ]
         }
        },
        {
         "name": "7",
         "dtype": "float64",
         "stats": {
          "unique_count": 93,
          "nan_count": 0,
          "min": "0.15501333606785972",
          "max": "1.0",
          "histogram": [
           {
            "bin_start": 0.15501333606785972,
            "bin_end": 0.23951200246107374,
            "count": 1
           },
           {
            "bin_start": 0.23951200246107374,
            "bin_end": 0.32401066885428775,
            "count": 5
           },
           {
            "bin_start": 0.32401066885428775,
            "bin_end": 0.4085093352475018,
            "count": 21
           },
           {
            "bin_start": 0.4085093352475018,
            "bin_end": 0.49300800164071584,
            "count": 22
           },
           {
            "bin_start": 0.49300800164071584,
            "bin_end": 0.5775066680339298,
            "count": 16
           },
           {
            "bin_start": 0.5775066680339298,
            "bin_end": 0.6620053344271439,
            "count": 13
           },
           {
            "bin_start": 0.6620053344271439,
            "bin_end": 0.746504000820358,
            "count": 12
           },
           {
            "bin_start": 0.746504000820358,
            "bin_end": 0.831002667213572,
            "count": 2
           },
           {
            "bin_start": 0.831002667213572,
            "bin_end": 0.915501333606786,
            "count": 0
           },
           {
            "bin_start": 0.915501333606786,
            "bin_end": 1,
            "count": 1
           }
          ]
         }
        },
        {
         "name": "8",
         "dtype": "float64",
         "stats": {
          "unique_count": 93,
          "nan_count": 0,
          "min": "0.020505411428663245",
          "max": "1.0",
          "histogram": [
           {
            "bin_start": 0.020505411428663245,
            "bin_end": 0.11845487028579692,
            "count": 46
           },
           {
            "bin_start": 0.11845487028579692,
            "bin_end": 0.2164043291429306,
            "count": 42
           },
           {
            "bin_start": 0.2164043291429306,
            "bin_end": 0.31435378800006425,
            "count": 4
           },
           {
            "bin_start": 0.31435378800006425,
            "bin_end": 0.41230324685719794,
            "count": 0
           },
           {
            "bin_start": 0.41230324685719794,
            "bin_end": 0.5102527057143316,
            "count": 0
           },
           {
            "bin_start": 0.5102527057143316,
            "bin_end": 0.6082021645714653,
            "count": 0
           },
           {
            "bin_start": 0.6082021645714653,
            "bin_end": 0.7061516234285989,
            "count": 0
           },
           {
            "bin_start": 0.7061516234285989,
            "bin_end": 0.8041010822857326,
            "count": 0
           },
           {
            "bin_start": 0.8041010822857326,
            "bin_end": 0.9020505411428663,
            "count": 0
           },
           {
            "bin_start": 0.9020505411428663,
            "bin_end": 1,
            "count": 1
           }
          ]
         }
        },
        {
         "name": "9",
         "dtype": "float64",
         "stats": {
          "unique_count": 93,
          "nan_count": 0,
          "min": "0.10727493041849068",
          "max": "1.0",
          "histogram": [
           {
            "bin_start": 0.10727493041849068,
            "bin_end": 0.1965474373766416,
            "count": 9
           },
           {
            "bin_start": 0.1965474373766416,
            "bin_end": 0.2858199443347925,
            "count": 20
           },
           {
            "bin_start": 0.2858199443347925,
            "bin_end": 0.3750924512929435,
            "count": 40
           },
           {
            "bin_start": 0.3750924512929435,
            "bin_end": 0.4643649582510944,
            "count": 20
           },
           {
            "bin_start": 0.4643649582510944,
            "bin_end": 0.5536374652092453,
            "count": 3
           },
           {
            "bin_start": 0.5536374652092453,
            "bin_end": 0.6429099721673963,
            "count": 0
           },
           {
            "bin_start": 0.6429099721673963,
            "bin_end": 0.7321824791255472,
            "count": 0
           },
           {
            "bin_start": 0.7321824791255472,
            "bin_end": 0.8214549860836982,
            "count": 0
           },
           {
            "bin_start": 0.8214549860836982,
            "bin_end": 0.9107274930418491,
            "count": 0
           },
           {
            "bin_start": 0.9107274930418491,
            "bin_end": 1,
            "count": 1
           }
          ]
         }
        },
        {
         "name": "_deepnote_index_column",
         "dtype": "object"
        }
       ],
       "rows_top": [
        {
         "1": 1,
         "2": 0.483408069132226,
         "3": 0.758833965087655,
         "4": 0.6902412959754554,
         "5": 0.7791627161778846,
         "6": 0.4546186183265828,
         "7": 0.6809479572689854,
         "8": 0.1652431037934604,
         "9": 0.4285032648709356,
         "10": 0.18063282804375558,
         "11": 0.22068422916646535,
         "12": 0.19427361381299024,
         "13": 0.7756166187473488,
         "14": 0.10652896424598335,
         "15": 0.21002052707594643,
         "16": 0.6148716039667708,
         "17": 0,
         "18": 0.6725430878909295,
         "19": 0.4002091448756413,
         "20": 0.3546828887536011,
         "21": 0.7280485666662071,
         "22": 0.26524065601986435,
         "23": 0.10933249913986542,
         "24": 0.13222566461221963,
         "25": 0.14199645224738655,
         "26": 0.21548165460390922,
         "27": 0.23982313022703805,
         "28": 0.27411354357189155,
         "29": 0.09218547053678561,
         "30": 0.18208962918997085,
         "31": 0.23479534176017747,
         "249": 0.7582456264344521,
         "250": 0.5717138186261772,
         "251": 0.8490859136041382,
         "252": 0.24416264361695428,
         "253": 0.402781334488735,
         "254": 0.7382836832101183,
         "255": 0.4481113603456177,
         "256": 0.24671640597892253,
         "257": 0.435884956853097,
         "258": 0.4427435139183382,
         "259": 0.37023572999230847,
         "260": 0.35270083200559155,
         "261": 0.3926592702432615,
         "262": 0.40504612763223136,
         "263": 0.6792653536365271,
         "264": 0.7524776612942358,
         "265": 0.298765430818299,
         "266": 0.4733206441057215,
         "267": 0.2972638824001953,
         "268": 0.27418979322922055,
         "269": 0.7029779823500835,
         "270": 0.36264760654033634,
         "271": 0.38443611610060635,
         "272": 0.15695105741317406,
         "273": 0.40782957897302774,
         "274": 0.5583450773976393,
         "275": 0.27257378141819366,
         "276": 0.1648998471381189,
         "277": 0.34769804493809653,
         "278": 0.3283709038804097,
         "279": 0.6763929575083405,
         "559": 0.6887401961165396,
         "560": 0.7894696977242911,
         "561": 0.5632014057377783,
         "562": 0.44450687593236593,
         "563": 0.46993093735781677,
         "564": 0.325520714625687,
         "565": 0.5852980885895335,
         "566": 0.8409322746571288,
         "567": 0.5574510054916673,
         "568": 0.3182042538520342,
         "569": 0.6117016156870064,
         "570": 0.1103105151131375,
         "571": 0.6455866413486091,
         "572": 0.18104936026487073,
         "573": 0.20804685360425834,
         "574": 0.24976451094487306,
         "575": 0.4363364775191949,
         "576": 0.3687704695886821,
         "577": 0.3578108791585394,
         "578": 0.7144082758976948,
         "579": 0.7343374620472704,
         "580": 0.35252514434063353,
         "581": 0.6871615683503511,
         "582": 0.21624679519658718,
         "583": 0.7205279276279066,
         "584": 0.3911802887855623,
         "585": 0.19749618312957562,
         "586": 0.7438695236455547,
         "587": 0.7766244272876741,
         "588": 0.21412966726081428,
         "589": 0.5305940279886467,
         "_deepnote_index_column": "1"
        },
        {
         "1": 0.18063282804375558,
         "2": 0.3270213307051305,
         "3": 0.4265159904141238,
         "4": 0.3839123610787213,
         "5": 0.42370381882782227,
         "6": 0.24310370526539782,
         "7": 0.38000775333926606,
         "8": 0.23489058545133434,
         "9": 0.23306421587881077,
         "10": 1,
         "11": 0.13425229704699637,
         "12": 0.14931518466726845,
         "13": 0.4108240998871605,
         "14": 0.09243888586062698,
         "15": 0.142059002790901,
         "16": 0.30768357330622786,
         "17": 0.11195333783976602,
         "18": 0.35245780055441156,
         "19": 0.25246794394878114,
         "20": 0.15409003433403867,
         "21": 0.41364997634798606,
         "22": 0.23976071490101403,
         "23": 0.03812446368333522,
         "24": 0.044601262650814544,
         "25": 0.199059656171509,
         "26": 0.19736568353548256,
         "27": 0.153956565343347,
         "28": 0.2014611508967994,
         "29": 0,
         "30": 0.08904441343461778,
         "31": 0.22704629669353982,
         "249": 0.3432284713887995,
         "250": 0.257916477307232,
         "251": 0.4162567460988926,
         "252": 0.20562703184099962,
         "253": 0.23715534304080244,
         "254": 0.36888292828399794,
         "255": 0.2625119001377494,
         "256": 0.1875006710682312,
         "257": 0.23200877632612305,
         "258": 0.29480942503655727,
         "259": 0.21281160417478773,
         "260": 0.1618400042406405,
         "261": 0.2852172489593461,
         "262": 0.20047954302718374,
         "263": 0.34956380065154335,
         "264": 0.4231665002750399,
         "265": 0.24403229016454742,
         "266": 0.28531535197982894,
         "267": 0.2166585356571532,
         "268": 0.18265801742253207,
         "269": 0.41176217547202365,
         "270": 0.19518869728748178,
         "271": 0.1889231800744472,
         "272": 0.16688432284546417,
         "273": 0.26433284262626,
         "274": 0.3107704560494098,
         "275": 0.10136147371959803,
         "276": 0.09842854902582432,
         "277": 0.2698321198526943,
         "278": 0.2326183059318282,
         "279": 0.39828446843558774,
         "559": 0.3032152620338171,
         "560": 0.42252698179789283,
         "561": 0.34112811837714907,
         "562": 0.22100398369450747,
         "563": 0.25961809654114243,
         "564": 0.16981687333794782,
         "565": 0.3441414511797213,
         "566": 0.42216354758409413,
         "567": 0.303859269295528,
         "568": 0.32749136842633353,
         "569": 0.27633102086492023,
         "570": 0.14276810798952078,
         "571": 0.37520027345135454,
         "572": 0.13936949236835217,
         "573": 0.13034397503145934,
         "574": 0.1940166869851827,
         "575": 0.27188626500121116,
         "576": 0.29432434060701096,
         "577": 0.20303689438804107,
         "578": 0.39016769203555934,
         "579": 0.421203859507852,
         "580": 0.22832833174977307,
         "581": 0.36350074022638645,
         "582": 0.1515599491874845,
         "583": 0.40312304565105095,
         "584": 0.2615604204461537,
         "585": 0.19394599516775457,
         "586": 0.4525786010366408,
         "587": 0.3981419299461577,
         "588": 0.1856335099276244,
         "589": 0.3699152936460762,
         "_deepnote_index_column": "10"
        },
        {
         "1": 0.22068422916646535,
         "2": 0.27052803155458605,
         "3": 0.40517595612117374,
         "4": 0.35361539349282767,
         "5": 0.42632286562681576,
         "6": 0.3092564069674052,
         "7": 0.4066432055464153,
         "8": 0.10912347391756372,
         "9": 0.3331033848858579,
         "10": 0.13425229704699637,
         "11": 1,
         "12": 0.23204554705497615,
         "13": 0.42009549288834847,
         "14": 0.07416101292163724,
         "15": 0.08844939311248179,
         "16": 0.43687453333371074,
         "17": 0.07013757305024315,
         "18": 0.40143988919329343,
         "19": 0.31133943027687183,
         "20": 0.16624044861663312,
         "21": 0.4030113547724413,
         "22": 0.22071407183820302,
         "23": 0.08500718428554443,
         "24": 0.06930798608837219,
         "25": 0.16332501983058012,
         "26": 0.14297789136531347,
         "27": 0.23273117136183674,
         "28": 0.18985207997584108,
         "29": 0,
         "30": 0.05897514192288489,
         "31": 0.21610368708028194,
         "249": 0.36973800978888527,
         "250": 0.2740384009615874,
         "251": 0.42546701774738793,
         "252": 0.19911591762888892,
         "253": 0.30652541097464103,
         "254": 0.36465798521095927,
         "255": 0.3353026241149507,
         "256": 0.12006027960819698,
         "257": 0.3533142239786715,
         "258": 0.30908396510056924,
         "259": 0.2367619691368813,
         "260": 0.29070224296431324,
         "261": 0.24380590293343696,
         "262": 0.2887429744650508,
         "263": 0.34916887068905,
         "264": 0.388940242811712,
         "265": 0.20919346319089127,
         "266": 0.2750930314863178,
         "267": 0.23088342576643084,
         "268": 0.21820206510251705,
         "269": 0.41557223550352484,
         "270": 0.2226275055408522,
         "271": 0.22116153457670862,
         "272": 0.14724014696983134,
         "273": 0.21102451260179134,
         "274": 0.30788728566256274,
         "275": 0.0964388578284131,
         "276": 0.1295448593169296,
         "277": 0.2757880791345866,
         "278": 0.2660839485019397,
         "279": 0.35981234831569675,
         "559": 0.2924793474061824,
         "560": 0.41729434798760556,
         "561": 0.36422184055234264,
         "562": 0.3138741930765525,
         "563": 0.2951282243346348,
         "564": 0.2895175503341172,
         "565": 0.4084935602041191,
         "566": 0.43282828261923223,
         "567": 0.3416267003341681,
         "568": 0.2441981028098742,
         "569": 0.28983516124779196,
         "570": 0.14274790272358107,
         "571": 0.3493126099092023,
         "572": 0.22336398519090817,
         "573": 0.2973165911379172,
         "574": 0.26450885166846905,
         "575": 0.30669389714917006,
         "576": 0.27915299459101717,
         "577": 0.26815878466729837,
         "578": 0.42093748368401773,
         "579": 0.4209389076810237,
         "580": 0.2497963112095617,
         "581": 0.4192853694184775,
         "582": 0.15839954077749008,
         "583": 0.41560241885007354,
         "584": 0.2504741889624639,
         "585": 0.1831266986592972,
         "586": 0.40166995199931377,
         "587": 0.41804373905519143,
         "588": 0.15740677676733617,
         "589": 0.32362643197970875,
         "_deepnote_index_column": "11"
        },
        {
         "1": 0.19427361381299024,
         "2": 0.2441197680397068,
         "3": 0.4272577071974817,
         "4": 0.3192408567567878,
         "5": 0.3562704899584104,
         "6": 0.277719440998174,
         "7": 0.3596123742864741,
         "8": 0.1015800980521323,
         "9": 0.2053919793779604,
         "10": 0.14931518466726845,
         "11": 0.23204554705497615,
         "12": 1,
         "13": 0.3634774345562516,
         "14": 0.02624389755076395,
         "15": 0.051106196714089225,
         "16": 0.34665841191904634,
         "17": 0.0074938743529920915,
         "18": 0.3530697472704587,
         "19": 0.22482299980588594,
         "20": 0.1126535238281211,
         "21": 0.3446566125035512,
         "22": 0.17203930649269517,
         "23": 0,
         "24": 0.043035634309624204,
         "25": 0.09425997384837703,
         "26": 0.16880718524775895,
         "27": 0.2960927580704088,
         "28": 0.14549642676508068,
         "29": 0.0013298697375289104,
         "30": 0.08148720412530575,
         "31": 0.15026959639919824,
         "249": 0.3526745056157131,
         "250": 0.2204548596699346,
         "251": 0.39053722973079386,
         "252": 0.1784002432993591,
         "253": 0.2364589942009665,
         "254": 0.31931960340989707,
         "255": 0.23854372528743395,
         "256": 0.07992653112204096,
         "257": 0.2554107551660266,
         "258": 0.21834054767207556,
         "259": 0.1709621725817202,
         "260": 0.16795401719594216,
         "261": 0.16673682230147957,
         "262": 0.2647869977574895,
         "263": 0.3042254965888239,
         "264": 0.32834616531186944,
         "265": 0.2129507778238795,
         "266": 0.2867988298562866,
         "267": 0.11136342020096157,
         "268": 0.1991595283401838,
         "269": 0.3760271582231698,
         "270": 0.21964162520558184,
         "271": 0.259195911541902,
         "272": 0.13349296492299534,
         "273": 0.21820616633611212,
         "274": 0.24154858996400153,
         "275": 0.10225530870483401,
         "276": 0.07971538463230055,
         "277": 0.21358536670843953,
         "278": 0.18449581465279452,
         "279": 0.3604859630078906,
         "559": 0.2661881257416585,
         "560": 0.38888046086633854,
         "561": 0.3187150248753686,
         "562": 0.2605007642856577,
         "563": 0.3464578902825992,
         "564": 0.3249125781217487,
         "565": 0.3011100214179774,
         "566": 0.3994148816747727,
         "567": 0.30049375825206814,
         "568": 0.25233307286025064,
         "569": 0.2676385151245865,
         "570": 0.18251269613398546,
         "571": 0.3128638830403009,
         "572": 0.18761539909578806,
         "573": 0.26868748912681295,
         "574": 0.1941915047932422,
         "575": 0.2508532237948029,
         "576": 0.25549697430572027,
         "577": 0.2613780314637999,
         "578": 0.3586858044923382,
         "579": 0.4092643536398777,
         "580": 0.2004294332185954,
         "581": 0.35081337586180805,
         "582": 0.09780617536036562,
         "583": 0.37755582070578386,
         "584": 0.17874735713132928,
         "585": 0.15471631977063738,
         "586": 0.3677840650505133,
         "587": 0.36960259708713394,
         "588": 0.1952582600908277,
         "589": 0.33583148357601045,
         "_deepnote_index_column": "12"
        },
        {
         "1": 0.7756166187473488,
         "2": 0.4532947035459254,
         "3": 0.7902601435227455,
         "4": 0.6491092054283897,
         "5": 0.7980888333993069,
         "6": 0.4702817501688491,
         "7": 0.7875823848221053,
         "8": 0.16865077631718084,
         "9": 0.4178204379730157,
         "10": 0.4108240998871605,
         "11": 0.42009549288834847,
         "12": 0.3634774345562516,
         "13": 1,
         "14": 0.09182303361727895,
         "15": 0.1903064170236799,
         "16": 0.5508077755868968,
         "17": 0,
         "18": 0.6320385531489672,
         "19": 0.3877482999641323,
         "20": 0.31701277030960073,
         "21": 0.7647864294634261,
         "22": 0.2643564294748678,
         "23": 0.07627133322438162,
         "24": 0.09233864737020925,
         "25": 0.1438337727685639,
         "26": 0.19565243773501428,
         "27": 0.2183848702486637,
         "28": 0.24603874432796624,
         "29": 0.06785964362825125,
         "30": 0.17704267085758474,
         "31": 0.22908566280812503,
         "249": 0.6527884822721455,
         "250": 0.567343468101499,
         "251": 0.8331695530134895,
         "252": 0.22633847657725126,
         "253": 0.4000104381213194,
         "254": 0.6723743794543937,
         "255": 0.3995230449123318,
         "256": 0.2380717714152909,
         "257": 0.4217245489447612,
         "258": 0.47101660918293886,
         "259": 0.3817467595173131,
         "260": 0.3344886176287001,
         "261": 0.42037827153216056,
         "262": 0.32610593029464574,
         "263": 0.6652043712739084,
         "264": 0.8654616358145972,
         "265": 0.30576561883433884,
         "266": 0.4525139622334883,
         "267": 0.3103590804862808,
         "268": 0.2407831189843317,
         "269": 0.7290739084081337,
         "270": 0.32188439437677907,
         "271": 0.35932853083768657,
         "272": 0.13124129734242906,
         "273": 0.40068125544128363,
         "274": 0.573886471493499,
         "275": 0.2553453526205951,
         "276": 0.14970503624949794,
         "277": 0.358749308832943,
         "278": 0.3492012866989386,
         "279": 0.6712955219386165,
         "559": 0.5586030679931643,
         "560": 0.7910408989670732,
         "561": 0.5402103509444447,
         "562": 0.4299458063356073,
         "563": 0.4573333427300723,
         "564": 0.29346353182105467,
         "565": 0.6408883896919696,
         "566": 0.8326301022784064,
         "567": 0.6023306579092137,
         "568": 0.3017873810530671,
         "569": 0.4793620400584375,
         "570": 0.11402933208956201,
         "571": 0.653308334701576,
         "572": 0.16938961867152647,
         "573": 0.22924744905746164,
         "574": 0.25178747745716246,
         "575": 0.42386808915359075,
         "576": 0.35297880554765104,
         "577": 0.3292348943609632,
         "578": 0.7071867958365399,
         "579": 0.7983384149174664,
         "580": 0.35842092911541634,
         "581": 0.7231930604700587,
         "582": 0.19209998208573098,
         "583": 0.7368180402539715,
         "584": 0.3992386653141796,
         "585": 0.185410587105995,
         "586": 0.7762967330751758,
         "587": 0.8215401128138942,
         "588": 0.17822388772073827,
         "589": 0.5552667869110257,
         "_deepnote_index_column": "13"
        }
       ],
       "rows_bottom": [
        {
         "1": 0.5305940279886467,
         "2": 0.40507218058785466,
         "3": 0.5385482167356569,
         "4": 0.4887528819260135,
         "5": 0.5477287927764753,
         "6": 0.35055446278529057,
         "7": 0.5858130761746771,
         "8": 0.11416332397311735,
         "9": 0.336363521843124,
         "10": 0.3699152936460762,
         "11": 0.32362643197970875,
         "12": 0.33583148357601045,
         "13": 0.5552667869110257,
         "14": 0.25481028763635205,
         "15": 0.2716677719499401,
         "16": 0.6006817517349676,
         "17": 0.21640619597748967,
         "18": 0.48744189928067405,
         "19": 0.3894126519854275,
         "20": 0.3283352443484634,
         "21": 0.5827626756833709,
         "22": 0.35076565682412364,
         "23": 0.2162534758423642,
         "24": 0.2359993109793891,
         "25": 0.32214927164644536,
         "26": 0.3407554422059451,
         "27": 0.3812380026536958,
         "28": 0.32998559010762074,
         "29": 0.24575933771220637,
         "30": 0.24889213595493653,
         "31": 0.47456952618239956,
         "249": 0.4987584751767854,
         "250": 0.46649020716325273,
         "251": 0.5514005729826715,
         "252": 0.3075948690639544,
         "253": 0.5065295161465679,
         "254": 0.5070062945275431,
         "255": 0.3932138728113348,
         "256": 0.3206238887423012,
         "257": 0.46980333534201413,
         "258": 0.5059157915663439,
         "259": 0.42877660488610203,
         "260": 0.4293355859435818,
         "261": 0.43759917975398854,
         "262": 0.34784988617015633,
         "263": 0.6147051575532974,
         "264": 0.6528120853910914,
         "265": 0.4039325628902386,
         "266": 0.4195963239896212,
         "267": 0.3494630396096686,
         "268": 0.36917704056978495,
         "269": 0.5290557404703768,
         "270": 0.4092361876364904,
         "271": 0.4170174977140316,
         "272": 0.3352870446836279,
         "273": 0.5093996696190621,
         "274": 0.48344780517340413,
         "275": 0.2856483227853649,
         "276": 0.35704174940218536,
         "277": 0.43275672009820687,
         "278": 0.406844651797146,
         "279": 0.523726532975718,
         "559": 0.43323861378094863,
         "560": 0.547225818272026,
         "561": 0.5319425930430792,
         "562": 0.40513074005809124,
         "563": 0.3822269517541771,
         "564": 0.3861220137931213,
         "565": 0.45865278186001834,
         "566": 0.5605594632171702,
         "567": 0.4821217338277852,
         "568": 0.37267114032233317,
         "569": 0.3953600792527262,
         "570": 0.2736298992726951,
         "571": 0.4894676736533661,
         "572": 0.2575664178838224,
         "573": 0.3103304172451159,
         "574": 0.32993606186934854,
         "575": 0.5011168232259279,
         "576": 0.3708720763597776,
         "577": 0.3638846138369819,
         "578": 0.48082921494025743,
         "579": 0.5860500839836097,
         "580": 0.428664122533005,
         "581": 0.5205505274980634,
         "582": 0.3513628599320885,
         "583": 0.51478265551202,
         "584": 0.4068467410249378,
         "585": 0.3758342101998814,
         "586": 0.6794632165452719,
         "587": 0.5479257321884242,
         "588": 0.2876857156881675,
         "589": 1,
         "_deepnote_index_column": "589"
        },
        {
         "1": 0.4546186183265828,
         "2": 0.31091923441509317,
         "3": 0.44455549719710663,
         "4": 0.4013202490083907,
         "5": 0.48425326817139325,
         "6": 1,
         "7": 0.5216536558254155,
         "8": 0.1546270974953171,
         "9": 0.3694148594759662,
         "10": 0.24310370526539782,
         "11": 0.3092564069674052,
         "12": 0.277719440998174,
         "13": 0.4702817501688491,
         "14": 0.13236048457930005,
         "15": 0.16971470851509562,
         "16": 0.3960702643273346,
         "17": 0.1363143444424152,
         "18": 0.37593140355007637,
         "19": 0.6270746573044017,
         "20": 0.21029046937093576,
         "21": 0.37290214185669723,
         "22": 0.3122526422022337,
         "23": 0.13609336057931032,
         "24": 0.11926739685499244,
         "25": 0.23791688418567392,
         "26": 0.24489922028260647,
         "27": 0.3864896747653319,
         "28": 0.2798444665088138,
         "29": 0.11921071551642592,
         "30": 0.1514619719295892,
         "31": 0.25198540629559296,
         "249": 0.41056923044303995,
         "250": 0.3905633419073613,
         "251": 0.4011686995116982,
         "252": 0.29599963888106373,
         "253": 0.3355839045809669,
         "254": 0.4506088262957316,
         "255": 0.43352206785519454,
         "256": 0.22258519977477675,
         "257": 0.3561471605246517,
         "258": 0.32265066773859874,
         "259": 0.32921104559892855,
         "260": 0.3694440069434446,
         "261": 0.35548889632160696,
         "262": 0.3415534977607415,
         "263": 0.390990142750372,
         "264": 0.4588887514648534,
         "265": 0.256231775203838,
         "266": 0.3638941075072548,
         "267": 0.29805126174550023,
         "268": 0.2837088651262778,
         "269": 0.357381940678675,
         "270": 0.3397882378104833,
         "271": 0.35037512357124734,
         "272": 0.2016100504642392,
         "273": 0.3471541474547314,
         "274": 0.3725404202064597,
         "275": 0.19081599061608068,
         "276": 0.2223231225374872,
         "277": 0.2825813829202841,
         "278": 0.32319665966331235,
         "279": 0.45922426964785623,
         "559": 0.38884433969900245,
         "560": 0.45736003985453066,
         "561": 0.3575358735660207,
         "562": 0.351215520489067,
         "563": 0.3377858590024262,
         "564": 0.3343165370352291,
         "565": 0.36957886702895126,
         "566": 0.4456424585145282,
         "567": 0.39622259397622983,
         "568": 0.3212062608917614,
         "569": 0.307702976394829,
         "570": 0.1919739565553944,
         "571": 0.37175821655197483,
         "572": 0.26546546154956585,
         "573": 0.25503351791145745,
         "574": 0.28200981654826796,
         "575": 0.3256160844697803,
         "576": 0.20775894819905716,
         "577": 0.31426473071995775,
         "578": 0.3139566333600804,
         "579": 0.40617666375724804,
         "580": 0.3354827012521068,
         "581": 0.3920720972843996,
         "582": 0.2782894164454309,
         "583": 0.4227553197008347,
         "584": 0.3037736461279724,
         "585": 0.2388798345292653,
         "586": 0.4467955631005315,
         "587": 0.4289566932514778,
         "588": 0.2727980500535284,
         "589": 0.35055446278529057,
         "_deepnote_index_column": "6"
        },
        {
         "1": 0.6809479572689854,
         "2": 0.48649556928831195,
         "3": 0.7010965036477933,
         "4": 0.6208438761043381,
         "5": 0.6908024286587285,
         "6": 0.5216536558254155,
         "7": 1,
         "8": 0.15501333606785972,
         "9": 0.3815129275837986,
         "10": 0.38000775333926606,
         "11": 0.4066432055464153,
         "12": 0.3596123742864741,
         "13": 0.7875823848221053,
         "14": 0.2509025436020218,
         "15": 0.3940350891768519,
         "16": 0.5736848140662243,
         "17": 0.29926599691231826,
         "18": 0.6112156651133646,
         "19": 0.43731813813354625,
         "20": 0.4121889812046654,
         "21": 0.6792458095718912,
         "22": 0.4145653237600234,
         "23": 0.25884091852090774,
         "24": 0.3167065828427602,
         "25": 0.3549606929430711,
         "26": 0.38900171338804024,
         "27": 0.38497193439915045,
         "28": 0.3705949544346788,
         "29": 0.3504711229367893,
         "30": 0.3457526881117283,
         "31": 0.42064809305005413,
         "249": 0.6133119663618645,
         "250": 0.5496576964509354,
         "251": 0.7442068114455739,
         "252": 0.38393610145899215,
         "253": 0.5108493471199669,
         "254": 0.6266260508307572,
         "255": 0.484669250370541,
         "256": 0.38389010143933544,
         "257": 0.5025943169809288,
         "258": 0.5643846746057839,
         "259": 0.459906159617983,
         "260": 0.4493381622502668,
         "261": 0.5079283470174596,
         "262": 0.4313641059106508,
         "263": 0.6050362459872058,
         "264": 0.7688464736857707,
         "265": 0.43847724334108806,
         "266": 0.5135558821306005,
         "267": 0.4135379349976378,
         "268": 0.3828820900596812,
         "269": 0.6962381261033641,
         "270": 0.4495619316962839,
         "271": 0.4617101483869569,
         "272": 0.3573723601194907,
         "273": 0.493376563191979,
         "274": 0.5404627709361464,
         "275": 0.37188477956269317,
         "276": 0.35939864319605475,
         "277": 0.45345426505229036,
         "278": 0.4631138471899482,
         "279": 0.6256978149400894,
         "559": 0.5482445718746911,
         "560": 0.7292902879453723,
         "561": 0.58362740566748,
         "562": 0.4590618122339156,
         "563": 0.5335995693628776,
         "564": 0.4944726123299149,
         "565": 0.5813243285007224,
         "566": 0.7230850676855697,
         "567": 0.6083163503099156,
         "568": 0.43676413360447097,
         "569": 0.5337621408585125,
         "570": 0.3024469356471823,
         "571": 0.5913872134616662,
         "572": 0.33066806996591924,
         "573": 0.42781891052879495,
         "574": 0.4232180394992999,
         "575": 0.48682987626747265,
         "576": 0.4151426085626567,
         "577": 0.45567932816679924,
         "578": 0.6372276840582634,
         "579": 0.7355630389709434,
         "580": 0.5071948315892905,
         "581": 0.6452082033228845,
         "582": 0.36668840780099043,
         "583": 0.6683603790045713,
         "584": 0.493288174566626,
         "585": 0.36035082988238565,
         "586": 0.7042825103868826,
         "587": 0.7038216092560821,
         "588": 0.3508834676439344,
         "589": 0.5858130761746771,
         "_deepnote_index_column": "7"
        },
        {
         "1": 0.1652431037934604,
         "2": 0.2216503722802573,
         "3": 0.19801440335076992,
         "4": 0.10553471988378171,
         "5": 0.1217533338049045,
         "6": 0.1546270974953171,
         "7": 0.15501333606785972,
         "8": 1,
         "9": 0.14015870521731177,
         "10": 0.23489058545133434,
         "11": 0.10912347391756372,
         "12": 0.1015800980521323,
         "13": 0.16865077631718084,
         "14": 0.08330886088481804,
         "15": 0.08943909735177136,
         "16": 0.16190494912257702,
         "17": 0.20097700188438516,
         "18": 0.12339899315651492,
         "19": 0.07189408194277935,
         "20": 0.06813573416539165,
         "21": 0.06198876895470262,
         "22": 0.1758548898688701,
         "23": 0.08101685805476178,
         "24": 0.08228947236065409,
         "25": 0.26275773944655834,
         "26": 0.17636329443400922,
         "27": 0.13445501765758372,
         "28": 0.05688633378693475,
         "29": 0.037791665856607315,
         "30": 0.020505411428663245,
         "31": 0.09298192777578584,
         "249": 0.14980586993455725,
         "250": 0.1400092788765691,
         "251": 0.05626300559753317,
         "252": 0.08760075813759172,
         "253": 0.13398864189555104,
         "254": 0.12508651750877808,
         "255": 0.10426579586571472,
         "256": 0.09108882235191329,
         "257": 0.1498134328437084,
         "258": 0.14492960054693793,
         "259": 0.06811574457142477,
         "260": 0.11127488421075338,
         "261": 0.15705383819012875,
         "262": 0.12212131148364824,
         "263": 0.12279922684363953,
         "264": 0.21276674104246251,
         "265": 0.09421584693324292,
         "266": 0.15116529848229188,
         "267": 0.09568127347417799,
         "268": 0.09350887400345675,
         "269": 0.056628441414765196,
         "270": 0.09767825001617358,
         "271": 0.05330710167962782,
         "272": 0.12346012230908487,
         "273": 0.18056608143767594,
         "274": 0.15556995790546135,
         "275": 0.04080893846058098,
         "276": 0.09585452651165727,
         "277": 0.07646003826477432,
         "278": 0.12011623841948349,
         "279": 0.18268417864973197,
         "559": 0.15388749895186893,
         "560": 0.10966008898499224,
         "561": 0.09057496699005119,
         "562": 0.07825510760388765,
         "563": 0.15517472437548074,
         "564": 0.18444352847071321,
         "565": 0.05490198488766207,
         "566": 0.12509659129410722,
         "567": 0.12121962167639744,
         "568": 0.1669668285577337,
         "569": 0.12853490378299892,
         "570": 0.10710693911432556,
         "571": 0.0372806530570825,
         "572": 0.07797563078816228,
         "573": 0.09844049179096837,
         "574": 0.045668968811506394,
         "575": 0.09359861406096825,
         "576": 0.26862107479102926,
         "577": 0.09519212054873682,
         "578": 0.09923022128025094,
         "579": 0.14674974793797302,
         "580": 0.1423319634279353,
         "581": 0.05512469824962485,
         "582": 0.07348888493234162,
         "583": 0.18494991869124322,
         "584": 0.14437948446731497,
         "585": 0.10021911673079786,
         "586": 0.12344828137164088,
         "587": 0.07427686572729508,
         "588": 0.1318890402661853,
         "589": 0.11416332397311735,
         "_deepnote_index_column": "8"
        },
        {
         "1": 0.4285032648709356,
         "2": 0.303004894190676,
         "3": 0.37541225626697405,
         "4": 0.35574065011107425,
         "5": 0.4379503026230591,
         "6": 0.3694148594759662,
         "7": 0.3815129275837986,
         "8": 0.14015870521731177,
         "9": 1,
         "10": 0.23306421587881077,
         "11": 0.3331033848858579,
         "12": 0.2053919793779604,
         "13": 0.4178204379730157,
         "14": 0.12955098918874786,
         "15": 0.1466186865378799,
         "16": 0.3907937633727382,
         "17": 0.1578025869492521,
         "18": 0.3801104249812053,
         "19": 0.3231704689722955,
         "20": 0.19745248526295656,
         "21": 0.3730747391544522,
         "22": 0.29630598012683806,
         "23": 0.12288776236040644,
         "24": 0.13074802713947498,
         "25": 0.22953308213555457,
         "26": 0.2740983602788203,
         "27": 0.2715607964877329,
         "28": 0.24431606102112402,
         "29": 0.10727493041849068,
         "30": 0.11576395941798112,
         "31": 0.3279614151663758,
         "249": 0.3699982853232394,
         "250": 0.361117614991998,
         "251": 0.38008678599967294,
         "252": 0.2987167833587102,
         "253": 0.3957374191770664,
         "254": 0.3887338943442399,
         "255": 0.3236878823289364,
         "256": 0.20545400727095764,
         "257": 0.3343082766614305,
         "258": 0.32786016611486746,
         "259": 0.3634454048978917,
         "260": 0.5275573842706651,
         "261": 0.31821570814415,
         "262": 0.33964953421540756,
         "263": 0.3853072430588108,
         "264": 0.3884857230611838,
         "265": 0.3365992295046739,
         "266": 0.3129261287564744,
         "267": 0.2688242219974315,
         "268": 0.2520569644474955,
         "269": 0.3315197913062765,
         "270": 0.3488469265787678,
         "271": 0.3701026519222068,
         "272": 0.20708584860078472,
         "273": 0.3110313804092165,
         "274": 0.34475712911784173,
         "275": 0.14400114775888406,
         "276": 0.25289059010407167,
         "277": 0.4803436858603156,
         "278": 0.31231468134519536,
         "279": 0.3431868031322448,
         "559": 0.3340847895392771,
         "560": 0.4665633307884167,
         "561": 0.3068862380001488,
         "562": 0.2996539510224394,
         "563": 0.3339508070689625,
         "564": 0.23473697391427784,
         "565": 0.406428022260658,
         "566": 0.40151671452219784,
         "567": 0.4526239500744369,
         "568": 0.31030679175535403,
         "569": 0.32621428547435194,
         "570": 0.20358758830679324,
         "571": 0.4076446492943008,
         "572": 0.22251185038307741,
         "573": 0.2458147727085599,
         "574": 0.23564209972491057,
         "575": 0.3101485882806645,
         "576": 0.3687539616763743,
         "577": 0.2988670206304995,
         "578": 0.34582820601176567,
         "579": 0.3872576940964474,
         "580": 0.3055485690167766,
         "581": 0.36840041349564934,
         "582": 0.2556989780438186,
         "583": 0.40321491933776576,
         "584": 0.29818765495518496,
         "585": 0.2560130477587361,
         "586": 0.38237823107193647,
         "587": 0.38964003903182787,
         "588": 0.20537592181834374,
         "589": 0.336363521843124,
         "_deepnote_index_column": "9"
        }
       ]
      },
      "text/plain": "            1        10        11        12        13        14        15  \\\n1    1.000000  0.180633  0.220684  0.194274  0.775617  0.106529  0.210021   \n10   0.180633  1.000000  0.134252  0.149315  0.410824  0.092439  0.142059   \n11   0.220684  0.134252  1.000000  0.232046  0.420095  0.074161  0.088449   \n12   0.194274  0.149315  0.232046  1.000000  0.363477  0.026244  0.051106   \n13   0.775617  0.410824  0.420095  0.363477  1.000000  0.091823  0.190306   \n..        ...       ...       ...       ...       ...       ...       ...   \n589  0.530594  0.369915  0.323626  0.335831  0.555267  0.254810  0.271668   \n6    0.454619  0.243104  0.309256  0.277719  0.470282  0.132360  0.169715   \n7    0.680948  0.380008  0.406643  0.359612  0.787582  0.250903  0.394035   \n8    0.165243  0.234891  0.109123  0.101580  0.168651  0.083309  0.089439   \n9    0.428503  0.233064  0.333103  0.205392  0.417820  0.129551  0.146619   \n\n           16        17        18  ...       584       585       586  \\\n1    0.614872  0.000000  0.672543  ...  0.391180  0.197496  0.743870   \n10   0.307684  0.111953  0.352458  ...  0.261560  0.193946  0.452579   \n11   0.436875  0.070138  0.401440  ...  0.250474  0.183127  0.401670   \n12   0.346658  0.007494  0.353070  ...  0.178747  0.154716  0.367784   \n13   0.550808  0.000000  0.632039  ...  0.399239  0.185411  0.776297   \n..        ...       ...       ...  ...       ...       ...       ...   \n589  0.600682  0.216406  0.487442  ...  0.406847  0.375834  0.679463   \n6    0.396070  0.136314  0.375931  ...  0.303774  0.238880  0.446796   \n7    0.573685  0.299266  0.611216  ...  0.493288  0.360351  0.704283   \n8    0.161905  0.200977  0.123399  ...  0.144379  0.100219  0.123448   \n9    0.390794  0.157803  0.380110  ...  0.298188  0.256013  0.382378   \n\n          587       588       589         6         7         8         9  \n1    0.776624  0.214130  0.530594  0.454619  0.680948  0.165243  0.428503  \n10   0.398142  0.185634  0.369915  0.243104  0.380008  0.234891  0.233064  \n11   0.418044  0.157407  0.323626  0.309256  0.406643  0.109123  0.333103  \n12   0.369603  0.195258  0.335831  0.277719  0.359612  0.101580  0.205392  \n13   0.821540  0.178224  0.555267  0.470282  0.787582  0.168651  0.417820  \n..        ...       ...       ...       ...       ...       ...       ...  \n589  0.547926  0.287686  1.000000  0.350554  0.585813  0.114163  0.336364  \n6    0.428957  0.272798  0.350554  1.000000  0.521654  0.154627  0.369415  \n7    0.703822  0.350883  0.585813  0.521654  1.000000  0.155013  0.381513  \n8    0.074277  0.131889  0.114163  0.154627  0.155013  1.000000  0.140159  \n9    0.389640  0.205376  0.336364  0.369415  0.381513  0.140159  1.000000  \n\n[93 rows x 93 columns]",
      "text/html": "<div>\n<style scoped>\n    .dataframe tbody tr th:only-of-type {\n        vertical-align: middle;\n    }\n\n    .dataframe tbody tr th {\n        vertical-align: top;\n    }\n\n    .dataframe thead th {\n        text-align: right;\n    }\n</style>\n<table border=\"1\" class=\"dataframe\">\n  <thead>\n    <tr style=\"text-align: right;\">\n      <th></th>\n      <th>1</th>\n      <th>10</th>\n      <th>11</th>\n      <th>12</th>\n      <th>13</th>\n      <th>14</th>\n      <th>15</th>\n      <th>16</th>\n      <th>17</th>\n      <th>18</th>\n      <th>...</th>\n      <th>584</th>\n      <th>585</th>\n      <th>586</th>\n      <th>587</th>\n      <th>588</th>\n      <th>589</th>\n      <th>6</th>\n      <th>7</th>\n      <th>8</th>\n      <th>9</th>\n    </tr>\n  </thead>\n  <tbody>\n    <tr>\n      <th>1</th>\n      <td>1.000000</td>\n      <td>0.180633</td>\n      <td>0.220684</td>\n      <td>0.194274</td>\n      <td>0.775617</td>\n      <td>0.106529</td>\n      <td>0.210021</td>\n      <td>0.614872</td>\n      <td>0.000000</td>\n      <td>0.672543</td>\n      <td>...</td>\n      <td>0.391180</td>\n      <td>0.197496</td>\n      <td>0.743870</td>\n      <td>0.776624</td>\n      <td>0.214130</td>\n      <td>0.530594</td>\n      <td>0.454619</td>\n      <td>0.680948</td>\n      <td>0.165243</td>\n      <td>0.428503</td>\n    </tr>\n    <tr>\n      <th>10</th>\n      <td>0.180633</td>\n      <td>1.000000</td>\n      <td>0.134252</td>\n      <td>0.149315</td>\n      <td>0.410824</td>\n      <td>0.092439</td>\n      <td>0.142059</td>\n      <td>0.307684</td>\n      <td>0.111953</td>\n      <td>0.352458</td>\n      <td>...</td>\n      <td>0.261560</td>\n      <td>0.193946</td>\n      <td>0.452579</td>\n      <td>0.398142</td>\n      <td>0.185634</td>\n      <td>0.369915</td>\n      <td>0.243104</td>\n      <td>0.380008</td>\n      <td>0.234891</td>\n      <td>0.233064</td>\n    </tr>\n    <tr>\n      <th>11</th>\n      <td>0.220684</td>\n      <td>0.134252</td>\n      <td>1.000000</td>\n      <td>0.232046</td>\n      <td>0.420095</td>\n      <td>0.074161</td>\n      <td>0.088449</td>\n      <td>0.436875</td>\n      <td>0.070138</td>\n      <td>0.401440</td>\n      <td>...</td>\n      <td>0.250474</td>\n      <td>0.183127</td>\n      <td>0.401670</td>\n      <td>0.418044</td>\n      <td>0.157407</td>\n      <td>0.323626</td>\n      <td>0.309256</td>\n      <td>0.406643</td>\n      <td>0.109123</td>\n      <td>0.333103</td>\n    </tr>\n    <tr>\n      <th>12</th>\n      <td>0.194274</td>\n      <td>0.149315</td>\n      <td>0.232046</td>\n      <td>1.000000</td>\n      <td>0.363477</td>\n      <td>0.026244</td>\n      <td>0.051106</td>\n      <td>0.346658</td>\n      <td>0.007494</td>\n      <td>0.353070</td>\n      <td>...</td>\n      <td>0.178747</td>\n      <td>0.154716</td>\n      <td>0.367784</td>\n      <td>0.369603</td>\n      <td>0.195258</td>\n      <td>0.335831</td>\n      <td>0.277719</td>\n      <td>0.359612</td>\n      <td>0.101580</td>\n      <td>0.205392</td>\n    </tr>\n    <tr>\n      <th>13</th>\n      <td>0.775617</td>\n      <td>0.410824</td>\n      <td>0.420095</td>\n      <td>0.363477</td>\n      <td>1.000000</td>\n      <td>0.091823</td>\n      <td>0.190306</td>\n      <td>0.550808</td>\n      <td>0.000000</td>\n      <td>0.632039</td>\n      <td>...</td>\n      <td>0.399239</td>\n      <td>0.185411</td>\n      <td>0.776297</td>\n      <td>0.821540</td>\n      <td>0.178224</td>\n      <td>0.555267</td>\n      <td>0.470282</td>\n      <td>0.787582</td>\n      <td>0.168651</td>\n      <td>0.417820</td>\n    </tr>\n    <tr>\n      <th>...</th>\n      <td>...</td>\n      <td>...</td>\n      <td>...</td>\n      <td>...</td>\n      <td>...</td>\n      <td>...</td>\n      <td>...</td>\n      <td>...</td>\n      <td>...</td>\n      <td>...</td>\n      <td>...</td>\n      <td>...</td>\n      <td>...</td>\n      <td>...</td>\n      <td>...</td>\n      <td>...</td>\n      <td>...</td>\n      <td>...</td>\n      <td>...</td>\n      <td>...</td>\n      <td>...</td>\n    </tr>\n    <tr>\n      <th>589</th>\n      <td>0.530594</td>\n      <td>0.369915</td>\n      <td>0.323626</td>\n      <td>0.335831</td>\n      <td>0.555267</td>\n      <td>0.254810</td>\n      <td>0.271668</td>\n      <td>0.600682</td>\n      <td>0.216406</td>\n      <td>0.487442</td>\n      <td>...</td>\n      <td>0.406847</td>\n      <td>0.375834</td>\n      <td>0.679463</td>\n      <td>0.547926</td>\n      <td>0.287686</td>\n      <td>1.000000</td>\n      <td>0.350554</td>\n      <td>0.585813</td>\n      <td>0.114163</td>\n      <td>0.336364</td>\n    </tr>\n    <tr>\n      <th>6</th>\n      <td>0.454619</td>\n      <td>0.243104</td>\n      <td>0.309256</td>\n      <td>0.277719</td>\n      <td>0.470282</td>\n      <td>0.132360</td>\n      <td>0.169715</td>\n      <td>0.396070</td>\n      <td>0.136314</td>\n      <td>0.375931</td>\n      <td>...</td>\n      <td>0.303774</td>\n      <td>0.238880</td>\n      <td>0.446796</td>\n      <td>0.428957</td>\n      <td>0.272798</td>\n      <td>0.350554</td>\n      <td>1.000000</td>\n      <td>0.521654</td>\n      <td>0.154627</td>\n      <td>0.369415</td>\n    </tr>\n    <tr>\n      <th>7</th>\n      <td>0.680948</td>\n      <td>0.380008</td>\n      <td>0.406643</td>\n      <td>0.359612</td>\n      <td>0.787582</td>\n      <td>0.250903</td>\n      <td>0.394035</td>\n      <td>0.573685</td>\n      <td>0.299266</td>\n      <td>0.611216</td>\n      <td>...</td>\n      <td>0.493288</td>\n      <td>0.360351</td>\n      <td>0.704283</td>\n      <td>0.703822</td>\n      <td>0.350883</td>\n      <td>0.585813</td>\n      <td>0.521654</td>\n      <td>1.000000</td>\n      <td>0.155013</td>\n      <td>0.381513</td>\n    </tr>\n    <tr>\n      <th>8</th>\n      <td>0.165243</td>\n      <td>0.234891</td>\n      <td>0.109123</td>\n      <td>0.101580</td>\n      <td>0.168651</td>\n      <td>0.083309</td>\n      <td>0.089439</td>\n      <td>0.161905</td>\n      <td>0.200977</td>\n      <td>0.123399</td>\n      <td>...</td>\n      <td>0.144379</td>\n      <td>0.100219</td>\n      <td>0.123448</td>\n      <td>0.074277</td>\n      <td>0.131889</td>\n      <td>0.114163</td>\n      <td>0.154627</td>\n      <td>0.155013</td>\n      <td>1.000000</td>\n      <td>0.140159</td>\n    </tr>\n    <tr>\n      <th>9</th>\n      <td>0.428503</td>\n      <td>0.233064</td>\n      <td>0.333103</td>\n      <td>0.205392</td>\n      <td>0.417820</td>\n      <td>0.129551</td>\n      <td>0.146619</td>\n      <td>0.390794</td>\n      <td>0.157803</td>\n      <td>0.380110</td>\n      <td>...</td>\n      <td>0.298188</td>\n      <td>0.256013</td>\n      <td>0.382378</td>\n      <td>0.389640</td>\n      <td>0.205376</td>\n      <td>0.336364</td>\n      <td>0.369415</td>\n      <td>0.381513</td>\n      <td>0.140159</td>\n      <td>1.000000</td>\n    </tr>\n  </tbody>\n</table>\n<p>93 rows × 93 columns</p>\n</div>"
     },
     "metadata": {}
    }
   ],
   "execution_count": null
  },
  {
   "cell_type": "code",
   "metadata": {
    "tags": [],
    "cell_id": "00041-9fa3fd30-95d7-41cd-86a2-142b120da90c",
    "deepnote_to_be_reexecuted": false,
    "source_hash": "e96974a3",
    "execution_start": 1638215779736,
    "execution_millis": 98,
    "deepnote_output_heights": [
     155.60000610351562
    ],
    "deepnote_cell_type": "code"
   },
   "source": "# Faccio svd con 93 componenti (e poi mi prendo solo quelle che servono)\nn_components = 92\nsvd_latent_gestures, svd_variance = generate_gesture_gesture_svd(gestures_sim_matrix_pd, n_components=n_components)",
   "outputs": [],
   "execution_count": null
  },
  {
   "cell_type": "code",
   "metadata": {
    "deepnote_variable_name": "t3_query_top_p",
    "deepnote_variable_value": "5",
    "cell_id": "00041-8c620e05-f0f6-42c6-b128-88970e1c1838",
    "deepnote_to_be_reexecuted": false,
    "source_hash": "ca37bedc",
    "execution_start": 1638215779865,
    "execution_millis": 10,
    "deepnote_cell_type": "input-text"
   },
   "source": "t3_query_top_p = '5'",
   "outputs": [],
   "execution_count": null
  },
  {
   "cell_type": "code",
   "source": "t3_query_top_p = int(t3_query_top_p)\n# Input value check\nif t3_query_top_p < 1:\n    t3_query_top_p = 1\nelif t3_query_top_p > n_components:\n    t3_query_top_p = n_components\n\n# Tiro fuori le top p gestures latenti\ntop_p_gestures = get_top_p_latent_gestures(svd_latent_gestures, t3_query_top_p)",
   "metadata": {
    "tags": [],
    "cell_id": "00045-15bd40d7-33e0-4c8b-8e79-96acaf28063b",
    "deepnote_to_be_reexecuted": false,
    "source_hash": "8c1b6ce9",
    "execution_start": 1638215779893,
    "deepnote_cell_type": "code"
   },
   "outputs": [],
   "execution_count": null
  },
  {
   "cell_type": "code",
   "source": "#top_p_gestures",
   "metadata": {
    "tags": [],
    "cell_id": "00046-2640e2e4-32f0-460d-9b08-42795dbb8006",
    "deepnote_to_be_reexecuted": false,
    "source_hash": "bf6ad681",
    "execution_start": 1638215779933,
    "deepnote_cell_type": "code"
   },
   "outputs": [],
   "execution_count": null
  },
  {
   "cell_type": "markdown",
   "source": "## Task 4",
   "metadata": {
    "tags": [],
    "is_collapsed": false,
    "cell_id": "00044-9cfe662a-8cc0-4eed-8c0c-f9fe6eb8fd34",
    "deepnote_cell_type": "text-cell-h2"
   }
  },
  {
   "cell_type": "code",
   "metadata": {
    "deepnote_variable_name": "t4_p_partitions",
    "deepnote_variable_value": "3",
    "cell_id": "00047-107ad2bf-4161-48cc-944f-5dd10698959d",
    "deepnote_to_be_reexecuted": false,
    "source_hash": "21bab306",
    "execution_start": 1638215779949,
    "execution_millis": 6468555,
    "deepnote_cell_type": "input-text"
   },
   "source": "t4_p_partitions = '3'",
   "outputs": [],
   "execution_count": null
  },
  {
   "cell_type": "code",
   "metadata": {
    "tags": [],
    "cell_id": "00048-fa675f74-61bc-4d04-9b33-06518fb6e745",
    "deepnote_to_be_reexecuted": false,
    "source_hash": "5f16cad7",
    "execution_start": 1638215779963,
    "execution_millis": 6468554,
    "deepnote_cell_type": "code"
   },
   "source": "t4_p_partitions = int(t4_p_partitions)\n# Input value check\nif t4_p_partitions < 1:\n    t4_p_partitions = 1",
   "outputs": [],
   "execution_count": null
  },
  {
   "cell_type": "markdown",
   "source": "### Task 4A",
   "metadata": {
    "tags": [],
    "is_collapsed": false,
    "cell_id": "00045-1989ef30-c1fe-4922-8612-930834cd9cd1",
    "deepnote_cell_type": "text-cell-h3"
   }
  },
  {
   "cell_type": "markdown",
   "source": "Partizionamento top_p_gestures in base ai loro gradi di appartenenza alle p semantiche",
   "metadata": {
    "tags": [],
    "is_collapsed": false,
    "cell_id": "00047-a0819029-fabf-499e-9cbd-2e837f0f16ab",
    "deepnote_cell_type": "text-cell-p"
   }
  },
  {
   "cell_type": "code",
   "source": "# Preparo i dati\n\n# Dati reali (le top p gestures appena calcolate)\n# Essendo le top p gestures in un 'formato strano' le traduco in un array numpy (sono una lista di dizionari di liste)\nX_train = top_p_gestures_2_numpy(top_p_gestures, t3_query_top_p, t1_metrics_data['filename'])\nX_test = [X_train[0]] # Prendo un dato a caso giusto x testare la predict\n#X_test = [np.array([0.5, 0.2, 0.3, 0.7, 0.1])] # Un esempio a caso deve avere p dimensioni (se non presente fra i dati deve dare None)\n\n# Semplice esempio di test su 2 dimensioni\n#X_train = [np.array([1, 1]), np.array([2, 2]), np.array([3, 3]), np.array([4, 1]), np.array([1, 2]), np.array([-1, -2]), np.array([5, 2])]\n#X_test = [np.array([4, 1]), np.array([4, 2])]",
   "metadata": {
    "tags": [],
    "cell_id": "00052-c04737e2-8510-42f7-861f-c8625338840c",
    "deepnote_to_be_reexecuted": false,
    "source_hash": "583b2144",
    "execution_start": 1638215921516,
    "execution_millis": 5,
    "deepnote_cell_type": "code"
   },
   "outputs": [],
   "execution_count": null
  },
  {
   "cell_type": "code",
   "metadata": {
    "tags": [],
    "cell_id": "00050-387b0fc0-e1be-4529-ae1a-41b89849d568",
    "deepnote_to_be_reexecuted": false,
    "source_hash": "65038cf3",
    "execution_start": 1638215921550,
    "execution_millis": 52,
    "deepnote_output_heights": [
     194,
     155.60000610351562
    ],
    "deepnote_cell_type": "code"
   },
   "source": "# Creo e fitto il partizionatore selezionando t4_p_partitions come numero di gruppi da creare\npartitioner = MyPartitioner(t4_p_partitions, max_iterations=5)\npartitioner.fit(X_train)\n#partitioner.fit(gesture_sim_matrix)\nprint(\"Dimensione spazio:\", partitioner.groups_space_dimension)\n#print(\"Gruppi:\\n\", partitioner.groups)",
   "outputs": [
    {
     "name": "stdout",
     "text": "Dimensione spazio: 7.345523888943749\n",
     "output_type": "stream"
    }
   ],
   "execution_count": null
  },
  {
   "cell_type": "code",
   "metadata": {
    "tags": [],
    "cell_id": "00051-57c18208-c98c-46bf-bf97-9c4d242d0c56",
    "deepnote_to_be_reexecuted": false,
    "source_hash": "13c56718",
    "execution_start": 1638215924926,
    "execution_millis": 1,
    "deepnote_cell_type": "code"
   },
   "source": "print(\"Predizione gruppi:\", partitioner.predict(X_test))",
   "outputs": [
    {
     "name": "stdout",
     "text": "Predizione gruppi: [([0.1386, 0.1524, 0.0495, 0.0575, 0.1492], 2)]\n",
     "output_type": "stream"
    }
   ],
   "execution_count": null
  },
  {
   "cell_type": "markdown",
   "source": "### Task 4B",
   "metadata": {
    "tags": [],
    "is_collapsed": false,
    "cell_id": "00046-aba01dff-15c5-4d34-91d7-d45e7d1d2aa0",
    "deepnote_cell_type": "text-cell-h3"
   }
  },
  {
   "cell_type": "markdown",
   "source": "Clustering matrice similarità gesture-gesture con un algoritmo basato sul k-means (scritto da noi)",
   "metadata": {
    "tags": [],
    "is_collapsed": false,
    "cell_id": "00049-e8f155be-1fbc-4c3e-b02b-696dfd483adc",
    "deepnote_cell_type": "text-cell-p"
   }
  },
  {
   "cell_type": "code",
   "metadata": {
    "tags": [],
    "cell_id": "00053-fc41c804-7678-4cea-b1fc-2dcc84e5b4bc",
    "deepnote_to_be_reexecuted": false,
    "source_hash": "b23cf1ab",
    "execution_start": 1638215780063,
    "execution_millis": 2,
    "deepnote_cell_type": "code"
   },
   "source": "# Settings del k-means\nk = 5 # numero clusters\nmin_tolerance = 0.1 #meno di 10% differenza va bene\nmax_iterations = 5 # max numero di iterazioni\n\n# Generazione dati fasully, giusto x testare\n#X_train = np.array([[1, 2, 3],[1, 4, 5],[2, 7, 4],[3, 9, 2],[5, 5, 5]])\n#X_test = np.array([2, 1, 1])\n\n# Oppure uso dati reali\nX_train = gestures_sim_matrix_pd.to_numpy()\n# per test del data, sono 60x60\nX_test = X_train[0:10] # Prendo tot elementi del training data e provo poi a predirli, o sotto predico un elemento nuovo\n#X_test = [np.array([1, 1, 1, 1, 1, 1, 1, 1, 1, 1, 1, 1, 1, 1, 1, 1, 1, 1, 1, 1, 1, 1, 1, 1, 1, 1, 1, 1, 1, 1, 1, 1, 1, 1, 1, 1, 1, 1, 1, 1, 1, 1, 1, 1, 1, 1, 1, 1, 1, 1, 1, 1, 1, 1, 1, 1, 1, 1, 1, 1])]",
   "outputs": [],
   "execution_count": null
  },
  {
   "cell_type": "code",
   "metadata": {
    "tags": [],
    "cell_id": "00053-b2fce304-e4af-4e1a-b571-9d8e33f0fd20",
    "deepnote_to_be_reexecuted": false,
    "source_hash": "418ea723",
    "execution_start": 1638215780130,
    "execution_millis": 44,
    "deepnote_output_heights": [
     21.199996948242188
    ],
    "deepnote_cell_type": "code"
   },
   "source": "# Creazione e fit dell'algoritmo\nkmean = SimpleKMeans(k=k, min_tolerance=min_tolerance, max_iterations=max_iterations)\nkmean.fit(X_train)",
   "outputs": [],
   "execution_count": null
  },
  {
   "cell_type": "code",
   "metadata": {
    "tags": [],
    "cell_id": "00054-d6a5bc9f-5bba-42b3-93b6-c5846ecf9aea",
    "deepnote_to_be_reexecuted": false,
    "source_hash": "22b3cb16",
    "execution_start": 1638215780175,
    "execution_millis": 3,
    "deepnote_output_heights": [
     21.199996948242188,
     21.199996948242188
    ],
    "deepnote_cell_type": "code"
   },
   "source": "# Predizione dati\npredictions = kmean.predict(X_test)\nprint(predictions)",
   "outputs": [
    {
     "name": "stdout",
     "text": "[0, 2, 2, 2, 0, 1, 4, 0, 1, 0]\n",
     "output_type": "stream"
    }
   ],
   "execution_count": null
  },
  {
   "cell_type": "markdown",
   "source": "### Task 4C",
   "metadata": {
    "tags": [],
    "is_collapsed": false,
    "cell_id": "00048-5cfa9be3-10a5-4401-bf03-b9d304c3196b",
    "deepnote_cell_type": "text-cell-h3"
   }
  },
  {
   "cell_type": "markdown",
   "source": "Clustering matrice similarità gesture-gesture con un algoritmo di clustering spettrale basato sulla matrice laplaciana",
   "metadata": {
    "tags": [],
    "is_collapsed": false,
    "cell_id": "00051-03956622-a0af-4ed6-8b21-e44448b6632d",
    "deepnote_cell_type": "text-cell-p"
   }
  },
  {
   "cell_type": "code",
   "metadata": {
    "tags": [],
    "cell_id": "00052-df70d435-7ebe-4eb7-88c2-2742141056d3",
    "deepnote_to_be_reexecuted": false,
    "source_hash": "4d046c65",
    "execution_start": 1638215780221,
    "execution_millis": 217,
    "deepnote_cell_type": "code"
   },
   "source": "analysys_spectral_results = spectral_clustering_analyze(gestures_sim_matrix_pd, max_clusters=15)\nanalysys_spectral_results = spectral_analisys_results_2_pandas(analysys_spectral_results, gestures_sim_matrix_pd)",
   "outputs": [],
   "execution_count": null
  },
  {
   "cell_type": "code",
   "metadata": {
    "tags": [],
    "cell_id": "00053-9c0ede94-414f-46f9-a4a6-231b3beb4052",
    "deepnote_to_be_reexecuted": false,
    "source_hash": "6e9152ab",
    "execution_start": 1638215780493,
    "execution_millis": 9,
    "deepnote_output_heights": [
     527
    ],
    "deepnote_cell_type": "code"
   },
   "source": "# Plot clusters sankey\nsource, target, value = spectral_analisys_results_pandas_2_split(analysys_spectral_results)\nfig = go.Figure(data=[go.Sankey(\n    node = dict(\n        pad = 15,\n        thickness = 20,\n        line = dict(color = \"black\", width = 0.5),\n        label = list(set(source).union(set(target))),\n        color = \"blue\"\n    ),\n    link = dict(\n        source = source,\n        target = target,\n        value = value\n    )\n)])\n\nfig.update_layout(title_text=\"Spectral Clustering Evolution\", font_size=10)\nfig.show()",
   "outputs": [
    {
     "data": {
      "text/html": "<html>\n<head><meta charset=\"utf-8\" /></head>\n<body>\n    <div>            <script src=\"https://cdnjs.cloudflare.com/ajax/libs/mathjax/2.7.5/MathJax.js?config=TeX-AMS-MML_SVG\"></script><script type=\"text/javascript\">if (window.MathJax) {MathJax.Hub.Config({SVG: {font: \"STIX-Web\"}});}</script>                <script type=\"text/javascript\">window.PlotlyConfig = {MathJaxConfig: 'local'};</script>\n        <script src=\"https://cdn.plot.ly/plotly-2.4.2.min.js\"></script>                <div id=\"a3ccdb59-cc91-4c74-8eda-9229c4340aac\" class=\"plotly-graph-div\" style=\"height:525px; width:100%;\"></div>            <script type=\"text/javascript\">                                    window.PLOTLYENV=window.PLOTLYENV || {};                                    if (document.getElementById(\"a3ccdb59-cc91-4c74-8eda-9229c4340aac\")) {                    Plotly.newPlot(                        \"a3ccdb59-cc91-4c74-8eda-9229c4340aac\",                        [{\"link\":{\"source\":[0,0,2,1,1,2,1,3,4,5,4,4,3,3,5,5,6,6,9,7,7,8,8,9,9,6,7,7,7,14,10,14,11,11,10,11,12,14,10,12,13,12,13,14,11,19,18,17,18,20,19,19,20,19,16,19,15,17,17,17,15,27,23,27,25,26,25,25,22,27,24,21,21,22,26,21,24,23,24,22,24,32,33,34,29,28,30,28,35,28,28,28,31,31,35,31,34,34,31,29,30,29,39,40,36,39,43,43,40,40,36,38,38,42,42,42,42,43,41,37,41,41,44,53,49,51,48,50,53,54,48,50,45,47,45,47,54,46,54,50,48,52,46,51,57,61,58,62,64,57,57,57,64,55,55,57,59,60,56,55,62,60,55,56,65,63,56,55,60,58,63,63,61,77,67,75,75,69,69,67,68,70,76,69,66,71,77,72,73,68,68,66,70,74,70,73,66,73,71,75,72,74,76,83,89,87,83,82,79,79,90,89,90,83,90,83,78,81,83,85,86,78,81,82,81,86,84,84,88,80,78,80,80,86,87,81,89,87,80,87,81,84],\"target\":[2,1,3,3,4,5,5,6,9,7,6,8,8,7,8,9,14,10,14,11,10,10,12,10,13,12,12,14,13,19,18,17,18,20,19,19,16,15,15,15,15,20,17,20,17,27,23,27,25,26,23,26,25,25,22,24,21,21,24,23,26,32,33,34,29,29,33,28,30,28,28,35,28,28,31,31,34,34,31,29,29,39,40,36,43,36,38,39,42,40,43,38,41,38,37,36,40,44,44,37,37,44,53,49,51,48,50,53,54,50,45,47,54,46,48,54,50,47,52,46,47,45,51,57,61,58,62,64,64,61,57,55,55,59,60,56,59,60,60,60,60,65,63,55,77,67,75,75,69,67,68,70,76,76,77,69,66,71,72,73,68,73,66,70,74,71,73,75,70,70,72,74,76,83,89,87,83,82,79,79,79,90,90,83,78,81,78,85,86,82,84,82,83,88,80,78,80,89,80,78,81,81,89,102,94,93,100,99,98,102,100,101,92,99,91,101,91,93,91,95,97,93,103,104,98,98,100,104,96,100,92,92,93,93,97,92,91,101,101,91,101,102],\"value\":[41,52,24,6,41,17,5,26,23,19,3,15,2,2,1,2,19,9,3,9,1,1,17,3,19,1,6,1,4,14,8,1,2,5,4,1,15,7,2,3,6,6,17,1,1,12,5,1,5,11,1,1,1,4,15,1,17,1,16,1,1,9,6,1,5,3,1,4,13,3,1,14,1,1,10,3,9,1,2,1,5,9,7,4,8,5,12,1,11,1,2,1,8,1,3,4,1,6,2,5,1,1,8,6,1,2,4,5,1,2,12,10,4,2,7,1,1,1,2,9,4,2,9,9,6,9,7,3,4,1,1,3,6,1,8,14,3,2,2,1,1,2,9,1,5,6,5,1,6,2,1,1,1,1,3,1,4,7,7,1,6,6,3,6,2,6,1,2,1,4,2,1,1,6,5,6,1,4,1,3,1,2,2,2,5,12,2,8,6,1,5,1,1,2,9,1,1,1,1,1,1,1,1,3,4,2,2,4,2,3,2,2,1,3,1,1,5,2,1,8,4,2,9,2,1,1,2,2,2,1,2,3,3,1,2,1,1,1,4,1,1,1]},\"node\":{\"color\":\"blue\",\"label\":[0,1,2,3,4,5,6,7,8,9,10,11,12,13,14,15,16,17,18,19,20,21,22,23,24,25,26,27,28,29,30,31,32,33,34,35,36,37,38,39,40,41,42,43,44,45,46,47,48,49,50,51,52,53,54,55,56,57,58,59,60,61,62,63,64,65,66,67,68,69,70,71,72,73,74,75,76,77,78,79,80,81,82,83,84,85,86,87,88,89,90,91,92,93,94,95,96,97,98,99,100,101,102,103,104],\"line\":{\"color\":\"black\",\"width\":0.5},\"pad\":15,\"thickness\":20},\"type\":\"sankey\"}],                        {\"font\":{\"size\":10},\"template\":{\"data\":{\"bar\":[{\"error_x\":{\"color\":\"#2a3f5f\"},\"error_y\":{\"color\":\"#2a3f5f\"},\"marker\":{\"line\":{\"color\":\"#E5ECF6\",\"width\":0.5},\"pattern\":{\"fillmode\":\"overlay\",\"size\":10,\"solidity\":0.2}},\"type\":\"bar\"}],\"barpolar\":[{\"marker\":{\"line\":{\"color\":\"#E5ECF6\",\"width\":0.5},\"pattern\":{\"fillmode\":\"overlay\",\"size\":10,\"solidity\":0.2}},\"type\":\"barpolar\"}],\"carpet\":[{\"aaxis\":{\"endlinecolor\":\"#2a3f5f\",\"gridcolor\":\"white\",\"linecolor\":\"white\",\"minorgridcolor\":\"white\",\"startlinecolor\":\"#2a3f5f\"},\"baxis\":{\"endlinecolor\":\"#2a3f5f\",\"gridcolor\":\"white\",\"linecolor\":\"white\",\"minorgridcolor\":\"white\",\"startlinecolor\":\"#2a3f5f\"},\"type\":\"carpet\"}],\"choropleth\":[{\"colorbar\":{\"outlinewidth\":0,\"ticks\":\"\"},\"type\":\"choropleth\"}],\"contour\":[{\"colorbar\":{\"outlinewidth\":0,\"ticks\":\"\"},\"colorscale\":[[0.0,\"#0d0887\"],[0.1111111111111111,\"#46039f\"],[0.2222222222222222,\"#7201a8\"],[0.3333333333333333,\"#9c179e\"],[0.4444444444444444,\"#bd3786\"],[0.5555555555555556,\"#d8576b\"],[0.6666666666666666,\"#ed7953\"],[0.7777777777777778,\"#fb9f3a\"],[0.8888888888888888,\"#fdca26\"],[1.0,\"#f0f921\"]],\"type\":\"contour\"}],\"contourcarpet\":[{\"colorbar\":{\"outlinewidth\":0,\"ticks\":\"\"},\"type\":\"contourcarpet\"}],\"heatmap\":[{\"colorbar\":{\"outlinewidth\":0,\"ticks\":\"\"},\"colorscale\":[[0.0,\"#0d0887\"],[0.1111111111111111,\"#46039f\"],[0.2222222222222222,\"#7201a8\"],[0.3333333333333333,\"#9c179e\"],[0.4444444444444444,\"#bd3786\"],[0.5555555555555556,\"#d8576b\"],[0.6666666666666666,\"#ed7953\"],[0.7777777777777778,\"#fb9f3a\"],[0.8888888888888888,\"#fdca26\"],[1.0,\"#f0f921\"]],\"type\":\"heatmap\"}],\"heatmapgl\":[{\"colorbar\":{\"outlinewidth\":0,\"ticks\":\"\"},\"colorscale\":[[0.0,\"#0d0887\"],[0.1111111111111111,\"#46039f\"],[0.2222222222222222,\"#7201a8\"],[0.3333333333333333,\"#9c179e\"],[0.4444444444444444,\"#bd3786\"],[0.5555555555555556,\"#d8576b\"],[0.6666666666666666,\"#ed7953\"],[0.7777777777777778,\"#fb9f3a\"],[0.8888888888888888,\"#fdca26\"],[1.0,\"#f0f921\"]],\"type\":\"heatmapgl\"}],\"histogram\":[{\"marker\":{\"pattern\":{\"fillmode\":\"overlay\",\"size\":10,\"solidity\":0.2}},\"type\":\"histogram\"}],\"histogram2d\":[{\"colorbar\":{\"outlinewidth\":0,\"ticks\":\"\"},\"colorscale\":[[0.0,\"#0d0887\"],[0.1111111111111111,\"#46039f\"],[0.2222222222222222,\"#7201a8\"],[0.3333333333333333,\"#9c179e\"],[0.4444444444444444,\"#bd3786\"],[0.5555555555555556,\"#d8576b\"],[0.6666666666666666,\"#ed7953\"],[0.7777777777777778,\"#fb9f3a\"],[0.8888888888888888,\"#fdca26\"],[1.0,\"#f0f921\"]],\"type\":\"histogram2d\"}],\"histogram2dcontour\":[{\"colorbar\":{\"outlinewidth\":0,\"ticks\":\"\"},\"colorscale\":[[0.0,\"#0d0887\"],[0.1111111111111111,\"#46039f\"],[0.2222222222222222,\"#7201a8\"],[0.3333333333333333,\"#9c179e\"],[0.4444444444444444,\"#bd3786\"],[0.5555555555555556,\"#d8576b\"],[0.6666666666666666,\"#ed7953\"],[0.7777777777777778,\"#fb9f3a\"],[0.8888888888888888,\"#fdca26\"],[1.0,\"#f0f921\"]],\"type\":\"histogram2dcontour\"}],\"mesh3d\":[{\"colorbar\":{\"outlinewidth\":0,\"ticks\":\"\"},\"type\":\"mesh3d\"}],\"parcoords\":[{\"line\":{\"colorbar\":{\"outlinewidth\":0,\"ticks\":\"\"}},\"type\":\"parcoords\"}],\"pie\":[{\"automargin\":true,\"type\":\"pie\"}],\"scatter\":[{\"marker\":{\"colorbar\":{\"outlinewidth\":0,\"ticks\":\"\"}},\"type\":\"scatter\"}],\"scatter3d\":[{\"line\":{\"colorbar\":{\"outlinewidth\":0,\"ticks\":\"\"}},\"marker\":{\"colorbar\":{\"outlinewidth\":0,\"ticks\":\"\"}},\"type\":\"scatter3d\"}],\"scattercarpet\":[{\"marker\":{\"colorbar\":{\"outlinewidth\":0,\"ticks\":\"\"}},\"type\":\"scattercarpet\"}],\"scattergeo\":[{\"marker\":{\"colorbar\":{\"outlinewidth\":0,\"ticks\":\"\"}},\"type\":\"scattergeo\"}],\"scattergl\":[{\"marker\":{\"colorbar\":{\"outlinewidth\":0,\"ticks\":\"\"}},\"type\":\"scattergl\"}],\"scattermapbox\":[{\"marker\":{\"colorbar\":{\"outlinewidth\":0,\"ticks\":\"\"}},\"type\":\"scattermapbox\"}],\"scatterpolar\":[{\"marker\":{\"colorbar\":{\"outlinewidth\":0,\"ticks\":\"\"}},\"type\":\"scatterpolar\"}],\"scatterpolargl\":[{\"marker\":{\"colorbar\":{\"outlinewidth\":0,\"ticks\":\"\"}},\"type\":\"scatterpolargl\"}],\"scatterternary\":[{\"marker\":{\"colorbar\":{\"outlinewidth\":0,\"ticks\":\"\"}},\"type\":\"scatterternary\"}],\"surface\":[{\"colorbar\":{\"outlinewidth\":0,\"ticks\":\"\"},\"colorscale\":[[0.0,\"#0d0887\"],[0.1111111111111111,\"#46039f\"],[0.2222222222222222,\"#7201a8\"],[0.3333333333333333,\"#9c179e\"],[0.4444444444444444,\"#bd3786\"],[0.5555555555555556,\"#d8576b\"],[0.6666666666666666,\"#ed7953\"],[0.7777777777777778,\"#fb9f3a\"],[0.8888888888888888,\"#fdca26\"],[1.0,\"#f0f921\"]],\"type\":\"surface\"}],\"table\":[{\"cells\":{\"fill\":{\"color\":\"#EBF0F8\"},\"line\":{\"color\":\"white\"}},\"header\":{\"fill\":{\"color\":\"#C8D4E3\"},\"line\":{\"color\":\"white\"}},\"type\":\"table\"}]},\"layout\":{\"annotationdefaults\":{\"arrowcolor\":\"#2a3f5f\",\"arrowhead\":0,\"arrowwidth\":1},\"autotypenumbers\":\"strict\",\"coloraxis\":{\"colorbar\":{\"outlinewidth\":0,\"ticks\":\"\"}},\"colorscale\":{\"diverging\":[[0,\"#8e0152\"],[0.1,\"#c51b7d\"],[0.2,\"#de77ae\"],[0.3,\"#f1b6da\"],[0.4,\"#fde0ef\"],[0.5,\"#f7f7f7\"],[0.6,\"#e6f5d0\"],[0.7,\"#b8e186\"],[0.8,\"#7fbc41\"],[0.9,\"#4d9221\"],[1,\"#276419\"]],\"sequential\":[[0.0,\"#0d0887\"],[0.1111111111111111,\"#46039f\"],[0.2222222222222222,\"#7201a8\"],[0.3333333333333333,\"#9c179e\"],[0.4444444444444444,\"#bd3786\"],[0.5555555555555556,\"#d8576b\"],[0.6666666666666666,\"#ed7953\"],[0.7777777777777778,\"#fb9f3a\"],[0.8888888888888888,\"#fdca26\"],[1.0,\"#f0f921\"]],\"sequentialminus\":[[0.0,\"#0d0887\"],[0.1111111111111111,\"#46039f\"],[0.2222222222222222,\"#7201a8\"],[0.3333333333333333,\"#9c179e\"],[0.4444444444444444,\"#bd3786\"],[0.5555555555555556,\"#d8576b\"],[0.6666666666666666,\"#ed7953\"],[0.7777777777777778,\"#fb9f3a\"],[0.8888888888888888,\"#fdca26\"],[1.0,\"#f0f921\"]]},\"colorway\":[\"#636efa\",\"#EF553B\",\"#00cc96\",\"#ab63fa\",\"#FFA15A\",\"#19d3f3\",\"#FF6692\",\"#B6E880\",\"#FF97FF\",\"#FECB52\"],\"font\":{\"color\":\"#2a3f5f\"},\"geo\":{\"bgcolor\":\"white\",\"lakecolor\":\"white\",\"landcolor\":\"#E5ECF6\",\"showlakes\":true,\"showland\":true,\"subunitcolor\":\"white\"},\"hoverlabel\":{\"align\":\"left\"},\"hovermode\":\"closest\",\"mapbox\":{\"style\":\"light\"},\"paper_bgcolor\":\"white\",\"plot_bgcolor\":\"#E5ECF6\",\"polar\":{\"angularaxis\":{\"gridcolor\":\"white\",\"linecolor\":\"white\",\"ticks\":\"\"},\"bgcolor\":\"#E5ECF6\",\"radialaxis\":{\"gridcolor\":\"white\",\"linecolor\":\"white\",\"ticks\":\"\"}},\"scene\":{\"xaxis\":{\"backgroundcolor\":\"#E5ECF6\",\"gridcolor\":\"white\",\"gridwidth\":2,\"linecolor\":\"white\",\"showbackground\":true,\"ticks\":\"\",\"zerolinecolor\":\"white\"},\"yaxis\":{\"backgroundcolor\":\"#E5ECF6\",\"gridcolor\":\"white\",\"gridwidth\":2,\"linecolor\":\"white\",\"showbackground\":true,\"ticks\":\"\",\"zerolinecolor\":\"white\"},\"zaxis\":{\"backgroundcolor\":\"#E5ECF6\",\"gridcolor\":\"white\",\"gridwidth\":2,\"linecolor\":\"white\",\"showbackground\":true,\"ticks\":\"\",\"zerolinecolor\":\"white\"}},\"shapedefaults\":{\"line\":{\"color\":\"#2a3f5f\"}},\"ternary\":{\"aaxis\":{\"gridcolor\":\"white\",\"linecolor\":\"white\",\"ticks\":\"\"},\"baxis\":{\"gridcolor\":\"white\",\"linecolor\":\"white\",\"ticks\":\"\"},\"bgcolor\":\"#E5ECF6\",\"caxis\":{\"gridcolor\":\"white\",\"linecolor\":\"white\",\"ticks\":\"\"}},\"title\":{\"x\":0.05},\"xaxis\":{\"automargin\":true,\"gridcolor\":\"white\",\"linecolor\":\"white\",\"ticks\":\"\",\"title\":{\"standoff\":15},\"zerolinecolor\":\"white\",\"zerolinewidth\":2},\"yaxis\":{\"automargin\":true,\"gridcolor\":\"white\",\"linecolor\":\"white\",\"ticks\":\"\",\"title\":{\"standoff\":15},\"zerolinecolor\":\"white\",\"zerolinewidth\":2}}},\"title\":{\"text\":\"Spectral Clustering Evolution\"}},                        {\"responsive\": true}                    ).then(function(){\n                            \nvar gd = document.getElementById('a3ccdb59-cc91-4c74-8eda-9229c4340aac');\nvar x = new MutationObserver(function (mutations, observer) {{\n        var display = window.getComputedStyle(gd).display;\n        if (!display || display === 'none') {{\n            console.log([gd, 'removed!']);\n            Plotly.purge(gd);\n            observer.disconnect();\n        }}\n}});\n\n// Listen for the removal of the full notebook cells\nvar notebookContainer = gd.closest('#notebook-container');\nif (notebookContainer) {{\n    x.observe(notebookContainer, {childList: true});\n}}\n\n// Listen for the clearing of the current output cell\nvar outputEl = gd.closest('.output');\nif (outputEl) {{\n    x.observe(outputEl, {childList: true});\n}}\n\n                        })                };                            </script>        </div>\n</body>\n</html>"
     },
     "metadata": {},
     "output_type": "display_data"
    }
   ],
   "execution_count": null
  },
  {
   "cell_type": "code",
   "source": "generated_cluster_labels = spectral_clustering(gestures_sim_matrix_pd, n_clusters=t4_p_partitions)#, offset=44) # Usare offset se vogliamo mostrare i nomi dei cluster mostrati nel sankey, offset=44 per n_clusters=10\nclustering_labels = [str(elem) for elem in set(generated_cluster_labels)] # All the cluster names\ncluster_labels_full = cluster_labels_2_pandas(generated_cluster_labels, gestures_sim_matrix_pd.columns)",
   "metadata": {
    "tags": [],
    "cell_id": "00064-dcc73abb-8745-4437-80f2-3714d5ed2b6e",
    "deepnote_to_be_reexecuted": false,
    "source_hash": "61bc35c5",
    "execution_start": 1638215780511,
    "execution_millis": 15,
    "deepnote_cell_type": "code"
   },
   "outputs": [],
   "execution_count": null
  },
  {
   "cell_type": "code",
   "source": "print(\"Cluster Names:\", clustering_labels)\nprint(\"\\nClustering Result:\\n\", generated_cluster_labels)\n## In caso si voglia far vedere per bene le accoppiate (Gesture X, Label Y)\nprint(\"\\nClustering Results(full info):\\n\", cluster_labels_full)",
   "metadata": {
    "tags": [],
    "cell_id": "00065-23d0f2d0-ab55-4cde-8c6c-ed3697cb19d0",
    "deepnote_to_be_reexecuted": false,
    "source_hash": "6c26d295",
    "execution_start": 1638215780577,
    "execution_millis": 3,
    "deepnote_cell_type": "code"
   },
   "outputs": [
    {
     "name": "stdout",
     "text": "Cluster Names: ['0', '1', '2']\n\nClustering Result:\n [0 0 1 1 0 2 2 0 2 0 0 0 2 0 1 2 2 0 1 0 0 1 0 0 0 1 0 0 0 1 1 0 0 0 0 1 0\n 1 1 0 1 1 1 1 0 0 2 1 1 1 0 1 2 2 2 1 0 2 0 2 2 1 1 1 0 2 1 1 0 1 2 1 1 1\n 1 1 1 2 2 1 2 1 2 1 1 2 2 1 1 1 2 1 1]\n\nClustering Results(full info):\n [{'Gesture': '1', 'Label': 0}, {'Gesture': '10', 'Label': 0}, {'Gesture': '11', 'Label': 1}, {'Gesture': '12', 'Label': 1}, {'Gesture': '13', 'Label': 0}, {'Gesture': '14', 'Label': 2}, {'Gesture': '15', 'Label': 2}, {'Gesture': '16', 'Label': 0}, {'Gesture': '17', 'Label': 2}, {'Gesture': '18', 'Label': 0}, {'Gesture': '19', 'Label': 0}, {'Gesture': '2', 'Label': 0}, {'Gesture': '20', 'Label': 2}, {'Gesture': '21', 'Label': 0}, {'Gesture': '22', 'Label': 1}, {'Gesture': '23', 'Label': 2}, {'Gesture': '24', 'Label': 2}, {'Gesture': '249', 'Label': 0}, {'Gesture': '25', 'Label': 1}, {'Gesture': '250', 'Label': 0}, {'Gesture': '251', 'Label': 0}, {'Gesture': '252', 'Label': 1}, {'Gesture': '253', 'Label': 0}, {'Gesture': '254', 'Label': 0}, {'Gesture': '255', 'Label': 0}, {'Gesture': '256', 'Label': 1}, {'Gesture': '257', 'Label': 0}, {'Gesture': '258', 'Label': 0}, {'Gesture': '259', 'Label': 0}, {'Gesture': '26', 'Label': 1}, {'Gesture': '260', 'Label': 1}, {'Gesture': '261', 'Label': 0}, {'Gesture': '262', 'Label': 0}, {'Gesture': '263', 'Label': 0}, {'Gesture': '264', 'Label': 0}, {'Gesture': '265', 'Label': 1}, {'Gesture': '266', 'Label': 0}, {'Gesture': '267', 'Label': 1}, {'Gesture': '268', 'Label': 1}, {'Gesture': '269', 'Label': 0}, {'Gesture': '27', 'Label': 1}, {'Gesture': '270', 'Label': 1}, {'Gesture': '271', 'Label': 1}, {'Gesture': '272', 'Label': 1}, {'Gesture': '273', 'Label': 0}, {'Gesture': '274', 'Label': 0}, {'Gesture': '275', 'Label': 2}, {'Gesture': '276', 'Label': 1}, {'Gesture': '277', 'Label': 1}, {'Gesture': '278', 'Label': 1}, {'Gesture': '279', 'Label': 0}, {'Gesture': '28', 'Label': 1}, {'Gesture': '29', 'Label': 2}, {'Gesture': '3', 'Label': 2}, {'Gesture': '30', 'Label': 2}, {'Gesture': '31', 'Label': 1}, {'Gesture': '4', 'Label': 0}, {'Gesture': '5', 'Label': 2}, {'Gesture': '559', 'Label': 0}, {'Gesture': '560', 'Label': 2}, {'Gesture': '561', 'Label': 2}, {'Gesture': '562', 'Label': 1}, {'Gesture': '563', 'Label': 1}, {'Gesture': '564', 'Label': 1}, {'Gesture': '565', 'Label': 0}, {'Gesture': '566', 'Label': 2}, {'Gesture': '567', 'Label': 1}, {'Gesture': '568', 'Label': 1}, {'Gesture': '569', 'Label': 0}, {'Gesture': '570', 'Label': 1}, {'Gesture': '571', 'Label': 2}, {'Gesture': '572', 'Label': 1}, {'Gesture': '573', 'Label': 1}, {'Gesture': '574', 'Label': 1}, {'Gesture': '575', 'Label': 1}, {'Gesture': '576', 'Label': 1}, {'Gesture': '577', 'Label': 1}, {'Gesture': '578', 'Label': 2}, {'Gesture': '579', 'Label': 2}, {'Gesture': '580', 'Label': 1}, {'Gesture': '581', 'Label': 2}, {'Gesture': '582', 'Label': 1}, {'Gesture': '583', 'Label': 2}, {'Gesture': '584', 'Label': 1}, {'Gesture': '585', 'Label': 1}, {'Gesture': '586', 'Label': 2}, {'Gesture': '587', 'Label': 2}, {'Gesture': '588', 'Label': 1}, {'Gesture': '589', 'Label': 1}, {'Gesture': '6', 'Label': 1}, {'Gesture': '7', 'Label': 2}, {'Gesture': '8', 'Label': 1}, {'Gesture': '9', 'Label': 1}]\n",
     "output_type": "stream"
    }
   ],
   "execution_count": null
  },
  {
   "cell_type": "markdown",
   "source": "## Task 5 ",
   "metadata": {
    "tags": [],
    "is_collapsed": false,
    "cell_id": "00047-ca6ba479-67d1-47c0-9e18-3f88843cf02f",
    "deepnote_cell_type": "text-cell-h2"
   }
  },
  {
   "cell_type": "code",
   "metadata": {
    "tags": [],
    "cell_id": "00058-2377e8f9-b3be-4e2b-ad82-ca34dbc6bf86",
    "deepnote_to_be_reexecuted": false,
    "source_hash": "3a7a3342",
    "execution_start": 1638215780578,
    "execution_millis": 688,
    "deepnote_cell_type": "code"
   },
   "source": "# Genero il dataframe pandas a partire dai dati e dalle loro labels\n(X_train_df, y_train_df), (X_test_df, y_test_df), reshaped_features_names = database_numpy_2_supervised_data(t1_alg_result['fitted_alg'])\n\n# Fitto un normalizzatore sui dati di train\nscaler = StandardScaler()\nscaler.fit(X_train_df)\n# Normalizzo i dati di train\nX_train = scaler.transform(X_train_df)\ny_train = y_train_df.values.ravel()",
   "outputs": [
    {
     "output_type": "error",
     "ename": "TypeError",
     "evalue": "database_numpy_2_supervised_data() missing 1 required positional argument: 'labels'",
     "traceback": [
      "\u001b[0;31m---------------------------------------------------------------------------\u001b[0m",
      "\u001b[0;31mTypeError\u001b[0m                                 Traceback (most recent call last)",
      "\u001b[0;32m<ipython-input-48-bab99db70771>\u001b[0m in \u001b[0;36m<module>\u001b[0;34m\u001b[0m\n\u001b[1;32m      1\u001b[0m \u001b[0;31m# Genero il dataframe pandas a partire dai dati e dalle loro labels\u001b[0m\u001b[0;34m\u001b[0m\u001b[0;34m\u001b[0m\u001b[0;34m\u001b[0m\u001b[0m\n\u001b[0;32m----> 2\u001b[0;31m \u001b[0;34m(\u001b[0m\u001b[0mX_train_df\u001b[0m\u001b[0;34m,\u001b[0m \u001b[0my_train_df\u001b[0m\u001b[0;34m)\u001b[0m\u001b[0;34m,\u001b[0m \u001b[0;34m(\u001b[0m\u001b[0mX_test_df\u001b[0m\u001b[0;34m,\u001b[0m \u001b[0my_test_df\u001b[0m\u001b[0;34m)\u001b[0m\u001b[0;34m,\u001b[0m \u001b[0mreshaped_features_names\u001b[0m \u001b[0;34m=\u001b[0m \u001b[0mdatabase_numpy_2_supervised_data\u001b[0m\u001b[0;34m(\u001b[0m\u001b[0mt1_alg_result\u001b[0m\u001b[0;34m[\u001b[0m\u001b[0;34m'fitted_alg'\u001b[0m\u001b[0;34m]\u001b[0m\u001b[0;34m)\u001b[0m\u001b[0;34m\u001b[0m\u001b[0;34m\u001b[0m\u001b[0m\n\u001b[0m\u001b[1;32m      3\u001b[0m \u001b[0;34m\u001b[0m\u001b[0m\n\u001b[1;32m      4\u001b[0m \u001b[0;31m# Fitto un normalizzatore sui dati di train\u001b[0m\u001b[0;34m\u001b[0m\u001b[0;34m\u001b[0m\u001b[0;34m\u001b[0m\u001b[0m\n\u001b[1;32m      5\u001b[0m \u001b[0mscaler\u001b[0m \u001b[0;34m=\u001b[0m \u001b[0mStandardScaler\u001b[0m\u001b[0;34m(\u001b[0m\u001b[0;34m)\u001b[0m\u001b[0;34m\u001b[0m\u001b[0;34m\u001b[0m\u001b[0m\n",
      "\u001b[0;31mTypeError\u001b[0m: database_numpy_2_supervised_data() missing 1 required positional argument: 'labels'"
     ]
    }
   ],
   "execution_count": null
  },
  {
   "cell_type": "code",
   "metadata": {
    "tags": [],
    "cell_id": "00070-ef334c6a-c6f0-4bb1-afd0-b7c614bfff3b",
    "deepnote_to_be_reexecuted": true,
    "source_hash": "77b0e24f",
    "deepnote_cell_type": "code"
   },
   "source": "# Preparo i dati di test\n#test_data = [[0, 1, 1, 1, 1, 1, 1, 1, 1, 1, 1, 1, 1, 1, 1, 1], [0, 1, 1, 0, 0, 0, 0, 1, 0, 1, 0, 1, 0, 0, 1, 1]]\n# Eseguo reshape dei dati (rendo le matrici in righe, come viene fatto anche x quello di train)\ntest_data = t5_alg_database['np_database']\ntest_data = np.transpose(test_data,(0,1,2)).reshape(test_data.shape[0],-1)\nX_test_df = prepare_test_dataframe(test_data, reshaped_features_names)\n\n# Normalizzo i dati di test\nX_test = scaler.transform(X_test_df)",
   "execution_count": null,
   "outputs": []
  },
  {
   "cell_type": "markdown",
   "source": "### Classificazione con k-nearest neighbor",
   "metadata": {
    "tags": [],
    "is_collapsed": false,
    "cell_id": "00058-be2015dd-a32d-49bd-80ca-c70d45ea5f1d",
    "deepnote_cell_type": "text-cell-h3"
   }
  },
  {
   "cell_type": "code",
   "metadata": {
    "tags": [],
    "cell_id": "00058-4219f70d-c44d-464a-a238-6f9f9f157f98",
    "deepnote_to_be_reexecuted": true,
    "source_hash": "4f673a89",
    "execution_start": 1638019666576,
    "execution_millis": 25,
    "deepnote_output_heights": [
     21.199996948242188
    ],
    "deepnote_cell_type": "code"
   },
   "source": "# Addestro il classificatore\nn_neighbors = 5 # Numero di vicini che uso x decidere la label\nclassifier = KNeighborsClassifier(n_neighbors=n_neighbors)\nclassifier.fit(X_train, y_train)",
   "execution_count": null,
   "outputs": [
    {
     "output_type": "execute_result",
     "execution_count": 51,
     "data": {
      "text/plain": "KNeighborsClassifier()"
     },
     "metadata": {}
    }
   ]
  },
  {
   "cell_type": "code",
   "metadata": {
    "tags": [],
    "cell_id": "00061-0abd1337-9406-4c02-91b2-ad8ffdeb4137",
    "deepnote_to_be_reexecuted": true,
    "source_hash": "729d824e",
    "execution_start": 1638019666638,
    "execution_millis": 139,
    "deepnote_output_heights": [
     21.199996948242188
    ],
    "deepnote_cell_type": "code"
   },
   "source": "# Predico\ny_pred = classifier.predict(X_test)\nprint(\"(\"+str(n_neighbors)+\")NN - Predictions:\\n\", y_pred)",
   "execution_count": null,
   "outputs": [
    {
     "name": "stdout",
     "text": "(5)NN - Predictions:\n [1 0 0 2 0 1 2 1 2 1 0 1 0 0 0 2 1 1 1 1 1 0 0 1 1 0 1 1 2 0 1 0 1 0 2 0 1\n 0 2 0 0 1 1 0 1 1 0 1 2 0 1 1 1 1 2 0 1 0 0 1 1 1 1 1 1 1 1 0 2 1 0 0 0 0\n 1 1 0 1 1 2 1 1 1 0 1 0 0 0 1 1 1 1 1]\n",
     "output_type": "stream"
    }
   ]
  },
  {
   "cell_type": "markdown",
   "source": "### Classificazione con decision tree",
   "metadata": {
    "tags": [],
    "is_collapsed": false,
    "cell_id": "00060-635d37c3-f66e-454d-8b84-316306713b7a",
    "deepnote_cell_type": "text-cell-h3"
   }
  },
  {
   "cell_type": "code",
   "metadata": {
    "tags": [],
    "cell_id": "00061-1a624ecf-e3d8-4eae-811d-fd06915be624",
    "deepnote_to_be_reexecuted": true,
    "source_hash": "896362cb",
    "execution_start": 1638019666771,
    "execution_millis": 47,
    "deepnote_output_heights": [
     611
    ],
    "deepnote_cell_type": "code"
   },
   "source": "# Addestro l'albero di decisione\nclf = tree.DecisionTreeClassifier()#(max_depth=10)\nclf = clf.fit(X_train, y_train)\n\n# Eseguo il plot dell'albero di decisione creato\ndot_data = tree.export_graphviz(clf, out_file=None,\n    feature_names=reshaped_features_names,\n    class_names=clustering_labels, #['Ugo', 'Federico', 'D.Va'],\n    filled=True, rounded=True,\n    special_characters=True)\ngraph = graphviz.Source(dot_data)\ngraph",
   "execution_count": null,
   "outputs": [
    {
     "output_type": "execute_result",
     "execution_count": 53,
     "data": {
      "text/plain": "<graphviz.sources.Source at 0x7fc7715cced0>",
      "image/svg+xml": "<?xml version=\"1.0\" encoding=\"UTF-8\" standalone=\"no\"?>\n<!DOCTYPE svg PUBLIC \"-//W3C//DTD SVG 1.1//EN\"\n \"http://www.w3.org/Graphics/SVG/1.1/DTD/svg11.dtd\">\n<!-- Generated by graphviz version 2.40.1 (20161225.0304)\n -->\n<!-- Title: Tree Pages: 1 -->\n<svg width=\"622pt\" height=\"552pt\"\n viewBox=\"0.00 0.00 622.00 552.00\" xmlns=\"http://www.w3.org/2000/svg\" xmlns:xlink=\"http://www.w3.org/1999/xlink\">\n<g id=\"graph0\" class=\"graph\" transform=\"scale(1 1) rotate(0) translate(4 548)\">\n<title>Tree</title>\n<polygon fill=\"#ffffff\" stroke=\"transparent\" points=\"-4,4 -4,-548 618,-548 618,4 -4,4\"/>\n<!-- 0 -->\n<g id=\"node1\" class=\"node\">\n<title>0</title>\n<path fill=\"#ecfcf3\" stroke=\"#000000\" d=\"M372,-544C372,-544 237,-544 237,-544 231,-544 225,-538 225,-532 225,-532 225,-473 225,-473 225,-467 231,-461 237,-461 237,-461 372,-461 372,-461 378,-461 384,-467 384,-473 384,-473 384,-532 384,-532 384,-538 378,-544 372,-544\"/>\n<text text-anchor=\"start\" x=\"253\" y=\"-528.8\" font-family=\"Helvetica,sans-Serif\" font-size=\"14.00\" fill=\"#000000\">F145 ≤ &#45;0.636</text>\n<text text-anchor=\"start\" x=\"260.5\" y=\"-513.8\" font-family=\"Helvetica,sans-Serif\" font-size=\"14.00\" fill=\"#000000\">gini = 0.663</text>\n<text text-anchor=\"start\" x=\"254.5\" y=\"-498.8\" font-family=\"Helvetica,sans-Serif\" font-size=\"14.00\" fill=\"#000000\">samples = 60</text>\n<text text-anchor=\"start\" x=\"233\" y=\"-483.8\" font-family=\"Helvetica,sans-Serif\" font-size=\"14.00\" fill=\"#000000\">value = [18, 23, 19]</text>\n<text text-anchor=\"start\" x=\"271.5\" y=\"-468.8\" font-family=\"Helvetica,sans-Serif\" font-size=\"14.00\" fill=\"#000000\">class = 1</text>\n</g>\n<!-- 1 -->\n<g id=\"node2\" class=\"node\">\n<title>1</title>\n<path fill=\"#8844e6\" stroke=\"#000000\" d=\"M281,-425C281,-425 164,-425 164,-425 158,-425 152,-419 152,-413 152,-413 152,-354 152,-354 152,-348 158,-342 164,-342 164,-342 281,-342 281,-342 287,-342 293,-348 293,-354 293,-354 293,-413 293,-413 293,-419 287,-425 281,-425\"/>\n<text text-anchor=\"start\" x=\"174\" y=\"-409.8\" font-family=\"Helvetica,sans-Serif\" font-size=\"14.00\" fill=\"#000000\">F113 ≤ 4.222</text>\n<text text-anchor=\"start\" x=\"187.5\" y=\"-394.8\" font-family=\"Helvetica,sans-Serif\" font-size=\"14.00\" fill=\"#000000\">gini = 0.1</text>\n<text text-anchor=\"start\" x=\"172.5\" y=\"-379.8\" font-family=\"Helvetica,sans-Serif\" font-size=\"14.00\" fill=\"#000000\">samples = 19</text>\n<text text-anchor=\"start\" x=\"160\" y=\"-364.8\" font-family=\"Helvetica,sans-Serif\" font-size=\"14.00\" fill=\"#000000\">value = [0, 1, 18]</text>\n<text text-anchor=\"start\" x=\"189.5\" y=\"-349.8\" font-family=\"Helvetica,sans-Serif\" font-size=\"14.00\" fill=\"#000000\">class = 2</text>\n</g>\n<!-- 0&#45;&gt;1 -->\n<g id=\"edge1\" class=\"edge\">\n<title>0&#45;&gt;1</title>\n<path fill=\"none\" stroke=\"#000000\" d=\"M275.8204,-460.8796C269.7385,-452.0534 263.2578,-442.6485 256.9859,-433.5466\"/>\n<polygon fill=\"#000000\" stroke=\"#000000\" points=\"259.8582,-431.5465 251.302,-425.2981 254.0941,-435.5184 259.8582,-431.5465\"/>\n<text text-anchor=\"middle\" x=\"246.7761\" y=\"-446.185\" font-family=\"Helvetica,sans-Serif\" font-size=\"14.00\" fill=\"#000000\">True</text>\n</g>\n<!-- 4 -->\n<g id=\"node5\" class=\"node\">\n<title>4</title>\n<path fill=\"#ddfae9\" stroke=\"#000000\" d=\"M449.5,-425C449.5,-425 323.5,-425 323.5,-425 317.5,-425 311.5,-419 311.5,-413 311.5,-413 311.5,-354 311.5,-354 311.5,-348 317.5,-342 323.5,-342 323.5,-342 449.5,-342 449.5,-342 455.5,-342 461.5,-348 461.5,-354 461.5,-354 461.5,-413 461.5,-413 461.5,-419 455.5,-425 449.5,-425\"/>\n<text text-anchor=\"start\" x=\"335\" y=\"-409.8\" font-family=\"Helvetica,sans-Serif\" font-size=\"14.00\" fill=\"#000000\">F198 ≤ &#45;0.268</text>\n<text text-anchor=\"start\" x=\"342.5\" y=\"-394.8\" font-family=\"Helvetica,sans-Serif\" font-size=\"14.00\" fill=\"#000000\">gini = 0.519</text>\n<text text-anchor=\"start\" x=\"336.5\" y=\"-379.8\" font-family=\"Helvetica,sans-Serif\" font-size=\"14.00\" fill=\"#000000\">samples = 41</text>\n<text text-anchor=\"start\" x=\"319.5\" y=\"-364.8\" font-family=\"Helvetica,sans-Serif\" font-size=\"14.00\" fill=\"#000000\">value = [18, 22, 1]</text>\n<text text-anchor=\"start\" x=\"353.5\" y=\"-349.8\" font-family=\"Helvetica,sans-Serif\" font-size=\"14.00\" fill=\"#000000\">class = 1</text>\n</g>\n<!-- 0&#45;&gt;4 -->\n<g id=\"edge4\" class=\"edge\">\n<title>0&#45;&gt;4</title>\n<path fill=\"none\" stroke=\"#000000\" d=\"M333.1796,-460.8796C339.2615,-452.0534 345.7422,-442.6485 352.0141,-433.5466\"/>\n<polygon fill=\"#000000\" stroke=\"#000000\" points=\"354.9059,-435.5184 357.698,-425.2981 349.1418,-431.5465 354.9059,-435.5184\"/>\n<text text-anchor=\"middle\" x=\"362.2239\" y=\"-446.185\" font-family=\"Helvetica,sans-Serif\" font-size=\"14.00\" fill=\"#000000\">False</text>\n</g>\n<!-- 2 -->\n<g id=\"node3\" class=\"node\">\n<title>2</title>\n<path fill=\"#8139e5\" stroke=\"#000000\" d=\"M129,-298.5C129,-298.5 12,-298.5 12,-298.5 6,-298.5 0,-292.5 0,-286.5 0,-286.5 0,-242.5 0,-242.5 0,-236.5 6,-230.5 12,-230.5 12,-230.5 129,-230.5 129,-230.5 135,-230.5 141,-236.5 141,-242.5 141,-242.5 141,-286.5 141,-286.5 141,-292.5 135,-298.5 129,-298.5\"/>\n<text text-anchor=\"start\" x=\"35.5\" y=\"-283.3\" font-family=\"Helvetica,sans-Serif\" font-size=\"14.00\" fill=\"#000000\">gini = 0.0</text>\n<text text-anchor=\"start\" x=\"20.5\" y=\"-268.3\" font-family=\"Helvetica,sans-Serif\" font-size=\"14.00\" fill=\"#000000\">samples = 18</text>\n<text text-anchor=\"start\" x=\"8\" y=\"-253.3\" font-family=\"Helvetica,sans-Serif\" font-size=\"14.00\" fill=\"#000000\">value = [0, 0, 18]</text>\n<text text-anchor=\"start\" x=\"37.5\" y=\"-238.3\" font-family=\"Helvetica,sans-Serif\" font-size=\"14.00\" fill=\"#000000\">class = 2</text>\n</g>\n<!-- 1&#45;&gt;2 -->\n<g id=\"edge2\" class=\"edge\">\n<title>1&#45;&gt;2</title>\n<path fill=\"none\" stroke=\"#000000\" d=\"M169.3378,-341.8796C154.1687,-330.0038 137.6616,-317.0804 122.5591,-305.2568\"/>\n<polygon fill=\"#000000\" stroke=\"#000000\" points=\"124.3624,-302.2236 114.3308,-298.8149 120.0472,-307.7353 124.3624,-302.2236\"/>\n</g>\n<!-- 3 -->\n<g id=\"node4\" class=\"node\">\n<title>3</title>\n<path fill=\"#39e581\" stroke=\"#000000\" d=\"M279.5,-298.5C279.5,-298.5 171.5,-298.5 171.5,-298.5 165.5,-298.5 159.5,-292.5 159.5,-286.5 159.5,-286.5 159.5,-242.5 159.5,-242.5 159.5,-236.5 165.5,-230.5 171.5,-230.5 171.5,-230.5 279.5,-230.5 279.5,-230.5 285.5,-230.5 291.5,-236.5 291.5,-242.5 291.5,-242.5 291.5,-286.5 291.5,-286.5 291.5,-292.5 285.5,-298.5 279.5,-298.5\"/>\n<text text-anchor=\"start\" x=\"190.5\" y=\"-283.3\" font-family=\"Helvetica,sans-Serif\" font-size=\"14.00\" fill=\"#000000\">gini = 0.0</text>\n<text text-anchor=\"start\" x=\"180\" y=\"-268.3\" font-family=\"Helvetica,sans-Serif\" font-size=\"14.00\" fill=\"#000000\">samples = 1</text>\n<text text-anchor=\"start\" x=\"167.5\" y=\"-253.3\" font-family=\"Helvetica,sans-Serif\" font-size=\"14.00\" fill=\"#000000\">value = [0, 1, 0]</text>\n<text text-anchor=\"start\" x=\"192.5\" y=\"-238.3\" font-family=\"Helvetica,sans-Serif\" font-size=\"14.00\" fill=\"#000000\">class = 1</text>\n</g>\n<!-- 1&#45;&gt;3 -->\n<g id=\"edge3\" class=\"edge\">\n<title>1&#45;&gt;3</title>\n<path fill=\"none\" stroke=\"#000000\" d=\"M223.5493,-341.8796C223.8182,-331.2134 224.1084,-319.7021 224.3806,-308.9015\"/>\n<polygon fill=\"#000000\" stroke=\"#000000\" points=\"227.8817,-308.9 224.6349,-298.8149 220.8839,-308.7235 227.8817,-308.9\"/>\n</g>\n<!-- 5 -->\n<g id=\"node6\" class=\"node\">\n<title>5</title>\n<path fill=\"#e99558\" stroke=\"#000000\" d=\"M443,-306C443,-306 326,-306 326,-306 320,-306 314,-300 314,-294 314,-294 314,-235 314,-235 314,-229 320,-223 326,-223 326,-223 443,-223 443,-223 449,-223 455,-229 455,-235 455,-235 455,-294 455,-294 455,-300 449,-306 443,-306\"/>\n<text text-anchor=\"start\" x=\"340.5\" y=\"-290.8\" font-family=\"Helvetica,sans-Serif\" font-size=\"14.00\" fill=\"#000000\">F20 ≤ 2.654</text>\n<text text-anchor=\"start\" x=\"340.5\" y=\"-275.8\" font-family=\"Helvetica,sans-Serif\" font-size=\"14.00\" fill=\"#000000\">gini = 0.254</text>\n<text text-anchor=\"start\" x=\"334.5\" y=\"-260.8\" font-family=\"Helvetica,sans-Serif\" font-size=\"14.00\" fill=\"#000000\">samples = 21</text>\n<text text-anchor=\"start\" x=\"322\" y=\"-245.8\" font-family=\"Helvetica,sans-Serif\" font-size=\"14.00\" fill=\"#000000\">value = [18, 2, 1]</text>\n<text text-anchor=\"start\" x=\"351.5\" y=\"-230.8\" font-family=\"Helvetica,sans-Serif\" font-size=\"14.00\" fill=\"#000000\">class = 0</text>\n</g>\n<!-- 4&#45;&gt;5 -->\n<g id=\"edge5\" class=\"edge\">\n<title>4&#45;&gt;5</title>\n<path fill=\"none\" stroke=\"#000000\" d=\"M385.8005,-341.8796C385.6628,-333.6838 385.5166,-324.9891 385.374,-316.5013\"/>\n<polygon fill=\"#000000\" stroke=\"#000000\" points=\"388.8701,-316.2378 385.2025,-306.2981 381.8711,-316.3555 388.8701,-316.2378\"/>\n</g>\n<!-- 10 -->\n<g id=\"node11\" class=\"node\">\n<title>10</title>\n<path fill=\"#39e581\" stroke=\"#000000\" d=\"M602,-298.5C602,-298.5 485,-298.5 485,-298.5 479,-298.5 473,-292.5 473,-286.5 473,-286.5 473,-242.5 473,-242.5 473,-236.5 479,-230.5 485,-230.5 485,-230.5 602,-230.5 602,-230.5 608,-230.5 614,-236.5 614,-242.5 614,-242.5 614,-286.5 614,-286.5 614,-292.5 608,-298.5 602,-298.5\"/>\n<text text-anchor=\"start\" x=\"508.5\" y=\"-283.3\" font-family=\"Helvetica,sans-Serif\" font-size=\"14.00\" fill=\"#000000\">gini = 0.0</text>\n<text text-anchor=\"start\" x=\"493.5\" y=\"-268.3\" font-family=\"Helvetica,sans-Serif\" font-size=\"14.00\" fill=\"#000000\">samples = 20</text>\n<text text-anchor=\"start\" x=\"481\" y=\"-253.3\" font-family=\"Helvetica,sans-Serif\" font-size=\"14.00\" fill=\"#000000\">value = [0, 20, 0]</text>\n<text text-anchor=\"start\" x=\"510.5\" y=\"-238.3\" font-family=\"Helvetica,sans-Serif\" font-size=\"14.00\" fill=\"#000000\">class = 1</text>\n</g>\n<!-- 4&#45;&gt;10 -->\n<g id=\"edge10\" class=\"edge\">\n<title>4&#45;&gt;10</title>\n<path fill=\"none\" stroke=\"#000000\" d=\"M441.411,-341.8796C457.2994,-329.8368 474.6091,-316.7167 490.3857,-304.7586\"/>\n<polygon fill=\"#000000\" stroke=\"#000000\" points=\"492.6253,-307.4529 498.4805,-298.623 488.3969,-301.8743 492.6253,-307.4529\"/>\n</g>\n<!-- 6 -->\n<g id=\"node7\" class=\"node\">\n<title>6</title>\n<path fill=\"#e68844\" stroke=\"#000000\" d=\"M365,-187C365,-187 248,-187 248,-187 242,-187 236,-181 236,-175 236,-175 236,-116 236,-116 236,-110 242,-104 248,-104 248,-104 365,-104 365,-104 371,-104 377,-110 377,-116 377,-116 377,-175 377,-175 377,-181 371,-187 365,-187\"/>\n<text text-anchor=\"start\" x=\"255\" y=\"-171.8\" font-family=\"Helvetica,sans-Serif\" font-size=\"14.00\" fill=\"#000000\">F169 ≤ &#45;0.653</text>\n<text text-anchor=\"start\" x=\"271.5\" y=\"-156.8\" font-family=\"Helvetica,sans-Serif\" font-size=\"14.00\" fill=\"#000000\">gini = 0.1</text>\n<text text-anchor=\"start\" x=\"256.5\" y=\"-141.8\" font-family=\"Helvetica,sans-Serif\" font-size=\"14.00\" fill=\"#000000\">samples = 19</text>\n<text text-anchor=\"start\" x=\"244\" y=\"-126.8\" font-family=\"Helvetica,sans-Serif\" font-size=\"14.00\" fill=\"#000000\">value = [18, 0, 1]</text>\n<text text-anchor=\"start\" x=\"273.5\" y=\"-111.8\" font-family=\"Helvetica,sans-Serif\" font-size=\"14.00\" fill=\"#000000\">class = 0</text>\n</g>\n<!-- 5&#45;&gt;6 -->\n<g id=\"edge6\" class=\"edge\">\n<title>5&#45;&gt;6</title>\n<path fill=\"none\" stroke=\"#000000\" d=\"M357.2194,-222.8796C351.4932,-214.1434 345.3954,-204.8404 339.4863,-195.8253\"/>\n<polygon fill=\"#000000\" stroke=\"#000000\" points=\"342.3063,-193.7429 333.8971,-187.2981 336.4518,-197.5803 342.3063,-193.7429\"/>\n</g>\n<!-- 9 -->\n<g id=\"node10\" class=\"node\">\n<title>9</title>\n<path fill=\"#39e581\" stroke=\"#000000\" d=\"M515.5,-179.5C515.5,-179.5 407.5,-179.5 407.5,-179.5 401.5,-179.5 395.5,-173.5 395.5,-167.5 395.5,-167.5 395.5,-123.5 395.5,-123.5 395.5,-117.5 401.5,-111.5 407.5,-111.5 407.5,-111.5 515.5,-111.5 515.5,-111.5 521.5,-111.5 527.5,-117.5 527.5,-123.5 527.5,-123.5 527.5,-167.5 527.5,-167.5 527.5,-173.5 521.5,-179.5 515.5,-179.5\"/>\n<text text-anchor=\"start\" x=\"426.5\" y=\"-164.3\" font-family=\"Helvetica,sans-Serif\" font-size=\"14.00\" fill=\"#000000\">gini = 0.0</text>\n<text text-anchor=\"start\" x=\"416\" y=\"-149.3\" font-family=\"Helvetica,sans-Serif\" font-size=\"14.00\" fill=\"#000000\">samples = 2</text>\n<text text-anchor=\"start\" x=\"403.5\" y=\"-134.3\" font-family=\"Helvetica,sans-Serif\" font-size=\"14.00\" fill=\"#000000\">value = [0, 2, 0]</text>\n<text text-anchor=\"start\" x=\"428.5\" y=\"-119.3\" font-family=\"Helvetica,sans-Serif\" font-size=\"14.00\" fill=\"#000000\">class = 1</text>\n</g>\n<!-- 5&#45;&gt;9 -->\n<g id=\"edge9\" class=\"edge\">\n<title>5&#45;&gt;9</title>\n<path fill=\"none\" stroke=\"#000000\" d=\"M411.4309,-222.8796C418.6883,-211.6636 426.5503,-199.5131 433.8465,-188.2372\"/>\n<polygon fill=\"#000000\" stroke=\"#000000\" points=\"436.8022,-190.112 439.2962,-179.8149 430.9252,-186.3093 436.8022,-190.112\"/>\n</g>\n<!-- 7 -->\n<g id=\"node8\" class=\"node\">\n<title>7</title>\n<path fill=\"#8139e5\" stroke=\"#000000\" d=\"M283.5,-68C283.5,-68 175.5,-68 175.5,-68 169.5,-68 163.5,-62 163.5,-56 163.5,-56 163.5,-12 163.5,-12 163.5,-6 169.5,0 175.5,0 175.5,0 283.5,0 283.5,0 289.5,0 295.5,-6 295.5,-12 295.5,-12 295.5,-56 295.5,-56 295.5,-62 289.5,-68 283.5,-68\"/>\n<text text-anchor=\"start\" x=\"194.5\" y=\"-52.8\" font-family=\"Helvetica,sans-Serif\" font-size=\"14.00\" fill=\"#000000\">gini = 0.0</text>\n<text text-anchor=\"start\" x=\"184\" y=\"-37.8\" font-family=\"Helvetica,sans-Serif\" font-size=\"14.00\" fill=\"#000000\">samples = 1</text>\n<text text-anchor=\"start\" x=\"171.5\" y=\"-22.8\" font-family=\"Helvetica,sans-Serif\" font-size=\"14.00\" fill=\"#000000\">value = [0, 0, 1]</text>\n<text text-anchor=\"start\" x=\"196.5\" y=\"-7.8\" font-family=\"Helvetica,sans-Serif\" font-size=\"14.00\" fill=\"#000000\">class = 2</text>\n</g>\n<!-- 6&#45;&gt;7 -->\n<g id=\"edge7\" class=\"edge\">\n<title>6&#45;&gt;7</title>\n<path fill=\"none\" stroke=\"#000000\" d=\"M277.828,-103.9815C271.6715,-95.0666 265.1557,-85.6313 258.9695,-76.6734\"/>\n<polygon fill=\"#000000\" stroke=\"#000000\" points=\"261.7245,-74.5034 253.1619,-68.2637 255.9645,-78.4811 261.7245,-74.5034\"/>\n</g>\n<!-- 8 -->\n<g id=\"node9\" class=\"node\">\n<title>8</title>\n<path fill=\"#e58139\" stroke=\"#000000\" d=\"M443,-68C443,-68 326,-68 326,-68 320,-68 314,-62 314,-56 314,-56 314,-12 314,-12 314,-6 320,0 326,0 326,0 443,0 443,0 449,0 455,-6 455,-12 455,-12 455,-56 455,-56 455,-62 449,-68 443,-68\"/>\n<text text-anchor=\"start\" x=\"349.5\" y=\"-52.8\" font-family=\"Helvetica,sans-Serif\" font-size=\"14.00\" fill=\"#000000\">gini = 0.0</text>\n<text text-anchor=\"start\" x=\"334.5\" y=\"-37.8\" font-family=\"Helvetica,sans-Serif\" font-size=\"14.00\" fill=\"#000000\">samples = 18</text>\n<text text-anchor=\"start\" x=\"322\" y=\"-22.8\" font-family=\"Helvetica,sans-Serif\" font-size=\"14.00\" fill=\"#000000\">value = [18, 0, 0]</text>\n<text text-anchor=\"start\" x=\"351.5\" y=\"-7.8\" font-family=\"Helvetica,sans-Serif\" font-size=\"14.00\" fill=\"#000000\">class = 0</text>\n</g>\n<!-- 6&#45;&gt;8 -->\n<g id=\"edge8\" class=\"edge\">\n<title>6&#45;&gt;8</title>\n<path fill=\"none\" stroke=\"#000000\" d=\"M335.5443,-103.9815C341.7808,-95.0666 348.3813,-85.6313 354.6478,-76.6734\"/>\n<polygon fill=\"#000000\" stroke=\"#000000\" points=\"357.6665,-78.464 360.5308,-68.2637 351.9307,-74.4515 357.6665,-78.464\"/>\n</g>\n</g>\n</svg>\n"
     },
     "metadata": {}
    }
   ]
  },
  {
   "cell_type": "code",
   "metadata": {
    "tags": [],
    "cell_id": "00063-1463aafe-6ead-4826-9b72-f408a4ba5066",
    "deepnote_to_be_reexecuted": true,
    "source_hash": "5b3b215d",
    "execution_start": 1638019666820,
    "execution_millis": 36,
    "deepnote_output_heights": [
     21.199996948242188
    ],
    "deepnote_cell_type": "code"
   },
   "source": "# Predico con l'albero di decisione\ny_pred = clf.predict(X_test)\nprint(\"DT - Predictions:\\n\", y_pred)",
   "execution_count": null,
   "outputs": [
    {
     "name": "stdout",
     "text": "DT - Predictions:\n [1 2 0 2 1 2 2 2 2 2 2 0 0 1 0 2 2 0 2 1 1 2 2 2 2 2 0 2 2 2 2 0 2 2 2 2 2\n 2 1 1 2 0 2 2 0 1 2 2 2 2 0 2 2 2 2 2 0 1 1 1 0 0 2 2 2 1 1 2 2 2 2 2 2 2\n 0 1 0 2 0 2 2 2 2 2 2 0 2 1 2 1 0 2 2]\n",
     "output_type": "stream"
    }
   ]
  },
  {
   "cell_type": "code",
   "metadata": {
    "tags": [],
    "cell_id": "00066-47aa80fa-7c34-46da-8f1b-77ee86f8b4fe",
    "deepnote_to_be_reexecuted": true,
    "source_hash": "b623e53d",
    "execution_start": 1638019666860,
    "execution_millis": 6722202,
    "deepnote_cell_type": "code"
   },
   "source": "",
   "execution_count": null,
   "outputs": []
  },
  {
   "cell_type": "markdown",
   "source": "<a style='text-decoration:none;line-height:16px;display:flex;color:#5B5B62;padding:10px;justify-content:end;' href='https://deepnote.com?utm_source=created-in-deepnote-cell&projectId=81dda25b-3b1c-4959-acc8-4a8b980be717' target=\"_blank\">\n<img alt='Created in deepnote.com' style='display:inline;max-height:16px;margin:0px;margin-right:7.5px;' src='data:image/svg+xml;base64,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' > </img>\nCreated in <span style='font-weight:600;margin-left:4px;'>Deepnote</span></a>",
   "metadata": {
    "tags": [],
    "created_in_deepnote_cell": true,
    "deepnote_cell_type": "markdown"
   }
  }
 ],
 "nbformat": 4,
 "nbformat_minor": 2,
 "metadata": {
  "orig_nbformat": 2,
  "deepnote": {
   "is_reactive": false
  },
  "deepnote_notebook_id": "e09f2adf-083e-4839-9bb5-7d8776406a70",
  "deepnote_execution_queue": []
 }
}