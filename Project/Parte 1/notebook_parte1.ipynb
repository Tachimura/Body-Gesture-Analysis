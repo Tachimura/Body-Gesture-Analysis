{
 "cells": [
  {
   "cell_type": "markdown",
   "source": "# BDM Exam - Parte 1",
   "metadata": {
    "tags": [],
    "is_collapsed": false,
    "cell_id": "00000-969f31c1-5e3e-438a-95e2-fc576b8445b4",
    "deepnote_cell_type": "text-cell-h1"
   }
  },
  {
   "cell_type": "markdown",
   "source": "Prima parte del progetto su riconoscimento di gesti. Riconoscere i gesti + simili fra di loro ed implementare quello visto a lezione. Parte 1 usa solo i dati della coordinata Z dei sensori.",
   "metadata": {
    "tags": [],
    "is_collapsed": false,
    "cell_id": "00001-f9ddea4f-cf95-4e5a-9934-a44a0e4af8b8",
    "deepnote_cell_type": "text-cell-p"
   }
  },
  {
   "cell_type": "markdown",
   "source": "## Imports &amp; Defines",
   "metadata": {
    "tags": [],
    "is_collapsed": false,
    "cell_id": "00002-ec8c9166-6e9b-49af-a28e-20b95608c9c3",
    "deepnote_cell_type": "text-cell-h2"
   }
  },
  {
   "cell_type": "code",
   "metadata": {
    "tags": [],
    "cell_id": "00003-3e2e5399-a694-4e7e-8143-604a20fb0b2d",
    "deepnote_to_be_reexecuted": false,
    "source_hash": "97f5ae47",
    "execution_start": 1638436881408,
    "execution_millis": 1327,
    "deepnote_cell_type": "code"
   },
   "source": "# Find files in directory\nimport glob\nimport os\nimport shutil\n\nfrom p1_utils import drawProgressBar, show_heatmap\nfrom p1_utils.my_interval import interval_utils_stats, generate_alphabet # Contiene roba x gestire intervallo gaussiano\nfrom p1_utils.gesture import gesture_2_words, words_2_vector, metrics_2_numpy\nfrom p1_utils.gesture import vectorpath_2_metrics, show_vectorized_data\nfrom p1_utils.gesture import MyDatabase, find_k_most_similar\nfrom p1_utils.preprocessing import P1PreProcessing, show_preprocessing_unit, preprocessing_task2\n\nimport matplotlib.pylab as plt\n\n# Riproducibilità\nimport numpy as np\nimport random\nseed=6789\nrandom.seed(seed)\nnp.random.seed(seed)",
   "execution_count": null,
   "outputs": []
  },
  {
   "cell_type": "markdown",
   "source": "## Task1",
   "metadata": {
    "tags": [],
    "is_collapsed": false,
    "cell_id": "00004-4ce0ad10-4005-4cdd-90d7-eb9be6e9b450",
    "deepnote_cell_type": "text-cell-h2"
   }
  },
  {
   "cell_type": "markdown",
   "source": "- Normalizzazione dei file di gesti\n- Generazione dell'alfabeto a partire dai file di gesti normalizzati\n- Estrazione parole dai file di gesti\n- Salvataggio delle parole dei file di gesti su file di parole .wrd",
   "metadata": {
    "tags": [],
    "cell_id": "00005-0a95a648-abb7-40b9-9850-99128ff1bcff",
    "deepnote_cell_type": "markdown"
   }
  },
  {
   "cell_type": "markdown",
   "source": "Percorso directory contenente i file di gesti:",
   "metadata": {
    "tags": [],
    "is_collapsed": false,
    "cell_id": "00006-8f9aff65-f4ae-449e-9f64-0f467841ad85",
    "deepnote_cell_type": "text-cell-p"
   }
  },
  {
   "cell_type": "code",
   "metadata": {
    "deepnote_variable_name": "data_path_csv",
    "deepnote_variable_value": "../Dati_1/csv/",
    "cell_id": "00006-c36e6bcc-564e-491a-8e63-cf530127f4e3",
    "deepnote_to_be_reexecuted": false,
    "source_hash": "c7ddb37d",
    "execution_start": 1638436882743,
    "execution_millis": 10,
    "deepnote_cell_type": "input-text"
   },
   "source": "data_path_csv = '../Dati_1/csv/'",
   "execution_count": null,
   "outputs": []
  },
  {
   "cell_type": "markdown",
   "source": "Percorsi directory degli output intermedi:",
   "metadata": {
    "tags": [],
    "is_collapsed": false,
    "cell_id": "00008-797bf8b4-279a-43c4-b57c-03dc12eb37c9",
    "deepnote_cell_type": "text-cell-p"
   }
  },
  {
   "cell_type": "code",
   "metadata": {
    "deepnote_variable_name": "data_path_wrd",
    "deepnote_variable_value": "../Dati_1/words/",
    "cell_id": "00009-deecac9c-8a24-44b0-92c6-327ff7f25973",
    "deepnote_to_be_reexecuted": false,
    "source_hash": "d4e13100",
    "execution_start": 1638436882762,
    "execution_millis": 1,
    "deepnote_cell_type": "input-text"
   },
   "source": "data_path_wrd = '../Dati_1/words/'",
   "execution_count": null,
   "outputs": []
  },
  {
   "cell_type": "code",
   "metadata": {
    "deepnote_variable_name": "data_path_vectors",
    "deepnote_variable_value": "../Dati_1/vectors/",
    "cell_id": "00010-7cee7bec-c35c-495d-90a8-cf4b3a1469da",
    "deepnote_to_be_reexecuted": false,
    "source_hash": "90344f9d",
    "execution_start": 1638436882769,
    "execution_millis": 2,
    "deepnote_cell_type": "input-text"
   },
   "source": "data_path_vectors = '../Dati_1/vectors/'",
   "execution_count": null,
   "outputs": []
  },
  {
   "cell_type": "markdown",
   "source": "Inserire un valore per R (2R è il numero di simboli dell'alfabeto)",
   "metadata": {
    "tags": [],
    "is_collapsed": false,
    "cell_id": "00012-e7f3a219-ec65-4f42-a3d9-6e4e74efc766",
    "deepnote_cell_type": "text-cell-p"
   }
  },
  {
   "cell_type": "code",
   "metadata": {
    "deepnote_variable_name": "input_r",
    "deepnote_variable_value": "8",
    "cell_id": "00012-2a76885f-7623-431d-b013-07f3cd6422fa",
    "deepnote_to_be_reexecuted": false,
    "source_hash": "c515d329",
    "execution_start": 1638436882777,
    "execution_millis": 141588,
    "deepnote_cell_type": "input-text"
   },
   "source": "input_r = '8'",
   "execution_count": null,
   "outputs": []
  },
  {
   "cell_type": "code",
   "metadata": {
    "tags": [],
    "cell_id": "00014-107ad2c9-9eee-4260-bbc4-5213e354e2b8",
    "deepnote_to_be_reexecuted": false,
    "source_hash": "ff77eeb3",
    "execution_start": 1638436882825,
    "execution_millis": 48,
    "deepnote_cell_type": "code"
   },
   "source": "# Stats ed opzioni del primo task\ntask1_stats = {\n    # Task 1\n    # Gaussian stats\n    \"mu\": 0,        # mean = 0.0\n    \"sigma\": 0.25,  # standard deviation = 0.25\n    \"min\": -1,      # normalizzazione lower bound = -1\n    \"max\": +1,      # normalizzazione upper bound = +1\n    \"r\": 3,         # Number of cuts from 0 -> 1 and 0 -> -1\n    # Window stats (association row data -> words)\n    \"w_size\": 5,    # Window size \n    \"w_shift\": 3    # Window shift\n}\n\n# Salvo la scelta di R divisioni\ntask1_stats[\"r\"] = int(input_r)\ninterval_utils_stats[\"mu\"] = task1_stats[\"mu\"]\ninterval_utils_stats[\"sigma\"] = task1_stats[\"sigma\"]\n\n# Rigenero i vari file path (per words e vectors)\nif os.path.exists(data_path_wrd):\n    shutil.rmtree(data_path_wrd)\nos.makedirs(data_path_wrd)\nif os.path.exists(data_path_vectors):\n    shutil.rmtree(data_path_vectors)\nos.makedirs(data_path_vectors)",
   "execution_count": null,
   "outputs": []
  },
  {
   "cell_type": "code",
   "metadata": {
    "tags": [],
    "cell_id": "00006-d3e2ca7b-1a15-45bd-8590-119b4118eced",
    "deepnote_to_be_reexecuted": false,
    "source_hash": "f48f663f",
    "execution_start": 1638436882873,
    "execution_millis": 10762,
    "deepnote_output_heights": [
     462.79998779296875
    ],
    "deepnote_cell_type": "code"
   },
   "source": "# Lista dei file di gesti\ngesture_files = sorted(filter(os.path.isfile, glob.glob(data_path_csv + \"*.csv\")))\nn_gesture_files = len(gesture_files)\n\n# Mi calcolo i simboli dell'alfabeto\nalfabeto = generate_alphabet(gesture_files, task1_stats)\n\n# Per ogni documento lo normalizzo e ci associo parole a parti di ogni sequenza monovariata (per ogni sequenza monovariata)\nfor idx, gesture_file in enumerate(gesture_files):\n    # Per barra di completamento operazione\n    drawProgressBar((idx + 1) / n_gesture_files)\n    ##\n    gesture_2_words(gesture_file, data_path_wrd, alfabeto, task1_stats)",
   "execution_count": null,
   "outputs": [
    {
     "name": "stdout",
     "text": "[====================] 100%",
     "output_type": "stream"
    }
   ]
  },
  {
   "cell_type": "code",
   "metadata": {
    "tags": [],
    "cell_id": "00017-968cf613-e26a-4cd8-9712-d8e4dc3a014e",
    "deepnote_to_be_reexecuted": false,
    "source_hash": "4ceebfe7",
    "execution_start": 1638436893678,
    "execution_millis": 2,
    "deepnote_cell_type": "code"
   },
   "source": "# Print dell'alfabeto\nprint(\"I simboli dell'alfabeto:\", sorted(alfabeto.simboli))\n#print(\"L'alfabeto:\", sorted(alfabeto.parole))\nprint(\"L'alfabeto è composto da\", alfabeto.n_simboli, \"simboli\") # dovrebbe essere uguale a 2* R (R inserito prima da input)\nprint(\"L'alfabeto è composto da\", alfabeto.n_parole, \"parole\")",
   "execution_count": null,
   "outputs": [
    {
     "name": "stdout",
     "text": "I simboli dell'alfabeto: ['-0.19148', '-0.53284', '-0.77459', '-0.9105', '-0.9711', '-0.9925', '-0.99848', '-0.99979', '0.19148', '0.53284', '0.77459', '0.9105', '0.9711', '0.9925', '0.99848', '0.99979']\nL'alfabeto è composto da 16 simboli\nL'alfabeto è composto da 342 parole\n",
     "output_type": "stream"
    }
   ]
  },
  {
   "cell_type": "markdown",
   "source": "## Task 2 (Rappresentazione Documenti)",
   "metadata": {
    "tags": [],
    "is_collapsed": false,
    "cell_id": "00017-458c22d1-d74b-4b83-bd4b-c5cffac7650a",
    "deepnote_cell_type": "text-cell-h2"
   }
  },
  {
   "cell_type": "markdown",
   "source": "- Preprocessing su tutti i gesti: calcoliamo i valori di idf dei vari gesti\n- Estrazione dei vettori dai file di parole .wrd\n- Salvataggio dei vettori in file X_vectors.txt",
   "metadata": {
    "tags": [],
    "cell_id": "00017-719f7df6-9640-4924-98d4-8f82c570e66e",
    "deepnote_cell_type": "markdown"
   }
  },
  {
   "cell_type": "markdown",
   "source": "### Pre-Processing",
   "metadata": {
    "tags": [],
    "is_collapsed": false,
    "cell_id": "00018-b135bc99-1411-4d14-b39c-ec9dfafb9979",
    "deepnote_cell_type": "text-cell-h3"
   }
  },
  {
   "cell_type": "code",
   "metadata": {
    "tags": [],
    "cell_id": "00021-089bb8ae-8cf3-4ba1-b0ba-73c12a922fe8",
    "deepnote_to_be_reexecuted": false,
    "source_hash": "8ce1d572",
    "execution_start": 1638436893679,
    "execution_millis": 425,
    "deepnote_cell_type": "code"
   },
   "source": "# Prendo tutti i documenti di gestures\ndocuments = sorted(filter(os.path.isfile, glob.glob(data_path_wrd + \"*.wrd\")))\n\n# Faccio fare il task di preprocessing x prendere informazioni varie (torna utile x calcolare i valori dopo)\npreprocess_units = preprocessing_task2(documents, alfabeto)",
   "execution_count": null,
   "outputs": []
  },
  {
   "cell_type": "code",
   "metadata": {
    "tags": [],
    "cell_id": "00021-4ba31e8e-e6db-40bf-bfa7-314db2f2a617",
    "deepnote_to_be_reexecuted": false,
    "source_hash": "715ec45d",
    "execution_start": 1638436894112,
    "execution_millis": 3,
    "deepnote_cell_type": "code"
   },
   "source": "#show_preprocessing_unit(preprocess_units[16])",
   "execution_count": null,
   "outputs": []
  },
  {
   "cell_type": "markdown",
   "source": "### Execution",
   "metadata": {
    "tags": [],
    "is_collapsed": false,
    "cell_id": "00021-0d1ef5d0-6dff-4c3c-ab61-c0278a96d25f",
    "deepnote_cell_type": "text-cell-h3"
   }
  },
  {
   "cell_type": "code",
   "metadata": {
    "tags": [],
    "cell_id": "00021-5291017b-994e-4d9b-9f9d-5556627974c6",
    "deepnote_to_be_reexecuted": false,
    "source_hash": "fc9c8ee7",
    "execution_start": 1638436894158,
    "execution_millis": 4294,
    "deepnote_cell_type": "code"
   },
   "source": "gesture_vectorized_data = []\n# Mi calcolo informazioni sui documenti\nfor word_file in documents:\n    for preprocess_unit in preprocess_units:\n        if preprocess_unit.document == word_file:\n            vectorized_data = words_2_vector(word_file, preprocess_unit, data_path_vectors, alfabeto)\n            gesture_vectorized_data.insert(0, vectorized_data)\n            break",
   "execution_count": null,
   "outputs": []
  },
  {
   "cell_type": "code",
   "metadata": {
    "tags": [],
    "cell_id": "00025-12f9bac5-cd17-451d-9c5f-460f4fc349c5",
    "deepnote_to_be_reexecuted": false,
    "source_hash": "f76ea26e",
    "execution_start": 1638436898459,
    "execution_millis": 4,
    "deepnote_cell_type": "code"
   },
   "source": "#show_vectorized_data(gesture_vectorized_data[0])",
   "execution_count": null,
   "outputs": []
  },
  {
   "cell_type": "markdown",
   "source": "## Task 3 (Visualizzazione Risultati)",
   "metadata": {
    "tags": [],
    "is_collapsed": false,
    "cell_id": "00026-8610cd36-ad27-4547-9740-3ea6ef97128c",
    "deepnote_cell_type": "text-cell-h2"
   }
  },
  {
   "cell_type": "markdown",
   "source": "- Selezione della metrica da utilizzare nella heatmap\n- Selezione di uno o due vettori di cui mostrare la heatmap\n- Selezione della colormap per la heatmap + visualizzazione",
   "metadata": {
    "tags": [],
    "cell_id": "00026-fe12bc8c-ae57-44b7-b603-73adaccd7b54",
    "deepnote_cell_type": "markdown"
   }
  },
  {
   "cell_type": "code",
   "metadata": {
    "deepnote_variable_name": "input_metrics_type",
    "deepnote_variable_value": "Value TF-IDF",
    "deepnote_variable_options": [
     "Value TF",
     "Value TF-IDF",
     "Value TF-IDF2"
    ],
    "deepnote_variable_custom_options": [
     "Value TF",
     "Value TF-IDF",
     "Value TF-IDF2"
    ],
    "deepnote_variable_selected_variable": "",
    "deepnote_variable_select_type": "from-options",
    "cell_id": "00026-08967f5a-74be-441a-9300-3cc20eded35b",
    "deepnote_to_be_reexecuted": false,
    "source_hash": "7164c95a",
    "execution_start": 1638436898469,
    "execution_millis": 5,
    "deepnote_cell_type": "input-select"
   },
   "source": "input_metrics_type = 'Value TF-IDF'",
   "execution_count": null,
   "outputs": []
  },
  {
   "cell_type": "code",
   "metadata": {
    "deepnote_variable_name": "input_file_gestures1",
    "deepnote_variable_value": "../Dati_1/vectors/7_vectors.txt",
    "cell_id": "00027-427df37f-6834-475c-b2ca-3692cdb7f926",
    "deepnote_to_be_reexecuted": false,
    "source_hash": "d4e88157",
    "execution_start": 1638436898484,
    "execution_millis": 141926,
    "deepnote_cell_type": "input-text"
   },
   "source": "input_file_gestures1 = '../Dati_1/vectors/7_vectors.txt'",
   "execution_count": null,
   "outputs": []
  },
  {
   "cell_type": "code",
   "metadata": {
    "deepnote_variable_name": "input_file_gestures2",
    "deepnote_variable_value": "../Dati_1/vectors/8_vectors.txt",
    "cell_id": "00029-a4748b44-f8da-4975-bc0a-b8169b659aca",
    "deepnote_to_be_reexecuted": false,
    "source_hash": "5d138b25",
    "execution_start": 1638436898538,
    "execution_millis": 141884,
    "deepnote_cell_type": "input-text"
   },
   "source": "input_file_gestures2 = '../Dati_1/vectors/8_vectors.txt'",
   "execution_count": null,
   "outputs": []
  },
  {
   "cell_type": "code",
   "metadata": {
    "deepnote_variable_name": "input_heatmap_visualizationtype",
    "deepnote_variable_value": "Show Both Files",
    "deepnote_variable_options": [
     "Show First File",
     "Show Both Files",
     "Show Differences"
    ],
    "deepnote_variable_custom_options": [
     "Show First File",
     "Show Both Files",
     "Show Differences"
    ],
    "deepnote_variable_selected_variable": "",
    "deepnote_variable_select_type": "from-options",
    "cell_id": "00031-cb45fad4-18fe-4f41-8c46-645ea0b9d863",
    "deepnote_to_be_reexecuted": false,
    "source_hash": "b4caa695",
    "execution_start": 1638436898538,
    "execution_millis": 141887,
    "deepnote_cell_type": "input-select"
   },
   "source": "input_heatmap_visualizationtype = 'Show Both Files'",
   "execution_count": null,
   "outputs": []
  },
  {
   "cell_type": "code",
   "metadata": {
    "tags": [],
    "cell_id": "00026-411aeb81-9d20-4c33-ab27-19a0775b0d33",
    "deepnote_to_be_reexecuted": false,
    "source_hash": "9ecdf66d",
    "execution_start": 1638436898539,
    "execution_millis": 235,
    "deepnote_cell_type": "code"
   },
   "source": "metrics_data1 = metrics_2_numpy(vectorpath_2_metrics(input_file_gestures1, input_metrics_type))\nheatmap_max_value = metrics_data1.max()\nheatmap_min_value = metrics_data1.min()\n\nif input_heatmap_visualizationtype != 'Show First File': # Se è diverso dal primo, ci sono 2 file da leggere\n    metrics_data2 = metrics_2_numpy(vectorpath_2_metrics(input_file_gestures2, input_metrics_type))\n\n    if input_heatmap_visualizationtype == 'Show Both Files': # Se ho scelto di mostrare entrambi i file\n        # Aggiorno anche i valori max e min con i dati del secondo file appena letto\n        if heatmap_max_value < metrics_data2.max():\n            heatmap_max_value = metrics_data2.max()\n        if heatmap_min_value > metrics_data2.min():\n            heatmap_min_value = metrics_data2.min()\n    \n    if input_heatmap_visualizationtype == 'Show Differences': # Se però ho scelto di mostrare le differenze\n        # Aggiorno i valori solo con le differenze fra i 2 files\n        metrics_data3 = metrics_data1 - metrics_data2\n        heatmap_max_value = metrics_data3.max()\n        heatmap_min_value = metrics_data3.min()\n\nprint(\"Min Y Value:\", heatmap_min_value)\nprint(\"Max Y Value:\", heatmap_max_value)",
   "execution_count": null,
   "outputs": [
    {
     "name": "stdout",
     "text": "Min Y Value: 0.0\nMax Y Value: 0.0496\n",
     "output_type": "stream"
    }
   ]
  },
  {
   "cell_type": "code",
   "metadata": {
    "deepnote_variable_name": "cmap_input",
    "deepnote_variable_value": "Spectral",
    "deepnote_variable_options": [
     "Spectral",
     "ocean_r",
     "bone_r",
     "Greys",
     "Greys_r"
    ],
    "deepnote_variable_custom_options": [
     "Spectral",
     "ocean_r",
     "bone_r",
     "Greys",
     "Greys_r"
    ],
    "deepnote_variable_selected_variable": "",
    "deepnote_variable_select_type": "from-options",
    "cell_id": "00030-721aedd3-f7d0-4cc3-a530-caa20bb28d78",
    "deepnote_to_be_reexecuted": false,
    "source_hash": "6d8fdb7c",
    "execution_start": 1638436898583,
    "execution_millis": 0,
    "deepnote_cell_type": "input-select"
   },
   "source": "cmap_input = 'Spectral'",
   "execution_count": null,
   "outputs": []
  },
  {
   "cell_type": "code",
   "metadata": {
    "tags": [],
    "cell_id": "00028-dac558de-b403-45ae-9d78-2596f0d8bca8",
    "deepnote_to_be_reexecuted": false,
    "source_hash": "fca495cd",
    "execution_start": 1638436898583,
    "execution_millis": 1022,
    "deepnote_output_heights": [
     null,
     231.88333129882812
    ],
    "deepnote_cell_type": "code"
   },
   "source": "print(\"Selected metric:\", input_metrics_type)\n\nif input_heatmap_visualizationtype == 'Show First File':\n    fig, axes = plt.subplots(1, 1, figsize=(24,6))\n    show_heatmap(metrics_data1, input_file_gestures1, fig, axes, y_min_val=heatmap_min_value, y_max_val=heatmap_max_value, color_map=cmap_input)\nelif input_heatmap_visualizationtype == 'Show Both Files':\n    fig, axes = plt.subplots(2, 1, figsize=(24,10))\n    show_heatmap(metrics_data1, input_file_gestures1, fig, axes[0], y_min_val=heatmap_min_value, y_max_val=heatmap_max_value, color_map=cmap_input)\n    show_heatmap(metrics_data2, input_file_gestures2, fig, axes[1], y_min_val=heatmap_min_value, y_max_val=heatmap_max_value, color_map=cmap_input)\nelse:\n    fig, axes = plt.subplots(1, 1, figsize=(24,6))\n    show_heatmap(metrics_data3, input_file_gestures1, fig, axes, y_min_val=heatmap_min_value, y_max_val=heatmap_max_value, color_map=cmap_input)",
   "execution_count": null,
   "outputs": [
    {
     "name": "stdout",
     "text": "Selected metric: Value TF-IDF\n",
     "output_type": "stream"
    },
    {
     "data": {
      "text/plain": "<Figure size 1728x720 with 4 Axes>",
      "image/png": "[encoded data removed]"
     },
     "metadata": {
      "needs_background": "light",
      "image/png": {
       "width": 1227,
       "height": 604
      }
     },
     "output_type": "display_data"
    }
   ]
  },
  {
   "cell_type": "markdown",
   "source": "## Task 4 (Query)",
   "metadata": {
    "tags": [],
    "is_collapsed": false,
    "cell_id": "00033-06c4d0c7-b49c-4cc0-82e2-d2af2196f731",
    "deepnote_cell_type": "text-cell-h2"
   }
  },
  {
   "cell_type": "markdown",
   "source": "- Selezione misura di confronto\n- Selezione file da confrontare con il database\n- Selezione quanti elementi mostrare in output (K)\n- Calcoliamo usando la similarità coseno (1 - distanza coseno) la similarità fra gesto scelto e gesti nel database e ritorniamo i K più simili",
   "metadata": {
    "tags": [],
    "cell_id": "00034-26648faa-ec0f-4183-acd7-137894f1d028",
    "deepnote_cell_type": "markdown"
   }
  },
  {
   "cell_type": "code",
   "metadata": {
    "deepnote_variable_name": "input_task4_metrics_type",
    "deepnote_variable_value": "Value TF-IDF",
    "deepnote_variable_options": [
     "Value TF",
     "Value TF-IDF",
     "Value TF-IDF2"
    ],
    "deepnote_variable_custom_options": [
     "Value TF",
     "Value TF-IDF",
     "Value TF-IDF2"
    ],
    "deepnote_variable_selected_variable": "",
    "deepnote_variable_select_type": "from-options",
    "cell_id": "00035-0acbb34c-8673-40f7-b1b7-c6aeff5072a0",
    "deepnote_to_be_reexecuted": false,
    "source_hash": "b3008eb4",
    "execution_start": 1638436899654,
    "execution_millis": 0,
    "deepnote_cell_type": "input-select"
   },
   "source": "input_task4_metrics_type = 'Value TF-IDF'",
   "execution_count": null,
   "outputs": []
  },
  {
   "cell_type": "code",
   "metadata": {
    "deepnote_variable_name": "input_task4_vector_file_path",
    "deepnote_variable_value": "../Dati_1/vectors/7_vectors.txt",
    "cell_id": "00036-b9204dc9-d0a2-4ec0-951b-45f38ad83e0d",
    "deepnote_to_be_reexecuted": false,
    "source_hash": "34352c02",
    "execution_start": 1638436899655,
    "execution_millis": 141979,
    "deepnote_cell_type": "input-text"
   },
   "source": "input_task4_vector_file_path = '../Dati_1/vectors/7_vectors.txt'",
   "execution_count": null,
   "outputs": []
  },
  {
   "cell_type": "code",
   "metadata": {
    "deepnote_variable_name": "input_task4_K",
    "deepnote_variable_value": "10",
    "cell_id": "00037-4a7b19db-35dc-4b83-b38c-5eb7cd420e8a",
    "deepnote_to_be_reexecuted": false,
    "source_hash": "144f1800",
    "execution_start": 1638436899656,
    "execution_millis": 141978,
    "deepnote_cell_type": "input-text"
   },
   "source": "input_task4_K = '10'",
   "execution_count": null,
   "outputs": []
  },
  {
   "cell_type": "code",
   "metadata": {
    "tags": [],
    "cell_id": "00039-a0b8ea4f-4128-46f5-a1d2-f65785350f5e",
    "deepnote_to_be_reexecuted": false,
    "source_hash": "16da6c14",
    "execution_start": 1638436899656,
    "execution_millis": 1296,
    "deepnote_cell_type": "code"
   },
   "source": "# Genero il mio dataset\ndatabase = MyDatabase(data_path_vectors, sorted(filter(os.path.isfile, glob.glob(data_path_vectors + \"*.txt\"))), input_task4_metrics_type)",
   "execution_count": null,
   "outputs": []
  },
  {
   "cell_type": "code",
   "metadata": {
    "tags": [],
    "cell_id": "00037-1da732ac-9aed-4687-9780-5638256e7eb6",
    "deepnote_to_be_reexecuted": false,
    "source_hash": "50570ed5",
    "execution_start": 1638436900959,
    "execution_millis": 43,
    "deepnote_cell_type": "code"
   },
   "source": "# todo da leggere i dati\nquery_data_metrics = vectorpath_2_metrics(input_task4_vector_file_path, input_task4_metrics_type)\nquery_data_numpy = metrics_2_numpy(query_data_metrics)",
   "execution_count": null,
   "outputs": []
  },
  {
   "cell_type": "code",
   "metadata": {
    "tags": [],
    "cell_id": "00038-ca434769-1430-427c-97aa-0b4ec63713a2",
    "deepnote_to_be_reexecuted": false,
    "source_hash": "827789ce",
    "execution_start": 1638436901002,
    "execution_millis": 112,
    "deepnote_cell_type": "code"
   },
   "source": "top_k = find_k_most_similar(query_data_numpy, database, int(input_task4_K))\nprint(\"I gesti più simili a:\", input_task4_vector_file_path, \"sono:\")\nfor top in top_k:\n    print(top)",
   "execution_count": null,
   "outputs": [
    {
     "name": "stdout",
     "text": "I gesti più simili a: ../Dati_1/vectors/7_vectors.txt sono:\n('../Dati_1/vectors/7_vectors.txt', 1.0000000000000002)\n('../Dati_1/vectors/41_vectors.txt', 0.9755976168345926)\n('../Dati_1/vectors/5_vectors.txt', 0.9748138394808682)\n('../Dati_1/vectors/18_vectors.txt', 0.9730540151892676)\n('../Dati_1/vectors/43_vectors.txt', 0.9715620996801538)\n('../Dati_1/vectors/13_vectors.txt', 0.9713747146640239)\n('../Dati_1/vectors/25_vectors.txt', 0.9700485062236457)\n('../Dati_1/vectors/1_vectors.txt', 0.9694803352281705)\n('../Dati_1/vectors/12_vectors.txt', 0.9676157409172528)\n('../Dati_1/vectors/8_vectors.txt', 0.9671119060863572)\n",
     "output_type": "stream"
    }
   ]
  },
  {
   "cell_type": "markdown",
   "source": "<a style='text-decoration:none;line-height:16px;display:flex;color:#5B5B62;padding:10px;justify-content:end;' href='https://deepnote.com?utm_source=created-in-deepnote-cell&projectId=81dda25b-3b1c-4959-acc8-4a8b980be717' target=\"_blank\">\n<img alt='Created in deepnote.com' style='display:inline;max-height:16px;margin:0px;margin-right:7.5px;' src='data:image/svg+xml;base64,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' > </img>\nCreated in <span style='font-weight:600;margin-left:4px;'>Deepnote</span></a>",
   "metadata": {
    "tags": [],
    "created_in_deepnote_cell": true,
    "deepnote_cell_type": "markdown"
   }
  }
 ],
 "nbformat": 4,
 "nbformat_minor": 2,
 "metadata": {
  "orig_nbformat": 2,
  "deepnote": {
   "is_reactive": false
  },
  "deepnote_notebook_id": "ed5a3e02-4e4c-4549-bcad-f5c888131a41",
  "deepnote_execution_queue": []
 }
}